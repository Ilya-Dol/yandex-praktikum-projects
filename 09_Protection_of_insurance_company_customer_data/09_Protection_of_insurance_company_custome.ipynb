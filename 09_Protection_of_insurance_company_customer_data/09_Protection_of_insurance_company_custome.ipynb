{
 "cells": [
  {
   "cell_type": "markdown",
   "metadata": {},
   "source": [
    "<h1> Комментарий ревьюера </h1>\n",
    "\n",
    "Привет, Илья!\n",
    "Меня зовут Виктория Ильина, и я буду проверять твой проект. Предлагаю общаться на \"ты\", но если тебе будет не комфортно, обязательно сообщи и мы перейдем на \"вы\". \n",
    "\n",
    "Моя основная цель - не указать на совершённые тобой ошибки, а поделиться своим опытом и помочь тебе стать специалистом по Data Science. Ты уже проделал большую работу над проектом, но давай сделаем его ещё лучше. Ниже ты найдёшь мои комментарии - пожалуйста, не перемещай, не изменяй и не удаляй их. Я буду использовать различные цвета, чтобы было легче воспринимать мои комментарии:\n",
    "\n",
    "<div class=\"alert alert-block alert-danger\">\n",
    "<b>Комментарий ревьюера❌:</b> Так выделены самые важные замечания. Без их отработки проект не будет принят.\n",
    "</div>\n",
    "\n",
    "<div class=\"alert alert-block alert-warning\">\n",
    "<b>Комментарий ревьюера🤔:</b> Так выделены небольшие замечания. Одно-два таких замечания в проекте допустимы, но если их будет больше - тебе будет необходимо внести исправления. Однако, если перед нами стоит цель не просто сдать проект и забыть, а приобрести новые знания и успешно применять их в будущем, я бы всё-таки рекомендовала тебе прорабатывать эти недочёты.\n",
    "</div>\n",
    "    \n",
    "<div class=\"alert alert-block alert-success\">\n",
    "<b>Комментарий ревьюера👍:</b> Так я выделю все остальные комментарии.\n",
    "</div>\n",
    "    \n",
    "Давай работать над проектом в диалоге: если ты что-то меняешь в проекте или отвечаешь на мои комментарии - пиши об этом. Мне будет легче отследить изменения, если ты выделишь свои комментарии:\n",
    "\n",
    "<div class=\"alert alert-block alert-info\">\n",
    "<b>Комментарий студента:</b> Например, вот так.\n",
    "</div>\n",
    "\n",
    "Давай посмотрим, что получилось!"
   ]
  },
  {
   "cell_type": "markdown",
   "metadata": {},
   "source": [
    "<a id='step1'></a>"
   ]
  },
  {
   "cell_type": "markdown",
   "metadata": {},
   "source": [
    "# Защита персональных данных клиентов"
   ]
  },
  {
   "cell_type": "markdown",
   "metadata": {
    "toc": true
   },
   "source": [
    "<h1>Содержание<span class=\"tocSkip\"></span></h1>\n",
    "<div class=\"toc\"><ul class=\"toc-item\"><li><span><a href=\"#Загрузка-данных\" data-toc-modified-id=\"Загрузка-данных-1\"><span class=\"toc-item-num\">1&nbsp;&nbsp;</span>Загрузка данных</a></span></li><li><span><a href=\"#Умножение-матриц\" data-toc-modified-id=\"Умножение-матриц-2\"><span class=\"toc-item-num\">2&nbsp;&nbsp;</span>Умножение матриц</a></span></li><li><span><a href=\"#Алгоритм-преобразования\" data-toc-modified-id=\"Алгоритм-преобразования-3\"><span class=\"toc-item-num\">3&nbsp;&nbsp;</span>Алгоритм преобразования</a></span></li><li><span><a href=\"#Проверка-алгоритма\" data-toc-modified-id=\"Проверка-алгоритма-4\"><span class=\"toc-item-num\">4&nbsp;&nbsp;</span>Проверка алгоритма</a></span></li><li><span><a href=\"#Общий-вывод\" data-toc-modified-id=\"Общий-вывод-5\"><span class=\"toc-item-num\">5&nbsp;&nbsp;</span>Общий вывод</a></span></li><li><span><a href=\"#Чек-лист-проверки\" data-toc-modified-id=\"Чек-лист-проверки-6\"><span class=\"toc-item-num\">6&nbsp;&nbsp;</span>Чек-лист проверки</a></span></li></ul></div>"
   ]
  },
  {
   "cell_type": "markdown",
   "metadata": {},
   "source": [
    "<div style=\"border:solid green 2px; padding: 20px\">\n",
    "    \n",
    "### Основная цель:<a class=\"tocSkip\">        \n",
    "\n",
    "    \n",
    "  Необходимо  __защитить данные__ клиентов страховой компании __«Хоть потоп»__. __Разработать__ такой метод __преобразования данных__, чтобы по ним было __сложно восстановить__ персональную __информацию__. Обосновать корректность его работы.\n",
    "Нужно __защитить данные__, чтобы при __преобразовании__ качество моделей машинного обучения __не ухудшилось__.\n",
    "__Подбирать__ наилучшую модель __не требуется__.  \n",
    "    \n",
    "    \n",
    " \n",
    "### Задачи  проекта:<a class=\"tocSkip\">\n",
    "\n",
    "- 1 __Подготовить данные__<br>\n",
    "    \n",
    "- 2 __Ответить  на вопрос и обосновать решение__<br>\n",
    "  2.1. Признаки умножают на обратимую матрицу. Изменится ли качество линейной регрессии? (Её можно обучить заново.) <br>\n",
    "   - __a__. __Изменится.__ Приведите примеры матриц.\n",
    "   - __b__. __Не изменится.__ Укажите, как связаны параметры линейной регрессии в исходной задаче и в преобразованной.\n",
    "    \n",
    "- 3 __Предложить алгоритм__ преобразования данных для __решения задачи__. __Обосновать__, почему качество линейной регрессии __не поменяется__.\n",
    "    \n",
    "- 4 Запрограммировать этот алгоритм, применив __матричные__ операции. __Проверить__, что качество __линейной регрессии__ из sklearn не __отличается__ до и после __преобразования__. Примените метрику __R2__. \n",
    "\n",
    "</div>"
   ]
  },
  {
   "cell_type": "markdown",
   "metadata": {},
   "source": [
    "<div style=\"border:solid green 2px; padding: 20px\">\n",
    "    \n",
    "  \n",
    "\n",
    "\n",
    "   \n",
    "### Набор данных находится в файле:<a class=\"tocSkip\">\n",
    "- `datasets/insurance.csv` — исходный датасет.\n",
    "\n",
    "   \n",
    "    \n",
    "### Описание данных <a class=\"tocSkip\"> \n",
    " \n",
    "- __Признаки:__ пол, возраст и зарплата застрахованного, количество членов его семьи.\n",
    "- __Целевой признак:__ количество страховых выплат клиенту за последние 5 лет.  \n",
    "\n",
    "\n",
    "</div>"
   ]
  },
  {
   "cell_type": "code",
   "execution_count": 1,
   "metadata": {},
   "outputs": [],
   "source": [
    "import pandas as pd \n",
    "import numpy as np\n",
    "from IPython.display import display\n",
    "\n",
    "from sklearn.linear_model import LinearRegression #Импортирую модель LinearRegression из библиотеки sklearn\n",
    "from sklearn.metrics import r2_score #Импортирую метрику r2_score из библиотеки sklearn\n",
    "from sklearn.model_selection import train_test_split #Импортирую функцию train_test_split из библиотеки sklearn\n",
    "\n",
    "%matplotlib inline\n",
    "\n",
    "import seaborn as sn # подключение графической библиотеки seaborn\n",
    "import matplotlib.pyplot as plt #импортируем библиотеку для графиков matplotlib \n",
    "\n",
    "\n",
    "import warnings\n",
    "warnings.simplefilter('ignore')# отменяет вывод таблицы предупреждения ошибки"
   ]
  },
  {
   "cell_type": "markdown",
   "metadata": {},
   "source": [
    "## Загрузка данных\n",
    "[&#10224;](#step1)"
   ]
  },
  {
   "cell_type": "code",
   "execution_count": 2,
   "metadata": {},
   "outputs": [],
   "source": [
    "pd.set_option('display.float_format', '{:,.2f}'.format)# вывод без экспонентациальных форм и лишних запятых.\n",
    "pd.set_option('display.max_columns', None) # вывод всех колонок датасета без урезания.\n",
    "\n",
    "try: #конструкция try-except помогает выбрать работающий путь к исследуемым файлам\n",
    "    df = pd.read_csv('/data_set/insurance.csv')#  /Работа - Локально/\n",
    "   \n",
    "except:\n",
    "    df = pd.read_csv('/datasets/insurance.csv')# /Работа - сервер Яндекс/\n",
    "   "
   ]
  },
  {
   "cell_type": "markdown",
   "metadata": {},
   "source": [
    "<div class=\"alert alert-block alert-success\">\n",
    "<b>Комментарий ревьюера👍:</b> Все библиотеки импортированы и данные загружены, можем двигаться дальше!\n",
    "</div>\n"
   ]
  },
  {
   "cell_type": "markdown",
   "metadata": {},
   "source": [
    "__Общая информация о полученных данных__"
   ]
  },
  {
   "cell_type": "code",
   "execution_count": 3,
   "metadata": {},
   "outputs": [
    {
     "name": "stdout",
     "output_type": "stream",
     "text": [
      "________________________________\n"
     ]
    },
    {
     "data": {
      "text/plain": [
       "'Общая информация по датафрейму:'"
      ]
     },
     "metadata": {},
     "output_type": "display_data"
    },
    {
     "data": {
      "text/html": [
       "<div>\n",
       "<style scoped>\n",
       "    .dataframe tbody tr th:only-of-type {\n",
       "        vertical-align: middle;\n",
       "    }\n",
       "\n",
       "    .dataframe tbody tr th {\n",
       "        vertical-align: top;\n",
       "    }\n",
       "\n",
       "    .dataframe thead th {\n",
       "        text-align: right;\n",
       "    }\n",
       "</style>\n",
       "<table border=\"1\" class=\"dataframe\">\n",
       "  <thead>\n",
       "    <tr style=\"text-align: right;\">\n",
       "      <th></th>\n",
       "      <th>строк</th>\n",
       "      <th>столбцов</th>\n",
       "    </tr>\n",
       "  </thead>\n",
       "  <tbody>\n",
       "    <tr>\n",
       "      <th>0</th>\n",
       "      <td>5000</td>\n",
       "      <td>5</td>\n",
       "    </tr>\n",
       "  </tbody>\n",
       "</table>\n",
       "</div>"
      ],
      "text/plain": [
       "   строк  столбцов\n",
       "0   5000         5"
      ]
     },
     "metadata": {},
     "output_type": "display_data"
    },
    {
     "data": {
      "text/html": [
       "<div>\n",
       "<style scoped>\n",
       "    .dataframe tbody tr th:only-of-type {\n",
       "        vertical-align: middle;\n",
       "    }\n",
       "\n",
       "    .dataframe tbody tr th {\n",
       "        vertical-align: top;\n",
       "    }\n",
       "\n",
       "    .dataframe thead th {\n",
       "        text-align: right;\n",
       "    }\n",
       "</style>\n",
       "<table border=\"1\" class=\"dataframe\">\n",
       "  <thead>\n",
       "    <tr style=\"text-align: right;\">\n",
       "      <th></th>\n",
       "      <th>Пол</th>\n",
       "      <th>Возраст</th>\n",
       "      <th>Зарплата</th>\n",
       "      <th>Члены семьи</th>\n",
       "      <th>Страховые выплаты</th>\n",
       "    </tr>\n",
       "  </thead>\n",
       "  <tbody>\n",
       "    <tr>\n",
       "      <th>0</th>\n",
       "      <td>1</td>\n",
       "      <td>41.00</td>\n",
       "      <td>49,600.00</td>\n",
       "      <td>1</td>\n",
       "      <td>0</td>\n",
       "    </tr>\n",
       "    <tr>\n",
       "      <th>1</th>\n",
       "      <td>0</td>\n",
       "      <td>46.00</td>\n",
       "      <td>38,000.00</td>\n",
       "      <td>1</td>\n",
       "      <td>1</td>\n",
       "    </tr>\n",
       "    <tr>\n",
       "      <th>2</th>\n",
       "      <td>0</td>\n",
       "      <td>29.00</td>\n",
       "      <td>21,000.00</td>\n",
       "      <td>0</td>\n",
       "      <td>0</td>\n",
       "    </tr>\n",
       "  </tbody>\n",
       "</table>\n",
       "</div>"
      ],
      "text/plain": [
       "   Пол  Возраст  Зарплата  Члены семьи  Страховые выплаты\n",
       "0    1    41.00 49,600.00            1                  0\n",
       "1    0    46.00 38,000.00            1                  1\n",
       "2    0    29.00 21,000.00            0                  0"
      ]
     },
     "metadata": {},
     "output_type": "display_data"
    },
    {
     "data": {
      "text/plain": [
       "None"
      ]
     },
     "metadata": {},
     "output_type": "display_data"
    },
    {
     "name": "stdout",
     "output_type": "stream",
     "text": [
      "Типы данных:\n",
      "<class 'pandas.core.frame.DataFrame'>\n",
      "RangeIndex: 5000 entries, 0 to 4999\n",
      "Data columns (total 5 columns):\n",
      " #   Column             Non-Null Count  Dtype  \n",
      "---  ------             --------------  -----  \n",
      " 0   Пол                5000 non-null   int64  \n",
      " 1   Возраст            5000 non-null   float64\n",
      " 2   Зарплата           5000 non-null   float64\n",
      " 3   Члены семьи        5000 non-null   int64  \n",
      " 4   Страховые выплаты  5000 non-null   int64  \n",
      "dtypes: float64(2), int64(3)\n",
      "memory usage: 195.4 KB\n"
     ]
    },
    {
     "data": {
      "text/plain": [
       "None"
      ]
     },
     "metadata": {},
     "output_type": "display_data"
    },
    {
     "data": {
      "text/plain": [
       "None"
      ]
     },
     "metadata": {},
     "output_type": "display_data"
    },
    {
     "data": {
      "text/plain": [
       "'Количество обнаруженных дубликатов:'"
      ]
     },
     "metadata": {},
     "output_type": "display_data"
    },
    {
     "data": {
      "text/plain": [
       "153"
      ]
     },
     "metadata": {},
     "output_type": "display_data"
    },
    {
     "data": {
      "text/plain": [
       "'Пропущенных значений в таблице :'"
      ]
     },
     "metadata": {},
     "output_type": "display_data"
    },
    {
     "data": {
      "text/html": [
       "<div>\n",
       "<style scoped>\n",
       "    .dataframe tbody tr th:only-of-type {\n",
       "        vertical-align: middle;\n",
       "    }\n",
       "\n",
       "    .dataframe tbody tr th {\n",
       "        vertical-align: top;\n",
       "    }\n",
       "\n",
       "    .dataframe thead th {\n",
       "        text-align: right;\n",
       "    }\n",
       "</style>\n",
       "<table border=\"1\" class=\"dataframe\">\n",
       "  <thead>\n",
       "    <tr style=\"text-align: right;\">\n",
       "      <th></th>\n",
       "      <th>index</th>\n",
       "      <th>missing_values</th>\n",
       "      <th>% of total</th>\n",
       "    </tr>\n",
       "  </thead>\n",
       "  <tbody>\n",
       "    <tr>\n",
       "      <th>0</th>\n",
       "      <td>Пол</td>\n",
       "      <td>0</td>\n",
       "      <td>0.00</td>\n",
       "    </tr>\n",
       "    <tr>\n",
       "      <th>1</th>\n",
       "      <td>Возраст</td>\n",
       "      <td>0</td>\n",
       "      <td>0.00</td>\n",
       "    </tr>\n",
       "    <tr>\n",
       "      <th>2</th>\n",
       "      <td>Зарплата</td>\n",
       "      <td>0</td>\n",
       "      <td>0.00</td>\n",
       "    </tr>\n",
       "    <tr>\n",
       "      <th>3</th>\n",
       "      <td>Члены семьи</td>\n",
       "      <td>0</td>\n",
       "      <td>0.00</td>\n",
       "    </tr>\n",
       "    <tr>\n",
       "      <th>4</th>\n",
       "      <td>Страховые выплаты</td>\n",
       "      <td>0</td>\n",
       "      <td>0.00</td>\n",
       "    </tr>\n",
       "  </tbody>\n",
       "</table>\n",
       "</div>"
      ],
      "text/plain": [
       "               index  missing_values  % of total\n",
       "0                Пол               0        0.00\n",
       "1            Возраст               0        0.00\n",
       "2           Зарплата               0        0.00\n",
       "3        Члены семьи               0        0.00\n",
       "4  Страховые выплаты               0        0.00"
      ]
     },
     "metadata": {},
     "output_type": "display_data"
    }
   ],
   "source": [
    "l = [df]# с помощью цикла пройдемся по исследуемому датасету,выведем результаты  проверок.\n",
    "for i in l:\n",
    "    object_featur = i.shape[0:2]\n",
    "    columns = ['строк',  'столбцов'] #Объеденим полученные результаты в таблицу\n",
    "    object_featur = pd.DataFrame([object_featur], columns = columns)\n",
    "    display(\"Общая информация по датафрейму:\",object_featur,i.head(3),print(\"________________________________\"))\n",
    "    display(print(\"Типы данных:\"),i.info())# смотрим на типы даннх\n",
    "    display(\"Количество обнаруженных дубликатов:\",i.duplicated().sum())# проверим полученные таблицы на дубликаты\n",
    "    # код ниже находит и оформляет в таблицу пропущенные значения\n",
    "    report = i.isna().sum().to_frame()\n",
    "    report = report.rename(columns = {0: 'missing_values'})\n",
    "    report['% of total'] = (report['missing_values'] / i.shape[0]*100).round(2)\n",
    "    display('Пропущенных значений в таблице :',(report.sort_values(by = 'missing_values', ascending = False).reset_index()))"
   ]
  },
  {
   "cell_type": "markdown",
   "metadata": {},
   "source": [
    "__Удалим 153 обнаруженных дубликата.__"
   ]
  },
  {
   "cell_type": "markdown",
   "metadata": {},
   "source": [
    "__Методом df.drop_duplicates() удаляем дубликаты при помощи .reset_index(drop=True) создаем новую индексацию.__ "
   ]
  },
  {
   "cell_type": "code",
   "execution_count": 4,
   "metadata": {},
   "outputs": [],
   "source": [
    "df = df.drop_duplicates().reset_index(drop=True) "
   ]
  },
  {
   "cell_type": "code",
   "execution_count": 5,
   "metadata": {},
   "outputs": [
    {
     "data": {
      "text/plain": [
       "0"
      ]
     },
     "execution_count": 5,
     "metadata": {},
     "output_type": "execute_result"
    }
   ],
   "source": [
    "df.duplicated().sum()# смотрим результат после применения метода .drop_duplicates()"
   ]
  },
  {
   "cell_type": "markdown",
   "metadata": {},
   "source": [
    "__Сменим формат в столбце  `Возраст`  c float64 на  int64__ "
   ]
  },
  {
   "cell_type": "code",
   "execution_count": 6,
   "metadata": {},
   "outputs": [],
   "source": [
    "df['Возраст'] = df['Возраст'].astype('int64')# методом .astype() для столбца Возраст устан формат int64 "
   ]
  },
  {
   "cell_type": "markdown",
   "metadata": {},
   "source": [
    " <div style=\"border:solid green 2px; padding: 20px\">\n",
    "\n",
    "**Вывод** \n",
    "На данном  этапе, проведена загрузка данных, изучена общая информация.\n",
    "<br>Для __анализа данных__ и __построения моделей__, предоставлен датасет содержащий информацию __о клиентах__ страховой компании __«Хоть потоп»__. Датасет состоит из **5** столбцов (__признаки__)  и **5000** строк(__объектов наблюдения__). Пропуски в данных отсутствуют,но были обнаружены __153__ строки дубликаты (удалены методом __drop_duplicates()__ и заменен формат в столбце __\"Возраст\"__ с вещественного __float__ на целочисленный __int__. Также можно было переименовать названия столбцов, убрав пропуски между слов, и изменив кирилицу на латиницу. Иных преобразований не требуется.\n",
    "\n",
    "\n",
    "**Для обучения модели были выделены следующие признаки:**   \n",
    "<br>**Общие признаки:** пол, возраст и зарплата застрахованного, количество членов его семьи.\n",
    "<br>**Целевой признак:** количество страховых выплат клиенту за последние 5 лет.\n",
    "\n",
    "В полученном для исследования датасете, были  **произведены** необходимые преобразования. Данные готовы для **посторения моделей** машинного обучения  и **проверки утверждения**\n",
    "    , что при __преобразовании__ __-__ качество моделей машинного обучения **не ухудшится**.    \n",
    "    \n",
    "   \n",
    "</div>"
   ]
  },
  {
   "cell_type": "markdown",
   "metadata": {},
   "source": [
    "<div class=\"alert alert-block alert-success\">\n",
    "<b>Комментарий ревьюера👍:</b> Отлично!\n",
    "    \n",
    "Этого не было в требованиях к проекту, просто дополнительно по EDA:\n",
    "    \n",
    "Если использовать функцию describe(), то можно увидеть, что в таблице данных компании соблюден почти идеальный баланс между мужчинами и женщинами. Средний возраст застрахованного составляет около 31 года, при этом медиана составляет 30. Границы возраста застрахованных приводят к выводу, что компания не занимается страхованием лиц, чей возраст составляет менее 18 и старше 65 лет. Также интересно взглянуть на уровень заработной платы застрахованных - медиана составляет чуть более 40 000 рублей. В целом, в компании скорее представлен средний экономический класс, чем слишком бедные или слишком богатые граждане. \n",
    "    \n",
    "Дополнительно можно было бы посмотреть корреляцию. Возраст и количество страховых выплат клиенту за последние 5 лет имеют корреляцию 0.651. Вероятно, для компании есть взаимосвязь: чем старше застрахованное лицо, тем более вероятно он потребует страховку чаще, следовательно, несёт в себе больше рисков для предприятия.\n",
    "</div>\n"
   ]
  },
  {
   "cell_type": "code",
   "execution_count": 7,
   "metadata": {},
   "outputs": [
    {
     "data": {
      "text/html": [
       "<div>\n",
       "<style scoped>\n",
       "    .dataframe tbody tr th:only-of-type {\n",
       "        vertical-align: middle;\n",
       "    }\n",
       "\n",
       "    .dataframe tbody tr th {\n",
       "        vertical-align: top;\n",
       "    }\n",
       "\n",
       "    .dataframe thead th {\n",
       "        text-align: right;\n",
       "    }\n",
       "</style>\n",
       "<table border=\"1\" class=\"dataframe\">\n",
       "  <thead>\n",
       "    <tr style=\"text-align: right;\">\n",
       "      <th></th>\n",
       "      <th>Пол</th>\n",
       "      <th>Возраст</th>\n",
       "      <th>Зарплата</th>\n",
       "      <th>Члены семьи</th>\n",
       "      <th>Страховые выплаты</th>\n",
       "    </tr>\n",
       "  </thead>\n",
       "  <tbody>\n",
       "    <tr>\n",
       "      <th>count</th>\n",
       "      <td>4,847.00</td>\n",
       "      <td>4,847.00</td>\n",
       "      <td>4,847.00</td>\n",
       "      <td>4,847.00</td>\n",
       "      <td>4,847.00</td>\n",
       "    </tr>\n",
       "    <tr>\n",
       "      <th>mean</th>\n",
       "      <td>0.50</td>\n",
       "      <td>31.02</td>\n",
       "      <td>39,895.81</td>\n",
       "      <td>1.20</td>\n",
       "      <td>0.15</td>\n",
       "    </tr>\n",
       "    <tr>\n",
       "      <th>std</th>\n",
       "      <td>0.50</td>\n",
       "      <td>8.49</td>\n",
       "      <td>9,972.95</td>\n",
       "      <td>1.10</td>\n",
       "      <td>0.47</td>\n",
       "    </tr>\n",
       "    <tr>\n",
       "      <th>min</th>\n",
       "      <td>0.00</td>\n",
       "      <td>18.00</td>\n",
       "      <td>5,300.00</td>\n",
       "      <td>0.00</td>\n",
       "      <td>0.00</td>\n",
       "    </tr>\n",
       "    <tr>\n",
       "      <th>25%</th>\n",
       "      <td>0.00</td>\n",
       "      <td>24.00</td>\n",
       "      <td>33,200.00</td>\n",
       "      <td>0.00</td>\n",
       "      <td>0.00</td>\n",
       "    </tr>\n",
       "    <tr>\n",
       "      <th>50%</th>\n",
       "      <td>0.00</td>\n",
       "      <td>30.00</td>\n",
       "      <td>40,200.00</td>\n",
       "      <td>1.00</td>\n",
       "      <td>0.00</td>\n",
       "    </tr>\n",
       "    <tr>\n",
       "      <th>75%</th>\n",
       "      <td>1.00</td>\n",
       "      <td>37.00</td>\n",
       "      <td>46,600.00</td>\n",
       "      <td>2.00</td>\n",
       "      <td>0.00</td>\n",
       "    </tr>\n",
       "    <tr>\n",
       "      <th>max</th>\n",
       "      <td>1.00</td>\n",
       "      <td>65.00</td>\n",
       "      <td>79,000.00</td>\n",
       "      <td>6.00</td>\n",
       "      <td>5.00</td>\n",
       "    </tr>\n",
       "  </tbody>\n",
       "</table>\n",
       "</div>"
      ],
      "text/plain": [
       "           Пол  Возраст  Зарплата  Члены семьи  Страховые выплаты\n",
       "count 4,847.00 4,847.00  4,847.00     4,847.00           4,847.00\n",
       "mean      0.50    31.02 39,895.81         1.20               0.15\n",
       "std       0.50     8.49  9,972.95         1.10               0.47\n",
       "min       0.00    18.00  5,300.00         0.00               0.00\n",
       "25%       0.00    24.00 33,200.00         0.00               0.00\n",
       "50%       0.00    30.00 40,200.00         1.00               0.00\n",
       "75%       1.00    37.00 46,600.00         2.00               0.00\n",
       "max       1.00    65.00 79,000.00         6.00               5.00"
      ]
     },
     "execution_count": 7,
     "metadata": {},
     "output_type": "execute_result"
    }
   ],
   "source": [
    "df.describe()"
   ]
  },
  {
   "cell_type": "code",
   "execution_count": 8,
   "metadata": {},
   "outputs": [
    {
     "data": {
      "image/png": "[encoded data removed]",
      "text/plain": [
       "<Figure size 432x288 with 2 Axes>"
      ]
     },
     "metadata": {
      "needs_background": "light"
     },
     "output_type": "display_data"
    }
   ],
   "source": [
    "corrMatrix = df.corr()\n",
    "sn.heatmap(corrMatrix, annot=True)\n",
    "plt.show()"
   ]
  },
  {
   "cell_type": "markdown",
   "metadata": {},
   "source": [
    "<div class=\"alert alert-block alert-info\">\n",
    "<b>Комментарий студента:</b><br> \n",
    "    Да, всё так. Инструкция по выполнению проекта - сдерживает своей строгостью. Держал себя изо всех рук, чтоб чего лишнего не выдать. Но предыдущие уроки, о том, что данные должны быть  хорошо предобработаны, не смотря ни на что, всегда в приоритете.) \n",
    "</div>"
   ]
  },
  {
   "cell_type": "markdown",
   "metadata": {},
   "source": [
    "<div class=\"alert alert-block alert-success\">\n",
    "<b>Комментарий ревьюера V.2👍:</b> Да, Eda всегда должен быть в любом проекте =)\n",
    "</div>"
   ]
  },
  {
   "cell_type": "markdown",
   "metadata": {},
   "source": [
    "## Умножение матриц\n",
    "[&#10224;](#step1)"
   ]
  },
  {
   "cell_type": "markdown",
   "metadata": {},
   "source": [
    "**Обозначения:**\n",
    "\n",
    "- $X$ — матрица признаков (нулевой столбец состоит из единиц)\n",
    "\n",
    "- $y$ — вектор целевого признака\n",
    "\n",
    "- $P$ — матрица, на которую умножаются признаки\n",
    "\n",
    "- $w$ — вектор весов линейной регрессии (нулевой элемент равен сдвигу)"
   ]
  },
  {
   "cell_type": "markdown",
   "metadata": {},
   "source": [
    "**Обоснование:** "
   ]
  },
  {
   "cell_type": "markdown",
   "metadata": {},
   "source": [
    " <div style=\"border:solid green 2px; padding: 20px\">\n",
    " \n",
    "    \n",
    "    \n",
    "    \n",
    "\n",
    "Известно, что для линейной регрессии верны следующие выражения:\n",
    "\n",
    "Предсказания:\n",
    "\n",
    "$$\n",
    "a = Xw\n",
    "$$\n",
    "\n",
    "Задача обучения:\n",
    "\n",
    "$$\n",
    "w = \\arg\\min_w MSE(Xw, y)\n",
    "$$\n",
    "\n",
    "Формула обучения:\n",
    "\n",
    "$$\n",
    "w = (X^T X)^{-1} X^T y\n",
    "$$\n",
    "\n",
    "Умножим матрицу признаков X на обратимую матрицу P:\n",
    "\n",
    "$$\n",
    "a' = (XP)w'\n",
    "$$\n",
    "\n",
    "\n",
    "$$\n",
    "w' = ((XP)^T XP)^{-1} (XP)^T y\n",
    "$$\n",
    "\n",
    "Одно из войств транспонированных матриц: Транспонированное произведение матриц равно произведению транспонированных матриц, взятых в обратном порядке.\n",
    "\n",
    "$$\n",
    "(AB)^T = B^T A^T \n",
    "$$\n",
    "\n",
    "Одно из войств обратимых квадратных матриц: Матрица обратная произведению обратимых квадратных матриц равна произведению обратных матриц, взятых в обратном порядке.\n",
    "$$\n",
    "(AB)^{-1} = B^{-1} A^{-1} \n",
    "$$\n",
    "\n",
    "Следовательно:\n",
    "\n",
    "$$\n",
    "w' = (P^T X^T XP)^{-1} (XP)^T y\n",
    "$$\n",
    "$$\n",
    "w' = P^{-1} (P^T)^{-1} (X^T X)^{-1} P^T X^T y\n",
    "$$\n",
    "Поскольку:\n",
    "$$\n",
    "(P^T)^{-1} P^T = E \n",
    "$$\n",
    "Получаем:\n",
    "$$\n",
    "w' = P^{-1} (X^T X)^{-1} X^T y\n",
    "$$\n",
    "$$\n",
    "w' = P^{-1} w\n",
    "$$\n",
    "\n",
    "$$\n",
    "a' = (XP)P^{-1} w\n",
    "$$\n",
    "$$\n",
    "a' = Xw = a\n",
    "$$\n",
    "Качество модели не изменится.   \n",
    "    \n",
    "    \n",
    " </div>   "
   ]
  },
  {
   "cell_type": "markdown",
   "metadata": {},
   "source": [
    "\n",
    "    \n",
    "\n",
    "**Ответ:** При умножении признаков на обратимую матрицу. Качество линейной регрессии не изменится.\n",
    "\n",
    "\n",
    "   \n"
   ]
  },
  {
   "cell_type": "markdown",
   "metadata": {},
   "source": [
    "<div class=\"alert alert-block alert-success\">\n",
    "<b>Комментарий ревьюера👍:</b> Абсолютно верно, молодец, что не раскрыл $(X^T X)^{-1}$, так как для неквадратных матриц $X$ и $X^T$ обратных матриц не существует. \n",
    "</div>\n"
   ]
  },
  {
   "cell_type": "markdown",
   "metadata": {},
   "source": [
    "<div class=\"alert alert-block alert-info\">\n",
    "<b>Комментарий студента:</b><br> \n",
    "Да, это есть в теории.     \n",
    "</div>"
   ]
  },
  {
   "cell_type": "markdown",
   "metadata": {},
   "source": [
    "## Алгоритм преобразования\n",
    "[&#10224;](#step1)"
   ]
  },
  {
   "cell_type": "markdown",
   "metadata": {},
   "source": [
    "**Алгоритм**\n",
    "\n",
    "1. Выделим признаки и целевой признак;\n",
    "2. Генерируем квадратную матрицу по количеству признаков, в нашем случае (4, 4);\n",
    "3. Генерируем обратную матрицу, если код не падает, следовательно исходная матрица обратимая;\n",
    "4. Выделяем матрицу из признаков;\n",
    "5. Умножаем матрицу признаков на обратимую матрицу;\n",
    "6. Создаем таблицу из преобразованной матрицы;\n",
    "7. Исходный и преобразованный датасеты, разделяем на обучающую и тестовую выборки;\n",
    "8. Обучаем модель линейной регресии для исходного датасета, вычисляем метрку R2;\n",
    "9. Обучаем модель линейной регресии для преобразованного датасета, вычисляем метрку R2;\n",
    "10. Проверяем равенство метрик R2 для созданных моделей."
   ]
  },
  {
   "cell_type": "markdown",
   "metadata": {},
   "source": [
    "**Обоснование**\n",
    "\n",
    "На этапе **№ 2** вывели, что если **преобразовать** исходный датасет, умножив его на **обратимую квадратную матрицу**, то качество модели, **после преобразования** датасета, **не изменится**. На следующем шаге, **проверим полученное утверждение**, при помощи **создания моделей**  (алгоритм Линейная регрессия) обученные **до преобразования** и __после__. Сравним результаты моделей, __метрику R2__ между собой."
   ]
  },
  {
   "cell_type": "markdown",
   "metadata": {},
   "source": [
    "## Проверка алгоритма\n",
    "[&#10224;](#step1)"
   ]
  },
  {
   "cell_type": "code",
   "execution_count": 9,
   "metadata": {},
   "outputs": [
    {
     "name": "stdout",
     "output_type": "stream",
     "text": [
      "[[-0.00243061 -0.15837773  0.04722398 -0.07632195]\n",
      " [-0.09792515  0.02576016  0.15003787  0.02797398]\n",
      " [ 0.05913157 -0.13391697  0.06459483 -0.13989759]\n",
      " [-0.19919486 -0.00696059  0.1192422   0.11325692]]\n"
     ]
    },
    {
     "data": {
      "text/html": [
       "<div>\n",
       "<style scoped>\n",
       "    .dataframe tbody tr th:only-of-type {\n",
       "        vertical-align: middle;\n",
       "    }\n",
       "\n",
       "    .dataframe tbody tr th {\n",
       "        vertical-align: top;\n",
       "    }\n",
       "\n",
       "    .dataframe thead th {\n",
       "        text-align: right;\n",
       "    }\n",
       "</style>\n",
       "<table border=\"1\" class=\"dataframe\">\n",
       "  <thead>\n",
       "    <tr style=\"text-align: right;\">\n",
       "      <th></th>\n",
       "      <th>Пол</th>\n",
       "      <th>Возраст</th>\n",
       "      <th>Зарплата</th>\n",
       "      <th>Члены семьи</th>\n",
       "    </tr>\n",
       "  </thead>\n",
       "  <tbody>\n",
       "    <tr>\n",
       "      <th>0</th>\n",
       "      <td>1</td>\n",
       "      <td>41</td>\n",
       "      <td>49,600.00</td>\n",
       "      <td>1</td>\n",
       "    </tr>\n",
       "    <tr>\n",
       "      <th>1</th>\n",
       "      <td>0</td>\n",
       "      <td>46</td>\n",
       "      <td>38,000.00</td>\n",
       "      <td>1</td>\n",
       "    </tr>\n",
       "    <tr>\n",
       "      <th>2</th>\n",
       "      <td>0</td>\n",
       "      <td>29</td>\n",
       "      <td>21,000.00</td>\n",
       "      <td>0</td>\n",
       "    </tr>\n",
       "    <tr>\n",
       "      <th>3</th>\n",
       "      <td>0</td>\n",
       "      <td>21</td>\n",
       "      <td>41,700.00</td>\n",
       "      <td>2</td>\n",
       "    </tr>\n",
       "    <tr>\n",
       "      <th>4</th>\n",
       "      <td>1</td>\n",
       "      <td>28</td>\n",
       "      <td>26,100.00</td>\n",
       "      <td>0</td>\n",
       "    </tr>\n",
       "  </tbody>\n",
       "</table>\n",
       "</div>"
      ],
      "text/plain": [
       "   Пол  Возраст  Зарплата  Члены семьи\n",
       "0    1       41 49,600.00            1\n",
       "1    0       46 38,000.00            1\n",
       "2    0       29 21,000.00            0\n",
       "3    0       21 41,700.00            2\n",
       "4    1       28 26,100.00            0"
      ]
     },
     "metadata": {},
     "output_type": "display_data"
    },
    {
     "data": {
      "text/plain": [
       "0    0\n",
       "1    1\n",
       "2    0\n",
       "3    0\n",
       "4    0\n",
       "Name: Страховые выплаты, dtype: int64"
      ]
     },
     "metadata": {},
     "output_type": "display_data"
    }
   ],
   "source": [
    "features = df.drop('Страховые выплаты', axis=1) # Выделим общие признаки\n",
    "target = df['Страховые выплаты'] # Выделим  целевой признак\n",
    "\n",
    "# Сгенерируем квадратную матрицу размером по количеству признаков\n",
    "quadratic_matrix = np.random.normal(0, 0.1, size=(features.shape[1], features.shape[1]))\n",
    "print(quadratic_matrix) # Печатаем квадратную матрицу  \n",
    "\n",
    "# Сгенерируем обратную матрицу. Исходную матрицу, можно считать обратимой, если не падает код(выполняется преобразование). \n",
    "inverse_matrix = np.linalg.inv(quadratic_matrix) \n",
    "display(features.head()) # Посмотрим на  признаки\n",
    "display(target.head()) # Печать целевой признак"
   ]
  },
  {
   "cell_type": "code",
   "execution_count": 10,
   "metadata": {},
   "outputs": [
    {
     "name": "stdout",
     "output_type": "stream",
     "text": [
      "(4847, 4)\n"
     ]
    }
   ],
   "source": [
    "feature_matrix = features.values #Выделим матрицу из признаков\n",
    "\n",
    "\n",
    "matrix = feature_matrix.dot(quadratic_matrix) #Умножим  матрицу признаков на обратимую матрицу\n",
    "\n",
    "print(matrix.shape) #Проверим размер преобразованной матрицы"
   ]
  },
  {
   "cell_type": "code",
   "execution_count": 11,
   "metadata": {},
   "outputs": [
    {
     "data": {
      "text/html": [
       "<div>\n",
       "<style scoped>\n",
       "    .dataframe tbody tr th:only-of-type {\n",
       "        vertical-align: middle;\n",
       "    }\n",
       "\n",
       "    .dataframe tbody tr th {\n",
       "        vertical-align: top;\n",
       "    }\n",
       "\n",
       "    .dataframe thead th {\n",
       "        text-align: right;\n",
       "    }\n",
       "</style>\n",
       "<table border=\"1\" class=\"dataframe\">\n",
       "  <thead>\n",
       "    <tr style=\"text-align: right;\">\n",
       "      <th></th>\n",
       "      <th>Пол</th>\n",
       "      <th>Возраст</th>\n",
       "      <th>Зарплата</th>\n",
       "      <th>Члены семьи</th>\n",
       "    </tr>\n",
       "  </thead>\n",
       "  <tbody>\n",
       "    <tr>\n",
       "      <th>0</th>\n",
       "      <td>2,928.71</td>\n",
       "      <td>-6,641.39</td>\n",
       "      <td>3,210.22</td>\n",
       "      <td>-6,937.74</td>\n",
       "    </tr>\n",
       "    <tr>\n",
       "      <th>1</th>\n",
       "      <td>2,242.30</td>\n",
       "      <td>-5,087.67</td>\n",
       "      <td>2,461.62</td>\n",
       "      <td>-5,314.71</td>\n",
       "    </tr>\n",
       "    <tr>\n",
       "      <th>2</th>\n",
       "      <td>1,238.92</td>\n",
       "      <td>-2,811.51</td>\n",
       "      <td>1,360.84</td>\n",
       "      <td>-2,937.04</td>\n",
       "    </tr>\n",
       "    <tr>\n",
       "      <th>3</th>\n",
       "      <td>2,463.33</td>\n",
       "      <td>-5,583.81</td>\n",
       "      <td>2,696.99</td>\n",
       "      <td>-5,832.92</td>\n",
       "    </tr>\n",
       "    <tr>\n",
       "      <th>4</th>\n",
       "      <td>1,540.59</td>\n",
       "      <td>-3,494.67</td>\n",
       "      <td>1,690.17</td>\n",
       "      <td>-3,650.62</td>\n",
       "    </tr>\n",
       "  </tbody>\n",
       "</table>\n",
       "</div>"
      ],
      "text/plain": [
       "       Пол   Возраст  Зарплата  Члены семьи\n",
       "0 2,928.71 -6,641.39  3,210.22    -6,937.74\n",
       "1 2,242.30 -5,087.67  2,461.62    -5,314.71\n",
       "2 1,238.92 -2,811.51  1,360.84    -2,937.04\n",
       "3 2,463.33 -5,583.81  2,696.99    -5,832.92\n",
       "4 1,540.59 -3,494.67  1,690.17    -3,650.62"
      ]
     },
     "metadata": {},
     "output_type": "display_data"
    },
    {
     "name": "stdout",
     "output_type": "stream",
     "text": [
      "<class 'pandas.core.frame.DataFrame'>\n",
      "RangeIndex: 4847 entries, 0 to 4846\n",
      "Data columns (total 4 columns):\n",
      " #   Column       Non-Null Count  Dtype  \n",
      "---  ------       --------------  -----  \n",
      " 0   Пол          4847 non-null   float64\n",
      " 1   Возраст      4847 non-null   float64\n",
      " 2   Зарплата     4847 non-null   float64\n",
      " 3   Члены семьи  4847 non-null   float64\n",
      "dtypes: float64(4)\n",
      "memory usage: 151.6 KB\n"
     ]
    }
   ],
   "source": [
    "transformed_matrix = pd.DataFrame(matrix, columns = features.columns) # Датафрейм из преобразованной матрицы\n",
    "display(transformed_matrix.head()) # Печать transformed_matrix\n",
    "transformed_matrix.info() # Смотрим общую информацию о преобразованном датасете"
   ]
  },
  {
   "cell_type": "code",
   "execution_count": 12,
   "metadata": {},
   "outputs": [],
   "source": [
    "# Исходный и преобразованный датасеты, разделим  на обучающую и тестовую выборки\n",
    "features_train, features_test, target_train, target_test = train_test_split(features, target, test_size=0.35, random_state=42)\n",
    "transformed_features_train, transformed_features_test, target_train, target_test = train_test_split(transformed_matrix, target,\\\n",
    "                                                        test_size=0.35, random_state=42)"
   ]
  },
  {
   "cell_type": "code",
   "execution_count": 13,
   "metadata": {},
   "outputs": [
    {
     "name": "stdout",
     "output_type": "stream",
     "text": [
      "0.43692433\n"
     ]
    }
   ],
   "source": [
    "# Обучаем модель линейной регресии для исходного датасета, получаем метрку R2\n",
    "model = LinearRegression()\n",
    "model.fit(features_train, target_train)\n",
    "predictions = model.predict(features_test)\n",
    "r2 = round(r2_score(target_test, predictions), 8)\n",
    "print(r2)"
   ]
  },
  {
   "cell_type": "code",
   "execution_count": 14,
   "metadata": {},
   "outputs": [
    {
     "name": "stdout",
     "output_type": "stream",
     "text": [
      "0.43692433\n"
     ]
    }
   ],
   "source": [
    "# Обучаем модель линейной регресии для преобразованного датасета, получаем метрку R2\n",
    "transformed_model = LinearRegression()\n",
    "transformed_model.fit(transformed_features_train, target_train)\n",
    "transformed_predictions = transformed_model.predict(transformed_features_test)\n",
    "transformed_r2 =  round(r2_score(target_test, transformed_predictions), 8)\n",
    "print(transformed_r2)"
   ]
  },
  {
   "cell_type": "code",
   "execution_count": 15,
   "metadata": {},
   "outputs": [
    {
     "name": "stdout",
     "output_type": "stream",
     "text": [
      "Качество модели, после преобразования, не изменилось!\n"
     ]
    }
   ],
   "source": [
    "# Сравниваем полученные метрики R2 в исходном и  преобразованном датасетах\n",
    "if r2 == transformed_r2:\n",
    "    print('Качество модели, после преобразования, не изменилось!')\n",
    "else:\n",
    "    print('Утверждение, что качество модели не изменилось, не подтверждается.')"
   ]
  },
  {
   "cell_type": "markdown",
   "metadata": {},
   "source": [
    "<div class=\"alert alert-block alert-success\">\n",
    "<b>Комментарий ревьюера👍:</b> Верно, таким образом в случае домножения матрицы признаков на случайную обратимую матрицу можно обеспечить защиту данных, не потеряв в качестве модели. \n",
    "</div>\n",
    "\n"
   ]
  },
  {
   "cell_type": "markdown",
   "metadata": {},
   "source": [
    "## Общий вывод\n",
    "[&#10224;](#step1)"
   ]
  },
  {
   "cell_type": "markdown",
   "metadata": {},
   "source": [
    "\n",
    " <div style=\"border:solid green 2px; padding: 20px\">\n",
    "\n",
    "В страховой компании __«Хоть потоп»__, возникла необходимость __разработать__ такой метод преобразования  данных, чтобы по ним было __сложно восстановить персональную__ информацию клиентов. Также, было поставленно __требование__, что при этом преобразовании, __качество модели__ машинного обучения __не должно__ ухудшиться.<br>     \n",
    "Для __анализа данных__ и __построения моделей__, страховой компанией __\"Хоть потоп\"__, был предоставлен датасет содержащий информацию __о клиентах__  . Датасет состоит из **5** столбцов (__признаки__)  и **5000** строк(__объектов наблюдения__). Пропуски в данных обнаруженны не были,но были найдены __153__ строки дубликаты (удалены методом __drop_duplicates()__. Был  заменен формат в столбце __\"Возраст\"__ с вещественного __float__ на целочисленный __int__. \n",
    "    \n",
    "На этапе **Умножение матриц** было выведено и обоснованно, что если **преобразовать** исходный датасет, умножив его на **обратимую квадратную матрицу**, то качество модели, **после преобразования** датасета, **не изменится**.  $$a' = Xw = a$$        \n",
    "\n",
    " На следующем шаге, **проверим полученное утверждение**, при помощи **создания моделей**  (алгоритм Линейная регрессия) обученные **до преобразования** и __после__. Сравним результаты моделей, __метрику R2__ между собой.\n",
    "    \n",
    "Затем составили __Алгоритм преобразования__ и далее, на следующем шаге __Проверка алгоритма__, проверили полученное утверждение, при помощи **создания моделей**  (алгоритм Линейная регрессия) обученные **до преобразования** и __после__. Сравнили результаты моделей, __метрику R2__ между собой. \n",
    "    \n",
    "<br>Проделанный эесперимент __показал__, что   метрики для обоих моделей - __равны__(__R2__ до преобразования __0.43692433__ = __0.43692433 R2__ после преобразования ), следовательно __качество__ предсказаний __не изменится__, в тоже самое время, личные данные клиентов, теперь более надежно защищены.\n",
    "   \n",
    " Были выполнены поставленные страховой компанией __\"Хоть потоп\"__ требования.\n",
    "    \n",
    "**Задача проекта:**  Был __разработан__ метод преобразования данных, __усложняющий восстановление__ персональных данных.\n",
    "\n",
    "**Цель проекта:**  Данные были __защищены__, при этом, произведенные преобразования  __не ухудшают__   качество модели машинного обучения.\n",
    "\n",
    "\n",
    "\n",
    "\n",
    "\n",
    "   \n",
    "</div>"
   ]
  },
  {
   "cell_type": "markdown",
   "metadata": {},
   "source": [
    "<div class=\"alert alert-block alert-success\">\n",
    "<b>Комментарий ревьюера👍:</b> Спасибо тебе за проделанную работу, ты демонстрируешь отличное владение материалом спринта.\n",
    "    \n",
    "Отправляю обратно, чтобы ты мог прочитать мои комментарии и задать какие-то вопросы, может хочешь какую-то подборку статей.   \n",
    "\n",
    "Обзоры по применению криптографии в машинном обучении: https://arxiv.org/pdf/1902.04109.pdf, https://www.researchgate.net/publication/342746786_Some_Applications_of_Machine_Learning_in_Cryptography\n",
    "   \n",
    "Примеры использования линейной алгебры в машинном обучении:\n",
    "https://machinelearningmastery.com/examples-of-linear-algebra-in-machine-learning/\n",
    "    \n",
    "Для чего нужна математика в машинном обучении?\n",
    "https://proglib.io/p/dlya-chego-nuzhen-matematicheskiy-analiz-v-mashinnom-obuchenii-2021-02-15\n",
    "\n",
    "Большая статья по векторам:\n",
    "https://neptune.ai/blog/understanding-vectors-from-a-machine-learning-perspective  \n",
    "    \n",
    "</div>\n"
   ]
  },
  {
   "cell_type": "markdown",
   "metadata": {},
   "source": [
    "<div class=\"alert alert-block alert-info\">\n",
    "<b>Комментарий студента:</b><br> \n",
    "   Спасибо за материал. Предварительно ознакомился. Математика и линейная алгебра в частности -  суть, фундамент ML.   Безусловно криптография сильно коррелирует с машинным обучение, так как  задачи очень схожи и глубоко погружены в математику. \n",
    "</div>"
   ]
  },
  {
   "cell_type": "markdown",
   "metadata": {},
   "source": [
    "<div class=\"alert alert-block alert-success\">\n",
    "<b>Комментарий ревьюера V.2👍:</b> Удачи в будущих проектах и работе =)\n",
    "</div>"
   ]
  },
  {
   "cell_type": "markdown",
   "metadata": {},
   "source": [
    "## Чек-лист проверки\n",
    "[&#10224;](#step1)"
   ]
  },
  {
   "cell_type": "markdown",
   "metadata": {},
   "source": [
    "- [x]  Jupyter Notebook открыт\n",
    "- [x]  Весь код выполняется без ошибок\n",
    "- [x]  Ячейки с кодом расположены в порядке исполнения\n",
    "- [x]  Выполнен шаг 1: данные загружены\n",
    "- [x]  Выполнен шаг 2: получен ответ на вопрос об умножении матриц\n",
    "    - [x]  Указан правильный вариант ответа\n",
    "    - [x]  Вариант обоснован\n",
    "- [x]  Выполнен шаг 3: предложен алгоритм преобразования\n",
    "    - [x]  Алгоритм описан\n",
    "    - [x]  Алгоритм обоснован\n",
    "- [x]  Выполнен шаг 4: алгоритм проверен\n",
    "    - [x]  Алгоритм реализован\n",
    "    - [x]  Проведено сравнение качества моделей до и после преобразования"
   ]
  },
  {
   "cell_type": "markdown",
   "metadata": {},
   "source": [
    "#    <br>[**В начало**](#step1)"
   ]
  }
 ],
 "metadata": {
  "ExecuteTimeLog": [
   {
    "duration": 1832,
    "start_time": "2022-04-11T03:58:47.130Z"
   },
   {
    "duration": 19,
    "start_time": "2022-04-11T03:58:48.964Z"
   },
   {
    "duration": 63,
    "start_time": "2022-04-11T03:58:48.985Z"
   },
   {
    "duration": 5,
    "start_time": "2022-04-11T03:58:49.050Z"
   },
   {
    "duration": 10,
    "start_time": "2022-04-11T03:58:49.057Z"
   },
   {
    "duration": 17,
    "start_time": "2022-04-11T03:58:49.069Z"
   },
   {
    "duration": 16,
    "start_time": "2022-04-11T03:58:49.088Z"
   },
   {
    "duration": 129,
    "start_time": "2022-04-11T03:58:49.136Z"
   },
   {
    "duration": 1599,
    "start_time": "2022-04-16T07:59:24.044Z"
   },
   {
    "duration": 18,
    "start_time": "2022-04-16T07:59:25.645Z"
   },
   {
    "duration": 48,
    "start_time": "2022-04-16T07:59:25.665Z"
   },
   {
    "duration": 5,
    "start_time": "2022-04-16T07:59:25.716Z"
   },
   {
    "duration": 8,
    "start_time": "2022-04-16T07:59:25.723Z"
   },
   {
    "duration": 14,
    "start_time": "2022-04-16T07:59:25.732Z"
   },
   {
    "duration": 11,
    "start_time": "2022-04-16T07:59:25.748Z"
   },
   {
    "duration": 13,
    "start_time": "2022-04-16T08:03:07.545Z"
   },
   {
    "duration": 15,
    "start_time": "2022-04-16T08:03:28.243Z"
   },
   {
    "duration": 33,
    "start_time": "2022-04-16T08:03:45.905Z"
   },
   {
    "duration": 38,
    "start_time": "2022-04-16T08:04:00.625Z"
   },
   {
    "duration": 12,
    "start_time": "2022-04-16T08:04:07.143Z"
   },
   {
    "duration": 33,
    "start_time": "2022-04-16T08:04:09.075Z"
   },
   {
    "duration": 1660,
    "start_time": "2022-04-16T08:04:20.953Z"
   },
   {
    "duration": 18,
    "start_time": "2022-04-16T08:04:22.615Z"
   },
   {
    "duration": 41,
    "start_time": "2022-04-16T08:04:22.635Z"
   },
   {
    "duration": 30,
    "start_time": "2022-04-16T08:04:22.678Z"
   },
   {
    "duration": 6,
    "start_time": "2022-04-16T08:04:22.710Z"
   },
   {
    "duration": 11,
    "start_time": "2022-04-16T08:04:22.719Z"
   },
   {
    "duration": 21,
    "start_time": "2022-04-16T08:04:22.732Z"
   },
   {
    "duration": 16,
    "start_time": "2022-04-16T08:04:22.754Z"
   },
   {
    "duration": 34,
    "start_time": "2022-04-16T08:05:35.422Z"
   },
   {
    "duration": 1522,
    "start_time": "2022-04-16T08:06:05.041Z"
   },
   {
    "duration": 19,
    "start_time": "2022-04-16T08:06:06.565Z"
   },
   {
    "duration": 38,
    "start_time": "2022-04-16T08:06:06.585Z"
   },
   {
    "duration": 12,
    "start_time": "2022-04-16T08:06:06.625Z"
   },
   {
    "duration": 70,
    "start_time": "2022-04-16T08:06:06.638Z"
   },
   {
    "duration": 5,
    "start_time": "2022-04-16T08:06:06.710Z"
   },
   {
    "duration": 7,
    "start_time": "2022-04-16T08:06:06.716Z"
   },
   {
    "duration": 14,
    "start_time": "2022-04-16T08:06:06.724Z"
   },
   {
    "duration": 13,
    "start_time": "2022-04-16T08:06:06.740Z"
   },
   {
    "duration": 1500,
    "start_time": "2022-04-16T08:06:50.317Z"
   },
   {
    "duration": 18,
    "start_time": "2022-04-16T08:06:51.819Z"
   },
   {
    "duration": 36,
    "start_time": "2022-04-16T08:06:51.839Z"
   },
   {
    "duration": 24,
    "start_time": "2022-04-16T08:06:51.877Z"
   },
   {
    "duration": 34,
    "start_time": "2022-04-16T08:06:51.903Z"
   },
   {
    "duration": 186,
    "start_time": "2022-04-16T08:06:51.939Z"
   },
   {
    "duration": 0,
    "start_time": "2022-04-16T08:06:52.127Z"
   },
   {
    "duration": 0,
    "start_time": "2022-04-16T08:06:52.128Z"
   },
   {
    "duration": 0,
    "start_time": "2022-04-16T08:06:52.129Z"
   },
   {
    "duration": 0,
    "start_time": "2022-04-16T08:06:52.130Z"
   },
   {
    "duration": 1540,
    "start_time": "2022-04-16T08:49:14.796Z"
   },
   {
    "duration": 18,
    "start_time": "2022-04-16T08:49:16.338Z"
   },
   {
    "duration": 35,
    "start_time": "2022-04-16T08:49:16.357Z"
   },
   {
    "duration": 10,
    "start_time": "2022-04-16T08:49:16.393Z"
   },
   {
    "duration": 4,
    "start_time": "2022-04-16T08:49:16.404Z"
   },
   {
    "duration": 4,
    "start_time": "2022-04-16T08:49:16.410Z"
   },
   {
    "duration": 30,
    "start_time": "2022-04-16T08:49:16.416Z"
   },
   {
    "duration": 186,
    "start_time": "2022-04-16T08:49:16.448Z"
   },
   {
    "duration": 0,
    "start_time": "2022-04-16T08:49:16.636Z"
   },
   {
    "duration": 0,
    "start_time": "2022-04-16T08:49:16.637Z"
   },
   {
    "duration": 0,
    "start_time": "2022-04-16T08:49:16.638Z"
   },
   {
    "duration": 0,
    "start_time": "2022-04-16T08:49:16.639Z"
   },
   {
    "duration": 6,
    "start_time": "2022-04-16T08:51:30.112Z"
   },
   {
    "duration": 33,
    "start_time": "2022-04-16T09:39:30.248Z"
   },
   {
    "duration": 5,
    "start_time": "2022-04-16T09:39:41.702Z"
   },
   {
    "duration": 7,
    "start_time": "2022-04-16T09:39:42.654Z"
   },
   {
    "duration": 8,
    "start_time": "2022-04-16T09:39:43.082Z"
   },
   {
    "duration": 13,
    "start_time": "2022-04-16T09:39:43.923Z"
   },
   {
    "duration": 10,
    "start_time": "2022-04-16T10:21:26.395Z"
   },
   {
    "duration": 1562,
    "start_time": "2022-04-16T10:21:44.935Z"
   },
   {
    "duration": 20,
    "start_time": "2022-04-16T10:21:46.498Z"
   },
   {
    "duration": 38,
    "start_time": "2022-04-16T10:21:46.519Z"
   },
   {
    "duration": 6,
    "start_time": "2022-04-16T10:21:46.559Z"
   },
   {
    "duration": 35,
    "start_time": "2022-04-16T10:21:46.566Z"
   },
   {
    "duration": 8,
    "start_time": "2022-04-16T10:21:46.602Z"
   },
   {
    "duration": 34,
    "start_time": "2022-04-16T10:21:46.611Z"
   },
   {
    "duration": 5,
    "start_time": "2022-04-16T10:21:46.646Z"
   },
   {
    "duration": 54,
    "start_time": "2022-04-16T10:21:46.653Z"
   },
   {
    "duration": 196,
    "start_time": "2022-04-16T10:21:46.710Z"
   },
   {
    "duration": 245,
    "start_time": "2022-04-16T10:36:01.362Z"
   },
   {
    "duration": 105,
    "start_time": "2022-04-16T10:36:20.439Z"
   },
   {
    "duration": 25,
    "start_time": "2022-04-16T10:37:02.725Z"
   },
   {
    "duration": 190,
    "start_time": "2022-04-16T10:38:19.101Z"
   },
   {
    "duration": 4,
    "start_time": "2022-04-16T10:39:23.333Z"
   },
   {
    "duration": 3,
    "start_time": "2022-04-16T10:39:56.687Z"
   },
   {
    "duration": 10,
    "start_time": "2022-04-16T10:40:03.058Z"
   },
   {
    "duration": 35,
    "start_time": "2022-04-16T10:40:18.851Z"
   },
   {
    "duration": 3,
    "start_time": "2022-04-16T10:41:04.785Z"
   },
   {
    "duration": 10,
    "start_time": "2022-04-16T10:41:07.683Z"
   },
   {
    "duration": 24,
    "start_time": "2022-04-16T10:41:22.807Z"
   },
   {
    "duration": 24,
    "start_time": "2022-04-16T10:42:53.154Z"
   },
   {
    "duration": 5,
    "start_time": "2022-04-16T10:58:34.971Z"
   },
   {
    "duration": 6,
    "start_time": "2022-04-16T10:58:43.822Z"
   },
   {
    "duration": 18,
    "start_time": "2022-04-16T10:58:47.289Z"
   },
   {
    "duration": 6,
    "start_time": "2022-04-16T10:59:04.357Z"
   },
   {
    "duration": 36,
    "start_time": "2022-04-16T11:00:05.112Z"
   },
   {
    "duration": 28,
    "start_time": "2022-04-16T11:00:16.392Z"
   },
   {
    "duration": 6,
    "start_time": "2022-04-16T11:05:46.519Z"
   },
   {
    "duration": 7,
    "start_time": "2022-04-16T11:06:28.146Z"
   },
   {
    "duration": 9,
    "start_time": "2022-04-16T11:06:49.910Z"
   },
   {
    "duration": 18,
    "start_time": "2022-04-16T11:06:58.970Z"
   },
   {
    "duration": 10,
    "start_time": "2022-04-16T11:07:16.505Z"
   },
   {
    "duration": 5,
    "start_time": "2022-04-16T11:07:35.371Z"
   },
   {
    "duration": 6,
    "start_time": "2022-04-16T11:07:42.758Z"
   },
   {
    "duration": 40,
    "start_time": "2022-04-16T11:08:53.118Z"
   },
   {
    "duration": 10,
    "start_time": "2022-04-16T11:09:27.336Z"
   },
   {
    "duration": 10,
    "start_time": "2022-04-16T11:10:02.989Z"
   },
   {
    "duration": 209,
    "start_time": "2022-04-16T11:10:13.093Z"
   },
   {
    "duration": 13,
    "start_time": "2022-04-16T11:10:52.910Z"
   },
   {
    "duration": 11,
    "start_time": "2022-04-16T11:11:04.032Z"
   },
   {
    "duration": 11,
    "start_time": "2022-04-16T11:11:12.281Z"
   },
   {
    "duration": 4,
    "start_time": "2022-04-16T12:21:35.479Z"
   },
   {
    "duration": 9,
    "start_time": "2022-04-16T12:21:36.126Z"
   },
   {
    "duration": 4,
    "start_time": "2022-04-16T12:21:54.621Z"
   },
   {
    "duration": 5,
    "start_time": "2022-04-16T12:21:55.851Z"
   },
   {
    "duration": 11,
    "start_time": "2022-04-16T12:22:08.996Z"
   },
   {
    "duration": 5,
    "start_time": "2022-04-16T12:22:15.507Z"
   },
   {
    "duration": 5,
    "start_time": "2022-04-16T12:22:30.675Z"
   },
   {
    "duration": 19,
    "start_time": "2022-04-16T12:22:31.227Z"
   },
   {
    "duration": 5,
    "start_time": "2022-04-16T12:23:28.372Z"
   },
   {
    "duration": 14,
    "start_time": "2022-04-16T12:23:29.344Z"
   },
   {
    "duration": 4,
    "start_time": "2022-04-16T12:25:32.577Z"
   },
   {
    "duration": 7,
    "start_time": "2022-04-16T12:25:33.196Z"
   },
   {
    "duration": 4,
    "start_time": "2022-04-16T12:46:42.999Z"
   },
   {
    "duration": 4,
    "start_time": "2022-04-16T12:47:21.971Z"
   },
   {
    "duration": 9,
    "start_time": "2022-04-16T12:49:44.678Z"
   },
   {
    "duration": 12,
    "start_time": "2022-04-16T13:01:14.066Z"
   },
   {
    "duration": 8,
    "start_time": "2022-04-16T13:02:01.121Z"
   },
   {
    "duration": 8,
    "start_time": "2022-04-16T13:02:08.433Z"
   },
   {
    "duration": 2,
    "start_time": "2022-04-16T13:04:09.336Z"
   },
   {
    "duration": 11,
    "start_time": "2022-04-16T13:04:23.871Z"
   },
   {
    "duration": 13,
    "start_time": "2022-04-16T13:04:48.523Z"
   },
   {
    "duration": 6,
    "start_time": "2022-04-16T13:05:05.553Z"
   },
   {
    "duration": 204,
    "start_time": "2022-04-16T13:07:14.855Z"
   },
   {
    "duration": 204,
    "start_time": "2022-04-16T13:09:47.988Z"
   },
   {
    "duration": 206,
    "start_time": "2022-04-16T13:09:59.379Z"
   },
   {
    "duration": 203,
    "start_time": "2022-04-16T13:10:28.935Z"
   },
   {
    "duration": 207,
    "start_time": "2022-04-16T13:10:56.898Z"
   },
   {
    "duration": 6,
    "start_time": "2022-04-16T13:16:37.193Z"
   },
   {
    "duration": 5,
    "start_time": "2022-04-16T13:17:10.885Z"
   },
   {
    "duration": 3,
    "start_time": "2022-04-16T13:18:00.945Z"
   },
   {
    "duration": 8,
    "start_time": "2022-04-16T13:18:11.185Z"
   },
   {
    "duration": 1479,
    "start_time": "2022-04-19T13:11:14.737Z"
   },
   {
    "duration": 13,
    "start_time": "2022-04-19T13:11:16.218Z"
   },
   {
    "duration": 65,
    "start_time": "2022-04-19T13:11:16.233Z"
   },
   {
    "duration": 6,
    "start_time": "2022-04-19T13:11:16.299Z"
   },
   {
    "duration": 7,
    "start_time": "2022-04-19T13:11:16.307Z"
   },
   {
    "duration": 4,
    "start_time": "2022-04-19T13:11:16.315Z"
   },
   {
    "duration": 77,
    "start_time": "2022-04-19T13:11:16.321Z"
   },
   {
    "duration": 5,
    "start_time": "2022-04-19T13:11:16.400Z"
   },
   {
    "duration": 100,
    "start_time": "2022-04-19T13:11:16.408Z"
   },
   {
    "duration": 10,
    "start_time": "2022-04-19T13:11:16.510Z"
   },
   {
    "duration": 11,
    "start_time": "2022-04-19T13:11:16.521Z"
   },
   {
    "duration": 11,
    "start_time": "2022-04-19T13:11:16.534Z"
   },
   {
    "duration": 46,
    "start_time": "2022-04-19T13:11:16.547Z"
   },
   {
    "duration": 1532,
    "start_time": "2022-04-19T13:12:30.782Z"
   },
   {
    "duration": 13,
    "start_time": "2022-04-19T13:12:32.316Z"
   },
   {
    "duration": 71,
    "start_time": "2022-04-19T13:12:32.331Z"
   },
   {
    "duration": 7,
    "start_time": "2022-04-19T13:12:32.405Z"
   },
   {
    "duration": 7,
    "start_time": "2022-04-19T13:12:32.414Z"
   },
   {
    "duration": 5,
    "start_time": "2022-04-19T13:12:32.423Z"
   },
   {
    "duration": 69,
    "start_time": "2022-04-19T13:12:32.430Z"
   },
   {
    "duration": 5,
    "start_time": "2022-04-19T13:12:32.502Z"
   },
   {
    "duration": 98,
    "start_time": "2022-04-19T13:12:32.508Z"
   },
   {
    "duration": 7,
    "start_time": "2022-04-19T13:12:32.608Z"
   },
   {
    "duration": 10,
    "start_time": "2022-04-19T13:12:32.617Z"
   },
   {
    "duration": 8,
    "start_time": "2022-04-19T13:12:32.629Z"
   },
   {
    "duration": 3,
    "start_time": "2022-04-19T13:12:32.639Z"
   },
   {
    "duration": 48,
    "start_time": "2022-04-20T06:23:28.744Z"
   },
   {
    "duration": 6,
    "start_time": "2022-04-20T06:23:43.539Z"
   },
   {
    "duration": 1733,
    "start_time": "2022-04-20T06:23:50.672Z"
   },
   {
    "duration": 19,
    "start_time": "2022-04-20T06:23:52.407Z"
   },
   {
    "duration": 70,
    "start_time": "2022-04-20T06:23:52.428Z"
   },
   {
    "duration": 6,
    "start_time": "2022-04-20T06:23:52.500Z"
   },
   {
    "duration": 8,
    "start_time": "2022-04-20T06:23:52.507Z"
   },
   {
    "duration": 8,
    "start_time": "2022-04-20T06:23:52.516Z"
   },
   {
    "duration": 23,
    "start_time": "2022-04-20T06:23:52.525Z"
   },
   {
    "duration": 50,
    "start_time": "2022-04-20T06:23:52.550Z"
   },
   {
    "duration": 107,
    "start_time": "2022-04-20T06:23:52.602Z"
   },
   {
    "duration": 16,
    "start_time": "2022-04-20T06:23:52.711Z"
   },
   {
    "duration": 6,
    "start_time": "2022-04-20T06:23:52.729Z"
   },
   {
    "duration": 57,
    "start_time": "2022-04-20T06:23:52.737Z"
   },
   {
    "duration": 105,
    "start_time": "2022-04-20T06:23:52.797Z"
   },
   {
    "duration": 8,
    "start_time": "2022-04-20T06:23:52.904Z"
   },
   {
    "duration": 709,
    "start_time": "2022-04-20T06:33:59.066Z"
   },
   {
    "duration": 417,
    "start_time": "2022-04-20T06:34:28.971Z"
   },
   {
    "duration": 393,
    "start_time": "2022-04-20T06:34:51.030Z"
   },
   {
    "duration": 493,
    "start_time": "2022-04-20T06:34:59.451Z"
   },
   {
    "duration": 358,
    "start_time": "2022-04-20T06:37:08.680Z"
   },
   {
    "duration": 1712,
    "start_time": "2022-04-20T07:56:30.849Z"
   },
   {
    "duration": 13,
    "start_time": "2022-04-20T07:56:32.563Z"
   },
   {
    "duration": 60,
    "start_time": "2022-04-20T07:56:32.578Z"
   },
   {
    "duration": 7,
    "start_time": "2022-04-20T07:56:32.640Z"
   },
   {
    "duration": 13,
    "start_time": "2022-04-20T07:56:32.649Z"
   },
   {
    "duration": 30,
    "start_time": "2022-04-20T07:56:32.664Z"
   },
   {
    "duration": 58,
    "start_time": "2022-04-20T07:56:32.696Z"
   },
   {
    "duration": 399,
    "start_time": "2022-04-20T07:56:32.756Z"
   },
   {
    "duration": 40,
    "start_time": "2022-04-20T07:56:33.157Z"
   },
   {
    "duration": 7,
    "start_time": "2022-04-20T07:56:33.199Z"
   },
   {
    "duration": 109,
    "start_time": "2022-04-20T07:56:33.208Z"
   },
   {
    "duration": 9,
    "start_time": "2022-04-20T07:56:33.320Z"
   },
   {
    "duration": 11,
    "start_time": "2022-04-20T07:56:33.331Z"
   },
   {
    "duration": 10,
    "start_time": "2022-04-20T07:56:33.346Z"
   },
   {
    "duration": 37,
    "start_time": "2022-04-20T07:56:33.359Z"
   }
  ],
  "kernelspec": {
   "display_name": "Python 3 (ipykernel)",
   "language": "python",
   "name": "python3"
  },
  "language_info": {
   "codemirror_mode": {
    "name": "ipython",
    "version": 3
   },
   "file_extension": ".py",
   "mimetype": "text/x-python",
   "name": "python",
   "nbconvert_exporter": "python",
   "pygments_lexer": "ipython3",
   "version": "3.9.12"
  },
  "toc": {
   "base_numbering": 1,
   "nav_menu": {},
   "number_sections": true,
   "sideBar": true,
   "skip_h1_title": true,
   "title_cell": "Содержание",
   "title_sidebar": "Contents",
   "toc_cell": true,
   "toc_position": {
    "height": "calc(100% - 180px)",
    "left": "10px",
    "top": "150px",
    "width": "165px"
   },
   "toc_section_display": true,
   "toc_window_display": false
  }
 },
 "nbformat": 4,
 "nbformat_minor": 2
}
