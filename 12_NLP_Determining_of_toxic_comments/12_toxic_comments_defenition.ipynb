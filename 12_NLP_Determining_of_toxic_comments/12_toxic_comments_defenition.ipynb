{
 "cells": [
  {
   "cell_type": "markdown",
   "metadata": {
    "id": "cvPDU_pBPlgO"
   },
   "source": [
    "<div style=\"border:solid blue 2px; padding: 20px\">\n",
    "<font color='blue'>Привет, Илья!</font>\n",
    "\n",
    "Твоё решение проверил <font color='blue'>Александр Цымбалов</font>\n",
    "\n",
    "Если у тебя будут какие-то <font color='blue'>вопросы</font>, то обязательно их <font color='blue'>задавай</font>\n",
    "\n",
    "Я буду обращаться к тебе на \"ты\", ведь все мы здесь студенты)\n",
    "Но если тебе некомфортно, то дай знать, пожалуйста\n",
    "<br><br>\n",
    "Мои комментарии будут в отдельных ячейках <font color='blue'>Markdown</font> с заголовком «Комментарий ревьюера».\n",
    "\n",
    "**Пожалуйста, не перемещай, не изменяй и не удаляй их**. \n",
    "Я буду использовать цветовую разметку:\n",
    "\n",
    "<div class=\"alert alert-danger\">\n",
    "<b>Комментарий ревьюера ❌:</b> Замечания, которые необходимо обработать, иначе я не смогу принять проект </div>\n",
    "\n",
    "<div class=\"alert alert-warning\">\n",
    "<b>Комментарий ревьюера ⚠️:</b> Небольшие замечания или вопросы по пониманию темы. Если есть желание и время, то у тебя есть возможность сделать проект ещё лучше </div>\n",
    "\n",
    "<div class=\"alert alert-success\">\n",
    "<b>Комментарий ревьюера ✔️:</b> Хвалебные отзывы или другого рода комментарии)</div>\n",
    "\n",
    "**Если ты что-то меняешь в проекте или отвечаешь на мои комментарии — пиши об этом.**\n",
    "\n",
    "Мне будет <font color='blue'> легче </font> отследить изменения, если ты выделишь свои комментарии:\n",
    "<div class=\"alert alert-info\"> <b>Комментарий студента:</b> Лучше в таком формате, но как тебе <font color='blue'> удобно </font></div></font>\n",
    "\n",
    "Версии комментариев я буду нумеровать\n",
    "\n",
    "<br>"
   ]
  },
  {
   "cell_type": "markdown",
   "metadata": {
    "id": "aIrU42jnPlgP"
   },
   "source": [
    "<div style=\"border:solid blue 2px; padding: 20px\">\n",
    "<font color='blue'>Итоги 1 ревью</font>\n",
    "    \n",
    "Получилась отличная работа с подробными комментариями к каждому выполненному шагу. Здорово, что ты не только попробовал классический TF-IDF, но обучил и протестировал BERT! В работе есть ошибки, которые необходимо исправить: \n",
    "    <ul>\n",
    "        <li>Unicode для английского текста</li>\n",
    "        <li>Лемматизатор не работает</li>\n",
    "        <li>Отсутствие деления на batch</li>\n",
    "    </ul>\n",
    "Подробнее об ошибках ты узнаешь в моих комментариях ниже. Буду ждать на ревью, удачи!\n",
    "    \n",
    "Оставляю также подборку полезных материалов по теме:<br><br>\n",
    "https://huggingface.co/transformers/model_doc/bert.html \\\n",
    "https://t.me/renat_alimbekov \\\n",
    "https://colah.github.io/posts/2015-08-Understanding-LSTMs/ - Про LSTM \\\n",
    "https://web.stanford.edu/~jurafsky/slp3/10.pdf - про энкодер-декодер модели, этеншены\\\n",
    "https://pytorch.org/tutorials/beginner/transformer_tutorial.html - официальный гайд\n",
    "по трансформеру от создателей pytorch\\\n",
    "https://transformer.huggingface.co/ - поболтать с трансформером \\\n",
    "Библиотеки: allennlp, fairseq, transformers, tensorflow-text — множествореализованных\n",
    "методов для трансформеров методов NLP \\\n",
    "Word2Vec https://radimrehurek.com/gensim/models/word2vec.html  \\\n",
    "Kaggle catboost text classification https://www.kaggle.com/code/shashaalam/text-classification-with-catboost/notebook"
   ]
  },
  {
   "cell_type": "markdown",
   "metadata": {},
   "source": [
    "<div style=\"border:solid light blue 1px; padding: 1px\">\n",
    "<div class=\"alert alert-info\">\n",
    "<b>Комментарий студента:</b>\n",
    "    \n",
    "Спасибо!\n",
    "    \n",
    "</div>"
   ]
  },
  {
   "cell_type": "markdown",
   "metadata": {},
   "source": [
    "<div style=\"border:solid blue 2px; padding: 20px\">\n",
    "<font color='blue'>Итоги 2 ревью</font>\n",
    "    \n",
    "Было сложно, было больно, но ты добил BERT и исправил ошибки) <br>Несмотря на все трудности, круто, что ты решил добавить в свой проект трансформер.<br>Из плюсов: ты прошел мини-проверку на стрессоустойчивость, еще раз закрепил навыки по поиску новой информации<br>По поводу неправильного оформления обуч. блока: советую не только написать в поддержку с предложениями по улучшению учебного блока, но и обратиться в Slack (кураторы, каналы с помощью и т.д.)<br>Спасибо за работу и удачи на курсе, Илья! "
   ]
  },
  {
   "cell_type": "markdown",
   "metadata": {
    "id": "AT1VBv4lPlgP"
   },
   "source": [
    "<a id='step1'></a>"
   ]
  },
  {
   "cell_type": "markdown",
   "metadata": {
    "id": "cDQoJM25XlBq"
   },
   "source": [
    "# Определение токсичных комментариев\n",
    "#  Проект для «Викишоп» - модель BERT\n"
   ]
  },
  {
   "cell_type": "markdown",
   "metadata": {
    "id": "2WOUmdzSXlBs"
   },
   "source": [
    "# Содержание\n",
    "\n",
    "<br>[1.Подготовка](#step2)\n",
    "<br>[2. Обучение](#step3) \n",
    "<br>[3. __Model_BERT__](#step9)\n",
    "<br>[4. Общий вывод](#step4)\n",
    "<br>[5. Чек-лист проверки](#step5)"
   ]
  },
  {
   "cell_type": "markdown",
   "metadata": {
    "id": "z6LMuWONXlBv"
   },
   "source": [
    "<div style=\"border:solid green 2px; padding: 20px\">\n",
    "    \n",
    "### Основная цель:<a class=\"tocSkip\">   \n",
    "    \n",
    "\n",
    "  - После запуска __нового сервиса__, предоставляющего пользователям __редактировать, дополнять и комментировать__ описания товаров, у   интернет-магазина __«Викишоп»__ появилась необходимость в __инструменте__, который будет автоматически, без участия человека, __определять эмоциональную окраску комментария__, то есть положителен он или нет. __Токсичные комментарии__ будут отправляться на __модерацию__. <br>\n",
    "     \n",
    "  - В данном проекте __необходимо обучить модель__ классифицировать комментарии на __позитивные и негативные__.<br>\n",
    "Полученная модель, должна иметь значение __F1__ не менее __0.75__\n",
    "</div>"
   ]
  },
  {
   "cell_type": "markdown",
   "metadata": {
    "id": "M55DAnvOXlBx"
   },
   "source": [
    "<div style=\"border:solid green 2px; padding: 20px\">\n",
    "    \n",
    "  \n",
    "\n",
    "\n",
    "   \n",
    "### Набор данных находится в файле:<a class=\"tocSkip\">\n",
    "- `/datasets/toxic_comments.csv` — исходный датасет.\n",
    "\n",
    "   \n",
    "    \n",
    "### Описание данных <a class=\"tocSkip\"> \n",
    "\n",
    "-  Столбец __text__  содержит текст комментария    \n",
    "    \n",
    "### Целевой признак: <a class=\"tocSkip\">\n",
    "-  Столбец с булевыми значениями __toxic__      \n",
    "    \n",
    "\n",
    "\n",
    "</div>"
   ]
  },
  {
   "cell_type": "markdown",
   "metadata": {
    "id": "74olccr2PlgR"
   },
   "source": [
    "<div class=\"alert alert-success\">\n",
    "<b>1 Комментарий ревьюера ✔️:</b> Четко поставленная цель в начале работы!\n"
   ]
  },
  {
   "cell_type": "code",
   "execution_count": 1,
   "metadata": {
    "colab": {
     "base_uri": "https://localhost:8080/"
    },
    "executionInfo": {
     "elapsed": 277,
     "status": "ok",
     "timestamp": 1653962248512,
     "user": {
      "displayName": "Илья Должанский",
      "userId": "02574470818990683130"
     },
     "user_tz": -180
    },
    "id": "9ltAbd0_XlB0",
    "outputId": "d33aae8f-e500-4704-bfd5-22b087702f9f"
   },
   "outputs": [
    {
     "name": "stderr",
     "output_type": "stream",
     "text": [
      "[nltk_data] Downloading package wordnet to /home/jovyan/nltk_data...\n",
      "[nltk_data]   Package wordnet is already up-to-date!\n",
      "[nltk_data] Downloading package stopwords to /home/jovyan/nltk_data...\n",
      "[nltk_data]   Package stopwords is already up-to-date!\n"
     ]
    }
   ],
   "source": [
    "import pandas as pd \n",
    "import numpy as np\n",
    "from IPython.display import display\n",
    "import seaborn as sn # подключение графической библиотеки seaborn\n",
    "import matplotlib.pyplot as plt #импортируем библиотеку для графиков matplotlib \n",
    "\n",
    "\n",
    "import warnings # игнор ошибок\n",
    "warnings.simplefilter('ignore')# отменяет вывод таблицы предупреждения ошибки\n",
    "\n",
    "%matplotlib inline\n",
    "\n",
    "from sklearn.ensemble import RandomForestRegressor # Импорт модель RandomForestRegressor из библиотеки sklearn\n",
    "from sklearn.ensemble import RandomForestClassifier\n",
    "from sklearn.tree import DecisionTreeRegressor # Импорт модель DecisionTreeRegressor из библиотеки sklearn\n",
    "from sklearn.linear_model import LogisticRegression\n",
    "from sklearn.model_selection import GridSearchCV #Импортирую функцию GridSearchCV\n",
    "\n",
    "\n",
    "from sklearn.model_selection import train_test_split # Импорт функцию train_test_split из библиотеки sklearn\n",
    "from sklearn.model_selection import TimeSeriesSplit, GridSearchCV # Импортируем функцию TimeSeriesSplit и GridSearchCV \n",
    "\n",
    "from sklearn.metrics import make_scorer # Импорт функцию make_scorer из библиотеки sklearn\n",
    "from sklearn.model_selection import cross_val_score # Импорт функцию cross_val_score из библиотеки sklearn\n",
    "from sklearn.metrics import mean_squared_error #Импортирую метрику mean_squared_error из библиотеки sklearn\n",
    " \n",
    "from sklearn.feature_extraction.text import TfidfVectorizer #Из библиотеки sklearn импортирую функциию TfidfVectorizer\n",
    "\n",
    "from sklearn.metrics import f1_score\n",
    "\n",
    "import nltk\n",
    "from nltk.stem import WordNetLemmatizer \n",
    "from nltk.corpus import stopwords #Из библиотеки NLTK импортирую функциию stopwords для определения стоп-слов\n",
    "import re\n",
    "nltk.download('wordnet')\n",
    "nltk.download('stopwords')\n",
    "from tqdm import notebook # индикатор прогресса"
   ]
  },
  {
   "cell_type": "markdown",
   "metadata": {
    "id": "F-TOncYvXlB7"
   },
   "source": [
    "<a id='step2'></a>"
   ]
  },
  {
   "cell_type": "markdown",
   "metadata": {
    "id": "PcpB7rPBPlgT"
   },
   "source": [
    "<div class=\"alert alert-success\">\n",
    "<b>1 Комментарий ревьюера ✔️:</b> Спасибо за комментирование импортов!\n"
   ]
  },
  {
   "cell_type": "markdown",
   "metadata": {
    "id": "72Gt1EvDXlB-"
   },
   "source": [
    "## Подготовка\n",
    "[&#10224;](#step1)"
   ]
  },
  {
   "cell_type": "markdown",
   "metadata": {
    "id": "l43McQbaXlB_"
   },
   "source": [
    "__Загрузка данных__"
   ]
  },
  {
   "cell_type": "code",
   "execution_count": 16,
   "metadata": {
    "colab": {
     "base_uri": "https://localhost:8080/"
    },
    "executionInfo": {
     "elapsed": 22828,
     "status": "ok",
     "timestamp": 1653962271751,
     "user": {
      "displayName": "Илья Должанский",
      "userId": "02574470818990683130"
     },
     "user_tz": -180
    },
    "id": "tdeAAOZhPlgU",
    "outputId": "fbc42981-12b8-4030-f7cc-a06f1cf9dd96"
   },
   "outputs": [
    {
     "name": "stdout",
     "output_type": "stream",
     "text": [
      "Mounted at /content/drive\n"
     ]
    }
   ],
   "source": [
    "pd.set_option('display.float_format', '{:,.2f}'.format)# вывод без экспонентациальных форм и лишних запятых.\n",
    "pd.set_option('display.max_columns', None) # вывод всех колонок датасета без урезания.\n",
    "\n",
    "try: #конструкция try-except помогает выбрать работающий путь к исследуемым файлам\n",
    "    df = pd.read_csv('/datasets/toxic_comments.csv')# /Работа - сервер Яндекс/\n",
    "    #df = pd.read_csv('/data_set/toxic_comments.csv')#  /Работа - Локально/\n",
    "except:\n",
    "    from google.colab import drive\n",
    "    drive.mount('/content/drive') \n",
    "    df = pd.read_csv('/content/drive/MyDrive/drive/toxic_comments.csv') # /Работа - сервер Гугл-Коллаб/\n"
   ]
  },
  {
   "cell_type": "markdown",
   "metadata": {
    "id": "XAC57JYDPlgU"
   },
   "source": [
    "<div style=\"border:solid light blue 1px; padding: 1px\">\n",
    "<div class=\"alert alert-info\">\n",
    "<b>Комментарий студента:</b>\n",
    "    \n",
    "Добавил после замечания ревьювера.\n",
    "    \n",
    "</div>"
   ]
  },
  {
   "cell_type": "markdown",
   "metadata": {
    "id": "HaAIqtbhPlgU"
   },
   "source": [
    "<div class=\"alert alert-warning\">\n",
    "<b>1 Комментарий ревьюера ⚠️:</b>\n",
    "Кажется, работа над проектом велась в Google Colab и пути к файлам не были изменены на общедоступные. Сейчас я внесу изменения в твой код, но в следующий раз будь внимательней. Стоит писать код таким образом, что бы он запускался и в jupiter hub, и локально без внесения дополнительных правок. Этого можно добиться многими способами. Например, использовать конструкцию try-except — для путей файлов: try — пути на локальном компьютере, except  пути на сервере. Или применить библиотеку os:\n",
    "\n",
    "    import os\n",
    "\n",
    "    pth1 = '/folder_1/data.csv'\n",
    "    pth2 = '/folder_2/data.csv'\n",
    "    \n",
    "    if os.path.exists(pth1):\n",
    "        query_1 = pd.read_csv(pth1)\n",
    "    elif os.path.exists(pth2):\n",
    "        query_1 = pd.read_csv(pth2)\n",
    "    else:\n",
    "        print('Something is wrong)"
   ]
  },
  {
   "cell_type": "code",
   "execution_count": 17,
   "metadata": {
    "executionInfo": {
     "elapsed": 16,
     "status": "ok",
     "timestamp": 1653962271756,
     "user": {
      "displayName": "Илья Должанский",
      "userId": "02574470818990683130"
     },
     "user_tz": -180
    },
    "id": "vwIZZiy8PlgV"
   },
   "outputs": [],
   "source": [
    "%%script false # Пропустить выполнение ячейки\n",
    "import os\n",
    "\n",
    "pth1 = '/data_set/toxic_comments.csv' #  /Работа - Локально/\n",
    "pth2 = '/datasets/toxic_comments.csv' # /Работа - сервер Яндекс/ \n",
    "pth3 = '/content/drive/MyDrive/drive/toxic_comments.csv' #   # /Работа - сервер Гугл-Коллаб/        '\n",
    "if os.path.exists(pth1):\n",
    "    df = pd.read_csv(pth1)\n",
    "elif os.path.exists(pth2):\n",
    "    df = pd.read_csv(pth2)    \n",
    "elif os.path.exists(pth3):\n",
    "    df = pd.read_csv(pth3)    \n",
    "else: \n",
    "    print('Something is wrong')"
   ]
  },
  {
   "cell_type": "markdown",
   "metadata": {
    "id": "AiC6c59mPlgX"
   },
   "source": [
    "<div style=\"border:solid light blue 1px; padding: 1px\">\n",
    "<div class=\"alert alert-info\">\n",
    "<b>Комментарий студента:</b>\n",
    "    \n",
    "Да, про try-except знаю, в колаб работал первый раз, так как локально все попадало, а на сервер Яндекса посоветовали вообще не соваться. В общем, сразу не сообразил. Твой пример - класс! - спасибо. В нем только  гугл-диск надо ручками запутить, try-except диск запустит, но ни о каком третьем госте!) \n",
    "    \n",
    "</div>"
   ]
  },
  {
   "cell_type": "markdown",
   "metadata": {
    "id": "PcpB7rPBPlgT"
   },
   "source": [
    "<div class=\"alert alert-success\">\n",
    "<b>2 Комментарий ревьюера ✔️:</b> Здорово, теперь всё отлично)\n",
    "    \n"
   ]
  },
  {
   "cell_type": "markdown",
   "metadata": {
    "id": "Uv8OvH-nXlCC"
   },
   "source": [
    "__Общая информация о полученных данных__"
   ]
  },
  {
   "cell_type": "code",
   "execution_count": 18,
   "metadata": {
    "colab": {
     "base_uri": "https://localhost:8080/",
     "height": 897
    },
    "executionInfo": {
     "elapsed": 671,
     "status": "ok",
     "timestamp": 1653962272412,
     "user": {
      "displayName": "Илья Должанский",
      "userId": "02574470818990683130"
     },
     "user_tz": -180
    },
    "id": "b-VFRd4sXlCD",
    "outputId": "622b9ce7-9eda-455a-9d2a-e6409b949410"
   },
   "outputs": [
    {
     "name": "stdout",
     "output_type": "stream",
     "text": [
      "________________________________\n"
     ]
    },
    {
     "data": {
      "application/vnd.google.colaboratory.intrinsic+json": {
       "type": "string"
      },
      "text/plain": [
       "'Общая информация по датафрейму:'"
      ]
     },
     "metadata": {},
     "output_type": "display_data"
    },
    {
     "data": {
      "text/html": [
       "\n",
       "  <div id=\"df-261a1287-4bbd-48cc-8398-d982a01dfb74\">\n",
       "    <div class=\"colab-df-container\">\n",
       "      <div>\n",
       "<style scoped>\n",
       "    .dataframe tbody tr th:only-of-type {\n",
       "        vertical-align: middle;\n",
       "    }\n",
       "\n",
       "    .dataframe tbody tr th {\n",
       "        vertical-align: top;\n",
       "    }\n",
       "\n",
       "    .dataframe thead th {\n",
       "        text-align: right;\n",
       "    }\n",
       "</style>\n",
       "<table border=\"1\" class=\"dataframe\">\n",
       "  <thead>\n",
       "    <tr style=\"text-align: right;\">\n",
       "      <th></th>\n",
       "      <th>строк</th>\n",
       "      <th>столбцов</th>\n",
       "    </tr>\n",
       "  </thead>\n",
       "  <tbody>\n",
       "    <tr>\n",
       "      <th>0</th>\n",
       "      <td>159571</td>\n",
       "      <td>2</td>\n",
       "    </tr>\n",
       "  </tbody>\n",
       "</table>\n",
       "</div>\n",
       "      <button class=\"colab-df-convert\" onclick=\"convertToInteractive('df-261a1287-4bbd-48cc-8398-d982a01dfb74')\"\n",
       "              title=\"Convert this dataframe to an interactive table.\"\n",
       "              style=\"display:none;\">\n",
       "        \n",
       "  <svg xmlns=\"http://www.w3.org/2000/svg\" height=\"24px\"viewBox=\"0 0 24 24\"\n",
       "       width=\"24px\">\n",
       "    <path d=\"M0 0h24v24H0V0z\" fill=\"none\"/>\n",
       "    <path d=\"M18.56 5.44l.94 2.06.94-2.06 2.06-.94-2.06-.94-.94-2.06-.94 2.06-2.06.94zm-11 1L8.5 8.5l.94-2.06 2.06-.94-2.06-.94L8.5 2.5l-.94 2.06-2.06.94zm10 10l.94 2.06.94-2.06 2.06-.94-2.06-.94-.94-2.06-.94 2.06-2.06.94z\"/><path d=\"M17.41 7.96l-1.37-1.37c-.4-.4-.92-.59-1.43-.59-.52 0-1.04.2-1.43.59L10.3 9.45l-7.72 7.72c-.78.78-.78 2.05 0 2.83L4 21.41c.39.39.9.59 1.41.59.51 0 1.02-.2 1.41-.59l7.78-7.78 2.81-2.81c.8-.78.8-2.07 0-2.86zM5.41 20L4 18.59l7.72-7.72 1.47 1.35L5.41 20z\"/>\n",
       "  </svg>\n",
       "      </button>\n",
       "      \n",
       "  <style>\n",
       "    .colab-df-container {\n",
       "      display:flex;\n",
       "      flex-wrap:wrap;\n",
       "      gap: 12px;\n",
       "    }\n",
       "\n",
       "    .colab-df-convert {\n",
       "      background-color: #E8F0FE;\n",
       "      border: none;\n",
       "      border-radius: 50%;\n",
       "      cursor: pointer;\n",
       "      display: none;\n",
       "      fill: #1967D2;\n",
       "      height: 32px;\n",
       "      padding: 0 0 0 0;\n",
       "      width: 32px;\n",
       "    }\n",
       "\n",
       "    .colab-df-convert:hover {\n",
       "      background-color: #E2EBFA;\n",
       "      box-shadow: 0px 1px 2px rgba(60, 64, 67, 0.3), 0px 1px 3px 1px rgba(60, 64, 67, 0.15);\n",
       "      fill: #174EA6;\n",
       "    }\n",
       "\n",
       "    [theme=dark] .colab-df-convert {\n",
       "      background-color: #3B4455;\n",
       "      fill: #D2E3FC;\n",
       "    }\n",
       "\n",
       "    [theme=dark] .colab-df-convert:hover {\n",
       "      background-color: #434B5C;\n",
       "      box-shadow: 0px 1px 3px 1px rgba(0, 0, 0, 0.15);\n",
       "      filter: drop-shadow(0px 1px 2px rgba(0, 0, 0, 0.3));\n",
       "      fill: #FFFFFF;\n",
       "    }\n",
       "  </style>\n",
       "\n",
       "      <script>\n",
       "        const buttonEl =\n",
       "          document.querySelector('#df-261a1287-4bbd-48cc-8398-d982a01dfb74 button.colab-df-convert');\n",
       "        buttonEl.style.display =\n",
       "          google.colab.kernel.accessAllowed ? 'block' : 'none';\n",
       "\n",
       "        async function convertToInteractive(key) {\n",
       "          const element = document.querySelector('#df-261a1287-4bbd-48cc-8398-d982a01dfb74');\n",
       "          const dataTable =\n",
       "            await google.colab.kernel.invokeFunction('convertToInteractive',\n",
       "                                                     [key], {});\n",
       "          if (!dataTable) return;\n",
       "\n",
       "          const docLinkHtml = 'Like what you see? Visit the ' +\n",
       "            '<a target=\"_blank\" href=https://colab.research.google.com/notebooks/data_table.ipynb>data table notebook</a>'\n",
       "            + ' to learn more about interactive tables.';\n",
       "          element.innerHTML = '';\n",
       "          dataTable['output_type'] = 'display_data';\n",
       "          await google.colab.output.renderOutput(dataTable, element);\n",
       "          const docLink = document.createElement('div');\n",
       "          docLink.innerHTML = docLinkHtml;\n",
       "          element.appendChild(docLink);\n",
       "        }\n",
       "      </script>\n",
       "    </div>\n",
       "  </div>\n",
       "  "
      ],
      "text/plain": [
       "    строк  столбцов\n",
       "0  159571         2"
      ]
     },
     "metadata": {},
     "output_type": "display_data"
    },
    {
     "data": {
      "text/html": [
       "\n",
       "  <div id=\"df-6cff0070-fa53-4589-885d-af860594dcc4\">\n",
       "    <div class=\"colab-df-container\">\n",
       "      <div>\n",
       "<style scoped>\n",
       "    .dataframe tbody tr th:only-of-type {\n",
       "        vertical-align: middle;\n",
       "    }\n",
       "\n",
       "    .dataframe tbody tr th {\n",
       "        vertical-align: top;\n",
       "    }\n",
       "\n",
       "    .dataframe thead th {\n",
       "        text-align: right;\n",
       "    }\n",
       "</style>\n",
       "<table border=\"1\" class=\"dataframe\">\n",
       "  <thead>\n",
       "    <tr style=\"text-align: right;\">\n",
       "      <th></th>\n",
       "      <th>text</th>\n",
       "      <th>toxic</th>\n",
       "    </tr>\n",
       "  </thead>\n",
       "  <tbody>\n",
       "    <tr>\n",
       "      <th>0</th>\n",
       "      <td>Explanation\\nWhy the edits made under my usern...</td>\n",
       "      <td>0</td>\n",
       "    </tr>\n",
       "    <tr>\n",
       "      <th>1</th>\n",
       "      <td>D'aww! He matches this background colour I'm s...</td>\n",
       "      <td>0</td>\n",
       "    </tr>\n",
       "    <tr>\n",
       "      <th>2</th>\n",
       "      <td>Hey man, I'm really not trying to edit war. It...</td>\n",
       "      <td>0</td>\n",
       "    </tr>\n",
       "    <tr>\n",
       "      <th>3</th>\n",
       "      <td>\"\\nMore\\nI can't make any real suggestions on ...</td>\n",
       "      <td>0</td>\n",
       "    </tr>\n",
       "    <tr>\n",
       "      <th>4</th>\n",
       "      <td>You, sir, are my hero. Any chance you remember...</td>\n",
       "      <td>0</td>\n",
       "    </tr>\n",
       "    <tr>\n",
       "      <th>...</th>\n",
       "      <td>...</td>\n",
       "      <td>...</td>\n",
       "    </tr>\n",
       "    <tr>\n",
       "      <th>159566</th>\n",
       "      <td>\":::::And for the second time of asking, when ...</td>\n",
       "      <td>0</td>\n",
       "    </tr>\n",
       "    <tr>\n",
       "      <th>159567</th>\n",
       "      <td>You should be ashamed of yourself \\n\\nThat is ...</td>\n",
       "      <td>0</td>\n",
       "    </tr>\n",
       "    <tr>\n",
       "      <th>159568</th>\n",
       "      <td>Spitzer \\n\\nUmm, theres no actual article for ...</td>\n",
       "      <td>0</td>\n",
       "    </tr>\n",
       "    <tr>\n",
       "      <th>159569</th>\n",
       "      <td>And it looks like it was actually you who put ...</td>\n",
       "      <td>0</td>\n",
       "    </tr>\n",
       "    <tr>\n",
       "      <th>159570</th>\n",
       "      <td>\"\\nAnd ... I really don't think you understand...</td>\n",
       "      <td>0</td>\n",
       "    </tr>\n",
       "  </tbody>\n",
       "</table>\n",
       "<p>159571 rows × 2 columns</p>\n",
       "</div>\n",
       "      <button class=\"colab-df-convert\" onclick=\"convertToInteractive('df-6cff0070-fa53-4589-885d-af860594dcc4')\"\n",
       "              title=\"Convert this dataframe to an interactive table.\"\n",
       "              style=\"display:none;\">\n",
       "        \n",
       "  <svg xmlns=\"http://www.w3.org/2000/svg\" height=\"24px\"viewBox=\"0 0 24 24\"\n",
       "       width=\"24px\">\n",
       "    <path d=\"M0 0h24v24H0V0z\" fill=\"none\"/>\n",
       "    <path d=\"M18.56 5.44l.94 2.06.94-2.06 2.06-.94-2.06-.94-.94-2.06-.94 2.06-2.06.94zm-11 1L8.5 8.5l.94-2.06 2.06-.94-2.06-.94L8.5 2.5l-.94 2.06-2.06.94zm10 10l.94 2.06.94-2.06 2.06-.94-2.06-.94-.94-2.06-.94 2.06-2.06.94z\"/><path d=\"M17.41 7.96l-1.37-1.37c-.4-.4-.92-.59-1.43-.59-.52 0-1.04.2-1.43.59L10.3 9.45l-7.72 7.72c-.78.78-.78 2.05 0 2.83L4 21.41c.39.39.9.59 1.41.59.51 0 1.02-.2 1.41-.59l7.78-7.78 2.81-2.81c.8-.78.8-2.07 0-2.86zM5.41 20L4 18.59l7.72-7.72 1.47 1.35L5.41 20z\"/>\n",
       "  </svg>\n",
       "      </button>\n",
       "      \n",
       "  <style>\n",
       "    .colab-df-container {\n",
       "      display:flex;\n",
       "      flex-wrap:wrap;\n",
       "      gap: 12px;\n",
       "    }\n",
       "\n",
       "    .colab-df-convert {\n",
       "      background-color: #E8F0FE;\n",
       "      border: none;\n",
       "      border-radius: 50%;\n",
       "      cursor: pointer;\n",
       "      display: none;\n",
       "      fill: #1967D2;\n",
       "      height: 32px;\n",
       "      padding: 0 0 0 0;\n",
       "      width: 32px;\n",
       "    }\n",
       "\n",
       "    .colab-df-convert:hover {\n",
       "      background-color: #E2EBFA;\n",
       "      box-shadow: 0px 1px 2px rgba(60, 64, 67, 0.3), 0px 1px 3px 1px rgba(60, 64, 67, 0.15);\n",
       "      fill: #174EA6;\n",
       "    }\n",
       "\n",
       "    [theme=dark] .colab-df-convert {\n",
       "      background-color: #3B4455;\n",
       "      fill: #D2E3FC;\n",
       "    }\n",
       "\n",
       "    [theme=dark] .colab-df-convert:hover {\n",
       "      background-color: #434B5C;\n",
       "      box-shadow: 0px 1px 3px 1px rgba(0, 0, 0, 0.15);\n",
       "      filter: drop-shadow(0px 1px 2px rgba(0, 0, 0, 0.3));\n",
       "      fill: #FFFFFF;\n",
       "    }\n",
       "  </style>\n",
       "\n",
       "      <script>\n",
       "        const buttonEl =\n",
       "          document.querySelector('#df-6cff0070-fa53-4589-885d-af860594dcc4 button.colab-df-convert');\n",
       "        buttonEl.style.display =\n",
       "          google.colab.kernel.accessAllowed ? 'block' : 'none';\n",
       "\n",
       "        async function convertToInteractive(key) {\n",
       "          const element = document.querySelector('#df-6cff0070-fa53-4589-885d-af860594dcc4');\n",
       "          const dataTable =\n",
       "            await google.colab.kernel.invokeFunction('convertToInteractive',\n",
       "                                                     [key], {});\n",
       "          if (!dataTable) return;\n",
       "\n",
       "          const docLinkHtml = 'Like what you see? Visit the ' +\n",
       "            '<a target=\"_blank\" href=https://colab.research.google.com/notebooks/data_table.ipynb>data table notebook</a>'\n",
       "            + ' to learn more about interactive tables.';\n",
       "          element.innerHTML = '';\n",
       "          dataTable['output_type'] = 'display_data';\n",
       "          await google.colab.output.renderOutput(dataTable, element);\n",
       "          const docLink = document.createElement('div');\n",
       "          docLink.innerHTML = docLinkHtml;\n",
       "          element.appendChild(docLink);\n",
       "        }\n",
       "      </script>\n",
       "    </div>\n",
       "  </div>\n",
       "  "
      ],
      "text/plain": [
       "                                                     text  toxic\n",
       "0       Explanation\\nWhy the edits made under my usern...      0\n",
       "1       D'aww! He matches this background colour I'm s...      0\n",
       "2       Hey man, I'm really not trying to edit war. It...      0\n",
       "3       \"\\nMore\\nI can't make any real suggestions on ...      0\n",
       "4       You, sir, are my hero. Any chance you remember...      0\n",
       "...                                                   ...    ...\n",
       "159566  \":::::And for the second time of asking, when ...      0\n",
       "159567  You should be ashamed of yourself \\n\\nThat is ...      0\n",
       "159568  Spitzer \\n\\nUmm, theres no actual article for ...      0\n",
       "159569  And it looks like it was actually you who put ...      0\n",
       "159570  \"\\nAnd ... I really don't think you understand...      0\n",
       "\n",
       "[159571 rows x 2 columns]"
      ]
     },
     "metadata": {},
     "output_type": "display_data"
    },
    {
     "data": {
      "text/plain": [
       "None"
      ]
     },
     "metadata": {},
     "output_type": "display_data"
    },
    {
     "name": "stdout",
     "output_type": "stream",
     "text": [
      "Типы данных:\n",
      "<class 'pandas.core.frame.DataFrame'>\n",
      "RangeIndex: 159571 entries, 0 to 159570\n",
      "Data columns (total 2 columns):\n",
      " #   Column  Non-Null Count   Dtype \n",
      "---  ------  --------------   ----- \n",
      " 0   text    159571 non-null  object\n",
      " 1   toxic   159571 non-null  int64 \n",
      "dtypes: int64(1), object(1)\n",
      "memory usage: 2.4+ MB\n"
     ]
    },
    {
     "data": {
      "text/plain": [
       "None"
      ]
     },
     "metadata": {},
     "output_type": "display_data"
    },
    {
     "data": {
      "text/plain": [
       "None"
      ]
     },
     "metadata": {},
     "output_type": "display_data"
    },
    {
     "data": {
      "application/vnd.google.colaboratory.intrinsic+json": {
       "type": "string"
      },
      "text/plain": [
       "'Количество обнаруженных дубликатов:'"
      ]
     },
     "metadata": {},
     "output_type": "display_data"
    },
    {
     "data": {
      "text/plain": [
       "0"
      ]
     },
     "metadata": {},
     "output_type": "display_data"
    },
    {
     "data": {
      "application/vnd.google.colaboratory.intrinsic+json": {
       "type": "string"
      },
      "text/plain": [
       "'Пропущенных значений в таблице :'"
      ]
     },
     "metadata": {},
     "output_type": "display_data"
    },
    {
     "data": {
      "text/html": [
       "\n",
       "  <div id=\"df-aec3183e-65b3-44b6-b0d6-7844ec408582\">\n",
       "    <div class=\"colab-df-container\">\n",
       "      <div>\n",
       "<style scoped>\n",
       "    .dataframe tbody tr th:only-of-type {\n",
       "        vertical-align: middle;\n",
       "    }\n",
       "\n",
       "    .dataframe tbody tr th {\n",
       "        vertical-align: top;\n",
       "    }\n",
       "\n",
       "    .dataframe thead th {\n",
       "        text-align: right;\n",
       "    }\n",
       "</style>\n",
       "<table border=\"1\" class=\"dataframe\">\n",
       "  <thead>\n",
       "    <tr style=\"text-align: right;\">\n",
       "      <th></th>\n",
       "      <th>index</th>\n",
       "      <th>missing_values</th>\n",
       "      <th>% of total</th>\n",
       "    </tr>\n",
       "  </thead>\n",
       "  <tbody>\n",
       "    <tr>\n",
       "      <th>0</th>\n",
       "      <td>text</td>\n",
       "      <td>0</td>\n",
       "      <td>0.00</td>\n",
       "    </tr>\n",
       "    <tr>\n",
       "      <th>1</th>\n",
       "      <td>toxic</td>\n",
       "      <td>0</td>\n",
       "      <td>0.00</td>\n",
       "    </tr>\n",
       "  </tbody>\n",
       "</table>\n",
       "</div>\n",
       "      <button class=\"colab-df-convert\" onclick=\"convertToInteractive('df-aec3183e-65b3-44b6-b0d6-7844ec408582')\"\n",
       "              title=\"Convert this dataframe to an interactive table.\"\n",
       "              style=\"display:none;\">\n",
       "        \n",
       "  <svg xmlns=\"http://www.w3.org/2000/svg\" height=\"24px\"viewBox=\"0 0 24 24\"\n",
       "       width=\"24px\">\n",
       "    <path d=\"M0 0h24v24H0V0z\" fill=\"none\"/>\n",
       "    <path d=\"M18.56 5.44l.94 2.06.94-2.06 2.06-.94-2.06-.94-.94-2.06-.94 2.06-2.06.94zm-11 1L8.5 8.5l.94-2.06 2.06-.94-2.06-.94L8.5 2.5l-.94 2.06-2.06.94zm10 10l.94 2.06.94-2.06 2.06-.94-2.06-.94-.94-2.06-.94 2.06-2.06.94z\"/><path d=\"M17.41 7.96l-1.37-1.37c-.4-.4-.92-.59-1.43-.59-.52 0-1.04.2-1.43.59L10.3 9.45l-7.72 7.72c-.78.78-.78 2.05 0 2.83L4 21.41c.39.39.9.59 1.41.59.51 0 1.02-.2 1.41-.59l7.78-7.78 2.81-2.81c.8-.78.8-2.07 0-2.86zM5.41 20L4 18.59l7.72-7.72 1.47 1.35L5.41 20z\"/>\n",
       "  </svg>\n",
       "      </button>\n",
       "      \n",
       "  <style>\n",
       "    .colab-df-container {\n",
       "      display:flex;\n",
       "      flex-wrap:wrap;\n",
       "      gap: 12px;\n",
       "    }\n",
       "\n",
       "    .colab-df-convert {\n",
       "      background-color: #E8F0FE;\n",
       "      border: none;\n",
       "      border-radius: 50%;\n",
       "      cursor: pointer;\n",
       "      display: none;\n",
       "      fill: #1967D2;\n",
       "      height: 32px;\n",
       "      padding: 0 0 0 0;\n",
       "      width: 32px;\n",
       "    }\n",
       "\n",
       "    .colab-df-convert:hover {\n",
       "      background-color: #E2EBFA;\n",
       "      box-shadow: 0px 1px 2px rgba(60, 64, 67, 0.3), 0px 1px 3px 1px rgba(60, 64, 67, 0.15);\n",
       "      fill: #174EA6;\n",
       "    }\n",
       "\n",
       "    [theme=dark] .colab-df-convert {\n",
       "      background-color: #3B4455;\n",
       "      fill: #D2E3FC;\n",
       "    }\n",
       "\n",
       "    [theme=dark] .colab-df-convert:hover {\n",
       "      background-color: #434B5C;\n",
       "      box-shadow: 0px 1px 3px 1px rgba(0, 0, 0, 0.15);\n",
       "      filter: drop-shadow(0px 1px 2px rgba(0, 0, 0, 0.3));\n",
       "      fill: #FFFFFF;\n",
       "    }\n",
       "  </style>\n",
       "\n",
       "      <script>\n",
       "        const buttonEl =\n",
       "          document.querySelector('#df-aec3183e-65b3-44b6-b0d6-7844ec408582 button.colab-df-convert');\n",
       "        buttonEl.style.display =\n",
       "          google.colab.kernel.accessAllowed ? 'block' : 'none';\n",
       "\n",
       "        async function convertToInteractive(key) {\n",
       "          const element = document.querySelector('#df-aec3183e-65b3-44b6-b0d6-7844ec408582');\n",
       "          const dataTable =\n",
       "            await google.colab.kernel.invokeFunction('convertToInteractive',\n",
       "                                                     [key], {});\n",
       "          if (!dataTable) return;\n",
       "\n",
       "          const docLinkHtml = 'Like what you see? Visit the ' +\n",
       "            '<a target=\"_blank\" href=https://colab.research.google.com/notebooks/data_table.ipynb>data table notebook</a>'\n",
       "            + ' to learn more about interactive tables.';\n",
       "          element.innerHTML = '';\n",
       "          dataTable['output_type'] = 'display_data';\n",
       "          await google.colab.output.renderOutput(dataTable, element);\n",
       "          const docLink = document.createElement('div');\n",
       "          docLink.innerHTML = docLinkHtml;\n",
       "          element.appendChild(docLink);\n",
       "        }\n",
       "      </script>\n",
       "    </div>\n",
       "  </div>\n",
       "  "
      ],
      "text/plain": [
       "   index  missing_values  % of total\n",
       "0   text               0        0.00\n",
       "1  toxic               0        0.00"
      ]
     },
     "metadata": {},
     "output_type": "display_data"
    }
   ],
   "source": [
    "l = [df]# с помощью цикла пройдемся по исследуемому датасету,выведем результаты  проверок.\n",
    "for i in l:\n",
    "    object_featur = i.shape[0:2]\n",
    "    columns = ['строк',  'столбцов'] #Объеденим полученные результаты в таблицу\n",
    "    object_featur = pd.DataFrame([object_featur], columns = columns)\n",
    "    display(\"Общая информация по датафрейму:\",object_featur,i,print(\"________________________________\"))\n",
    "    display(print(\"Типы данных:\"),i.info())# смотрим на типы даннх\n",
    "    display(\"Количество обнаруженных дубликатов:\",i.duplicated().sum())# проверим полученные таблицы на дубликаты\n",
    "    # код ниже находит и оформляет в таблицу пропущенные значения\n",
    "    report = i.isna().sum().to_frame()\n",
    "    report = report.rename(columns = {0: 'missing_values'})\n",
    "    report['% of total'] = (report['missing_values'] / i.shape[0]*100).round(2)\n",
    "    display('Пропущенных значений в таблице :',(report.sort_values(by = 'missing_values', ascending = False).reset_index()))"
   ]
  },
  {
   "cell_type": "markdown",
   "metadata": {
    "id": "kq4Ktj-xPlgZ"
   },
   "source": [
    "<div class=\"alert alert-success\">\n",
    "<b>1 Комментарий ревьюера ✔️:</b> Неплохой код для анализа данных!\n"
   ]
  },
  {
   "cell_type": "markdown",
   "metadata": {
    "id": "hpsen46oXlCU"
   },
   "source": [
    "__Посмотрим соотношение позитивных и негативных комментариев__"
   ]
  },
  {
   "cell_type": "code",
   "execution_count": 19,
   "metadata": {
    "colab": {
     "base_uri": "https://localhost:8080/"
    },
    "executionInfo": {
     "elapsed": 28,
     "status": "ok",
     "timestamp": 1653962272413,
     "user": {
      "displayName": "Илья Должанский",
      "userId": "02574470818990683130"
     },
     "user_tz": -180
    },
    "id": "mnsj0cy1XlCV",
    "outputId": "44df940a-539a-47d9-9974-232d9709ba3e"
   },
   "outputs": [
    {
     "data": {
      "text/plain": [
       "0    143346\n",
       "1     16225\n",
       "Name: toxic, dtype: int64"
      ]
     },
     "execution_count": 19,
     "metadata": {},
     "output_type": "execute_result"
    }
   ],
   "source": [
    "df['toxic'].value_counts()"
   ]
  },
  {
   "cell_type": "code",
   "execution_count": 20,
   "metadata": {
    "colab": {
     "base_uri": "https://localhost:8080/",
     "height": 393
    },
    "executionInfo": {
     "elapsed": 26,
     "status": "ok",
     "timestamp": 1653962272414,
     "user": {
      "displayName": "Илья Должанский",
      "userId": "02574470818990683130"
     },
     "user_tz": -180
    },
    "id": "dtK03KtCXlCW",
    "outputId": "fb16f168-211b-4fa0-d191-245552eb8a65"
   },
   "outputs": [
    {
     "data": {
      "image/png": "[encoded data removed]",
      "text/plain": [
       "<Figure size 432x288 with 1 Axes>"
      ]
     },
     "metadata": {},
     "output_type": "display_data"
    }
   ],
   "source": [
    "labels = 'Позитивные','Негативные'\n",
    "sizes = [143346, 16225]\n",
    "\n",
    "\n",
    "fig1, ax1 = plt.subplots()\n",
    "explode = (0, 0.1) \n",
    "ax1.pie(sizes, explode=explode,radius=2, labels=labels,autopct='%1.1f%%',\n",
    "        shadow=True, startangle=85,)\n",
    "ax1.set_title(\"                                                                                                                                                                                            Процентное соотношение токсичных и нетоксичных комментариев \")\n",
    "\n",
    "plt.show()"
   ]
  },
  {
   "cell_type": "markdown",
   "metadata": {
    "id": "e0Mr-gjAPlgb"
   },
   "source": [
    "<div class=\"alert alert-success\">\n",
    "<b>1 Комментарий ревьюера ✔️:</b> Нашёл дисбаланс в данных! Красивый пирог\n"
   ]
  },
  {
   "cell_type": "markdown",
   "metadata": {
    "id": "UkcUE1J7XlCX"
   },
   "source": [
    "__Производим лемматизацию и очистку столбца text сохраняем результат в lem_text__"
   ]
  },
  {
   "cell_type": "markdown",
   "metadata": {
    "id": "thot9bmVXlCZ"
   },
   "source": [
    "Производим лемматизацию и  очистку столбца __text__  сохраняем результат в __lem_text__ "
   ]
  },
  {
   "cell_type": "code",
   "execution_count": 21,
   "metadata": {
    "colab": {
     "base_uri": "https://localhost:8080/",
     "height": 143
    },
    "executionInfo": {
     "elapsed": 25,
     "status": "ok",
     "timestamp": 1653962272414,
     "user": {
      "displayName": "Илья Должанский",
      "userId": "02574470818990683130"
     },
     "user_tz": -180
    },
    "id": "xGpkr7Q2XlCa",
    "outputId": "6a24a9c5-c01a-48fd-c28b-4617b8d1d2d7"
   },
   "outputs": [
    {
     "data": {
      "text/html": [
       "\n",
       "  <div id=\"df-62a8743d-31a1-443e-a368-e6c4dbd933a4\">\n",
       "    <div class=\"colab-df-container\">\n",
       "      <div>\n",
       "<style scoped>\n",
       "    .dataframe tbody tr th:only-of-type {\n",
       "        vertical-align: middle;\n",
       "    }\n",
       "\n",
       "    .dataframe tbody tr th {\n",
       "        vertical-align: top;\n",
       "    }\n",
       "\n",
       "    .dataframe thead th {\n",
       "        text-align: right;\n",
       "    }\n",
       "</style>\n",
       "<table border=\"1\" class=\"dataframe\">\n",
       "  <thead>\n",
       "    <tr style=\"text-align: right;\">\n",
       "      <th></th>\n",
       "      <th>text</th>\n",
       "      <th>toxic</th>\n",
       "    </tr>\n",
       "  </thead>\n",
       "  <tbody>\n",
       "    <tr>\n",
       "      <th>0</th>\n",
       "      <td>Explanation\\nWhy the edits made under my usern...</td>\n",
       "      <td>0</td>\n",
       "    </tr>\n",
       "    <tr>\n",
       "      <th>1</th>\n",
       "      <td>D'aww! He matches this background colour I'm s...</td>\n",
       "      <td>0</td>\n",
       "    </tr>\n",
       "    <tr>\n",
       "      <th>2</th>\n",
       "      <td>Hey man, I'm really not trying to edit war. It...</td>\n",
       "      <td>0</td>\n",
       "    </tr>\n",
       "  </tbody>\n",
       "</table>\n",
       "</div>\n",
       "      <button class=\"colab-df-convert\" onclick=\"convertToInteractive('df-62a8743d-31a1-443e-a368-e6c4dbd933a4')\"\n",
       "              title=\"Convert this dataframe to an interactive table.\"\n",
       "              style=\"display:none;\">\n",
       "        \n",
       "  <svg xmlns=\"http://www.w3.org/2000/svg\" height=\"24px\"viewBox=\"0 0 24 24\"\n",
       "       width=\"24px\">\n",
       "    <path d=\"M0 0h24v24H0V0z\" fill=\"none\"/>\n",
       "    <path d=\"M18.56 5.44l.94 2.06.94-2.06 2.06-.94-2.06-.94-.94-2.06-.94 2.06-2.06.94zm-11 1L8.5 8.5l.94-2.06 2.06-.94-2.06-.94L8.5 2.5l-.94 2.06-2.06.94zm10 10l.94 2.06.94-2.06 2.06-.94-2.06-.94-.94-2.06-.94 2.06-2.06.94z\"/><path d=\"M17.41 7.96l-1.37-1.37c-.4-.4-.92-.59-1.43-.59-.52 0-1.04.2-1.43.59L10.3 9.45l-7.72 7.72c-.78.78-.78 2.05 0 2.83L4 21.41c.39.39.9.59 1.41.59.51 0 1.02-.2 1.41-.59l7.78-7.78 2.81-2.81c.8-.78.8-2.07 0-2.86zM5.41 20L4 18.59l7.72-7.72 1.47 1.35L5.41 20z\"/>\n",
       "  </svg>\n",
       "      </button>\n",
       "      \n",
       "  <style>\n",
       "    .colab-df-container {\n",
       "      display:flex;\n",
       "      flex-wrap:wrap;\n",
       "      gap: 12px;\n",
       "    }\n",
       "\n",
       "    .colab-df-convert {\n",
       "      background-color: #E8F0FE;\n",
       "      border: none;\n",
       "      border-radius: 50%;\n",
       "      cursor: pointer;\n",
       "      display: none;\n",
       "      fill: #1967D2;\n",
       "      height: 32px;\n",
       "      padding: 0 0 0 0;\n",
       "      width: 32px;\n",
       "    }\n",
       "\n",
       "    .colab-df-convert:hover {\n",
       "      background-color: #E2EBFA;\n",
       "      box-shadow: 0px 1px 2px rgba(60, 64, 67, 0.3), 0px 1px 3px 1px rgba(60, 64, 67, 0.15);\n",
       "      fill: #174EA6;\n",
       "    }\n",
       "\n",
       "    [theme=dark] .colab-df-convert {\n",
       "      background-color: #3B4455;\n",
       "      fill: #D2E3FC;\n",
       "    }\n",
       "\n",
       "    [theme=dark] .colab-df-convert:hover {\n",
       "      background-color: #434B5C;\n",
       "      box-shadow: 0px 1px 3px 1px rgba(0, 0, 0, 0.15);\n",
       "      filter: drop-shadow(0px 1px 2px rgba(0, 0, 0, 0.3));\n",
       "      fill: #FFFFFF;\n",
       "    }\n",
       "  </style>\n",
       "\n",
       "      <script>\n",
       "        const buttonEl =\n",
       "          document.querySelector('#df-62a8743d-31a1-443e-a368-e6c4dbd933a4 button.colab-df-convert');\n",
       "        buttonEl.style.display =\n",
       "          google.colab.kernel.accessAllowed ? 'block' : 'none';\n",
       "\n",
       "        async function convertToInteractive(key) {\n",
       "          const element = document.querySelector('#df-62a8743d-31a1-443e-a368-e6c4dbd933a4');\n",
       "          const dataTable =\n",
       "            await google.colab.kernel.invokeFunction('convertToInteractive',\n",
       "                                                     [key], {});\n",
       "          if (!dataTable) return;\n",
       "\n",
       "          const docLinkHtml = 'Like what you see? Visit the ' +\n",
       "            '<a target=\"_blank\" href=https://colab.research.google.com/notebooks/data_table.ipynb>data table notebook</a>'\n",
       "            + ' to learn more about interactive tables.';\n",
       "          element.innerHTML = '';\n",
       "          dataTable['output_type'] = 'display_data';\n",
       "          await google.colab.output.renderOutput(dataTable, element);\n",
       "          const docLink = document.createElement('div');\n",
       "          docLink.innerHTML = docLinkHtml;\n",
       "          element.appendChild(docLink);\n",
       "        }\n",
       "      </script>\n",
       "    </div>\n",
       "  </div>\n",
       "  "
      ],
      "text/plain": [
       "                                                text  toxic\n",
       "0  Explanation\\nWhy the edits made under my usern...      0\n",
       "1  D'aww! He matches this background colour I'm s...      0\n",
       "2  Hey man, I'm really not trying to edit war. It...      0"
      ]
     },
     "execution_count": 21,
     "metadata": {},
     "output_type": "execute_result"
    }
   ],
   "source": [
    "df.head(3)"
   ]
  },
  {
   "cell_type": "code",
   "execution_count": 22,
   "metadata": {
    "colab": {
     "base_uri": "https://localhost:8080/",
     "height": 423
    },
    "executionInfo": {
     "elapsed": 25,
     "status": "ok",
     "timestamp": 1653962272415,
     "user": {
      "displayName": "Илья Должанский",
      "userId": "02574470818990683130"
     },
     "user_tz": -180
    },
    "id": "T4ZsqY_GPlgc",
    "outputId": "6cea40c8-dff3-447b-8f54-0e56c041785d"
   },
   "outputs": [
    {
     "data": {
      "text/html": [
       "\n",
       "  <div id=\"df-41781bd8-7021-44bc-bb72-1dbb7fef9099\">\n",
       "    <div class=\"colab-df-container\">\n",
       "      <div>\n",
       "<style scoped>\n",
       "    .dataframe tbody tr th:only-of-type {\n",
       "        vertical-align: middle;\n",
       "    }\n",
       "\n",
       "    .dataframe tbody tr th {\n",
       "        vertical-align: top;\n",
       "    }\n",
       "\n",
       "    .dataframe thead th {\n",
       "        text-align: right;\n",
       "    }\n",
       "</style>\n",
       "<table border=\"1\" class=\"dataframe\">\n",
       "  <thead>\n",
       "    <tr style=\"text-align: right;\">\n",
       "      <th></th>\n",
       "      <th>text</th>\n",
       "      <th>toxic</th>\n",
       "    </tr>\n",
       "  </thead>\n",
       "  <tbody>\n",
       "    <tr>\n",
       "      <th>0</th>\n",
       "      <td>Explanation\\nWhy the edits made under my usern...</td>\n",
       "      <td>0</td>\n",
       "    </tr>\n",
       "    <tr>\n",
       "      <th>1</th>\n",
       "      <td>D'aww! He matches this background colour I'm s...</td>\n",
       "      <td>0</td>\n",
       "    </tr>\n",
       "    <tr>\n",
       "      <th>2</th>\n",
       "      <td>Hey man, I'm really not trying to edit war. It...</td>\n",
       "      <td>0</td>\n",
       "    </tr>\n",
       "    <tr>\n",
       "      <th>3</th>\n",
       "      <td>\"\\nMore\\nI can't make any real suggestions on ...</td>\n",
       "      <td>0</td>\n",
       "    </tr>\n",
       "    <tr>\n",
       "      <th>4</th>\n",
       "      <td>You, sir, are my hero. Any chance you remember...</td>\n",
       "      <td>0</td>\n",
       "    </tr>\n",
       "    <tr>\n",
       "      <th>...</th>\n",
       "      <td>...</td>\n",
       "      <td>...</td>\n",
       "    </tr>\n",
       "    <tr>\n",
       "      <th>159566</th>\n",
       "      <td>\":::::And for the second time of asking, when ...</td>\n",
       "      <td>0</td>\n",
       "    </tr>\n",
       "    <tr>\n",
       "      <th>159567</th>\n",
       "      <td>You should be ashamed of yourself \\n\\nThat is ...</td>\n",
       "      <td>0</td>\n",
       "    </tr>\n",
       "    <tr>\n",
       "      <th>159568</th>\n",
       "      <td>Spitzer \\n\\nUmm, theres no actual article for ...</td>\n",
       "      <td>0</td>\n",
       "    </tr>\n",
       "    <tr>\n",
       "      <th>159569</th>\n",
       "      <td>And it looks like it was actually you who put ...</td>\n",
       "      <td>0</td>\n",
       "    </tr>\n",
       "    <tr>\n",
       "      <th>159570</th>\n",
       "      <td>\"\\nAnd ... I really don't think you understand...</td>\n",
       "      <td>0</td>\n",
       "    </tr>\n",
       "  </tbody>\n",
       "</table>\n",
       "<p>159571 rows × 2 columns</p>\n",
       "</div>\n",
       "      <button class=\"colab-df-convert\" onclick=\"convertToInteractive('df-41781bd8-7021-44bc-bb72-1dbb7fef9099')\"\n",
       "              title=\"Convert this dataframe to an interactive table.\"\n",
       "              style=\"display:none;\">\n",
       "        \n",
       "  <svg xmlns=\"http://www.w3.org/2000/svg\" height=\"24px\"viewBox=\"0 0 24 24\"\n",
       "       width=\"24px\">\n",
       "    <path d=\"M0 0h24v24H0V0z\" fill=\"none\"/>\n",
       "    <path d=\"M18.56 5.44l.94 2.06.94-2.06 2.06-.94-2.06-.94-.94-2.06-.94 2.06-2.06.94zm-11 1L8.5 8.5l.94-2.06 2.06-.94-2.06-.94L8.5 2.5l-.94 2.06-2.06.94zm10 10l.94 2.06.94-2.06 2.06-.94-2.06-.94-.94-2.06-.94 2.06-2.06.94z\"/><path d=\"M17.41 7.96l-1.37-1.37c-.4-.4-.92-.59-1.43-.59-.52 0-1.04.2-1.43.59L10.3 9.45l-7.72 7.72c-.78.78-.78 2.05 0 2.83L4 21.41c.39.39.9.59 1.41.59.51 0 1.02-.2 1.41-.59l7.78-7.78 2.81-2.81c.8-.78.8-2.07 0-2.86zM5.41 20L4 18.59l7.72-7.72 1.47 1.35L5.41 20z\"/>\n",
       "  </svg>\n",
       "      </button>\n",
       "      \n",
       "  <style>\n",
       "    .colab-df-container {\n",
       "      display:flex;\n",
       "      flex-wrap:wrap;\n",
       "      gap: 12px;\n",
       "    }\n",
       "\n",
       "    .colab-df-convert {\n",
       "      background-color: #E8F0FE;\n",
       "      border: none;\n",
       "      border-radius: 50%;\n",
       "      cursor: pointer;\n",
       "      display: none;\n",
       "      fill: #1967D2;\n",
       "      height: 32px;\n",
       "      padding: 0 0 0 0;\n",
       "      width: 32px;\n",
       "    }\n",
       "\n",
       "    .colab-df-convert:hover {\n",
       "      background-color: #E2EBFA;\n",
       "      box-shadow: 0px 1px 2px rgba(60, 64, 67, 0.3), 0px 1px 3px 1px rgba(60, 64, 67, 0.15);\n",
       "      fill: #174EA6;\n",
       "    }\n",
       "\n",
       "    [theme=dark] .colab-df-convert {\n",
       "      background-color: #3B4455;\n",
       "      fill: #D2E3FC;\n",
       "    }\n",
       "\n",
       "    [theme=dark] .colab-df-convert:hover {\n",
       "      background-color: #434B5C;\n",
       "      box-shadow: 0px 1px 3px 1px rgba(0, 0, 0, 0.15);\n",
       "      filter: drop-shadow(0px 1px 2px rgba(0, 0, 0, 0.3));\n",
       "      fill: #FFFFFF;\n",
       "    }\n",
       "  </style>\n",
       "\n",
       "      <script>\n",
       "        const buttonEl =\n",
       "          document.querySelector('#df-41781bd8-7021-44bc-bb72-1dbb7fef9099 button.colab-df-convert');\n",
       "        buttonEl.style.display =\n",
       "          google.colab.kernel.accessAllowed ? 'block' : 'none';\n",
       "\n",
       "        async function convertToInteractive(key) {\n",
       "          const element = document.querySelector('#df-41781bd8-7021-44bc-bb72-1dbb7fef9099');\n",
       "          const dataTable =\n",
       "            await google.colab.kernel.invokeFunction('convertToInteractive',\n",
       "                                                     [key], {});\n",
       "          if (!dataTable) return;\n",
       "\n",
       "          const docLinkHtml = 'Like what you see? Visit the ' +\n",
       "            '<a target=\"_blank\" href=https://colab.research.google.com/notebooks/data_table.ipynb>data table notebook</a>'\n",
       "            + ' to learn more about interactive tables.';\n",
       "          element.innerHTML = '';\n",
       "          dataTable['output_type'] = 'display_data';\n",
       "          await google.colab.output.renderOutput(dataTable, element);\n",
       "          const docLink = document.createElement('div');\n",
       "          docLink.innerHTML = docLinkHtml;\n",
       "          element.appendChild(docLink);\n",
       "        }\n",
       "      </script>\n",
       "    </div>\n",
       "  </div>\n",
       "  "
      ],
      "text/plain": [
       "                                                     text  toxic\n",
       "0       Explanation\\nWhy the edits made under my usern...      0\n",
       "1       D'aww! He matches this background colour I'm s...      0\n",
       "2       Hey man, I'm really not trying to edit war. It...      0\n",
       "3       \"\\nMore\\nI can't make any real suggestions on ...      0\n",
       "4       You, sir, are my hero. Any chance you remember...      0\n",
       "...                                                   ...    ...\n",
       "159566  \":::::And for the second time of asking, when ...      0\n",
       "159567  You should be ashamed of yourself \\n\\nThat is ...      0\n",
       "159568  Spitzer \\n\\nUmm, theres no actual article for ...      0\n",
       "159569  And it looks like it was actually you who put ...      0\n",
       "159570  \"\\nAnd ... I really don't think you understand...      0\n",
       "\n",
       "[159571 rows x 2 columns]"
      ]
     },
     "execution_count": 22,
     "metadata": {},
     "output_type": "execute_result"
    }
   ],
   "source": [
    "df"
   ]
  },
  {
   "cell_type": "markdown",
   "metadata": {
    "id": "eUtZeu-yPlgd"
   },
   "source": [
    "Создадим функции __lemmatize()__ и __clear_text()__ при помощи которых лематизируем и очистим строки с текстом"
   ]
  },
  {
   "cell_type": "raw",
   "metadata": {
    "executionInfo": {
     "elapsed": 2538,
     "status": "ok",
     "timestamp": 1653744218176,
     "user": {
      "displayName": "Илья Должанский",
      "userId": "02574470818990683130"
     },
     "user_tz": -180
    },
    "id": "9Zv1_wslXlCb"
   },
   "source": [
    "%%script false # Пропустить выполнение ячейки\n",
    "corpus = df['text'].values.astype('U')\n",
    "corpus = list(df['text'])\n",
    "def lemmatize(text):\n",
    "    lemmatizer = WordNetLemmatizer()\n",
    "    lemm_list = lemmatizer.lemmatize(text)\n",
    "    lemm_text = \"\".join(lemm_list)\n",
    "    return lemm_text"
   ]
  },
  {
   "cell_type": "markdown",
   "metadata": {
    "id": "zQEYyF0nPlgf"
   },
   "source": [
    "\n",
    "<div class=\"alert alert-danger\">\n",
    "<b>1 Комментарий ревьюера ❌:</b> Давай заметим, что текст у нас на английском языке, поэтому приведение к unicode не только не нужно, но и будет занимать больше памяти </div>\n",
    "\n",
    "<div class=\"alert alert-danger\">\n",
    "<b>1 Комментарий ревьюера ❌:</b> Попробуй запустить лемматизатор для 'goes' и 'goes goes'. Одинаковый ли результат? Стоит применять лемматизатор к словам </div>\n"
   ]
  },
  {
   "cell_type": "raw",
   "metadata": {
    "executionInfo": {
     "elapsed": 26,
     "status": "ok",
     "timestamp": 1653744218178,
     "user": {
      "displayName": "Илья Должанский",
      "userId": "02574470818990683130"
     },
     "user_tz": -180
    },
    "id": "OHwt3-sOXlCc"
   },
   "source": [
    "def clear_text(text,yazik):\n",
    "    if yazik == 'rus':\n",
    "        text = re.sub(r'[^а-яА-ЯёЁ ]', ' ', text)# < напишите код здесь >\n",
    "    if yazik == 'lat':\n",
    "        text = re.sub(r'[^a-zA-Z ]', ' ', text)# < напишите код здесь >\n",
    "    text = \" \".join(text.split())# text.split создаем список без лиш пробел, .join объединякм список в упоряюоченный текст\n",
    "    return text"
   ]
  },
  {
   "cell_type": "markdown",
   "metadata": {
    "id": "r6aDjvAYPlgg"
   },
   "source": [
    "<div class=\"alert alert-success\">\n",
    "<b>1 Комментарий ревьюера ✔️:</b> Крутая функция для очистки русского и английского текста!\n"
   ]
  },
  {
   "cell_type": "raw",
   "metadata": {
    "executionInfo": {
     "elapsed": 1892,
     "status": "ok",
     "timestamp": 1653744220049,
     "user": {
      "displayName": "Илья Должанский",
      "userId": "02574470818990683130"
     },
     "user_tz": -180
    },
    "id": "l6ScP6TwXlCc",
    "outputId": "b5c5e104-cfa5-4203-dce4-fdf9af0ccfe4"
   },
   "source": [
    "# потестируем работу функций по очистке и лематизации\n",
    "\n",
    "cor = corpus[0]# выбираем строку для обработки \n",
    "\n",
    "print(\"Исходный текст:\", '\\n', cor)\n",
    "print()\n",
    "print(\"Очищенный и лемматизированный текст:\",'\\n', lemmatize(clear_text(cor,'lat')))"
   ]
  },
  {
   "cell_type": "markdown",
   "metadata": {
    "id": "OsVFTocAPlgh"
   },
   "source": [
    "Вызовем функции для обработки текcта, результат обработанных строк сохраним в столбец __lem_text__"
   ]
  },
  {
   "cell_type": "raw",
   "metadata": {
    "executionInfo": {
     "elapsed": 4309,
     "status": "ok",
     "timestamp": 1653744224345,
     "user": {
      "displayName": "Илья Должанский",
      "userId": "02574470818990683130"
     },
     "user_tz": -180
    },
    "id": "Gb9MMDSfXlCd",
    "outputId": "fa2aae8a-e8cf-4187-b3a5-ed367b66a741"
   },
   "source": [
    "%%time\n",
    "df['lem_text'] = df['text'].map(lambda x: lemmatize(clear_text(x,'lat')))"
   ]
  },
  {
   "cell_type": "code",
   "execution_count": 23,
   "metadata": {
    "colab": {
     "base_uri": "https://localhost:8080/",
     "height": 206
    },
    "executionInfo": {
     "elapsed": 25,
     "status": "ok",
     "timestamp": 1653962272416,
     "user": {
      "displayName": "Илья Должанский",
      "userId": "02574470818990683130"
     },
     "user_tz": -180
    },
    "id": "CL9qPHoyXlCe",
    "outputId": "44a7b607-02bf-4077-bc93-12d40bb3d7e7"
   },
   "outputs": [
    {
     "data": {
      "text/html": [
       "\n",
       "  <div id=\"df-ce25932b-e0a0-4901-a28b-cd367b21ea02\">\n",
       "    <div class=\"colab-df-container\">\n",
       "      <div>\n",
       "<style scoped>\n",
       "    .dataframe tbody tr th:only-of-type {\n",
       "        vertical-align: middle;\n",
       "    }\n",
       "\n",
       "    .dataframe tbody tr th {\n",
       "        vertical-align: top;\n",
       "    }\n",
       "\n",
       "    .dataframe thead th {\n",
       "        text-align: right;\n",
       "    }\n",
       "</style>\n",
       "<table border=\"1\" class=\"dataframe\">\n",
       "  <thead>\n",
       "    <tr style=\"text-align: right;\">\n",
       "      <th></th>\n",
       "      <th>text</th>\n",
       "      <th>toxic</th>\n",
       "    </tr>\n",
       "  </thead>\n",
       "  <tbody>\n",
       "    <tr>\n",
       "      <th>0</th>\n",
       "      <td>Explanation\\nWhy the edits made under my usern...</td>\n",
       "      <td>0</td>\n",
       "    </tr>\n",
       "    <tr>\n",
       "      <th>1</th>\n",
       "      <td>D'aww! He matches this background colour I'm s...</td>\n",
       "      <td>0</td>\n",
       "    </tr>\n",
       "    <tr>\n",
       "      <th>2</th>\n",
       "      <td>Hey man, I'm really not trying to edit war. It...</td>\n",
       "      <td>0</td>\n",
       "    </tr>\n",
       "    <tr>\n",
       "      <th>3</th>\n",
       "      <td>\"\\nMore\\nI can't make any real suggestions on ...</td>\n",
       "      <td>0</td>\n",
       "    </tr>\n",
       "    <tr>\n",
       "      <th>4</th>\n",
       "      <td>You, sir, are my hero. Any chance you remember...</td>\n",
       "      <td>0</td>\n",
       "    </tr>\n",
       "  </tbody>\n",
       "</table>\n",
       "</div>\n",
       "      <button class=\"colab-df-convert\" onclick=\"convertToInteractive('df-ce25932b-e0a0-4901-a28b-cd367b21ea02')\"\n",
       "              title=\"Convert this dataframe to an interactive table.\"\n",
       "              style=\"display:none;\">\n",
       "        \n",
       "  <svg xmlns=\"http://www.w3.org/2000/svg\" height=\"24px\"viewBox=\"0 0 24 24\"\n",
       "       width=\"24px\">\n",
       "    <path d=\"M0 0h24v24H0V0z\" fill=\"none\"/>\n",
       "    <path d=\"M18.56 5.44l.94 2.06.94-2.06 2.06-.94-2.06-.94-.94-2.06-.94 2.06-2.06.94zm-11 1L8.5 8.5l.94-2.06 2.06-.94-2.06-.94L8.5 2.5l-.94 2.06-2.06.94zm10 10l.94 2.06.94-2.06 2.06-.94-2.06-.94-.94-2.06-.94 2.06-2.06.94z\"/><path d=\"M17.41 7.96l-1.37-1.37c-.4-.4-.92-.59-1.43-.59-.52 0-1.04.2-1.43.59L10.3 9.45l-7.72 7.72c-.78.78-.78 2.05 0 2.83L4 21.41c.39.39.9.59 1.41.59.51 0 1.02-.2 1.41-.59l7.78-7.78 2.81-2.81c.8-.78.8-2.07 0-2.86zM5.41 20L4 18.59l7.72-7.72 1.47 1.35L5.41 20z\"/>\n",
       "  </svg>\n",
       "      </button>\n",
       "      \n",
       "  <style>\n",
       "    .colab-df-container {\n",
       "      display:flex;\n",
       "      flex-wrap:wrap;\n",
       "      gap: 12px;\n",
       "    }\n",
       "\n",
       "    .colab-df-convert {\n",
       "      background-color: #E8F0FE;\n",
       "      border: none;\n",
       "      border-radius: 50%;\n",
       "      cursor: pointer;\n",
       "      display: none;\n",
       "      fill: #1967D2;\n",
       "      height: 32px;\n",
       "      padding: 0 0 0 0;\n",
       "      width: 32px;\n",
       "    }\n",
       "\n",
       "    .colab-df-convert:hover {\n",
       "      background-color: #E2EBFA;\n",
       "      box-shadow: 0px 1px 2px rgba(60, 64, 67, 0.3), 0px 1px 3px 1px rgba(60, 64, 67, 0.15);\n",
       "      fill: #174EA6;\n",
       "    }\n",
       "\n",
       "    [theme=dark] .colab-df-convert {\n",
       "      background-color: #3B4455;\n",
       "      fill: #D2E3FC;\n",
       "    }\n",
       "\n",
       "    [theme=dark] .colab-df-convert:hover {\n",
       "      background-color: #434B5C;\n",
       "      box-shadow: 0px 1px 3px 1px rgba(0, 0, 0, 0.15);\n",
       "      filter: drop-shadow(0px 1px 2px rgba(0, 0, 0, 0.3));\n",
       "      fill: #FFFFFF;\n",
       "    }\n",
       "  </style>\n",
       "\n",
       "      <script>\n",
       "        const buttonEl =\n",
       "          document.querySelector('#df-ce25932b-e0a0-4901-a28b-cd367b21ea02 button.colab-df-convert');\n",
       "        buttonEl.style.display =\n",
       "          google.colab.kernel.accessAllowed ? 'block' : 'none';\n",
       "\n",
       "        async function convertToInteractive(key) {\n",
       "          const element = document.querySelector('#df-ce25932b-e0a0-4901-a28b-cd367b21ea02');\n",
       "          const dataTable =\n",
       "            await google.colab.kernel.invokeFunction('convertToInteractive',\n",
       "                                                     [key], {});\n",
       "          if (!dataTable) return;\n",
       "\n",
       "          const docLinkHtml = 'Like what you see? Visit the ' +\n",
       "            '<a target=\"_blank\" href=https://colab.research.google.com/notebooks/data_table.ipynb>data table notebook</a>'\n",
       "            + ' to learn more about interactive tables.';\n",
       "          element.innerHTML = '';\n",
       "          dataTable['output_type'] = 'display_data';\n",
       "          await google.colab.output.renderOutput(dataTable, element);\n",
       "          const docLink = document.createElement('div');\n",
       "          docLink.innerHTML = docLinkHtml;\n",
       "          element.appendChild(docLink);\n",
       "        }\n",
       "      </script>\n",
       "    </div>\n",
       "  </div>\n",
       "  "
      ],
      "text/plain": [
       "                                                text  toxic\n",
       "0  Explanation\\nWhy the edits made under my usern...      0\n",
       "1  D'aww! He matches this background colour I'm s...      0\n",
       "2  Hey man, I'm really not trying to edit war. It...      0\n",
       "3  \"\\nMore\\nI can't make any real suggestions on ...      0\n",
       "4  You, sir, are my hero. Any chance you remember...      0"
      ]
     },
     "execution_count": 23,
     "metadata": {},
     "output_type": "execute_result"
    }
   ],
   "source": [
    "df.head()"
   ]
  },
  {
   "cell_type": "code",
   "execution_count": 24,
   "metadata": {
    "colab": {
     "base_uri": "https://localhost:8080/"
    },
    "executionInfo": {
     "elapsed": 26,
     "status": "ok",
     "timestamp": 1653962272418,
     "user": {
      "displayName": "Илья Должанский",
      "userId": "02574470818990683130"
     },
     "user_tz": -180
    },
    "id": "XEfgsPDrXlCf",
    "outputId": "4f0200d4-74fa-4dc6-d88e-7455f74570ce"
   },
   "outputs": [
    {
     "name": "stdout",
     "output_type": "stream",
     "text": [
      "<class 'pandas.core.frame.DataFrame'>\n",
      "RangeIndex: 159571 entries, 0 to 159570\n",
      "Data columns (total 2 columns):\n",
      " #   Column  Non-Null Count   Dtype \n",
      "---  ------  --------------   ----- \n",
      " 0   text    159571 non-null  object\n",
      " 1   toxic   159571 non-null  int64 \n",
      "dtypes: int64(1), object(1)\n",
      "memory usage: 2.4+ MB\n"
     ]
    }
   ],
   "source": [
    "df.info()"
   ]
  },
  {
   "cell_type": "markdown",
   "metadata": {
    "id": "20BzBbJePlgi"
   },
   "source": [
    "<div style=\"border:solid light blue 1px; padding: 1px\">\n",
    "<div class=\"alert alert-info\">\n",
    "<b>Комментарий студента:</b>\n",
    "    \n",
    "Добавил после замечания ревьювера. Предыдущий, ошибочный код, был задокументирован.<br>\n",
    "__Начало:__    \n",
    "</div>"
   ]
  },
  {
   "cell_type": "markdown",
   "metadata": {
    "id": "r6aDjvAYPlgg"
   },
   "source": [
    "<div class=\"alert alert-success\">\n",
    "<b>2 Комментарий ревьюера ✔️:</b> Проверил лемматизатор в колабе. Круто, что ты так его переделал\n"
   ]
  },
  {
   "cell_type": "markdown",
   "metadata": {
    "id": "E9VGjY-BPlgj"
   },
   "source": [
    "__Импортируем необходимые библиотеки для лемматизатора  Pattern Lemmatizer__"
   ]
  },
  {
   "cell_type": "code",
   "execution_count": 2,
   "metadata": {
    "colab": {
     "base_uri": "https://localhost:8080/"
    },
    "executionInfo": {
     "elapsed": 24686,
     "status": "ok",
     "timestamp": 1653962297085,
     "user": {
      "displayName": "Илья Должанский",
      "userId": "02574470818990683130"
     },
     "user_tz": -180
    },
    "id": "rNrCgeZjPlgj",
    "outputId": "51466986-71ec-4f2e-ec87-d9b98790dd75",
    "scrolled": true
   },
   "outputs": [
    {
     "name": "stdout",
     "output_type": "stream",
     "text": [
      "Collecting pattern\n",
      "  Downloading Pattern-3.6.0.tar.gz (22.2 MB)\n",
      "     |████████████████████████████████| 22.2 MB 1.3 MB/s            \n",
      "\u001b[?25h  Preparing metadata (setup.py) ... \u001b[?25ldone\n",
      "\u001b[?25hCollecting future\n",
      "  Downloading future-0.18.2.tar.gz (829 kB)\n",
      "     |████████████████████████████████| 829 kB 14.4 MB/s            \n",
      "\u001b[?25h  Preparing metadata (setup.py) ... \u001b[?25ldone\n",
      "\u001b[?25hCollecting backports.csv\n",
      "  Downloading backports.csv-1.0.7-py2.py3-none-any.whl (12 kB)\n",
      "Collecting mysqlclient\n",
      "  Downloading mysqlclient-2.1.0.tar.gz (87 kB)\n",
      "     |████████████████████████████████| 87 kB 3.1 MB/s             \n",
      "\u001b[?25h  Preparing metadata (setup.py) ... \u001b[?25lerror\n",
      "\u001b[31m  ERROR: Command errored out with exit status 1:\n",
      "   command: /opt/conda/bin/python3.9 -c 'import io, os, sys, setuptools, tokenize; sys.argv[0] = '\"'\"'/tmp/pip-install-s2q7ic75/mysqlclient_287b8854b9874a5a8997eb30dc483876/setup.py'\"'\"'; __file__='\"'\"'/tmp/pip-install-s2q7ic75/mysqlclient_287b8854b9874a5a8997eb30dc483876/setup.py'\"'\"';f = getattr(tokenize, '\"'\"'open'\"'\"', open)(__file__) if os.path.exists(__file__) else io.StringIO('\"'\"'from setuptools import setup; setup()'\"'\"');code = f.read().replace('\"'\"'\\r\\n'\"'\"', '\"'\"'\\n'\"'\"');f.close();exec(compile(code, __file__, '\"'\"'exec'\"'\"'))' egg_info --egg-base /tmp/pip-pip-egg-info-fs7839nu\n",
      "       cwd: /tmp/pip-install-s2q7ic75/mysqlclient_287b8854b9874a5a8997eb30dc483876/\n",
      "  Complete output (15 lines):\n",
      "  /bin/sh: 1: mysql_config: not found\n",
      "  /bin/sh: 1: mariadb_config: not found\n",
      "  /bin/sh: 1: mysql_config: not found\n",
      "  Traceback (most recent call last):\n",
      "    File \"<string>\", line 1, in <module>\n",
      "    File \"/tmp/pip-install-s2q7ic75/mysqlclient_287b8854b9874a5a8997eb30dc483876/setup.py\", line 15, in <module>\n",
      "      metadata, options = get_config()\n",
      "    File \"/tmp/pip-install-s2q7ic75/mysqlclient_287b8854b9874a5a8997eb30dc483876/setup_posix.py\", line 70, in get_config\n",
      "      libs = mysql_config(\"libs\")\n",
      "    File \"/tmp/pip-install-s2q7ic75/mysqlclient_287b8854b9874a5a8997eb30dc483876/setup_posix.py\", line 31, in mysql_config\n",
      "      raise OSError(\"{} not found\".format(_mysql_config_path))\n",
      "  OSError: mysql_config not found\n",
      "  mysql_config --version\n",
      "  mariadb_config --version\n",
      "  mysql_config --libs\n",
      "  ----------------------------------------\u001b[0m\n",
      "\u001b[33mWARNING: Discarding https://files.pythonhosted.org/packages/de/79/d02be3cb942afda6c99ca207858847572e38146eb73a7c4bfe3bdf154626/mysqlclient-2.1.0.tar.gz#sha256=973235686f1b720536d417bf0a0d39b4ab3d5086b2b6ad5e6752393428c02b12 (from https://pypi.org/simple/mysqlclient/) (requires-python:>=3.5). Command errored out with exit status 1: python setup.py egg_info Check the logs for full command output.\u001b[0m\n",
      "\u001b[?25h  Downloading mysqlclient-2.0.3.tar.gz (88 kB)\n",
      "     |████████████████████████████████| 88 kB 7.2 MB/s             \n",
      "\u001b[?25h  Preparing metadata (setup.py) ... \u001b[?25lerror\n",
      "\u001b[31m  ERROR: Command errored out with exit status 1:\n",
      "   command: /opt/conda/bin/python3.9 -c 'import io, os, sys, setuptools, tokenize; sys.argv[0] = '\"'\"'/tmp/pip-install-s2q7ic75/mysqlclient_654f059df5da4472877620bdfba8602b/setup.py'\"'\"'; __file__='\"'\"'/tmp/pip-install-s2q7ic75/mysqlclient_654f059df5da4472877620bdfba8602b/setup.py'\"'\"';f = getattr(tokenize, '\"'\"'open'\"'\"', open)(__file__) if os.path.exists(__file__) else io.StringIO('\"'\"'from setuptools import setup; setup()'\"'\"');code = f.read().replace('\"'\"'\\r\\n'\"'\"', '\"'\"'\\n'\"'\"');f.close();exec(compile(code, __file__, '\"'\"'exec'\"'\"'))' egg_info --egg-base /tmp/pip-pip-egg-info-pnuqxewy\n",
      "       cwd: /tmp/pip-install-s2q7ic75/mysqlclient_654f059df5da4472877620bdfba8602b/\n",
      "  Complete output (15 lines):\n",
      "  /bin/sh: 1: mysql_config: not found\n",
      "  /bin/sh: 1: mariadb_config: not found\n",
      "  /bin/sh: 1: mysql_config: not found\n",
      "  Traceback (most recent call last):\n",
      "    File \"<string>\", line 1, in <module>\n",
      "    File \"/tmp/pip-install-s2q7ic75/mysqlclient_654f059df5da4472877620bdfba8602b/setup.py\", line 15, in <module>\n",
      "      metadata, options = get_config()\n",
      "    File \"/tmp/pip-install-s2q7ic75/mysqlclient_654f059df5da4472877620bdfba8602b/setup_posix.py\", line 70, in get_config\n",
      "      libs = mysql_config(\"libs\")\n",
      "    File \"/tmp/pip-install-s2q7ic75/mysqlclient_654f059df5da4472877620bdfba8602b/setup_posix.py\", line 31, in mysql_config\n",
      "      raise OSError(\"{} not found\".format(_mysql_config_path))\n",
      "  OSError: mysql_config not found\n",
      "  mysql_config --version\n",
      "  mariadb_config --version\n",
      "  mysql_config --libs\n",
      "  ----------------------------------------\u001b[0m\n",
      "\u001b[33mWARNING: Discarding https://files.pythonhosted.org/packages/3c/df/59cd2fa5e48d0804d213bdcb1acb4d08c403b61c7ff7ed4dd4a6a2deb3f7/mysqlclient-2.0.3.tar.gz#sha256=f6ebea7c008f155baeefe16c56cd3ee6239f7a5a9ae42396c2f1860f08a7c432 (from https://pypi.org/simple/mysqlclient/) (requires-python:>=3.5). Command errored out with exit status 1: python setup.py egg_info Check the logs for full command output.\u001b[0m\n",
      "\u001b[?25h  Downloading mysqlclient-2.0.2.tar.gz (88 kB)\n",
      "     |████████████████████████████████| 88 kB 4.7 MB/s             \n",
      "\u001b[?25h  Preparing metadata (setup.py) ... \u001b[?25lerror\n",
      "\u001b[31m  ERROR: Command errored out with exit status 1:\n",
      "   command: /opt/conda/bin/python3.9 -c 'import io, os, sys, setuptools, tokenize; sys.argv[0] = '\"'\"'/tmp/pip-install-s2q7ic75/mysqlclient_706f581e0bb04e599bc544d21a61777f/setup.py'\"'\"'; __file__='\"'\"'/tmp/pip-install-s2q7ic75/mysqlclient_706f581e0bb04e599bc544d21a61777f/setup.py'\"'\"';f = getattr(tokenize, '\"'\"'open'\"'\"', open)(__file__) if os.path.exists(__file__) else io.StringIO('\"'\"'from setuptools import setup; setup()'\"'\"');code = f.read().replace('\"'\"'\\r\\n'\"'\"', '\"'\"'\\n'\"'\"');f.close();exec(compile(code, __file__, '\"'\"'exec'\"'\"'))' egg_info --egg-base /tmp/pip-pip-egg-info-sy3vgzv9\n",
      "       cwd: /tmp/pip-install-s2q7ic75/mysqlclient_706f581e0bb04e599bc544d21a61777f/\n",
      "  Complete output (12 lines):\n",
      "  /bin/sh: 1: mysql_config: not found\n",
      "  /bin/sh: 1: mariadb_config: not found\n",
      "  /bin/sh: 1: mysql_config: not found\n",
      "  Traceback (most recent call last):\n",
      "    File \"<string>\", line 1, in <module>\n",
      "    File \"/tmp/pip-install-s2q7ic75/mysqlclient_706f581e0bb04e599bc544d21a61777f/setup.py\", line 15, in <module>\n",
      "      metadata, options = get_config()\n",
      "    File \"/tmp/pip-install-s2q7ic75/mysqlclient_706f581e0bb04e599bc544d21a61777f/setup_posix.py\", line 65, in get_config\n",
      "      libs = mysql_config(\"libs\")\n",
      "    File \"/tmp/pip-install-s2q7ic75/mysqlclient_706f581e0bb04e599bc544d21a61777f/setup_posix.py\", line 31, in mysql_config\n",
      "      raise OSError(\"{} not found\".format(_mysql_config_path))\n",
      "  OSError: mysql_config not found\n",
      "  ----------------------------------------\u001b[0m\n",
      "\u001b[33mWARNING: Discarding https://files.pythonhosted.org/packages/0e/68/f79de0e0fcdb041783124b825771e0ba6a3d0893b7b4c4735f130e42af47/mysqlclient-2.0.2.tar.gz#sha256=8df057b08fc27d8f7106bfa997d0a21e2acef017f905f06d6fb0aa6a20d4d2b2 (from https://pypi.org/simple/mysqlclient/) (requires-python:>=3.5). Command errored out with exit status 1: python setup.py egg_info Check the logs for full command output.\u001b[0m\n",
      "\u001b[?25h  Downloading mysqlclient-2.0.1.tar.gz (87 kB)\n",
      "     |████████████████████████████████| 87 kB 1.6 MB/s             \n",
      "\u001b[?25h  Preparing metadata (setup.py) ... \u001b[?25lerror\n",
      "\u001b[31m  ERROR: Command errored out with exit status 1:\n",
      "   command: /opt/conda/bin/python3.9 -c 'import io, os, sys, setuptools, tokenize; sys.argv[0] = '\"'\"'/tmp/pip-install-s2q7ic75/mysqlclient_2e3c3aecbcf143579890a8e52381e916/setup.py'\"'\"'; __file__='\"'\"'/tmp/pip-install-s2q7ic75/mysqlclient_2e3c3aecbcf143579890a8e52381e916/setup.py'\"'\"';f = getattr(tokenize, '\"'\"'open'\"'\"', open)(__file__) if os.path.exists(__file__) else io.StringIO('\"'\"'from setuptools import setup; setup()'\"'\"');code = f.read().replace('\"'\"'\\r\\n'\"'\"', '\"'\"'\\n'\"'\"');f.close();exec(compile(code, __file__, '\"'\"'exec'\"'\"'))' egg_info --egg-base /tmp/pip-pip-egg-info-igxgxzun\n",
      "       cwd: /tmp/pip-install-s2q7ic75/mysqlclient_2e3c3aecbcf143579890a8e52381e916/\n",
      "  Complete output (12 lines):\n",
      "  /bin/sh: 1: mysql_config: not found\n",
      "  /bin/sh: 1: mariadb_config: not found\n",
      "  /bin/sh: 1: mysql_config: not found\n",
      "  Traceback (most recent call last):\n",
      "    File \"<string>\", line 1, in <module>\n",
      "    File \"/tmp/pip-install-s2q7ic75/mysqlclient_2e3c3aecbcf143579890a8e52381e916/setup.py\", line 15, in <module>\n",
      "      metadata, options = get_config()\n",
      "    File \"/tmp/pip-install-s2q7ic75/mysqlclient_2e3c3aecbcf143579890a8e52381e916/setup_posix.py\", line 65, in get_config\n",
      "      libs = mysql_config(\"libs\")\n",
      "    File \"/tmp/pip-install-s2q7ic75/mysqlclient_2e3c3aecbcf143579890a8e52381e916/setup_posix.py\", line 31, in mysql_config\n",
      "      raise OSError(\"{} not found\".format(_mysql_config_path))\n",
      "  OSError: mysql_config not found\n",
      "  ----------------------------------------\u001b[0m\n",
      "\u001b[33mWARNING: Discarding https://files.pythonhosted.org/packages/a5/e1/e5f2b231c05dc51d9d87fa5066f90d1405345c54b14b0b11a1c859020f21/mysqlclient-2.0.1.tar.gz#sha256=fb2f75aea14722390d2d8ddf384ad99da708c707a96656210a7be8af20a2c5e5 (from https://pypi.org/simple/mysqlclient/) (requires-python:>=3.5). Command errored out with exit status 1: python setup.py egg_info Check the logs for full command output.\u001b[0m\n",
      "\u001b[?25h  Downloading mysqlclient-2.0.0.tar.gz (87 kB)\n",
      "     |████████████████████████████████| 87 kB 1.8 MB/s             \n",
      "\u001b[?25h  Preparing metadata (setup.py) ... \u001b[?25lerror\n",
      "\u001b[31m  ERROR: Command errored out with exit status 1:\n",
      "   command: /opt/conda/bin/python3.9 -c 'import io, os, sys, setuptools, tokenize; sys.argv[0] = '\"'\"'/tmp/pip-install-s2q7ic75/mysqlclient_59281b284c4f43f58c91aa2c2ce1bf3f/setup.py'\"'\"'; __file__='\"'\"'/tmp/pip-install-s2q7ic75/mysqlclient_59281b284c4f43f58c91aa2c2ce1bf3f/setup.py'\"'\"';f = getattr(tokenize, '\"'\"'open'\"'\"', open)(__file__) if os.path.exists(__file__) else io.StringIO('\"'\"'from setuptools import setup; setup()'\"'\"');code = f.read().replace('\"'\"'\\r\\n'\"'\"', '\"'\"'\\n'\"'\"');f.close();exec(compile(code, __file__, '\"'\"'exec'\"'\"'))' egg_info --egg-base /tmp/pip-pip-egg-info-0mdvkng_\n",
      "       cwd: /tmp/pip-install-s2q7ic75/mysqlclient_59281b284c4f43f58c91aa2c2ce1bf3f/\n",
      "  Complete output (12 lines):\n",
      "  /bin/sh: 1: mysql_config: not found\n",
      "  /bin/sh: 1: mariadb_config: not found\n",
      "  /bin/sh: 1: mysql_config: not found\n",
      "  Traceback (most recent call last):\n",
      "    File \"<string>\", line 1, in <module>\n",
      "    File \"/tmp/pip-install-s2q7ic75/mysqlclient_59281b284c4f43f58c91aa2c2ce1bf3f/setup.py\", line 15, in <module>\n",
      "      metadata, options = get_config()\n",
      "    File \"/tmp/pip-install-s2q7ic75/mysqlclient_59281b284c4f43f58c91aa2c2ce1bf3f/setup_posix.py\", line 65, in get_config\n",
      "      libs = mysql_config(\"libs\")\n",
      "    File \"/tmp/pip-install-s2q7ic75/mysqlclient_59281b284c4f43f58c91aa2c2ce1bf3f/setup_posix.py\", line 31, in mysql_config\n",
      "      raise OSError(\"{} not found\".format(_mysql_config_path))\n",
      "  OSError: mysql_config not found\n",
      "  ----------------------------------------\u001b[0m\n",
      "\u001b[33mWARNING: Discarding https://files.pythonhosted.org/packages/ca/cf/dd8124bf8b3d2ae465db9c8ce35c51650c31784b095f41faf6f8cad987a0/mysqlclient-2.0.0.tar.gz#sha256=201dfcc2a3c8a0859ea399947f1af8abe74b706beba0ebac149180d9d7b0f6e8 (from https://pypi.org/simple/mysqlclient/) (requires-python:>=3.5). Command errored out with exit status 1: python setup.py egg_info Check the logs for full command output.\u001b[0m\n",
      "\u001b[?25h  Downloading mysqlclient-1.4.6.tar.gz (85 kB)\n",
      "     |████████████████████████████████| 85 kB 4.1 MB/s             \n",
      "\u001b[?25h  Preparing metadata (setup.py) ... \u001b[?25lerror\n",
      "\u001b[31m  ERROR: Command errored out with exit status 1:\n",
      "   command: /opt/conda/bin/python3.9 -c 'import io, os, sys, setuptools, tokenize; sys.argv[0] = '\"'\"'/tmp/pip-install-s2q7ic75/mysqlclient_c8da0c9e23644a58af6fc85b9054b4fb/setup.py'\"'\"'; __file__='\"'\"'/tmp/pip-install-s2q7ic75/mysqlclient_c8da0c9e23644a58af6fc85b9054b4fb/setup.py'\"'\"';f = getattr(tokenize, '\"'\"'open'\"'\"', open)(__file__) if os.path.exists(__file__) else io.StringIO('\"'\"'from setuptools import setup; setup()'\"'\"');code = f.read().replace('\"'\"'\\r\\n'\"'\"', '\"'\"'\\n'\"'\"');f.close();exec(compile(code, __file__, '\"'\"'exec'\"'\"'))' egg_info --egg-base /tmp/pip-pip-egg-info-zq3ami20\n",
      "       cwd: /tmp/pip-install-s2q7ic75/mysqlclient_c8da0c9e23644a58af6fc85b9054b4fb/\n",
      "  Complete output (12 lines):\n",
      "  /bin/sh: 1: mysql_config: not found\n",
      "  /bin/sh: 1: mariadb_config: not found\n",
      "  /bin/sh: 1: mysql_config: not found\n",
      "  Traceback (most recent call last):\n",
      "    File \"<string>\", line 1, in <module>\n",
      "    File \"/tmp/pip-install-s2q7ic75/mysqlclient_c8da0c9e23644a58af6fc85b9054b4fb/setup.py\", line 16, in <module>\n",
      "      metadata, options = get_config()\n",
      "    File \"/tmp/pip-install-s2q7ic75/mysqlclient_c8da0c9e23644a58af6fc85b9054b4fb/setup_posix.py\", line 61, in get_config\n",
      "      libs = mysql_config(\"libs\")\n",
      "    File \"/tmp/pip-install-s2q7ic75/mysqlclient_c8da0c9e23644a58af6fc85b9054b4fb/setup_posix.py\", line 29, in mysql_config\n",
      "      raise EnvironmentError(\"%s not found\" % (_mysql_config_path,))\n",
      "  OSError: mysql_config not found\n",
      "  ----------------------------------------\u001b[0m\n",
      "\u001b[33mWARNING: Discarding https://files.pythonhosted.org/packages/d0/97/7326248ac8d5049968bf4ec708a5d3d4806e412a42e74160d7f266a3e03a/mysqlclient-1.4.6.tar.gz#sha256=f3fdaa9a38752a3b214a6fe79d7cae3653731a53e577821f9187e67cbecb2e16 (from https://pypi.org/simple/mysqlclient/). Command errored out with exit status 1: python setup.py egg_info Check the logs for full command output.\u001b[0m\n",
      "\u001b[?25h  Downloading mysqlclient-1.4.5.tar.gz (86 kB)\n",
      "     |████████████████████████████████| 86 kB 2.7 MB/s             \n",
      "\u001b[?25h  Preparing metadata (setup.py) ... \u001b[?25lerror\n",
      "\u001b[31m  ERROR: Command errored out with exit status 1:\n",
      "   command: /opt/conda/bin/python3.9 -c 'import io, os, sys, setuptools, tokenize; sys.argv[0] = '\"'\"'/tmp/pip-install-s2q7ic75/mysqlclient_72a7ca1a440843b8af44cc91ec6bec88/setup.py'\"'\"'; __file__='\"'\"'/tmp/pip-install-s2q7ic75/mysqlclient_72a7ca1a440843b8af44cc91ec6bec88/setup.py'\"'\"';f = getattr(tokenize, '\"'\"'open'\"'\"', open)(__file__) if os.path.exists(__file__) else io.StringIO('\"'\"'from setuptools import setup; setup()'\"'\"');code = f.read().replace('\"'\"'\\r\\n'\"'\"', '\"'\"'\\n'\"'\"');f.close();exec(compile(code, __file__, '\"'\"'exec'\"'\"'))' egg_info --egg-base /tmp/pip-pip-egg-info-xhrxko37\n",
      "       cwd: /tmp/pip-install-s2q7ic75/mysqlclient_72a7ca1a440843b8af44cc91ec6bec88/\n",
      "  Complete output (12 lines):\n",
      "  /bin/sh: 1: mysql_config: not found\n",
      "  /bin/sh: 1: mariadb_config: not found\n",
      "  /bin/sh: 1: mysql_config: not found\n",
      "  Traceback (most recent call last):\n",
      "    File \"<string>\", line 1, in <module>\n",
      "    File \"/tmp/pip-install-s2q7ic75/mysqlclient_72a7ca1a440843b8af44cc91ec6bec88/setup.py\", line 16, in <module>\n",
      "      metadata, options = get_config()\n",
      "    File \"/tmp/pip-install-s2q7ic75/mysqlclient_72a7ca1a440843b8af44cc91ec6bec88/setup_posix.py\", line 61, in get_config\n",
      "      libs = mysql_config(\"libs\")\n",
      "    File \"/tmp/pip-install-s2q7ic75/mysqlclient_72a7ca1a440843b8af44cc91ec6bec88/setup_posix.py\", line 29, in mysql_config\n",
      "      raise EnvironmentError(\"%s not found\" % (_mysql_config_path,))\n",
      "  OSError: mysql_config not found\n",
      "  ----------------------------------------\u001b[0m\n",
      "\u001b[33mWARNING: Discarding https://files.pythonhosted.org/packages/f8/9b/5db9a03e2088a87c26e3e4d4c7f7e8f4c2dbae610f9521cdfac15755a795/mysqlclient-1.4.5.tar.gz#sha256=e80109b0ae8d952b900b31b623181532e5e89376d707dcbeb63f99e69cefe559 (from https://pypi.org/simple/mysqlclient/). Command errored out with exit status 1: python setup.py egg_info Check the logs for full command output.\u001b[0m\n",
      "\u001b[?25h  Downloading mysqlclient-1.4.4.tar.gz (86 kB)\n",
      "     |████████████████████████████████| 86 kB 4.7 MB/s             \n",
      "\u001b[?25h  Preparing metadata (setup.py) ... \u001b[?25lerror\n",
      "\u001b[31m  ERROR: Command errored out with exit status 1:\n",
      "   command: /opt/conda/bin/python3.9 -c 'import io, os, sys, setuptools, tokenize; sys.argv[0] = '\"'\"'/tmp/pip-install-s2q7ic75/mysqlclient_526858a6ebb84a33b6d602bd90ab64d2/setup.py'\"'\"'; __file__='\"'\"'/tmp/pip-install-s2q7ic75/mysqlclient_526858a6ebb84a33b6d602bd90ab64d2/setup.py'\"'\"';f = getattr(tokenize, '\"'\"'open'\"'\"', open)(__file__) if os.path.exists(__file__) else io.StringIO('\"'\"'from setuptools import setup; setup()'\"'\"');code = f.read().replace('\"'\"'\\r\\n'\"'\"', '\"'\"'\\n'\"'\"');f.close();exec(compile(code, __file__, '\"'\"'exec'\"'\"'))' egg_info --egg-base /tmp/pip-pip-egg-info-mbw0er6q\n",
      "       cwd: /tmp/pip-install-s2q7ic75/mysqlclient_526858a6ebb84a33b6d602bd90ab64d2/\n",
      "  Complete output (12 lines):\n",
      "  /bin/sh: 1: mysql_config: not found\n",
      "  /bin/sh: 1: mariadb_config: not found\n",
      "  /bin/sh: 1: mysql_config: not found\n",
      "  Traceback (most recent call last):\n",
      "    File \"<string>\", line 1, in <module>\n",
      "    File \"/tmp/pip-install-s2q7ic75/mysqlclient_526858a6ebb84a33b6d602bd90ab64d2/setup.py\", line 16, in <module>\n",
      "      metadata, options = get_config()\n",
      "    File \"/tmp/pip-install-s2q7ic75/mysqlclient_526858a6ebb84a33b6d602bd90ab64d2/setup_posix.py\", line 61, in get_config\n",
      "      libs = mysql_config(\"libs\")\n",
      "    File \"/tmp/pip-install-s2q7ic75/mysqlclient_526858a6ebb84a33b6d602bd90ab64d2/setup_posix.py\", line 29, in mysql_config\n",
      "      raise EnvironmentError(\"%s not found\" % (_mysql_config_path,))\n",
      "  OSError: mysql_config not found\n",
      "  ----------------------------------------\u001b[0m\n",
      "\u001b[33mWARNING: Discarding https://files.pythonhosted.org/packages/4d/38/c5f8bac9c50f3042c8f05615f84206f77f03db79781db841898fde1bb284/mysqlclient-1.4.4.tar.gz#sha256=9c737cc55a5dc8dd3583a942d5a9b21be58d16f00f5fefca4e575e7d9682e98c (from https://pypi.org/simple/mysqlclient/). Command errored out with exit status 1: python setup.py egg_info Check the logs for full command output.\u001b[0m\n",
      "\u001b[?25h  Downloading mysqlclient-1.4.3.tar.gz (86 kB)\n",
      "     |████████████████████████████████| 86 kB 5.8 MB/s             \n",
      "\u001b[?25h  Preparing metadata (setup.py) ... \u001b[?25lerror\n",
      "\u001b[31m  ERROR: Command errored out with exit status 1:\n",
      "   command: /opt/conda/bin/python3.9 -c 'import io, os, sys, setuptools, tokenize; sys.argv[0] = '\"'\"'/tmp/pip-install-s2q7ic75/mysqlclient_4a13293e6d31463eb361934e7d052ece/setup.py'\"'\"'; __file__='\"'\"'/tmp/pip-install-s2q7ic75/mysqlclient_4a13293e6d31463eb361934e7d052ece/setup.py'\"'\"';f = getattr(tokenize, '\"'\"'open'\"'\"', open)(__file__) if os.path.exists(__file__) else io.StringIO('\"'\"'from setuptools import setup; setup()'\"'\"');code = f.read().replace('\"'\"'\\r\\n'\"'\"', '\"'\"'\\n'\"'\"');f.close();exec(compile(code, __file__, '\"'\"'exec'\"'\"'))' egg_info --egg-base /tmp/pip-pip-egg-info-865xvgs0\n",
      "       cwd: /tmp/pip-install-s2q7ic75/mysqlclient_4a13293e6d31463eb361934e7d052ece/\n",
      "  Complete output (12 lines):\n",
      "  /bin/sh: 1: mysql_config: not found\n",
      "  /bin/sh: 1: mariadb_config: not found\n",
      "  /bin/sh: 1: mysql_config: not found\n",
      "  Traceback (most recent call last):\n",
      "    File \"<string>\", line 1, in <module>\n",
      "    File \"/tmp/pip-install-s2q7ic75/mysqlclient_4a13293e6d31463eb361934e7d052ece/setup.py\", line 16, in <module>\n",
      "      metadata, options = get_config()\n",
      "    File \"/tmp/pip-install-s2q7ic75/mysqlclient_4a13293e6d31463eb361934e7d052ece/setup_posix.py\", line 61, in get_config\n",
      "      libs = mysql_config(\"libs\")\n",
      "    File \"/tmp/pip-install-s2q7ic75/mysqlclient_4a13293e6d31463eb361934e7d052ece/setup_posix.py\", line 29, in mysql_config\n",
      "      raise EnvironmentError(\"%s not found\" % (_mysql_config_path,))\n",
      "  OSError: mysql_config not found\n",
      "  ----------------------------------------\u001b[0m\n",
      "\u001b[33mWARNING: Discarding https://files.pythonhosted.org/packages/13/37/6c941aabeb78464a538b7d43266bfae645993779e3ca3e12fe82b4590f52/mysqlclient-1.4.3.tar.gz#sha256=0d3eeb97534c9f42e9b65bd35c1a35fadc2f6d7ea5d9fdbda5339a569156344b (from https://pypi.org/simple/mysqlclient/). Command errored out with exit status 1: python setup.py egg_info Check the logs for full command output.\u001b[0m\n",
      "\u001b[?25h  Downloading mysqlclient-1.4.2.post1.tar.gz (85 kB)\n",
      "     |████████████████████████████████| 85 kB 4.8 MB/s             \n",
      "\u001b[?25h  Preparing metadata (setup.py) ... \u001b[?25lerror\n",
      "\u001b[31m  ERROR: Command errored out with exit status 1:\n",
      "   command: /opt/conda/bin/python3.9 -c 'import io, os, sys, setuptools, tokenize; sys.argv[0] = '\"'\"'/tmp/pip-install-s2q7ic75/mysqlclient_b9a4283882644421b96542f3ae7f0eed/setup.py'\"'\"'; __file__='\"'\"'/tmp/pip-install-s2q7ic75/mysqlclient_b9a4283882644421b96542f3ae7f0eed/setup.py'\"'\"';f = getattr(tokenize, '\"'\"'open'\"'\"', open)(__file__) if os.path.exists(__file__) else io.StringIO('\"'\"'from setuptools import setup; setup()'\"'\"');code = f.read().replace('\"'\"'\\r\\n'\"'\"', '\"'\"'\\n'\"'\"');f.close();exec(compile(code, __file__, '\"'\"'exec'\"'\"'))' egg_info --egg-base /tmp/pip-pip-egg-info-md64ejz0\n",
      "       cwd: /tmp/pip-install-s2q7ic75/mysqlclient_b9a4283882644421b96542f3ae7f0eed/\n",
      "  Complete output (10 lines):\n",
      "  /bin/sh: 1: mysql_config: not found\n",
      "  Traceback (most recent call last):\n",
      "    File \"<string>\", line 1, in <module>\n",
      "    File \"/tmp/pip-install-s2q7ic75/mysqlclient_b9a4283882644421b96542f3ae7f0eed/setup.py\", line 16, in <module>\n",
      "      metadata, options = get_config()\n",
      "    File \"/tmp/pip-install-s2q7ic75/mysqlclient_b9a4283882644421b96542f3ae7f0eed/setup_posix.py\", line 51, in get_config\n",
      "      libs = mysql_config(\"libs\")\n",
      "    File \"/tmp/pip-install-s2q7ic75/mysqlclient_b9a4283882644421b96542f3ae7f0eed/setup_posix.py\", line 29, in mysql_config\n",
      "      raise EnvironmentError(\"%s not found\" % (_mysql_config_path,))\n",
      "  OSError: mysql_config not found\n",
      "  ----------------------------------------\u001b[0m\n",
      "\u001b[33mWARNING: Discarding https://files.pythonhosted.org/packages/f4/f1/3bb6f64ca7a429729413e6556b7ba5976df06019a5245a43d36032f1061e/mysqlclient-1.4.2.post1.tar.gz#sha256=f257d250f2675d0ef99bd318906f3cfc05cef4a2f385ea695ff32a3f04b9f9a7 (from https://pypi.org/simple/mysqlclient/). Command errored out with exit status 1: python setup.py egg_info Check the logs for full command output.\u001b[0m\n",
      "\u001b[?25h  Downloading mysqlclient-1.4.2.tar.gz (85 kB)\n",
      "     |████████████████████████████████| 85 kB 1.2 MB/s             \n",
      "\u001b[?25h  Preparing metadata (setup.py) ... \u001b[?25lerror\n",
      "\u001b[31m  ERROR: Command errored out with exit status 1:\n",
      "   command: /opt/conda/bin/python3.9 -c 'import io, os, sys, setuptools, tokenize; sys.argv[0] = '\"'\"'/tmp/pip-install-s2q7ic75/mysqlclient_b77772ab8f6a43c9b99491f5c95715c8/setup.py'\"'\"'; __file__='\"'\"'/tmp/pip-install-s2q7ic75/mysqlclient_b77772ab8f6a43c9b99491f5c95715c8/setup.py'\"'\"';f = getattr(tokenize, '\"'\"'open'\"'\"', open)(__file__) if os.path.exists(__file__) else io.StringIO('\"'\"'from setuptools import setup; setup()'\"'\"');code = f.read().replace('\"'\"'\\r\\n'\"'\"', '\"'\"'\\n'\"'\"');f.close();exec(compile(code, __file__, '\"'\"'exec'\"'\"'))' egg_info --egg-base /tmp/pip-pip-egg-info-_1v5z6tm\n",
      "       cwd: /tmp/pip-install-s2q7ic75/mysqlclient_b77772ab8f6a43c9b99491f5c95715c8/\n",
      "  Complete output (10 lines):\n",
      "  /bin/sh: 1: mysql_config: not found\n",
      "  Traceback (most recent call last):\n",
      "    File \"<string>\", line 1, in <module>\n",
      "    File \"/tmp/pip-install-s2q7ic75/mysqlclient_b77772ab8f6a43c9b99491f5c95715c8/setup.py\", line 16, in <module>\n",
      "      metadata, options = get_config()\n",
      "    File \"/tmp/pip-install-s2q7ic75/mysqlclient_b77772ab8f6a43c9b99491f5c95715c8/setup_posix.py\", line 51, in get_config\n",
      "      libs = mysql_config(\"libs\")\n",
      "    File \"/tmp/pip-install-s2q7ic75/mysqlclient_b77772ab8f6a43c9b99491f5c95715c8/setup_posix.py\", line 29, in mysql_config\n",
      "      raise EnvironmentError(\"%s not found\" % (_mysql_config_path,))\n",
      "  OSError: mysql_config not found\n",
      "  ----------------------------------------\u001b[0m\n",
      "\u001b[33mWARNING: Discarding https://files.pythonhosted.org/packages/73/79/67ddf24ac31b05d741f0ac87fa612c7a11bab1b39b8270ed7344d149f8af/mysqlclient-1.4.2.tar.gz#sha256=b95edaa41d6cc47deecabcdcbb5ab437ad9ae6d8955f5cf10d1847b37e66ef5e (from https://pypi.org/simple/mysqlclient/). Command errored out with exit status 1: python setup.py egg_info Check the logs for full command output.\u001b[0m\n",
      "\u001b[?25h  Downloading mysqlclient-1.4.1.tar.gz (85 kB)\n",
      "     |████████████████████████████████| 85 kB 2.2 MB/s             \n",
      "\u001b[?25h  Preparing metadata (setup.py) ... \u001b[?25lerror\n",
      "\u001b[31m  ERROR: Command errored out with exit status 1:\n",
      "   command: /opt/conda/bin/python3.9 -c 'import io, os, sys, setuptools, tokenize; sys.argv[0] = '\"'\"'/tmp/pip-install-s2q7ic75/mysqlclient_08d8a920bfb64d0bac25b1e3d9472d2c/setup.py'\"'\"'; __file__='\"'\"'/tmp/pip-install-s2q7ic75/mysqlclient_08d8a920bfb64d0bac25b1e3d9472d2c/setup.py'\"'\"';f = getattr(tokenize, '\"'\"'open'\"'\"', open)(__file__) if os.path.exists(__file__) else io.StringIO('\"'\"'from setuptools import setup; setup()'\"'\"');code = f.read().replace('\"'\"'\\r\\n'\"'\"', '\"'\"'\\n'\"'\"');f.close();exec(compile(code, __file__, '\"'\"'exec'\"'\"'))' egg_info --egg-base /tmp/pip-pip-egg-info-462zbdy8\n",
      "       cwd: /tmp/pip-install-s2q7ic75/mysqlclient_08d8a920bfb64d0bac25b1e3d9472d2c/\n",
      "  Complete output (10 lines):\n",
      "  /bin/sh: 1: mysql_config: not found\n",
      "  Traceback (most recent call last):\n",
      "    File \"<string>\", line 1, in <module>\n",
      "    File \"/tmp/pip-install-s2q7ic75/mysqlclient_08d8a920bfb64d0bac25b1e3d9472d2c/setup.py\", line 16, in <module>\n",
      "      metadata, options = get_config()\n",
      "    File \"/tmp/pip-install-s2q7ic75/mysqlclient_08d8a920bfb64d0bac25b1e3d9472d2c/setup_posix.py\", line 51, in get_config\n",
      "      libs = mysql_config(\"libs\")\n",
      "    File \"/tmp/pip-install-s2q7ic75/mysqlclient_08d8a920bfb64d0bac25b1e3d9472d2c/setup_posix.py\", line 29, in mysql_config\n",
      "      raise EnvironmentError(\"%s not found\" % (_mysql_config_path,))\n",
      "  OSError: mysql_config not found\n",
      "  ----------------------------------------\u001b[0m\n",
      "\u001b[33mWARNING: Discarding https://files.pythonhosted.org/packages/de/d7/919042fb7ed78a89e21c4e43d5daed90d5df18ec183bae3de493a7d9e3ed/mysqlclient-1.4.1.tar.gz#sha256=a62220410e26ce2d2ff94dd0138c3ecfb91db634464a9afb4c8e6b50f0a67e00 (from https://pypi.org/simple/mysqlclient/). Command errored out with exit status 1: python setup.py egg_info Check the logs for full command output.\u001b[0m\n",
      "\u001b[?25h  Downloading mysqlclient-1.4.0.tar.gz (85 kB)\n",
      "     |████████████████████████████████| 85 kB 653 kB/s             \n",
      "\u001b[?25h  Preparing metadata (setup.py) ... \u001b[?25lerror\n",
      "\u001b[31m  ERROR: Command errored out with exit status 1:\n",
      "   command: /opt/conda/bin/python3.9 -c 'import io, os, sys, setuptools, tokenize; sys.argv[0] = '\"'\"'/tmp/pip-install-s2q7ic75/mysqlclient_559f1aa19f6b41efbe7cf716b1077acc/setup.py'\"'\"'; __file__='\"'\"'/tmp/pip-install-s2q7ic75/mysqlclient_559f1aa19f6b41efbe7cf716b1077acc/setup.py'\"'\"';f = getattr(tokenize, '\"'\"'open'\"'\"', open)(__file__) if os.path.exists(__file__) else io.StringIO('\"'\"'from setuptools import setup; setup()'\"'\"');code = f.read().replace('\"'\"'\\r\\n'\"'\"', '\"'\"'\\n'\"'\"');f.close();exec(compile(code, __file__, '\"'\"'exec'\"'\"'))' egg_info --egg-base /tmp/pip-pip-egg-info-r0y1j58u\n",
      "       cwd: /tmp/pip-install-s2q7ic75/mysqlclient_559f1aa19f6b41efbe7cf716b1077acc/\n",
      "  Complete output (10 lines):\n",
      "  /bin/sh: 1: mysql_config: not found\n",
      "  Traceback (most recent call last):\n",
      "    File \"<string>\", line 1, in <module>\n",
      "    File \"/tmp/pip-install-s2q7ic75/mysqlclient_559f1aa19f6b41efbe7cf716b1077acc/setup.py\", line 16, in <module>\n",
      "      metadata, options = get_config()\n",
      "    File \"/tmp/pip-install-s2q7ic75/mysqlclient_559f1aa19f6b41efbe7cf716b1077acc/setup_posix.py\", line 51, in get_config\n",
      "      libs = mysql_config(\"libs\")\n",
      "    File \"/tmp/pip-install-s2q7ic75/mysqlclient_559f1aa19f6b41efbe7cf716b1077acc/setup_posix.py\", line 29, in mysql_config\n",
      "      raise EnvironmentError(\"%s not found\" % (_mysql_config_path,))\n",
      "  OSError: mysql_config not found\n",
      "  ----------------------------------------\u001b[0m\n",
      "\u001b[33mWARNING: Discarding https://files.pythonhosted.org/packages/05/73/fac741eef89b0257fb1807de80e96474f40d52739cdbc32c90c4a793e79d/mysqlclient-1.4.0.tar.gz#sha256=efeaacd04feea7d44fef2a5adf4df335b438458f8b89144307dc5a90025761a5 (from https://pypi.org/simple/mysqlclient/). Command errored out with exit status 1: python setup.py egg_info Check the logs for full command output.\u001b[0m\n",
      "\u001b[?25h  Downloading mysqlclient-1.3.14.tar.gz (91 kB)\n",
      "     |████████████████████████████████| 91 kB 9.8 MB/s             \n",
      "\u001b[?25h  Preparing metadata (setup.py) ... \u001b[?25lerror\n",
      "\u001b[31m  ERROR: Command errored out with exit status 1:\n",
      "   command: /opt/conda/bin/python3.9 -c 'import io, os, sys, setuptools, tokenize; sys.argv[0] = '\"'\"'/tmp/pip-install-s2q7ic75/mysqlclient_ad9a57c8e8934c798a6cad30d768db58/setup.py'\"'\"'; __file__='\"'\"'/tmp/pip-install-s2q7ic75/mysqlclient_ad9a57c8e8934c798a6cad30d768db58/setup.py'\"'\"';f = getattr(tokenize, '\"'\"'open'\"'\"', open)(__file__) if os.path.exists(__file__) else io.StringIO('\"'\"'from setuptools import setup; setup()'\"'\"');code = f.read().replace('\"'\"'\\r\\n'\"'\"', '\"'\"'\\n'\"'\"');f.close();exec(compile(code, __file__, '\"'\"'exec'\"'\"'))' egg_info --egg-base /tmp/pip-pip-egg-info-0xe7mbav\n",
      "       cwd: /tmp/pip-install-s2q7ic75/mysqlclient_ad9a57c8e8934c798a6cad30d768db58/\n",
      "  Complete output (10 lines):\n",
      "  /bin/sh: 1: mysql_config: not found\n",
      "  Traceback (most recent call last):\n",
      "    File \"<string>\", line 1, in <module>\n",
      "    File \"/tmp/pip-install-s2q7ic75/mysqlclient_ad9a57c8e8934c798a6cad30d768db58/setup.py\", line 16, in <module>\n",
      "      metadata, options = get_config()\n",
      "    File \"/tmp/pip-install-s2q7ic75/mysqlclient_ad9a57c8e8934c798a6cad30d768db58/setup_posix.py\", line 53, in get_config\n",
      "      libs = mysql_config(\"libs_r\")\n",
      "    File \"/tmp/pip-install-s2q7ic75/mysqlclient_ad9a57c8e8934c798a6cad30d768db58/setup_posix.py\", line 28, in mysql_config\n",
      "      raise EnvironmentError(\"%s not found\" % (mysql_config.path,))\n",
      "  OSError: mysql_config not found\n",
      "  ----------------------------------------\u001b[0m\n",
      "\u001b[33mWARNING: Discarding https://files.pythonhosted.org/packages/f7/a2/1230ebbb4b91f42ad6b646e59eb8855559817ad5505d81c1ca2b5a216040/mysqlclient-1.3.14.tar.gz#sha256=3981ae9ce545901a36a8b7aed76ed02960a429f75dc53b7ad77fb2f9ab7cd56b (from https://pypi.org/simple/mysqlclient/). Command errored out with exit status 1: python setup.py egg_info Check the logs for full command output.\u001b[0m\n",
      "\u001b[?25h  Downloading mysqlclient-1.3.13.tar.gz (90 kB)\n",
      "     |████████████████████████████████| 90 kB 2.2 MB/s             \n",
      "\u001b[?25h  Preparing metadata (setup.py) ... \u001b[?25lerror\n",
      "\u001b[31m  ERROR: Command errored out with exit status 1:\n",
      "   command: /opt/conda/bin/python3.9 -c 'import io, os, sys, setuptools, tokenize; sys.argv[0] = '\"'\"'/tmp/pip-install-s2q7ic75/mysqlclient_c2b31b63464b454786a12a1ab316c4c6/setup.py'\"'\"'; __file__='\"'\"'/tmp/pip-install-s2q7ic75/mysqlclient_c2b31b63464b454786a12a1ab316c4c6/setup.py'\"'\"';f = getattr(tokenize, '\"'\"'open'\"'\"', open)(__file__) if os.path.exists(__file__) else io.StringIO('\"'\"'from setuptools import setup; setup()'\"'\"');code = f.read().replace('\"'\"'\\r\\n'\"'\"', '\"'\"'\\n'\"'\"');f.close();exec(compile(code, __file__, '\"'\"'exec'\"'\"'))' egg_info --egg-base /tmp/pip-pip-egg-info-tjzwwkd9\n",
      "       cwd: /tmp/pip-install-s2q7ic75/mysqlclient_c2b31b63464b454786a12a1ab316c4c6/\n",
      "  Complete output (10 lines):\n",
      "  /bin/sh: 1: mysql_config: not found\n",
      "  Traceback (most recent call last):\n",
      "    File \"<string>\", line 1, in <module>\n",
      "    File \"/tmp/pip-install-s2q7ic75/mysqlclient_c2b31b63464b454786a12a1ab316c4c6/setup.py\", line 18, in <module>\n",
      "      metadata, options = get_config()\n",
      "    File \"/tmp/pip-install-s2q7ic75/mysqlclient_c2b31b63464b454786a12a1ab316c4c6/setup_posix.py\", line 53, in get_config\n",
      "      libs = mysql_config(\"libs_r\")\n",
      "    File \"/tmp/pip-install-s2q7ic75/mysqlclient_c2b31b63464b454786a12a1ab316c4c6/setup_posix.py\", line 28, in mysql_config\n",
      "      raise EnvironmentError(\"%s not found\" % (mysql_config.path,))\n",
      "  OSError: mysql_config not found\n",
      "  ----------------------------------------\u001b[0m\n",
      "\u001b[33mWARNING: Discarding https://files.pythonhosted.org/packages/ec/fd/83329b9d3e14f7344d1cb31f128e6dbba70c5975c9e57896815dbb1988ad/mysqlclient-1.3.13.tar.gz#sha256=ff8ee1be84215e6c30a746b728c41eb0701a46ca76e343af445b35ce6250644f (from https://pypi.org/simple/mysqlclient/). Command errored out with exit status 1: python setup.py egg_info Check the logs for full command output.\u001b[0m\n",
      "\u001b[?25h  Downloading mysqlclient-1.3.12.tar.gz (89 kB)\n",
      "     |████████████████████████████████| 89 kB 5.9 MB/s             \n",
      "\u001b[?25h  Preparing metadata (setup.py) ... \u001b[?25lerror\n",
      "\u001b[31m  ERROR: Command errored out with exit status 1:\n",
      "   command: /opt/conda/bin/python3.9 -c 'import io, os, sys, setuptools, tokenize; sys.argv[0] = '\"'\"'/tmp/pip-install-s2q7ic75/mysqlclient_a3d54e29f7d540cc932fd042b7feb882/setup.py'\"'\"'; __file__='\"'\"'/tmp/pip-install-s2q7ic75/mysqlclient_a3d54e29f7d540cc932fd042b7feb882/setup.py'\"'\"';f = getattr(tokenize, '\"'\"'open'\"'\"', open)(__file__) if os.path.exists(__file__) else io.StringIO('\"'\"'from setuptools import setup; setup()'\"'\"');code = f.read().replace('\"'\"'\\r\\n'\"'\"', '\"'\"'\\n'\"'\"');f.close();exec(compile(code, __file__, '\"'\"'exec'\"'\"'))' egg_info --egg-base /tmp/pip-pip-egg-info-afengojm\n",
      "       cwd: /tmp/pip-install-s2q7ic75/mysqlclient_a3d54e29f7d540cc932fd042b7feb882/\n",
      "  Complete output (10 lines):\n",
      "  /bin/sh: 1: mysql_config: not found\n",
      "  Traceback (most recent call last):\n",
      "    File \"<string>\", line 1, in <module>\n",
      "    File \"/tmp/pip-install-s2q7ic75/mysqlclient_a3d54e29f7d540cc932fd042b7feb882/setup.py\", line 17, in <module>\n",
      "      metadata, options = get_config()\n",
      "    File \"/tmp/pip-install-s2q7ic75/mysqlclient_a3d54e29f7d540cc932fd042b7feb882/setup_posix.py\", line 44, in get_config\n",
      "      libs = mysql_config(\"libs_r\")\n",
      "    File \"/tmp/pip-install-s2q7ic75/mysqlclient_a3d54e29f7d540cc932fd042b7feb882/setup_posix.py\", line 26, in mysql_config\n",
      "      raise EnvironmentError(\"%s not found\" % (mysql_config.path,))\n",
      "  OSError: mysql_config not found\n",
      "  ----------------------------------------\u001b[0m\n",
      "\u001b[33mWARNING: Discarding https://files.pythonhosted.org/packages/6f/86/bad31f1c1bb0cc99e88ca2adb7cb5c71f7a6540c1bb001480513de76a931/mysqlclient-1.3.12.tar.gz#sha256=2d9ec33de39f4d9c64ad7322ede0521d85829ce36a76f9dd3d6ab76a9c8648e5 (from https://pypi.org/simple/mysqlclient/). Command errored out with exit status 1: python setup.py egg_info Check the logs for full command output.\u001b[0m\n",
      "\u001b[?25h  Downloading mysqlclient-1.3.11.tar.gz (89 kB)\n",
      "     |████████████████████████████████| 89 kB 5.5 MB/s             \n",
      "\u001b[?25h  Preparing metadata (setup.py) ... \u001b[?25lerror\n",
      "\u001b[31m  ERROR: Command errored out with exit status 1:\n",
      "   command: /opt/conda/bin/python3.9 -c 'import io, os, sys, setuptools, tokenize; sys.argv[0] = '\"'\"'/tmp/pip-install-s2q7ic75/mysqlclient_dc7eba0b608847b58c941e77030b9545/setup.py'\"'\"'; __file__='\"'\"'/tmp/pip-install-s2q7ic75/mysqlclient_dc7eba0b608847b58c941e77030b9545/setup.py'\"'\"';f = getattr(tokenize, '\"'\"'open'\"'\"', open)(__file__) if os.path.exists(__file__) else io.StringIO('\"'\"'from setuptools import setup; setup()'\"'\"');code = f.read().replace('\"'\"'\\r\\n'\"'\"', '\"'\"'\\n'\"'\"');f.close();exec(compile(code, __file__, '\"'\"'exec'\"'\"'))' egg_info --egg-base /tmp/pip-pip-egg-info-4phfoi8u\n",
      "       cwd: /tmp/pip-install-s2q7ic75/mysqlclient_dc7eba0b608847b58c941e77030b9545/\n",
      "  Complete output (10 lines):\n",
      "  /bin/sh: 1: mysql_config: not found\n",
      "  Traceback (most recent call last):\n",
      "    File \"<string>\", line 1, in <module>\n",
      "    File \"/tmp/pip-install-s2q7ic75/mysqlclient_dc7eba0b608847b58c941e77030b9545/setup.py\", line 17, in <module>\n",
      "      metadata, options = get_config()\n",
      "    File \"/tmp/pip-install-s2q7ic75/mysqlclient_dc7eba0b608847b58c941e77030b9545/setup_posix.py\", line 44, in get_config\n",
      "      libs = mysql_config(\"libs_r\")\n",
      "    File \"/tmp/pip-install-s2q7ic75/mysqlclient_dc7eba0b608847b58c941e77030b9545/setup_posix.py\", line 26, in mysql_config\n",
      "      raise EnvironmentError(\"%s not found\" % (mysql_config.path,))\n",
      "  OSError: mysql_config not found\n",
      "  ----------------------------------------\u001b[0m\n",
      "\u001b[33mWARNING: Discarding https://files.pythonhosted.org/packages/6a/4d/856d1848e9b7fa8577a31c0188592f472e5cbc94f588c2a40ff930533d73/mysqlclient-1.3.11.tar.gz#sha256=9a79b38843d61f651266ff16b9fdcc8830d21f0fb852e4406a19e9a715bdf3e2 (from https://pypi.org/simple/mysqlclient/). Command errored out with exit status 1: python setup.py egg_info Check the logs for full command output.\u001b[0m\n",
      "\u001b[?25h  Downloading mysqlclient-1.3.10.tar.gz (82 kB)\n",
      "     |████████████████████████████████| 82 kB 104 kB/s             \n",
      "\u001b[?25h  Preparing metadata (setup.py) ... \u001b[?25lerror\n",
      "\u001b[31m  ERROR: Command errored out with exit status 1:\n",
      "   command: /opt/conda/bin/python3.9 -c 'import io, os, sys, setuptools, tokenize; sys.argv[0] = '\"'\"'/tmp/pip-install-s2q7ic75/mysqlclient_64fecc90f4f94b9aa3264c8b13af2c6c/setup.py'\"'\"'; __file__='\"'\"'/tmp/pip-install-s2q7ic75/mysqlclient_64fecc90f4f94b9aa3264c8b13af2c6c/setup.py'\"'\"';f = getattr(tokenize, '\"'\"'open'\"'\"', open)(__file__) if os.path.exists(__file__) else io.StringIO('\"'\"'from setuptools import setup; setup()'\"'\"');code = f.read().replace('\"'\"'\\r\\n'\"'\"', '\"'\"'\\n'\"'\"');f.close();exec(compile(code, __file__, '\"'\"'exec'\"'\"'))' egg_info --egg-base /tmp/pip-pip-egg-info-0cav0q45\n",
      "       cwd: /tmp/pip-install-s2q7ic75/mysqlclient_64fecc90f4f94b9aa3264c8b13af2c6c/\n",
      "  Complete output (10 lines):\n",
      "  /bin/sh: 1: mysql_config: not found\n",
      "  Traceback (most recent call last):\n",
      "    File \"<string>\", line 1, in <module>\n",
      "    File \"/tmp/pip-install-s2q7ic75/mysqlclient_64fecc90f4f94b9aa3264c8b13af2c6c/setup.py\", line 17, in <module>\n",
      "      metadata, options = get_config()\n",
      "    File \"/tmp/pip-install-s2q7ic75/mysqlclient_64fecc90f4f94b9aa3264c8b13af2c6c/setup_posix.py\", line 44, in get_config\n",
      "      libs = mysql_config(\"libs_r\")\n",
      "    File \"/tmp/pip-install-s2q7ic75/mysqlclient_64fecc90f4f94b9aa3264c8b13af2c6c/setup_posix.py\", line 26, in mysql_config\n",
      "      raise EnvironmentError(\"%s not found\" % (mysql_config.path,))\n",
      "  OSError: mysql_config not found\n",
      "  ----------------------------------------\u001b[0m\n",
      "\u001b[33mWARNING: Discarding https://files.pythonhosted.org/packages/40/9b/0bc869f290b8f49a99b8d97927f57126a5d1befcf8bac92c60dc855f2523/mysqlclient-1.3.10.tar.gz#sha256=452aaf9d2ba1a4fb85c134c88f9b1857852deed63b3b13255d7a65d2c1297262 (from https://pypi.org/simple/mysqlclient/). Command errored out with exit status 1: python setup.py egg_info Check the logs for full command output.\u001b[0m\n",
      "\u001b[?25h  Downloading mysqlclient-1.3.9.tar.gz (81 kB)\n",
      "     |████████████████████████████████| 81 kB 7.3 MB/s             \n",
      "\u001b[?25h  Preparing metadata (setup.py) ... \u001b[?25lerror\n",
      "\u001b[31m  ERROR: Command errored out with exit status 1:\n",
      "   command: /opt/conda/bin/python3.9 -c 'import io, os, sys, setuptools, tokenize; sys.argv[0] = '\"'\"'/tmp/pip-install-s2q7ic75/mysqlclient_c24cd8d5c6764d76840071ca76ca9037/setup.py'\"'\"'; __file__='\"'\"'/tmp/pip-install-s2q7ic75/mysqlclient_c24cd8d5c6764d76840071ca76ca9037/setup.py'\"'\"';f = getattr(tokenize, '\"'\"'open'\"'\"', open)(__file__) if os.path.exists(__file__) else io.StringIO('\"'\"'from setuptools import setup; setup()'\"'\"');code = f.read().replace('\"'\"'\\r\\n'\"'\"', '\"'\"'\\n'\"'\"');f.close();exec(compile(code, __file__, '\"'\"'exec'\"'\"'))' egg_info --egg-base /tmp/pip-pip-egg-info-j5mniz00\n",
      "       cwd: /tmp/pip-install-s2q7ic75/mysqlclient_c24cd8d5c6764d76840071ca76ca9037/\n",
      "  Complete output (10 lines):\n",
      "  /bin/sh: 1: mysql_config: not found\n",
      "  Traceback (most recent call last):\n",
      "    File \"<string>\", line 1, in <module>\n",
      "    File \"/tmp/pip-install-s2q7ic75/mysqlclient_c24cd8d5c6764d76840071ca76ca9037/setup.py\", line 17, in <module>\n",
      "      metadata, options = get_config()\n",
      "    File \"/tmp/pip-install-s2q7ic75/mysqlclient_c24cd8d5c6764d76840071ca76ca9037/setup_posix.py\", line 44, in get_config\n",
      "      libs = mysql_config(\"libs_r\")\n",
      "    File \"/tmp/pip-install-s2q7ic75/mysqlclient_c24cd8d5c6764d76840071ca76ca9037/setup_posix.py\", line 26, in mysql_config\n",
      "      raise EnvironmentError(\"%s not found\" % (mysql_config.path,))\n",
      "  OSError: mysql_config not found\n",
      "  ----------------------------------------\u001b[0m\n",
      "\u001b[33mWARNING: Discarding https://files.pythonhosted.org/packages/db/f5/c8e1657985c31dda16e434edf5257c31572fa5faacd7e48b1618390e4b18/mysqlclient-1.3.9.tar.gz#sha256=990ccf1e1f15b9a291b811c993dc1c216566714bc14e6581b38665bd61c28c99 (from https://pypi.org/simple/mysqlclient/). Command errored out with exit status 1: python setup.py egg_info Check the logs for full command output.\u001b[0m\n",
      "\u001b[?25h  Downloading mysqlclient-1.3.8.tar.gz (81 kB)\n",
      "     |████████████████████████████████| 81 kB 5.6 MB/s             \n",
      "\u001b[?25h  Preparing metadata (setup.py) ... \u001b[?25lerror\n",
      "\u001b[31m  ERROR: Command errored out with exit status 1:\n",
      "   command: /opt/conda/bin/python3.9 -c 'import io, os, sys, setuptools, tokenize; sys.argv[0] = '\"'\"'/tmp/pip-install-s2q7ic75/mysqlclient_d49bf21a72f840dd8982851120c4b92e/setup.py'\"'\"'; __file__='\"'\"'/tmp/pip-install-s2q7ic75/mysqlclient_d49bf21a72f840dd8982851120c4b92e/setup.py'\"'\"';f = getattr(tokenize, '\"'\"'open'\"'\"', open)(__file__) if os.path.exists(__file__) else io.StringIO('\"'\"'from setuptools import setup; setup()'\"'\"');code = f.read().replace('\"'\"'\\r\\n'\"'\"', '\"'\"'\\n'\"'\"');f.close();exec(compile(code, __file__, '\"'\"'exec'\"'\"'))' egg_info --egg-base /tmp/pip-pip-egg-info-145ad7t_\n",
      "       cwd: /tmp/pip-install-s2q7ic75/mysqlclient_d49bf21a72f840dd8982851120c4b92e/\n",
      "  Complete output (10 lines):\n",
      "  /bin/sh: 1: mysql_config: not found\n",
      "  Traceback (most recent call last):\n",
      "    File \"<string>\", line 1, in <module>\n",
      "    File \"/tmp/pip-install-s2q7ic75/mysqlclient_d49bf21a72f840dd8982851120c4b92e/setup.py\", line 17, in <module>\n",
      "      metadata, options = get_config()\n",
      "    File \"/tmp/pip-install-s2q7ic75/mysqlclient_d49bf21a72f840dd8982851120c4b92e/setup_posix.py\", line 44, in get_config\n",
      "      libs = mysql_config(\"libs_r\")\n",
      "    File \"/tmp/pip-install-s2q7ic75/mysqlclient_d49bf21a72f840dd8982851120c4b92e/setup_posix.py\", line 26, in mysql_config\n",
      "      raise EnvironmentError(\"%s not found\" % (mysql_config.path,))\n",
      "  OSError: mysql_config not found\n",
      "  ----------------------------------------\u001b[0m\n",
      "\u001b[33mWARNING: Discarding https://files.pythonhosted.org/packages/31/ce/7ea049b3d5929b3cce3104967ccca218a9f054517f0d15dfdaf4e76da2a0/mysqlclient-1.3.8.tar.gz#sha256=c64bc386c0b771ed6ff76de0f52e0f957f98d9e13c83b0ddb821afdbe3f5d970 (from https://pypi.org/simple/mysqlclient/). Command errored out with exit status 1: python setup.py egg_info Check the logs for full command output.\u001b[0m\n",
      "\u001b[?25h  Downloading mysqlclient-1.3.7.tar.gz (79 kB)\n",
      "     |████████████████████████████████| 79 kB 5.4 MB/s             \n",
      "\u001b[?25h  Preparing metadata (setup.py) ... \u001b[?25lerror\n",
      "\u001b[31m  ERROR: Command errored out with exit status 1:\n",
      "   command: /opt/conda/bin/python3.9 -c 'import io, os, sys, setuptools, tokenize; sys.argv[0] = '\"'\"'/tmp/pip-install-s2q7ic75/mysqlclient_0e2f7757776445f0b29c545421da5cab/setup.py'\"'\"'; __file__='\"'\"'/tmp/pip-install-s2q7ic75/mysqlclient_0e2f7757776445f0b29c545421da5cab/setup.py'\"'\"';f = getattr(tokenize, '\"'\"'open'\"'\"', open)(__file__) if os.path.exists(__file__) else io.StringIO('\"'\"'from setuptools import setup; setup()'\"'\"');code = f.read().replace('\"'\"'\\r\\n'\"'\"', '\"'\"'\\n'\"'\"');f.close();exec(compile(code, __file__, '\"'\"'exec'\"'\"'))' egg_info --egg-base /tmp/pip-pip-egg-info-j286mvb4\n",
      "       cwd: /tmp/pip-install-s2q7ic75/mysqlclient_0e2f7757776445f0b29c545421da5cab/\n",
      "  Complete output (10 lines):\n",
      "  /bin/sh: 1: mysql_config: not found\n",
      "  Traceback (most recent call last):\n",
      "    File \"<string>\", line 1, in <module>\n",
      "    File \"/tmp/pip-install-s2q7ic75/mysqlclient_0e2f7757776445f0b29c545421da5cab/setup.py\", line 17, in <module>\n",
      "      metadata, options = get_config()\n",
      "    File \"/tmp/pip-install-s2q7ic75/mysqlclient_0e2f7757776445f0b29c545421da5cab/setup_posix.py\", line 44, in get_config\n",
      "      libs = mysql_config(\"libs_r\")\n",
      "    File \"/tmp/pip-install-s2q7ic75/mysqlclient_0e2f7757776445f0b29c545421da5cab/setup_posix.py\", line 26, in mysql_config\n",
      "      raise EnvironmentError(\"%s not found\" % (mysql_config.path,))\n",
      "  OSError: mysql_config not found\n",
      "  ----------------------------------------\u001b[0m\n",
      "\u001b[33mWARNING: Discarding https://files.pythonhosted.org/packages/74/ff/4e964e20b559e55d7afa60fbccc6a560f2adf289813bd3d7eb4eb8a87093/mysqlclient-1.3.7.tar.gz#sha256=c74a83b4cb2933d0e43370117eeebdfa03077ae72686d2df43d31879267f1f1b (from https://pypi.org/simple/mysqlclient/). Command errored out with exit status 1: python setup.py egg_info Check the logs for full command output.\u001b[0m\n",
      "\u001b[?25h  Downloading mysqlclient-1.3.6.tar.gz (78 kB)\n",
      "     |████████████████████████████████| 78 kB 6.3 MB/s             \n",
      "\u001b[?25h  Preparing metadata (setup.py) ... \u001b[?25lerror\n",
      "\u001b[31m  ERROR: Command errored out with exit status 1:\n",
      "   command: /opt/conda/bin/python3.9 -c 'import io, os, sys, setuptools, tokenize; sys.argv[0] = '\"'\"'/tmp/pip-install-s2q7ic75/mysqlclient_ca759d49da484645a10c8eb2787cd652/setup.py'\"'\"'; __file__='\"'\"'/tmp/pip-install-s2q7ic75/mysqlclient_ca759d49da484645a10c8eb2787cd652/setup.py'\"'\"';f = getattr(tokenize, '\"'\"'open'\"'\"', open)(__file__) if os.path.exists(__file__) else io.StringIO('\"'\"'from setuptools import setup; setup()'\"'\"');code = f.read().replace('\"'\"'\\r\\n'\"'\"', '\"'\"'\\n'\"'\"');f.close();exec(compile(code, __file__, '\"'\"'exec'\"'\"'))' egg_info --egg-base /tmp/pip-pip-egg-info-ttms5ati\n",
      "       cwd: /tmp/pip-install-s2q7ic75/mysqlclient_ca759d49da484645a10c8eb2787cd652/\n",
      "  Complete output (10 lines):\n",
      "  /bin/sh: 1: mysql_config: not found\n",
      "  Traceback (most recent call last):\n",
      "    File \"<string>\", line 1, in <module>\n",
      "    File \"/tmp/pip-install-s2q7ic75/mysqlclient_ca759d49da484645a10c8eb2787cd652/setup.py\", line 17, in <module>\n",
      "      metadata, options = get_config()\n",
      "    File \"/tmp/pip-install-s2q7ic75/mysqlclient_ca759d49da484645a10c8eb2787cd652/setup_posix.py\", line 47, in get_config\n",
      "      libs = mysql_config(\"libs_r\")\n",
      "    File \"/tmp/pip-install-s2q7ic75/mysqlclient_ca759d49da484645a10c8eb2787cd652/setup_posix.py\", line 29, in mysql_config\n",
      "      raise EnvironmentError(\"%s not found\" % (mysql_config.path,))\n",
      "  OSError: mysql_config not found\n",
      "  ----------------------------------------\u001b[0m\n",
      "\u001b[33mWARNING: Discarding https://files.pythonhosted.org/packages/09/29/6648563af4b45798ba667f17ea55166d7b0ed8717937c06977a1fdbe7df6/mysqlclient-1.3.6.tar.gz#sha256=1f63a8ab111530a0ff9acaeb118074f11e7564b7c124f2e7fc56fcac641aecf2 (from https://pypi.org/simple/mysqlclient/). Command errored out with exit status 1: python setup.py egg_info Check the logs for full command output.\u001b[0m\n",
      "\u001b[?25h  Downloading mysqlclient-1.3.5.tar.gz (77 kB)\n",
      "     |████████████████████████████████| 77 kB 7.0 MB/s             \n",
      "\u001b[?25h  Preparing metadata (setup.py) ... \u001b[?25lerror\n",
      "\u001b[31m  ERROR: Command errored out with exit status 1:\n",
      "   command: /opt/conda/bin/python3.9 -c 'import io, os, sys, setuptools, tokenize; sys.argv[0] = '\"'\"'/tmp/pip-install-s2q7ic75/mysqlclient_9861f89f5bc941f18ccd62e5f7b32d1e/setup.py'\"'\"'; __file__='\"'\"'/tmp/pip-install-s2q7ic75/mysqlclient_9861f89f5bc941f18ccd62e5f7b32d1e/setup.py'\"'\"';f = getattr(tokenize, '\"'\"'open'\"'\"', open)(__file__) if os.path.exists(__file__) else io.StringIO('\"'\"'from setuptools import setup; setup()'\"'\"');code = f.read().replace('\"'\"'\\r\\n'\"'\"', '\"'\"'\\n'\"'\"');f.close();exec(compile(code, __file__, '\"'\"'exec'\"'\"'))' egg_info --egg-base /tmp/pip-pip-egg-info-w1sl77a6\n",
      "       cwd: /tmp/pip-install-s2q7ic75/mysqlclient_9861f89f5bc941f18ccd62e5f7b32d1e/\n",
      "  Complete output (10 lines):\n",
      "  /bin/sh: 1: mysql_config: not found\n",
      "  Traceback (most recent call last):\n",
      "    File \"<string>\", line 1, in <module>\n",
      "    File \"/tmp/pip-install-s2q7ic75/mysqlclient_9861f89f5bc941f18ccd62e5f7b32d1e/setup.py\", line 17, in <module>\n",
      "      metadata, options = get_config()\n",
      "    File \"/tmp/pip-install-s2q7ic75/mysqlclient_9861f89f5bc941f18ccd62e5f7b32d1e/setup_posix.py\", line 47, in get_config\n",
      "      libs = mysql_config(\"libs_r\")\n",
      "    File \"/tmp/pip-install-s2q7ic75/mysqlclient_9861f89f5bc941f18ccd62e5f7b32d1e/setup_posix.py\", line 29, in mysql_config\n",
      "      raise EnvironmentError(\"%s not found\" % (mysql_config.path,))\n",
      "  OSError: mysql_config not found\n",
      "  ----------------------------------------\u001b[0m\n",
      "\u001b[33mWARNING: Discarding https://files.pythonhosted.org/packages/82/ea/336daf6c7baa564d0c434ab748218d1a7dc61dfc7066e98b72afd24fd2b9/mysqlclient-1.3.5.tar.gz#sha256=80ea68f6f3c2cfbf35c91adde2b40de1f2c31132118d2dcee048c72423f678bf (from https://pypi.org/simple/mysqlclient/). Command errored out with exit status 1: python setup.py egg_info Check the logs for full command output.\u001b[0m\n",
      "\u001b[?25h  Downloading mysqlclient-1.3.4.tar.gz (77 kB)\n",
      "     |████████████████████████████████| 77 kB 1.6 MB/s             \n",
      "\u001b[?25h  Preparing metadata (setup.py) ... \u001b[?25lerror\n",
      "\u001b[31m  ERROR: Command errored out with exit status 1:\n",
      "   command: /opt/conda/bin/python3.9 -c 'import io, os, sys, setuptools, tokenize; sys.argv[0] = '\"'\"'/tmp/pip-install-s2q7ic75/mysqlclient_6806c19cb7a045829928a57bb882360b/setup.py'\"'\"'; __file__='\"'\"'/tmp/pip-install-s2q7ic75/mysqlclient_6806c19cb7a045829928a57bb882360b/setup.py'\"'\"';f = getattr(tokenize, '\"'\"'open'\"'\"', open)(__file__) if os.path.exists(__file__) else io.StringIO('\"'\"'from setuptools import setup; setup()'\"'\"');code = f.read().replace('\"'\"'\\r\\n'\"'\"', '\"'\"'\\n'\"'\"');f.close();exec(compile(code, __file__, '\"'\"'exec'\"'\"'))' egg_info --egg-base /tmp/pip-pip-egg-info-11bgfgfg\n",
      "       cwd: /tmp/pip-install-s2q7ic75/mysqlclient_6806c19cb7a045829928a57bb882360b/\n",
      "  Complete output (10 lines):\n",
      "  /bin/sh: 1: mysql_config: not found\n",
      "  Traceback (most recent call last):\n",
      "    File \"<string>\", line 1, in <module>\n",
      "    File \"/tmp/pip-install-s2q7ic75/mysqlclient_6806c19cb7a045829928a57bb882360b/setup.py\", line 17, in <module>\n",
      "      metadata, options = get_config()\n",
      "    File \"/tmp/pip-install-s2q7ic75/mysqlclient_6806c19cb7a045829928a57bb882360b/setup_posix.py\", line 47, in get_config\n",
      "      libs = mysql_config(\"libs_r\")\n",
      "    File \"/tmp/pip-install-s2q7ic75/mysqlclient_6806c19cb7a045829928a57bb882360b/setup_posix.py\", line 29, in mysql_config\n",
      "      raise EnvironmentError(\"%s not found\" % (mysql_config.path,))\n",
      "  OSError: mysql_config not found\n",
      "  ----------------------------------------\u001b[0m\n",
      "\u001b[33mWARNING: Discarding https://files.pythonhosted.org/packages/17/d9/03b08e6a033401335b720806b87596aee8d7f7aa87539713238905c4a8d1/mysqlclient-1.3.4.tar.gz#sha256=a0263383f8ac33ad12d68dc61fa8ccbee41244ce916287c6cee71bf8aea82c5c (from https://pypi.org/simple/mysqlclient/). Command errored out with exit status 1: python setup.py egg_info Check the logs for full command output.\u001b[0m\n",
      "\u001b[?25h  Downloading mysqlclient-1.3.3.tar.gz (77 kB)\n",
      "     |████████████████████████████████| 77 kB 6.3 MB/s             \n",
      "\u001b[?25h  Preparing metadata (setup.py) ... \u001b[?25lerror\n",
      "\u001b[31m  ERROR: Command errored out with exit status 1:\n",
      "   command: /opt/conda/bin/python3.9 -c 'import io, os, sys, setuptools, tokenize; sys.argv[0] = '\"'\"'/tmp/pip-install-s2q7ic75/mysqlclient_bb56a85c1bcf4996add0531ca25d8a18/setup.py'\"'\"'; __file__='\"'\"'/tmp/pip-install-s2q7ic75/mysqlclient_bb56a85c1bcf4996add0531ca25d8a18/setup.py'\"'\"';f = getattr(tokenize, '\"'\"'open'\"'\"', open)(__file__) if os.path.exists(__file__) else io.StringIO('\"'\"'from setuptools import setup; setup()'\"'\"');code = f.read().replace('\"'\"'\\r\\n'\"'\"', '\"'\"'\\n'\"'\"');f.close();exec(compile(code, __file__, '\"'\"'exec'\"'\"'))' egg_info --egg-base /tmp/pip-pip-egg-info-jvi7wnm8\n",
      "       cwd: /tmp/pip-install-s2q7ic75/mysqlclient_bb56a85c1bcf4996add0531ca25d8a18/\n",
      "  Complete output (10 lines):\n",
      "  /bin/sh: 1: mysql_config: not found\n",
      "  Traceback (most recent call last):\n",
      "    File \"<string>\", line 1, in <module>\n",
      "    File \"/tmp/pip-install-s2q7ic75/mysqlclient_bb56a85c1bcf4996add0531ca25d8a18/setup.py\", line 17, in <module>\n",
      "      metadata, options = get_config()\n",
      "    File \"/tmp/pip-install-s2q7ic75/mysqlclient_bb56a85c1bcf4996add0531ca25d8a18/setup_posix.py\", line 47, in get_config\n",
      "      libs = mysql_config(\"libs_r\")\n",
      "    File \"/tmp/pip-install-s2q7ic75/mysqlclient_bb56a85c1bcf4996add0531ca25d8a18/setup_posix.py\", line 29, in mysql_config\n",
      "      raise EnvironmentError(\"%s not found\" % (mysql_config.path,))\n",
      "  OSError: mysql_config not found\n",
      "  ----------------------------------------\u001b[0m\n",
      "\u001b[33mWARNING: Discarding https://files.pythonhosted.org/packages/26/53/c575db342bfca0213c9243ed2642bfadcd420b18d2f477dc812543e3d83a/mysqlclient-1.3.3.tar.gz#sha256=0f0887882d71bf2a079d9724d9323053cfbee8ab2dcfc989daf97d7ce5be9af9 (from https://pypi.org/simple/mysqlclient/). Command errored out with exit status 1: python setup.py egg_info Check the logs for full command output.\u001b[0m\n",
      "\u001b[?25h  Downloading mysqlclient-1.3.2.tar.gz (77 kB)\n",
      "     |████████████████████████████████| 77 kB 4.0 MB/s             \n",
      "\u001b[?25h  Preparing metadata (setup.py) ... \u001b[?25lerror\n",
      "\u001b[31m  ERROR: Command errored out with exit status 1:\n",
      "   command: /opt/conda/bin/python3.9 -c 'import io, os, sys, setuptools, tokenize; sys.argv[0] = '\"'\"'/tmp/pip-install-s2q7ic75/mysqlclient_11548c127db54cc490d3559771b37cca/setup.py'\"'\"'; __file__='\"'\"'/tmp/pip-install-s2q7ic75/mysqlclient_11548c127db54cc490d3559771b37cca/setup.py'\"'\"';f = getattr(tokenize, '\"'\"'open'\"'\"', open)(__file__) if os.path.exists(__file__) else io.StringIO('\"'\"'from setuptools import setup; setup()'\"'\"');code = f.read().replace('\"'\"'\\r\\n'\"'\"', '\"'\"'\\n'\"'\"');f.close();exec(compile(code, __file__, '\"'\"'exec'\"'\"'))' egg_info --egg-base /tmp/pip-pip-egg-info-c29xr3lo\n",
      "       cwd: /tmp/pip-install-s2q7ic75/mysqlclient_11548c127db54cc490d3559771b37cca/\n",
      "  Complete output (10 lines):\n",
      "  /bin/sh: 1: mysql_config: not found\n",
      "  Traceback (most recent call last):\n",
      "    File \"<string>\", line 1, in <module>\n",
      "    File \"/tmp/pip-install-s2q7ic75/mysqlclient_11548c127db54cc490d3559771b37cca/setup.py\", line 17, in <module>\n",
      "      metadata, options = get_config()\n",
      "    File \"/tmp/pip-install-s2q7ic75/mysqlclient_11548c127db54cc490d3559771b37cca/setup_posix.py\", line 47, in get_config\n",
      "      libs = mysql_config(\"libs_r\")\n",
      "    File \"/tmp/pip-install-s2q7ic75/mysqlclient_11548c127db54cc490d3559771b37cca/setup_posix.py\", line 29, in mysql_config\n",
      "      raise EnvironmentError(\"%s not found\" % (mysql_config.path,))\n",
      "  OSError: mysql_config not found\n",
      "  ----------------------------------------\u001b[0m\n",
      "\u001b[33mWARNING: Discarding https://files.pythonhosted.org/packages/2d/df/5440ee86bbb248325cdd6e1fc9cbbba365018a0d2d57f673610e020e6b1d/mysqlclient-1.3.2.tar.gz#sha256=e44025830501b9f70f8c2fe8eeff66f0df2df198802f7295801dac199b8236ef (from https://pypi.org/simple/mysqlclient/). Command errored out with exit status 1: python setup.py egg_info Check the logs for full command output.\u001b[0m\n",
      "\u001b[?25h  Downloading mysqlclient-1.3.1.tar.gz (76 kB)\n",
      "     |████████████████████████████████| 76 kB 1.7 MB/s             \n",
      "\u001b[?25h  Preparing metadata (setup.py) ... \u001b[?25lerror\n",
      "\u001b[31m  ERROR: Command errored out with exit status 1:\n",
      "   command: /opt/conda/bin/python3.9 -c 'import io, os, sys, setuptools, tokenize; sys.argv[0] = '\"'\"'/tmp/pip-install-s2q7ic75/mysqlclient_d656ef8e9b4d42ba956749eaa743a65e/setup.py'\"'\"'; __file__='\"'\"'/tmp/pip-install-s2q7ic75/mysqlclient_d656ef8e9b4d42ba956749eaa743a65e/setup.py'\"'\"';f = getattr(tokenize, '\"'\"'open'\"'\"', open)(__file__) if os.path.exists(__file__) else io.StringIO('\"'\"'from setuptools import setup; setup()'\"'\"');code = f.read().replace('\"'\"'\\r\\n'\"'\"', '\"'\"'\\n'\"'\"');f.close();exec(compile(code, __file__, '\"'\"'exec'\"'\"'))' egg_info --egg-base /tmp/pip-pip-egg-info-1cyf0uqx\n",
      "       cwd: /tmp/pip-install-s2q7ic75/mysqlclient_d656ef8e9b4d42ba956749eaa743a65e/\n",
      "  Complete output (10 lines):\n",
      "  /bin/sh: 1: mysql_config: not found\n",
      "  Traceback (most recent call last):\n",
      "    File \"<string>\", line 1, in <module>\n",
      "    File \"/tmp/pip-install-s2q7ic75/mysqlclient_d656ef8e9b4d42ba956749eaa743a65e/setup.py\", line 17, in <module>\n",
      "      metadata, options = get_config()\n",
      "    File \"/tmp/pip-install-s2q7ic75/mysqlclient_d656ef8e9b4d42ba956749eaa743a65e/setup_posix.py\", line 47, in get_config\n",
      "      libs = mysql_config(\"libs_r\")\n",
      "    File \"/tmp/pip-install-s2q7ic75/mysqlclient_d656ef8e9b4d42ba956749eaa743a65e/setup_posix.py\", line 29, in mysql_config\n",
      "      raise EnvironmentError(\"%s not found\" % (mysql_config.path,))\n",
      "  OSError: mysql_config not found\n",
      "  ----------------------------------------\u001b[0m\n",
      "\u001b[33mWARNING: Discarding https://files.pythonhosted.org/packages/6b/ba/4729d99e85a0a35bb46d55500570de05b4af10431cef174b6da9f58a0e50/mysqlclient-1.3.1.tar.gz#sha256=3549e8a61f10c8cd8eac6581d3f44d0594f535fb7b29e6090db3a0bc547b25ad (from https://pypi.org/simple/mysqlclient/). Command errored out with exit status 1: python setup.py egg_info Check the logs for full command output.\u001b[0m\n",
      "\u001b[?25h  Downloading mysqlclient-1.3.0.tar.gz (76 kB)\n",
      "     |████████████████████████████████| 76 kB 2.6 MB/s             \n",
      "\u001b[?25h  Preparing metadata (setup.py) ... \u001b[?25lerror\n",
      "\u001b[31m  ERROR: Command errored out with exit status 1:\n",
      "   command: /opt/conda/bin/python3.9 -c 'import io, os, sys, setuptools, tokenize; sys.argv[0] = '\"'\"'/tmp/pip-install-s2q7ic75/mysqlclient_9691c469a5e642e1b66a0f0a6052563a/setup.py'\"'\"'; __file__='\"'\"'/tmp/pip-install-s2q7ic75/mysqlclient_9691c469a5e642e1b66a0f0a6052563a/setup.py'\"'\"';f = getattr(tokenize, '\"'\"'open'\"'\"', open)(__file__) if os.path.exists(__file__) else io.StringIO('\"'\"'from setuptools import setup; setup()'\"'\"');code = f.read().replace('\"'\"'\\r\\n'\"'\"', '\"'\"'\\n'\"'\"');f.close();exec(compile(code, __file__, '\"'\"'exec'\"'\"'))' egg_info --egg-base /tmp/pip-pip-egg-info-s5oslx20\n",
      "       cwd: /tmp/pip-install-s2q7ic75/mysqlclient_9691c469a5e642e1b66a0f0a6052563a/\n",
      "  Complete output (10 lines):\n",
      "  /bin/sh: 1: mysql_config: not found\n",
      "  Traceback (most recent call last):\n",
      "    File \"<string>\", line 1, in <module>\n",
      "    File \"/tmp/pip-install-s2q7ic75/mysqlclient_9691c469a5e642e1b66a0f0a6052563a/setup.py\", line 17, in <module>\n",
      "      metadata, options = get_config()\n",
      "    File \"/tmp/pip-install-s2q7ic75/mysqlclient_9691c469a5e642e1b66a0f0a6052563a/setup_posix.py\", line 47, in get_config\n",
      "      libs = mysql_config(\"libs_r\")\n",
      "    File \"/tmp/pip-install-s2q7ic75/mysqlclient_9691c469a5e642e1b66a0f0a6052563a/setup_posix.py\", line 29, in mysql_config\n",
      "      raise EnvironmentError(\"%s not found\" % (mysql_config.path,))\n",
      "  OSError: mysql_config not found\n",
      "  ----------------------------------------\u001b[0m\n",
      "\u001b[33mWARNING: Discarding https://files.pythonhosted.org/packages/6a/91/bdfe808fb5dc99a5f65833b370818161b77ef6d1e19b488e4c146ab615aa/mysqlclient-1.3.0.tar.gz#sha256=06eb5664e3738b283ea2262ee60ed83192e898f019cc7ff251f4d05a564ab3b7 (from https://pypi.org/simple/mysqlclient/). Command errored out with exit status 1: python setup.py egg_info Check the logs for full command output.\u001b[0m\n",
      "\u001b[?25hCollecting pattern\n",
      "  Downloading pattern-2.6.zip (24.6 MB)\n",
      "     |████████████████████████████████| 24.6 MB 43.6 MB/s            \n",
      "\u001b[?25h  Preparing metadata (setup.py) ... \u001b[?25lerror\n",
      "\u001b[31m  ERROR: Command errored out with exit status 1:\n",
      "   command: /opt/conda/bin/python3.9 -c 'import io, os, sys, setuptools, tokenize; sys.argv[0] = '\"'\"'/tmp/pip-install-s2q7ic75/pattern_3bab50a378cf475fa0d59cb4717c3efb/setup.py'\"'\"'; __file__='\"'\"'/tmp/pip-install-s2q7ic75/pattern_3bab50a378cf475fa0d59cb4717c3efb/setup.py'\"'\"';f = getattr(tokenize, '\"'\"'open'\"'\"', open)(__file__) if os.path.exists(__file__) else io.StringIO('\"'\"'from setuptools import setup; setup()'\"'\"');code = f.read().replace('\"'\"'\\r\\n'\"'\"', '\"'\"'\\n'\"'\"');f.close();exec(compile(code, __file__, '\"'\"'exec'\"'\"'))' egg_info --egg-base /tmp/pip-pip-egg-info-fogq9hwh\n",
      "       cwd: /tmp/pip-install-s2q7ic75/pattern_3bab50a378cf475fa0d59cb4717c3efb/\n",
      "  Complete output (6 lines):\n",
      "  Traceback (most recent call last):\n",
      "    File \"<string>\", line 1, in <module>\n",
      "    File \"/tmp/pip-install-s2q7ic75/pattern_3bab50a378cf475fa0d59cb4717c3efb/setup.py\", line 40\n",
      "      print n\n",
      "            ^\n",
      "  SyntaxError: Missing parentheses in call to 'print'. Did you mean print(n)?\n",
      "  ----------------------------------------\u001b[0m\n",
      "\u001b[33mWARNING: Discarding https://files.pythonhosted.org/packages/bf/50/d09941d53416f2a86676bd0dc341d5968b599a763b73f5d13f51c57b5641/pattern-2.6.zip#sha256=003aa285adc23b72255ca8b9f052c6a2644b245b3a9666af007e086428a950be (from https://pypi.org/simple/pattern/). Command errored out with exit status 1: python setup.py egg_info Check the logs for full command output.\u001b[0m\n",
      "\u001b[31mERROR: Could not find a version that satisfies the requirement mysqlclient (from pattern) (from versions: 1.3.0, 1.3.1, 1.3.2, 1.3.3, 1.3.4, 1.3.5, 1.3.6, 1.3.7, 1.3.8, 1.3.9, 1.3.10, 1.3.11rc1, 1.3.11, 1.3.12, 1.3.13, 1.3.14, 1.4.0rc1, 1.4.0rc2, 1.4.0rc3, 1.4.0, 1.4.1, 1.4.2, 1.4.2.post1, 1.4.3, 1.4.4, 1.4.5, 1.4.6, 2.0.0, 2.0.1, 2.0.2, 2.0.3, 2.1.0rc1, 2.1.0)\u001b[0m\n",
      "\u001b[31mERROR: No matching distribution found for mysqlclient\u001b[0m\n",
      "\u001b[?25h"
     ]
    }
   ],
   "source": [
    "!pip install pattern "
   ]
  },
  {
   "cell_type": "markdown",
   "metadata": {
    "id": "iE0gkT95Plgj"
   },
   "source": [
    "__Создадим для теста списки с русскими текстами и один с английским - goes__"
   ]
  },
  {
   "cell_type": "code",
   "execution_count": 26,
   "metadata": {
    "executionInfo": {
     "elapsed": 25,
     "status": "ok",
     "timestamp": 1653962297087,
     "user": {
      "displayName": "Илья Должанский",
      "userId": "02574470818990683130"
     },
     "user_tz": -180
    },
    "id": "apEk-t0pPlgj"
   },
   "outputs": [],
   "source": [
    "ariya = \"Ночь унесла тяжёлые тучи. Но дни, горьким сумраком полны.Мы расстаемся - так будет лучше! Вдвоем нам не выбраться из тьмы...\"\n",
    "visocki = \"Для остановки нет причин, иду по жизни скользя! И в мире нет таких вершин, которые взять не льзя!\"\n",
    "pugacheva = \"Я в глаза @@@ твои, Глазами о глазах,14!!!3_ поглазею оглязевшись все вокруг ###. Goes if goes goes and go for going. как в зеркало смотрюсь, отраженье потерять своё боюсь,\\\n",
    "не хочу чтоб ты лишь гостем был в сумраке ночей и судьбе моей\"\n",
    "goes = \" 'Goes if goes goes and go for going. bats and feet.###))! Hey man, I'm really not trying to edit war. It's just that this 14!!!3_ guy is constantly @@@removing relevant information and talking to me through edits \""
   ]
  },
  {
   "cell_type": "markdown",
   "metadata": {
    "id": "r6aDjvAYPlgg"
   },
   "source": [
    "<div class=\"alert alert-success\">\n",
    "<b>2 Комментарий ревьюера ✔️:</b> Отличные примеры!)"
   ]
  },
  {
   "cell_type": "markdown",
   "metadata": {
    "id": "jiCP_NpmPlgk"
   },
   "source": [
    "__На основе полученных списков создадим  тестовый датафрейм df_rus__"
   ]
  },
  {
   "cell_type": "code",
   "execution_count": 27,
   "metadata": {
    "colab": {
     "base_uri": "https://localhost:8080/",
     "height": 175
    },
    "executionInfo": {
     "elapsed": 25,
     "status": "ok",
     "timestamp": 1653962297089,
     "user": {
      "displayName": "Илья Должанский",
      "userId": "02574470818990683130"
     },
     "user_tz": -180
    },
    "id": "mJ7Cc8jSPlgk",
    "outputId": "af659ce4-189c-4aa1-9344-4711fb74f73b"
   },
   "outputs": [
    {
     "data": {
      "text/html": [
       "\n",
       "  <div id=\"df-d9701f2e-2723-4cfb-9960-07c8e8908734\">\n",
       "    <div class=\"colab-df-container\">\n",
       "      <div>\n",
       "<style scoped>\n",
       "    .dataframe tbody tr th:only-of-type {\n",
       "        vertical-align: middle;\n",
       "    }\n",
       "\n",
       "    .dataframe tbody tr th {\n",
       "        vertical-align: top;\n",
       "    }\n",
       "\n",
       "    .dataframe thead th {\n",
       "        text-align: right;\n",
       "    }\n",
       "</style>\n",
       "<table border=\"1\" class=\"dataframe\">\n",
       "  <thead>\n",
       "    <tr style=\"text-align: right;\">\n",
       "      <th></th>\n",
       "      <th>text</th>\n",
       "    </tr>\n",
       "  </thead>\n",
       "  <tbody>\n",
       "    <tr>\n",
       "      <th>0</th>\n",
       "      <td>Ночь унесла тяжёлые тучи. Но дни, горьким сумр...</td>\n",
       "    </tr>\n",
       "    <tr>\n",
       "      <th>1</th>\n",
       "      <td>Для остановки нет причин, иду по жизни скользя...</td>\n",
       "    </tr>\n",
       "    <tr>\n",
       "      <th>2</th>\n",
       "      <td>Я в глаза @@@ твои, Глазами о глазах,14!!!3_ п...</td>\n",
       "    </tr>\n",
       "    <tr>\n",
       "      <th>3</th>\n",
       "      <td>'Goes if goes goes and go for going. bats and...</td>\n",
       "    </tr>\n",
       "  </tbody>\n",
       "</table>\n",
       "</div>\n",
       "      <button class=\"colab-df-convert\" onclick=\"convertToInteractive('df-d9701f2e-2723-4cfb-9960-07c8e8908734')\"\n",
       "              title=\"Convert this dataframe to an interactive table.\"\n",
       "              style=\"display:none;\">\n",
       "        \n",
       "  <svg xmlns=\"http://www.w3.org/2000/svg\" height=\"24px\"viewBox=\"0 0 24 24\"\n",
       "       width=\"24px\">\n",
       "    <path d=\"M0 0h24v24H0V0z\" fill=\"none\"/>\n",
       "    <path d=\"M18.56 5.44l.94 2.06.94-2.06 2.06-.94-2.06-.94-.94-2.06-.94 2.06-2.06.94zm-11 1L8.5 8.5l.94-2.06 2.06-.94-2.06-.94L8.5 2.5l-.94 2.06-2.06.94zm10 10l.94 2.06.94-2.06 2.06-.94-2.06-.94-.94-2.06-.94 2.06-2.06.94z\"/><path d=\"M17.41 7.96l-1.37-1.37c-.4-.4-.92-.59-1.43-.59-.52 0-1.04.2-1.43.59L10.3 9.45l-7.72 7.72c-.78.78-.78 2.05 0 2.83L4 21.41c.39.39.9.59 1.41.59.51 0 1.02-.2 1.41-.59l7.78-7.78 2.81-2.81c.8-.78.8-2.07 0-2.86zM5.41 20L4 18.59l7.72-7.72 1.47 1.35L5.41 20z\"/>\n",
       "  </svg>\n",
       "      </button>\n",
       "      \n",
       "  <style>\n",
       "    .colab-df-container {\n",
       "      display:flex;\n",
       "      flex-wrap:wrap;\n",
       "      gap: 12px;\n",
       "    }\n",
       "\n",
       "    .colab-df-convert {\n",
       "      background-color: #E8F0FE;\n",
       "      border: none;\n",
       "      border-radius: 50%;\n",
       "      cursor: pointer;\n",
       "      display: none;\n",
       "      fill: #1967D2;\n",
       "      height: 32px;\n",
       "      padding: 0 0 0 0;\n",
       "      width: 32px;\n",
       "    }\n",
       "\n",
       "    .colab-df-convert:hover {\n",
       "      background-color: #E2EBFA;\n",
       "      box-shadow: 0px 1px 2px rgba(60, 64, 67, 0.3), 0px 1px 3px 1px rgba(60, 64, 67, 0.15);\n",
       "      fill: #174EA6;\n",
       "    }\n",
       "\n",
       "    [theme=dark] .colab-df-convert {\n",
       "      background-color: #3B4455;\n",
       "      fill: #D2E3FC;\n",
       "    }\n",
       "\n",
       "    [theme=dark] .colab-df-convert:hover {\n",
       "      background-color: #434B5C;\n",
       "      box-shadow: 0px 1px 3px 1px rgba(0, 0, 0, 0.15);\n",
       "      filter: drop-shadow(0px 1px 2px rgba(0, 0, 0, 0.3));\n",
       "      fill: #FFFFFF;\n",
       "    }\n",
       "  </style>\n",
       "\n",
       "      <script>\n",
       "        const buttonEl =\n",
       "          document.querySelector('#df-d9701f2e-2723-4cfb-9960-07c8e8908734 button.colab-df-convert');\n",
       "        buttonEl.style.display =\n",
       "          google.colab.kernel.accessAllowed ? 'block' : 'none';\n",
       "\n",
       "        async function convertToInteractive(key) {\n",
       "          const element = document.querySelector('#df-d9701f2e-2723-4cfb-9960-07c8e8908734');\n",
       "          const dataTable =\n",
       "            await google.colab.kernel.invokeFunction('convertToInteractive',\n",
       "                                                     [key], {});\n",
       "          if (!dataTable) return;\n",
       "\n",
       "          const docLinkHtml = 'Like what you see? Visit the ' +\n",
       "            '<a target=\"_blank\" href=https://colab.research.google.com/notebooks/data_table.ipynb>data table notebook</a>'\n",
       "            + ' to learn more about interactive tables.';\n",
       "          element.innerHTML = '';\n",
       "          dataTable['output_type'] = 'display_data';\n",
       "          await google.colab.output.renderOutput(dataTable, element);\n",
       "          const docLink = document.createElement('div');\n",
       "          docLink.innerHTML = docLinkHtml;\n",
       "          element.appendChild(docLink);\n",
       "        }\n",
       "      </script>\n",
       "    </div>\n",
       "  </div>\n",
       "  "
      ],
      "text/plain": [
       "                                                text\n",
       "0  Ночь унесла тяжёлые тучи. Но дни, горьким сумр...\n",
       "1  Для остановки нет причин, иду по жизни скользя...\n",
       "2  Я в глаза @@@ твои, Глазами о глазах,14!!!3_ п...\n",
       "3   'Goes if goes goes and go for going. bats and..."
      ]
     },
     "execution_count": 27,
     "metadata": {},
     "output_type": "execute_result"
    }
   ],
   "source": [
    "df_rus = pd.DataFrame([ariya, visocki,pugacheva, goes],  columns =  [\"text\"])\n",
    "df_rus"
   ]
  },
  {
   "cell_type": "markdown",
   "metadata": {
    "id": "4wd84X3nPlgk"
   },
   "source": [
    "Создадим функции __lemmatize()__ и  при помощи которой лематизируем и очистим строки с текстом"
   ]
  },
  {
   "cell_type": "code",
   "execution_count": 5,
   "metadata": {
    "executionInfo": {
     "elapsed": 23,
     "status": "ok",
     "timestamp": 1653962297090,
     "user": {
      "displayName": "Илья Должанский",
      "userId": "02574470818990683130"
     },
     "user_tz": -180
    },
    "id": "HqWlMXcAPlgl"
   },
   "outputs": [],
   "source": [
    "corpus_rus = df_rus['text'].values.astype('U') # корпус для русских текстов\n",
    "\n",
    "corpus = list(df['text']) # корпус для английских текстов\n",
    "#corpus = df_rus['text'].values.astype('U') # корпус для английских текстов\n",
    "def lemmatize(text,yazik):\n",
    "    if  yazik == 'rus':\n",
    "        lemm_list = re.sub(r'[^а-яА-ЯёЁ ]', ' ', text)# оставить только кириллические символы и пробелы.\n",
    "        #lemm_list.split создаем список без лиш пробел, .join объединякм список в упоряюоченный текст\n",
    "        text = \" \".join(lemm_list.split())\n",
    "        from pymystem3 import Mystem\n",
    "        m = Mystem()\n",
    "        lemm_list = m.lemmatize(text)\n",
    "        lemm_text = \" \".join(lemm_list)     \n",
    "        return lemm_text\n",
    "    \n",
    "    if yazik == 'eng':\n",
    "        lemm_list = re.sub(r'[^a-zA-Z ]', ' ', text)# # оставить только кириллические символы и пробелы.\n",
    "        text = \" \".join(lemm_list.split())\n",
    "        # text.split создаем список без лиш пробел, .join объединякм список в упоряюоченный текст \n",
    "        import pattern\n",
    "        from pattern.en import lemma, lexeme\n",
    "        lemm_text = \" \".join([lemma(wd) for wd in text.split()])\n",
    "        return lemm_text   "
   ]
  },
  {
   "cell_type": "code",
   "execution_count": 30,
   "metadata": {
    "colab": {
     "base_uri": "https://localhost:8080/"
    },
    "executionInfo": {
     "elapsed": 393,
     "status": "ok",
     "timestamp": 1653962307749,
     "user": {
      "displayName": "Илья Должанский",
      "userId": "02574470818990683130"
     },
     "user_tz": -180
    },
    "id": "GIE6xG1RPlgl",
    "outputId": "d05a1822-7c75-4b6c-8dfd-166dbd63f76c"
   },
   "outputs": [
    {
     "name": "stdout",
     "output_type": "stream",
     "text": [
      "Исходный текст: \n",
      "  'Goes if goes goes and go for going. bats and feet.###))! Hey man, I'm really not trying to edit war. It's just that this 14!!!3_ guy is constantly @@@removing relevant information and talking to me through edits \n",
      "\n",
      "Очищенный и лемматизированный текст: \n",
      " go if go go and go for go bat and feet hey man i m really not try to edit war it  just that thi guy be constantly remove relevant information and talk to me through edit\n"
     ]
    }
   ],
   "source": [
    "try: #конструкция try-except помогает выбрать работающий путь к исследуемым файлам\n",
    "    # потестируем работу функций по очистке и лемматизации\n",
    "\n",
    "    cor = corpus_rus[3]# выбираем строку для обработки \n",
    "    language = \"eng\" # выбираем язык для обработки\n",
    "\n",
    "    print(\"Исходный текст:\", '\\n', cor)\n",
    "    print()\n",
    "    print(\"Очищенный и лемматизированный текст:\",'\\n', lemmatize(cor,language))\n",
    "except:\n",
    "    # потестируем работу функций по очистке и лемматизации\n",
    "\n",
    "    print(\"Очищенный и лемматизированный текст:\",'\\n', lemmatize(cor,language))"
   ]
  },
  {
   "cell_type": "markdown",
   "metadata": {
    "id": "r6aDjvAYPlgg"
   },
   "source": [
    "<div class=\"alert alert-success\">\n",
    "<b>2 Комментарий ревьюера ✔️:</b> Топ!"
   ]
  },
  {
   "cell_type": "markdown",
   "metadata": {
    "id": "aRTPFFigPlgl"
   },
   "source": [
    "Добавим обработанный столбец  __lem_text__ в рабочий датасет __df__"
   ]
  },
  {
   "cell_type": "code",
   "execution_count": 31,
   "metadata": {
    "colab": {
     "base_uri": "https://localhost:8080/"
    },
    "executionInfo": {
     "elapsed": 35794,
     "status": "ok",
     "timestamp": 1653962343919,
     "user": {
      "displayName": "Илья Должанский",
      "userId": "02574470818990683130"
     },
     "user_tz": -180
    },
    "id": "Eq_iKkBoPlgl",
    "outputId": "61432d8e-1001-426f-914d-ba41e037e676"
   },
   "outputs": [
    {
     "name": "stdout",
     "output_type": "stream",
     "text": [
      "CPU times: user 26.9 s, sys: 39.9 ms, total: 27 s\n",
      "Wall time: 35.5 s\n"
     ]
    }
   ],
   "source": [
    "%%time\n",
    "df['lem_text'] = df['text'].map(lambda x: lemmatize(x,'eng'))"
   ]
  },
  {
   "cell_type": "code",
   "execution_count": 32,
   "metadata": {
    "colab": {
     "base_uri": "https://localhost:8080/",
     "height": 143
    },
    "executionInfo": {
     "elapsed": 21,
     "status": "ok",
     "timestamp": 1653962343921,
     "user": {
      "displayName": "Илья Должанский",
      "userId": "02574470818990683130"
     },
     "user_tz": -180
    },
    "id": "xuWPkwiIPlgm",
    "outputId": "44206043-c20b-456b-d947-0e13bcd289f5"
   },
   "outputs": [
    {
     "data": {
      "text/html": [
       "\n",
       "  <div id=\"df-250db4a4-4ffa-4371-bc39-8971a6e1c8b0\">\n",
       "    <div class=\"colab-df-container\">\n",
       "      <div>\n",
       "<style scoped>\n",
       "    .dataframe tbody tr th:only-of-type {\n",
       "        vertical-align: middle;\n",
       "    }\n",
       "\n",
       "    .dataframe tbody tr th {\n",
       "        vertical-align: top;\n",
       "    }\n",
       "\n",
       "    .dataframe thead th {\n",
       "        text-align: right;\n",
       "    }\n",
       "</style>\n",
       "<table border=\"1\" class=\"dataframe\">\n",
       "  <thead>\n",
       "    <tr style=\"text-align: right;\">\n",
       "      <th></th>\n",
       "      <th>text</th>\n",
       "      <th>toxic</th>\n",
       "      <th>lem_text</th>\n",
       "    </tr>\n",
       "  </thead>\n",
       "  <tbody>\n",
       "    <tr>\n",
       "      <th>0</th>\n",
       "      <td>Explanation\\nWhy the edits made under my usern...</td>\n",
       "      <td>0</td>\n",
       "      <td>explanation why the edit make under my usernam...</td>\n",
       "    </tr>\n",
       "    <tr>\n",
       "      <th>1</th>\n",
       "      <td>D'aww! He matches this background colour I'm s...</td>\n",
       "      <td>0</td>\n",
       "      <td>d aww he match thi background colour i m seemi...</td>\n",
       "    </tr>\n",
       "    <tr>\n",
       "      <th>2</th>\n",
       "      <td>Hey man, I'm really not trying to edit war. It...</td>\n",
       "      <td>0</td>\n",
       "      <td>hey man i m really not try to edit war it  jus...</td>\n",
       "    </tr>\n",
       "  </tbody>\n",
       "</table>\n",
       "</div>\n",
       "      <button class=\"colab-df-convert\" onclick=\"convertToInteractive('df-250db4a4-4ffa-4371-bc39-8971a6e1c8b0')\"\n",
       "              title=\"Convert this dataframe to an interactive table.\"\n",
       "              style=\"display:none;\">\n",
       "        \n",
       "  <svg xmlns=\"http://www.w3.org/2000/svg\" height=\"24px\"viewBox=\"0 0 24 24\"\n",
       "       width=\"24px\">\n",
       "    <path d=\"M0 0h24v24H0V0z\" fill=\"none\"/>\n",
       "    <path d=\"M18.56 5.44l.94 2.06.94-2.06 2.06-.94-2.06-.94-.94-2.06-.94 2.06-2.06.94zm-11 1L8.5 8.5l.94-2.06 2.06-.94-2.06-.94L8.5 2.5l-.94 2.06-2.06.94zm10 10l.94 2.06.94-2.06 2.06-.94-2.06-.94-.94-2.06-.94 2.06-2.06.94z\"/><path d=\"M17.41 7.96l-1.37-1.37c-.4-.4-.92-.59-1.43-.59-.52 0-1.04.2-1.43.59L10.3 9.45l-7.72 7.72c-.78.78-.78 2.05 0 2.83L4 21.41c.39.39.9.59 1.41.59.51 0 1.02-.2 1.41-.59l7.78-7.78 2.81-2.81c.8-.78.8-2.07 0-2.86zM5.41 20L4 18.59l7.72-7.72 1.47 1.35L5.41 20z\"/>\n",
       "  </svg>\n",
       "      </button>\n",
       "      \n",
       "  <style>\n",
       "    .colab-df-container {\n",
       "      display:flex;\n",
       "      flex-wrap:wrap;\n",
       "      gap: 12px;\n",
       "    }\n",
       "\n",
       "    .colab-df-convert {\n",
       "      background-color: #E8F0FE;\n",
       "      border: none;\n",
       "      border-radius: 50%;\n",
       "      cursor: pointer;\n",
       "      display: none;\n",
       "      fill: #1967D2;\n",
       "      height: 32px;\n",
       "      padding: 0 0 0 0;\n",
       "      width: 32px;\n",
       "    }\n",
       "\n",
       "    .colab-df-convert:hover {\n",
       "      background-color: #E2EBFA;\n",
       "      box-shadow: 0px 1px 2px rgba(60, 64, 67, 0.3), 0px 1px 3px 1px rgba(60, 64, 67, 0.15);\n",
       "      fill: #174EA6;\n",
       "    }\n",
       "\n",
       "    [theme=dark] .colab-df-convert {\n",
       "      background-color: #3B4455;\n",
       "      fill: #D2E3FC;\n",
       "    }\n",
       "\n",
       "    [theme=dark] .colab-df-convert:hover {\n",
       "      background-color: #434B5C;\n",
       "      box-shadow: 0px 1px 3px 1px rgba(0, 0, 0, 0.15);\n",
       "      filter: drop-shadow(0px 1px 2px rgba(0, 0, 0, 0.3));\n",
       "      fill: #FFFFFF;\n",
       "    }\n",
       "  </style>\n",
       "\n",
       "      <script>\n",
       "        const buttonEl =\n",
       "          document.querySelector('#df-250db4a4-4ffa-4371-bc39-8971a6e1c8b0 button.colab-df-convert');\n",
       "        buttonEl.style.display =\n",
       "          google.colab.kernel.accessAllowed ? 'block' : 'none';\n",
       "\n",
       "        async function convertToInteractive(key) {\n",
       "          const element = document.querySelector('#df-250db4a4-4ffa-4371-bc39-8971a6e1c8b0');\n",
       "          const dataTable =\n",
       "            await google.colab.kernel.invokeFunction('convertToInteractive',\n",
       "                                                     [key], {});\n",
       "          if (!dataTable) return;\n",
       "\n",
       "          const docLinkHtml = 'Like what you see? Visit the ' +\n",
       "            '<a target=\"_blank\" href=https://colab.research.google.com/notebooks/data_table.ipynb>data table notebook</a>'\n",
       "            + ' to learn more about interactive tables.';\n",
       "          element.innerHTML = '';\n",
       "          dataTable['output_type'] = 'display_data';\n",
       "          await google.colab.output.renderOutput(dataTable, element);\n",
       "          const docLink = document.createElement('div');\n",
       "          docLink.innerHTML = docLinkHtml;\n",
       "          element.appendChild(docLink);\n",
       "        }\n",
       "      </script>\n",
       "    </div>\n",
       "  </div>\n",
       "  "
      ],
      "text/plain": [
       "                                                text  toxic  \\\n",
       "0  Explanation\\nWhy the edits made under my usern...      0   \n",
       "1  D'aww! He matches this background colour I'm s...      0   \n",
       "2  Hey man, I'm really not trying to edit war. It...      0   \n",
       "\n",
       "                                            lem_text  \n",
       "0  explanation why the edit make under my usernam...  \n",
       "1  d aww he match thi background colour i m seemi...  \n",
       "2  hey man i m really not try to edit war it  jus...  "
      ]
     },
     "execution_count": 32,
     "metadata": {},
     "output_type": "execute_result"
    }
   ],
   "source": [
    "df.head(3)"
   ]
  },
  {
   "cell_type": "markdown",
   "metadata": {
    "id": "XhoQuwfRPlgm"
   },
   "source": [
    "Добавим обработанный столбец  __lem_text_rus__ в тестовый датасет __df_rus__"
   ]
  },
  {
   "cell_type": "code",
   "execution_count": 34,
   "metadata": {
    "executionInfo": {
     "elapsed": 315,
     "status": "ok",
     "timestamp": 1653962420068,
     "user": {
      "displayName": "Илья Должанский",
      "userId": "02574470818990683130"
     },
     "user_tz": -180
    },
    "id": "Bjiizr-APlgm",
    "scrolled": true
   },
   "outputs": [],
   "source": [
    "%%script false # Пропустить выполнение ячейки\n",
    "%%time\n",
    "df_rus['lem_text_rus'] = df_rus['text'].map(lambda text: lemmatize(text,'rus'))\n",
    "df_rus"
   ]
  },
  {
   "attachments": {
    "image-2.png": {
     "image/png": "[encoded data removed]"
    }
   },
   "cell_type": "markdown",
   "metadata": {
    "id": "vp7zF4UkPlgn"
   },
   "source": [
    "<div style=\"border:solid light blue 1px; padding: 1px\">\n",
    "<div class=\"alert alert-info\">\n",
    "<b>Комментарий студента:</b>\n",
    "    \n",
    "Да, не работало ничего. Если честно, спринт не очень грамотно сделан. Тренажер сырой, пропускал без возможности разобраться. Опять, на лемматизации,  предложили __pymystem3__, вместо английских вариантов, задание дали на английском!. Даже в поддержку написал с  этим:<br>\n",
    "    ![image-2.png](attachment:image-2.png)\n",
    "   \n",
    "к чему это здесь?!<br>\n",
    "__Конец.__  \n",
    "    \n",
    "</div>"
   ]
  },
  {
   "cell_type": "markdown",
   "metadata": {},
   "source": [
    "<div class=\"alert alert-success\">\n",
    "<b>2 Комментарий ревьюера ✔️:</b> Если написал в поддержку, то советую также обратиться к куратору/преподавателю/задать вопрос в чате slack. Я тоже поговорю по поводу этого блока. Описание к нему звучит странно, я согласен..)"
   ]
  },
  {
   "cell_type": "markdown",
   "metadata": {
    "executionInfo": {
     "elapsed": 46,
     "status": "ok",
     "timestamp": 1653744224352,
     "user": {
      "displayName": "Илья Должанский",
      "userId": "02574470818990683130"
     },
     "user_tz": -180
    },
    "id": "vz8xKk6TXlCf"
   },
   "source": [
    "Удалим из полученного столбца ___lem_text___ стоп_слова результат, для возможности тестировать разные предобработки, сохраним в новый столбец  ___lem_text_stopwords___"
   ]
  },
  {
   "cell_type": "code",
   "execution_count": 35,
   "metadata": {
    "executionInfo": {
     "elapsed": 24462,
     "status": "ok",
     "timestamp": 1653962444525,
     "user": {
      "displayName": "Илья Должанский",
      "userId": "02574470818990683130"
     },
     "user_tz": -180
    },
    "id": "iXDuSzejXlCg"
   },
   "outputs": [],
   "source": [
    "# Импортируем стоп_слова.\n",
    "from nltk.corpus import stopwords\n",
    "stop = stopwords.words('english')\n",
    "\n",
    "# # Исключаем стоп-слова с пониманием списка Python\n",
    "df['lem_text_stopwords'] = df['lem_text'].apply(lambda x: ' '.join([word for word in x.split() if word not in (stop)]))\n"
   ]
  },
  {
   "cell_type": "code",
   "execution_count": 36,
   "metadata": {
    "colab": {
     "base_uri": "https://localhost:8080/",
     "height": 206
    },
    "executionInfo": {
     "elapsed": 40,
     "status": "ok",
     "timestamp": 1653962444527,
     "user": {
      "displayName": "Илья Должанский",
      "userId": "02574470818990683130"
     },
     "user_tz": -180
    },
    "id": "Qg-owwjTXlCg",
    "outputId": "b4b54d2f-0d30-4897-9e93-7f396560004e",
    "scrolled": true
   },
   "outputs": [
    {
     "data": {
      "text/html": [
       "\n",
       "  <div id=\"df-d9d32466-49cf-4494-a701-a0160193eed8\">\n",
       "    <div class=\"colab-df-container\">\n",
       "      <div>\n",
       "<style scoped>\n",
       "    .dataframe tbody tr th:only-of-type {\n",
       "        vertical-align: middle;\n",
       "    }\n",
       "\n",
       "    .dataframe tbody tr th {\n",
       "        vertical-align: top;\n",
       "    }\n",
       "\n",
       "    .dataframe thead th {\n",
       "        text-align: right;\n",
       "    }\n",
       "</style>\n",
       "<table border=\"1\" class=\"dataframe\">\n",
       "  <thead>\n",
       "    <tr style=\"text-align: right;\">\n",
       "      <th></th>\n",
       "      <th>text</th>\n",
       "      <th>toxic</th>\n",
       "      <th>lem_text</th>\n",
       "      <th>lem_text_stopwords</th>\n",
       "    </tr>\n",
       "  </thead>\n",
       "  <tbody>\n",
       "    <tr>\n",
       "      <th>0</th>\n",
       "      <td>Explanation\\nWhy the edits made under my usern...</td>\n",
       "      <td>0</td>\n",
       "      <td>explanation why the edit make under my usernam...</td>\n",
       "      <td>explanation edit make username hardcore metall...</td>\n",
       "    </tr>\n",
       "    <tr>\n",
       "      <th>1</th>\n",
       "      <td>D'aww! He matches this background colour I'm s...</td>\n",
       "      <td>0</td>\n",
       "      <td>d aww he match thi background colour i m seemi...</td>\n",
       "      <td>aww match thi background colour seemingly stic...</td>\n",
       "    </tr>\n",
       "    <tr>\n",
       "      <th>2</th>\n",
       "      <td>Hey man, I'm really not trying to edit war. It...</td>\n",
       "      <td>0</td>\n",
       "      <td>hey man i m really not try to edit war it  jus...</td>\n",
       "      <td>hey man really try edit war thi guy constantly...</td>\n",
       "    </tr>\n",
       "    <tr>\n",
       "      <th>3</th>\n",
       "      <td>\"\\nMore\\nI can't make any real suggestions on ...</td>\n",
       "      <td>0</td>\n",
       "      <td>more i can t make any real suggestion on impro...</td>\n",
       "      <td>make real suggestion improvement wonder sectio...</td>\n",
       "    </tr>\n",
       "    <tr>\n",
       "      <th>4</th>\n",
       "      <td>You, sir, are my hero. Any chance you remember...</td>\n",
       "      <td>0</td>\n",
       "      <td>you sir be my hero any chance you remember wha...</td>\n",
       "      <td>sir hero chance remember page</td>\n",
       "    </tr>\n",
       "  </tbody>\n",
       "</table>\n",
       "</div>\n",
       "      <button class=\"colab-df-convert\" onclick=\"convertToInteractive('df-d9d32466-49cf-4494-a701-a0160193eed8')\"\n",
       "              title=\"Convert this dataframe to an interactive table.\"\n",
       "              style=\"display:none;\">\n",
       "        \n",
       "  <svg xmlns=\"http://www.w3.org/2000/svg\" height=\"24px\"viewBox=\"0 0 24 24\"\n",
       "       width=\"24px\">\n",
       "    <path d=\"M0 0h24v24H0V0z\" fill=\"none\"/>\n",
       "    <path d=\"M18.56 5.44l.94 2.06.94-2.06 2.06-.94-2.06-.94-.94-2.06-.94 2.06-2.06.94zm-11 1L8.5 8.5l.94-2.06 2.06-.94-2.06-.94L8.5 2.5l-.94 2.06-2.06.94zm10 10l.94 2.06.94-2.06 2.06-.94-2.06-.94-.94-2.06-.94 2.06-2.06.94z\"/><path d=\"M17.41 7.96l-1.37-1.37c-.4-.4-.92-.59-1.43-.59-.52 0-1.04.2-1.43.59L10.3 9.45l-7.72 7.72c-.78.78-.78 2.05 0 2.83L4 21.41c.39.39.9.59 1.41.59.51 0 1.02-.2 1.41-.59l7.78-7.78 2.81-2.81c.8-.78.8-2.07 0-2.86zM5.41 20L4 18.59l7.72-7.72 1.47 1.35L5.41 20z\"/>\n",
       "  </svg>\n",
       "      </button>\n",
       "      \n",
       "  <style>\n",
       "    .colab-df-container {\n",
       "      display:flex;\n",
       "      flex-wrap:wrap;\n",
       "      gap: 12px;\n",
       "    }\n",
       "\n",
       "    .colab-df-convert {\n",
       "      background-color: #E8F0FE;\n",
       "      border: none;\n",
       "      border-radius: 50%;\n",
       "      cursor: pointer;\n",
       "      display: none;\n",
       "      fill: #1967D2;\n",
       "      height: 32px;\n",
       "      padding: 0 0 0 0;\n",
       "      width: 32px;\n",
       "    }\n",
       "\n",
       "    .colab-df-convert:hover {\n",
       "      background-color: #E2EBFA;\n",
       "      box-shadow: 0px 1px 2px rgba(60, 64, 67, 0.3), 0px 1px 3px 1px rgba(60, 64, 67, 0.15);\n",
       "      fill: #174EA6;\n",
       "    }\n",
       "\n",
       "    [theme=dark] .colab-df-convert {\n",
       "      background-color: #3B4455;\n",
       "      fill: #D2E3FC;\n",
       "    }\n",
       "\n",
       "    [theme=dark] .colab-df-convert:hover {\n",
       "      background-color: #434B5C;\n",
       "      box-shadow: 0px 1px 3px 1px rgba(0, 0, 0, 0.15);\n",
       "      filter: drop-shadow(0px 1px 2px rgba(0, 0, 0, 0.3));\n",
       "      fill: #FFFFFF;\n",
       "    }\n",
       "  </style>\n",
       "\n",
       "      <script>\n",
       "        const buttonEl =\n",
       "          document.querySelector('#df-d9d32466-49cf-4494-a701-a0160193eed8 button.colab-df-convert');\n",
       "        buttonEl.style.display =\n",
       "          google.colab.kernel.accessAllowed ? 'block' : 'none';\n",
       "\n",
       "        async function convertToInteractive(key) {\n",
       "          const element = document.querySelector('#df-d9d32466-49cf-4494-a701-a0160193eed8');\n",
       "          const dataTable =\n",
       "            await google.colab.kernel.invokeFunction('convertToInteractive',\n",
       "                                                     [key], {});\n",
       "          if (!dataTable) return;\n",
       "\n",
       "          const docLinkHtml = 'Like what you see? Visit the ' +\n",
       "            '<a target=\"_blank\" href=https://colab.research.google.com/notebooks/data_table.ipynb>data table notebook</a>'\n",
       "            + ' to learn more about interactive tables.';\n",
       "          element.innerHTML = '';\n",
       "          dataTable['output_type'] = 'display_data';\n",
       "          await google.colab.output.renderOutput(dataTable, element);\n",
       "          const docLink = document.createElement('div');\n",
       "          docLink.innerHTML = docLinkHtml;\n",
       "          element.appendChild(docLink);\n",
       "        }\n",
       "      </script>\n",
       "    </div>\n",
       "  </div>\n",
       "  "
      ],
      "text/plain": [
       "                                                text  toxic  \\\n",
       "0  Explanation\\nWhy the edits made under my usern...      0   \n",
       "1  D'aww! He matches this background colour I'm s...      0   \n",
       "2  Hey man, I'm really not trying to edit war. It...      0   \n",
       "3  \"\\nMore\\nI can't make any real suggestions on ...      0   \n",
       "4  You, sir, are my hero. Any chance you remember...      0   \n",
       "\n",
       "                                            lem_text  \\\n",
       "0  explanation why the edit make under my usernam...   \n",
       "1  d aww he match thi background colour i m seemi...   \n",
       "2  hey man i m really not try to edit war it  jus...   \n",
       "3  more i can t make any real suggestion on impro...   \n",
       "4  you sir be my hero any chance you remember wha...   \n",
       "\n",
       "                                  lem_text_stopwords  \n",
       "0  explanation edit make username hardcore metall...  \n",
       "1  aww match thi background colour seemingly stic...  \n",
       "2  hey man really try edit war thi guy constantly...  \n",
       "3  make real suggestion improvement wonder sectio...  \n",
       "4                      sir hero chance remember page  "
      ]
     },
     "execution_count": 36,
     "metadata": {},
     "output_type": "execute_result"
    }
   ],
   "source": [
    "df.head()"
   ]
  },
  {
   "cell_type": "markdown",
   "metadata": {
    "id": "avHCcoVsXlCi"
   },
   "source": [
    "<div style=\"border:solid green 2px; padding: 20px\">\n",
    "    \n",
    "\n",
    "**Вывод** <br>\n",
    "    \n",
    "На данном этапе загрузили датасет __df__.<br>  После предварительного ознакомления, определили, что получил таблицу состоящую из  __159571__ строки  и  __2__ столбцов: .<br>\n",
    "    \n",
    "    \n",
    "- __text__  состоит из строк с  текстами комментариев клиентов(__Общие признаки__).<br>\n",
    "    \n",
    "- __toxic__ содержит в себе бинарные 0 и 1, говорящие о том, токсичен ли комментарий или позитивен. Бинарные значения в данном столбце являются __целевыми признаками__.<br>\n",
    "    \n",
    "Предварительный анализ  датасета, не выявил пропусков и дублирующих значений в данных, но определил необходимость в лематизации и очистке текстов от стоп-слов и не нужных символов. <br>  \n",
    "    Произвели предобработку в виде  лемматизации, удаления не нужных символов и очистки от стоп_слоа. Для возможности тестировать, сохранили отдельно лематизированный ***lem_text*** и лематезированный  и очищенный от стоп слов ***lem_text_stopwords***. отдельно \n",
    " \n",
    "    \n",
    "    \n",
    "   Проверка соотношения классов показала, что в датасете имеет место явный дисбаланс. Мажорный класс составляет лишь __10.2%__ от всего датасета. Следовательно этот аспект необходимо будет учесть в дальнейшем при обучении моделей.\n",
    " \n",
    "    \n",
    "    \n",
    "   \n",
    "</div>"
   ]
  },
  {
   "cell_type": "markdown",
   "metadata": {
    "id": "vSuBFXV0Plgs"
   },
   "source": [
    "<div class=\"alert alert-success\">\n",
    "<b>1 Комментарий ревьюера ✔️:</b> Хороший анализ и предобработка текста!\n"
   ]
  },
  {
   "cell_type": "markdown",
   "metadata": {
    "id": "L9vPlgXjXlCi"
   },
   "source": [
    "<a id='step3'></a>"
   ]
  },
  {
   "cell_type": "markdown",
   "metadata": {},
   "source": [
    "<div class=\"alert alert-success\">\n",
    "<b>2 Комментарий ревьюера ✔️:</b> Отличная доработка блока"
   ]
  },
  {
   "cell_type": "markdown",
   "metadata": {
    "id": "jMoYTE5IXlCj"
   },
   "source": [
    "## Обучение\n",
    "[&#10224;](#step1)"
   ]
  },
  {
   "cell_type": "markdown",
   "metadata": {
    "id": "niiO9zH0XlCj"
   },
   "source": [
    "<a id='step3'></a>"
   ]
  },
  {
   "cell_type": "markdown",
   "metadata": {
    "id": "tZjYewNTXlCk"
   },
   "source": [
    " <div style=\"border:solid green 2px; padding: 20px\">\n",
    "    \n",
    "**На данном этапе** <br>\n",
    " \n",
    "Обучим четыре модели ориентируясь на метрику __F-1__. В качестве моделей используем  Логистическую регрессию, Случайный лес, CatBoostRegressor, и Model_BERT_    \n",
    "    \n",
    "    \n",
    " __Исследуем качество разных моделей__, меняя гиперпараметры. Кратко опишем выводы исследования. Выберем лучщие показатели, для дальнейшей проверки на тестовой выборке. Перед обучением моделей в обучающей и тестовой выборках выделем __общие__  и __целевые__ признаки.\n",
    "\n",
    "### Построим модели  :<a class=\"tocSkip\">\n",
    " \n",
    "-  __Логистическая я регрессия__  -  [LogisticRegression](#step6)    \n",
    "-  __Cлучайный лес__    - [RandomForestClassifier](#step7)\n",
    "-  __CatBoostRegressor__  - [CatBoostRegressor](#step8)\n",
    "-  __Model_BERT__   - [BERT](#step9)\n",
    "   \n",
    "</div>"
   ]
  },
  {
   "cell_type": "markdown",
   "metadata": {
    "id": "7jf6mlkXPlgu"
   },
   "source": [
    "<div class=\"alert alert-success\">\n",
    "<b>1 Комментарий ревьюера ✔️:</b> Здорово, что ты используешь промежуточные ссылки на оглавления внутри своей работы!\n"
   ]
  },
  {
   "cell_type": "markdown",
   "metadata": {
    "id": "ORq5UrYFXlCl"
   },
   "source": [
    "__Выделим признаки, разобъем на обучающyю и тренировочнную выборки.__"
   ]
  },
  {
   "cell_type": "code",
   "execution_count": 37,
   "metadata": {
    "executionInfo": {
     "elapsed": 41,
     "status": "ok",
     "timestamp": 1653962444531,
     "user": {
      "displayName": "Илья Должанский",
      "userId": "02574470818990683130"
     },
     "user_tz": -180
    },
    "id": "aOCgkiwUXlCm"
   },
   "outputs": [],
   "source": [
    "#Определим  признаки \n",
    "features = df['lem_text'] # общие пирзнаки\n",
    "target = df['toxic'] # целевой пирзнак\n",
    "\n",
    "#Разделим датасет на тренировочную и тестовую выборки\n",
    "features_train, features_test, target_train, target_test = train_test_split(\n",
    "    features, target, test_size=0.25, random_state=42, stratify = target)"
   ]
  },
  {
   "cell_type": "markdown",
   "metadata": {
    "id": "l4da8DGdPlgv"
   },
   "source": [
    "<div class=\"alert alert-success\">\n",
    "<b>1 Комментарий ревьюера ✔️:</b> Правильное деление на выборки\n"
   ]
  },
  {
   "cell_type": "markdown",
   "metadata": {
    "id": "11ob22xAXlCm"
   },
   "source": [
    "__Посмотрим как разделились выборки__"
   ]
  },
  {
   "cell_type": "code",
   "execution_count": 38,
   "metadata": {
    "colab": {
     "base_uri": "https://localhost:8080/"
    },
    "executionInfo": {
     "elapsed": 41,
     "status": "ok",
     "timestamp": 1653962444532,
     "user": {
      "displayName": "Илья Должанский",
      "userId": "02574470818990683130"
     },
     "user_tz": -180
    },
    "id": "xhNJUyuvXlCn",
    "outputId": "75c7053c-d6da-4943-9574-29c96cde3715"
   },
   "outputs": [
    {
     "name": "stdout",
     "output_type": "stream",
     "text": [
      "75% 25%\n"
     ]
    }
   ],
   "source": [
    "# Проверим, корректно ли поделились наши выборки\n",
    "def percent(df_1,df_2):\n",
    "    selection_1 = df_1.shape[0]/df.shape[0]\n",
    "    selection_2 = df_2.shape[0]/df.shape[0]\n",
    "    print('{:.0%} {:.0%}'.format(selection_1,selection_2))\n",
    "percent(features_train,features_test)"
   ]
  },
  {
   "cell_type": "markdown",
   "metadata": {
    "id": "pA2z8tPIPlgw"
   },
   "source": [
    "<div class=\"alert alert-success\">\n",
    "<b>1 Комментарий ревьюера ✔️:</b>\n",
    " Здорово, что ты решил проверить корректность работы train_test_split "
   ]
  },
  {
   "cell_type": "markdown",
   "metadata": {
    "id": "xStF0xpHXlCn"
   },
   "source": [
    "__Дополнительно удалим стоп-слова, применим TFIDF-векторизатор, проверим размеры полученных выборок__"
   ]
  },
  {
   "cell_type": "code",
   "execution_count": 39,
   "metadata": {
    "executionInfo": {
     "elapsed": 7374,
     "status": "ok",
     "timestamp": 1653962451873,
     "user": {
      "displayName": "Илья Должанский",
      "userId": "02574470818990683130"
     },
     "user_tz": -180
    },
    "id": "AWDsnaOVXlCo"
   },
   "outputs": [],
   "source": [
    "# Было обнаружено,что не все стоп-слова были удалены\n",
    "#Объявляем набор стоп-слов \n",
    "stopwords = set(stopwords.words('english'))\n",
    "\n",
    "# TFIDF-векторизатор\n",
    "count_tf_idf = TfidfVectorizer(stop_words=stopwords)\n",
    "features_train = count_tf_idf.fit_transform(features_train)\n",
    "features_test = count_tf_idf.transform(features_test)"
   ]
  },
  {
   "cell_type": "markdown",
   "metadata": {
    "id": "IJ1Y9EZDPlgy"
   },
   "source": [
    "<div class=\"alert alert-success\">\n",
    "<b>1 Комментарий ревьюера ✔️:</b> Не допустил утечки тестовых данных при обучении TfidfVectorizer"
   ]
  },
  {
   "cell_type": "code",
   "execution_count": 40,
   "metadata": {
    "colab": {
     "base_uri": "https://localhost:8080/"
    },
    "executionInfo": {
     "elapsed": 28,
     "status": "ok",
     "timestamp": 1653962451875,
     "user": {
      "displayName": "Илья Должанский",
      "userId": "02574470818990683130"
     },
     "user_tz": -180
    },
    "id": "Qg6hB5gLXlCo",
    "outputId": "b0c30ea3-68e1-4108-9795-5d763976207f"
   },
   "outputs": [
    {
     "name": "stdout",
     "output_type": "stream",
     "text": [
      "(119678, 122258)\n",
      "(39893, 122258)\n",
      "(119678,)\n",
      "(39893,)\n"
     ]
    }
   ],
   "source": [
    "# результаты обработки\n",
    "print(features_train.shape)\n",
    "print(features_test.shape)\n",
    "print(target_train.shape)\n",
    "print(target_test.shape)"
   ]
  },
  {
   "cell_type": "markdown",
   "metadata": {
    "id": "bwJDhh4fPlg2"
   },
   "source": [
    "### Текстовые данные преобразованы в вектора, используем из  для обучения моделей"
   ]
  },
  {
   "cell_type": "markdown",
   "metadata": {
    "id": "pyMrXeZdXlCp"
   },
   "source": [
    "<a id='step6'></a>"
   ]
  },
  {
   "cell_type": "markdown",
   "metadata": {
    "id": "-acmFtwuXlCq"
   },
   "source": [
    "__Логистическая я регрессия - LogisticRegression()__<br>\n",
    "[&#10224;](#step3)"
   ]
  },
  {
   "cell_type": "code",
   "execution_count": 41,
   "metadata": {
    "colab": {
     "base_uri": "https://localhost:8080/"
    },
    "executionInfo": {
     "elapsed": 46383,
     "status": "ok",
     "timestamp": 1653962498238,
     "user": {
      "displayName": "Илья Должанский",
      "userId": "02574470818990683130"
     },
     "user_tz": -180
    },
    "id": "o_lYwCS4XlCq",
    "outputId": "a1e21e3e-bf73-4422-9b25-d876021a10b5"
   },
   "outputs": [
    {
     "name": "stdout",
     "output_type": "stream",
     "text": [
      "Среднее качество модели Логистической регрессии на кросс-валидации: 0.7432289562978193\n",
      "CPU times: user 54.1 s, sys: 36.2 s, total: 1min 30s\n",
      "Wall time: 46.3 s\n"
     ]
    }
   ],
   "source": [
    "%%time\n",
    "#Обучим и проверим Логистическую регрессию на кросс-валидации, укажем параметр class_weight = 'balanced'\n",
    "regression = LogisticRegression(fit_intercept=True, \n",
    "                                class_weight = 'balanced', \n",
    "                                random_state=42,\n",
    "                                solver='liblinear'\n",
    "                               )\n",
    "#Определим  словарь с набором параметров\n",
    "regression_parametrs = {'C': [0.01, 0.1, 1, 10, 100]}\n",
    "\n",
    "#Применяем GridSearchCV с кросс-валидацией\n",
    "regression_grid = GridSearchCV(regression, regression_parametrs, scoring='f1', cv=3)\n",
    "regression_grid.fit(features_train, target_train)\n",
    "\n",
    "regression.fit(features_train, target_train)\n",
    "regression_cv_score = cross_val_score(regression,features_train, target_train,scoring='f1',cv=3).mean()\n",
    "print('Среднее качество модели Логистической регрессии на кросс-валидации:', regression_cv_score)"
   ]
  },
  {
   "cell_type": "code",
   "execution_count": 42,
   "metadata": {
    "colab": {
     "base_uri": "https://localhost:8080/"
    },
    "executionInfo": {
     "elapsed": 26,
     "status": "ok",
     "timestamp": 1653962498239,
     "user": {
      "displayName": "Илья Должанский",
      "userId": "02574470818990683130"
     },
     "user_tz": -180
    },
    "id": "eCfoCKJfXlCr",
    "outputId": "412a6909-d0af-494d-8e6b-98896941c9e4"
   },
   "outputs": [
    {
     "name": "stdout",
     "output_type": "stream",
     "text": [
      "{'C': 10}\n",
      "0.901309652624902\n",
      "_______________\n",
      "CPU times: user 79.5 ms, sys: 18.8 ms, total: 98.3 ms\n",
      "Wall time: 78.9 ms\n"
     ]
    }
   ],
   "source": [
    "%%time\n",
    "#Определим оптимальные гиперпараметры и качество модели на кросс-валидации\n",
    "regression_params = regression_grid.best_params_\n",
    "regression_score = regression_grid.score(features_train, target_train)\n",
    "print(regression_params)\n",
    "print(regression_score)\n",
    "print('_______________')"
   ]
  },
  {
   "cell_type": "code",
   "execution_count": 43,
   "metadata": {
    "colab": {
     "base_uri": "https://localhost:8080/"
    },
    "executionInfo": {
     "elapsed": 4262,
     "status": "ok",
     "timestamp": 1653962502480,
     "user": {
      "displayName": "Илья Должанский",
      "userId": "02574470818990683130"
     },
     "user_tz": -180
    },
    "id": "PrAFP1lTXlCr",
    "outputId": "297a051e-44e7-47a8-ace5-3f1720a1c8b6"
   },
   "outputs": [
    {
     "name": "stdout",
     "output_type": "stream",
     "text": [
      "CPU times: user 4.68 s, sys: 3.13 s, total: 7.8 s\n",
      "Wall time: 4.09 s\n"
     ]
    }
   ],
   "source": [
    "%%time\n",
    "#Проверим  Логистическую регрессию на тестовой выборке\n",
    "regression_model = LogisticRegression(fit_intercept=True,\n",
    "                                class_weight = 'balanced',\n",
    "                                random_state=42,\n",
    "                                solver='liblinear',\n",
    "                                C=regression_params['C']\n",
    "                               )\n",
    "\n",
    "regression_model.fit(features_train, target_train)\n",
    "regression_model_predictions = regression_model.predict(features_test)"
   ]
  },
  {
   "cell_type": "code",
   "execution_count": 44,
   "metadata": {
    "colab": {
     "base_uri": "https://localhost:8080/"
    },
    "executionInfo": {
     "elapsed": 25,
     "status": "ok",
     "timestamp": 1653962502482,
     "user": {
      "displayName": "Илья Должанский",
      "userId": "02574470818990683130"
     },
     "user_tz": -180
    },
    "id": "RSMX3pgGXlCs",
    "outputId": "10cafd78-990c-49e1-b5dd-279eb09ea050"
   },
   "outputs": [
    {
     "name": "stdout",
     "output_type": "stream",
     "text": [
      "F1 модели Логистическая регрессия : 0.756\n"
     ]
    }
   ],
   "source": [
    "#Определим метрику f1\n",
    "regression_predictions = regression_model.predict(features_test)\n",
    "regression_f1 = round(f1_score(target_test, regression_predictions), 3) \n",
    "print('F1 модели Логистическая регрессия :',regression_f1)"
   ]
  },
  {
   "cell_type": "markdown",
   "metadata": {
    "id": "ywXWbqlpPlg_"
   },
   "source": [
    "<div class=\"alert alert-success\">\n",
    "<b>1 Комментарий ревьюера ✔️:</b> Отличный результат!"
   ]
  },
  {
   "cell_type": "markdown",
   "metadata": {
    "id": "P_vN-pz7XlCt"
   },
   "source": [
    "<a id='step7'></a>"
   ]
  },
  {
   "cell_type": "markdown",
   "metadata": {
    "id": "284tCXFIXlCt"
   },
   "source": [
    "__Cлучайный лес - RandomForestClassifier__<br>\n",
    "[&#10224;](#step3)"
   ]
  },
  {
   "cell_type": "code",
   "execution_count": 45,
   "metadata": {
    "colab": {
     "base_uri": "https://localhost:8080/"
    },
    "executionInfo": {
     "elapsed": 1366870,
     "status": "ok",
     "timestamp": 1653963869333,
     "user": {
      "displayName": "Илья Должанский",
      "userId": "02574470818990683130"
     },
     "user_tz": -180
    },
    "id": "mbNxjuhRXlCu",
    "outputId": "a44702ec-4fe5-4be0-ce48-d615a5c3fb24"
   },
   "outputs": [
    {
     "name": "stdout",
     "output_type": "stream",
     "text": [
      "CPU times: user 5min 49s, sys: 20.3 s, total: 6min 10s\n",
      "Wall time: 22min 46s\n"
     ]
    }
   ],
   "source": [
    "%%time\n",
    "#  гиперпараметры для Случайного леса на кросс-валидации, укажем параметр class_weight = 'balanced'\n",
    "forest = RandomForestClassifier(class_weight='balanced', n_jobs=-1 )\n",
    "# словарь с набором параметров\n",
    "forest_parametrs = { 'n_estimators': range(20, 45, 5),\n",
    "                     'max_depth': range(1, 8, 2),\n",
    "                     'min_samples_leaf': range(1,6),\n",
    "                     'min_samples_split': range(2,6,2)}\n",
    "\n",
    "#Применяем GridSearchCV с кросс-валидацией\n",
    "forest_grid = GridSearchCV(forest, forest_parametrs, scoring='f1', cv=3)\n",
    "forest_grid.fit(features_train, target_train)"
   ]
  },
  {
   "cell_type": "code",
   "execution_count": 46,
   "metadata": {
    "colab": {
     "base_uri": "https://localhost:8080/"
    },
    "executionInfo": {
     "elapsed": 456,
     "status": "ok",
     "timestamp": 1653963869782,
     "user": {
      "displayName": "Илья Должанский",
      "userId": "02574470818990683130"
     },
     "user_tz": -180
    },
    "id": "N2fHD-MkXlCv",
    "outputId": "63d891f4-9cc5-4790-c1f8-83958b241de8"
   },
   "outputs": [
    {
     "name": "stdout",
     "output_type": "stream",
     "text": [
      "{'max_depth': 7, 'min_samples_leaf': 5, 'min_samples_split': 2, 'n_estimators': 25}\n",
      "0.34115487972733827\n",
      "_______________\n",
      "CPU times: user 942 ms, sys: 5.31 ms, total: 947 ms\n",
      "Wall time: 678 ms\n"
     ]
    }
   ],
   "source": [
    "%%time\n",
    "#Определим оптимальные гиперпараметры и качество модели на кросс-валидации\n",
    "forest_params = forest_grid.best_params_\n",
    "forest_score = forest_grid.score(features_train, target_train)\n",
    "print(forest_params)\n",
    "print(forest_score)\n",
    "print('_______________')"
   ]
  },
  {
   "cell_type": "code",
   "execution_count": 47,
   "metadata": {
    "colab": {
     "base_uri": "https://localhost:8080/"
    },
    "executionInfo": {
     "elapsed": 1023,
     "status": "ok",
     "timestamp": 1653963870803,
     "user": {
      "displayName": "Илья Должанский",
      "userId": "02574470818990683130"
     },
     "user_tz": -180
    },
    "id": "sQIxjH2mXlCv",
    "outputId": "06447216-9a95-428a-b116-10c78a8936b9"
   },
   "outputs": [
    {
     "name": "stdout",
     "output_type": "stream",
     "text": [
      "CPU times: user 1.29 s, sys: 25.1 ms, total: 1.31 s\n",
      "Wall time: 932 ms\n"
     ]
    }
   ],
   "source": [
    "%%time\n",
    "#Обучим модель Случайного леса на оптимальных гиперпараметрах\n",
    "forest_model = RandomForestClassifier(random_state=42, n_jobs=-1, class_weight='balanced',\n",
    "                                     max_depth=forest_params['max_depth'],\n",
    "                                     min_samples_leaf = forest_params['min_samples_leaf'],\n",
    "                                     min_samples_split = forest_params['min_samples_split'],\n",
    "                                     n_estimators = forest_params['n_estimators'])\n",
    "\n",
    "forest_model.fit(features_train, target_train)\n",
    "forest_model_predictions = forest_model.predict(features_test)\n",
    "\n"
   ]
  },
  {
   "cell_type": "code",
   "execution_count": 48,
   "metadata": {
    "colab": {
     "base_uri": "https://localhost:8080/"
    },
    "executionInfo": {
     "elapsed": 12,
     "status": "ok",
     "timestamp": 1653963870804,
     "user": {
      "displayName": "Илья Должанский",
      "userId": "02574470818990683130"
     },
     "user_tz": -180
    },
    "id": "jqNcQT4IXlCw",
    "outputId": "12acf925-b3d1-4410-e597-df4341c48dfc"
   },
   "outputs": [
    {
     "name": "stdout",
     "output_type": "stream",
     "text": [
      "F1 модели Случайный лес : 0.295\n"
     ]
    }
   ],
   "source": [
    "#Определим метрику f1 для Случайного леса \n",
    "forest_predictions = forest_model.predict(features_test)\n",
    "forest_f1 =  round(f1_score(target_test, forest_predictions), 3)\n",
    "print('F1 модели Случайный лес :',forest_f1)"
   ]
  },
  {
   "cell_type": "markdown",
   "metadata": {
    "id": "g-atAvQyXlCx"
   },
   "source": [
    "<a id='step8'></a>"
   ]
  },
  {
   "cell_type": "markdown",
   "metadata": {},
   "source": [
    "<div class=\"alert alert-success\">\n",
    "<b>2 Комментарий ревьюера ✔️:</b> Выглядит грустно, но ожидаемо)"
   ]
  },
  {
   "cell_type": "markdown",
   "metadata": {
    "id": "mHh7Dl1WXlCy"
   },
   "source": [
    "__CatBoostRegressor__<br>\n",
    "[&#10224;](#step3)"
   ]
  },
  {
   "cell_type": "code",
   "execution_count": 49,
   "metadata": {
    "colab": {
     "base_uri": "https://localhost:8080/"
    },
    "executionInfo": {
     "elapsed": 12159,
     "status": "ok",
     "timestamp": 1653963882956,
     "user": {
      "displayName": "Илья Должанский",
      "userId": "02574470818990683130"
     },
     "user_tz": -180
    },
    "id": "1ZRObdOdaVZR",
    "outputId": "26577aff-f4ab-4996-a712-e9a44dad017b"
   },
   "outputs": [
    {
     "name": "stdout",
     "output_type": "stream",
     "text": [
      "Looking in indexes: https://pypi.org/simple, https://us-python.pkg.dev/colab-wheels/public/simple/\n",
      "Collecting catboost\n",
      "  Downloading catboost-1.0.6-cp37-none-manylinux1_x86_64.whl (76.6 MB)\n",
      "\u001b[K     |████████████████████████████████| 76.6 MB 1.3 MB/s \n",
      "\u001b[?25hRequirement already satisfied: matplotlib in /usr/local/lib/python3.7/dist-packages (from catboost) (3.2.2)\n",
      "Requirement already satisfied: pandas>=0.24.0 in /usr/local/lib/python3.7/dist-packages (from catboost) (1.3.5)\n",
      "Requirement already satisfied: numpy>=1.16.0 in /usr/local/lib/python3.7/dist-packages (from catboost) (1.21.6)\n",
      "Requirement already satisfied: plotly in /usr/local/lib/python3.7/dist-packages (from catboost) (5.5.0)\n",
      "Requirement already satisfied: six in /usr/local/lib/python3.7/dist-packages (from catboost) (1.15.0)\n",
      "Requirement already satisfied: graphviz in /usr/local/lib/python3.7/dist-packages (from catboost) (0.10.1)\n",
      "Requirement already satisfied: scipy in /usr/local/lib/python3.7/dist-packages (from catboost) (1.4.1)\n",
      "Requirement already satisfied: pytz>=2017.3 in /usr/local/lib/python3.7/dist-packages (from pandas>=0.24.0->catboost) (2022.1)\n",
      "Requirement already satisfied: python-dateutil>=2.7.3 in /usr/local/lib/python3.7/dist-packages (from pandas>=0.24.0->catboost) (2.8.2)\n",
      "Requirement already satisfied: cycler>=0.10 in /usr/local/lib/python3.7/dist-packages (from matplotlib->catboost) (0.11.0)\n",
      "Requirement already satisfied: kiwisolver>=1.0.1 in /usr/local/lib/python3.7/dist-packages (from matplotlib->catboost) (1.4.2)\n",
      "Requirement already satisfied: pyparsing!=2.0.4,!=2.1.2,!=2.1.6,>=2.0.1 in /usr/local/lib/python3.7/dist-packages (from matplotlib->catboost) (3.0.9)\n",
      "Requirement already satisfied: typing-extensions in /usr/local/lib/python3.7/dist-packages (from kiwisolver>=1.0.1->matplotlib->catboost) (4.2.0)\n",
      "Requirement already satisfied: tenacity>=6.2.0 in /usr/local/lib/python3.7/dist-packages (from plotly->catboost) (8.0.1)\n",
      "Installing collected packages: catboost\n",
      "Successfully installed catboost-1.0.6\n"
     ]
    }
   ],
   "source": [
    "! pip install catboost"
   ]
  },
  {
   "cell_type": "markdown",
   "metadata": {
    "id": "L6bO3HK3PlhR"
   },
   "source": [
    "<div class=\"alert alert-success\">\n",
    "<b>1 Комментарий ревьюера ✔️:</b> Здорово, что ты решил попробовать CatBoost для этой задачи. Советую почитать туториал на <a href=\"https://www.kaggle.com/code/shashaalam/text-classification-with-catboost/notebook\">kaggle</a> по работе с CatBoost в задачах текстовой классификации"
   ]
  },
  {
   "cell_type": "code",
   "execution_count": 50,
   "metadata": {
    "colab": {
     "base_uri": "https://localhost:8080/"
    },
    "executionInfo": {
     "elapsed": 275582,
     "status": "ok",
     "timestamp": 1653964158521,
     "user": {
      "displayName": "Илья Должанский",
      "userId": "02574470818990683130"
     },
     "user_tz": -180
    },
    "id": "fFgoZe8hXlCy",
    "outputId": "76fc2f09-e4cd-4711-eaa5-3df4403aa3ca"
   },
   "outputs": [
    {
     "name": "stdout",
     "output_type": "stream",
     "text": [
      "Learning rate set to 0.5\n",
      "0:\tlearn: 0.5986691\ttotal: 1.05s\tremaining: 1m 44s\n",
      "1:\tlearn: 0.5731366\ttotal: 1.8s\tremaining: 1m 28s\n",
      "2:\tlearn: 0.5490210\ttotal: 2.64s\tremaining: 1m 25s\n",
      "3:\tlearn: 0.5252003\ttotal: 3.38s\tremaining: 1m 21s\n",
      "4:\tlearn: 0.5151869\ttotal: 4.21s\tremaining: 1m 19s\n",
      "5:\tlearn: 0.5049743\ttotal: 4.95s\tremaining: 1m 17s\n",
      "6:\tlearn: 0.4956421\ttotal: 5.81s\tremaining: 1m 17s\n",
      "7:\tlearn: 0.4863053\ttotal: 6.46s\tremaining: 1m 14s\n",
      "8:\tlearn: 0.4793697\ttotal: 7.14s\tremaining: 1m 12s\n",
      "9:\tlearn: 0.4722963\ttotal: 7.84s\tremaining: 1m 10s\n",
      "10:\tlearn: 0.4667236\ttotal: 8.61s\tremaining: 1m 9s\n",
      "11:\tlearn: 0.4605430\ttotal: 9.36s\tremaining: 1m 8s\n",
      "12:\tlearn: 0.4529710\ttotal: 9.93s\tremaining: 1m 6s\n",
      "13:\tlearn: 0.4476705\ttotal: 10.6s\tremaining: 1m 5s\n",
      "14:\tlearn: 0.4421691\ttotal: 11.3s\tremaining: 1m 4s\n",
      "15:\tlearn: 0.4385223\ttotal: 12s\tremaining: 1m 2s\n",
      "16:\tlearn: 0.4351520\ttotal: 12.7s\tremaining: 1m 1s\n",
      "17:\tlearn: 0.4309575\ttotal: 13.4s\tremaining: 1m 1s\n",
      "18:\tlearn: 0.4244511\ttotal: 13.8s\tremaining: 58.7s\n",
      "19:\tlearn: 0.4199342\ttotal: 14.1s\tremaining: 56.4s\n",
      "20:\tlearn: 0.4165009\ttotal: 14.5s\tremaining: 54.4s\n",
      "21:\tlearn: 0.4127285\ttotal: 14.8s\tremaining: 52.6s\n",
      "22:\tlearn: 0.4092187\ttotal: 15.2s\tremaining: 50.9s\n",
      "23:\tlearn: 0.4060878\ttotal: 15.5s\tremaining: 49.2s\n",
      "24:\tlearn: 0.4032582\ttotal: 15.9s\tremaining: 47.8s\n",
      "25:\tlearn: 0.4003845\ttotal: 16.3s\tremaining: 46.4s\n",
      "26:\tlearn: 0.3980531\ttotal: 16.7s\tremaining: 45s\n",
      "27:\tlearn: 0.3954630\ttotal: 17s\tremaining: 43.7s\n",
      "28:\tlearn: 0.3929018\ttotal: 17.4s\tremaining: 42.5s\n",
      "29:\tlearn: 0.3898497\ttotal: 17.7s\tremaining: 41.4s\n",
      "30:\tlearn: 0.3874437\ttotal: 18.1s\tremaining: 40.2s\n",
      "31:\tlearn: 0.3842402\ttotal: 18.4s\tremaining: 39.2s\n",
      "32:\tlearn: 0.3816099\ttotal: 18.8s\tremaining: 38.2s\n",
      "33:\tlearn: 0.3782273\ttotal: 19.2s\tremaining: 37.2s\n",
      "34:\tlearn: 0.3762818\ttotal: 19.5s\tremaining: 36.2s\n",
      "35:\tlearn: 0.3745322\ttotal: 19.9s\tremaining: 35.3s\n",
      "36:\tlearn: 0.3727759\ttotal: 20.2s\tremaining: 34.4s\n",
      "37:\tlearn: 0.3709896\ttotal: 20.6s\tremaining: 33.6s\n",
      "38:\tlearn: 0.3693474\ttotal: 20.9s\tremaining: 32.8s\n",
      "39:\tlearn: 0.3643914\ttotal: 21.3s\tremaining: 32s\n",
      "40:\tlearn: 0.3627077\ttotal: 21.7s\tremaining: 31.2s\n",
      "41:\tlearn: 0.3606400\ttotal: 22s\tremaining: 30.4s\n",
      "42:\tlearn: 0.3588139\ttotal: 22.4s\tremaining: 29.6s\n",
      "43:\tlearn: 0.3572187\ttotal: 22.7s\tremaining: 28.9s\n",
      "44:\tlearn: 0.3555936\ttotal: 23.1s\tremaining: 28.2s\n",
      "45:\tlearn: 0.3541215\ttotal: 23.4s\tremaining: 27.5s\n",
      "46:\tlearn: 0.3526461\ttotal: 23.8s\tremaining: 26.8s\n",
      "47:\tlearn: 0.3511367\ttotal: 24.2s\tremaining: 26.2s\n",
      "48:\tlearn: 0.3498885\ttotal: 24.5s\tremaining: 25.5s\n",
      "49:\tlearn: 0.3482383\ttotal: 24.9s\tremaining: 24.9s\n",
      "50:\tlearn: 0.3469814\ttotal: 25.2s\tremaining: 24.2s\n",
      "51:\tlearn: 0.3460580\ttotal: 25.6s\tremaining: 23.6s\n",
      "52:\tlearn: 0.3448024\ttotal: 26s\tremaining: 23s\n",
      "53:\tlearn: 0.3422066\ttotal: 26.3s\tremaining: 22.4s\n",
      "54:\tlearn: 0.3410796\ttotal: 26.7s\tremaining: 21.8s\n",
      "55:\tlearn: 0.3398952\ttotal: 27s\tremaining: 21.2s\n",
      "56:\tlearn: 0.3387576\ttotal: 27.4s\tremaining: 20.7s\n",
      "57:\tlearn: 0.3373250\ttotal: 27.7s\tremaining: 20.1s\n",
      "58:\tlearn: 0.3362773\ttotal: 28.1s\tremaining: 19.5s\n",
      "59:\tlearn: 0.3348160\ttotal: 28.4s\tremaining: 19s\n",
      "60:\tlearn: 0.3334814\ttotal: 28.8s\tremaining: 18.4s\n",
      "61:\tlearn: 0.3321449\ttotal: 29.2s\tremaining: 17.9s\n",
      "62:\tlearn: 0.3312733\ttotal: 29.5s\tremaining: 17.3s\n",
      "63:\tlearn: 0.3302993\ttotal: 29.9s\tremaining: 16.8s\n",
      "64:\tlearn: 0.3291888\ttotal: 30.2s\tremaining: 16.3s\n",
      "65:\tlearn: 0.3282408\ttotal: 30.6s\tremaining: 15.8s\n",
      "66:\tlearn: 0.3273096\ttotal: 30.9s\tremaining: 15.2s\n",
      "67:\tlearn: 0.3263043\ttotal: 31.3s\tremaining: 14.7s\n",
      "68:\tlearn: 0.3252029\ttotal: 31.7s\tremaining: 14.2s\n",
      "69:\tlearn: 0.3242745\ttotal: 32s\tremaining: 13.7s\n",
      "70:\tlearn: 0.3235951\ttotal: 32.4s\tremaining: 13.2s\n",
      "71:\tlearn: 0.3226975\ttotal: 32.7s\tremaining: 12.7s\n",
      "72:\tlearn: 0.3220781\ttotal: 33.1s\tremaining: 12.2s\n",
      "73:\tlearn: 0.3213560\ttotal: 33.4s\tremaining: 11.7s\n",
      "74:\tlearn: 0.3201806\ttotal: 33.8s\tremaining: 11.3s\n",
      "75:\tlearn: 0.3194871\ttotal: 34.2s\tremaining: 10.8s\n",
      "76:\tlearn: 0.3184411\ttotal: 34.5s\tremaining: 10.3s\n",
      "77:\tlearn: 0.3175895\ttotal: 34.9s\tremaining: 9.83s\n",
      "78:\tlearn: 0.3166570\ttotal: 35.2s\tremaining: 9.36s\n",
      "79:\tlearn: 0.3158307\ttotal: 35.6s\tremaining: 8.89s\n",
      "80:\tlearn: 0.3145104\ttotal: 35.9s\tremaining: 8.42s\n",
      "81:\tlearn: 0.3128256\ttotal: 36.3s\tremaining: 7.96s\n",
      "82:\tlearn: 0.3116478\ttotal: 36.6s\tremaining: 7.5s\n",
      "83:\tlearn: 0.3106165\ttotal: 37s\tremaining: 7.04s\n",
      "84:\tlearn: 0.3097601\ttotal: 37.3s\tremaining: 6.59s\n",
      "85:\tlearn: 0.3089693\ttotal: 37.7s\tremaining: 6.14s\n",
      "86:\tlearn: 0.3082157\ttotal: 38.1s\tremaining: 5.69s\n",
      "87:\tlearn: 0.3072560\ttotal: 38.4s\tremaining: 5.24s\n",
      "88:\tlearn: 0.3060457\ttotal: 38.8s\tremaining: 4.79s\n",
      "89:\tlearn: 0.3054003\ttotal: 39.1s\tremaining: 4.35s\n",
      "90:\tlearn: 0.3047704\ttotal: 39.5s\tremaining: 3.9s\n",
      "91:\tlearn: 0.3041233\ttotal: 39.8s\tremaining: 3.46s\n",
      "92:\tlearn: 0.3035115\ttotal: 40.2s\tremaining: 3.02s\n",
      "93:\tlearn: 0.3027348\ttotal: 40.5s\tremaining: 2.59s\n",
      "94:\tlearn: 0.3015675\ttotal: 40.9s\tremaining: 2.15s\n",
      "95:\tlearn: 0.3008075\ttotal: 41.2s\tremaining: 1.72s\n",
      "96:\tlearn: 0.2999922\ttotal: 41.6s\tremaining: 1.29s\n",
      "97:\tlearn: 0.2994465\ttotal: 41.9s\tremaining: 856ms\n",
      "98:\tlearn: 0.2989638\ttotal: 42.3s\tremaining: 427ms\n",
      "99:\tlearn: 0.2983126\ttotal: 42.6s\tremaining: 0us\n",
      "Learning rate set to 0.5\n",
      "0:\tlearn: 0.6006806\ttotal: 426ms\tremaining: 42.2s\n",
      "1:\tlearn: 0.5740040\ttotal: 811ms\tremaining: 39.8s\n",
      "2:\tlearn: 0.5466766\ttotal: 1.17s\tremaining: 37.8s\n",
      "3:\tlearn: 0.5294191\ttotal: 1.54s\tremaining: 36.9s\n",
      "4:\tlearn: 0.5137488\ttotal: 1.89s\tremaining: 35.9s\n",
      "5:\tlearn: 0.5012184\ttotal: 2.26s\tremaining: 35.5s\n",
      "6:\tlearn: 0.4891561\ttotal: 2.62s\tremaining: 34.8s\n",
      "7:\tlearn: 0.4829232\ttotal: 3s\tremaining: 34.5s\n",
      "8:\tlearn: 0.4757427\ttotal: 3.37s\tremaining: 34.1s\n",
      "9:\tlearn: 0.4680184\ttotal: 3.73s\tremaining: 33.6s\n",
      "10:\tlearn: 0.4631286\ttotal: 4.09s\tremaining: 33.1s\n",
      "11:\tlearn: 0.4606948\ttotal: 4.46s\tremaining: 32.7s\n",
      "12:\tlearn: 0.4556068\ttotal: 4.83s\tremaining: 32.3s\n",
      "13:\tlearn: 0.4495773\ttotal: 5.18s\tremaining: 31.8s\n",
      "14:\tlearn: 0.4411833\ttotal: 5.55s\tremaining: 31.4s\n",
      "15:\tlearn: 0.4365671\ttotal: 5.92s\tremaining: 31.1s\n",
      "16:\tlearn: 0.4318399\ttotal: 6.28s\tremaining: 30.7s\n",
      "17:\tlearn: 0.4283367\ttotal: 6.66s\tremaining: 30.3s\n",
      "18:\tlearn: 0.4238351\ttotal: 7.01s\tremaining: 29.9s\n",
      "19:\tlearn: 0.4203983\ttotal: 7.37s\tremaining: 29.5s\n",
      "20:\tlearn: 0.4155221\ttotal: 7.73s\tremaining: 29.1s\n",
      "21:\tlearn: 0.4081057\ttotal: 8.09s\tremaining: 28.7s\n",
      "22:\tlearn: 0.4058116\ttotal: 8.47s\tremaining: 28.3s\n",
      "23:\tlearn: 0.4030582\ttotal: 8.82s\tremaining: 27.9s\n",
      "24:\tlearn: 0.4000809\ttotal: 9.17s\tremaining: 27.5s\n",
      "25:\tlearn: 0.3968513\ttotal: 9.54s\tremaining: 27.1s\n",
      "26:\tlearn: 0.3940849\ttotal: 9.89s\tremaining: 26.8s\n",
      "27:\tlearn: 0.3912597\ttotal: 10.3s\tremaining: 26.4s\n",
      "28:\tlearn: 0.3889924\ttotal: 10.6s\tremaining: 26s\n",
      "29:\tlearn: 0.3866802\ttotal: 11s\tremaining: 25.6s\n",
      "30:\tlearn: 0.3839738\ttotal: 11.3s\tremaining: 25.2s\n",
      "31:\tlearn: 0.3812340\ttotal: 11.7s\tremaining: 24.9s\n",
      "32:\tlearn: 0.3791227\ttotal: 12.1s\tremaining: 24.5s\n",
      "33:\tlearn: 0.3773233\ttotal: 12.4s\tremaining: 24.1s\n",
      "34:\tlearn: 0.3752909\ttotal: 12.8s\tremaining: 23.7s\n",
      "35:\tlearn: 0.3731296\ttotal: 13.1s\tremaining: 23.4s\n",
      "36:\tlearn: 0.3709306\ttotal: 13.5s\tremaining: 23s\n",
      "37:\tlearn: 0.3681747\ttotal: 13.8s\tremaining: 22.6s\n",
      "38:\tlearn: 0.3660781\ttotal: 14.2s\tremaining: 22.2s\n",
      "39:\tlearn: 0.3637087\ttotal: 14.6s\tremaining: 21.8s\n",
      "40:\tlearn: 0.3619725\ttotal: 14.9s\tremaining: 21.5s\n",
      "41:\tlearn: 0.3598411\ttotal: 15.3s\tremaining: 21.1s\n",
      "42:\tlearn: 0.3584436\ttotal: 15.6s\tremaining: 20.7s\n",
      "43:\tlearn: 0.3569259\ttotal: 16s\tremaining: 20.3s\n",
      "44:\tlearn: 0.3552224\ttotal: 16.4s\tremaining: 20s\n",
      "45:\tlearn: 0.3536925\ttotal: 16.7s\tremaining: 19.6s\n",
      "46:\tlearn: 0.3521844\ttotal: 17.1s\tremaining: 19.3s\n",
      "47:\tlearn: 0.3506132\ttotal: 17.4s\tremaining: 18.9s\n",
      "48:\tlearn: 0.3491317\ttotal: 17.8s\tremaining: 18.5s\n",
      "49:\tlearn: 0.3476512\ttotal: 18.1s\tremaining: 18.1s\n",
      "50:\tlearn: 0.3464613\ttotal: 18.5s\tremaining: 17.8s\n",
      "51:\tlearn: 0.3448733\ttotal: 18.9s\tremaining: 17.4s\n",
      "52:\tlearn: 0.3434390\ttotal: 19.2s\tremaining: 17s\n",
      "53:\tlearn: 0.3423077\ttotal: 19.6s\tremaining: 16.7s\n",
      "54:\tlearn: 0.3409378\ttotal: 19.9s\tremaining: 16.3s\n",
      "55:\tlearn: 0.3396661\ttotal: 20.3s\tremaining: 15.9s\n",
      "56:\tlearn: 0.3378696\ttotal: 20.6s\tremaining: 15.6s\n",
      "57:\tlearn: 0.3365284\ttotal: 21s\tremaining: 15.2s\n",
      "58:\tlearn: 0.3356621\ttotal: 21.4s\tremaining: 14.8s\n",
      "59:\tlearn: 0.3342549\ttotal: 21.7s\tremaining: 14.5s\n",
      "60:\tlearn: 0.3332438\ttotal: 22.1s\tremaining: 14.1s\n",
      "61:\tlearn: 0.3323453\ttotal: 22.4s\tremaining: 13.7s\n",
      "62:\tlearn: 0.3311860\ttotal: 22.8s\tremaining: 13.4s\n",
      "63:\tlearn: 0.3301227\ttotal: 23.1s\tremaining: 13s\n",
      "64:\tlearn: 0.3290913\ttotal: 23.5s\tremaining: 12.6s\n",
      "65:\tlearn: 0.3265166\ttotal: 23.8s\tremaining: 12.3s\n",
      "66:\tlearn: 0.3253171\ttotal: 24.2s\tremaining: 11.9s\n",
      "67:\tlearn: 0.3245101\ttotal: 24.5s\tremaining: 11.5s\n",
      "68:\tlearn: 0.3236470\ttotal: 24.9s\tremaining: 11.2s\n",
      "69:\tlearn: 0.3228492\ttotal: 25.2s\tremaining: 10.8s\n",
      "70:\tlearn: 0.3218336\ttotal: 25.6s\tremaining: 10.5s\n",
      "71:\tlearn: 0.3210283\ttotal: 26s\tremaining: 10.1s\n",
      "72:\tlearn: 0.3202291\ttotal: 26.3s\tremaining: 9.73s\n",
      "73:\tlearn: 0.3193431\ttotal: 26.7s\tremaining: 9.37s\n",
      "74:\tlearn: 0.3181145\ttotal: 27.1s\tremaining: 9.02s\n",
      "75:\tlearn: 0.3171864\ttotal: 27.4s\tremaining: 8.66s\n",
      "76:\tlearn: 0.3162438\ttotal: 27.8s\tremaining: 8.29s\n",
      "77:\tlearn: 0.3152090\ttotal: 28.1s\tremaining: 7.93s\n",
      "78:\tlearn: 0.3140378\ttotal: 28.5s\tremaining: 7.57s\n",
      "79:\tlearn: 0.3131513\ttotal: 28.8s\tremaining: 7.21s\n",
      "80:\tlearn: 0.3123240\ttotal: 29.2s\tremaining: 6.85s\n",
      "81:\tlearn: 0.3114956\ttotal: 29.5s\tremaining: 6.49s\n",
      "82:\tlearn: 0.3109026\ttotal: 29.9s\tremaining: 6.12s\n",
      "83:\tlearn: 0.3098889\ttotal: 30.3s\tremaining: 5.76s\n",
      "84:\tlearn: 0.3093296\ttotal: 30.6s\tremaining: 5.4s\n",
      "85:\tlearn: 0.3085942\ttotal: 31s\tremaining: 5.04s\n",
      "86:\tlearn: 0.3077630\ttotal: 31.3s\tremaining: 4.68s\n",
      "87:\tlearn: 0.3070969\ttotal: 31.7s\tremaining: 4.32s\n",
      "88:\tlearn: 0.3060675\ttotal: 32s\tremaining: 3.96s\n",
      "89:\tlearn: 0.3055298\ttotal: 32.4s\tremaining: 3.6s\n",
      "90:\tlearn: 0.3048080\ttotal: 32.7s\tremaining: 3.24s\n",
      "91:\tlearn: 0.3031244\ttotal: 33.1s\tremaining: 2.88s\n",
      "92:\tlearn: 0.3025423\ttotal: 33.4s\tremaining: 2.52s\n",
      "93:\tlearn: 0.3019971\ttotal: 33.8s\tremaining: 2.15s\n",
      "94:\tlearn: 0.3014214\ttotal: 34.1s\tremaining: 1.8s\n",
      "95:\tlearn: 0.3007835\ttotal: 34.5s\tremaining: 1.44s\n",
      "96:\tlearn: 0.3003098\ttotal: 34.8s\tremaining: 1.08s\n",
      "97:\tlearn: 0.2996045\ttotal: 35.2s\tremaining: 719ms\n",
      "98:\tlearn: 0.2990796\ttotal: 35.6s\tremaining: 359ms\n",
      "99:\tlearn: 0.2981246\ttotal: 35.9s\tremaining: 0us\n",
      "Learning rate set to 0.5\n",
      "0:\tlearn: 0.6022213\ttotal: 386ms\tremaining: 38.2s\n",
      "1:\tlearn: 0.5758568\ttotal: 774ms\tremaining: 37.9s\n",
      "2:\tlearn: 0.5504659\ttotal: 1.13s\tremaining: 36.6s\n",
      "3:\tlearn: 0.5274311\ttotal: 1.5s\tremaining: 35.9s\n",
      "4:\tlearn: 0.5172092\ttotal: 1.86s\tremaining: 35.3s\n",
      "5:\tlearn: 0.5075809\ttotal: 2.21s\tremaining: 34.6s\n",
      "6:\tlearn: 0.5015488\ttotal: 2.57s\tremaining: 34.2s\n",
      "7:\tlearn: 0.4909895\ttotal: 2.93s\tremaining: 33.7s\n",
      "8:\tlearn: 0.4835355\ttotal: 3.31s\tremaining: 33.5s\n",
      "9:\tlearn: 0.4737989\ttotal: 3.66s\tremaining: 33s\n",
      "10:\tlearn: 0.4651818\ttotal: 4.03s\tremaining: 32.6s\n",
      "11:\tlearn: 0.4585488\ttotal: 4.41s\tremaining: 32.3s\n",
      "12:\tlearn: 0.4543653\ttotal: 4.78s\tremaining: 32s\n",
      "13:\tlearn: 0.4506246\ttotal: 5.13s\tremaining: 31.5s\n",
      "14:\tlearn: 0.4453302\ttotal: 5.49s\tremaining: 31.1s\n",
      "15:\tlearn: 0.4407611\ttotal: 5.85s\tremaining: 30.7s\n",
      "16:\tlearn: 0.4367832\ttotal: 6.21s\tremaining: 30.3s\n",
      "17:\tlearn: 0.4335257\ttotal: 6.56s\tremaining: 29.9s\n",
      "18:\tlearn: 0.4301147\ttotal: 6.92s\tremaining: 29.5s\n",
      "19:\tlearn: 0.4257992\ttotal: 7.27s\tremaining: 29.1s\n",
      "20:\tlearn: 0.4216294\ttotal: 7.62s\tremaining: 28.7s\n",
      "21:\tlearn: 0.4192150\ttotal: 7.98s\tremaining: 28.3s\n",
      "22:\tlearn: 0.4157810\ttotal: 8.33s\tremaining: 27.9s\n",
      "23:\tlearn: 0.4126347\ttotal: 8.68s\tremaining: 27.5s\n",
      "24:\tlearn: 0.4097994\ttotal: 9.05s\tremaining: 27.2s\n",
      "25:\tlearn: 0.4068586\ttotal: 9.4s\tremaining: 26.8s\n",
      "26:\tlearn: 0.4041401\ttotal: 9.76s\tremaining: 26.4s\n",
      "27:\tlearn: 0.3970698\ttotal: 10.1s\tremaining: 26s\n",
      "28:\tlearn: 0.3943424\ttotal: 10.5s\tremaining: 25.7s\n",
      "29:\tlearn: 0.3915249\ttotal: 10.8s\tremaining: 25.3s\n",
      "30:\tlearn: 0.3895051\ttotal: 11.2s\tremaining: 25s\n",
      "31:\tlearn: 0.3856161\ttotal: 11.6s\tremaining: 24.6s\n",
      "32:\tlearn: 0.3824250\ttotal: 12s\tremaining: 24.3s\n",
      "33:\tlearn: 0.3804010\ttotal: 12.3s\tremaining: 23.9s\n",
      "34:\tlearn: 0.3787851\ttotal: 12.7s\tremaining: 23.5s\n",
      "35:\tlearn: 0.3761620\ttotal: 13s\tremaining: 23.2s\n",
      "36:\tlearn: 0.3740810\ttotal: 13.4s\tremaining: 22.8s\n",
      "37:\tlearn: 0.3722936\ttotal: 13.7s\tremaining: 22.4s\n",
      "38:\tlearn: 0.3705904\ttotal: 14.1s\tremaining: 22.1s\n",
      "39:\tlearn: 0.3686893\ttotal: 14.5s\tremaining: 21.7s\n",
      "40:\tlearn: 0.3668168\ttotal: 14.8s\tremaining: 21.3s\n",
      "41:\tlearn: 0.3649418\ttotal: 15.2s\tremaining: 21s\n",
      "42:\tlearn: 0.3634375\ttotal: 15.6s\tremaining: 20.6s\n",
      "43:\tlearn: 0.3618913\ttotal: 15.9s\tremaining: 20.3s\n",
      "44:\tlearn: 0.3603232\ttotal: 16.3s\tremaining: 19.9s\n",
      "45:\tlearn: 0.3585235\ttotal: 16.6s\tremaining: 19.5s\n",
      "46:\tlearn: 0.3570480\ttotal: 17s\tremaining: 19.2s\n",
      "47:\tlearn: 0.3556281\ttotal: 17.4s\tremaining: 18.8s\n",
      "48:\tlearn: 0.3542211\ttotal: 17.7s\tremaining: 18.4s\n",
      "49:\tlearn: 0.3530626\ttotal: 18.1s\tremaining: 18.1s\n",
      "50:\tlearn: 0.3515829\ttotal: 18.4s\tremaining: 17.7s\n",
      "51:\tlearn: 0.3503172\ttotal: 18.8s\tremaining: 17.4s\n",
      "52:\tlearn: 0.3485746\ttotal: 19.2s\tremaining: 17s\n",
      "53:\tlearn: 0.3453206\ttotal: 19.5s\tremaining: 16.6s\n",
      "54:\tlearn: 0.3441746\ttotal: 19.8s\tremaining: 16.2s\n",
      "55:\tlearn: 0.3429412\ttotal: 20.2s\tremaining: 15.9s\n",
      "56:\tlearn: 0.3414055\ttotal: 20.6s\tremaining: 15.5s\n",
      "57:\tlearn: 0.3400566\ttotal: 20.9s\tremaining: 15.1s\n",
      "58:\tlearn: 0.3389963\ttotal: 21.3s\tremaining: 14.8s\n",
      "59:\tlearn: 0.3368897\ttotal: 21.6s\tremaining: 14.4s\n",
      "60:\tlearn: 0.3356638\ttotal: 22s\tremaining: 14s\n",
      "61:\tlearn: 0.3343818\ttotal: 22.4s\tremaining: 13.7s\n",
      "62:\tlearn: 0.3330375\ttotal: 22.7s\tremaining: 13.3s\n",
      "63:\tlearn: 0.3320692\ttotal: 23.1s\tremaining: 13s\n",
      "64:\tlearn: 0.3309364\ttotal: 23.4s\tremaining: 12.6s\n",
      "65:\tlearn: 0.3294426\ttotal: 23.8s\tremaining: 12.2s\n",
      "66:\tlearn: 0.3286166\ttotal: 24.1s\tremaining: 11.9s\n",
      "67:\tlearn: 0.3276615\ttotal: 24.5s\tremaining: 11.5s\n",
      "68:\tlearn: 0.3268132\ttotal: 24.8s\tremaining: 11.2s\n",
      "69:\tlearn: 0.3258724\ttotal: 25.2s\tremaining: 10.8s\n",
      "70:\tlearn: 0.3248271\ttotal: 25.6s\tremaining: 10.4s\n",
      "71:\tlearn: 0.3239073\ttotal: 25.9s\tremaining: 10.1s\n",
      "72:\tlearn: 0.3230390\ttotal: 26.2s\tremaining: 9.71s\n",
      "73:\tlearn: 0.3221815\ttotal: 26.6s\tremaining: 9.35s\n",
      "74:\tlearn: 0.3214044\ttotal: 27s\tremaining: 8.99s\n",
      "75:\tlearn: 0.3205330\ttotal: 27.3s\tremaining: 8.63s\n",
      "76:\tlearn: 0.3196442\ttotal: 27.7s\tremaining: 8.26s\n",
      "77:\tlearn: 0.3188586\ttotal: 28s\tremaining: 7.9s\n",
      "78:\tlearn: 0.3180015\ttotal: 28.4s\tremaining: 7.54s\n",
      "79:\tlearn: 0.3170881\ttotal: 28.7s\tremaining: 7.19s\n",
      "80:\tlearn: 0.3163327\ttotal: 29.1s\tremaining: 6.83s\n",
      "81:\tlearn: 0.3151752\ttotal: 29.5s\tremaining: 6.47s\n",
      "82:\tlearn: 0.3143796\ttotal: 29.8s\tremaining: 6.1s\n",
      "83:\tlearn: 0.3134930\ttotal: 30.2s\tremaining: 5.74s\n",
      "84:\tlearn: 0.3128847\ttotal: 30.5s\tremaining: 5.38s\n",
      "85:\tlearn: 0.3122030\ttotal: 30.9s\tremaining: 5.02s\n",
      "86:\tlearn: 0.3115406\ttotal: 31.2s\tremaining: 4.66s\n",
      "87:\tlearn: 0.3108398\ttotal: 31.6s\tremaining: 4.3s\n",
      "88:\tlearn: 0.3099826\ttotal: 31.9s\tremaining: 3.94s\n",
      "89:\tlearn: 0.3092044\ttotal: 32.3s\tremaining: 3.59s\n",
      "90:\tlearn: 0.3085610\ttotal: 32.7s\tremaining: 3.23s\n",
      "91:\tlearn: 0.3077382\ttotal: 33s\tremaining: 2.87s\n",
      "92:\tlearn: 0.3069522\ttotal: 33.4s\tremaining: 2.51s\n",
      "93:\tlearn: 0.3061040\ttotal: 33.7s\tremaining: 2.15s\n",
      "94:\tlearn: 0.3053078\ttotal: 34.1s\tremaining: 1.79s\n",
      "95:\tlearn: 0.3045411\ttotal: 34.4s\tremaining: 1.44s\n",
      "96:\tlearn: 0.3040562\ttotal: 34.8s\tremaining: 1.08s\n",
      "97:\tlearn: 0.3034666\ttotal: 35.1s\tremaining: 717ms\n",
      "98:\tlearn: 0.3026086\ttotal: 35.5s\tremaining: 359ms\n",
      "99:\tlearn: 0.3018405\ttotal: 35.9s\tremaining: 0us\n",
      "Learning rate set to 0.5\n",
      "0:\tlearn: 0.5963731\ttotal: 574ms\tremaining: 56.9s\n",
      "1:\tlearn: 0.5683895\ttotal: 1.16s\tremaining: 56.6s\n",
      "2:\tlearn: 0.5460059\ttotal: 1.71s\tremaining: 55.2s\n",
      "3:\tlearn: 0.5256536\ttotal: 2.25s\tremaining: 53.9s\n",
      "4:\tlearn: 0.5153501\ttotal: 2.81s\tremaining: 53.4s\n",
      "5:\tlearn: 0.5091322\ttotal: 3.35s\tremaining: 52.5s\n",
      "6:\tlearn: 0.4997537\ttotal: 3.89s\tremaining: 51.7s\n",
      "7:\tlearn: 0.4928405\ttotal: 4.45s\tremaining: 51.2s\n",
      "8:\tlearn: 0.4785030\ttotal: 5.03s\tremaining: 50.9s\n",
      "9:\tlearn: 0.4713872\ttotal: 5.57s\tremaining: 50.1s\n",
      "10:\tlearn: 0.4638069\ttotal: 6.2s\tremaining: 50.1s\n",
      "11:\tlearn: 0.4575483\ttotal: 6.72s\tremaining: 49.3s\n",
      "12:\tlearn: 0.4520845\ttotal: 7.27s\tremaining: 48.7s\n",
      "13:\tlearn: 0.4478071\ttotal: 7.8s\tremaining: 47.9s\n",
      "14:\tlearn: 0.4418867\ttotal: 8.34s\tremaining: 47.3s\n",
      "15:\tlearn: 0.4378821\ttotal: 8.9s\tremaining: 46.7s\n",
      "16:\tlearn: 0.4346263\ttotal: 9.44s\tremaining: 46.1s\n",
      "17:\tlearn: 0.4292563\ttotal: 9.99s\tremaining: 45.5s\n",
      "18:\tlearn: 0.4249543\ttotal: 10.5s\tremaining: 44.9s\n",
      "19:\tlearn: 0.4223746\ttotal: 11.1s\tremaining: 44.3s\n",
      "20:\tlearn: 0.4192248\ttotal: 11.6s\tremaining: 43.6s\n",
      "21:\tlearn: 0.4140340\ttotal: 12.1s\tremaining: 43.1s\n",
      "22:\tlearn: 0.4099400\ttotal: 12.7s\tremaining: 42.4s\n",
      "23:\tlearn: 0.4062007\ttotal: 13.2s\tremaining: 41.8s\n",
      "24:\tlearn: 0.4035549\ttotal: 13.7s\tremaining: 41.2s\n",
      "25:\tlearn: 0.4008741\ttotal: 14.3s\tremaining: 40.6s\n",
      "26:\tlearn: 0.3978229\ttotal: 14.8s\tremaining: 40.1s\n",
      "27:\tlearn: 0.3955865\ttotal: 15.4s\tremaining: 39.6s\n",
      "28:\tlearn: 0.3932251\ttotal: 15.9s\tremaining: 39s\n",
      "29:\tlearn: 0.3914814\ttotal: 16.5s\tremaining: 38.5s\n",
      "30:\tlearn: 0.3894559\ttotal: 17s\tremaining: 37.9s\n",
      "31:\tlearn: 0.3862044\ttotal: 17.6s\tremaining: 37.4s\n",
      "32:\tlearn: 0.3843608\ttotal: 18.1s\tremaining: 36.8s\n",
      "33:\tlearn: 0.3824896\ttotal: 18.7s\tremaining: 36.2s\n",
      "34:\tlearn: 0.3770661\ttotal: 19.2s\tremaining: 35.6s\n",
      "35:\tlearn: 0.3754579\ttotal: 19.7s\tremaining: 35.1s\n",
      "36:\tlearn: 0.3737813\ttotal: 20.3s\tremaining: 34.5s\n",
      "37:\tlearn: 0.3709715\ttotal: 20.8s\tremaining: 33.9s\n",
      "38:\tlearn: 0.3687304\ttotal: 21.3s\tremaining: 33.4s\n",
      "39:\tlearn: 0.3671332\ttotal: 21.9s\tremaining: 32.8s\n",
      "40:\tlearn: 0.3656760\ttotal: 22.4s\tremaining: 32.2s\n",
      "41:\tlearn: 0.3643536\ttotal: 23s\tremaining: 31.7s\n",
      "42:\tlearn: 0.3625965\ttotal: 23.5s\tremaining: 31.1s\n",
      "43:\tlearn: 0.3611310\ttotal: 24s\tremaining: 30.6s\n",
      "44:\tlearn: 0.3596621\ttotal: 24.6s\tremaining: 30s\n",
      "45:\tlearn: 0.3580780\ttotal: 25.1s\tremaining: 29.5s\n",
      "46:\tlearn: 0.3567187\ttotal: 25.7s\tremaining: 29s\n",
      "47:\tlearn: 0.3555627\ttotal: 26.2s\tremaining: 28.4s\n",
      "48:\tlearn: 0.3540831\ttotal: 26.7s\tremaining: 27.8s\n",
      "49:\tlearn: 0.3527965\ttotal: 27.3s\tremaining: 27.3s\n",
      "50:\tlearn: 0.3516255\ttotal: 27.8s\tremaining: 26.7s\n",
      "51:\tlearn: 0.3501078\ttotal: 28.3s\tremaining: 26.1s\n",
      "52:\tlearn: 0.3487384\ttotal: 28.9s\tremaining: 25.6s\n",
      "53:\tlearn: 0.3474570\ttotal: 29.4s\tremaining: 25s\n",
      "54:\tlearn: 0.3461450\ttotal: 29.9s\tremaining: 24.5s\n",
      "55:\tlearn: 0.3447463\ttotal: 30.5s\tremaining: 23.9s\n",
      "56:\tlearn: 0.3434435\ttotal: 31s\tremaining: 23.4s\n",
      "57:\tlearn: 0.3422082\ttotal: 31.6s\tremaining: 22.8s\n",
      "58:\tlearn: 0.3405411\ttotal: 32.1s\tremaining: 22.3s\n",
      "59:\tlearn: 0.3394534\ttotal: 32.6s\tremaining: 21.7s\n",
      "60:\tlearn: 0.3384909\ttotal: 33.1s\tremaining: 21.2s\n",
      "61:\tlearn: 0.3375429\ttotal: 33.7s\tremaining: 20.6s\n",
      "62:\tlearn: 0.3350352\ttotal: 34.2s\tremaining: 20.1s\n",
      "63:\tlearn: 0.3339224\ttotal: 34.7s\tremaining: 19.5s\n",
      "64:\tlearn: 0.3325505\ttotal: 35.3s\tremaining: 19s\n",
      "65:\tlearn: 0.3309858\ttotal: 35.8s\tremaining: 18.4s\n",
      "66:\tlearn: 0.3297828\ttotal: 36.3s\tremaining: 17.9s\n",
      "67:\tlearn: 0.3286506\ttotal: 36.9s\tremaining: 17.3s\n",
      "68:\tlearn: 0.3278476\ttotal: 37.4s\tremaining: 16.8s\n",
      "69:\tlearn: 0.3266497\ttotal: 37.9s\tremaining: 16.3s\n",
      "70:\tlearn: 0.3257272\ttotal: 38.5s\tremaining: 15.7s\n",
      "71:\tlearn: 0.3245805\ttotal: 39s\tremaining: 15.2s\n",
      "72:\tlearn: 0.3237864\ttotal: 39.5s\tremaining: 14.6s\n",
      "73:\tlearn: 0.3229157\ttotal: 40.1s\tremaining: 14.1s\n",
      "74:\tlearn: 0.3221964\ttotal: 40.6s\tremaining: 13.5s\n",
      "75:\tlearn: 0.3213129\ttotal: 41.1s\tremaining: 13s\n",
      "76:\tlearn: 0.3203360\ttotal: 41.7s\tremaining: 12.4s\n",
      "77:\tlearn: 0.3193061\ttotal: 42.2s\tremaining: 11.9s\n",
      "78:\tlearn: 0.3186661\ttotal: 42.7s\tremaining: 11.4s\n",
      "79:\tlearn: 0.3180766\ttotal: 43.2s\tremaining: 10.8s\n",
      "80:\tlearn: 0.3171857\ttotal: 43.8s\tremaining: 10.3s\n",
      "81:\tlearn: 0.3164163\ttotal: 44.3s\tremaining: 9.73s\n",
      "82:\tlearn: 0.3152914\ttotal: 44.9s\tremaining: 9.19s\n",
      "83:\tlearn: 0.3146630\ttotal: 45.4s\tremaining: 8.64s\n",
      "84:\tlearn: 0.3136146\ttotal: 45.9s\tremaining: 8.1s\n",
      "85:\tlearn: 0.3130761\ttotal: 46.4s\tremaining: 7.56s\n",
      "86:\tlearn: 0.3123485\ttotal: 47s\tremaining: 7.02s\n",
      "87:\tlearn: 0.3115795\ttotal: 47.5s\tremaining: 6.48s\n",
      "88:\tlearn: 0.3108770\ttotal: 48.1s\tremaining: 5.94s\n",
      "89:\tlearn: 0.3103807\ttotal: 48.6s\tremaining: 5.4s\n",
      "90:\tlearn: 0.3090541\ttotal: 49.1s\tremaining: 4.86s\n",
      "91:\tlearn: 0.3083165\ttotal: 49.7s\tremaining: 4.32s\n",
      "92:\tlearn: 0.3079047\ttotal: 50.2s\tremaining: 3.78s\n",
      "93:\tlearn: 0.3072581\ttotal: 50.7s\tremaining: 3.24s\n",
      "94:\tlearn: 0.3067561\ttotal: 51.3s\tremaining: 2.7s\n",
      "95:\tlearn: 0.3062160\ttotal: 51.8s\tremaining: 2.16s\n",
      "96:\tlearn: 0.3056074\ttotal: 52.3s\tremaining: 1.62s\n",
      "97:\tlearn: 0.3047170\ttotal: 52.8s\tremaining: 1.08s\n",
      "98:\tlearn: 0.3040302\ttotal: 53.4s\tremaining: 539ms\n",
      "99:\tlearn: 0.3033692\ttotal: 53.9s\tremaining: 0us\n",
      "CPU times: user 7min 44s, sys: 2.56 s, total: 7min 46s\n",
      "Wall time: 4min 35s\n"
     ]
    }
   ],
   "source": [
    "%%time\n",
    "import catboost as cb #Импортирую CatBoost\n",
    "zeroes = df['toxic'].value_counts()[0]\n",
    "ones = df['toxic'].value_counts()[1]\n",
    "#Объявим модель с учетом дисбаланса классов\n",
    "cb = cb.CatBoostClassifier(class_weights=[1, zeroes/ones])\n",
    "# словарь с набором параметров\n",
    "cb_parametrs = {\"iterations\": [100], \"depth\": [2]}\n",
    "\n",
    "#Применим GridSearchCV с кросс-валидацией\n",
    "cb_grid = GridSearchCV(cb, cb_parametrs,  scoring='f1', cv=3) \n",
    "cb_grid.fit(features_train, target_train)"
   ]
  },
  {
   "cell_type": "code",
   "execution_count": 51,
   "metadata": {
    "colab": {
     "base_uri": "https://localhost:8080/"
    },
    "executionInfo": {
     "elapsed": 481,
     "status": "ok",
     "timestamp": 1653964158971,
     "user": {
      "displayName": "Илья Должанский",
      "userId": "02574470818990683130"
     },
     "user_tz": -180
    },
    "id": "9yZ6tNaeXlCz",
    "outputId": "7114d8f8-c0d9-4b60-bf32-0ff074363947"
   },
   "outputs": [
    {
     "name": "stdout",
     "output_type": "stream",
     "text": [
      "{'depth': 2, 'iterations': 100}\n",
      "0.7322073899255108\n",
      "_______________\n",
      "CPU times: user 1.39 s, sys: 51.9 ms, total: 1.44 s\n",
      "Wall time: 836 ms\n"
     ]
    }
   ],
   "source": [
    "%%time\n",
    "# оптимальные гиперпараметры и качество модели на кросс-валидации\n",
    "cb_params = cb_grid.best_params_\n",
    "cb_score = cb_grid.score(features_train, target_train)\n",
    "print(cb_params)\n",
    "print(cb_score)\n",
    "print('_______________')"
   ]
  },
  {
   "cell_type": "code",
   "execution_count": 52,
   "metadata": {
    "colab": {
     "base_uri": "https://localhost:8080/"
    },
    "executionInfo": {
     "elapsed": 585767,
     "status": "ok",
     "timestamp": 1653964744725,
     "user": {
      "displayName": "Илья Должанский",
      "userId": "02574470818990683130"
     },
     "user_tz": -180
    },
    "id": "hGHvE9L1XlC0",
    "outputId": "a591a729-27b5-4451-ec39-2069dad2b2bd",
    "scrolled": true
   },
   "outputs": [
    {
     "name": "stdout",
     "output_type": "stream",
     "text": [
      "Learning rate set to 0.079478\n",
      "0:\tlearn: 0.6647640\ttotal: 638ms\tremaining: 10m 37s\n",
      "10:\tlearn: 0.5796178\ttotal: 6.3s\tremaining: 9m 26s\n",
      "20:\tlearn: 0.5455737\ttotal: 11.8s\tremaining: 9m 8s\n",
      "30:\tlearn: 0.5256383\ttotal: 17.3s\tremaining: 8m 59s\n",
      "40:\tlearn: 0.5114124\ttotal: 22.8s\tremaining: 8m 52s\n",
      "50:\tlearn: 0.4978489\ttotal: 28.3s\tremaining: 8m 46s\n",
      "60:\tlearn: 0.4848423\ttotal: 33.7s\tremaining: 8m 38s\n",
      "70:\tlearn: 0.4756278\ttotal: 39.1s\tremaining: 8m 31s\n",
      "80:\tlearn: 0.4659206\ttotal: 44.5s\tremaining: 8m 24s\n",
      "90:\tlearn: 0.4584257\ttotal: 49.9s\tremaining: 8m 18s\n",
      "100:\tlearn: 0.4497149\ttotal: 55.2s\tremaining: 8m 11s\n",
      "110:\tlearn: 0.4442300\ttotal: 1m\tremaining: 8m 5s\n",
      "120:\tlearn: 0.4386831\ttotal: 1m 6s\tremaining: 8m\n",
      "130:\tlearn: 0.4327229\ttotal: 1m 11s\tremaining: 7m 54s\n",
      "140:\tlearn: 0.4270320\ttotal: 1m 16s\tremaining: 7m 47s\n",
      "150:\tlearn: 0.4220761\ttotal: 1m 22s\tremaining: 7m 42s\n",
      "160:\tlearn: 0.4169316\ttotal: 1m 30s\tremaining: 7m 49s\n",
      "170:\tlearn: 0.4125508\ttotal: 1m 35s\tremaining: 7m 43s\n",
      "180:\tlearn: 0.4074564\ttotal: 1m 40s\tremaining: 7m 36s\n",
      "190:\tlearn: 0.4035366\ttotal: 1m 46s\tremaining: 7m 29s\n",
      "200:\tlearn: 0.3994615\ttotal: 1m 51s\tremaining: 7m 23s\n",
      "210:\tlearn: 0.3960643\ttotal: 1m 56s\tremaining: 7m 16s\n",
      "220:\tlearn: 0.3923270\ttotal: 2m 2s\tremaining: 7m 10s\n",
      "230:\tlearn: 0.3893476\ttotal: 2m 7s\tremaining: 7m 4s\n",
      "240:\tlearn: 0.3857950\ttotal: 2m 12s\tremaining: 6m 58s\n",
      "250:\tlearn: 0.3825511\ttotal: 2m 18s\tremaining: 6m 52s\n",
      "260:\tlearn: 0.3787314\ttotal: 2m 23s\tremaining: 6m 46s\n",
      "270:\tlearn: 0.3760568\ttotal: 2m 28s\tremaining: 6m 40s\n",
      "280:\tlearn: 0.3731696\ttotal: 2m 34s\tremaining: 6m 34s\n",
      "290:\tlearn: 0.3706409\ttotal: 2m 39s\tremaining: 6m 28s\n",
      "300:\tlearn: 0.3682910\ttotal: 2m 44s\tremaining: 6m 22s\n",
      "310:\tlearn: 0.3658551\ttotal: 2m 49s\tremaining: 6m 16s\n",
      "320:\tlearn: 0.3638076\ttotal: 2m 55s\tremaining: 6m 10s\n",
      "330:\tlearn: 0.3616162\ttotal: 3m\tremaining: 6m 4s\n",
      "340:\tlearn: 0.3592379\ttotal: 3m 5s\tremaining: 5m 59s\n",
      "350:\tlearn: 0.3566517\ttotal: 3m 11s\tremaining: 5m 53s\n",
      "360:\tlearn: 0.3544783\ttotal: 3m 16s\tremaining: 5m 47s\n",
      "370:\tlearn: 0.3524732\ttotal: 3m 21s\tremaining: 5m 42s\n",
      "380:\tlearn: 0.3502306\ttotal: 3m 27s\tremaining: 5m 36s\n",
      "390:\tlearn: 0.3479691\ttotal: 3m 32s\tremaining: 5m 30s\n",
      "400:\tlearn: 0.3460875\ttotal: 3m 37s\tremaining: 5m 25s\n",
      "410:\tlearn: 0.3443360\ttotal: 3m 42s\tremaining: 5m 19s\n",
      "420:\tlearn: 0.3427306\ttotal: 3m 48s\tremaining: 5m 13s\n",
      "430:\tlearn: 0.3409764\ttotal: 3m 53s\tremaining: 5m 8s\n",
      "440:\tlearn: 0.3395110\ttotal: 3m 58s\tremaining: 5m 2s\n",
      "450:\tlearn: 0.3380264\ttotal: 4m 4s\tremaining: 4m 57s\n",
      "460:\tlearn: 0.3364520\ttotal: 4m 9s\tremaining: 4m 51s\n",
      "470:\tlearn: 0.3350722\ttotal: 4m 14s\tremaining: 4m 45s\n",
      "480:\tlearn: 0.3336756\ttotal: 4m 19s\tremaining: 4m 40s\n",
      "490:\tlearn: 0.3321131\ttotal: 4m 25s\tremaining: 4m 34s\n",
      "500:\tlearn: 0.3304446\ttotal: 4m 30s\tremaining: 4m 29s\n",
      "510:\tlearn: 0.3291832\ttotal: 4m 35s\tremaining: 4m 23s\n",
      "520:\tlearn: 0.3278564\ttotal: 4m 40s\tremaining: 4m 18s\n",
      "530:\tlearn: 0.3261293\ttotal: 4m 46s\tremaining: 4m 12s\n",
      "540:\tlearn: 0.3248242\ttotal: 4m 53s\tremaining: 4m 8s\n",
      "550:\tlearn: 0.3235982\ttotal: 4m 58s\tremaining: 4m 3s\n",
      "560:\tlearn: 0.3223944\ttotal: 5m 3s\tremaining: 3m 57s\n",
      "570:\tlearn: 0.3209242\ttotal: 5m 8s\tremaining: 3m 52s\n",
      "580:\tlearn: 0.3198201\ttotal: 5m 14s\tremaining: 3m 46s\n",
      "590:\tlearn: 0.3187433\ttotal: 5m 19s\tremaining: 3m 41s\n",
      "600:\tlearn: 0.3174913\ttotal: 5m 24s\tremaining: 3m 35s\n",
      "610:\tlearn: 0.3159972\ttotal: 5m 29s\tremaining: 3m 30s\n",
      "620:\tlearn: 0.3149306\ttotal: 5m 35s\tremaining: 3m 24s\n",
      "630:\tlearn: 0.3139223\ttotal: 5m 40s\tremaining: 3m 19s\n",
      "640:\tlearn: 0.3128035\ttotal: 5m 45s\tremaining: 3m 13s\n",
      "650:\tlearn: 0.3117947\ttotal: 5m 51s\tremaining: 3m 8s\n",
      "660:\tlearn: 0.3106599\ttotal: 5m 56s\tremaining: 3m 2s\n",
      "670:\tlearn: 0.3094561\ttotal: 6m 1s\tremaining: 2m 57s\n",
      "680:\tlearn: 0.3083855\ttotal: 6m 6s\tremaining: 2m 51s\n",
      "690:\tlearn: 0.3074869\ttotal: 6m 12s\tremaining: 2m 46s\n",
      "700:\tlearn: 0.3065117\ttotal: 6m 17s\tremaining: 2m 41s\n",
      "710:\tlearn: 0.3055931\ttotal: 6m 22s\tremaining: 2m 35s\n",
      "720:\tlearn: 0.3045501\ttotal: 6m 27s\tremaining: 2m 30s\n",
      "730:\tlearn: 0.3035894\ttotal: 6m 33s\tremaining: 2m 24s\n",
      "740:\tlearn: 0.3027806\ttotal: 6m 38s\tremaining: 2m 19s\n",
      "750:\tlearn: 0.3017553\ttotal: 6m 43s\tremaining: 2m 13s\n",
      "760:\tlearn: 0.3009682\ttotal: 6m 48s\tremaining: 2m 8s\n",
      "770:\tlearn: 0.3000230\ttotal: 6m 54s\tremaining: 2m 3s\n",
      "780:\tlearn: 0.2991692\ttotal: 6m 59s\tremaining: 1m 57s\n",
      "790:\tlearn: 0.2981624\ttotal: 7m 4s\tremaining: 1m 52s\n",
      "800:\tlearn: 0.2973817\ttotal: 7m 9s\tremaining: 1m 46s\n",
      "810:\tlearn: 0.2966110\ttotal: 7m 15s\tremaining: 1m 41s\n",
      "820:\tlearn: 0.2955595\ttotal: 7m 20s\tremaining: 1m 36s\n",
      "830:\tlearn: 0.2947540\ttotal: 7m 25s\tremaining: 1m 30s\n",
      "840:\tlearn: 0.2939248\ttotal: 7m 30s\tremaining: 1m 25s\n",
      "850:\tlearn: 0.2930880\ttotal: 7m 36s\tremaining: 1m 19s\n",
      "860:\tlearn: 0.2918215\ttotal: 7m 41s\tremaining: 1m 14s\n",
      "870:\tlearn: 0.2909074\ttotal: 7m 46s\tremaining: 1m 9s\n",
      "880:\tlearn: 0.2899448\ttotal: 7m 51s\tremaining: 1m 3s\n",
      "890:\tlearn: 0.2892024\ttotal: 7m 57s\tremaining: 58.4s\n",
      "900:\tlearn: 0.2885110\ttotal: 8m 2s\tremaining: 53s\n",
      "910:\tlearn: 0.2877003\ttotal: 8m 7s\tremaining: 47.6s\n",
      "920:\tlearn: 0.2869089\ttotal: 8m 12s\tremaining: 42.3s\n",
      "930:\tlearn: 0.2860904\ttotal: 8m 18s\tremaining: 36.9s\n",
      "940:\tlearn: 0.2854266\ttotal: 8m 23s\tremaining: 31.6s\n",
      "950:\tlearn: 0.2847535\ttotal: 8m 28s\tremaining: 26.2s\n",
      "960:\tlearn: 0.2838933\ttotal: 8m 33s\tremaining: 20.9s\n",
      "970:\tlearn: 0.2829358\ttotal: 8m 39s\tremaining: 15.5s\n",
      "980:\tlearn: 0.2822408\ttotal: 8m 44s\tremaining: 10.2s\n",
      "990:\tlearn: 0.2816252\ttotal: 8m 49s\tremaining: 4.81s\n",
      "999:\tlearn: 0.2810849\ttotal: 8m 54s\tremaining: 0us\n",
      "CPU times: user 17min 26s, sys: 4.93 s, total: 17min 31s\n",
      "Wall time: 9min 46s\n"
     ]
    }
   ],
   "source": [
    "%%time\n",
    "import catboost as cb #Импортирую CatBoost\n",
    "#Обучим модель на оптимальных гиперпараметрах\n",
    "cb_model = cb.CatBoostClassifier(class_weights=[1, zeroes/ones], depth=cb_params['depth'])\n",
    "\n",
    "cb_model.fit(features_train, target_train, verbose=10)\n",
    "cb_model_predictions = cb_model.predict(features_test)\n"
   ]
  },
  {
   "cell_type": "code",
   "execution_count": 53,
   "metadata": {
    "colab": {
     "base_uri": "https://localhost:8080/"
    },
    "executionInfo": {
     "elapsed": 33,
     "status": "ok",
     "timestamp": 1653964744728,
     "user": {
      "displayName": "Илья Должанский",
      "userId": "02574470818990683130"
     },
     "user_tz": -180
    },
    "id": "i1yqv5PCXlC1",
    "outputId": "cccafbd2-b020-42ab-b376-50de3c0268d7"
   },
   "outputs": [
    {
     "name": "stdout",
     "output_type": "stream",
     "text": [
      "F1 модели CatBoost : 0.738\n"
     ]
    }
   ],
   "source": [
    "\n",
    "#Определяем метрику f1 \n",
    "cb_f1 = round(f1_score(target_test, cb_model_predictions), 3)\n",
    "print('F1 модели CatBoost :',cb_f1)"
   ]
  },
  {
   "cell_type": "markdown",
   "metadata": {
    "id": "PRfZHPraXlC2"
   },
   "source": [
    "<a id='step9'></a>"
   ]
  },
  {
   "cell_type": "markdown",
   "metadata": {
    "id": "VQdOU4OgXlC2"
   },
   "source": [
    "## Model_BERT \n",
    "[&#10224;](#step1)"
   ]
  },
  {
   "cell_type": "markdown",
   "metadata": {
    "id": "FG2-Garil6AQ"
   },
   "source": [
    "## Импортируем необходимые библиотеки <a class=\"tocSkip\">"
   ]
  },
  {
   "cell_type": "code",
   "execution_count": 108,
   "metadata": {
    "colab": {
     "base_uri": "https://localhost:8080/"
    },
    "executionInfo": {
     "elapsed": 7469,
     "status": "ok",
     "timestamp": 1653966266968,
     "user": {
      "displayName": "Илья Должанский",
      "userId": "02574470818990683130"
     },
     "user_tz": -180
    },
    "id": "SyUcGux7FEQJ",
    "outputId": "a015db75-ebc7-4928-d77f-488f58deb951"
   },
   "outputs": [
    {
     "name": "stdout",
     "output_type": "stream",
     "text": [
      "Looking in indexes: https://pypi.org/simple, https://us-python.pkg.dev/colab-wheels/public/simple/\n",
      "Requirement already satisfied: transformers in /usr/local/lib/python3.7/dist-packages (4.19.2)\n",
      "Requirement already satisfied: requests in /usr/local/lib/python3.7/dist-packages (from transformers) (2.23.0)\n",
      "Requirement already satisfied: filelock in /usr/local/lib/python3.7/dist-packages (from transformers) (3.7.0)\n",
      "Requirement already satisfied: huggingface-hub<1.0,>=0.1.0 in /usr/local/lib/python3.7/dist-packages (from transformers) (0.7.0)\n",
      "Requirement already satisfied: importlib-metadata in /usr/local/lib/python3.7/dist-packages (from transformers) (4.11.3)\n",
      "Requirement already satisfied: tqdm>=4.27 in /usr/local/lib/python3.7/dist-packages (from transformers) (4.64.0)\n",
      "Requirement already satisfied: regex!=2019.12.17 in /usr/local/lib/python3.7/dist-packages (from transformers) (2019.12.20)\n",
      "Requirement already satisfied: tokenizers!=0.11.3,<0.13,>=0.11.1 in /usr/local/lib/python3.7/dist-packages (from transformers) (0.12.1)\n",
      "Requirement already satisfied: numpy>=1.17 in /usr/local/lib/python3.7/dist-packages (from transformers) (1.21.6)\n",
      "Requirement already satisfied: pyyaml>=5.1 in /usr/local/lib/python3.7/dist-packages (from transformers) (6.0)\n",
      "Requirement already satisfied: packaging>=20.0 in /usr/local/lib/python3.7/dist-packages (from transformers) (21.3)\n",
      "Requirement already satisfied: typing-extensions>=3.7.4.3 in /usr/local/lib/python3.7/dist-packages (from huggingface-hub<1.0,>=0.1.0->transformers) (4.2.0)\n",
      "Requirement already satisfied: pyparsing!=3.0.5,>=2.0.2 in /usr/local/lib/python3.7/dist-packages (from packaging>=20.0->transformers) (3.0.9)\n",
      "Requirement already satisfied: zipp>=0.5 in /usr/local/lib/python3.7/dist-packages (from importlib-metadata->transformers) (3.8.0)\n",
      "Requirement already satisfied: certifi>=2017.4.17 in /usr/local/lib/python3.7/dist-packages (from requests->transformers) (2022.5.18.1)\n",
      "Requirement already satisfied: idna<3,>=2.5 in /usr/local/lib/python3.7/dist-packages (from requests->transformers) (2.10)\n",
      "Requirement already satisfied: urllib3!=1.25.0,!=1.25.1,<1.26,>=1.21.1 in /usr/local/lib/python3.7/dist-packages (from requests->transformers) (1.24.3)\n",
      "Requirement already satisfied: chardet<4,>=3.0.2 in /usr/local/lib/python3.7/dist-packages (from requests->transformers) (3.0.4)\n"
     ]
    }
   ],
   "source": [
    "!pip install transformers"
   ]
  },
  {
   "cell_type": "markdown",
   "metadata": {
    "id": "_mF-LDkDgdQM"
   },
   "source": [
    "## Создаем для тестирования модели BERT уменьшенный датасет <a class=\"tocSkip\">\n",
    "По соображениям производительности мы будем использовать только 3000 предложений из набора данных"
   ]
  },
  {
   "cell_type": "markdown",
   "metadata": {
    "id": "ssTquAHyPlhc"
   },
   "source": [
    "<div class=\"alert alert-success\">\n",
    "<b>1 Комментарий ревьюера ✔️:</b> Круто, что ты решил попробовать BERT!"
   ]
  },
  {
   "cell_type": "markdown",
   "metadata": {},
   "source": [
    "<div style=\"border:solid light blue 1px; padding: 1px\">\n",
    "<div class=\"alert alert-info\">\n",
    "<b>Комментарий студента:</b>\n",
    "    \n",
    "Да, круто!! А ведь никтож не заставлял. Лучшеб я в это не ввязывался)) Хотя...\n",
    "    \n",
    "</div>"
   ]
  },
  {
   "cell_type": "markdown",
   "metadata": {},
   "source": [
    "<div class=\"alert alert-success\">\n",
    "<b>2 Комментарий ревьюера ✔️:</b> Зато какой опыт) <br>Багаж знаний стал больше, преимущество перед одногруппниками заметнее)"
   ]
  },
  {
   "cell_type": "code",
   "execution_count": 109,
   "metadata": {
    "colab": {
     "base_uri": "https://localhost:8080/",
     "height": 206
    },
    "executionInfo": {
     "elapsed": 58,
     "status": "ok",
     "timestamp": 1653966266970,
     "user": {
      "displayName": "Илья Должанский",
      "userId": "02574470818990683130"
     },
     "user_tz": -180
    },
    "id": "shXTlqdUXlC4",
    "outputId": "21c72ac3-515a-47a5-94c1-40ed9ff444c1"
   },
   "outputs": [
    {
     "data": {
      "text/html": [
       "\n",
       "  <div id=\"df-a5283a01-d13a-46c5-85e8-5e6ce67bad25\">\n",
       "    <div class=\"colab-df-container\">\n",
       "      <div>\n",
       "<style scoped>\n",
       "    .dataframe tbody tr th:only-of-type {\n",
       "        vertical-align: middle;\n",
       "    }\n",
       "\n",
       "    .dataframe tbody tr th {\n",
       "        vertical-align: top;\n",
       "    }\n",
       "\n",
       "    .dataframe thead th {\n",
       "        text-align: right;\n",
       "    }\n",
       "</style>\n",
       "<table border=\"1\" class=\"dataframe\">\n",
       "  <thead>\n",
       "    <tr style=\"text-align: right;\">\n",
       "      <th></th>\n",
       "      <th>text</th>\n",
       "      <th>toxic</th>\n",
       "      <th>lem_text</th>\n",
       "      <th>lem_text_stopwords</th>\n",
       "    </tr>\n",
       "  </thead>\n",
       "  <tbody>\n",
       "    <tr>\n",
       "      <th>0</th>\n",
       "      <td>Explanation\\nWhy the edits made under my usern...</td>\n",
       "      <td>0</td>\n",
       "      <td>explanation why the edit make under my usernam...</td>\n",
       "      <td>explanation edit make username hardcore metall...</td>\n",
       "    </tr>\n",
       "    <tr>\n",
       "      <th>1</th>\n",
       "      <td>D'aww! He matches this background colour I'm s...</td>\n",
       "      <td>0</td>\n",
       "      <td>d aww he match thi background colour i m seemi...</td>\n",
       "      <td>aww match thi background colour seemingly stic...</td>\n",
       "    </tr>\n",
       "    <tr>\n",
       "      <th>2</th>\n",
       "      <td>Hey man, I'm really not trying to edit war. It...</td>\n",
       "      <td>0</td>\n",
       "      <td>hey man i m really not try to edit war it  jus...</td>\n",
       "      <td>hey man really try edit war thi guy constantly...</td>\n",
       "    </tr>\n",
       "    <tr>\n",
       "      <th>3</th>\n",
       "      <td>\"\\nMore\\nI can't make any real suggestions on ...</td>\n",
       "      <td>0</td>\n",
       "      <td>more i can t make any real suggestion on impro...</td>\n",
       "      <td>make real suggestion improvement wonder sectio...</td>\n",
       "    </tr>\n",
       "    <tr>\n",
       "      <th>4</th>\n",
       "      <td>You, sir, are my hero. Any chance you remember...</td>\n",
       "      <td>0</td>\n",
       "      <td>you sir be my hero any chance you remember wha...</td>\n",
       "      <td>sir hero chance remember page</td>\n",
       "    </tr>\n",
       "  </tbody>\n",
       "</table>\n",
       "</div>\n",
       "      <button class=\"colab-df-convert\" onclick=\"convertToInteractive('df-a5283a01-d13a-46c5-85e8-5e6ce67bad25')\"\n",
       "              title=\"Convert this dataframe to an interactive table.\"\n",
       "              style=\"display:none;\">\n",
       "        \n",
       "  <svg xmlns=\"http://www.w3.org/2000/svg\" height=\"24px\"viewBox=\"0 0 24 24\"\n",
       "       width=\"24px\">\n",
       "    <path d=\"M0 0h24v24H0V0z\" fill=\"none\"/>\n",
       "    <path d=\"M18.56 5.44l.94 2.06.94-2.06 2.06-.94-2.06-.94-.94-2.06-.94 2.06-2.06.94zm-11 1L8.5 8.5l.94-2.06 2.06-.94-2.06-.94L8.5 2.5l-.94 2.06-2.06.94zm10 10l.94 2.06.94-2.06 2.06-.94-2.06-.94-.94-2.06-.94 2.06-2.06.94z\"/><path d=\"M17.41 7.96l-1.37-1.37c-.4-.4-.92-.59-1.43-.59-.52 0-1.04.2-1.43.59L10.3 9.45l-7.72 7.72c-.78.78-.78 2.05 0 2.83L4 21.41c.39.39.9.59 1.41.59.51 0 1.02-.2 1.41-.59l7.78-7.78 2.81-2.81c.8-.78.8-2.07 0-2.86zM5.41 20L4 18.59l7.72-7.72 1.47 1.35L5.41 20z\"/>\n",
       "  </svg>\n",
       "      </button>\n",
       "      \n",
       "  <style>\n",
       "    .colab-df-container {\n",
       "      display:flex;\n",
       "      flex-wrap:wrap;\n",
       "      gap: 12px;\n",
       "    }\n",
       "\n",
       "    .colab-df-convert {\n",
       "      background-color: #E8F0FE;\n",
       "      border: none;\n",
       "      border-radius: 50%;\n",
       "      cursor: pointer;\n",
       "      display: none;\n",
       "      fill: #1967D2;\n",
       "      height: 32px;\n",
       "      padding: 0 0 0 0;\n",
       "      width: 32px;\n",
       "    }\n",
       "\n",
       "    .colab-df-convert:hover {\n",
       "      background-color: #E2EBFA;\n",
       "      box-shadow: 0px 1px 2px rgba(60, 64, 67, 0.3), 0px 1px 3px 1px rgba(60, 64, 67, 0.15);\n",
       "      fill: #174EA6;\n",
       "    }\n",
       "\n",
       "    [theme=dark] .colab-df-convert {\n",
       "      background-color: #3B4455;\n",
       "      fill: #D2E3FC;\n",
       "    }\n",
       "\n",
       "    [theme=dark] .colab-df-convert:hover {\n",
       "      background-color: #434B5C;\n",
       "      box-shadow: 0px 1px 3px 1px rgba(0, 0, 0, 0.15);\n",
       "      filter: drop-shadow(0px 1px 2px rgba(0, 0, 0, 0.3));\n",
       "      fill: #FFFFFF;\n",
       "    }\n",
       "  </style>\n",
       "\n",
       "      <script>\n",
       "        const buttonEl =\n",
       "          document.querySelector('#df-a5283a01-d13a-46c5-85e8-5e6ce67bad25 button.colab-df-convert');\n",
       "        buttonEl.style.display =\n",
       "          google.colab.kernel.accessAllowed ? 'block' : 'none';\n",
       "\n",
       "        async function convertToInteractive(key) {\n",
       "          const element = document.querySelector('#df-a5283a01-d13a-46c5-85e8-5e6ce67bad25');\n",
       "          const dataTable =\n",
       "            await google.colab.kernel.invokeFunction('convertToInteractive',\n",
       "                                                     [key], {});\n",
       "          if (!dataTable) return;\n",
       "\n",
       "          const docLinkHtml = 'Like what you see? Visit the ' +\n",
       "            '<a target=\"_blank\" href=https://colab.research.google.com/notebooks/data_table.ipynb>data table notebook</a>'\n",
       "            + ' to learn more about interactive tables.';\n",
       "          element.innerHTML = '';\n",
       "          dataTable['output_type'] = 'display_data';\n",
       "          await google.colab.output.renderOutput(dataTable, element);\n",
       "          const docLink = document.createElement('div');\n",
       "          docLink.innerHTML = docLinkHtml;\n",
       "          element.appendChild(docLink);\n",
       "        }\n",
       "      </script>\n",
       "    </div>\n",
       "  </div>\n",
       "  "
      ],
      "text/plain": [
       "                                                text  toxic  \\\n",
       "0  Explanation\\nWhy the edits made under my usern...      0   \n",
       "1  D'aww! He matches this background colour I'm s...      0   \n",
       "2  Hey man, I'm really not trying to edit war. It...      0   \n",
       "3  \"\\nMore\\nI can't make any real suggestions on ...      0   \n",
       "4  You, sir, are my hero. Any chance you remember...      0   \n",
       "\n",
       "                                            lem_text  \\\n",
       "0  explanation why the edit make under my usernam...   \n",
       "1  d aww he match thi background colour i m seemi...   \n",
       "2  hey man i m really not try to edit war it  jus...   \n",
       "3  more i can t make any real suggestion on impro...   \n",
       "4  you sir be my hero any chance you remember wha...   \n",
       "\n",
       "                                  lem_text_stopwords  \n",
       "0  explanation edit make username hardcore metall...  \n",
       "1  aww match thi background colour seemingly stic...  \n",
       "2  hey man really try edit war thi guy constantly...  \n",
       "3  make real suggestion improvement wonder sectio...  \n",
       "4                      sir hero chance remember page  "
      ]
     },
     "execution_count": 109,
     "metadata": {},
     "output_type": "execute_result"
    }
   ],
   "source": [
    "df.head()"
   ]
  },
  {
   "cell_type": "code",
   "execution_count": 110,
   "metadata": {
    "executionInfo": {
     "elapsed": 55,
     "status": "ok",
     "timestamp": 1653966266972,
     "user": {
      "displayName": "Илья Должанский",
      "userId": "02574470818990683130"
     },
     "user_tz": -180
    },
    "id": "tHdlFZYYFEQT"
   },
   "outputs": [],
   "source": [
    "batch_bert = df[:7000] # создадим выборку из первых n строк"
   ]
  },
  {
   "cell_type": "code",
   "execution_count": 111,
   "metadata": {
    "executionInfo": {
     "elapsed": 55,
     "status": "ok",
     "timestamp": 1653966266974,
     "user": {
      "displayName": "Илья Должанский",
      "userId": "02574470818990683130"
     },
     "user_tz": -180
    },
    "id": "rwGD3mip1O1m"
   },
   "outputs": [],
   "source": [
    "#batch_bert = df.sample(n = 3000) # создадим выборку из случайных n строк"
   ]
  },
  {
   "cell_type": "markdown",
   "metadata": {
    "id": "Qoby9J_bs6Rk"
   },
   "source": [
    "### Посмотрим еще раз,  сколько предложений помечено как \"положительные\" (значение 1) и сколько помечено как \"отрицательные\" (имеющие значение 0). <a class=\"tocSkip\">"
   ]
  },
  {
   "cell_type": "code",
   "execution_count": 112,
   "metadata": {
    "colab": {
     "base_uri": "https://localhost:8080/"
    },
    "executionInfo": {
     "elapsed": 57,
     "status": "ok",
     "timestamp": 1653966266977,
     "user": {
      "displayName": "Илья Должанский",
      "userId": "02574470818990683130"
     },
     "user_tz": -180
    },
    "id": "uXmU3__zFEQW",
    "outputId": "6730c119-3d1d-4330-c35a-601e3b5b09d7"
   },
   "outputs": [
    {
     "data": {
      "text/plain": [
       "0    143346\n",
       "1     16225\n",
       "Name: toxic, dtype: int64"
      ]
     },
     "execution_count": 112,
     "metadata": {},
     "output_type": "execute_result"
    }
   ],
   "source": [
    "df['toxic'].value_counts() # изначальный датасет"
   ]
  },
  {
   "cell_type": "code",
   "execution_count": 113,
   "metadata": {
    "colab": {
     "base_uri": "https://localhost:8080/"
    },
    "executionInfo": {
     "elapsed": 47,
     "status": "ok",
     "timestamp": 1653966266979,
     "user": {
      "displayName": "Илья Должанский",
      "userId": "02574470818990683130"
     },
     "user_tz": -180
    },
    "id": "LOWPX1bcFEQU",
    "outputId": "3c999c33-b918-4748-bc99-b23778f85526"
   },
   "outputs": [
    {
     "data": {
      "text/plain": [
       "0    6254\n",
       "1     746\n",
       "Name: toxic, dtype: int64"
      ]
     },
     "execution_count": 113,
     "metadata": {},
     "output_type": "execute_result"
    }
   ],
   "source": [
    "batch_bert['toxic'].value_counts() # соотношение предложений в датасете для модели BERT"
   ]
  },
  {
   "cell_type": "markdown",
   "metadata": {
    "id": "pfVo4jNSdTVJ"
   },
   "source": [
    "## Загрузим предварительно обученную  модель упрощенную BERT - модель DistilBERT<a class=\"tocSkip\">\n"
   ]
  },
  {
   "cell_type": "code",
   "execution_count": 114,
   "metadata": {
    "executionInfo": {
     "elapsed": 43,
     "status": "ok",
     "timestamp": 1653966266983,
     "user": {
      "displayName": "Илья Должанский",
      "userId": "02574470818990683130"
     },
     "user_tz": -180
    },
    "id": "o5bQVH8yFEQX"
   },
   "outputs": [],
   "source": [
    "import torch\n",
    "import transformers as ppb # pytorch transformers\n",
    "#Загрузка предобученной модели DistilBERT\n",
    "model_class, tokenizer_class, pretrained_weights = (ppb.DistilBertModel, ppb.DistilBertTokenizer, 'distilbert-base-uncased')"
   ]
  },
  {
   "cell_type": "code",
   "execution_count": 115,
   "metadata": {
    "executionInfo": {
     "elapsed": 45,
     "status": "ok",
     "timestamp": 1653966266986,
     "user": {
      "displayName": "Илья Должанский",
      "userId": "02574470818990683130"
     },
     "user_tz": -180
    },
    "id": "sLy5a2DaFEQZ"
   },
   "outputs": [],
   "source": [
    "#Загрузка предобученной модели BERT\n",
    "#model_class, tokenizer_class, pretrained_weights = (ppb.BertModel, ppb.BertTokenizer, 'bert-base-uncased')"
   ]
  },
  {
   "cell_type": "code",
   "execution_count": 116,
   "metadata": {
    "colab": {
     "base_uri": "https://localhost:8080/"
    },
    "executionInfo": {
     "elapsed": 1913,
     "status": "ok",
     "timestamp": 1653966268855,
     "user": {
      "displayName": "Илья Должанский",
      "userId": "02574470818990683130"
     },
     "user_tz": -180
    },
    "id": "GwgHOuR7FEQa",
    "outputId": "64459a32-b9d7-45e7-9c51-e939c230f877"
   },
   "outputs": [
    {
     "name": "stderr",
     "output_type": "stream",
     "text": [
      "Some weights of the model checkpoint at distilbert-base-uncased were not used when initializing DistilBertModel: ['vocab_projector.bias', 'vocab_projector.weight', 'vocab_transform.weight', 'vocab_layer_norm.bias', 'vocab_layer_norm.weight', 'vocab_transform.bias']\n",
      "- This IS expected if you are initializing DistilBertModel from the checkpoint of a model trained on another task or with another architecture (e.g. initializing a BertForSequenceClassification model from a BertForPreTraining model).\n",
      "- This IS NOT expected if you are initializing DistilBertModel from the checkpoint of a model that you expect to be exactly identical (initializing a BertForSequenceClassification model from a BertForSequenceClassification model).\n"
     ]
    }
   ],
   "source": [
    "# Загрузка предобученной модели/токенизатора \n",
    "tokenizer = tokenizer_class.from_pretrained(pretrained_weights)\n",
    "model = model_class.from_pretrained(pretrained_weights)"
   ]
  },
  {
   "cell_type": "markdown",
   "metadata": {
    "id": "xLQmB3snPlhi"
   },
   "source": [
    "<div class=\"alert alert-success\">\n",
    "<b>1 Комментарий ревьюера ✔️:</b> Правильная загрузка модели и токенизатора"
   ]
  },
  {
   "cell_type": "markdown",
   "metadata": {
    "id": "BB97H61ufBsK"
   },
   "source": [
    "## Так как для работы BERT, не обязательно предобрабатывать и очищать текст,  Производим токенизацию текста по столбцу  _text_ <a class=\"tocSkip\">"
   ]
  },
  {
   "cell_type": "markdown",
   "metadata": {
    "id": "_0FEVW9lPlhi"
   },
   "source": [
    "<div class=\"alert alert-warning\">\n",
    "<b>1 Комментарий ревьюера ⚠️:</b> Лемматизацию не обязательно делать, но текст от мусора с помощью регулярных выражений почистить можно"
   ]
  },
  {
   "cell_type": "markdown",
   "metadata": {
    "id": "AiXEC4HGPlhj"
   },
   "source": [
    "<div style=\"border:solid light blue 1px; padding: 1px\">\n",
    "<div class=\"alert alert-info\">\n",
    "<b>Комментарий студента:</b>\n",
    "    \n",
    "Да, я пробовал и lem_text и lem_text_stopwords - результаты не лучше. Отдельный столбец типа lem_text_bert без лемматизации, но очищенный, наверное уже перебор) токенизируем в этот раз предобработанный столбец  __lem_text_stopwords__\n",
    "    \n",
    "</div>"
   ]
  },
  {
   "cell_type": "markdown",
   "metadata": {},
   "source": [
    "<div class=\"alert alert-success\">\n",
    "<b>2 Комментарий ревьюера ✔️:</b> Понял. Здорово, что ты поэкспериментировал с предобработкой"
   ]
  },
  {
   "cell_type": "code",
   "execution_count": 117,
   "metadata": {
    "colab": {
     "base_uri": "https://localhost:8080/"
    },
    "executionInfo": {
     "elapsed": 16927,
     "status": "ok",
     "timestamp": 1653966285763,
     "user": {
      "displayName": "Илья Должанский",
      "userId": "02574470818990683130"
     },
     "user_tz": -180
    },
    "id": "WPZT70UIFEQd",
    "outputId": "1fc3ce01-0e2c-435e-99e0-bf515e5e6c88",
    "scrolled": true
   },
   "outputs": [
    {
     "name": "stderr",
     "output_type": "stream",
     "text": [
      "Truncation was not explicitly activated but `max_length` is provided a specific value, please use `truncation=True` to explicitly truncate examples to max length. Defaulting to 'longest_first' truncation strategy. If you encode pairs of sequences (GLUE-style) with the tokenizer you can select this strategy more precisely by providing a specific strategy to `truncation`.\n"
     ]
    }
   ],
   "source": [
    "# токенизирум текст в  столбеце lem_text задаем максимальное значение длины токинов в строке max_length=50\n",
    "tokenized = batch_bert['lem_text_stopwords'].apply((lambda x: tokenizer.encode(x, max_length= 64,  add_special_tokens=True )))  "
   ]
  },
  {
   "cell_type": "code",
   "execution_count": 118,
   "metadata": {
    "colab": {
     "base_uri": "https://localhost:8080/"
    },
    "executionInfo": {
     "elapsed": 68,
     "status": "ok",
     "timestamp": 1653966285768,
     "user": {
      "displayName": "Илья Должанский",
      "userId": "02574470818990683130"
     },
     "user_tz": -180
    },
    "id": "gPK8vWywFEQe",
    "outputId": "90d4e836-954d-4340-f3c8-506256d505a6"
   },
   "outputs": [
    {
     "data": {
      "text/plain": [
       "0       [101, 7526, 10086, 2191, 5310, 18442, 13076, 1...\n",
       "1       [101, 22091, 2860, 2674, 16215, 2072, 4281, 61...\n",
       "2       [101, 4931, 2158, 2428, 3046, 10086, 2162, 162...\n",
       "3       [101, 2191, 2613, 10293, 7620, 4687, 2930, 280...\n",
       "4                [101, 2909, 5394, 3382, 3342, 3931, 102]\n",
       "                              ...                        \n",
       "6995    [101, 16215, 2072, 2650, 3613, 2191, 6270, 192...\n",
       "6996    [101, 6210, 19369, 4681, 5610, 14104, 9680, 29...\n",
       "6997    [101, 2430, 2414, 2051, 6135, 3178, 7270, 2276...\n",
       "6998    [101, 3599, 3105, 2048, 3135, 2113, 12824, 341...\n",
       "6999    [101, 1057, 11891, 2191, 9587, 10736, 1057, 17...\n",
       "Name: lem_text_stopwords, Length: 7000, dtype: object"
      ]
     },
     "execution_count": 118,
     "metadata": {},
     "output_type": "execute_result"
    }
   ],
   "source": [
    "tokenized"
   ]
  },
  {
   "cell_type": "markdown",
   "metadata": {
    "id": "axba3mchdhW8"
   },
   "source": [
    "## Тестируем токенизатор<a class=\"tocSkip\">"
   ]
  },
  {
   "cell_type": "code",
   "execution_count": 119,
   "metadata": {
    "colab": {
     "base_uri": "https://localhost:8080/"
    },
    "executionInfo": {
     "elapsed": 68,
     "status": "ok",
     "timestamp": 1653966285775,
     "user": {
      "displayName": "Илья Должанский",
      "userId": "02574470818990683130"
     },
     "user_tz": -180
    },
    "id": "0TGXxSKelMxa",
    "outputId": "ad74565a-9fe8-4bd4-ce1c-b50f886008ea",
    "scrolled": true
   },
   "outputs": [
    {
     "name": "stdout",
     "output_type": "stream",
     "text": [
      " Original:  Explanation\n",
      "Why the edits made under my username Hardcore Metallica Fan were reverted? They weren't vandalisms, just closure on some GAs after I voted at New York Dolls FAC. And please don't remove the template from the talk page since I'm retired now.89.205.38.27\n",
      "Tokenized:  ['explanation', 'why', 'the', 'edit', '##s', 'made', 'under', 'my', 'user', '##name', 'hardcore', 'metallic', '##a', 'fan', 'were', 'reverted', '?', 'they', 'weren', \"'\", 't', 'van', '##dal', '##isms', ',', 'just', 'closure', 'on', 'some', 'gas', 'after', 'i', 'voted', 'at', 'new', 'york', 'dolls', 'fa', '##c', '.', 'and', 'please', 'don', \"'\", 't', 'remove', 'the', 'template', 'from', 'the', 'talk', 'page', 'since', 'i', \"'\", 'm', 'retired', 'now', '.', '89', '.', '205', '.', '38', '.', '27']\n",
      "Token IDs:  [7526, 2339, 1996, 10086, 2015, 2081, 2104, 2026, 5310, 18442, 13076, 12392, 2050, 5470, 2020, 16407, 1029, 2027, 4694, 1005, 1056, 3158, 9305, 22556, 1010, 2074, 8503, 2006, 2070, 3806, 2044, 1045, 5444, 2012, 2047, 2259, 14421, 6904, 2278, 1012, 1998, 3531, 2123, 1005, 1056, 6366, 1996, 23561, 2013, 1996, 2831, 3931, 2144, 1045, 1005, 1049, 3394, 2085, 1012, 6486, 1012, 16327, 1012, 4229, 1012, 2676]\n"
     ]
    }
   ],
   "source": [
    "# исходное предложение.\n",
    "batch_bert_test = batch_bert['text'][0] # введем строку для теста\n",
    "\n",
    "print(' Original: ', batch_bert_test)\n",
    "\n",
    "# предложение, разбитое на токены..\n",
    "print('Tokenized: ', tokenizer.tokenize(batch_bert_test))\n",
    "\n",
    "# предложение сопоставлено с идентификаторами токенов.\n",
    "print('Token IDs: ', tokenizer.convert_tokens_to_ids(tokenizer.tokenize(batch_bert_test)))"
   ]
  },
  {
   "cell_type": "markdown",
   "metadata": {
    "id": "babns-XCPlhl"
   },
   "source": [
    "<div class=\"alert alert-success\">\n",
    "<b>1 Комментарий ревьюера ✔️:</b> Токенизация работает!"
   ]
  },
  {
   "cell_type": "markdown",
   "metadata": {
    "id": "2yF6dCDOkh3n"
   },
   "source": [
    "## Заполним все списки одинаковым размером, чтобы мы могли представлять входные данные в виде одного двумерного массива, а не списка списков (разной длины).<a class=\"tocSkip\">"
   ]
  },
  {
   "cell_type": "code",
   "execution_count": 120,
   "metadata": {
    "executionInfo": {
     "elapsed": 618,
     "status": "ok",
     "timestamp": 1653966286346,
     "user": {
      "displayName": "Илья Должанский",
      "userId": "02574470818990683130"
     },
     "user_tz": -180
    },
    "id": "31SPVHgMFEQe"
   },
   "outputs": [],
   "source": [
    "max_len = 0\n",
    "for i in tokenized.values:\n",
    "    if len(i) > max_len:\n",
    "        max_len = len(i)\n",
    "\n",
    "padded = np.array([i + [0]*(max_len-len(i)) for i in tokenized.values])"
   ]
  },
  {
   "cell_type": "code",
   "execution_count": 121,
   "metadata": {
    "colab": {
     "base_uri": "https://localhost:8080/"
    },
    "executionInfo": {
     "elapsed": 57,
     "status": "ok",
     "timestamp": 1653966286347,
     "user": {
      "displayName": "Илья Должанский",
      "userId": "02574470818990683130"
     },
     "user_tz": -180
    },
    "id": "qBknQ4Xw5m27",
    "outputId": "f36b9b9f-8432-4bd6-9977-5eeb22004805"
   },
   "outputs": [
    {
     "data": {
      "text/plain": [
       "64"
      ]
     },
     "execution_count": 121,
     "metadata": {},
     "output_type": "execute_result"
    }
   ],
   "source": [
    "max_len # Определяем максимальную длину "
   ]
  },
  {
   "cell_type": "code",
   "execution_count": 122,
   "metadata": {
    "colab": {
     "base_uri": "https://localhost:8080/"
    },
    "executionInfo": {
     "elapsed": 54,
     "status": "ok",
     "timestamp": 1653966286349,
     "user": {
      "displayName": "Илья Должанский",
      "userId": "02574470818990683130"
     },
     "user_tz": -180
    },
    "id": "1Mmh7qmnFEQf",
    "outputId": "0ae4f397-920a-48ef-8462-332783c36440",
    "scrolled": true
   },
   "outputs": [
    {
     "data": {
      "text/plain": [
       "(7000, 64)"
      ]
     },
     "execution_count": 122,
     "metadata": {},
     "output_type": "execute_result"
    }
   ],
   "source": [
    "np.array(padded).shape # смотрим размер полученного набора данных "
   ]
  },
  {
   "cell_type": "markdown",
   "metadata": {
    "id": "M12UQo_LPlhn"
   },
   "source": [
    "<div class=\"alert alert-success\">\n",
    "<b>1 Комментарий ревьюера ✔️:</b> Всё верно"
   ]
  },
  {
   "cell_type": "markdown",
   "metadata": {
    "id": "KbY1SsEMuwM7"
   },
   "source": [
    "## Маскировка <a class=\"tocSkip\">\n",
    "Чтобы игнорировать (маскировать) добавленные отступы, при обработке входных данных, создадим другую переменную, для этого используем __attention_mask__"
   ]
  },
  {
   "cell_type": "code",
   "execution_count": 123,
   "metadata": {
    "colab": {
     "base_uri": "https://localhost:8080/"
    },
    "executionInfo": {
     "elapsed": 49,
     "status": "ok",
     "timestamp": 1653966286351,
     "user": {
      "displayName": "Илья Должанский",
      "userId": "02574470818990683130"
     },
     "user_tz": -180
    },
    "id": "q3f2cK63FEQg",
    "outputId": "03d027de-755e-4423-a843-6f13d91b87fd"
   },
   "outputs": [
    {
     "data": {
      "text/plain": [
       "(7000, 64)"
      ]
     },
     "execution_count": 123,
     "metadata": {},
     "output_type": "execute_result"
    }
   ],
   "source": [
    "attention_mask = np.where(padded != 0, 1, 0)\n",
    "attention_mask.shape"
   ]
  },
  {
   "cell_type": "markdown",
   "metadata": {
    "id": "DGskhTIaPlho"
   },
   "source": [
    "<div class=\"alert alert-success\">\n",
    "<b>1 Комментарий ревьюера ✔️:</b> Правильная маска"
   ]
  },
  {
   "cell_type": "markdown",
   "metadata": {
    "id": "2_cn3KSgvmlP"
   },
   "source": [
    "## Модель №1: BERT<a class=\"tocSkip\">\n",
    "\n",
    "### Запустим  модель DistilBERT <a class=\"tocSkip\">"
   ]
  },
  {
   "cell_type": "markdown",
   "metadata": {
    "id": "P_lebCT0v7kC"
   },
   "source": [
    "Функция __model()__ пропустит наши предложения через __BERT__. Результаты обработки будут возвращены в __last_hidden_states__."
   ]
  },
  {
   "cell_type": "raw",
   "metadata": {
    "executionInfo": {
     "elapsed": 221763,
     "status": "ok",
     "timestamp": 1653749450496,
     "user": {
      "displayName": "Илья Должанский",
      "userId": "02574470818990683130"
     },
     "user_tz": -180
    },
    "id": "NA4u3_JeFEQh",
    "outputId": "897d41bc-0276-4433-827f-a7c23049c4d0"
   },
   "source": [
    "%%script false # Пропустить выполнение ячейки\n",
    "%%time\n",
    "input_ids = torch.tensor(padded)  \n",
    "attention_mask = torch.tensor(attention_mask)\n",
    "\n",
    "with torch.no_grad():\n",
    "    last_hidden_states = model(input_ids, attention_mask=attention_mask)"
   ]
  },
  {
   "cell_type": "markdown",
   "metadata": {
    "id": "HVfxNRCtPlhr"
   },
   "source": [
    "<div style=\"border:solid light blue 1px; padding: 1px\">\n",
    "<div class=\"alert alert-info\">\n",
    "<b>Комментарий студента:</b>\n",
    "    \n",
    "Выше закомментировал код в котором отсутствует разбитие на эмбеддинги<br>\n",
    "__Начало.__    \n",
    "</div>"
   ]
  },
  {
   "cell_type": "code",
   "execution_count": 124,
   "metadata": {
    "colab": {
     "base_uri": "https://localhost:8080/",
     "height": 84,
     "referenced_widgets": [
      "6be000f2e2c747d48b3fe5579b409cee",
      "3b985ddaa1d545b5bb0a0ca6a6ee47c8",
      "745031091ee9429d82876c41c4af7839",
      "e204dad725704fc0b220a2b1854ab412",
      "d1252730f7034b1d9b7dea32a34dc0d5",
      "1a1d715b8cf74e83bfbf833a0650353b",
      "27b5fb0193dd4106ab942785d10b331a",
      "078349fddd0d4d43a8d0f1c911080b26",
      "06d840352f0e43389c0647cb494764a3",
      "e240821d0b2f432294666746717587a1",
      "329dacbddb704956951b7bb4bac52cff"
     ]
    },
    "executionInfo": {
     "elapsed": 620483,
     "status": "ok",
     "timestamp": 1653966906794,
     "user": {
      "displayName": "Илья Должанский",
      "userId": "02574470818990683130"
     },
     "user_tz": -180
    },
    "id": "3oJo9HJRPlhs",
    "outputId": "1fc9220a-12e9-431d-a6ec-d1a56faa5b26"
   },
   "outputs": [
    {
     "data": {
      "application/vnd.jupyter.widget-view+json": {
       "model_id": "6be000f2e2c747d48b3fe5579b409cee",
       "version_major": 2,
       "version_minor": 0
      },
      "text/plain": [
       "  0%|          | 0/70 [00:00<?, ?it/s]"
      ]
     },
     "metadata": {},
     "output_type": "display_data"
    },
    {
     "name": "stdout",
     "output_type": "stream",
     "text": [
      "CPU times: user 9min 52s, sys: 16 s, total: 10min 9s\n",
      "Wall time: 10min 20s\n"
     ]
    }
   ],
   "source": [
    "%%time\n",
    "\n",
    "batch_size = 100 \n",
    "\n",
    "embeddings = []\n",
    "\n",
    "for i in notebook.tqdm(range(padded.shape[0] // batch_size)):\n",
    "    batch = torch.tensor(padded[batch_size*i:batch_size*(i+1)])\n",
    "    attention_mask_batch = torch.tensor(attention_mask[batch_size*i:batch_size*(i+1)])\n",
    "\n",
    "    with torch.no_grad():\n",
    "        batch_embeddings = model(batch, attention_mask=attention_mask_batch)\n",
    "\n",
    "    embeddings.append(batch_embeddings[0][:,0,:].numpy())\n",
    "\n",
    "features = np.concatenate(embeddings)"
   ]
  },
  {
   "cell_type": "code",
   "execution_count": 125,
   "metadata": {
    "colab": {
     "base_uri": "https://localhost:8080/"
    },
    "executionInfo": {
     "elapsed": 81,
     "status": "ok",
     "timestamp": 1653966906797,
     "user": {
      "displayName": "Илья Должанский",
      "userId": "02574470818990683130"
     },
     "user_tz": -180
    },
    "id": "XtcPCDzUPlhy",
    "outputId": "67b56d47-d66d-47cc-8a31-c8dcbac56815"
   },
   "outputs": [
    {
     "data": {
      "text/plain": [
       "array([[-0.02283693, -0.03606305, -0.13143697, ..., -0.05817084,\n",
       "         0.17036492,  0.39190057],\n",
       "       [-0.22033536, -0.26765382,  0.3069992 , ..., -0.20953244,\n",
       "         0.25678265,  0.4707745 ],\n",
       "       [-0.02004225, -0.00584414, -0.04866989, ..., -0.23493128,\n",
       "         0.38173196,  0.15435259],\n",
       "       ...,\n",
       "       [ 0.00479542, -0.08426649,  0.01107359, ..., -0.09574775,\n",
       "         0.29677254,  0.24377336],\n",
       "       [-0.15441982,  0.08816786, -0.12737459, ..., -0.11919232,\n",
       "         0.25663438,  0.29171467],\n",
       "       [-0.08061087,  0.19237635,  0.15892564, ..., -0.2175204 ,\n",
       "         0.12945482,  0.40971246]], dtype=float32)"
      ]
     },
     "execution_count": 125,
     "metadata": {},
     "output_type": "execute_result"
    }
   ],
   "source": [
    "features"
   ]
  },
  {
   "cell_type": "markdown",
   "metadata": {
    "id": "cmiE-jXTPlhz"
   },
   "source": [
    "<div style=\"border:solid light blue 1px; padding: 1px\">\n",
    "<div class=\"alert alert-info\">\n",
    "<b>Комментарий студента:</b>\n",
    "    \n",
    "Разбил на эмбеддинги, после объдинил все в  features<br>\n",
    "__Конец.__    \n",
    "</div>"
   ]
  },
  {
   "cell_type": "markdown",
   "metadata": {},
   "source": [
    "<div class=\"alert alert-success\">\n",
    "<b>2 Комментарий ревьюера ✔️:</b> Верно!"
   ]
  },
  {
   "cell_type": "markdown",
   "metadata": {
    "id": "gdUFe42gPlh0"
   },
   "source": [
    "<div class=\"alert alert-danger\">\n",
    "<b>1 Комментарий ревьюера ❌:</b> Интересно, что ты без батчей (batch) загрузил всё в модель разом, но обычно такое не срабатывает. Лучше делить выборку на batch, переводить их в эмбеддинги, а потом уже объединять. \n",
    "Вот так:\n",
    "    \n",
    "```python\n",
    "embeddings = []\n",
    "\n",
    "for i in notebook.tqdm(range(padded.shape[0] // batch_size)):\n",
    "    batch = torch.LongTensor(padded[batch_size*i:batch_size*(i+1)])\n",
    "    attention_mask_batch = torch.LongTensor(attention_mask[batch_size*i:batch_size*(i+1)])\n",
    "\n",
    "    with torch.no_grad():\n",
    "        batch_embeddings = model(batch, attention_mask=attention_mask_batch)\n",
    "\n",
    "    embeddings.append(batch_embeddings[0][:,0,:].numpy())\n",
    "    \n",
    "features = np.concatenate(embeddings)\n",
    "```\n",
    "    \n",
    "Может быть, из-за того, что ты загружаешь все данные сразу в модель, тебе и пришлось взять выборку меньше для работы и порезать длину токенов до 50"
   ]
  },
  {
   "cell_type": "code",
   "execution_count": 126,
   "metadata": {
    "colab": {
     "base_uri": "https://localhost:8080/"
    },
    "executionInfo": {
     "elapsed": 74,
     "status": "ok",
     "timestamp": 1653966906799,
     "user": {
      "displayName": "Илья Должанский",
      "userId": "02574470818990683130"
     },
     "user_tz": -180
    },
    "id": "8m22ErRuGdiU",
    "outputId": "b0d29492-d568-4d4b-971b-dbc5e06df75a"
   },
   "outputs": [
    {
     "data": {
      "text/plain": [
       "tensor([[  101,  5310, 22279,  ..., 15849, 16102,   102],\n",
       "        [  101,  2028,  2197,  ...,     0,     0,     0],\n",
       "        [  101,  8415,  2643,  ...,     0,     0,     0],\n",
       "        ...,\n",
       "        [  101,  2430,  2414,  ...,     0,     0,     0],\n",
       "        [  101,  3599,  3105,  ...,     0,     0,     0],\n",
       "        [  101,  1057, 11891,  ...,     0,     0,     0]])"
      ]
     },
     "execution_count": 126,
     "metadata": {},
     "output_type": "execute_result"
    }
   ],
   "source": [
    "batch"
   ]
  },
  {
   "cell_type": "code",
   "execution_count": 127,
   "metadata": {
    "colab": {
     "base_uri": "https://localhost:8080/"
    },
    "executionInfo": {
     "elapsed": 68,
     "status": "ok",
     "timestamp": 1653966906801,
     "user": {
      "displayName": "Илья Должанский",
      "userId": "02574470818990683130"
     },
     "user_tz": -180
    },
    "id": "lIs_L_AJGZSk",
    "outputId": "5122a1d1-5d55-45f8-a3c0-e27e5c6636c3"
   },
   "outputs": [
    {
     "data": {
      "text/plain": [
       "tensor([[1, 1, 1,  ..., 1, 1, 1],\n",
       "        [1, 1, 1,  ..., 0, 0, 0],\n",
       "        [1, 1, 1,  ..., 0, 0, 0],\n",
       "        ...,\n",
       "        [1, 1, 1,  ..., 0, 0, 0],\n",
       "        [1, 1, 1,  ..., 0, 0, 0],\n",
       "        [1, 1, 1,  ..., 0, 0, 0]])"
      ]
     },
     "execution_count": 127,
     "metadata": {},
     "output_type": "execute_result"
    }
   ],
   "source": [
    "attention_mask_batch"
   ]
  },
  {
   "cell_type": "markdown",
   "metadata": {
    "id": "ArFtUGGAwUlt"
   },
   "source": [
    "###  Нарежем только ту часть выходных данных, которая нам нужна. Она, соответствует первому символу каждого предложения. Выходные данные, соответствующие этому токену, можно рассматривать как вложение для всего предложения.<a class=\"tocSkip\">"
   ]
  },
  {
   "cell_type": "raw",
   "metadata": {
    "executionInfo": {
     "elapsed": 32,
     "status": "ok",
     "timestamp": 1653749450498,
     "user": {
      "displayName": "Илья Должанский",
      "userId": "02574470818990683130"
     },
     "user_tz": -180
    },
    "id": "J5rgqBp9GZZ-"
   },
   "source": [
    "#сохраним в features,  они будут служить функциями для регрессионной модели logitics\n",
    "features = last_hidden_states_2[0][:,0,:].numpy()"
   ]
  },
  {
   "cell_type": "markdown",
   "metadata": {
    "executionInfo": {
     "elapsed": 32,
     "status": "ok",
     "timestamp": 1653749450498,
     "user": {
      "displayName": "Илья Должанский",
      "userId": "02574470818990683130"
     },
     "user_tz": -180
    },
    "id": "XXC1UsoKOYMG",
    "outputId": "6808110a-133f-4056-e869-cc6378d33046"
   },
   "source": [
    "<div style=\"border:solid light blue 1px; padding: 1px\">\n",
    "<div class=\"alert alert-info\">\n",
    "<b>Комментарий студента:</b>\n",
    "    \n",
    "Данная операция, была проделана на этапе  разбития на эмбеддинги. Отменил выполнение кода.   \n",
    "</div>"
   ]
  },
  {
   "cell_type": "markdown",
   "metadata": {
    "id": "MFk13rxGyPAS"
   },
   "source": [
    "### Метки, указывающие, какое предложение является положительным и отрицательным, теперь переходят в переменную labels <a class=\"tocSkip\">"
   ]
  },
  {
   "cell_type": "code",
   "execution_count": 128,
   "metadata": {
    "colab": {
     "base_uri": "https://localhost:8080/"
    },
    "executionInfo": {
     "elapsed": 64,
     "status": "ok",
     "timestamp": 1653966906802,
     "user": {
      "displayName": "Илья Должанский",
      "userId": "02574470818990683130"
     },
     "user_tz": -180
    },
    "id": "qyed3nU6GZcc",
    "outputId": "07e6a172-336f-426e-c7ff-deb8925085c5"
   },
   "outputs": [
    {
     "data": {
      "text/plain": [
       "0       0\n",
       "1       0\n",
       "2       0\n",
       "3       0\n",
       "4       0\n",
       "       ..\n",
       "6995    0\n",
       "6996    1\n",
       "6997    0\n",
       "6998    0\n",
       "6999    1\n",
       "Name: toxic, Length: 7000, dtype: int64"
      ]
     },
     "execution_count": 128,
     "metadata": {},
     "output_type": "execute_result"
    }
   ],
   "source": [
    "labels = batch_bert['toxic']\n",
    "labels"
   ]
  },
  {
   "cell_type": "code",
   "execution_count": 129,
   "metadata": {
    "colab": {
     "base_uri": "https://localhost:8080/"
    },
    "executionInfo": {
     "elapsed": 60,
     "status": "ok",
     "timestamp": 1653966906804,
     "user": {
      "displayName": "Илья Должанский",
      "userId": "02574470818990683130"
     },
     "user_tz": -180
    },
    "id": "jqE3zmbUsPWU",
    "outputId": "09797269-738f-4c97-94bd-d1fdba57c9d8"
   },
   "outputs": [
    {
     "data": {
      "text/plain": [
       "0    6254\n",
       "1     746\n",
       "Name: toxic, dtype: int64"
      ]
     },
     "execution_count": 129,
     "metadata": {},
     "output_type": "execute_result"
    }
   ],
   "source": [
    "labels.value_counts()"
   ]
  },
  {
   "cell_type": "markdown",
   "metadata": {
    "id": "gcEKxL5EyZ6I"
   },
   "source": [
    "### Модель №2:  LogisticRegression  <a class=\"tocSkip\">\n",
    "#### Разделим  полученные наборы данных на обучающую и тестовую выборки <a class=\"tocSkip\">"
   ]
  },
  {
   "cell_type": "code",
   "execution_count": 130,
   "metadata": {
    "executionInfo": {
     "elapsed": 52,
     "status": "ok",
     "timestamp": 1653966906805,
     "user": {
      "displayName": "Илья Должанский",
      "userId": "02574470818990683130"
     },
     "user_tz": -180
    },
    "id": "vlrxBAWnIDIv"
   },
   "outputs": [],
   "source": [
    "train_features, test_features, train_labels, test_labels = train_test_split(features, labels)"
   ]
  },
  {
   "cell_type": "code",
   "execution_count": 131,
   "metadata": {
    "colab": {
     "base_uri": "https://localhost:8080/"
    },
    "executionInfo": {
     "elapsed": 53,
     "status": "ok",
     "timestamp": 1653966906807,
     "user": {
      "displayName": "Илья Должанский",
      "userId": "02574470818990683130"
     },
     "user_tz": -180
    },
    "id": "JnAG4X3NdebE",
    "outputId": "33545d4c-1721-4751-9e3f-2970ea259681"
   },
   "outputs": [
    {
     "name": "stdout",
     "output_type": "stream",
     "text": [
      "75% 25%\n"
     ]
    }
   ],
   "source": [
    "# Проверим, корректно ли поделились наши выборки\n",
    "def percent(df_1,df_2):\n",
    "    selection_1 = df_1.shape[0]/features.shape[0]\n",
    "    selection_2 = df_2.shape[0]/features.shape[0]\n",
    "    print('{:.0%} {:.0%}'.format(selection_1,selection_2))\n",
    "percent(train_features,test_features)"
   ]
  },
  {
   "cell_type": "code",
   "execution_count": 132,
   "metadata": {
    "colab": {
     "base_uri": "https://localhost:8080/"
    },
    "executionInfo": {
     "elapsed": 46,
     "status": "ok",
     "timestamp": 1653966906808,
     "user": {
      "displayName": "Илья Должанский",
      "userId": "02574470818990683130"
     },
     "user_tz": -180
    },
    "id": "8zMdJyoRapNA",
    "outputId": "ebd4ba8e-b191-4ffa-caf1-805dfa4be17e"
   },
   "outputs": [
    {
     "name": "stdout",
     "output_type": "stream",
     "text": [
      "(5250, 768)\n",
      "(1750, 768)\n",
      "(5250,)\n",
      "(1750,)\n"
     ]
    }
   ],
   "source": [
    "# Проверим размеры полученных выборок\n",
    "print(train_features.shape)\n",
    "print(test_features.shape)\n",
    "print(train_labels.shape)\n",
    "print(test_labels.shape)"
   ]
  },
  {
   "cell_type": "code",
   "execution_count": 133,
   "metadata": {
    "colab": {
     "base_uri": "https://localhost:8080/"
    },
    "executionInfo": {
     "elapsed": 38,
     "status": "ok",
     "timestamp": 1653966906809,
     "user": {
      "displayName": "Илья Должанский",
      "userId": "02574470818990683130"
     },
     "user_tz": -180
    },
    "id": "gdEZYS_gapQ0",
    "outputId": "94c9ccc9-c10a-4887-9350-6139864586bb"
   },
   "outputs": [
    {
     "name": "stdout",
     "output_type": "stream",
     "text": [
      "-8.90006 3.9992485\n",
      "-8.691123 3.8677576\n"
     ]
    }
   ],
   "source": [
    "# Проверим размеры полученных выборок\n",
    "print(train_features.min(), train_features.max())\n",
    "print( test_features.min(),  test_features.max())"
   ]
  },
  {
   "cell_type": "markdown",
   "metadata": {
    "id": "lyR3T7VUJasu"
   },
   "source": [
    "### Обучаем модель LogisticRegression на результатах обработки текстов от модели BERT. <a class=\"tocSkip\">"
   ]
  },
  {
   "cell_type": "code",
   "execution_count": 134,
   "metadata": {
    "cellView": "code",
    "colab": {
     "base_uri": "https://localhost:8080/"
    },
    "executionInfo": {
     "elapsed": 972,
     "status": "ok",
     "timestamp": 1653966907751,
     "user": {
      "displayName": "Илья Должанский",
      "userId": "02574470818990683130"
     },
     "user_tz": -180
    },
    "id": "09CzrseUz0h2",
    "outputId": "e39b6a87-a2c9-4e27-cd51-4b0b68d1593c"
   },
   "outputs": [
    {
     "name": "stdout",
     "output_type": "stream",
     "text": [
      "CPU times: user 980 ms, sys: 157 ms, total: 1.14 s\n",
      "Wall time: 608 ms\n"
     ]
    }
   ],
   "source": [
    "%%time\n",
    "LogisticRegression(C=1.0, class_weight=None, dual=False, fit_intercept=True,\n",
    "                   intercept_scaling=1, l1_ratio=None, max_iter=100,\n",
    "                   multi_class='warn', n_jobs=None, penalty='l2',\n",
    "                   random_state=None, solver='warn', tol=0.0001, verbose=0,\n",
    "                   warm_start=False)\n",
    "lr_clf = LogisticRegression()\n",
    "lr_clf.fit(train_features, train_labels)\n"
   ]
  },
  {
   "cell_type": "markdown",
   "metadata": {
    "id": "6Yqn9XTTLwR1"
   },
   "source": [
    "## Оценка модели Логистическая регрессия на оработанных данных от модели BERT<a class=\"tocSkip\">"
   ]
  },
  {
   "cell_type": "code",
   "execution_count": 135,
   "metadata": {
    "colab": {
     "base_uri": "https://localhost:8080/"
    },
    "executionInfo": {
     "elapsed": 51,
     "status": "ok",
     "timestamp": 1653966907752,
     "user": {
      "displayName": "Илья Должанский",
      "userId": "02574470818990683130"
     },
     "user_tz": -180
    },
    "id": "-VMoKpeTKtEz",
    "outputId": "e8bd550d-0f52-417f-aaee-15628148e1bd"
   },
   "outputs": [
    {
     "data": {
      "text/plain": [
       "0.9462857142857143"
      ]
     },
     "execution_count": 135,
     "metadata": {},
     "output_type": "execute_result"
    }
   ],
   "source": [
    "lr_clf.score(test_features, test_labels)"
   ]
  },
  {
   "cell_type": "code",
   "execution_count": 136,
   "metadata": {
    "colab": {
     "base_uri": "https://localhost:8080/"
    },
    "executionInfo": {
     "elapsed": 48,
     "status": "ok",
     "timestamp": 1653966907754,
     "user": {
      "displayName": "Илья Должанский",
      "userId": "02574470818990683130"
     },
     "user_tz": -180
    },
    "id": "LbGm4TTcXlDv",
    "outputId": "88b07441-5390-4325-b36d-66ae7f2475ab"
   },
   "outputs": [
    {
     "name": "stdout",
     "output_type": "stream",
     "text": [
      "F1 BERT модели : 0.704\n"
     ]
    }
   ],
   "source": [
    "#Определяю метрику f1 \n",
    "regression_predictions = lr_clf.predict(test_features)\n",
    "regression_bert_f1 = round(f1_score( test_labels, regression_predictions), 3) \n",
    "print('F1 BERT модели :',regression_bert_f1)"
   ]
  },
  {
   "cell_type": "markdown",
   "metadata": {
    "id": "e34ZA7_HPliD"
   },
   "source": [
    "<div class=\"alert alert-success\">\n",
    "<b>1 Комментарий ревьюера ✔️:</b> Неплохой результат"
   ]
  },
  {
   "cell_type": "markdown",
   "metadata": {
    "id": "b73KpkM3PliD"
   },
   "source": [
    "### Проверка моделей на адекватность. <a class=\"tocSkip\">\n",
    "#### Для  проверки моделей на адекватность, данные константной модели будут набором единиц.<a class=\"tocSkip\">"
   ]
  },
  {
   "cell_type": "code",
   "execution_count": 137,
   "metadata": {
    "colab": {
     "base_uri": "https://localhost:8080/"
    },
    "executionInfo": {
     "elapsed": 37,
     "status": "ok",
     "timestamp": 1653966907755,
     "user": {
      "displayName": "Илья Должанский",
      "userId": "02574470818990683130"
     },
     "user_tz": -180
    },
    "id": "GeUC-g_wXlDw",
    "outputId": "b92c1271-14d3-45d1-8481-213aab5c516e"
   },
   "outputs": [
    {
     "name": "stdout",
     "output_type": "stream",
     "text": [
      "F1 константной модели : 0.18457757855696372\n",
      "CPU times: user 66.5 ms, sys: 51 ms, total: 118 ms\n",
      "Wall time: 63.8 ms\n"
     ]
    }
   ],
   "source": [
    "%%time\n",
    "const_model = [1 for i in range(len(target_test))]\n",
    "const_f1 = f1_score(target_test.reset_index(drop=True), const_model)\n",
    "print('F1 константной модели :',const_f1)"
   ]
  },
  {
   "cell_type": "markdown",
   "metadata": {
    "id": "iCWS1H2hXlDw"
   },
   "source": [
    "__Соберем полученные результаты обучения и тестирования моделей в  единую таблицу___"
   ]
  },
  {
   "cell_type": "code",
   "execution_count": 139,
   "metadata": {
    "colab": {
     "base_uri": "https://localhost:8080/",
     "height": 206
    },
    "executionInfo": {
     "elapsed": 415,
     "status": "ok",
     "timestamp": 1653967866438,
     "user": {
      "displayName": "Илья Должанский",
      "userId": "02574470818990683130"
     },
     "user_tz": -180
    },
    "id": "z92W665DXlDy",
    "outputId": "be9e3930-1e21-4828-e0cc-b513b112a922"
   },
   "outputs": [
    {
     "data": {
      "text/html": [
       "\n",
       "  <div id=\"df-5c6abc2f-a4cd-4e2b-bbf7-03ab8677bd42\">\n",
       "    <div class=\"colab-df-container\">\n",
       "      <div>\n",
       "<style scoped>\n",
       "    .dataframe tbody tr th:only-of-type {\n",
       "        vertical-align: middle;\n",
       "    }\n",
       "\n",
       "    .dataframe tbody tr th {\n",
       "        vertical-align: top;\n",
       "    }\n",
       "\n",
       "    .dataframe thead th {\n",
       "        text-align: right;\n",
       "    }\n",
       "</style>\n",
       "<table border=\"1\" class=\"dataframe\">\n",
       "  <thead>\n",
       "    <tr style=\"text-align: right;\">\n",
       "      <th></th>\n",
       "      <th>Алгоритм Модели</th>\n",
       "      <th>Время обучения</th>\n",
       "      <th>F-1 мера</th>\n",
       "      <th>Качество &gt; Constant model, %</th>\n",
       "    </tr>\n",
       "  </thead>\n",
       "  <tbody>\n",
       "    <tr>\n",
       "      <th>0</th>\n",
       "      <td>Логистическая регрессия</td>\n",
       "      <td>4.09 s</td>\n",
       "      <td>0.76</td>\n",
       "      <td>411.75</td>\n",
       "    </tr>\n",
       "    <tr>\n",
       "      <th>1</th>\n",
       "      <td>Случайный лес</td>\n",
       "      <td>22min 46s</td>\n",
       "      <td>0.30</td>\n",
       "      <td>162.53</td>\n",
       "    </tr>\n",
       "    <tr>\n",
       "      <th>2</th>\n",
       "      <td>CatBoostRegressor</td>\n",
       "      <td>9min 46s</td>\n",
       "      <td>0.74</td>\n",
       "      <td>400.92</td>\n",
       "    </tr>\n",
       "    <tr>\n",
       "      <th>3</th>\n",
       "      <td>Model_BERT</td>\n",
       "      <td>10min 20s</td>\n",
       "      <td>0.70</td>\n",
       "      <td>379.24</td>\n",
       "    </tr>\n",
       "    <tr>\n",
       "      <th>4</th>\n",
       "      <td>Constant model</td>\n",
       "      <td>63.8 ms</td>\n",
       "      <td>0.18</td>\n",
       "      <td>97.52</td>\n",
       "    </tr>\n",
       "  </tbody>\n",
       "</table>\n",
       "</div>\n",
       "      <button class=\"colab-df-convert\" onclick=\"convertToInteractive('df-5c6abc2f-a4cd-4e2b-bbf7-03ab8677bd42')\"\n",
       "              title=\"Convert this dataframe to an interactive table.\"\n",
       "              style=\"display:none;\">\n",
       "        \n",
       "  <svg xmlns=\"http://www.w3.org/2000/svg\" height=\"24px\"viewBox=\"0 0 24 24\"\n",
       "       width=\"24px\">\n",
       "    <path d=\"M0 0h24v24H0V0z\" fill=\"none\"/>\n",
       "    <path d=\"M18.56 5.44l.94 2.06.94-2.06 2.06-.94-2.06-.94-.94-2.06-.94 2.06-2.06.94zm-11 1L8.5 8.5l.94-2.06 2.06-.94-2.06-.94L8.5 2.5l-.94 2.06-2.06.94zm10 10l.94 2.06.94-2.06 2.06-.94-2.06-.94-.94-2.06-.94 2.06-2.06.94z\"/><path d=\"M17.41 7.96l-1.37-1.37c-.4-.4-.92-.59-1.43-.59-.52 0-1.04.2-1.43.59L10.3 9.45l-7.72 7.72c-.78.78-.78 2.05 0 2.83L4 21.41c.39.39.9.59 1.41.59.51 0 1.02-.2 1.41-.59l7.78-7.78 2.81-2.81c.8-.78.8-2.07 0-2.86zM5.41 20L4 18.59l7.72-7.72 1.47 1.35L5.41 20z\"/>\n",
       "  </svg>\n",
       "      </button>\n",
       "      \n",
       "  <style>\n",
       "    .colab-df-container {\n",
       "      display:flex;\n",
       "      flex-wrap:wrap;\n",
       "      gap: 12px;\n",
       "    }\n",
       "\n",
       "    .colab-df-convert {\n",
       "      background-color: #E8F0FE;\n",
       "      border: none;\n",
       "      border-radius: 50%;\n",
       "      cursor: pointer;\n",
       "      display: none;\n",
       "      fill: #1967D2;\n",
       "      height: 32px;\n",
       "      padding: 0 0 0 0;\n",
       "      width: 32px;\n",
       "    }\n",
       "\n",
       "    .colab-df-convert:hover {\n",
       "      background-color: #E2EBFA;\n",
       "      box-shadow: 0px 1px 2px rgba(60, 64, 67, 0.3), 0px 1px 3px 1px rgba(60, 64, 67, 0.15);\n",
       "      fill: #174EA6;\n",
       "    }\n",
       "\n",
       "    [theme=dark] .colab-df-convert {\n",
       "      background-color: #3B4455;\n",
       "      fill: #D2E3FC;\n",
       "    }\n",
       "\n",
       "    [theme=dark] .colab-df-convert:hover {\n",
       "      background-color: #434B5C;\n",
       "      box-shadow: 0px 1px 3px 1px rgba(0, 0, 0, 0.15);\n",
       "      filter: drop-shadow(0px 1px 2px rgba(0, 0, 0, 0.3));\n",
       "      fill: #FFFFFF;\n",
       "    }\n",
       "  </style>\n",
       "\n",
       "      <script>\n",
       "        const buttonEl =\n",
       "          document.querySelector('#df-5c6abc2f-a4cd-4e2b-bbf7-03ab8677bd42 button.colab-df-convert');\n",
       "        buttonEl.style.display =\n",
       "          google.colab.kernel.accessAllowed ? 'block' : 'none';\n",
       "\n",
       "        async function convertToInteractive(key) {\n",
       "          const element = document.querySelector('#df-5c6abc2f-a4cd-4e2b-bbf7-03ab8677bd42');\n",
       "          const dataTable =\n",
       "            await google.colab.kernel.invokeFunction('convertToInteractive',\n",
       "                                                     [key], {});\n",
       "          if (!dataTable) return;\n",
       "\n",
       "          const docLinkHtml = 'Like what you see? Visit the ' +\n",
       "            '<a target=\"_blank\" href=https://colab.research.google.com/notebooks/data_table.ipynb>data table notebook</a>'\n",
       "            + ' to learn more about interactive tables.';\n",
       "          element.innerHTML = '';\n",
       "          dataTable['output_type'] = 'display_data';\n",
       "          await google.colab.output.renderOutput(dataTable, element);\n",
       "          const docLink = document.createElement('div');\n",
       "          docLink.innerHTML = docLinkHtml;\n",
       "          element.appendChild(docLink);\n",
       "        }\n",
       "      </script>\n",
       "    </div>\n",
       "  </div>\n",
       "  "
      ],
      "text/plain": [
       "           Алгоритм Модели Время обучения  F-1 мера  \\\n",
       "0  Логистическая регрессия         4.09 s      0.76   \n",
       "1            Случайный лес      22min 46s      0.30   \n",
       "2        CatBoostRegressor       9min 46s      0.74   \n",
       "3               Model_BERT      10min 20s      0.70   \n",
       "4           Constant model        63.8 ms      0.18   \n",
       "\n",
       "   Качество > Constant model, %  \n",
       "0                        411.75  \n",
       "1                        162.53  \n",
       "2                        400.92  \n",
       "3                        379.24  \n",
       "4                         97.52  "
      ]
     },
     "metadata": {},
     "output_type": "display_data"
    }
   ],
   "source": [
    "columns = ['Алгоритм Модели', 'Время обучения', 'F-1 мера',]\n",
    "\n",
    "line = ['Логистическая регрессия','4.09 s', round(regression_f1,2),]\n",
    "\n",
    "forest = ['Случайный лес','22min 46s', round(forest_f1,2),]\n",
    "\n",
    "CatBoostRegressor = ['CatBoostRegressor','9min 46s', round(cb_f1,2),]\n",
    "\n",
    "Model_BERT = ['Model_BERT','10min 20s', round(regression_bert_f1,2),]\n",
    "\n",
    "Constant_model = ['Constant model','63.8 ms',round(const_f1,2) ,]\n",
    "\n",
    "table_result_test = pd.DataFrame([line, forest,  CatBoostRegressor, Model_BERT, Constant_model], columns = columns)\n",
    "\n",
    "table_result_test['Качество > Constant model, %'] =  round((table_result_test['F-1 мера']/const_f1) * 100, 2)\n",
    "display(table_result_test)"
   ]
  },
  {
   "cell_type": "markdown",
   "metadata": {
    "id": "7NYxnTK4XlDz"
   },
   "source": [
    "<div style=\"border:solid green 2px; padding: 20px\">\n",
    "    \n",
    "\n",
    "**Вывод** <br>\n",
    "\n",
    "    \n",
    "    \n",
    "    \n",
    "На этапе __обучения моделей__, выделили из предобработанного столбца   `lem_text_stopwords` датасета __df__    -  __общие__ и  из столбца `toxic`__целевой__ признаки.<br>\n",
    "    \n",
    "Разделим датасет на __тренировочную__ `features_train`и __тестовую__ `features_test`__выборки__. <br>\n",
    "Произвели, для дальнейшего использования в обучении моделей, векторизацию текстовых признаков при помощи __TFIDF-векторизатора__. После векторизации датасет __образовал матрицу__ размером __159571__ строка на __122258__ столбцов.<br>  \n",
    "    Обучили 3-ри модели (`Логистическая регрессия, Случайный лес, CatBoostRegressor`), а также загрузили и  использовали предварительно обученную  модель, упрощенную __BERT__ - модель __DistilBERT__ через которую прогнали наши необработанные предложения из столбца __text__ после чего, на возвращенных результатах от __BERTы__ еще раз обучили модель __Логистической регрессии.__ В конце, для проверки моделей на адекватность, создали константную модель из набора __единиц__.<br>\n",
    "Оценили __время выполнения__ кода,  и результаты __F-1 меры__ по различным моделям. __Собрали__ показатели в __единую таблицу__.\n",
    "           \n",
    "    \n",
    "</div>"
   ]
  },
  {
   "cell_type": "markdown",
   "metadata": {
    "id": "4iJPESwcXlDz"
   },
   "source": [
    "<a id='step10'></a>"
   ]
  },
  {
   "cell_type": "markdown",
   "metadata": {
    "id": "Z_peka9_XlD0"
   },
   "source": [
    "<a id='step4'></a>"
   ]
  },
  {
   "cell_type": "markdown",
   "metadata": {
    "id": "_NGPlW_HPliG"
   },
   "source": [
    "<div class=\"alert alert-success\">\n",
    "<b>1 Комментарий ревьюера ✔️:</b> Хороший вывод по технической составляющей работы"
   ]
  },
  {
   "cell_type": "markdown",
   "metadata": {
    "id": "R7k0oe1-XlD0"
   },
   "source": [
    "## Общий вывод<a class=\"tocSkip\">\n",
    "[&#10224;](#step1)"
   ]
  },
  {
   "cell_type": "code",
   "execution_count": 140,
   "metadata": {
    "colab": {
     "base_uri": "https://localhost:8080/",
     "height": 206
    },
    "executionInfo": {
     "elapsed": 323,
     "status": "ok",
     "timestamp": 1653968146807,
     "user": {
      "displayName": "Илья Должанский",
      "userId": "02574470818990683130"
     },
     "user_tz": -180
    },
    "id": "lyG7W09yLvxh",
    "outputId": "ff54d01b-8826-49c1-f811-6cfb24e1d220"
   },
   "outputs": [
    {
     "data": {
      "text/html": [
       "\n",
       "  <div id=\"df-8a9cb76a-3954-4c9d-abed-87f643318af9\">\n",
       "    <div class=\"colab-df-container\">\n",
       "      <div>\n",
       "<style scoped>\n",
       "    .dataframe tbody tr th:only-of-type {\n",
       "        vertical-align: middle;\n",
       "    }\n",
       "\n",
       "    .dataframe tbody tr th {\n",
       "        vertical-align: top;\n",
       "    }\n",
       "\n",
       "    .dataframe thead th {\n",
       "        text-align: right;\n",
       "    }\n",
       "</style>\n",
       "<table border=\"1\" class=\"dataframe\">\n",
       "  <thead>\n",
       "    <tr style=\"text-align: right;\">\n",
       "      <th></th>\n",
       "      <th>Алгоритм Модели</th>\n",
       "      <th>Время обучения</th>\n",
       "      <th>F-1 мера</th>\n",
       "      <th>Качество &gt; Constant model, %</th>\n",
       "    </tr>\n",
       "  </thead>\n",
       "  <tbody>\n",
       "    <tr>\n",
       "      <th>0</th>\n",
       "      <td>Логистическая регрессия</td>\n",
       "      <td>4.09 s</td>\n",
       "      <td>0.76</td>\n",
       "      <td>411.75</td>\n",
       "    </tr>\n",
       "    <tr>\n",
       "      <th>1</th>\n",
       "      <td>Случайный лес</td>\n",
       "      <td>22min 46s</td>\n",
       "      <td>0.30</td>\n",
       "      <td>162.53</td>\n",
       "    </tr>\n",
       "    <tr>\n",
       "      <th>2</th>\n",
       "      <td>CatBoostRegressor</td>\n",
       "      <td>9min 46s</td>\n",
       "      <td>0.74</td>\n",
       "      <td>400.92</td>\n",
       "    </tr>\n",
       "    <tr>\n",
       "      <th>3</th>\n",
       "      <td>Model_BERT</td>\n",
       "      <td>10min 20s</td>\n",
       "      <td>0.70</td>\n",
       "      <td>379.24</td>\n",
       "    </tr>\n",
       "    <tr>\n",
       "      <th>4</th>\n",
       "      <td>Constant model</td>\n",
       "      <td>63.8 ms</td>\n",
       "      <td>0.18</td>\n",
       "      <td>97.52</td>\n",
       "    </tr>\n",
       "  </tbody>\n",
       "</table>\n",
       "</div>\n",
       "      <button class=\"colab-df-convert\" onclick=\"convertToInteractive('df-8a9cb76a-3954-4c9d-abed-87f643318af9')\"\n",
       "              title=\"Convert this dataframe to an interactive table.\"\n",
       "              style=\"display:none;\">\n",
       "        \n",
       "  <svg xmlns=\"http://www.w3.org/2000/svg\" height=\"24px\"viewBox=\"0 0 24 24\"\n",
       "       width=\"24px\">\n",
       "    <path d=\"M0 0h24v24H0V0z\" fill=\"none\"/>\n",
       "    <path d=\"M18.56 5.44l.94 2.06.94-2.06 2.06-.94-2.06-.94-.94-2.06-.94 2.06-2.06.94zm-11 1L8.5 8.5l.94-2.06 2.06-.94-2.06-.94L8.5 2.5l-.94 2.06-2.06.94zm10 10l.94 2.06.94-2.06 2.06-.94-2.06-.94-.94-2.06-.94 2.06-2.06.94z\"/><path d=\"M17.41 7.96l-1.37-1.37c-.4-.4-.92-.59-1.43-.59-.52 0-1.04.2-1.43.59L10.3 9.45l-7.72 7.72c-.78.78-.78 2.05 0 2.83L4 21.41c.39.39.9.59 1.41.59.51 0 1.02-.2 1.41-.59l7.78-7.78 2.81-2.81c.8-.78.8-2.07 0-2.86zM5.41 20L4 18.59l7.72-7.72 1.47 1.35L5.41 20z\"/>\n",
       "  </svg>\n",
       "      </button>\n",
       "      \n",
       "  <style>\n",
       "    .colab-df-container {\n",
       "      display:flex;\n",
       "      flex-wrap:wrap;\n",
       "      gap: 12px;\n",
       "    }\n",
       "\n",
       "    .colab-df-convert {\n",
       "      background-color: #E8F0FE;\n",
       "      border: none;\n",
       "      border-radius: 50%;\n",
       "      cursor: pointer;\n",
       "      display: none;\n",
       "      fill: #1967D2;\n",
       "      height: 32px;\n",
       "      padding: 0 0 0 0;\n",
       "      width: 32px;\n",
       "    }\n",
       "\n",
       "    .colab-df-convert:hover {\n",
       "      background-color: #E2EBFA;\n",
       "      box-shadow: 0px 1px 2px rgba(60, 64, 67, 0.3), 0px 1px 3px 1px rgba(60, 64, 67, 0.15);\n",
       "      fill: #174EA6;\n",
       "    }\n",
       "\n",
       "    [theme=dark] .colab-df-convert {\n",
       "      background-color: #3B4455;\n",
       "      fill: #D2E3FC;\n",
       "    }\n",
       "\n",
       "    [theme=dark] .colab-df-convert:hover {\n",
       "      background-color: #434B5C;\n",
       "      box-shadow: 0px 1px 3px 1px rgba(0, 0, 0, 0.15);\n",
       "      filter: drop-shadow(0px 1px 2px rgba(0, 0, 0, 0.3));\n",
       "      fill: #FFFFFF;\n",
       "    }\n",
       "  </style>\n",
       "\n",
       "      <script>\n",
       "        const buttonEl =\n",
       "          document.querySelector('#df-8a9cb76a-3954-4c9d-abed-87f643318af9 button.colab-df-convert');\n",
       "        buttonEl.style.display =\n",
       "          google.colab.kernel.accessAllowed ? 'block' : 'none';\n",
       "\n",
       "        async function convertToInteractive(key) {\n",
       "          const element = document.querySelector('#df-8a9cb76a-3954-4c9d-abed-87f643318af9');\n",
       "          const dataTable =\n",
       "            await google.colab.kernel.invokeFunction('convertToInteractive',\n",
       "                                                     [key], {});\n",
       "          if (!dataTable) return;\n",
       "\n",
       "          const docLinkHtml = 'Like what you see? Visit the ' +\n",
       "            '<a target=\"_blank\" href=https://colab.research.google.com/notebooks/data_table.ipynb>data table notebook</a>'\n",
       "            + ' to learn more about interactive tables.';\n",
       "          element.innerHTML = '';\n",
       "          dataTable['output_type'] = 'display_data';\n",
       "          await google.colab.output.renderOutput(dataTable, element);\n",
       "          const docLink = document.createElement('div');\n",
       "          docLink.innerHTML = docLinkHtml;\n",
       "          element.appendChild(docLink);\n",
       "        }\n",
       "      </script>\n",
       "    </div>\n",
       "  </div>\n",
       "  "
      ],
      "text/plain": [
       "           Алгоритм Модели Время обучения  F-1 мера  \\\n",
       "0  Логистическая регрессия         4.09 s      0.76   \n",
       "1            Случайный лес      22min 46s      0.30   \n",
       "2        CatBoostRegressor       9min 46s      0.74   \n",
       "3               Model_BERT      10min 20s      0.70   \n",
       "4           Constant model        63.8 ms      0.18   \n",
       "\n",
       "   Качество > Constant model, %  \n",
       "0                        411.75  \n",
       "1                        162.53  \n",
       "2                        400.92  \n",
       "3                        379.24  \n",
       "4                         97.52  "
      ]
     },
     "execution_count": 140,
     "metadata": {},
     "output_type": "execute_result"
    }
   ],
   "source": [
    "table_result_test"
   ]
  },
  {
   "cell_type": "markdown",
   "metadata": {
    "id": "NUw0zapSXlD1"
   },
   "source": [
    "\n",
    " <div style=\"border:solid green 2px; padding: 20px\">\n",
    "    \n",
    "    \n",
    "Запус __нового сервиса__ интернет-магазина __«Викишоп»__ обнаружил необходимость создания такого __инструмента__, который в автоматическом режиме,  __без участия человека__, сможет __определять эмоциональную окраску комментария__ , то есть __классифицировать__ его - __позитивен__ он или __негативен__. Данное, основное  требование к новому инструменту (__способность классифицировать__)  стало  __основой работы__ над данным __проектом__. Для решения поставленной задачи было  необходимо произвести поиск и создание такого алгоритма, а в последующем обучить на нем и протестировать модель,  который наилучшим образом  классифицирует комментарии.<br>\n",
    "__Основные требования__ к модели обученной на __оптимальном алгоритме__ - это __min__ время выплнения __классификации__, а также значение __F1 меры__ должно быть  не менее __0.75__  \n",
    "    \n",
    "Получив и ознакомившись с данными, была обнаружена необходимость  очистки и лематизации текста в комментариях пользователей.     \n",
    "Зная, что выше описанные  действия, не требуются при использовании, предобученной для векторизации текстовых признаков,  модели __BERT__  в данном проекте, для достижения цели, было решено пойти  двумя путями:\n",
    " - 1 Были __обработаны не подготовленные__ тектовые данных \"вручную\" -  __лематизаци, очистка, исключение стоп-слов__, векторизация признаков методом __TfidfVectorizer()__. После векторизации датасет __образовал матрицу__ размером __159571__ строка на __122258__ столбцов.<br>   на __векторизованных данных__ обучили __3-ри__ модели машинного обучения `Логистическая регрессия`, `Случайный лес, `CatBoostRegressor` определили лучший результат по __скорости выполнения классификации__ комментариев  и  показателю  метрики __F-1__, сравнив его со значение указанном в задании - не менее __0.75__ \n",
    " - 2 Альтернативным вариантом, для получения векторизованных признаков из текста, без предобработок,  явилось использование предобученной модели __BERT__. Наши  текстовые признаки, из за ограничения по вычислительным мощностям, сокращенные до 3000 строк, были обработаны алгоритмами модели __BERT__ и возвращены нам в виде готовых признако-векторов, на основе которых мы обучили и протестировали модель `Логистической регрессии` также оценили время работы и метрику __F-1__\n",
    "    \n",
    ".<br>\n",
    "__Итогом  проделанной работы__ стала   общая оценка __время выполнения__ кода,  и результаты полученной метрики __F-1 меры__ по используемым моделям. На её основе можно сделать следующие выводы и рекомендации:\n",
    "- `Логистическая регрессия` является самым оптимальным алгоритмом для создания модели классификации текстов комментарие по эмоциональному окрасу, показав как __max__ метрику __F-1__ меры __0,768__ так и __min__  время обучения.     \n",
    "- Следом идет по показателю  метрики __F-1__  =  __0.738__ алгоритм `CatBoostRegressor` но время обучения алгоритмы на несколько порядков превышат обучение Логистичесуой регрессии.\n",
    "- Результаты обучения и тестирования алгоритма `Случайный лес` показали наихудщий показатель метрики __F-1 меры__ = всего  __ 0.295__,  а также неоправданно  долгое время обучения __max__ время обучения среди тестируемых моделей. \n",
    "- Использование предобученной модели __BERT__  векторизации текстов в признаки, также себя не оправдало, так как Логистическая регрессия использовавшая полученные от __BERT__  векторизованные признаки, показала  метрику  __F-1__ =  __0.704__, что не отвечает условию в задании, и должно быть  не менее  __0,75__ Из - за ограничения по вычислительным мощностям, и как следствие урезания исследовательской выборки,  мы не смогли полноценно протестировать эту возможность.\n",
    "  \n",
    "       \n",
    "    \n",
    "Заказчику проекта от  интернет-магазина __«Викишоп»__ ` для создания __инструмента__, который  __без участия человека__, сможет __определять эмоциональную окраску комментария__ , -  __классифицировать__ его - __позитивен__ он или __негативен__ , рекомендуется, среди прочего,  использовать __модель классификации__ на основе алгоритма __Логистическая регрессия__. \n",
    "    \n",
    "    \n",
    "    \n",
    "  \n",
    "</div>"
   ]
  },
  {
   "cell_type": "markdown",
   "metadata": {
    "id": "ffjtUhPhXlD2"
   },
   "source": [
    "<a id='step5'></a>"
   ]
  },
  {
   "cell_type": "markdown",
   "metadata": {
    "id": "MaYJ2f0gPliH"
   },
   "source": [
    "<div class=\"alert alert-success\">\n",
    "<b>1 Комментарий ревьюера ✔️:</b> Финальный вывод верно подводит итог проведенному исследованию, объединяя промежуточные выводы в работе в одно целое, а также предлагает оптимальную для задачи модель по скорости и метрике"
   ]
  },
  {
   "cell_type": "markdown",
   "metadata": {},
   "source": [
    "<div class=\"alert alert-success\">\n",
    "<b>2 Комментарий ревьюера ✔️:</b> Всё ещё отличный результат!"
   ]
  },
  {
   "cell_type": "markdown",
   "metadata": {
    "id": "tsEVejRvXlD3"
   },
   "source": [
    "## Чек-лист проверки<a class=\"tocSkip\">\n",
    "[&#10224;](#step1)"
   ]
  },
  {
   "cell_type": "markdown",
   "metadata": {
    "id": "qnhOBttGXlD3"
   },
   "source": [
    "- [x]  Jupyter Notebook открыт\n",
    "- [x]  Весь код выполняется без ошибок\n",
    "- [x]  Ячейки с кодом расположены в порядке исполнения\n",
    "- [x]  Данные загружены и подготовлены\n",
    "- [x]  Модели обучены\n",
    "- [x]  Значение метрики *F1* не меньше 0.75\n",
    "- [x]  Выводы написаны"
   ]
  },
  {
   "cell_type": "markdown",
   "metadata": {
    "id": "vIxkNPfgXlD5"
   },
   "source": [
    "#    <br>[**В начало**](#step1)"
   ]
  },
  {
   "cell_type": "markdown",
   "metadata": {
    "id": "1KksHFSLPliJ"
   },
   "source": [
    "<div class=\"alert alert-success\">\n",
    "<b>1 Комментарий ревьюера ✔️:</b> Спасибо, так действительно удобнее :)"
   ]
  }
 ],
 "metadata": {
  "ExecuteTimeLog": [
   {
    "duration": 52,
    "start_time": "2022-05-13T22:34:15.042Z"
   },
   {
    "duration": 0,
    "start_time": "2022-05-13T22:34:15.096Z"
   },
   {
    "duration": 1863,
    "start_time": "2022-05-13T22:34:39.208Z"
   },
   {
    "duration": 39,
    "start_time": "2022-05-13T22:34:41.074Z"
   },
   {
    "duration": 53,
    "start_time": "2022-05-13T22:34:41.115Z"
   },
   {
    "duration": 9,
    "start_time": "2022-05-13T22:36:28.520Z"
   },
   {
    "duration": 6,
    "start_time": "2022-05-13T22:37:12.154Z"
   },
   {
    "duration": 9,
    "start_time": "2022-05-13T22:37:16.767Z"
   },
   {
    "duration": 13,
    "start_time": "2022-05-13T22:38:11.642Z"
   },
   {
    "duration": 9,
    "start_time": "2022-05-13T22:39:40.474Z"
   },
   {
    "duration": 8,
    "start_time": "2022-05-13T22:39:41.718Z"
   },
   {
    "duration": 10,
    "start_time": "2022-05-13T22:43:27.668Z"
   },
   {
    "duration": 8,
    "start_time": "2022-05-13T22:43:34.514Z"
   },
   {
    "duration": 5,
    "start_time": "2022-05-13T22:43:47.326Z"
   },
   {
    "duration": 9,
    "start_time": "2022-05-13T22:43:47.868Z"
   },
   {
    "duration": 8,
    "start_time": "2022-05-13T22:43:58.671Z"
   },
   {
    "duration": 8,
    "start_time": "2022-05-13T22:44:34.958Z"
   },
   {
    "duration": 9,
    "start_time": "2022-05-13T22:45:15.009Z"
   },
   {
    "duration": 87,
    "start_time": "2022-05-13T22:45:22.609Z"
   },
   {
    "duration": 7,
    "start_time": "2022-05-13T22:45:28.148Z"
   },
   {
    "duration": 1834,
    "start_time": "2022-05-14T08:14:37.673Z"
   },
   {
    "duration": 38,
    "start_time": "2022-05-14T08:14:39.509Z"
   },
   {
    "duration": 40,
    "start_time": "2022-05-14T08:14:39.549Z"
   },
   {
    "duration": 9,
    "start_time": "2022-05-14T08:14:39.607Z"
   },
   {
    "duration": 7,
    "start_time": "2022-05-14T08:14:39.618Z"
   },
   {
    "duration": 9,
    "start_time": "2022-05-14T08:14:39.626Z"
   },
   {
    "duration": 8,
    "start_time": "2022-05-14T08:14:39.637Z"
   },
   {
    "duration": 9,
    "start_time": "2022-05-14T08:14:39.647Z"
   },
   {
    "duration": 8,
    "start_time": "2022-05-14T08:14:39.658Z"
   },
   {
    "duration": 4,
    "start_time": "2022-05-14T08:14:39.709Z"
   },
   {
    "duration": 12,
    "start_time": "2022-05-14T08:14:39.715Z"
   },
   {
    "duration": 9,
    "start_time": "2022-05-14T08:14:39.729Z"
   },
   {
    "duration": 8,
    "start_time": "2022-05-14T08:14:39.739Z"
   },
   {
    "duration": 12,
    "start_time": "2022-05-14T08:46:58.613Z"
   },
   {
    "duration": 9,
    "start_time": "2022-05-14T08:48:29.079Z"
   },
   {
    "duration": 1534,
    "start_time": "2022-05-14T08:49:14.464Z"
   },
   {
    "duration": 35,
    "start_time": "2022-05-14T08:49:16.000Z"
   },
   {
    "duration": 53,
    "start_time": "2022-05-14T08:49:16.037Z"
   },
   {
    "duration": 38,
    "start_time": "2022-05-14T08:49:16.110Z"
   },
   {
    "duration": 11,
    "start_time": "2022-05-14T08:49:16.150Z"
   },
   {
    "duration": 10,
    "start_time": "2022-05-14T08:49:16.163Z"
   },
   {
    "duration": 1632,
    "start_time": "2022-05-14T08:54:38.088Z"
   },
   {
    "duration": 37,
    "start_time": "2022-05-14T08:54:39.723Z"
   },
   {
    "duration": 60,
    "start_time": "2022-05-14T08:54:39.762Z"
   },
   {
    "duration": 9,
    "start_time": "2022-05-14T08:54:39.823Z"
   },
   {
    "duration": 14,
    "start_time": "2022-05-14T08:54:39.833Z"
   },
   {
    "duration": 7,
    "start_time": "2022-05-14T08:54:39.849Z"
   },
   {
    "duration": 1694,
    "start_time": "2022-05-14T08:56:09.777Z"
   },
   {
    "duration": 37,
    "start_time": "2022-05-14T08:56:11.473Z"
   },
   {
    "duration": 46,
    "start_time": "2022-05-14T08:56:11.511Z"
   },
   {
    "duration": 49,
    "start_time": "2022-05-14T08:56:11.559Z"
   },
   {
    "duration": 10,
    "start_time": "2022-05-14T08:56:11.610Z"
   },
   {
    "duration": 8,
    "start_time": "2022-05-14T08:56:58.808Z"
   },
   {
    "duration": 11,
    "start_time": "2022-05-14T08:57:13.927Z"
   },
   {
    "duration": 6,
    "start_time": "2022-05-14T08:57:18.524Z"
   },
   {
    "duration": 1676,
    "start_time": "2022-05-14T09:00:37.769Z"
   },
   {
    "duration": 34,
    "start_time": "2022-05-14T09:00:39.447Z"
   },
   {
    "duration": 49,
    "start_time": "2022-05-14T09:00:39.483Z"
   },
   {
    "duration": 6,
    "start_time": "2022-05-14T09:00:39.534Z"
   },
   {
    "duration": 9,
    "start_time": "2022-05-14T09:00:39.542Z"
   },
   {
    "duration": 1266,
    "start_time": "2022-05-14T09:01:34.497Z"
   },
   {
    "duration": 8,
    "start_time": "2022-05-14T09:01:48.395Z"
   },
   {
    "duration": 8,
    "start_time": "2022-05-14T09:01:55.639Z"
   },
   {
    "duration": 8,
    "start_time": "2022-05-14T09:02:04.552Z"
   },
   {
    "duration": 76,
    "start_time": "2022-05-14T09:04:11.988Z"
   },
   {
    "duration": 6,
    "start_time": "2022-05-14T09:04:57.394Z"
   },
   {
    "duration": 13,
    "start_time": "2022-05-14T09:05:31.442Z"
   },
   {
    "duration": 6,
    "start_time": "2022-05-14T09:06:29.123Z"
   },
   {
    "duration": 35,
    "start_time": "2022-05-14T09:06:43.492Z"
   },
   {
    "duration": 7,
    "start_time": "2022-05-14T09:06:47.823Z"
   },
   {
    "duration": 11,
    "start_time": "2022-05-14T09:06:55.841Z"
   },
   {
    "duration": 6,
    "start_time": "2022-05-14T09:06:58.675Z"
   },
   {
    "duration": 4,
    "start_time": "2022-05-14T09:08:46.004Z"
   },
   {
    "duration": 18,
    "start_time": "2022-05-14T09:08:58.045Z"
   },
   {
    "duration": 8,
    "start_time": "2022-05-14T09:09:25.682Z"
   },
   {
    "duration": 8,
    "start_time": "2022-05-14T09:10:35.926Z"
   },
   {
    "duration": 4,
    "start_time": "2022-05-14T09:13:11.151Z"
   },
   {
    "duration": 5,
    "start_time": "2022-05-14T09:13:11.722Z"
   },
   {
    "duration": 1561,
    "start_time": "2022-05-14T09:13:18.342Z"
   },
   {
    "duration": 41,
    "start_time": "2022-05-14T09:13:19.905Z"
   },
   {
    "duration": 43,
    "start_time": "2022-05-14T09:13:19.948Z"
   },
   {
    "duration": 5,
    "start_time": "2022-05-14T09:13:20.014Z"
   },
   {
    "duration": 6,
    "start_time": "2022-05-14T09:13:20.021Z"
   },
   {
    "duration": 8,
    "start_time": "2022-05-14T09:13:20.029Z"
   },
   {
    "duration": 7,
    "start_time": "2022-05-14T09:13:20.039Z"
   },
   {
    "duration": 8,
    "start_time": "2022-05-14T09:13:20.048Z"
   },
   {
    "duration": 434,
    "start_time": "2022-05-14T09:13:20.058Z"
   },
   {
    "duration": 25,
    "start_time": "2022-05-14T09:13:20.495Z"
   },
   {
    "duration": 6,
    "start_time": "2022-05-14T09:13:44.410Z"
   },
   {
    "duration": 5,
    "start_time": "2022-05-14T09:13:44.619Z"
   },
   {
    "duration": 20,
    "start_time": "2022-05-14T09:13:49.278Z"
   },
   {
    "duration": 5,
    "start_time": "2022-05-14T09:13:49.917Z"
   },
   {
    "duration": 4,
    "start_time": "2022-05-14T09:13:50.650Z"
   },
   {
    "duration": 8,
    "start_time": "2022-05-14T09:13:55.010Z"
   },
   {
    "duration": 1648,
    "start_time": "2022-05-14T09:14:19.457Z"
   },
   {
    "duration": 38,
    "start_time": "2022-05-14T09:14:21.107Z"
   },
   {
    "duration": 73,
    "start_time": "2022-05-14T09:14:21.147Z"
   },
   {
    "duration": 4,
    "start_time": "2022-05-14T09:14:21.222Z"
   },
   {
    "duration": 5,
    "start_time": "2022-05-14T09:14:21.228Z"
   },
   {
    "duration": 5,
    "start_time": "2022-05-14T09:14:21.235Z"
   },
   {
    "duration": 8,
    "start_time": "2022-05-14T09:14:21.241Z"
   },
   {
    "duration": 8,
    "start_time": "2022-05-14T09:14:21.251Z"
   },
   {
    "duration": 422,
    "start_time": "2022-05-14T09:14:21.260Z"
   },
   {
    "duration": 12,
    "start_time": "2022-05-14T09:14:21.684Z"
   },
   {
    "duration": 457,
    "start_time": "2022-05-14T09:16:03.627Z"
   },
   {
    "duration": 507,
    "start_time": "2022-05-14T09:16:16.589Z"
   },
   {
    "duration": 539,
    "start_time": "2022-05-14T09:16:37.340Z"
   },
   {
    "duration": 821,
    "start_time": "2022-05-14T09:17:27.655Z"
   },
   {
    "duration": 973,
    "start_time": "2022-05-14T09:17:42.348Z"
   },
   {
    "duration": 1735,
    "start_time": "2022-05-14T09:18:02.404Z"
   },
   {
    "duration": 434,
    "start_time": "2022-05-14T09:18:17.567Z"
   },
   {
    "duration": 376,
    "start_time": "2022-05-14T09:18:34.555Z"
   },
   {
    "duration": 500,
    "start_time": "2022-05-14T09:18:43.722Z"
   },
   {
    "duration": 139,
    "start_time": "2022-05-14T09:20:42.322Z"
   },
   {
    "duration": 10,
    "start_time": "2022-05-14T09:21:21.226Z"
   },
   {
    "duration": 4,
    "start_time": "2022-05-14T09:21:59.466Z"
   },
   {
    "duration": 10,
    "start_time": "2022-05-14T09:22:00.813Z"
   },
   {
    "duration": 7,
    "start_time": "2022-05-14T09:22:21.769Z"
   },
   {
    "duration": 12,
    "start_time": "2022-05-14T09:22:29.706Z"
   },
   {
    "duration": 6,
    "start_time": "2022-05-14T09:22:42.967Z"
   },
   {
    "duration": 8,
    "start_time": "2022-05-14T09:22:43.637Z"
   },
   {
    "duration": 7,
    "start_time": "2022-05-14T09:23:36.027Z"
   },
   {
    "duration": 9,
    "start_time": "2022-05-14T09:23:36.648Z"
   },
   {
    "duration": 6,
    "start_time": "2022-05-14T09:23:59.282Z"
   },
   {
    "duration": 1751,
    "start_time": "2022-05-14T09:24:10.059Z"
   },
   {
    "duration": 41,
    "start_time": "2022-05-14T09:24:11.813Z"
   },
   {
    "duration": 59,
    "start_time": "2022-05-14T09:24:11.856Z"
   },
   {
    "duration": 4,
    "start_time": "2022-05-14T09:24:11.917Z"
   },
   {
    "duration": 6,
    "start_time": "2022-05-14T09:24:11.924Z"
   },
   {
    "duration": 5,
    "start_time": "2022-05-14T09:24:11.933Z"
   },
   {
    "duration": 7,
    "start_time": "2022-05-14T09:24:11.940Z"
   },
   {
    "duration": 60,
    "start_time": "2022-05-14T09:24:11.949Z"
   },
   {
    "duration": 634,
    "start_time": "2022-05-14T09:24:12.011Z"
   },
   {
    "duration": 4,
    "start_time": "2022-05-14T09:24:12.648Z"
   },
   {
    "duration": 8,
    "start_time": "2022-05-14T09:24:12.654Z"
   },
   {
    "duration": 10,
    "start_time": "2022-05-14T09:24:12.664Z"
   },
   {
    "duration": 40,
    "start_time": "2022-05-14T09:24:12.676Z"
   },
   {
    "duration": 7,
    "start_time": "2022-05-14T09:24:57.792Z"
   },
   {
    "duration": 10,
    "start_time": "2022-05-14T09:25:01.821Z"
   },
   {
    "duration": 13,
    "start_time": "2022-05-14T09:25:07.401Z"
   },
   {
    "duration": 8,
    "start_time": "2022-05-14T09:25:24.759Z"
   },
   {
    "duration": 8,
    "start_time": "2022-05-14T09:25:29.963Z"
   },
   {
    "duration": 507,
    "start_time": "2022-05-14T09:25:36.861Z"
   },
   {
    "duration": 11,
    "start_time": "2022-05-14T09:27:39.844Z"
   },
   {
    "duration": 430,
    "start_time": "2022-05-14T09:29:29.455Z"
   },
   {
    "duration": 13,
    "start_time": "2022-05-14T09:30:42.501Z"
   },
   {
    "duration": 16,
    "start_time": "2022-05-14T09:30:56.022Z"
   },
   {
    "duration": 376,
    "start_time": "2022-05-14T09:31:27.983Z"
   },
   {
    "duration": 267,
    "start_time": "2022-05-14T09:31:43.570Z"
   },
   {
    "duration": 16,
    "start_time": "2022-05-14T09:32:34.901Z"
   },
   {
    "duration": 343,
    "start_time": "2022-05-14T09:32:35.341Z"
   },
   {
    "duration": 253,
    "start_time": "2022-05-14T09:32:40.281Z"
   },
   {
    "duration": 13,
    "start_time": "2022-05-14T09:33:31.162Z"
   },
   {
    "duration": 229,
    "start_time": "2022-05-14T09:33:32.542Z"
   },
   {
    "duration": 10,
    "start_time": "2022-05-14T09:33:47.645Z"
   },
   {
    "duration": 150,
    "start_time": "2022-05-14T09:33:48.911Z"
   },
   {
    "duration": 12,
    "start_time": "2022-05-14T09:33:57.192Z"
   },
   {
    "duration": 244,
    "start_time": "2022-05-14T09:33:57.594Z"
   },
   {
    "duration": 11,
    "start_time": "2022-05-14T09:36:18.615Z"
   },
   {
    "duration": 185,
    "start_time": "2022-05-14T09:36:32.675Z"
   },
   {
    "duration": 10,
    "start_time": "2022-05-14T09:37:04.941Z"
   },
   {
    "duration": 196,
    "start_time": "2022-05-14T09:37:06.192Z"
   },
   {
    "duration": 11,
    "start_time": "2022-05-14T09:37:17.124Z"
   },
   {
    "duration": 201,
    "start_time": "2022-05-14T09:37:18.824Z"
   },
   {
    "duration": 13,
    "start_time": "2022-05-14T09:38:53.931Z"
   },
   {
    "duration": 11,
    "start_time": "2022-05-14T09:39:22.564Z"
   },
   {
    "duration": 189,
    "start_time": "2022-05-14T09:39:34.621Z"
   },
   {
    "duration": 12,
    "start_time": "2022-05-14T09:39:41.013Z"
   },
   {
    "duration": 153,
    "start_time": "2022-05-14T09:39:42.162Z"
   },
   {
    "duration": 13,
    "start_time": "2022-05-14T09:39:48.274Z"
   },
   {
    "duration": 258,
    "start_time": "2022-05-14T09:39:49.128Z"
   },
   {
    "duration": 13,
    "start_time": "2022-05-14T09:40:27.804Z"
   },
   {
    "duration": 10,
    "start_time": "2022-05-14T09:40:41.903Z"
   },
   {
    "duration": 9,
    "start_time": "2022-05-14T09:40:45.771Z"
   },
   {
    "duration": 193,
    "start_time": "2022-05-14T09:40:46.235Z"
   },
   {
    "duration": 9,
    "start_time": "2022-05-14T09:40:49.752Z"
   },
   {
    "duration": 142,
    "start_time": "2022-05-14T09:41:04.271Z"
   },
   {
    "duration": 14,
    "start_time": "2022-05-14T09:41:16.101Z"
   },
   {
    "duration": 211,
    "start_time": "2022-05-14T09:41:16.842Z"
   },
   {
    "duration": 156,
    "start_time": "2022-05-14T09:43:18.212Z"
   },
   {
    "duration": 11,
    "start_time": "2022-05-14T09:43:43.042Z"
   },
   {
    "duration": 4,
    "start_time": "2022-05-14T09:43:55.081Z"
   },
   {
    "duration": 839,
    "start_time": "2022-05-14T09:44:10.381Z"
   },
   {
    "duration": 6,
    "start_time": "2022-05-14T09:44:55.975Z"
   },
   {
    "duration": 820,
    "start_time": "2022-05-14T09:44:57.062Z"
   },
   {
    "duration": 8,
    "start_time": "2022-05-14T09:45:33.940Z"
   },
   {
    "duration": 841,
    "start_time": "2022-05-14T09:45:37.230Z"
   },
   {
    "duration": 893,
    "start_time": "2022-05-14T09:45:58.333Z"
   },
   {
    "duration": 9,
    "start_time": "2022-05-14T09:46:07.972Z"
   },
   {
    "duration": 1035,
    "start_time": "2022-05-14T09:46:08.561Z"
   },
   {
    "duration": 13,
    "start_time": "2022-05-14T09:46:23.374Z"
   },
   {
    "duration": 873,
    "start_time": "2022-05-14T09:46:24.225Z"
   },
   {
    "duration": 10,
    "start_time": "2022-05-14T09:46:34.911Z"
   },
   {
    "duration": 868,
    "start_time": "2022-05-14T09:46:35.343Z"
   },
   {
    "duration": 869,
    "start_time": "2022-05-14T09:46:47.356Z"
   },
   {
    "duration": 12,
    "start_time": "2022-05-14T09:47:11.184Z"
   },
   {
    "duration": 938,
    "start_time": "2022-05-14T09:47:11.815Z"
   },
   {
    "duration": 10,
    "start_time": "2022-05-14T09:47:25.433Z"
   },
   {
    "duration": 11,
    "start_time": "2022-05-14T09:47:37.340Z"
   },
   {
    "duration": 884,
    "start_time": "2022-05-14T09:47:38.171Z"
   },
   {
    "duration": 12,
    "start_time": "2022-05-14T09:47:51.651Z"
   },
   {
    "duration": 14,
    "start_time": "2022-05-14T09:48:24.501Z"
   },
   {
    "duration": 9,
    "start_time": "2022-05-14T09:48:53.491Z"
   },
   {
    "duration": 897,
    "start_time": "2022-05-14T09:48:54.425Z"
   },
   {
    "duration": 588,
    "start_time": "2022-05-14T09:50:27.547Z"
   },
   {
    "duration": 248,
    "start_time": "2022-05-14T09:51:07.961Z"
   },
   {
    "duration": 725,
    "start_time": "2022-05-14T09:51:24.963Z"
   },
   {
    "duration": 9,
    "start_time": "2022-05-14T09:51:39.880Z"
   },
   {
    "duration": 10,
    "start_time": "2022-05-14T09:51:52.124Z"
   },
   {
    "duration": 609,
    "start_time": "2022-05-14T09:52:08.631Z"
   },
   {
    "duration": 11,
    "start_time": "2022-05-14T09:52:34.002Z"
   },
   {
    "duration": 579,
    "start_time": "2022-05-14T09:52:58.201Z"
   },
   {
    "duration": 583,
    "start_time": "2022-05-14T09:53:38.079Z"
   },
   {
    "duration": 13,
    "start_time": "2022-05-14T09:54:06.240Z"
   },
   {
    "duration": 253,
    "start_time": "2022-05-14T09:55:00.427Z"
   },
   {
    "duration": 18,
    "start_time": "2022-05-14T09:57:58.088Z"
   },
   {
    "duration": 17,
    "start_time": "2022-05-14T09:58:17.757Z"
   },
   {
    "duration": 19,
    "start_time": "2022-05-14T09:58:23.320Z"
   },
   {
    "duration": 16,
    "start_time": "2022-05-14T09:58:29.726Z"
   },
   {
    "duration": 1565,
    "start_time": "2022-05-14T09:58:36.393Z"
   },
   {
    "duration": 37,
    "start_time": "2022-05-14T09:58:37.960Z"
   },
   {
    "duration": 44,
    "start_time": "2022-05-14T09:58:37.998Z"
   },
   {
    "duration": 4,
    "start_time": "2022-05-14T09:58:38.043Z"
   },
   {
    "duration": 5,
    "start_time": "2022-05-14T09:58:38.049Z"
   },
   {
    "duration": 8,
    "start_time": "2022-05-14T09:58:38.055Z"
   },
   {
    "duration": 51,
    "start_time": "2022-05-14T09:58:38.065Z"
   },
   {
    "duration": 9,
    "start_time": "2022-05-14T09:58:38.118Z"
   },
   {
    "duration": 590,
    "start_time": "2022-05-14T09:58:38.128Z"
   },
   {
    "duration": 3,
    "start_time": "2022-05-14T09:58:38.721Z"
   },
   {
    "duration": 10,
    "start_time": "2022-05-14T09:58:38.726Z"
   },
   {
    "duration": 503,
    "start_time": "2022-05-14T09:58:38.738Z"
   },
   {
    "duration": 12,
    "start_time": "2022-05-14T09:58:39.243Z"
   },
   {
    "duration": 445,
    "start_time": "2022-05-14T09:58:39.258Z"
   },
   {
    "duration": 15,
    "start_time": "2022-05-14T09:58:39.708Z"
   },
   {
    "duration": 14,
    "start_time": "2022-05-14T09:58:39.724Z"
   },
   {
    "duration": 262,
    "start_time": "2022-05-14T09:58:39.740Z"
   },
   {
    "duration": 164,
    "start_time": "2022-05-14T09:58:40.003Z"
   },
   {
    "duration": 0,
    "start_time": "2022-05-14T09:58:40.169Z"
   },
   {
    "duration": 0,
    "start_time": "2022-05-14T09:58:40.170Z"
   },
   {
    "duration": 19,
    "start_time": "2022-05-14T09:58:52.112Z"
   },
   {
    "duration": 12,
    "start_time": "2022-05-14T09:59:07.995Z"
   },
   {
    "duration": 198,
    "start_time": "2022-05-14T09:59:08.766Z"
   },
   {
    "duration": 10,
    "start_time": "2022-05-14T09:59:10.453Z"
   },
   {
    "duration": 693,
    "start_time": "2022-05-14T09:59:11.308Z"
   },
   {
    "duration": 563,
    "start_time": "2022-05-14T09:59:30.825Z"
   },
   {
    "duration": 3,
    "start_time": "2022-05-14T09:59:49.415Z"
   },
   {
    "duration": 545,
    "start_time": "2022-05-14T09:59:50.051Z"
   },
   {
    "duration": 2499,
    "start_time": "2022-05-14T10:00:08.322Z"
   },
   {
    "duration": 37,
    "start_time": "2022-05-14T10:00:10.823Z"
   },
   {
    "duration": 55,
    "start_time": "2022-05-14T10:00:10.862Z"
   },
   {
    "duration": 3,
    "start_time": "2022-05-14T10:00:10.919Z"
   },
   {
    "duration": 6,
    "start_time": "2022-05-14T10:00:10.924Z"
   },
   {
    "duration": 5,
    "start_time": "2022-05-14T10:00:10.931Z"
   },
   {
    "duration": 7,
    "start_time": "2022-05-14T10:00:10.938Z"
   },
   {
    "duration": 8,
    "start_time": "2022-05-14T10:00:10.947Z"
   },
   {
    "duration": 620,
    "start_time": "2022-05-14T10:00:10.957Z"
   },
   {
    "duration": 3,
    "start_time": "2022-05-14T10:00:11.580Z"
   },
   {
    "duration": 16,
    "start_time": "2022-05-14T10:00:11.584Z"
   },
   {
    "duration": 492,
    "start_time": "2022-05-14T10:00:11.602Z"
   },
   {
    "duration": 17,
    "start_time": "2022-05-14T10:00:12.096Z"
   },
   {
    "duration": 448,
    "start_time": "2022-05-14T10:00:12.114Z"
   },
   {
    "duration": 8,
    "start_time": "2022-05-14T10:00:12.564Z"
   },
   {
    "duration": 132,
    "start_time": "2022-05-14T10:00:12.574Z"
   },
   {
    "duration": 0,
    "start_time": "2022-05-14T10:00:12.707Z"
   },
   {
    "duration": 0,
    "start_time": "2022-05-14T10:00:12.709Z"
   },
   {
    "duration": 0,
    "start_time": "2022-05-14T10:00:12.710Z"
   },
   {
    "duration": 29,
    "start_time": "2022-05-14T10:01:03.286Z"
   },
   {
    "duration": 17,
    "start_time": "2022-05-14T10:01:03.774Z"
   },
   {
    "duration": 11,
    "start_time": "2022-05-14T10:01:09.567Z"
   },
   {
    "duration": 10,
    "start_time": "2022-05-14T10:01:32.894Z"
   },
   {
    "duration": 556,
    "start_time": "2022-05-14T10:01:55.453Z"
   },
   {
    "duration": 18,
    "start_time": "2022-05-14T10:02:11.879Z"
   },
   {
    "duration": 677,
    "start_time": "2022-05-14T10:02:24.104Z"
   },
   {
    "duration": 534,
    "start_time": "2022-05-14T10:02:44.177Z"
   },
   {
    "duration": 10,
    "start_time": "2022-05-14T10:02:47.280Z"
   },
   {
    "duration": 16,
    "start_time": "2022-05-14T10:03:01.322Z"
   },
   {
    "duration": 16,
    "start_time": "2022-05-14T10:03:06.984Z"
   },
   {
    "duration": 612,
    "start_time": "2022-05-14T10:03:18.513Z"
   },
   {
    "duration": 9,
    "start_time": "2022-05-14T10:03:19.683Z"
   },
   {
    "duration": 541,
    "start_time": "2022-05-14T10:03:29.253Z"
   },
   {
    "duration": 10,
    "start_time": "2022-05-14T10:03:30.222Z"
   },
   {
    "duration": 17,
    "start_time": "2022-05-14T10:03:47.198Z"
   },
   {
    "duration": 559,
    "start_time": "2022-05-14T10:03:53.414Z"
   },
   {
    "duration": 1593,
    "start_time": "2022-05-14T10:04:37.974Z"
   },
   {
    "duration": 34,
    "start_time": "2022-05-14T10:04:39.569Z"
   },
   {
    "duration": 40,
    "start_time": "2022-05-14T10:04:39.605Z"
   },
   {
    "duration": 4,
    "start_time": "2022-05-14T10:04:39.647Z"
   },
   {
    "duration": 9,
    "start_time": "2022-05-14T10:04:39.652Z"
   },
   {
    "duration": 14,
    "start_time": "2022-05-14T10:04:39.663Z"
   },
   {
    "duration": 7,
    "start_time": "2022-05-14T10:04:39.707Z"
   },
   {
    "duration": 11,
    "start_time": "2022-05-14T10:04:39.716Z"
   },
   {
    "duration": 627,
    "start_time": "2022-05-14T10:04:39.729Z"
   },
   {
    "duration": 3,
    "start_time": "2022-05-14T10:04:40.359Z"
   },
   {
    "duration": 8,
    "start_time": "2022-05-14T10:04:40.364Z"
   },
   {
    "duration": 527,
    "start_time": "2022-05-14T10:04:40.374Z"
   },
   {
    "duration": 17,
    "start_time": "2022-05-14T10:04:40.903Z"
   },
   {
    "duration": 441,
    "start_time": "2022-05-14T10:04:40.922Z"
   },
   {
    "duration": 10,
    "start_time": "2022-05-14T10:04:41.364Z"
   },
   {
    "duration": 32,
    "start_time": "2022-05-14T10:04:41.376Z"
   },
   {
    "duration": 205,
    "start_time": "2022-05-14T10:04:41.410Z"
   },
   {
    "duration": 26,
    "start_time": "2022-05-14T10:04:41.617Z"
   },
   {
    "duration": 562,
    "start_time": "2022-05-14T10:04:41.645Z"
   },
   {
    "duration": 9,
    "start_time": "2022-05-14T10:04:42.209Z"
   },
   {
    "duration": 630,
    "start_time": "2022-05-14T10:07:27.288Z"
   },
   {
    "duration": 10,
    "start_time": "2022-05-14T10:07:28.978Z"
   },
   {
    "duration": 537,
    "start_time": "2022-05-14T10:07:50.256Z"
   },
   {
    "duration": 14,
    "start_time": "2022-05-14T10:08:43.679Z"
   },
   {
    "duration": 247,
    "start_time": "2022-05-14T10:08:44.450Z"
   },
   {
    "duration": 12,
    "start_time": "2022-05-14T10:08:56.690Z"
   },
   {
    "duration": 224,
    "start_time": "2022-05-14T10:08:57.298Z"
   },
   {
    "duration": 12,
    "start_time": "2022-05-14T10:09:04.437Z"
   },
   {
    "duration": 226,
    "start_time": "2022-05-14T10:09:05.048Z"
   },
   {
    "duration": 10,
    "start_time": "2022-05-14T10:09:28.776Z"
   },
   {
    "duration": 12,
    "start_time": "2022-05-14T10:10:59.968Z"
   },
   {
    "duration": 183,
    "start_time": "2022-05-14T10:11:09.398Z"
   },
   {
    "duration": 13,
    "start_time": "2022-05-14T10:11:24.966Z"
   },
   {
    "duration": 11,
    "start_time": "2022-05-14T10:11:45.935Z"
   },
   {
    "duration": 220,
    "start_time": "2022-05-14T10:11:47.415Z"
   },
   {
    "duration": 10,
    "start_time": "2022-05-14T10:12:01.707Z"
   },
   {
    "duration": 225,
    "start_time": "2022-05-14T10:12:02.351Z"
   },
   {
    "duration": 1663,
    "start_time": "2022-05-14T10:12:08.879Z"
   },
   {
    "duration": 38,
    "start_time": "2022-05-14T10:12:10.544Z"
   },
   {
    "duration": 41,
    "start_time": "2022-05-14T10:12:10.584Z"
   },
   {
    "duration": 4,
    "start_time": "2022-05-14T10:12:10.627Z"
   },
   {
    "duration": 10,
    "start_time": "2022-05-14T10:12:10.632Z"
   },
   {
    "duration": 6,
    "start_time": "2022-05-14T10:12:10.644Z"
   },
   {
    "duration": 7,
    "start_time": "2022-05-14T10:12:10.652Z"
   },
   {
    "duration": 10,
    "start_time": "2022-05-14T10:12:10.661Z"
   },
   {
    "duration": 599,
    "start_time": "2022-05-14T10:12:10.708Z"
   },
   {
    "duration": 4,
    "start_time": "2022-05-14T10:12:11.310Z"
   },
   {
    "duration": 8,
    "start_time": "2022-05-14T10:12:11.316Z"
   },
   {
    "duration": 518,
    "start_time": "2022-05-14T10:12:11.326Z"
   },
   {
    "duration": 13,
    "start_time": "2022-05-14T10:12:11.846Z"
   },
   {
    "duration": 9,
    "start_time": "2022-05-14T10:12:11.861Z"
   },
   {
    "duration": 38,
    "start_time": "2022-05-14T10:12:11.872Z"
   },
   {
    "duration": 415,
    "start_time": "2022-05-14T10:12:11.912Z"
   },
   {
    "duration": 82,
    "start_time": "2022-05-14T10:12:12.329Z"
   },
   {
    "duration": 1203,
    "start_time": "2022-05-14T10:12:12.412Z"
   },
   {
    "duration": 10,
    "start_time": "2022-05-14T10:12:13.616Z"
   },
   {
    "duration": 21,
    "start_time": "2022-05-14T10:12:13.627Z"
   },
   {
    "duration": 221,
    "start_time": "2022-05-14T10:12:13.649Z"
   },
   {
    "duration": 13,
    "start_time": "2022-05-14T10:12:13.872Z"
   },
   {
    "duration": 12,
    "start_time": "2022-05-14T10:13:04.437Z"
   },
   {
    "duration": 233,
    "start_time": "2022-05-14T10:13:06.103Z"
   },
   {
    "duration": 394,
    "start_time": "2022-05-14T10:14:27.997Z"
   },
   {
    "duration": 231,
    "start_time": "2022-05-14T10:14:45.967Z"
   },
   {
    "duration": 307,
    "start_time": "2022-05-14T10:15:13.447Z"
   },
   {
    "duration": 286,
    "start_time": "2022-05-14T10:15:23.238Z"
   },
   {
    "duration": 225,
    "start_time": "2022-05-14T10:15:43.197Z"
   },
   {
    "duration": 250,
    "start_time": "2022-05-14T10:15:53.717Z"
   },
   {
    "duration": 12,
    "start_time": "2022-05-14T10:16:17.784Z"
   },
   {
    "duration": 274,
    "start_time": "2022-05-14T10:16:18.507Z"
   },
   {
    "duration": 12,
    "start_time": "2022-05-14T10:17:14.797Z"
   },
   {
    "duration": 324,
    "start_time": "2022-05-14T10:17:18.508Z"
   },
   {
    "duration": 11,
    "start_time": "2022-05-14T10:17:28.415Z"
   },
   {
    "duration": 317,
    "start_time": "2022-05-14T10:17:30.406Z"
   },
   {
    "duration": 1548,
    "start_time": "2022-05-14T10:17:38.691Z"
   },
   {
    "duration": 37,
    "start_time": "2022-05-14T10:17:40.241Z"
   },
   {
    "duration": 43,
    "start_time": "2022-05-14T10:17:40.280Z"
   },
   {
    "duration": 4,
    "start_time": "2022-05-14T10:17:40.325Z"
   },
   {
    "duration": 5,
    "start_time": "2022-05-14T10:17:40.331Z"
   },
   {
    "duration": 7,
    "start_time": "2022-05-14T10:17:40.338Z"
   },
   {
    "duration": 6,
    "start_time": "2022-05-14T10:17:40.346Z"
   },
   {
    "duration": 8,
    "start_time": "2022-05-14T10:17:40.353Z"
   },
   {
    "duration": 611,
    "start_time": "2022-05-14T10:17:40.363Z"
   },
   {
    "duration": 4,
    "start_time": "2022-05-14T10:17:40.976Z"
   },
   {
    "duration": 8,
    "start_time": "2022-05-14T10:17:40.981Z"
   },
   {
    "duration": 495,
    "start_time": "2022-05-14T10:17:40.990Z"
   },
   {
    "duration": 22,
    "start_time": "2022-05-14T10:17:41.486Z"
   },
   {
    "duration": 9,
    "start_time": "2022-05-14T10:17:41.511Z"
   },
   {
    "duration": 17,
    "start_time": "2022-05-14T10:17:41.522Z"
   },
   {
    "duration": 243,
    "start_time": "2022-05-14T10:17:41.540Z"
   },
   {
    "duration": 35,
    "start_time": "2022-05-14T10:17:41.785Z"
   },
   {
    "duration": 627,
    "start_time": "2022-05-14T10:17:41.822Z"
   },
   {
    "duration": 9,
    "start_time": "2022-05-14T10:17:42.451Z"
   },
   {
    "duration": 13,
    "start_time": "2022-05-14T10:17:42.462Z"
   },
   {
    "duration": 335,
    "start_time": "2022-05-14T10:17:42.477Z"
   },
   {
    "duration": 14,
    "start_time": "2022-05-14T10:17:42.813Z"
   },
   {
    "duration": 12,
    "start_time": "2022-05-14T10:17:57.909Z"
   },
   {
    "duration": 420,
    "start_time": "2022-05-14T10:17:59.605Z"
   },
   {
    "duration": 11,
    "start_time": "2022-05-14T10:18:30.804Z"
   },
   {
    "duration": 301,
    "start_time": "2022-05-14T10:18:31.627Z"
   },
   {
    "duration": 1617,
    "start_time": "2022-05-14T10:18:40.077Z"
   },
   {
    "duration": 32,
    "start_time": "2022-05-14T10:18:41.695Z"
   },
   {
    "duration": 40,
    "start_time": "2022-05-14T10:18:41.729Z"
   },
   {
    "duration": 4,
    "start_time": "2022-05-14T10:18:41.771Z"
   },
   {
    "duration": 5,
    "start_time": "2022-05-14T10:18:41.808Z"
   },
   {
    "duration": 6,
    "start_time": "2022-05-14T10:18:41.815Z"
   },
   {
    "duration": 6,
    "start_time": "2022-05-14T10:18:41.822Z"
   },
   {
    "duration": 7,
    "start_time": "2022-05-14T10:18:41.830Z"
   },
   {
    "duration": 602,
    "start_time": "2022-05-14T10:18:41.839Z"
   },
   {
    "duration": 3,
    "start_time": "2022-05-14T10:18:42.444Z"
   },
   {
    "duration": 8,
    "start_time": "2022-05-14T10:18:42.448Z"
   },
   {
    "duration": 481,
    "start_time": "2022-05-14T10:18:42.457Z"
   },
   {
    "duration": 12,
    "start_time": "2022-05-14T10:18:42.939Z"
   },
   {
    "duration": 8,
    "start_time": "2022-05-14T10:18:42.952Z"
   },
   {
    "duration": 28,
    "start_time": "2022-05-14T10:18:42.961Z"
   },
   {
    "duration": 232,
    "start_time": "2022-05-14T10:18:42.990Z"
   },
   {
    "duration": 26,
    "start_time": "2022-05-14T10:18:43.223Z"
   },
   {
    "duration": 644,
    "start_time": "2022-05-14T10:18:43.250Z"
   },
   {
    "duration": 14,
    "start_time": "2022-05-14T10:18:43.896Z"
   },
   {
    "duration": 21,
    "start_time": "2022-05-14T10:18:43.912Z"
   },
   {
    "duration": 468,
    "start_time": "2022-05-14T10:18:43.935Z"
   },
   {
    "duration": 9,
    "start_time": "2022-05-14T10:18:44.407Z"
   },
   {
    "duration": 135,
    "start_time": "2022-05-14T10:19:16.053Z"
   },
   {
    "duration": 1538,
    "start_time": "2022-05-14T10:19:22.540Z"
   },
   {
    "duration": 35,
    "start_time": "2022-05-14T10:19:24.080Z"
   },
   {
    "duration": 40,
    "start_time": "2022-05-14T10:19:24.117Z"
   },
   {
    "duration": 3,
    "start_time": "2022-05-14T10:19:24.159Z"
   },
   {
    "duration": 7,
    "start_time": "2022-05-14T10:19:24.164Z"
   },
   {
    "duration": 40,
    "start_time": "2022-05-14T10:19:24.172Z"
   },
   {
    "duration": 21,
    "start_time": "2022-05-14T10:19:24.214Z"
   },
   {
    "duration": 11,
    "start_time": "2022-05-14T10:19:24.237Z"
   },
   {
    "duration": 594,
    "start_time": "2022-05-14T10:19:24.249Z"
   },
   {
    "duration": 4,
    "start_time": "2022-05-14T10:19:24.846Z"
   },
   {
    "duration": 8,
    "start_time": "2022-05-14T10:19:24.851Z"
   },
   {
    "duration": 501,
    "start_time": "2022-05-14T10:19:24.860Z"
   },
   {
    "duration": 14,
    "start_time": "2022-05-14T10:19:25.363Z"
   },
   {
    "duration": 9,
    "start_time": "2022-05-14T10:19:25.379Z"
   },
   {
    "duration": 17,
    "start_time": "2022-05-14T10:19:25.406Z"
   },
   {
    "duration": 246,
    "start_time": "2022-05-14T10:19:25.425Z"
   },
   {
    "duration": 37,
    "start_time": "2022-05-14T10:19:25.673Z"
   },
   {
    "duration": 625,
    "start_time": "2022-05-14T10:19:25.712Z"
   },
   {
    "duration": 10,
    "start_time": "2022-05-14T10:19:26.339Z"
   },
   {
    "duration": 141,
    "start_time": "2022-05-14T10:19:26.351Z"
   },
   {
    "duration": 0,
    "start_time": "2022-05-14T10:19:26.494Z"
   },
   {
    "duration": 0,
    "start_time": "2022-05-14T10:19:26.495Z"
   },
   {
    "duration": 12,
    "start_time": "2022-05-14T10:20:20.797Z"
   },
   {
    "duration": 454,
    "start_time": "2022-05-14T10:20:21.925Z"
   },
   {
    "duration": 1528,
    "start_time": "2022-05-14T10:20:52.815Z"
   },
   {
    "duration": 36,
    "start_time": "2022-05-14T10:20:54.345Z"
   },
   {
    "duration": 48,
    "start_time": "2022-05-14T10:20:54.383Z"
   },
   {
    "duration": 4,
    "start_time": "2022-05-14T10:20:54.432Z"
   },
   {
    "duration": 5,
    "start_time": "2022-05-14T10:20:54.438Z"
   },
   {
    "duration": 9,
    "start_time": "2022-05-14T10:20:54.445Z"
   },
   {
    "duration": 7,
    "start_time": "2022-05-14T10:20:54.456Z"
   },
   {
    "duration": 47,
    "start_time": "2022-05-14T10:20:54.465Z"
   },
   {
    "duration": 577,
    "start_time": "2022-05-14T10:20:54.513Z"
   },
   {
    "duration": 3,
    "start_time": "2022-05-14T10:20:55.092Z"
   },
   {
    "duration": 12,
    "start_time": "2022-05-14T10:20:55.097Z"
   },
   {
    "duration": 484,
    "start_time": "2022-05-14T10:20:55.111Z"
   },
   {
    "duration": 19,
    "start_time": "2022-05-14T10:20:55.596Z"
   },
   {
    "duration": 9,
    "start_time": "2022-05-14T10:20:55.617Z"
   },
   {
    "duration": 18,
    "start_time": "2022-05-14T10:20:55.628Z"
   },
   {
    "duration": 247,
    "start_time": "2022-05-14T10:20:55.647Z"
   },
   {
    "duration": 32,
    "start_time": "2022-05-14T10:20:55.896Z"
   },
   {
    "duration": 1108,
    "start_time": "2022-05-14T10:20:55.930Z"
   },
   {
    "duration": 9,
    "start_time": "2022-05-14T10:20:57.040Z"
   },
   {
    "duration": 73,
    "start_time": "2022-05-14T10:20:57.050Z"
   },
   {
    "duration": 712,
    "start_time": "2022-05-14T10:20:57.125Z"
   },
   {
    "duration": 8,
    "start_time": "2022-05-14T10:20:57.839Z"
   },
   {
    "duration": 8,
    "start_time": "2022-05-14T10:21:32.546Z"
   },
   {
    "duration": 12,
    "start_time": "2022-05-14T10:21:47.287Z"
   },
   {
    "duration": 427,
    "start_time": "2022-05-14T10:21:48.136Z"
   },
   {
    "duration": 12,
    "start_time": "2022-05-14T10:21:59.255Z"
   },
   {
    "duration": 570,
    "start_time": "2022-05-14T10:21:59.666Z"
   },
   {
    "duration": 11,
    "start_time": "2022-05-14T10:22:25.548Z"
   },
   {
    "duration": 171,
    "start_time": "2022-05-14T10:22:40.178Z"
   },
   {
    "duration": 302,
    "start_time": "2022-05-14T10:23:02.626Z"
   },
   {
    "duration": 13,
    "start_time": "2022-05-14T10:23:32.727Z"
   },
   {
    "duration": 293,
    "start_time": "2022-05-14T10:23:33.578Z"
   },
   {
    "duration": 12,
    "start_time": "2022-05-14T10:23:42.026Z"
   },
   {
    "duration": 281,
    "start_time": "2022-05-14T10:23:42.680Z"
   },
   {
    "duration": 1593,
    "start_time": "2022-05-14T10:23:50.731Z"
   },
   {
    "duration": 35,
    "start_time": "2022-05-14T10:23:52.326Z"
   },
   {
    "duration": 52,
    "start_time": "2022-05-14T10:23:52.363Z"
   },
   {
    "duration": 3,
    "start_time": "2022-05-14T10:23:52.417Z"
   },
   {
    "duration": 6,
    "start_time": "2022-05-14T10:23:52.422Z"
   },
   {
    "duration": 5,
    "start_time": "2022-05-14T10:23:52.430Z"
   },
   {
    "duration": 6,
    "start_time": "2022-05-14T10:23:52.436Z"
   },
   {
    "duration": 9,
    "start_time": "2022-05-14T10:23:52.444Z"
   },
   {
    "duration": 619,
    "start_time": "2022-05-14T10:23:52.455Z"
   },
   {
    "duration": 4,
    "start_time": "2022-05-14T10:23:53.076Z"
   },
   {
    "duration": 25,
    "start_time": "2022-05-14T10:23:53.082Z"
   },
   {
    "duration": 498,
    "start_time": "2022-05-14T10:23:53.109Z"
   },
   {
    "duration": 14,
    "start_time": "2022-05-14T10:23:53.609Z"
   },
   {
    "duration": 7,
    "start_time": "2022-05-14T10:23:53.625Z"
   },
   {
    "duration": 16,
    "start_time": "2022-05-14T10:23:53.633Z"
   },
   {
    "duration": 253,
    "start_time": "2022-05-14T10:23:53.650Z"
   },
   {
    "duration": 29,
    "start_time": "2022-05-14T10:23:53.905Z"
   },
   {
    "duration": 657,
    "start_time": "2022-05-14T10:23:53.936Z"
   },
   {
    "duration": 13,
    "start_time": "2022-05-14T10:23:54.596Z"
   },
   {
    "duration": 10,
    "start_time": "2022-05-14T10:23:54.611Z"
   },
   {
    "duration": 14,
    "start_time": "2022-05-14T10:23:54.623Z"
   },
   {
    "duration": 353,
    "start_time": "2022-05-14T10:23:54.639Z"
   },
   {
    "duration": 13,
    "start_time": "2022-05-14T10:23:54.994Z"
   },
   {
    "duration": 302,
    "start_time": "2022-05-14T10:23:55.008Z"
   },
   {
    "duration": 12,
    "start_time": "2022-05-14T11:25:42.246Z"
   },
   {
    "duration": 178,
    "start_time": "2022-05-14T11:25:44.655Z"
   },
   {
    "duration": 14,
    "start_time": "2022-05-14T11:26:24.825Z"
   },
   {
    "duration": 298,
    "start_time": "2022-05-14T11:26:27.650Z"
   },
   {
    "duration": 1554,
    "start_time": "2022-05-14T11:26:33.184Z"
   },
   {
    "duration": 33,
    "start_time": "2022-05-14T11:26:34.740Z"
   },
   {
    "duration": 54,
    "start_time": "2022-05-14T11:26:34.775Z"
   },
   {
    "duration": 4,
    "start_time": "2022-05-14T11:26:34.831Z"
   },
   {
    "duration": 5,
    "start_time": "2022-05-14T11:26:34.837Z"
   },
   {
    "duration": 5,
    "start_time": "2022-05-14T11:26:34.844Z"
   },
   {
    "duration": 6,
    "start_time": "2022-05-14T11:26:34.851Z"
   },
   {
    "duration": 49,
    "start_time": "2022-05-14T11:26:34.859Z"
   },
   {
    "duration": 605,
    "start_time": "2022-05-14T11:26:34.910Z"
   },
   {
    "duration": 4,
    "start_time": "2022-05-14T11:26:35.517Z"
   },
   {
    "duration": 8,
    "start_time": "2022-05-14T11:26:35.522Z"
   },
   {
    "duration": 496,
    "start_time": "2022-05-14T11:26:35.532Z"
   },
   {
    "duration": 13,
    "start_time": "2022-05-14T11:26:36.029Z"
   },
   {
    "duration": 8,
    "start_time": "2022-05-14T11:26:36.044Z"
   },
   {
    "duration": 15,
    "start_time": "2022-05-14T11:26:36.054Z"
   },
   {
    "duration": 247,
    "start_time": "2022-05-14T11:26:36.071Z"
   },
   {
    "duration": 27,
    "start_time": "2022-05-14T11:26:36.321Z"
   },
   {
    "duration": 1186,
    "start_time": "2022-05-14T11:26:36.350Z"
   },
   {
    "duration": 10,
    "start_time": "2022-05-14T11:26:37.537Z"
   },
   {
    "duration": 65,
    "start_time": "2022-05-14T11:26:37.549Z"
   },
   {
    "duration": 16,
    "start_time": "2022-05-14T11:26:37.615Z"
   },
   {
    "duration": 788,
    "start_time": "2022-05-14T11:26:37.632Z"
   },
   {
    "duration": 11,
    "start_time": "2022-05-14T11:26:38.421Z"
   },
   {
    "duration": 310,
    "start_time": "2022-05-14T11:26:38.433Z"
   },
   {
    "duration": 12,
    "start_time": "2022-05-14T11:27:00.464Z"
   },
   {
    "duration": 286,
    "start_time": "2022-05-14T11:27:01.184Z"
   },
   {
    "duration": 11,
    "start_time": "2022-05-14T11:27:30.038Z"
   },
   {
    "duration": 281,
    "start_time": "2022-05-14T11:27:30.710Z"
   },
   {
    "duration": 1576,
    "start_time": "2022-05-14T11:27:43.076Z"
   },
   {
    "duration": 35,
    "start_time": "2022-05-14T11:27:44.654Z"
   },
   {
    "duration": 48,
    "start_time": "2022-05-14T11:27:44.691Z"
   },
   {
    "duration": 4,
    "start_time": "2022-05-14T11:27:44.742Z"
   },
   {
    "duration": 16,
    "start_time": "2022-05-14T11:27:44.748Z"
   },
   {
    "duration": 6,
    "start_time": "2022-05-14T11:27:44.766Z"
   },
   {
    "duration": 7,
    "start_time": "2022-05-14T11:27:44.808Z"
   },
   {
    "duration": 11,
    "start_time": "2022-05-14T11:27:44.817Z"
   },
   {
    "duration": 594,
    "start_time": "2022-05-14T11:27:44.829Z"
   },
   {
    "duration": 3,
    "start_time": "2022-05-14T11:27:45.426Z"
   },
   {
    "duration": 8,
    "start_time": "2022-05-14T11:27:45.430Z"
   },
   {
    "duration": 486,
    "start_time": "2022-05-14T11:27:45.439Z"
   },
   {
    "duration": 11,
    "start_time": "2022-05-14T11:27:45.927Z"
   },
   {
    "duration": 15,
    "start_time": "2022-05-14T11:27:45.940Z"
   },
   {
    "duration": 15,
    "start_time": "2022-05-14T11:27:45.957Z"
   },
   {
    "duration": 234,
    "start_time": "2022-05-14T11:27:45.973Z"
   },
   {
    "duration": 26,
    "start_time": "2022-05-14T11:27:46.209Z"
   },
   {
    "duration": 643,
    "start_time": "2022-05-14T11:27:46.237Z"
   },
   {
    "duration": 10,
    "start_time": "2022-05-14T11:27:46.881Z"
   },
   {
    "duration": 18,
    "start_time": "2022-05-14T11:27:46.893Z"
   },
   {
    "duration": 11,
    "start_time": "2022-05-14T11:27:46.913Z"
   },
   {
    "duration": 301,
    "start_time": "2022-05-14T11:27:46.926Z"
   },
   {
    "duration": 11,
    "start_time": "2022-05-14T11:27:47.229Z"
   },
   {
    "duration": 232,
    "start_time": "2022-05-14T11:27:47.242Z"
   },
   {
    "duration": 10,
    "start_time": "2022-05-14T11:28:51.057Z"
   },
   {
    "duration": 329,
    "start_time": "2022-05-14T11:28:51.936Z"
   },
   {
    "duration": 11,
    "start_time": "2022-05-14T11:29:04.280Z"
   },
   {
    "duration": 221,
    "start_time": "2022-05-14T11:29:04.993Z"
   },
   {
    "duration": 11,
    "start_time": "2022-05-14T11:29:15.265Z"
   },
   {
    "duration": 225,
    "start_time": "2022-05-14T11:29:16.263Z"
   },
   {
    "duration": 10,
    "start_time": "2022-05-14T11:29:26.476Z"
   },
   {
    "duration": 217,
    "start_time": "2022-05-14T11:29:27.274Z"
   },
   {
    "duration": 10,
    "start_time": "2022-05-14T11:29:41.753Z"
   },
   {
    "duration": 218,
    "start_time": "2022-05-14T11:29:42.743Z"
   },
   {
    "duration": 12,
    "start_time": "2022-05-14T11:30:58.841Z"
   },
   {
    "duration": 274,
    "start_time": "2022-05-14T11:31:00.744Z"
   },
   {
    "duration": 11,
    "start_time": "2022-05-14T11:31:12.012Z"
   },
   {
    "duration": 226,
    "start_time": "2022-05-14T11:31:12.427Z"
   },
   {
    "duration": 11,
    "start_time": "2022-05-14T11:31:30.434Z"
   },
   {
    "duration": 9,
    "start_time": "2022-05-14T11:31:44.726Z"
   },
   {
    "duration": 12,
    "start_time": "2022-05-14T11:32:23.025Z"
   },
   {
    "duration": 228,
    "start_time": "2022-05-14T11:32:24.095Z"
   },
   {
    "duration": 9,
    "start_time": "2022-05-14T11:32:28.206Z"
   },
   {
    "duration": 1776,
    "start_time": "2022-05-14T11:32:35.180Z"
   },
   {
    "duration": 33,
    "start_time": "2022-05-14T11:32:36.958Z"
   },
   {
    "duration": 39,
    "start_time": "2022-05-14T11:32:36.993Z"
   },
   {
    "duration": 3,
    "start_time": "2022-05-14T11:32:37.034Z"
   },
   {
    "duration": 6,
    "start_time": "2022-05-14T11:32:37.039Z"
   },
   {
    "duration": 5,
    "start_time": "2022-05-14T11:32:37.047Z"
   },
   {
    "duration": 7,
    "start_time": "2022-05-14T11:32:37.053Z"
   },
   {
    "duration": 46,
    "start_time": "2022-05-14T11:32:37.062Z"
   },
   {
    "duration": 573,
    "start_time": "2022-05-14T11:32:37.110Z"
   },
   {
    "duration": 3,
    "start_time": "2022-05-14T11:32:37.686Z"
   },
   {
    "duration": 17,
    "start_time": "2022-05-14T11:32:37.690Z"
   },
   {
    "duration": 481,
    "start_time": "2022-05-14T11:32:37.709Z"
   },
   {
    "duration": 21,
    "start_time": "2022-05-14T11:32:38.191Z"
   },
   {
    "duration": 8,
    "start_time": "2022-05-14T11:32:38.214Z"
   },
   {
    "duration": 17,
    "start_time": "2022-05-14T11:32:38.223Z"
   },
   {
    "duration": 239,
    "start_time": "2022-05-14T11:32:38.242Z"
   },
   {
    "duration": 32,
    "start_time": "2022-05-14T11:32:38.482Z"
   },
   {
    "duration": 627,
    "start_time": "2022-05-14T11:32:38.515Z"
   },
   {
    "duration": 10,
    "start_time": "2022-05-14T11:32:39.143Z"
   },
   {
    "duration": 9,
    "start_time": "2022-05-14T11:32:39.155Z"
   },
   {
    "duration": 12,
    "start_time": "2022-05-14T11:32:39.166Z"
   },
   {
    "duration": 324,
    "start_time": "2022-05-14T11:32:39.180Z"
   },
   {
    "duration": 12,
    "start_time": "2022-05-14T11:32:39.505Z"
   },
   {
    "duration": 222,
    "start_time": "2022-05-14T11:32:39.519Z"
   },
   {
    "duration": 9,
    "start_time": "2022-05-14T11:32:39.743Z"
   },
   {
    "duration": 13,
    "start_time": "2022-05-14T11:35:07.804Z"
   },
   {
    "duration": 392,
    "start_time": "2022-05-14T11:35:08.454Z"
   },
   {
    "duration": 10,
    "start_time": "2022-05-14T11:36:15.308Z"
   },
   {
    "duration": 9,
    "start_time": "2022-05-14T11:36:59.068Z"
   },
   {
    "duration": 12,
    "start_time": "2022-05-14T11:37:52.573Z"
   },
   {
    "duration": 11,
    "start_time": "2022-05-14T11:38:09.649Z"
   },
   {
    "duration": 134,
    "start_time": "2022-05-14T11:39:49.904Z"
   },
   {
    "duration": 11,
    "start_time": "2022-05-14T11:40:14.273Z"
   },
   {
    "duration": 14,
    "start_time": "2022-05-14T11:40:32.664Z"
   },
   {
    "duration": 15,
    "start_time": "2022-05-14T11:40:53.263Z"
   },
   {
    "duration": 15,
    "start_time": "2022-05-14T11:41:03.981Z"
   },
   {
    "duration": 18,
    "start_time": "2022-05-14T11:41:56.011Z"
   },
   {
    "duration": 10,
    "start_time": "2022-05-14T11:42:14.434Z"
   },
   {
    "duration": 4,
    "start_time": "2022-05-14T11:46:52.158Z"
   },
   {
    "duration": 15,
    "start_time": "2022-05-14T11:47:12.717Z"
   },
   {
    "duration": 1588,
    "start_time": "2022-05-14T11:47:18.625Z"
   },
   {
    "duration": 40,
    "start_time": "2022-05-14T11:47:20.215Z"
   },
   {
    "duration": 53,
    "start_time": "2022-05-14T11:47:20.256Z"
   },
   {
    "duration": 3,
    "start_time": "2022-05-14T11:47:20.311Z"
   },
   {
    "duration": 10,
    "start_time": "2022-05-14T11:47:20.316Z"
   },
   {
    "duration": 6,
    "start_time": "2022-05-14T11:47:20.327Z"
   },
   {
    "duration": 6,
    "start_time": "2022-05-14T11:47:20.335Z"
   },
   {
    "duration": 13,
    "start_time": "2022-05-14T11:47:20.343Z"
   },
   {
    "duration": 625,
    "start_time": "2022-05-14T11:47:20.357Z"
   },
   {
    "duration": 3,
    "start_time": "2022-05-14T11:47:20.986Z"
   },
   {
    "duration": 19,
    "start_time": "2022-05-14T11:47:20.991Z"
   },
   {
    "duration": 499,
    "start_time": "2022-05-14T11:47:21.012Z"
   },
   {
    "duration": 13,
    "start_time": "2022-05-14T11:47:21.513Z"
   },
   {
    "duration": 13,
    "start_time": "2022-05-14T11:47:21.528Z"
   },
   {
    "duration": 24,
    "start_time": "2022-05-14T11:47:21.543Z"
   },
   {
    "duration": 255,
    "start_time": "2022-05-14T11:47:21.569Z"
   },
   {
    "duration": 28,
    "start_time": "2022-05-14T11:47:21.826Z"
   },
   {
    "duration": 754,
    "start_time": "2022-05-14T11:47:21.856Z"
   },
   {
    "duration": 10,
    "start_time": "2022-05-14T11:47:22.612Z"
   },
   {
    "duration": 15,
    "start_time": "2022-05-14T11:47:22.623Z"
   },
   {
    "duration": 18,
    "start_time": "2022-05-14T11:47:22.640Z"
   },
   {
    "duration": 633,
    "start_time": "2022-05-14T11:47:22.707Z"
   },
   {
    "duration": 9,
    "start_time": "2022-05-14T11:47:23.342Z"
   },
   {
    "duration": 12,
    "start_time": "2022-05-14T11:47:23.353Z"
   },
   {
    "duration": 12,
    "start_time": "2022-05-14T11:47:23.408Z"
   },
   {
    "duration": 21,
    "start_time": "2022-05-14T11:47:23.421Z"
   },
   {
    "duration": 66,
    "start_time": "2022-05-14T11:47:23.444Z"
   },
   {
    "duration": 11,
    "start_time": "2022-05-14T11:47:23.514Z"
   },
   {
    "duration": 11,
    "start_time": "2022-05-14T11:48:00.190Z"
   },
   {
    "duration": 129,
    "start_time": "2022-05-14T11:49:28.139Z"
   },
   {
    "duration": 1517,
    "start_time": "2022-05-14T11:49:38.534Z"
   },
   {
    "duration": 41,
    "start_time": "2022-05-14T11:49:40.053Z"
   },
   {
    "duration": 42,
    "start_time": "2022-05-14T11:49:40.095Z"
   },
   {
    "duration": 3,
    "start_time": "2022-05-14T11:49:40.139Z"
   },
   {
    "duration": 7,
    "start_time": "2022-05-14T11:49:40.144Z"
   },
   {
    "duration": 5,
    "start_time": "2022-05-14T11:49:40.153Z"
   },
   {
    "duration": 9,
    "start_time": "2022-05-14T11:49:40.159Z"
   },
   {
    "duration": 42,
    "start_time": "2022-05-14T11:49:40.170Z"
   },
   {
    "duration": 587,
    "start_time": "2022-05-14T11:49:40.213Z"
   },
   {
    "duration": 4,
    "start_time": "2022-05-14T11:49:40.806Z"
   },
   {
    "duration": 8,
    "start_time": "2022-05-14T11:49:40.811Z"
   },
   {
    "duration": 484,
    "start_time": "2022-05-14T11:49:40.821Z"
   },
   {
    "duration": 12,
    "start_time": "2022-05-14T11:49:41.308Z"
   },
   {
    "duration": 8,
    "start_time": "2022-05-14T11:49:41.321Z"
   },
   {
    "duration": 16,
    "start_time": "2022-05-14T11:49:41.331Z"
   },
   {
    "duration": 237,
    "start_time": "2022-05-14T11:49:41.348Z"
   },
   {
    "duration": 36,
    "start_time": "2022-05-14T11:49:41.587Z"
   },
   {
    "duration": 618,
    "start_time": "2022-05-14T11:49:41.625Z"
   },
   {
    "duration": 9,
    "start_time": "2022-05-14T11:49:42.245Z"
   },
   {
    "duration": 12,
    "start_time": "2022-05-14T11:49:42.255Z"
   },
   {
    "duration": 15,
    "start_time": "2022-05-14T11:49:42.269Z"
   },
   {
    "duration": 322,
    "start_time": "2022-05-14T11:49:42.286Z"
   },
   {
    "duration": 9,
    "start_time": "2022-05-14T11:49:42.610Z"
   },
   {
    "duration": 18,
    "start_time": "2022-05-14T11:49:42.621Z"
   },
   {
    "duration": 14,
    "start_time": "2022-05-14T11:49:42.641Z"
   },
   {
    "duration": 17,
    "start_time": "2022-05-14T11:49:42.657Z"
   },
   {
    "duration": 148,
    "start_time": "2022-05-14T11:49:42.676Z"
   },
   {
    "duration": 0,
    "start_time": "2022-05-14T11:49:42.826Z"
   },
   {
    "duration": 0,
    "start_time": "2022-05-14T11:49:42.827Z"
   },
   {
    "duration": 12,
    "start_time": "2022-05-14T11:51:22.720Z"
   },
   {
    "duration": 17,
    "start_time": "2022-05-14T11:52:07.792Z"
   },
   {
    "duration": 1640,
    "start_time": "2022-05-14T11:52:20.409Z"
   },
   {
    "duration": 38,
    "start_time": "2022-05-14T11:52:22.051Z"
   },
   {
    "duration": 46,
    "start_time": "2022-05-14T11:52:22.091Z"
   },
   {
    "duration": 3,
    "start_time": "2022-05-14T11:52:22.139Z"
   },
   {
    "duration": 6,
    "start_time": "2022-05-14T11:52:22.144Z"
   },
   {
    "duration": 6,
    "start_time": "2022-05-14T11:52:22.152Z"
   },
   {
    "duration": 8,
    "start_time": "2022-05-14T11:52:22.160Z"
   },
   {
    "duration": 43,
    "start_time": "2022-05-14T11:52:22.170Z"
   },
   {
    "duration": 602,
    "start_time": "2022-05-14T11:52:22.215Z"
   },
   {
    "duration": 3,
    "start_time": "2022-05-14T11:52:22.820Z"
   },
   {
    "duration": 7,
    "start_time": "2022-05-14T11:52:22.825Z"
   },
   {
    "duration": 508,
    "start_time": "2022-05-14T11:52:22.834Z"
   },
   {
    "duration": 13,
    "start_time": "2022-05-14T11:52:23.344Z"
   },
   {
    "duration": 8,
    "start_time": "2022-05-14T11:52:23.359Z"
   },
   {
    "duration": 17,
    "start_time": "2022-05-14T11:52:23.369Z"
   },
   {
    "duration": 219,
    "start_time": "2022-05-14T11:52:23.415Z"
   },
   {
    "duration": 27,
    "start_time": "2022-05-14T11:52:23.636Z"
   },
   {
    "duration": 642,
    "start_time": "2022-05-14T11:52:23.665Z"
   },
   {
    "duration": 9,
    "start_time": "2022-05-14T11:52:24.310Z"
   },
   {
    "duration": 15,
    "start_time": "2022-05-14T11:52:24.321Z"
   },
   {
    "duration": 13,
    "start_time": "2022-05-14T11:52:24.338Z"
   },
   {
    "duration": 336,
    "start_time": "2022-05-14T11:52:24.352Z"
   },
   {
    "duration": 11,
    "start_time": "2022-05-14T11:52:24.690Z"
   },
   {
    "duration": 10,
    "start_time": "2022-05-14T11:52:24.704Z"
   },
   {
    "duration": 13,
    "start_time": "2022-05-14T11:52:24.717Z"
   },
   {
    "duration": 18,
    "start_time": "2022-05-14T11:52:24.732Z"
   },
   {
    "duration": 163,
    "start_time": "2022-05-14T11:52:24.752Z"
   },
   {
    "duration": 0,
    "start_time": "2022-05-14T11:52:24.917Z"
   },
   {
    "duration": 0,
    "start_time": "2022-05-14T11:52:24.919Z"
   },
   {
    "duration": 1590,
    "start_time": "2022-05-14T11:52:41.877Z"
   },
   {
    "duration": 34,
    "start_time": "2022-05-14T11:52:43.469Z"
   },
   {
    "duration": 40,
    "start_time": "2022-05-14T11:52:43.505Z"
   },
   {
    "duration": 3,
    "start_time": "2022-05-14T11:52:43.548Z"
   },
   {
    "duration": 6,
    "start_time": "2022-05-14T11:52:43.553Z"
   },
   {
    "duration": 6,
    "start_time": "2022-05-14T11:52:43.560Z"
   },
   {
    "duration": 40,
    "start_time": "2022-05-14T11:52:43.568Z"
   },
   {
    "duration": 9,
    "start_time": "2022-05-14T11:52:43.610Z"
   },
   {
    "duration": 589,
    "start_time": "2022-05-14T11:52:43.621Z"
   },
   {
    "duration": 3,
    "start_time": "2022-05-14T11:52:44.213Z"
   },
   {
    "duration": 8,
    "start_time": "2022-05-14T11:52:44.218Z"
   },
   {
    "duration": 500,
    "start_time": "2022-05-14T11:52:44.227Z"
   },
   {
    "duration": 12,
    "start_time": "2022-05-14T11:52:44.729Z"
   },
   {
    "duration": 9,
    "start_time": "2022-05-14T11:52:44.743Z"
   },
   {
    "duration": 18,
    "start_time": "2022-05-14T11:52:44.754Z"
   },
   {
    "duration": 256,
    "start_time": "2022-05-14T11:52:44.773Z"
   },
   {
    "duration": 27,
    "start_time": "2022-05-14T11:52:45.031Z"
   },
   {
    "duration": 641,
    "start_time": "2022-05-14T11:52:45.060Z"
   },
   {
    "duration": 9,
    "start_time": "2022-05-14T11:52:45.708Z"
   },
   {
    "duration": 10,
    "start_time": "2022-05-14T11:52:45.719Z"
   },
   {
    "duration": 13,
    "start_time": "2022-05-14T11:52:45.731Z"
   },
   {
    "duration": 313,
    "start_time": "2022-05-14T11:52:45.746Z"
   },
   {
    "duration": 11,
    "start_time": "2022-05-14T11:52:46.062Z"
   },
   {
    "duration": 9,
    "start_time": "2022-05-14T11:52:46.075Z"
   },
   {
    "duration": 24,
    "start_time": "2022-05-14T11:52:46.086Z"
   },
   {
    "duration": 16,
    "start_time": "2022-05-14T11:52:46.113Z"
   },
   {
    "duration": 12,
    "start_time": "2022-05-14T11:52:46.131Z"
   },
   {
    "duration": 10,
    "start_time": "2022-05-14T11:52:46.147Z"
   },
   {
    "duration": 12,
    "start_time": "2022-05-14T11:52:46.159Z"
   },
   {
    "duration": 134,
    "start_time": "2022-05-14T11:53:01.383Z"
   },
   {
    "duration": 9,
    "start_time": "2022-05-14T11:53:18.019Z"
   },
   {
    "duration": 10,
    "start_time": "2022-05-14T11:53:44.892Z"
   },
   {
    "duration": 16,
    "start_time": "2022-05-14T11:53:59.394Z"
   },
   {
    "duration": 11,
    "start_time": "2022-05-14T11:54:12.795Z"
   },
   {
    "duration": 5,
    "start_time": "2022-05-14T11:55:12.056Z"
   },
   {
    "duration": 12,
    "start_time": "2022-05-14T11:55:21.993Z"
   },
   {
    "duration": 13,
    "start_time": "2022-05-14T11:59:05.219Z"
   },
   {
    "duration": 13,
    "start_time": "2022-05-14T11:59:14.088Z"
   },
   {
    "duration": 12,
    "start_time": "2022-05-14T12:00:38.391Z"
   },
   {
    "duration": 12,
    "start_time": "2022-05-14T12:01:21.635Z"
   },
   {
    "duration": 1039,
    "start_time": "2022-05-14T12:04:01.707Z"
   },
   {
    "duration": 11,
    "start_time": "2022-05-14T12:04:44.827Z"
   },
   {
    "duration": 1195,
    "start_time": "2022-05-14T12:04:45.699Z"
   },
   {
    "duration": 16,
    "start_time": "2022-05-14T12:05:05.687Z"
   },
   {
    "duration": 5,
    "start_time": "2022-05-14T12:06:54.514Z"
   },
   {
    "duration": 10,
    "start_time": "2022-05-14T12:06:55.795Z"
   },
   {
    "duration": 13,
    "start_time": "2022-05-14T12:07:16.791Z"
   },
   {
    "duration": 6,
    "start_time": "2022-05-14T12:07:19.714Z"
   },
   {
    "duration": 12,
    "start_time": "2022-05-14T12:07:45.370Z"
   },
   {
    "duration": 5,
    "start_time": "2022-05-14T12:08:02.283Z"
   },
   {
    "duration": 11,
    "start_time": "2022-05-14T12:08:02.929Z"
   },
   {
    "duration": 1528,
    "start_time": "2022-05-14T12:08:39.672Z"
   },
   {
    "duration": 32,
    "start_time": "2022-05-14T12:08:41.202Z"
   },
   {
    "duration": 38,
    "start_time": "2022-05-14T12:08:41.236Z"
   },
   {
    "duration": 3,
    "start_time": "2022-05-14T12:08:41.276Z"
   },
   {
    "duration": 30,
    "start_time": "2022-05-14T12:08:41.281Z"
   },
   {
    "duration": 6,
    "start_time": "2022-05-14T12:08:41.312Z"
   },
   {
    "duration": 11,
    "start_time": "2022-05-14T12:08:41.319Z"
   },
   {
    "duration": 12,
    "start_time": "2022-05-14T12:08:41.331Z"
   },
   {
    "duration": 566,
    "start_time": "2022-05-14T12:08:41.345Z"
   },
   {
    "duration": 3,
    "start_time": "2022-05-14T12:08:41.914Z"
   },
   {
    "duration": 8,
    "start_time": "2022-05-14T12:08:41.918Z"
   },
   {
    "duration": 713,
    "start_time": "2022-05-14T12:08:41.927Z"
   },
   {
    "duration": 69,
    "start_time": "2022-05-14T12:08:42.642Z"
   },
   {
    "duration": 8,
    "start_time": "2022-05-14T12:08:42.713Z"
   },
   {
    "duration": 16,
    "start_time": "2022-05-14T12:08:42.723Z"
   },
   {
    "duration": 471,
    "start_time": "2022-05-14T12:08:42.741Z"
   },
   {
    "duration": 28,
    "start_time": "2022-05-14T12:08:43.214Z"
   },
   {
    "duration": 854,
    "start_time": "2022-05-14T12:08:43.244Z"
   },
   {
    "duration": 15,
    "start_time": "2022-05-14T12:08:44.099Z"
   },
   {
    "duration": 11,
    "start_time": "2022-05-14T12:08:44.116Z"
   },
   {
    "duration": 11,
    "start_time": "2022-05-14T12:08:44.129Z"
   },
   {
    "duration": 327,
    "start_time": "2022-05-14T12:08:44.141Z"
   },
   {
    "duration": 8,
    "start_time": "2022-05-14T12:08:44.470Z"
   },
   {
    "duration": 9,
    "start_time": "2022-05-14T12:08:44.480Z"
   },
   {
    "duration": 11,
    "start_time": "2022-05-14T12:08:44.491Z"
   },
   {
    "duration": 16,
    "start_time": "2022-05-14T12:08:44.504Z"
   },
   {
    "duration": 11,
    "start_time": "2022-05-14T12:08:44.522Z"
   },
   {
    "duration": 11,
    "start_time": "2022-05-14T12:08:44.536Z"
   },
   {
    "duration": 14,
    "start_time": "2022-05-14T12:08:44.548Z"
   },
   {
    "duration": 46,
    "start_time": "2022-05-14T12:08:44.563Z"
   },
   {
    "duration": 5,
    "start_time": "2022-05-14T12:08:44.611Z"
   },
   {
    "duration": 18,
    "start_time": "2022-05-14T12:08:44.618Z"
   },
   {
    "duration": 14,
    "start_time": "2022-05-14T12:08:44.638Z"
   },
   {
    "duration": 7,
    "start_time": "2022-05-14T12:08:44.655Z"
   },
   {
    "duration": 44,
    "start_time": "2022-05-14T12:08:44.664Z"
   },
   {
    "duration": 23,
    "start_time": "2022-05-14T12:08:44.711Z"
   },
   {
    "duration": 6,
    "start_time": "2022-05-14T12:11:35.043Z"
   },
   {
    "duration": 15,
    "start_time": "2022-05-14T12:12:43.740Z"
   },
   {
    "duration": 13,
    "start_time": "2022-05-14T12:12:44.567Z"
   },
   {
    "duration": 1528,
    "start_time": "2022-05-14T12:12:52.335Z"
   },
   {
    "duration": 34,
    "start_time": "2022-05-14T12:12:53.865Z"
   },
   {
    "duration": 40,
    "start_time": "2022-05-14T12:12:53.901Z"
   },
   {
    "duration": 4,
    "start_time": "2022-05-14T12:12:53.944Z"
   },
   {
    "duration": 5,
    "start_time": "2022-05-14T12:12:53.949Z"
   },
   {
    "duration": 5,
    "start_time": "2022-05-14T12:12:53.956Z"
   },
   {
    "duration": 6,
    "start_time": "2022-05-14T12:12:53.963Z"
   },
   {
    "duration": 45,
    "start_time": "2022-05-14T12:12:53.971Z"
   },
   {
    "duration": 594,
    "start_time": "2022-05-14T12:12:54.018Z"
   },
   {
    "duration": 3,
    "start_time": "2022-05-14T12:12:54.615Z"
   },
   {
    "duration": 7,
    "start_time": "2022-05-14T12:12:54.619Z"
   },
   {
    "duration": 502,
    "start_time": "2022-05-14T12:12:54.628Z"
   },
   {
    "duration": 13,
    "start_time": "2022-05-14T12:12:55.131Z"
   },
   {
    "duration": 9,
    "start_time": "2022-05-14T12:12:55.146Z"
   },
   {
    "duration": 15,
    "start_time": "2022-05-14T12:12:55.157Z"
   },
   {
    "duration": 264,
    "start_time": "2022-05-14T12:12:55.173Z"
   },
   {
    "duration": 29,
    "start_time": "2022-05-14T12:12:55.438Z"
   },
   {
    "duration": 646,
    "start_time": "2022-05-14T12:12:55.468Z"
   },
   {
    "duration": 9,
    "start_time": "2022-05-14T12:12:56.116Z"
   },
   {
    "duration": 19,
    "start_time": "2022-05-14T12:12:56.126Z"
   },
   {
    "duration": 16,
    "start_time": "2022-05-14T12:12:56.147Z"
   },
   {
    "duration": 599,
    "start_time": "2022-05-14T12:12:56.164Z"
   },
   {
    "duration": 45,
    "start_time": "2022-05-14T12:12:56.765Z"
   },
   {
    "duration": 16,
    "start_time": "2022-05-14T12:12:56.812Z"
   },
   {
    "duration": 19,
    "start_time": "2022-05-14T12:12:56.830Z"
   },
   {
    "duration": 78,
    "start_time": "2022-05-14T12:12:56.851Z"
   },
   {
    "duration": 15,
    "start_time": "2022-05-14T12:12:56.931Z"
   },
   {
    "duration": 66,
    "start_time": "2022-05-14T12:12:56.950Z"
   },
   {
    "duration": 15,
    "start_time": "2022-05-14T12:12:57.017Z"
   },
   {
    "duration": 12,
    "start_time": "2022-05-14T12:12:57.034Z"
   },
   {
    "duration": 69,
    "start_time": "2022-05-14T12:12:57.048Z"
   },
   {
    "duration": 11,
    "start_time": "2022-05-14T12:12:57.119Z"
   },
   {
    "duration": 12,
    "start_time": "2022-05-14T12:12:57.132Z"
   },
   {
    "duration": 288,
    "start_time": "2022-05-14T12:12:57.145Z"
   },
   {
    "duration": 0,
    "start_time": "2022-05-14T12:12:57.435Z"
   },
   {
    "duration": 0,
    "start_time": "2022-05-14T12:12:57.436Z"
   },
   {
    "duration": 3,
    "start_time": "2022-05-14T12:13:37.396Z"
   },
   {
    "duration": 12,
    "start_time": "2022-05-14T12:13:37.995Z"
   },
   {
    "duration": 11,
    "start_time": "2022-05-14T12:13:49.534Z"
   },
   {
    "duration": 5,
    "start_time": "2022-05-14T12:13:56.628Z"
   },
   {
    "duration": 13,
    "start_time": "2022-05-14T12:13:59.978Z"
   },
   {
    "duration": 2996,
    "start_time": "2022-05-14T12:15:01.996Z"
   },
   {
    "duration": 0,
    "start_time": "2022-05-14T12:15:04.994Z"
   },
   {
    "duration": 7,
    "start_time": "2022-05-14T12:15:19.315Z"
   },
   {
    "duration": 17,
    "start_time": "2022-05-14T12:15:20.065Z"
   },
   {
    "duration": 15,
    "start_time": "2022-05-14T12:15:39.140Z"
   },
   {
    "duration": 14,
    "start_time": "2022-05-14T12:15:53.097Z"
   },
   {
    "duration": 4,
    "start_time": "2022-05-14T12:16:22.136Z"
   },
   {
    "duration": 11,
    "start_time": "2022-05-14T12:16:22.794Z"
   },
   {
    "duration": 1526,
    "start_time": "2022-05-14T12:16:27.654Z"
   },
   {
    "duration": 36,
    "start_time": "2022-05-14T12:16:29.182Z"
   },
   {
    "duration": 38,
    "start_time": "2022-05-14T12:16:29.219Z"
   },
   {
    "duration": 3,
    "start_time": "2022-05-14T12:16:29.258Z"
   },
   {
    "duration": 5,
    "start_time": "2022-05-14T12:16:29.264Z"
   },
   {
    "duration": 8,
    "start_time": "2022-05-14T12:16:29.271Z"
   },
   {
    "duration": 6,
    "start_time": "2022-05-14T12:16:29.307Z"
   },
   {
    "duration": 8,
    "start_time": "2022-05-14T12:16:29.315Z"
   },
   {
    "duration": 580,
    "start_time": "2022-05-14T12:16:29.325Z"
   },
   {
    "duration": 3,
    "start_time": "2022-05-14T12:16:29.907Z"
   },
   {
    "duration": 7,
    "start_time": "2022-05-14T12:16:29.912Z"
   },
   {
    "duration": 501,
    "start_time": "2022-05-14T12:16:29.921Z"
   },
   {
    "duration": 12,
    "start_time": "2022-05-14T12:16:30.424Z"
   },
   {
    "duration": 9,
    "start_time": "2022-05-14T12:16:30.439Z"
   },
   {
    "duration": 15,
    "start_time": "2022-05-14T12:16:30.449Z"
   },
   {
    "duration": 252,
    "start_time": "2022-05-14T12:16:30.466Z"
   },
   {
    "duration": 27,
    "start_time": "2022-05-14T12:16:30.719Z"
   },
   {
    "duration": 649,
    "start_time": "2022-05-14T12:16:30.748Z"
   },
   {
    "duration": 9,
    "start_time": "2022-05-14T12:16:31.407Z"
   },
   {
    "duration": 10,
    "start_time": "2022-05-14T12:16:31.417Z"
   },
   {
    "duration": 11,
    "start_time": "2022-05-14T12:16:31.429Z"
   },
   {
    "duration": 301,
    "start_time": "2022-05-14T12:16:31.442Z"
   },
   {
    "duration": 10,
    "start_time": "2022-05-14T12:16:31.745Z"
   },
   {
    "duration": 9,
    "start_time": "2022-05-14T12:16:31.756Z"
   },
   {
    "duration": 12,
    "start_time": "2022-05-14T12:16:31.767Z"
   },
   {
    "duration": 27,
    "start_time": "2022-05-14T12:16:31.781Z"
   },
   {
    "duration": 12,
    "start_time": "2022-05-14T12:16:31.810Z"
   },
   {
    "duration": 12,
    "start_time": "2022-05-14T12:16:31.824Z"
   },
   {
    "duration": 22,
    "start_time": "2022-05-14T12:16:31.837Z"
   },
   {
    "duration": 13,
    "start_time": "2022-05-14T12:16:31.860Z"
   },
   {
    "duration": 4,
    "start_time": "2022-05-14T12:16:31.875Z"
   },
   {
    "duration": 35,
    "start_time": "2022-05-14T12:16:31.881Z"
   },
   {
    "duration": 11,
    "start_time": "2022-05-14T12:16:31.917Z"
   },
   {
    "duration": 7,
    "start_time": "2022-05-14T12:16:31.930Z"
   },
   {
    "duration": 13,
    "start_time": "2022-05-14T12:16:31.938Z"
   },
   {
    "duration": 14,
    "start_time": "2022-05-14T12:16:31.952Z"
   },
   {
    "duration": 44,
    "start_time": "2022-05-14T12:16:31.968Z"
   },
   {
    "duration": 128,
    "start_time": "2022-05-14T12:23:13.217Z"
   },
   {
    "duration": 13,
    "start_time": "2022-05-14T12:23:16.607Z"
   },
   {
    "duration": 11,
    "start_time": "2022-05-14T12:23:19.775Z"
   },
   {
    "duration": 4,
    "start_time": "2022-05-14T12:23:46.500Z"
   },
   {
    "duration": 4,
    "start_time": "2022-05-14T12:24:16.718Z"
   },
   {
    "duration": 4,
    "start_time": "2022-05-14T12:25:23.178Z"
   },
   {
    "duration": 17,
    "start_time": "2022-05-14T12:26:19.054Z"
   },
   {
    "duration": 4,
    "start_time": "2022-05-14T12:26:34.069Z"
   },
   {
    "duration": 4,
    "start_time": "2022-05-14T12:27:25.468Z"
   },
   {
    "duration": 4,
    "start_time": "2022-05-14T12:27:28.307Z"
   },
   {
    "duration": 13,
    "start_time": "2022-05-14T12:28:57.804Z"
   },
   {
    "duration": 15,
    "start_time": "2022-05-14T12:29:23.647Z"
   },
   {
    "duration": 5,
    "start_time": "2022-05-14T12:30:39.872Z"
   },
   {
    "duration": 6,
    "start_time": "2022-05-14T12:36:31.646Z"
   },
   {
    "duration": 10,
    "start_time": "2022-05-14T12:36:33.472Z"
   },
   {
    "duration": 5,
    "start_time": "2022-05-14T12:36:58.831Z"
   },
   {
    "duration": 3,
    "start_time": "2022-05-14T12:37:00.888Z"
   },
   {
    "duration": 4,
    "start_time": "2022-05-14T12:37:37.288Z"
   },
   {
    "duration": 8,
    "start_time": "2022-05-14T12:38:23.082Z"
   },
   {
    "duration": 4,
    "start_time": "2022-05-14T12:38:38.545Z"
   },
   {
    "duration": 9,
    "start_time": "2022-05-14T12:38:52.225Z"
   },
   {
    "duration": 4,
    "start_time": "2022-05-14T12:38:52.576Z"
   },
   {
    "duration": 4,
    "start_time": "2022-05-14T12:40:22.603Z"
   },
   {
    "duration": 15,
    "start_time": "2022-05-14T12:41:29.410Z"
   },
   {
    "duration": 5,
    "start_time": "2022-05-14T12:41:53.333Z"
   },
   {
    "duration": 9,
    "start_time": "2022-05-14T12:41:53.972Z"
   },
   {
    "duration": 5,
    "start_time": "2022-05-14T12:41:56.703Z"
   },
   {
    "duration": 4,
    "start_time": "2022-05-14T12:41:57.388Z"
   },
   {
    "duration": 3,
    "start_time": "2022-05-14T12:43:38.120Z"
   },
   {
    "duration": 24,
    "start_time": "2022-05-14T12:43:39.566Z"
   },
   {
    "duration": 1981,
    "start_time": "2022-05-14T22:28:30.118Z"
   },
   {
    "duration": 39,
    "start_time": "2022-05-14T22:28:32.101Z"
   },
   {
    "duration": 40,
    "start_time": "2022-05-14T22:28:32.142Z"
   },
   {
    "duration": 3,
    "start_time": "2022-05-14T22:28:32.184Z"
   },
   {
    "duration": 36,
    "start_time": "2022-05-14T22:28:32.189Z"
   },
   {
    "duration": 8,
    "start_time": "2022-05-14T22:28:32.227Z"
   },
   {
    "duration": 7,
    "start_time": "2022-05-14T22:28:32.237Z"
   },
   {
    "duration": 8,
    "start_time": "2022-05-14T22:28:32.246Z"
   },
   {
    "duration": 571,
    "start_time": "2022-05-14T22:28:32.256Z"
   },
   {
    "duration": 3,
    "start_time": "2022-05-14T22:28:32.829Z"
   },
   {
    "duration": 11,
    "start_time": "2022-05-14T22:28:32.834Z"
   },
   {
    "duration": 584,
    "start_time": "2022-05-14T22:28:32.847Z"
   },
   {
    "duration": 12,
    "start_time": "2022-05-14T22:28:33.433Z"
   },
   {
    "duration": 17,
    "start_time": "2022-05-14T22:28:33.449Z"
   },
   {
    "duration": 24,
    "start_time": "2022-05-14T22:28:33.469Z"
   },
   {
    "duration": 240,
    "start_time": "2022-05-14T22:28:33.495Z"
   },
   {
    "duration": 30,
    "start_time": "2022-05-14T22:28:33.737Z"
   },
   {
    "duration": 671,
    "start_time": "2022-05-14T22:28:33.769Z"
   },
   {
    "duration": 10,
    "start_time": "2022-05-14T22:28:34.442Z"
   },
   {
    "duration": 26,
    "start_time": "2022-05-14T22:28:34.454Z"
   },
   {
    "duration": 21,
    "start_time": "2022-05-14T22:28:34.482Z"
   },
   {
    "duration": 298,
    "start_time": "2022-05-14T22:28:34.505Z"
   },
   {
    "duration": 10,
    "start_time": "2022-05-14T22:28:34.804Z"
   },
   {
    "duration": 14,
    "start_time": "2022-05-14T22:28:34.816Z"
   },
   {
    "duration": 20,
    "start_time": "2022-05-14T22:28:34.831Z"
   },
   {
    "duration": 27,
    "start_time": "2022-05-14T22:28:34.853Z"
   },
   {
    "duration": 19,
    "start_time": "2022-05-14T22:28:34.882Z"
   },
   {
    "duration": 18,
    "start_time": "2022-05-14T22:28:34.902Z"
   },
   {
    "duration": 20,
    "start_time": "2022-05-14T22:28:34.923Z"
   },
   {
    "duration": 33,
    "start_time": "2022-05-14T22:28:34.944Z"
   },
   {
    "duration": 20,
    "start_time": "2022-05-14T22:28:34.979Z"
   },
   {
    "duration": 21,
    "start_time": "2022-05-14T22:28:35.001Z"
   },
   {
    "duration": 17,
    "start_time": "2022-05-14T22:28:35.023Z"
   },
   {
    "duration": 23,
    "start_time": "2022-05-14T22:28:35.042Z"
   },
   {
    "duration": 17,
    "start_time": "2022-05-14T22:28:35.067Z"
   },
   {
    "duration": 28,
    "start_time": "2022-05-14T22:28:35.086Z"
   },
   {
    "duration": 33,
    "start_time": "2022-05-14T22:28:35.116Z"
   },
   {
    "duration": 53,
    "start_time": "2022-05-14T22:28:35.151Z"
   },
   {
    "duration": 22,
    "start_time": "2022-05-14T22:28:35.206Z"
   },
   {
    "duration": 17,
    "start_time": "2022-05-14T22:28:35.230Z"
   },
   {
    "duration": 10,
    "start_time": "2022-05-14T22:28:35.251Z"
   },
   {
    "duration": 14,
    "start_time": "2022-05-14T22:28:35.263Z"
   },
   {
    "duration": 14,
    "start_time": "2022-05-14T22:28:35.279Z"
   },
   {
    "duration": 16,
    "start_time": "2022-05-14T22:28:35.295Z"
   },
   {
    "duration": 13,
    "start_time": "2022-05-14T22:28:35.312Z"
   },
   {
    "duration": 14,
    "start_time": "2022-05-14T22:28:35.326Z"
   },
   {
    "duration": 21,
    "start_time": "2022-05-14T22:28:35.341Z"
   },
   {
    "duration": 19,
    "start_time": "2022-05-14T22:28:35.364Z"
   },
   {
    "duration": 27,
    "start_time": "2022-05-14T22:28:35.384Z"
   },
   {
    "duration": 27,
    "start_time": "2022-05-14T22:28:35.412Z"
   },
   {
    "duration": 29,
    "start_time": "2022-05-14T22:28:35.441Z"
   },
   {
    "duration": 8,
    "start_time": "2022-05-14T22:28:35.472Z"
   },
   {
    "duration": 21,
    "start_time": "2022-05-14T22:28:35.481Z"
   },
   {
    "duration": 14,
    "start_time": "2022-05-14T22:31:15.555Z"
   },
   {
    "duration": 550,
    "start_time": "2022-05-14T22:31:16.255Z"
   },
   {
    "duration": 1773,
    "start_time": "2022-05-14T22:31:26.039Z"
   },
   {
    "duration": 41,
    "start_time": "2022-05-14T22:31:27.814Z"
   },
   {
    "duration": 66,
    "start_time": "2022-05-14T22:31:27.857Z"
   },
   {
    "duration": 4,
    "start_time": "2022-05-14T22:31:27.926Z"
   },
   {
    "duration": 6,
    "start_time": "2022-05-14T22:31:27.932Z"
   },
   {
    "duration": 6,
    "start_time": "2022-05-14T22:31:27.940Z"
   },
   {
    "duration": 7,
    "start_time": "2022-05-14T22:31:27.947Z"
   },
   {
    "duration": 8,
    "start_time": "2022-05-14T22:31:27.956Z"
   },
   {
    "duration": 579,
    "start_time": "2022-05-14T22:31:27.965Z"
   },
   {
    "duration": 3,
    "start_time": "2022-05-14T22:31:28.547Z"
   },
   {
    "duration": 7,
    "start_time": "2022-05-14T22:31:28.552Z"
   },
   {
    "duration": 451,
    "start_time": "2022-05-14T22:31:28.561Z"
   },
   {
    "duration": 12,
    "start_time": "2022-05-14T22:31:29.022Z"
   },
   {
    "duration": 9,
    "start_time": "2022-05-14T22:31:29.035Z"
   },
   {
    "duration": 16,
    "start_time": "2022-05-14T22:31:29.046Z"
   },
   {
    "duration": 238,
    "start_time": "2022-05-14T22:31:29.064Z"
   },
   {
    "duration": 34,
    "start_time": "2022-05-14T22:31:29.303Z"
   },
   {
    "duration": 630,
    "start_time": "2022-05-14T22:31:29.339Z"
   },
   {
    "duration": 10,
    "start_time": "2022-05-14T22:31:29.971Z"
   },
   {
    "duration": 9,
    "start_time": "2022-05-14T22:31:29.983Z"
   },
   {
    "duration": 38,
    "start_time": "2022-05-14T22:31:29.994Z"
   },
   {
    "duration": 533,
    "start_time": "2022-05-14T22:31:30.034Z"
   },
   {
    "duration": 9,
    "start_time": "2022-05-14T22:31:30.569Z"
   },
   {
    "duration": 26,
    "start_time": "2022-05-14T22:31:30.580Z"
   },
   {
    "duration": 21,
    "start_time": "2022-05-14T22:31:30.608Z"
   },
   {
    "duration": 36,
    "start_time": "2022-05-14T22:31:30.631Z"
   },
   {
    "duration": 12,
    "start_time": "2022-05-14T22:31:30.669Z"
   },
   {
    "duration": 17,
    "start_time": "2022-05-14T22:31:30.686Z"
   },
   {
    "duration": 15,
    "start_time": "2022-05-14T22:31:30.704Z"
   },
   {
    "duration": 27,
    "start_time": "2022-05-14T22:31:30.722Z"
   },
   {
    "duration": 4,
    "start_time": "2022-05-14T22:31:30.751Z"
   },
   {
    "duration": 27,
    "start_time": "2022-05-14T22:31:30.757Z"
   },
   {
    "duration": 23,
    "start_time": "2022-05-14T22:31:30.785Z"
   },
   {
    "duration": 8,
    "start_time": "2022-05-14T22:31:30.810Z"
   },
   {
    "duration": 17,
    "start_time": "2022-05-14T22:31:30.820Z"
   },
   {
    "duration": 14,
    "start_time": "2022-05-14T22:31:30.839Z"
   },
   {
    "duration": 20,
    "start_time": "2022-05-14T22:31:30.855Z"
   },
   {
    "duration": 18,
    "start_time": "2022-05-14T22:31:30.877Z"
   },
   {
    "duration": 27,
    "start_time": "2022-05-14T22:31:30.897Z"
   },
   {
    "duration": 6,
    "start_time": "2022-05-14T22:31:30.926Z"
   },
   {
    "duration": 18,
    "start_time": "2022-05-14T22:31:30.933Z"
   },
   {
    "duration": 21,
    "start_time": "2022-05-14T22:31:30.952Z"
   },
   {
    "duration": 26,
    "start_time": "2022-05-14T22:31:30.975Z"
   },
   {
    "duration": 10,
    "start_time": "2022-05-14T22:31:31.003Z"
   },
   {
    "duration": 14,
    "start_time": "2022-05-14T22:31:31.014Z"
   },
   {
    "duration": 16,
    "start_time": "2022-05-14T22:31:31.030Z"
   },
   {
    "duration": 16,
    "start_time": "2022-05-14T22:31:31.048Z"
   },
   {
    "duration": 13,
    "start_time": "2022-05-14T22:31:31.066Z"
   },
   {
    "duration": 149,
    "start_time": "2022-05-14T22:31:31.081Z"
   },
   {
    "duration": 92,
    "start_time": "2022-05-14T22:31:31.232Z"
   },
   {
    "duration": 201,
    "start_time": "2022-05-14T22:31:31.326Z"
   },
   {
    "duration": 94,
    "start_time": "2022-05-14T22:31:31.530Z"
   },
   {
    "duration": 6,
    "start_time": "2022-05-14T22:31:31.627Z"
   },
   {
    "duration": 13,
    "start_time": "2022-05-14T22:32:27.554Z"
   },
   {
    "duration": 14,
    "start_time": "2022-05-14T22:35:08.371Z"
   },
   {
    "duration": 13,
    "start_time": "2022-05-14T22:35:13.062Z"
   },
   {
    "duration": 8,
    "start_time": "2022-05-14T22:35:21.567Z"
   },
   {
    "duration": 13,
    "start_time": "2022-05-14T22:35:22.908Z"
   },
   {
    "duration": 13,
    "start_time": "2022-05-14T22:35:49.609Z"
   },
   {
    "duration": 4,
    "start_time": "2022-05-14T22:36:14.283Z"
   },
   {
    "duration": 8,
    "start_time": "2022-05-14T22:36:23.604Z"
   },
   {
    "duration": 12,
    "start_time": "2022-05-14T22:36:24.443Z"
   },
   {
    "duration": 13,
    "start_time": "2022-05-14T22:36:25.758Z"
   },
   {
    "duration": 4,
    "start_time": "2022-05-14T22:36:27.127Z"
   },
   {
    "duration": 9,
    "start_time": "2022-05-14T22:36:37.883Z"
   },
   {
    "duration": 4,
    "start_time": "2022-05-14T22:36:55.231Z"
   },
   {
    "duration": 5,
    "start_time": "2022-05-14T22:37:01.160Z"
   },
   {
    "duration": 5,
    "start_time": "2022-05-14T22:37:22.971Z"
   },
   {
    "duration": 4,
    "start_time": "2022-05-14T22:37:23.981Z"
   },
   {
    "duration": 12,
    "start_time": "2022-05-14T22:37:45.537Z"
   },
   {
    "duration": 12,
    "start_time": "2022-05-14T22:37:46.203Z"
   },
   {
    "duration": 4,
    "start_time": "2022-05-14T22:37:47.462Z"
   },
   {
    "duration": 6,
    "start_time": "2022-05-14T22:37:50.562Z"
   },
   {
    "duration": 4,
    "start_time": "2022-05-14T22:37:51.322Z"
   },
   {
    "duration": 4,
    "start_time": "2022-05-14T22:37:52.761Z"
   },
   {
    "duration": 3,
    "start_time": "2022-05-14T22:37:59.503Z"
   },
   {
    "duration": 17,
    "start_time": "2022-05-14T22:38:03.023Z"
   },
   {
    "duration": 12,
    "start_time": "2022-05-14T22:38:37.564Z"
   },
   {
    "duration": 3,
    "start_time": "2022-05-14T22:38:40.606Z"
   },
   {
    "duration": 139,
    "start_time": "2022-05-14T22:38:42.885Z"
   },
   {
    "duration": 4,
    "start_time": "2022-05-14T22:38:57.463Z"
   },
   {
    "duration": 4,
    "start_time": "2022-05-14T22:38:58.850Z"
   },
   {
    "duration": 1806,
    "start_time": "2022-05-14T22:39:40.176Z"
   },
   {
    "duration": 48,
    "start_time": "2022-05-14T22:39:41.984Z"
   },
   {
    "duration": 37,
    "start_time": "2022-05-14T22:39:42.034Z"
   },
   {
    "duration": 3,
    "start_time": "2022-05-14T22:39:42.073Z"
   },
   {
    "duration": 7,
    "start_time": "2022-05-14T22:39:42.077Z"
   },
   {
    "duration": 39,
    "start_time": "2022-05-14T22:39:42.085Z"
   },
   {
    "duration": 6,
    "start_time": "2022-05-14T22:39:42.125Z"
   },
   {
    "duration": 9,
    "start_time": "2022-05-14T22:39:42.133Z"
   },
   {
    "duration": 551,
    "start_time": "2022-05-14T22:39:42.144Z"
   },
   {
    "duration": 4,
    "start_time": "2022-05-14T22:39:42.698Z"
   },
   {
    "duration": 19,
    "start_time": "2022-05-14T22:39:42.703Z"
   },
   {
    "duration": 450,
    "start_time": "2022-05-14T22:39:42.724Z"
   },
   {
    "duration": 12,
    "start_time": "2022-05-14T22:39:43.176Z"
   },
   {
    "duration": 8,
    "start_time": "2022-05-14T22:39:43.190Z"
   },
   {
    "duration": 36,
    "start_time": "2022-05-14T22:39:43.200Z"
   },
   {
    "duration": 287,
    "start_time": "2022-05-14T22:39:43.238Z"
   },
   {
    "duration": 31,
    "start_time": "2022-05-14T22:39:43.528Z"
   },
   {
    "duration": 774,
    "start_time": "2022-05-14T22:39:43.561Z"
   },
   {
    "duration": 12,
    "start_time": "2022-05-14T22:39:44.338Z"
   },
   {
    "duration": 193,
    "start_time": "2022-05-14T22:39:44.352Z"
   },
   {
    "duration": 31,
    "start_time": "2022-05-14T22:39:44.548Z"
   },
   {
    "duration": 773,
    "start_time": "2022-05-14T22:39:44.582Z"
   },
   {
    "duration": 11,
    "start_time": "2022-05-14T22:39:45.357Z"
   },
   {
    "duration": 30,
    "start_time": "2022-05-14T22:39:45.370Z"
   },
   {
    "duration": 24,
    "start_time": "2022-05-14T22:39:45.402Z"
   },
   {
    "duration": 19,
    "start_time": "2022-05-14T22:39:45.429Z"
   },
   {
    "duration": 18,
    "start_time": "2022-05-14T22:39:45.450Z"
   },
   {
    "duration": 17,
    "start_time": "2022-05-14T22:39:45.474Z"
   },
   {
    "duration": 23,
    "start_time": "2022-05-14T22:39:45.522Z"
   },
   {
    "duration": 19,
    "start_time": "2022-05-14T22:39:45.547Z"
   },
   {
    "duration": 5,
    "start_time": "2022-05-14T22:39:45.568Z"
   },
   {
    "duration": 14,
    "start_time": "2022-05-14T22:39:45.575Z"
   },
   {
    "duration": 13,
    "start_time": "2022-05-14T22:39:45.624Z"
   },
   {
    "duration": 17,
    "start_time": "2022-05-14T22:39:45.639Z"
   },
   {
    "duration": 24,
    "start_time": "2022-05-14T22:39:45.658Z"
   },
   {
    "duration": 52,
    "start_time": "2022-05-14T22:39:45.684Z"
   },
   {
    "duration": 30,
    "start_time": "2022-05-14T22:39:45.737Z"
   },
   {
    "duration": 19,
    "start_time": "2022-05-14T22:39:45.770Z"
   },
   {
    "duration": 8,
    "start_time": "2022-05-14T22:39:45.791Z"
   },
   {
    "duration": 24,
    "start_time": "2022-05-14T22:39:45.801Z"
   },
   {
    "duration": 6,
    "start_time": "2022-05-14T22:39:45.827Z"
   },
   {
    "duration": 15,
    "start_time": "2022-05-14T22:39:45.835Z"
   },
   {
    "duration": 19,
    "start_time": "2022-05-14T22:39:45.852Z"
   },
   {
    "duration": 19,
    "start_time": "2022-05-14T22:39:45.873Z"
   },
   {
    "duration": 30,
    "start_time": "2022-05-14T22:39:45.894Z"
   },
   {
    "duration": 11,
    "start_time": "2022-05-14T22:39:45.926Z"
   },
   {
    "duration": 17,
    "start_time": "2022-05-14T22:39:45.939Z"
   },
   {
    "duration": 17,
    "start_time": "2022-05-14T22:39:45.958Z"
   },
   {
    "duration": 15,
    "start_time": "2022-05-14T22:39:45.977Z"
   },
   {
    "duration": 140,
    "start_time": "2022-05-14T22:39:45.994Z"
   },
   {
    "duration": 4,
    "start_time": "2022-05-14T22:39:46.224Z"
   },
   {
    "duration": 294,
    "start_time": "2022-05-14T22:39:46.231Z"
   },
   {
    "duration": 90,
    "start_time": "2022-05-14T22:39:46.536Z"
   },
   {
    "duration": 135,
    "start_time": "2022-05-14T22:39:46.629Z"
   },
   {
    "duration": 0,
    "start_time": "2022-05-14T22:47:31.756Z"
   },
   {
    "duration": 0,
    "start_time": "2022-05-14T22:47:31.758Z"
   },
   {
    "duration": 0,
    "start_time": "2022-05-14T22:47:31.759Z"
   },
   {
    "duration": 0,
    "start_time": "2022-05-14T22:47:31.760Z"
   },
   {
    "duration": 0,
    "start_time": "2022-05-14T22:47:31.762Z"
   },
   {
    "duration": 0,
    "start_time": "2022-05-14T22:47:31.763Z"
   },
   {
    "duration": 0,
    "start_time": "2022-05-14T22:47:31.764Z"
   },
   {
    "duration": 0,
    "start_time": "2022-05-14T22:47:31.765Z"
   },
   {
    "duration": 0,
    "start_time": "2022-05-14T22:47:31.823Z"
   },
   {
    "duration": 0,
    "start_time": "2022-05-14T22:47:31.824Z"
   },
   {
    "duration": 0,
    "start_time": "2022-05-14T22:47:31.826Z"
   },
   {
    "duration": 0,
    "start_time": "2022-05-14T22:47:31.827Z"
   },
   {
    "duration": 1,
    "start_time": "2022-05-14T22:47:31.827Z"
   },
   {
    "duration": 0,
    "start_time": "2022-05-14T22:47:31.829Z"
   },
   {
    "duration": 0,
    "start_time": "2022-05-14T22:47:31.830Z"
   },
   {
    "duration": 0,
    "start_time": "2022-05-14T22:47:31.831Z"
   },
   {
    "duration": 0,
    "start_time": "2022-05-14T22:47:31.832Z"
   },
   {
    "duration": 1,
    "start_time": "2022-05-14T22:47:31.833Z"
   },
   {
    "duration": 0,
    "start_time": "2022-05-14T22:47:31.835Z"
   },
   {
    "duration": 0,
    "start_time": "2022-05-14T22:47:31.835Z"
   },
   {
    "duration": 0,
    "start_time": "2022-05-14T22:47:31.836Z"
   },
   {
    "duration": 0,
    "start_time": "2022-05-14T22:47:31.837Z"
   },
   {
    "duration": 0,
    "start_time": "2022-05-14T22:47:31.839Z"
   },
   {
    "duration": 0,
    "start_time": "2022-05-14T22:47:31.840Z"
   },
   {
    "duration": 0,
    "start_time": "2022-05-14T22:47:31.841Z"
   },
   {
    "duration": 0,
    "start_time": "2022-05-14T22:47:31.842Z"
   },
   {
    "duration": 0,
    "start_time": "2022-05-14T22:47:31.843Z"
   },
   {
    "duration": 0,
    "start_time": "2022-05-14T22:47:31.844Z"
   },
   {
    "duration": 0,
    "start_time": "2022-05-14T22:47:31.845Z"
   },
   {
    "duration": 0,
    "start_time": "2022-05-14T22:47:31.846Z"
   },
   {
    "duration": 0,
    "start_time": "2022-05-14T22:47:31.847Z"
   },
   {
    "duration": 0,
    "start_time": "2022-05-14T22:47:31.848Z"
   },
   {
    "duration": 0,
    "start_time": "2022-05-14T22:47:31.849Z"
   },
   {
    "duration": 0,
    "start_time": "2022-05-14T22:47:31.850Z"
   },
   {
    "duration": 0,
    "start_time": "2022-05-14T22:47:31.851Z"
   },
   {
    "duration": 0,
    "start_time": "2022-05-14T22:47:31.852Z"
   },
   {
    "duration": 0,
    "start_time": "2022-05-14T22:47:31.853Z"
   },
   {
    "duration": 0,
    "start_time": "2022-05-14T22:47:31.854Z"
   },
   {
    "duration": 0,
    "start_time": "2022-05-14T22:47:31.855Z"
   },
   {
    "duration": 0,
    "start_time": "2022-05-14T22:47:31.856Z"
   },
   {
    "duration": 0,
    "start_time": "2022-05-14T22:47:31.857Z"
   },
   {
    "duration": 0,
    "start_time": "2022-05-14T22:47:31.859Z"
   },
   {
    "duration": 1,
    "start_time": "2022-05-14T22:47:31.859Z"
   },
   {
    "duration": 0,
    "start_time": "2022-05-14T22:47:31.861Z"
   },
   {
    "duration": 0,
    "start_time": "2022-05-14T22:47:31.922Z"
   },
   {
    "duration": 2393,
    "start_time": "2022-05-14T22:47:49.561Z"
   },
   {
    "duration": 39,
    "start_time": "2022-05-14T22:47:51.956Z"
   },
   {
    "duration": 46,
    "start_time": "2022-05-14T22:47:51.997Z"
   },
   {
    "duration": 3,
    "start_time": "2022-05-14T22:47:52.045Z"
   },
   {
    "duration": 7,
    "start_time": "2022-05-14T22:47:52.050Z"
   },
   {
    "duration": 5,
    "start_time": "2022-05-14T22:47:52.059Z"
   },
   {
    "duration": 6,
    "start_time": "2022-05-14T22:47:52.066Z"
   },
   {
    "duration": 8,
    "start_time": "2022-05-14T22:47:52.074Z"
   },
   {
    "duration": 554,
    "start_time": "2022-05-14T22:47:52.123Z"
   },
   {
    "duration": 3,
    "start_time": "2022-05-14T22:47:52.680Z"
   },
   {
    "duration": 8,
    "start_time": "2022-05-14T22:47:52.685Z"
   },
   {
    "duration": 452,
    "start_time": "2022-05-14T22:47:52.695Z"
   },
   {
    "duration": 13,
    "start_time": "2022-05-14T22:47:53.148Z"
   },
   {
    "duration": 8,
    "start_time": "2022-05-14T22:47:53.162Z"
   },
   {
    "duration": 15,
    "start_time": "2022-05-14T22:47:53.172Z"
   },
   {
    "duration": 247,
    "start_time": "2022-05-14T22:47:53.189Z"
   },
   {
    "duration": 30,
    "start_time": "2022-05-14T22:47:53.437Z"
   },
   {
    "duration": 631,
    "start_time": "2022-05-14T22:47:53.469Z"
   },
   {
    "duration": 10,
    "start_time": "2022-05-14T22:47:54.101Z"
   },
   {
    "duration": 9,
    "start_time": "2022-05-14T22:47:54.123Z"
   },
   {
    "duration": 13,
    "start_time": "2022-05-14T22:47:54.133Z"
   },
   {
    "duration": 531,
    "start_time": "2022-05-14T22:47:54.148Z"
   },
   {
    "duration": 9,
    "start_time": "2022-05-14T22:47:54.681Z"
   },
   {
    "duration": 9,
    "start_time": "2022-05-14T22:47:54.691Z"
   },
   {
    "duration": 21,
    "start_time": "2022-05-14T22:47:54.702Z"
   },
   {
    "duration": 16,
    "start_time": "2022-05-14T22:47:54.725Z"
   },
   {
    "duration": 10,
    "start_time": "2022-05-14T22:47:54.743Z"
   },
   {
    "duration": 10,
    "start_time": "2022-05-14T22:47:54.757Z"
   },
   {
    "duration": 14,
    "start_time": "2022-05-14T22:47:54.769Z"
   },
   {
    "duration": 47,
    "start_time": "2022-05-14T22:47:54.784Z"
   },
   {
    "duration": 5,
    "start_time": "2022-05-14T22:47:54.832Z"
   },
   {
    "duration": 11,
    "start_time": "2022-05-14T22:47:54.838Z"
   },
   {
    "duration": 10,
    "start_time": "2022-05-14T22:47:54.851Z"
   },
   {
    "duration": 10,
    "start_time": "2022-05-14T22:47:54.863Z"
   },
   {
    "duration": 49,
    "start_time": "2022-05-14T22:47:54.874Z"
   },
   {
    "duration": 121,
    "start_time": "2022-05-14T22:47:54.924Z"
   },
   {
    "duration": 0,
    "start_time": "2022-05-14T22:47:55.047Z"
   },
   {
    "duration": 0,
    "start_time": "2022-05-14T22:47:55.048Z"
   },
   {
    "duration": 0,
    "start_time": "2022-05-14T22:47:55.049Z"
   },
   {
    "duration": 0,
    "start_time": "2022-05-14T22:47:55.050Z"
   },
   {
    "duration": 0,
    "start_time": "2022-05-14T22:47:55.051Z"
   },
   {
    "duration": 0,
    "start_time": "2022-05-14T22:47:55.052Z"
   },
   {
    "duration": 0,
    "start_time": "2022-05-14T22:47:55.053Z"
   },
   {
    "duration": 0,
    "start_time": "2022-05-14T22:47:55.054Z"
   },
   {
    "duration": 0,
    "start_time": "2022-05-14T22:47:55.054Z"
   },
   {
    "duration": 19,
    "start_time": "2022-05-14T22:48:41.130Z"
   },
   {
    "duration": 15,
    "start_time": "2022-05-14T22:48:57.452Z"
   },
   {
    "duration": 4,
    "start_time": "2022-05-14T22:49:12.995Z"
   },
   {
    "duration": 5,
    "start_time": "2022-05-14T22:49:15.178Z"
   },
   {
    "duration": 4,
    "start_time": "2022-05-14T22:49:16.414Z"
   },
   {
    "duration": 6,
    "start_time": "2022-05-14T22:49:42.264Z"
   },
   {
    "duration": 3,
    "start_time": "2022-05-14T22:49:44.141Z"
   },
   {
    "duration": 4,
    "start_time": "2022-05-14T22:50:13.139Z"
   },
   {
    "duration": 4,
    "start_time": "2022-05-14T22:50:14.186Z"
   },
   {
    "duration": 5,
    "start_time": "2022-05-14T22:51:08.645Z"
   },
   {
    "duration": 4,
    "start_time": "2022-05-14T22:51:09.355Z"
   },
   {
    "duration": 4,
    "start_time": "2022-05-14T22:51:18.778Z"
   },
   {
    "duration": 2,
    "start_time": "2022-05-14T22:51:23.657Z"
   },
   {
    "duration": 78,
    "start_time": "2022-05-14T22:51:24.444Z"
   },
   {
    "duration": 3,
    "start_time": "2022-05-14T22:51:26.134Z"
   },
   {
    "duration": 120,
    "start_time": "2022-05-14T22:51:28.910Z"
   },
   {
    "duration": 5,
    "start_time": "2022-05-14T22:51:32.970Z"
   },
   {
    "duration": 4,
    "start_time": "2022-05-14T22:51:33.697Z"
   },
   {
    "duration": 7,
    "start_time": "2022-05-14T22:51:43.394Z"
   },
   {
    "duration": 7,
    "start_time": "2022-05-14T22:53:35.493Z"
   },
   {
    "duration": 1888,
    "start_time": "2022-05-14T22:54:32.267Z"
   },
   {
    "duration": 40,
    "start_time": "2022-05-14T22:54:34.157Z"
   },
   {
    "duration": 40,
    "start_time": "2022-05-14T22:54:34.198Z"
   },
   {
    "duration": 4,
    "start_time": "2022-05-14T22:54:34.240Z"
   },
   {
    "duration": 7,
    "start_time": "2022-05-14T22:54:34.245Z"
   },
   {
    "duration": 6,
    "start_time": "2022-05-14T22:54:34.253Z"
   },
   {
    "duration": 10,
    "start_time": "2022-05-14T22:54:34.261Z"
   },
   {
    "duration": 9,
    "start_time": "2022-05-14T22:54:34.272Z"
   },
   {
    "duration": 569,
    "start_time": "2022-05-14T22:54:34.283Z"
   },
   {
    "duration": 3,
    "start_time": "2022-05-14T22:54:34.855Z"
   },
   {
    "duration": 7,
    "start_time": "2022-05-14T22:54:34.860Z"
   },
   {
    "duration": 443,
    "start_time": "2022-05-14T22:54:34.869Z"
   },
   {
    "duration": 16,
    "start_time": "2022-05-14T22:54:35.314Z"
   },
   {
    "duration": 9,
    "start_time": "2022-05-14T22:54:35.331Z"
   },
   {
    "duration": 18,
    "start_time": "2022-05-14T22:54:35.341Z"
   },
   {
    "duration": 236,
    "start_time": "2022-05-14T22:54:35.360Z"
   },
   {
    "duration": 34,
    "start_time": "2022-05-14T22:54:35.598Z"
   },
   {
    "duration": 602,
    "start_time": "2022-05-14T22:54:35.634Z"
   },
   {
    "duration": 9,
    "start_time": "2022-05-14T22:54:36.238Z"
   },
   {
    "duration": 11,
    "start_time": "2022-05-14T22:54:36.249Z"
   },
   {
    "duration": 14,
    "start_time": "2022-05-14T22:54:36.262Z"
   },
   {
    "duration": 546,
    "start_time": "2022-05-14T22:54:36.277Z"
   },
   {
    "duration": 9,
    "start_time": "2022-05-14T22:54:36.825Z"
   },
   {
    "duration": 10,
    "start_time": "2022-05-14T22:54:36.836Z"
   },
   {
    "duration": 11,
    "start_time": "2022-05-14T22:54:36.848Z"
   },
   {
    "duration": 20,
    "start_time": "2022-05-14T22:54:36.860Z"
   },
   {
    "duration": 11,
    "start_time": "2022-05-14T22:54:36.882Z"
   },
   {
    "duration": 12,
    "start_time": "2022-05-14T22:54:36.925Z"
   },
   {
    "duration": 14,
    "start_time": "2022-05-14T22:54:36.939Z"
   },
   {
    "duration": 14,
    "start_time": "2022-05-14T22:54:36.955Z"
   },
   {
    "duration": 4,
    "start_time": "2022-05-14T22:54:36.970Z"
   },
   {
    "duration": 47,
    "start_time": "2022-05-14T22:54:36.976Z"
   },
   {
    "duration": 14,
    "start_time": "2022-05-14T22:54:37.024Z"
   },
   {
    "duration": 11,
    "start_time": "2022-05-14T22:54:37.040Z"
   },
   {
    "duration": 16,
    "start_time": "2022-05-14T22:54:37.053Z"
   },
   {
    "duration": 16,
    "start_time": "2022-05-14T22:54:37.071Z"
   },
   {
    "duration": 4,
    "start_time": "2022-05-14T22:54:37.089Z"
   },
   {
    "duration": 32,
    "start_time": "2022-05-14T22:54:37.094Z"
   },
   {
    "duration": 6,
    "start_time": "2022-05-14T22:54:37.127Z"
   },
   {
    "duration": 9,
    "start_time": "2022-05-14T22:54:37.134Z"
   },
   {
    "duration": 7,
    "start_time": "2022-05-14T22:54:37.145Z"
   },
   {
    "duration": 7,
    "start_time": "2022-05-14T22:54:37.154Z"
   },
   {
    "duration": 7,
    "start_time": "2022-05-14T22:54:37.163Z"
   },
   {
    "duration": 150,
    "start_time": "2022-05-14T22:54:37.172Z"
   },
   {
    "duration": 205,
    "start_time": "2022-05-14T22:54:37.324Z"
   },
   {
    "duration": 92,
    "start_time": "2022-05-14T22:54:37.532Z"
   },
   {
    "duration": 107,
    "start_time": "2022-05-14T22:54:37.627Z"
   },
   {
    "duration": 1832,
    "start_time": "2022-05-14T22:55:08.495Z"
   },
   {
    "duration": 42,
    "start_time": "2022-05-14T22:55:10.330Z"
   },
   {
    "duration": 52,
    "start_time": "2022-05-14T22:55:10.374Z"
   },
   {
    "duration": 4,
    "start_time": "2022-05-14T22:55:10.428Z"
   },
   {
    "duration": 29,
    "start_time": "2022-05-14T22:55:10.434Z"
   },
   {
    "duration": 17,
    "start_time": "2022-05-14T22:55:10.465Z"
   },
   {
    "duration": 20,
    "start_time": "2022-05-14T22:55:10.484Z"
   },
   {
    "duration": 15,
    "start_time": "2022-05-14T22:55:10.506Z"
   },
   {
    "duration": 565,
    "start_time": "2022-05-14T22:55:10.523Z"
   },
   {
    "duration": 4,
    "start_time": "2022-05-14T22:55:11.091Z"
   },
   {
    "duration": 18,
    "start_time": "2022-05-14T22:55:11.097Z"
   },
   {
    "duration": 456,
    "start_time": "2022-05-14T22:55:11.117Z"
   },
   {
    "duration": 13,
    "start_time": "2022-05-14T22:55:11.574Z"
   },
   {
    "duration": 10,
    "start_time": "2022-05-14T22:55:11.589Z"
   },
   {
    "duration": 34,
    "start_time": "2022-05-14T22:55:11.600Z"
   },
   {
    "duration": 218,
    "start_time": "2022-05-14T22:55:11.636Z"
   },
   {
    "duration": 31,
    "start_time": "2022-05-14T22:55:11.856Z"
   },
   {
    "duration": 610,
    "start_time": "2022-05-14T22:55:11.889Z"
   },
   {
    "duration": 29,
    "start_time": "2022-05-14T22:55:12.501Z"
   },
   {
    "duration": 10,
    "start_time": "2022-05-14T22:55:12.531Z"
   },
   {
    "duration": 14,
    "start_time": "2022-05-14T22:55:12.543Z"
   },
   {
    "duration": 1112,
    "start_time": "2022-05-14T22:55:12.559Z"
   },
   {
    "duration": 56,
    "start_time": "2022-05-14T22:55:13.673Z"
   },
   {
    "duration": 15,
    "start_time": "2022-05-14T22:55:13.731Z"
   },
   {
    "duration": 15,
    "start_time": "2022-05-14T22:55:13.748Z"
   },
   {
    "duration": 71,
    "start_time": "2022-05-14T22:55:13.765Z"
   },
   {
    "duration": 13,
    "start_time": "2022-05-14T22:55:13.837Z"
   },
   {
    "duration": 12,
    "start_time": "2022-05-14T22:55:13.854Z"
   },
   {
    "duration": 17,
    "start_time": "2022-05-14T22:55:13.923Z"
   },
   {
    "duration": 14,
    "start_time": "2022-05-14T22:55:13.941Z"
   },
   {
    "duration": 4,
    "start_time": "2022-05-14T22:55:13.957Z"
   },
   {
    "duration": 69,
    "start_time": "2022-05-14T22:55:13.963Z"
   },
   {
    "duration": 17,
    "start_time": "2022-05-14T22:55:14.034Z"
   },
   {
    "duration": 13,
    "start_time": "2022-05-14T22:55:14.053Z"
   },
   {
    "duration": 69,
    "start_time": "2022-05-14T22:55:14.068Z"
   },
   {
    "duration": 17,
    "start_time": "2022-05-14T22:55:14.139Z"
   },
   {
    "duration": 4,
    "start_time": "2022-05-14T22:55:14.158Z"
   },
   {
    "duration": 60,
    "start_time": "2022-05-14T22:55:14.164Z"
   },
   {
    "duration": 7,
    "start_time": "2022-05-14T22:55:14.226Z"
   },
   {
    "duration": 6,
    "start_time": "2022-05-14T22:55:14.235Z"
   },
   {
    "duration": 9,
    "start_time": "2022-05-14T22:55:14.243Z"
   },
   {
    "duration": 7,
    "start_time": "2022-05-14T22:55:14.254Z"
   },
   {
    "duration": 5,
    "start_time": "2022-05-14T22:55:14.263Z"
   },
   {
    "duration": 152,
    "start_time": "2022-05-14T22:55:14.270Z"
   },
   {
    "duration": 405,
    "start_time": "2022-05-14T22:55:14.425Z"
   },
   {
    "duration": 8,
    "start_time": "2022-05-14T22:55:14.923Z"
   },
   {
    "duration": 94,
    "start_time": "2022-05-14T22:55:14.933Z"
   },
   {
    "duration": 1752,
    "start_time": "2022-05-14T22:56:30.964Z"
   },
   {
    "duration": 38,
    "start_time": "2022-05-14T22:56:32.718Z"
   },
   {
    "duration": 40,
    "start_time": "2022-05-14T22:56:32.758Z"
   },
   {
    "duration": 4,
    "start_time": "2022-05-14T22:56:32.799Z"
   },
   {
    "duration": 5,
    "start_time": "2022-05-14T22:56:32.824Z"
   },
   {
    "duration": 6,
    "start_time": "2022-05-14T22:56:32.830Z"
   },
   {
    "duration": 6,
    "start_time": "2022-05-14T22:56:32.838Z"
   },
   {
    "duration": 10,
    "start_time": "2022-05-14T22:56:32.845Z"
   },
   {
    "duration": 597,
    "start_time": "2022-05-14T22:56:32.857Z"
   },
   {
    "duration": 3,
    "start_time": "2022-05-14T22:56:33.457Z"
   },
   {
    "duration": 7,
    "start_time": "2022-05-14T22:56:33.462Z"
   },
   {
    "duration": 452,
    "start_time": "2022-05-14T22:56:33.471Z"
   },
   {
    "duration": 14,
    "start_time": "2022-05-14T22:56:33.925Z"
   },
   {
    "duration": 9,
    "start_time": "2022-05-14T22:56:33.943Z"
   },
   {
    "duration": 16,
    "start_time": "2022-05-14T22:56:33.954Z"
   },
   {
    "duration": 244,
    "start_time": "2022-05-14T22:56:33.971Z"
   },
   {
    "duration": 32,
    "start_time": "2022-05-14T22:56:34.218Z"
   },
   {
    "duration": 625,
    "start_time": "2022-05-14T22:56:34.251Z"
   },
   {
    "duration": 9,
    "start_time": "2022-05-14T22:56:34.878Z"
   },
   {
    "duration": 11,
    "start_time": "2022-05-14T22:56:34.889Z"
   },
   {
    "duration": 28,
    "start_time": "2022-05-14T22:56:34.902Z"
   },
   {
    "duration": 1027,
    "start_time": "2022-05-14T22:56:34.932Z"
   },
   {
    "duration": 9,
    "start_time": "2022-05-14T22:56:35.961Z"
   },
   {
    "duration": 56,
    "start_time": "2022-05-14T22:56:35.972Z"
   },
   {
    "duration": 14,
    "start_time": "2022-05-14T22:56:36.029Z"
   },
   {
    "duration": 18,
    "start_time": "2022-05-14T22:56:36.044Z"
   },
   {
    "duration": 69,
    "start_time": "2022-05-14T22:56:36.064Z"
   },
   {
    "duration": 12,
    "start_time": "2022-05-14T22:56:36.135Z"
   },
   {
    "duration": 72,
    "start_time": "2022-05-14T22:56:36.149Z"
   },
   {
    "duration": 12,
    "start_time": "2022-05-14T22:56:36.224Z"
   },
   {
    "duration": 4,
    "start_time": "2022-05-14T22:56:36.238Z"
   },
   {
    "duration": 12,
    "start_time": "2022-05-14T22:56:36.243Z"
   },
   {
    "duration": 67,
    "start_time": "2022-05-14T22:56:36.256Z"
   },
   {
    "duration": 11,
    "start_time": "2022-05-14T22:56:36.325Z"
   },
   {
    "duration": 15,
    "start_time": "2022-05-14T22:56:36.338Z"
   },
   {
    "duration": 70,
    "start_time": "2022-05-14T22:56:36.354Z"
   },
   {
    "duration": 4,
    "start_time": "2022-05-14T22:56:36.425Z"
   },
   {
    "duration": 8,
    "start_time": "2022-05-14T22:56:36.431Z"
   },
   {
    "duration": 7,
    "start_time": "2022-05-14T22:56:36.441Z"
   },
   {
    "duration": 6,
    "start_time": "2022-05-14T22:56:36.450Z"
   },
   {
    "duration": 3,
    "start_time": "2022-05-14T22:56:36.461Z"
   },
   {
    "duration": 7,
    "start_time": "2022-05-14T22:56:36.466Z"
   },
   {
    "duration": 4,
    "start_time": "2022-05-14T22:56:36.523Z"
   },
   {
    "duration": 97,
    "start_time": "2022-05-14T22:56:36.529Z"
   },
   {
    "duration": 302,
    "start_time": "2022-05-14T22:56:36.629Z"
   },
   {
    "duration": 99,
    "start_time": "2022-05-14T22:56:37.024Z"
   },
   {
    "duration": 7,
    "start_time": "2022-05-14T22:56:37.125Z"
   },
   {
    "duration": 1826,
    "start_time": "2022-05-14T23:00:17.856Z"
   },
   {
    "duration": 51,
    "start_time": "2022-05-14T23:00:19.684Z"
   },
   {
    "duration": 44,
    "start_time": "2022-05-14T23:00:19.737Z"
   },
   {
    "duration": 4,
    "start_time": "2022-05-14T23:00:19.783Z"
   },
   {
    "duration": 36,
    "start_time": "2022-05-14T23:00:19.788Z"
   },
   {
    "duration": 6,
    "start_time": "2022-05-14T23:00:19.827Z"
   },
   {
    "duration": 11,
    "start_time": "2022-05-14T23:00:19.835Z"
   },
   {
    "duration": 11,
    "start_time": "2022-05-14T23:00:19.848Z"
   },
   {
    "duration": 614,
    "start_time": "2022-05-14T23:00:19.861Z"
   },
   {
    "duration": 4,
    "start_time": "2022-05-14T23:00:20.479Z"
   },
   {
    "duration": 9,
    "start_time": "2022-05-14T23:00:20.484Z"
   },
   {
    "duration": 485,
    "start_time": "2022-05-14T23:00:20.495Z"
   },
   {
    "duration": 13,
    "start_time": "2022-05-14T23:00:20.982Z"
   },
   {
    "duration": 9,
    "start_time": "2022-05-14T23:00:20.997Z"
   },
   {
    "duration": 15,
    "start_time": "2022-05-14T23:00:21.024Z"
   },
   {
    "duration": 232,
    "start_time": "2022-05-14T23:00:21.041Z"
   },
   {
    "duration": 31,
    "start_time": "2022-05-14T23:00:21.275Z"
   },
   {
    "duration": 632,
    "start_time": "2022-05-14T23:00:21.308Z"
   },
   {
    "duration": 10,
    "start_time": "2022-05-14T23:00:21.942Z"
   },
   {
    "duration": 10,
    "start_time": "2022-05-14T23:00:21.954Z"
   },
   {
    "duration": 68,
    "start_time": "2022-05-14T23:00:21.965Z"
   },
   {
    "duration": 1128,
    "start_time": "2022-05-14T23:00:22.035Z"
   },
   {
    "duration": 9,
    "start_time": "2022-05-14T23:00:23.165Z"
   },
   {
    "duration": 48,
    "start_time": "2022-05-14T23:00:23.175Z"
   },
   {
    "duration": 12,
    "start_time": "2022-05-14T23:00:23.225Z"
   },
   {
    "duration": 21,
    "start_time": "2022-05-14T23:00:23.238Z"
   },
   {
    "duration": 65,
    "start_time": "2022-05-14T23:00:23.260Z"
   },
   {
    "duration": 12,
    "start_time": "2022-05-14T23:00:23.330Z"
   },
   {
    "duration": 17,
    "start_time": "2022-05-14T23:00:23.344Z"
   },
   {
    "duration": 68,
    "start_time": "2022-05-14T23:00:23.362Z"
   },
   {
    "duration": 5,
    "start_time": "2022-05-14T23:00:23.432Z"
   },
   {
    "duration": 12,
    "start_time": "2022-05-14T23:00:23.439Z"
   },
   {
    "duration": 12,
    "start_time": "2022-05-14T23:00:23.453Z"
   },
   {
    "duration": 8,
    "start_time": "2022-05-14T23:00:23.523Z"
   },
   {
    "duration": 13,
    "start_time": "2022-05-14T23:00:23.533Z"
   },
   {
    "duration": 14,
    "start_time": "2022-05-14T23:00:23.547Z"
   },
   {
    "duration": 71,
    "start_time": "2022-05-14T23:00:23.563Z"
   },
   {
    "duration": 4,
    "start_time": "2022-05-14T23:00:23.636Z"
   },
   {
    "duration": 5,
    "start_time": "2022-05-14T23:00:23.642Z"
   },
   {
    "duration": 8,
    "start_time": "2022-05-14T23:00:23.649Z"
   },
   {
    "duration": 8,
    "start_time": "2022-05-14T23:00:23.658Z"
   },
   {
    "duration": 54,
    "start_time": "2022-05-14T23:00:23.668Z"
   },
   {
    "duration": 4,
    "start_time": "2022-05-14T23:00:23.725Z"
   },
   {
    "duration": 4,
    "start_time": "2022-05-14T23:00:23.731Z"
   },
   {
    "duration": 186,
    "start_time": "2022-05-14T23:00:23.737Z"
   },
   {
    "duration": 498,
    "start_time": "2022-05-14T23:00:23.926Z"
   },
   {
    "duration": 99,
    "start_time": "2022-05-14T23:00:24.426Z"
   },
   {
    "duration": 8,
    "start_time": "2022-05-14T23:00:24.527Z"
   },
   {
    "duration": 1797,
    "start_time": "2022-05-14T23:01:50.810Z"
   },
   {
    "duration": 41,
    "start_time": "2022-05-14T23:01:52.609Z"
   },
   {
    "duration": 46,
    "start_time": "2022-05-14T23:01:52.652Z"
   },
   {
    "duration": 5,
    "start_time": "2022-05-14T23:01:52.723Z"
   },
   {
    "duration": 5,
    "start_time": "2022-05-14T23:01:52.731Z"
   },
   {
    "duration": 5,
    "start_time": "2022-05-14T23:01:52.738Z"
   },
   {
    "duration": 7,
    "start_time": "2022-05-14T23:01:52.745Z"
   },
   {
    "duration": 8,
    "start_time": "2022-05-14T23:01:52.754Z"
   },
   {
    "duration": 576,
    "start_time": "2022-05-14T23:01:52.764Z"
   },
   {
    "duration": 4,
    "start_time": "2022-05-14T23:01:53.342Z"
   },
   {
    "duration": 8,
    "start_time": "2022-05-14T23:01:53.349Z"
   },
   {
    "duration": 454,
    "start_time": "2022-05-14T23:01:53.359Z"
   },
   {
    "duration": 14,
    "start_time": "2022-05-14T23:01:53.823Z"
   },
   {
    "duration": 9,
    "start_time": "2022-05-14T23:01:53.841Z"
   },
   {
    "duration": 15,
    "start_time": "2022-05-14T23:01:53.853Z"
   },
   {
    "duration": 242,
    "start_time": "2022-05-14T23:01:53.870Z"
   },
   {
    "duration": 35,
    "start_time": "2022-05-14T23:01:54.114Z"
   },
   {
    "duration": 795,
    "start_time": "2022-05-14T23:01:54.151Z"
   },
   {
    "duration": 9,
    "start_time": "2022-05-14T23:01:54.947Z"
   },
   {
    "duration": 13,
    "start_time": "2022-05-14T23:01:54.958Z"
   },
   {
    "duration": 13,
    "start_time": "2022-05-14T23:01:55.024Z"
   },
   {
    "duration": 1037,
    "start_time": "2022-05-14T23:01:55.038Z"
   },
   {
    "duration": 9,
    "start_time": "2022-05-14T23:01:56.122Z"
   },
   {
    "duration": 11,
    "start_time": "2022-05-14T23:01:56.132Z"
   },
   {
    "duration": 17,
    "start_time": "2022-05-14T23:01:56.145Z"
   },
   {
    "duration": 69,
    "start_time": "2022-05-14T23:01:56.164Z"
   },
   {
    "duration": 12,
    "start_time": "2022-05-14T23:01:56.235Z"
   },
   {
    "duration": 14,
    "start_time": "2022-05-14T23:01:56.249Z"
   },
   {
    "duration": 74,
    "start_time": "2022-05-14T23:01:56.264Z"
   },
   {
    "duration": 4,
    "start_time": "2022-05-14T23:01:56.340Z"
   },
   {
    "duration": 17,
    "start_time": "2022-05-14T23:01:56.347Z"
   },
   {
    "duration": 12,
    "start_time": "2022-05-14T23:01:56.365Z"
   },
   {
    "duration": 51,
    "start_time": "2022-05-14T23:01:56.380Z"
   },
   {
    "duration": 16,
    "start_time": "2022-05-14T23:01:56.433Z"
   },
   {
    "duration": 17,
    "start_time": "2022-05-14T23:01:56.451Z"
   },
   {
    "duration": 5,
    "start_time": "2022-05-14T23:01:56.470Z"
   },
   {
    "duration": 5,
    "start_time": "2022-05-14T23:01:56.476Z"
   },
   {
    "duration": 4,
    "start_time": "2022-05-14T23:01:56.523Z"
   },
   {
    "duration": 7,
    "start_time": "2022-05-14T23:01:56.529Z"
   },
   {
    "duration": 8,
    "start_time": "2022-05-14T23:01:56.537Z"
   },
   {
    "duration": 5,
    "start_time": "2022-05-14T23:01:56.549Z"
   },
   {
    "duration": 11,
    "start_time": "2022-05-14T23:01:56.556Z"
   },
   {
    "duration": 64,
    "start_time": "2022-05-14T23:01:56.568Z"
   },
   {
    "duration": 201,
    "start_time": "2022-05-14T23:01:56.724Z"
   },
   {
    "duration": 98,
    "start_time": "2022-05-14T23:01:56.928Z"
   },
   {
    "duration": 7,
    "start_time": "2022-05-14T23:01:57.029Z"
   },
   {
    "duration": 1793,
    "start_time": "2022-05-14T23:03:47.774Z"
   },
   {
    "duration": 39,
    "start_time": "2022-05-14T23:03:49.569Z"
   },
   {
    "duration": 46,
    "start_time": "2022-05-14T23:03:49.610Z"
   },
   {
    "duration": 4,
    "start_time": "2022-05-14T23:03:49.659Z"
   },
   {
    "duration": 13,
    "start_time": "2022-05-14T23:03:49.665Z"
   },
   {
    "duration": 42,
    "start_time": "2022-05-14T23:03:49.681Z"
   },
   {
    "duration": 7,
    "start_time": "2022-05-14T23:03:49.725Z"
   },
   {
    "duration": 25,
    "start_time": "2022-05-14T23:03:49.734Z"
   },
   {
    "duration": 516,
    "start_time": "2022-05-14T23:03:49.761Z"
   },
   {
    "duration": 4,
    "start_time": "2022-05-14T23:03:50.280Z"
   },
   {
    "duration": 29,
    "start_time": "2022-05-14T23:03:50.285Z"
   },
   {
    "duration": 442,
    "start_time": "2022-05-14T23:03:50.316Z"
   },
   {
    "duration": 12,
    "start_time": "2022-05-14T23:03:50.760Z"
   },
   {
    "duration": 8,
    "start_time": "2022-05-14T23:03:50.774Z"
   },
   {
    "duration": 24,
    "start_time": "2022-05-14T23:03:50.784Z"
   },
   {
    "duration": 222,
    "start_time": "2022-05-14T23:03:50.823Z"
   },
   {
    "duration": 29,
    "start_time": "2022-05-14T23:03:51.046Z"
   },
   {
    "duration": 618,
    "start_time": "2022-05-14T23:03:51.077Z"
   },
   {
    "duration": 9,
    "start_time": "2022-05-14T23:03:51.698Z"
   },
   {
    "duration": 20,
    "start_time": "2022-05-14T23:03:51.708Z"
   },
   {
    "duration": 13,
    "start_time": "2022-05-14T23:03:51.731Z"
   },
   {
    "duration": 549,
    "start_time": "2022-05-14T23:03:51.746Z"
   },
   {
    "duration": 9,
    "start_time": "2022-05-14T23:03:52.298Z"
   },
   {
    "duration": 9,
    "start_time": "2022-05-14T23:03:52.308Z"
   },
   {
    "duration": 12,
    "start_time": "2022-05-14T23:03:52.319Z"
   },
   {
    "duration": 18,
    "start_time": "2022-05-14T23:03:52.333Z"
   },
   {
    "duration": 11,
    "start_time": "2022-05-14T23:03:52.353Z"
   },
   {
    "duration": 12,
    "start_time": "2022-05-14T23:03:52.368Z"
   },
   {
    "duration": 45,
    "start_time": "2022-05-14T23:03:52.382Z"
   },
   {
    "duration": 14,
    "start_time": "2022-05-14T23:03:52.429Z"
   },
   {
    "duration": 5,
    "start_time": "2022-05-14T23:03:52.445Z"
   },
   {
    "duration": 13,
    "start_time": "2022-05-14T23:03:52.452Z"
   },
   {
    "duration": 14,
    "start_time": "2022-05-14T23:03:52.467Z"
   },
   {
    "duration": 13,
    "start_time": "2022-05-14T23:03:52.483Z"
   },
   {
    "duration": 36,
    "start_time": "2022-05-14T23:03:52.498Z"
   },
   {
    "duration": 16,
    "start_time": "2022-05-14T23:03:52.536Z"
   },
   {
    "duration": 4,
    "start_time": "2022-05-14T23:03:52.554Z"
   },
   {
    "duration": 18,
    "start_time": "2022-05-14T23:03:52.560Z"
   },
   {
    "duration": 7,
    "start_time": "2022-05-14T23:03:52.580Z"
   },
   {
    "duration": 39,
    "start_time": "2022-05-14T23:03:52.588Z"
   },
   {
    "duration": 6,
    "start_time": "2022-05-14T23:03:52.629Z"
   },
   {
    "duration": 6,
    "start_time": "2022-05-14T23:03:52.637Z"
   },
   {
    "duration": 9,
    "start_time": "2022-05-14T23:03:52.644Z"
   },
   {
    "duration": 69,
    "start_time": "2022-05-14T23:03:52.654Z"
   },
   {
    "duration": 304,
    "start_time": "2022-05-14T23:03:52.725Z"
   },
   {
    "duration": 101,
    "start_time": "2022-05-14T23:03:53.031Z"
   },
   {
    "duration": 7,
    "start_time": "2022-05-14T23:03:53.223Z"
   },
   {
    "duration": 1832,
    "start_time": "2022-05-14T23:04:40.708Z"
   },
   {
    "duration": 41,
    "start_time": "2022-05-14T23:04:42.543Z"
   },
   {
    "duration": 58,
    "start_time": "2022-05-14T23:04:42.586Z"
   },
   {
    "duration": 4,
    "start_time": "2022-05-14T23:04:42.646Z"
   },
   {
    "duration": 6,
    "start_time": "2022-05-14T23:04:42.652Z"
   },
   {
    "duration": 5,
    "start_time": "2022-05-14T23:04:42.660Z"
   },
   {
    "duration": 7,
    "start_time": "2022-05-14T23:04:42.667Z"
   },
   {
    "duration": 48,
    "start_time": "2022-05-14T23:04:42.676Z"
   },
   {
    "duration": 551,
    "start_time": "2022-05-14T23:04:42.726Z"
   },
   {
    "duration": 4,
    "start_time": "2022-05-14T23:04:43.280Z"
   },
   {
    "duration": 8,
    "start_time": "2022-05-14T23:04:43.286Z"
   },
   {
    "duration": 466,
    "start_time": "2022-05-14T23:04:43.296Z"
   },
   {
    "duration": 12,
    "start_time": "2022-05-14T23:04:43.764Z"
   },
   {
    "duration": 9,
    "start_time": "2022-05-14T23:04:43.778Z"
   },
   {
    "duration": 41,
    "start_time": "2022-05-14T23:04:43.789Z"
   },
   {
    "duration": 220,
    "start_time": "2022-05-14T23:04:43.832Z"
   },
   {
    "duration": 29,
    "start_time": "2022-05-14T23:04:44.054Z"
   },
   {
    "duration": 608,
    "start_time": "2022-05-14T23:04:44.085Z"
   },
   {
    "duration": 10,
    "start_time": "2022-05-14T23:04:44.695Z"
   },
   {
    "duration": 19,
    "start_time": "2022-05-14T23:04:44.707Z"
   },
   {
    "duration": 15,
    "start_time": "2022-05-14T23:04:44.728Z"
   },
   {
    "duration": 550,
    "start_time": "2022-05-14T23:04:44.745Z"
   },
   {
    "duration": 9,
    "start_time": "2022-05-14T23:04:45.297Z"
   },
   {
    "duration": 14,
    "start_time": "2022-05-14T23:04:45.308Z"
   },
   {
    "duration": 13,
    "start_time": "2022-05-14T23:04:45.324Z"
   },
   {
    "duration": 18,
    "start_time": "2022-05-14T23:04:45.338Z"
   },
   {
    "duration": 12,
    "start_time": "2022-05-14T23:04:45.357Z"
   },
   {
    "duration": 11,
    "start_time": "2022-05-14T23:04:45.373Z"
   },
   {
    "duration": 47,
    "start_time": "2022-05-14T23:04:45.386Z"
   },
   {
    "duration": 4,
    "start_time": "2022-05-14T23:04:45.435Z"
   },
   {
    "duration": 12,
    "start_time": "2022-05-14T23:04:45.441Z"
   },
   {
    "duration": 13,
    "start_time": "2022-05-14T23:04:45.455Z"
   },
   {
    "duration": 11,
    "start_time": "2022-05-14T23:04:45.469Z"
   },
   {
    "duration": 48,
    "start_time": "2022-05-14T23:04:45.482Z"
   },
   {
    "duration": 15,
    "start_time": "2022-05-14T23:04:45.532Z"
   },
   {
    "duration": 4,
    "start_time": "2022-05-14T23:04:45.549Z"
   },
   {
    "duration": 6,
    "start_time": "2022-05-14T23:04:45.555Z"
   },
   {
    "duration": 10,
    "start_time": "2022-05-14T23:04:45.563Z"
   },
   {
    "duration": 10,
    "start_time": "2022-05-14T23:04:45.575Z"
   },
   {
    "duration": 16,
    "start_time": "2022-05-14T23:04:45.587Z"
   },
   {
    "duration": 3,
    "start_time": "2022-05-14T23:04:45.623Z"
   },
   {
    "duration": 7,
    "start_time": "2022-05-14T23:04:45.628Z"
   },
   {
    "duration": 85,
    "start_time": "2022-05-14T23:04:45.637Z"
   },
   {
    "duration": 117,
    "start_time": "2022-05-14T23:04:45.726Z"
   },
   {
    "duration": 5,
    "start_time": "2022-05-14T23:04:45.845Z"
   },
   {
    "duration": 7,
    "start_time": "2022-05-14T23:04:45.852Z"
   },
   {
    "duration": 1859,
    "start_time": "2022-05-14T23:06:36.100Z"
   },
   {
    "duration": 49,
    "start_time": "2022-05-14T23:06:37.961Z"
   },
   {
    "duration": 47,
    "start_time": "2022-05-14T23:06:38.012Z"
   },
   {
    "duration": 4,
    "start_time": "2022-05-14T23:06:38.061Z"
   },
   {
    "duration": 16,
    "start_time": "2022-05-14T23:06:38.069Z"
   },
   {
    "duration": 38,
    "start_time": "2022-05-14T23:06:38.087Z"
   },
   {
    "duration": 22,
    "start_time": "2022-05-14T23:06:38.127Z"
   },
   {
    "duration": 19,
    "start_time": "2022-05-14T23:06:38.151Z"
   },
   {
    "duration": 909,
    "start_time": "2022-05-14T23:06:38.172Z"
   },
   {
    "duration": 5,
    "start_time": "2022-05-14T23:06:39.084Z"
   },
   {
    "duration": 22,
    "start_time": "2022-05-14T23:06:39.091Z"
   },
   {
    "duration": 610,
    "start_time": "2022-05-14T23:06:39.115Z"
   },
   {
    "duration": 13,
    "start_time": "2022-05-14T23:06:39.727Z"
   },
   {
    "duration": 22,
    "start_time": "2022-05-14T23:06:39.743Z"
   },
   {
    "duration": 86,
    "start_time": "2022-05-14T23:06:39.767Z"
   },
   {
    "duration": 404,
    "start_time": "2022-05-14T23:06:39.855Z"
   },
   {
    "duration": 78,
    "start_time": "2022-05-14T23:06:40.261Z"
   },
   {
    "duration": 1027,
    "start_time": "2022-05-14T23:06:40.341Z"
   },
   {
    "duration": 60,
    "start_time": "2022-05-14T23:06:41.370Z"
   },
   {
    "duration": 14,
    "start_time": "2022-05-14T23:06:41.432Z"
   },
   {
    "duration": 15,
    "start_time": "2022-05-14T23:06:41.448Z"
   },
   {
    "duration": 1038,
    "start_time": "2022-05-14T23:06:41.465Z"
   },
   {
    "duration": 10,
    "start_time": "2022-05-14T23:06:42.505Z"
   },
   {
    "duration": 21,
    "start_time": "2022-05-14T23:06:42.518Z"
   },
   {
    "duration": 24,
    "start_time": "2022-05-14T23:06:42.540Z"
   },
   {
    "duration": 50,
    "start_time": "2022-05-14T23:06:42.566Z"
   },
   {
    "duration": 20,
    "start_time": "2022-05-14T23:06:42.619Z"
   },
   {
    "duration": 18,
    "start_time": "2022-05-14T23:06:42.641Z"
   },
   {
    "duration": 27,
    "start_time": "2022-05-14T23:06:42.661Z"
   },
   {
    "duration": 39,
    "start_time": "2022-05-14T23:06:42.691Z"
   },
   {
    "duration": 5,
    "start_time": "2022-05-14T23:06:42.733Z"
   },
   {
    "duration": 22,
    "start_time": "2022-05-14T23:06:42.740Z"
   },
   {
    "duration": 15,
    "start_time": "2022-05-14T23:06:42.764Z"
   },
   {
    "duration": 24,
    "start_time": "2022-05-14T23:06:42.782Z"
   },
   {
    "duration": 35,
    "start_time": "2022-05-14T23:06:42.808Z"
   },
   {
    "duration": 19,
    "start_time": "2022-05-14T23:06:42.845Z"
   },
   {
    "duration": 6,
    "start_time": "2022-05-14T23:06:42.866Z"
   },
   {
    "duration": 11,
    "start_time": "2022-05-14T23:06:42.874Z"
   },
   {
    "duration": 10,
    "start_time": "2022-05-14T23:06:42.887Z"
   },
   {
    "duration": 24,
    "start_time": "2022-05-14T23:06:42.899Z"
   },
   {
    "duration": 9,
    "start_time": "2022-05-14T23:06:42.927Z"
   },
   {
    "duration": 14,
    "start_time": "2022-05-14T23:06:42.938Z"
   },
   {
    "duration": 9,
    "start_time": "2022-05-14T23:06:42.955Z"
   },
   {
    "duration": 61,
    "start_time": "2022-05-14T23:06:42.966Z"
   },
   {
    "duration": 302,
    "start_time": "2022-05-14T23:06:43.030Z"
   },
   {
    "duration": 93,
    "start_time": "2022-05-14T23:06:43.334Z"
   },
   {
    "duration": 93,
    "start_time": "2022-05-14T23:06:43.430Z"
   },
   {
    "duration": 1770,
    "start_time": "2022-05-14T23:07:47.441Z"
   },
   {
    "duration": 40,
    "start_time": "2022-05-14T23:07:49.213Z"
   },
   {
    "duration": 42,
    "start_time": "2022-05-14T23:07:49.254Z"
   },
   {
    "duration": 26,
    "start_time": "2022-05-14T23:07:49.298Z"
   },
   {
    "duration": 5,
    "start_time": "2022-05-14T23:07:49.326Z"
   },
   {
    "duration": 6,
    "start_time": "2022-05-14T23:07:49.332Z"
   },
   {
    "duration": 8,
    "start_time": "2022-05-14T23:07:49.340Z"
   },
   {
    "duration": 10,
    "start_time": "2022-05-14T23:07:49.350Z"
   },
   {
    "duration": 584,
    "start_time": "2022-05-14T23:07:49.362Z"
   },
   {
    "duration": 4,
    "start_time": "2022-05-14T23:07:49.949Z"
   },
   {
    "duration": 11,
    "start_time": "2022-05-14T23:07:49.955Z"
   },
   {
    "duration": 477,
    "start_time": "2022-05-14T23:07:49.968Z"
   },
   {
    "duration": 13,
    "start_time": "2022-05-14T23:07:50.447Z"
   },
   {
    "duration": 10,
    "start_time": "2022-05-14T23:07:50.461Z"
   },
   {
    "duration": 16,
    "start_time": "2022-05-14T23:07:50.472Z"
   },
   {
    "duration": 249,
    "start_time": "2022-05-14T23:07:50.490Z"
   },
   {
    "duration": 29,
    "start_time": "2022-05-14T23:07:50.741Z"
   },
   {
    "duration": 633,
    "start_time": "2022-05-14T23:07:50.772Z"
   },
   {
    "duration": 17,
    "start_time": "2022-05-14T23:07:51.407Z"
   },
   {
    "duration": 10,
    "start_time": "2022-05-14T23:07:51.425Z"
   },
   {
    "duration": 13,
    "start_time": "2022-05-14T23:07:51.437Z"
   },
   {
    "duration": 547,
    "start_time": "2022-05-14T23:07:51.452Z"
   },
   {
    "duration": 9,
    "start_time": "2022-05-14T23:07:52.002Z"
   },
   {
    "duration": 18,
    "start_time": "2022-05-14T23:07:52.012Z"
   },
   {
    "duration": 14,
    "start_time": "2022-05-14T23:07:52.032Z"
   },
   {
    "duration": 17,
    "start_time": "2022-05-14T23:07:52.048Z"
   },
   {
    "duration": 65,
    "start_time": "2022-05-14T23:07:52.067Z"
   },
   {
    "duration": 11,
    "start_time": "2022-05-14T23:07:52.136Z"
   },
   {
    "duration": 24,
    "start_time": "2022-05-14T23:07:52.149Z"
   },
   {
    "duration": 13,
    "start_time": "2022-05-14T23:07:52.223Z"
   },
   {
    "duration": 27,
    "start_time": "2022-05-14T23:07:52.238Z"
   },
   {
    "duration": 9,
    "start_time": "2022-05-14T23:07:52.267Z"
   },
   {
    "duration": 53,
    "start_time": "2022-05-14T23:07:52.278Z"
   },
   {
    "duration": 19,
    "start_time": "2022-05-14T23:07:52.333Z"
   },
   {
    "duration": 24,
    "start_time": "2022-05-14T23:07:52.354Z"
   },
   {
    "duration": 14,
    "start_time": "2022-05-14T23:07:52.423Z"
   },
   {
    "duration": 20,
    "start_time": "2022-05-14T23:07:52.439Z"
   },
   {
    "duration": 8,
    "start_time": "2022-05-14T23:07:52.461Z"
   },
   {
    "duration": 54,
    "start_time": "2022-05-14T23:07:52.470Z"
   },
   {
    "duration": 4,
    "start_time": "2022-05-14T23:07:52.526Z"
   },
   {
    "duration": 19,
    "start_time": "2022-05-14T23:07:52.531Z"
   },
   {
    "duration": 14,
    "start_time": "2022-05-14T23:07:52.552Z"
   },
   {
    "duration": 14,
    "start_time": "2022-05-14T23:07:52.568Z"
   },
   {
    "duration": 4,
    "start_time": "2022-05-14T23:07:52.623Z"
   },
   {
    "duration": 99,
    "start_time": "2022-05-14T23:07:52.628Z"
   },
   {
    "duration": 194,
    "start_time": "2022-05-14T23:07:52.729Z"
   },
   {
    "duration": 6,
    "start_time": "2022-05-14T23:07:52.925Z"
   },
   {
    "duration": 10,
    "start_time": "2022-05-14T23:07:52.932Z"
   },
   {
    "duration": 1782,
    "start_time": "2022-05-14T23:08:40.830Z"
   },
   {
    "duration": 42,
    "start_time": "2022-05-14T23:08:42.614Z"
   },
   {
    "duration": 66,
    "start_time": "2022-05-14T23:08:42.658Z"
   },
   {
    "duration": 4,
    "start_time": "2022-05-14T23:08:42.727Z"
   },
   {
    "duration": 6,
    "start_time": "2022-05-14T23:08:42.733Z"
   },
   {
    "duration": 6,
    "start_time": "2022-05-14T23:08:42.741Z"
   },
   {
    "duration": 8,
    "start_time": "2022-05-14T23:08:42.748Z"
   },
   {
    "duration": 8,
    "start_time": "2022-05-14T23:08:42.758Z"
   },
   {
    "duration": 582,
    "start_time": "2022-05-14T23:08:42.768Z"
   },
   {
    "duration": 3,
    "start_time": "2022-05-14T23:08:43.355Z"
   },
   {
    "duration": 8,
    "start_time": "2022-05-14T23:08:43.360Z"
   },
   {
    "duration": 579,
    "start_time": "2022-05-14T23:08:43.370Z"
   },
   {
    "duration": 13,
    "start_time": "2022-05-14T23:08:43.951Z"
   },
   {
    "duration": 8,
    "start_time": "2022-05-14T23:08:43.966Z"
   },
   {
    "duration": 15,
    "start_time": "2022-05-14T23:08:43.976Z"
   },
   {
    "duration": 243,
    "start_time": "2022-05-14T23:08:43.992Z"
   },
   {
    "duration": 29,
    "start_time": "2022-05-14T23:08:44.236Z"
   },
   {
    "duration": 616,
    "start_time": "2022-05-14T23:08:44.267Z"
   },
   {
    "duration": 9,
    "start_time": "2022-05-14T23:08:44.885Z"
   },
   {
    "duration": 10,
    "start_time": "2022-05-14T23:08:44.895Z"
   },
   {
    "duration": 30,
    "start_time": "2022-05-14T23:08:44.907Z"
   },
   {
    "duration": 1108,
    "start_time": "2022-05-14T23:08:44.939Z"
   },
   {
    "duration": 8,
    "start_time": "2022-05-14T23:08:46.049Z"
   },
   {
    "duration": 15,
    "start_time": "2022-05-14T23:08:46.059Z"
   },
   {
    "duration": 57,
    "start_time": "2022-05-14T23:08:46.076Z"
   },
   {
    "duration": 18,
    "start_time": "2022-05-14T23:08:46.135Z"
   },
   {
    "duration": 68,
    "start_time": "2022-05-14T23:08:46.155Z"
   },
   {
    "duration": 13,
    "start_time": "2022-05-14T23:08:46.226Z"
   },
   {
    "duration": 25,
    "start_time": "2022-05-14T23:08:46.241Z"
   },
   {
    "duration": 64,
    "start_time": "2022-05-14T23:08:46.268Z"
   },
   {
    "duration": 6,
    "start_time": "2022-05-14T23:08:46.334Z"
   },
   {
    "duration": 16,
    "start_time": "2022-05-14T23:08:46.343Z"
   },
   {
    "duration": 72,
    "start_time": "2022-05-14T23:08:46.361Z"
   },
   {
    "duration": 15,
    "start_time": "2022-05-14T23:08:46.435Z"
   },
   {
    "duration": 74,
    "start_time": "2022-05-14T23:08:46.453Z"
   },
   {
    "duration": 25,
    "start_time": "2022-05-14T23:08:46.529Z"
   },
   {
    "duration": 5,
    "start_time": "2022-05-14T23:08:46.557Z"
   },
   {
    "duration": 59,
    "start_time": "2022-05-14T23:08:46.564Z"
   },
   {
    "duration": 3,
    "start_time": "2022-05-14T23:08:46.626Z"
   },
   {
    "duration": 8,
    "start_time": "2022-05-14T23:08:46.631Z"
   },
   {
    "duration": 6,
    "start_time": "2022-05-14T23:08:46.642Z"
   },
   {
    "duration": 3,
    "start_time": "2022-05-14T23:08:46.650Z"
   },
   {
    "duration": 6,
    "start_time": "2022-05-14T23:08:46.656Z"
   },
   {
    "duration": 160,
    "start_time": "2022-05-14T23:08:46.664Z"
   },
   {
    "duration": 499,
    "start_time": "2022-05-14T23:08:46.826Z"
   },
   {
    "duration": 96,
    "start_time": "2022-05-14T23:08:47.328Z"
   },
   {
    "duration": 9,
    "start_time": "2022-05-14T23:08:47.426Z"
   },
   {
    "duration": 1939,
    "start_time": "2022-05-14T23:09:16.777Z"
   },
   {
    "duration": 54,
    "start_time": "2022-05-14T23:09:18.719Z"
   },
   {
    "duration": 67,
    "start_time": "2022-05-14T23:09:18.776Z"
   },
   {
    "duration": 5,
    "start_time": "2022-05-14T23:09:18.845Z"
   },
   {
    "duration": 6,
    "start_time": "2022-05-14T23:09:18.853Z"
   },
   {
    "duration": 10,
    "start_time": "2022-05-14T23:09:18.861Z"
   },
   {
    "duration": 8,
    "start_time": "2022-05-14T23:09:18.873Z"
   },
   {
    "duration": 48,
    "start_time": "2022-05-14T23:09:18.883Z"
   },
   {
    "duration": 586,
    "start_time": "2022-05-14T23:09:18.933Z"
   },
   {
    "duration": 4,
    "start_time": "2022-05-14T23:09:19.522Z"
   },
   {
    "duration": 8,
    "start_time": "2022-05-14T23:09:19.527Z"
   },
   {
    "duration": 473,
    "start_time": "2022-05-14T23:09:19.537Z"
   },
   {
    "duration": 19,
    "start_time": "2022-05-14T23:09:20.012Z"
   },
   {
    "duration": 8,
    "start_time": "2022-05-14T23:09:20.034Z"
   },
   {
    "duration": 20,
    "start_time": "2022-05-14T23:09:20.044Z"
   },
   {
    "duration": 240,
    "start_time": "2022-05-14T23:09:20.066Z"
   },
   {
    "duration": 35,
    "start_time": "2022-05-14T23:09:20.307Z"
   },
   {
    "duration": 636,
    "start_time": "2022-05-14T23:09:20.344Z"
   },
   {
    "duration": 10,
    "start_time": "2022-05-14T23:09:20.982Z"
   },
   {
    "duration": 9,
    "start_time": "2022-05-14T23:09:20.994Z"
   },
   {
    "duration": 14,
    "start_time": "2022-05-14T23:09:21.023Z"
   },
   {
    "duration": 552,
    "start_time": "2022-05-14T23:09:21.039Z"
   },
   {
    "duration": 10,
    "start_time": "2022-05-14T23:09:21.593Z"
   },
   {
    "duration": 27,
    "start_time": "2022-05-14T23:09:21.604Z"
   },
   {
    "duration": 12,
    "start_time": "2022-05-14T23:09:21.633Z"
   },
   {
    "duration": 16,
    "start_time": "2022-05-14T23:09:21.646Z"
   },
   {
    "duration": 67,
    "start_time": "2022-05-14T23:09:21.664Z"
   },
   {
    "duration": 17,
    "start_time": "2022-05-14T23:09:21.733Z"
   },
   {
    "duration": 73,
    "start_time": "2022-05-14T23:09:21.752Z"
   },
   {
    "duration": 4,
    "start_time": "2022-05-14T23:09:21.827Z"
   },
   {
    "duration": 13,
    "start_time": "2022-05-14T23:09:21.833Z"
   },
   {
    "duration": 19,
    "start_time": "2022-05-14T23:09:21.848Z"
   },
   {
    "duration": 13,
    "start_time": "2022-05-14T23:09:21.923Z"
   },
   {
    "duration": 17,
    "start_time": "2022-05-14T23:09:21.938Z"
   },
   {
    "duration": 74,
    "start_time": "2022-05-14T23:09:21.957Z"
   },
   {
    "duration": 4,
    "start_time": "2022-05-14T23:09:22.034Z"
   },
   {
    "duration": 5,
    "start_time": "2022-05-14T23:09:22.040Z"
   },
   {
    "duration": 4,
    "start_time": "2022-05-14T23:09:22.047Z"
   },
   {
    "duration": 7,
    "start_time": "2022-05-14T23:09:22.053Z"
   },
   {
    "duration": 62,
    "start_time": "2022-05-14T23:09:22.062Z"
   },
   {
    "duration": 4,
    "start_time": "2022-05-14T23:09:22.130Z"
   },
   {
    "duration": 5,
    "start_time": "2022-05-14T23:09:22.136Z"
   },
   {
    "duration": 88,
    "start_time": "2022-05-14T23:09:22.143Z"
   },
   {
    "duration": 110,
    "start_time": "2022-05-14T23:09:22.233Z"
   },
   {
    "duration": 6,
    "start_time": "2022-05-14T23:09:22.345Z"
   },
   {
    "duration": 6,
    "start_time": "2022-05-14T23:09:22.423Z"
   },
   {
    "duration": 1951,
    "start_time": "2022-05-14T23:09:54.519Z"
   },
   {
    "duration": 40,
    "start_time": "2022-05-14T23:09:56.472Z"
   },
   {
    "duration": 42,
    "start_time": "2022-05-14T23:09:56.514Z"
   },
   {
    "duration": 3,
    "start_time": "2022-05-14T23:09:56.558Z"
   },
   {
    "duration": 10,
    "start_time": "2022-05-14T23:09:56.563Z"
   },
   {
    "duration": 6,
    "start_time": "2022-05-14T23:09:56.574Z"
   },
   {
    "duration": 41,
    "start_time": "2022-05-14T23:09:56.582Z"
   },
   {
    "duration": 9,
    "start_time": "2022-05-14T23:09:56.625Z"
   },
   {
    "duration": 669,
    "start_time": "2022-05-14T23:09:56.636Z"
   },
   {
    "duration": 4,
    "start_time": "2022-05-14T23:09:57.308Z"
   },
   {
    "duration": 14,
    "start_time": "2022-05-14T23:09:57.313Z"
   },
   {
    "duration": 463,
    "start_time": "2022-05-14T23:09:57.328Z"
   },
   {
    "duration": 12,
    "start_time": "2022-05-14T23:09:57.793Z"
   },
   {
    "duration": 21,
    "start_time": "2022-05-14T23:09:57.807Z"
   },
   {
    "duration": 16,
    "start_time": "2022-05-14T23:09:57.830Z"
   },
   {
    "duration": 219,
    "start_time": "2022-05-14T23:09:57.847Z"
   },
   {
    "duration": 27,
    "start_time": "2022-05-14T23:09:58.068Z"
   },
   {
    "duration": 613,
    "start_time": "2022-05-14T23:09:58.097Z"
   },
   {
    "duration": 14,
    "start_time": "2022-05-14T23:09:58.712Z"
   },
   {
    "duration": 9,
    "start_time": "2022-05-14T23:09:58.727Z"
   },
   {
    "duration": 12,
    "start_time": "2022-05-14T23:09:58.738Z"
   },
   {
    "duration": 531,
    "start_time": "2022-05-14T23:09:58.752Z"
   },
   {
    "duration": 9,
    "start_time": "2022-05-14T23:09:59.285Z"
   },
   {
    "duration": 10,
    "start_time": "2022-05-14T23:09:59.296Z"
   },
   {
    "duration": 19,
    "start_time": "2022-05-14T23:09:59.308Z"
   },
   {
    "duration": 16,
    "start_time": "2022-05-14T23:09:59.329Z"
   },
   {
    "duration": 11,
    "start_time": "2022-05-14T23:09:59.347Z"
   },
   {
    "duration": 10,
    "start_time": "2022-05-14T23:09:59.362Z"
   },
   {
    "duration": 14,
    "start_time": "2022-05-14T23:09:59.373Z"
   },
   {
    "duration": 45,
    "start_time": "2022-05-14T23:09:59.389Z"
   },
   {
    "duration": 4,
    "start_time": "2022-05-14T23:09:59.435Z"
   },
   {
    "duration": 10,
    "start_time": "2022-05-14T23:09:59.441Z"
   },
   {
    "duration": 18,
    "start_time": "2022-05-14T23:09:59.453Z"
   },
   {
    "duration": 12,
    "start_time": "2022-05-14T23:09:59.474Z"
   },
   {
    "duration": 39,
    "start_time": "2022-05-14T23:09:59.488Z"
   },
   {
    "duration": 17,
    "start_time": "2022-05-14T23:09:59.529Z"
   },
   {
    "duration": 8,
    "start_time": "2022-05-14T23:09:59.548Z"
   },
   {
    "duration": 15,
    "start_time": "2022-05-14T23:09:59.557Z"
   },
   {
    "duration": 8,
    "start_time": "2022-05-14T23:09:59.574Z"
   },
   {
    "duration": 20,
    "start_time": "2022-05-14T23:09:59.584Z"
   },
   {
    "duration": 14,
    "start_time": "2022-05-14T23:09:59.606Z"
   },
   {
    "duration": 14,
    "start_time": "2022-05-14T23:09:59.622Z"
   },
   {
    "duration": 8,
    "start_time": "2022-05-14T23:09:59.638Z"
   },
   {
    "duration": 81,
    "start_time": "2022-05-14T23:09:59.647Z"
   },
   {
    "duration": 401,
    "start_time": "2022-05-14T23:09:59.729Z"
   },
   {
    "duration": 94,
    "start_time": "2022-05-14T23:10:00.133Z"
   },
   {
    "duration": 94,
    "start_time": "2022-05-14T23:10:00.230Z"
   },
   {
    "duration": 1773,
    "start_time": "2022-05-14T23:11:27.656Z"
   },
   {
    "duration": 40,
    "start_time": "2022-05-14T23:11:29.431Z"
   },
   {
    "duration": 55,
    "start_time": "2022-05-14T23:11:29.473Z"
   },
   {
    "duration": 4,
    "start_time": "2022-05-14T23:11:29.530Z"
   },
   {
    "duration": 5,
    "start_time": "2022-05-14T23:11:29.537Z"
   },
   {
    "duration": 5,
    "start_time": "2022-05-14T23:11:29.543Z"
   },
   {
    "duration": 7,
    "start_time": "2022-05-14T23:11:29.550Z"
   },
   {
    "duration": 8,
    "start_time": "2022-05-14T23:11:29.559Z"
   },
   {
    "duration": 597,
    "start_time": "2022-05-14T23:11:29.569Z"
   },
   {
    "duration": 3,
    "start_time": "2022-05-14T23:11:30.168Z"
   },
   {
    "duration": 473,
    "start_time": "2022-05-14T23:11:30.173Z"
   },
   {
    "duration": 12,
    "start_time": "2022-05-14T23:11:30.649Z"
   },
   {
    "duration": 28,
    "start_time": "2022-05-14T23:11:30.662Z"
   },
   {
    "duration": 20,
    "start_time": "2022-05-14T23:11:30.694Z"
   },
   {
    "duration": 202,
    "start_time": "2022-05-14T23:11:30.716Z"
   },
   {
    "duration": 32,
    "start_time": "2022-05-14T23:11:30.919Z"
   },
   {
    "duration": 656,
    "start_time": "2022-05-14T23:11:30.953Z"
   },
   {
    "duration": 13,
    "start_time": "2022-05-14T23:11:31.611Z"
   },
   {
    "duration": 20,
    "start_time": "2022-05-14T23:11:31.626Z"
   },
   {
    "duration": 19,
    "start_time": "2022-05-14T23:11:31.648Z"
   },
   {
    "duration": 470,
    "start_time": "2022-05-14T23:11:31.669Z"
   },
   {
    "duration": 9,
    "start_time": "2022-05-14T23:11:32.142Z"
   },
   {
    "duration": 10,
    "start_time": "2022-05-14T23:11:32.153Z"
   },
   {
    "duration": 19,
    "start_time": "2022-05-14T23:11:32.165Z"
   },
   {
    "duration": 19,
    "start_time": "2022-05-14T23:11:32.186Z"
   },
   {
    "duration": 24,
    "start_time": "2022-05-14T23:11:32.206Z"
   },
   {
    "duration": 14,
    "start_time": "2022-05-14T23:11:32.231Z"
   },
   {
    "duration": 14,
    "start_time": "2022-05-14T23:11:32.247Z"
   },
   {
    "duration": 12,
    "start_time": "2022-05-14T23:11:32.263Z"
   },
   {
    "duration": 4,
    "start_time": "2022-05-14T23:11:32.277Z"
   },
   {
    "duration": 48,
    "start_time": "2022-05-14T23:11:32.283Z"
   },
   {
    "duration": 11,
    "start_time": "2022-05-14T23:11:32.333Z"
   },
   {
    "duration": 12,
    "start_time": "2022-05-14T23:11:32.345Z"
   },
   {
    "duration": 16,
    "start_time": "2022-05-14T23:11:32.358Z"
   },
   {
    "duration": 47,
    "start_time": "2022-05-14T23:11:32.375Z"
   },
   {
    "duration": 3,
    "start_time": "2022-05-14T23:11:32.425Z"
   },
   {
    "duration": 5,
    "start_time": "2022-05-14T23:11:32.430Z"
   },
   {
    "duration": 8,
    "start_time": "2022-05-14T23:11:32.437Z"
   },
   {
    "duration": 10,
    "start_time": "2022-05-14T23:11:32.447Z"
   },
   {
    "duration": 12,
    "start_time": "2022-05-14T23:11:32.458Z"
   },
   {
    "duration": 5,
    "start_time": "2022-05-14T23:11:32.474Z"
   },
   {
    "duration": 9,
    "start_time": "2022-05-14T23:11:32.481Z"
   },
   {
    "duration": 140,
    "start_time": "2022-05-14T23:11:32.492Z"
   },
   {
    "duration": 289,
    "start_time": "2022-05-14T23:11:32.634Z"
   },
   {
    "duration": 8,
    "start_time": "2022-05-14T23:11:32.926Z"
   },
   {
    "duration": 7,
    "start_time": "2022-05-14T23:11:33.023Z"
   },
   {
    "duration": 7,
    "start_time": "2022-05-14T23:12:20.276Z"
   },
   {
    "duration": 449,
    "start_time": "2022-05-14T23:12:21.076Z"
   },
   {
    "duration": 12,
    "start_time": "2022-05-14T23:12:24.956Z"
   },
   {
    "duration": 9,
    "start_time": "2022-05-14T23:12:27.216Z"
   },
   {
    "duration": 13,
    "start_time": "2022-05-14T23:12:27.227Z"
   },
   {
    "duration": 231,
    "start_time": "2022-05-14T23:12:27.242Z"
   },
   {
    "duration": 3,
    "start_time": "2022-05-14T23:12:27.475Z"
   },
   {
    "duration": 534,
    "start_time": "2022-05-14T23:12:27.567Z"
   },
   {
    "duration": 10,
    "start_time": "2022-05-14T23:12:28.103Z"
   },
   {
    "duration": 9,
    "start_time": "2022-05-14T23:12:28.123Z"
   },
   {
    "duration": 13,
    "start_time": "2022-05-14T23:12:28.160Z"
   },
   {
    "duration": 407,
    "start_time": "2022-05-14T23:12:28.331Z"
   },
   {
    "duration": 9,
    "start_time": "2022-05-14T23:12:28.740Z"
   },
   {
    "duration": 10,
    "start_time": "2022-05-14T23:12:28.751Z"
   },
   {
    "duration": 12,
    "start_time": "2022-05-14T23:12:28.853Z"
   },
   {
    "duration": 17,
    "start_time": "2022-05-14T23:12:29.816Z"
   },
   {
    "duration": 11,
    "start_time": "2022-05-14T23:12:30.196Z"
   },
   {
    "duration": 12,
    "start_time": "2022-05-14T23:12:30.535Z"
   },
   {
    "duration": 16,
    "start_time": "2022-05-14T23:12:30.715Z"
   },
   {
    "duration": 21,
    "start_time": "2022-05-14T23:12:30.894Z"
   },
   {
    "duration": 4,
    "start_time": "2022-05-14T23:12:31.052Z"
   },
   {
    "duration": 12,
    "start_time": "2022-05-14T23:12:31.238Z"
   },
   {
    "duration": 11,
    "start_time": "2022-05-14T23:12:31.437Z"
   },
   {
    "duration": 11,
    "start_time": "2022-05-14T23:12:31.815Z"
   },
   {
    "duration": 15,
    "start_time": "2022-05-14T23:12:31.995Z"
   },
   {
    "duration": 129,
    "start_time": "2022-05-14T23:12:32.575Z"
   },
   {
    "duration": 5,
    "start_time": "2022-05-14T23:12:34.044Z"
   },
   {
    "duration": 4,
    "start_time": "2022-05-14T23:12:34.583Z"
   },
   {
    "duration": 3,
    "start_time": "2022-05-14T23:12:35.709Z"
   },
   {
    "duration": 6,
    "start_time": "2022-05-14T23:12:37.416Z"
   },
   {
    "duration": 4,
    "start_time": "2022-05-14T23:12:37.775Z"
   },
   {
    "duration": 3,
    "start_time": "2022-05-14T23:12:39.896Z"
   },
   {
    "duration": 3,
    "start_time": "2022-05-14T23:12:40.296Z"
   },
   {
    "duration": 96,
    "start_time": "2022-05-14T23:12:40.835Z"
   },
   {
    "duration": 407,
    "start_time": "2022-05-14T23:12:41.616Z"
   },
   {
    "duration": 6,
    "start_time": "2022-05-14T23:12:42.323Z"
   },
   {
    "duration": 16,
    "start_time": "2022-05-14T23:13:10.818Z"
   },
   {
    "duration": 5,
    "start_time": "2022-05-14T23:13:13.438Z"
   },
   {
    "duration": 4,
    "start_time": "2022-05-14T23:13:16.426Z"
   },
   {
    "duration": 3,
    "start_time": "2022-05-14T23:13:17.135Z"
   },
   {
    "duration": 5,
    "start_time": "2022-05-14T23:13:23.505Z"
   },
   {
    "duration": 4,
    "start_time": "2022-05-14T23:13:24.095Z"
   },
   {
    "duration": 3,
    "start_time": "2022-05-14T23:13:25.992Z"
   },
   {
    "duration": 3,
    "start_time": "2022-05-14T23:13:26.455Z"
   },
   {
    "duration": 64,
    "start_time": "2022-05-14T23:13:27.059Z"
   },
   {
    "duration": 135,
    "start_time": "2022-05-14T23:13:27.896Z"
   },
   {
    "duration": 7,
    "start_time": "2022-05-14T23:13:30.469Z"
   },
   {
    "duration": 6,
    "start_time": "2022-05-14T23:13:50.000Z"
   },
   {
    "duration": 1781,
    "start_time": "2022-05-14T23:16:03.952Z"
   },
   {
    "duration": 44,
    "start_time": "2022-05-14T23:16:05.735Z"
   },
   {
    "duration": 55,
    "start_time": "2022-05-14T23:16:05.780Z"
   },
   {
    "duration": 4,
    "start_time": "2022-05-14T23:16:05.837Z"
   },
   {
    "duration": 18,
    "start_time": "2022-05-14T23:16:05.843Z"
   },
   {
    "duration": 11,
    "start_time": "2022-05-14T23:16:05.862Z"
   },
   {
    "duration": 22,
    "start_time": "2022-05-14T23:16:05.875Z"
   },
   {
    "duration": 23,
    "start_time": "2022-05-14T23:16:05.899Z"
   },
   {
    "duration": 587,
    "start_time": "2022-05-14T23:16:05.924Z"
   },
   {
    "duration": 3,
    "start_time": "2022-05-14T23:16:06.513Z"
   },
   {
    "duration": 456,
    "start_time": "2022-05-14T23:16:06.522Z"
   },
   {
    "duration": 12,
    "start_time": "2022-05-14T23:16:06.980Z"
   },
   {
    "duration": 9,
    "start_time": "2022-05-14T23:16:06.993Z"
   },
   {
    "duration": 15,
    "start_time": "2022-05-14T23:16:07.025Z"
   },
   {
    "duration": 208,
    "start_time": "2022-05-14T23:16:07.041Z"
   },
   {
    "duration": 29,
    "start_time": "2022-05-14T23:16:07.251Z"
   },
   {
    "duration": 601,
    "start_time": "2022-05-14T23:16:07.282Z"
   },
   {
    "duration": 9,
    "start_time": "2022-05-14T23:16:07.885Z"
   },
   {
    "duration": 10,
    "start_time": "2022-05-14T23:16:07.895Z"
   },
   {
    "duration": 14,
    "start_time": "2022-05-14T23:16:07.922Z"
   },
   {
    "duration": 501,
    "start_time": "2022-05-14T23:16:07.938Z"
   },
   {
    "duration": 9,
    "start_time": "2022-05-14T23:16:08.441Z"
   },
   {
    "duration": 10,
    "start_time": "2022-05-14T23:16:08.451Z"
   },
   {
    "duration": 12,
    "start_time": "2022-05-14T23:16:08.463Z"
   },
   {
    "duration": 11,
    "start_time": "2022-05-14T23:16:08.477Z"
   },
   {
    "duration": 34,
    "start_time": "2022-05-14T23:16:08.490Z"
   },
   {
    "duration": 10,
    "start_time": "2022-05-14T23:16:08.526Z"
   },
   {
    "duration": 4,
    "start_time": "2022-05-14T23:16:08.538Z"
   },
   {
    "duration": 9,
    "start_time": "2022-05-14T23:16:08.544Z"
   },
   {
    "duration": 11,
    "start_time": "2022-05-14T23:16:08.555Z"
   },
   {
    "duration": 3548,
    "start_time": "2022-05-14T23:16:08.568Z"
   },
   {
    "duration": 0,
    "start_time": "2022-05-14T23:16:12.119Z"
   },
   {
    "duration": 0,
    "start_time": "2022-05-14T23:16:12.121Z"
   },
   {
    "duration": 0,
    "start_time": "2022-05-14T23:16:12.122Z"
   },
   {
    "duration": 0,
    "start_time": "2022-05-14T23:16:12.123Z"
   },
   {
    "duration": 0,
    "start_time": "2022-05-14T23:16:12.125Z"
   },
   {
    "duration": 0,
    "start_time": "2022-05-14T23:16:12.126Z"
   },
   {
    "duration": 0,
    "start_time": "2022-05-14T23:16:12.128Z"
   },
   {
    "duration": 0,
    "start_time": "2022-05-14T23:16:12.130Z"
   },
   {
    "duration": 0,
    "start_time": "2022-05-14T23:16:12.131Z"
   },
   {
    "duration": 0,
    "start_time": "2022-05-14T23:16:12.133Z"
   },
   {
    "duration": 0,
    "start_time": "2022-05-14T23:16:12.134Z"
   },
   {
    "duration": 0,
    "start_time": "2022-05-14T23:16:12.135Z"
   },
   {
    "duration": 0,
    "start_time": "2022-05-14T23:16:12.137Z"
   },
   {
    "duration": 0,
    "start_time": "2022-05-14T23:16:12.138Z"
   },
   {
    "duration": 10,
    "start_time": "2022-05-14T23:17:33.246Z"
   },
   {
    "duration": 9,
    "start_time": "2022-05-14T23:17:34.934Z"
   },
   {
    "duration": 10,
    "start_time": "2022-05-14T23:17:39.806Z"
   },
   {
    "duration": 4,
    "start_time": "2022-05-14T23:17:45.724Z"
   },
   {
    "duration": 4,
    "start_time": "2022-05-14T23:17:47.469Z"
   },
   {
    "duration": 3,
    "start_time": "2022-05-14T23:17:48.406Z"
   },
   {
    "duration": 5,
    "start_time": "2022-05-14T23:17:52.247Z"
   },
   {
    "duration": 4,
    "start_time": "2022-05-14T23:17:54.206Z"
   },
   {
    "duration": 3,
    "start_time": "2022-05-14T23:18:21.866Z"
   },
   {
    "duration": 3,
    "start_time": "2022-05-14T23:18:22.807Z"
   },
   {
    "duration": 217,
    "start_time": "2022-05-14T23:18:23.367Z"
   },
   {
    "duration": 406,
    "start_time": "2022-05-14T23:18:29.148Z"
   },
   {
    "duration": 1788,
    "start_time": "2022-05-14T23:18:56.415Z"
   },
   {
    "duration": 49,
    "start_time": "2022-05-14T23:18:58.205Z"
   },
   {
    "duration": 42,
    "start_time": "2022-05-14T23:18:58.256Z"
   },
   {
    "duration": 24,
    "start_time": "2022-05-14T23:18:58.301Z"
   },
   {
    "duration": 6,
    "start_time": "2022-05-14T23:18:58.327Z"
   },
   {
    "duration": 6,
    "start_time": "2022-05-14T23:18:58.335Z"
   },
   {
    "duration": 6,
    "start_time": "2022-05-14T23:18:58.343Z"
   },
   {
    "duration": 10,
    "start_time": "2022-05-14T23:18:58.351Z"
   },
   {
    "duration": 579,
    "start_time": "2022-05-14T23:18:58.363Z"
   },
   {
    "duration": 3,
    "start_time": "2022-05-14T23:18:58.946Z"
   },
   {
    "duration": 461,
    "start_time": "2022-05-14T23:18:58.952Z"
   },
   {
    "duration": 13,
    "start_time": "2022-05-14T23:18:59.422Z"
   },
   {
    "duration": 9,
    "start_time": "2022-05-14T23:18:59.438Z"
   },
   {
    "duration": 15,
    "start_time": "2022-05-14T23:18:59.449Z"
   },
   {
    "duration": 224,
    "start_time": "2022-05-14T23:18:59.466Z"
   },
   {
    "duration": 40,
    "start_time": "2022-05-14T23:18:59.692Z"
   },
   {
    "duration": 606,
    "start_time": "2022-05-14T23:18:59.734Z"
   },
   {
    "duration": 11,
    "start_time": "2022-05-14T23:19:00.342Z"
   },
   {
    "duration": 17,
    "start_time": "2022-05-14T23:19:00.355Z"
   },
   {
    "duration": 16,
    "start_time": "2022-05-14T23:19:00.374Z"
   },
   {
    "duration": 536,
    "start_time": "2022-05-14T23:19:00.392Z"
   },
   {
    "duration": 11,
    "start_time": "2022-05-14T23:19:00.930Z"
   },
   {
    "duration": 25,
    "start_time": "2022-05-14T23:19:00.942Z"
   },
   {
    "duration": 34,
    "start_time": "2022-05-14T23:19:00.969Z"
   },
   {
    "duration": 33,
    "start_time": "2022-05-14T23:19:01.005Z"
   },
   {
    "duration": 46,
    "start_time": "2022-05-14T23:19:01.040Z"
   },
   {
    "duration": 20,
    "start_time": "2022-05-14T23:19:01.088Z"
   },
   {
    "duration": 23,
    "start_time": "2022-05-14T23:19:01.112Z"
   },
   {
    "duration": 7,
    "start_time": "2022-05-14T23:19:01.136Z"
   },
   {
    "duration": 12,
    "start_time": "2022-05-14T23:19:01.145Z"
   },
   {
    "duration": 23,
    "start_time": "2022-05-14T23:19:01.159Z"
   },
   {
    "duration": 17,
    "start_time": "2022-05-14T23:19:01.183Z"
   },
   {
    "duration": 15,
    "start_time": "2022-05-14T23:19:01.202Z"
   },
   {
    "duration": 16,
    "start_time": "2022-05-14T23:19:01.219Z"
   },
   {
    "duration": 4,
    "start_time": "2022-05-14T23:19:01.237Z"
   },
   {
    "duration": 9,
    "start_time": "2022-05-14T23:19:01.243Z"
   },
   {
    "duration": 17,
    "start_time": "2022-05-14T23:19:01.253Z"
   },
   {
    "duration": 17,
    "start_time": "2022-05-14T23:19:01.271Z"
   },
   {
    "duration": 27,
    "start_time": "2022-05-14T23:19:01.290Z"
   },
   {
    "duration": 15,
    "start_time": "2022-05-14T23:19:01.319Z"
   },
   {
    "duration": 16,
    "start_time": "2022-05-14T23:19:01.336Z"
   },
   {
    "duration": 68,
    "start_time": "2022-05-14T23:19:01.354Z"
   },
   {
    "duration": 115,
    "start_time": "2022-05-14T23:19:01.425Z"
   },
   {
    "duration": 5,
    "start_time": "2022-05-14T23:19:01.542Z"
   },
   {
    "duration": 13,
    "start_time": "2022-05-14T23:19:01.549Z"
   },
   {
    "duration": 3050,
    "start_time": "2022-05-14T23:20:29.723Z"
   },
   {
    "duration": 41,
    "start_time": "2022-05-14T23:20:32.775Z"
   },
   {
    "duration": 44,
    "start_time": "2022-05-14T23:20:32.817Z"
   },
   {
    "duration": 4,
    "start_time": "2022-05-14T23:20:32.863Z"
   },
   {
    "duration": 7,
    "start_time": "2022-05-14T23:20:32.868Z"
   },
   {
    "duration": 47,
    "start_time": "2022-05-14T23:20:32.877Z"
   },
   {
    "duration": 8,
    "start_time": "2022-05-14T23:20:32.926Z"
   },
   {
    "duration": 13,
    "start_time": "2022-05-14T23:20:32.936Z"
   },
   {
    "duration": 566,
    "start_time": "2022-05-14T23:20:32.951Z"
   },
   {
    "duration": 4,
    "start_time": "2022-05-14T23:20:33.523Z"
   },
   {
    "duration": 1497,
    "start_time": "2022-05-14T23:20:33.529Z"
   },
   {
    "duration": 16,
    "start_time": "2022-05-14T23:20:35.028Z"
   },
   {
    "duration": 11,
    "start_time": "2022-05-14T23:20:35.046Z"
   },
   {
    "duration": 72,
    "start_time": "2022-05-14T23:20:35.058Z"
   },
   {
    "duration": 404,
    "start_time": "2022-05-14T23:20:35.132Z"
   },
   {
    "duration": 29,
    "start_time": "2022-05-14T23:20:35.538Z"
   },
   {
    "duration": 737,
    "start_time": "2022-05-14T23:20:35.568Z"
   },
   {
    "duration": 17,
    "start_time": "2022-05-14T23:20:36.307Z"
   },
   {
    "duration": 10,
    "start_time": "2022-05-14T23:20:36.326Z"
   },
   {
    "duration": 13,
    "start_time": "2022-05-14T23:20:36.337Z"
   },
   {
    "duration": 507,
    "start_time": "2022-05-14T23:20:36.352Z"
   },
   {
    "duration": 8,
    "start_time": "2022-05-14T23:20:36.861Z"
   },
   {
    "duration": 10,
    "start_time": "2022-05-14T23:20:36.871Z"
   },
   {
    "duration": 16,
    "start_time": "2022-05-14T23:20:36.883Z"
   },
   {
    "duration": 14,
    "start_time": "2022-05-14T23:20:36.900Z"
   },
   {
    "duration": 13,
    "start_time": "2022-05-14T23:20:36.923Z"
   },
   {
    "duration": 4,
    "start_time": "2022-05-14T23:20:36.937Z"
   },
   {
    "duration": 12,
    "start_time": "2022-05-14T23:20:36.945Z"
   },
   {
    "duration": 11,
    "start_time": "2022-05-14T23:20:36.959Z"
   },
   {
    "duration": 9,
    "start_time": "2022-05-14T23:20:36.972Z"
   },
   {
    "duration": 51,
    "start_time": "2022-05-14T23:20:36.983Z"
   },
   {
    "duration": 16,
    "start_time": "2022-05-14T23:20:37.036Z"
   },
   {
    "duration": 4,
    "start_time": "2022-05-14T23:20:37.054Z"
   },
   {
    "duration": 8,
    "start_time": "2022-05-14T23:20:37.060Z"
   },
   {
    "duration": 10,
    "start_time": "2022-05-14T23:20:37.070Z"
   },
   {
    "duration": 41,
    "start_time": "2022-05-14T23:20:37.082Z"
   },
   {
    "duration": 6,
    "start_time": "2022-05-14T23:20:37.125Z"
   },
   {
    "duration": 7,
    "start_time": "2022-05-14T23:20:37.132Z"
   },
   {
    "duration": 9,
    "start_time": "2022-05-14T23:20:37.140Z"
   },
   {
    "duration": 77,
    "start_time": "2022-05-14T23:20:37.150Z"
   },
   {
    "duration": 592,
    "start_time": "2022-05-14T23:20:37.230Z"
   },
   {
    "duration": 7,
    "start_time": "2022-05-14T23:20:37.824Z"
   },
   {
    "duration": 93,
    "start_time": "2022-05-14T23:20:37.833Z"
   },
   {
    "duration": 1795,
    "start_time": "2022-05-14T23:21:35.016Z"
   },
   {
    "duration": 43,
    "start_time": "2022-05-14T23:21:36.813Z"
   },
   {
    "duration": 41,
    "start_time": "2022-05-14T23:21:36.858Z"
   },
   {
    "duration": 24,
    "start_time": "2022-05-14T23:21:36.901Z"
   },
   {
    "duration": 18,
    "start_time": "2022-05-14T23:21:36.927Z"
   },
   {
    "duration": 16,
    "start_time": "2022-05-14T23:21:36.946Z"
   },
   {
    "duration": 18,
    "start_time": "2022-05-14T23:21:36.963Z"
   },
   {
    "duration": 16,
    "start_time": "2022-05-14T23:21:36.982Z"
   },
   {
    "duration": 557,
    "start_time": "2022-05-14T23:21:36.999Z"
   },
   {
    "duration": 3,
    "start_time": "2022-05-14T23:21:37.559Z"
   },
   {
    "duration": 450,
    "start_time": "2022-05-14T23:21:37.564Z"
   },
   {
    "duration": 16,
    "start_time": "2022-05-14T23:21:38.016Z"
   },
   {
    "duration": 8,
    "start_time": "2022-05-14T23:21:38.034Z"
   },
   {
    "duration": 17,
    "start_time": "2022-05-14T23:21:38.044Z"
   },
   {
    "duration": 218,
    "start_time": "2022-05-14T23:21:38.062Z"
   },
   {
    "duration": 30,
    "start_time": "2022-05-14T23:21:38.282Z"
   },
   {
    "duration": 587,
    "start_time": "2022-05-14T23:21:38.322Z"
   },
   {
    "duration": 18,
    "start_time": "2022-05-14T23:21:38.912Z"
   },
   {
    "duration": 9,
    "start_time": "2022-05-14T23:21:38.933Z"
   },
   {
    "duration": 15,
    "start_time": "2022-05-14T23:21:38.944Z"
   },
   {
    "duration": 510,
    "start_time": "2022-05-14T23:21:38.961Z"
   },
   {
    "duration": 10,
    "start_time": "2022-05-14T23:21:39.474Z"
   },
   {
    "duration": 11,
    "start_time": "2022-05-14T23:21:39.486Z"
   },
   {
    "duration": 26,
    "start_time": "2022-05-14T23:21:39.499Z"
   },
   {
    "duration": 15,
    "start_time": "2022-05-14T23:21:39.527Z"
   },
   {
    "duration": 13,
    "start_time": "2022-05-14T23:21:39.545Z"
   },
   {
    "duration": 6,
    "start_time": "2022-05-14T23:21:39.560Z"
   },
   {
    "duration": 17,
    "start_time": "2022-05-14T23:21:39.570Z"
   },
   {
    "duration": 43,
    "start_time": "2022-05-14T23:21:39.589Z"
   },
   {
    "duration": 16,
    "start_time": "2022-05-14T23:21:39.634Z"
   },
   {
    "duration": 15,
    "start_time": "2022-05-14T23:21:39.652Z"
   },
   {
    "duration": 27,
    "start_time": "2022-05-14T23:21:39.669Z"
   },
   {
    "duration": 25,
    "start_time": "2022-05-14T23:21:39.698Z"
   },
   {
    "duration": 8,
    "start_time": "2022-05-14T23:21:39.725Z"
   },
   {
    "duration": 6,
    "start_time": "2022-05-14T23:21:39.735Z"
   },
   {
    "duration": 7,
    "start_time": "2022-05-14T23:21:39.742Z"
   },
   {
    "duration": 9,
    "start_time": "2022-05-14T23:21:39.751Z"
   },
   {
    "duration": 8,
    "start_time": "2022-05-14T23:21:39.761Z"
   },
   {
    "duration": 11,
    "start_time": "2022-05-14T23:21:39.771Z"
   },
   {
    "duration": 41,
    "start_time": "2022-05-14T23:21:39.784Z"
   },
   {
    "duration": 303,
    "start_time": "2022-05-14T23:21:39.828Z"
   },
   {
    "duration": 99,
    "start_time": "2022-05-14T23:21:40.223Z"
   },
   {
    "duration": 7,
    "start_time": "2022-05-14T23:21:40.324Z"
   },
   {
    "duration": 1801,
    "start_time": "2022-05-14T23:22:26.275Z"
   },
   {
    "duration": 38,
    "start_time": "2022-05-14T23:22:28.078Z"
   },
   {
    "duration": 40,
    "start_time": "2022-05-14T23:22:28.117Z"
   },
   {
    "duration": 3,
    "start_time": "2022-05-14T23:22:28.159Z"
   },
   {
    "duration": 6,
    "start_time": "2022-05-14T23:22:28.164Z"
   },
   {
    "duration": 5,
    "start_time": "2022-05-14T23:22:28.172Z"
   },
   {
    "duration": 48,
    "start_time": "2022-05-14T23:22:28.178Z"
   },
   {
    "duration": 9,
    "start_time": "2022-05-14T23:22:28.228Z"
   },
   {
    "duration": 549,
    "start_time": "2022-05-14T23:22:28.239Z"
   },
   {
    "duration": 3,
    "start_time": "2022-05-14T23:22:28.791Z"
   },
   {
    "duration": 458,
    "start_time": "2022-05-14T23:22:28.796Z"
   },
   {
    "duration": 12,
    "start_time": "2022-05-14T23:22:29.256Z"
   },
   {
    "duration": 9,
    "start_time": "2022-05-14T23:22:29.270Z"
   },
   {
    "duration": 15,
    "start_time": "2022-05-14T23:22:29.280Z"
   },
   {
    "duration": 218,
    "start_time": "2022-05-14T23:22:29.297Z"
   },
   {
    "duration": 32,
    "start_time": "2022-05-14T23:22:29.516Z"
   },
   {
    "duration": 820,
    "start_time": "2022-05-14T23:22:29.550Z"
   },
   {
    "duration": 10,
    "start_time": "2022-05-14T23:22:30.423Z"
   },
   {
    "duration": 12,
    "start_time": "2022-05-14T23:22:30.434Z"
   },
   {
    "duration": 18,
    "start_time": "2022-05-14T23:22:30.447Z"
   },
   {
    "duration": 1008,
    "start_time": "2022-05-14T23:22:30.467Z"
   },
   {
    "duration": 47,
    "start_time": "2022-05-14T23:22:31.477Z"
   },
   {
    "duration": 14,
    "start_time": "2022-05-14T23:22:31.526Z"
   },
   {
    "duration": 26,
    "start_time": "2022-05-14T23:22:31.542Z"
   },
   {
    "duration": 63,
    "start_time": "2022-05-14T23:22:31.569Z"
   },
   {
    "duration": 14,
    "start_time": "2022-05-14T23:22:31.634Z"
   },
   {
    "duration": 9,
    "start_time": "2022-05-14T23:22:31.650Z"
   },
   {
    "duration": 68,
    "start_time": "2022-05-14T23:22:31.662Z"
   },
   {
    "duration": 17,
    "start_time": "2022-05-14T23:22:31.732Z"
   },
   {
    "duration": 10,
    "start_time": "2022-05-14T23:22:31.751Z"
   },
   {
    "duration": 16,
    "start_time": "2022-05-14T23:22:31.762Z"
   },
   {
    "duration": 48,
    "start_time": "2022-05-14T23:22:31.779Z"
   },
   {
    "duration": 5,
    "start_time": "2022-05-14T23:22:31.828Z"
   },
   {
    "duration": 11,
    "start_time": "2022-05-14T23:22:31.834Z"
   },
   {
    "duration": 11,
    "start_time": "2022-05-14T23:22:31.846Z"
   },
   {
    "duration": 8,
    "start_time": "2022-05-14T23:22:31.859Z"
   },
   {
    "duration": 11,
    "start_time": "2022-05-14T23:22:31.868Z"
   },
   {
    "duration": 10,
    "start_time": "2022-05-14T23:22:31.881Z"
   },
   {
    "duration": 17,
    "start_time": "2022-05-14T23:22:31.892Z"
   },
   {
    "duration": 25,
    "start_time": "2022-05-14T23:22:31.911Z"
   },
   {
    "duration": 300,
    "start_time": "2022-05-14T23:22:32.024Z"
   },
   {
    "duration": 96,
    "start_time": "2022-05-14T23:22:32.327Z"
   },
   {
    "duration": 7,
    "start_time": "2022-05-14T23:22:32.425Z"
   },
   {
    "duration": 4,
    "start_time": "2022-05-14T23:23:01.322Z"
   },
   {
    "duration": 12,
    "start_time": "2022-05-14T23:23:02.285Z"
   },
   {
    "duration": 11,
    "start_time": "2022-05-14T23:23:02.723Z"
   },
   {
    "duration": 12,
    "start_time": "2022-05-14T23:23:11.322Z"
   },
   {
    "duration": 14,
    "start_time": "2022-05-14T23:23:11.722Z"
   },
   {
    "duration": 17,
    "start_time": "2022-05-14T23:23:12.602Z"
   },
   {
    "duration": 4,
    "start_time": "2022-05-14T23:23:13.702Z"
   },
   {
    "duration": 5,
    "start_time": "2022-05-14T23:23:13.845Z"
   },
   {
    "duration": 3,
    "start_time": "2022-05-14T23:23:14.062Z"
   },
   {
    "duration": 6,
    "start_time": "2022-05-14T23:23:16.361Z"
   },
   {
    "duration": 4,
    "start_time": "2022-05-14T23:23:16.574Z"
   },
   {
    "duration": 3,
    "start_time": "2022-05-14T23:23:18.342Z"
   },
   {
    "duration": 3,
    "start_time": "2022-05-14T23:23:18.789Z"
   },
   {
    "duration": 19,
    "start_time": "2022-05-14T23:23:19.308Z"
   },
   {
    "duration": 201,
    "start_time": "2022-05-14T23:23:20.026Z"
   },
   {
    "duration": 6,
    "start_time": "2022-05-14T23:23:21.362Z"
   },
   {
    "duration": 6,
    "start_time": "2022-05-14T23:23:23.983Z"
   },
   {
    "duration": 17,
    "start_time": "2022-05-14T23:23:39.041Z"
   },
   {
    "duration": 5,
    "start_time": "2022-05-14T23:23:40.742Z"
   },
   {
    "duration": 4,
    "start_time": "2022-05-14T23:23:40.908Z"
   },
   {
    "duration": 3,
    "start_time": "2022-05-14T23:23:41.119Z"
   },
   {
    "duration": 6,
    "start_time": "2022-05-14T23:23:41.664Z"
   },
   {
    "duration": 4,
    "start_time": "2022-05-14T23:23:41.803Z"
   },
   {
    "duration": 3,
    "start_time": "2022-05-14T23:23:42.361Z"
   },
   {
    "duration": 3,
    "start_time": "2022-05-14T23:23:42.550Z"
   },
   {
    "duration": 16,
    "start_time": "2022-05-14T23:23:42.981Z"
   },
   {
    "duration": 164,
    "start_time": "2022-05-14T23:23:43.466Z"
   },
   {
    "duration": 6,
    "start_time": "2022-05-14T23:23:43.982Z"
   },
   {
    "duration": 1791,
    "start_time": "2022-05-14T23:23:53.884Z"
   },
   {
    "duration": 39,
    "start_time": "2022-05-14T23:23:55.677Z"
   },
   {
    "duration": 41,
    "start_time": "2022-05-14T23:23:55.718Z"
   },
   {
    "duration": 4,
    "start_time": "2022-05-14T23:23:55.761Z"
   },
   {
    "duration": 29,
    "start_time": "2022-05-14T23:23:55.766Z"
   },
   {
    "duration": 24,
    "start_time": "2022-05-14T23:23:55.796Z"
   },
   {
    "duration": 13,
    "start_time": "2022-05-14T23:23:55.821Z"
   },
   {
    "duration": 28,
    "start_time": "2022-05-14T23:23:55.836Z"
   },
   {
    "duration": 526,
    "start_time": "2022-05-14T23:23:55.866Z"
   },
   {
    "duration": 4,
    "start_time": "2022-05-14T23:23:56.395Z"
   },
   {
    "duration": 455,
    "start_time": "2022-05-14T23:23:56.400Z"
   },
   {
    "duration": 12,
    "start_time": "2022-05-14T23:23:56.857Z"
   },
   {
    "duration": 18,
    "start_time": "2022-05-14T23:23:56.871Z"
   },
   {
    "duration": 20,
    "start_time": "2022-05-14T23:23:56.891Z"
   },
   {
    "duration": 190,
    "start_time": "2022-05-14T23:23:56.922Z"
   },
   {
    "duration": 36,
    "start_time": "2022-05-14T23:23:57.113Z"
   },
   {
    "duration": 873,
    "start_time": "2022-05-14T23:23:57.150Z"
   },
   {
    "duration": 10,
    "start_time": "2022-05-14T23:23:58.024Z"
   },
   {
    "duration": 22,
    "start_time": "2022-05-14T23:23:58.036Z"
   },
   {
    "duration": 72,
    "start_time": "2022-05-14T23:23:58.059Z"
   },
   {
    "duration": 992,
    "start_time": "2022-05-14T23:23:58.132Z"
   },
   {
    "duration": 8,
    "start_time": "2022-05-14T23:23:59.148Z"
   },
   {
    "duration": 12,
    "start_time": "2022-05-14T23:23:59.157Z"
   },
   {
    "duration": 64,
    "start_time": "2022-05-14T23:23:59.171Z"
   },
   {
    "duration": 14,
    "start_time": "2022-05-14T23:23:59.237Z"
   },
   {
    "duration": 13,
    "start_time": "2022-05-14T23:23:59.253Z"
   },
   {
    "duration": 5,
    "start_time": "2022-05-14T23:23:59.267Z"
   },
   {
    "duration": 53,
    "start_time": "2022-05-14T23:23:59.275Z"
   },
   {
    "duration": 11,
    "start_time": "2022-05-14T23:23:59.330Z"
   },
   {
    "duration": 10,
    "start_time": "2022-05-14T23:23:59.343Z"
   },
   {
    "duration": 16,
    "start_time": "2022-05-14T23:23:59.355Z"
   },
   {
    "duration": 53,
    "start_time": "2022-05-14T23:23:59.372Z"
   },
   {
    "duration": 4,
    "start_time": "2022-05-14T23:23:59.427Z"
   },
   {
    "duration": 5,
    "start_time": "2022-05-14T23:23:59.433Z"
   },
   {
    "duration": 7,
    "start_time": "2022-05-14T23:23:59.439Z"
   },
   {
    "duration": 6,
    "start_time": "2022-05-14T23:23:59.448Z"
   },
   {
    "duration": 6,
    "start_time": "2022-05-14T23:23:59.456Z"
   },
   {
    "duration": 7,
    "start_time": "2022-05-14T23:23:59.464Z"
   },
   {
    "duration": 8,
    "start_time": "2022-05-14T23:23:59.472Z"
   },
   {
    "duration": 45,
    "start_time": "2022-05-14T23:23:59.481Z"
   },
   {
    "duration": 302,
    "start_time": "2022-05-14T23:23:59.528Z"
   },
   {
    "duration": 99,
    "start_time": "2022-05-14T23:23:59.832Z"
   },
   {
    "duration": 8,
    "start_time": "2022-05-14T23:24:00.023Z"
   },
   {
    "duration": 1768,
    "start_time": "2022-05-14T23:24:29.814Z"
   },
   {
    "duration": 38,
    "start_time": "2022-05-14T23:24:31.584Z"
   },
   {
    "duration": 39,
    "start_time": "2022-05-14T23:24:31.624Z"
   },
   {
    "duration": 4,
    "start_time": "2022-05-14T23:24:31.665Z"
   },
   {
    "duration": 5,
    "start_time": "2022-05-14T23:24:31.671Z"
   },
   {
    "duration": 5,
    "start_time": "2022-05-14T23:24:31.678Z"
   },
   {
    "duration": 43,
    "start_time": "2022-05-14T23:24:31.685Z"
   },
   {
    "duration": 11,
    "start_time": "2022-05-14T23:24:31.729Z"
   },
   {
    "duration": 552,
    "start_time": "2022-05-14T23:24:31.742Z"
   },
   {
    "duration": 3,
    "start_time": "2022-05-14T23:24:32.296Z"
   },
   {
    "duration": 7,
    "start_time": "2022-05-14T23:24:32.301Z"
   },
   {
    "duration": 453,
    "start_time": "2022-05-14T23:24:32.323Z"
   },
   {
    "duration": 13,
    "start_time": "2022-05-14T23:24:32.778Z"
   },
   {
    "duration": 8,
    "start_time": "2022-05-14T23:24:32.794Z"
   },
   {
    "duration": 30,
    "start_time": "2022-05-14T23:24:32.804Z"
   },
   {
    "duration": 221,
    "start_time": "2022-05-14T23:24:32.836Z"
   },
   {
    "duration": 28,
    "start_time": "2022-05-14T23:24:33.059Z"
   },
   {
    "duration": 597,
    "start_time": "2022-05-14T23:24:33.089Z"
   },
   {
    "duration": 10,
    "start_time": "2022-05-14T23:24:33.688Z"
   },
   {
    "duration": 25,
    "start_time": "2022-05-14T23:24:33.699Z"
   },
   {
    "duration": 24,
    "start_time": "2022-05-14T23:24:33.726Z"
   },
   {
    "duration": 531,
    "start_time": "2022-05-14T23:24:33.752Z"
   },
   {
    "duration": 9,
    "start_time": "2022-05-14T23:24:34.285Z"
   },
   {
    "duration": 10,
    "start_time": "2022-05-14T23:24:34.296Z"
   },
   {
    "duration": 31,
    "start_time": "2022-05-14T23:24:34.308Z"
   },
   {
    "duration": 14,
    "start_time": "2022-05-14T23:24:34.341Z"
   },
   {
    "duration": 14,
    "start_time": "2022-05-14T23:24:34.357Z"
   },
   {
    "duration": 4,
    "start_time": "2022-05-14T23:24:34.373Z"
   },
   {
    "duration": 12,
    "start_time": "2022-05-14T23:24:34.379Z"
   },
   {
    "duration": 11,
    "start_time": "2022-05-14T23:24:34.423Z"
   },
   {
    "duration": 10,
    "start_time": "2022-05-14T23:24:34.436Z"
   },
   {
    "duration": 15,
    "start_time": "2022-05-14T23:24:34.447Z"
   },
   {
    "duration": 17,
    "start_time": "2022-05-14T23:24:34.463Z"
   },
   {
    "duration": 4,
    "start_time": "2022-05-14T23:24:34.481Z"
   },
   {
    "duration": 39,
    "start_time": "2022-05-14T23:24:34.486Z"
   },
   {
    "duration": 4,
    "start_time": "2022-05-14T23:24:34.527Z"
   },
   {
    "duration": 8,
    "start_time": "2022-05-14T23:24:34.533Z"
   },
   {
    "duration": 8,
    "start_time": "2022-05-14T23:24:34.543Z"
   },
   {
    "duration": 9,
    "start_time": "2022-05-14T23:24:34.552Z"
   },
   {
    "duration": 8,
    "start_time": "2022-05-14T23:24:34.563Z"
   },
   {
    "duration": 58,
    "start_time": "2022-05-14T23:24:34.574Z"
   },
   {
    "duration": 298,
    "start_time": "2022-05-14T23:24:34.724Z"
   },
   {
    "duration": 99,
    "start_time": "2022-05-14T23:24:35.025Z"
   },
   {
    "duration": 11,
    "start_time": "2022-05-14T23:24:35.126Z"
   },
   {
    "duration": 1825,
    "start_time": "2022-05-14T23:25:03.419Z"
   },
   {
    "duration": 39,
    "start_time": "2022-05-14T23:25:05.246Z"
   },
   {
    "duration": 58,
    "start_time": "2022-05-14T23:25:05.287Z"
   },
   {
    "duration": 3,
    "start_time": "2022-05-14T23:25:05.349Z"
   },
   {
    "duration": 7,
    "start_time": "2022-05-14T23:25:05.354Z"
   },
   {
    "duration": 5,
    "start_time": "2022-05-14T23:25:05.363Z"
   },
   {
    "duration": 7,
    "start_time": "2022-05-14T23:25:05.370Z"
   },
   {
    "duration": 10,
    "start_time": "2022-05-14T23:25:05.424Z"
   },
   {
    "duration": 587,
    "start_time": "2022-05-14T23:25:05.436Z"
   },
   {
    "duration": 3,
    "start_time": "2022-05-14T23:25:06.028Z"
   },
   {
    "duration": 11,
    "start_time": "2022-05-14T23:25:06.033Z"
   },
   {
    "duration": 470,
    "start_time": "2022-05-14T23:25:06.046Z"
   },
   {
    "duration": 19,
    "start_time": "2022-05-14T23:25:06.518Z"
   },
   {
    "duration": 28,
    "start_time": "2022-05-14T23:25:06.539Z"
   },
   {
    "duration": 19,
    "start_time": "2022-05-14T23:25:06.569Z"
   },
   {
    "duration": 270,
    "start_time": "2022-05-14T23:25:06.590Z"
   },
   {
    "duration": 50,
    "start_time": "2022-05-14T23:25:06.862Z"
   },
   {
    "duration": 646,
    "start_time": "2022-05-14T23:25:06.914Z"
   },
   {
    "duration": 10,
    "start_time": "2022-05-14T23:25:07.562Z"
   },
   {
    "duration": 16,
    "start_time": "2022-05-14T23:25:07.574Z"
   },
   {
    "duration": 33,
    "start_time": "2022-05-14T23:25:07.592Z"
   },
   {
    "duration": 560,
    "start_time": "2022-05-14T23:25:07.627Z"
   },
   {
    "duration": 10,
    "start_time": "2022-05-14T23:25:08.189Z"
   },
   {
    "duration": 9,
    "start_time": "2022-05-14T23:25:08.201Z"
   },
   {
    "duration": 20,
    "start_time": "2022-05-14T23:25:08.222Z"
   },
   {
    "duration": 18,
    "start_time": "2022-05-14T23:25:08.244Z"
   },
   {
    "duration": 14,
    "start_time": "2022-05-14T23:25:08.264Z"
   },
   {
    "duration": 5,
    "start_time": "2022-05-14T23:25:08.282Z"
   },
   {
    "duration": 12,
    "start_time": "2022-05-14T23:25:08.322Z"
   },
   {
    "duration": 13,
    "start_time": "2022-05-14T23:25:08.336Z"
   },
   {
    "duration": 12,
    "start_time": "2022-05-14T23:25:08.350Z"
   },
   {
    "duration": 66,
    "start_time": "2022-05-14T23:25:08.364Z"
   },
   {
    "duration": 17,
    "start_time": "2022-05-14T23:25:08.432Z"
   },
   {
    "duration": 5,
    "start_time": "2022-05-14T23:25:08.451Z"
   },
   {
    "duration": 9,
    "start_time": "2022-05-14T23:25:08.457Z"
   },
   {
    "duration": 4,
    "start_time": "2022-05-14T23:25:08.524Z"
   },
   {
    "duration": 8,
    "start_time": "2022-05-14T23:25:08.530Z"
   },
   {
    "duration": 5,
    "start_time": "2022-05-14T23:25:08.540Z"
   },
   {
    "duration": 5,
    "start_time": "2022-05-14T23:25:08.547Z"
   },
   {
    "duration": 6,
    "start_time": "2022-05-14T23:25:08.554Z"
   },
   {
    "duration": 160,
    "start_time": "2022-05-14T23:25:08.563Z"
   },
   {
    "duration": 401,
    "start_time": "2022-05-14T23:25:08.726Z"
   },
   {
    "duration": 98,
    "start_time": "2022-05-14T23:25:09.129Z"
   },
   {
    "duration": 8,
    "start_time": "2022-05-14T23:25:09.230Z"
   },
   {
    "duration": 21,
    "start_time": "2022-05-14T23:26:58.227Z"
   },
   {
    "duration": 21,
    "start_time": "2022-05-14T23:27:16.815Z"
   },
   {
    "duration": 3238,
    "start_time": "2022-05-14T23:27:46.165Z"
   },
   {
    "duration": 6,
    "start_time": "2022-05-14T23:27:59.167Z"
   },
   {
    "duration": 7,
    "start_time": "2022-05-14T23:28:23.625Z"
   },
   {
    "duration": 6,
    "start_time": "2022-05-14T23:29:18.317Z"
   },
   {
    "duration": 6,
    "start_time": "2022-05-14T23:29:30.386Z"
   },
   {
    "duration": 6,
    "start_time": "2022-05-14T23:29:39.205Z"
   },
   {
    "duration": 7,
    "start_time": "2022-05-14T23:29:57.711Z"
   },
   {
    "duration": 1784,
    "start_time": "2022-05-14T23:30:08.944Z"
   },
   {
    "duration": 50,
    "start_time": "2022-05-14T23:30:10.731Z"
   },
   {
    "duration": 50,
    "start_time": "2022-05-14T23:30:10.783Z"
   },
   {
    "duration": 4,
    "start_time": "2022-05-14T23:30:10.835Z"
   },
   {
    "duration": 8,
    "start_time": "2022-05-14T23:30:10.840Z"
   },
   {
    "duration": 5,
    "start_time": "2022-05-14T23:30:10.850Z"
   },
   {
    "duration": 8,
    "start_time": "2022-05-14T23:30:10.856Z"
   },
   {
    "duration": 10,
    "start_time": "2022-05-14T23:30:10.865Z"
   },
   {
    "duration": 701,
    "start_time": "2022-05-14T23:30:10.876Z"
   },
   {
    "duration": 4,
    "start_time": "2022-05-14T23:30:11.580Z"
   },
   {
    "duration": 7,
    "start_time": "2022-05-14T23:30:11.586Z"
   },
   {
    "duration": 466,
    "start_time": "2022-05-14T23:30:11.595Z"
   },
   {
    "duration": 12,
    "start_time": "2022-05-14T23:30:12.063Z"
   },
   {
    "duration": 9,
    "start_time": "2022-05-14T23:30:12.077Z"
   },
   {
    "duration": 37,
    "start_time": "2022-05-14T23:30:12.087Z"
   },
   {
    "duration": 331,
    "start_time": "2022-05-14T23:30:12.126Z"
   },
   {
    "duration": 30,
    "start_time": "2022-05-14T23:30:12.459Z"
   },
   {
    "duration": 709,
    "start_time": "2022-05-14T23:30:12.491Z"
   },
   {
    "duration": 9,
    "start_time": "2022-05-14T23:30:13.202Z"
   },
   {
    "duration": 21,
    "start_time": "2022-05-14T23:30:13.213Z"
   },
   {
    "duration": 28,
    "start_time": "2022-05-14T23:30:13.235Z"
   },
   {
    "duration": 646,
    "start_time": "2022-05-14T23:30:13.265Z"
   },
   {
    "duration": 9,
    "start_time": "2022-05-14T23:30:13.913Z"
   },
   {
    "duration": 10,
    "start_time": "2022-05-14T23:30:13.923Z"
   },
   {
    "duration": 19,
    "start_time": "2022-05-14T23:30:13.935Z"
   },
   {
    "duration": 7,
    "start_time": "2022-05-14T23:30:13.955Z"
   },
   {
    "duration": 16,
    "start_time": "2022-05-14T23:30:13.963Z"
   },
   {
    "duration": 46,
    "start_time": "2022-05-14T23:30:13.983Z"
   },
   {
    "duration": 4,
    "start_time": "2022-05-14T23:30:14.031Z"
   },
   {
    "duration": 12,
    "start_time": "2022-05-14T23:30:14.037Z"
   },
   {
    "duration": 11,
    "start_time": "2022-05-14T23:30:14.051Z"
   },
   {
    "duration": 10,
    "start_time": "2022-05-14T23:30:14.064Z"
   },
   {
    "duration": 48,
    "start_time": "2022-05-14T23:30:14.076Z"
   },
   {
    "duration": 18,
    "start_time": "2022-05-14T23:30:14.126Z"
   },
   {
    "duration": 4,
    "start_time": "2022-05-14T23:30:14.146Z"
   },
   {
    "duration": 6,
    "start_time": "2022-05-14T23:30:14.152Z"
   },
   {
    "duration": 10,
    "start_time": "2022-05-14T23:30:14.160Z"
   },
   {
    "duration": 13,
    "start_time": "2022-05-14T23:30:14.172Z"
   },
   {
    "duration": 8,
    "start_time": "2022-05-14T23:30:14.187Z"
   },
   {
    "duration": 27,
    "start_time": "2022-05-14T23:30:14.197Z"
   },
   {
    "duration": 9,
    "start_time": "2022-05-14T23:30:14.226Z"
   },
   {
    "duration": 92,
    "start_time": "2022-05-14T23:30:14.237Z"
   },
   {
    "duration": 591,
    "start_time": "2022-05-14T23:30:14.331Z"
   },
   {
    "duration": 9,
    "start_time": "2022-05-14T23:30:14.924Z"
   },
   {
    "duration": 8,
    "start_time": "2022-05-14T23:30:14.936Z"
   },
   {
    "duration": 1760,
    "start_time": "2022-05-14T23:31:47.192Z"
   },
   {
    "duration": 39,
    "start_time": "2022-05-14T23:31:48.954Z"
   },
   {
    "duration": 45,
    "start_time": "2022-05-14T23:31:48.995Z"
   },
   {
    "duration": 3,
    "start_time": "2022-05-14T23:31:49.043Z"
   },
   {
    "duration": 6,
    "start_time": "2022-05-14T23:31:49.048Z"
   },
   {
    "duration": 5,
    "start_time": "2022-05-14T23:31:49.055Z"
   },
   {
    "duration": 6,
    "start_time": "2022-05-14T23:31:49.062Z"
   },
   {
    "duration": 9,
    "start_time": "2022-05-14T23:31:49.070Z"
   },
   {
    "duration": 564,
    "start_time": "2022-05-14T23:31:49.080Z"
   },
   {
    "duration": 4,
    "start_time": "2022-05-14T23:31:49.647Z"
   },
   {
    "duration": 13,
    "start_time": "2022-05-14T23:31:49.652Z"
   },
   {
    "duration": 465,
    "start_time": "2022-05-14T23:31:49.666Z"
   },
   {
    "duration": 12,
    "start_time": "2022-05-14T23:31:50.133Z"
   },
   {
    "duration": 9,
    "start_time": "2022-05-14T23:31:50.147Z"
   },
   {
    "duration": 19,
    "start_time": "2022-05-14T23:31:50.157Z"
   },
   {
    "duration": 246,
    "start_time": "2022-05-14T23:31:50.178Z"
   },
   {
    "duration": 30,
    "start_time": "2022-05-14T23:31:50.426Z"
   },
   {
    "duration": 615,
    "start_time": "2022-05-14T23:31:50.458Z"
   },
   {
    "duration": 10,
    "start_time": "2022-05-14T23:31:51.074Z"
   },
   {
    "duration": 11,
    "start_time": "2022-05-14T23:31:51.086Z"
   },
   {
    "duration": 31,
    "start_time": "2022-05-14T23:31:51.099Z"
   },
   {
    "duration": 527,
    "start_time": "2022-05-14T23:31:51.132Z"
   },
   {
    "duration": 9,
    "start_time": "2022-05-14T23:31:51.661Z"
   },
   {
    "duration": 14,
    "start_time": "2022-05-14T23:31:51.672Z"
   },
   {
    "duration": 25,
    "start_time": "2022-05-14T23:31:51.688Z"
   },
   {
    "duration": 7,
    "start_time": "2022-05-14T23:31:51.715Z"
   },
   {
    "duration": 19,
    "start_time": "2022-05-14T23:31:51.723Z"
   },
   {
    "duration": 13,
    "start_time": "2022-05-14T23:31:51.745Z"
   },
   {
    "duration": 4,
    "start_time": "2022-05-14T23:31:51.760Z"
   },
   {
    "duration": 12,
    "start_time": "2022-05-14T23:31:51.765Z"
   },
   {
    "duration": 11,
    "start_time": "2022-05-14T23:31:51.778Z"
   },
   {
    "duration": 40,
    "start_time": "2022-05-14T23:31:51.791Z"
   },
   {
    "duration": 15,
    "start_time": "2022-05-14T23:31:51.832Z"
   },
   {
    "duration": 15,
    "start_time": "2022-05-14T23:31:51.849Z"
   },
   {
    "duration": 3,
    "start_time": "2022-05-14T23:31:51.866Z"
   },
   {
    "duration": 12,
    "start_time": "2022-05-14T23:31:51.870Z"
   },
   {
    "duration": 9,
    "start_time": "2022-05-14T23:31:51.883Z"
   },
   {
    "duration": 30,
    "start_time": "2022-05-14T23:31:51.894Z"
   },
   {
    "duration": 6,
    "start_time": "2022-05-14T23:31:51.926Z"
   },
   {
    "duration": 6,
    "start_time": "2022-05-14T23:31:51.934Z"
   },
   {
    "duration": 7,
    "start_time": "2022-05-14T23:31:51.942Z"
   },
   {
    "duration": 172,
    "start_time": "2022-05-14T23:31:51.951Z"
   },
   {
    "duration": 202,
    "start_time": "2022-05-14T23:31:52.125Z"
   },
   {
    "duration": 100,
    "start_time": "2022-05-14T23:31:52.328Z"
   },
   {
    "duration": 98,
    "start_time": "2022-05-14T23:31:52.431Z"
   },
   {
    "duration": 1808,
    "start_time": "2022-05-14T23:34:08.039Z"
   },
   {
    "duration": 41,
    "start_time": "2022-05-14T23:34:09.849Z"
   },
   {
    "duration": 47,
    "start_time": "2022-05-14T23:34:09.892Z"
   },
   {
    "duration": 4,
    "start_time": "2022-05-14T23:34:09.941Z"
   },
   {
    "duration": 15,
    "start_time": "2022-05-14T23:34:09.946Z"
   },
   {
    "duration": 6,
    "start_time": "2022-05-14T23:34:09.963Z"
   },
   {
    "duration": 6,
    "start_time": "2022-05-14T23:34:09.971Z"
   },
   {
    "duration": 8,
    "start_time": "2022-05-14T23:34:09.979Z"
   },
   {
    "duration": 602,
    "start_time": "2022-05-14T23:34:09.989Z"
   },
   {
    "duration": 4,
    "start_time": "2022-05-14T23:34:10.594Z"
   },
   {
    "duration": 8,
    "start_time": "2022-05-14T23:34:10.599Z"
   },
   {
    "duration": 468,
    "start_time": "2022-05-14T23:34:10.623Z"
   },
   {
    "duration": 14,
    "start_time": "2022-05-14T23:34:11.092Z"
   },
   {
    "duration": 23,
    "start_time": "2022-05-14T23:34:11.107Z"
   },
   {
    "duration": 20,
    "start_time": "2022-05-14T23:34:11.131Z"
   },
   {
    "duration": 255,
    "start_time": "2022-05-14T23:34:11.152Z"
   },
   {
    "duration": 37,
    "start_time": "2022-05-14T23:34:11.409Z"
   },
   {
    "duration": 638,
    "start_time": "2022-05-14T23:34:11.448Z"
   },
   {
    "duration": 10,
    "start_time": "2022-05-14T23:34:12.088Z"
   },
   {
    "duration": 26,
    "start_time": "2022-05-14T23:34:12.100Z"
   },
   {
    "duration": 16,
    "start_time": "2022-05-14T23:34:12.127Z"
   },
   {
    "duration": 558,
    "start_time": "2022-05-14T23:34:12.145Z"
   },
   {
    "duration": 9,
    "start_time": "2022-05-14T23:34:12.705Z"
   },
   {
    "duration": 12,
    "start_time": "2022-05-14T23:34:12.716Z"
   },
   {
    "duration": 20,
    "start_time": "2022-05-14T23:34:12.730Z"
   },
   {
    "duration": 6,
    "start_time": "2022-05-14T23:34:12.752Z"
   },
   {
    "duration": 15,
    "start_time": "2022-05-14T23:34:12.760Z"
   },
   {
    "duration": 13,
    "start_time": "2022-05-14T23:34:12.779Z"
   },
   {
    "duration": 4,
    "start_time": "2022-05-14T23:34:12.824Z"
   },
   {
    "duration": 12,
    "start_time": "2022-05-14T23:34:12.830Z"
   },
   {
    "duration": 13,
    "start_time": "2022-05-14T23:34:12.844Z"
   },
   {
    "duration": 11,
    "start_time": "2022-05-14T23:34:12.859Z"
   },
   {
    "duration": 51,
    "start_time": "2022-05-14T23:34:12.872Z"
   },
   {
    "duration": 17,
    "start_time": "2022-05-14T23:34:12.925Z"
   },
   {
    "duration": 3,
    "start_time": "2022-05-14T23:34:12.944Z"
   },
   {
    "duration": 13,
    "start_time": "2022-05-14T23:34:12.949Z"
   },
   {
    "duration": 12,
    "start_time": "2022-05-14T23:34:12.964Z"
   },
   {
    "duration": 9,
    "start_time": "2022-05-14T23:34:12.978Z"
   },
   {
    "duration": 9,
    "start_time": "2022-05-14T23:34:12.989Z"
   },
   {
    "duration": 25,
    "start_time": "2022-05-14T23:34:13.000Z"
   },
   {
    "duration": 10,
    "start_time": "2022-05-14T23:34:13.027Z"
   },
   {
    "duration": 88,
    "start_time": "2022-05-14T23:34:13.039Z"
   },
   {
    "duration": 497,
    "start_time": "2022-05-14T23:34:13.130Z"
   },
   {
    "duration": 97,
    "start_time": "2022-05-14T23:34:13.630Z"
   },
   {
    "duration": 8,
    "start_time": "2022-05-14T23:34:13.729Z"
   },
   {
    "duration": 1789,
    "start_time": "2022-05-14T23:34:39.004Z"
   },
   {
    "duration": 40,
    "start_time": "2022-05-14T23:34:40.795Z"
   },
   {
    "duration": 46,
    "start_time": "2022-05-14T23:34:40.837Z"
   },
   {
    "duration": 4,
    "start_time": "2022-05-14T23:34:40.885Z"
   },
   {
    "duration": 36,
    "start_time": "2022-05-14T23:34:40.890Z"
   },
   {
    "duration": 6,
    "start_time": "2022-05-14T23:34:40.927Z"
   },
   {
    "duration": 7,
    "start_time": "2022-05-14T23:34:40.934Z"
   },
   {
    "duration": 9,
    "start_time": "2022-05-14T23:34:40.942Z"
   },
   {
    "duration": 572,
    "start_time": "2022-05-14T23:34:40.953Z"
   },
   {
    "duration": 3,
    "start_time": "2022-05-14T23:34:41.528Z"
   },
   {
    "duration": 8,
    "start_time": "2022-05-14T23:34:41.533Z"
   },
   {
    "duration": 451,
    "start_time": "2022-05-14T23:34:41.542Z"
   },
   {
    "duration": 13,
    "start_time": "2022-05-14T23:34:41.995Z"
   },
   {
    "duration": 20,
    "start_time": "2022-05-14T23:34:42.009Z"
   },
   {
    "duration": 15,
    "start_time": "2022-05-14T23:34:42.031Z"
   },
   {
    "duration": 229,
    "start_time": "2022-05-14T23:34:42.047Z"
   },
   {
    "duration": 29,
    "start_time": "2022-05-14T23:34:42.278Z"
   },
   {
    "duration": 756,
    "start_time": "2022-05-14T23:34:42.309Z"
   },
   {
    "duration": 63,
    "start_time": "2022-05-14T23:34:43.066Z"
   },
   {
    "duration": 10,
    "start_time": "2022-05-14T23:34:43.131Z"
   },
   {
    "duration": 13,
    "start_time": "2022-05-14T23:34:43.143Z"
   },
   {
    "duration": 1097,
    "start_time": "2022-05-14T23:34:43.158Z"
   },
   {
    "duration": 9,
    "start_time": "2022-05-14T23:34:44.257Z"
   },
   {
    "duration": 10,
    "start_time": "2022-05-14T23:34:44.268Z"
   },
   {
    "duration": 56,
    "start_time": "2022-05-14T23:34:44.280Z"
   },
   {
    "duration": 6,
    "start_time": "2022-05-14T23:34:44.338Z"
   },
   {
    "duration": 24,
    "start_time": "2022-05-14T23:34:44.346Z"
   },
   {
    "duration": 14,
    "start_time": "2022-05-14T23:34:44.422Z"
   },
   {
    "duration": 7,
    "start_time": "2022-05-14T23:34:44.438Z"
   },
   {
    "duration": 17,
    "start_time": "2022-05-14T23:34:44.447Z"
   },
   {
    "duration": 66,
    "start_time": "2022-05-14T23:34:44.465Z"
   },
   {
    "duration": 11,
    "start_time": "2022-05-14T23:34:44.533Z"
   },
   {
    "duration": 15,
    "start_time": "2022-05-14T23:34:44.546Z"
   },
   {
    "duration": 62,
    "start_time": "2022-05-14T23:34:44.562Z"
   },
   {
    "duration": 4,
    "start_time": "2022-05-14T23:34:44.626Z"
   },
   {
    "duration": 6,
    "start_time": "2022-05-14T23:34:44.632Z"
   },
   {
    "duration": 5,
    "start_time": "2022-05-14T23:34:44.640Z"
   },
   {
    "duration": 7,
    "start_time": "2022-05-14T23:34:44.646Z"
   },
   {
    "duration": 5,
    "start_time": "2022-05-14T23:34:44.655Z"
   },
   {
    "duration": 5,
    "start_time": "2022-05-14T23:34:44.661Z"
   },
   {
    "duration": 7,
    "start_time": "2022-05-14T23:34:44.668Z"
   },
   {
    "duration": 50,
    "start_time": "2022-05-14T23:34:44.676Z"
   },
   {
    "duration": 402,
    "start_time": "2022-05-14T23:34:44.728Z"
   },
   {
    "duration": 96,
    "start_time": "2022-05-14T23:34:45.132Z"
   },
   {
    "duration": 98,
    "start_time": "2022-05-14T23:34:45.230Z"
   },
   {
    "duration": 2198,
    "start_time": "2022-05-14T23:35:25.700Z"
   },
   {
    "duration": 38,
    "start_time": "2022-05-14T23:35:27.900Z"
   },
   {
    "duration": 39,
    "start_time": "2022-05-14T23:35:27.940Z"
   },
   {
    "duration": 3,
    "start_time": "2022-05-14T23:35:27.981Z"
   },
   {
    "duration": 37,
    "start_time": "2022-05-14T23:35:27.986Z"
   },
   {
    "duration": 5,
    "start_time": "2022-05-14T23:35:28.025Z"
   },
   {
    "duration": 12,
    "start_time": "2022-05-14T23:35:28.031Z"
   },
   {
    "duration": 10,
    "start_time": "2022-05-14T23:35:28.044Z"
   },
   {
    "duration": 559,
    "start_time": "2022-05-14T23:35:28.055Z"
   },
   {
    "duration": 5,
    "start_time": "2022-05-14T23:35:28.617Z"
   },
   {
    "duration": 13,
    "start_time": "2022-05-14T23:35:28.624Z"
   },
   {
    "duration": 448,
    "start_time": "2022-05-14T23:35:28.639Z"
   },
   {
    "duration": 12,
    "start_time": "2022-05-14T23:35:29.089Z"
   },
   {
    "duration": 25,
    "start_time": "2022-05-14T23:35:29.103Z"
   },
   {
    "duration": 14,
    "start_time": "2022-05-14T23:35:29.130Z"
   },
   {
    "duration": 215,
    "start_time": "2022-05-14T23:35:29.146Z"
   },
   {
    "duration": 27,
    "start_time": "2022-05-14T23:35:29.362Z"
   },
   {
    "duration": 630,
    "start_time": "2022-05-14T23:35:29.391Z"
   },
   {
    "duration": 10,
    "start_time": "2022-05-14T23:35:30.023Z"
   },
   {
    "duration": 14,
    "start_time": "2022-05-14T23:35:30.034Z"
   },
   {
    "duration": 19,
    "start_time": "2022-05-14T23:35:30.049Z"
   },
   {
    "duration": 538,
    "start_time": "2022-05-14T23:35:30.069Z"
   },
   {
    "duration": 9,
    "start_time": "2022-05-14T23:35:30.609Z"
   },
   {
    "duration": 37,
    "start_time": "2022-05-14T23:35:30.620Z"
   },
   {
    "duration": 42,
    "start_time": "2022-05-14T23:35:30.658Z"
   },
   {
    "duration": 12,
    "start_time": "2022-05-14T23:35:30.701Z"
   },
   {
    "duration": 39,
    "start_time": "2022-05-14T23:35:30.715Z"
   },
   {
    "duration": 45,
    "start_time": "2022-05-14T23:35:30.758Z"
   },
   {
    "duration": 23,
    "start_time": "2022-05-14T23:35:30.805Z"
   },
   {
    "duration": 37,
    "start_time": "2022-05-14T23:35:30.830Z"
   },
   {
    "duration": 31,
    "start_time": "2022-05-14T23:35:30.869Z"
   },
   {
    "duration": 31,
    "start_time": "2022-05-14T23:35:30.902Z"
   },
   {
    "duration": 32,
    "start_time": "2022-05-14T23:35:30.934Z"
   },
   {
    "duration": 46,
    "start_time": "2022-05-14T23:35:30.967Z"
   },
   {
    "duration": 21,
    "start_time": "2022-05-14T23:35:31.015Z"
   },
   {
    "duration": 44,
    "start_time": "2022-05-14T23:35:31.039Z"
   },
   {
    "duration": 26,
    "start_time": "2022-05-14T23:35:31.085Z"
   },
   {
    "duration": 21,
    "start_time": "2022-05-14T23:35:31.113Z"
   },
   {
    "duration": 19,
    "start_time": "2022-05-14T23:35:31.136Z"
   },
   {
    "duration": 25,
    "start_time": "2022-05-14T23:35:31.157Z"
   },
   {
    "duration": 26,
    "start_time": "2022-05-14T23:35:31.184Z"
   },
   {
    "duration": 36,
    "start_time": "2022-05-14T23:35:31.212Z"
   },
   {
    "duration": 302,
    "start_time": "2022-05-14T23:35:31.325Z"
   },
   {
    "duration": 100,
    "start_time": "2022-05-14T23:35:31.630Z"
   },
   {
    "duration": 94,
    "start_time": "2022-05-14T23:35:31.732Z"
   },
   {
    "duration": 9,
    "start_time": "2022-05-14T23:38:47.880Z"
   },
   {
    "duration": 9,
    "start_time": "2022-05-14T23:39:44.878Z"
   },
   {
    "duration": 10,
    "start_time": "2022-05-14T23:39:45.919Z"
   },
   {
    "duration": 1797,
    "start_time": "2022-05-14T23:43:35.986Z"
   },
   {
    "duration": 40,
    "start_time": "2022-05-14T23:43:37.785Z"
   },
   {
    "duration": 42,
    "start_time": "2022-05-14T23:43:37.827Z"
   },
   {
    "duration": 4,
    "start_time": "2022-05-14T23:43:37.871Z"
   },
   {
    "duration": 7,
    "start_time": "2022-05-14T23:43:37.876Z"
   },
   {
    "duration": 5,
    "start_time": "2022-05-14T23:43:37.884Z"
   },
   {
    "duration": 8,
    "start_time": "2022-05-14T23:43:37.923Z"
   },
   {
    "duration": 9,
    "start_time": "2022-05-14T23:43:37.932Z"
   },
   {
    "duration": 639,
    "start_time": "2022-05-14T23:43:37.943Z"
   },
   {
    "duration": 3,
    "start_time": "2022-05-14T23:43:38.585Z"
   },
   {
    "duration": 7,
    "start_time": "2022-05-14T23:43:38.591Z"
   },
   {
    "duration": 468,
    "start_time": "2022-05-14T23:43:38.600Z"
   },
   {
    "duration": 13,
    "start_time": "2022-05-14T23:43:39.071Z"
   },
   {
    "duration": 9,
    "start_time": "2022-05-14T23:43:39.086Z"
   },
   {
    "duration": 34,
    "start_time": "2022-05-14T23:43:39.097Z"
   },
   {
    "duration": 229,
    "start_time": "2022-05-14T23:43:39.133Z"
   },
   {
    "duration": 29,
    "start_time": "2022-05-14T23:43:39.365Z"
   },
   {
    "duration": 740,
    "start_time": "2022-05-14T23:43:39.396Z"
   },
   {
    "duration": 13,
    "start_time": "2022-05-14T23:43:40.138Z"
   },
   {
    "duration": 13,
    "start_time": "2022-05-14T23:43:40.153Z"
   },
   {
    "duration": 13,
    "start_time": "2022-05-14T23:43:40.224Z"
   },
   {
    "duration": 1116,
    "start_time": "2022-05-14T23:43:40.239Z"
   },
   {
    "duration": 9,
    "start_time": "2022-05-14T23:43:41.358Z"
   },
   {
    "duration": 54,
    "start_time": "2022-05-14T23:43:41.369Z"
   },
   {
    "duration": 19,
    "start_time": "2022-05-14T23:43:41.425Z"
   },
   {
    "duration": 6,
    "start_time": "2022-05-14T23:43:41.446Z"
   },
   {
    "duration": 70,
    "start_time": "2022-05-14T23:43:41.454Z"
   },
   {
    "duration": 14,
    "start_time": "2022-05-14T23:43:41.528Z"
   },
   {
    "duration": 4,
    "start_time": "2022-05-14T23:43:41.544Z"
   },
   {
    "duration": 13,
    "start_time": "2022-05-14T23:43:41.550Z"
   },
   {
    "duration": 66,
    "start_time": "2022-05-14T23:43:41.565Z"
   },
   {
    "duration": 12,
    "start_time": "2022-05-14T23:43:41.633Z"
   },
   {
    "duration": 15,
    "start_time": "2022-05-14T23:43:41.647Z"
   },
   {
    "duration": 64,
    "start_time": "2022-05-14T23:43:41.664Z"
   },
   {
    "duration": 12,
    "start_time": "2022-05-14T23:43:41.730Z"
   },
   {
    "duration": 13,
    "start_time": "2022-05-14T23:43:41.744Z"
   },
   {
    "duration": 10,
    "start_time": "2022-05-14T23:43:41.759Z"
   },
   {
    "duration": 219,
    "start_time": "2022-05-14T23:43:41.771Z"
   },
   {
    "duration": 0,
    "start_time": "2022-05-14T23:43:41.992Z"
   },
   {
    "duration": 0,
    "start_time": "2022-05-14T23:43:41.993Z"
   },
   {
    "duration": 0,
    "start_time": "2022-05-14T23:43:41.994Z"
   },
   {
    "duration": 0,
    "start_time": "2022-05-14T23:43:41.995Z"
   },
   {
    "duration": 0,
    "start_time": "2022-05-14T23:43:41.995Z"
   },
   {
    "duration": 0,
    "start_time": "2022-05-14T23:43:41.996Z"
   },
   {
    "duration": 0,
    "start_time": "2022-05-14T23:43:41.997Z"
   },
   {
    "duration": 0,
    "start_time": "2022-05-14T23:43:41.999Z"
   },
   {
    "duration": 0,
    "start_time": "2022-05-14T23:43:41.999Z"
   },
   {
    "duration": 0,
    "start_time": "2022-05-14T23:43:42.000Z"
   },
   {
    "duration": 0,
    "start_time": "2022-05-14T23:43:42.001Z"
   },
   {
    "duration": 0,
    "start_time": "2022-05-14T23:43:42.023Z"
   },
   {
    "duration": 14,
    "start_time": "2022-05-14T23:44:27.530Z"
   },
   {
    "duration": 16,
    "start_time": "2022-05-14T23:44:33.987Z"
   },
   {
    "duration": 16,
    "start_time": "2022-05-14T23:48:11.125Z"
   },
   {
    "duration": 6,
    "start_time": "2022-05-14T23:48:31.085Z"
   },
   {
    "duration": 14,
    "start_time": "2022-05-14T23:48:32.720Z"
   },
   {
    "duration": 14,
    "start_time": "2022-05-14T23:48:42.566Z"
   },
   {
    "duration": 15,
    "start_time": "2022-05-14T23:49:05.684Z"
   },
   {
    "duration": 4,
    "start_time": "2022-05-14T23:49:57.804Z"
   },
   {
    "duration": 8,
    "start_time": "2022-05-14T23:49:57.811Z"
   },
   {
    "duration": 6,
    "start_time": "2022-05-14T23:49:57.821Z"
   },
   {
    "duration": 5,
    "start_time": "2022-05-14T23:52:24.308Z"
   },
   {
    "duration": 4,
    "start_time": "2022-05-14T23:52:24.952Z"
   },
   {
    "duration": 4,
    "start_time": "2022-05-14T23:53:19.984Z"
   },
   {
    "duration": 71,
    "start_time": "2022-05-14T23:53:21.353Z"
   },
   {
    "duration": 156,
    "start_time": "2022-05-14T23:53:55.171Z"
   },
   {
    "duration": 6,
    "start_time": "2022-05-14T23:54:36.412Z"
   },
   {
    "duration": 1876,
    "start_time": "2022-05-14T23:54:49.586Z"
   },
   {
    "duration": 38,
    "start_time": "2022-05-14T23:54:51.465Z"
   },
   {
    "duration": 47,
    "start_time": "2022-05-14T23:54:51.505Z"
   },
   {
    "duration": 4,
    "start_time": "2022-05-14T23:54:51.554Z"
   },
   {
    "duration": 8,
    "start_time": "2022-05-14T23:54:51.560Z"
   },
   {
    "duration": 5,
    "start_time": "2022-05-14T23:54:51.569Z"
   },
   {
    "duration": 6,
    "start_time": "2022-05-14T23:54:51.576Z"
   },
   {
    "duration": 46,
    "start_time": "2022-05-14T23:54:51.584Z"
   },
   {
    "duration": 536,
    "start_time": "2022-05-14T23:54:51.631Z"
   },
   {
    "duration": 4,
    "start_time": "2022-05-14T23:54:52.170Z"
   },
   {
    "duration": 11,
    "start_time": "2022-05-14T23:54:52.175Z"
   },
   {
    "duration": 445,
    "start_time": "2022-05-14T23:54:52.188Z"
   },
   {
    "duration": 12,
    "start_time": "2022-05-14T23:54:52.635Z"
   },
   {
    "duration": 9,
    "start_time": "2022-05-14T23:54:52.649Z"
   },
   {
    "duration": 17,
    "start_time": "2022-05-14T23:54:52.660Z"
   },
   {
    "duration": 236,
    "start_time": "2022-05-14T23:54:52.678Z"
   },
   {
    "duration": 29,
    "start_time": "2022-05-14T23:54:52.916Z"
   },
   {
    "duration": 617,
    "start_time": "2022-05-14T23:54:52.947Z"
   },
   {
    "duration": 9,
    "start_time": "2022-05-14T23:54:53.566Z"
   },
   {
    "duration": 8,
    "start_time": "2022-05-14T23:54:53.577Z"
   },
   {
    "duration": 12,
    "start_time": "2022-05-14T23:54:53.587Z"
   },
   {
    "duration": 639,
    "start_time": "2022-05-14T23:54:53.600Z"
   },
   {
    "duration": 8,
    "start_time": "2022-05-14T23:54:54.241Z"
   },
   {
    "duration": 10,
    "start_time": "2022-05-14T23:54:54.251Z"
   },
   {
    "duration": 17,
    "start_time": "2022-05-14T23:54:54.262Z"
   },
   {
    "duration": 5,
    "start_time": "2022-05-14T23:54:54.281Z"
   },
   {
    "duration": 14,
    "start_time": "2022-05-14T23:54:54.288Z"
   },
   {
    "duration": 13,
    "start_time": "2022-05-14T23:54:54.323Z"
   },
   {
    "duration": 4,
    "start_time": "2022-05-14T23:54:54.338Z"
   },
   {
    "duration": 11,
    "start_time": "2022-05-14T23:54:54.344Z"
   },
   {
    "duration": 14,
    "start_time": "2022-05-14T23:54:54.356Z"
   },
   {
    "duration": 10,
    "start_time": "2022-05-14T23:54:54.372Z"
   },
   {
    "duration": 48,
    "start_time": "2022-05-14T23:54:54.384Z"
   },
   {
    "duration": 12,
    "start_time": "2022-05-14T23:54:54.434Z"
   },
   {
    "duration": 7,
    "start_time": "2022-05-14T23:54:54.448Z"
   },
   {
    "duration": 13,
    "start_time": "2022-05-14T23:54:54.456Z"
   },
   {
    "duration": 7,
    "start_time": "2022-05-14T23:54:54.471Z"
   },
   {
    "duration": 20,
    "start_time": "2022-05-14T23:54:54.480Z"
   },
   {
    "duration": 29,
    "start_time": "2022-05-14T23:54:54.502Z"
   },
   {
    "duration": 17,
    "start_time": "2022-05-14T23:54:54.533Z"
   },
   {
    "duration": 7,
    "start_time": "2022-05-14T23:54:54.552Z"
   },
   {
    "duration": 15,
    "start_time": "2022-05-14T23:54:54.560Z"
   },
   {
    "duration": 45,
    "start_time": "2022-05-14T23:54:54.578Z"
   },
   {
    "duration": 5,
    "start_time": "2022-05-14T23:54:54.625Z"
   },
   {
    "duration": 6,
    "start_time": "2022-05-14T23:54:54.632Z"
   },
   {
    "duration": 10,
    "start_time": "2022-05-14T23:54:54.639Z"
   },
   {
    "duration": 8,
    "start_time": "2022-05-14T23:54:54.651Z"
   },
   {
    "duration": 6,
    "start_time": "2022-05-14T23:54:54.661Z"
   },
   {
    "duration": 63,
    "start_time": "2022-05-14T23:54:54.669Z"
   },
   {
    "duration": 206,
    "start_time": "2022-05-14T23:54:54.824Z"
   },
   {
    "duration": 98,
    "start_time": "2022-05-14T23:54:55.032Z"
   },
   {
    "duration": 107,
    "start_time": "2022-05-14T23:54:55.132Z"
   },
   {
    "duration": 3,
    "start_time": "2022-05-14T23:54:55.241Z"
   },
   {
    "duration": 12,
    "start_time": "2022-05-14T23:54:55.246Z"
   },
   {
    "duration": 12,
    "start_time": "2022-05-14T23:54:55.260Z"
   },
   {
    "duration": 15,
    "start_time": "2022-05-14T23:54:55.274Z"
   },
   {
    "duration": 6,
    "start_time": "2022-05-14T23:54:55.291Z"
   },
   {
    "duration": 3,
    "start_time": "2022-05-14T23:54:55.299Z"
   },
   {
    "duration": 21,
    "start_time": "2022-05-14T23:54:55.303Z"
   },
   {
    "duration": 18,
    "start_time": "2022-05-14T23:54:55.326Z"
   },
   {
    "duration": 306,
    "start_time": "2022-05-14T23:54:55.424Z"
   },
   {
    "duration": 93,
    "start_time": "2022-05-14T23:54:55.732Z"
   },
   {
    "duration": 99,
    "start_time": "2022-05-14T23:54:55.827Z"
   },
   {
    "duration": 7,
    "start_time": "2022-05-14T23:57:00.625Z"
   },
   {
    "duration": 16,
    "start_time": "2022-05-14T23:57:01.285Z"
   },
   {
    "duration": 7,
    "start_time": "2022-05-14T23:57:15.006Z"
   },
   {
    "duration": 16,
    "start_time": "2022-05-14T23:57:15.685Z"
   },
   {
    "duration": 1797,
    "start_time": "2022-05-14T23:57:23.820Z"
   },
   {
    "duration": 38,
    "start_time": "2022-05-14T23:57:25.620Z"
   },
   {
    "duration": 39,
    "start_time": "2022-05-14T23:57:25.659Z"
   },
   {
    "duration": 3,
    "start_time": "2022-05-14T23:57:25.699Z"
   },
   {
    "duration": 21,
    "start_time": "2022-05-14T23:57:25.704Z"
   },
   {
    "duration": 5,
    "start_time": "2022-05-14T23:57:25.727Z"
   },
   {
    "duration": 7,
    "start_time": "2022-05-14T23:57:25.733Z"
   },
   {
    "duration": 8,
    "start_time": "2022-05-14T23:57:25.741Z"
   },
   {
    "duration": 557,
    "start_time": "2022-05-14T23:57:25.750Z"
   },
   {
    "duration": 4,
    "start_time": "2022-05-14T23:57:26.308Z"
   },
   {
    "duration": 13,
    "start_time": "2022-05-14T23:57:26.314Z"
   },
   {
    "duration": 443,
    "start_time": "2022-05-14T23:57:26.329Z"
   },
   {
    "duration": 11,
    "start_time": "2022-05-14T23:57:26.774Z"
   },
   {
    "duration": 15,
    "start_time": "2022-05-14T23:57:26.789Z"
   },
   {
    "duration": 25,
    "start_time": "2022-05-14T23:57:26.806Z"
   },
   {
    "duration": 219,
    "start_time": "2022-05-14T23:57:26.833Z"
   },
   {
    "duration": 30,
    "start_time": "2022-05-14T23:57:27.054Z"
   },
   {
    "duration": 589,
    "start_time": "2022-05-14T23:57:27.086Z"
   },
   {
    "duration": 9,
    "start_time": "2022-05-14T23:57:27.677Z"
   },
   {
    "duration": 10,
    "start_time": "2022-05-14T23:57:27.688Z"
   },
   {
    "duration": 33,
    "start_time": "2022-05-14T23:57:27.699Z"
   },
   {
    "duration": 988,
    "start_time": "2022-05-14T23:57:27.734Z"
   },
   {
    "duration": 8,
    "start_time": "2022-05-14T23:57:28.725Z"
   },
   {
    "duration": 9,
    "start_time": "2022-05-14T23:57:28.735Z"
   },
   {
    "duration": 17,
    "start_time": "2022-05-14T23:57:28.746Z"
   },
   {
    "duration": 60,
    "start_time": "2022-05-14T23:57:28.765Z"
   },
   {
    "duration": 16,
    "start_time": "2022-05-14T23:57:28.826Z"
   },
   {
    "duration": 14,
    "start_time": "2022-05-14T23:57:28.844Z"
   },
   {
    "duration": 5,
    "start_time": "2022-05-14T23:57:28.859Z"
   },
   {
    "duration": 67,
    "start_time": "2022-05-14T23:57:28.866Z"
   },
   {
    "duration": 14,
    "start_time": "2022-05-14T23:57:28.934Z"
   },
   {
    "duration": 11,
    "start_time": "2022-05-14T23:57:28.949Z"
   },
   {
    "duration": 69,
    "start_time": "2022-05-14T23:57:28.962Z"
   },
   {
    "duration": 10,
    "start_time": "2022-05-14T23:57:29.033Z"
   },
   {
    "duration": 7,
    "start_time": "2022-05-14T23:57:29.045Z"
   },
   {
    "duration": 9,
    "start_time": "2022-05-14T23:57:29.054Z"
   },
   {
    "duration": 4,
    "start_time": "2022-05-14T23:57:29.064Z"
   },
   {
    "duration": 10,
    "start_time": "2022-05-14T23:57:29.123Z"
   },
   {
    "duration": 15,
    "start_time": "2022-05-14T23:57:29.135Z"
   },
   {
    "duration": 72,
    "start_time": "2022-05-14T23:57:29.152Z"
   },
   {
    "duration": 7,
    "start_time": "2022-05-14T23:57:29.228Z"
   },
   {
    "duration": 13,
    "start_time": "2022-05-14T23:57:29.236Z"
   },
   {
    "duration": 6,
    "start_time": "2022-05-14T23:57:29.250Z"
   },
   {
    "duration": 5,
    "start_time": "2022-05-14T23:57:29.257Z"
   },
   {
    "duration": 59,
    "start_time": "2022-05-14T23:57:29.264Z"
   },
   {
    "duration": 6,
    "start_time": "2022-05-14T23:57:29.325Z"
   },
   {
    "duration": 6,
    "start_time": "2022-05-14T23:57:29.332Z"
   },
   {
    "duration": 3,
    "start_time": "2022-05-14T23:57:29.340Z"
   },
   {
    "duration": 178,
    "start_time": "2022-05-14T23:57:29.345Z"
   },
   {
    "duration": 497,
    "start_time": "2022-05-14T23:57:29.525Z"
   },
   {
    "duration": 8,
    "start_time": "2022-05-14T23:57:30.025Z"
   },
   {
    "duration": 102,
    "start_time": "2022-05-14T23:57:30.035Z"
   },
   {
    "duration": 7,
    "start_time": "2022-05-14T23:57:30.139Z"
   },
   {
    "duration": 13,
    "start_time": "2022-05-14T23:57:30.147Z"
   },
   {
    "duration": 61,
    "start_time": "2022-05-14T23:57:30.162Z"
   },
   {
    "duration": 13,
    "start_time": "2022-05-14T23:57:30.225Z"
   },
   {
    "duration": 12,
    "start_time": "2022-05-14T23:57:30.240Z"
   },
   {
    "duration": 16,
    "start_time": "2022-05-14T23:57:30.253Z"
   },
   {
    "duration": 52,
    "start_time": "2022-05-14T23:57:30.271Z"
   },
   {
    "duration": 98,
    "start_time": "2022-05-14T23:57:30.325Z"
   },
   {
    "duration": 302,
    "start_time": "2022-05-14T23:57:30.425Z"
   },
   {
    "duration": 97,
    "start_time": "2022-05-14T23:57:30.729Z"
   },
   {
    "duration": 11,
    "start_time": "2022-05-14T23:57:30.829Z"
   },
   {
    "duration": 1776,
    "start_time": "2022-05-14T23:58:24.498Z"
   },
   {
    "duration": 40,
    "start_time": "2022-05-14T23:58:26.276Z"
   },
   {
    "duration": 41,
    "start_time": "2022-05-14T23:58:26.318Z"
   },
   {
    "duration": 3,
    "start_time": "2022-05-14T23:58:26.361Z"
   },
   {
    "duration": 7,
    "start_time": "2022-05-14T23:58:26.366Z"
   },
   {
    "duration": 5,
    "start_time": "2022-05-14T23:58:26.375Z"
   },
   {
    "duration": 42,
    "start_time": "2022-05-14T23:58:26.382Z"
   },
   {
    "duration": 10,
    "start_time": "2022-05-14T23:58:26.426Z"
   },
   {
    "duration": 526,
    "start_time": "2022-05-14T23:58:26.437Z"
   },
   {
    "duration": 4,
    "start_time": "2022-05-14T23:58:26.966Z"
   },
   {
    "duration": 8,
    "start_time": "2022-05-14T23:58:26.972Z"
   },
   {
    "duration": 449,
    "start_time": "2022-05-14T23:58:26.982Z"
   },
   {
    "duration": 11,
    "start_time": "2022-05-14T23:58:27.433Z"
   },
   {
    "duration": 8,
    "start_time": "2022-05-14T23:58:27.446Z"
   },
   {
    "duration": 15,
    "start_time": "2022-05-14T23:58:27.455Z"
   },
   {
    "duration": 242,
    "start_time": "2022-05-14T23:58:27.472Z"
   },
   {
    "duration": 35,
    "start_time": "2022-05-14T23:58:27.717Z"
   },
   {
    "duration": 618,
    "start_time": "2022-05-14T23:58:27.753Z"
   },
   {
    "duration": 10,
    "start_time": "2022-05-14T23:58:28.373Z"
   },
   {
    "duration": 9,
    "start_time": "2022-05-14T23:58:28.385Z"
   },
   {
    "duration": 39,
    "start_time": "2022-05-14T23:58:28.396Z"
   },
   {
    "duration": 526,
    "start_time": "2022-05-14T23:58:28.437Z"
   },
   {
    "duration": 10,
    "start_time": "2022-05-14T23:58:28.966Z"
   },
   {
    "duration": 14,
    "start_time": "2022-05-14T23:58:28.978Z"
   },
   {
    "duration": 19,
    "start_time": "2022-05-14T23:58:28.994Z"
   },
   {
    "duration": 6,
    "start_time": "2022-05-14T23:58:29.022Z"
   },
   {
    "duration": 15,
    "start_time": "2022-05-14T23:58:29.030Z"
   },
   {
    "duration": 13,
    "start_time": "2022-05-14T23:58:29.050Z"
   },
   {
    "duration": 5,
    "start_time": "2022-05-14T23:58:29.064Z"
   },
   {
    "duration": 12,
    "start_time": "2022-05-14T23:58:29.071Z"
   },
   {
    "duration": 12,
    "start_time": "2022-05-14T23:58:29.123Z"
   },
   {
    "duration": 10,
    "start_time": "2022-05-14T23:58:29.136Z"
   },
   {
    "duration": 15,
    "start_time": "2022-05-14T23:58:29.148Z"
   },
   {
    "duration": 10,
    "start_time": "2022-05-14T23:58:29.164Z"
   },
   {
    "duration": 9,
    "start_time": "2022-05-14T23:58:29.175Z"
   },
   {
    "duration": 42,
    "start_time": "2022-05-14T23:58:29.186Z"
   },
   {
    "duration": 4,
    "start_time": "2022-05-14T23:58:29.230Z"
   },
   {
    "duration": 14,
    "start_time": "2022-05-14T23:58:29.236Z"
   },
   {
    "duration": 13,
    "start_time": "2022-05-14T23:58:29.252Z"
   },
   {
    "duration": 17,
    "start_time": "2022-05-14T23:58:29.267Z"
   },
   {
    "duration": 5,
    "start_time": "2022-05-14T23:58:29.286Z"
   },
   {
    "duration": 37,
    "start_time": "2022-05-14T23:58:29.293Z"
   },
   {
    "duration": 5,
    "start_time": "2022-05-14T23:58:29.332Z"
   },
   {
    "duration": 7,
    "start_time": "2022-05-14T23:58:29.339Z"
   },
   {
    "duration": 8,
    "start_time": "2022-05-14T23:58:29.348Z"
   },
   {
    "duration": 13,
    "start_time": "2022-05-14T23:58:29.358Z"
   },
   {
    "duration": 9,
    "start_time": "2022-05-14T23:58:29.373Z"
   },
   {
    "duration": 10,
    "start_time": "2022-05-14T23:58:29.384Z"
   },
   {
    "duration": 38,
    "start_time": "2022-05-14T23:58:29.395Z"
   },
   {
    "duration": 115,
    "start_time": "2022-05-14T23:58:29.523Z"
   },
   {
    "duration": 8,
    "start_time": "2022-05-14T23:58:29.640Z"
   },
   {
    "duration": 79,
    "start_time": "2022-05-14T23:58:29.650Z"
   },
   {
    "duration": 5,
    "start_time": "2022-05-14T23:58:29.731Z"
   },
   {
    "duration": 5,
    "start_time": "2022-05-14T23:58:29.738Z"
   },
   {
    "duration": 4,
    "start_time": "2022-05-14T23:58:29.745Z"
   },
   {
    "duration": 72,
    "start_time": "2022-05-14T23:58:29.751Z"
   },
   {
    "duration": 4,
    "start_time": "2022-05-14T23:58:29.825Z"
   },
   {
    "duration": 6,
    "start_time": "2022-05-14T23:58:29.831Z"
   },
   {
    "duration": 4,
    "start_time": "2022-05-14T23:58:29.838Z"
   },
   {
    "duration": 82,
    "start_time": "2022-05-14T23:58:29.844Z"
   },
   {
    "duration": 298,
    "start_time": "2022-05-14T23:58:29.929Z"
   },
   {
    "duration": 96,
    "start_time": "2022-05-14T23:58:30.229Z"
   },
   {
    "duration": 14,
    "start_time": "2022-05-14T23:58:30.327Z"
   },
   {
    "duration": 1725,
    "start_time": "2022-05-14T23:59:33.547Z"
   },
   {
    "duration": 38,
    "start_time": "2022-05-14T23:59:35.273Z"
   },
   {
    "duration": 39,
    "start_time": "2022-05-14T23:59:35.313Z"
   },
   {
    "duration": 4,
    "start_time": "2022-05-14T23:59:35.354Z"
   },
   {
    "duration": 6,
    "start_time": "2022-05-14T23:59:35.360Z"
   },
   {
    "duration": 10,
    "start_time": "2022-05-14T23:59:35.368Z"
   },
   {
    "duration": 10,
    "start_time": "2022-05-14T23:59:35.379Z"
   },
   {
    "duration": 39,
    "start_time": "2022-05-14T23:59:35.391Z"
   },
   {
    "duration": 555,
    "start_time": "2022-05-14T23:59:35.431Z"
   },
   {
    "duration": 4,
    "start_time": "2022-05-14T23:59:35.988Z"
   },
   {
    "duration": 447,
    "start_time": "2022-05-14T23:59:35.994Z"
   },
   {
    "duration": 11,
    "start_time": "2022-05-14T23:59:36.443Z"
   },
   {
    "duration": 8,
    "start_time": "2022-05-14T23:59:36.456Z"
   },
   {
    "duration": 14,
    "start_time": "2022-05-14T23:59:36.466Z"
   },
   {
    "duration": 220,
    "start_time": "2022-05-14T23:59:36.481Z"
   },
   {
    "duration": 34,
    "start_time": "2022-05-14T23:59:36.703Z"
   },
   {
    "duration": 719,
    "start_time": "2022-05-14T23:59:36.739Z"
   },
   {
    "duration": 10,
    "start_time": "2022-05-14T23:59:37.460Z"
   },
   {
    "duration": 9,
    "start_time": "2022-05-14T23:59:37.524Z"
   },
   {
    "duration": 14,
    "start_time": "2022-05-14T23:59:37.534Z"
   },
   {
    "duration": 997,
    "start_time": "2022-05-14T23:59:37.550Z"
   },
   {
    "duration": 9,
    "start_time": "2022-05-14T23:59:38.549Z"
   },
   {
    "duration": 10,
    "start_time": "2022-05-14T23:59:38.559Z"
   },
   {
    "duration": 62,
    "start_time": "2022-05-14T23:59:38.570Z"
   },
   {
    "duration": 6,
    "start_time": "2022-05-14T23:59:38.633Z"
   },
   {
    "duration": 17,
    "start_time": "2022-05-14T23:59:38.641Z"
   },
   {
    "duration": 67,
    "start_time": "2022-05-14T23:59:38.660Z"
   },
   {
    "duration": 5,
    "start_time": "2022-05-14T23:59:38.731Z"
   },
   {
    "duration": 11,
    "start_time": "2022-05-14T23:59:38.738Z"
   },
   {
    "duration": 12,
    "start_time": "2022-05-14T23:59:38.750Z"
   },
   {
    "duration": 67,
    "start_time": "2022-05-14T23:59:38.764Z"
   },
   {
    "duration": 15,
    "start_time": "2022-05-14T23:59:38.833Z"
   },
   {
    "duration": 8,
    "start_time": "2022-05-14T23:59:38.849Z"
   },
   {
    "duration": 64,
    "start_time": "2022-05-14T23:59:38.859Z"
   },
   {
    "duration": 8,
    "start_time": "2022-05-14T23:59:38.925Z"
   },
   {
    "duration": 5,
    "start_time": "2022-05-14T23:59:38.935Z"
   },
   {
    "duration": 13,
    "start_time": "2022-05-14T23:59:38.941Z"
   },
   {
    "duration": 13,
    "start_time": "2022-05-14T23:59:38.956Z"
   },
   {
    "duration": 13,
    "start_time": "2022-05-14T23:59:39.024Z"
   },
   {
    "duration": 5,
    "start_time": "2022-05-14T23:59:39.039Z"
   },
   {
    "duration": 12,
    "start_time": "2022-05-14T23:59:39.046Z"
   },
   {
    "duration": 4,
    "start_time": "2022-05-14T23:59:39.060Z"
   },
   {
    "duration": 59,
    "start_time": "2022-05-14T23:59:39.066Z"
   },
   {
    "duration": 7,
    "start_time": "2022-05-14T23:59:39.127Z"
   },
   {
    "duration": 9,
    "start_time": "2022-05-14T23:59:39.135Z"
   },
   {
    "duration": 9,
    "start_time": "2022-05-14T23:59:39.146Z"
   },
   {
    "duration": 7,
    "start_time": "2022-05-14T23:59:39.157Z"
   },
   {
    "duration": 157,
    "start_time": "2022-05-14T23:59:39.166Z"
   },
   {
    "duration": 118,
    "start_time": "2022-05-14T23:59:39.326Z"
   },
   {
    "duration": 78,
    "start_time": "2022-05-14T23:59:39.446Z"
   },
   {
    "duration": 18,
    "start_time": "2022-05-14T23:59:39.526Z"
   },
   {
    "duration": 3,
    "start_time": "2022-05-14T23:59:39.546Z"
   },
   {
    "duration": 74,
    "start_time": "2022-05-14T23:59:39.550Z"
   },
   {
    "duration": 4,
    "start_time": "2022-05-14T23:59:39.626Z"
   },
   {
    "duration": 5,
    "start_time": "2022-05-14T23:59:39.632Z"
   },
   {
    "duration": 7,
    "start_time": "2022-05-14T23:59:39.638Z"
   },
   {
    "duration": 3,
    "start_time": "2022-05-14T23:59:39.647Z"
   },
   {
    "duration": 6,
    "start_time": "2022-05-14T23:59:39.651Z"
   },
   {
    "duration": 164,
    "start_time": "2022-05-14T23:59:39.659Z"
   },
   {
    "duration": 205,
    "start_time": "2022-05-14T23:59:39.825Z"
   },
   {
    "duration": 95,
    "start_time": "2022-05-14T23:59:40.032Z"
   },
   {
    "duration": 93,
    "start_time": "2022-05-14T23:59:40.131Z"
   },
   {
    "duration": 1817,
    "start_time": "2022-05-15T00:00:28.618Z"
   },
   {
    "duration": 42,
    "start_time": "2022-05-15T00:00:30.438Z"
   },
   {
    "duration": 50,
    "start_time": "2022-05-15T00:00:30.481Z"
   },
   {
    "duration": 4,
    "start_time": "2022-05-15T00:00:30.532Z"
   },
   {
    "duration": 20,
    "start_time": "2022-05-15T00:00:30.538Z"
   },
   {
    "duration": 11,
    "start_time": "2022-05-15T00:00:30.560Z"
   },
   {
    "duration": 11,
    "start_time": "2022-05-15T00:00:30.572Z"
   },
   {
    "duration": 17,
    "start_time": "2022-05-15T00:00:30.584Z"
   },
   {
    "duration": 555,
    "start_time": "2022-05-15T00:00:30.603Z"
   },
   {
    "duration": 3,
    "start_time": "2022-05-15T00:00:31.160Z"
   },
   {
    "duration": 435,
    "start_time": "2022-05-15T00:00:31.165Z"
   },
   {
    "duration": 21,
    "start_time": "2022-05-15T00:00:31.602Z"
   },
   {
    "duration": 8,
    "start_time": "2022-05-15T00:00:31.625Z"
   },
   {
    "duration": 18,
    "start_time": "2022-05-15T00:00:31.636Z"
   },
   {
    "duration": 211,
    "start_time": "2022-05-15T00:00:31.655Z"
   },
   {
    "duration": 29,
    "start_time": "2022-05-15T00:00:31.867Z"
   },
   {
    "duration": 619,
    "start_time": "2022-05-15T00:00:31.898Z"
   },
   {
    "duration": 9,
    "start_time": "2022-05-15T00:00:32.519Z"
   },
   {
    "duration": 12,
    "start_time": "2022-05-15T00:00:32.530Z"
   },
   {
    "duration": 18,
    "start_time": "2022-05-15T00:00:32.544Z"
   },
   {
    "duration": 507,
    "start_time": "2022-05-15T00:00:32.564Z"
   },
   {
    "duration": 9,
    "start_time": "2022-05-15T00:00:33.072Z"
   },
   {
    "duration": 10,
    "start_time": "2022-05-15T00:00:33.083Z"
   },
   {
    "duration": 20,
    "start_time": "2022-05-15T00:00:33.095Z"
   },
   {
    "duration": 10,
    "start_time": "2022-05-15T00:00:33.117Z"
   },
   {
    "duration": 16,
    "start_time": "2022-05-15T00:00:33.129Z"
   },
   {
    "duration": 12,
    "start_time": "2022-05-15T00:00:33.147Z"
   },
   {
    "duration": 4,
    "start_time": "2022-05-15T00:00:33.161Z"
   },
   {
    "duration": 11,
    "start_time": "2022-05-15T00:00:33.167Z"
   },
   {
    "duration": 50,
    "start_time": "2022-05-15T00:00:33.180Z"
   },
   {
    "duration": 9,
    "start_time": "2022-05-15T00:00:33.232Z"
   },
   {
    "duration": 20,
    "start_time": "2022-05-15T00:00:33.243Z"
   },
   {
    "duration": 9,
    "start_time": "2022-05-15T00:00:33.265Z"
   },
   {
    "duration": 9,
    "start_time": "2022-05-15T00:00:33.275Z"
   },
   {
    "duration": 40,
    "start_time": "2022-05-15T00:00:33.286Z"
   },
   {
    "duration": 4,
    "start_time": "2022-05-15T00:00:33.328Z"
   },
   {
    "duration": 10,
    "start_time": "2022-05-15T00:00:33.333Z"
   },
   {
    "duration": 20,
    "start_time": "2022-05-15T00:00:33.345Z"
   },
   {
    "duration": 15,
    "start_time": "2022-05-15T00:00:33.368Z"
   },
   {
    "duration": 6,
    "start_time": "2022-05-15T00:00:33.385Z"
   },
   {
    "duration": 37,
    "start_time": "2022-05-15T00:00:33.396Z"
   },
   {
    "duration": 6,
    "start_time": "2022-05-15T00:00:33.435Z"
   },
   {
    "duration": 12,
    "start_time": "2022-05-15T00:00:33.442Z"
   },
   {
    "duration": 5,
    "start_time": "2022-05-15T00:00:33.456Z"
   },
   {
    "duration": 11,
    "start_time": "2022-05-15T00:00:33.463Z"
   },
   {
    "duration": 8,
    "start_time": "2022-05-15T00:00:33.476Z"
   },
   {
    "duration": 7,
    "start_time": "2022-05-15T00:00:33.485Z"
   },
   {
    "duration": 38,
    "start_time": "2022-05-15T00:00:33.494Z"
   },
   {
    "duration": 206,
    "start_time": "2022-05-15T00:00:33.535Z"
   },
   {
    "duration": 5,
    "start_time": "2022-05-15T00:00:33.743Z"
   },
   {
    "duration": 17,
    "start_time": "2022-05-15T00:00:33.751Z"
   },
   {
    "duration": 4,
    "start_time": "2022-05-15T00:00:33.770Z"
   },
   {
    "duration": 12,
    "start_time": "2022-05-15T00:00:33.776Z"
   },
   {
    "duration": 32,
    "start_time": "2022-05-15T00:00:33.790Z"
   },
   {
    "duration": 11,
    "start_time": "2022-05-15T00:00:33.824Z"
   },
   {
    "duration": 13,
    "start_time": "2022-05-15T00:00:33.836Z"
   },
   {
    "duration": 9,
    "start_time": "2022-05-15T00:00:33.851Z"
   },
   {
    "duration": 17,
    "start_time": "2022-05-15T00:00:33.862Z"
   },
   {
    "duration": 47,
    "start_time": "2022-05-15T00:00:33.881Z"
   },
   {
    "duration": 401,
    "start_time": "2022-05-15T00:00:33.930Z"
   },
   {
    "duration": 100,
    "start_time": "2022-05-15T00:00:34.424Z"
   },
   {
    "duration": 14,
    "start_time": "2022-05-15T00:00:34.525Z"
   },
   {
    "duration": 1849,
    "start_time": "2022-05-15T00:01:54.883Z"
   },
   {
    "duration": 42,
    "start_time": "2022-05-15T00:01:56.734Z"
   },
   {
    "duration": 54,
    "start_time": "2022-05-15T00:01:56.778Z"
   },
   {
    "duration": 4,
    "start_time": "2022-05-15T00:01:56.834Z"
   },
   {
    "duration": 9,
    "start_time": "2022-05-15T00:01:56.839Z"
   },
   {
    "duration": 8,
    "start_time": "2022-05-15T00:01:56.849Z"
   },
   {
    "duration": 9,
    "start_time": "2022-05-15T00:01:56.859Z"
   },
   {
    "duration": 16,
    "start_time": "2022-05-15T00:01:56.870Z"
   },
   {
    "duration": 594,
    "start_time": "2022-05-15T00:01:56.888Z"
   },
   {
    "duration": 3,
    "start_time": "2022-05-15T00:01:57.485Z"
   },
   {
    "duration": 473,
    "start_time": "2022-05-15T00:01:57.490Z"
   },
   {
    "duration": 13,
    "start_time": "2022-05-15T00:01:57.965Z"
   },
   {
    "duration": 9,
    "start_time": "2022-05-15T00:01:57.980Z"
   },
   {
    "duration": 40,
    "start_time": "2022-05-15T00:01:57.991Z"
   },
   {
    "duration": 208,
    "start_time": "2022-05-15T00:01:58.032Z"
   },
   {
    "duration": 29,
    "start_time": "2022-05-15T00:01:58.242Z"
   },
   {
    "duration": 609,
    "start_time": "2022-05-15T00:01:58.272Z"
   },
   {
    "duration": 9,
    "start_time": "2022-05-15T00:01:58.883Z"
   },
   {
    "duration": 11,
    "start_time": "2022-05-15T00:01:58.894Z"
   },
   {
    "duration": 14,
    "start_time": "2022-05-15T00:01:58.922Z"
   },
   {
    "duration": 509,
    "start_time": "2022-05-15T00:01:58.938Z"
   },
   {
    "duration": 12,
    "start_time": "2022-05-15T00:01:59.450Z"
   },
   {
    "duration": 12,
    "start_time": "2022-05-15T00:01:59.464Z"
   },
   {
    "duration": 26,
    "start_time": "2022-05-15T00:01:59.524Z"
   },
   {
    "duration": 7,
    "start_time": "2022-05-15T00:01:59.553Z"
   },
   {
    "duration": 78,
    "start_time": "2022-05-15T00:01:59.563Z"
   },
   {
    "duration": 21,
    "start_time": "2022-05-15T00:01:59.643Z"
   },
   {
    "duration": 6,
    "start_time": "2022-05-15T00:01:59.723Z"
   },
   {
    "duration": 19,
    "start_time": "2022-05-15T00:01:59.731Z"
   },
   {
    "duration": 71,
    "start_time": "2022-05-15T00:01:59.752Z"
   },
   {
    "duration": 17,
    "start_time": "2022-05-15T00:01:59.825Z"
   },
   {
    "duration": 79,
    "start_time": "2022-05-15T00:01:59.845Z"
   },
   {
    "duration": 12,
    "start_time": "2022-05-15T00:01:59.927Z"
   },
   {
    "duration": 9,
    "start_time": "2022-05-15T00:01:59.941Z"
   },
   {
    "duration": 13,
    "start_time": "2022-05-15T00:01:59.952Z"
   },
   {
    "duration": 5,
    "start_time": "2022-05-15T00:02:00.023Z"
   },
   {
    "duration": 12,
    "start_time": "2022-05-15T00:02:00.030Z"
   },
   {
    "duration": 15,
    "start_time": "2022-05-15T00:02:00.044Z"
   },
   {
    "duration": 63,
    "start_time": "2022-05-15T00:02:00.060Z"
   },
   {
    "duration": 5,
    "start_time": "2022-05-15T00:02:00.125Z"
   },
   {
    "duration": 16,
    "start_time": "2022-05-15T00:02:00.132Z"
   },
   {
    "duration": 5,
    "start_time": "2022-05-15T00:02:00.150Z"
   },
   {
    "duration": 6,
    "start_time": "2022-05-15T00:02:00.156Z"
   },
   {
    "duration": 8,
    "start_time": "2022-05-15T00:02:00.164Z"
   },
   {
    "duration": 5,
    "start_time": "2022-05-15T00:02:00.223Z"
   },
   {
    "duration": 6,
    "start_time": "2022-05-15T00:02:00.230Z"
   },
   {
    "duration": 9,
    "start_time": "2022-05-15T00:02:00.238Z"
   },
   {
    "duration": 16,
    "start_time": "2022-05-15T00:02:00.249Z"
   },
   {
    "duration": 72,
    "start_time": "2022-05-15T00:02:00.267Z"
   },
   {
    "duration": 6,
    "start_time": "2022-05-15T00:02:00.341Z"
   },
   {
    "duration": 78,
    "start_time": "2022-05-15T00:02:00.348Z"
   },
   {
    "duration": 4,
    "start_time": "2022-05-15T00:02:00.428Z"
   },
   {
    "duration": 6,
    "start_time": "2022-05-15T00:02:00.433Z"
   },
   {
    "duration": 9,
    "start_time": "2022-05-15T00:02:00.441Z"
   },
   {
    "duration": 10,
    "start_time": "2022-05-15T00:02:00.452Z"
   },
   {
    "duration": 9,
    "start_time": "2022-05-15T00:02:00.463Z"
   },
   {
    "duration": 52,
    "start_time": "2022-05-15T00:02:00.474Z"
   },
   {
    "duration": 5,
    "start_time": "2022-05-15T00:02:00.528Z"
   },
   {
    "duration": 92,
    "start_time": "2022-05-15T00:02:00.535Z"
   },
   {
    "duration": 301,
    "start_time": "2022-05-15T00:02:00.629Z"
   },
   {
    "duration": 93,
    "start_time": "2022-05-15T00:02:00.932Z"
   },
   {
    "duration": 99,
    "start_time": "2022-05-15T00:02:01.028Z"
   },
   {
    "duration": 4,
    "start_time": "2022-05-15T00:02:31.155Z"
   },
   {
    "duration": 10,
    "start_time": "2022-05-15T00:02:32.168Z"
   },
   {
    "duration": 1789,
    "start_time": "2022-05-15T00:02:41.543Z"
   },
   {
    "duration": 41,
    "start_time": "2022-05-15T00:02:43.334Z"
   },
   {
    "duration": 55,
    "start_time": "2022-05-15T00:02:43.377Z"
   },
   {
    "duration": 4,
    "start_time": "2022-05-15T00:02:43.434Z"
   },
   {
    "duration": 7,
    "start_time": "2022-05-15T00:02:43.440Z"
   },
   {
    "duration": 4,
    "start_time": "2022-05-15T00:02:43.449Z"
   },
   {
    "duration": 7,
    "start_time": "2022-05-15T00:02:43.455Z"
   },
   {
    "duration": 9,
    "start_time": "2022-05-15T00:02:43.463Z"
   },
   {
    "duration": 569,
    "start_time": "2022-05-15T00:02:43.474Z"
   },
   {
    "duration": 3,
    "start_time": "2022-05-15T00:02:44.046Z"
   },
   {
    "duration": 459,
    "start_time": "2022-05-15T00:02:44.051Z"
   },
   {
    "duration": 19,
    "start_time": "2022-05-15T00:02:44.512Z"
   },
   {
    "duration": 9,
    "start_time": "2022-05-15T00:02:44.533Z"
   },
   {
    "duration": 17,
    "start_time": "2022-05-15T00:02:44.543Z"
   },
   {
    "duration": 215,
    "start_time": "2022-05-15T00:02:44.561Z"
   },
   {
    "duration": 28,
    "start_time": "2022-05-15T00:02:44.777Z"
   },
   {
    "duration": 619,
    "start_time": "2022-05-15T00:02:44.806Z"
   },
   {
    "duration": 10,
    "start_time": "2022-05-15T00:02:45.427Z"
   },
   {
    "duration": 10,
    "start_time": "2022-05-15T00:02:45.438Z"
   },
   {
    "duration": 14,
    "start_time": "2022-05-15T00:02:45.449Z"
   },
   {
    "duration": 626,
    "start_time": "2022-05-15T00:02:45.465Z"
   },
   {
    "duration": 9,
    "start_time": "2022-05-15T00:02:46.093Z"
   },
   {
    "duration": 10,
    "start_time": "2022-05-15T00:02:46.104Z"
   },
   {
    "duration": 19,
    "start_time": "2022-05-15T00:02:46.116Z"
   },
   {
    "duration": 6,
    "start_time": "2022-05-15T00:02:46.137Z"
   },
   {
    "duration": 17,
    "start_time": "2022-05-15T00:02:46.144Z"
   },
   {
    "duration": 13,
    "start_time": "2022-05-15T00:02:46.163Z"
   },
   {
    "duration": 4,
    "start_time": "2022-05-15T00:02:46.180Z"
   },
   {
    "duration": 39,
    "start_time": "2022-05-15T00:02:46.185Z"
   },
   {
    "duration": 13,
    "start_time": "2022-05-15T00:02:46.226Z"
   },
   {
    "duration": 11,
    "start_time": "2022-05-15T00:02:46.240Z"
   },
   {
    "duration": 14,
    "start_time": "2022-05-15T00:02:46.253Z"
   },
   {
    "duration": 10,
    "start_time": "2022-05-15T00:02:46.269Z"
   },
   {
    "duration": 10,
    "start_time": "2022-05-15T00:02:46.281Z"
   },
   {
    "duration": 38,
    "start_time": "2022-05-15T00:02:46.293Z"
   },
   {
    "duration": 4,
    "start_time": "2022-05-15T00:02:46.333Z"
   },
   {
    "duration": 14,
    "start_time": "2022-05-15T00:02:46.338Z"
   },
   {
    "duration": 13,
    "start_time": "2022-05-15T00:02:46.354Z"
   },
   {
    "duration": 13,
    "start_time": "2022-05-15T00:02:46.368Z"
   },
   {
    "duration": 5,
    "start_time": "2022-05-15T00:02:46.382Z"
   },
   {
    "duration": 35,
    "start_time": "2022-05-15T00:02:46.389Z"
   },
   {
    "duration": 4,
    "start_time": "2022-05-15T00:02:46.426Z"
   },
   {
    "duration": 8,
    "start_time": "2022-05-15T00:02:46.431Z"
   },
   {
    "duration": 8,
    "start_time": "2022-05-15T00:02:46.440Z"
   },
   {
    "duration": 16,
    "start_time": "2022-05-15T00:02:46.449Z"
   },
   {
    "duration": 9,
    "start_time": "2022-05-15T00:02:46.467Z"
   },
   {
    "duration": 7,
    "start_time": "2022-05-15T00:02:46.477Z"
   },
   {
    "duration": 14,
    "start_time": "2022-05-15T00:02:46.486Z"
   },
   {
    "duration": 39,
    "start_time": "2022-05-15T00:02:46.502Z"
   },
   {
    "duration": 6,
    "start_time": "2022-05-15T00:02:46.543Z"
   },
   {
    "duration": 18,
    "start_time": "2022-05-15T00:02:46.551Z"
   },
   {
    "duration": 3,
    "start_time": "2022-05-15T00:02:46.571Z"
   },
   {
    "duration": 11,
    "start_time": "2022-05-15T00:02:46.576Z"
   },
   {
    "duration": 6,
    "start_time": "2022-05-15T00:02:46.589Z"
   },
   {
    "duration": 26,
    "start_time": "2022-05-15T00:02:46.597Z"
   },
   {
    "duration": 7,
    "start_time": "2022-05-15T00:02:46.625Z"
   },
   {
    "duration": 9,
    "start_time": "2022-05-15T00:02:46.634Z"
   },
   {
    "duration": 7,
    "start_time": "2022-05-15T00:02:46.645Z"
   },
   {
    "duration": 73,
    "start_time": "2022-05-15T00:02:46.654Z"
   },
   {
    "duration": 492,
    "start_time": "2022-05-15T00:02:46.730Z"
   },
   {
    "duration": 98,
    "start_time": "2022-05-15T00:02:47.225Z"
   },
   {
    "duration": 8,
    "start_time": "2022-05-15T00:02:47.325Z"
   },
   {
    "duration": 1969,
    "start_time": "2022-05-15T00:03:33.786Z"
   },
   {
    "duration": 42,
    "start_time": "2022-05-15T00:03:35.757Z"
   },
   {
    "duration": 49,
    "start_time": "2022-05-15T00:03:35.801Z"
   },
   {
    "duration": 4,
    "start_time": "2022-05-15T00:03:35.852Z"
   },
   {
    "duration": 5,
    "start_time": "2022-05-15T00:03:35.858Z"
   },
   {
    "duration": 6,
    "start_time": "2022-05-15T00:03:35.865Z"
   },
   {
    "duration": 10,
    "start_time": "2022-05-15T00:03:35.873Z"
   },
   {
    "duration": 8,
    "start_time": "2022-05-15T00:03:35.924Z"
   },
   {
    "duration": 553,
    "start_time": "2022-05-15T00:03:35.934Z"
   },
   {
    "duration": 4,
    "start_time": "2022-05-15T00:03:36.488Z"
   },
   {
    "duration": 439,
    "start_time": "2022-05-15T00:03:36.493Z"
   },
   {
    "duration": 13,
    "start_time": "2022-05-15T00:03:36.934Z"
   },
   {
    "duration": 10,
    "start_time": "2022-05-15T00:03:36.948Z"
   },
   {
    "duration": 15,
    "start_time": "2022-05-15T00:03:36.961Z"
   },
   {
    "duration": 220,
    "start_time": "2022-05-15T00:03:36.977Z"
   },
   {
    "duration": 39,
    "start_time": "2022-05-15T00:03:37.199Z"
   },
   {
    "duration": 605,
    "start_time": "2022-05-15T00:03:37.240Z"
   },
   {
    "duration": 10,
    "start_time": "2022-05-15T00:03:37.847Z"
   },
   {
    "duration": 13,
    "start_time": "2022-05-15T00:03:37.859Z"
   },
   {
    "duration": 16,
    "start_time": "2022-05-15T00:03:37.874Z"
   },
   {
    "duration": 508,
    "start_time": "2022-05-15T00:03:37.891Z"
   },
   {
    "duration": 9,
    "start_time": "2022-05-15T00:03:38.401Z"
   },
   {
    "duration": 12,
    "start_time": "2022-05-15T00:03:38.411Z"
   },
   {
    "duration": 24,
    "start_time": "2022-05-15T00:03:38.425Z"
   },
   {
    "duration": 6,
    "start_time": "2022-05-15T00:03:38.450Z"
   },
   {
    "duration": 19,
    "start_time": "2022-05-15T00:03:38.457Z"
   },
   {
    "duration": 13,
    "start_time": "2022-05-15T00:03:38.478Z"
   },
   {
    "duration": 4,
    "start_time": "2022-05-15T00:03:38.493Z"
   },
   {
    "duration": 12,
    "start_time": "2022-05-15T00:03:38.522Z"
   },
   {
    "duration": 12,
    "start_time": "2022-05-15T00:03:38.536Z"
   },
   {
    "duration": 10,
    "start_time": "2022-05-15T00:03:38.549Z"
   },
   {
    "duration": 63,
    "start_time": "2022-05-15T00:03:38.561Z"
   },
   {
    "duration": 11,
    "start_time": "2022-05-15T00:03:38.626Z"
   },
   {
    "duration": 9,
    "start_time": "2022-05-15T00:03:38.638Z"
   },
   {
    "duration": 10,
    "start_time": "2022-05-15T00:03:38.648Z"
   },
   {
    "duration": 8,
    "start_time": "2022-05-15T00:03:38.660Z"
   },
   {
    "duration": 6,
    "start_time": "2022-05-15T00:03:38.723Z"
   },
   {
    "duration": 11,
    "start_time": "2022-05-15T00:03:38.731Z"
   },
   {
    "duration": 14,
    "start_time": "2022-05-15T00:03:38.743Z"
   },
   {
    "duration": 6,
    "start_time": "2022-05-15T00:03:38.759Z"
   },
   {
    "duration": 11,
    "start_time": "2022-05-15T00:03:38.822Z"
   },
   {
    "duration": 5,
    "start_time": "2022-05-15T00:03:38.834Z"
   },
   {
    "duration": 7,
    "start_time": "2022-05-15T00:03:38.840Z"
   },
   {
    "duration": 7,
    "start_time": "2022-05-15T00:03:38.849Z"
   },
   {
    "duration": 14,
    "start_time": "2022-05-15T00:03:38.858Z"
   },
   {
    "duration": 61,
    "start_time": "2022-05-15T00:03:38.874Z"
   },
   {
    "duration": 10,
    "start_time": "2022-05-15T00:03:38.937Z"
   },
   {
    "duration": 278,
    "start_time": "2022-05-15T00:03:38.949Z"
   },
   {
    "duration": 0,
    "start_time": "2022-05-15T00:03:39.229Z"
   },
   {
    "duration": 0,
    "start_time": "2022-05-15T00:03:39.230Z"
   },
   {
    "duration": 0,
    "start_time": "2022-05-15T00:03:39.232Z"
   },
   {
    "duration": 0,
    "start_time": "2022-05-15T00:03:39.233Z"
   },
   {
    "duration": 0,
    "start_time": "2022-05-15T00:03:39.234Z"
   },
   {
    "duration": 0,
    "start_time": "2022-05-15T00:03:39.234Z"
   },
   {
    "duration": 0,
    "start_time": "2022-05-15T00:03:39.235Z"
   },
   {
    "duration": 0,
    "start_time": "2022-05-15T00:03:39.237Z"
   },
   {
    "duration": 0,
    "start_time": "2022-05-15T00:03:39.237Z"
   },
   {
    "duration": 0,
    "start_time": "2022-05-15T00:03:39.239Z"
   },
   {
    "duration": 0,
    "start_time": "2022-05-15T00:03:39.240Z"
   },
   {
    "duration": 0,
    "start_time": "2022-05-15T00:03:39.240Z"
   },
   {
    "duration": 0,
    "start_time": "2022-05-15T00:03:39.242Z"
   },
   {
    "duration": 0,
    "start_time": "2022-05-15T00:03:39.243Z"
   },
   {
    "duration": 1815,
    "start_time": "2022-05-15T00:04:44.876Z"
   },
   {
    "duration": 38,
    "start_time": "2022-05-15T00:04:46.693Z"
   },
   {
    "duration": 41,
    "start_time": "2022-05-15T00:04:46.733Z"
   },
   {
    "duration": 4,
    "start_time": "2022-05-15T00:04:46.776Z"
   },
   {
    "duration": 6,
    "start_time": "2022-05-15T00:04:46.782Z"
   },
   {
    "duration": 35,
    "start_time": "2022-05-15T00:04:46.789Z"
   },
   {
    "duration": 8,
    "start_time": "2022-05-15T00:04:46.826Z"
   },
   {
    "duration": 13,
    "start_time": "2022-05-15T00:04:46.835Z"
   },
   {
    "duration": 561,
    "start_time": "2022-05-15T00:04:46.850Z"
   },
   {
    "duration": 9,
    "start_time": "2022-05-15T00:04:47.414Z"
   },
   {
    "duration": 451,
    "start_time": "2022-05-15T00:04:47.425Z"
   },
   {
    "duration": 13,
    "start_time": "2022-05-15T00:04:47.878Z"
   },
   {
    "duration": 8,
    "start_time": "2022-05-15T00:04:47.893Z"
   },
   {
    "duration": 35,
    "start_time": "2022-05-15T00:04:47.903Z"
   },
   {
    "duration": 217,
    "start_time": "2022-05-15T00:04:47.939Z"
   },
   {
    "duration": 31,
    "start_time": "2022-05-15T00:04:48.158Z"
   },
   {
    "duration": 755,
    "start_time": "2022-05-15T00:04:48.191Z"
   },
   {
    "duration": 10,
    "start_time": "2022-05-15T00:04:48.948Z"
   },
   {
    "duration": 64,
    "start_time": "2022-05-15T00:04:48.959Z"
   },
   {
    "duration": 14,
    "start_time": "2022-05-15T00:04:49.025Z"
   },
   {
    "duration": 1006,
    "start_time": "2022-05-15T00:04:49.041Z"
   },
   {
    "duration": 9,
    "start_time": "2022-05-15T00:04:50.049Z"
   },
   {
    "duration": 14,
    "start_time": "2022-05-15T00:04:50.060Z"
   },
   {
    "duration": 64,
    "start_time": "2022-05-15T00:04:50.075Z"
   },
   {
    "duration": 5,
    "start_time": "2022-05-15T00:04:50.141Z"
   },
   {
    "duration": 75,
    "start_time": "2022-05-15T00:04:50.148Z"
   },
   {
    "duration": 13,
    "start_time": "2022-05-15T00:04:50.225Z"
   },
   {
    "duration": 29,
    "start_time": "2022-05-15T00:04:50.243Z"
   },
   {
    "duration": 53,
    "start_time": "2022-05-15T00:04:50.273Z"
   },
   {
    "duration": 24,
    "start_time": "2022-05-15T00:04:50.328Z"
   },
   {
    "duration": 11,
    "start_time": "2022-05-15T00:04:50.354Z"
   },
   {
    "duration": 15,
    "start_time": "2022-05-15T00:04:50.367Z"
   },
   {
    "duration": 9,
    "start_time": "2022-05-15T00:04:50.422Z"
   },
   {
    "duration": 9,
    "start_time": "2022-05-15T00:04:50.432Z"
   },
   {
    "duration": 9,
    "start_time": "2022-05-15T00:04:50.442Z"
   },
   {
    "duration": 4,
    "start_time": "2022-05-15T00:04:50.453Z"
   },
   {
    "duration": 9,
    "start_time": "2022-05-15T00:04:50.458Z"
   },
   {
    "duration": 11,
    "start_time": "2022-05-15T00:04:50.469Z"
   },
   {
    "duration": 47,
    "start_time": "2022-05-15T00:04:50.482Z"
   },
   {
    "duration": 5,
    "start_time": "2022-05-15T00:04:50.531Z"
   },
   {
    "duration": 15,
    "start_time": "2022-05-15T00:04:50.538Z"
   },
   {
    "duration": 6,
    "start_time": "2022-05-15T00:04:50.555Z"
   },
   {
    "duration": 7,
    "start_time": "2022-05-15T00:04:50.562Z"
   },
   {
    "duration": 10,
    "start_time": "2022-05-15T00:04:50.571Z"
   },
   {
    "duration": 10,
    "start_time": "2022-05-15T00:04:50.583Z"
   },
   {
    "duration": 28,
    "start_time": "2022-05-15T00:04:50.594Z"
   },
   {
    "duration": 4,
    "start_time": "2022-05-15T00:04:50.624Z"
   },
   {
    "duration": 140,
    "start_time": "2022-05-15T00:04:50.630Z"
   },
   {
    "duration": 0,
    "start_time": "2022-05-15T00:04:50.772Z"
   },
   {
    "duration": 1,
    "start_time": "2022-05-15T00:04:50.774Z"
   },
   {
    "duration": 0,
    "start_time": "2022-05-15T00:04:50.776Z"
   },
   {
    "duration": 0,
    "start_time": "2022-05-15T00:04:50.777Z"
   },
   {
    "duration": 0,
    "start_time": "2022-05-15T00:04:50.779Z"
   },
   {
    "duration": 0,
    "start_time": "2022-05-15T00:04:50.780Z"
   },
   {
    "duration": 0,
    "start_time": "2022-05-15T00:04:50.782Z"
   },
   {
    "duration": 0,
    "start_time": "2022-05-15T00:04:50.784Z"
   },
   {
    "duration": 0,
    "start_time": "2022-05-15T00:04:50.785Z"
   },
   {
    "duration": 0,
    "start_time": "2022-05-15T00:04:50.786Z"
   },
   {
    "duration": 0,
    "start_time": "2022-05-15T00:04:50.788Z"
   },
   {
    "duration": 0,
    "start_time": "2022-05-15T00:04:50.789Z"
   },
   {
    "duration": 0,
    "start_time": "2022-05-15T00:04:50.823Z"
   },
   {
    "duration": 0,
    "start_time": "2022-05-15T00:04:50.825Z"
   },
   {
    "duration": 1804,
    "start_time": "2022-05-15T00:05:36.379Z"
   },
   {
    "duration": 38,
    "start_time": "2022-05-15T00:05:38.185Z"
   },
   {
    "duration": 46,
    "start_time": "2022-05-15T00:05:38.225Z"
   },
   {
    "duration": 4,
    "start_time": "2022-05-15T00:05:38.274Z"
   },
   {
    "duration": 44,
    "start_time": "2022-05-15T00:05:38.280Z"
   },
   {
    "duration": 4,
    "start_time": "2022-05-15T00:05:38.326Z"
   },
   {
    "duration": 14,
    "start_time": "2022-05-15T00:05:38.332Z"
   },
   {
    "duration": 9,
    "start_time": "2022-05-15T00:05:38.348Z"
   },
   {
    "duration": 542,
    "start_time": "2022-05-15T00:05:38.359Z"
   },
   {
    "duration": 3,
    "start_time": "2022-05-15T00:05:38.904Z"
   },
   {
    "duration": 453,
    "start_time": "2022-05-15T00:05:38.909Z"
   },
   {
    "duration": 12,
    "start_time": "2022-05-15T00:05:39.364Z"
   },
   {
    "duration": 8,
    "start_time": "2022-05-15T00:05:39.378Z"
   },
   {
    "duration": 37,
    "start_time": "2022-05-15T00:05:39.387Z"
   },
   {
    "duration": 205,
    "start_time": "2022-05-15T00:05:39.425Z"
   },
   {
    "duration": 28,
    "start_time": "2022-05-15T00:05:39.632Z"
   },
   {
    "duration": 640,
    "start_time": "2022-05-15T00:05:39.662Z"
   },
   {
    "duration": 10,
    "start_time": "2022-05-15T00:05:40.305Z"
   },
   {
    "duration": 10,
    "start_time": "2022-05-15T00:05:40.323Z"
   },
   {
    "duration": 13,
    "start_time": "2022-05-15T00:05:40.335Z"
   },
   {
    "duration": 509,
    "start_time": "2022-05-15T00:05:40.350Z"
   },
   {
    "duration": 9,
    "start_time": "2022-05-15T00:05:40.861Z"
   },
   {
    "duration": 13,
    "start_time": "2022-05-15T00:05:40.872Z"
   },
   {
    "duration": 18,
    "start_time": "2022-05-15T00:05:40.887Z"
   },
   {
    "duration": 6,
    "start_time": "2022-05-15T00:05:40.907Z"
   },
   {
    "duration": 27,
    "start_time": "2022-05-15T00:05:40.923Z"
   },
   {
    "duration": 22,
    "start_time": "2022-05-15T00:05:40.952Z"
   },
   {
    "duration": 14,
    "start_time": "2022-05-15T00:05:40.979Z"
   },
   {
    "duration": 16,
    "start_time": "2022-05-15T00:05:40.995Z"
   },
   {
    "duration": 16,
    "start_time": "2022-05-15T00:05:41.014Z"
   },
   {
    "duration": 11,
    "start_time": "2022-05-15T00:05:41.032Z"
   },
   {
    "duration": 23,
    "start_time": "2022-05-15T00:05:41.044Z"
   },
   {
    "duration": 22,
    "start_time": "2022-05-15T00:05:41.069Z"
   },
   {
    "duration": 11,
    "start_time": "2022-05-15T00:05:41.093Z"
   },
   {
    "duration": 25,
    "start_time": "2022-05-15T00:05:41.106Z"
   },
   {
    "duration": 10,
    "start_time": "2022-05-15T00:05:41.133Z"
   },
   {
    "duration": 31,
    "start_time": "2022-05-15T00:05:41.145Z"
   },
   {
    "duration": 27,
    "start_time": "2022-05-15T00:05:41.178Z"
   },
   {
    "duration": 20,
    "start_time": "2022-05-15T00:05:41.207Z"
   },
   {
    "duration": 16,
    "start_time": "2022-05-15T00:05:41.229Z"
   },
   {
    "duration": 15,
    "start_time": "2022-05-15T00:05:41.247Z"
   },
   {
    "duration": 16,
    "start_time": "2022-05-15T00:05:41.264Z"
   },
   {
    "duration": 59,
    "start_time": "2022-05-15T00:05:41.282Z"
   },
   {
    "duration": 14,
    "start_time": "2022-05-15T00:05:41.343Z"
   },
   {
    "duration": 30,
    "start_time": "2022-05-15T00:05:41.359Z"
   },
   {
    "duration": 18,
    "start_time": "2022-05-15T00:05:41.391Z"
   },
   {
    "duration": 22,
    "start_time": "2022-05-15T00:05:41.411Z"
   },
   {
    "duration": 40,
    "start_time": "2022-05-15T00:05:41.435Z"
   },
   {
    "duration": 51,
    "start_time": "2022-05-15T00:05:41.477Z"
   },
   {
    "duration": 8,
    "start_time": "2022-05-15T00:05:41.530Z"
   },
   {
    "duration": 35,
    "start_time": "2022-05-15T00:05:41.539Z"
   },
   {
    "duration": 13,
    "start_time": "2022-05-15T00:05:41.576Z"
   },
   {
    "duration": 22,
    "start_time": "2022-05-15T00:05:41.590Z"
   },
   {
    "duration": 23,
    "start_time": "2022-05-15T00:05:41.614Z"
   },
   {
    "duration": 26,
    "start_time": "2022-05-15T00:05:41.638Z"
   },
   {
    "duration": 62,
    "start_time": "2022-05-15T00:05:41.665Z"
   },
   {
    "duration": 23,
    "start_time": "2022-05-15T00:05:41.729Z"
   },
   {
    "duration": 70,
    "start_time": "2022-05-15T00:05:41.754Z"
   },
   {
    "duration": 97,
    "start_time": "2022-05-15T00:05:41.825Z"
   },
   {
    "duration": 306,
    "start_time": "2022-05-15T00:05:41.924Z"
   },
   {
    "duration": 93,
    "start_time": "2022-05-15T00:05:42.232Z"
   },
   {
    "duration": 111,
    "start_time": "2022-05-15T00:05:42.327Z"
   },
   {
    "duration": 1773,
    "start_time": "2022-05-15T00:06:39.506Z"
   },
   {
    "duration": 39,
    "start_time": "2022-05-15T00:06:41.281Z"
   },
   {
    "duration": 40,
    "start_time": "2022-05-15T00:06:41.322Z"
   },
   {
    "duration": 3,
    "start_time": "2022-05-15T00:06:41.364Z"
   },
   {
    "duration": 6,
    "start_time": "2022-05-15T00:06:41.369Z"
   },
   {
    "duration": 5,
    "start_time": "2022-05-15T00:06:41.377Z"
   },
   {
    "duration": 40,
    "start_time": "2022-05-15T00:06:41.384Z"
   },
   {
    "duration": 9,
    "start_time": "2022-05-15T00:06:41.426Z"
   },
   {
    "duration": 545,
    "start_time": "2022-05-15T00:06:41.437Z"
   },
   {
    "duration": 4,
    "start_time": "2022-05-15T00:06:41.985Z"
   },
   {
    "duration": 448,
    "start_time": "2022-05-15T00:06:41.991Z"
   },
   {
    "duration": 14,
    "start_time": "2022-05-15T00:06:42.441Z"
   },
   {
    "duration": 9,
    "start_time": "2022-05-15T00:06:42.457Z"
   },
   {
    "duration": 16,
    "start_time": "2022-05-15T00:06:42.468Z"
   },
   {
    "duration": 223,
    "start_time": "2022-05-15T00:06:42.486Z"
   },
   {
    "duration": 39,
    "start_time": "2022-05-15T00:06:42.711Z"
   },
   {
    "duration": 636,
    "start_time": "2022-05-15T00:06:42.752Z"
   },
   {
    "duration": 9,
    "start_time": "2022-05-15T00:06:43.391Z"
   },
   {
    "duration": 26,
    "start_time": "2022-05-15T00:06:43.402Z"
   },
   {
    "duration": 14,
    "start_time": "2022-05-15T00:06:43.430Z"
   },
   {
    "duration": 509,
    "start_time": "2022-05-15T00:06:43.446Z"
   },
   {
    "duration": 12,
    "start_time": "2022-05-15T00:06:43.957Z"
   },
   {
    "duration": 10,
    "start_time": "2022-05-15T00:06:43.971Z"
   },
   {
    "duration": 18,
    "start_time": "2022-05-15T00:06:43.983Z"
   },
   {
    "duration": 21,
    "start_time": "2022-05-15T00:06:44.003Z"
   },
   {
    "duration": 16,
    "start_time": "2022-05-15T00:06:44.025Z"
   },
   {
    "duration": 13,
    "start_time": "2022-05-15T00:06:44.043Z"
   },
   {
    "duration": 5,
    "start_time": "2022-05-15T00:06:44.060Z"
   },
   {
    "duration": 11,
    "start_time": "2022-05-15T00:06:44.066Z"
   },
   {
    "duration": 45,
    "start_time": "2022-05-15T00:06:44.078Z"
   },
   {
    "duration": 11,
    "start_time": "2022-05-15T00:06:44.125Z"
   },
   {
    "duration": 18,
    "start_time": "2022-05-15T00:06:44.137Z"
   },
   {
    "duration": 9,
    "start_time": "2022-05-15T00:06:44.157Z"
   },
   {
    "duration": 7,
    "start_time": "2022-05-15T00:06:44.167Z"
   },
   {
    "duration": 13,
    "start_time": "2022-05-15T00:06:44.175Z"
   },
   {
    "duration": 33,
    "start_time": "2022-05-15T00:06:44.190Z"
   },
   {
    "duration": 11,
    "start_time": "2022-05-15T00:06:44.225Z"
   },
   {
    "duration": 16,
    "start_time": "2022-05-15T00:06:44.237Z"
   },
   {
    "duration": 17,
    "start_time": "2022-05-15T00:06:44.255Z"
   },
   {
    "duration": 6,
    "start_time": "2022-05-15T00:06:44.274Z"
   },
   {
    "duration": 47,
    "start_time": "2022-05-15T00:06:44.282Z"
   },
   {
    "duration": 8,
    "start_time": "2022-05-15T00:06:44.330Z"
   },
   {
    "duration": 6,
    "start_time": "2022-05-15T00:06:44.340Z"
   },
   {
    "duration": 7,
    "start_time": "2022-05-15T00:06:44.348Z"
   },
   {
    "duration": 13,
    "start_time": "2022-05-15T00:06:44.357Z"
   },
   {
    "duration": 54,
    "start_time": "2022-05-15T00:06:44.372Z"
   },
   {
    "duration": 8,
    "start_time": "2022-05-15T00:06:44.428Z"
   },
   {
    "duration": 90,
    "start_time": "2022-05-15T00:06:44.437Z"
   },
   {
    "duration": 114,
    "start_time": "2022-05-15T00:06:44.529Z"
   },
   {
    "duration": 6,
    "start_time": "2022-05-15T00:06:44.645Z"
   },
   {
    "duration": 71,
    "start_time": "2022-05-15T00:06:44.652Z"
   },
   {
    "duration": 4,
    "start_time": "2022-05-15T00:06:44.724Z"
   },
   {
    "duration": 5,
    "start_time": "2022-05-15T00:06:44.730Z"
   },
   {
    "duration": 3,
    "start_time": "2022-05-15T00:06:44.737Z"
   },
   {
    "duration": 8,
    "start_time": "2022-05-15T00:06:44.741Z"
   },
   {
    "duration": 7,
    "start_time": "2022-05-15T00:06:44.751Z"
   },
   {
    "duration": 6,
    "start_time": "2022-05-15T00:06:44.760Z"
   },
   {
    "duration": 55,
    "start_time": "2022-05-15T00:06:44.768Z"
   },
   {
    "duration": 100,
    "start_time": "2022-05-15T00:06:44.825Z"
   },
   {
    "duration": 300,
    "start_time": "2022-05-15T00:06:44.927Z"
   },
   {
    "duration": 96,
    "start_time": "2022-05-15T00:06:45.229Z"
   },
   {
    "duration": 7,
    "start_time": "2022-05-15T00:06:45.327Z"
   },
   {
    "duration": 1785,
    "start_time": "2022-05-15T00:07:23.703Z"
   },
   {
    "duration": 41,
    "start_time": "2022-05-15T00:07:25.490Z"
   },
   {
    "duration": 42,
    "start_time": "2022-05-15T00:07:25.533Z"
   },
   {
    "duration": 3,
    "start_time": "2022-05-15T00:07:25.577Z"
   },
   {
    "duration": 8,
    "start_time": "2022-05-15T00:07:25.582Z"
   },
   {
    "duration": 33,
    "start_time": "2022-05-15T00:07:25.592Z"
   },
   {
    "duration": 8,
    "start_time": "2022-05-15T00:07:25.627Z"
   },
   {
    "duration": 9,
    "start_time": "2022-05-15T00:07:25.637Z"
   },
   {
    "duration": 543,
    "start_time": "2022-05-15T00:07:25.648Z"
   },
   {
    "duration": 3,
    "start_time": "2022-05-15T00:07:26.194Z"
   },
   {
    "duration": 449,
    "start_time": "2022-05-15T00:07:26.199Z"
   },
   {
    "duration": 12,
    "start_time": "2022-05-15T00:07:26.649Z"
   },
   {
    "duration": 8,
    "start_time": "2022-05-15T00:07:26.663Z"
   },
   {
    "duration": 24,
    "start_time": "2022-05-15T00:07:26.672Z"
   },
   {
    "duration": 207,
    "start_time": "2022-05-15T00:07:26.697Z"
   },
   {
    "duration": 33,
    "start_time": "2022-05-15T00:07:26.906Z"
   },
   {
    "duration": 614,
    "start_time": "2022-05-15T00:07:26.941Z"
   },
   {
    "duration": 9,
    "start_time": "2022-05-15T00:07:27.557Z"
   },
   {
    "duration": 20,
    "start_time": "2022-05-15T00:07:27.568Z"
   },
   {
    "duration": 14,
    "start_time": "2022-05-15T00:07:27.589Z"
   },
   {
    "duration": 575,
    "start_time": "2022-05-15T00:07:27.604Z"
   },
   {
    "duration": 8,
    "start_time": "2022-05-15T00:07:28.181Z"
   },
   {
    "duration": 8,
    "start_time": "2022-05-15T00:07:28.191Z"
   },
   {
    "duration": 29,
    "start_time": "2022-05-15T00:07:28.201Z"
   },
   {
    "duration": 5,
    "start_time": "2022-05-15T00:07:28.232Z"
   },
   {
    "duration": 16,
    "start_time": "2022-05-15T00:07:28.239Z"
   },
   {
    "duration": 14,
    "start_time": "2022-05-15T00:07:28.256Z"
   },
   {
    "duration": 5,
    "start_time": "2022-05-15T00:07:28.274Z"
   },
   {
    "duration": 44,
    "start_time": "2022-05-15T00:07:28.280Z"
   },
   {
    "duration": 12,
    "start_time": "2022-05-15T00:07:28.325Z"
   },
   {
    "duration": 12,
    "start_time": "2022-05-15T00:07:28.339Z"
   },
   {
    "duration": 15,
    "start_time": "2022-05-15T00:07:28.353Z"
   },
   {
    "duration": 10,
    "start_time": "2022-05-15T00:07:28.370Z"
   },
   {
    "duration": 43,
    "start_time": "2022-05-15T00:07:28.382Z"
   },
   {
    "duration": 9,
    "start_time": "2022-05-15T00:07:28.427Z"
   },
   {
    "duration": 4,
    "start_time": "2022-05-15T00:07:28.438Z"
   },
   {
    "duration": 15,
    "start_time": "2022-05-15T00:07:28.444Z"
   },
   {
    "duration": 15,
    "start_time": "2022-05-15T00:07:28.460Z"
   },
   {
    "duration": 14,
    "start_time": "2022-05-15T00:07:28.477Z"
   },
   {
    "duration": 5,
    "start_time": "2022-05-15T00:07:28.493Z"
   },
   {
    "duration": 12,
    "start_time": "2022-05-15T00:07:28.522Z"
   },
   {
    "duration": 7,
    "start_time": "2022-05-15T00:07:28.535Z"
   },
   {
    "duration": 8,
    "start_time": "2022-05-15T00:07:28.543Z"
   },
   {
    "duration": 6,
    "start_time": "2022-05-15T00:07:28.553Z"
   },
   {
    "duration": 9,
    "start_time": "2022-05-15T00:07:28.561Z"
   },
   {
    "duration": 10,
    "start_time": "2022-05-15T00:07:28.572Z"
   },
   {
    "duration": 10,
    "start_time": "2022-05-15T00:07:28.584Z"
   },
   {
    "duration": 37,
    "start_time": "2022-05-15T00:07:28.596Z"
   },
   {
    "duration": 112,
    "start_time": "2022-05-15T00:07:28.724Z"
   },
   {
    "duration": 5,
    "start_time": "2022-05-15T00:07:28.838Z"
   },
   {
    "duration": 17,
    "start_time": "2022-05-15T00:07:28.845Z"
   },
   {
    "duration": 5,
    "start_time": "2022-05-15T00:07:28.864Z"
   },
   {
    "duration": 4,
    "start_time": "2022-05-15T00:07:28.871Z"
   },
   {
    "duration": 4,
    "start_time": "2022-05-15T00:07:28.877Z"
   },
   {
    "duration": 5,
    "start_time": "2022-05-15T00:07:28.924Z"
   },
   {
    "duration": 7,
    "start_time": "2022-05-15T00:07:28.931Z"
   },
   {
    "duration": 5,
    "start_time": "2022-05-15T00:07:28.940Z"
   },
   {
    "duration": 7,
    "start_time": "2022-05-15T00:07:28.947Z"
   },
   {
    "duration": 167,
    "start_time": "2022-05-15T00:07:28.955Z"
   },
   {
    "duration": 200,
    "start_time": "2022-05-15T00:07:29.124Z"
   },
   {
    "duration": 98,
    "start_time": "2022-05-15T00:07:29.326Z"
   },
   {
    "duration": 6,
    "start_time": "2022-05-15T00:07:29.426Z"
   },
   {
    "duration": 1732,
    "start_time": "2022-05-15T00:08:35.371Z"
   },
   {
    "duration": 38,
    "start_time": "2022-05-15T00:08:37.105Z"
   },
   {
    "duration": 42,
    "start_time": "2022-05-15T00:08:37.145Z"
   },
   {
    "duration": 4,
    "start_time": "2022-05-15T00:08:37.188Z"
   },
   {
    "duration": 33,
    "start_time": "2022-05-15T00:08:37.194Z"
   },
   {
    "duration": 6,
    "start_time": "2022-05-15T00:08:37.228Z"
   },
   {
    "duration": 8,
    "start_time": "2022-05-15T00:08:37.235Z"
   },
   {
    "duration": 11,
    "start_time": "2022-05-15T00:08:37.244Z"
   },
   {
    "duration": 565,
    "start_time": "2022-05-15T00:08:37.257Z"
   },
   {
    "duration": 4,
    "start_time": "2022-05-15T00:08:37.824Z"
   },
   {
    "duration": 442,
    "start_time": "2022-05-15T00:08:37.830Z"
   },
   {
    "duration": 12,
    "start_time": "2022-05-15T00:08:38.274Z"
   },
   {
    "duration": 9,
    "start_time": "2022-05-15T00:08:38.287Z"
   },
   {
    "duration": 31,
    "start_time": "2022-05-15T00:08:38.299Z"
   },
   {
    "duration": 204,
    "start_time": "2022-05-15T00:08:38.332Z"
   },
   {
    "duration": 28,
    "start_time": "2022-05-15T00:08:38.538Z"
   },
   {
    "duration": 609,
    "start_time": "2022-05-15T00:08:38.567Z"
   },
   {
    "duration": 9,
    "start_time": "2022-05-15T00:08:39.178Z"
   },
   {
    "duration": 9,
    "start_time": "2022-05-15T00:08:39.189Z"
   },
   {
    "duration": 30,
    "start_time": "2022-05-15T00:08:39.200Z"
   },
   {
    "duration": 483,
    "start_time": "2022-05-15T00:08:39.232Z"
   },
   {
    "duration": 9,
    "start_time": "2022-05-15T00:08:39.717Z"
   },
   {
    "duration": 9,
    "start_time": "2022-05-15T00:08:39.728Z"
   },
   {
    "duration": 17,
    "start_time": "2022-05-15T00:08:39.739Z"
   },
   {
    "duration": 6,
    "start_time": "2022-05-15T00:08:39.758Z"
   },
   {
    "duration": 14,
    "start_time": "2022-05-15T00:08:39.765Z"
   },
   {
    "duration": 46,
    "start_time": "2022-05-15T00:08:39.780Z"
   },
   {
    "duration": 5,
    "start_time": "2022-05-15T00:08:39.828Z"
   },
   {
    "duration": 12,
    "start_time": "2022-05-15T00:08:39.835Z"
   },
   {
    "duration": 11,
    "start_time": "2022-05-15T00:08:39.849Z"
   },
   {
    "duration": 11,
    "start_time": "2022-05-15T00:08:39.862Z"
   },
   {
    "duration": 50,
    "start_time": "2022-05-15T00:08:39.874Z"
   },
   {
    "duration": 9,
    "start_time": "2022-05-15T00:08:39.926Z"
   },
   {
    "duration": 6,
    "start_time": "2022-05-15T00:08:39.937Z"
   },
   {
    "duration": 10,
    "start_time": "2022-05-15T00:08:39.944Z"
   },
   {
    "duration": 7,
    "start_time": "2022-05-15T00:08:39.956Z"
   },
   {
    "duration": 15,
    "start_time": "2022-05-15T00:08:39.965Z"
   },
   {
    "duration": 15,
    "start_time": "2022-05-15T00:08:39.982Z"
   },
   {
    "duration": 37,
    "start_time": "2022-05-15T00:08:39.998Z"
   },
   {
    "duration": 6,
    "start_time": "2022-05-15T00:08:40.037Z"
   },
   {
    "duration": 14,
    "start_time": "2022-05-15T00:08:40.047Z"
   },
   {
    "duration": 9,
    "start_time": "2022-05-15T00:08:40.063Z"
   },
   {
    "duration": 10,
    "start_time": "2022-05-15T00:08:40.074Z"
   },
   {
    "duration": 11,
    "start_time": "2022-05-15T00:08:40.086Z"
   },
   {
    "duration": 7,
    "start_time": "2022-05-15T00:08:40.122Z"
   },
   {
    "duration": 8,
    "start_time": "2022-05-15T00:08:40.131Z"
   },
   {
    "duration": 7,
    "start_time": "2022-05-15T00:08:40.141Z"
   },
   {
    "duration": 77,
    "start_time": "2022-05-15T00:08:40.150Z"
   },
   {
    "duration": 113,
    "start_time": "2022-05-15T00:08:40.229Z"
   },
   {
    "duration": 6,
    "start_time": "2022-05-15T00:08:40.343Z"
   },
   {
    "duration": 17,
    "start_time": "2022-05-15T00:08:40.351Z"
   },
   {
    "duration": 4,
    "start_time": "2022-05-15T00:08:40.370Z"
   },
   {
    "duration": 5,
    "start_time": "2022-05-15T00:08:40.375Z"
   },
   {
    "duration": 41,
    "start_time": "2022-05-15T00:08:40.382Z"
   },
   {
    "duration": 5,
    "start_time": "2022-05-15T00:08:40.425Z"
   },
   {
    "duration": 7,
    "start_time": "2022-05-15T00:08:40.432Z"
   },
   {
    "duration": 4,
    "start_time": "2022-05-15T00:08:40.440Z"
   },
   {
    "duration": 8,
    "start_time": "2022-05-15T00:08:40.446Z"
   },
   {
    "duration": 73,
    "start_time": "2022-05-15T00:08:40.456Z"
   },
   {
    "duration": 296,
    "start_time": "2022-05-15T00:08:40.531Z"
   },
   {
    "duration": 97,
    "start_time": "2022-05-15T00:08:40.829Z"
   },
   {
    "duration": 9,
    "start_time": "2022-05-15T00:08:40.928Z"
   },
   {
    "duration": 16,
    "start_time": "2022-05-15T00:10:07.344Z"
   },
   {
    "duration": 16,
    "start_time": "2022-05-15T00:10:14.401Z"
   },
   {
    "duration": 6,
    "start_time": "2022-05-15T00:11:21.362Z"
   },
   {
    "duration": 17,
    "start_time": "2022-05-15T00:11:21.940Z"
   },
   {
    "duration": 1801,
    "start_time": "2022-05-15T00:11:33.902Z"
   },
   {
    "duration": 39,
    "start_time": "2022-05-15T00:11:35.705Z"
   },
   {
    "duration": 41,
    "start_time": "2022-05-15T00:11:35.746Z"
   },
   {
    "duration": 3,
    "start_time": "2022-05-15T00:11:35.789Z"
   },
   {
    "duration": 5,
    "start_time": "2022-05-15T00:11:35.823Z"
   },
   {
    "duration": 6,
    "start_time": "2022-05-15T00:11:35.830Z"
   },
   {
    "duration": 6,
    "start_time": "2022-05-15T00:11:35.838Z"
   },
   {
    "duration": 11,
    "start_time": "2022-05-15T00:11:35.846Z"
   },
   {
    "duration": 581,
    "start_time": "2022-05-15T00:11:35.859Z"
   },
   {
    "duration": 4,
    "start_time": "2022-05-15T00:11:36.442Z"
   },
   {
    "duration": 452,
    "start_time": "2022-05-15T00:11:36.447Z"
   },
   {
    "duration": 26,
    "start_time": "2022-05-15T00:11:36.901Z"
   },
   {
    "duration": 10,
    "start_time": "2022-05-15T00:11:36.929Z"
   },
   {
    "duration": 15,
    "start_time": "2022-05-15T00:11:36.944Z"
   },
   {
    "duration": 225,
    "start_time": "2022-05-15T00:11:36.961Z"
   },
   {
    "duration": 44,
    "start_time": "2022-05-15T00:11:37.188Z"
   },
   {
    "duration": 605,
    "start_time": "2022-05-15T00:11:37.234Z"
   },
   {
    "duration": 10,
    "start_time": "2022-05-15T00:11:37.841Z"
   },
   {
    "duration": 12,
    "start_time": "2022-05-15T00:11:37.853Z"
   },
   {
    "duration": 15,
    "start_time": "2022-05-15T00:11:37.867Z"
   },
   {
    "duration": 867,
    "start_time": "2022-05-15T00:11:37.884Z"
   },
   {
    "duration": 9,
    "start_time": "2022-05-15T00:11:38.753Z"
   },
   {
    "duration": 10,
    "start_time": "2022-05-15T00:11:38.763Z"
   },
   {
    "duration": 61,
    "start_time": "2022-05-15T00:11:38.774Z"
   },
   {
    "duration": 6,
    "start_time": "2022-05-15T00:11:38.836Z"
   },
   {
    "duration": 17,
    "start_time": "2022-05-15T00:11:38.844Z"
   },
   {
    "duration": 69,
    "start_time": "2022-05-15T00:11:38.863Z"
   },
   {
    "duration": 4,
    "start_time": "2022-05-15T00:11:38.934Z"
   },
   {
    "duration": 13,
    "start_time": "2022-05-15T00:11:38.940Z"
   },
   {
    "duration": 19,
    "start_time": "2022-05-15T00:11:38.955Z"
   },
   {
    "duration": 11,
    "start_time": "2022-05-15T00:11:39.023Z"
   },
   {
    "duration": 16,
    "start_time": "2022-05-15T00:11:39.036Z"
   },
   {
    "duration": 8,
    "start_time": "2022-05-15T00:11:39.054Z"
   },
   {
    "duration": 61,
    "start_time": "2022-05-15T00:11:39.064Z"
   },
   {
    "duration": 10,
    "start_time": "2022-05-15T00:11:39.127Z"
   },
   {
    "duration": 4,
    "start_time": "2022-05-15T00:11:39.138Z"
   },
   {
    "duration": 10,
    "start_time": "2022-05-15T00:11:39.144Z"
   },
   {
    "duration": 69,
    "start_time": "2022-05-15T00:11:39.156Z"
   },
   {
    "duration": 13,
    "start_time": "2022-05-15T00:11:39.227Z"
   },
   {
    "duration": 5,
    "start_time": "2022-05-15T00:11:39.242Z"
   },
   {
    "duration": 12,
    "start_time": "2022-05-15T00:11:39.251Z"
   },
   {
    "duration": 68,
    "start_time": "2022-05-15T00:11:39.264Z"
   },
   {
    "duration": 4,
    "start_time": "2022-05-15T00:11:39.334Z"
   },
   {
    "duration": 5,
    "start_time": "2022-05-15T00:11:39.339Z"
   },
   {
    "duration": 3,
    "start_time": "2022-05-15T00:11:39.345Z"
   },
   {
    "duration": 7,
    "start_time": "2022-05-15T00:11:39.350Z"
   },
   {
    "duration": 7,
    "start_time": "2022-05-15T00:11:39.359Z"
   },
   {
    "duration": 55,
    "start_time": "2022-05-15T00:11:39.368Z"
   },
   {
    "duration": 98,
    "start_time": "2022-05-15T00:11:39.424Z"
   },
   {
    "duration": 111,
    "start_time": "2022-05-15T00:11:39.525Z"
   },
   {
    "duration": 7,
    "start_time": "2022-05-15T00:11:39.638Z"
   },
   {
    "duration": 15,
    "start_time": "2022-05-15T00:11:39.647Z"
   },
   {
    "duration": 3,
    "start_time": "2022-05-15T00:11:39.664Z"
   },
   {
    "duration": 56,
    "start_time": "2022-05-15T00:11:39.669Z"
   },
   {
    "duration": 5,
    "start_time": "2022-05-15T00:11:39.727Z"
   },
   {
    "duration": 7,
    "start_time": "2022-05-15T00:11:39.733Z"
   },
   {
    "duration": 7,
    "start_time": "2022-05-15T00:11:39.741Z"
   },
   {
    "duration": 4,
    "start_time": "2022-05-15T00:11:39.750Z"
   },
   {
    "duration": 5,
    "start_time": "2022-05-15T00:11:39.755Z"
   },
   {
    "duration": 162,
    "start_time": "2022-05-15T00:11:39.762Z"
   },
   {
    "duration": 398,
    "start_time": "2022-05-15T00:11:39.926Z"
   },
   {
    "duration": 98,
    "start_time": "2022-05-15T00:11:40.326Z"
   },
   {
    "duration": 9,
    "start_time": "2022-05-15T00:11:40.426Z"
   },
   {
    "duration": 17,
    "start_time": "2022-05-15T00:12:45.855Z"
   },
   {
    "duration": 1768,
    "start_time": "2022-05-15T00:13:12.144Z"
   },
   {
    "duration": 41,
    "start_time": "2022-05-15T00:13:13.914Z"
   },
   {
    "duration": 43,
    "start_time": "2022-05-15T00:13:13.957Z"
   },
   {
    "duration": 22,
    "start_time": "2022-05-15T00:13:14.003Z"
   },
   {
    "duration": 9,
    "start_time": "2022-05-15T00:13:14.027Z"
   },
   {
    "duration": 5,
    "start_time": "2022-05-15T00:13:14.037Z"
   },
   {
    "duration": 7,
    "start_time": "2022-05-15T00:13:14.044Z"
   },
   {
    "duration": 9,
    "start_time": "2022-05-15T00:13:14.053Z"
   },
   {
    "duration": 597,
    "start_time": "2022-05-15T00:13:14.064Z"
   },
   {
    "duration": 4,
    "start_time": "2022-05-15T00:13:14.664Z"
   },
   {
    "duration": 9,
    "start_time": "2022-05-15T00:13:14.669Z"
   },
   {
    "duration": 473,
    "start_time": "2022-05-15T00:13:14.680Z"
   },
   {
    "duration": 13,
    "start_time": "2022-05-15T00:13:15.155Z"
   },
   {
    "duration": 9,
    "start_time": "2022-05-15T00:13:15.170Z"
   },
   {
    "duration": 16,
    "start_time": "2022-05-15T00:13:15.181Z"
   },
   {
    "duration": 236,
    "start_time": "2022-05-15T00:13:15.223Z"
   },
   {
    "duration": 30,
    "start_time": "2022-05-15T00:13:15.461Z"
   },
   {
    "duration": 607,
    "start_time": "2022-05-15T00:13:15.493Z"
   },
   {
    "duration": 10,
    "start_time": "2022-05-15T00:13:16.102Z"
   },
   {
    "duration": 10,
    "start_time": "2022-05-15T00:13:16.123Z"
   },
   {
    "duration": 14,
    "start_time": "2022-05-15T00:13:16.135Z"
   },
   {
    "duration": 560,
    "start_time": "2022-05-15T00:13:16.151Z"
   },
   {
    "duration": 10,
    "start_time": "2022-05-15T00:13:16.713Z"
   },
   {
    "duration": 11,
    "start_time": "2022-05-15T00:13:16.725Z"
   },
   {
    "duration": 19,
    "start_time": "2022-05-15T00:13:16.738Z"
   },
   {
    "duration": 7,
    "start_time": "2022-05-15T00:13:16.758Z"
   },
   {
    "duration": 19,
    "start_time": "2022-05-15T00:13:16.767Z"
   },
   {
    "duration": 43,
    "start_time": "2022-05-15T00:13:16.791Z"
   },
   {
    "duration": 5,
    "start_time": "2022-05-15T00:13:16.836Z"
   },
   {
    "duration": 14,
    "start_time": "2022-05-15T00:13:16.843Z"
   },
   {
    "duration": 14,
    "start_time": "2022-05-15T00:13:16.859Z"
   },
   {
    "duration": 52,
    "start_time": "2022-05-15T00:13:16.875Z"
   },
   {
    "duration": 16,
    "start_time": "2022-05-15T00:13:16.929Z"
   },
   {
    "duration": 10,
    "start_time": "2022-05-15T00:13:16.947Z"
   },
   {
    "duration": 8,
    "start_time": "2022-05-15T00:13:16.959Z"
   },
   {
    "duration": 10,
    "start_time": "2022-05-15T00:13:16.968Z"
   },
   {
    "duration": 7,
    "start_time": "2022-05-15T00:13:16.980Z"
   },
   {
    "duration": 42,
    "start_time": "2022-05-15T00:13:16.989Z"
   },
   {
    "duration": 15,
    "start_time": "2022-05-15T00:13:17.032Z"
   },
   {
    "duration": 15,
    "start_time": "2022-05-15T00:13:17.048Z"
   },
   {
    "duration": 5,
    "start_time": "2022-05-15T00:13:17.065Z"
   },
   {
    "duration": 14,
    "start_time": "2022-05-15T00:13:17.072Z"
   },
   {
    "duration": 47,
    "start_time": "2022-05-15T00:13:17.088Z"
   },
   {
    "duration": 5,
    "start_time": "2022-05-15T00:13:17.136Z"
   },
   {
    "duration": 8,
    "start_time": "2022-05-15T00:13:17.143Z"
   },
   {
    "duration": 9,
    "start_time": "2022-05-15T00:13:17.153Z"
   },
   {
    "duration": 10,
    "start_time": "2022-05-15T00:13:17.164Z"
   },
   {
    "duration": 11,
    "start_time": "2022-05-15T00:13:17.175Z"
   },
   {
    "duration": 8,
    "start_time": "2022-05-15T00:13:17.187Z"
   },
   {
    "duration": 40,
    "start_time": "2022-05-15T00:13:17.197Z"
   },
   {
    "duration": 119,
    "start_time": "2022-05-15T00:13:17.324Z"
   },
   {
    "duration": 6,
    "start_time": "2022-05-15T00:13:17.445Z"
   },
   {
    "duration": 18,
    "start_time": "2022-05-15T00:13:17.453Z"
   },
   {
    "duration": 18,
    "start_time": "2022-05-15T00:13:17.472Z"
   },
   {
    "duration": 4,
    "start_time": "2022-05-15T00:13:17.523Z"
   },
   {
    "duration": 6,
    "start_time": "2022-05-15T00:13:17.528Z"
   },
   {
    "duration": 4,
    "start_time": "2022-05-15T00:13:17.536Z"
   },
   {
    "duration": 6,
    "start_time": "2022-05-15T00:13:17.541Z"
   },
   {
    "duration": 7,
    "start_time": "2022-05-15T00:13:17.549Z"
   },
   {
    "duration": 5,
    "start_time": "2022-05-15T00:13:17.558Z"
   },
   {
    "duration": 7,
    "start_time": "2022-05-15T00:13:17.565Z"
   },
   {
    "duration": 151,
    "start_time": "2022-05-15T00:13:17.574Z"
   },
   {
    "duration": 497,
    "start_time": "2022-05-15T00:13:17.727Z"
   },
   {
    "duration": 98,
    "start_time": "2022-05-15T00:13:18.227Z"
   },
   {
    "duration": 9,
    "start_time": "2022-05-15T00:13:18.327Z"
   },
   {
    "duration": 1770,
    "start_time": "2022-05-15T00:16:57.833Z"
   },
   {
    "duration": 39,
    "start_time": "2022-05-15T00:16:59.605Z"
   },
   {
    "duration": 40,
    "start_time": "2022-05-15T00:16:59.646Z"
   },
   {
    "duration": 4,
    "start_time": "2022-05-15T00:16:59.688Z"
   },
   {
    "duration": 33,
    "start_time": "2022-05-15T00:16:59.693Z"
   },
   {
    "duration": 5,
    "start_time": "2022-05-15T00:16:59.727Z"
   },
   {
    "duration": 5,
    "start_time": "2022-05-15T00:16:59.734Z"
   },
   {
    "duration": 8,
    "start_time": "2022-05-15T00:16:59.741Z"
   },
   {
    "duration": 573,
    "start_time": "2022-05-15T00:16:59.751Z"
   },
   {
    "duration": 4,
    "start_time": "2022-05-15T00:17:00.327Z"
   },
   {
    "duration": 14,
    "start_time": "2022-05-15T00:17:00.333Z"
   },
   {
    "duration": 440,
    "start_time": "2022-05-15T00:17:00.349Z"
   },
   {
    "duration": 12,
    "start_time": "2022-05-15T00:17:00.791Z"
   },
   {
    "duration": 24,
    "start_time": "2022-05-15T00:17:00.805Z"
   },
   {
    "duration": 17,
    "start_time": "2022-05-15T00:17:00.831Z"
   },
   {
    "duration": 215,
    "start_time": "2022-05-15T00:17:00.849Z"
   },
   {
    "duration": 30,
    "start_time": "2022-05-15T00:17:01.066Z"
   },
   {
    "duration": 591,
    "start_time": "2022-05-15T00:17:01.098Z"
   },
   {
    "duration": 10,
    "start_time": "2022-05-15T00:17:01.690Z"
   },
   {
    "duration": 23,
    "start_time": "2022-05-15T00:17:01.701Z"
   },
   {
    "duration": 14,
    "start_time": "2022-05-15T00:17:01.725Z"
   },
   {
    "duration": 538,
    "start_time": "2022-05-15T00:17:01.741Z"
   },
   {
    "duration": 9,
    "start_time": "2022-05-15T00:17:02.281Z"
   },
   {
    "duration": 19,
    "start_time": "2022-05-15T00:17:02.292Z"
   },
   {
    "duration": 27,
    "start_time": "2022-05-15T00:17:02.313Z"
   },
   {
    "duration": 7,
    "start_time": "2022-05-15T00:17:02.342Z"
   },
   {
    "duration": 22,
    "start_time": "2022-05-15T00:17:02.350Z"
   },
   {
    "duration": 22,
    "start_time": "2022-05-15T00:17:02.377Z"
   },
   {
    "duration": 11,
    "start_time": "2022-05-15T00:17:02.401Z"
   },
   {
    "duration": 27,
    "start_time": "2022-05-15T00:17:02.414Z"
   },
   {
    "duration": 17,
    "start_time": "2022-05-15T00:17:02.443Z"
   },
   {
    "duration": 10,
    "start_time": "2022-05-15T00:17:02.462Z"
   },
   {
    "duration": 15,
    "start_time": "2022-05-15T00:17:02.474Z"
   },
   {
    "duration": 12,
    "start_time": "2022-05-15T00:17:02.491Z"
   },
   {
    "duration": 23,
    "start_time": "2022-05-15T00:17:02.505Z"
   },
   {
    "duration": 16,
    "start_time": "2022-05-15T00:17:02.530Z"
   },
   {
    "duration": 11,
    "start_time": "2022-05-15T00:17:02.548Z"
   },
   {
    "duration": 22,
    "start_time": "2022-05-15T00:17:02.561Z"
   },
   {
    "duration": 16,
    "start_time": "2022-05-15T00:17:02.585Z"
   },
   {
    "duration": 20,
    "start_time": "2022-05-15T00:17:02.603Z"
   },
   {
    "duration": 4,
    "start_time": "2022-05-15T00:17:02.626Z"
   },
   {
    "duration": 17,
    "start_time": "2022-05-15T00:17:02.631Z"
   },
   {
    "duration": 16,
    "start_time": "2022-05-15T00:17:02.650Z"
   },
   {
    "duration": 10,
    "start_time": "2022-05-15T00:17:02.668Z"
   },
   {
    "duration": 11,
    "start_time": "2022-05-15T00:17:02.679Z"
   },
   {
    "duration": 34,
    "start_time": "2022-05-15T00:17:02.693Z"
   },
   {
    "duration": 7,
    "start_time": "2022-05-15T00:17:02.729Z"
   },
   {
    "duration": 11,
    "start_time": "2022-05-15T00:17:02.738Z"
   },
   {
    "duration": 19,
    "start_time": "2022-05-15T00:17:02.751Z"
   },
   {
    "duration": 55,
    "start_time": "2022-05-15T00:17:02.772Z"
   },
   {
    "duration": 115,
    "start_time": "2022-05-15T00:17:02.830Z"
   },
   {
    "duration": 6,
    "start_time": "2022-05-15T00:17:02.947Z"
   },
   {
    "duration": 19,
    "start_time": "2022-05-15T00:17:02.955Z"
   },
   {
    "duration": 48,
    "start_time": "2022-05-15T00:17:02.976Z"
   },
   {
    "duration": 4,
    "start_time": "2022-05-15T00:17:03.026Z"
   },
   {
    "duration": 10,
    "start_time": "2022-05-15T00:17:03.032Z"
   },
   {
    "duration": 5,
    "start_time": "2022-05-15T00:17:03.044Z"
   },
   {
    "duration": 18,
    "start_time": "2022-05-15T00:17:03.051Z"
   },
   {
    "duration": 12,
    "start_time": "2022-05-15T00:17:03.071Z"
   },
   {
    "duration": 6,
    "start_time": "2022-05-15T00:17:03.084Z"
   },
   {
    "duration": 4,
    "start_time": "2022-05-15T00:17:03.092Z"
   },
   {
    "duration": 125,
    "start_time": "2022-05-15T00:17:03.098Z"
   },
   {
    "duration": 505,
    "start_time": "2022-05-15T00:17:03.225Z"
   },
   {
    "duration": 7,
    "start_time": "2022-05-15T00:17:03.822Z"
   },
   {
    "duration": 8,
    "start_time": "2022-05-15T00:17:03.831Z"
   },
   {
    "duration": 4,
    "start_time": "2022-05-15T00:17:36.123Z"
   },
   {
    "duration": 1713,
    "start_time": "2022-05-15T00:17:41.743Z"
   },
   {
    "duration": 37,
    "start_time": "2022-05-15T00:17:43.458Z"
   },
   {
    "duration": 40,
    "start_time": "2022-05-15T00:17:43.496Z"
   },
   {
    "duration": 3,
    "start_time": "2022-05-15T00:17:43.539Z"
   },
   {
    "duration": 6,
    "start_time": "2022-05-15T00:17:43.544Z"
   },
   {
    "duration": 5,
    "start_time": "2022-05-15T00:17:43.551Z"
   },
   {
    "duration": 7,
    "start_time": "2022-05-15T00:17:43.558Z"
   },
   {
    "duration": 10,
    "start_time": "2022-05-15T00:17:43.566Z"
   },
   {
    "duration": 559,
    "start_time": "2022-05-15T00:17:43.578Z"
   },
   {
    "duration": 4,
    "start_time": "2022-05-15T00:17:44.139Z"
   },
   {
    "duration": 8,
    "start_time": "2022-05-15T00:17:44.144Z"
   },
   {
    "duration": 449,
    "start_time": "2022-05-15T00:17:44.153Z"
   },
   {
    "duration": 25,
    "start_time": "2022-05-15T00:17:44.603Z"
   },
   {
    "duration": 8,
    "start_time": "2022-05-15T00:17:44.629Z"
   },
   {
    "duration": 17,
    "start_time": "2022-05-15T00:17:44.639Z"
   },
   {
    "duration": 232,
    "start_time": "2022-05-15T00:17:44.657Z"
   },
   {
    "duration": 33,
    "start_time": "2022-05-15T00:17:44.892Z"
   },
   {
    "duration": 614,
    "start_time": "2022-05-15T00:17:44.927Z"
   },
   {
    "duration": 10,
    "start_time": "2022-05-15T00:17:45.543Z"
   },
   {
    "duration": 11,
    "start_time": "2022-05-15T00:17:45.555Z"
   },
   {
    "duration": 15,
    "start_time": "2022-05-15T00:17:45.568Z"
   },
   {
    "duration": 538,
    "start_time": "2022-05-15T00:17:45.585Z"
   },
   {
    "duration": 9,
    "start_time": "2022-05-15T00:17:46.125Z"
   },
   {
    "duration": 13,
    "start_time": "2022-05-15T00:17:46.135Z"
   },
   {
    "duration": 18,
    "start_time": "2022-05-15T00:17:46.150Z"
   },
   {
    "duration": 6,
    "start_time": "2022-05-15T00:17:46.170Z"
   },
   {
    "duration": 15,
    "start_time": "2022-05-15T00:17:46.177Z"
   },
   {
    "duration": 13,
    "start_time": "2022-05-15T00:17:46.225Z"
   },
   {
    "duration": 4,
    "start_time": "2022-05-15T00:17:46.239Z"
   },
   {
    "duration": 12,
    "start_time": "2022-05-15T00:17:46.245Z"
   },
   {
    "duration": 13,
    "start_time": "2022-05-15T00:17:46.258Z"
   },
   {
    "duration": 10,
    "start_time": "2022-05-15T00:17:46.273Z"
   },
   {
    "duration": 51,
    "start_time": "2022-05-15T00:17:46.285Z"
   },
   {
    "duration": 9,
    "start_time": "2022-05-15T00:17:46.338Z"
   },
   {
    "duration": 6,
    "start_time": "2022-05-15T00:17:46.349Z"
   },
   {
    "duration": 10,
    "start_time": "2022-05-15T00:17:46.357Z"
   },
   {
    "duration": 7,
    "start_time": "2022-05-15T00:17:46.368Z"
   },
   {
    "duration": 17,
    "start_time": "2022-05-15T00:17:46.376Z"
   },
   {
    "duration": 34,
    "start_time": "2022-05-15T00:17:46.395Z"
   },
   {
    "duration": 14,
    "start_time": "2022-05-15T00:17:46.430Z"
   },
   {
    "duration": 4,
    "start_time": "2022-05-15T00:17:46.445Z"
   },
   {
    "duration": 16,
    "start_time": "2022-05-15T00:17:46.450Z"
   },
   {
    "duration": 16,
    "start_time": "2022-05-15T00:17:46.468Z"
   },
   {
    "duration": 11,
    "start_time": "2022-05-15T00:17:46.486Z"
   },
   {
    "duration": 25,
    "start_time": "2022-05-15T00:17:46.498Z"
   },
   {
    "duration": 8,
    "start_time": "2022-05-15T00:17:46.524Z"
   },
   {
    "duration": 11,
    "start_time": "2022-05-15T00:17:46.534Z"
   },
   {
    "duration": 9,
    "start_time": "2022-05-15T00:17:46.547Z"
   },
   {
    "duration": 8,
    "start_time": "2022-05-15T00:17:46.558Z"
   },
   {
    "duration": 57,
    "start_time": "2022-05-15T00:17:46.568Z"
   },
   {
    "duration": 111,
    "start_time": "2022-05-15T00:17:46.629Z"
   },
   {
    "duration": 6,
    "start_time": "2022-05-15T00:17:46.742Z"
   },
   {
    "duration": 16,
    "start_time": "2022-05-15T00:17:46.749Z"
   },
   {
    "duration": 15,
    "start_time": "2022-05-15T00:17:46.767Z"
   },
   {
    "duration": 4,
    "start_time": "2022-05-15T00:17:46.784Z"
   },
   {
    "duration": 5,
    "start_time": "2022-05-15T00:17:46.823Z"
   },
   {
    "duration": 5,
    "start_time": "2022-05-15T00:17:46.830Z"
   },
   {
    "duration": 6,
    "start_time": "2022-05-15T00:17:46.837Z"
   },
   {
    "duration": 7,
    "start_time": "2022-05-15T00:17:46.845Z"
   },
   {
    "duration": 4,
    "start_time": "2022-05-15T00:17:46.855Z"
   },
   {
    "duration": 9,
    "start_time": "2022-05-15T00:17:46.861Z"
   },
   {
    "duration": 151,
    "start_time": "2022-05-15T00:17:46.872Z"
   },
   {
    "duration": 299,
    "start_time": "2022-05-15T00:17:47.025Z"
   },
   {
    "duration": 98,
    "start_time": "2022-05-15T00:17:47.326Z"
   },
   {
    "duration": 6,
    "start_time": "2022-05-15T00:17:47.426Z"
   },
   {
    "duration": 6,
    "start_time": "2022-05-15T00:19:26.194Z"
   },
   {
    "duration": 16,
    "start_time": "2022-05-15T00:19:27.613Z"
   },
   {
    "duration": 16,
    "start_time": "2022-05-15T00:19:29.513Z"
   },
   {
    "duration": 1826,
    "start_time": "2022-05-15T00:19:39.835Z"
   },
   {
    "duration": 38,
    "start_time": "2022-05-15T00:19:41.663Z"
   },
   {
    "duration": 40,
    "start_time": "2022-05-15T00:19:41.703Z"
   },
   {
    "duration": 4,
    "start_time": "2022-05-15T00:19:41.745Z"
   },
   {
    "duration": 17,
    "start_time": "2022-05-15T00:19:41.750Z"
   },
   {
    "duration": 13,
    "start_time": "2022-05-15T00:19:41.768Z"
   },
   {
    "duration": 13,
    "start_time": "2022-05-15T00:19:41.783Z"
   },
   {
    "duration": 29,
    "start_time": "2022-05-15T00:19:41.798Z"
   },
   {
    "duration": 542,
    "start_time": "2022-05-15T00:19:41.829Z"
   },
   {
    "duration": 4,
    "start_time": "2022-05-15T00:19:42.374Z"
   },
   {
    "duration": 7,
    "start_time": "2022-05-15T00:19:42.379Z"
   },
   {
    "duration": 472,
    "start_time": "2022-05-15T00:19:42.388Z"
   },
   {
    "duration": 11,
    "start_time": "2022-05-15T00:19:42.862Z"
   },
   {
    "duration": 8,
    "start_time": "2022-05-15T00:19:42.875Z"
   },
   {
    "duration": 16,
    "start_time": "2022-05-15T00:19:42.885Z"
   },
   {
    "duration": 323,
    "start_time": "2022-05-15T00:19:42.923Z"
   },
   {
    "duration": 95,
    "start_time": "2022-05-15T00:19:43.248Z"
   },
   {
    "duration": 1683,
    "start_time": "2022-05-15T00:19:43.345Z"
   },
   {
    "duration": 13,
    "start_time": "2022-05-15T00:19:45.030Z"
   },
   {
    "duration": 14,
    "start_time": "2022-05-15T00:19:45.045Z"
   },
   {
    "duration": 75,
    "start_time": "2022-05-15T00:19:45.061Z"
   },
   {
    "duration": 924,
    "start_time": "2022-05-15T00:19:45.139Z"
   },
   {
    "duration": 11,
    "start_time": "2022-05-15T00:19:46.066Z"
   },
   {
    "duration": 9,
    "start_time": "2022-05-15T00:19:46.079Z"
   },
   {
    "duration": 36,
    "start_time": "2022-05-15T00:19:46.090Z"
   },
   {
    "duration": 7,
    "start_time": "2022-05-15T00:19:46.129Z"
   },
   {
    "duration": 16,
    "start_time": "2022-05-15T00:19:46.138Z"
   },
   {
    "duration": 14,
    "start_time": "2022-05-15T00:19:46.160Z"
   },
   {
    "duration": 5,
    "start_time": "2022-05-15T00:19:46.175Z"
   },
   {
    "duration": 49,
    "start_time": "2022-05-15T00:19:46.182Z"
   },
   {
    "duration": 11,
    "start_time": "2022-05-15T00:19:46.233Z"
   },
   {
    "duration": 11,
    "start_time": "2022-05-15T00:19:46.246Z"
   },
   {
    "duration": 16,
    "start_time": "2022-05-15T00:19:46.259Z"
   },
   {
    "duration": 46,
    "start_time": "2022-05-15T00:19:46.277Z"
   },
   {
    "duration": 7,
    "start_time": "2022-05-15T00:19:46.325Z"
   },
   {
    "duration": 9,
    "start_time": "2022-05-15T00:19:46.333Z"
   },
   {
    "duration": 7,
    "start_time": "2022-05-15T00:19:46.344Z"
   },
   {
    "duration": 15,
    "start_time": "2022-05-15T00:19:46.353Z"
   },
   {
    "duration": 15,
    "start_time": "2022-05-15T00:19:46.370Z"
   },
   {
    "duration": 15,
    "start_time": "2022-05-15T00:19:46.387Z"
   },
   {
    "duration": 5,
    "start_time": "2022-05-15T00:19:46.422Z"
   },
   {
    "duration": 11,
    "start_time": "2022-05-15T00:19:46.429Z"
   },
   {
    "duration": 14,
    "start_time": "2022-05-15T00:19:46.441Z"
   },
   {
    "duration": 7,
    "start_time": "2022-05-15T00:19:46.457Z"
   },
   {
    "duration": 8,
    "start_time": "2022-05-15T00:19:46.465Z"
   },
   {
    "duration": 9,
    "start_time": "2022-05-15T00:19:46.475Z"
   },
   {
    "duration": 10,
    "start_time": "2022-05-15T00:19:46.485Z"
   },
   {
    "duration": 3,
    "start_time": "2022-05-15T00:19:46.523Z"
   },
   {
    "duration": 5,
    "start_time": "2022-05-15T00:19:46.528Z"
   },
   {
    "duration": 90,
    "start_time": "2022-05-15T00:19:46.535Z"
   },
   {
    "duration": 112,
    "start_time": "2022-05-15T00:19:46.628Z"
   },
   {
    "duration": 6,
    "start_time": "2022-05-15T00:19:46.742Z"
   },
   {
    "duration": 16,
    "start_time": "2022-05-15T00:19:46.750Z"
   },
   {
    "duration": 16,
    "start_time": "2022-05-15T00:19:46.768Z"
   },
   {
    "duration": 4,
    "start_time": "2022-05-15T00:19:46.823Z"
   },
   {
    "duration": 6,
    "start_time": "2022-05-15T00:19:46.829Z"
   },
   {
    "duration": 5,
    "start_time": "2022-05-15T00:19:46.836Z"
   },
   {
    "duration": 6,
    "start_time": "2022-05-15T00:19:46.843Z"
   },
   {
    "duration": 7,
    "start_time": "2022-05-15T00:19:46.851Z"
   },
   {
    "duration": 4,
    "start_time": "2022-05-15T00:19:46.860Z"
   },
   {
    "duration": 9,
    "start_time": "2022-05-15T00:19:46.866Z"
   },
   {
    "duration": 54,
    "start_time": "2022-05-15T00:19:46.877Z"
   },
   {
    "duration": 302,
    "start_time": "2022-05-15T00:19:47.025Z"
   },
   {
    "duration": 95,
    "start_time": "2022-05-15T00:19:47.330Z"
   },
   {
    "duration": 7,
    "start_time": "2022-05-15T00:19:47.428Z"
   },
   {
    "duration": 1756,
    "start_time": "2022-05-15T00:21:56.755Z"
   },
   {
    "duration": 38,
    "start_time": "2022-05-15T00:21:58.513Z"
   },
   {
    "duration": 39,
    "start_time": "2022-05-15T00:21:58.553Z"
   },
   {
    "duration": 3,
    "start_time": "2022-05-15T00:21:58.594Z"
   },
   {
    "duration": 5,
    "start_time": "2022-05-15T00:21:58.623Z"
   },
   {
    "duration": 5,
    "start_time": "2022-05-15T00:21:58.630Z"
   },
   {
    "duration": 7,
    "start_time": "2022-05-15T00:21:58.637Z"
   },
   {
    "duration": 8,
    "start_time": "2022-05-15T00:21:58.646Z"
   },
   {
    "duration": 551,
    "start_time": "2022-05-15T00:21:58.656Z"
   },
   {
    "duration": 4,
    "start_time": "2022-05-15T00:21:59.210Z"
   },
   {
    "duration": 7,
    "start_time": "2022-05-15T00:21:59.223Z"
   },
   {
    "duration": 455,
    "start_time": "2022-05-15T00:21:59.232Z"
   },
   {
    "duration": 12,
    "start_time": "2022-05-15T00:21:59.689Z"
   },
   {
    "duration": 21,
    "start_time": "2022-05-15T00:21:59.703Z"
   },
   {
    "duration": 15,
    "start_time": "2022-05-15T00:21:59.726Z"
   },
   {
    "duration": 222,
    "start_time": "2022-05-15T00:21:59.743Z"
   },
   {
    "duration": 28,
    "start_time": "2022-05-15T00:21:59.967Z"
   },
   {
    "duration": 608,
    "start_time": "2022-05-15T00:21:59.996Z"
   },
   {
    "duration": 19,
    "start_time": "2022-05-15T00:22:00.606Z"
   },
   {
    "duration": 20,
    "start_time": "2022-05-15T00:22:00.627Z"
   },
   {
    "duration": 22,
    "start_time": "2022-05-15T00:22:00.650Z"
   },
   {
    "duration": 521,
    "start_time": "2022-05-15T00:22:00.674Z"
   },
   {
    "duration": 10,
    "start_time": "2022-05-15T00:22:01.198Z"
   },
   {
    "duration": 11,
    "start_time": "2022-05-15T00:22:01.210Z"
   },
   {
    "duration": 22,
    "start_time": "2022-05-15T00:22:01.223Z"
   },
   {
    "duration": 8,
    "start_time": "2022-05-15T00:22:01.247Z"
   },
   {
    "duration": 33,
    "start_time": "2022-05-15T00:22:01.257Z"
   },
   {
    "duration": 23,
    "start_time": "2022-05-15T00:22:01.295Z"
   },
   {
    "duration": 25,
    "start_time": "2022-05-15T00:22:01.320Z"
   },
   {
    "duration": 38,
    "start_time": "2022-05-15T00:22:01.347Z"
   },
   {
    "duration": 29,
    "start_time": "2022-05-15T00:22:01.386Z"
   },
   {
    "duration": 17,
    "start_time": "2022-05-15T00:22:01.417Z"
   },
   {
    "duration": 26,
    "start_time": "2022-05-15T00:22:01.436Z"
   },
   {
    "duration": 15,
    "start_time": "2022-05-15T00:22:01.463Z"
   },
   {
    "duration": 48,
    "start_time": "2022-05-15T00:22:01.480Z"
   },
   {
    "duration": 14,
    "start_time": "2022-05-15T00:22:01.530Z"
   },
   {
    "duration": 22,
    "start_time": "2022-05-15T00:22:01.545Z"
   },
   {
    "duration": 61,
    "start_time": "2022-05-15T00:22:01.569Z"
   },
   {
    "duration": 14,
    "start_time": "2022-05-15T00:22:01.631Z"
   },
   {
    "duration": 15,
    "start_time": "2022-05-15T00:22:01.647Z"
   },
   {
    "duration": 59,
    "start_time": "2022-05-15T00:22:01.664Z"
   },
   {
    "duration": 14,
    "start_time": "2022-05-15T00:22:01.724Z"
   },
   {
    "duration": 26,
    "start_time": "2022-05-15T00:22:01.739Z"
   },
   {
    "duration": 56,
    "start_time": "2022-05-15T00:22:01.767Z"
   },
   {
    "duration": 3,
    "start_time": "2022-05-15T00:22:01.825Z"
   },
   {
    "duration": 18,
    "start_time": "2022-05-15T00:22:01.830Z"
   },
   {
    "duration": 7,
    "start_time": "2022-05-15T00:22:01.850Z"
   },
   {
    "duration": 27,
    "start_time": "2022-05-15T00:22:01.859Z"
   },
   {
    "duration": 3,
    "start_time": "2022-05-15T00:22:01.923Z"
   },
   {
    "duration": 99,
    "start_time": "2022-05-15T00:22:01.928Z"
   },
   {
    "duration": 295,
    "start_time": "2022-05-15T00:22:02.032Z"
   },
   {
    "duration": 95,
    "start_time": "2022-05-15T00:22:02.330Z"
   },
   {
    "duration": 97,
    "start_time": "2022-05-15T00:22:02.427Z"
   },
   {
    "duration": 16,
    "start_time": "2022-05-15T00:22:02.526Z"
   },
   {
    "duration": 3,
    "start_time": "2022-05-15T00:22:02.544Z"
   },
   {
    "duration": 6,
    "start_time": "2022-05-15T00:22:02.549Z"
   },
   {
    "duration": 5,
    "start_time": "2022-05-15T00:22:02.556Z"
   },
   {
    "duration": 60,
    "start_time": "2022-05-15T00:22:02.563Z"
   },
   {
    "duration": 7,
    "start_time": "2022-05-15T00:22:02.625Z"
   },
   {
    "duration": 5,
    "start_time": "2022-05-15T00:22:02.633Z"
   },
   {
    "duration": 4,
    "start_time": "2022-05-15T00:22:02.640Z"
   },
   {
    "duration": 83,
    "start_time": "2022-05-15T00:22:02.646Z"
   },
   {
    "duration": 298,
    "start_time": "2022-05-15T00:22:02.732Z"
   },
   {
    "duration": 93,
    "start_time": "2022-05-15T00:22:03.032Z"
   },
   {
    "duration": 97,
    "start_time": "2022-05-15T00:22:03.127Z"
   },
   {
    "duration": 1813,
    "start_time": "2022-05-15T00:22:27.787Z"
   },
   {
    "duration": 39,
    "start_time": "2022-05-15T00:22:29.602Z"
   },
   {
    "duration": 40,
    "start_time": "2022-05-15T00:22:29.643Z"
   },
   {
    "duration": 3,
    "start_time": "2022-05-15T00:22:29.685Z"
   },
   {
    "duration": 33,
    "start_time": "2022-05-15T00:22:29.690Z"
   },
   {
    "duration": 4,
    "start_time": "2022-05-15T00:22:29.725Z"
   },
   {
    "duration": 7,
    "start_time": "2022-05-15T00:22:29.731Z"
   },
   {
    "duration": 10,
    "start_time": "2022-05-15T00:22:29.739Z"
   },
   {
    "duration": 556,
    "start_time": "2022-05-15T00:22:29.750Z"
   },
   {
    "duration": 3,
    "start_time": "2022-05-15T00:22:30.309Z"
   },
   {
    "duration": 6,
    "start_time": "2022-05-15T00:22:30.322Z"
   },
   {
    "duration": 464,
    "start_time": "2022-05-15T00:22:30.329Z"
   },
   {
    "duration": 12,
    "start_time": "2022-05-15T00:22:30.794Z"
   },
   {
    "duration": 22,
    "start_time": "2022-05-15T00:22:30.808Z"
   },
   {
    "duration": 32,
    "start_time": "2022-05-15T00:22:30.831Z"
   },
   {
    "duration": 212,
    "start_time": "2022-05-15T00:22:30.865Z"
   },
   {
    "duration": 30,
    "start_time": "2022-05-15T00:22:31.079Z"
   },
   {
    "duration": 574,
    "start_time": "2022-05-15T00:22:31.111Z"
   },
   {
    "duration": 10,
    "start_time": "2022-05-15T00:22:31.686Z"
   },
   {
    "duration": 27,
    "start_time": "2022-05-15T00:22:31.697Z"
   },
   {
    "duration": 16,
    "start_time": "2022-05-15T00:22:31.725Z"
   },
   {
    "duration": 497,
    "start_time": "2022-05-15T00:22:31.742Z"
   },
   {
    "duration": 9,
    "start_time": "2022-05-15T00:22:32.241Z"
   },
   {
    "duration": 11,
    "start_time": "2022-05-15T00:22:32.251Z"
   },
   {
    "duration": 17,
    "start_time": "2022-05-15T00:22:32.264Z"
   },
   {
    "duration": 5,
    "start_time": "2022-05-15T00:22:32.283Z"
   },
   {
    "duration": 38,
    "start_time": "2022-05-15T00:22:32.290Z"
   },
   {
    "duration": 12,
    "start_time": "2022-05-15T00:22:32.332Z"
   },
   {
    "duration": 5,
    "start_time": "2022-05-15T00:22:32.346Z"
   },
   {
    "duration": 11,
    "start_time": "2022-05-15T00:22:32.353Z"
   },
   {
    "duration": 13,
    "start_time": "2022-05-15T00:22:32.366Z"
   },
   {
    "duration": 42,
    "start_time": "2022-05-15T00:22:32.381Z"
   },
   {
    "duration": 16,
    "start_time": "2022-05-15T00:22:32.425Z"
   },
   {
    "duration": 9,
    "start_time": "2022-05-15T00:22:32.443Z"
   },
   {
    "duration": 6,
    "start_time": "2022-05-15T00:22:32.454Z"
   },
   {
    "duration": 11,
    "start_time": "2022-05-15T00:22:32.462Z"
   },
   {
    "duration": 7,
    "start_time": "2022-05-15T00:22:32.475Z"
   },
   {
    "duration": 48,
    "start_time": "2022-05-15T00:22:32.484Z"
   },
   {
    "duration": 18,
    "start_time": "2022-05-15T00:22:32.533Z"
   },
   {
    "duration": 17,
    "start_time": "2022-05-15T00:22:32.552Z"
   },
   {
    "duration": 3,
    "start_time": "2022-05-15T00:22:32.571Z"
   },
   {
    "duration": 19,
    "start_time": "2022-05-15T00:22:32.576Z"
   },
   {
    "duration": 16,
    "start_time": "2022-05-15T00:22:32.623Z"
   },
   {
    "duration": 5,
    "start_time": "2022-05-15T00:22:32.640Z"
   },
   {
    "duration": 6,
    "start_time": "2022-05-15T00:22:32.647Z"
   },
   {
    "duration": 7,
    "start_time": "2022-05-15T00:22:32.655Z"
   },
   {
    "duration": 7,
    "start_time": "2022-05-15T00:22:32.663Z"
   },
   {
    "duration": 8,
    "start_time": "2022-05-15T00:22:32.672Z"
   },
   {
    "duration": 7,
    "start_time": "2022-05-15T00:22:32.682Z"
   },
   {
    "duration": 135,
    "start_time": "2022-05-15T00:22:32.691Z"
   },
   {
    "duration": 507,
    "start_time": "2022-05-15T00:22:32.828Z"
   },
   {
    "duration": 99,
    "start_time": "2022-05-15T00:22:33.429Z"
   },
   {
    "duration": 16,
    "start_time": "2022-05-15T00:22:33.529Z"
   },
   {
    "duration": 17,
    "start_time": "2022-05-15T00:22:33.547Z"
   },
   {
    "duration": 58,
    "start_time": "2022-05-15T00:22:33.565Z"
   },
   {
    "duration": 4,
    "start_time": "2022-05-15T00:22:33.625Z"
   },
   {
    "duration": 7,
    "start_time": "2022-05-15T00:22:33.631Z"
   },
   {
    "duration": 5,
    "start_time": "2022-05-15T00:22:33.640Z"
   },
   {
    "duration": 8,
    "start_time": "2022-05-15T00:22:33.647Z"
   },
   {
    "duration": 9,
    "start_time": "2022-05-15T00:22:33.656Z"
   },
   {
    "duration": 5,
    "start_time": "2022-05-15T00:22:33.667Z"
   },
   {
    "duration": 63,
    "start_time": "2022-05-15T00:22:33.674Z"
   },
   {
    "duration": 400,
    "start_time": "2022-05-15T00:22:33.824Z"
   },
   {
    "duration": 98,
    "start_time": "2022-05-15T00:22:34.227Z"
   },
   {
    "duration": 6,
    "start_time": "2022-05-15T00:22:34.327Z"
   },
   {
    "duration": 5,
    "start_time": "2022-05-15T00:25:06.826Z"
   },
   {
    "duration": 13,
    "start_time": "2022-05-15T00:25:07.645Z"
   },
   {
    "duration": 18,
    "start_time": "2022-05-15T00:25:14.166Z"
   },
   {
    "duration": 1737,
    "start_time": "2022-05-15T00:25:21.354Z"
   },
   {
    "duration": 40,
    "start_time": "2022-05-15T00:25:23.093Z"
   },
   {
    "duration": 46,
    "start_time": "2022-05-15T00:25:23.135Z"
   },
   {
    "duration": 4,
    "start_time": "2022-05-15T00:25:23.183Z"
   },
   {
    "duration": 5,
    "start_time": "2022-05-15T00:25:23.224Z"
   },
   {
    "duration": 6,
    "start_time": "2022-05-15T00:25:23.231Z"
   },
   {
    "duration": 8,
    "start_time": "2022-05-15T00:25:23.238Z"
   },
   {
    "duration": 9,
    "start_time": "2022-05-15T00:25:23.248Z"
   },
   {
    "duration": 586,
    "start_time": "2022-05-15T00:25:23.259Z"
   },
   {
    "duration": 4,
    "start_time": "2022-05-15T00:25:23.847Z"
   },
   {
    "duration": 6,
    "start_time": "2022-05-15T00:25:23.853Z"
   },
   {
    "duration": 468,
    "start_time": "2022-05-15T00:25:23.861Z"
   },
   {
    "duration": 12,
    "start_time": "2022-05-15T00:25:24.332Z"
   },
   {
    "duration": 8,
    "start_time": "2022-05-15T00:25:24.348Z"
   },
   {
    "duration": 15,
    "start_time": "2022-05-15T00:25:24.358Z"
   },
   {
    "duration": 239,
    "start_time": "2022-05-15T00:25:24.375Z"
   },
   {
    "duration": 37,
    "start_time": "2022-05-15T00:25:24.615Z"
   },
   {
    "duration": 613,
    "start_time": "2022-05-15T00:25:24.654Z"
   },
   {
    "duration": 9,
    "start_time": "2022-05-15T00:25:25.269Z"
   },
   {
    "duration": 16,
    "start_time": "2022-05-15T00:25:25.280Z"
   },
   {
    "duration": 31,
    "start_time": "2022-05-15T00:25:25.298Z"
   },
   {
    "duration": 564,
    "start_time": "2022-05-15T00:25:25.331Z"
   },
   {
    "duration": 9,
    "start_time": "2022-05-15T00:25:25.897Z"
   },
   {
    "duration": 10,
    "start_time": "2022-05-15T00:25:25.908Z"
   },
   {
    "duration": 20,
    "start_time": "2022-05-15T00:25:25.923Z"
   },
   {
    "duration": 6,
    "start_time": "2022-05-15T00:25:25.945Z"
   },
   {
    "duration": 15,
    "start_time": "2022-05-15T00:25:25.953Z"
   },
   {
    "duration": 13,
    "start_time": "2022-05-15T00:25:25.970Z"
   },
   {
    "duration": 38,
    "start_time": "2022-05-15T00:25:25.985Z"
   },
   {
    "duration": 12,
    "start_time": "2022-05-15T00:25:26.024Z"
   },
   {
    "duration": 15,
    "start_time": "2022-05-15T00:25:26.037Z"
   },
   {
    "duration": 11,
    "start_time": "2022-05-15T00:25:26.054Z"
   },
   {
    "duration": 29,
    "start_time": "2022-05-15T00:25:26.067Z"
   },
   {
    "duration": 26,
    "start_time": "2022-05-15T00:25:26.098Z"
   },
   {
    "duration": 11,
    "start_time": "2022-05-15T00:25:26.126Z"
   },
   {
    "duration": 13,
    "start_time": "2022-05-15T00:25:26.139Z"
   },
   {
    "duration": 5,
    "start_time": "2022-05-15T00:25:26.154Z"
   },
   {
    "duration": 28,
    "start_time": "2022-05-15T00:25:26.161Z"
   },
   {
    "duration": 20,
    "start_time": "2022-05-15T00:25:26.191Z"
   },
   {
    "duration": 22,
    "start_time": "2022-05-15T00:25:26.213Z"
   },
   {
    "duration": 4,
    "start_time": "2022-05-15T00:25:26.240Z"
   },
   {
    "duration": 25,
    "start_time": "2022-05-15T00:25:26.245Z"
   },
   {
    "duration": 29,
    "start_time": "2022-05-15T00:25:26.271Z"
   },
   {
    "duration": 12,
    "start_time": "2022-05-15T00:25:26.302Z"
   },
   {
    "duration": 14,
    "start_time": "2022-05-15T00:25:26.316Z"
   },
   {
    "duration": 15,
    "start_time": "2022-05-15T00:25:26.331Z"
   },
   {
    "duration": 18,
    "start_time": "2022-05-15T00:25:26.347Z"
   },
   {
    "duration": 15,
    "start_time": "2022-05-15T00:25:26.367Z"
   },
   {
    "duration": 15,
    "start_time": "2022-05-15T00:25:26.384Z"
   },
   {
    "duration": 30,
    "start_time": "2022-05-15T00:25:26.401Z"
   },
   {
    "duration": 306,
    "start_time": "2022-05-15T00:25:26.523Z"
   },
   {
    "duration": 100,
    "start_time": "2022-05-15T00:25:26.832Z"
   },
   {
    "duration": 15,
    "start_time": "2022-05-15T00:25:27.024Z"
   },
   {
    "duration": 18,
    "start_time": "2022-05-15T00:25:27.041Z"
   },
   {
    "duration": 4,
    "start_time": "2022-05-15T00:25:27.061Z"
   },
   {
    "duration": 7,
    "start_time": "2022-05-15T00:25:27.066Z"
   },
   {
    "duration": 6,
    "start_time": "2022-05-15T00:25:27.074Z"
   },
   {
    "duration": 41,
    "start_time": "2022-05-15T00:25:27.082Z"
   },
   {
    "duration": 7,
    "start_time": "2022-05-15T00:25:27.125Z"
   },
   {
    "duration": 5,
    "start_time": "2022-05-15T00:25:27.134Z"
   },
   {
    "duration": 8,
    "start_time": "2022-05-15T00:25:27.140Z"
   },
   {
    "duration": 77,
    "start_time": "2022-05-15T00:25:27.149Z"
   },
   {
    "duration": 299,
    "start_time": "2022-05-15T00:25:27.228Z"
   },
   {
    "duration": 98,
    "start_time": "2022-05-15T00:25:27.529Z"
   },
   {
    "duration": 8,
    "start_time": "2022-05-15T00:25:27.629Z"
   },
   {
    "duration": 73,
    "start_time": "2022-05-15T09:15:29.779Z"
   },
   {
    "duration": 2464,
    "start_time": "2022-05-15T09:15:38.403Z"
   },
   {
    "duration": 44,
    "start_time": "2022-05-15T09:15:40.870Z"
   },
   {
    "duration": 62,
    "start_time": "2022-05-15T09:15:40.916Z"
   },
   {
    "duration": 6,
    "start_time": "2022-05-15T09:15:40.981Z"
   },
   {
    "duration": 7,
    "start_time": "2022-05-15T09:15:41.025Z"
   },
   {
    "duration": 10,
    "start_time": "2022-05-15T09:15:41.035Z"
   },
   {
    "duration": 9,
    "start_time": "2022-05-15T09:15:41.047Z"
   },
   {
    "duration": 11,
    "start_time": "2022-05-15T09:15:41.058Z"
   },
   {
    "duration": 920,
    "start_time": "2022-05-15T09:15:41.072Z"
   },
   {
    "duration": 5,
    "start_time": "2022-05-15T09:15:41.996Z"
   },
   {
    "duration": 25,
    "start_time": "2022-05-15T09:15:42.003Z"
   },
   {
    "duration": 1421,
    "start_time": "2022-05-15T09:15:42.030Z"
   },
   {
    "duration": 72,
    "start_time": "2022-05-15T09:15:43.453Z"
   },
   {
    "duration": 13,
    "start_time": "2022-05-15T09:15:43.527Z"
   },
   {
    "duration": 32,
    "start_time": "2022-05-15T09:15:43.543Z"
   },
   {
    "duration": 640,
    "start_time": "2022-05-15T09:15:43.625Z"
   },
   {
    "duration": 89,
    "start_time": "2022-05-15T09:15:44.268Z"
   },
   {
    "duration": 1287,
    "start_time": "2022-05-15T09:15:44.359Z"
   },
   {
    "duration": 13,
    "start_time": "2022-05-15T09:15:45.648Z"
   },
   {
    "duration": 24,
    "start_time": "2022-05-15T09:15:45.664Z"
   },
   {
    "duration": 29,
    "start_time": "2022-05-15T09:15:45.690Z"
   },
   {
    "duration": 1140,
    "start_time": "2022-05-15T09:15:45.725Z"
   },
   {
    "duration": 16,
    "start_time": "2022-05-15T09:15:46.868Z"
   },
   {
    "duration": 27,
    "start_time": "2022-05-15T09:15:46.886Z"
   },
   {
    "duration": 39,
    "start_time": "2022-05-15T09:15:46.916Z"
   },
   {
    "duration": 10,
    "start_time": "2022-05-15T09:15:46.957Z"
   },
   {
    "duration": 38,
    "start_time": "2022-05-15T09:15:46.969Z"
   },
   {
    "duration": 20,
    "start_time": "2022-05-15T09:15:47.025Z"
   },
   {
    "duration": 12,
    "start_time": "2022-05-15T09:15:47.047Z"
   },
   {
    "duration": 32,
    "start_time": "2022-05-15T09:15:47.062Z"
   },
   {
    "duration": 31,
    "start_time": "2022-05-15T09:15:47.097Z"
   },
   {
    "duration": 41,
    "start_time": "2022-05-15T09:15:47.130Z"
   },
   {
    "duration": 31,
    "start_time": "2022-05-15T09:15:47.173Z"
   },
   {
    "duration": 29,
    "start_time": "2022-05-15T09:15:47.207Z"
   },
   {
    "duration": 26,
    "start_time": "2022-05-15T09:15:47.238Z"
   },
   {
    "duration": 24,
    "start_time": "2022-05-15T09:15:47.267Z"
   },
   {
    "duration": 20,
    "start_time": "2022-05-15T09:15:47.294Z"
   },
   {
    "duration": 54,
    "start_time": "2022-05-15T09:15:47.316Z"
   },
   {
    "duration": 23,
    "start_time": "2022-05-15T09:15:47.373Z"
   },
   {
    "duration": 33,
    "start_time": "2022-05-15T09:15:47.398Z"
   },
   {
    "duration": 24,
    "start_time": "2022-05-15T09:15:47.433Z"
   },
   {
    "duration": 19,
    "start_time": "2022-05-15T09:15:47.459Z"
   },
   {
    "duration": 45,
    "start_time": "2022-05-15T09:15:47.480Z"
   },
   {
    "duration": 21,
    "start_time": "2022-05-15T09:15:47.527Z"
   },
   {
    "duration": 22,
    "start_time": "2022-05-15T09:15:47.551Z"
   },
   {
    "duration": 25,
    "start_time": "2022-05-15T09:15:47.575Z"
   },
   {
    "duration": 15,
    "start_time": "2022-05-15T09:15:47.602Z"
   },
   {
    "duration": 35,
    "start_time": "2022-05-15T09:15:47.619Z"
   },
   {
    "duration": 15,
    "start_time": "2022-05-15T09:15:47.657Z"
   },
   {
    "duration": 23,
    "start_time": "2022-05-15T09:15:47.674Z"
   },
   {
    "duration": 129,
    "start_time": "2022-05-15T09:15:47.700Z"
   },
   {
    "duration": 594,
    "start_time": "2022-05-15T09:15:47.832Z"
   },
   {
    "duration": 99,
    "start_time": "2022-05-15T09:15:48.429Z"
   },
   {
    "duration": 41,
    "start_time": "2022-05-15T09:15:48.530Z"
   },
   {
    "duration": 35,
    "start_time": "2022-05-15T09:15:48.573Z"
   },
   {
    "duration": 15,
    "start_time": "2022-05-15T09:15:48.611Z"
   },
   {
    "duration": 21,
    "start_time": "2022-05-15T09:15:48.628Z"
   },
   {
    "duration": 18,
    "start_time": "2022-05-15T09:15:48.652Z"
   },
   {
    "duration": 22,
    "start_time": "2022-05-15T09:15:48.672Z"
   },
   {
    "duration": 15,
    "start_time": "2022-05-15T09:15:48.696Z"
   },
   {
    "duration": 25,
    "start_time": "2022-05-15T09:15:48.713Z"
   },
   {
    "duration": 23,
    "start_time": "2022-05-15T09:15:48.740Z"
   },
   {
    "duration": 67,
    "start_time": "2022-05-15T09:15:48.765Z"
   },
   {
    "duration": 490,
    "start_time": "2022-05-15T09:15:48.834Z"
   },
   {
    "duration": 97,
    "start_time": "2022-05-15T09:15:49.328Z"
   },
   {
    "duration": 8,
    "start_time": "2022-05-15T09:15:49.428Z"
   },
   {
    "duration": 1487,
    "start_time": "2022-05-15T09:16:13.500Z"
   },
   {
    "duration": 1433,
    "start_time": "2022-05-15T09:16:27.998Z"
   },
   {
    "duration": 23,
    "start_time": "2022-05-15T09:23:59.991Z"
   },
   {
    "duration": 1380,
    "start_time": "2022-05-15T09:24:00.741Z"
   },
   {
    "duration": 6,
    "start_time": "2022-05-15T09:24:02.124Z"
   },
   {
    "duration": 23,
    "start_time": "2022-05-15T09:24:02.430Z"
   },
   {
    "duration": 23,
    "start_time": "2022-05-15T09:24:03.229Z"
   },
   {
    "duration": 6,
    "start_time": "2022-05-15T09:24:04.041Z"
   },
   {
    "duration": 7,
    "start_time": "2022-05-15T09:24:05.140Z"
   },
   {
    "duration": 6,
    "start_time": "2022-05-15T09:25:03.677Z"
   },
   {
    "duration": 6,
    "start_time": "2022-05-15T09:25:10.342Z"
   },
   {
    "duration": 6,
    "start_time": "2022-05-15T09:25:11.420Z"
   },
   {
    "duration": 7,
    "start_time": "2022-05-15T09:25:17.041Z"
   },
   {
    "duration": 6,
    "start_time": "2022-05-15T09:25:17.859Z"
   },
   {
    "duration": 5,
    "start_time": "2022-05-15T09:25:18.743Z"
   },
   {
    "duration": 206,
    "start_time": "2022-05-15T09:25:19.320Z"
   },
   {
    "duration": 505,
    "start_time": "2022-05-15T09:25:19.825Z"
   },
   {
    "duration": 11,
    "start_time": "2022-05-15T09:25:21.597Z"
   },
   {
    "duration": 23,
    "start_time": "2022-05-15T09:25:55.340Z"
   },
   {
    "duration": 1552,
    "start_time": "2022-05-15T09:25:55.900Z"
   },
   {
    "duration": 5,
    "start_time": "2022-05-15T09:25:57.455Z"
   },
   {
    "duration": 5,
    "start_time": "2022-05-15T09:25:57.602Z"
   },
   {
    "duration": 13,
    "start_time": "2022-05-15T09:25:57.610Z"
   },
   {
    "duration": 4,
    "start_time": "2022-05-15T09:26:03.881Z"
   },
   {
    "duration": 8,
    "start_time": "2022-05-15T09:26:05.137Z"
   },
   {
    "duration": 6,
    "start_time": "2022-05-15T09:26:05.896Z"
   },
   {
    "duration": 4,
    "start_time": "2022-05-15T09:26:07.196Z"
   },
   {
    "duration": 25,
    "start_time": "2022-05-15T09:26:07.206Z"
   },
   {
    "duration": 235,
    "start_time": "2022-05-15T09:26:08.394Z"
   },
   {
    "duration": 96,
    "start_time": "2022-05-15T09:26:08.632Z"
   },
   {
    "duration": 33,
    "start_time": "2022-05-15T09:26:33.865Z"
   },
   {
    "duration": 23,
    "start_time": "2022-05-15T09:26:54.317Z"
   },
   {
    "duration": 5,
    "start_time": "2022-05-15T09:31:00.862Z"
   },
   {
    "duration": 5,
    "start_time": "2022-05-15T09:31:01.621Z"
   },
   {
    "duration": 6,
    "start_time": "2022-05-15T09:31:02.902Z"
   },
   {
    "duration": 5,
    "start_time": "2022-05-15T09:31:04.027Z"
   },
   {
    "duration": 8,
    "start_time": "2022-05-15T09:31:05.102Z"
   },
   {
    "duration": 6,
    "start_time": "2022-05-15T09:31:06.318Z"
   },
   {
    "duration": 5,
    "start_time": "2022-05-15T09:31:07.384Z"
   },
   {
    "duration": 23,
    "start_time": "2022-05-15T09:31:08.102Z"
   },
   {
    "duration": 503,
    "start_time": "2022-05-15T09:31:09.228Z"
   },
   {
    "duration": 8,
    "start_time": "2022-05-15T09:31:09.839Z"
   },
   {
    "duration": 2197,
    "start_time": "2022-05-15T09:31:16.517Z"
   },
   {
    "duration": 49,
    "start_time": "2022-05-15T09:31:18.717Z"
   },
   {
    "duration": 77,
    "start_time": "2022-05-15T09:31:18.768Z"
   },
   {
    "duration": 5,
    "start_time": "2022-05-15T09:31:18.848Z"
   },
   {
    "duration": 8,
    "start_time": "2022-05-15T09:31:18.855Z"
   },
   {
    "duration": 13,
    "start_time": "2022-05-15T09:31:18.866Z"
   },
   {
    "duration": 47,
    "start_time": "2022-05-15T09:31:18.881Z"
   },
   {
    "duration": 11,
    "start_time": "2022-05-15T09:31:18.931Z"
   },
   {
    "duration": 1009,
    "start_time": "2022-05-15T09:31:18.945Z"
   },
   {
    "duration": 5,
    "start_time": "2022-05-15T09:31:19.958Z"
   },
   {
    "duration": 13,
    "start_time": "2022-05-15T09:31:19.966Z"
   },
   {
    "duration": 785,
    "start_time": "2022-05-15T09:31:19.981Z"
   },
   {
    "duration": 17,
    "start_time": "2022-05-15T09:31:20.768Z"
   },
   {
    "duration": 12,
    "start_time": "2022-05-15T09:31:20.787Z"
   },
   {
    "duration": 41,
    "start_time": "2022-05-15T09:31:20.801Z"
   },
   {
    "duration": 370,
    "start_time": "2022-05-15T09:31:20.844Z"
   },
   {
    "duration": 47,
    "start_time": "2022-05-15T09:31:21.217Z"
   },
   {
    "duration": 1491,
    "start_time": "2022-05-15T09:31:21.266Z"
   },
   {
    "duration": 66,
    "start_time": "2022-05-15T09:31:22.760Z"
   },
   {
    "duration": 19,
    "start_time": "2022-05-15T09:31:22.829Z"
   },
   {
    "duration": 73,
    "start_time": "2022-05-15T09:31:22.852Z"
   },
   {
    "duration": 1618,
    "start_time": "2022-05-15T09:31:22.927Z"
   },
   {
    "duration": 12,
    "start_time": "2022-05-15T09:31:24.548Z"
   },
   {
    "duration": 18,
    "start_time": "2022-05-15T09:31:24.562Z"
   },
   {
    "duration": 42,
    "start_time": "2022-05-15T09:31:24.582Z"
   },
   {
    "duration": 9,
    "start_time": "2022-05-15T09:31:24.626Z"
   },
   {
    "duration": 23,
    "start_time": "2022-05-15T09:31:24.637Z"
   },
   {
    "duration": 19,
    "start_time": "2022-05-15T09:31:24.666Z"
   },
   {
    "duration": 39,
    "start_time": "2022-05-15T09:31:24.687Z"
   },
   {
    "duration": 18,
    "start_time": "2022-05-15T09:31:24.728Z"
   },
   {
    "duration": 17,
    "start_time": "2022-05-15T09:31:24.748Z"
   },
   {
    "duration": 20,
    "start_time": "2022-05-15T09:31:24.767Z"
   },
   {
    "duration": 54,
    "start_time": "2022-05-15T09:31:24.789Z"
   },
   {
    "duration": 13,
    "start_time": "2022-05-15T09:31:24.845Z"
   },
   {
    "duration": 10,
    "start_time": "2022-05-15T09:31:24.860Z"
   },
   {
    "duration": 13,
    "start_time": "2022-05-15T09:31:24.872Z"
   },
   {
    "duration": 38,
    "start_time": "2022-05-15T09:31:24.887Z"
   },
   {
    "duration": 35,
    "start_time": "2022-05-15T09:31:24.927Z"
   },
   {
    "duration": 22,
    "start_time": "2022-05-15T09:31:24.964Z"
   },
   {
    "duration": 35,
    "start_time": "2022-05-15T09:31:24.989Z"
   },
   {
    "duration": 1402,
    "start_time": "2022-05-15T09:31:25.027Z"
   },
   {
    "duration": 22,
    "start_time": "2022-05-15T09:31:26.431Z"
   },
   {
    "duration": 8,
    "start_time": "2022-05-15T09:31:26.455Z"
   },
   {
    "duration": 8,
    "start_time": "2022-05-15T09:31:26.466Z"
   },
   {
    "duration": 9,
    "start_time": "2022-05-15T09:31:26.476Z"
   },
   {
    "duration": 39,
    "start_time": "2022-05-15T09:31:26.487Z"
   },
   {
    "duration": 8,
    "start_time": "2022-05-15T09:31:26.528Z"
   },
   {
    "duration": 12,
    "start_time": "2022-05-15T09:31:26.539Z"
   },
   {
    "duration": 8,
    "start_time": "2022-05-15T09:31:26.553Z"
   },
   {
    "duration": 241,
    "start_time": "2022-05-15T09:31:26.563Z"
   },
   {
    "duration": 0,
    "start_time": "2022-05-15T09:31:26.808Z"
   },
   {
    "duration": 0,
    "start_time": "2022-05-15T09:31:26.810Z"
   },
   {
    "duration": 0,
    "start_time": "2022-05-15T09:31:26.812Z"
   },
   {
    "duration": 0,
    "start_time": "2022-05-15T09:31:26.813Z"
   },
   {
    "duration": 0,
    "start_time": "2022-05-15T09:31:26.815Z"
   },
   {
    "duration": 0,
    "start_time": "2022-05-15T09:31:26.817Z"
   },
   {
    "duration": 0,
    "start_time": "2022-05-15T09:31:26.818Z"
   },
   {
    "duration": 0,
    "start_time": "2022-05-15T09:31:26.819Z"
   },
   {
    "duration": 0,
    "start_time": "2022-05-15T09:31:26.825Z"
   },
   {
    "duration": 0,
    "start_time": "2022-05-15T09:31:26.826Z"
   },
   {
    "duration": 0,
    "start_time": "2022-05-15T09:31:26.827Z"
   },
   {
    "duration": 0,
    "start_time": "2022-05-15T09:31:26.828Z"
   },
   {
    "duration": 0,
    "start_time": "2022-05-15T09:31:26.829Z"
   },
   {
    "duration": 0,
    "start_time": "2022-05-15T09:31:26.831Z"
   },
   {
    "duration": 0,
    "start_time": "2022-05-15T09:31:26.832Z"
   },
   {
    "duration": 0,
    "start_time": "2022-05-15T09:31:26.833Z"
   },
   {
    "duration": 5,
    "start_time": "2022-05-15T09:32:06.292Z"
   },
   {
    "duration": 22,
    "start_time": "2022-05-15T09:32:07.263Z"
   },
   {
    "duration": 1402,
    "start_time": "2022-05-15T09:32:07.945Z"
   },
   {
    "duration": 23,
    "start_time": "2022-05-15T09:32:09.350Z"
   },
   {
    "duration": 4,
    "start_time": "2022-05-15T09:32:18.498Z"
   },
   {
    "duration": 6,
    "start_time": "2022-05-15T09:32:19.021Z"
   },
   {
    "duration": 6,
    "start_time": "2022-05-15T09:32:19.860Z"
   },
   {
    "duration": 5,
    "start_time": "2022-05-15T09:32:20.713Z"
   },
   {
    "duration": 7,
    "start_time": "2022-05-15T09:32:22.017Z"
   },
   {
    "duration": 5,
    "start_time": "2022-05-15T09:32:23.836Z"
   },
   {
    "duration": 4,
    "start_time": "2022-05-15T09:32:25.387Z"
   },
   {
    "duration": 66,
    "start_time": "2022-05-15T09:32:26.460Z"
   },
   {
    "duration": 294,
    "start_time": "2022-05-15T09:32:28.036Z"
   },
   {
    "duration": 8,
    "start_time": "2022-05-15T09:32:29.104Z"
   },
   {
    "duration": 2201,
    "start_time": "2022-05-15T09:43:41.136Z"
   },
   {
    "duration": 43,
    "start_time": "2022-05-15T09:43:43.340Z"
   },
   {
    "duration": 73,
    "start_time": "2022-05-15T09:43:43.386Z"
   },
   {
    "duration": 5,
    "start_time": "2022-05-15T09:43:43.462Z"
   },
   {
    "duration": 9,
    "start_time": "2022-05-15T09:43:43.469Z"
   },
   {
    "duration": 45,
    "start_time": "2022-05-15T09:43:43.481Z"
   },
   {
    "duration": 9,
    "start_time": "2022-05-15T09:43:43.528Z"
   },
   {
    "duration": 22,
    "start_time": "2022-05-15T09:43:43.539Z"
   },
   {
    "duration": 931,
    "start_time": "2022-05-15T09:43:43.563Z"
   },
   {
    "duration": 5,
    "start_time": "2022-05-15T09:43:44.498Z"
   },
   {
    "duration": 23,
    "start_time": "2022-05-15T09:43:44.505Z"
   },
   {
    "duration": 805,
    "start_time": "2022-05-15T09:43:44.531Z"
   },
   {
    "duration": 18,
    "start_time": "2022-05-15T09:43:45.338Z"
   },
   {
    "duration": 12,
    "start_time": "2022-05-15T09:43:45.358Z"
   },
   {
    "duration": 59,
    "start_time": "2022-05-15T09:43:45.373Z"
   },
   {
    "duration": 362,
    "start_time": "2022-05-15T09:43:45.435Z"
   },
   {
    "duration": 48,
    "start_time": "2022-05-15T09:43:45.800Z"
   },
   {
    "duration": 934,
    "start_time": "2022-05-15T09:43:45.850Z"
   },
   {
    "duration": 13,
    "start_time": "2022-05-15T09:43:46.786Z"
   },
   {
    "duration": 29,
    "start_time": "2022-05-15T09:43:46.802Z"
   },
   {
    "duration": 21,
    "start_time": "2022-05-15T09:43:46.833Z"
   },
   {
    "duration": 893,
    "start_time": "2022-05-15T09:43:46.856Z"
   },
   {
    "duration": 15,
    "start_time": "2022-05-15T09:43:47.752Z"
   },
   {
    "duration": 17,
    "start_time": "2022-05-15T09:43:47.770Z"
   },
   {
    "duration": 55,
    "start_time": "2022-05-15T09:43:47.790Z"
   },
   {
    "duration": 10,
    "start_time": "2022-05-15T09:43:47.848Z"
   },
   {
    "duration": 23,
    "start_time": "2022-05-15T09:43:47.861Z"
   },
   {
    "duration": 51,
    "start_time": "2022-05-15T09:43:47.890Z"
   },
   {
    "duration": 5,
    "start_time": "2022-05-15T09:43:47.943Z"
   },
   {
    "duration": 20,
    "start_time": "2022-05-15T09:43:47.950Z"
   },
   {
    "duration": 21,
    "start_time": "2022-05-15T09:43:47.972Z"
   },
   {
    "duration": 17,
    "start_time": "2022-05-15T09:43:48.024Z"
   },
   {
    "duration": 27,
    "start_time": "2022-05-15T09:43:48.043Z"
   },
   {
    "duration": 12,
    "start_time": "2022-05-15T09:43:48.072Z"
   },
   {
    "duration": 45,
    "start_time": "2022-05-15T09:43:48.086Z"
   },
   {
    "duration": 14,
    "start_time": "2022-05-15T09:43:48.133Z"
   },
   {
    "duration": 11,
    "start_time": "2022-05-15T09:43:48.149Z"
   },
   {
    "duration": 28,
    "start_time": "2022-05-15T09:43:48.162Z"
   },
   {
    "duration": 48,
    "start_time": "2022-05-15T09:43:48.193Z"
   },
   {
    "duration": 6,
    "start_time": "2022-05-15T09:43:48.243Z"
   },
   {
    "duration": 28,
    "start_time": "2022-05-15T09:43:48.251Z"
   },
   {
    "duration": 1458,
    "start_time": "2022-05-15T09:43:48.280Z"
   },
   {
    "duration": 23,
    "start_time": "2022-05-15T09:43:49.740Z"
   },
   {
    "duration": 7,
    "start_time": "2022-05-15T09:43:49.766Z"
   },
   {
    "duration": 7,
    "start_time": "2022-05-15T09:43:49.775Z"
   },
   {
    "duration": 41,
    "start_time": "2022-05-15T09:43:49.785Z"
   },
   {
    "duration": 6,
    "start_time": "2022-05-15T09:43:49.829Z"
   },
   {
    "duration": 11,
    "start_time": "2022-05-15T09:43:49.837Z"
   },
   {
    "duration": 13,
    "start_time": "2022-05-15T09:43:49.850Z"
   },
   {
    "duration": 8,
    "start_time": "2022-05-15T09:43:49.865Z"
   },
   {
    "duration": 67,
    "start_time": "2022-05-15T09:43:49.875Z"
   },
   {
    "duration": 302,
    "start_time": "2022-05-15T09:43:50.028Z"
   },
   {
    "duration": 94,
    "start_time": "2022-05-15T09:43:50.333Z"
   },
   {
    "duration": 111,
    "start_time": "2022-05-15T09:43:50.430Z"
   },
   {
    "duration": 31,
    "start_time": "2022-05-15T09:43:50.543Z"
   },
   {
    "duration": 59,
    "start_time": "2022-05-15T09:43:50.576Z"
   },
   {
    "duration": 12,
    "start_time": "2022-05-15T09:43:50.638Z"
   },
   {
    "duration": 9,
    "start_time": "2022-05-15T09:43:50.653Z"
   },
   {
    "duration": 12,
    "start_time": "2022-05-15T09:43:50.665Z"
   },
   {
    "duration": 15,
    "start_time": "2022-05-15T09:43:50.679Z"
   },
   {
    "duration": 30,
    "start_time": "2022-05-15T09:43:50.697Z"
   },
   {
    "duration": 7,
    "start_time": "2022-05-15T09:43:50.730Z"
   },
   {
    "duration": 14,
    "start_time": "2022-05-15T09:43:50.739Z"
   },
   {
    "duration": 76,
    "start_time": "2022-05-15T09:43:50.756Z"
   },
   {
    "duration": 407,
    "start_time": "2022-05-15T09:43:50.925Z"
   },
   {
    "duration": 97,
    "start_time": "2022-05-15T09:43:51.335Z"
   },
   {
    "duration": 95,
    "start_time": "2022-05-15T09:43:51.436Z"
   },
   {
    "duration": 16,
    "start_time": "2022-05-15T09:46:16.798Z"
   },
   {
    "duration": 713,
    "start_time": "2022-05-15T09:46:18.599Z"
   },
   {
    "duration": 3315,
    "start_time": "2022-05-15T09:46:43.714Z"
   },
   {
    "duration": 52,
    "start_time": "2022-05-15T09:46:47.033Z"
   },
   {
    "duration": 83,
    "start_time": "2022-05-15T09:46:47.087Z"
   },
   {
    "duration": 6,
    "start_time": "2022-05-15T09:46:47.173Z"
   },
   {
    "duration": 6,
    "start_time": "2022-05-15T09:46:47.227Z"
   },
   {
    "duration": 15,
    "start_time": "2022-05-15T09:46:47.238Z"
   },
   {
    "duration": 18,
    "start_time": "2022-05-15T09:46:47.255Z"
   },
   {
    "duration": 15,
    "start_time": "2022-05-15T09:46:47.276Z"
   },
   {
    "duration": 977,
    "start_time": "2022-05-15T09:46:47.293Z"
   },
   {
    "duration": 6,
    "start_time": "2022-05-15T09:46:48.273Z"
   },
   {
    "duration": 13,
    "start_time": "2022-05-15T09:46:48.281Z"
   },
   {
    "duration": 790,
    "start_time": "2022-05-15T09:46:48.296Z"
   },
   {
    "duration": 16,
    "start_time": "2022-05-15T09:46:49.089Z"
   },
   {
    "duration": 12,
    "start_time": "2022-05-15T09:46:49.127Z"
   },
   {
    "duration": 23,
    "start_time": "2022-05-15T09:46:49.142Z"
   },
   {
    "duration": 378,
    "start_time": "2022-05-15T09:46:49.167Z"
   },
   {
    "duration": 43,
    "start_time": "2022-05-15T09:46:49.548Z"
   },
   {
    "duration": 914,
    "start_time": "2022-05-15T09:46:49.593Z"
   },
   {
    "duration": 26,
    "start_time": "2022-05-15T09:46:50.510Z"
   },
   {
    "duration": 17,
    "start_time": "2022-05-15T09:46:50.540Z"
   },
   {
    "duration": 23,
    "start_time": "2022-05-15T09:46:50.559Z"
   },
   {
    "duration": 689,
    "start_time": "2022-05-15T09:46:50.584Z"
   },
   {
    "duration": 18,
    "start_time": "2022-05-15T09:46:51.277Z"
   },
   {
    "duration": 27,
    "start_time": "2022-05-15T09:46:51.298Z"
   },
   {
    "duration": 42,
    "start_time": "2022-05-15T09:46:51.329Z"
   },
   {
    "duration": 11,
    "start_time": "2022-05-15T09:46:51.375Z"
   },
   {
    "duration": 62,
    "start_time": "2022-05-15T09:46:51.389Z"
   },
   {
    "duration": 20,
    "start_time": "2022-05-15T09:46:51.454Z"
   },
   {
    "duration": 8,
    "start_time": "2022-05-15T09:46:51.477Z"
   },
   {
    "duration": 44,
    "start_time": "2022-05-15T09:46:51.487Z"
   },
   {
    "duration": 18,
    "start_time": "2022-05-15T09:46:51.533Z"
   },
   {
    "duration": 19,
    "start_time": "2022-05-15T09:46:51.554Z"
   },
   {
    "duration": 50,
    "start_time": "2022-05-15T09:46:51.576Z"
   },
   {
    "duration": 14,
    "start_time": "2022-05-15T09:46:51.628Z"
   },
   {
    "duration": 10,
    "start_time": "2022-05-15T09:46:51.644Z"
   },
   {
    "duration": 13,
    "start_time": "2022-05-15T09:46:51.657Z"
   },
   {
    "duration": 13,
    "start_time": "2022-05-15T09:46:51.673Z"
   },
   {
    "duration": 59,
    "start_time": "2022-05-15T09:46:51.688Z"
   },
   {
    "duration": 30,
    "start_time": "2022-05-15T09:46:51.749Z"
   },
   {
    "duration": 32,
    "start_time": "2022-05-15T09:46:51.782Z"
   },
   {
    "duration": 45,
    "start_time": "2022-05-15T09:46:51.820Z"
   },
   {
    "duration": 1593,
    "start_time": "2022-05-15T09:46:51.868Z"
   },
   {
    "duration": 31,
    "start_time": "2022-05-15T09:46:53.464Z"
   },
   {
    "duration": 28,
    "start_time": "2022-05-15T09:46:53.497Z"
   },
   {
    "duration": 9,
    "start_time": "2022-05-15T09:46:53.528Z"
   },
   {
    "duration": 11,
    "start_time": "2022-05-15T09:46:53.540Z"
   },
   {
    "duration": 24,
    "start_time": "2022-05-15T09:46:53.554Z"
   },
   {
    "duration": 19,
    "start_time": "2022-05-15T09:46:53.581Z"
   },
   {
    "duration": 26,
    "start_time": "2022-05-15T09:46:53.603Z"
   },
   {
    "duration": 16,
    "start_time": "2022-05-15T09:46:53.632Z"
   },
   {
    "duration": 90,
    "start_time": "2022-05-15T09:46:53.651Z"
   },
   {
    "duration": 781,
    "start_time": "2022-05-15T09:46:53.744Z"
   },
   {
    "duration": 10,
    "start_time": "2022-05-15T09:46:54.529Z"
   },
   {
    "duration": 89,
    "start_time": "2022-05-15T09:46:54.543Z"
   },
   {
    "duration": 26,
    "start_time": "2022-05-15T09:46:54.635Z"
   },
   {
    "duration": 29,
    "start_time": "2022-05-15T09:46:54.664Z"
   },
   {
    "duration": 8,
    "start_time": "2022-05-15T09:46:54.724Z"
   },
   {
    "duration": 6,
    "start_time": "2022-05-15T09:46:54.735Z"
   },
   {
    "duration": 12,
    "start_time": "2022-05-15T09:46:54.744Z"
   },
   {
    "duration": 27,
    "start_time": "2022-05-15T09:46:54.759Z"
   },
   {
    "duration": 37,
    "start_time": "2022-05-15T09:46:54.789Z"
   },
   {
    "duration": 7,
    "start_time": "2022-05-15T09:46:54.829Z"
   },
   {
    "duration": 8,
    "start_time": "2022-05-15T09:46:54.839Z"
   },
   {
    "duration": 18,
    "start_time": "2022-05-15T09:46:54.850Z"
   },
   {
    "duration": 88,
    "start_time": "2022-05-15T09:46:54.870Z"
   },
   {
    "duration": 10,
    "start_time": "2022-05-15T09:46:54.961Z"
   },
   {
    "duration": 19,
    "start_time": "2022-05-15T09:46:54.974Z"
   },
   {
    "duration": 19,
    "start_time": "2022-05-15T09:48:56.853Z"
   },
   {
    "duration": 30,
    "start_time": "2022-05-15T09:49:05.673Z"
   },
   {
    "duration": 2241,
    "start_time": "2022-05-15T09:51:29.582Z"
   },
   {
    "duration": 64,
    "start_time": "2022-05-15T09:51:31.827Z"
   },
   {
    "duration": 94,
    "start_time": "2022-05-15T09:51:31.894Z"
   },
   {
    "duration": 7,
    "start_time": "2022-05-15T09:51:32.025Z"
   },
   {
    "duration": 14,
    "start_time": "2022-05-15T09:51:32.035Z"
   },
   {
    "duration": 13,
    "start_time": "2022-05-15T09:51:32.052Z"
   },
   {
    "duration": 23,
    "start_time": "2022-05-15T09:51:32.068Z"
   },
   {
    "duration": 42,
    "start_time": "2022-05-15T09:51:32.094Z"
   },
   {
    "duration": 911,
    "start_time": "2022-05-15T09:51:32.140Z"
   },
   {
    "duration": 5,
    "start_time": "2022-05-15T09:51:33.056Z"
   },
   {
    "duration": 15,
    "start_time": "2022-05-15T09:51:33.064Z"
   },
   {
    "duration": 1310,
    "start_time": "2022-05-15T09:51:33.082Z"
   },
   {
    "duration": 37,
    "start_time": "2022-05-15T09:51:34.395Z"
   },
   {
    "duration": 12,
    "start_time": "2022-05-15T09:51:34.434Z"
   },
   {
    "duration": 21,
    "start_time": "2022-05-15T09:51:34.449Z"
   },
   {
    "duration": 384,
    "start_time": "2022-05-15T09:51:34.472Z"
   },
   {
    "duration": 43,
    "start_time": "2022-05-15T09:51:34.858Z"
   },
   {
    "duration": 927,
    "start_time": "2022-05-15T09:51:34.903Z"
   },
   {
    "duration": 14,
    "start_time": "2022-05-15T09:51:35.832Z"
   },
   {
    "duration": 31,
    "start_time": "2022-05-15T09:51:35.848Z"
   },
   {
    "duration": 32,
    "start_time": "2022-05-15T09:51:35.881Z"
   },
   {
    "duration": 925,
    "start_time": "2022-05-15T09:51:35.924Z"
   },
   {
    "duration": 14,
    "start_time": "2022-05-15T09:51:36.851Z"
   },
   {
    "duration": 17,
    "start_time": "2022-05-15T09:51:36.867Z"
   },
   {
    "duration": 42,
    "start_time": "2022-05-15T09:51:36.887Z"
   },
   {
    "duration": 10,
    "start_time": "2022-05-15T09:51:36.932Z"
   },
   {
    "duration": 47,
    "start_time": "2022-05-15T09:51:36.945Z"
   },
   {
    "duration": 30,
    "start_time": "2022-05-15T09:51:37.032Z"
   },
   {
    "duration": 7,
    "start_time": "2022-05-15T09:51:37.065Z"
   },
   {
    "duration": 50,
    "start_time": "2022-05-15T09:51:37.077Z"
   },
   {
    "duration": 31,
    "start_time": "2022-05-15T09:51:37.130Z"
   },
   {
    "duration": 21,
    "start_time": "2022-05-15T09:51:37.164Z"
   },
   {
    "duration": 48,
    "start_time": "2022-05-15T09:51:37.187Z"
   },
   {
    "duration": 12,
    "start_time": "2022-05-15T09:51:37.237Z"
   },
   {
    "duration": 11,
    "start_time": "2022-05-15T09:51:37.251Z"
   },
   {
    "duration": 14,
    "start_time": "2022-05-15T09:51:37.265Z"
   },
   {
    "duration": 7,
    "start_time": "2022-05-15T09:51:37.324Z"
   },
   {
    "duration": 42,
    "start_time": "2022-05-15T09:51:37.335Z"
   },
   {
    "duration": 45,
    "start_time": "2022-05-15T09:51:37.379Z"
   },
   {
    "duration": 8,
    "start_time": "2022-05-15T09:51:37.427Z"
   },
   {
    "duration": 27,
    "start_time": "2022-05-15T09:51:37.438Z"
   },
   {
    "duration": 1440,
    "start_time": "2022-05-15T09:51:37.468Z"
   },
   {
    "duration": 34,
    "start_time": "2022-05-15T09:51:38.910Z"
   },
   {
    "duration": 8,
    "start_time": "2022-05-15T09:51:38.946Z"
   },
   {
    "duration": 16,
    "start_time": "2022-05-15T09:51:38.956Z"
   },
   {
    "duration": 12,
    "start_time": "2022-05-15T09:51:38.975Z"
   },
   {
    "duration": 9,
    "start_time": "2022-05-15T09:51:38.989Z"
   },
   {
    "duration": 30,
    "start_time": "2022-05-15T09:51:39.000Z"
   },
   {
    "duration": 11,
    "start_time": "2022-05-15T09:51:39.033Z"
   },
   {
    "duration": 10,
    "start_time": "2022-05-15T09:51:39.047Z"
   },
   {
    "duration": 69,
    "start_time": "2022-05-15T09:51:39.060Z"
   },
   {
    "duration": 307,
    "start_time": "2022-05-15T09:51:39.132Z"
   },
   {
    "duration": 98,
    "start_time": "2022-05-15T09:51:39.528Z"
   },
   {
    "duration": 25,
    "start_time": "2022-05-15T09:51:39.629Z"
   },
   {
    "duration": 26,
    "start_time": "2022-05-15T09:51:39.656Z"
   },
   {
    "duration": 59,
    "start_time": "2022-05-15T09:51:39.686Z"
   },
   {
    "duration": 7,
    "start_time": "2022-05-15T09:51:39.747Z"
   },
   {
    "duration": 7,
    "start_time": "2022-05-15T09:51:39.758Z"
   },
   {
    "duration": 8,
    "start_time": "2022-05-15T09:51:39.767Z"
   },
   {
    "duration": 56,
    "start_time": "2022-05-15T09:51:39.777Z"
   },
   {
    "duration": 8,
    "start_time": "2022-05-15T09:51:39.836Z"
   },
   {
    "duration": 7,
    "start_time": "2022-05-15T09:51:39.847Z"
   },
   {
    "duration": 7,
    "start_time": "2022-05-15T09:51:39.856Z"
   },
   {
    "duration": 159,
    "start_time": "2022-05-15T09:51:39.865Z"
   },
   {
    "duration": 402,
    "start_time": "2022-05-15T09:51:40.028Z"
   },
   {
    "duration": 94,
    "start_time": "2022-05-15T09:51:40.434Z"
   },
   {
    "duration": 12,
    "start_time": "2022-05-15T09:51:40.531Z"
   },
   {
    "duration": 26,
    "start_time": "2022-05-15T09:54:04.033Z"
   },
   {
    "duration": 13,
    "start_time": "2022-05-15T09:55:38.302Z"
   },
   {
    "duration": 21,
    "start_time": "2022-05-15T09:55:39.754Z"
   },
   {
    "duration": 5,
    "start_time": "2022-05-15T09:55:54.032Z"
   },
   {
    "duration": 33,
    "start_time": "2022-05-15T09:55:56.145Z"
   },
   {
    "duration": 1391,
    "start_time": "2022-05-15T09:55:56.933Z"
   },
   {
    "duration": 23,
    "start_time": "2022-05-15T09:55:58.328Z"
   },
   {
    "duration": 4,
    "start_time": "2022-05-15T09:55:59.542Z"
   },
   {
    "duration": 7,
    "start_time": "2022-05-15T09:56:00.216Z"
   },
   {
    "duration": 7,
    "start_time": "2022-05-15T09:56:01.217Z"
   },
   {
    "duration": 6,
    "start_time": "2022-05-15T09:56:02.190Z"
   },
   {
    "duration": 8,
    "start_time": "2022-05-15T09:56:03.618Z"
   },
   {
    "duration": 5,
    "start_time": "2022-05-15T09:56:04.610Z"
   },
   {
    "duration": 5,
    "start_time": "2022-05-15T09:56:05.538Z"
   },
   {
    "duration": 117,
    "start_time": "2022-05-15T09:56:06.507Z"
   },
   {
    "duration": 368,
    "start_time": "2022-05-15T09:56:12.859Z"
   },
   {
    "duration": 9,
    "start_time": "2022-05-15T09:56:13.774Z"
   },
   {
    "duration": 23,
    "start_time": "2022-05-15T09:56:17.062Z"
   },
   {
    "duration": 23,
    "start_time": "2022-05-15T09:56:18.772Z"
   },
   {
    "duration": 24,
    "start_time": "2022-05-15T09:56:20.543Z"
   },
   {
    "duration": 5,
    "start_time": "2022-05-15T09:56:21.473Z"
   },
   {
    "duration": 6,
    "start_time": "2022-05-15T09:56:23.022Z"
   },
   {
    "duration": 4,
    "start_time": "2022-05-15T09:56:23.794Z"
   },
   {
    "duration": 7,
    "start_time": "2022-05-15T09:56:25.542Z"
   },
   {
    "duration": 7,
    "start_time": "2022-05-15T09:56:26.177Z"
   },
   {
    "duration": 4,
    "start_time": "2022-05-15T09:56:28.273Z"
   },
   {
    "duration": 5,
    "start_time": "2022-05-15T09:56:28.823Z"
   },
   {
    "duration": 76,
    "start_time": "2022-05-15T09:56:29.450Z"
   },
   {
    "duration": 312,
    "start_time": "2022-05-15T09:56:36.817Z"
   },
   {
    "duration": 8,
    "start_time": "2022-05-15T09:56:40.023Z"
   },
   {
    "duration": 9,
    "start_time": "2022-05-15T09:56:59.691Z"
   },
   {
    "duration": 40,
    "start_time": "2022-05-15T09:58:33.596Z"
   },
   {
    "duration": 5,
    "start_time": "2022-05-15T10:05:07.000Z"
   },
   {
    "duration": 31,
    "start_time": "2022-05-15T10:05:08.227Z"
   },
   {
    "duration": 2412,
    "start_time": "2022-05-15T10:05:58.874Z"
   },
   {
    "duration": 58,
    "start_time": "2022-05-15T10:06:01.290Z"
   },
   {
    "duration": 119,
    "start_time": "2022-05-15T10:06:01.350Z"
   },
   {
    "duration": 7,
    "start_time": "2022-05-15T10:06:01.473Z"
   },
   {
    "duration": 53,
    "start_time": "2022-05-15T10:06:01.483Z"
   },
   {
    "duration": 36,
    "start_time": "2022-05-15T10:06:01.538Z"
   },
   {
    "duration": 83,
    "start_time": "2022-05-15T10:06:01.577Z"
   },
   {
    "duration": 53,
    "start_time": "2022-05-15T10:06:01.664Z"
   },
   {
    "duration": 1085,
    "start_time": "2022-05-15T10:06:01.720Z"
   },
   {
    "duration": 20,
    "start_time": "2022-05-15T10:06:02.810Z"
   },
   {
    "duration": 10,
    "start_time": "2022-05-15T10:06:02.833Z"
   },
   {
    "duration": 835,
    "start_time": "2022-05-15T10:06:02.846Z"
   },
   {
    "duration": 17,
    "start_time": "2022-05-15T10:06:03.684Z"
   },
   {
    "duration": 41,
    "start_time": "2022-05-15T10:06:03.703Z"
   },
   {
    "duration": 29,
    "start_time": "2022-05-15T10:06:03.746Z"
   },
   {
    "duration": 384,
    "start_time": "2022-05-15T10:06:03.778Z"
   },
   {
    "duration": 61,
    "start_time": "2022-05-15T10:06:04.165Z"
   },
   {
    "duration": 964,
    "start_time": "2022-05-15T10:06:04.231Z"
   },
   {
    "duration": 33,
    "start_time": "2022-05-15T10:06:05.199Z"
   },
   {
    "duration": 39,
    "start_time": "2022-05-15T10:06:05.234Z"
   },
   {
    "duration": 27,
    "start_time": "2022-05-15T10:06:05.276Z"
   },
   {
    "duration": 971,
    "start_time": "2022-05-15T10:06:05.306Z"
   },
   {
    "duration": 20,
    "start_time": "2022-05-15T10:06:06.280Z"
   },
   {
    "duration": 19,
    "start_time": "2022-05-15T10:06:06.302Z"
   },
   {
    "duration": 43,
    "start_time": "2022-05-15T10:06:06.330Z"
   },
   {
    "duration": 11,
    "start_time": "2022-05-15T10:06:06.375Z"
   },
   {
    "duration": 45,
    "start_time": "2022-05-15T10:06:06.389Z"
   },
   {
    "duration": 20,
    "start_time": "2022-05-15T10:06:06.445Z"
   },
   {
    "duration": 7,
    "start_time": "2022-05-15T10:06:06.468Z"
   },
   {
    "duration": 52,
    "start_time": "2022-05-15T10:06:06.478Z"
   },
   {
    "duration": 23,
    "start_time": "2022-05-15T10:06:06.533Z"
   },
   {
    "duration": 16,
    "start_time": "2022-05-15T10:06:06.559Z"
   },
   {
    "duration": 58,
    "start_time": "2022-05-15T10:06:06.577Z"
   },
   {
    "duration": 18,
    "start_time": "2022-05-15T10:06:06.637Z"
   },
   {
    "duration": 12,
    "start_time": "2022-05-15T10:06:06.657Z"
   },
   {
    "duration": 15,
    "start_time": "2022-05-15T10:06:06.671Z"
   },
   {
    "duration": 50,
    "start_time": "2022-05-15T10:06:06.690Z"
   },
   {
    "duration": 30,
    "start_time": "2022-05-15T10:06:06.743Z"
   },
   {
    "duration": 26,
    "start_time": "2022-05-15T10:06:06.775Z"
   },
   {
    "duration": 6,
    "start_time": "2022-05-15T10:06:06.804Z"
   },
   {
    "duration": 27,
    "start_time": "2022-05-15T10:06:06.826Z"
   },
   {
    "duration": 1557,
    "start_time": "2022-05-15T10:06:06.856Z"
   },
   {
    "duration": 9,
    "start_time": "2022-05-15T10:06:08.416Z"
   },
   {
    "duration": 45,
    "start_time": "2022-05-15T10:06:08.430Z"
   },
   {
    "duration": 26,
    "start_time": "2022-05-15T10:06:08.477Z"
   },
   {
    "duration": 6,
    "start_time": "2022-05-15T10:06:08.505Z"
   },
   {
    "duration": 8,
    "start_time": "2022-05-15T10:06:08.525Z"
   },
   {
    "duration": 8,
    "start_time": "2022-05-15T10:06:08.536Z"
   },
   {
    "duration": 9,
    "start_time": "2022-05-15T10:06:08.546Z"
   },
   {
    "duration": 22,
    "start_time": "2022-05-15T10:06:08.559Z"
   },
   {
    "duration": 10,
    "start_time": "2022-05-15T10:06:08.583Z"
   },
   {
    "duration": 5,
    "start_time": "2022-05-15T10:06:08.627Z"
   },
   {
    "duration": 192,
    "start_time": "2022-05-15T10:06:08.635Z"
   },
   {
    "duration": 221,
    "start_time": "2022-05-15T10:06:08.831Z"
   },
   {
    "duration": 105,
    "start_time": "2022-05-15T10:06:09.134Z"
   },
   {
    "duration": 37,
    "start_time": "2022-05-15T10:06:09.247Z"
   },
   {
    "duration": 31,
    "start_time": "2022-05-15T10:06:09.288Z"
   },
   {
    "duration": 29,
    "start_time": "2022-05-15T10:06:09.336Z"
   },
   {
    "duration": 6,
    "start_time": "2022-05-15T10:06:09.368Z"
   },
   {
    "duration": 15,
    "start_time": "2022-05-15T10:06:09.377Z"
   },
   {
    "duration": 14,
    "start_time": "2022-05-15T10:06:09.394Z"
   },
   {
    "duration": 11,
    "start_time": "2022-05-15T10:06:09.428Z"
   },
   {
    "duration": 22,
    "start_time": "2022-05-15T10:06:09.442Z"
   },
   {
    "duration": 13,
    "start_time": "2022-05-15T10:06:09.466Z"
   },
   {
    "duration": 6,
    "start_time": "2022-05-15T10:06:09.482Z"
   },
   {
    "duration": 155,
    "start_time": "2022-05-15T10:06:09.491Z"
   },
   {
    "duration": 397,
    "start_time": "2022-05-15T10:06:09.649Z"
   },
   {
    "duration": 78,
    "start_time": "2022-05-15T10:06:10.056Z"
   },
   {
    "duration": 18,
    "start_time": "2022-05-15T10:06:10.143Z"
   },
   {
    "duration": 2390,
    "start_time": "2022-05-15T10:08:36.197Z"
   },
   {
    "duration": 61,
    "start_time": "2022-05-15T10:08:38.590Z"
   },
   {
    "duration": 102,
    "start_time": "2022-05-15T10:08:38.654Z"
   },
   {
    "duration": 6,
    "start_time": "2022-05-15T10:08:38.759Z"
   },
   {
    "duration": 13,
    "start_time": "2022-05-15T10:08:38.767Z"
   },
   {
    "duration": 12,
    "start_time": "2022-05-15T10:08:38.783Z"
   },
   {
    "duration": 41,
    "start_time": "2022-05-15T10:08:38.797Z"
   },
   {
    "duration": 27,
    "start_time": "2022-05-15T10:08:38.840Z"
   },
   {
    "duration": 942,
    "start_time": "2022-05-15T10:08:38.870Z"
   },
   {
    "duration": 14,
    "start_time": "2022-05-15T10:08:39.817Z"
   },
   {
    "duration": 22,
    "start_time": "2022-05-15T10:08:39.834Z"
   },
   {
    "duration": 1107,
    "start_time": "2022-05-15T10:08:39.858Z"
   },
   {
    "duration": 21,
    "start_time": "2022-05-15T10:08:40.967Z"
   },
   {
    "duration": 41,
    "start_time": "2022-05-15T10:08:40.990Z"
   },
   {
    "duration": 31,
    "start_time": "2022-05-15T10:08:41.034Z"
   },
   {
    "duration": 375,
    "start_time": "2022-05-15T10:08:41.068Z"
   },
   {
    "duration": 43,
    "start_time": "2022-05-15T10:08:41.446Z"
   },
   {
    "duration": 951,
    "start_time": "2022-05-15T10:08:41.491Z"
   },
   {
    "duration": 13,
    "start_time": "2022-05-15T10:08:42.445Z"
   },
   {
    "duration": 13,
    "start_time": "2022-05-15T10:08:42.461Z"
   },
   {
    "duration": 59,
    "start_time": "2022-05-15T10:08:42.477Z"
   },
   {
    "duration": 932,
    "start_time": "2022-05-15T10:08:42.538Z"
   },
   {
    "duration": 25,
    "start_time": "2022-05-15T10:08:43.473Z"
   },
   {
    "duration": 18,
    "start_time": "2022-05-15T10:08:43.501Z"
   },
   {
    "duration": 35,
    "start_time": "2022-05-15T10:08:43.530Z"
   },
   {
    "duration": 12,
    "start_time": "2022-05-15T10:08:43.567Z"
   },
   {
    "duration": 70,
    "start_time": "2022-05-15T10:08:43.582Z"
   },
   {
    "duration": 30,
    "start_time": "2022-05-15T10:08:43.660Z"
   },
   {
    "duration": 8,
    "start_time": "2022-05-15T10:08:43.692Z"
   },
   {
    "duration": 24,
    "start_time": "2022-05-15T10:08:43.724Z"
   },
   {
    "duration": 22,
    "start_time": "2022-05-15T10:08:43.752Z"
   },
   {
    "duration": 15,
    "start_time": "2022-05-15T10:08:43.777Z"
   },
   {
    "duration": 61,
    "start_time": "2022-05-15T10:08:43.793Z"
   },
   {
    "duration": 12,
    "start_time": "2022-05-15T10:08:43.857Z"
   },
   {
    "duration": 12,
    "start_time": "2022-05-15T10:08:43.871Z"
   },
   {
    "duration": 51,
    "start_time": "2022-05-15T10:08:43.886Z"
   },
   {
    "duration": 10,
    "start_time": "2022-05-15T10:08:43.942Z"
   },
   {
    "duration": 33,
    "start_time": "2022-05-15T10:08:43.954Z"
   },
   {
    "duration": 45,
    "start_time": "2022-05-15T10:08:43.990Z"
   },
   {
    "duration": 13,
    "start_time": "2022-05-15T10:08:44.038Z"
   },
   {
    "duration": 8,
    "start_time": "2022-05-15T10:08:44.053Z"
   },
   {
    "duration": 29,
    "start_time": "2022-05-15T10:08:44.064Z"
   },
   {
    "duration": 1493,
    "start_time": "2022-05-15T10:08:44.126Z"
   },
   {
    "duration": 31,
    "start_time": "2022-05-15T10:08:45.625Z"
   },
   {
    "duration": 2,
    "start_time": "2022-05-15T10:08:45.659Z"
   },
   {
    "duration": 9,
    "start_time": "2022-05-15T10:08:45.663Z"
   },
   {
    "duration": 14,
    "start_time": "2022-05-15T10:08:45.674Z"
   },
   {
    "duration": 38,
    "start_time": "2022-05-15T10:08:45.689Z"
   },
   {
    "duration": 31,
    "start_time": "2022-05-15T10:08:45.730Z"
   },
   {
    "duration": 8,
    "start_time": "2022-05-15T10:08:45.763Z"
   },
   {
    "duration": 18,
    "start_time": "2022-05-15T10:08:45.774Z"
   },
   {
    "duration": 161,
    "start_time": "2022-05-15T10:08:45.795Z"
   },
   {
    "duration": 310,
    "start_time": "2022-05-15T10:08:46.037Z"
   },
   {
    "duration": 82,
    "start_time": "2022-05-15T10:08:46.352Z"
   },
   {
    "duration": 128,
    "start_time": "2022-05-15T10:08:46.437Z"
   },
   {
    "duration": 28,
    "start_time": "2022-05-15T10:08:46.567Z"
   },
   {
    "duration": 48,
    "start_time": "2022-05-15T10:08:46.598Z"
   },
   {
    "duration": 8,
    "start_time": "2022-05-15T10:08:46.648Z"
   },
   {
    "duration": 13,
    "start_time": "2022-05-15T10:08:46.658Z"
   },
   {
    "duration": 12,
    "start_time": "2022-05-15T10:08:46.673Z"
   },
   {
    "duration": 37,
    "start_time": "2022-05-15T10:08:46.688Z"
   },
   {
    "duration": 24,
    "start_time": "2022-05-15T10:08:46.727Z"
   },
   {
    "duration": 6,
    "start_time": "2022-05-15T10:08:46.753Z"
   },
   {
    "duration": 9,
    "start_time": "2022-05-15T10:08:46.761Z"
   },
   {
    "duration": 162,
    "start_time": "2022-05-15T10:08:46.773Z"
   },
   {
    "duration": 393,
    "start_time": "2022-05-15T10:08:46.937Z"
   },
   {
    "duration": 92,
    "start_time": "2022-05-15T10:08:47.334Z"
   },
   {
    "duration": 21,
    "start_time": "2022-05-15T10:08:47.433Z"
   },
   {
    "duration": 204,
    "start_time": "2022-05-15T10:18:07.938Z"
   },
   {
    "duration": 116,
    "start_time": "2022-05-15T10:18:13.123Z"
   },
   {
    "duration": 198,
    "start_time": "2022-05-15T10:19:11.338Z"
   },
   {
    "duration": 97,
    "start_time": "2022-05-15T10:19:22.756Z"
   },
   {
    "duration": 16,
    "start_time": "2022-05-15T10:19:34.738Z"
   },
   {
    "duration": 19,
    "start_time": "2022-05-15T10:19:57.368Z"
   },
   {
    "duration": 16,
    "start_time": "2022-05-15T10:20:11.838Z"
   },
   {
    "duration": 2263,
    "start_time": "2022-05-15T10:24:42.325Z"
   },
   {
    "duration": 51,
    "start_time": "2022-05-15T10:24:44.592Z"
   },
   {
    "duration": 109,
    "start_time": "2022-05-15T10:24:44.646Z"
   },
   {
    "duration": 5,
    "start_time": "2022-05-15T10:24:44.759Z"
   },
   {
    "duration": 9,
    "start_time": "2022-05-15T10:24:44.767Z"
   },
   {
    "duration": 7,
    "start_time": "2022-05-15T10:24:44.779Z"
   },
   {
    "duration": 41,
    "start_time": "2022-05-15T10:24:44.788Z"
   },
   {
    "duration": 14,
    "start_time": "2022-05-15T10:24:44.832Z"
   },
   {
    "duration": 924,
    "start_time": "2022-05-15T10:24:44.848Z"
   },
   {
    "duration": 5,
    "start_time": "2022-05-15T10:24:45.776Z"
   },
   {
    "duration": 11,
    "start_time": "2022-05-15T10:24:45.783Z"
   },
   {
    "duration": 816,
    "start_time": "2022-05-15T10:24:45.796Z"
   },
   {
    "duration": 24,
    "start_time": "2022-05-15T10:24:46.614Z"
   },
   {
    "duration": 16,
    "start_time": "2022-05-15T10:24:46.641Z"
   },
   {
    "duration": 21,
    "start_time": "2022-05-15T10:24:46.659Z"
   },
   {
    "duration": 382,
    "start_time": "2022-05-15T10:24:46.682Z"
   },
   {
    "duration": 43,
    "start_time": "2022-05-15T10:24:47.067Z"
   },
   {
    "duration": 941,
    "start_time": "2022-05-15T10:24:47.127Z"
   },
   {
    "duration": 14,
    "start_time": "2022-05-15T10:24:48.070Z"
   },
   {
    "duration": 16,
    "start_time": "2022-05-15T10:24:48.086Z"
   },
   {
    "duration": 22,
    "start_time": "2022-05-15T10:24:48.125Z"
   },
   {
    "duration": 947,
    "start_time": "2022-05-15T10:24:48.150Z"
   },
   {
    "duration": 18,
    "start_time": "2022-05-15T10:24:49.100Z"
   },
   {
    "duration": 21,
    "start_time": "2022-05-15T10:24:49.121Z"
   },
   {
    "duration": 32,
    "start_time": "2022-05-15T10:24:49.144Z"
   },
   {
    "duration": 8,
    "start_time": "2022-05-15T10:24:49.178Z"
   },
   {
    "duration": 62,
    "start_time": "2022-05-15T10:24:49.189Z"
   },
   {
    "duration": 20,
    "start_time": "2022-05-15T10:24:49.257Z"
   },
   {
    "duration": 5,
    "start_time": "2022-05-15T10:24:49.279Z"
   },
   {
    "duration": 49,
    "start_time": "2022-05-15T10:24:49.287Z"
   },
   {
    "duration": 27,
    "start_time": "2022-05-15T10:24:49.341Z"
   },
   {
    "duration": 15,
    "start_time": "2022-05-15T10:24:49.370Z"
   },
   {
    "duration": 56,
    "start_time": "2022-05-15T10:24:49.388Z"
   },
   {
    "duration": 12,
    "start_time": "2022-05-15T10:24:49.447Z"
   },
   {
    "duration": 12,
    "start_time": "2022-05-15T10:24:49.461Z"
   },
   {
    "duration": 12,
    "start_time": "2022-05-15T10:24:49.476Z"
   },
   {
    "duration": 8,
    "start_time": "2022-05-15T10:24:49.528Z"
   },
   {
    "duration": 32,
    "start_time": "2022-05-15T10:24:49.539Z"
   },
   {
    "duration": 25,
    "start_time": "2022-05-15T10:24:49.573Z"
   },
   {
    "duration": 31,
    "start_time": "2022-05-15T10:24:49.600Z"
   },
   {
    "duration": 6,
    "start_time": "2022-05-15T10:24:49.634Z"
   },
   {
    "duration": 30,
    "start_time": "2022-05-15T10:24:49.642Z"
   },
   {
    "duration": 1483,
    "start_time": "2022-05-15T10:24:49.675Z"
   },
   {
    "duration": 27,
    "start_time": "2022-05-15T10:24:51.161Z"
   },
   {
    "duration": 57,
    "start_time": "2022-05-15T10:24:51.190Z"
   },
   {
    "duration": 39,
    "start_time": "2022-05-15T10:24:51.249Z"
   },
   {
    "duration": 5,
    "start_time": "2022-05-15T10:24:51.290Z"
   },
   {
    "duration": 34,
    "start_time": "2022-05-15T10:24:51.298Z"
   },
   {
    "duration": 7,
    "start_time": "2022-05-15T10:24:51.334Z"
   },
   {
    "duration": 38,
    "start_time": "2022-05-15T10:24:51.343Z"
   },
   {
    "duration": 9,
    "start_time": "2022-05-15T10:24:51.384Z"
   },
   {
    "duration": 51,
    "start_time": "2022-05-15T10:24:51.395Z"
   },
   {
    "duration": 12,
    "start_time": "2022-05-15T10:24:51.449Z"
   },
   {
    "duration": 16,
    "start_time": "2022-05-15T10:24:51.464Z"
   },
   {
    "duration": 369,
    "start_time": "2022-05-15T10:24:51.483Z"
   },
   {
    "duration": 0,
    "start_time": "2022-05-15T10:24:51.855Z"
   },
   {
    "duration": 0,
    "start_time": "2022-05-15T10:24:51.858Z"
   },
   {
    "duration": 0,
    "start_time": "2022-05-15T10:24:51.860Z"
   },
   {
    "duration": 0,
    "start_time": "2022-05-15T10:24:51.862Z"
   },
   {
    "duration": 0,
    "start_time": "2022-05-15T10:24:51.863Z"
   },
   {
    "duration": 0,
    "start_time": "2022-05-15T10:24:51.865Z"
   },
   {
    "duration": 0,
    "start_time": "2022-05-15T10:24:51.867Z"
   },
   {
    "duration": 0,
    "start_time": "2022-05-15T10:24:51.869Z"
   },
   {
    "duration": 0,
    "start_time": "2022-05-15T10:24:51.870Z"
   },
   {
    "duration": 0,
    "start_time": "2022-05-15T10:24:51.872Z"
   },
   {
    "duration": 0,
    "start_time": "2022-05-15T10:24:51.874Z"
   },
   {
    "duration": 0,
    "start_time": "2022-05-15T10:24:51.875Z"
   },
   {
    "duration": 0,
    "start_time": "2022-05-15T10:24:51.877Z"
   },
   {
    "duration": 0,
    "start_time": "2022-05-15T10:24:51.878Z"
   },
   {
    "duration": 0,
    "start_time": "2022-05-15T10:24:51.880Z"
   },
   {
    "duration": 0,
    "start_time": "2022-05-15T10:24:51.929Z"
   },
   {
    "duration": 0,
    "start_time": "2022-05-15T10:24:51.931Z"
   },
   {
    "duration": 0,
    "start_time": "2022-05-15T10:24:51.936Z"
   },
   {
    "duration": 1,
    "start_time": "2022-05-15T10:24:51.937Z"
   },
   {
    "duration": 0,
    "start_time": "2022-05-15T10:24:51.939Z"
   },
   {
    "duration": 0,
    "start_time": "2022-05-15T10:24:51.944Z"
   },
   {
    "duration": 4,
    "start_time": "2022-05-15T10:26:09.938Z"
   },
   {
    "duration": 16,
    "start_time": "2022-05-15T10:26:11.014Z"
   },
   {
    "duration": 5,
    "start_time": "2022-05-15T10:26:12.683Z"
   },
   {
    "duration": 247,
    "start_time": "2022-05-15T10:26:13.290Z"
   },
   {
    "duration": 8,
    "start_time": "2022-05-15T10:26:14.546Z"
   },
   {
    "duration": 2272,
    "start_time": "2022-05-15T10:26:56.582Z"
   },
   {
    "duration": 47,
    "start_time": "2022-05-15T10:26:58.857Z"
   },
   {
    "duration": 70,
    "start_time": "2022-05-15T10:26:58.906Z"
   },
   {
    "duration": 48,
    "start_time": "2022-05-15T10:26:58.981Z"
   },
   {
    "duration": 11,
    "start_time": "2022-05-15T10:26:59.031Z"
   },
   {
    "duration": 8,
    "start_time": "2022-05-15T10:26:59.045Z"
   },
   {
    "duration": 10,
    "start_time": "2022-05-15T10:26:59.056Z"
   },
   {
    "duration": 56,
    "start_time": "2022-05-15T10:26:59.069Z"
   },
   {
    "duration": 975,
    "start_time": "2022-05-15T10:26:59.130Z"
   },
   {
    "duration": 15,
    "start_time": "2022-05-15T10:27:00.111Z"
   },
   {
    "duration": 27,
    "start_time": "2022-05-15T10:27:00.129Z"
   },
   {
    "duration": 797,
    "start_time": "2022-05-15T10:27:00.158Z"
   },
   {
    "duration": 17,
    "start_time": "2022-05-15T10:27:00.958Z"
   },
   {
    "duration": 23,
    "start_time": "2022-05-15T10:27:00.977Z"
   },
   {
    "duration": 42,
    "start_time": "2022-05-15T10:27:01.003Z"
   },
   {
    "duration": 379,
    "start_time": "2022-05-15T10:27:01.047Z"
   },
   {
    "duration": 46,
    "start_time": "2022-05-15T10:27:01.429Z"
   },
   {
    "duration": 1257,
    "start_time": "2022-05-15T10:27:01.478Z"
   },
   {
    "duration": 15,
    "start_time": "2022-05-15T10:27:02.738Z"
   },
   {
    "duration": 11,
    "start_time": "2022-05-15T10:27:02.756Z"
   },
   {
    "duration": 75,
    "start_time": "2022-05-15T10:27:02.770Z"
   },
   {
    "duration": 1978,
    "start_time": "2022-05-15T10:27:02.848Z"
   },
   {
    "duration": 20,
    "start_time": "2022-05-15T10:27:04.828Z"
   },
   {
    "duration": 24,
    "start_time": "2022-05-15T10:27:04.851Z"
   },
   {
    "duration": 32,
    "start_time": "2022-05-15T10:27:04.926Z"
   },
   {
    "duration": 68,
    "start_time": "2022-05-15T10:27:04.961Z"
   },
   {
    "duration": 34,
    "start_time": "2022-05-15T10:27:05.032Z"
   },
   {
    "duration": 27,
    "start_time": "2022-05-15T10:27:05.125Z"
   },
   {
    "duration": 8,
    "start_time": "2022-05-15T10:27:05.155Z"
   },
   {
    "duration": 80,
    "start_time": "2022-05-15T10:27:05.165Z"
   },
   {
    "duration": 20,
    "start_time": "2022-05-15T10:27:05.247Z"
   },
   {
    "duration": 72,
    "start_time": "2022-05-15T10:27:05.270Z"
   },
   {
    "duration": 29,
    "start_time": "2022-05-15T10:27:05.345Z"
   },
   {
    "duration": 21,
    "start_time": "2022-05-15T10:27:05.425Z"
   },
   {
    "duration": 9,
    "start_time": "2022-05-15T10:27:05.448Z"
   },
   {
    "duration": 68,
    "start_time": "2022-05-15T10:27:05.459Z"
   },
   {
    "duration": 8,
    "start_time": "2022-05-15T10:27:05.534Z"
   },
   {
    "duration": 29,
    "start_time": "2022-05-15T10:27:05.544Z"
   },
   {
    "duration": 74,
    "start_time": "2022-05-15T10:27:05.575Z"
   },
   {
    "duration": 6,
    "start_time": "2022-05-15T10:27:05.652Z"
   },
   {
    "duration": 8,
    "start_time": "2022-05-15T10:27:05.661Z"
   },
   {
    "duration": 93,
    "start_time": "2022-05-15T10:27:05.671Z"
   },
   {
    "duration": 1982,
    "start_time": "2022-05-15T10:27:05.766Z"
   },
   {
    "duration": 27,
    "start_time": "2022-05-15T10:27:07.750Z"
   },
   {
    "duration": 52,
    "start_time": "2022-05-15T10:27:07.779Z"
   },
   {
    "duration": 36,
    "start_time": "2022-05-15T10:27:07.833Z"
   },
   {
    "duration": 3,
    "start_time": "2022-05-15T10:27:07.872Z"
   },
   {
    "duration": 12,
    "start_time": "2022-05-15T10:27:07.878Z"
   },
   {
    "duration": 39,
    "start_time": "2022-05-15T10:27:07.894Z"
   },
   {
    "duration": 37,
    "start_time": "2022-05-15T10:27:07.941Z"
   },
   {
    "duration": 6,
    "start_time": "2022-05-15T10:27:07.981Z"
   },
   {
    "duration": 47,
    "start_time": "2022-05-15T10:27:07.989Z"
   },
   {
    "duration": 12,
    "start_time": "2022-05-15T10:27:08.039Z"
   },
   {
    "duration": 9,
    "start_time": "2022-05-15T10:27:08.054Z"
   },
   {
    "duration": 13,
    "start_time": "2022-05-15T10:27:08.065Z"
   },
   {
    "duration": 57,
    "start_time": "2022-05-15T10:27:08.080Z"
   },
   {
    "duration": 91,
    "start_time": "2022-05-15T10:27:08.140Z"
   },
   {
    "duration": 401,
    "start_time": "2022-05-15T10:27:08.238Z"
   },
   {
    "duration": 88,
    "start_time": "2022-05-15T10:27:08.644Z"
   },
   {
    "duration": 42,
    "start_time": "2022-05-15T10:27:08.734Z"
   },
   {
    "duration": 24,
    "start_time": "2022-05-15T10:27:08.779Z"
   },
   {
    "duration": 46,
    "start_time": "2022-05-15T10:27:08.805Z"
   },
   {
    "duration": 9,
    "start_time": "2022-05-15T10:27:08.854Z"
   },
   {
    "duration": 18,
    "start_time": "2022-05-15T10:27:08.865Z"
   },
   {
    "duration": 8,
    "start_time": "2022-05-15T10:27:08.885Z"
   },
   {
    "duration": 40,
    "start_time": "2022-05-15T10:27:08.895Z"
   },
   {
    "duration": 16,
    "start_time": "2022-05-15T10:27:08.939Z"
   },
   {
    "duration": 4,
    "start_time": "2022-05-15T10:27:08.958Z"
   },
   {
    "duration": 6,
    "start_time": "2022-05-15T10:27:08.965Z"
   },
   {
    "duration": 74,
    "start_time": "2022-05-15T10:27:08.973Z"
   },
   {
    "duration": 318,
    "start_time": "2022-05-15T10:27:09.125Z"
   },
   {
    "duration": 13,
    "start_time": "2022-05-15T10:27:09.524Z"
   },
   {
    "duration": 13,
    "start_time": "2022-05-15T10:27:09.541Z"
   },
   {
    "duration": 21,
    "start_time": "2022-05-15T10:27:09.557Z"
   },
   {
    "duration": 15,
    "start_time": "2022-05-15T10:27:09.580Z"
   },
   {
    "duration": 2230,
    "start_time": "2022-05-15T10:31:24.615Z"
   },
   {
    "duration": 52,
    "start_time": "2022-05-15T10:31:26.848Z"
   },
   {
    "duration": 63,
    "start_time": "2022-05-15T10:31:26.902Z"
   },
   {
    "duration": 6,
    "start_time": "2022-05-15T10:31:26.967Z"
   },
   {
    "duration": 50,
    "start_time": "2022-05-15T10:31:26.975Z"
   },
   {
    "duration": 18,
    "start_time": "2022-05-15T10:31:27.027Z"
   },
   {
    "duration": 18,
    "start_time": "2022-05-15T10:31:27.047Z"
   },
   {
    "duration": 14,
    "start_time": "2022-05-15T10:31:27.067Z"
   },
   {
    "duration": 920,
    "start_time": "2022-05-15T10:31:27.083Z"
   },
   {
    "duration": 5,
    "start_time": "2022-05-15T10:31:28.007Z"
   },
   {
    "duration": 27,
    "start_time": "2022-05-15T10:31:28.014Z"
   },
   {
    "duration": 796,
    "start_time": "2022-05-15T10:31:28.044Z"
   },
   {
    "duration": 17,
    "start_time": "2022-05-15T10:31:28.842Z"
   },
   {
    "duration": 12,
    "start_time": "2022-05-15T10:31:28.862Z"
   },
   {
    "duration": 53,
    "start_time": "2022-05-15T10:31:28.876Z"
   },
   {
    "duration": 333,
    "start_time": "2022-05-15T10:31:28.932Z"
   },
   {
    "duration": 41,
    "start_time": "2022-05-15T10:31:29.268Z"
   },
   {
    "duration": 933,
    "start_time": "2022-05-15T10:31:29.311Z"
   },
   {
    "duration": 15,
    "start_time": "2022-05-15T10:31:30.246Z"
   },
   {
    "duration": 21,
    "start_time": "2022-05-15T10:31:30.263Z"
   },
   {
    "duration": 44,
    "start_time": "2022-05-15T10:31:30.286Z"
   },
   {
    "duration": 713,
    "start_time": "2022-05-15T10:31:30.332Z"
   },
   {
    "duration": 25,
    "start_time": "2022-05-15T10:31:31.048Z"
   },
   {
    "duration": 13,
    "start_time": "2022-05-15T10:31:31.076Z"
   },
   {
    "duration": 56,
    "start_time": "2022-05-15T10:31:31.091Z"
   },
   {
    "duration": 9,
    "start_time": "2022-05-15T10:31:31.149Z"
   },
   {
    "duration": 41,
    "start_time": "2022-05-15T10:31:31.161Z"
   },
   {
    "duration": 21,
    "start_time": "2022-05-15T10:31:31.229Z"
   },
   {
    "duration": 14,
    "start_time": "2022-05-15T10:31:31.252Z"
   },
   {
    "duration": 25,
    "start_time": "2022-05-15T10:31:31.268Z"
   },
   {
    "duration": 41,
    "start_time": "2022-05-15T10:31:31.295Z"
   },
   {
    "duration": 16,
    "start_time": "2022-05-15T10:31:31.339Z"
   },
   {
    "duration": 29,
    "start_time": "2022-05-15T10:31:31.357Z"
   },
   {
    "duration": 44,
    "start_time": "2022-05-15T10:31:31.388Z"
   },
   {
    "duration": 19,
    "start_time": "2022-05-15T10:31:31.434Z"
   },
   {
    "duration": 17,
    "start_time": "2022-05-15T10:31:31.456Z"
   },
   {
    "duration": 14,
    "start_time": "2022-05-15T10:31:31.475Z"
   },
   {
    "duration": 35,
    "start_time": "2022-05-15T10:31:31.492Z"
   },
   {
    "duration": 25,
    "start_time": "2022-05-15T10:31:31.530Z"
   },
   {
    "duration": 8,
    "start_time": "2022-05-15T10:31:31.558Z"
   },
   {
    "duration": 13,
    "start_time": "2022-05-15T10:31:31.569Z"
   },
   {
    "duration": 66,
    "start_time": "2022-05-15T10:31:31.586Z"
   },
   {
    "duration": 2216,
    "start_time": "2022-05-15T10:31:31.655Z"
   },
   {
    "duration": 27,
    "start_time": "2022-05-15T10:31:33.873Z"
   },
   {
    "duration": 44,
    "start_time": "2022-05-15T10:31:33.903Z"
   },
   {
    "duration": 27,
    "start_time": "2022-05-15T10:31:33.950Z"
   },
   {
    "duration": 5,
    "start_time": "2022-05-15T10:31:33.980Z"
   },
   {
    "duration": 38,
    "start_time": "2022-05-15T10:31:33.988Z"
   },
   {
    "duration": 10,
    "start_time": "2022-05-15T10:31:34.029Z"
   },
   {
    "duration": 26,
    "start_time": "2022-05-15T10:31:34.041Z"
   },
   {
    "duration": 14,
    "start_time": "2022-05-15T10:31:34.070Z"
   },
   {
    "duration": 49,
    "start_time": "2022-05-15T10:31:34.087Z"
   },
   {
    "duration": 13,
    "start_time": "2022-05-15T10:31:34.139Z"
   },
   {
    "duration": 9,
    "start_time": "2022-05-15T10:31:34.154Z"
   },
   {
    "duration": 8,
    "start_time": "2022-05-15T10:31:34.165Z"
   },
   {
    "duration": 60,
    "start_time": "2022-05-15T10:31:34.175Z"
   },
   {
    "duration": 91,
    "start_time": "2022-05-15T10:31:34.238Z"
   },
   {
    "duration": 298,
    "start_time": "2022-05-15T10:31:34.332Z"
   },
   {
    "duration": 96,
    "start_time": "2022-05-15T10:31:34.633Z"
   },
   {
    "duration": 34,
    "start_time": "2022-05-15T10:31:34.732Z"
   },
   {
    "duration": 7,
    "start_time": "2022-05-15T10:31:34.768Z"
   },
   {
    "duration": 12,
    "start_time": "2022-05-15T10:31:34.777Z"
   },
   {
    "duration": 6,
    "start_time": "2022-05-15T10:31:34.825Z"
   },
   {
    "duration": 15,
    "start_time": "2022-05-15T10:31:34.833Z"
   },
   {
    "duration": 10,
    "start_time": "2022-05-15T10:31:34.850Z"
   },
   {
    "duration": 6,
    "start_time": "2022-05-15T10:31:34.862Z"
   },
   {
    "duration": 10,
    "start_time": "2022-05-15T10:31:34.870Z"
   },
   {
    "duration": 141,
    "start_time": "2022-05-15T10:31:34.883Z"
   },
   {
    "duration": 412,
    "start_time": "2022-05-15T10:31:35.028Z"
   },
   {
    "duration": 93,
    "start_time": "2022-05-15T10:31:35.443Z"
   },
   {
    "duration": 106,
    "start_time": "2022-05-15T10:31:35.538Z"
   },
   {
    "duration": 41,
    "start_time": "2022-05-15T10:31:35.646Z"
   },
   {
    "duration": 17,
    "start_time": "2022-05-15T10:31:35.690Z"
   },
   {
    "duration": 11,
    "start_time": "2022-05-15T10:33:09.482Z"
   },
   {
    "duration": 2486,
    "start_time": "2022-05-15T10:33:45.585Z"
   },
   {
    "duration": 45,
    "start_time": "2022-05-15T10:33:48.074Z"
   },
   {
    "duration": 116,
    "start_time": "2022-05-15T10:33:48.122Z"
   },
   {
    "duration": 6,
    "start_time": "2022-05-15T10:33:48.241Z"
   },
   {
    "duration": 14,
    "start_time": "2022-05-15T10:33:48.252Z"
   },
   {
    "duration": 15,
    "start_time": "2022-05-15T10:33:48.269Z"
   },
   {
    "duration": 43,
    "start_time": "2022-05-15T10:33:48.287Z"
   },
   {
    "duration": 13,
    "start_time": "2022-05-15T10:33:48.332Z"
   },
   {
    "duration": 914,
    "start_time": "2022-05-15T10:33:48.347Z"
   },
   {
    "duration": 4,
    "start_time": "2022-05-15T10:33:49.264Z"
   },
   {
    "duration": 1957,
    "start_time": "2022-05-15T10:33:49.271Z"
   },
   {
    "duration": 0,
    "start_time": "2022-05-15T10:33:51.234Z"
   },
   {
    "duration": 0,
    "start_time": "2022-05-15T10:33:51.237Z"
   },
   {
    "duration": 0,
    "start_time": "2022-05-15T10:33:51.238Z"
   },
   {
    "duration": 0,
    "start_time": "2022-05-15T10:33:51.241Z"
   },
   {
    "duration": 0,
    "start_time": "2022-05-15T10:33:51.243Z"
   },
   {
    "duration": 0,
    "start_time": "2022-05-15T10:33:51.245Z"
   },
   {
    "duration": 0,
    "start_time": "2022-05-15T10:33:51.248Z"
   },
   {
    "duration": 0,
    "start_time": "2022-05-15T10:33:51.249Z"
   },
   {
    "duration": 0,
    "start_time": "2022-05-15T10:33:51.251Z"
   },
   {
    "duration": 1,
    "start_time": "2022-05-15T10:33:51.253Z"
   },
   {
    "duration": 0,
    "start_time": "2022-05-15T10:33:51.256Z"
   },
   {
    "duration": 0,
    "start_time": "2022-05-15T10:33:51.258Z"
   },
   {
    "duration": 0,
    "start_time": "2022-05-15T10:33:51.261Z"
   },
   {
    "duration": 0,
    "start_time": "2022-05-15T10:33:51.262Z"
   },
   {
    "duration": 0,
    "start_time": "2022-05-15T10:33:51.265Z"
   },
   {
    "duration": 0,
    "start_time": "2022-05-15T10:33:51.267Z"
   },
   {
    "duration": 0,
    "start_time": "2022-05-15T10:33:51.269Z"
   },
   {
    "duration": 0,
    "start_time": "2022-05-15T10:33:51.271Z"
   },
   {
    "duration": 0,
    "start_time": "2022-05-15T10:33:51.326Z"
   },
   {
    "duration": 0,
    "start_time": "2022-05-15T10:33:51.328Z"
   },
   {
    "duration": 0,
    "start_time": "2022-05-15T10:33:51.331Z"
   },
   {
    "duration": 0,
    "start_time": "2022-05-15T10:33:51.333Z"
   },
   {
    "duration": 0,
    "start_time": "2022-05-15T10:33:51.335Z"
   },
   {
    "duration": 0,
    "start_time": "2022-05-15T10:33:51.337Z"
   },
   {
    "duration": 0,
    "start_time": "2022-05-15T10:33:51.338Z"
   },
   {
    "duration": 0,
    "start_time": "2022-05-15T10:33:51.340Z"
   },
   {
    "duration": 0,
    "start_time": "2022-05-15T10:33:51.342Z"
   },
   {
    "duration": 0,
    "start_time": "2022-05-15T10:33:51.343Z"
   },
   {
    "duration": 0,
    "start_time": "2022-05-15T10:33:51.345Z"
   },
   {
    "duration": 0,
    "start_time": "2022-05-15T10:33:51.348Z"
   },
   {
    "duration": 0,
    "start_time": "2022-05-15T10:33:51.349Z"
   },
   {
    "duration": 0,
    "start_time": "2022-05-15T10:33:51.351Z"
   },
   {
    "duration": 1,
    "start_time": "2022-05-15T10:33:51.352Z"
   },
   {
    "duration": 0,
    "start_time": "2022-05-15T10:33:51.354Z"
   },
   {
    "duration": 0,
    "start_time": "2022-05-15T10:33:51.355Z"
   },
   {
    "duration": 0,
    "start_time": "2022-05-15T10:33:51.357Z"
   },
   {
    "duration": 0,
    "start_time": "2022-05-15T10:33:51.358Z"
   },
   {
    "duration": 0,
    "start_time": "2022-05-15T10:33:51.360Z"
   },
   {
    "duration": 0,
    "start_time": "2022-05-15T10:33:51.425Z"
   },
   {
    "duration": 0,
    "start_time": "2022-05-15T10:33:51.427Z"
   },
   {
    "duration": 0,
    "start_time": "2022-05-15T10:33:51.428Z"
   },
   {
    "duration": 0,
    "start_time": "2022-05-15T10:33:51.430Z"
   },
   {
    "duration": 0,
    "start_time": "2022-05-15T10:33:51.431Z"
   },
   {
    "duration": 0,
    "start_time": "2022-05-15T10:33:51.433Z"
   },
   {
    "duration": 0,
    "start_time": "2022-05-15T10:33:51.436Z"
   },
   {
    "duration": 0,
    "start_time": "2022-05-15T10:33:51.437Z"
   },
   {
    "duration": 0,
    "start_time": "2022-05-15T10:33:51.439Z"
   },
   {
    "duration": 0,
    "start_time": "2022-05-15T10:33:51.441Z"
   },
   {
    "duration": 0,
    "start_time": "2022-05-15T10:33:51.442Z"
   },
   {
    "duration": 0,
    "start_time": "2022-05-15T10:33:51.444Z"
   },
   {
    "duration": 0,
    "start_time": "2022-05-15T10:33:51.446Z"
   },
   {
    "duration": 0,
    "start_time": "2022-05-15T10:33:51.447Z"
   },
   {
    "duration": 0,
    "start_time": "2022-05-15T10:33:51.449Z"
   },
   {
    "duration": 0,
    "start_time": "2022-05-15T10:33:51.450Z"
   },
   {
    "duration": 0,
    "start_time": "2022-05-15T10:33:51.452Z"
   },
   {
    "duration": 0,
    "start_time": "2022-05-15T10:33:51.454Z"
   },
   {
    "duration": 0,
    "start_time": "2022-05-15T10:33:51.455Z"
   },
   {
    "duration": 0,
    "start_time": "2022-05-15T10:33:51.457Z"
   },
   {
    "duration": 0,
    "start_time": "2022-05-15T10:33:51.459Z"
   },
   {
    "duration": 0,
    "start_time": "2022-05-15T10:33:51.524Z"
   },
   {
    "duration": 0,
    "start_time": "2022-05-15T10:33:51.527Z"
   },
   {
    "duration": 0,
    "start_time": "2022-05-15T10:33:51.528Z"
   },
   {
    "duration": 9,
    "start_time": "2022-05-15T10:34:20.970Z"
   },
   {
    "duration": 787,
    "start_time": "2022-05-15T10:34:22.915Z"
   },
   {
    "duration": 2571,
    "start_time": "2022-05-15T10:34:33.404Z"
   },
   {
    "duration": 66,
    "start_time": "2022-05-15T10:34:35.979Z"
   },
   {
    "duration": 110,
    "start_time": "2022-05-15T10:34:36.049Z"
   },
   {
    "duration": 7,
    "start_time": "2022-05-15T10:34:36.163Z"
   },
   {
    "duration": 21,
    "start_time": "2022-05-15T10:34:36.173Z"
   },
   {
    "duration": 57,
    "start_time": "2022-05-15T10:34:36.196Z"
   },
   {
    "duration": 28,
    "start_time": "2022-05-15T10:34:36.256Z"
   },
   {
    "duration": 18,
    "start_time": "2022-05-15T10:34:36.286Z"
   },
   {
    "duration": 995,
    "start_time": "2022-05-15T10:34:36.307Z"
   },
   {
    "duration": 4,
    "start_time": "2022-05-15T10:34:37.306Z"
   },
   {
    "duration": 7,
    "start_time": "2022-05-15T10:34:37.325Z"
   },
   {
    "duration": 803,
    "start_time": "2022-05-15T10:34:37.334Z"
   },
   {
    "duration": 19,
    "start_time": "2022-05-15T10:34:38.139Z"
   },
   {
    "duration": 13,
    "start_time": "2022-05-15T10:34:38.160Z"
   },
   {
    "duration": 59,
    "start_time": "2022-05-15T10:34:38.175Z"
   },
   {
    "duration": 328,
    "start_time": "2022-05-15T10:34:38.236Z"
   },
   {
    "duration": 41,
    "start_time": "2022-05-15T10:34:38.566Z"
   },
   {
    "duration": 934,
    "start_time": "2022-05-15T10:34:38.609Z"
   },
   {
    "duration": 13,
    "start_time": "2022-05-15T10:34:39.545Z"
   },
   {
    "duration": 17,
    "start_time": "2022-05-15T10:34:39.561Z"
   },
   {
    "duration": 49,
    "start_time": "2022-05-15T10:34:39.581Z"
   },
   {
    "duration": 708,
    "start_time": "2022-05-15T10:34:39.633Z"
   },
   {
    "duration": 23,
    "start_time": "2022-05-15T10:34:40.344Z"
   },
   {
    "duration": 19,
    "start_time": "2022-05-15T10:34:40.369Z"
   },
   {
    "duration": 59,
    "start_time": "2022-05-15T10:34:40.390Z"
   },
   {
    "duration": 10,
    "start_time": "2022-05-15T10:34:40.452Z"
   },
   {
    "duration": 60,
    "start_time": "2022-05-15T10:34:40.465Z"
   },
   {
    "duration": 29,
    "start_time": "2022-05-15T10:34:40.534Z"
   },
   {
    "duration": 10,
    "start_time": "2022-05-15T10:34:40.566Z"
   },
   {
    "duration": 47,
    "start_time": "2022-05-15T10:34:40.580Z"
   },
   {
    "duration": 22,
    "start_time": "2022-05-15T10:34:40.629Z"
   },
   {
    "duration": 21,
    "start_time": "2022-05-15T10:34:40.653Z"
   },
   {
    "duration": 64,
    "start_time": "2022-05-15T10:34:40.677Z"
   },
   {
    "duration": 16,
    "start_time": "2022-05-15T10:34:40.744Z"
   },
   {
    "duration": 10,
    "start_time": "2022-05-15T10:34:40.763Z"
   },
   {
    "duration": 52,
    "start_time": "2022-05-15T10:34:40.775Z"
   },
   {
    "duration": 9,
    "start_time": "2022-05-15T10:34:40.829Z"
   },
   {
    "duration": 22,
    "start_time": "2022-05-15T10:34:40.840Z"
   },
   {
    "duration": 26,
    "start_time": "2022-05-15T10:34:40.865Z"
   },
   {
    "duration": 6,
    "start_time": "2022-05-15T10:34:40.925Z"
   },
   {
    "duration": 6,
    "start_time": "2022-05-15T10:34:40.934Z"
   },
   {
    "duration": 24,
    "start_time": "2022-05-15T10:34:40.942Z"
   },
   {
    "duration": 1469,
    "start_time": "2022-05-15T10:34:40.968Z"
   },
   {
    "duration": 26,
    "start_time": "2022-05-15T10:34:42.440Z"
   },
   {
    "duration": 33,
    "start_time": "2022-05-15T10:34:42.469Z"
   },
   {
    "duration": 24,
    "start_time": "2022-05-15T10:34:42.525Z"
   },
   {
    "duration": 15,
    "start_time": "2022-05-15T10:34:42.551Z"
   },
   {
    "duration": 31,
    "start_time": "2022-05-15T10:34:42.568Z"
   },
   {
    "duration": 18,
    "start_time": "2022-05-15T10:34:42.601Z"
   },
   {
    "duration": 30,
    "start_time": "2022-05-15T10:34:42.621Z"
   },
   {
    "duration": 13,
    "start_time": "2022-05-15T10:34:42.653Z"
   },
   {
    "duration": 48,
    "start_time": "2022-05-15T10:34:42.669Z"
   },
   {
    "duration": 14,
    "start_time": "2022-05-15T10:34:42.720Z"
   },
   {
    "duration": 19,
    "start_time": "2022-05-15T10:34:42.736Z"
   },
   {
    "duration": 25,
    "start_time": "2022-05-15T10:34:42.758Z"
   },
   {
    "duration": 44,
    "start_time": "2022-05-15T10:34:42.785Z"
   },
   {
    "duration": 195,
    "start_time": "2022-05-15T10:34:42.832Z"
   },
   {
    "duration": 400,
    "start_time": "2022-05-15T10:34:43.030Z"
   },
   {
    "duration": 98,
    "start_time": "2022-05-15T10:34:43.434Z"
   },
   {
    "duration": 35,
    "start_time": "2022-05-15T10:34:43.535Z"
   },
   {
    "duration": 6,
    "start_time": "2022-05-15T10:34:43.573Z"
   },
   {
    "duration": 46,
    "start_time": "2022-05-15T10:34:43.581Z"
   },
   {
    "duration": 7,
    "start_time": "2022-05-15T10:34:43.629Z"
   },
   {
    "duration": 10,
    "start_time": "2022-05-15T10:34:43.638Z"
   },
   {
    "duration": 12,
    "start_time": "2022-05-15T10:34:43.651Z"
   },
   {
    "duration": 6,
    "start_time": "2022-05-15T10:34:43.666Z"
   },
   {
    "duration": 8,
    "start_time": "2022-05-15T10:34:43.675Z"
   },
   {
    "duration": 107,
    "start_time": "2022-05-15T10:34:43.726Z"
   },
   {
    "duration": 294,
    "start_time": "2022-05-15T10:34:43.836Z"
   },
   {
    "duration": 97,
    "start_time": "2022-05-15T10:34:44.133Z"
   },
   {
    "duration": 92,
    "start_time": "2022-05-15T10:34:44.234Z"
   },
   {
    "duration": 18,
    "start_time": "2022-05-15T10:34:44.329Z"
   },
   {
    "duration": 16,
    "start_time": "2022-05-15T10:34:44.349Z"
   },
   {
    "duration": 2207,
    "start_time": "2022-05-15T10:38:39.295Z"
   },
   {
    "duration": 43,
    "start_time": "2022-05-15T10:38:41.505Z"
   },
   {
    "duration": 83,
    "start_time": "2022-05-15T10:38:41.550Z"
   },
   {
    "duration": 6,
    "start_time": "2022-05-15T10:38:41.636Z"
   },
   {
    "duration": 8,
    "start_time": "2022-05-15T10:38:41.646Z"
   },
   {
    "duration": 7,
    "start_time": "2022-05-15T10:38:41.657Z"
   },
   {
    "duration": 9,
    "start_time": "2022-05-15T10:38:41.667Z"
   },
   {
    "duration": 15,
    "start_time": "2022-05-15T10:38:41.726Z"
   },
   {
    "duration": 1004,
    "start_time": "2022-05-15T10:38:41.744Z"
   },
   {
    "duration": 6,
    "start_time": "2022-05-15T10:38:42.751Z"
   },
   {
    "duration": 10,
    "start_time": "2022-05-15T10:38:42.761Z"
   },
   {
    "duration": 790,
    "start_time": "2022-05-15T10:38:42.774Z"
   },
   {
    "duration": 19,
    "start_time": "2022-05-15T10:38:43.566Z"
   },
   {
    "duration": 36,
    "start_time": "2022-05-15T10:38:43.592Z"
   },
   {
    "duration": 23,
    "start_time": "2022-05-15T10:38:43.630Z"
   },
   {
    "duration": 373,
    "start_time": "2022-05-15T10:38:43.656Z"
   },
   {
    "duration": 42,
    "start_time": "2022-05-15T10:38:44.032Z"
   },
   {
    "duration": 1030,
    "start_time": "2022-05-15T10:38:44.076Z"
   },
   {
    "duration": 24,
    "start_time": "2022-05-15T10:38:45.108Z"
   },
   {
    "duration": 38,
    "start_time": "2022-05-15T10:38:45.135Z"
   },
   {
    "duration": 50,
    "start_time": "2022-05-15T10:38:45.176Z"
   },
   {
    "duration": 880,
    "start_time": "2022-05-15T10:38:45.229Z"
   },
   {
    "duration": 23,
    "start_time": "2022-05-15T10:38:46.112Z"
   },
   {
    "duration": 41,
    "start_time": "2022-05-15T10:38:46.137Z"
   },
   {
    "duration": 45,
    "start_time": "2022-05-15T10:38:46.181Z"
   },
   {
    "duration": 20,
    "start_time": "2022-05-15T10:38:46.229Z"
   },
   {
    "duration": 47,
    "start_time": "2022-05-15T10:38:46.252Z"
   },
   {
    "duration": 28,
    "start_time": "2022-05-15T10:38:46.301Z"
   },
   {
    "duration": 17,
    "start_time": "2022-05-15T10:38:46.331Z"
   },
   {
    "duration": 43,
    "start_time": "2022-05-15T10:38:46.350Z"
   },
   {
    "duration": 46,
    "start_time": "2022-05-15T10:38:46.395Z"
   },
   {
    "duration": 41,
    "start_time": "2022-05-15T10:38:46.443Z"
   },
   {
    "duration": 40,
    "start_time": "2022-05-15T10:38:46.486Z"
   },
   {
    "duration": 42,
    "start_time": "2022-05-15T10:38:46.528Z"
   },
   {
    "duration": 16,
    "start_time": "2022-05-15T10:38:46.572Z"
   },
   {
    "duration": 48,
    "start_time": "2022-05-15T10:38:46.590Z"
   },
   {
    "duration": 30,
    "start_time": "2022-05-15T10:38:46.640Z"
   },
   {
    "duration": 62,
    "start_time": "2022-05-15T10:38:46.672Z"
   },
   {
    "duration": 40,
    "start_time": "2022-05-15T10:38:46.737Z"
   },
   {
    "duration": 18,
    "start_time": "2022-05-15T10:38:46.779Z"
   },
   {
    "duration": 16,
    "start_time": "2022-05-15T10:38:46.804Z"
   },
   {
    "duration": 50,
    "start_time": "2022-05-15T10:38:46.823Z"
   },
   {
    "duration": 1475,
    "start_time": "2022-05-15T10:38:46.875Z"
   },
   {
    "duration": 27,
    "start_time": "2022-05-15T10:38:48.352Z"
   },
   {
    "duration": 51,
    "start_time": "2022-05-15T10:38:48.381Z"
   },
   {
    "duration": 30,
    "start_time": "2022-05-15T10:38:48.434Z"
   },
   {
    "duration": 6,
    "start_time": "2022-05-15T10:38:48.467Z"
   },
   {
    "duration": 14,
    "start_time": "2022-05-15T10:38:48.476Z"
   },
   {
    "duration": 12,
    "start_time": "2022-05-15T10:38:48.493Z"
   },
   {
    "duration": 39,
    "start_time": "2022-05-15T10:38:48.507Z"
   },
   {
    "duration": 13,
    "start_time": "2022-05-15T10:38:48.548Z"
   },
   {
    "duration": 39,
    "start_time": "2022-05-15T10:38:48.564Z"
   },
   {
    "duration": 22,
    "start_time": "2022-05-15T10:38:48.605Z"
   },
   {
    "duration": 24,
    "start_time": "2022-05-15T10:38:48.630Z"
   },
   {
    "duration": 8,
    "start_time": "2022-05-15T10:38:48.656Z"
   },
   {
    "duration": 65,
    "start_time": "2022-05-15T10:38:48.666Z"
   },
   {
    "duration": 94,
    "start_time": "2022-05-15T10:38:48.734Z"
   },
   {
    "duration": 399,
    "start_time": "2022-05-15T10:38:48.831Z"
   },
   {
    "duration": 191,
    "start_time": "2022-05-15T10:38:49.234Z"
   },
   {
    "duration": 28,
    "start_time": "2022-05-15T10:38:49.427Z"
   },
   {
    "duration": 16,
    "start_time": "2022-05-15T10:38:49.457Z"
   },
   {
    "duration": 9,
    "start_time": "2022-05-15T10:38:49.476Z"
   },
   {
    "duration": 7,
    "start_time": "2022-05-15T10:38:49.487Z"
   },
   {
    "duration": 7,
    "start_time": "2022-05-15T10:38:49.526Z"
   },
   {
    "duration": 10,
    "start_time": "2022-05-15T10:38:49.536Z"
   },
   {
    "duration": 12,
    "start_time": "2022-05-15T10:38:49.548Z"
   },
   {
    "duration": 24,
    "start_time": "2022-05-15T10:38:49.563Z"
   },
   {
    "duration": 135,
    "start_time": "2022-05-15T10:38:49.590Z"
   },
   {
    "duration": 399,
    "start_time": "2022-05-15T10:38:49.729Z"
   },
   {
    "duration": 101,
    "start_time": "2022-05-15T10:38:50.131Z"
   },
   {
    "duration": 16,
    "start_time": "2022-05-15T10:38:50.235Z"
   },
   {
    "duration": 32,
    "start_time": "2022-05-15T10:38:50.253Z"
   },
   {
    "duration": 16,
    "start_time": "2022-05-15T10:38:50.287Z"
   },
   {
    "duration": 2219,
    "start_time": "2022-05-15T10:47:50.332Z"
   },
   {
    "duration": 57,
    "start_time": "2022-05-15T10:47:52.554Z"
   },
   {
    "duration": 63,
    "start_time": "2022-05-15T10:47:52.614Z"
   },
   {
    "duration": 44,
    "start_time": "2022-05-15T10:47:52.680Z"
   },
   {
    "duration": 7,
    "start_time": "2022-05-15T10:47:52.726Z"
   },
   {
    "duration": 9,
    "start_time": "2022-05-15T10:47:52.735Z"
   },
   {
    "duration": 9,
    "start_time": "2022-05-15T10:47:52.746Z"
   },
   {
    "duration": 11,
    "start_time": "2022-05-15T10:47:52.757Z"
   },
   {
    "duration": 1055,
    "start_time": "2022-05-15T10:47:52.770Z"
   },
   {
    "duration": 5,
    "start_time": "2022-05-15T10:47:53.829Z"
   },
   {
    "duration": 17,
    "start_time": "2022-05-15T10:47:53.836Z"
   },
   {
    "duration": 836,
    "start_time": "2022-05-15T10:47:53.855Z"
   },
   {
    "duration": 32,
    "start_time": "2022-05-15T10:47:54.694Z"
   },
   {
    "duration": 16,
    "start_time": "2022-05-15T10:47:54.729Z"
   },
   {
    "duration": 28,
    "start_time": "2022-05-15T10:47:54.747Z"
   },
   {
    "duration": 521,
    "start_time": "2022-05-15T10:47:54.777Z"
   },
   {
    "duration": 55,
    "start_time": "2022-05-15T10:47:55.300Z"
   },
   {
    "duration": 926,
    "start_time": "2022-05-15T10:47:55.357Z"
   },
   {
    "duration": 14,
    "start_time": "2022-05-15T10:47:56.286Z"
   },
   {
    "duration": 32,
    "start_time": "2022-05-15T10:47:56.303Z"
   },
   {
    "duration": 20,
    "start_time": "2022-05-15T10:47:56.337Z"
   },
   {
    "duration": 1001,
    "start_time": "2022-05-15T10:47:56.360Z"
   },
   {
    "duration": 16,
    "start_time": "2022-05-15T10:47:57.364Z"
   },
   {
    "duration": 49,
    "start_time": "2022-05-15T10:47:57.383Z"
   },
   {
    "duration": 9,
    "start_time": "2022-05-15T10:47:57.434Z"
   },
   {
    "duration": 31,
    "start_time": "2022-05-15T10:47:57.445Z"
   },
   {
    "duration": 59,
    "start_time": "2022-05-15T10:47:57.478Z"
   },
   {
    "duration": 6,
    "start_time": "2022-05-15T10:47:57.543Z"
   },
   {
    "duration": 26,
    "start_time": "2022-05-15T10:47:57.551Z"
   },
   {
    "duration": 17,
    "start_time": "2022-05-15T10:47:57.580Z"
   },
   {
    "duration": 19,
    "start_time": "2022-05-15T10:47:57.625Z"
   },
   {
    "duration": 9,
    "start_time": "2022-05-15T10:47:57.646Z"
   },
   {
    "duration": 25,
    "start_time": "2022-05-15T10:47:57.658Z"
   },
   {
    "duration": 921,
    "start_time": "2022-05-15T10:47:57.686Z"
   },
   {
    "duration": 37,
    "start_time": "2022-05-15T10:47:58.610Z"
   },
   {
    "duration": 9,
    "start_time": "2022-05-15T10:47:58.649Z"
   },
   {
    "duration": 9,
    "start_time": "2022-05-15T10:47:58.660Z"
   },
   {
    "duration": 26,
    "start_time": "2022-05-15T10:47:58.671Z"
   },
   {
    "duration": 1409,
    "start_time": "2022-05-15T10:47:58.725Z"
   },
   {
    "duration": 4,
    "start_time": "2022-05-15T10:48:00.137Z"
   },
   {
    "duration": 12,
    "start_time": "2022-05-15T10:48:00.143Z"
   },
   {
    "duration": 9,
    "start_time": "2022-05-15T10:48:00.158Z"
   },
   {
    "duration": 61,
    "start_time": "2022-05-15T10:48:00.170Z"
   },
   {
    "duration": 21,
    "start_time": "2022-05-15T10:48:00.233Z"
   },
   {
    "duration": 36,
    "start_time": "2022-05-15T10:48:00.257Z"
   },
   {
    "duration": 9,
    "start_time": "2022-05-15T10:48:00.296Z"
   },
   {
    "duration": 17,
    "start_time": "2022-05-15T10:48:00.308Z"
   },
   {
    "duration": 10,
    "start_time": "2022-05-15T10:48:00.327Z"
   },
   {
    "duration": 92,
    "start_time": "2022-05-15T10:48:00.339Z"
   },
   {
    "duration": 692,
    "start_time": "2022-05-15T10:48:00.434Z"
   },
   {
    "duration": 4,
    "start_time": "2022-05-15T10:48:01.129Z"
   },
   {
    "duration": 18,
    "start_time": "2022-05-15T10:48:01.136Z"
   },
   {
    "duration": 31,
    "start_time": "2022-05-15T10:48:01.156Z"
   },
   {
    "duration": 12,
    "start_time": "2022-05-15T10:48:01.191Z"
   },
   {
    "duration": 22,
    "start_time": "2022-05-15T10:48:01.205Z"
   },
   {
    "duration": 10,
    "start_time": "2022-05-15T10:48:01.230Z"
   },
   {
    "duration": 23,
    "start_time": "2022-05-15T10:48:01.242Z"
   },
   {
    "duration": 13,
    "start_time": "2022-05-15T10:48:01.267Z"
   },
   {
    "duration": 17,
    "start_time": "2022-05-15T10:48:01.283Z"
   },
   {
    "duration": 28,
    "start_time": "2022-05-15T10:48:01.302Z"
   },
   {
    "duration": 93,
    "start_time": "2022-05-15T10:48:01.333Z"
   },
   {
    "duration": 399,
    "start_time": "2022-05-15T10:48:01.433Z"
   },
   {
    "duration": 188,
    "start_time": "2022-05-15T10:48:01.837Z"
   },
   {
    "duration": 181,
    "start_time": "2022-05-15T10:48:02.027Z"
   },
   {
    "duration": 38,
    "start_time": "2022-05-15T10:48:02.210Z"
   },
   {
    "duration": 4,
    "start_time": "2022-05-15T10:49:34.533Z"
   },
   {
    "duration": 626,
    "start_time": "2022-05-15T10:49:34.799Z"
   },
   {
    "duration": 47,
    "start_time": "2022-05-15T10:53:20.458Z"
   },
   {
    "duration": 33,
    "start_time": "2022-05-15T10:53:40.203Z"
   },
   {
    "duration": 2202,
    "start_time": "2022-05-15T10:53:59.897Z"
   },
   {
    "duration": 45,
    "start_time": "2022-05-15T10:54:02.102Z"
   },
   {
    "duration": 93,
    "start_time": "2022-05-15T10:54:02.149Z"
   },
   {
    "duration": 5,
    "start_time": "2022-05-15T10:54:02.245Z"
   },
   {
    "duration": 47,
    "start_time": "2022-05-15T10:54:02.252Z"
   },
   {
    "duration": 39,
    "start_time": "2022-05-15T10:54:02.302Z"
   },
   {
    "duration": 18,
    "start_time": "2022-05-15T10:54:02.344Z"
   },
   {
    "duration": 27,
    "start_time": "2022-05-15T10:54:02.365Z"
   },
   {
    "duration": 902,
    "start_time": "2022-05-15T10:54:02.394Z"
   },
   {
    "duration": 5,
    "start_time": "2022-05-15T10:54:03.300Z"
   },
   {
    "duration": 26,
    "start_time": "2022-05-15T10:54:03.307Z"
   },
   {
    "duration": 805,
    "start_time": "2022-05-15T10:54:03.336Z"
   },
   {
    "duration": 19,
    "start_time": "2022-05-15T10:54:04.143Z"
   },
   {
    "duration": 14,
    "start_time": "2022-05-15T10:54:04.164Z"
   },
   {
    "duration": 52,
    "start_time": "2022-05-15T10:54:04.180Z"
   },
   {
    "duration": 698,
    "start_time": "2022-05-15T10:54:04.235Z"
   },
   {
    "duration": 38,
    "start_time": "2022-05-15T10:54:04.936Z"
   },
   {
    "duration": 836,
    "start_time": "2022-05-15T10:54:04.977Z"
   },
   {
    "duration": 16,
    "start_time": "2022-05-15T10:54:05.816Z"
   },
   {
    "duration": 30,
    "start_time": "2022-05-15T10:54:05.834Z"
   },
   {
    "duration": 16,
    "start_time": "2022-05-15T10:54:05.866Z"
   },
   {
    "duration": 23,
    "start_time": "2022-05-15T10:54:05.885Z"
   },
   {
    "duration": 995,
    "start_time": "2022-05-15T10:54:05.911Z"
   },
   {
    "duration": 36,
    "start_time": "2022-05-15T10:54:06.909Z"
   },
   {
    "duration": 9,
    "start_time": "2022-05-15T10:54:06.948Z"
   },
   {
    "duration": 8,
    "start_time": "2022-05-15T10:54:06.959Z"
   },
   {
    "duration": 60,
    "start_time": "2022-05-15T10:54:06.969Z"
   },
   {
    "duration": 1323,
    "start_time": "2022-05-15T10:54:07.034Z"
   },
   {
    "duration": 3,
    "start_time": "2022-05-15T10:54:08.359Z"
   },
   {
    "duration": 10,
    "start_time": "2022-05-15T10:54:08.364Z"
   },
   {
    "duration": 17,
    "start_time": "2022-05-15T10:54:08.376Z"
   },
   {
    "duration": 10,
    "start_time": "2022-05-15T10:54:08.396Z"
   },
   {
    "duration": 15,
    "start_time": "2022-05-15T10:54:08.409Z"
   },
   {
    "duration": 8,
    "start_time": "2022-05-15T10:54:08.427Z"
   },
   {
    "duration": 189,
    "start_time": "2022-05-15T10:54:08.437Z"
   },
   {
    "duration": 5,
    "start_time": "2022-05-15T10:54:08.628Z"
   },
   {
    "duration": 295,
    "start_time": "2022-05-15T10:54:08.635Z"
   },
   {
    "duration": 95,
    "start_time": "2022-05-15T10:54:08.934Z"
   },
   {
    "duration": 27,
    "start_time": "2022-05-15T10:54:09.032Z"
   },
   {
    "duration": 182,
    "start_time": "2022-05-15T10:54:09.125Z"
   },
   {
    "duration": 575,
    "start_time": "2022-05-15T10:54:38.718Z"
   },
   {
    "duration": 964,
    "start_time": "2022-05-15T10:54:56.848Z"
   },
   {
    "duration": 938,
    "start_time": "2022-05-15T10:55:05.440Z"
   },
   {
    "duration": 35,
    "start_time": "2022-05-15T10:55:21.932Z"
   },
   {
    "duration": 2199,
    "start_time": "2022-05-15T10:55:35.736Z"
   },
   {
    "duration": 43,
    "start_time": "2022-05-15T10:55:37.938Z"
   },
   {
    "duration": 73,
    "start_time": "2022-05-15T10:55:37.983Z"
   },
   {
    "duration": 5,
    "start_time": "2022-05-15T10:55:38.059Z"
   },
   {
    "duration": 10,
    "start_time": "2022-05-15T10:55:38.066Z"
   },
   {
    "duration": 46,
    "start_time": "2022-05-15T10:55:38.078Z"
   },
   {
    "duration": 13,
    "start_time": "2022-05-15T10:55:38.127Z"
   },
   {
    "duration": 20,
    "start_time": "2022-05-15T10:55:38.142Z"
   },
   {
    "duration": 911,
    "start_time": "2022-05-15T10:55:38.164Z"
   },
   {
    "duration": 5,
    "start_time": "2022-05-15T10:55:39.079Z"
   },
   {
    "duration": 12,
    "start_time": "2022-05-15T10:55:39.086Z"
   },
   {
    "duration": 812,
    "start_time": "2022-05-15T10:55:39.100Z"
   },
   {
    "duration": 21,
    "start_time": "2022-05-15T10:55:39.914Z"
   },
   {
    "duration": 12,
    "start_time": "2022-05-15T10:55:39.937Z"
   },
   {
    "duration": 21,
    "start_time": "2022-05-15T10:55:39.951Z"
   },
   {
    "duration": 388,
    "start_time": "2022-05-15T10:55:39.974Z"
   },
   {
    "duration": 41,
    "start_time": "2022-05-15T10:55:40.365Z"
   },
   {
    "duration": 903,
    "start_time": "2022-05-15T10:55:40.409Z"
   },
   {
    "duration": 12,
    "start_time": "2022-05-15T10:55:41.315Z"
   },
   {
    "duration": 13,
    "start_time": "2022-05-15T10:55:41.330Z"
   },
   {
    "duration": 8,
    "start_time": "2022-05-15T10:55:41.345Z"
   },
   {
    "duration": 20,
    "start_time": "2022-05-15T10:55:41.355Z"
   },
   {
    "duration": 977,
    "start_time": "2022-05-15T10:55:41.377Z"
   },
   {
    "duration": 26,
    "start_time": "2022-05-15T10:55:42.357Z"
   },
   {
    "duration": 6,
    "start_time": "2022-05-15T10:55:42.385Z"
   },
   {
    "duration": 33,
    "start_time": "2022-05-15T10:55:42.394Z"
   },
   {
    "duration": 27,
    "start_time": "2022-05-15T10:55:42.429Z"
   },
   {
    "duration": 1372,
    "start_time": "2022-05-15T10:55:42.461Z"
   },
   {
    "duration": 3,
    "start_time": "2022-05-15T10:55:43.836Z"
   },
   {
    "duration": 7,
    "start_time": "2022-05-15T10:55:43.842Z"
   },
   {
    "duration": 14,
    "start_time": "2022-05-15T10:55:43.852Z"
   },
   {
    "duration": 12,
    "start_time": "2022-05-15T10:55:43.869Z"
   },
   {
    "duration": 9,
    "start_time": "2022-05-15T10:55:43.884Z"
   },
   {
    "duration": 7,
    "start_time": "2022-05-15T10:55:43.895Z"
   },
   {
    "duration": 120,
    "start_time": "2022-05-15T10:55:43.904Z"
   },
   {
    "duration": 6,
    "start_time": "2022-05-15T10:55:44.028Z"
   },
   {
    "duration": 398,
    "start_time": "2022-05-15T10:55:44.126Z"
   },
   {
    "duration": 98,
    "start_time": "2022-05-15T10:55:44.528Z"
   },
   {
    "duration": 18,
    "start_time": "2022-05-15T10:55:44.628Z"
   },
   {
    "duration": 201,
    "start_time": "2022-05-15T10:55:44.648Z"
   },
   {
    "duration": 2233,
    "start_time": "2022-05-15T10:56:52.880Z"
   },
   {
    "duration": 44,
    "start_time": "2022-05-15T10:56:55.116Z"
   },
   {
    "duration": 78,
    "start_time": "2022-05-15T10:56:55.163Z"
   },
   {
    "duration": 4,
    "start_time": "2022-05-15T10:56:55.244Z"
   },
   {
    "duration": 9,
    "start_time": "2022-05-15T10:56:55.250Z"
   },
   {
    "duration": 6,
    "start_time": "2022-05-15T10:56:55.261Z"
   },
   {
    "duration": 13,
    "start_time": "2022-05-15T10:56:55.269Z"
   },
   {
    "duration": 51,
    "start_time": "2022-05-15T10:56:55.284Z"
   },
   {
    "duration": 924,
    "start_time": "2022-05-15T10:56:55.337Z"
   },
   {
    "duration": 5,
    "start_time": "2022-05-15T10:56:56.265Z"
   },
   {
    "duration": 37,
    "start_time": "2022-05-15T10:56:56.272Z"
   },
   {
    "duration": 771,
    "start_time": "2022-05-15T10:56:56.312Z"
   },
   {
    "duration": 17,
    "start_time": "2022-05-15T10:56:57.085Z"
   },
   {
    "duration": 32,
    "start_time": "2022-05-15T10:56:57.104Z"
   },
   {
    "duration": 24,
    "start_time": "2022-05-15T10:56:57.138Z"
   },
   {
    "duration": 365,
    "start_time": "2022-05-15T10:56:57.164Z"
   },
   {
    "duration": 40,
    "start_time": "2022-05-15T10:56:57.531Z"
   },
   {
    "duration": 914,
    "start_time": "2022-05-15T10:56:57.574Z"
   },
   {
    "duration": 409,
    "start_time": "2022-05-15T10:56:58.490Z"
   },
   {
    "duration": 23,
    "start_time": "2022-05-15T10:56:58.901Z"
   },
   {
    "duration": 14,
    "start_time": "2022-05-15T10:56:58.927Z"
   },
   {
    "duration": 11,
    "start_time": "2022-05-15T10:56:58.944Z"
   },
   {
    "duration": 26,
    "start_time": "2022-05-15T10:56:58.957Z"
   },
   {
    "duration": 52,
    "start_time": "2022-05-15T10:56:58.985Z"
   },
   {
    "duration": 7,
    "start_time": "2022-05-15T10:56:59.039Z"
   },
   {
    "duration": 12,
    "start_time": "2022-05-15T10:56:59.048Z"
   },
   {
    "duration": 26,
    "start_time": "2022-05-15T10:56:59.062Z"
   },
   {
    "duration": 1472,
    "start_time": "2022-05-15T10:56:59.093Z"
   },
   {
    "duration": 3,
    "start_time": "2022-05-15T10:57:00.568Z"
   },
   {
    "duration": 16,
    "start_time": "2022-05-15T10:57:00.574Z"
   },
   {
    "duration": 26,
    "start_time": "2022-05-15T10:57:00.592Z"
   },
   {
    "duration": 17,
    "start_time": "2022-05-15T10:57:00.620Z"
   },
   {
    "duration": 17,
    "start_time": "2022-05-15T10:57:00.639Z"
   },
   {
    "duration": 21,
    "start_time": "2022-05-15T10:57:00.659Z"
   },
   {
    "duration": 41,
    "start_time": "2022-05-15T10:57:00.683Z"
   },
   {
    "duration": 194,
    "start_time": "2022-05-15T10:57:00.733Z"
   },
   {
    "duration": 298,
    "start_time": "2022-05-15T10:57:00.929Z"
   },
   {
    "duration": 101,
    "start_time": "2022-05-15T10:57:01.230Z"
   },
   {
    "duration": 21,
    "start_time": "2022-05-15T10:57:01.333Z"
   },
   {
    "duration": 199,
    "start_time": "2022-05-15T10:57:01.357Z"
   },
   {
    "duration": 27,
    "start_time": "2022-05-15T10:57:40.772Z"
   },
   {
    "duration": 725,
    "start_time": "2022-05-15T10:57:41.411Z"
   },
   {
    "duration": 4,
    "start_time": "2022-05-15T10:57:42.271Z"
   },
   {
    "duration": 2222,
    "start_time": "2022-05-15T10:57:50.481Z"
   },
   {
    "duration": 47,
    "start_time": "2022-05-15T10:57:52.706Z"
   },
   {
    "duration": 83,
    "start_time": "2022-05-15T10:57:52.755Z"
   },
   {
    "duration": 5,
    "start_time": "2022-05-15T10:57:52.842Z"
   },
   {
    "duration": 11,
    "start_time": "2022-05-15T10:57:52.850Z"
   },
   {
    "duration": 7,
    "start_time": "2022-05-15T10:57:52.864Z"
   },
   {
    "duration": 53,
    "start_time": "2022-05-15T10:57:52.873Z"
   },
   {
    "duration": 11,
    "start_time": "2022-05-15T10:57:52.928Z"
   },
   {
    "duration": 936,
    "start_time": "2022-05-15T10:57:52.941Z"
   },
   {
    "duration": 5,
    "start_time": "2022-05-15T10:57:53.881Z"
   },
   {
    "duration": 13,
    "start_time": "2022-05-15T10:57:53.889Z"
   },
   {
    "duration": 833,
    "start_time": "2022-05-15T10:57:53.905Z"
   },
   {
    "duration": 18,
    "start_time": "2022-05-15T10:57:54.741Z"
   },
   {
    "duration": 13,
    "start_time": "2022-05-15T10:57:54.761Z"
   },
   {
    "duration": 55,
    "start_time": "2022-05-15T10:57:54.777Z"
   },
   {
    "duration": 367,
    "start_time": "2022-05-15T10:57:54.834Z"
   },
   {
    "duration": 52,
    "start_time": "2022-05-15T10:57:55.203Z"
   },
   {
    "duration": 943,
    "start_time": "2022-05-15T10:57:55.258Z"
   },
   {
    "duration": 441,
    "start_time": "2022-05-15T10:57:56.204Z"
   },
   {
    "duration": 10,
    "start_time": "2022-05-15T10:57:56.648Z"
   },
   {
    "duration": 16,
    "start_time": "2022-05-15T10:57:56.660Z"
   },
   {
    "duration": 7,
    "start_time": "2022-05-15T10:57:56.678Z"
   },
   {
    "duration": 54,
    "start_time": "2022-05-15T10:57:56.687Z"
   },
   {
    "duration": 26,
    "start_time": "2022-05-15T10:57:56.743Z"
   },
   {
    "duration": 7,
    "start_time": "2022-05-15T10:57:56.771Z"
   },
   {
    "duration": 9,
    "start_time": "2022-05-15T10:57:56.780Z"
   },
   {
    "duration": 56,
    "start_time": "2022-05-15T10:57:56.791Z"
   },
   {
    "duration": 1480,
    "start_time": "2022-05-15T10:57:56.853Z"
   },
   {
    "duration": 5,
    "start_time": "2022-05-15T10:57:58.336Z"
   },
   {
    "duration": 10,
    "start_time": "2022-05-15T10:57:58.343Z"
   },
   {
    "duration": 13,
    "start_time": "2022-05-15T10:57:58.356Z"
   },
   {
    "duration": 15,
    "start_time": "2022-05-15T10:57:58.371Z"
   },
   {
    "duration": 10,
    "start_time": "2022-05-15T10:57:58.389Z"
   },
   {
    "duration": 4,
    "start_time": "2022-05-15T10:57:58.425Z"
   },
   {
    "duration": 99,
    "start_time": "2022-05-15T10:57:58.431Z"
   },
   {
    "duration": 10,
    "start_time": "2022-05-15T10:57:58.623Z"
   },
   {
    "duration": 298,
    "start_time": "2022-05-15T10:57:58.636Z"
   },
   {
    "duration": 100,
    "start_time": "2022-05-15T10:57:59.026Z"
   },
   {
    "duration": 18,
    "start_time": "2022-05-15T10:57:59.128Z"
   },
   {
    "duration": 204,
    "start_time": "2022-05-15T10:57:59.148Z"
   },
   {
    "duration": 2289,
    "start_time": "2022-05-15T11:00:12.646Z"
   },
   {
    "duration": 44,
    "start_time": "2022-05-15T11:00:14.938Z"
   },
   {
    "duration": 77,
    "start_time": "2022-05-15T11:00:14.984Z"
   },
   {
    "duration": 6,
    "start_time": "2022-05-15T11:00:15.064Z"
   },
   {
    "duration": 13,
    "start_time": "2022-05-15T11:00:15.073Z"
   },
   {
    "duration": 41,
    "start_time": "2022-05-15T11:00:15.089Z"
   },
   {
    "duration": 22,
    "start_time": "2022-05-15T11:00:15.132Z"
   },
   {
    "duration": 12,
    "start_time": "2022-05-15T11:00:15.156Z"
   },
   {
    "duration": 926,
    "start_time": "2022-05-15T11:00:15.170Z"
   },
   {
    "duration": 5,
    "start_time": "2022-05-15T11:00:16.100Z"
   },
   {
    "duration": 20,
    "start_time": "2022-05-15T11:00:16.107Z"
   },
   {
    "duration": 780,
    "start_time": "2022-05-15T11:00:16.130Z"
   },
   {
    "duration": 26,
    "start_time": "2022-05-15T11:00:16.912Z"
   },
   {
    "duration": 13,
    "start_time": "2022-05-15T11:00:16.940Z"
   },
   {
    "duration": 44,
    "start_time": "2022-05-15T11:00:16.955Z"
   },
   {
    "duration": 964,
    "start_time": "2022-05-15T11:00:17.001Z"
   },
   {
    "duration": 690,
    "start_time": "2022-05-15T11:00:17.967Z"
   },
   {
    "duration": 12,
    "start_time": "2022-05-15T11:00:18.660Z"
   },
   {
    "duration": 42,
    "start_time": "2022-05-15T11:00:18.675Z"
   },
   {
    "duration": 21,
    "start_time": "2022-05-15T11:00:18.719Z"
   },
   {
    "duration": 24,
    "start_time": "2022-05-15T11:00:18.743Z"
   },
   {
    "duration": 26,
    "start_time": "2022-05-15T11:00:18.769Z"
   },
   {
    "duration": 8,
    "start_time": "2022-05-15T11:00:18.797Z"
   },
   {
    "duration": 25,
    "start_time": "2022-05-15T11:00:18.807Z"
   },
   {
    "duration": 51,
    "start_time": "2022-05-15T11:00:18.835Z"
   },
   {
    "duration": 1556,
    "start_time": "2022-05-15T11:00:18.889Z"
   },
   {
    "duration": 3,
    "start_time": "2022-05-15T11:00:20.448Z"
   },
   {
    "duration": 10,
    "start_time": "2022-05-15T11:00:20.457Z"
   },
   {
    "duration": 23,
    "start_time": "2022-05-15T11:00:20.469Z"
   },
   {
    "duration": 18,
    "start_time": "2022-05-15T11:00:20.494Z"
   },
   {
    "duration": 28,
    "start_time": "2022-05-15T11:00:20.514Z"
   },
   {
    "duration": 22,
    "start_time": "2022-05-15T11:00:20.544Z"
   },
   {
    "duration": 56,
    "start_time": "2022-05-15T11:00:20.568Z"
   },
   {
    "duration": 99,
    "start_time": "2022-05-15T11:00:20.628Z"
   },
   {
    "duration": 501,
    "start_time": "2022-05-15T11:00:20.729Z"
   },
   {
    "duration": 97,
    "start_time": "2022-05-15T11:00:21.233Z"
   },
   {
    "duration": 96,
    "start_time": "2022-05-15T11:00:21.333Z"
   },
   {
    "duration": 184,
    "start_time": "2022-05-15T11:00:21.432Z"
   },
   {
    "duration": 560,
    "start_time": "2022-05-15T11:00:38.572Z"
   },
   {
    "duration": 28,
    "start_time": "2022-05-15T11:04:13.557Z"
   },
   {
    "duration": 714,
    "start_time": "2022-05-15T11:04:14.849Z"
   },
   {
    "duration": 2212,
    "start_time": "2022-05-15T11:04:22.405Z"
   },
   {
    "duration": 42,
    "start_time": "2022-05-15T11:04:24.620Z"
   },
   {
    "duration": 77,
    "start_time": "2022-05-15T11:04:24.664Z"
   },
   {
    "duration": 5,
    "start_time": "2022-05-15T11:04:24.744Z"
   },
   {
    "duration": 11,
    "start_time": "2022-05-15T11:04:24.751Z"
   },
   {
    "duration": 6,
    "start_time": "2022-05-15T11:04:24.765Z"
   },
   {
    "duration": 8,
    "start_time": "2022-05-15T11:04:24.773Z"
   },
   {
    "duration": 11,
    "start_time": "2022-05-15T11:04:24.824Z"
   },
   {
    "duration": 997,
    "start_time": "2022-05-15T11:04:24.837Z"
   },
   {
    "duration": 5,
    "start_time": "2022-05-15T11:04:25.838Z"
   },
   {
    "duration": 12,
    "start_time": "2022-05-15T11:04:25.845Z"
   },
   {
    "duration": 802,
    "start_time": "2022-05-15T11:04:25.859Z"
   },
   {
    "duration": 18,
    "start_time": "2022-05-15T11:04:26.664Z"
   },
   {
    "duration": 12,
    "start_time": "2022-05-15T11:04:26.685Z"
   },
   {
    "duration": 66,
    "start_time": "2022-05-15T11:04:26.699Z"
   },
   {
    "duration": 215,
    "start_time": "2022-05-15T11:04:26.767Z"
   },
   {
    "duration": 0,
    "start_time": "2022-05-15T11:04:26.985Z"
   },
   {
    "duration": 0,
    "start_time": "2022-05-15T11:04:26.987Z"
   },
   {
    "duration": 0,
    "start_time": "2022-05-15T11:04:26.989Z"
   },
   {
    "duration": 0,
    "start_time": "2022-05-15T11:04:26.991Z"
   },
   {
    "duration": 0,
    "start_time": "2022-05-15T11:04:26.992Z"
   },
   {
    "duration": 0,
    "start_time": "2022-05-15T11:04:26.994Z"
   },
   {
    "duration": 0,
    "start_time": "2022-05-15T11:04:26.995Z"
   },
   {
    "duration": 0,
    "start_time": "2022-05-15T11:04:26.997Z"
   },
   {
    "duration": 0,
    "start_time": "2022-05-15T11:04:27.025Z"
   },
   {
    "duration": 0,
    "start_time": "2022-05-15T11:04:27.027Z"
   },
   {
    "duration": 0,
    "start_time": "2022-05-15T11:04:27.028Z"
   },
   {
    "duration": 0,
    "start_time": "2022-05-15T11:04:27.030Z"
   },
   {
    "duration": 0,
    "start_time": "2022-05-15T11:04:27.031Z"
   },
   {
    "duration": 0,
    "start_time": "2022-05-15T11:04:27.033Z"
   },
   {
    "duration": 0,
    "start_time": "2022-05-15T11:04:27.034Z"
   },
   {
    "duration": 0,
    "start_time": "2022-05-15T11:04:27.036Z"
   },
   {
    "duration": 0,
    "start_time": "2022-05-15T11:04:27.038Z"
   },
   {
    "duration": 0,
    "start_time": "2022-05-15T11:04:27.039Z"
   },
   {
    "duration": 0,
    "start_time": "2022-05-15T11:04:27.041Z"
   },
   {
    "duration": 0,
    "start_time": "2022-05-15T11:04:27.042Z"
   },
   {
    "duration": 0,
    "start_time": "2022-05-15T11:04:27.044Z"
   },
   {
    "duration": 0,
    "start_time": "2022-05-15T11:04:27.046Z"
   },
   {
    "duration": 909,
    "start_time": "2022-05-15T11:05:01.126Z"
   },
   {
    "duration": 11,
    "start_time": "2022-05-15T11:05:34.874Z"
   },
   {
    "duration": 457,
    "start_time": "2022-05-15T11:05:35.960Z"
   },
   {
    "duration": 738,
    "start_time": "2022-05-15T11:06:10.877Z"
   },
   {
    "duration": 17,
    "start_time": "2022-05-15T11:06:46.056Z"
   },
   {
    "duration": 9,
    "start_time": "2022-05-15T11:06:51.177Z"
   },
   {
    "duration": 55,
    "start_time": "2022-05-15T11:06:53.526Z"
   },
   {
    "duration": 26,
    "start_time": "2022-05-15T11:06:55.037Z"
   },
   {
    "duration": 10,
    "start_time": "2022-05-15T11:07:31.880Z"
   },
   {
    "duration": 34,
    "start_time": "2022-05-15T11:07:32.582Z"
   },
   {
    "duration": 24,
    "start_time": "2022-05-15T11:07:33.698Z"
   },
   {
    "duration": 2303,
    "start_time": "2022-05-15T11:07:41.643Z"
   },
   {
    "duration": 43,
    "start_time": "2022-05-15T11:07:43.948Z"
   },
   {
    "duration": 68,
    "start_time": "2022-05-15T11:07:43.993Z"
   },
   {
    "duration": 5,
    "start_time": "2022-05-15T11:07:44.063Z"
   },
   {
    "duration": 59,
    "start_time": "2022-05-15T11:07:44.072Z"
   },
   {
    "duration": 13,
    "start_time": "2022-05-15T11:07:44.134Z"
   },
   {
    "duration": 23,
    "start_time": "2022-05-15T11:07:44.149Z"
   },
   {
    "duration": 36,
    "start_time": "2022-05-15T11:07:44.174Z"
   },
   {
    "duration": 886,
    "start_time": "2022-05-15T11:07:44.213Z"
   },
   {
    "duration": 5,
    "start_time": "2022-05-15T11:07:45.101Z"
   },
   {
    "duration": 24,
    "start_time": "2022-05-15T11:07:45.108Z"
   },
   {
    "duration": 1091,
    "start_time": "2022-05-15T11:07:45.134Z"
   },
   {
    "duration": 19,
    "start_time": "2022-05-15T11:07:46.228Z"
   },
   {
    "duration": 15,
    "start_time": "2022-05-15T11:07:46.255Z"
   },
   {
    "duration": 98,
    "start_time": "2022-05-15T11:07:46.273Z"
   },
   {
    "duration": 1115,
    "start_time": "2022-05-15T11:07:46.375Z"
   },
   {
    "duration": 11,
    "start_time": "2022-05-15T11:07:47.492Z"
   },
   {
    "duration": 658,
    "start_time": "2022-05-15T11:07:47.505Z"
   },
   {
    "duration": 12,
    "start_time": "2022-05-15T11:07:48.165Z"
   },
   {
    "duration": 19,
    "start_time": "2022-05-15T11:07:48.180Z"
   },
   {
    "duration": 28,
    "start_time": "2022-05-15T11:07:48.201Z"
   },
   {
    "duration": 23,
    "start_time": "2022-05-15T11:07:48.231Z"
   },
   {
    "duration": 26,
    "start_time": "2022-05-15T11:07:48.256Z"
   },
   {
    "duration": 6,
    "start_time": "2022-05-15T11:07:48.285Z"
   },
   {
    "duration": 35,
    "start_time": "2022-05-15T11:07:48.293Z"
   },
   {
    "duration": 24,
    "start_time": "2022-05-15T11:07:48.331Z"
   },
   {
    "duration": 1515,
    "start_time": "2022-05-15T11:07:48.358Z"
   },
   {
    "duration": 4,
    "start_time": "2022-05-15T11:07:49.876Z"
   },
   {
    "duration": 18,
    "start_time": "2022-05-15T11:07:49.882Z"
   },
   {
    "duration": 10,
    "start_time": "2022-05-15T11:07:49.903Z"
   },
   {
    "duration": 16,
    "start_time": "2022-05-15T11:07:49.916Z"
   },
   {
    "duration": 10,
    "start_time": "2022-05-15T11:07:49.934Z"
   },
   {
    "duration": 8,
    "start_time": "2022-05-15T11:07:49.946Z"
   },
   {
    "duration": 169,
    "start_time": "2022-05-15T11:07:49.956Z"
   },
   {
    "duration": 5,
    "start_time": "2022-05-15T11:07:50.128Z"
   },
   {
    "duration": 691,
    "start_time": "2022-05-15T11:07:50.135Z"
   },
   {
    "duration": 98,
    "start_time": "2022-05-15T11:07:50.831Z"
   },
   {
    "duration": 29,
    "start_time": "2022-05-15T11:07:50.931Z"
   },
   {
    "duration": 194,
    "start_time": "2022-05-15T11:07:50.962Z"
   },
   {
    "duration": 559,
    "start_time": "2022-05-15T11:09:41.485Z"
   },
   {
    "duration": 37,
    "start_time": "2022-05-15T11:10:05.636Z"
   },
   {
    "duration": 2242,
    "start_time": "2022-05-15T11:10:18.600Z"
   },
   {
    "duration": 43,
    "start_time": "2022-05-15T11:10:20.845Z"
   },
   {
    "duration": 95,
    "start_time": "2022-05-15T11:10:20.891Z"
   },
   {
    "duration": 40,
    "start_time": "2022-05-15T11:10:20.990Z"
   },
   {
    "duration": 11,
    "start_time": "2022-05-15T11:10:21.032Z"
   },
   {
    "duration": 16,
    "start_time": "2022-05-15T11:10:21.045Z"
   },
   {
    "duration": 28,
    "start_time": "2022-05-15T11:10:21.062Z"
   },
   {
    "duration": 12,
    "start_time": "2022-05-15T11:10:21.092Z"
   },
   {
    "duration": 911,
    "start_time": "2022-05-15T11:10:21.125Z"
   },
   {
    "duration": 5,
    "start_time": "2022-05-15T11:10:22.042Z"
   },
   {
    "duration": 17,
    "start_time": "2022-05-15T11:10:22.050Z"
   },
   {
    "duration": 1086,
    "start_time": "2022-05-15T11:10:22.070Z"
   },
   {
    "duration": 18,
    "start_time": "2022-05-15T11:10:23.158Z"
   },
   {
    "duration": 12,
    "start_time": "2022-05-15T11:10:23.179Z"
   },
   {
    "duration": 70,
    "start_time": "2022-05-15T11:10:23.193Z"
   },
   {
    "duration": 972,
    "start_time": "2022-05-15T11:10:23.265Z"
   },
   {
    "duration": 10,
    "start_time": "2022-05-15T11:10:24.240Z"
   },
   {
    "duration": 500,
    "start_time": "2022-05-15T11:10:24.253Z"
   },
   {
    "duration": 11,
    "start_time": "2022-05-15T11:10:24.756Z"
   },
   {
    "duration": 13,
    "start_time": "2022-05-15T11:10:24.770Z"
   },
   {
    "duration": 7,
    "start_time": "2022-05-15T11:10:24.786Z"
   },
   {
    "duration": 34,
    "start_time": "2022-05-15T11:10:24.795Z"
   },
   {
    "duration": 30,
    "start_time": "2022-05-15T11:10:24.832Z"
   },
   {
    "duration": 101,
    "start_time": "2022-05-15T11:10:24.864Z"
   },
   {
    "duration": 17,
    "start_time": "2022-05-15T11:10:24.968Z"
   },
   {
    "duration": 38,
    "start_time": "2022-05-15T11:10:24.987Z"
   },
   {
    "duration": 2057,
    "start_time": "2022-05-15T11:10:25.028Z"
   },
   {
    "duration": 3,
    "start_time": "2022-05-15T11:10:27.091Z"
   },
   {
    "duration": 31,
    "start_time": "2022-05-15T11:10:27.097Z"
   },
   {
    "duration": 16,
    "start_time": "2022-05-15T11:10:27.130Z"
   },
   {
    "duration": 14,
    "start_time": "2022-05-15T11:10:27.149Z"
   },
   {
    "duration": 8,
    "start_time": "2022-05-15T11:10:27.166Z"
   },
   {
    "duration": 7,
    "start_time": "2022-05-15T11:10:27.177Z"
   },
   {
    "duration": 148,
    "start_time": "2022-05-15T11:10:27.188Z"
   },
   {
    "duration": 87,
    "start_time": "2022-05-15T11:10:27.428Z"
   },
   {
    "duration": 608,
    "start_time": "2022-05-15T11:10:27.518Z"
   },
   {
    "duration": 98,
    "start_time": "2022-05-15T11:10:28.130Z"
   },
   {
    "duration": 20,
    "start_time": "2022-05-15T11:10:28.231Z"
   },
   {
    "duration": 202,
    "start_time": "2022-05-15T11:10:28.254Z"
   },
   {
    "duration": 2188,
    "start_time": "2022-05-15T13:58:39.239Z"
   },
   {
    "duration": 51,
    "start_time": "2022-05-15T13:58:41.431Z"
   },
   {
    "duration": 87,
    "start_time": "2022-05-15T13:58:41.484Z"
   },
   {
    "duration": 7,
    "start_time": "2022-05-15T13:58:41.573Z"
   },
   {
    "duration": 47,
    "start_time": "2022-05-15T13:58:41.583Z"
   },
   {
    "duration": 10,
    "start_time": "2022-05-15T13:58:41.633Z"
   },
   {
    "duration": 11,
    "start_time": "2022-05-15T13:58:41.645Z"
   },
   {
    "duration": 18,
    "start_time": "2022-05-15T13:58:41.659Z"
   },
   {
    "duration": 916,
    "start_time": "2022-05-15T13:58:41.680Z"
   },
   {
    "duration": 5,
    "start_time": "2022-05-15T13:58:42.598Z"
   },
   {
    "duration": 23,
    "start_time": "2022-05-15T13:58:42.605Z"
   },
   {
    "duration": 777,
    "start_time": "2022-05-15T13:58:42.630Z"
   },
   {
    "duration": 26,
    "start_time": "2022-05-15T13:58:43.409Z"
   },
   {
    "duration": 12,
    "start_time": "2022-05-15T13:58:43.439Z"
   },
   {
    "duration": 58,
    "start_time": "2022-05-15T13:58:43.453Z"
   },
   {
    "duration": 931,
    "start_time": "2022-05-15T13:58:43.513Z"
   },
   {
    "duration": 10,
    "start_time": "2022-05-15T13:58:44.446Z"
   },
   {
    "duration": 491,
    "start_time": "2022-05-15T13:58:44.458Z"
   },
   {
    "duration": 13,
    "start_time": "2022-05-15T13:58:44.952Z"
   },
   {
    "duration": 30,
    "start_time": "2022-05-15T13:58:44.967Z"
   },
   {
    "duration": 27,
    "start_time": "2022-05-15T13:58:44.999Z"
   },
   {
    "duration": 34,
    "start_time": "2022-05-15T13:58:45.028Z"
   },
   {
    "duration": 34,
    "start_time": "2022-05-15T13:58:45.064Z"
   },
   {
    "duration": 10,
    "start_time": "2022-05-15T13:58:45.100Z"
   },
   {
    "duration": 18,
    "start_time": "2022-05-15T13:58:45.113Z"
   },
   {
    "duration": 47,
    "start_time": "2022-05-15T13:58:45.133Z"
   },
   {
    "duration": 1561,
    "start_time": "2022-05-15T13:58:45.182Z"
   },
   {
    "duration": 3,
    "start_time": "2022-05-15T13:58:46.746Z"
   },
   {
    "duration": 9,
    "start_time": "2022-05-15T13:58:46.751Z"
   },
   {
    "duration": 14,
    "start_time": "2022-05-15T13:58:46.762Z"
   },
   {
    "duration": 8,
    "start_time": "2022-05-15T13:58:46.779Z"
   },
   {
    "duration": 38,
    "start_time": "2022-05-15T13:58:46.790Z"
   },
   {
    "duration": 5,
    "start_time": "2022-05-15T13:58:46.831Z"
   },
   {
    "duration": 22,
    "start_time": "2022-05-15T13:58:46.838Z"
   },
   {
    "duration": 98,
    "start_time": "2022-05-15T13:58:46.928Z"
   },
   {
    "duration": 504,
    "start_time": "2022-05-15T13:58:47.028Z"
   },
   {
    "duration": 9,
    "start_time": "2022-05-15T13:58:47.625Z"
   },
   {
    "duration": 4788,
    "start_time": "2022-05-15T13:58:47.636Z"
   },
   {
    "duration": 14,
    "start_time": "2022-05-15T13:58:52.427Z"
   },
   {
    "duration": 57,
    "start_time": "2022-05-15T13:58:52.443Z"
   },
   {
    "duration": 0,
    "start_time": "2022-05-15T13:58:52.502Z"
   },
   {
    "duration": 0,
    "start_time": "2022-05-15T13:58:52.504Z"
   },
   {
    "duration": 0,
    "start_time": "2022-05-15T13:58:52.505Z"
   },
   {
    "duration": 2249,
    "start_time": "2022-05-15T14:01:41.289Z"
   },
   {
    "duration": 42,
    "start_time": "2022-05-15T14:01:43.541Z"
   },
   {
    "duration": 75,
    "start_time": "2022-05-15T14:01:43.585Z"
   },
   {
    "duration": 5,
    "start_time": "2022-05-15T14:01:43.662Z"
   },
   {
    "duration": 10,
    "start_time": "2022-05-15T14:01:43.669Z"
   },
   {
    "duration": 5,
    "start_time": "2022-05-15T14:01:43.726Z"
   },
   {
    "duration": 10,
    "start_time": "2022-05-15T14:01:43.734Z"
   },
   {
    "duration": 14,
    "start_time": "2022-05-15T14:01:43.747Z"
   },
   {
    "duration": 1247,
    "start_time": "2022-05-15T14:01:43.763Z"
   },
   {
    "duration": 11,
    "start_time": "2022-05-15T14:01:45.015Z"
   },
   {
    "duration": 24,
    "start_time": "2022-05-15T14:01:45.029Z"
   },
   {
    "duration": 1093,
    "start_time": "2022-05-15T14:01:45.056Z"
   },
   {
    "duration": 18,
    "start_time": "2022-05-15T14:01:46.152Z"
   },
   {
    "duration": 13,
    "start_time": "2022-05-15T14:01:46.172Z"
   },
   {
    "duration": 71,
    "start_time": "2022-05-15T14:01:46.187Z"
   },
   {
    "duration": 950,
    "start_time": "2022-05-15T14:01:46.260Z"
   },
   {
    "duration": 19,
    "start_time": "2022-05-15T14:01:47.212Z"
   },
   {
    "duration": 476,
    "start_time": "2022-05-15T14:01:47.233Z"
   },
   {
    "duration": 13,
    "start_time": "2022-05-15T14:01:47.712Z"
   },
   {
    "duration": 15,
    "start_time": "2022-05-15T14:01:47.727Z"
   },
   {
    "duration": 12,
    "start_time": "2022-05-15T14:01:47.745Z"
   },
   {
    "duration": 23,
    "start_time": "2022-05-15T14:01:47.759Z"
   },
   {
    "duration": 53,
    "start_time": "2022-05-15T14:01:47.785Z"
   },
   {
    "duration": 7,
    "start_time": "2022-05-15T14:01:47.841Z"
   },
   {
    "duration": 6,
    "start_time": "2022-05-15T14:01:47.850Z"
   },
   {
    "duration": 28,
    "start_time": "2022-05-15T14:01:47.859Z"
   },
   {
    "duration": 1543,
    "start_time": "2022-05-15T14:01:47.926Z"
   },
   {
    "duration": 4,
    "start_time": "2022-05-15T14:01:49.473Z"
   },
   {
    "duration": 23,
    "start_time": "2022-05-15T14:01:49.480Z"
   },
   {
    "duration": 18,
    "start_time": "2022-05-15T14:01:49.506Z"
   },
   {
    "duration": 10,
    "start_time": "2022-05-15T14:01:49.528Z"
   },
   {
    "duration": 10,
    "start_time": "2022-05-15T14:01:49.541Z"
   },
   {
    "duration": 8,
    "start_time": "2022-05-15T14:01:49.554Z"
   },
   {
    "duration": 65,
    "start_time": "2022-05-15T14:01:49.565Z"
   },
   {
    "duration": 97,
    "start_time": "2022-05-15T14:01:49.634Z"
   },
   {
    "duration": 393,
    "start_time": "2022-05-15T14:01:49.734Z"
   },
   {
    "duration": 96,
    "start_time": "2022-05-15T14:01:50.130Z"
   },
   {
    "duration": 5756,
    "start_time": "2022-05-15T14:01:50.228Z"
   },
   {
    "duration": 15,
    "start_time": "2022-05-15T14:01:55.986Z"
   },
   {
    "duration": 208891,
    "start_time": "2022-05-15T14:01:56.003Z"
   },
   {
    "duration": 9,
    "start_time": "2022-05-15T14:05:24.896Z"
   },
   {
    "duration": 17,
    "start_time": "2022-05-15T14:05:24.907Z"
   },
   {
    "duration": 191,
    "start_time": "2022-05-15T14:05:24.927Z"
   },
   {
    "duration": 1604,
    "start_time": "2022-05-18T18:30:37.103Z"
   },
   {
    "duration": 28,
    "start_time": "2022-05-18T18:31:10.757Z"
   },
   {
    "duration": 11,
    "start_time": "2022-05-18T18:31:13.371Z"
   },
   {
    "duration": 10,
    "start_time": "2022-05-18T18:31:13.965Z"
   },
   {
    "duration": 40,
    "start_time": "2022-05-18T18:31:16.470Z"
   },
   {
    "duration": 1812,
    "start_time": "2022-05-18T18:31:17.819Z"
   },
   {
    "duration": 3,
    "start_time": "2022-05-18T18:31:19.633Z"
   },
   {
    "duration": 7,
    "start_time": "2022-05-18T18:31:19.638Z"
   },
   {
    "duration": 10,
    "start_time": "2022-05-18T18:31:20.413Z"
   },
   {
    "duration": 4,
    "start_time": "2022-05-18T18:31:20.952Z"
   },
   {
    "duration": 10,
    "start_time": "2022-05-18T18:31:21.660Z"
   },
   {
    "duration": 12,
    "start_time": "2022-05-18T18:31:22.189Z"
   },
   {
    "duration": 8,
    "start_time": "2022-05-18T18:31:22.681Z"
   },
   {
    "duration": 406,
    "start_time": "2022-05-18T18:31:24.217Z"
   },
   {
    "duration": 4,
    "start_time": "2022-05-18T18:31:25.724Z"
   },
   {
    "duration": 6,
    "start_time": "2022-05-18T18:31:26.387Z"
   },
   {
    "duration": 532,
    "start_time": "2022-05-18T18:31:26.797Z"
   },
   {
    "duration": 12,
    "start_time": "2022-05-18T18:31:27.365Z"
   },
   {
    "duration": 9,
    "start_time": "2022-05-18T18:58:27.850Z"
   },
   {
    "duration": 11,
    "start_time": "2022-05-18T18:58:29.279Z"
   },
   {
    "duration": 9,
    "start_time": "2022-05-18T18:58:29.919Z"
   },
   {
    "duration": 8,
    "start_time": "2022-05-18T18:58:30.985Z"
   },
   {
    "duration": 266,
    "start_time": "2022-05-18T18:58:32.587Z"
   },
   {
    "duration": 793,
    "start_time": "2022-05-18T18:58:36.672Z"
   },
   {
    "duration": 2059,
    "start_time": "2022-05-18T18:58:40.089Z"
   },
   {
    "duration": 5,
    "start_time": "2022-05-18T18:58:42.150Z"
   },
   {
    "duration": 252,
    "start_time": "2022-05-18T18:58:42.157Z"
   },
   {
    "duration": 11,
    "start_time": "2022-05-18T18:58:42.411Z"
   },
   {
    "duration": 4,
    "start_time": "2022-05-18T18:58:46.685Z"
   },
   {
    "duration": 20,
    "start_time": "2022-05-18T18:58:48.243Z"
   },
   {
    "duration": 7,
    "start_time": "2022-05-18T18:58:48.787Z"
   },
   {
    "duration": 8,
    "start_time": "2022-05-18T18:58:50.541Z"
   },
   {
    "duration": 4,
    "start_time": "2022-05-18T18:58:52.423Z"
   },
   {
    "duration": 4,
    "start_time": "2022-05-18T18:58:53.663Z"
   },
   {
    "duration": 5,
    "start_time": "2022-05-18T18:58:54.571Z"
   },
   {
    "duration": 3,
    "start_time": "2022-05-18T18:58:55.218Z"
   },
   {
    "duration": 497,
    "start_time": "2022-05-18T18:58:57.906Z"
   },
   {
    "duration": 3812,
    "start_time": "2022-05-18T18:58:59.675Z"
   },
   {
    "duration": 8,
    "start_time": "2022-05-18T18:59:03.495Z"
   },
   {
    "duration": 65,
    "start_time": "2022-05-20T09:58:50.228Z"
   },
   {
    "duration": 1626,
    "start_time": "2022-05-20T09:59:12.769Z"
   },
   {
    "duration": 145,
    "start_time": "2022-05-20T09:59:14.397Z"
   },
   {
    "duration": 13,
    "start_time": "2022-05-20T09:59:14.543Z"
   },
   {
    "duration": 12,
    "start_time": "2022-05-20T09:59:14.558Z"
   },
   {
    "duration": 25,
    "start_time": "2022-05-20T09:59:14.573Z"
   },
   {
    "duration": 45,
    "start_time": "2022-05-20T09:59:14.600Z"
   },
   {
    "duration": 3,
    "start_time": "2022-05-20T09:59:14.647Z"
   },
   {
    "duration": 6,
    "start_time": "2022-05-20T09:59:14.652Z"
   },
   {
    "duration": 9,
    "start_time": "2022-05-20T09:59:14.660Z"
   },
   {
    "duration": 48,
    "start_time": "2022-05-20T09:59:14.670Z"
   },
   {
    "duration": 13,
    "start_time": "2022-05-20T09:59:14.719Z"
   },
   {
    "duration": 8,
    "start_time": "2022-05-20T09:59:14.734Z"
   },
   {
    "duration": 504,
    "start_time": "2022-05-20T09:59:14.744Z"
   },
   {
    "duration": 4,
    "start_time": "2022-05-20T09:59:15.251Z"
   },
   {
    "duration": 16,
    "start_time": "2022-05-20T09:59:15.257Z"
   },
   {
    "duration": 8,
    "start_time": "2022-05-20T09:59:15.275Z"
   },
   {
    "duration": 32,
    "start_time": "2022-05-20T09:59:15.284Z"
   },
   {
    "duration": 9,
    "start_time": "2022-05-20T09:59:15.318Z"
   },
   {
    "duration": 1251,
    "start_time": "2022-05-20T09:59:15.329Z"
   },
   {
    "duration": 8,
    "start_time": "2022-05-20T09:59:16.582Z"
   },
   {
    "duration": 22,
    "start_time": "2022-05-20T09:59:16.591Z"
   },
   {
    "duration": 476,
    "start_time": "2022-05-20T09:59:16.615Z"
   },
   {
    "duration": 19,
    "start_time": "2022-05-20T09:59:17.093Z"
   },
   {
    "duration": 6,
    "start_time": "2022-05-20T09:59:17.114Z"
   },
   {
    "duration": 12,
    "start_time": "2022-05-20T09:59:17.122Z"
   },
   {
    "duration": 9,
    "start_time": "2022-05-20T09:59:17.136Z"
   },
   {
    "duration": 7,
    "start_time": "2022-05-20T09:59:17.147Z"
   },
   {
    "duration": 230,
    "start_time": "2022-05-20T09:59:17.155Z"
   },
   {
    "duration": 819,
    "start_time": "2022-05-20T09:59:17.387Z"
   },
   {
    "duration": 818,
    "start_time": "2022-05-20T09:59:18.208Z"
   },
   {
    "duration": 6,
    "start_time": "2022-05-20T09:59:19.028Z"
   },
   {
    "duration": 294,
    "start_time": "2022-05-20T09:59:19.036Z"
   },
   {
    "duration": 9,
    "start_time": "2022-05-20T09:59:19.331Z"
   },
   {
    "duration": 28,
    "start_time": "2022-05-20T09:59:19.341Z"
   },
   {
    "duration": 20,
    "start_time": "2022-05-20T09:59:19.370Z"
   },
   {
    "duration": 34,
    "start_time": "2022-05-20T09:59:19.391Z"
   },
   {
    "duration": 17,
    "start_time": "2022-05-20T09:59:19.427Z"
   },
   {
    "duration": 46,
    "start_time": "2022-05-20T09:59:19.446Z"
   },
   {
    "duration": 25,
    "start_time": "2022-05-20T09:59:19.494Z"
   },
   {
    "duration": 16,
    "start_time": "2022-05-20T09:59:19.521Z"
   },
   {
    "duration": 21,
    "start_time": "2022-05-20T09:59:19.541Z"
   },
   {
    "duration": 15,
    "start_time": "2022-05-20T09:59:19.564Z"
   },
   {
    "duration": 139,
    "start_time": "2022-05-20T09:59:19.581Z"
   },
   {
    "duration": 2335,
    "start_time": "2022-05-20T09:59:19.722Z"
   },
   {
    "duration": 9,
    "start_time": "2022-05-20T09:59:22.058Z"
   },
   {
    "duration": 63,
    "start_time": "2022-05-29T15:21:19.537Z"
   },
   {
    "duration": 3479,
    "start_time": "2022-05-29T15:21:22.876Z"
   },
   {
    "duration": 3237,
    "start_time": "2022-05-29T15:21:26.356Z"
   },
   {
    "duration": 740,
    "start_time": "2022-05-29T15:22:48.760Z"
   },
   {
    "duration": 1818,
    "start_time": "2022-05-29T15:28:39.663Z"
   },
   {
    "duration": 1132,
    "start_time": "2022-05-29T15:28:49.181Z"
   },
   {
    "duration": 5,
    "start_time": "2022-05-29T15:28:53.723Z"
   },
   {
    "duration": 39,
    "start_time": "2022-05-29T20:32:39.793Z"
   },
   {
    "duration": 2070,
    "start_time": "2022-05-29T20:32:48.758Z"
   },
   {
    "duration": 136,
    "start_time": "2022-05-29T20:32:50.830Z"
   },
   {
    "duration": 0,
    "start_time": "2022-05-29T20:32:50.971Z"
   },
   {
    "duration": 0,
    "start_time": "2022-05-29T20:32:50.972Z"
   },
   {
    "duration": 0,
    "start_time": "2022-05-29T20:32:50.974Z"
   },
   {
    "duration": 0,
    "start_time": "2022-05-29T20:32:50.975Z"
   },
   {
    "duration": 0,
    "start_time": "2022-05-29T20:32:50.976Z"
   },
   {
    "duration": 0,
    "start_time": "2022-05-29T20:32:50.977Z"
   },
   {
    "duration": 0,
    "start_time": "2022-05-29T20:32:50.978Z"
   },
   {
    "duration": 0,
    "start_time": "2022-05-29T20:32:50.980Z"
   },
   {
    "duration": 0,
    "start_time": "2022-05-29T20:32:50.981Z"
   },
   {
    "duration": 0,
    "start_time": "2022-05-29T20:32:50.982Z"
   },
   {
    "duration": 0,
    "start_time": "2022-05-29T20:32:50.984Z"
   },
   {
    "duration": 0,
    "start_time": "2022-05-29T20:32:50.985Z"
   },
   {
    "duration": 0,
    "start_time": "2022-05-29T20:32:50.986Z"
   },
   {
    "duration": 0,
    "start_time": "2022-05-29T20:32:50.987Z"
   },
   {
    "duration": 0,
    "start_time": "2022-05-29T20:32:50.988Z"
   },
   {
    "duration": 0,
    "start_time": "2022-05-29T20:32:50.989Z"
   },
   {
    "duration": 0,
    "start_time": "2022-05-29T20:32:50.990Z"
   },
   {
    "duration": 0,
    "start_time": "2022-05-29T20:32:50.991Z"
   },
   {
    "duration": 0,
    "start_time": "2022-05-29T20:32:50.992Z"
   },
   {
    "duration": 0,
    "start_time": "2022-05-29T20:32:50.994Z"
   },
   {
    "duration": 0,
    "start_time": "2022-05-29T20:32:50.995Z"
   },
   {
    "duration": 0,
    "start_time": "2022-05-29T20:32:50.996Z"
   },
   {
    "duration": 0,
    "start_time": "2022-05-29T20:32:51.042Z"
   },
   {
    "duration": 0,
    "start_time": "2022-05-29T20:32:51.043Z"
   },
   {
    "duration": 0,
    "start_time": "2022-05-29T20:32:51.045Z"
   },
   {
    "duration": 0,
    "start_time": "2022-05-29T20:32:51.046Z"
   },
   {
    "duration": 0,
    "start_time": "2022-05-29T20:32:51.047Z"
   },
   {
    "duration": 0,
    "start_time": "2022-05-29T20:32:51.048Z"
   },
   {
    "duration": 0,
    "start_time": "2022-05-29T20:32:51.049Z"
   },
   {
    "duration": 0,
    "start_time": "2022-05-29T20:32:51.050Z"
   },
   {
    "duration": 0,
    "start_time": "2022-05-29T20:32:51.051Z"
   },
   {
    "duration": 0,
    "start_time": "2022-05-29T20:32:51.052Z"
   },
   {
    "duration": 0,
    "start_time": "2022-05-29T20:32:51.054Z"
   },
   {
    "duration": 0,
    "start_time": "2022-05-29T20:32:51.055Z"
   },
   {
    "duration": 0,
    "start_time": "2022-05-29T20:32:51.056Z"
   },
   {
    "duration": 0,
    "start_time": "2022-05-29T20:32:51.057Z"
   },
   {
    "duration": 0,
    "start_time": "2022-05-29T20:32:51.059Z"
   },
   {
    "duration": 0,
    "start_time": "2022-05-29T20:32:51.060Z"
   },
   {
    "duration": 0,
    "start_time": "2022-05-29T20:32:51.062Z"
   },
   {
    "duration": 0,
    "start_time": "2022-05-29T20:32:51.063Z"
   },
   {
    "duration": 0,
    "start_time": "2022-05-29T20:32:51.065Z"
   },
   {
    "duration": 0,
    "start_time": "2022-05-29T20:32:51.066Z"
   },
   {
    "duration": 0,
    "start_time": "2022-05-29T20:32:51.068Z"
   },
   {
    "duration": 0,
    "start_time": "2022-05-29T20:32:51.069Z"
   },
   {
    "duration": 0,
    "start_time": "2022-05-29T20:32:51.071Z"
   },
   {
    "duration": 0,
    "start_time": "2022-05-29T20:32:51.072Z"
   },
   {
    "duration": 0,
    "start_time": "2022-05-29T20:32:51.074Z"
   },
   {
    "duration": 0,
    "start_time": "2022-05-29T20:32:51.075Z"
   },
   {
    "duration": 0,
    "start_time": "2022-05-29T20:32:51.077Z"
   },
   {
    "duration": 0,
    "start_time": "2022-05-29T20:32:51.078Z"
   },
   {
    "duration": 0,
    "start_time": "2022-05-29T20:32:51.142Z"
   },
   {
    "duration": 0,
    "start_time": "2022-05-29T20:32:51.144Z"
   },
   {
    "duration": 0,
    "start_time": "2022-05-29T20:32:51.145Z"
   },
   {
    "duration": 0,
    "start_time": "2022-05-29T20:32:51.146Z"
   },
   {
    "duration": 0,
    "start_time": "2022-05-29T20:32:51.148Z"
   },
   {
    "duration": 0,
    "start_time": "2022-05-29T20:32:51.149Z"
   },
   {
    "duration": 0,
    "start_time": "2022-05-29T20:32:51.151Z"
   },
   {
    "duration": 0,
    "start_time": "2022-05-29T20:32:51.152Z"
   },
   {
    "duration": 0,
    "start_time": "2022-05-29T20:32:51.154Z"
   },
   {
    "duration": 0,
    "start_time": "2022-05-29T20:32:51.155Z"
   },
   {
    "duration": 0,
    "start_time": "2022-05-29T20:32:51.157Z"
   },
   {
    "duration": 0,
    "start_time": "2022-05-29T20:32:51.158Z"
   },
   {
    "duration": 0,
    "start_time": "2022-05-29T20:32:51.160Z"
   },
   {
    "duration": 0,
    "start_time": "2022-05-29T20:32:51.161Z"
   },
   {
    "duration": 0,
    "start_time": "2022-05-29T20:32:51.162Z"
   },
   {
    "duration": 3400,
    "start_time": "2022-05-29T20:34:15.239Z"
   },
   {
    "duration": 418,
    "start_time": "2022-05-29T20:34:25.458Z"
   },
   {
    "duration": 833,
    "start_time": "2022-05-29T20:38:29.860Z"
   },
   {
    "duration": 807,
    "start_time": "2022-05-29T20:38:51.461Z"
   },
   {
    "duration": 345,
    "start_time": "2022-05-29T20:38:56.619Z"
   },
   {
    "duration": 768,
    "start_time": "2022-05-29T20:39:24.949Z"
   },
   {
    "duration": 322,
    "start_time": "2022-05-29T20:39:30.862Z"
   },
   {
    "duration": 768,
    "start_time": "2022-05-29T20:40:04.145Z"
   },
   {
    "duration": 314,
    "start_time": "2022-05-29T20:40:11.378Z"
   },
   {
    "duration": 44,
    "start_time": "2022-05-29T20:40:49.038Z"
   },
   {
    "duration": 36,
    "start_time": "2022-05-29T20:41:23.666Z"
   },
   {
    "duration": 50,
    "start_time": "2022-05-29T20:41:32.398Z"
   },
   {
    "duration": 293,
    "start_time": "2022-05-29T20:42:02.439Z"
   },
   {
    "duration": 33,
    "start_time": "2022-05-29T20:45:13.830Z"
   },
   {
    "duration": 37,
    "start_time": "2022-05-29T20:45:17.781Z"
   },
   {
    "duration": 40,
    "start_time": "2022-05-29T20:46:46.866Z"
   },
   {
    "duration": 4,
    "start_time": "2022-05-29T20:47:58.717Z"
   },
   {
    "duration": 35,
    "start_time": "2022-05-29T20:48:54.348Z"
   },
   {
    "duration": 59,
    "start_time": "2022-05-29T20:49:13.384Z"
   },
   {
    "duration": 34,
    "start_time": "2022-05-29T20:49:26.196Z"
   },
   {
    "duration": 34,
    "start_time": "2022-05-29T20:49:50.022Z"
   },
   {
    "duration": 37,
    "start_time": "2022-05-29T20:50:03.935Z"
   },
   {
    "duration": 37,
    "start_time": "2022-05-29T20:51:13.475Z"
   },
   {
    "duration": 37,
    "start_time": "2022-05-29T20:51:19.835Z"
   },
   {
    "duration": 42,
    "start_time": "2022-05-29T20:55:09.716Z"
   },
   {
    "duration": 37,
    "start_time": "2022-05-29T20:56:12.236Z"
   },
   {
    "duration": 34,
    "start_time": "2022-05-29T21:00:43.499Z"
   },
   {
    "duration": 34,
    "start_time": "2022-05-29T21:00:47.832Z"
   },
   {
    "duration": 34,
    "start_time": "2022-05-29T21:01:01.675Z"
   },
   {
    "duration": 819,
    "start_time": "2022-05-29T21:01:21.638Z"
   },
   {
    "duration": 36,
    "start_time": "2022-05-29T21:01:46.513Z"
   },
   {
    "duration": 55,
    "start_time": "2022-05-29T21:01:58.229Z"
   },
   {
    "duration": 35,
    "start_time": "2022-05-29T21:02:20.596Z"
   },
   {
    "duration": 850,
    "start_time": "2022-05-29T21:02:25.674Z"
   },
   {
    "duration": 36,
    "start_time": "2022-05-29T21:06:37.218Z"
   },
   {
    "duration": 819,
    "start_time": "2022-05-29T21:06:43.977Z"
   },
   {
    "duration": 3274,
    "start_time": "2022-05-31T11:56:59.042Z"
   },
   {
    "duration": 17189,
    "start_time": "2022-05-31T11:57:05.676Z"
   },
   {
    "duration": 5,
    "start_time": "2022-05-31T11:57:22.868Z"
   },
   {
    "duration": 178,
    "start_time": "2022-05-31T11:57:33.421Z"
   },
   {
    "duration": 7,
    "start_time": "2022-05-31T11:57:41.659Z"
   },
   {
    "duration": 15,
    "start_time": "2022-05-31T11:57:45.454Z"
   }
  ],
  "accelerator": "GPU",
  "colab": {
   "collapsed_sections": [
    "ArFtUGGAwUlt"
   ],
   "name": "fe3663ac-1d5f-458d-8d89-2df09be50987.ipynb",
   "provenance": []
  },
  "kernelspec": {
   "display_name": "Python 3 (ipykernel)",
   "language": "python",
   "name": "python3"
  },
  "language_info": {
   "codemirror_mode": {
    "name": "ipython",
    "version": 3
   },
   "file_extension": ".py",
   "mimetype": "text/x-python",
   "name": "python",
   "nbconvert_exporter": "python",
   "pygments_lexer": "ipython3",
   "version": "3.9.12"
  },
  "toc": {
   "base_numbering": 1,
   "nav_menu": {},
   "number_sections": true,
   "sideBar": true,
   "skip_h1_title": true,
   "title_cell": "Содержание",
   "title_sidebar": "Contents",
   "toc_cell": false,
   "toc_position": {},
   "toc_section_display": true,
   "toc_window_display": false
  },
  "widgets": {
   "application/vnd.jupyter.widget-state+json": {
    "06d840352f0e43389c0647cb494764a3": {
     "model_module": "@jupyter-widgets/controls",
     "model_module_version": "1.5.0",
     "model_name": "ProgressStyleModel",
     "state": {
      "_model_module": "@jupyter-widgets/controls",
      "_model_module_version": "1.5.0",
      "_model_name": "ProgressStyleModel",
      "_view_count": null,
      "_view_module": "@jupyter-widgets/base",
      "_view_module_version": "1.2.0",
      "_view_name": "StyleView",
      "bar_color": null,
      "description_width": ""
     }
    },
    "078349fddd0d4d43a8d0f1c911080b26": {
     "model_module": "@jupyter-widgets/base",
     "model_module_version": "1.2.0",
     "model_name": "LayoutModel",
     "state": {
      "_model_module": "@jupyter-widgets/base",
      "_model_module_version": "1.2.0",
      "_model_name": "LayoutModel",
      "_view_count": null,
      "_view_module": "@jupyter-widgets/base",
      "_view_module_version": "1.2.0",
      "_view_name": "LayoutView",
      "align_content": null,
      "align_items": null,
      "align_self": null,
      "border": null,
      "bottom": null,
      "display": null,
      "flex": null,
      "flex_flow": null,
      "grid_area": null,
      "grid_auto_columns": null,
      "grid_auto_flow": null,
      "grid_auto_rows": null,
      "grid_column": null,
      "grid_gap": null,
      "grid_row": null,
      "grid_template_areas": null,
      "grid_template_columns": null,
      "grid_template_rows": null,
      "height": null,
      "justify_content": null,
      "justify_items": null,
      "left": null,
      "margin": null,
      "max_height": null,
      "max_width": null,
      "min_height": null,
      "min_width": null,
      "object_fit": null,
      "object_position": null,
      "order": null,
      "overflow": null,
      "overflow_x": null,
      "overflow_y": null,
      "padding": null,
      "right": null,
      "top": null,
      "visibility": null,
      "width": null
     }
    },
    "1a1d715b8cf74e83bfbf833a0650353b": {
     "model_module": "@jupyter-widgets/base",
     "model_module_version": "1.2.0",
     "model_name": "LayoutModel",
     "state": {
      "_model_module": "@jupyter-widgets/base",
      "_model_module_version": "1.2.0",
      "_model_name": "LayoutModel",
      "_view_count": null,
      "_view_module": "@jupyter-widgets/base",
      "_view_module_version": "1.2.0",
      "_view_name": "LayoutView",
      "align_content": null,
      "align_items": null,
      "align_self": null,
      "border": null,
      "bottom": null,
      "display": null,
      "flex": null,
      "flex_flow": null,
      "grid_area": null,
      "grid_auto_columns": null,
      "grid_auto_flow": null,
      "grid_auto_rows": null,
      "grid_column": null,
      "grid_gap": null,
      "grid_row": null,
      "grid_template_areas": null,
      "grid_template_columns": null,
      "grid_template_rows": null,
      "height": null,
      "justify_content": null,
      "justify_items": null,
      "left": null,
      "margin": null,
      "max_height": null,
      "max_width": null,
      "min_height": null,
      "min_width": null,
      "object_fit": null,
      "object_position": null,
      "order": null,
      "overflow": null,
      "overflow_x": null,
      "overflow_y": null,
      "padding": null,
      "right": null,
      "top": null,
      "visibility": null,
      "width": null
     }
    },
    "27b5fb0193dd4106ab942785d10b331a": {
     "model_module": "@jupyter-widgets/controls",
     "model_module_version": "1.5.0",
     "model_name": "DescriptionStyleModel",
     "state": {
      "_model_module": "@jupyter-widgets/controls",
      "_model_module_version": "1.5.0",
      "_model_name": "DescriptionStyleModel",
      "_view_count": null,
      "_view_module": "@jupyter-widgets/base",
      "_view_module_version": "1.2.0",
      "_view_name": "StyleView",
      "description_width": ""
     }
    },
    "329dacbddb704956951b7bb4bac52cff": {
     "model_module": "@jupyter-widgets/controls",
     "model_module_version": "1.5.0",
     "model_name": "DescriptionStyleModel",
     "state": {
      "_model_module": "@jupyter-widgets/controls",
      "_model_module_version": "1.5.0",
      "_model_name": "DescriptionStyleModel",
      "_view_count": null,
      "_view_module": "@jupyter-widgets/base",
      "_view_module_version": "1.2.0",
      "_view_name": "StyleView",
      "description_width": ""
     }
    },
    "3b985ddaa1d545b5bb0a0ca6a6ee47c8": {
     "model_module": "@jupyter-widgets/controls",
     "model_module_version": "1.5.0",
     "model_name": "HTMLModel",
     "state": {
      "_dom_classes": [],
      "_model_module": "@jupyter-widgets/controls",
      "_model_module_version": "1.5.0",
      "_model_name": "HTMLModel",
      "_view_count": null,
      "_view_module": "@jupyter-widgets/controls",
      "_view_module_version": "1.5.0",
      "_view_name": "HTMLView",
      "description": "",
      "description_tooltip": null,
      "layout": "IPY_MODEL_1a1d715b8cf74e83bfbf833a0650353b",
      "placeholder": "​",
      "style": "IPY_MODEL_27b5fb0193dd4106ab942785d10b331a",
      "value": "100%"
     }
    },
    "6be000f2e2c747d48b3fe5579b409cee": {
     "model_module": "@jupyter-widgets/controls",
     "model_module_version": "1.5.0",
     "model_name": "HBoxModel",
     "state": {
      "_dom_classes": [],
      "_model_module": "@jupyter-widgets/controls",
      "_model_module_version": "1.5.0",
      "_model_name": "HBoxModel",
      "_view_count": null,
      "_view_module": "@jupyter-widgets/controls",
      "_view_module_version": "1.5.0",
      "_view_name": "HBoxView",
      "box_style": "",
      "children": [
       "IPY_MODEL_3b985ddaa1d545b5bb0a0ca6a6ee47c8",
       "IPY_MODEL_745031091ee9429d82876c41c4af7839",
       "IPY_MODEL_e204dad725704fc0b220a2b1854ab412"
      ],
      "layout": "IPY_MODEL_d1252730f7034b1d9b7dea32a34dc0d5"
     }
    },
    "745031091ee9429d82876c41c4af7839": {
     "model_module": "@jupyter-widgets/controls",
     "model_module_version": "1.5.0",
     "model_name": "FloatProgressModel",
     "state": {
      "_dom_classes": [],
      "_model_module": "@jupyter-widgets/controls",
      "_model_module_version": "1.5.0",
      "_model_name": "FloatProgressModel",
      "_view_count": null,
      "_view_module": "@jupyter-widgets/controls",
      "_view_module_version": "1.5.0",
      "_view_name": "ProgressView",
      "bar_style": "success",
      "description": "",
      "description_tooltip": null,
      "layout": "IPY_MODEL_078349fddd0d4d43a8d0f1c911080b26",
      "max": 70,
      "min": 0,
      "orientation": "horizontal",
      "style": "IPY_MODEL_06d840352f0e43389c0647cb494764a3",
      "value": 70
     }
    },
    "d1252730f7034b1d9b7dea32a34dc0d5": {
     "model_module": "@jupyter-widgets/base",
     "model_module_version": "1.2.0",
     "model_name": "LayoutModel",
     "state": {
      "_model_module": "@jupyter-widgets/base",
      "_model_module_version": "1.2.0",
      "_model_name": "LayoutModel",
      "_view_count": null,
      "_view_module": "@jupyter-widgets/base",
      "_view_module_version": "1.2.0",
      "_view_name": "LayoutView",
      "align_content": null,
      "align_items": null,
      "align_self": null,
      "border": null,
      "bottom": null,
      "display": null,
      "flex": null,
      "flex_flow": null,
      "grid_area": null,
      "grid_auto_columns": null,
      "grid_auto_flow": null,
      "grid_auto_rows": null,
      "grid_column": null,
      "grid_gap": null,
      "grid_row": null,
      "grid_template_areas": null,
      "grid_template_columns": null,
      "grid_template_rows": null,
      "height": null,
      "justify_content": null,
      "justify_items": null,
      "left": null,
      "margin": null,
      "max_height": null,
      "max_width": null,
      "min_height": null,
      "min_width": null,
      "object_fit": null,
      "object_position": null,
      "order": null,
      "overflow": null,
      "overflow_x": null,
      "overflow_y": null,
      "padding": null,
      "right": null,
      "top": null,
      "visibility": null,
      "width": null
     }
    },
    "e204dad725704fc0b220a2b1854ab412": {
     "model_module": "@jupyter-widgets/controls",
     "model_module_version": "1.5.0",
     "model_name": "HTMLModel",
     "state": {
      "_dom_classes": [],
      "_model_module": "@jupyter-widgets/controls",
      "_model_module_version": "1.5.0",
      "_model_name": "HTMLModel",
      "_view_count": null,
      "_view_module": "@jupyter-widgets/controls",
      "_view_module_version": "1.5.0",
      "_view_name": "HTMLView",
      "description": "",
      "description_tooltip": null,
      "layout": "IPY_MODEL_e240821d0b2f432294666746717587a1",
      "placeholder": "​",
      "style": "IPY_MODEL_329dacbddb704956951b7bb4bac52cff",
      "value": " 70/70 [10:20&lt;00:00,  8.35s/it]"
     }
    },
    "e240821d0b2f432294666746717587a1": {
     "model_module": "@jupyter-widgets/base",
     "model_module_version": "1.2.0",
     "model_name": "LayoutModel",
     "state": {
      "_model_module": "@jupyter-widgets/base",
      "_model_module_version": "1.2.0",
      "_model_name": "LayoutModel",
      "_view_count": null,
      "_view_module": "@jupyter-widgets/base",
      "_view_module_version": "1.2.0",
      "_view_name": "LayoutView",
      "align_content": null,
      "align_items": null,
      "align_self": null,
      "border": null,
      "bottom": null,
      "display": null,
      "flex": null,
      "flex_flow": null,
      "grid_area": null,
      "grid_auto_columns": null,
      "grid_auto_flow": null,
      "grid_auto_rows": null,
      "grid_column": null,
      "grid_gap": null,
      "grid_row": null,
      "grid_template_areas": null,
      "grid_template_columns": null,
      "grid_template_rows": null,
      "height": null,
      "justify_content": null,
      "justify_items": null,
      "left": null,
      "margin": null,
      "max_height": null,
      "max_width": null,
      "min_height": null,
      "min_width": null,
      "object_fit": null,
      "object_position": null,
      "order": null,
      "overflow": null,
      "overflow_x": null,
      "overflow_y": null,
      "padding": null,
      "right": null,
      "top": null,
      "visibility": null,
      "width": null
     }
    }
   }
  }
 },
 "nbformat": 4,
 "nbformat_minor": 1
}
