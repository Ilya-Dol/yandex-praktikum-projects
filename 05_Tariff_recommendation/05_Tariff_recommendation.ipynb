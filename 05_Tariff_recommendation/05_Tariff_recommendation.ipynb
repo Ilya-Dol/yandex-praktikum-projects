{
 "cells": [
  {
   "cell_type": "markdown",
   "metadata": {},
   "source": [
    "<div style=\"border:solid green 2px; padding: 20px\">\n",
    "<b>Илья, привет!</b>\n",
    "\n",
    "Меня зовут Евгений Дащенко, и я буду проверять твой проект. Предлагаю общаться на «ты» 😊 Но если это не удобно - дай знать, и мы перейдем на \"вы\". \n",
    "\n",
    "Моя основная цель — не указать на совершенные тобою ошибки, а поделиться своим опытом и помочь тебе стать аналитиком данных. Ты уже проделал большую работу над проектом, но давай сделаем его еще лучше. Ниже ты найдешь мои комментарии - пожалуйста, не перемещай, не изменяй и не удаляй их. Я буду использовать цветовую разметку:\n",
    "\n",
    "<div class=\"alert alert-danger\">\n",
    "<b>Комментарий ревьюера:</b> Так выделены самые важные замечания. Без их отработки проект не будет принят. </div>\n",
    "\n",
    "<div class=\"alert alert-warning\">\n",
    "<b>Комментарий ревьюера:</b> Так выделены небольшие замечания. Одна-два таких замечания в проекте допустимы, но если их будет больше - тебе будет необходимо внести исправления. Это как тестовое задание при приеме на работу: очень много мелких ошибок могут стать причиной отказа кандидату. \n",
    "\n",
    "</div>\n",
    "\n",
    "<div class=\"alert alert-success\">\n",
    "<b>Комментарий ревьюера:</b> Так я выделяю все остальные комментарии.</div>\n",
    "\n",
    "Давай работать над проектом в диалоге: если ты что-то меняешь в проекте или отвечаешь на мои комменатри — пиши об этом. Мне будет легче отследить изменения, если ты выделишь свои комментарии:\n",
    "<div class=\"alert alert-info\"> <b>Комментарий студента:</b> Например, вот так.</div>\n",
    "\n",
    "Всё это поможет выполнить повторную проверку твоего проекта оперативнее. \n",
    "    "
   ]
  },
  {
   "cell_type": "markdown",
   "metadata": {},
   "source": [
    "<a id='step1'></a>"
   ]
  },
  {
   "cell_type": "markdown",
   "metadata": {
    "toc": true
   },
   "source": [
    "<h1>План проекта<span class=\"tocSkip\"></span></h1>\n",
    "<div class=\"toc\"><ul class=\"toc-item\"><li><span><a href=\"#Постановка-задачи\" data-toc-modified-id=\"Постановка-задачи-1\"><span class=\"toc-item-num\">1&nbsp;&nbsp;</span>Постановка задачи</a></span></li><li><span><a href=\"#Получение-и-оценка-данных\" data-toc-modified-id=\"Получение-и-оценка-данных-2\"><span class=\"toc-item-num\">2&nbsp;&nbsp;</span>Получение и оценка данных</a></span></li><li><span><a href=\"#Разбиение--данных-на-выборки\" data-toc-modified-id=\"Разбиение--данных-на-выборки-3\"><span class=\"toc-item-num\">3&nbsp;&nbsp;</span>Разбиение  данных на выборки</a></span></li><li><span><a href=\"#Исследование--модели\" data-toc-modified-id=\"Исследование--модели-4\"><span class=\"toc-item-num\">4&nbsp;&nbsp;</span>Исследование  модели</a></span></li><li><span><a href=\"#Проверка-модели-на-тестовой-выборке\" data-toc-modified-id=\"Проверка-модели-на-тестовой-выборке-5\"><span class=\"toc-item-num\">5&nbsp;&nbsp;</span>Проверка модели на тестовой выборке</a></span></li><li><span><a href=\"#Проверка-модели-на-адекватность-(бонус)\" data-toc-modified-id=\"Проверка-модели-на-адекватность-(бонус)-6\"><span class=\"toc-item-num\">6&nbsp;&nbsp;</span>Проверка модели на адекватность (бонус)</a></span></li><li><span><a href=\"#Общий-вывод\" data-toc-modified-id=\"Общий-вывод-7\"><span class=\"toc-item-num\">7&nbsp;&nbsp;</span>Общий вывод</a></span></li></ul></div>"
   ]
  },
  {
   "cell_type": "markdown",
   "metadata": {},
   "source": [
    "<br>[**Проектная работа описание задания.**](#step7)<br> "
   ]
  },
  {
   "cell_type": "markdown",
   "metadata": {},
   "source": [
    "## Постановка задачи\n",
    "[&#10224;](#step1)"
   ]
  },
  {
   "cell_type": "markdown",
   "metadata": {},
   "source": [
    "<div style=\"border:solid green 2px; padding: 20px\">\n",
    "    \n",
    " \n",
    "### Задача  проекта:<a class=\"tocSkip\">\n",
    "## Рекомендация тарифов <a class=\"tocSkip\"> \n",
    "    \n",
    "Имея  данные о поведении клиентов, которые уже перешли на эти тарифы (из проекта курса «Статистический анализ данных»). __Нужно построить модель__ для задачи классификации, которая __выберет подходящий тариф.__ \n",
    "\n",
    "Построим модель с максимально большим значением *accuracy*. Необходимо  довести долю правильных ответов по крайней мере до 0.75. Проверьте *accuracy* на тестовой выборке .\n",
    "    \n",
    "\n",
    "    \n",
    "  \n",
    "\n",
    "    \n",
    "\n",
    "</div>"
   ]
  },
  {
   "cell_type": "markdown",
   "metadata": {},
   "source": [
    "***Описание данных*** <br>\n",
    " \n",
    " \n",
    " ___Каждый объект в наборе данных___ — это информация о поведении одного пользователя за месяц. \n",
    "- ***сalls***  — количество звонков\n",
    "- ***minutes*** — суммарная длительность звонков в минутах,\n",
    "- ***messages*** — количество sms-сообщений,\n",
    "- ***mb_used*** — израсходованный интернет-трафик в Мб,\n",
    "- ***is_ultra*** — каким тарифом пользовался в течение месяца («Ультра» — 1, «Смарт» — 0).    "
   ]
  },
  {
   "cell_type": "markdown",
   "metadata": {},
   "source": [
    "<div class=\"alert alert-success\">\n",
    "<b>Комментарий ревьюера:</b>\n",
    "\n",
    "Здорово, когда есть вступление в сам проект, каждый сможет быстрее разобраться в концепции / деталях работы. \n",
    "\n",
    "</div>"
   ]
  },
  {
   "cell_type": "markdown",
   "metadata": {},
   "source": [
    "## Получение и оценка данных\n",
    "[&#10224;](#step1)"
   ]
  },
  {
   "cell_type": "markdown",
   "metadata": {},
   "source": [
    "___Импортируем необходимые для работы библиотеки___"
   ]
  },
  {
   "cell_type": "code",
   "execution_count": 1,
   "metadata": {},
   "outputs": [],
   "source": [
    "import pandas as pd # импорт библиотеки pandas \n",
    "import matplotlib.pyplot as plt #импортируем библиотеку для графиков matplotlib\n",
    "import numpy as np\n",
    "import seaborn as sn # подключение графической библиотеки seaborn\n",
    "import plotly.express as px# функция для создания таблиц и визуализации plotly\n",
    "from scipy import stats as st\n",
    "import scipy.stats as stats\n",
    "from sklearn.tree import DecisionTreeClassifier\n",
    "from sklearn.tree import DecisionTreeRegressor\n",
    "from sklearn.ensemble import RandomForestRegressor\n",
    "from sklearn.ensemble import RandomForestClassifier\n",
    "from sklearn.linear_model import LinearRegression\n",
    "from sklearn.model_selection import train_test_split\n",
    "from sklearn.metrics import mean_squared_error\n",
    "from sklearn.tree import export_graphviz \n",
    "from sklearn.metrics import accuracy_score\n",
    "from sklearn.linear_model import LogisticRegression\n",
    "import warnings\n",
    "from sklearn.dummy import DummyClassifier"
   ]
  },
  {
   "cell_type": "code",
   "execution_count": 2,
   "metadata": {},
   "outputs": [],
   "source": [
    "pd.set_option('display.float_format', '{:,.2f}'.format)# вывод без экспонентациальных форм и лишних запятых.\n",
    "pd.set_option('display.max_columns', None) # вывод всех колонок датасета без урезания.\n",
    "\n",
    "try: #конструкция try-except помогает выбрать работающий путь к исследуемому файлу 'real_estate_data.csv'\n",
    "    df = pd.read_csv('/data_set/users_behavior.csv')# чтение файла с данными с сохранением в df /Работа - Локально/\n",
    "    \n",
    "except:\n",
    "    df = pd.read_csv('/datasets/users_behavior.csv')# чтение файла с данными с сохранением в df /Работа - сервер Яндекс"
   ]
  },
  {
   "cell_type": "markdown",
   "metadata": {},
   "source": [
    "__Делаем предварительную оценку полученных данных__ "
   ]
  },
  {
   "cell_type": "code",
   "execution_count": 3,
   "metadata": {},
   "outputs": [
    {
     "data": {
      "text/plain": [
       "(3214, 5)"
      ]
     },
     "execution_count": 3,
     "metadata": {},
     "output_type": "execute_result"
    }
   ],
   "source": [
    "df.shape# смотрим количество строк и столбцов(наблюдения-объекты и переменные-признаки) "
   ]
  },
  {
   "cell_type": "code",
   "execution_count": 4,
   "metadata": {},
   "outputs": [
    {
     "data": {
      "text/plain": [
       "False"
      ]
     },
     "execution_count": 4,
     "metadata": {},
     "output_type": "execute_result"
    }
   ],
   "source": [
    "# смотрим на наличие в датасете отрицательных значений.\n",
    "(df.values < 0).any()"
   ]
  },
  {
   "cell_type": "code",
   "execution_count": 5,
   "metadata": {},
   "outputs": [
    {
     "data": {
      "text/html": [
       "<div>\n",
       "<style scoped>\n",
       "    .dataframe tbody tr th:only-of-type {\n",
       "        vertical-align: middle;\n",
       "    }\n",
       "\n",
       "    .dataframe tbody tr th {\n",
       "        vertical-align: top;\n",
       "    }\n",
       "\n",
       "    .dataframe thead th {\n",
       "        text-align: right;\n",
       "    }\n",
       "</style>\n",
       "<table border=\"1\" class=\"dataframe\">\n",
       "  <thead>\n",
       "    <tr style=\"text-align: right;\">\n",
       "      <th></th>\n",
       "      <th>calls</th>\n",
       "      <th>minutes</th>\n",
       "      <th>messages</th>\n",
       "      <th>mb_used</th>\n",
       "      <th>is_ultra</th>\n",
       "    </tr>\n",
       "  </thead>\n",
       "  <tbody>\n",
       "    <tr>\n",
       "      <td>0</td>\n",
       "      <td>40.00</td>\n",
       "      <td>311.90</td>\n",
       "      <td>83.00</td>\n",
       "      <td>19,915.42</td>\n",
       "      <td>0</td>\n",
       "    </tr>\n",
       "    <tr>\n",
       "      <td>1</td>\n",
       "      <td>85.00</td>\n",
       "      <td>516.75</td>\n",
       "      <td>56.00</td>\n",
       "      <td>22,696.96</td>\n",
       "      <td>0</td>\n",
       "    </tr>\n",
       "    <tr>\n",
       "      <td>2</td>\n",
       "      <td>77.00</td>\n",
       "      <td>467.66</td>\n",
       "      <td>86.00</td>\n",
       "      <td>21,060.45</td>\n",
       "      <td>0</td>\n",
       "    </tr>\n",
       "    <tr>\n",
       "      <td>3</td>\n",
       "      <td>106.00</td>\n",
       "      <td>745.53</td>\n",
       "      <td>81.00</td>\n",
       "      <td>8,437.39</td>\n",
       "      <td>1</td>\n",
       "    </tr>\n",
       "    <tr>\n",
       "      <td>4</td>\n",
       "      <td>66.00</td>\n",
       "      <td>418.74</td>\n",
       "      <td>1.00</td>\n",
       "      <td>14,502.75</td>\n",
       "      <td>0</td>\n",
       "    </tr>\n",
       "    <tr>\n",
       "      <td>...</td>\n",
       "      <td>...</td>\n",
       "      <td>...</td>\n",
       "      <td>...</td>\n",
       "      <td>...</td>\n",
       "      <td>...</td>\n",
       "    </tr>\n",
       "    <tr>\n",
       "      <td>3209</td>\n",
       "      <td>122.00</td>\n",
       "      <td>910.98</td>\n",
       "      <td>20.00</td>\n",
       "      <td>35,124.90</td>\n",
       "      <td>1</td>\n",
       "    </tr>\n",
       "    <tr>\n",
       "      <td>3210</td>\n",
       "      <td>25.00</td>\n",
       "      <td>190.36</td>\n",
       "      <td>0.00</td>\n",
       "      <td>3,275.61</td>\n",
       "      <td>0</td>\n",
       "    </tr>\n",
       "    <tr>\n",
       "      <td>3211</td>\n",
       "      <td>97.00</td>\n",
       "      <td>634.44</td>\n",
       "      <td>70.00</td>\n",
       "      <td>13,974.06</td>\n",
       "      <td>0</td>\n",
       "    </tr>\n",
       "    <tr>\n",
       "      <td>3212</td>\n",
       "      <td>64.00</td>\n",
       "      <td>462.32</td>\n",
       "      <td>90.00</td>\n",
       "      <td>31,239.78</td>\n",
       "      <td>0</td>\n",
       "    </tr>\n",
       "    <tr>\n",
       "      <td>3213</td>\n",
       "      <td>80.00</td>\n",
       "      <td>566.09</td>\n",
       "      <td>6.00</td>\n",
       "      <td>29,480.52</td>\n",
       "      <td>1</td>\n",
       "    </tr>\n",
       "  </tbody>\n",
       "</table>\n",
       "<p>3214 rows × 5 columns</p>\n",
       "</div>"
      ],
      "text/plain": [
       "      calls  minutes  messages   mb_used  is_ultra\n",
       "0     40.00   311.90     83.00 19,915.42         0\n",
       "1     85.00   516.75     56.00 22,696.96         0\n",
       "2     77.00   467.66     86.00 21,060.45         0\n",
       "3    106.00   745.53     81.00  8,437.39         1\n",
       "4     66.00   418.74      1.00 14,502.75         0\n",
       "...     ...      ...       ...       ...       ...\n",
       "3209 122.00   910.98     20.00 35,124.90         1\n",
       "3210  25.00   190.36      0.00  3,275.61         0\n",
       "3211  97.00   634.44     70.00 13,974.06         0\n",
       "3212  64.00   462.32     90.00 31,239.78         0\n",
       "3213  80.00   566.09      6.00 29,480.52         1\n",
       "\n",
       "[3214 rows x 5 columns]"
      ]
     },
     "execution_count": 5,
     "metadata": {},
     "output_type": "execute_result"
    }
   ],
   "source": [
    "df"
   ]
  },
  {
   "cell_type": "code",
   "execution_count": 6,
   "metadata": {},
   "outputs": [
    {
     "name": "stdout",
     "output_type": "stream",
     "text": [
      "Ультра-1 Смарт-0:\n"
     ]
    },
    {
     "data": {
      "text/plain": [
       "0    2229\n",
       "1     985\n",
       "Name: is_ultra, dtype: int64"
      ]
     },
     "execution_count": 6,
     "metadata": {},
     "output_type": "execute_result"
    }
   ],
   "source": [
    "print('Ультра-1 Смарт-0:')\n",
    "df['is_ultra']=(df['is_ultra']*1)#При помощи операции *1 заменими значение False=0, True=1 для наглядности в таблице\n",
    "df['is_ultra'].value_counts()#группируем значения в столбце is_ultra. \n"
   ]
  },
  {
   "cell_type": "code",
   "execution_count": 7,
   "metadata": {},
   "outputs": [
    {
     "name": "stdout",
     "output_type": "stream",
     "text": [
      "<class 'pandas.core.frame.DataFrame'>\n",
      "RangeIndex: 3214 entries, 0 to 3213\n",
      "Data columns (total 5 columns):\n",
      "calls       3214 non-null float64\n",
      "minutes     3214 non-null float64\n",
      "messages    3214 non-null float64\n",
      "mb_used     3214 non-null float64\n",
      "is_ultra    3214 non-null int64\n",
      "dtypes: float64(4), int64(1)\n",
      "memory usage: 125.7 KB\n"
     ]
    }
   ],
   "source": [
    "df.info()# смотрим на типы даннх"
   ]
  },
  {
   "cell_type": "code",
   "execution_count": 8,
   "metadata": {},
   "outputs": [
    {
     "data": {
      "text/html": [
       "<div>\n",
       "<style scoped>\n",
       "    .dataframe tbody tr th:only-of-type {\n",
       "        vertical-align: middle;\n",
       "    }\n",
       "\n",
       "    .dataframe tbody tr th {\n",
       "        vertical-align: top;\n",
       "    }\n",
       "\n",
       "    .dataframe thead th {\n",
       "        text-align: right;\n",
       "    }\n",
       "</style>\n",
       "<table border=\"1\" class=\"dataframe\">\n",
       "  <thead>\n",
       "    <tr style=\"text-align: right;\">\n",
       "      <th></th>\n",
       "      <th>calls</th>\n",
       "      <th>minutes</th>\n",
       "      <th>messages</th>\n",
       "      <th>mb_used</th>\n",
       "      <th>is_ultra</th>\n",
       "    </tr>\n",
       "  </thead>\n",
       "  <tbody>\n",
       "    <tr>\n",
       "      <td>count</td>\n",
       "      <td>3,214.00</td>\n",
       "      <td>3,214.00</td>\n",
       "      <td>3,214.00</td>\n",
       "      <td>3,214.00</td>\n",
       "      <td>3,214.00</td>\n",
       "    </tr>\n",
       "    <tr>\n",
       "      <td>mean</td>\n",
       "      <td>63.04</td>\n",
       "      <td>438.21</td>\n",
       "      <td>38.28</td>\n",
       "      <td>17,207.67</td>\n",
       "      <td>0.31</td>\n",
       "    </tr>\n",
       "    <tr>\n",
       "      <td>std</td>\n",
       "      <td>33.24</td>\n",
       "      <td>234.57</td>\n",
       "      <td>36.15</td>\n",
       "      <td>7,570.97</td>\n",
       "      <td>0.46</td>\n",
       "    </tr>\n",
       "    <tr>\n",
       "      <td>min</td>\n",
       "      <td>0.00</td>\n",
       "      <td>0.00</td>\n",
       "      <td>0.00</td>\n",
       "      <td>0.00</td>\n",
       "      <td>0.00</td>\n",
       "    </tr>\n",
       "    <tr>\n",
       "      <td>25%</td>\n",
       "      <td>40.00</td>\n",
       "      <td>274.58</td>\n",
       "      <td>9.00</td>\n",
       "      <td>12,491.90</td>\n",
       "      <td>0.00</td>\n",
       "    </tr>\n",
       "    <tr>\n",
       "      <td>50%</td>\n",
       "      <td>62.00</td>\n",
       "      <td>430.60</td>\n",
       "      <td>30.00</td>\n",
       "      <td>16,943.24</td>\n",
       "      <td>0.00</td>\n",
       "    </tr>\n",
       "    <tr>\n",
       "      <td>75%</td>\n",
       "      <td>82.00</td>\n",
       "      <td>571.93</td>\n",
       "      <td>57.00</td>\n",
       "      <td>21,424.70</td>\n",
       "      <td>1.00</td>\n",
       "    </tr>\n",
       "    <tr>\n",
       "      <td>max</td>\n",
       "      <td>244.00</td>\n",
       "      <td>1,632.06</td>\n",
       "      <td>224.00</td>\n",
       "      <td>49,745.73</td>\n",
       "      <td>1.00</td>\n",
       "    </tr>\n",
       "  </tbody>\n",
       "</table>\n",
       "</div>"
      ],
      "text/plain": [
       "         calls  minutes  messages   mb_used  is_ultra\n",
       "count 3,214.00 3,214.00  3,214.00  3,214.00  3,214.00\n",
       "mean     63.04   438.21     38.28 17,207.67      0.31\n",
       "std      33.24   234.57     36.15  7,570.97      0.46\n",
       "min       0.00     0.00      0.00      0.00      0.00\n",
       "25%      40.00   274.58      9.00 12,491.90      0.00\n",
       "50%      62.00   430.60     30.00 16,943.24      0.00\n",
       "75%      82.00   571.93     57.00 21,424.70      1.00\n",
       "max     244.00 1,632.06    224.00 49,745.73      1.00"
      ]
     },
     "execution_count": 8,
     "metadata": {},
     "output_type": "execute_result"
    }
   ],
   "source": [
    "df.describe()# методом .describe() производится подсчет по каждому столбцу  df"
   ]
  },
  {
   "cell_type": "code",
   "execution_count": 9,
   "metadata": {},
   "outputs": [
    {
     "name": "stdout",
     "output_type": "stream",
     "text": [
      "Количество обнаруженных дубликатов:\n"
     ]
    },
    {
     "data": {
      "text/plain": [
       "0"
      ]
     },
     "execution_count": 9,
     "metadata": {},
     "output_type": "execute_result"
    }
   ],
   "source": [
    "print('Количество обнаруженных дубликатов:')\n",
    "df.duplicated().sum()"
   ]
  },
  {
   "cell_type": "markdown",
   "metadata": {},
   "source": [
    "__Посмотрим результат по пропускам__"
   ]
  },
  {
   "cell_type": "code",
   "execution_count": 10,
   "metadata": {
    "scrolled": true
   },
   "outputs": [
    {
     "data": {
      "text/html": [
       "<div>\n",
       "<style scoped>\n",
       "    .dataframe tbody tr th:only-of-type {\n",
       "        vertical-align: middle;\n",
       "    }\n",
       "\n",
       "    .dataframe tbody tr th {\n",
       "        vertical-align: top;\n",
       "    }\n",
       "\n",
       "    .dataframe thead th {\n",
       "        text-align: right;\n",
       "    }\n",
       "</style>\n",
       "<table border=\"1\" class=\"dataframe\">\n",
       "  <thead>\n",
       "    <tr style=\"text-align: right;\">\n",
       "      <th></th>\n",
       "      <th>missing_values</th>\n",
       "      <th>% of total</th>\n",
       "    </tr>\n",
       "  </thead>\n",
       "  <tbody>\n",
       "    <tr>\n",
       "      <td>calls</td>\n",
       "      <td>0</td>\n",
       "      <td>0.00</td>\n",
       "    </tr>\n",
       "    <tr>\n",
       "      <td>minutes</td>\n",
       "      <td>0</td>\n",
       "      <td>0.00</td>\n",
       "    </tr>\n",
       "    <tr>\n",
       "      <td>messages</td>\n",
       "      <td>0</td>\n",
       "      <td>0.00</td>\n",
       "    </tr>\n",
       "    <tr>\n",
       "      <td>mb_used</td>\n",
       "      <td>0</td>\n",
       "      <td>0.00</td>\n",
       "    </tr>\n",
       "    <tr>\n",
       "      <td>is_ultra</td>\n",
       "      <td>0</td>\n",
       "      <td>0.00</td>\n",
       "    </tr>\n",
       "  </tbody>\n",
       "</table>\n",
       "</div>"
      ],
      "text/plain": [
       "          missing_values  % of total\n",
       "calls                  0        0.00\n",
       "minutes                0        0.00\n",
       "messages               0        0.00\n",
       "mb_used                0        0.00\n",
       "is_ultra               0        0.00"
      ]
     },
     "execution_count": 10,
     "metadata": {},
     "output_type": "execute_result"
    }
   ],
   "source": [
    "report = df.isna().sum().to_frame()\n",
    "report = report.rename(columns = {0: 'missing_values'})\n",
    "report['% of total'] = (report['missing_values'] / df.shape[0]).round(2)\n",
    "report.sort_values(by = 'missing_values', ascending = False)"
   ]
  },
  {
   "cell_type": "code",
   "execution_count": 11,
   "metadata": {},
   "outputs": [
    {
     "data": {
      "image/png": "[encoded data removed]",
      "text/plain": [
       "<Figure size 864x504 with 1 Axes>"
      ]
     },
     "metadata": {
      "needs_background": "light"
     },
     "output_type": "display_data"
    }
   ],
   "source": [
    "df['calls'].hist(bins=60,figsize=(12, 7)).set_title('Гистограмма продолжительности разговора')\n",
    "plt.xlim(0,350)\n",
    "plt.xlabel(\"время разговора\")\n",
    "plt.ylabel(\"количество звонков\")\n",
    "plt.show()"
   ]
  },
  {
   "cell_type": "code",
   "execution_count": 12,
   "metadata": {},
   "outputs": [
    {
     "name": "stdout",
     "output_type": "stream",
     "text": [
      "В столбце calls нулевых значений\n",
      "40\n",
      "В столбце minutes нулевых значений\n",
      "40\n",
      "В столбце messages нулевых значений\n",
      "497\n",
      "В столбце mb_used нулевых значений\n",
      "11\n"
     ]
    }
   ],
   "source": [
    "# соберем результаты по значению 0 через цикл в одно место и посмотрим сколько их.\n",
    "for column in df.columns:\n",
    "    if column!= 'is_ultra':\n",
    "        print('В столбце {} нулевых значений'.format(column))\n",
    "        print(df[df[column]==0]['calls'].count())"
   ]
  },
  {
   "cell_type": "code",
   "execution_count": 13,
   "metadata": {
    "scrolled": true
   },
   "outputs": [
    {
     "data": {
      "text/html": [
       "<div>\n",
       "<style scoped>\n",
       "    .dataframe tbody tr th:only-of-type {\n",
       "        vertical-align: middle;\n",
       "    }\n",
       "\n",
       "    .dataframe tbody tr th {\n",
       "        vertical-align: top;\n",
       "    }\n",
       "\n",
       "    .dataframe thead th {\n",
       "        text-align: right;\n",
       "    }\n",
       "</style>\n",
       "<table border=\"1\" class=\"dataframe\">\n",
       "  <thead>\n",
       "    <tr style=\"text-align: right;\">\n",
       "      <th></th>\n",
       "      <th>calls</th>\n",
       "      <th>minutes</th>\n",
       "      <th>messages</th>\n",
       "      <th>mb_used</th>\n",
       "      <th>is_ultra</th>\n",
       "    </tr>\n",
       "  </thead>\n",
       "  <tbody>\n",
       "    <tr>\n",
       "      <td>0</td>\n",
       "      <td>40.00</td>\n",
       "      <td>311.90</td>\n",
       "      <td>83.00</td>\n",
       "      <td>19,915.42</td>\n",
       "      <td>0</td>\n",
       "    </tr>\n",
       "    <tr>\n",
       "      <td>1</td>\n",
       "      <td>85.00</td>\n",
       "      <td>516.75</td>\n",
       "      <td>56.00</td>\n",
       "      <td>22,696.96</td>\n",
       "      <td>0</td>\n",
       "    </tr>\n",
       "    <tr>\n",
       "      <td>2</td>\n",
       "      <td>77.00</td>\n",
       "      <td>467.66</td>\n",
       "      <td>86.00</td>\n",
       "      <td>21,060.45</td>\n",
       "      <td>0</td>\n",
       "    </tr>\n",
       "    <tr>\n",
       "      <td>3</td>\n",
       "      <td>106.00</td>\n",
       "      <td>745.53</td>\n",
       "      <td>81.00</td>\n",
       "      <td>8,437.39</td>\n",
       "      <td>1</td>\n",
       "    </tr>\n",
       "    <tr>\n",
       "      <td>4</td>\n",
       "      <td>66.00</td>\n",
       "      <td>418.74</td>\n",
       "      <td>1.00</td>\n",
       "      <td>14,502.75</td>\n",
       "      <td>0</td>\n",
       "    </tr>\n",
       "    <tr>\n",
       "      <td>...</td>\n",
       "      <td>...</td>\n",
       "      <td>...</td>\n",
       "      <td>...</td>\n",
       "      <td>...</td>\n",
       "      <td>...</td>\n",
       "    </tr>\n",
       "    <tr>\n",
       "      <td>3209</td>\n",
       "      <td>122.00</td>\n",
       "      <td>910.98</td>\n",
       "      <td>20.00</td>\n",
       "      <td>35,124.90</td>\n",
       "      <td>1</td>\n",
       "    </tr>\n",
       "    <tr>\n",
       "      <td>3210</td>\n",
       "      <td>25.00</td>\n",
       "      <td>190.36</td>\n",
       "      <td>0.00</td>\n",
       "      <td>3,275.61</td>\n",
       "      <td>0</td>\n",
       "    </tr>\n",
       "    <tr>\n",
       "      <td>3211</td>\n",
       "      <td>97.00</td>\n",
       "      <td>634.44</td>\n",
       "      <td>70.00</td>\n",
       "      <td>13,974.06</td>\n",
       "      <td>0</td>\n",
       "    </tr>\n",
       "    <tr>\n",
       "      <td>3212</td>\n",
       "      <td>64.00</td>\n",
       "      <td>462.32</td>\n",
       "      <td>90.00</td>\n",
       "      <td>31,239.78</td>\n",
       "      <td>0</td>\n",
       "    </tr>\n",
       "    <tr>\n",
       "      <td>3213</td>\n",
       "      <td>80.00</td>\n",
       "      <td>566.09</td>\n",
       "      <td>6.00</td>\n",
       "      <td>29,480.52</td>\n",
       "      <td>1</td>\n",
       "    </tr>\n",
       "  </tbody>\n",
       "</table>\n",
       "<p>3214 rows × 5 columns</p>\n",
       "</div>"
      ],
      "text/plain": [
       "      calls  minutes  messages   mb_used  is_ultra\n",
       "0     40.00   311.90     83.00 19,915.42         0\n",
       "1     85.00   516.75     56.00 22,696.96         0\n",
       "2     77.00   467.66     86.00 21,060.45         0\n",
       "3    106.00   745.53     81.00  8,437.39         1\n",
       "4     66.00   418.74      1.00 14,502.75         0\n",
       "...     ...      ...       ...       ...       ...\n",
       "3209 122.00   910.98     20.00 35,124.90         1\n",
       "3210  25.00   190.36      0.00  3,275.61         0\n",
       "3211  97.00   634.44     70.00 13,974.06         0\n",
       "3212  64.00   462.32     90.00 31,239.78         0\n",
       "3213  80.00   566.09      6.00 29,480.52         1\n",
       "\n",
       "[3214 rows x 5 columns]"
      ]
     },
     "execution_count": 13,
     "metadata": {},
     "output_type": "execute_result"
    }
   ],
   "source": [
    "df"
   ]
  },
  {
   "cell_type": "code",
   "execution_count": 14,
   "metadata": {},
   "outputs": [
    {
     "data": {
      "text/html": [
       "<div>\n",
       "<style scoped>\n",
       "    .dataframe tbody tr th:only-of-type {\n",
       "        vertical-align: middle;\n",
       "    }\n",
       "\n",
       "    .dataframe tbody tr th {\n",
       "        vertical-align: top;\n",
       "    }\n",
       "\n",
       "    .dataframe thead th {\n",
       "        text-align: right;\n",
       "    }\n",
       "</style>\n",
       "<table border=\"1\" class=\"dataframe\">\n",
       "  <thead>\n",
       "    <tr style=\"text-align: right;\">\n",
       "      <th></th>\n",
       "      <th>calls</th>\n",
       "      <th>minutes</th>\n",
       "      <th>messages</th>\n",
       "      <th>mb_used</th>\n",
       "      <th>is_ultra</th>\n",
       "    </tr>\n",
       "  </thead>\n",
       "  <tbody>\n",
       "    <tr>\n",
       "      <td>count</td>\n",
       "      <td>3,214.00</td>\n",
       "      <td>3,214.00</td>\n",
       "      <td>3,214.00</td>\n",
       "      <td>3,214.00</td>\n",
       "      <td>3,214.00</td>\n",
       "    </tr>\n",
       "    <tr>\n",
       "      <td>mean</td>\n",
       "      <td>63.04</td>\n",
       "      <td>438.21</td>\n",
       "      <td>38.28</td>\n",
       "      <td>17,207.67</td>\n",
       "      <td>0.31</td>\n",
       "    </tr>\n",
       "    <tr>\n",
       "      <td>std</td>\n",
       "      <td>33.24</td>\n",
       "      <td>234.57</td>\n",
       "      <td>36.15</td>\n",
       "      <td>7,570.97</td>\n",
       "      <td>0.46</td>\n",
       "    </tr>\n",
       "    <tr>\n",
       "      <td>min</td>\n",
       "      <td>0.00</td>\n",
       "      <td>0.00</td>\n",
       "      <td>0.00</td>\n",
       "      <td>0.00</td>\n",
       "      <td>0.00</td>\n",
       "    </tr>\n",
       "    <tr>\n",
       "      <td>25%</td>\n",
       "      <td>40.00</td>\n",
       "      <td>274.58</td>\n",
       "      <td>9.00</td>\n",
       "      <td>12,491.90</td>\n",
       "      <td>0.00</td>\n",
       "    </tr>\n",
       "    <tr>\n",
       "      <td>50%</td>\n",
       "      <td>62.00</td>\n",
       "      <td>430.60</td>\n",
       "      <td>30.00</td>\n",
       "      <td>16,943.24</td>\n",
       "      <td>0.00</td>\n",
       "    </tr>\n",
       "    <tr>\n",
       "      <td>75%</td>\n",
       "      <td>82.00</td>\n",
       "      <td>571.93</td>\n",
       "      <td>57.00</td>\n",
       "      <td>21,424.70</td>\n",
       "      <td>1.00</td>\n",
       "    </tr>\n",
       "    <tr>\n",
       "      <td>max</td>\n",
       "      <td>244.00</td>\n",
       "      <td>1,632.06</td>\n",
       "      <td>224.00</td>\n",
       "      <td>49,745.73</td>\n",
       "      <td>1.00</td>\n",
       "    </tr>\n",
       "  </tbody>\n",
       "</table>\n",
       "</div>"
      ],
      "text/plain": [
       "         calls  minutes  messages   mb_used  is_ultra\n",
       "count 3,214.00 3,214.00  3,214.00  3,214.00  3,214.00\n",
       "mean     63.04   438.21     38.28 17,207.67      0.31\n",
       "std      33.24   234.57     36.15  7,570.97      0.46\n",
       "min       0.00     0.00      0.00      0.00      0.00\n",
       "25%      40.00   274.58      9.00 12,491.90      0.00\n",
       "50%      62.00   430.60     30.00 16,943.24      0.00\n",
       "75%      82.00   571.93     57.00 21,424.70      1.00\n",
       "max     244.00 1,632.06    224.00 49,745.73      1.00"
      ]
     },
     "execution_count": 14,
     "metadata": {},
     "output_type": "execute_result"
    }
   ],
   "source": [
    "df.describe()# посмотрим основные цифровые показатели в исследуемой выборке."
   ]
  },
  {
   "cell_type": "markdown",
   "metadata": {},
   "source": [
    "с помощью функции __tariff_group__, для удобства, добавим столбец __tariff__ в котором поименум строки с соответствующим тарифом Смарт либо Ультра"
   ]
  },
  {
   "cell_type": "code",
   "execution_count": 15,
   "metadata": {},
   "outputs": [],
   "source": [
    "def tariff_group(tariff):\n",
    "       \n",
    "        if tariff ==0:\n",
    "                return 'Смарт'\n",
    "        if tariff ==1 :\n",
    "                return 'Ультра'\n",
    "df['tariff'] = df['is_ultra'].apply(tariff_group)\n",
    "#создаем новый столбец tariff в котором обозначм что 0 это тариф Смарт а 1 тариф Ультра "
   ]
  },
  {
   "cell_type": "markdown",
   "metadata": {},
   "source": [
    "__Сгруппируем тарифы по количественному и процентному соотношению.__"
   ]
  },
  {
   "cell_type": "code",
   "execution_count": 16,
   "metadata": {},
   "outputs": [
    {
     "data": {
      "text/html": [
       "<div>\n",
       "<style scoped>\n",
       "    .dataframe tbody tr th:only-of-type {\n",
       "        vertical-align: middle;\n",
       "    }\n",
       "\n",
       "    .dataframe tbody tr th {\n",
       "        vertical-align: top;\n",
       "    }\n",
       "\n",
       "    .dataframe thead th {\n",
       "        text-align: right;\n",
       "    }\n",
       "</style>\n",
       "<table border=\"1\" class=\"dataframe\">\n",
       "  <thead>\n",
       "    <tr style=\"text-align: right;\">\n",
       "      <th></th>\n",
       "      <th>count_clients</th>\n",
       "      <th>%_clients</th>\n",
       "    </tr>\n",
       "  </thead>\n",
       "  <tbody>\n",
       "    <tr>\n",
       "      <td>Смарт</td>\n",
       "      <td>2229</td>\n",
       "      <td>69.40</td>\n",
       "    </tr>\n",
       "    <tr>\n",
       "      <td>Ультра</td>\n",
       "      <td>985</td>\n",
       "      <td>30.60</td>\n",
       "    </tr>\n",
       "  </tbody>\n",
       "</table>\n",
       "</div>"
      ],
      "text/plain": [
       "        count_clients  %_clients\n",
       "Смарт            2229      69.40\n",
       "Ультра            985      30.60"
      ]
     },
     "execution_count": 16,
     "metadata": {},
     "output_type": "execute_result"
    }
   ],
   "source": [
    "users_tariff =df['tariff'].value_counts().to_frame()# методом value_counts определим количество абонентов по каждому тарифу\n",
    "users_tariff.columns = ['count_clients']\n",
    "users_tariff['%_clients'] = ((users_tariff['count_clients']/3214)*100).round(1).to_frame()\n",
    "#определяем процентное соотношение между тарифами Смарт и Ультра\n",
    "users_tariff"
   ]
  },
  {
   "cell_type": "markdown",
   "metadata": {},
   "source": [
    "<div class=\"alert alert-success\">\n",
    "<b>Комментарий ревьюера:</b>\n",
    "\n",
    "Отличный и наглядный расчет по количеству клиентов в каждом из тарифов.\n",
    "    \n",
    "---\n",
    "    \n",
    "Лучше конечно производить расчет с помощью методов, а не просто цифр, т.к. просто цифры обычно называют в программировании \"магическими числами\", которые например будет трудно понять что они означают через пол года 😊\n",
    "    \n",
    "Оставил пример ниже как можно использовать все строки в расчете.\n",
    "\n",
    "</div>"
   ]
  },
  {
   "cell_type": "code",
   "execution_count": 41,
   "metadata": {},
   "outputs": [
    {
     "data": {
      "text/plain": [
       "(3214, 6)"
      ]
     },
     "execution_count": 41,
     "metadata": {},
     "output_type": "execute_result"
    }
   ],
   "source": [
    "# кол-во строк, кол-во столбцов\n",
    "df.shape"
   ]
  },
  {
   "cell_type": "code",
   "execution_count": 42,
   "metadata": {},
   "outputs": [
    {
     "data": {
      "text/plain": [
       "3214"
      ]
     },
     "execution_count": 42,
     "metadata": {},
     "output_type": "execute_result"
    }
   ],
   "source": [
    "df.shape[0]"
   ]
  },
  {
   "cell_type": "code",
   "execution_count": 17,
   "metadata": {},
   "outputs": [
    {
     "data": {
      "image/png": "[encoded data removed]",
      "text/plain": [
       "<Figure size 432x288 with 1 Axes>"
      ]
     },
     "metadata": {},
     "output_type": "display_data"
    }
   ],
   "source": [
    "labels = 'Смарт','Ультра' \n",
    "sizes = [2229,985\n",
    " ]\n",
    "\n",
    "fig1, ax1 = plt.subplots()\n",
    "explode = (0.05, 0.05 ) \n",
    "ax1.pie(sizes, explode=explode,radius=2, labels=labels,autopct='%1.1f%%',\n",
    "        shadow=True, startangle=65,)\n",
    "\n",
    "ax1.set_title(\"                                                                                                                                                                        Соотношение в выборке тарифов Смарт и  Ультра \")\n",
    "plt.show()"
   ]
  },
  {
   "cell_type": "code",
   "execution_count": 18,
   "metadata": {
    "scrolled": true
   },
   "outputs": [
    {
     "data": {
      "text/html": [
       "<div>\n",
       "<style scoped>\n",
       "    .dataframe tbody tr th:only-of-type {\n",
       "        vertical-align: middle;\n",
       "    }\n",
       "\n",
       "    .dataframe tbody tr th {\n",
       "        vertical-align: top;\n",
       "    }\n",
       "\n",
       "    .dataframe thead th {\n",
       "        text-align: right;\n",
       "    }\n",
       "</style>\n",
       "<table border=\"1\" class=\"dataframe\">\n",
       "  <thead>\n",
       "    <tr style=\"text-align: right;\">\n",
       "      <th></th>\n",
       "      <th>calls</th>\n",
       "      <th>minutes</th>\n",
       "      <th>messages</th>\n",
       "      <th>mb_used</th>\n",
       "      <th>is_ultra</th>\n",
       "    </tr>\n",
       "  </thead>\n",
       "  <tbody>\n",
       "    <tr>\n",
       "      <td>calls</td>\n",
       "      <td>1.00</td>\n",
       "      <td>0.98</td>\n",
       "      <td>0.18</td>\n",
       "      <td>0.29</td>\n",
       "      <td>0.21</td>\n",
       "    </tr>\n",
       "    <tr>\n",
       "      <td>minutes</td>\n",
       "      <td>0.98</td>\n",
       "      <td>1.00</td>\n",
       "      <td>0.17</td>\n",
       "      <td>0.28</td>\n",
       "      <td>0.21</td>\n",
       "    </tr>\n",
       "    <tr>\n",
       "      <td>messages</td>\n",
       "      <td>0.18</td>\n",
       "      <td>0.17</td>\n",
       "      <td>1.00</td>\n",
       "      <td>0.20</td>\n",
       "      <td>0.20</td>\n",
       "    </tr>\n",
       "    <tr>\n",
       "      <td>mb_used</td>\n",
       "      <td>0.29</td>\n",
       "      <td>0.28</td>\n",
       "      <td>0.20</td>\n",
       "      <td>1.00</td>\n",
       "      <td>0.20</td>\n",
       "    </tr>\n",
       "    <tr>\n",
       "      <td>is_ultra</td>\n",
       "      <td>0.21</td>\n",
       "      <td>0.21</td>\n",
       "      <td>0.20</td>\n",
       "      <td>0.20</td>\n",
       "      <td>1.00</td>\n",
       "    </tr>\n",
       "  </tbody>\n",
       "</table>\n",
       "</div>"
      ],
      "text/plain": [
       "          calls  minutes  messages  mb_used  is_ultra\n",
       "calls      1.00     0.98      0.18     0.29      0.21\n",
       "minutes    0.98     1.00      0.17     0.28      0.21\n",
       "messages   0.18     0.17      1.00     0.20      0.20\n",
       "mb_used    0.29     0.28      0.20     1.00      0.20\n",
       "is_ultra   0.21     0.21      0.20     0.20      1.00"
      ]
     },
     "execution_count": 18,
     "metadata": {},
     "output_type": "execute_result"
    }
   ],
   "source": [
    "df.corr()# посмотрим на корреляцию между исследуемыми параметрами."
   ]
  },
  {
   "cell_type": "code",
   "execution_count": 19,
   "metadata": {
    "scrolled": true
   },
   "outputs": [
    {
     "data": {
      "image/png": "[encoded data removed]",
      "text/plain": [
       "<Figure size 432x288 with 2 Axes>"
      ]
     },
     "metadata": {
      "needs_background": "light"
     },
     "output_type": "display_data"
    }
   ],
   "source": [
    "corrMatrix = df.corr()\n",
    "sn.heatmap(corrMatrix, annot=True)\n",
    "plt.show()"
   ]
  },
  {
   "cell_type": "markdown",
   "metadata": {},
   "source": [
    "Видим сильную корреляцию между звонками и минутами.Можно убрать один из параметров class либо minutes ."
   ]
  },
  {
   "cell_type": "markdown",
   "metadata": {},
   "source": [
    "<div class=\"alert alert-success\">\n",
    "<b>Комментарий ревьюера:</b>\n",
    "\n",
    "Очень здорово, что проверили корреляцию, действительно у нас есть мультиколлениарность и на самом деле мы можем избавиться от одной из таких переменных, чтобы наша модель работала объективным образом.\n",
    "    \n",
    "На мой взгляд было бы логично удалить столбец с количеством звонков, т.к. обычно минуты только входят в пакет тарифа, а не звонки.\n",
    "    \n",
    "</div>"
   ]
  },
  {
   "cell_type": "markdown",
   "metadata": {},
   "source": [
    "<div style=\"border:solid green 2px; padding: 20px\">\n",
    "        \n",
    "***Вывод:***         \n",
    "\n",
    "- Исследуемый датасет состоит из __3214__-ти строк и __6__-ти столбцов\n",
    "- Дубликаты и пропуски обнаружены не были.\n",
    "- Есть нулевые значения в столбце __calls__ - 40, __minutes__ - 40, __messages__ - 497,__mb_used__ - 11  \n",
    "- Cоотношения тарифов __Смарт__(69.40%) _ __Ультра__(30.60%)\n",
    "- Типы данных не требуют корректировки.\n",
    "    \n",
    "\n",
    "    Проведем цифровую оценку:\n",
    "- __calls__ - Среднее почти совпадает с медианой.  244 звонка вполне реально.\n",
    "- __minutes__ - Среднее почти совпадает с медианой 1632 минуты реально.\n",
    "- __messages__ - Среднее почти не совсем с медианой. Реально за месяц  послать 244 смс.\n",
    "- __mb_used__ - Среднее почти совпадает с медианой.  49 гигабайт трафика в месяц вполне реально.\n",
    "- 0 нулевые значения решено не трогать \n",
    "    \n",
    "    \n",
    "    \n",
    "    \n",
    "</div>"
   ]
  },
  {
   "cell_type": "markdown",
   "metadata": {},
   "source": [
    "<div class=\"alert alert-success\">\n",
    "<b>Комментарий ревьюера:</b>\n",
    "\n",
    "Достаточно детально изучили наши первичные данные, давай теперь их обработаем. \n",
    "    \n",
    "    \n",
    "</div>"
   ]
  },
  {
   "cell_type": "markdown",
   "metadata": {},
   "source": [
    "## Разбиение  данных на выборки\n",
    "[&#10224;](#step1)"
   ]
  },
  {
   "cell_type": "markdown",
   "metadata": {},
   "source": [
    " <div style=\"border:solid green 2px; padding: 20px\">\n",
    "    \n",
    "- Необходимо выборку поделить на __общую(обучающую), валидационную и тестовую__. Получим следующее процентное соотношение 60%-общая/20%-валидационная/20%-тестовая. Используем для этой задачи метод __train_test_split__ вначале получим из df  __df_train__ - общая выборка и __df_test_valid__ валидационная и тестовая выборки, после поделим попалам  __df_test_valid__ (40/2) и получим из неё 20% __df_test__ - тестовой выборки и 20% __df_valid__ - валидационной выборки.\n",
    "    \n",
    "## Разделим исходные данные нa:<a class=\"tocSkip\">\n",
    "     \n",
    "-  __обучающую__ - df_train выборку \n",
    "-  __валидационную__ - df_valid выборку\n",
    "-  __и тестовую выборки__ - df_test выборку  \n",
    "\n",
    "    [Создадим для каждой выборки свои признаки](#step2)\n",
    "</div>"
   ]
  },
  {
   "cell_type": "code",
   "execution_count": 20,
   "metadata": {},
   "outputs": [],
   "source": [
    "# получаем из датасета общую и валидационную выборки\n",
    "df_train,df_test_valid = train_test_split(df,test_size=0.4,random_state=12345)"
   ]
  },
  {
   "cell_type": "code",
   "execution_count": 21,
   "metadata": {},
   "outputs": [
    {
     "name": "stdout",
     "output_type": "stream",
     "text": [
      "60% 40%\n"
     ]
    }
   ],
   "source": [
    "# проверим, корректно ли поделились наши выборки\n",
    "def percent(df_1,df_2):\n",
    "    selection_1 = df_1.shape[0]/df.shape[0]\n",
    "    selection_2 = df_2.shape[0]/df.shape[0]\n",
    "    print('{:.0%} {:.0%}'.format(selection_1,selection_2))\n",
    "percent(df_train,df_test_valid)"
   ]
  },
  {
   "cell_type": "code",
   "execution_count": 22,
   "metadata": {},
   "outputs": [
    {
     "name": "stdout",
     "output_type": "stream",
     "text": [
      "20% 20%\n"
     ]
    }
   ],
   "source": [
    "#поделим тестовую и валидационную выборки пополам\n",
    "df_test,df_valid = train_test_split(df_test_valid,test_size=0.5,random_state=12345)\n",
    "percent(df_test,df_valid)"
   ]
  },
  {
   "cell_type": "code",
   "execution_count": 23,
   "metadata": {},
   "outputs": [
    {
     "name": "stdout",
     "output_type": "stream",
     "text": [
      "(1928, 6)\n",
      "(643, 6)\n",
      "(643, 6)\n"
     ]
    }
   ],
   "source": [
    "print(df_train.shape)\n",
    "print(df_test.shape)\n",
    "print(df_valid.shape)"
   ]
  },
  {
   "cell_type": "code",
   "execution_count": 24,
   "metadata": {},
   "outputs": [
    {
     "name": "stdout",
     "output_type": "stream",
     "text": [
      "1928\n",
      "[[0.7060653188180405, 0.2939346811819596]]\n",
      "643\n",
      "[[0.7060653188180405, 0.2939346811819596]]\n",
      "643\n",
      "[[0.7060653188180405, 0.2939346811819596]]\n"
     ]
    }
   ],
   "source": [
    "#проверим стратификацию поделенных выборок\n",
    "# не наблюдается ли перекоса\n",
    "def ratio(df_3):\n",
    "    print(df_3.shape[0])\n",
    "    df_3=df_test['is_ultra'].value_counts(normalize=True)\n",
    "    list = []\n",
    "    list.append([df_3.iloc[0],df_3.iloc[1]])\n",
    "    print(list)\n",
    "ratio(df_train) \n",
    "ratio(df_test)  \n",
    "ratio(df_valid)"
   ]
  },
  {
   "cell_type": "markdown",
   "metadata": {},
   "source": [
    "<div class=\"alert alert-success\">\n",
    "<b>Комментарий ревьюера:</b>\n",
    "\n",
    "    \n",
    "В целом выборка разделена верно. \n",
    "Я бы рекомендовал бы ещё использовать атрибут `stratify` для целевой переменной. Он дает нам безопасность сохранения 20% значений равного нужного нам количества классов в целевой переменной.\n",
    "    \n",
    "---\n",
    "    \n",
    "Хорошо, что используем параметр `random_state`, чтобы получать одни и те же результаты.\n",
    "    \n",
    "---\n",
    "    \n",
    "Кстати `random_state` можно определить в одной переменной, чтобы далее не дублировать одни и те же значения.\n",
    "    \n",
    "</div>"
   ]
  },
  {
   "cell_type": "markdown",
   "metadata": {},
   "source": [
    "__Подготовим выборки для загрузки в модель__"
   ]
  },
  {
   "cell_type": "markdown",
   "metadata": {},
   "source": [
    " <div style=\"border:solid green 2px; padding: 20px\">\n",
    "    \n",
    "\n",
    "    \n",
    "- Все впорядке, модели поделились корректно."
   ]
  },
  {
   "cell_type": "markdown",
   "metadata": {},
   "source": [
    "## Исследование  модели\n",
    "[&#10224;](#step1)"
   ]
  },
  {
   "cell_type": "markdown",
   "metadata": {},
   "source": [
    "<a id='step6'></a>"
   ]
  },
  {
   "cell_type": "markdown",
   "metadata": {},
   "source": [
    " <div style=\"border:solid green 2px; padding: 20px\">\n",
    "    \n",
    "\n",
    "В нашем случае имеем бинарные, а значит категориальные признаки, соответственно необходимо решить задачу двоичной классификации, для этого исследуем 3-ри модели машинного обучения (__Решающее дерево__ - DecisionTreeClassifier, __Cлучайный лес__ - RandomForestClassifier,__Логистическая регрессия__ - LogisticRegression) __Исследуем качество разных моделей__, меняя гиперпараметры. Кратко опишем выводы исследования. Выберем лучщие показатели, для дальнейшей проверки на тестовой выборке. Перед обучением моделей в обучающей и валидационной выборках выделем __общие__  и __целевой__ признаки.    \n",
    "\n",
    "## Протестируем модель на :<a class=\"tocSkip\">\n",
    "     \n",
    "-  __Решающем дереве__  - [DecisionTreeClassifier ](#step3)\n",
    "-  __Cлучайном лесе__    - [RandomForestClassifier ](#step4)\n",
    "-  __Логистической регрессии__ -  [LogisticRegression](#step5)\n",
    "    \n",
    "    \n",
    "    \n",
    "</div>"
   ]
  },
  {
   "cell_type": "markdown",
   "metadata": {},
   "source": [
    "<a id='step2'></a>"
   ]
  },
  {
   "cell_type": "markdown",
   "metadata": {},
   "source": [
    "__Признаки для Обучающей выборки__"
   ]
  },
  {
   "cell_type": "code",
   "execution_count": 25,
   "metadata": {},
   "outputs": [
    {
     "name": "stdout",
     "output_type": "stream",
     "text": [
      "(1928, 4)\n",
      "(1928,)\n"
     ]
    }
   ],
   "source": [
    "# по этим данным будут учиться наши модели. \n",
    "train_features = df_train.drop(['is_ultra','tariff'],axis=1)# соберем в переменной train_features общие пирзнаки\n",
    "train_target = df_train['is_ultra']# переменной train_target создадим целевой признак\n",
    "print(train_features.shape)\n",
    "print(train_target.shape)\n"
   ]
  },
  {
   "cell_type": "markdown",
   "metadata": {},
   "source": [
    "__Признаки для Валидационной выборки__"
   ]
  },
  {
   "cell_type": "markdown",
   "metadata": {},
   "source": [
    "__Валидационная выборка__ - набор данных, извлекаемый из исходного датасета, на\n",
    "которой проверяется качество работы алгоритма во\n",
    "время обучения модели"
   ]
  },
  {
   "cell_type": "code",
   "execution_count": 26,
   "metadata": {},
   "outputs": [
    {
     "name": "stdout",
     "output_type": "stream",
     "text": [
      "(643, 4)\n",
      "(643,)\n"
     ]
    }
   ],
   "source": [
    "valid_features = df_valid.drop(['is_ultra','tariff'],axis=1)# создаем общие признаки для валидационной выборки\n",
    "valid_target = df_valid['is_ultra']# создаем целевой  признак для валидационной выборки\n",
    "print(valid_features.shape)\n",
    "print(valid_target.shape)"
   ]
  },
  {
   "cell_type": "markdown",
   "metadata": {},
   "source": [
    "__Признаки для Тестовой выборки__"
   ]
  },
  {
   "cell_type": "code",
   "execution_count": 27,
   "metadata": {},
   "outputs": [
    {
     "name": "stdout",
     "output_type": "stream",
     "text": [
      "(643, 4)\n",
      "(643,)\n"
     ]
    }
   ],
   "source": [
    "\n",
    "test_features = df_test.drop(['is_ultra','tariff'],axis=1)# создаем общие признаки для тестовой выборки\n",
    "test_target = df_test['is_ultra']# создаем целевой  признак для тестовой выборки\n",
    "print(test_features.shape)\n",
    "print(test_target.shape)\n",
    "\n"
   ]
  },
  {
   "cell_type": "markdown",
   "metadata": {},
   "source": [
    "<a id='step3'></a>"
   ]
  },
  {
   "cell_type": "markdown",
   "metadata": {},
   "source": [
    "__Решающее дерево - DecisionTreeClassifier__<br>\n",
    "[&#10224;](#step6)"
   ]
  },
  {
   "cell_type": "code",
   "execution_count": 28,
   "metadata": {},
   "outputs": [
    {
     "name": "stdout",
     "output_type": "stream",
     "text": [
      "Accuracy лучшей модели:0.799378 при глубине дерева:7\n",
      "CPU times: user 65.1 ms, sys: 0 ns, total: 65.1 ms\n",
      "Wall time: 83.7 ms\n"
     ]
    }
   ],
   "source": [
    "%%time\n",
    "# %%time посмотрим время  обучения\n",
    "# создадим модель \"Дерево решений\"\n",
    "best_model = None\n",
    "best_result = 0\n",
    "best_depth = 0\n",
    "best_result_test = 0\n",
    "accuracy_Tree_valid={}\n",
    "for depth in range(1,10):\n",
    "    model = DecisionTreeClassifier(random_state=12345, max_depth=depth) # создадим модель с заданной глубиной дерева = depth\n",
    "    model.fit(train_features, train_target) # обучаем модель на обучающей выборке\n",
    "    #на валидационной\n",
    "    predictions = model.predict(valid_features) # получите предсказания модели на валидационной выборке\n",
    "    result = accuracy_score(valid_target, predictions) # посчитаем качество модели\n",
    "    accuracy_Tree_valid[depth]=result\n",
    "    \n",
    "    if result > best_result:\n",
    "        best_model = model\n",
    "        best_result = result\n",
    "        best_depth = depth\n",
    "        \n",
    "print('Accuracy лучшей модели:{:3f} при глубине дерева:{}'.format(best_result,best_depth))\n"
   ]
  },
  {
   "cell_type": "code",
   "execution_count": 29,
   "metadata": {},
   "outputs": [
    {
     "data": {
      "text/html": [
       "<div>\n",
       "<style scoped>\n",
       "    .dataframe tbody tr th:only-of-type {\n",
       "        vertical-align: middle;\n",
       "    }\n",
       "\n",
       "    .dataframe tbody tr th {\n",
       "        vertical-align: top;\n",
       "    }\n",
       "\n",
       "    .dataframe thead th {\n",
       "        text-align: right;\n",
       "    }\n",
       "</style>\n",
       "<table border=\"1\" class=\"dataframe\">\n",
       "  <thead>\n",
       "    <tr style=\"text-align: right;\">\n",
       "      <th></th>\n",
       "      <th>0</th>\n",
       "    </tr>\n",
       "  </thead>\n",
       "  <tbody>\n",
       "    <tr>\n",
       "      <td>7</td>\n",
       "      <td>0.80</td>\n",
       "    </tr>\n",
       "    <tr>\n",
       "      <td>8</td>\n",
       "      <td>0.79</td>\n",
       "    </tr>\n",
       "    <tr>\n",
       "      <td>5</td>\n",
       "      <td>0.78</td>\n",
       "    </tr>\n",
       "    <tr>\n",
       "      <td>9</td>\n",
       "      <td>0.78</td>\n",
       "    </tr>\n",
       "    <tr>\n",
       "      <td>3</td>\n",
       "      <td>0.78</td>\n",
       "    </tr>\n",
       "    <tr>\n",
       "      <td>6</td>\n",
       "      <td>0.78</td>\n",
       "    </tr>\n",
       "    <tr>\n",
       "      <td>2</td>\n",
       "      <td>0.77</td>\n",
       "    </tr>\n",
       "    <tr>\n",
       "      <td>4</td>\n",
       "      <td>0.77</td>\n",
       "    </tr>\n",
       "    <tr>\n",
       "      <td>1</td>\n",
       "      <td>0.74</td>\n",
       "    </tr>\n",
       "  </tbody>\n",
       "</table>\n",
       "</div>"
      ],
      "text/plain": [
       "     0\n",
       "7 0.80\n",
       "8 0.79\n",
       "5 0.78\n",
       "9 0.78\n",
       "3 0.78\n",
       "6 0.78\n",
       "2 0.77\n",
       "4 0.77\n",
       "1 0.74"
      ]
     },
     "metadata": {},
     "output_type": "display_data"
    },
    {
     "data": {
      "image/png": "[encoded data removed]",
      "text/plain": [
       "<Figure size 432x288 with 1 Axes>"
      ]
     },
     "metadata": {
      "needs_background": "light"
     },
     "output_type": "display_data"
    }
   ],
   "source": [
    "def show_accuracy(accuracy_dict):# функцией show_accuracy выведем результаты Accuracy по глубинам дерева\n",
    "    global show__result\n",
    "    show__result = pd.DataFrame.from_dict(accuracy_dict,orient='index')\n",
    "    display(show__result.sort_values(by=show__result.columns[0],ascending=False ).head(10))    \n",
    "show_accuracy(accuracy_Tree_valid)\n",
    "ax1= plt.plot(show__result)"
   ]
  },
  {
   "cell_type": "markdown",
   "metadata": {},
   "source": [
    "<div class=\"alert alert-success\">\n",
    "<b>Комментарий ревьюера:</b>\n",
    "\n",
    "    \n",
    "Отличный способ визуализировать данные по расчетам.\n",
    "    \n",
    "---\n",
    "    \n",
    "Хорошо, что используем цикл для перебора наших гиперпараметров в поиске лучше модели. Почти сразу мы получаем хороший результат 👍\n",
    "    \n",
    "</div>"
   ]
  },
  {
   "cell_type": "markdown",
   "metadata": {},
   "source": [
    "<a id='step4'></a>"
   ]
  },
  {
   "cell_type": "markdown",
   "metadata": {},
   "source": [
    "__Cлучайный лес - RandomForestClassifier__<br>\n",
    "[&#10224;](#step6)"
   ]
  },
  {
   "cell_type": "code",
   "execution_count": 30,
   "metadata": {},
   "outputs": [
    {
     "name": "stdout",
     "output_type": "stream",
     "text": [
      " Accuracy наилучшей модели на валидационной выборке: 0.8087091757387247 \n",
      " Количество деревьев: 10 \n",
      " Максимальная глубина: 8 \n",
      " минимальное количество примеров для разделения: 4 \n",
      " Минимальное количество объектов в листе: 1\n",
      "CPU times: user 11.6 s, sys: 62.2 ms, total: 11.7 s\n",
      "Wall time: 11.8 s\n"
     ]
    }
   ],
   "source": [
    "%%time\n",
    "# %%time посмотрим время  обучения\n",
    "#обучим модель \"случайный лес\" для предсказания тарифа на валидационной выборке\n",
    "best_model = None\n",
    "best_result = 0\n",
    "best_est = 0\n",
    "best_depth = 0\n",
    "best_split = 0\n",
    "best_samples = 0\n",
    "accuracy_valid_Forest={}\n",
    "for est in range(10,51, 10):\n",
    "    for depth in range(1, 9):\n",
    "        for spl in range(2, 5):\n",
    "            for leaf in range(1,2):\n",
    "                model = RandomForestClassifier(random_state=12345, n_estimators=est,max_depth=depth,min_samples_split=spl,\\\n",
    "                                                  min_samples_leaf=leaf) \n",
    "                                                   # инициализируем модель с параметрами\n",
    "                model.fit(train_features, train_target) # обучим модель на тренировочной выборке\n",
    "                #на валидационной\n",
    "                result = model.score(valid_features,valid_target) # посчитайте качество модели на валидационной выборке\n",
    "                accuracy_valid_Forest[depth]=result\n",
    "                \n",
    "            if result > best_result:\n",
    "                best_model = model# сохраните наилучшую модель\n",
    "                best_result = result #  сохраните наилучшее значение метрики accuracy на валидационных данных\n",
    "                best_est = est\n",
    "                best_depth = depth\n",
    "                best_split = spl\n",
    "                best_samples = leaf             \n",
    "print(\" Accuracy наилучшей модели на валидационной выборке:\", best_result,'\\n',\n",
    "     \"Количество деревьев:\",best_est,'\\n',\n",
    "     \"Максимальная глубина:\", best_depth,'\\n',\n",
    "     \"минимальное количество примеров для разделения:\",  best_split,'\\n',\n",
    "      \"Минимальное количество объектов в листе:\", best_samples)\n",
    "        \n",
    "   "
   ]
  },
  {
   "cell_type": "code",
   "execution_count": 43,
   "metadata": {},
   "outputs": [
    {
     "data": {
      "text/html": [
       "<div>\n",
       "<style scoped>\n",
       "    .dataframe tbody tr th:only-of-type {\n",
       "        vertical-align: middle;\n",
       "    }\n",
       "\n",
       "    .dataframe tbody tr th {\n",
       "        vertical-align: top;\n",
       "    }\n",
       "\n",
       "    .dataframe thead th {\n",
       "        text-align: right;\n",
       "    }\n",
       "</style>\n",
       "<table border=\"1\" class=\"dataframe\">\n",
       "  <thead>\n",
       "    <tr style=\"text-align: right;\">\n",
       "      <th></th>\n",
       "      <th>0</th>\n",
       "    </tr>\n",
       "  </thead>\n",
       "  <tbody>\n",
       "    <tr>\n",
       "      <td>8</td>\n",
       "      <td>0.80</td>\n",
       "    </tr>\n",
       "    <tr>\n",
       "      <td>6</td>\n",
       "      <td>0.80</td>\n",
       "    </tr>\n",
       "    <tr>\n",
       "      <td>7</td>\n",
       "      <td>0.80</td>\n",
       "    </tr>\n",
       "    <tr>\n",
       "      <td>5</td>\n",
       "      <td>0.79</td>\n",
       "    </tr>\n",
       "    <tr>\n",
       "      <td>4</td>\n",
       "      <td>0.78</td>\n",
       "    </tr>\n",
       "    <tr>\n",
       "      <td>3</td>\n",
       "      <td>0.78</td>\n",
       "    </tr>\n",
       "    <tr>\n",
       "      <td>2</td>\n",
       "      <td>0.77</td>\n",
       "    </tr>\n",
       "    <tr>\n",
       "      <td>1</td>\n",
       "      <td>0.74</td>\n",
       "    </tr>\n",
       "  </tbody>\n",
       "</table>\n",
       "</div>"
      ],
      "text/plain": [
       "     0\n",
       "8 0.80\n",
       "6 0.80\n",
       "7 0.80\n",
       "5 0.79\n",
       "4 0.78\n",
       "3 0.78\n",
       "2 0.77\n",
       "1 0.74"
      ]
     },
     "metadata": {},
     "output_type": "display_data"
    },
    {
     "data": {
      "image/png": "[encoded data removed]",
      "text/plain": [
       "<Figure size 432x288 with 1 Axes>"
      ]
     },
     "metadata": {
      "needs_background": "light"
     },
     "output_type": "display_data"
    }
   ],
   "source": [
    "show_accuracy(accuracy_valid_Forest)\n",
    "ax1= plt.plot(show__result)"
   ]
  },
  {
   "cell_type": "markdown",
   "metadata": {},
   "source": [
    "<div class=\"alert alert-success\">\n",
    "<b>Комментарий ревьюера:</b>\n",
    "\n",
    "    \n",
    "Результат уже лучше, чем у решающего дерева 👍\n",
    "    \n",
    "---\n",
    "    \n",
    "Кстати мы можем использовать бОльшее количество деревьев например 100-150 с шагом в 10 шт.\n",
    "    \n",
    "</div>"
   ]
  },
  {
   "cell_type": "markdown",
   "metadata": {},
   "source": [
    "<a id='step5'></a>"
   ]
  },
  {
   "cell_type": "markdown",
   "metadata": {},
   "source": [
    "__Логистическая регрессия - LogisticRegression__<br>\n",
    "[&#10224;](#step6)"
   ]
  },
  {
   "cell_type": "code",
   "execution_count": 32,
   "metadata": {},
   "outputs": [
    {
     "name": "stdout",
     "output_type": "stream",
     "text": [
      " Accuracy модели логистической регрессии на валидационной выборке: 0.7402799377916018\n",
      "CPU times: user 25.3 ms, sys: 52 µs, total: 25.4 ms\n",
      "Wall time: 23.2 ms\n"
     ]
    }
   ],
   "source": [
    "%%time\n",
    "# %%time посмотрим время  обучения\n",
    "warnings.filterwarnings(\"ignore\")# игнорируем выведение предупре\n",
    "# создадим модель \"Логистическая регрессия\"\n",
    "model = LogisticRegression(random_state=12345) # инициализируйте модель логистической регрессии с параметром random_state=12345\n",
    "model.fit(train_features, train_target) # обучим модель на тренировочной выборке\n",
    "result = model.score(valid_features,valid_target) # получите метрику качества модели на валидационной выборке\n",
    "print(\" Accuracy модели логистической регрессии на валидационной выборке:\", result)"
   ]
  },
  {
   "cell_type": "markdown",
   "metadata": {},
   "source": [
    "<div class=\"alert alert-success\">\n",
    "<b>Комментарий ревьюера:</b>\n",
    "\n",
    "В том числе можно было попробвать и сравнить параметр `C` у логистической регрессии. \n",
    "    \n",
    "---\n",
    "    \n",
    "Кстати для автоматического перебора гиперпараметров мы можем использовать готовый метод `GreadSearchCV` в библиотеке `sklearn`. \n",
    "    \n",
    "</div>"
   ]
  },
  {
   "cell_type": "markdown",
   "metadata": {},
   "source": [
    "<div style=\"border:solid green 2px; padding: 20px\">\n",
    "        \n",
    "***Вывод:***         \n",
    "\n",
    "\n",
    " Наилучший результат на валидационной выборке  показал алгоритм  __Cлучайный лес__ - (RandomForestClassifier)  __(0.809)__ время обработки составило __11.6 s__. Следующий результат __(0.799)__ показал алгоритм __Решающее дерево__ - DecisionTreeClassifier  время обучения составило __64 ms__ , что значительно быстрее алгоритма Случайный лес. Алгоритм __Логистическая регрессия__ - LogisticRegression на валидационной выборке показал наихудший результат  __(0.740)__  но с наилучшией скоростью  обучения __22 ms__ \n",
    " - Успешность алгоритма __Cлучайный лес__  объясняется более широкими возможностями по настройке параметров и гиперпараметров. \n",
    " - Сложность алгоритма отрицательно сказывается на скорости выполнения  обучения. Лучший результат был получен при следующих настройках: - Количество деревьев: __10__  Максимальная глубина: __8__  минимальное количество примеров для разделения: __4__ \n",
    " Минимальное количество объектов в листе: __1__\n",
    " - Результаты полученные в двух  алгоритмах обучения, отвечают заданной метрике качества модели 0.75 Логистическая регрессия показале результат 74%. На следующем этапе проверим и сравним их с  результатами на тестовой выборке.\n",
    "</div>"
   ]
  },
  {
   "cell_type": "markdown",
   "metadata": {},
   "source": [
    "## Проверка модели на тестовой выборке\n",
    "[&#10224;](#step1)"
   ]
  },
  {
   "cell_type": "code",
   "execution_count": 33,
   "metadata": {},
   "outputs": [
    {
     "name": "stdout",
     "output_type": "stream",
     "text": [
      "Общие признаки из тестовой выборки: \n",
      " calls       643\n",
      "minutes     643\n",
      "messages    643\n",
      "mb_used     643\n",
      "dtype: int64\n",
      "Целевой признак из тестовой выборки: \n",
      " 0    454\n",
      "1    189\n",
      "Name: is_ultra, dtype: int64\n"
     ]
    }
   ],
   "source": [
    "print('Общие признаки из тестовой выборки:','\\n',test_features.count())\n",
    "print('Целевой признак из тестовой выборки:','\\n', test_target.value_counts())"
   ]
  },
  {
   "cell_type": "markdown",
   "metadata": {},
   "source": [
    "__Проверим тестовую выборку на Дереве решений__"
   ]
  },
  {
   "cell_type": "code",
   "execution_count": 34,
   "metadata": {},
   "outputs": [
    {
     "name": "stdout",
     "output_type": "stream",
     "text": [
      "Accuracy лучшей модели на тестовой выборке: 0.785381 при глубине дерева:3\n",
      "CPU times: user 59.7 ms, sys: 0 ns, total: 59.7 ms\n",
      "Wall time: 58.4 ms\n"
     ]
    }
   ],
   "source": [
    "%%time\n",
    "# %%time посмотрим время  обучения\n",
    "# создадим модель \"Дерево решений\"\n",
    "best_model = None\n",
    "best_result_test_tree = 0\n",
    "best_depth = 0\n",
    "accuracy_Tree_test={}\n",
    "for depth in range(1,10):\n",
    "    model = DecisionTreeClassifier(random_state=12345, max_depth=depth) # создадим модель с заданной глубиной дерева = depth\n",
    "    model.fit(train_features, train_target) # обучаем модель на обучающей выборке\n",
    "    #на тестовой\n",
    "    test_predict = model.predict(test_features)# получим предсказания модели на тестовой выборке\n",
    "    test_accuracy = accuracy_score(test_predict,test_target)# посчитаем качество модели\n",
    "    accuracy_Tree_test[depth]=test_accuracy\n",
    "    if test_accuracy > best_result_test_tree:\n",
    "        best_model = model\n",
    "        best_result_test_tree = test_accuracy\n",
    "        best_depth = depth\n",
    "        \n",
    "print('Accuracy лучшей модели на тестовой выборке: {:3f} при глубине дерева:{}'.format(best_result_test_tree,best_depth))"
   ]
  },
  {
   "cell_type": "code",
   "execution_count": 35,
   "metadata": {},
   "outputs": [
    {
     "data": {
      "text/html": [
       "<div>\n",
       "<style scoped>\n",
       "    .dataframe tbody tr th:only-of-type {\n",
       "        vertical-align: middle;\n",
       "    }\n",
       "\n",
       "    .dataframe tbody tr th {\n",
       "        vertical-align: top;\n",
       "    }\n",
       "\n",
       "    .dataframe thead th {\n",
       "        text-align: right;\n",
       "    }\n",
       "</style>\n",
       "<table border=\"1\" class=\"dataframe\">\n",
       "  <thead>\n",
       "    <tr style=\"text-align: right;\">\n",
       "      <th></th>\n",
       "      <th>0</th>\n",
       "    </tr>\n",
       "  </thead>\n",
       "  <tbody>\n",
       "    <tr>\n",
       "      <td>3</td>\n",
       "      <td>0.79</td>\n",
       "    </tr>\n",
       "    <tr>\n",
       "      <td>6</td>\n",
       "      <td>0.78</td>\n",
       "    </tr>\n",
       "    <tr>\n",
       "      <td>2</td>\n",
       "      <td>0.78</td>\n",
       "    </tr>\n",
       "    <tr>\n",
       "      <td>7</td>\n",
       "      <td>0.78</td>\n",
       "    </tr>\n",
       "    <tr>\n",
       "      <td>9</td>\n",
       "      <td>0.78</td>\n",
       "    </tr>\n",
       "    <tr>\n",
       "      <td>4</td>\n",
       "      <td>0.78</td>\n",
       "    </tr>\n",
       "    <tr>\n",
       "      <td>5</td>\n",
       "      <td>0.78</td>\n",
       "    </tr>\n",
       "    <tr>\n",
       "      <td>8</td>\n",
       "      <td>0.78</td>\n",
       "    </tr>\n",
       "    <tr>\n",
       "      <td>1</td>\n",
       "      <td>0.75</td>\n",
       "    </tr>\n",
       "  </tbody>\n",
       "</table>\n",
       "</div>"
      ],
      "text/plain": [
       "     0\n",
       "3 0.79\n",
       "6 0.78\n",
       "2 0.78\n",
       "7 0.78\n",
       "9 0.78\n",
       "4 0.78\n",
       "5 0.78\n",
       "8 0.78\n",
       "1 0.75"
      ]
     },
     "metadata": {},
     "output_type": "display_data"
    },
    {
     "data": {
      "image/png": "[encoded data removed]",
      "text/plain": [
       "<Figure size 432x288 with 1 Axes>"
      ]
     },
     "metadata": {
      "needs_background": "light"
     },
     "output_type": "display_data"
    }
   ],
   "source": [
    "#посмотрим точность на тестовой выборке вызовем функцию show_accuracy \n",
    "show_accuracy(accuracy_Tree_test)\n",
    "#подготовим данные по accuracy на тестовых и валидационных выборках\n",
    "val_tree = pd.DataFrame.from_dict(accuracy_Tree_valid,orient='index')\n",
    "test_tree = pd.DataFrame.from_dict(accuracy_Tree_test,orient='index')\n",
    "#построим график\n",
    "plt.plot(val_tree)\n",
    "plt.plot(test_tree,'r--')\n",
    "plt.title('Точность предсказания модели')\n",
    "plt.xlabel('Глубина дерева');\n",
    "plt.ylabel('Accuracy');\n",
    "plt.legend(['valid','test']);"
   ]
  },
  {
   "cell_type": "markdown",
   "metadata": {},
   "source": [
    "__Проверим тестовую выборку на Случайном лесе__"
   ]
  },
  {
   "cell_type": "code",
   "execution_count": 36,
   "metadata": {},
   "outputs": [
    {
     "name": "stdout",
     "output_type": "stream",
     "text": [
      " Accuracy наилучшей модели на валидационной выборке: 0.8102643856920684 \n",
      " Количество деревьев: 40 \n",
      " Максимальная глубина: 7 \n",
      " минимальное количество примеров для разделения: 4 \n",
      " Минимальное количество объектов в листе: 1\n",
      "CPU times: user 11.5 s, sys: 52.5 ms, total: 11.6 s\n",
      "Wall time: 11.6 s\n"
     ]
    }
   ],
   "source": [
    "%%time\n",
    "# %%time посмотрим время  обучения\n",
    "#обучим модель \"случайный лес\" для предсказания тарифа на тестовой выборке\n",
    "best_model = None\n",
    "best_result_test_forest = 0\n",
    "best_est = 0\n",
    "best_depth = 0\n",
    "best_split = 0\n",
    "best_samples = 0\n",
    "accuracy_Forest_test={}\n",
    "for est in range(10,51, 10):\n",
    "    for depth in range(1, 9):\n",
    "        for spl in range(2, 5):\n",
    "            for leaf in range(1,2):\n",
    "                model = RandomForestClassifier(random_state=12345, n_estimators=est,max_depth=depth,min_samples_split=spl,\\\n",
    "                                                  min_samples_leaf=leaf) \n",
    "                                                   # инициализируем модель с параметрами\n",
    "                model.fit(train_features, train_target) # обучим модель на тренировочной выборке\n",
    "                #на тестовой\n",
    "                test_predict_Forest = model.score(test_features,test_target)\n",
    "                accuracy_Forest_test[depth]=test_predict_Forest\n",
    "            if test_predict_Forest > best_result_test_forest:\n",
    "                best_model = model# сохраните наилучшую модель\n",
    "                best_result_test_forest = test_predict_Forest #  сохраните наилучшее значение метрики accuracy на валидационных данных\n",
    "                best_est = est\n",
    "                best_depth = depth\n",
    "                best_split = spl\n",
    "                best_samples = leaf    \n",
    "                \n",
    "print(\" Accuracy наилучшей модели на валидационной выборке:\", best_result_test_forest,'\\n',\n",
    "     \"Количество деревьев:\",best_est,'\\n',\n",
    "     \"Максимальная глубина:\", best_depth,'\\n',\n",
    "     \"минимальное количество примеров для разделения:\",  best_split,'\\n',\n",
    "      \"Минимальное количество объектов в листе:\", best_samples)\n",
    "        "
   ]
  },
  {
   "cell_type": "markdown",
   "metadata": {},
   "source": [
    "<div class=\"alert alert-success\">\n",
    "<b>Комментарий ревьюера:</b>\n",
    "\n",
    "Кстати нам совсем не обязательно искать заново лучшую модель, ведь мы её уже нашли на валидационной выборке.\n",
    "    \n",
    "Мы можем взять получившиеся параметры, поместить в модель и проверить на тестовой выборке.\n",
    "    \n",
    "\n",
    "    \n",
    "</div>"
   ]
  },
  {
   "cell_type": "code",
   "execution_count": 37,
   "metadata": {},
   "outputs": [
    {
     "data": {
      "text/html": [
       "<div>\n",
       "<style scoped>\n",
       "    .dataframe tbody tr th:only-of-type {\n",
       "        vertical-align: middle;\n",
       "    }\n",
       "\n",
       "    .dataframe tbody tr th {\n",
       "        vertical-align: top;\n",
       "    }\n",
       "\n",
       "    .dataframe thead th {\n",
       "        text-align: right;\n",
       "    }\n",
       "</style>\n",
       "<table border=\"1\" class=\"dataframe\">\n",
       "  <thead>\n",
       "    <tr style=\"text-align: right;\">\n",
       "      <th></th>\n",
       "      <th>0</th>\n",
       "    </tr>\n",
       "  </thead>\n",
       "  <tbody>\n",
       "    <tr>\n",
       "      <td>7</td>\n",
       "      <td>0.81</td>\n",
       "    </tr>\n",
       "    <tr>\n",
       "      <td>6</td>\n",
       "      <td>0.80</td>\n",
       "    </tr>\n",
       "    <tr>\n",
       "      <td>5</td>\n",
       "      <td>0.80</td>\n",
       "    </tr>\n",
       "    <tr>\n",
       "      <td>8</td>\n",
       "      <td>0.80</td>\n",
       "    </tr>\n",
       "    <tr>\n",
       "      <td>3</td>\n",
       "      <td>0.79</td>\n",
       "    </tr>\n",
       "    <tr>\n",
       "      <td>4</td>\n",
       "      <td>0.79</td>\n",
       "    </tr>\n",
       "    <tr>\n",
       "      <td>2</td>\n",
       "      <td>0.78</td>\n",
       "    </tr>\n",
       "    <tr>\n",
       "      <td>1</td>\n",
       "      <td>0.76</td>\n",
       "    </tr>\n",
       "  </tbody>\n",
       "</table>\n",
       "</div>"
      ],
      "text/plain": [
       "     0\n",
       "7 0.81\n",
       "6 0.80\n",
       "5 0.80\n",
       "8 0.80\n",
       "3 0.79\n",
       "4 0.79\n",
       "2 0.78\n",
       "1 0.76"
      ]
     },
     "metadata": {},
     "output_type": "display_data"
    },
    {
     "data": {
      "image/png": "[encoded data removed]",
      "text/plain": [
       "<Figure size 432x288 with 1 Axes>"
      ]
     },
     "metadata": {
      "needs_background": "light"
     },
     "output_type": "display_data"
    }
   ],
   "source": [
    "#посмотрим точность на тестовой выборке вызовем функцию show_accuracy \n",
    "show_accuracy(accuracy_Forest_test)\n",
    "#подготовим данные по accuracy на тестовых и валидационных выборках\n",
    "test_forest = pd.DataFrame.from_dict(accuracy_Forest_test,orient='index')\n",
    "val_forest = pd.DataFrame.from_dict(accuracy_valid_Forest,orient='index')\n",
    "#построим график\n",
    "plt.plot(val_forest)\n",
    "plt.plot(test_forest,'r--')\n",
    "plt.title('Точность предсказания модели')\n",
    "plt.xlabel('Глубина дерева');\n",
    "plt.ylabel('Accuracy');\n",
    "plt.legend(['valid','test']);"
   ]
  },
  {
   "cell_type": "markdown",
   "metadata": {},
   "source": [
    "__Проверим тестовую выборку на Логистической регрессии__\n"
   ]
  },
  {
   "cell_type": "code",
   "execution_count": 38,
   "metadata": {},
   "outputs": [
    {
     "name": "stdout",
     "output_type": "stream",
     "text": [
      "Accuracy модели логистической регрессии на тестовой выборке: 0.7589424572317263\n",
      "CPU times: user 18.3 ms, sys: 7.99 ms, total: 26.2 ms\n",
      "Wall time: 23.8 ms\n"
     ]
    }
   ],
   "source": [
    "%%time\n",
    "# %%time посмотрим время  обучения\n",
    "warnings.filterwarnings(\"ignore\")# игнорируем выведение предупре\n",
    "# создадим модель \"Логистическая регрессия\"\n",
    "model = LogisticRegression(random_state=12345) # инициализируйте модель логистической регрессии с параметром random_state=12345\n",
    "model.fit(train_features, train_target) # обучим модель на тренировочной выборке\n",
    "result_test = model.score(test_features,test_target) # получите метрику качества модели на тестовой  выборке\n",
    "print(\"Accuracy модели логистической регрессии на тестовой выборке:\", result_test)"
   ]
  },
  {
   "cell_type": "markdown",
   "metadata": {},
   "source": [
    "<div style=\"border:solid green 2px; padding: 20px\"> \n",
    "    \n",
    "***Вывод:***         \n",
    "\n",
    "\n",
    "- Качество модели __Дерево решений__ на тестовой выборке равно  __78.53%__ (валидационная  показала 79.9%)\n",
    "- Качество модели __Логистическая регрессия__ на тестовой выборке равно    __75.89%__ (валидационная  показала 74%)\n",
    "- Качество модели __Случайный лес__ на тестовой выборке равно    __81%__ (валидационная  показала 80.87%)\n",
    " \n",
    "Качество моделей на тестовой выборке в алгоритмах __Логистическая регрессия__ и __Случайный лес__ улучшилось по сравнени в валидационной. __Решающее дерево__ в тестовой выборке, показало уменьшение качества модели по сравнению с результатами из  валидационной выборки.\n",
    "</div>"
   ]
  },
  {
   "cell_type": "markdown",
   "metadata": {},
   "source": [
    "<div class=\"alert alert-success\">\n",
    "<b>Комментарий ревьюера:</b>\n",
    "\n",
    "Супер, цель достигнута 👍\n",
    "    \n",
    "    \n",
    "Кстати, перед проверкой нашей модели на тестовой выборке, рекомендую соединять валидационную и обучающую выборки и еще раз обучить модель. Так мы получим бОльшее количество данных для обучения.\n",
    "    \n",
    "\n",
    "    \n",
    "</div>"
   ]
  },
  {
   "cell_type": "markdown",
   "metadata": {},
   "source": [
    "##  Проверка модели на адекватность (бонус)\n",
    "[&#10224;](#step1)"
   ]
  },
  {
   "cell_type": "markdown",
   "metadata": {},
   "source": [
    "Сравним нашу модель с классификатором __DummyClassifier__, который делает прогнозы с использованием простых правил. \n",
    "Это позволит понять, что наша модель не хуже чем примитивная модель. Нам нужно понять,что точность модели не близка к случайной. "
   ]
  },
  {
   "cell_type": "code",
   "execution_count": 39,
   "metadata": {},
   "outputs": [
    {
     "name": "stdout",
     "output_type": "stream",
     "text": [
      "Качество  примитивной модели на данной выборке: 0.5909797822706065\n"
     ]
    }
   ],
   "source": [
    "clf = DummyClassifier(strategy='stratified', random_state=42)\n",
    "clf.fit(train_features,train_target)\n",
    "\n",
    "print('Качество  примитивной модели на данной выборке:',clf.score(predictions,valid_target,))\n"
   ]
  },
  {
   "cell_type": "markdown",
   "metadata": {},
   "source": [
    "<div style=\"border:solid green 2px; padding: 20px\"> \n",
    "    \n",
    "***Вывод:***  \n",
    "Качество  примитивной модели  __DummyClassifier__ на данной выборке показало 59% это дает возможность утверждать, что наша модель  на алгоритме __Случайный лес__   будет эффективней, чем рандомное назначение тарифов.\n",
    "</div>"
   ]
  },
  {
   "cell_type": "markdown",
   "metadata": {},
   "source": [
    "<div class=\"alert alert-success\">\n",
    "<b>Комментарий ревьюера:</b>\n",
    "\n",
    "Отлично 😊\n",
    "    \n",
    "Кстати константную модель можно посчитать в том числе простым образом используя например расчет долей классов.\n",
    "    \n",
    "</div>"
   ]
  },
  {
   "cell_type": "markdown",
   "metadata": {},
   "source": [
    "##  Общий вывод \n",
    "[&#10224;](#step1)"
   ]
  },
  {
   "cell_type": "markdown",
   "metadata": {},
   "source": [
    "<div style=\"border:solid green 2px; padding: 20px\"> \n",
    "    \n",
    " - В данном проекте на основании показателей потребления услуг оператора связи, была создана простая рекомендательная система, которая предлагает пользователям с архивными тарифами перейти на актуальные тарифы __'Ультра'__ либо __'Смарт'__\n",
    "    \n",
    "Задача выбора тарифа является задачей двоичной (бинарной) классификации, для её реализации были использованы классификаторы библиотеки ___sklearn___:<br>\n",
    "-  __Решающем дереве__  - [DecisionTreeClassifier ](#step3) max результат __валидационная__ выборка - __79.9%__\n",
    "-  __Cлучайном лесе__    - [RandomForestClassifier ](#step4) max результат __тестовая__ выборка - __81%__\n",
    "-  __Логистической регрессии__ -  [LogisticRegression](#step5)max результат __тестовая__ выборка - __75.89__\n",
    "    \n",
    "__Наихудщий результат__ показал алгоритм  __Логистической регрессии__ -  (LogisticRegression) на валидационной выборке __74%__ \n",
    "\n",
    "__Наилучшие результаты__, в даннной задаче, показал алгоритм библиотеки sklearn __Cлучайный лес__ -(DecisionTreeClassifier) этот классификатор позволил получить значительную долю правильных ответов, как на валидационной  __80.87%__, так и на тестовой  __81%__выборках. Классификатор __Cлучайный лес__ имеет более широкие возможности по настройке параметров, это позволяет ему более точно получать ответы. Платой за более полные  настройки параметров, является потеря скорости обучения. Данный алгоритм оказался самым медленным.\n",
    "    \n",
    "\n",
    "</div>"
   ]
  },
  {
   "cell_type": "markdown",
   "metadata": {},
   "source": [
    "<div class=\"alert alert-success\">\n",
    "<b>Комментарий ревьюера:</b>\n",
    "\n",
    "Выводы понятны и логичны, а самое главное подкреплены выявленными фактами.\n",
    "       \n",
    "В целом сам проект выполнен на хорошем уровне! На протяжении всей работы чувствуется глубина проработки задачи и это безусловный плюс для нас. Было использовано большое количество методов, которые будут помогать тебе в дальнейших проектах.\n",
    "    \n",
    "    \n",
    "Поздравляю с успешным завершением проекта 😊👍\n",
    "    \n",
    "И желаю успехов в новых работах 😊\n",
    "\n",
    "    \n",
    "</div>"
   ]
  },
  {
   "cell_type": "markdown",
   "metadata": {},
   "source": [
    "## Чек-лист готовности проекта<a class=\"tocSkip\">\n",
    "[&#10224;](#step1)"
   ]
  },
  {
   "cell_type": "markdown",
   "metadata": {},
   "source": [
    "Поставьте 'x' в выполненных пунктах. Далее нажмите Shift+Enter."
   ]
  },
  {
   "cell_type": "markdown",
   "metadata": {},
   "source": [
    "- [x] Jupyter Notebook открыт\n",
    "- [x] Весь код исполняется без ошибок\n",
    "- [x] Ячейки с кодом расположены в порядке исполнения\n",
    "- [x] Выполнено задание 1: данные загружены и изучены\n",
    "- [x] Выполнено задание 2: данные разбиты на три выборки\n",
    "- [x] Выполнено задание 3: проведено исследование моделей\n",
    "    - [x] Рассмотрено больше одной модели\n",
    "    - [x] Рассмотрено хотя бы 3 значения гипепараметров для какой-нибудь модели\n",
    "    - [x] Написаны выводы по результатам исследования\n",
    "- [x] Выполнено задание 3: Проведено тестирование\n",
    "- [x] Удалось достичь accuracy не меньше 0.75\n"
   ]
  },
  {
   "cell_type": "markdown",
   "metadata": {},
   "source": [
    "<a id='step7'></a>"
   ]
  },
  {
   "cell_type": "markdown",
   "metadata": {},
   "source": [
    " <div style=\"border:solid green 2px; padding: 20px\">\n",
    "\n",
    "___Описание проекта___<br>\n",
    "[&#10224;](#step1)\n",
    "\n",
    " \n",
    "\n",
    "   Оператор мобильной связи «Мегалайн» выяснил: многие клиенты пользуются архивными тарифами. __Они хотят построить систему__, <font color='red'>способную проанализировать поведение клиентов и предложить пользователям новый тариф: «Смарт» или «Ультра»</font>.<br>\n",
    "  В вашем распоряжении данные о поведении клиентов, которые уже перешли на эти тарифы (из проекта курса «Статистический анализ данных»). <font color='red'>Нужно построить модель для задачи классификации, которая выберет подходящий тариф.</font> Предобработка данных не понадобится — вы её уже сделали.\n",
    "Постройте модель с __максимально большим__ значением __accuracy.__ Чтобы сдать проект успешно, нужно довести долю правильных ответов по крайней мере __до 0.75.__ __Проверьте accuracy на тестовой выборке самостоятельно.__\n",
    "    \n",
    "    \n",
    "***Инструкция по выполнению проекта***\n",
    "    \n",
    "  ___Шаг 1. Откройте файл с данными и изучите общую информацию___<br>\n",
    "Путь к файлу: /datasets/users_behavior.csv. Скачать датасет\n",
    "    \n",
    " ___Шаг 2. Разбейте данные на выборки___<br>\n",
    "- Разделите исходные данные на обучающую, валидационную и тестовую выборки.<br>\n",
    "    \n",
    "___Шаг 3. Проведите исследовательский анализ данных___<br>\n",
    "- Исследуйте качество разных моделей, меняя гиперпараметры. Кратко напишите выводы исследования.\n",
    "    \n",
    "___Шаг 4. Проверьте качество модели на тестовой выборке.___<br>\n",
    "    \n",
    "\n",
    "    \n",
    "___Шаг 5.Дополнительное задание:___<br>\n",
    "-  Проверьте модели на вменяемость. Ничего страшного, если не получится: эти данные сложнее тех, с которыми вы работали раньше. В следующем курсе подробнее об этом расскажем.\n",
    "    \n",
    "___Шаг 6. Напишите общий вывод___<br>\n",
    "    \n",
    "**Оформление:**\n",
    "- Выполните задание в Jupyter Notebook. Заполните программный код в ячейках типа code, текстовые пояснения — в ячейках типа markdown. Примените форматирование и заголовки.   \n",
    "    \n",
    "    \n",
    "    \n",
    "    \n",
    "    \n",
    "    \n",
    "***Описание данных*** <br>\n",
    " \n",
    " ___Каждый объект в наборе данных___ — это информация о поведении одного пользователя за месяц. Известно:\n",
    "- ***сalls***  — количество звонков\n",
    "-***minutes*** — суммарная длительность звонков в минутах,\n",
    "-***messages*** — количество sms-сообщений,\n",
    "-***mb_used*** — израсходованный интернет-трафик в Мб,\n",
    "-***is_ultra*** — каким тарифом пользовался в течение месяца («Ультра» — 1, «Смарт» — 0).    \n",
    "    \n",
    "***На что обращают внимание ревьюеры, проверяя проект:***\n",
    "\n",
    "- Как вы изучаете данные после загрузки?\n",
    "- Корректно ли разделяете данные на выборки?\n",
    "- Как выбираете размеры выборок?\n",
    "- Правильно ли вы оцениваете качество моделей в исследовании?\n",
    "- Какие модели и гиперпараметры вы используете?\n",
    "- Какие выводы об исследовании делаете?\n",
    "- Правильно ли тестируете модели?\n",
    "- Насколько высокое значение accuracy получаете?\n",
    "- Соблюдаете структуру проекта и поддерживаете аккуратность кода?\n",
    "    \n",
    "    \n",
    "</div>"
   ]
  },
  {
   "cell_type": "markdown",
   "metadata": {},
   "source": [
    "#    <br>[**В начало**](#step1)"
   ]
  }
 ],
 "metadata": {
  "ExecuteTimeLog": [
   {
    "duration": 2226,
    "start_time": "2021-06-25T00:56:11.415Z"
   },
   {
    "duration": 22,
    "start_time": "2021-06-25T00:56:13.644Z"
   },
   {
    "duration": 19,
    "start_time": "2021-06-25T00:56:18.163Z"
   },
   {
    "duration": 1930,
    "start_time": "2021-06-25T01:00:58.511Z"
   },
   {
    "duration": 23,
    "start_time": "2021-06-25T01:01:00.443Z"
   },
   {
    "duration": 18,
    "start_time": "2021-06-25T01:01:00.468Z"
   },
   {
    "duration": 1930,
    "start_time": "2021-06-25T14:55:24.928Z"
   },
   {
    "duration": 23,
    "start_time": "2021-06-25T14:55:26.861Z"
   },
   {
    "duration": 496,
    "start_time": "2021-06-25T14:55:26.887Z"
   },
   {
    "duration": 19,
    "start_time": "2021-06-25T14:56:03.370Z"
   },
   {
    "duration": 304,
    "start_time": "2021-06-25T14:56:07.851Z"
   },
   {
    "duration": 5,
    "start_time": "2021-06-25T14:56:26.807Z"
   },
   {
    "duration": 15,
    "start_time": "2021-06-25T14:56:35.787Z"
   },
   {
    "duration": 18,
    "start_time": "2021-06-25T15:23:06.625Z"
   },
   {
    "duration": 13,
    "start_time": "2021-06-25T15:23:20.610Z"
   },
   {
    "duration": 10,
    "start_time": "2021-06-25T15:24:42.032Z"
   },
   {
    "duration": 10,
    "start_time": "2021-06-25T15:25:59.741Z"
   },
   {
    "duration": 11,
    "start_time": "2021-06-25T16:13:41.991Z"
   },
   {
    "duration": 10,
    "start_time": "2021-06-25T16:13:50.034Z"
   },
   {
    "duration": 32,
    "start_time": "2021-06-25T16:15:32.267Z"
   },
   {
    "duration": 298,
    "start_time": "2021-06-25T16:17:22.386Z"
   },
   {
    "duration": 119,
    "start_time": "2021-06-25T16:17:35.713Z"
   },
   {
    "duration": 33,
    "start_time": "2021-06-25T16:17:42.588Z"
   },
   {
    "duration": 360,
    "start_time": "2021-06-25T16:18:01.943Z"
   },
   {
    "duration": 11,
    "start_time": "2021-06-25T16:18:42.471Z"
   },
   {
    "duration": 101,
    "start_time": "2021-06-25T16:19:02.317Z"
   },
   {
    "duration": 109,
    "start_time": "2021-06-25T16:19:06.835Z"
   },
   {
    "duration": 8311,
    "start_time": "2021-06-25T16:19:23.025Z"
   },
   {
    "duration": 11,
    "start_time": "2021-06-25T16:19:44.857Z"
   },
   {
    "duration": 36,
    "start_time": "2021-06-25T16:20:07.107Z"
   },
   {
    "duration": 8,
    "start_time": "2021-06-25T16:21:32.771Z"
   },
   {
    "duration": 327,
    "start_time": "2021-06-25T16:21:43.422Z"
   },
   {
    "duration": 10,
    "start_time": "2021-06-25T16:22:01.909Z"
   },
   {
    "duration": 16,
    "start_time": "2021-06-25T16:24:28.150Z"
   },
   {
    "duration": 9,
    "start_time": "2021-06-25T19:40:50.989Z"
   },
   {
    "duration": 318,
    "start_time": "2021-06-25T19:41:23.340Z"
   },
   {
    "duration": 9,
    "start_time": "2021-06-25T19:45:08.253Z"
   },
   {
    "duration": 6,
    "start_time": "2021-06-25T19:46:43.810Z"
   },
   {
    "duration": 15,
    "start_time": "2021-06-25T19:46:50.577Z"
   },
   {
    "duration": 33,
    "start_time": "2021-06-25T19:47:13.782Z"
   },
   {
    "duration": 5,
    "start_time": "2021-06-25T19:48:01.701Z"
   },
   {
    "duration": 9,
    "start_time": "2021-06-25T19:48:10.500Z"
   },
   {
    "duration": 2042,
    "start_time": "2021-06-25T19:48:19.346Z"
   },
   {
    "duration": 22,
    "start_time": "2021-06-25T19:48:21.391Z"
   },
   {
    "duration": 8,
    "start_time": "2021-06-25T19:48:21.417Z"
   },
   {
    "duration": 16,
    "start_time": "2021-06-25T19:48:21.428Z"
   },
   {
    "duration": 39,
    "start_time": "2021-06-25T19:48:21.447Z"
   },
   {
    "duration": 9,
    "start_time": "2021-06-25T19:48:21.488Z"
   },
   {
    "duration": 34,
    "start_time": "2021-06-25T19:48:21.499Z"
   },
   {
    "duration": 10,
    "start_time": "2021-06-25T19:48:21.537Z"
   },
   {
    "duration": 17,
    "start_time": "2021-06-25T19:48:21.586Z"
   },
   {
    "duration": 7640,
    "start_time": "2021-06-25T19:48:21.605Z"
   },
   {
    "duration": 610,
    "start_time": "2021-06-25T19:48:28.637Z"
   },
   {
    "duration": 589,
    "start_time": "2021-06-25T19:48:28.660Z"
   },
   {
    "duration": 589,
    "start_time": "2021-06-25T19:48:28.662Z"
   },
   {
    "duration": 586,
    "start_time": "2021-06-25T19:48:28.667Z"
   },
   {
    "duration": 584,
    "start_time": "2021-06-25T19:48:28.670Z"
   },
   {
    "duration": 391,
    "start_time": "2021-06-25T19:49:33.541Z"
   },
   {
    "duration": 9,
    "start_time": "2021-06-25T19:49:39.947Z"
   },
   {
    "duration": 7,
    "start_time": "2021-06-25T19:49:41.448Z"
   },
   {
    "duration": 15,
    "start_time": "2021-06-25T19:49:42.454Z"
   },
   {
    "duration": 7,
    "start_time": "2021-06-25T19:50:15.627Z"
   },
   {
    "duration": 319,
    "start_time": "2021-06-25T19:50:37.929Z"
   },
   {
    "duration": 292,
    "start_time": "2021-06-25T19:50:53.775Z"
   },
   {
    "duration": 15,
    "start_time": "2021-06-25T19:51:01.620Z"
   },
   {
    "duration": 8,
    "start_time": "2021-06-25T19:51:12.386Z"
   },
   {
    "duration": 35,
    "start_time": "2021-06-25T20:00:17.543Z"
   },
   {
    "duration": 10,
    "start_time": "2021-06-25T20:00:45.172Z"
   },
   {
    "duration": 552,
    "start_time": "2021-06-25T20:01:16.513Z"
   },
   {
    "duration": 541,
    "start_time": "2021-06-25T20:01:29.174Z"
   },
   {
    "duration": 319,
    "start_time": "2021-06-25T23:25:37.072Z"
   },
   {
    "duration": 272,
    "start_time": "2021-06-25T23:25:42.661Z"
   },
   {
    "duration": 1931,
    "start_time": "2021-06-25T23:25:47.754Z"
   },
   {
    "duration": 21,
    "start_time": "2021-06-25T23:25:49.688Z"
   },
   {
    "duration": 16,
    "start_time": "2021-06-25T23:25:49.712Z"
   },
   {
    "duration": 30,
    "start_time": "2021-06-25T23:25:49.731Z"
   },
   {
    "duration": 13,
    "start_time": "2021-06-25T23:25:49.763Z"
   },
   {
    "duration": 15,
    "start_time": "2021-06-25T23:25:49.778Z"
   },
   {
    "duration": 50,
    "start_time": "2021-06-25T23:25:49.796Z"
   },
   {
    "duration": 9,
    "start_time": "2021-06-25T23:25:49.850Z"
   },
   {
    "duration": 23,
    "start_time": "2021-06-25T23:25:49.862Z"
   },
   {
    "duration": 7043,
    "start_time": "2021-06-25T23:25:49.888Z"
   },
   {
    "duration": 815,
    "start_time": "2021-06-25T23:25:56.118Z"
   },
   {
    "duration": 813,
    "start_time": "2021-06-25T23:25:56.122Z"
   },
   {
    "duration": 812,
    "start_time": "2021-06-25T23:25:56.124Z"
   },
   {
    "duration": 809,
    "start_time": "2021-06-25T23:25:56.128Z"
   },
   {
    "duration": 809,
    "start_time": "2021-06-25T23:25:56.130Z"
   },
   {
    "duration": 807,
    "start_time": "2021-06-25T23:25:56.133Z"
   },
   {
    "duration": 10,
    "start_time": "2021-06-25T23:34:06.266Z"
   },
   {
    "duration": 10,
    "start_time": "2021-06-25T23:34:07.201Z"
   },
   {
    "duration": 8,
    "start_time": "2021-06-25T23:34:10.155Z"
   },
   {
    "duration": 34,
    "start_time": "2021-06-25T23:34:30.317Z"
   },
   {
    "duration": 10,
    "start_time": "2021-06-25T23:34:42.892Z"
   },
   {
    "duration": 11,
    "start_time": "2021-06-25T23:34:59.904Z"
   },
   {
    "duration": 10,
    "start_time": "2021-06-25T23:35:11.043Z"
   },
   {
    "duration": 12,
    "start_time": "2021-06-25T23:35:23.477Z"
   },
   {
    "duration": 549,
    "start_time": "2021-06-25T23:41:24.647Z"
   },
   {
    "duration": 560,
    "start_time": "2021-06-25T23:41:32.792Z"
   },
   {
    "duration": 641,
    "start_time": "2021-06-25T23:50:07.370Z"
   },
   {
    "duration": 752,
    "start_time": "2021-06-25T23:50:18.077Z"
   },
   {
    "duration": 539,
    "start_time": "2021-06-25T23:50:26.189Z"
   },
   {
    "duration": 548,
    "start_time": "2021-06-25T23:50:37.152Z"
   },
   {
    "duration": 532,
    "start_time": "2021-06-25T23:50:53.711Z"
   },
   {
    "duration": 669,
    "start_time": "2021-06-25T23:51:49.265Z"
   },
   {
    "duration": 656,
    "start_time": "2021-06-25T23:52:23.546Z"
   },
   {
    "duration": 534,
    "start_time": "2021-06-25T23:52:33.397Z"
   },
   {
    "duration": 869,
    "start_time": "2021-06-25T23:52:44.082Z"
   },
   {
    "duration": 540,
    "start_time": "2021-06-25T23:52:59.038Z"
   },
   {
    "duration": 528,
    "start_time": "2021-06-25T23:53:05.643Z"
   },
   {
    "duration": 539,
    "start_time": "2021-06-25T23:53:29.506Z"
   },
   {
    "duration": 524,
    "start_time": "2021-06-25T23:53:44.145Z"
   },
   {
    "duration": 123,
    "start_time": "2021-06-25T23:54:06.630Z"
   },
   {
    "duration": 556,
    "start_time": "2021-06-25T23:54:16.624Z"
   },
   {
    "duration": 672,
    "start_time": "2021-06-25T23:54:24.517Z"
   },
   {
    "duration": 10,
    "start_time": "2021-06-25T23:54:47.305Z"
   },
   {
    "duration": 536,
    "start_time": "2021-06-25T23:54:56.602Z"
   },
   {
    "duration": 565,
    "start_time": "2021-06-25T23:55:05.116Z"
   },
   {
    "duration": 557,
    "start_time": "2021-06-25T23:55:12.917Z"
   },
   {
    "duration": 10,
    "start_time": "2021-06-25T23:56:36.746Z"
   },
   {
    "duration": 13,
    "start_time": "2021-06-25T23:56:57.564Z"
   },
   {
    "duration": 17,
    "start_time": "2021-06-25T23:58:03.427Z"
   },
   {
    "duration": 9,
    "start_time": "2021-06-25T23:58:14.232Z"
   },
   {
    "duration": 17,
    "start_time": "2021-06-25T23:58:23.265Z"
   },
   {
    "duration": 9,
    "start_time": "2021-06-26T00:01:46.264Z"
   },
   {
    "duration": 6,
    "start_time": "2021-06-26T00:01:58.208Z"
   },
   {
    "duration": 9,
    "start_time": "2021-06-26T00:02:17.151Z"
   },
   {
    "duration": 8,
    "start_time": "2021-06-26T00:02:30.400Z"
   },
   {
    "duration": 10,
    "start_time": "2021-06-26T00:03:46.117Z"
   },
   {
    "duration": 7,
    "start_time": "2021-06-26T00:04:01.125Z"
   },
   {
    "duration": 10,
    "start_time": "2021-06-26T00:04:51.796Z"
   },
   {
    "duration": 10,
    "start_time": "2021-06-26T00:04:57.199Z"
   },
   {
    "duration": 17,
    "start_time": "2021-06-26T00:05:55.159Z"
   },
   {
    "duration": 24,
    "start_time": "2021-06-26T00:07:02.476Z"
   },
   {
    "duration": 25,
    "start_time": "2021-06-26T00:08:28.714Z"
   },
   {
    "duration": 25,
    "start_time": "2021-06-26T00:08:51.345Z"
   },
   {
    "duration": 21,
    "start_time": "2021-06-26T00:10:00.764Z"
   },
   {
    "duration": 14,
    "start_time": "2021-06-26T00:12:55.641Z"
   },
   {
    "duration": 10,
    "start_time": "2021-06-26T00:13:02.467Z"
   },
   {
    "duration": 11,
    "start_time": "2021-06-26T00:24:35.223Z"
   },
   {
    "duration": 9,
    "start_time": "2021-06-26T00:29:02.568Z"
   },
   {
    "duration": 11,
    "start_time": "2021-06-26T00:29:14.230Z"
   },
   {
    "duration": 10,
    "start_time": "2021-06-26T00:29:24.237Z"
   },
   {
    "duration": 281,
    "start_time": "2021-06-26T00:33:03.606Z"
   },
   {
    "duration": 1068,
    "start_time": "2021-06-26T00:33:40.834Z"
   },
   {
    "duration": 306,
    "start_time": "2021-06-26T00:34:10.825Z"
   },
   {
    "duration": 299,
    "start_time": "2021-06-26T00:34:35.184Z"
   },
   {
    "duration": 8,
    "start_time": "2021-06-26T00:34:45.527Z"
   },
   {
    "duration": 16,
    "start_time": "2021-06-26T00:34:52.118Z"
   },
   {
    "duration": 17,
    "start_time": "2021-06-26T00:35:15.008Z"
   },
   {
    "duration": 8,
    "start_time": "2021-06-26T00:43:59.118Z"
   },
   {
    "duration": 9,
    "start_time": "2021-06-26T00:44:07.345Z"
   },
   {
    "duration": 19,
    "start_time": "2021-06-26T00:44:13.958Z"
   },
   {
    "duration": 11,
    "start_time": "2021-06-26T00:44:48.074Z"
   },
   {
    "duration": 22,
    "start_time": "2021-06-26T00:44:48.877Z"
   },
   {
    "duration": 2526,
    "start_time": "2021-06-26T00:45:20.811Z"
   },
   {
    "duration": 24,
    "start_time": "2021-06-26T00:45:23.341Z"
   },
   {
    "duration": 8,
    "start_time": "2021-06-26T00:45:23.368Z"
   },
   {
    "duration": 19,
    "start_time": "2021-06-26T00:45:23.380Z"
   },
   {
    "duration": 32,
    "start_time": "2021-06-26T00:45:23.402Z"
   },
   {
    "duration": 10,
    "start_time": "2021-06-26T00:45:23.436Z"
   },
   {
    "duration": 35,
    "start_time": "2021-06-26T00:45:23.449Z"
   },
   {
    "duration": 46,
    "start_time": "2021-06-26T00:45:23.486Z"
   },
   {
    "duration": 16,
    "start_time": "2021-06-26T00:45:23.536Z"
   },
   {
    "duration": 8,
    "start_time": "2021-06-26T00:45:23.555Z"
   },
   {
    "duration": 601,
    "start_time": "2021-06-26T00:45:23.566Z"
   },
   {
    "duration": 10,
    "start_time": "2021-06-26T00:45:24.169Z"
   },
   {
    "duration": 7,
    "start_time": "2021-06-26T00:45:24.182Z"
   },
   {
    "duration": 36,
    "start_time": "2021-06-26T00:45:24.191Z"
   },
   {
    "duration": 10,
    "start_time": "2021-06-26T00:45:24.230Z"
   },
   {
    "duration": 568,
    "start_time": "2021-06-26T00:45:24.242Z"
   },
   {
    "duration": 37,
    "start_time": "2021-06-26T00:45:24.812Z"
   },
   {
    "duration": 8,
    "start_time": "2021-06-26T00:45:24.851Z"
   },
   {
    "duration": 674,
    "start_time": "2021-06-26T00:45:24.861Z"
   },
   {
    "duration": 11,
    "start_time": "2021-06-26T00:45:25.537Z"
   },
   {
    "duration": 15,
    "start_time": "2021-06-26T00:45:25.550Z"
   },
   {
    "duration": 39,
    "start_time": "2021-06-26T00:45:25.567Z"
   },
   {
    "duration": 17,
    "start_time": "2021-06-26T00:45:25.609Z"
   },
   {
    "duration": 21,
    "start_time": "2021-06-26T00:45:25.628Z"
   },
   {
    "duration": 8,
    "start_time": "2021-06-26T00:45:55.593Z"
   },
   {
    "duration": 16,
    "start_time": "2021-06-26T00:45:56.279Z"
   },
   {
    "duration": 2463,
    "start_time": "2021-06-26T00:46:02.712Z"
   },
   {
    "duration": 22,
    "start_time": "2021-06-26T00:46:05.178Z"
   },
   {
    "duration": 8,
    "start_time": "2021-06-26T00:46:05.203Z"
   },
   {
    "duration": 26,
    "start_time": "2021-06-26T00:46:05.213Z"
   },
   {
    "duration": 12,
    "start_time": "2021-06-26T00:46:05.242Z"
   },
   {
    "duration": 9,
    "start_time": "2021-06-26T00:46:05.256Z"
   },
   {
    "duration": 73,
    "start_time": "2021-06-26T00:46:05.268Z"
   },
   {
    "duration": 10,
    "start_time": "2021-06-26T00:46:05.345Z"
   },
   {
    "duration": 16,
    "start_time": "2021-06-26T00:46:05.358Z"
   },
   {
    "duration": 13,
    "start_time": "2021-06-26T00:46:05.376Z"
   },
   {
    "duration": 611,
    "start_time": "2021-06-26T00:46:05.391Z"
   },
   {
    "duration": 22,
    "start_time": "2021-06-26T00:46:06.004Z"
   },
   {
    "duration": 10,
    "start_time": "2021-06-26T00:46:06.028Z"
   },
   {
    "duration": 12,
    "start_time": "2021-06-26T00:46:06.040Z"
   },
   {
    "duration": 14,
    "start_time": "2021-06-26T00:46:06.054Z"
   },
   {
    "duration": 568,
    "start_time": "2021-06-26T00:46:06.070Z"
   },
   {
    "duration": 33,
    "start_time": "2021-06-26T00:46:06.640Z"
   },
   {
    "duration": 9,
    "start_time": "2021-06-26T00:46:06.676Z"
   },
   {
    "duration": 696,
    "start_time": "2021-06-26T00:46:06.688Z"
   },
   {
    "duration": 10,
    "start_time": "2021-06-26T00:46:07.387Z"
   },
   {
    "duration": 29,
    "start_time": "2021-06-26T00:46:07.400Z"
   },
   {
    "duration": 12,
    "start_time": "2021-06-26T00:46:07.431Z"
   },
   {
    "duration": 8,
    "start_time": "2021-06-26T00:46:07.447Z"
   },
   {
    "duration": 16,
    "start_time": "2021-06-26T00:46:07.457Z"
   },
   {
    "duration": 8,
    "start_time": "2021-06-26T00:46:55.754Z"
   },
   {
    "duration": 16,
    "start_time": "2021-06-26T00:46:56.957Z"
   },
   {
    "duration": 13,
    "start_time": "2021-06-26T00:48:44.884Z"
   },
   {
    "duration": 108,
    "start_time": "2021-06-26T00:54:54.432Z"
   },
   {
    "duration": 9,
    "start_time": "2021-06-26T00:55:05.319Z"
   },
   {
    "duration": 9,
    "start_time": "2021-06-26T00:55:12.283Z"
   },
   {
    "duration": 10,
    "start_time": "2021-06-26T00:55:18.610Z"
   },
   {
    "duration": 16,
    "start_time": "2021-06-26T00:55:21.750Z"
   },
   {
    "duration": 9,
    "start_time": "2021-06-26T00:58:31.742Z"
   },
   {
    "duration": 12,
    "start_time": "2021-06-26T01:03:27.683Z"
   },
   {
    "duration": 12,
    "start_time": "2021-06-26T01:03:37.863Z"
   },
   {
    "duration": 10,
    "start_time": "2021-06-26T01:04:59.154Z"
   },
   {
    "duration": 11,
    "start_time": "2021-06-26T01:04:59.744Z"
   },
   {
    "duration": 13,
    "start_time": "2021-06-26T01:05:00.357Z"
   },
   {
    "duration": 7,
    "start_time": "2021-06-26T01:05:01.155Z"
   },
   {
    "duration": 18,
    "start_time": "2021-06-26T01:05:12.044Z"
   },
   {
    "duration": 12,
    "start_time": "2021-06-26T01:05:12.842Z"
   },
   {
    "duration": 12,
    "start_time": "2021-06-26T01:05:15.840Z"
   },
   {
    "duration": 6,
    "start_time": "2021-06-26T01:07:33.828Z"
   },
   {
    "duration": 11,
    "start_time": "2021-06-26T01:07:41.911Z"
   },
   {
    "duration": 13,
    "start_time": "2021-06-26T01:08:37.363Z"
   },
   {
    "duration": 6,
    "start_time": "2021-06-26T01:09:01.232Z"
   },
   {
    "duration": 9,
    "start_time": "2021-06-26T01:09:01.741Z"
   },
   {
    "duration": 2919,
    "start_time": "2021-06-26T01:09:21.793Z"
   },
   {
    "duration": 24,
    "start_time": "2021-06-26T01:09:24.714Z"
   },
   {
    "duration": 8,
    "start_time": "2021-06-26T01:09:24.742Z"
   },
   {
    "duration": 23,
    "start_time": "2021-06-26T01:09:24.754Z"
   },
   {
    "duration": 43,
    "start_time": "2021-06-26T01:09:24.781Z"
   },
   {
    "duration": 10,
    "start_time": "2021-06-26T01:09:24.827Z"
   },
   {
    "duration": 36,
    "start_time": "2021-06-26T01:09:24.840Z"
   },
   {
    "duration": 44,
    "start_time": "2021-06-26T01:09:24.882Z"
   },
   {
    "duration": 21,
    "start_time": "2021-06-26T01:09:24.930Z"
   },
   {
    "duration": 38,
    "start_time": "2021-06-26T01:09:24.954Z"
   },
   {
    "duration": 851,
    "start_time": "2021-06-26T01:09:24.996Z"
   },
   {
    "duration": 14,
    "start_time": "2021-06-26T01:09:25.850Z"
   },
   {
    "duration": 18,
    "start_time": "2021-06-26T01:09:25.867Z"
   },
   {
    "duration": 45,
    "start_time": "2021-06-26T01:09:25.888Z"
   },
   {
    "duration": 10,
    "start_time": "2021-06-26T01:09:25.936Z"
   },
   {
    "duration": 566,
    "start_time": "2021-06-26T01:09:25.948Z"
   },
   {
    "duration": 37,
    "start_time": "2021-06-26T01:09:26.516Z"
   },
   {
    "duration": 11,
    "start_time": "2021-06-26T01:09:26.556Z"
   },
   {
    "duration": 681,
    "start_time": "2021-06-26T01:09:26.570Z"
   },
   {
    "duration": 7820,
    "start_time": "2021-06-26T01:09:27.254Z"
   },
   {
    "duration": 728,
    "start_time": "2021-06-26T01:09:34.349Z"
   },
   {
    "duration": 720,
    "start_time": "2021-06-26T01:09:34.358Z"
   },
   {
    "duration": 715,
    "start_time": "2021-06-26T01:09:34.364Z"
   },
   {
    "duration": 712,
    "start_time": "2021-06-26T01:09:34.368Z"
   },
   {
    "duration": 710,
    "start_time": "2021-06-26T01:09:34.372Z"
   },
   {
    "duration": 709,
    "start_time": "2021-06-26T01:09:34.374Z"
   },
   {
    "duration": 707,
    "start_time": "2021-06-26T01:09:34.377Z"
   },
   {
    "duration": 705,
    "start_time": "2021-06-26T01:09:34.380Z"
   },
   {
    "duration": 699,
    "start_time": "2021-06-26T01:09:34.387Z"
   },
   {
    "duration": 693,
    "start_time": "2021-06-26T01:09:34.394Z"
   },
   {
    "duration": 7242,
    "start_time": "2021-06-26T01:10:21.506Z"
   },
   {
    "duration": 281,
    "start_time": "2021-06-26T01:10:29.011Z"
   },
   {
    "duration": 2003,
    "start_time": "2021-06-26T01:10:34.701Z"
   },
   {
    "duration": 21,
    "start_time": "2021-06-26T01:10:36.707Z"
   },
   {
    "duration": 8,
    "start_time": "2021-06-26T01:10:36.732Z"
   },
   {
    "duration": 16,
    "start_time": "2021-06-26T01:10:36.743Z"
   },
   {
    "duration": 12,
    "start_time": "2021-06-26T01:10:36.761Z"
   },
   {
    "duration": 8,
    "start_time": "2021-06-26T01:10:36.775Z"
   },
   {
    "duration": 33,
    "start_time": "2021-06-26T01:10:36.825Z"
   },
   {
    "duration": 10,
    "start_time": "2021-06-26T01:10:36.862Z"
   },
   {
    "duration": 52,
    "start_time": "2021-06-26T01:10:36.876Z"
   },
   {
    "duration": 8,
    "start_time": "2021-06-26T01:10:36.930Z"
   },
   {
    "duration": 601,
    "start_time": "2021-06-26T01:10:36.941Z"
   },
   {
    "duration": 14,
    "start_time": "2021-06-26T01:10:37.544Z"
   },
   {
    "duration": 7,
    "start_time": "2021-06-26T01:10:37.562Z"
   },
   {
    "duration": 13,
    "start_time": "2021-06-26T01:10:37.572Z"
   },
   {
    "duration": 40,
    "start_time": "2021-06-26T01:10:37.587Z"
   },
   {
    "duration": 558,
    "start_time": "2021-06-26T01:10:37.630Z"
   },
   {
    "duration": 46,
    "start_time": "2021-06-26T01:10:38.191Z"
   },
   {
    "duration": 9,
    "start_time": "2021-06-26T01:10:38.239Z"
   },
   {
    "duration": 687,
    "start_time": "2021-06-26T01:10:38.250Z"
   },
   {
    "duration": 7275,
    "start_time": "2021-06-26T01:10:38.939Z"
   },
   {
    "duration": 873,
    "start_time": "2021-06-26T01:10:45.344Z"
   },
   {
    "duration": 871,
    "start_time": "2021-06-26T01:10:45.347Z"
   },
   {
    "duration": 870,
    "start_time": "2021-06-26T01:10:45.349Z"
   },
   {
    "duration": 869,
    "start_time": "2021-06-26T01:10:45.352Z"
   },
   {
    "duration": 866,
    "start_time": "2021-06-26T01:10:45.356Z"
   },
   {
    "duration": 863,
    "start_time": "2021-06-26T01:10:45.360Z"
   },
   {
    "duration": 861,
    "start_time": "2021-06-26T01:10:45.364Z"
   },
   {
    "duration": 860,
    "start_time": "2021-06-26T01:10:45.367Z"
   },
   {
    "duration": 857,
    "start_time": "2021-06-26T01:10:45.371Z"
   },
   {
    "duration": 854,
    "start_time": "2021-06-26T01:10:45.375Z"
   },
   {
    "duration": 1948,
    "start_time": "2021-06-26T01:11:25.440Z"
   },
   {
    "duration": 23,
    "start_time": "2021-06-26T01:11:27.391Z"
   },
   {
    "duration": 8,
    "start_time": "2021-06-26T01:11:27.418Z"
   },
   {
    "duration": 17,
    "start_time": "2021-06-26T01:11:27.431Z"
   },
   {
    "duration": 14,
    "start_time": "2021-06-26T01:11:27.451Z"
   },
   {
    "duration": 9,
    "start_time": "2021-06-26T01:11:27.468Z"
   },
   {
    "duration": 35,
    "start_time": "2021-06-26T01:11:27.525Z"
   },
   {
    "duration": 11,
    "start_time": "2021-06-26T01:11:27.565Z"
   },
   {
    "duration": 58,
    "start_time": "2021-06-26T01:11:27.580Z"
   },
   {
    "duration": 11,
    "start_time": "2021-06-26T01:11:27.641Z"
   },
   {
    "duration": 585,
    "start_time": "2021-06-26T01:11:27.655Z"
   },
   {
    "duration": 10,
    "start_time": "2021-06-26T01:11:28.243Z"
   },
   {
    "duration": 9,
    "start_time": "2021-06-26T01:11:28.256Z"
   },
   {
    "duration": 11,
    "start_time": "2021-06-26T01:11:28.268Z"
   },
   {
    "duration": 52,
    "start_time": "2021-06-26T01:11:28.282Z"
   },
   {
    "duration": 612,
    "start_time": "2021-06-26T01:11:28.337Z"
   },
   {
    "duration": 31,
    "start_time": "2021-06-26T01:11:28.952Z"
   },
   {
    "duration": 9,
    "start_time": "2021-06-26T01:11:28.985Z"
   },
   {
    "duration": 696,
    "start_time": "2021-06-26T01:11:28.996Z"
   },
   {
    "duration": 7,
    "start_time": "2021-06-26T01:11:29.694Z"
   },
   {
    "duration": 504,
    "start_time": "2021-06-26T01:11:29.704Z"
   },
   {
    "duration": 887,
    "start_time": "2021-06-26T01:11:29.323Z"
   },
   {
    "duration": 882,
    "start_time": "2021-06-26T01:11:29.330Z"
   },
   {
    "duration": 879,
    "start_time": "2021-06-26T01:11:29.334Z"
   },
   {
    "duration": 877,
    "start_time": "2021-06-26T01:11:29.337Z"
   },
   {
    "duration": 873,
    "start_time": "2021-06-26T01:11:29.342Z"
   },
   {
    "duration": 757,
    "start_time": "2021-06-26T01:11:29.460Z"
   },
   {
    "duration": 755,
    "start_time": "2021-06-26T01:11:29.463Z"
   },
   {
    "duration": 753,
    "start_time": "2021-06-26T01:11:29.466Z"
   },
   {
    "duration": 751,
    "start_time": "2021-06-26T01:11:29.469Z"
   },
   {
    "duration": 11,
    "start_time": "2021-06-26T01:12:20.266Z"
   },
   {
    "duration": 6,
    "start_time": "2021-06-26T01:12:23.879Z"
   },
   {
    "duration": 8,
    "start_time": "2021-06-26T01:12:25.673Z"
   },
   {
    "duration": 10,
    "start_time": "2021-06-26T01:13:25.440Z"
   },
   {
    "duration": 13,
    "start_time": "2021-06-26T01:13:27.234Z"
   },
   {
    "duration": 15,
    "start_time": "2021-06-26T01:13:28.235Z"
   },
   {
    "duration": 14,
    "start_time": "2021-06-26T01:15:23.280Z"
   },
   {
    "duration": 13,
    "start_time": "2021-06-26T01:16:12.721Z"
   },
   {
    "duration": 1990,
    "start_time": "2021-06-26T01:16:21.715Z"
   },
   {
    "duration": 21,
    "start_time": "2021-06-26T01:16:23.708Z"
   },
   {
    "duration": 10,
    "start_time": "2021-06-26T01:16:23.733Z"
   },
   {
    "duration": 19,
    "start_time": "2021-06-26T01:16:23.747Z"
   },
   {
    "duration": 12,
    "start_time": "2021-06-26T01:16:23.769Z"
   },
   {
    "duration": 45,
    "start_time": "2021-06-26T01:16:23.783Z"
   },
   {
    "duration": 32,
    "start_time": "2021-06-26T01:16:23.831Z"
   },
   {
    "duration": 10,
    "start_time": "2021-06-26T01:16:23.865Z"
   },
   {
    "duration": 53,
    "start_time": "2021-06-26T01:16:23.879Z"
   },
   {
    "duration": 9,
    "start_time": "2021-06-26T01:16:23.935Z"
   },
   {
    "duration": 592,
    "start_time": "2021-06-26T01:16:23.946Z"
   },
   {
    "duration": 9,
    "start_time": "2021-06-26T01:16:24.540Z"
   },
   {
    "duration": 16,
    "start_time": "2021-06-26T01:16:24.551Z"
   },
   {
    "duration": 12,
    "start_time": "2021-06-26T01:16:24.569Z"
   },
   {
    "duration": 9,
    "start_time": "2021-06-26T01:16:24.584Z"
   },
   {
    "duration": 544,
    "start_time": "2021-06-26T01:16:24.624Z"
   },
   {
    "duration": 32,
    "start_time": "2021-06-26T01:16:25.171Z"
   },
   {
    "duration": 24,
    "start_time": "2021-06-26T01:16:25.205Z"
   },
   {
    "duration": 665,
    "start_time": "2021-06-26T01:16:25.231Z"
   },
   {
    "duration": 7,
    "start_time": "2021-06-26T01:16:25.898Z"
   },
   {
    "duration": 488,
    "start_time": "2021-06-26T01:16:25.907Z"
   },
   {
    "duration": 917,
    "start_time": "2021-06-26T01:16:25.480Z"
   },
   {
    "duration": 915,
    "start_time": "2021-06-26T01:16:25.484Z"
   },
   {
    "duration": 913,
    "start_time": "2021-06-26T01:16:25.487Z"
   },
   {
    "duration": 911,
    "start_time": "2021-06-26T01:16:25.490Z"
   },
   {
    "duration": 910,
    "start_time": "2021-06-26T01:16:25.493Z"
   },
   {
    "duration": 907,
    "start_time": "2021-06-26T01:16:25.497Z"
   },
   {
    "duration": 904,
    "start_time": "2021-06-26T01:16:25.501Z"
   },
   {
    "duration": 902,
    "start_time": "2021-06-26T01:16:25.504Z"
   },
   {
    "duration": 891,
    "start_time": "2021-06-26T01:16:25.517Z"
   },
   {
    "duration": 11,
    "start_time": "2021-06-26T01:17:13.227Z"
   },
   {
    "duration": 11,
    "start_time": "2021-06-26T01:17:18.747Z"
   },
   {
    "duration": 6,
    "start_time": "2021-06-26T01:17:19.713Z"
   },
   {
    "duration": 8,
    "start_time": "2021-06-26T01:17:21.114Z"
   },
   {
    "duration": 12,
    "start_time": "2021-06-26T01:19:21.059Z"
   },
   {
    "duration": 6921,
    "start_time": "2021-06-26T01:19:45.758Z"
   },
   {
    "duration": 841,
    "start_time": "2021-06-26T01:19:51.840Z"
   },
   {
    "duration": 6767,
    "start_time": "2021-06-26T01:20:03.787Z"
   },
   {
    "duration": 1993,
    "start_time": "2021-06-26T01:20:29.866Z"
   },
   {
    "duration": 21,
    "start_time": "2021-06-26T01:20:31.862Z"
   },
   {
    "duration": 7,
    "start_time": "2021-06-26T01:20:31.886Z"
   },
   {
    "duration": 30,
    "start_time": "2021-06-26T01:20:31.896Z"
   },
   {
    "duration": 11,
    "start_time": "2021-06-26T01:20:31.928Z"
   },
   {
    "duration": 8,
    "start_time": "2021-06-26T01:20:31.942Z"
   },
   {
    "duration": 42,
    "start_time": "2021-06-26T01:20:31.952Z"
   },
   {
    "duration": 34,
    "start_time": "2021-06-26T01:20:31.997Z"
   },
   {
    "duration": 22,
    "start_time": "2021-06-26T01:20:32.034Z"
   },
   {
    "duration": 17,
    "start_time": "2021-06-26T01:20:32.059Z"
   },
   {
    "duration": 598,
    "start_time": "2021-06-26T01:20:32.078Z"
   },
   {
    "duration": 10,
    "start_time": "2021-06-26T01:20:32.679Z"
   },
   {
    "duration": 11,
    "start_time": "2021-06-26T01:20:32.691Z"
   },
   {
    "duration": 9,
    "start_time": "2021-06-26T01:20:32.725Z"
   },
   {
    "duration": 11,
    "start_time": "2021-06-26T01:20:32.737Z"
   },
   {
    "duration": 573,
    "start_time": "2021-06-26T01:20:32.751Z"
   },
   {
    "duration": 33,
    "start_time": "2021-06-26T01:20:33.326Z"
   },
   {
    "duration": 9,
    "start_time": "2021-06-26T01:20:33.362Z"
   },
   {
    "duration": 679,
    "start_time": "2021-06-26T01:20:33.373Z"
   },
   {
    "duration": 7,
    "start_time": "2021-06-26T01:20:34.055Z"
   },
   {
    "duration": 7478,
    "start_time": "2021-06-26T01:20:34.064Z"
   },
   {
    "duration": 873,
    "start_time": "2021-06-26T01:20:40.671Z"
   },
   {
    "duration": 872,
    "start_time": "2021-06-26T01:20:40.674Z"
   },
   {
    "duration": 869,
    "start_time": "2021-06-26T01:20:40.678Z"
   },
   {
    "duration": 868,
    "start_time": "2021-06-26T01:20:40.681Z"
   },
   {
    "duration": 866,
    "start_time": "2021-06-26T01:20:40.684Z"
   },
   {
    "duration": 862,
    "start_time": "2021-06-26T01:20:40.689Z"
   },
   {
    "duration": 861,
    "start_time": "2021-06-26T01:20:40.691Z"
   },
   {
    "duration": 856,
    "start_time": "2021-06-26T01:20:40.697Z"
   },
   {
    "duration": 855,
    "start_time": "2021-06-26T01:20:40.700Z"
   },
   {
    "duration": 12,
    "start_time": "2021-06-26T01:20:48.025Z"
   },
   {
    "duration": 7280,
    "start_time": "2021-06-26T01:20:53.197Z"
   },
   {
    "duration": 11,
    "start_time": "2021-06-26T01:21:18.480Z"
   },
   {
    "duration": 7783,
    "start_time": "2021-06-26T01:21:19.837Z"
   },
   {
    "duration": 765,
    "start_time": "2021-06-26T01:21:26.858Z"
   },
   {
    "duration": 764,
    "start_time": "2021-06-26T01:21:26.861Z"
   },
   {
    "duration": 7,
    "start_time": "2021-06-26T01:22:01.664Z"
   },
   {
    "duration": 8,
    "start_time": "2021-06-26T01:22:04.479Z"
   },
   {
    "duration": 15,
    "start_time": "2021-06-26T01:22:21.265Z"
   },
   {
    "duration": 759,
    "start_time": "2021-06-26T01:23:58.997Z"
   },
   {
    "duration": 23,
    "start_time": "2021-06-26T01:24:05.201Z"
   },
   {
    "duration": 20,
    "start_time": "2021-06-26T01:24:22.793Z"
   },
   {
    "duration": 48,
    "start_time": "2021-06-26T01:25:20.877Z"
   },
   {
    "duration": 26,
    "start_time": "2021-06-26T01:25:55.240Z"
   },
   {
    "duration": 23,
    "start_time": "2021-06-26T01:26:01.444Z"
   },
   {
    "duration": 22,
    "start_time": "2021-06-26T01:26:09.401Z"
   },
   {
    "duration": 28,
    "start_time": "2021-06-26T01:26:14.400Z"
   },
   {
    "duration": 21,
    "start_time": "2021-06-26T01:26:19.957Z"
   },
   {
    "duration": 21,
    "start_time": "2021-06-26T01:26:24.624Z"
   },
   {
    "duration": 18,
    "start_time": "2021-06-26T01:26:28.673Z"
   },
   {
    "duration": 17,
    "start_time": "2021-06-26T01:26:34.865Z"
   },
   {
    "duration": 22,
    "start_time": "2021-06-26T01:27:13.357Z"
   },
   {
    "duration": 26,
    "start_time": "2021-06-26T01:27:23.921Z"
   },
   {
    "duration": 22,
    "start_time": "2021-06-26T01:27:30.103Z"
   },
   {
    "duration": 20,
    "start_time": "2021-06-26T01:28:06.282Z"
   },
   {
    "duration": 24,
    "start_time": "2021-06-26T01:28:16.607Z"
   },
   {
    "duration": 23,
    "start_time": "2021-06-26T01:28:21.521Z"
   },
   {
    "duration": 114,
    "start_time": "2021-06-26T01:30:49.905Z"
   },
   {
    "duration": 15,
    "start_time": "2021-06-26T01:30:57.332Z"
   },
   {
    "duration": 14,
    "start_time": "2021-06-26T01:31:18.440Z"
   },
   {
    "duration": 14,
    "start_time": "2021-06-26T01:31:41.922Z"
   },
   {
    "duration": 616,
    "start_time": "2021-06-26T01:35:20.393Z"
   },
   {
    "duration": 175,
    "start_time": "2021-06-26T01:35:27.684Z"
   },
   {
    "duration": 183,
    "start_time": "2021-06-26T01:36:22.949Z"
   },
   {
    "duration": 184,
    "start_time": "2021-06-26T01:36:43.078Z"
   },
   {
    "duration": 190,
    "start_time": "2021-06-26T01:36:50.909Z"
   },
   {
    "duration": 11,
    "start_time": "2021-06-26T01:37:45.651Z"
   },
   {
    "duration": 7,
    "start_time": "2021-06-26T01:44:35.522Z"
   },
   {
    "duration": 15,
    "start_time": "2021-06-26T01:44:37.091Z"
   },
   {
    "duration": 250,
    "start_time": "2021-06-26T01:44:38.313Z"
   },
   {
    "duration": 10,
    "start_time": "2021-06-26T01:57:00.292Z"
   },
   {
    "duration": 11,
    "start_time": "2021-06-26T01:57:14.792Z"
   },
   {
    "duration": 10,
    "start_time": "2021-06-26T01:57:37.264Z"
   },
   {
    "duration": 11,
    "start_time": "2021-06-26T01:57:53.273Z"
   },
   {
    "duration": 11,
    "start_time": "2021-06-26T01:58:06.877Z"
   },
   {
    "duration": 6,
    "start_time": "2021-06-26T02:02:24.839Z"
   },
   {
    "duration": 15,
    "start_time": "2021-06-26T02:03:29.385Z"
   },
   {
    "duration": 188,
    "start_time": "2021-06-26T02:03:31.239Z"
   },
   {
    "duration": 1957,
    "start_time": "2021-06-26T02:18:04.642Z"
   },
   {
    "duration": 21,
    "start_time": "2021-06-26T02:18:06.602Z"
   },
   {
    "duration": 15,
    "start_time": "2021-06-26T02:18:06.625Z"
   },
   {
    "duration": 24,
    "start_time": "2021-06-26T02:18:06.642Z"
   },
   {
    "duration": 13,
    "start_time": "2021-06-26T02:18:06.668Z"
   },
   {
    "duration": 12,
    "start_time": "2021-06-26T02:18:06.683Z"
   },
   {
    "duration": 51,
    "start_time": "2021-06-26T02:18:06.698Z"
   },
   {
    "duration": 9,
    "start_time": "2021-06-26T02:18:06.753Z"
   },
   {
    "duration": 23,
    "start_time": "2021-06-26T02:18:06.764Z"
   },
   {
    "duration": 37,
    "start_time": "2021-06-26T02:18:06.789Z"
   },
   {
    "duration": 575,
    "start_time": "2021-06-26T02:18:06.829Z"
   },
   {
    "duration": 19,
    "start_time": "2021-06-26T02:18:07.406Z"
   },
   {
    "duration": 36,
    "start_time": "2021-06-26T02:18:07.427Z"
   },
   {
    "duration": 17,
    "start_time": "2021-06-26T02:18:07.465Z"
   },
   {
    "duration": 46,
    "start_time": "2021-06-26T02:18:07.484Z"
   },
   {
    "duration": 7,
    "start_time": "2021-06-26T02:18:07.532Z"
   },
   {
    "duration": 22,
    "start_time": "2021-06-26T02:18:07.541Z"
   },
   {
    "duration": 192,
    "start_time": "2021-06-26T02:18:07.565Z"
   },
   {
    "duration": 17,
    "start_time": "2021-06-26T02:36:23.505Z"
   },
   {
    "duration": 12,
    "start_time": "2021-06-26T03:08:49.131Z"
   },
   {
    "duration": 7,
    "start_time": "2021-06-26T03:09:55.560Z"
   },
   {
    "duration": 1964,
    "start_time": "2021-06-26T12:28:37.358Z"
   },
   {
    "duration": 20,
    "start_time": "2021-06-26T12:28:39.325Z"
   },
   {
    "duration": 8,
    "start_time": "2021-06-26T12:28:39.349Z"
   },
   {
    "duration": 17,
    "start_time": "2021-06-26T12:28:39.360Z"
   },
   {
    "duration": 33,
    "start_time": "2021-06-26T12:28:39.379Z"
   },
   {
    "duration": 8,
    "start_time": "2021-06-26T12:28:39.414Z"
   },
   {
    "duration": 33,
    "start_time": "2021-06-26T12:28:39.425Z"
   },
   {
    "duration": 9,
    "start_time": "2021-06-26T12:28:39.462Z"
   },
   {
    "duration": 16,
    "start_time": "2021-06-26T12:28:39.509Z"
   },
   {
    "duration": 18,
    "start_time": "2021-06-26T12:28:39.528Z"
   },
   {
    "duration": 618,
    "start_time": "2021-06-26T12:28:39.548Z"
   },
   {
    "duration": 9,
    "start_time": "2021-06-26T12:28:40.169Z"
   },
   {
    "duration": 33,
    "start_time": "2021-06-26T12:28:40.181Z"
   },
   {
    "duration": 8,
    "start_time": "2021-06-26T12:28:40.217Z"
   },
   {
    "duration": 41,
    "start_time": "2021-06-26T12:28:40.228Z"
   },
   {
    "duration": 7,
    "start_time": "2021-06-26T12:28:40.271Z"
   },
   {
    "duration": 41,
    "start_time": "2021-06-26T12:28:40.280Z"
   },
   {
    "duration": 209,
    "start_time": "2021-06-26T12:28:40.324Z"
   },
   {
    "duration": 12,
    "start_time": "2021-06-26T12:28:40.535Z"
   },
   {
    "duration": 10,
    "start_time": "2021-06-26T12:28:40.549Z"
   },
   {
    "duration": 2029,
    "start_time": "2021-06-26T12:30:44.251Z"
   },
   {
    "duration": 48,
    "start_time": "2021-06-26T12:30:46.284Z"
   },
   {
    "duration": 39,
    "start_time": "2021-06-26T12:30:46.349Z"
   },
   {
    "duration": 70,
    "start_time": "2021-06-26T12:30:46.402Z"
   },
   {
    "duration": 32,
    "start_time": "2021-06-26T12:30:46.490Z"
   },
   {
    "duration": 39,
    "start_time": "2021-06-26T12:30:46.525Z"
   },
   {
    "duration": 58,
    "start_time": "2021-06-26T12:30:46.567Z"
   },
   {
    "duration": 13,
    "start_time": "2021-06-26T12:30:46.631Z"
   },
   {
    "duration": 22,
    "start_time": "2021-06-26T12:30:46.648Z"
   },
   {
    "duration": 21,
    "start_time": "2021-06-26T12:30:46.709Z"
   },
   {
    "duration": 817,
    "start_time": "2021-06-26T12:30:46.734Z"
   },
   {
    "duration": 14,
    "start_time": "2021-06-26T12:30:47.554Z"
   },
   {
    "duration": 40,
    "start_time": "2021-06-26T12:30:47.571Z"
   },
   {
    "duration": 17,
    "start_time": "2021-06-26T12:30:47.614Z"
   },
   {
    "duration": 36,
    "start_time": "2021-06-26T12:30:47.634Z"
   },
   {
    "duration": 7,
    "start_time": "2021-06-26T12:30:47.672Z"
   },
   {
    "duration": 42,
    "start_time": "2021-06-26T12:30:47.681Z"
   },
   {
    "duration": 214,
    "start_time": "2021-06-26T12:30:47.725Z"
   },
   {
    "duration": 11,
    "start_time": "2021-06-26T12:30:47.942Z"
   },
   {
    "duration": 14,
    "start_time": "2021-06-26T12:30:47.955Z"
   },
   {
    "duration": 6,
    "start_time": "2021-06-26T12:30:47.971Z"
   },
   {
    "duration": 606,
    "start_time": "2021-06-26T12:30:47.980Z"
   },
   {
    "duration": -133,
    "start_time": "2021-06-26T12:30:48.722Z"
   },
   {
    "duration": 16,
    "start_time": "2021-06-26T12:32:13.771Z"
   },
   {
    "duration": 7,
    "start_time": "2021-06-26T12:33:06.901Z"
   },
   {
    "duration": 7,
    "start_time": "2021-06-26T12:33:38.581Z"
   },
   {
    "duration": 13,
    "start_time": "2021-06-26T12:33:39.501Z"
   },
   {
    "duration": 7,
    "start_time": "2021-06-26T12:33:41.081Z"
   },
   {
    "duration": 3,
    "start_time": "2021-06-26T12:33:43.141Z"
   },
   {
    "duration": 28,
    "start_time": "2021-06-26T12:33:44.901Z"
   },
   {
    "duration": 436,
    "start_time": "2021-06-26T12:34:05.791Z"
   },
   {
    "duration": 2068,
    "start_time": "2021-06-26T13:41:58.261Z"
   },
   {
    "duration": 22,
    "start_time": "2021-06-26T13:42:00.332Z"
   },
   {
    "duration": 9,
    "start_time": "2021-06-26T13:42:00.358Z"
   },
   {
    "duration": 38,
    "start_time": "2021-06-26T13:42:00.370Z"
   },
   {
    "duration": 17,
    "start_time": "2021-06-26T13:42:00.410Z"
   },
   {
    "duration": 12,
    "start_time": "2021-06-26T13:42:00.429Z"
   },
   {
    "duration": 33,
    "start_time": "2021-06-26T13:42:00.444Z"
   },
   {
    "duration": 36,
    "start_time": "2021-06-26T13:42:00.481Z"
   },
   {
    "duration": 15,
    "start_time": "2021-06-26T13:42:00.521Z"
   },
   {
    "duration": 17,
    "start_time": "2021-06-26T13:42:00.538Z"
   },
   {
    "duration": 630,
    "start_time": "2021-06-26T13:42:00.557Z"
   },
   {
    "duration": 20,
    "start_time": "2021-06-26T13:42:01.190Z"
   },
   {
    "duration": 24,
    "start_time": "2021-06-26T13:42:01.212Z"
   },
   {
    "duration": 37,
    "start_time": "2021-06-26T13:42:01.239Z"
   },
   {
    "duration": 55,
    "start_time": "2021-06-26T13:42:01.278Z"
   },
   {
    "duration": 7,
    "start_time": "2021-06-26T13:42:01.335Z"
   },
   {
    "duration": 43,
    "start_time": "2021-06-26T13:42:01.345Z"
   },
   {
    "duration": 207,
    "start_time": "2021-06-26T13:42:01.390Z"
   },
   {
    "duration": 11,
    "start_time": "2021-06-26T13:42:01.599Z"
   },
   {
    "duration": 23,
    "start_time": "2021-06-26T13:42:01.612Z"
   },
   {
    "duration": 22,
    "start_time": "2021-06-26T13:42:01.637Z"
   },
   {
    "duration": 19,
    "start_time": "2021-06-26T13:42:01.662Z"
   },
   {
    "duration": 22,
    "start_time": "2021-06-26T13:42:01.688Z"
   },
   {
    "duration": 35,
    "start_time": "2021-06-26T13:42:01.713Z"
   },
   {
    "duration": 4,
    "start_time": "2021-06-26T13:42:01.750Z"
   },
   {
    "duration": 528,
    "start_time": "2021-06-26T13:42:01.756Z"
   },
   {
    "duration": -54,
    "start_time": "2021-06-26T13:42:02.341Z"
   },
   {
    "duration": -64,
    "start_time": "2021-06-26T13:42:02.353Z"
   },
   {
    "duration": -71,
    "start_time": "2021-06-26T13:42:02.361Z"
   },
   {
    "duration": -80,
    "start_time": "2021-06-26T13:42:02.371Z"
   },
   {
    "duration": -89,
    "start_time": "2021-06-26T13:42:02.381Z"
   },
   {
    "duration": -114,
    "start_time": "2021-06-26T13:42:02.408Z"
   },
   {
    "duration": -124,
    "start_time": "2021-06-26T13:42:02.419Z"
   },
   {
    "duration": -136,
    "start_time": "2021-06-26T13:42:02.432Z"
   },
   {
    "duration": 337,
    "start_time": "2021-06-26T18:57:42.801Z"
   },
   {
    "duration": 1958,
    "start_time": "2021-06-26T18:57:49.515Z"
   },
   {
    "duration": 22,
    "start_time": "2021-06-26T18:57:51.476Z"
   },
   {
    "duration": 7,
    "start_time": "2021-06-26T18:57:51.501Z"
   },
   {
    "duration": 15,
    "start_time": "2021-06-26T18:57:51.511Z"
   },
   {
    "duration": 11,
    "start_time": "2021-06-26T18:57:51.529Z"
   },
   {
    "duration": 8,
    "start_time": "2021-06-26T18:57:51.542Z"
   },
   {
    "duration": 73,
    "start_time": "2021-06-26T18:57:51.552Z"
   },
   {
    "duration": 10,
    "start_time": "2021-06-26T18:57:51.628Z"
   },
   {
    "duration": 14,
    "start_time": "2021-06-26T18:57:51.641Z"
   },
   {
    "duration": 48,
    "start_time": "2021-06-26T18:57:51.657Z"
   },
   {
    "duration": 566,
    "start_time": "2021-06-26T18:57:51.708Z"
   },
   {
    "duration": 9,
    "start_time": "2021-06-26T18:57:52.276Z"
   },
   {
    "duration": 20,
    "start_time": "2021-06-26T18:57:52.288Z"
   },
   {
    "duration": 9,
    "start_time": "2021-06-26T18:57:52.311Z"
   },
   {
    "duration": 32,
    "start_time": "2021-06-26T18:57:52.323Z"
   },
   {
    "duration": 46,
    "start_time": "2021-06-26T18:57:52.358Z"
   },
   {
    "duration": 14,
    "start_time": "2021-06-26T18:57:52.407Z"
   },
   {
    "duration": 197,
    "start_time": "2021-06-26T18:57:52.424Z"
   },
   {
    "duration": 12,
    "start_time": "2021-06-26T18:57:52.623Z"
   },
   {
    "duration": 11,
    "start_time": "2021-06-26T18:57:52.637Z"
   },
   {
    "duration": 14,
    "start_time": "2021-06-26T18:57:52.651Z"
   },
   {
    "duration": 38,
    "start_time": "2021-06-26T18:57:52.667Z"
   },
   {
    "duration": 3,
    "start_time": "2021-06-26T18:57:52.710Z"
   },
   {
    "duration": 30,
    "start_time": "2021-06-26T18:57:52.716Z"
   },
   {
    "duration": 455,
    "start_time": "2021-06-26T18:57:52.748Z"
   },
   {
    "duration": 358,
    "start_time": "2021-06-26T18:57:52.848Z"
   },
   {
    "duration": 348,
    "start_time": "2021-06-26T18:57:52.859Z"
   },
   {
    "duration": 341,
    "start_time": "2021-06-26T18:57:52.868Z"
   },
   {
    "duration": 330,
    "start_time": "2021-06-26T18:57:52.880Z"
   },
   {
    "duration": 321,
    "start_time": "2021-06-26T18:57:52.891Z"
   },
   {
    "duration": 311,
    "start_time": "2021-06-26T18:57:52.902Z"
   },
   {
    "duration": 303,
    "start_time": "2021-06-26T18:57:52.912Z"
   },
   {
    "duration": 292,
    "start_time": "2021-06-26T18:57:52.924Z"
   },
   {
    "duration": 283,
    "start_time": "2021-06-26T18:57:52.935Z"
   },
   {
    "duration": 242,
    "start_time": "2021-06-26T18:57:52.977Z"
   },
   {
    "duration": 231,
    "start_time": "2021-06-26T18:57:52.989Z"
   },
   {
    "duration": 220,
    "start_time": "2021-06-26T18:57:53.002Z"
   },
   {
    "duration": 272,
    "start_time": "2021-06-26T18:59:10.416Z"
   },
   {
    "duration": 16,
    "start_time": "2021-06-26T18:59:22.536Z"
   },
   {
    "duration": 5,
    "start_time": "2021-06-26T19:07:00.094Z"
   },
   {
    "duration": 12,
    "start_time": "2021-06-26T19:07:01.397Z"
   },
   {
    "duration": 266,
    "start_time": "2021-06-26T19:09:05.987Z"
   },
   {
    "duration": 8,
    "start_time": "2021-06-26T19:09:27.756Z"
   },
   {
    "duration": 17,
    "start_time": "2021-06-26T19:09:36.254Z"
   },
   {
    "duration": 10,
    "start_time": "2021-06-26T19:10:24.494Z"
   },
   {
    "duration": 16,
    "start_time": "2021-06-26T19:10:34.065Z"
   },
   {
    "duration": 33,
    "start_time": "2021-06-26T19:10:52.899Z"
   },
   {
    "duration": 33,
    "start_time": "2021-06-26T19:11:39.936Z"
   },
   {
    "duration": 5,
    "start_time": "2021-06-26T19:16:53.153Z"
   },
   {
    "duration": 12,
    "start_time": "2021-06-26T19:16:53.831Z"
   },
   {
    "duration": 14,
    "start_time": "2021-06-26T19:17:05.217Z"
   },
   {
    "duration": 5,
    "start_time": "2021-06-26T19:34:02.093Z"
   },
   {
    "duration": 17,
    "start_time": "2021-06-26T19:34:02.874Z"
   },
   {
    "duration": 301,
    "start_time": "2021-06-26T19:34:29.627Z"
   },
   {
    "duration": 288,
    "start_time": "2021-06-26T19:37:38.222Z"
   },
   {
    "duration": 6,
    "start_time": "2021-06-26T19:37:50.630Z"
   },
   {
    "duration": 11,
    "start_time": "2021-06-26T19:37:51.236Z"
   },
   {
    "duration": 11,
    "start_time": "2021-06-26T19:39:09.458Z"
   },
   {
    "duration": 12,
    "start_time": "2021-06-26T19:39:29.256Z"
   },
   {
    "duration": 10,
    "start_time": "2021-06-26T19:39:35.217Z"
   },
   {
    "duration": 13,
    "start_time": "2021-06-26T20:42:35.436Z"
   },
   {
    "duration": 12,
    "start_time": "2021-06-26T20:43:20.423Z"
   },
   {
    "duration": 3,
    "start_time": "2021-06-26T20:53:38.261Z"
   },
   {
    "duration": 86,
    "start_time": "2021-06-26T20:53:43.036Z"
   },
   {
    "duration": 287,
    "start_time": "2021-06-26T20:53:50.135Z"
   },
   {
    "duration": 303,
    "start_time": "2021-06-26T20:54:22.697Z"
   },
   {
    "duration": 2003,
    "start_time": "2021-06-26T20:54:31.173Z"
   },
   {
    "duration": 24,
    "start_time": "2021-06-26T20:54:33.179Z"
   },
   {
    "duration": 9,
    "start_time": "2021-06-26T20:54:33.206Z"
   },
   {
    "duration": 20,
    "start_time": "2021-06-26T20:54:33.218Z"
   },
   {
    "duration": 14,
    "start_time": "2021-06-26T20:54:33.242Z"
   },
   {
    "duration": 47,
    "start_time": "2021-06-26T20:54:33.259Z"
   },
   {
    "duration": 42,
    "start_time": "2021-06-26T20:54:33.309Z"
   },
   {
    "duration": 12,
    "start_time": "2021-06-26T20:54:33.357Z"
   },
   {
    "duration": 16,
    "start_time": "2021-06-26T20:54:33.402Z"
   },
   {
    "duration": 21,
    "start_time": "2021-06-26T20:54:33.421Z"
   },
   {
    "duration": 582,
    "start_time": "2021-06-26T20:54:33.445Z"
   },
   {
    "duration": 10,
    "start_time": "2021-06-26T20:54:34.030Z"
   },
   {
    "duration": 18,
    "start_time": "2021-06-26T20:54:34.042Z"
   },
   {
    "duration": 37,
    "start_time": "2021-06-26T20:54:34.063Z"
   },
   {
    "duration": 32,
    "start_time": "2021-06-26T20:54:34.102Z"
   },
   {
    "duration": 7,
    "start_time": "2021-06-26T20:54:34.137Z"
   },
   {
    "duration": 26,
    "start_time": "2021-06-26T20:54:34.147Z"
   },
   {
    "duration": 261,
    "start_time": "2021-06-26T20:54:34.202Z"
   },
   {
    "duration": 11,
    "start_time": "2021-06-26T20:54:34.466Z"
   },
   {
    "duration": 24,
    "start_time": "2021-06-26T20:54:34.480Z"
   },
   {
    "duration": 24,
    "start_time": "2021-06-26T20:54:34.507Z"
   },
   {
    "duration": 10,
    "start_time": "2021-06-26T20:54:34.533Z"
   },
   {
    "duration": 17,
    "start_time": "2021-06-26T20:54:34.548Z"
   },
   {
    "duration": 52,
    "start_time": "2021-06-26T20:54:34.568Z"
   },
   {
    "duration": 34,
    "start_time": "2021-06-26T20:54:34.622Z"
   },
   {
    "duration": 4,
    "start_time": "2021-06-26T20:54:34.659Z"
   },
   {
    "duration": 65,
    "start_time": "2021-06-26T20:54:34.666Z"
   },
   {
    "duration": 7,
    "start_time": "2021-06-26T20:54:34.734Z"
   },
   {
    "duration": 17,
    "start_time": "2021-06-26T20:54:34.743Z"
   },
   {
    "duration": 45,
    "start_time": "2021-06-26T20:54:34.763Z"
   },
   {
    "duration": 18,
    "start_time": "2021-06-26T20:54:34.811Z"
   },
   {
    "duration": 15,
    "start_time": "2021-06-26T20:54:34.832Z"
   },
   {
    "duration": 8,
    "start_time": "2021-06-26T20:54:34.850Z"
   },
   {
    "duration": 49,
    "start_time": "2021-06-26T20:54:34.861Z"
   },
   {
    "duration": 6,
    "start_time": "2021-06-26T20:54:34.913Z"
   },
   {
    "duration": 590,
    "start_time": "2021-06-26T20:54:34.921Z"
   },
   {
    "duration": 552,
    "start_time": "2021-06-26T20:54:34.962Z"
   },
   {
    "duration": 547,
    "start_time": "2021-06-26T20:54:34.970Z"
   },
   {
    "duration": 544,
    "start_time": "2021-06-26T20:54:34.975Z"
   },
   {
    "duration": 538,
    "start_time": "2021-06-26T20:54:34.983Z"
   },
   {
    "duration": 534,
    "start_time": "2021-06-26T20:54:34.988Z"
   },
   {
    "duration": 531,
    "start_time": "2021-06-26T20:54:34.994Z"
   },
   {
    "duration": 526,
    "start_time": "2021-06-26T20:54:35.000Z"
   },
   {
    "duration": 523,
    "start_time": "2021-06-26T20:54:35.005Z"
   },
   {
    "duration": 275,
    "start_time": "2021-06-26T20:55:40.746Z"
   },
   {
    "duration": 2582,
    "start_time": "2021-06-26T20:56:09.794Z"
   },
   {
    "duration": 27,
    "start_time": "2021-06-26T20:56:12.379Z"
   },
   {
    "duration": 7,
    "start_time": "2021-06-26T20:56:12.410Z"
   },
   {
    "duration": 15,
    "start_time": "2021-06-26T20:56:12.420Z"
   },
   {
    "duration": 12,
    "start_time": "2021-06-26T20:56:12.438Z"
   },
   {
    "duration": 8,
    "start_time": "2021-06-26T20:56:12.453Z"
   },
   {
    "duration": 53,
    "start_time": "2021-06-26T20:56:12.463Z"
   },
   {
    "duration": 10,
    "start_time": "2021-06-26T20:56:12.519Z"
   },
   {
    "duration": 15,
    "start_time": "2021-06-26T20:56:12.532Z"
   },
   {
    "duration": 16,
    "start_time": "2021-06-26T20:56:12.549Z"
   },
   {
    "duration": 598,
    "start_time": "2021-06-26T20:56:12.567Z"
   },
   {
    "duration": 10,
    "start_time": "2021-06-26T20:56:13.167Z"
   },
   {
    "duration": 14,
    "start_time": "2021-06-26T20:56:13.179Z"
   },
   {
    "duration": 11,
    "start_time": "2021-06-26T20:56:13.196Z"
   },
   {
    "duration": 33,
    "start_time": "2021-06-26T20:56:13.209Z"
   },
   {
    "duration": 6,
    "start_time": "2021-06-26T20:56:13.245Z"
   },
   {
    "duration": 18,
    "start_time": "2021-06-26T20:56:13.253Z"
   },
   {
    "duration": 268,
    "start_time": "2021-06-26T20:56:13.273Z"
   },
   {
    "duration": 14,
    "start_time": "2021-06-26T20:56:13.544Z"
   },
   {
    "duration": 6,
    "start_time": "2021-06-26T20:56:13.560Z"
   },
   {
    "duration": 16,
    "start_time": "2021-06-26T20:56:13.569Z"
   },
   {
    "duration": 6,
    "start_time": "2021-06-26T20:56:13.601Z"
   },
   {
    "duration": 9,
    "start_time": "2021-06-26T20:56:13.612Z"
   },
   {
    "duration": 77,
    "start_time": "2021-06-26T20:56:13.624Z"
   },
   {
    "duration": 33,
    "start_time": "2021-06-26T20:56:13.704Z"
   },
   {
    "duration": 4,
    "start_time": "2021-06-26T20:56:13.739Z"
   },
   {
    "duration": 70,
    "start_time": "2021-06-26T20:56:13.745Z"
   },
   {
    "duration": 4,
    "start_time": "2021-06-26T20:56:13.817Z"
   },
   {
    "duration": 7,
    "start_time": "2021-06-26T20:56:13.823Z"
   },
   {
    "duration": 572,
    "start_time": "2021-06-26T20:56:13.833Z"
   },
   {
    "duration": 4,
    "start_time": "2021-06-26T20:56:14.404Z"
   },
   {
    "duration": -1,
    "start_time": "2021-06-26T20:56:14.410Z"
   },
   {
    "duration": -6,
    "start_time": "2021-06-26T20:56:14.417Z"
   },
   {
    "duration": -16,
    "start_time": "2021-06-26T20:56:14.428Z"
   },
   {
    "duration": -21,
    "start_time": "2021-06-26T20:56:14.435Z"
   },
   {
    "duration": -26,
    "start_time": "2021-06-26T20:56:14.441Z"
   },
   {
    "duration": -56,
    "start_time": "2021-06-26T20:56:14.473Z"
   },
   {
    "duration": -60,
    "start_time": "2021-06-26T20:56:14.478Z"
   },
   {
    "duration": -68,
    "start_time": "2021-06-26T20:56:14.488Z"
   },
   {
    "duration": -72,
    "start_time": "2021-06-26T20:56:14.493Z"
   },
   {
    "duration": -76,
    "start_time": "2021-06-26T20:56:14.499Z"
   },
   {
    "duration": -81,
    "start_time": "2021-06-26T20:56:14.505Z"
   },
   {
    "duration": -84,
    "start_time": "2021-06-26T20:56:14.510Z"
   },
   {
    "duration": -88,
    "start_time": "2021-06-26T20:56:14.515Z"
   },
   {
    "duration": 1939,
    "start_time": "2021-06-26T20:57:49.521Z"
   },
   {
    "duration": 22,
    "start_time": "2021-06-26T20:57:51.463Z"
   },
   {
    "duration": 11,
    "start_time": "2021-06-26T20:57:51.489Z"
   },
   {
    "duration": 19,
    "start_time": "2021-06-26T20:57:51.503Z"
   },
   {
    "duration": 14,
    "start_time": "2021-06-26T20:57:51.525Z"
   },
   {
    "duration": 8,
    "start_time": "2021-06-26T20:57:51.542Z"
   },
   {
    "duration": 80,
    "start_time": "2021-06-26T20:57:51.553Z"
   },
   {
    "duration": 12,
    "start_time": "2021-06-26T20:57:51.639Z"
   },
   {
    "duration": 52,
    "start_time": "2021-06-26T20:57:51.655Z"
   },
   {
    "duration": 19,
    "start_time": "2021-06-26T20:57:51.711Z"
   },
   {
    "duration": 588,
    "start_time": "2021-06-26T20:57:51.733Z"
   },
   {
    "duration": 10,
    "start_time": "2021-06-26T20:57:52.324Z"
   },
   {
    "duration": 10,
    "start_time": "2021-06-26T20:57:52.336Z"
   },
   {
    "duration": 10,
    "start_time": "2021-06-26T20:57:52.348Z"
   },
   {
    "duration": 67,
    "start_time": "2021-06-26T20:57:52.360Z"
   },
   {
    "duration": 7,
    "start_time": "2021-06-26T20:57:52.429Z"
   },
   {
    "duration": 17,
    "start_time": "2021-06-26T20:57:52.438Z"
   },
   {
    "duration": 209,
    "start_time": "2021-06-26T20:57:52.458Z"
   },
   {
    "duration": 11,
    "start_time": "2021-06-26T20:57:52.670Z"
   },
   {
    "duration": 21,
    "start_time": "2021-06-26T20:57:52.683Z"
   },
   {
    "duration": 13,
    "start_time": "2021-06-26T20:57:52.707Z"
   },
   {
    "duration": 11,
    "start_time": "2021-06-26T20:57:52.722Z"
   },
   {
    "duration": 15,
    "start_time": "2021-06-26T20:57:52.737Z"
   },
   {
    "duration": 63,
    "start_time": "2021-06-26T20:57:52.755Z"
   },
   {
    "duration": 32,
    "start_time": "2021-06-26T20:57:52.820Z"
   },
   {
    "duration": 3,
    "start_time": "2021-06-26T20:57:52.854Z"
   },
   {
    "duration": 60,
    "start_time": "2021-06-26T20:57:52.859Z"
   },
   {
    "duration": 6,
    "start_time": "2021-06-26T20:57:52.921Z"
   },
   {
    "duration": 15,
    "start_time": "2021-06-26T20:57:52.929Z"
   },
   {
    "duration": 15,
    "start_time": "2021-06-26T20:57:52.946Z"
   },
   {
    "duration": 39,
    "start_time": "2021-06-26T20:57:52.964Z"
   },
   {
    "duration": 13,
    "start_time": "2021-06-26T20:57:53.005Z"
   },
   {
    "duration": 20,
    "start_time": "2021-06-26T20:57:53.020Z"
   },
   {
    "duration": 21,
    "start_time": "2021-06-26T20:57:53.043Z"
   },
   {
    "duration": 3,
    "start_time": "2021-06-26T20:57:53.067Z"
   },
   {
    "duration": 457,
    "start_time": "2021-06-26T20:57:53.072Z"
   },
   {
    "duration": 573,
    "start_time": "2021-06-26T20:57:52.958Z"
   },
   {
    "duration": 571,
    "start_time": "2021-06-26T20:57:52.962Z"
   },
   {
    "duration": 564,
    "start_time": "2021-06-26T20:57:52.970Z"
   },
   {
    "duration": 561,
    "start_time": "2021-06-26T20:57:52.975Z"
   },
   {
    "duration": 545,
    "start_time": "2021-06-26T20:57:52.993Z"
   },
   {
    "duration": 537,
    "start_time": "2021-06-26T20:57:53.002Z"
   },
   {
    "duration": 525,
    "start_time": "2021-06-26T20:57:53.015Z"
   },
   {
    "duration": 519,
    "start_time": "2021-06-26T20:57:53.023Z"
   },
   {
    "duration": 31,
    "start_time": "2021-06-26T21:27:26.860Z"
   },
   {
    "duration": 12,
    "start_time": "2021-06-26T21:28:37.599Z"
   },
   {
    "duration": 18,
    "start_time": "2021-06-26T21:28:38.334Z"
   },
   {
    "duration": 5,
    "start_time": "2021-06-26T21:30:00.588Z"
   },
   {
    "duration": 18,
    "start_time": "2021-06-26T21:30:01.411Z"
   },
   {
    "duration": 7,
    "start_time": "2021-06-26T21:30:06.973Z"
   },
   {
    "duration": 21,
    "start_time": "2021-06-26T21:30:48.674Z"
   },
   {
    "duration": 4,
    "start_time": "2021-06-26T21:30:53.383Z"
   },
   {
    "duration": 275,
    "start_time": "2021-06-26T21:30:55.545Z"
   },
   {
    "duration": 5,
    "start_time": "2021-06-26T21:31:40.797Z"
   },
   {
    "duration": 15,
    "start_time": "2021-06-26T21:31:41.743Z"
   },
   {
    "duration": 7,
    "start_time": "2021-06-26T21:31:42.342Z"
   },
   {
    "duration": 19,
    "start_time": "2021-06-26T21:31:44.891Z"
   },
   {
    "duration": 5,
    "start_time": "2021-06-26T21:31:48.292Z"
   },
   {
    "duration": 16,
    "start_time": "2021-06-26T21:31:49.592Z"
   },
   {
    "duration": 5,
    "start_time": "2021-06-26T21:32:15.588Z"
   },
   {
    "duration": 294,
    "start_time": "2021-06-26T21:32:18.131Z"
   },
   {
    "duration": 11,
    "start_time": "2021-06-26T21:32:47.824Z"
   },
   {
    "duration": 9,
    "start_time": "2021-06-26T21:33:17.819Z"
   },
   {
    "duration": 12,
    "start_time": "2021-06-26T21:33:39.503Z"
   },
   {
    "duration": 298,
    "start_time": "2021-06-26T21:33:40.256Z"
   },
   {
    "duration": 4,
    "start_time": "2021-06-26T21:33:41.109Z"
   },
   {
    "duration": 1958,
    "start_time": "2021-06-26T21:33:58.372Z"
   },
   {
    "duration": 22,
    "start_time": "2021-06-26T21:34:00.333Z"
   },
   {
    "duration": 7,
    "start_time": "2021-06-26T21:34:00.358Z"
   },
   {
    "duration": 16,
    "start_time": "2021-06-26T21:34:00.368Z"
   },
   {
    "duration": 11,
    "start_time": "2021-06-26T21:34:00.401Z"
   },
   {
    "duration": 14,
    "start_time": "2021-06-26T21:34:00.415Z"
   },
   {
    "duration": 31,
    "start_time": "2021-06-26T21:34:00.431Z"
   },
   {
    "duration": 38,
    "start_time": "2021-06-26T21:34:00.465Z"
   },
   {
    "duration": 25,
    "start_time": "2021-06-26T21:34:00.508Z"
   },
   {
    "duration": 15,
    "start_time": "2021-06-26T21:34:00.537Z"
   },
   {
    "duration": 597,
    "start_time": "2021-06-26T21:34:00.554Z"
   },
   {
    "duration": 11,
    "start_time": "2021-06-26T21:34:01.153Z"
   },
   {
    "duration": 35,
    "start_time": "2021-06-26T21:34:01.167Z"
   },
   {
    "duration": 10,
    "start_time": "2021-06-26T21:34:01.205Z"
   },
   {
    "duration": 37,
    "start_time": "2021-06-26T21:34:01.218Z"
   },
   {
    "duration": 7,
    "start_time": "2021-06-26T21:34:01.258Z"
   },
   {
    "duration": 44,
    "start_time": "2021-06-26T21:34:01.268Z"
   },
   {
    "duration": 210,
    "start_time": "2021-06-26T21:34:01.315Z"
   },
   {
    "duration": 11,
    "start_time": "2021-06-26T21:34:01.527Z"
   },
   {
    "duration": 19,
    "start_time": "2021-06-26T21:34:01.540Z"
   },
   {
    "duration": 28,
    "start_time": "2021-06-26T21:34:01.561Z"
   },
   {
    "duration": 7,
    "start_time": "2021-06-26T21:34:01.600Z"
   },
   {
    "duration": 14,
    "start_time": "2021-06-26T21:34:01.610Z"
   },
   {
    "duration": 49,
    "start_time": "2021-06-26T21:34:01.627Z"
   },
   {
    "duration": 46,
    "start_time": "2021-06-26T21:34:01.679Z"
   },
   {
    "duration": 30,
    "start_time": "2021-06-26T21:34:01.728Z"
   },
   {
    "duration": 37,
    "start_time": "2021-06-26T21:34:01.764Z"
   },
   {
    "duration": 5,
    "start_time": "2021-06-26T21:34:01.804Z"
   },
   {
    "duration": 20,
    "start_time": "2021-06-26T21:34:01.812Z"
   },
   {
    "duration": 8,
    "start_time": "2021-06-26T21:34:01.835Z"
   },
   {
    "duration": 21,
    "start_time": "2021-06-26T21:34:01.846Z"
   },
   {
    "duration": 33,
    "start_time": "2021-06-26T21:34:01.869Z"
   },
   {
    "duration": 22,
    "start_time": "2021-06-26T21:34:01.905Z"
   },
   {
    "duration": 5,
    "start_time": "2021-06-26T21:34:01.930Z"
   },
   {
    "duration": 473,
    "start_time": "2021-06-26T21:34:01.938Z"
   },
   {
    "duration": 592,
    "start_time": "2021-06-26T21:34:01.822Z"
   },
   {
    "duration": 586,
    "start_time": "2021-06-26T21:34:01.829Z"
   },
   {
    "duration": 582,
    "start_time": "2021-06-26T21:34:01.835Z"
   },
   {
    "duration": 576,
    "start_time": "2021-06-26T21:34:01.842Z"
   },
   {
    "duration": 572,
    "start_time": "2021-06-26T21:34:01.847Z"
   },
   {
    "duration": 567,
    "start_time": "2021-06-26T21:34:01.854Z"
   },
   {
    "duration": 560,
    "start_time": "2021-06-26T21:34:01.862Z"
   },
   {
    "duration": 552,
    "start_time": "2021-06-26T21:34:01.871Z"
   },
   {
    "duration": 549,
    "start_time": "2021-06-26T21:34:01.876Z"
   },
   {
    "duration": 545,
    "start_time": "2021-06-26T21:34:01.881Z"
   },
   {
    "duration": 536,
    "start_time": "2021-06-26T21:34:01.891Z"
   },
   {
    "duration": 530,
    "start_time": "2021-06-26T21:34:01.899Z"
   },
   {
    "duration": 521,
    "start_time": "2021-06-26T21:34:01.909Z"
   },
   {
    "duration": 504,
    "start_time": "2021-06-26T21:34:01.927Z"
   },
   {
    "duration": 496,
    "start_time": "2021-06-26T21:34:01.936Z"
   },
   {
    "duration": 491,
    "start_time": "2021-06-26T21:34:01.943Z"
   },
   {
    "duration": 10,
    "start_time": "2021-06-26T21:35:56.990Z"
   },
   {
    "duration": 268,
    "start_time": "2021-06-26T21:36:20.931Z"
   },
   {
    "duration": 260,
    "start_time": "2021-06-26T21:36:45.671Z"
   },
   {
    "duration": 7,
    "start_time": "2021-06-26T21:36:52.856Z"
   },
   {
    "duration": 287,
    "start_time": "2021-06-26T21:37:04.710Z"
   },
   {
    "duration": 7,
    "start_time": "2021-06-26T21:37:09.623Z"
   },
   {
    "duration": 14,
    "start_time": "2021-06-26T21:37:17.529Z"
   },
   {
    "duration": 298,
    "start_time": "2021-06-26T21:38:07.456Z"
   },
   {
    "duration": 288,
    "start_time": "2021-06-26T21:38:20.338Z"
   },
   {
    "duration": 284,
    "start_time": "2021-06-26T21:38:22.659Z"
   },
   {
    "duration": 14,
    "start_time": "2021-06-26T21:38:49.696Z"
   },
   {
    "duration": 1878,
    "start_time": "2021-06-26T21:39:11.236Z"
   },
   {
    "duration": 22,
    "start_time": "2021-06-26T21:39:13.117Z"
   },
   {
    "duration": 13,
    "start_time": "2021-06-26T21:39:13.142Z"
   },
   {
    "duration": 19,
    "start_time": "2021-06-26T21:39:13.158Z"
   },
   {
    "duration": 24,
    "start_time": "2021-06-26T21:39:13.180Z"
   },
   {
    "duration": 9,
    "start_time": "2021-06-26T21:39:13.206Z"
   },
   {
    "duration": 36,
    "start_time": "2021-06-26T21:39:13.218Z"
   },
   {
    "duration": 9,
    "start_time": "2021-06-26T21:39:13.258Z"
   },
   {
    "duration": 15,
    "start_time": "2021-06-26T21:39:13.302Z"
   },
   {
    "duration": 16,
    "start_time": "2021-06-26T21:39:13.320Z"
   },
   {
    "duration": 572,
    "start_time": "2021-06-26T21:39:13.338Z"
   },
   {
    "duration": 9,
    "start_time": "2021-06-26T21:39:13.913Z"
   },
   {
    "duration": 13,
    "start_time": "2021-06-26T21:39:13.925Z"
   },
   {
    "duration": 9,
    "start_time": "2021-06-26T21:39:13.940Z"
   },
   {
    "duration": 66,
    "start_time": "2021-06-26T21:39:13.951Z"
   },
   {
    "duration": 6,
    "start_time": "2021-06-26T21:39:14.019Z"
   },
   {
    "duration": 16,
    "start_time": "2021-06-26T21:39:14.028Z"
   },
   {
    "duration": 205,
    "start_time": "2021-06-26T21:39:14.046Z"
   },
   {
    "duration": 11,
    "start_time": "2021-06-26T21:39:14.253Z"
   },
   {
    "duration": 9,
    "start_time": "2021-06-26T21:39:14.267Z"
   },
   {
    "duration": 35,
    "start_time": "2021-06-26T21:39:14.278Z"
   },
   {
    "duration": 9,
    "start_time": "2021-06-26T21:39:14.315Z"
   },
   {
    "duration": 10,
    "start_time": "2021-06-26T21:39:14.329Z"
   },
   {
    "duration": 60,
    "start_time": "2021-06-26T21:39:14.342Z"
   },
   {
    "duration": 31,
    "start_time": "2021-06-26T21:39:14.404Z"
   },
   {
    "duration": 12,
    "start_time": "2021-06-26T21:39:14.437Z"
   },
   {
    "duration": 12,
    "start_time": "2021-06-26T21:39:14.451Z"
   },
   {
    "duration": 38,
    "start_time": "2021-06-26T21:39:14.466Z"
   },
   {
    "duration": 29,
    "start_time": "2021-06-26T21:39:14.506Z"
   },
   {
    "duration": 459,
    "start_time": "2021-06-26T21:39:14.537Z"
   },
   {
    "duration": 492,
    "start_time": "2021-06-26T21:39:14.506Z"
   },
   {
    "duration": 485,
    "start_time": "2021-06-26T21:39:14.515Z"
   },
   {
    "duration": 480,
    "start_time": "2021-06-26T21:39:14.521Z"
   },
   {
    "duration": 474,
    "start_time": "2021-06-26T21:39:14.528Z"
   },
   {
    "duration": 470,
    "start_time": "2021-06-26T21:39:14.534Z"
   },
   {
    "duration": 465,
    "start_time": "2021-06-26T21:39:14.540Z"
   },
   {
    "duration": 458,
    "start_time": "2021-06-26T21:39:14.548Z"
   },
   {
    "duration": 454,
    "start_time": "2021-06-26T21:39:14.554Z"
   },
   {
    "duration": 449,
    "start_time": "2021-06-26T21:39:14.561Z"
   },
   {
    "duration": 446,
    "start_time": "2021-06-26T21:39:14.566Z"
   },
   {
    "duration": 441,
    "start_time": "2021-06-26T21:39:14.572Z"
   },
   {
    "duration": 433,
    "start_time": "2021-06-26T21:39:14.581Z"
   },
   {
    "duration": 423,
    "start_time": "2021-06-26T21:39:14.593Z"
   },
   {
    "duration": 419,
    "start_time": "2021-06-26T21:39:14.598Z"
   },
   {
    "duration": 414,
    "start_time": "2021-06-26T21:39:14.604Z"
   },
   {
    "duration": 396,
    "start_time": "2021-06-26T21:39:14.624Z"
   },
   {
    "duration": 390,
    "start_time": "2021-06-26T21:39:14.631Z"
   },
   {
    "duration": 278,
    "start_time": "2021-06-26T21:40:12.818Z"
   },
   {
    "duration": 258,
    "start_time": "2021-06-26T21:40:13.993Z"
   },
   {
    "duration": 6,
    "start_time": "2021-06-26T21:40:25.733Z"
   },
   {
    "duration": 11,
    "start_time": "2021-06-26T21:40:28.974Z"
   },
   {
    "duration": 9,
    "start_time": "2021-06-26T21:40:31.983Z"
   },
   {
    "duration": 11,
    "start_time": "2021-06-26T21:40:50.418Z"
   },
   {
    "duration": 12,
    "start_time": "2021-06-26T21:41:49.742Z"
   },
   {
    "duration": 4,
    "start_time": "2021-06-26T21:41:50.657Z"
   },
   {
    "duration": 10,
    "start_time": "2021-06-26T21:42:04.705Z"
   },
   {
    "duration": 15,
    "start_time": "2021-06-26T21:44:32.537Z"
   },
   {
    "duration": 11,
    "start_time": "2021-06-26T21:44:40.714Z"
   },
   {
    "duration": 29,
    "start_time": "2021-06-26T21:51:52.662Z"
   },
   {
    "duration": 5,
    "start_time": "2021-06-26T21:51:53.501Z"
   },
   {
    "duration": 11,
    "start_time": "2021-06-26T21:51:54.333Z"
   },
   {
    "duration": 9,
    "start_time": "2021-06-26T21:51:55.340Z"
   },
   {
    "duration": 11,
    "start_time": "2021-06-26T21:51:56.228Z"
   },
   {
    "duration": 13,
    "start_time": "2021-06-26T21:52:03.793Z"
   },
   {
    "duration": 11,
    "start_time": "2021-06-26T21:52:05.113Z"
   },
   {
    "duration": 12,
    "start_time": "2021-06-26T21:52:06.664Z"
   },
   {
    "duration": 95,
    "start_time": "2021-06-26T22:06:20.937Z"
   },
   {
    "duration": 29,
    "start_time": "2021-06-26T22:06:38.953Z"
   },
   {
    "duration": 46,
    "start_time": "2021-06-26T22:09:41.877Z"
   },
   {
    "duration": 40,
    "start_time": "2021-06-26T22:13:25.175Z"
   },
   {
    "duration": 287,
    "start_time": "2021-06-26T22:20:26.707Z"
   },
   {
    "duration": 9,
    "start_time": "2021-06-26T22:22:47.625Z"
   },
   {
    "duration": 5,
    "start_time": "2021-06-26T22:23:01.454Z"
   },
   {
    "duration": 8,
    "start_time": "2021-06-26T22:23:11.552Z"
   },
   {
    "duration": 5,
    "start_time": "2021-06-26T22:24:36.592Z"
   },
   {
    "duration": 282,
    "start_time": "2021-06-26T22:25:01.103Z"
   },
   {
    "duration": 7,
    "start_time": "2021-06-26T22:25:17.212Z"
   },
   {
    "duration": 13,
    "start_time": "2021-06-26T22:53:42.546Z"
   },
   {
    "duration": 281,
    "start_time": "2021-06-26T23:02:45.814Z"
   },
   {
    "duration": 602,
    "start_time": "2021-06-26T23:02:56.101Z"
   },
   {
    "duration": 270,
    "start_time": "2021-06-26T23:03:08.574Z"
   },
   {
    "duration": 685,
    "start_time": "2021-06-26T23:03:25.134Z"
   },
   {
    "duration": 284,
    "start_time": "2021-06-26T23:04:00.733Z"
   },
   {
    "duration": 267,
    "start_time": "2021-06-26T23:04:34.517Z"
   },
   {
    "duration": 278,
    "start_time": "2021-06-26T23:05:00.067Z"
   },
   {
    "duration": 1929,
    "start_time": "2021-06-26T23:05:12.700Z"
   },
   {
    "duration": 22,
    "start_time": "2021-06-26T23:05:14.631Z"
   },
   {
    "duration": 7,
    "start_time": "2021-06-26T23:05:14.656Z"
   },
   {
    "duration": 17,
    "start_time": "2021-06-26T23:05:14.666Z"
   },
   {
    "duration": 22,
    "start_time": "2021-06-26T23:05:14.686Z"
   },
   {
    "duration": 8,
    "start_time": "2021-06-26T23:05:14.710Z"
   },
   {
    "duration": 31,
    "start_time": "2021-06-26T23:05:14.721Z"
   },
   {
    "duration": 46,
    "start_time": "2021-06-26T23:05:14.756Z"
   },
   {
    "duration": 16,
    "start_time": "2021-06-26T23:05:14.805Z"
   },
   {
    "duration": 21,
    "start_time": "2021-06-26T23:05:14.823Z"
   },
   {
    "duration": 583,
    "start_time": "2021-06-26T23:05:14.847Z"
   },
   {
    "duration": 10,
    "start_time": "2021-06-26T23:05:15.432Z"
   },
   {
    "duration": 13,
    "start_time": "2021-06-26T23:05:15.445Z"
   },
   {
    "duration": 42,
    "start_time": "2021-06-26T23:05:15.461Z"
   },
   {
    "duration": 34,
    "start_time": "2021-06-26T23:05:15.506Z"
   },
   {
    "duration": 7,
    "start_time": "2021-06-26T23:05:15.543Z"
   },
   {
    "duration": 50,
    "start_time": "2021-06-26T23:05:15.553Z"
   },
   {
    "duration": 189,
    "start_time": "2021-06-26T23:05:15.607Z"
   },
   {
    "duration": 13,
    "start_time": "2021-06-26T23:05:15.801Z"
   },
   {
    "duration": 441,
    "start_time": "2021-06-26T23:05:15.816Z"
   },
   {
    "duration": 609,
    "start_time": "2021-06-26T23:05:15.652Z"
   },
   {
    "duration": 604,
    "start_time": "2021-06-26T23:05:15.659Z"
   },
   {
    "duration": 597,
    "start_time": "2021-06-26T23:05:15.667Z"
   },
   {
    "duration": 591,
    "start_time": "2021-06-26T23:05:15.674Z"
   },
   {
    "duration": 585,
    "start_time": "2021-06-26T23:05:15.682Z"
   },
   {
    "duration": 582,
    "start_time": "2021-06-26T23:05:15.687Z"
   },
   {
    "duration": 575,
    "start_time": "2021-06-26T23:05:15.695Z"
   },
   {
    "duration": 565,
    "start_time": "2021-06-26T23:05:15.707Z"
   },
   {
    "duration": 560,
    "start_time": "2021-06-26T23:05:15.713Z"
   },
   {
    "duration": 556,
    "start_time": "2021-06-26T23:05:15.719Z"
   },
   {
    "duration": 552,
    "start_time": "2021-06-26T23:05:15.725Z"
   },
   {
    "duration": 546,
    "start_time": "2021-06-26T23:05:15.732Z"
   },
   {
    "duration": 541,
    "start_time": "2021-06-26T23:05:15.739Z"
   },
   {
    "duration": 535,
    "start_time": "2021-06-26T23:05:15.746Z"
   },
   {
    "duration": 520,
    "start_time": "2021-06-26T23:05:15.763Z"
   },
   {
    "duration": 513,
    "start_time": "2021-06-26T23:05:15.771Z"
   },
   {
    "duration": 509,
    "start_time": "2021-06-26T23:05:15.777Z"
   },
   {
    "duration": 501,
    "start_time": "2021-06-26T23:05:15.786Z"
   },
   {
    "duration": 496,
    "start_time": "2021-06-26T23:05:15.793Z"
   },
   {
    "duration": 490,
    "start_time": "2021-06-26T23:05:15.801Z"
   },
   {
    "duration": 486,
    "start_time": "2021-06-26T23:05:15.806Z"
   },
   {
    "duration": 480,
    "start_time": "2021-06-26T23:05:15.814Z"
   },
   {
    "duration": 476,
    "start_time": "2021-06-26T23:05:15.819Z"
   },
   {
    "duration": 472,
    "start_time": "2021-06-26T23:05:15.825Z"
   },
   {
    "duration": 468,
    "start_time": "2021-06-26T23:05:15.833Z"
   },
   {
    "duration": 463,
    "start_time": "2021-06-26T23:05:15.839Z"
   },
   {
    "duration": 457,
    "start_time": "2021-06-26T23:05:15.847Z"
   },
   {
    "duration": 452,
    "start_time": "2021-06-26T23:05:15.854Z"
   },
   {
    "duration": 446,
    "start_time": "2021-06-26T23:05:15.861Z"
   },
   {
    "duration": 425,
    "start_time": "2021-06-26T23:05:15.884Z"
   },
   {
    "duration": 421,
    "start_time": "2021-06-26T23:05:15.890Z"
   },
   {
    "duration": 415,
    "start_time": "2021-06-26T23:05:15.897Z"
   },
   {
    "duration": 410,
    "start_time": "2021-06-26T23:05:15.904Z"
   },
   {
    "duration": 403,
    "start_time": "2021-06-26T23:05:15.912Z"
   },
   {
    "duration": 399,
    "start_time": "2021-06-26T23:05:15.917Z"
   },
   {
    "duration": 261,
    "start_time": "2021-06-26T23:06:55.313Z"
   },
   {
    "duration": 30,
    "start_time": "2021-06-26T23:07:55.417Z"
   },
   {
    "duration": 13,
    "start_time": "2021-06-26T23:08:13.146Z"
   },
   {
    "duration": 261,
    "start_time": "2021-06-26T23:08:26.354Z"
   },
   {
    "duration": 13,
    "start_time": "2021-06-26T23:08:34.493Z"
   },
   {
    "duration": 26,
    "start_time": "2021-06-26T23:08:42.586Z"
   },
   {
    "duration": 8,
    "start_time": "2021-06-26T23:08:43.235Z"
   },
   {
    "duration": 7,
    "start_time": "2021-06-26T23:08:44.785Z"
   },
   {
    "duration": 12,
    "start_time": "2021-06-26T23:08:46.534Z"
   },
   {
    "duration": 6,
    "start_time": "2021-06-26T23:08:47.021Z"
   },
   {
    "duration": 11,
    "start_time": "2021-06-26T23:08:47.666Z"
   },
   {
    "duration": 30,
    "start_time": "2021-06-26T23:08:48.333Z"
   },
   {
    "duration": 31,
    "start_time": "2021-06-26T23:08:48.794Z"
   },
   {
    "duration": 13,
    "start_time": "2021-06-26T23:08:49.353Z"
   },
   {
    "duration": 7,
    "start_time": "2021-06-26T23:08:50.240Z"
   },
   {
    "duration": 4,
    "start_time": "2021-06-26T23:08:52.702Z"
   },
   {
    "duration": 27,
    "start_time": "2021-06-26T23:08:56.735Z"
   },
   {
    "duration": 6,
    "start_time": "2021-06-26T23:09:01.313Z"
   },
   {
    "duration": 12,
    "start_time": "2021-06-26T23:09:01.983Z"
   },
   {
    "duration": 8,
    "start_time": "2021-06-26T23:09:02.975Z"
   },
   {
    "duration": 11,
    "start_time": "2021-06-26T23:09:03.747Z"
   },
   {
    "duration": 13,
    "start_time": "2021-06-26T23:09:04.388Z"
   },
   {
    "duration": 11,
    "start_time": "2021-06-26T23:09:05.113Z"
   },
   {
    "duration": 11,
    "start_time": "2021-06-26T23:09:05.993Z"
   },
   {
    "duration": 28,
    "start_time": "2021-06-26T23:09:06.948Z"
   },
   {
    "duration": 42,
    "start_time": "2021-06-26T23:09:07.898Z"
   },
   {
    "duration": 42,
    "start_time": "2021-06-26T23:09:08.855Z"
   },
   {
    "duration": 9,
    "start_time": "2021-06-26T23:09:10.342Z"
   },
   {
    "duration": 43,
    "start_time": "2021-06-26T23:12:08.694Z"
   },
   {
    "duration": 20,
    "start_time": "2021-06-26T23:12:44.655Z"
   },
   {
    "duration": 8,
    "start_time": "2021-06-26T23:27:35.377Z"
   },
   {
    "duration": 16,
    "start_time": "2021-06-26T23:27:58.991Z"
   },
   {
    "duration": 16,
    "start_time": "2021-06-26T23:28:05.704Z"
   },
   {
    "duration": 326,
    "start_time": "2021-06-26T23:28:24.434Z"
   },
   {
    "duration": 289,
    "start_time": "2021-06-26T23:28:31.544Z"
   },
   {
    "duration": 306,
    "start_time": "2021-06-26T23:28:55.868Z"
   },
   {
    "duration": 5,
    "start_time": "2021-06-26T23:29:07.188Z"
   },
   {
    "duration": 5,
    "start_time": "2021-06-26T23:29:15.509Z"
   },
   {
    "duration": 11,
    "start_time": "2021-06-26T23:31:51.388Z"
   },
   {
    "duration": 6521,
    "start_time": "2021-06-26T23:34:11.429Z"
   },
   {
    "duration": 635,
    "start_time": "2021-06-26T23:35:05.462Z"
   },
   {
    "duration": 9,
    "start_time": "2021-06-26T23:35:10.671Z"
   },
   {
    "duration": 9,
    "start_time": "2021-06-26T23:35:59.980Z"
   },
   {
    "duration": 9,
    "start_time": "2021-06-26T23:36:31.178Z"
   },
   {
    "duration": 43,
    "start_time": "2021-06-26T23:56:46.242Z"
   },
   {
    "duration": 1311,
    "start_time": "2021-06-27T00:13:27.338Z"
   },
   {
    "duration": 645,
    "start_time": "2021-06-27T00:13:28.007Z"
   },
   {
    "duration": 35,
    "start_time": "2021-06-27T00:15:43.988Z"
   },
   {
    "duration": 36,
    "start_time": "2021-06-27T00:15:58.506Z"
   },
   {
    "duration": 35,
    "start_time": "2021-06-27T00:16:13.751Z"
   },
   {
    "duration": 10,
    "start_time": "2021-06-27T00:16:17.867Z"
   },
   {
    "duration": 371,
    "start_time": "2021-06-27T00:16:47.641Z"
   },
   {
    "duration": 28,
    "start_time": "2021-06-27T00:22:10.855Z"
   },
   {
    "duration": 302,
    "start_time": "2021-06-27T00:22:37.403Z"
   },
   {
    "duration": 292,
    "start_time": "2021-06-27T00:22:55.735Z"
   },
   {
    "duration": 313,
    "start_time": "2021-06-27T00:23:04.988Z"
   },
   {
    "duration": 106,
    "start_time": "2021-06-27T00:23:31.095Z"
   },
   {
    "duration": 72,
    "start_time": "2021-06-27T00:23:54.629Z"
   },
   {
    "duration": 9,
    "start_time": "2021-06-27T00:24:04.896Z"
   },
   {
    "duration": 26,
    "start_time": "2021-06-27T00:24:09.195Z"
   },
   {
    "duration": 22,
    "start_time": "2021-06-27T00:25:34.914Z"
   },
   {
    "duration": 265,
    "start_time": "2021-06-27T00:56:38.136Z"
   },
   {
    "duration": 259,
    "start_time": "2021-06-27T00:57:28.904Z"
   },
   {
    "duration": 7,
    "start_time": "2021-06-27T01:00:54.836Z"
   },
   {
    "duration": 7,
    "start_time": "2021-06-27T01:01:09.557Z"
   },
   {
    "duration": 696,
    "start_time": "2021-06-27T01:05:03.581Z"
   },
   {
    "duration": 108,
    "start_time": "2021-06-27T01:05:26.337Z"
   },
   {
    "duration": 7,
    "start_time": "2021-06-27T01:05:35.352Z"
   },
   {
    "duration": 208,
    "start_time": "2021-06-27T08:57:07.014Z"
   },
   {
    "duration": 1411,
    "start_time": "2021-06-27T08:57:11.838Z"
   },
   {
    "duration": 140,
    "start_time": "2021-06-27T08:57:13.251Z"
   },
   {
    "duration": 6,
    "start_time": "2021-06-27T08:57:13.393Z"
   },
   {
    "duration": 12,
    "start_time": "2021-06-27T08:57:13.400Z"
   },
   {
    "duration": 8,
    "start_time": "2021-06-27T08:57:13.414Z"
   },
   {
    "duration": 6,
    "start_time": "2021-06-27T08:57:13.424Z"
   },
   {
    "duration": 22,
    "start_time": "2021-06-27T08:57:13.431Z"
   },
   {
    "duration": 35,
    "start_time": "2021-06-27T08:57:13.455Z"
   },
   {
    "duration": 10,
    "start_time": "2021-06-27T08:57:13.492Z"
   },
   {
    "duration": 9,
    "start_time": "2021-06-27T08:57:13.504Z"
   },
   {
    "duration": 371,
    "start_time": "2021-06-27T08:57:13.514Z"
   },
   {
    "duration": 7,
    "start_time": "2021-06-27T08:57:13.886Z"
   },
   {
    "duration": 8,
    "start_time": "2021-06-27T08:57:13.894Z"
   },
   {
    "duration": 6,
    "start_time": "2021-06-27T08:57:13.903Z"
   },
   {
    "duration": 21,
    "start_time": "2021-06-27T08:57:13.911Z"
   },
   {
    "duration": 4,
    "start_time": "2021-06-27T08:57:13.934Z"
   },
   {
    "duration": 45,
    "start_time": "2021-06-27T08:57:13.940Z"
   },
   {
    "duration": 125,
    "start_time": "2021-06-27T08:57:13.986Z"
   },
   {
    "duration": 9,
    "start_time": "2021-06-27T08:57:14.113Z"
   },
   {
    "duration": 306,
    "start_time": "2021-06-27T08:57:14.123Z"
   },
   {
    "duration": -187,
    "start_time": "2021-06-27T08:57:14.620Z"
   },
   {
    "duration": -233,
    "start_time": "2021-06-27T08:57:14.667Z"
   },
   {
    "duration": -240,
    "start_time": "2021-06-27T08:57:14.675Z"
   },
   {
    "duration": -247,
    "start_time": "2021-06-27T08:57:14.684Z"
   },
   {
    "duration": -253,
    "start_time": "2021-06-27T08:57:14.691Z"
   },
   {
    "duration": -258,
    "start_time": "2021-06-27T08:57:14.698Z"
   },
   {
    "duration": -265,
    "start_time": "2021-06-27T08:57:14.706Z"
   },
   {
    "duration": -270,
    "start_time": "2021-06-27T08:57:14.713Z"
   },
   {
    "duration": -279,
    "start_time": "2021-06-27T08:57:14.723Z"
   },
   {
    "duration": -285,
    "start_time": "2021-06-27T08:57:14.730Z"
   },
   {
    "duration": -291,
    "start_time": "2021-06-27T08:57:14.738Z"
   },
   {
    "duration": -299,
    "start_time": "2021-06-27T08:57:14.747Z"
   },
   {
    "duration": -306,
    "start_time": "2021-06-27T08:57:14.756Z"
   },
   {
    "duration": -334,
    "start_time": "2021-06-27T08:57:14.785Z"
   },
   {
    "duration": -343,
    "start_time": "2021-06-27T08:57:14.796Z"
   },
   {
    "duration": -356,
    "start_time": "2021-06-27T08:57:14.810Z"
   },
   {
    "duration": -366,
    "start_time": "2021-06-27T08:57:14.821Z"
   },
   {
    "duration": -378,
    "start_time": "2021-06-27T08:57:14.835Z"
   },
   {
    "duration": -390,
    "start_time": "2021-06-27T08:57:14.848Z"
   },
   {
    "duration": -397,
    "start_time": "2021-06-27T08:57:14.857Z"
   },
   {
    "duration": -406,
    "start_time": "2021-06-27T08:57:14.867Z"
   },
   {
    "duration": -490,
    "start_time": "2021-06-27T08:57:14.953Z"
   },
   {
    "duration": -503,
    "start_time": "2021-06-27T08:57:14.967Z"
   },
   {
    "duration": -517,
    "start_time": "2021-06-27T08:57:14.983Z"
   },
   {
    "duration": -528,
    "start_time": "2021-06-27T08:57:14.995Z"
   },
   {
    "duration": -542,
    "start_time": "2021-06-27T08:57:15.011Z"
   },
   {
    "duration": -557,
    "start_time": "2021-06-27T08:57:15.027Z"
   },
   {
    "duration": -573,
    "start_time": "2021-06-27T08:57:15.044Z"
   },
   {
    "duration": -610,
    "start_time": "2021-06-27T08:57:15.083Z"
   },
   {
    "duration": -613,
    "start_time": "2021-06-27T08:57:15.097Z"
   },
   {
    "duration": -623,
    "start_time": "2021-06-27T08:57:15.109Z"
   },
   {
    "duration": -637,
    "start_time": "2021-06-27T08:57:15.124Z"
   },
   {
    "duration": -650,
    "start_time": "2021-06-27T08:57:15.139Z"
   },
   {
    "duration": -664,
    "start_time": "2021-06-27T08:57:15.154Z"
   },
   {
    "duration": -676,
    "start_time": "2021-06-27T08:57:15.168Z"
   },
   {
    "duration": -750,
    "start_time": "2021-06-27T08:57:15.243Z"
   },
   {
    "duration": -764,
    "start_time": "2021-06-27T08:57:15.259Z"
   },
   {
    "duration": -778,
    "start_time": "2021-06-27T08:57:15.274Z"
   },
   {
    "duration": -797,
    "start_time": "2021-06-27T08:57:15.294Z"
   },
   {
    "duration": -833,
    "start_time": "2021-06-27T08:57:15.332Z"
   },
   {
    "duration": -847,
    "start_time": "2021-06-27T08:57:15.347Z"
   },
   {
    "duration": -853,
    "start_time": "2021-06-27T08:57:15.355Z"
   },
   {
    "duration": -863,
    "start_time": "2021-06-27T08:57:15.366Z"
   },
   {
    "duration": -881,
    "start_time": "2021-06-27T08:57:15.385Z"
   },
   {
    "duration": -896,
    "start_time": "2021-06-27T08:57:15.402Z"
   },
   {
    "duration": -911,
    "start_time": "2021-06-27T08:57:15.418Z"
   },
   {
    "duration": -938,
    "start_time": "2021-06-27T08:57:15.447Z"
   },
   {
    "duration": -968,
    "start_time": "2021-06-27T08:57:15.477Z"
   },
   {
    "duration": -975,
    "start_time": "2021-06-27T08:57:15.485Z"
   },
   {
    "duration": -982,
    "start_time": "2021-06-27T08:57:15.493Z"
   },
   {
    "duration": 190,
    "start_time": "2021-06-27T08:57:52.853Z"
   },
   {
    "duration": 19,
    "start_time": "2021-06-27T08:58:17.648Z"
   },
   {
    "duration": 6,
    "start_time": "2021-06-27T08:58:19.748Z"
   },
   {
    "duration": 5,
    "start_time": "2021-06-27T08:58:21.058Z"
   },
   {
    "duration": 9,
    "start_time": "2021-06-27T08:58:22.458Z"
   },
   {
    "duration": 6,
    "start_time": "2021-06-27T08:58:22.968Z"
   },
   {
    "duration": 12,
    "start_time": "2021-06-27T08:58:23.408Z"
   },
   {
    "duration": 24,
    "start_time": "2021-06-27T08:58:24.018Z"
   },
   {
    "duration": 22,
    "start_time": "2021-06-27T08:58:24.418Z"
   },
   {
    "duration": 9,
    "start_time": "2021-06-27T08:58:24.838Z"
   },
   {
    "duration": 6,
    "start_time": "2021-06-27T08:58:25.087Z"
   },
   {
    "duration": 3,
    "start_time": "2021-06-27T08:58:25.947Z"
   },
   {
    "duration": 182,
    "start_time": "2021-06-27T08:58:26.458Z"
   },
   {
    "duration": 3,
    "start_time": "2021-06-27T08:58:26.657Z"
   },
   {
    "duration": 192,
    "start_time": "2021-06-27T08:58:26.848Z"
   },
   {
    "duration": 52,
    "start_time": "2021-06-27T08:58:26.990Z"
   },
   {
    "duration": 7,
    "start_time": "2021-06-27T08:58:27.238Z"
   },
   {
    "duration": 210,
    "start_time": "2021-06-27T08:58:49.188Z"
   },
   {
    "duration": 1502,
    "start_time": "2021-06-27T08:58:55.564Z"
   },
   {
    "duration": 19,
    "start_time": "2021-06-27T08:58:57.068Z"
   },
   {
    "duration": 6,
    "start_time": "2021-06-27T08:58:57.089Z"
   },
   {
    "duration": 12,
    "start_time": "2021-06-27T08:58:57.097Z"
   },
   {
    "duration": 9,
    "start_time": "2021-06-27T08:58:57.110Z"
   },
   {
    "duration": 6,
    "start_time": "2021-06-27T08:58:57.120Z"
   },
   {
    "duration": 22,
    "start_time": "2021-06-27T08:58:57.128Z"
   },
   {
    "duration": 7,
    "start_time": "2021-06-27T08:58:57.184Z"
   },
   {
    "duration": 9,
    "start_time": "2021-06-27T08:58:57.193Z"
   },
   {
    "duration": 11,
    "start_time": "2021-06-27T08:58:57.204Z"
   },
   {
    "duration": 370,
    "start_time": "2021-06-27T08:58:57.216Z"
   },
   {
    "duration": 6,
    "start_time": "2021-06-27T08:58:57.588Z"
   },
   {
    "duration": 10,
    "start_time": "2021-06-27T08:58:57.596Z"
   },
   {
    "duration": 9,
    "start_time": "2021-06-27T08:58:57.607Z"
   },
   {
    "duration": 23,
    "start_time": "2021-06-27T08:58:57.617Z"
   },
   {
    "duration": 4,
    "start_time": "2021-06-27T08:58:57.641Z"
   },
   {
    "duration": 15,
    "start_time": "2021-06-27T08:58:57.646Z"
   },
   {
    "duration": 131,
    "start_time": "2021-06-27T08:58:57.662Z"
   },
   {
    "duration": 7,
    "start_time": "2021-06-27T08:58:57.794Z"
   },
   {
    "duration": 296,
    "start_time": "2021-06-27T08:58:57.803Z"
   },
   {
    "duration": 78,
    "start_time": "2021-06-27T08:58:58.025Z"
   },
   {
    "duration": 66,
    "start_time": "2021-06-27T08:58:58.038Z"
   },
   {
    "duration": -13,
    "start_time": "2021-06-27T08:58:58.118Z"
   },
   {
    "duration": -23,
    "start_time": "2021-06-27T08:58:58.129Z"
   },
   {
    "duration": -30,
    "start_time": "2021-06-27T08:58:58.137Z"
   },
   {
    "duration": -37,
    "start_time": "2021-06-27T08:58:58.145Z"
   },
   {
    "duration": -42,
    "start_time": "2021-06-27T08:58:58.151Z"
   },
   {
    "duration": -53,
    "start_time": "2021-06-27T08:58:58.162Z"
   },
   {
    "duration": -58,
    "start_time": "2021-06-27T08:58:58.168Z"
   },
   {
    "duration": -68,
    "start_time": "2021-06-27T08:58:58.179Z"
   },
   {
    "duration": -278,
    "start_time": "2021-06-27T08:58:58.390Z"
   },
   {
    "duration": -284,
    "start_time": "2021-06-27T08:58:58.397Z"
   },
   {
    "duration": -290,
    "start_time": "2021-06-27T08:58:58.404Z"
   },
   {
    "duration": -297,
    "start_time": "2021-06-27T08:58:58.412Z"
   },
   {
    "duration": -305,
    "start_time": "2021-06-27T08:58:58.420Z"
   },
   {
    "duration": -311,
    "start_time": "2021-06-27T08:58:58.427Z"
   },
   {
    "duration": -317,
    "start_time": "2021-06-27T08:58:58.434Z"
   },
   {
    "duration": -323,
    "start_time": "2021-06-27T08:58:58.441Z"
   },
   {
    "duration": -333,
    "start_time": "2021-06-27T08:58:58.452Z"
   },
   {
    "duration": -350,
    "start_time": "2021-06-27T08:58:58.470Z"
   },
   {
    "duration": -355,
    "start_time": "2021-06-27T08:58:58.476Z"
   },
   {
    "duration": -366,
    "start_time": "2021-06-27T08:58:58.488Z"
   },
   {
    "duration": -374,
    "start_time": "2021-06-27T08:58:58.496Z"
   },
   {
    "duration": -380,
    "start_time": "2021-06-27T08:58:58.503Z"
   },
   {
    "duration": -384,
    "start_time": "2021-06-27T08:58:58.508Z"
   },
   {
    "duration": -393,
    "start_time": "2021-06-27T08:58:58.518Z"
   },
   {
    "duration": -401,
    "start_time": "2021-06-27T08:58:58.527Z"
   },
   {
    "duration": -410,
    "start_time": "2021-06-27T08:58:58.536Z"
   },
   {
    "duration": -416,
    "start_time": "2021-06-27T08:58:58.543Z"
   },
   {
    "duration": -423,
    "start_time": "2021-06-27T08:58:58.551Z"
   },
   {
    "duration": -428,
    "start_time": "2021-06-27T08:58:58.557Z"
   },
   {
    "duration": -435,
    "start_time": "2021-06-27T08:58:58.565Z"
   },
   {
    "duration": -453,
    "start_time": "2021-06-27T08:58:58.584Z"
   },
   {
    "duration": -460,
    "start_time": "2021-06-27T08:58:58.592Z"
   },
   {
    "duration": -466,
    "start_time": "2021-06-27T08:58:58.598Z"
   },
   {
    "duration": -473,
    "start_time": "2021-06-27T08:58:58.606Z"
   },
   {
    "duration": -480,
    "start_time": "2021-06-27T08:58:58.614Z"
   },
   {
    "duration": -486,
    "start_time": "2021-06-27T08:58:58.621Z"
   },
   {
    "duration": -492,
    "start_time": "2021-06-27T08:58:58.628Z"
   },
   {
    "duration": -498,
    "start_time": "2021-06-27T08:58:58.635Z"
   },
   {
    "duration": -508,
    "start_time": "2021-06-27T08:58:58.645Z"
   },
   {
    "duration": -515,
    "start_time": "2021-06-27T08:58:58.653Z"
   },
   {
    "duration": -473,
    "start_time": "2021-06-27T08:58:58.658Z"
   },
   {
    "duration": -480,
    "start_time": "2021-06-27T08:58:58.665Z"
   },
   {
    "duration": -488,
    "start_time": "2021-06-27T08:58:58.674Z"
   },
   {
    "duration": -494,
    "start_time": "2021-06-27T08:58:58.681Z"
   },
   {
    "duration": -513,
    "start_time": "2021-06-27T08:58:58.701Z"
   },
   {
    "duration": -519,
    "start_time": "2021-06-27T08:58:58.708Z"
   },
   {
    "duration": -526,
    "start_time": "2021-06-27T08:58:58.716Z"
   },
   {
    "duration": -533,
    "start_time": "2021-06-27T08:58:58.723Z"
   },
   {
    "duration": 185,
    "start_time": "2021-06-27T08:59:42.043Z"
   },
   {
    "duration": 184,
    "start_time": "2021-06-27T09:01:08.723Z"
   },
   {
    "duration": 10,
    "start_time": "2021-06-27T09:01:26.314Z"
   },
   {
    "duration": 5,
    "start_time": "2021-06-27T09:01:32.383Z"
   },
   {
    "duration": 1355,
    "start_time": "2021-06-27T09:01:47.336Z"
   },
   {
    "duration": 19,
    "start_time": "2021-06-27T09:01:48.693Z"
   },
   {
    "duration": 6,
    "start_time": "2021-06-27T09:01:48.714Z"
   },
   {
    "duration": 12,
    "start_time": "2021-06-27T09:01:48.721Z"
   },
   {
    "duration": 8,
    "start_time": "2021-06-27T09:01:48.734Z"
   },
   {
    "duration": 6,
    "start_time": "2021-06-27T09:01:48.743Z"
   },
   {
    "duration": 40,
    "start_time": "2021-06-27T09:01:48.750Z"
   },
   {
    "duration": 5,
    "start_time": "2021-06-27T09:01:48.792Z"
   },
   {
    "duration": 10,
    "start_time": "2021-06-27T09:01:48.799Z"
   },
   {
    "duration": 10,
    "start_time": "2021-06-27T09:01:48.811Z"
   },
   {
    "duration": 365,
    "start_time": "2021-06-27T09:01:48.822Z"
   },
   {
    "duration": 7,
    "start_time": "2021-06-27T09:01:49.188Z"
   },
   {
    "duration": 12,
    "start_time": "2021-06-27T09:01:49.196Z"
   },
   {
    "duration": 6,
    "start_time": "2021-06-27T09:01:49.209Z"
   },
   {
    "duration": 21,
    "start_time": "2021-06-27T09:01:49.217Z"
   },
   {
    "duration": 4,
    "start_time": "2021-06-27T09:01:49.239Z"
   },
   {
    "duration": 41,
    "start_time": "2021-06-27T09:01:49.245Z"
   },
   {
    "duration": 124,
    "start_time": "2021-06-27T09:01:49.287Z"
   },
   {
    "duration": 7,
    "start_time": "2021-06-27T09:01:49.413Z"
   },
   {
    "duration": 316,
    "start_time": "2021-06-27T09:01:49.422Z"
   },
   {
    "duration": -66,
    "start_time": "2021-06-27T09:01:49.808Z"
   },
   {
    "duration": -74,
    "start_time": "2021-06-27T09:01:49.817Z"
   },
   {
    "duration": -80,
    "start_time": "2021-06-27T09:01:49.824Z"
   },
   {
    "duration": -87,
    "start_time": "2021-06-27T09:01:49.832Z"
   },
   {
    "duration": -92,
    "start_time": "2021-06-27T09:01:49.838Z"
   },
   {
    "duration": -104,
    "start_time": "2021-06-27T09:01:49.851Z"
   },
   {
    "duration": -112,
    "start_time": "2021-06-27T09:01:49.860Z"
   },
   {
    "duration": -118,
    "start_time": "2021-06-27T09:01:49.867Z"
   },
   {
    "duration": -127,
    "start_time": "2021-06-27T09:01:49.877Z"
   },
   {
    "duration": -133,
    "start_time": "2021-06-27T09:01:49.884Z"
   },
   {
    "duration": -143,
    "start_time": "2021-06-27T09:01:49.895Z"
   },
   {
    "duration": -186,
    "start_time": "2021-06-27T09:01:49.939Z"
   },
   {
    "duration": -192,
    "start_time": "2021-06-27T09:01:49.946Z"
   },
   {
    "duration": -200,
    "start_time": "2021-06-27T09:01:49.955Z"
   },
   {
    "duration": -205,
    "start_time": "2021-06-27T09:01:49.961Z"
   },
   {
    "duration": -214,
    "start_time": "2021-06-27T09:01:49.971Z"
   },
   {
    "duration": -221,
    "start_time": "2021-06-27T09:01:49.979Z"
   },
   {
    "duration": -228,
    "start_time": "2021-06-27T09:01:49.987Z"
   },
   {
    "duration": -233,
    "start_time": "2021-06-27T09:01:49.993Z"
   },
   {
    "duration": -239,
    "start_time": "2021-06-27T09:01:50.001Z"
   },
   {
    "duration": -245,
    "start_time": "2021-06-27T09:01:50.007Z"
   },
   {
    "duration": -252,
    "start_time": "2021-06-27T09:01:50.015Z"
   },
   {
    "duration": -261,
    "start_time": "2021-06-27T09:01:50.025Z"
   },
   {
    "duration": -266,
    "start_time": "2021-06-27T09:01:50.032Z"
   },
   {
    "duration": -284,
    "start_time": "2021-06-27T09:01:50.051Z"
   },
   {
    "duration": -292,
    "start_time": "2021-06-27T09:01:50.060Z"
   },
   {
    "duration": -302,
    "start_time": "2021-06-27T09:01:50.071Z"
   },
   {
    "duration": -309,
    "start_time": "2021-06-27T09:01:50.079Z"
   },
   {
    "duration": -313,
    "start_time": "2021-06-27T09:01:50.084Z"
   },
   {
    "duration": -324,
    "start_time": "2021-06-27T09:01:50.096Z"
   },
   {
    "duration": -333,
    "start_time": "2021-06-27T09:01:50.106Z"
   },
   {
    "duration": -339,
    "start_time": "2021-06-27T09:01:50.113Z"
   },
   {
    "duration": -343,
    "start_time": "2021-06-27T09:01:50.118Z"
   },
   {
    "duration": -350,
    "start_time": "2021-06-27T09:01:50.126Z"
   },
   {
    "duration": -356,
    "start_time": "2021-06-27T09:01:50.133Z"
   },
   {
    "duration": -365,
    "start_time": "2021-06-27T09:01:50.143Z"
   },
   {
    "duration": -383,
    "start_time": "2021-06-27T09:01:50.162Z"
   },
   {
    "duration": -393,
    "start_time": "2021-06-27T09:01:50.173Z"
   },
   {
    "duration": -401,
    "start_time": "2021-06-27T09:01:50.182Z"
   },
   {
    "duration": -408,
    "start_time": "2021-06-27T09:01:50.190Z"
   },
   {
    "duration": -413,
    "start_time": "2021-06-27T09:01:50.196Z"
   },
   {
    "duration": -419,
    "start_time": "2021-06-27T09:01:50.203Z"
   },
   {
    "duration": -427,
    "start_time": "2021-06-27T09:01:50.212Z"
   },
   {
    "duration": -434,
    "start_time": "2021-06-27T09:01:50.220Z"
   },
   {
    "duration": -440,
    "start_time": "2021-06-27T09:01:50.227Z"
   },
   {
    "duration": -447,
    "start_time": "2021-06-27T09:01:50.235Z"
   },
   {
    "duration": -456,
    "start_time": "2021-06-27T09:01:50.245Z"
   },
   {
    "duration": 204,
    "start_time": "2021-06-27T09:02:41.604Z"
   },
   {
    "duration": 181,
    "start_time": "2021-06-27T09:03:03.934Z"
   },
   {
    "duration": 1311,
    "start_time": "2021-06-27T09:03:21.245Z"
   },
   {
    "duration": 19,
    "start_time": "2021-06-27T09:03:22.557Z"
   },
   {
    "duration": 4,
    "start_time": "2021-06-27T09:03:22.579Z"
   },
   {
    "duration": 11,
    "start_time": "2021-06-27T09:03:22.585Z"
   },
   {
    "duration": 7,
    "start_time": "2021-06-27T09:03:22.598Z"
   },
   {
    "duration": 5,
    "start_time": "2021-06-27T09:03:22.607Z"
   },
   {
    "duration": 20,
    "start_time": "2021-06-27T09:03:22.614Z"
   },
   {
    "duration": 6,
    "start_time": "2021-06-27T09:03:22.636Z"
   },
   {
    "duration": 46,
    "start_time": "2021-06-27T09:03:22.644Z"
   },
   {
    "duration": 12,
    "start_time": "2021-06-27T09:03:22.691Z"
   },
   {
    "duration": 371,
    "start_time": "2021-06-27T09:03:22.704Z"
   },
   {
    "duration": 10,
    "start_time": "2021-06-27T09:03:23.076Z"
   },
   {
    "duration": 9,
    "start_time": "2021-06-27T09:03:23.088Z"
   },
   {
    "duration": 6,
    "start_time": "2021-06-27T09:03:23.098Z"
   },
   {
    "duration": 20,
    "start_time": "2021-06-27T09:03:23.106Z"
   },
   {
    "duration": 4,
    "start_time": "2021-06-27T09:03:23.127Z"
   },
   {
    "duration": 13,
    "start_time": "2021-06-27T09:03:23.133Z"
   },
   {
    "duration": 149,
    "start_time": "2021-06-27T09:03:23.147Z"
   },
   {
    "duration": 10,
    "start_time": "2021-06-27T09:03:23.298Z"
   },
   {
    "duration": 302,
    "start_time": "2021-06-27T09:03:23.309Z"
   },
   {
    "duration": -116,
    "start_time": "2021-06-27T09:03:23.731Z"
   },
   {
    "duration": -120,
    "start_time": "2021-06-27T09:03:23.736Z"
   },
   {
    "duration": -128,
    "start_time": "2021-06-27T09:03:23.745Z"
   },
   {
    "duration": -133,
    "start_time": "2021-06-27T09:03:23.751Z"
   },
   {
    "duration": -141,
    "start_time": "2021-06-27T09:03:23.760Z"
   },
   {
    "duration": -150,
    "start_time": "2021-06-27T09:03:23.770Z"
   },
   {
    "duration": -156,
    "start_time": "2021-06-27T09:03:23.777Z"
   },
   {
    "duration": -166,
    "start_time": "2021-06-27T09:03:23.788Z"
   },
   {
    "duration": -172,
    "start_time": "2021-06-27T09:03:23.795Z"
   },
   {
    "duration": -179,
    "start_time": "2021-06-27T09:03:23.803Z"
   },
   {
    "duration": -185,
    "start_time": "2021-06-27T09:03:23.810Z"
   },
   {
    "duration": -192,
    "start_time": "2021-06-27T09:03:23.818Z"
   },
   {
    "duration": -220,
    "start_time": "2021-06-27T09:03:23.847Z"
   },
   {
    "duration": -226,
    "start_time": "2021-06-27T09:03:23.854Z"
   },
   {
    "duration": -232,
    "start_time": "2021-06-27T09:03:23.861Z"
   },
   {
    "duration": -244,
    "start_time": "2021-06-27T09:03:23.874Z"
   },
   {
    "duration": -255,
    "start_time": "2021-06-27T09:03:23.887Z"
   },
   {
    "duration": -268,
    "start_time": "2021-06-27T09:03:23.901Z"
   },
   {
    "duration": -279,
    "start_time": "2021-06-27T09:03:23.912Z"
   },
   {
    "duration": -285,
    "start_time": "2021-06-27T09:03:23.919Z"
   },
   {
    "duration": -292,
    "start_time": "2021-06-27T09:03:23.927Z"
   },
   {
    "duration": -304,
    "start_time": "2021-06-27T09:03:23.940Z"
   },
   {
    "duration": -324,
    "start_time": "2021-06-27T09:03:23.961Z"
   },
   {
    "duration": -332,
    "start_time": "2021-06-27T09:03:23.970Z"
   },
   {
    "duration": -340,
    "start_time": "2021-06-27T09:03:23.979Z"
   },
   {
    "duration": -346,
    "start_time": "2021-06-27T09:03:23.987Z"
   },
   {
    "duration": -353,
    "start_time": "2021-06-27T09:03:23.995Z"
   },
   {
    "duration": -359,
    "start_time": "2021-06-27T09:03:24.002Z"
   },
   {
    "duration": -371,
    "start_time": "2021-06-27T09:03:24.014Z"
   },
   {
    "duration": -382,
    "start_time": "2021-06-27T09:03:24.026Z"
   },
   {
    "duration": -388,
    "start_time": "2021-06-27T09:03:24.033Z"
   },
   {
    "duration": -395,
    "start_time": "2021-06-27T09:03:24.041Z"
   },
   {
    "duration": -405,
    "start_time": "2021-06-27T09:03:24.052Z"
   },
   {
    "duration": -431,
    "start_time": "2021-06-27T09:03:24.079Z"
   },
   {
    "duration": -439,
    "start_time": "2021-06-27T09:03:24.087Z"
   },
   {
    "duration": -447,
    "start_time": "2021-06-27T09:03:24.096Z"
   },
   {
    "duration": -457,
    "start_time": "2021-06-27T09:03:24.107Z"
   },
   {
    "duration": -466,
    "start_time": "2021-06-27T09:03:24.117Z"
   },
   {
    "duration": -471,
    "start_time": "2021-06-27T09:03:24.123Z"
   },
   {
    "duration": -447,
    "start_time": "2021-06-27T09:03:24.132Z"
   },
   {
    "duration": -451,
    "start_time": "2021-06-27T09:03:24.137Z"
   },
   {
    "duration": -459,
    "start_time": "2021-06-27T09:03:24.146Z"
   },
   {
    "duration": -464,
    "start_time": "2021-06-27T09:03:24.152Z"
   },
   {
    "duration": -476,
    "start_time": "2021-06-27T09:03:24.165Z"
   },
   {
    "duration": -501,
    "start_time": "2021-06-27T09:03:24.191Z"
   },
   {
    "duration": -508,
    "start_time": "2021-06-27T09:03:24.199Z"
   },
   {
    "duration": -514,
    "start_time": "2021-06-27T09:03:24.206Z"
   },
   {
    "duration": -521,
    "start_time": "2021-06-27T09:03:24.214Z"
   },
   {
    "duration": -527,
    "start_time": "2021-06-27T09:03:24.221Z"
   },
   {
    "duration": 5,
    "start_time": "2021-06-27T09:04:12.613Z"
   },
   {
    "duration": 21,
    "start_time": "2021-06-27T09:04:15.833Z"
   },
   {
    "duration": 1198,
    "start_time": "2021-06-27T09:04:34.824Z"
   },
   {
    "duration": 10,
    "start_time": "2021-06-27T09:04:45.004Z"
   },
   {
    "duration": 5,
    "start_time": "2021-06-27T09:04:47.973Z"
   },
   {
    "duration": 8,
    "start_time": "2021-06-27T09:04:48.874Z"
   },
   {
    "duration": 23,
    "start_time": "2021-06-27T09:04:49.613Z"
   },
   {
    "duration": 21,
    "start_time": "2021-06-27T09:05:07.064Z"
   },
   {
    "duration": 10,
    "start_time": "2021-06-27T09:05:09.964Z"
   },
   {
    "duration": 5,
    "start_time": "2021-06-27T09:05:18.313Z"
   },
   {
    "duration": 2,
    "start_time": "2021-06-27T09:05:25.915Z"
   },
   {
    "duration": 214,
    "start_time": "2021-06-27T09:05:28.164Z"
   },
   {
    "duration": 19,
    "start_time": "2021-06-27T09:05:44.284Z"
   },
   {
    "duration": 5,
    "start_time": "2021-06-27T09:05:47.184Z"
   },
   {
    "duration": 7,
    "start_time": "2021-06-27T09:05:47.995Z"
   },
   {
    "duration": 5,
    "start_time": "2021-06-27T09:05:49.204Z"
   },
   {
    "duration": 6,
    "start_time": "2021-06-27T09:05:50.185Z"
   },
   {
    "duration": 8,
    "start_time": "2021-06-27T09:05:53.774Z"
   },
   {
    "duration": 7,
    "start_time": "2021-06-27T09:05:54.964Z"
   },
   {
    "duration": 8,
    "start_time": "2021-06-27T09:06:01.014Z"
   },
   {
    "duration": 23,
    "start_time": "2021-06-27T09:06:03.355Z"
   },
   {
    "duration": 26,
    "start_time": "2021-06-27T09:06:04.904Z"
   },
   {
    "duration": 27,
    "start_time": "2021-06-27T09:06:06.045Z"
   },
   {
    "duration": 185,
    "start_time": "2021-06-27T09:06:06.904Z"
   },
   {
    "duration": 19,
    "start_time": "2021-06-27T09:06:46.376Z"
   },
   {
    "duration": 4,
    "start_time": "2021-06-27T09:06:50.554Z"
   },
   {
    "duration": 7,
    "start_time": "2021-06-27T09:06:51.234Z"
   },
   {
    "duration": 5,
    "start_time": "2021-06-27T09:06:51.754Z"
   },
   {
    "duration": 7,
    "start_time": "2021-06-27T09:06:52.404Z"
   },
   {
    "duration": 9,
    "start_time": "2021-06-27T09:06:53.324Z"
   },
   {
    "duration": 8,
    "start_time": "2021-06-27T09:06:54.387Z"
   },
   {
    "duration": 8,
    "start_time": "2021-06-27T09:06:55.104Z"
   },
   {
    "duration": 23,
    "start_time": "2021-06-27T09:07:00.884Z"
   },
   {
    "duration": 26,
    "start_time": "2021-06-27T09:07:03.024Z"
   },
   {
    "duration": 25,
    "start_time": "2021-06-27T09:07:05.045Z"
   },
   {
    "duration": 6,
    "start_time": "2021-06-27T09:07:11.123Z"
   },
   {
    "duration": 30,
    "start_time": "2021-06-27T09:07:15.625Z"
   },
   {
    "duration": 5,
    "start_time": "2021-06-27T09:07:18.754Z"
   },
   {
    "duration": 4,
    "start_time": "2021-06-27T09:07:23.424Z"
   },
   {
    "duration": 4,
    "start_time": "2021-06-27T09:07:25.064Z"
   },
   {
    "duration": 8,
    "start_time": "2021-06-27T09:07:27.234Z"
   },
   {
    "duration": 7,
    "start_time": "2021-06-27T09:07:34.124Z"
   },
   {
    "duration": 29,
    "start_time": "2021-06-27T09:07:39.805Z"
   },
   {
    "duration": 37,
    "start_time": "2021-06-27T09:07:40.014Z"
   },
   {
    "duration": 7,
    "start_time": "2021-06-27T09:07:42.234Z"
   },
   {
    "duration": 257,
    "start_time": "2021-06-27T09:07:46.164Z"
   },
   {
    "duration": 16,
    "start_time": "2021-06-27T09:07:49.014Z"
   },
   {
    "duration": 7,
    "start_time": "2021-06-27T09:07:50.234Z"
   },
   {
    "duration": 12,
    "start_time": "2021-06-27T09:07:51.695Z"
   },
   {
    "duration": 6,
    "start_time": "2021-06-27T09:07:58.284Z"
   },
   {
    "duration": 9,
    "start_time": "2021-06-27T09:08:01.104Z"
   },
   {
    "duration": 9,
    "start_time": "2021-06-27T09:08:24.404Z"
   },
   {
    "duration": 9,
    "start_time": "2021-06-27T09:08:42.403Z"
   },
   {
    "duration": 10,
    "start_time": "2021-06-27T09:08:57.644Z"
   },
   {
    "duration": 5,
    "start_time": "2021-06-27T09:09:07.955Z"
   },
   {
    "duration": 5,
    "start_time": "2021-06-27T09:09:20.264Z"
   },
   {
    "duration": 26,
    "start_time": "2021-06-27T09:11:16.725Z"
   },
   {
    "duration": 61,
    "start_time": "2021-06-27T09:21:09.454Z"
   },
   {
    "duration": 4788,
    "start_time": "2021-06-27T09:22:21.745Z"
   },
   {
    "duration": 10,
    "start_time": "2021-06-27T09:27:04.904Z"
   },
   {
    "duration": 9,
    "start_time": "2021-06-27T09:43:06.015Z"
   },
   {
    "duration": 203,
    "start_time": "2021-06-27T09:43:45.985Z"
   },
   {
    "duration": 8,
    "start_time": "2021-06-27T10:41:17.874Z"
   },
   {
    "duration": 308,
    "start_time": "2021-06-27T10:46:30.215Z"
   },
   {
    "duration": 11,
    "start_time": "2021-06-27T10:49:18.274Z"
   },
   {
    "duration": 180,
    "start_time": "2021-06-27T10:53:33.824Z"
   },
   {
    "duration": 10,
    "start_time": "2021-06-27T10:53:51.564Z"
   },
   {
    "duration": 1402,
    "start_time": "2021-06-27T10:54:01.891Z"
   },
   {
    "duration": 19,
    "start_time": "2021-06-27T10:54:03.295Z"
   },
   {
    "duration": 7,
    "start_time": "2021-06-27T10:54:03.316Z"
   },
   {
    "duration": 5,
    "start_time": "2021-06-27T10:54:03.325Z"
   },
   {
    "duration": 13,
    "start_time": "2021-06-27T10:54:03.331Z"
   },
   {
    "duration": 9,
    "start_time": "2021-06-27T10:54:03.345Z"
   },
   {
    "duration": 6,
    "start_time": "2021-06-27T10:54:03.356Z"
   },
   {
    "duration": 35,
    "start_time": "2021-06-27T10:54:03.365Z"
   },
   {
    "duration": 6,
    "start_time": "2021-06-27T10:54:03.402Z"
   },
   {
    "duration": 10,
    "start_time": "2021-06-27T10:54:03.410Z"
   },
   {
    "duration": 371,
    "start_time": "2021-06-27T10:54:03.421Z"
   },
   {
    "duration": 8,
    "start_time": "2021-06-27T10:54:03.793Z"
   },
   {
    "duration": 23,
    "start_time": "2021-06-27T10:54:03.803Z"
   },
   {
    "duration": 5,
    "start_time": "2021-06-27T10:54:03.827Z"
   },
   {
    "duration": 11,
    "start_time": "2021-06-27T10:54:03.833Z"
   },
   {
    "duration": 136,
    "start_time": "2021-06-27T10:54:03.845Z"
   },
   {
    "duration": 8,
    "start_time": "2021-06-27T10:54:03.985Z"
   },
   {
    "duration": 330,
    "start_time": "2021-06-27T10:54:03.995Z"
   },
   {
    "duration": 7,
    "start_time": "2021-06-27T10:54:04.327Z"
   },
   {
    "duration": 7,
    "start_time": "2021-06-27T10:54:04.336Z"
   },
   {
    "duration": 34,
    "start_time": "2021-06-27T10:54:04.345Z"
   },
   {
    "duration": 9,
    "start_time": "2021-06-27T10:54:04.381Z"
   },
   {
    "duration": 5,
    "start_time": "2021-06-27T10:54:04.394Z"
   },
   {
    "duration": 11,
    "start_time": "2021-06-27T10:54:04.401Z"
   },
   {
    "duration": 20,
    "start_time": "2021-06-27T10:54:04.414Z"
   },
   {
    "duration": 50,
    "start_time": "2021-06-27T10:54:04.435Z"
   },
   {
    "duration": 11,
    "start_time": "2021-06-27T10:54:04.487Z"
   },
   {
    "duration": 5,
    "start_time": "2021-06-27T10:54:04.500Z"
   },
   {
    "duration": 3,
    "start_time": "2021-06-27T10:54:04.507Z"
   },
   {
    "duration": 20,
    "start_time": "2021-06-27T10:54:04.512Z"
   },
   {
    "duration": 2,
    "start_time": "2021-06-27T10:54:04.534Z"
   },
   {
    "duration": 9,
    "start_time": "2021-06-27T10:54:04.538Z"
   },
   {
    "duration": 38,
    "start_time": "2021-06-27T10:54:04.548Z"
   },
   {
    "duration": 8,
    "start_time": "2021-06-27T10:54:04.587Z"
   },
   {
    "duration": 9,
    "start_time": "2021-06-27T10:54:04.596Z"
   },
   {
    "duration": 7,
    "start_time": "2021-06-27T10:54:04.606Z"
   },
   {
    "duration": 8,
    "start_time": "2021-06-27T10:54:04.615Z"
   },
   {
    "duration": 22,
    "start_time": "2021-06-27T10:54:04.624Z"
   },
   {
    "duration": 45,
    "start_time": "2021-06-27T10:54:04.648Z"
   },
   {
    "duration": 24,
    "start_time": "2021-06-27T10:54:04.695Z"
   },
   {
    "duration": 10,
    "start_time": "2021-06-27T10:54:04.720Z"
   },
   {
    "duration": 30,
    "start_time": "2021-06-27T10:54:04.731Z"
   },
   {
    "duration": 25,
    "start_time": "2021-06-27T10:54:04.763Z"
   },
   {
    "duration": 5,
    "start_time": "2021-06-27T10:54:04.790Z"
   },
   {
    "duration": 5,
    "start_time": "2021-06-27T10:54:04.796Z"
   },
   {
    "duration": 11,
    "start_time": "2021-06-27T10:54:04.802Z"
   },
   {
    "duration": 9,
    "start_time": "2021-06-27T10:54:04.815Z"
   },
   {
    "duration": 64,
    "start_time": "2021-06-27T10:54:04.825Z"
   },
   {
    "duration": 25,
    "start_time": "2021-06-27T10:54:04.891Z"
   },
   {
    "duration": 6,
    "start_time": "2021-06-27T10:54:04.918Z"
   },
   {
    "duration": 281,
    "start_time": "2021-06-27T10:54:04.926Z"
   },
   {
    "duration": 79,
    "start_time": "2021-06-27T10:54:05.209Z"
   },
   {
    "duration": 98,
    "start_time": "2021-06-27T10:54:05.289Z"
   },
   {
    "duration": 106,
    "start_time": "2021-06-27T10:54:05.388Z"
   },
   {
    "duration": 5,
    "start_time": "2021-06-27T10:54:05.496Z"
   },
   {
    "duration": 26,
    "start_time": "2021-06-27T10:54:05.502Z"
   },
   {
    "duration": 4575,
    "start_time": "2021-06-27T10:54:05.530Z"
   },
   {
    "duration": 9,
    "start_time": "2021-06-27T10:54:10.106Z"
   },
   {
    "duration": 210,
    "start_time": "2021-06-27T10:54:10.116Z"
   },
   {
    "duration": 7,
    "start_time": "2021-06-27T10:54:10.328Z"
   },
   {
    "duration": 20,
    "start_time": "2021-06-27T10:54:10.336Z"
   },
   {
    "duration": 10,
    "start_time": "2021-06-27T10:54:10.357Z"
   },
   {
    "duration": 303,
    "start_time": "2021-06-27T10:54:10.368Z"
   },
   {
    "duration": 280,
    "start_time": "2021-06-27T10:54:10.393Z"
   },
   {
    "duration": 275,
    "start_time": "2021-06-27T10:54:10.399Z"
   },
   {
    "duration": 270,
    "start_time": "2021-06-27T10:54:10.405Z"
   },
   {
    "duration": 260,
    "start_time": "2021-06-27T10:54:10.416Z"
   },
   {
    "duration": 253,
    "start_time": "2021-06-27T10:54:10.423Z"
   },
   {
    "duration": 246,
    "start_time": "2021-06-27T10:54:10.431Z"
   },
   {
    "duration": 241,
    "start_time": "2021-06-27T10:54:10.437Z"
   },
   {
    "duration": 234,
    "start_time": "2021-06-27T10:54:10.445Z"
   },
   {
    "duration": 5,
    "start_time": "2021-06-27T10:54:29.751Z"
   },
   {
    "duration": 182,
    "start_time": "2021-06-27T10:54:53.213Z"
   },
   {
    "duration": 4,
    "start_time": "2021-06-27T10:55:00.442Z"
   },
   {
    "duration": 186,
    "start_time": "2021-06-27T11:00:29.912Z"
   },
   {
    "duration": 1326,
    "start_time": "2021-06-27T11:00:40.230Z"
   },
   {
    "duration": 21,
    "start_time": "2021-06-27T11:00:41.558Z"
   },
   {
    "duration": 6,
    "start_time": "2021-06-27T11:00:41.581Z"
   },
   {
    "duration": 5,
    "start_time": "2021-06-27T11:00:41.589Z"
   },
   {
    "duration": 10,
    "start_time": "2021-06-27T11:00:41.596Z"
   },
   {
    "duration": 7,
    "start_time": "2021-06-27T11:00:41.608Z"
   },
   {
    "duration": 5,
    "start_time": "2021-06-27T11:00:41.616Z"
   },
   {
    "duration": 20,
    "start_time": "2021-06-27T11:00:41.624Z"
   },
   {
    "duration": 6,
    "start_time": "2021-06-27T11:00:41.646Z"
   },
   {
    "duration": 40,
    "start_time": "2021-06-27T11:00:41.653Z"
   },
   {
    "duration": 361,
    "start_time": "2021-06-27T11:00:41.694Z"
   },
   {
    "duration": 9,
    "start_time": "2021-06-27T11:00:42.056Z"
   },
   {
    "duration": 34,
    "start_time": "2021-06-27T11:00:42.066Z"
   },
   {
    "duration": 5,
    "start_time": "2021-06-27T11:00:42.101Z"
   },
   {
    "duration": 11,
    "start_time": "2021-06-27T11:00:42.108Z"
   },
   {
    "duration": 131,
    "start_time": "2021-06-27T11:00:42.121Z"
   },
   {
    "duration": 8,
    "start_time": "2021-06-27T11:00:42.253Z"
   },
   {
    "duration": 349,
    "start_time": "2021-06-27T11:00:42.263Z"
   },
   {
    "duration": 8,
    "start_time": "2021-06-27T11:00:42.613Z"
   },
   {
    "duration": 7,
    "start_time": "2021-06-27T11:00:42.622Z"
   },
   {
    "duration": 20,
    "start_time": "2021-06-27T11:00:42.630Z"
   },
   {
    "duration": 8,
    "start_time": "2021-06-27T11:00:42.652Z"
   },
   {
    "duration": 5,
    "start_time": "2021-06-27T11:00:42.687Z"
   },
   {
    "duration": 8,
    "start_time": "2021-06-27T11:00:42.694Z"
   },
   {
    "duration": 20,
    "start_time": "2021-06-27T11:00:42.704Z"
   },
   {
    "duration": 20,
    "start_time": "2021-06-27T11:00:42.726Z"
   },
   {
    "duration": 41,
    "start_time": "2021-06-27T11:00:42.748Z"
   },
   {
    "duration": 6,
    "start_time": "2021-06-27T11:00:42.791Z"
   },
   {
    "duration": 6,
    "start_time": "2021-06-27T11:00:42.799Z"
   },
   {
    "duration": 21,
    "start_time": "2021-06-27T11:00:42.807Z"
   },
   {
    "duration": 5,
    "start_time": "2021-06-27T11:00:42.830Z"
   },
   {
    "duration": 9,
    "start_time": "2021-06-27T11:00:42.837Z"
   },
   {
    "duration": 9,
    "start_time": "2021-06-27T11:00:42.848Z"
   },
   {
    "duration": 32,
    "start_time": "2021-06-27T11:00:42.858Z"
   },
   {
    "duration": 11,
    "start_time": "2021-06-27T11:00:42.891Z"
   },
   {
    "duration": 11,
    "start_time": "2021-06-27T11:00:42.903Z"
   },
   {
    "duration": 9,
    "start_time": "2021-06-27T11:00:42.916Z"
   },
   {
    "duration": 25,
    "start_time": "2021-06-27T11:00:42.927Z"
   },
   {
    "duration": 38,
    "start_time": "2021-06-27T11:00:42.954Z"
   },
   {
    "duration": 26,
    "start_time": "2021-06-27T11:00:42.993Z"
   },
   {
    "duration": 6,
    "start_time": "2021-06-27T11:00:43.021Z"
   },
   {
    "duration": 30,
    "start_time": "2021-06-27T11:00:43.028Z"
   },
   {
    "duration": 6,
    "start_time": "2021-06-27T11:00:43.084Z"
   },
   {
    "duration": 6,
    "start_time": "2021-06-27T11:00:43.091Z"
   },
   {
    "duration": 4,
    "start_time": "2021-06-27T11:00:43.099Z"
   },
   {
    "duration": 8,
    "start_time": "2021-06-27T11:00:43.104Z"
   },
   {
    "duration": 6,
    "start_time": "2021-06-27T11:00:43.114Z"
   },
   {
    "duration": 27,
    "start_time": "2021-06-27T11:00:43.122Z"
   },
   {
    "duration": 58,
    "start_time": "2021-06-27T11:00:43.151Z"
   },
   {
    "duration": 7,
    "start_time": "2021-06-27T11:00:43.210Z"
   },
   {
    "duration": 274,
    "start_time": "2021-06-27T11:00:43.219Z"
   },
   {
    "duration": 92,
    "start_time": "2021-06-27T11:00:43.494Z"
   },
   {
    "duration": 102,
    "start_time": "2021-06-27T11:00:43.588Z"
   },
   {
    "duration": 107,
    "start_time": "2021-06-27T11:00:43.692Z"
   },
   {
    "duration": 6,
    "start_time": "2021-06-27T11:00:43.800Z"
   },
   {
    "duration": 28,
    "start_time": "2021-06-27T11:00:43.808Z"
   },
   {
    "duration": 4530,
    "start_time": "2021-06-27T11:00:43.885Z"
   },
   {
    "duration": 9,
    "start_time": "2021-06-27T11:00:48.417Z"
   },
   {
    "duration": 199,
    "start_time": "2021-06-27T11:00:48.427Z"
   },
   {
    "duration": 7,
    "start_time": "2021-06-27T11:00:48.627Z"
   },
   {
    "duration": 11,
    "start_time": "2021-06-27T11:00:48.636Z"
   },
   {
    "duration": 4,
    "start_time": "2021-06-27T11:00:48.649Z"
   },
   {
    "duration": 308,
    "start_time": "2021-06-27T11:00:48.655Z"
   },
   {
    "duration": 265,
    "start_time": "2021-06-27T11:00:48.700Z"
   },
   {
    "duration": 256,
    "start_time": "2021-06-27T11:00:48.710Z"
   },
   {
    "duration": 249,
    "start_time": "2021-06-27T11:00:48.718Z"
   },
   {
    "duration": 243,
    "start_time": "2021-06-27T11:00:48.725Z"
   },
   {
    "duration": 237,
    "start_time": "2021-06-27T11:00:48.733Z"
   },
   {
    "duration": 231,
    "start_time": "2021-06-27T11:00:48.740Z"
   },
   {
    "duration": 226,
    "start_time": "2021-06-27T11:00:48.746Z"
   },
   {
    "duration": 219,
    "start_time": "2021-06-27T11:00:48.753Z"
   },
   {
    "duration": 11,
    "start_time": "2021-06-27T11:25:42.505Z"
   },
   {
    "duration": 4,
    "start_time": "2021-06-27T11:30:13.245Z"
   },
   {
    "duration": 19,
    "start_time": "2021-06-27T11:30:16.814Z"
   },
   {
    "duration": 24,
    "start_time": "2021-06-27T11:30:29.484Z"
   },
   {
    "duration": 22,
    "start_time": "2021-06-27T11:30:56.225Z"
   },
   {
    "duration": 24,
    "start_time": "2021-06-27T11:31:06.115Z"
   },
   {
    "duration": 19,
    "start_time": "2021-06-27T11:31:11.425Z"
   },
   {
    "duration": 5,
    "start_time": "2021-06-27T11:31:15.264Z"
   },
   {
    "duration": 11,
    "start_time": "2021-06-27T11:31:17.615Z"
   },
   {
    "duration": 206,
    "start_time": "2021-06-27T11:31:20.765Z"
   },
   {
    "duration": 10,
    "start_time": "2021-06-27T11:31:22.274Z"
   },
   {
    "duration": 350,
    "start_time": "2021-06-27T11:31:23.345Z"
   },
   {
    "duration": 12,
    "start_time": "2021-06-27T11:31:55.855Z"
   },
   {
    "duration": 12,
    "start_time": "2021-06-27T11:32:01.785Z"
   },
   {
    "duration": 1456,
    "start_time": "2021-06-27T11:32:08.008Z"
   },
   {
    "duration": 21,
    "start_time": "2021-06-27T11:32:09.466Z"
   },
   {
    "duration": 6,
    "start_time": "2021-06-27T11:32:09.489Z"
   },
   {
    "duration": 5,
    "start_time": "2021-06-27T11:32:09.498Z"
   },
   {
    "duration": 16,
    "start_time": "2021-06-27T11:32:09.505Z"
   },
   {
    "duration": 9,
    "start_time": "2021-06-27T11:32:09.523Z"
   },
   {
    "duration": 6,
    "start_time": "2021-06-27T11:32:09.534Z"
   },
   {
    "duration": 58,
    "start_time": "2021-06-27T11:32:09.542Z"
   },
   {
    "duration": 6,
    "start_time": "2021-06-27T11:32:09.602Z"
   },
   {
    "duration": 10,
    "start_time": "2021-06-27T11:32:09.610Z"
   },
   {
    "duration": 382,
    "start_time": "2021-06-27T11:32:09.622Z"
   },
   {
    "duration": 9,
    "start_time": "2021-06-27T11:32:10.005Z"
   },
   {
    "duration": 12,
    "start_time": "2021-06-27T11:32:10.016Z"
   },
   {
    "duration": 22,
    "start_time": "2021-06-27T11:32:10.030Z"
   },
   {
    "duration": 5,
    "start_time": "2021-06-27T11:32:10.053Z"
   },
   {
    "duration": 10,
    "start_time": "2021-06-27T11:32:10.085Z"
   },
   {
    "duration": 123,
    "start_time": "2021-06-27T11:32:10.097Z"
   },
   {
    "duration": 8,
    "start_time": "2021-06-27T11:32:10.222Z"
   },
   {
    "duration": 313,
    "start_time": "2021-06-27T11:32:10.231Z"
   },
   {
    "duration": 8,
    "start_time": "2021-06-27T11:32:10.546Z"
   },
   {
    "duration": 6,
    "start_time": "2021-06-27T11:32:10.556Z"
   },
   {
    "duration": 38,
    "start_time": "2021-06-27T11:32:10.563Z"
   },
   {
    "duration": 8,
    "start_time": "2021-06-27T11:32:10.605Z"
   },
   {
    "duration": 6,
    "start_time": "2021-06-27T11:32:10.616Z"
   },
   {
    "duration": 10,
    "start_time": "2021-06-27T11:32:10.623Z"
   },
   {
    "duration": 22,
    "start_time": "2021-06-27T11:32:10.635Z"
   },
   {
    "duration": 45,
    "start_time": "2021-06-27T11:32:10.658Z"
   },
   {
    "duration": 8,
    "start_time": "2021-06-27T11:32:10.705Z"
   },
   {
    "duration": 6,
    "start_time": "2021-06-27T11:32:10.715Z"
   },
   {
    "duration": 8,
    "start_time": "2021-06-27T11:32:10.723Z"
   },
   {
    "duration": 24,
    "start_time": "2021-06-27T11:32:10.732Z"
   },
   {
    "duration": 30,
    "start_time": "2021-06-27T11:32:10.758Z"
   },
   {
    "duration": 9,
    "start_time": "2021-06-27T11:32:10.790Z"
   },
   {
    "duration": 7,
    "start_time": "2021-06-27T11:32:10.801Z"
   },
   {
    "duration": 9,
    "start_time": "2021-06-27T11:32:10.811Z"
   },
   {
    "duration": 11,
    "start_time": "2021-06-27T11:32:10.822Z"
   },
   {
    "duration": 9,
    "start_time": "2021-06-27T11:32:10.834Z"
   },
   {
    "duration": 43,
    "start_time": "2021-06-27T11:32:10.845Z"
   },
   {
    "duration": 25,
    "start_time": "2021-06-27T11:32:10.889Z"
   },
   {
    "duration": 25,
    "start_time": "2021-06-27T11:32:10.916Z"
   },
   {
    "duration": 26,
    "start_time": "2021-06-27T11:32:10.942Z"
   },
   {
    "duration": 19,
    "start_time": "2021-06-27T11:32:10.969Z"
   },
   {
    "duration": 30,
    "start_time": "2021-06-27T11:32:10.990Z"
   },
   {
    "duration": 5,
    "start_time": "2021-06-27T11:32:11.021Z"
   },
   {
    "duration": 6,
    "start_time": "2021-06-27T11:32:11.027Z"
   },
   {
    "duration": 5,
    "start_time": "2021-06-27T11:32:11.035Z"
   },
   {
    "duration": 44,
    "start_time": "2021-06-27T11:32:11.042Z"
   },
   {
    "duration": 7,
    "start_time": "2021-06-27T11:32:11.088Z"
   },
   {
    "duration": 28,
    "start_time": "2021-06-27T11:32:11.096Z"
   },
   {
    "duration": 23,
    "start_time": "2021-06-27T11:32:11.126Z"
   },
   {
    "duration": 36,
    "start_time": "2021-06-27T11:32:11.150Z"
   },
   {
    "duration": 280,
    "start_time": "2021-06-27T11:32:11.187Z"
   },
   {
    "duration": 23,
    "start_time": "2021-06-27T11:32:11.469Z"
   },
   {
    "duration": 92,
    "start_time": "2021-06-27T11:32:11.497Z"
   },
   {
    "duration": 102,
    "start_time": "2021-06-27T11:32:11.591Z"
   },
   {
    "duration": 7,
    "start_time": "2021-06-27T11:32:11.695Z"
   },
   {
    "duration": 96,
    "start_time": "2021-06-27T11:32:11.704Z"
   },
   {
    "duration": 4621,
    "start_time": "2021-06-27T11:32:11.802Z"
   },
   {
    "duration": 9,
    "start_time": "2021-06-27T11:32:16.424Z"
   },
   {
    "duration": 198,
    "start_time": "2021-06-27T11:32:16.435Z"
   },
   {
    "duration": 7,
    "start_time": "2021-06-27T11:32:16.635Z"
   },
   {
    "duration": 13,
    "start_time": "2021-06-27T11:32:16.644Z"
   },
   {
    "duration": 3,
    "start_time": "2021-06-27T11:32:16.659Z"
   },
   {
    "duration": 318,
    "start_time": "2021-06-27T11:32:16.664Z"
   },
   {
    "duration": 209,
    "start_time": "2021-06-27T11:32:16.776Z"
   },
   {
    "duration": 195,
    "start_time": "2021-06-27T11:32:16.791Z"
   },
   {
    "duration": 188,
    "start_time": "2021-06-27T11:32:16.800Z"
   },
   {
    "duration": 181,
    "start_time": "2021-06-27T11:32:16.808Z"
   },
   {
    "duration": 173,
    "start_time": "2021-06-27T11:32:16.817Z"
   },
   {
    "duration": 152,
    "start_time": "2021-06-27T11:32:16.840Z"
   },
   {
    "duration": 141,
    "start_time": "2021-06-27T11:32:16.852Z"
   },
   {
    "duration": 130,
    "start_time": "2021-06-27T11:32:16.864Z"
   },
   {
    "duration": 5,
    "start_time": "2021-06-27T11:47:30.734Z"
   },
   {
    "duration": 4,
    "start_time": "2021-06-27T11:48:01.644Z"
   },
   {
    "duration": 7,
    "start_time": "2021-06-27T12:01:04.834Z"
   },
   {
    "duration": 6,
    "start_time": "2021-06-27T12:01:06.025Z"
   },
   {
    "duration": 6,
    "start_time": "2021-06-27T12:01:17.174Z"
   },
   {
    "duration": 4,
    "start_time": "2021-06-27T12:01:20.274Z"
   },
   {
    "duration": 5,
    "start_time": "2021-06-27T12:10:21.356Z"
   },
   {
    "duration": 4,
    "start_time": "2021-06-27T12:10:23.205Z"
   },
   {
    "duration": 5,
    "start_time": "2021-06-27T12:10:26.837Z"
   },
   {
    "duration": 9,
    "start_time": "2021-06-27T12:11:33.117Z"
   },
   {
    "duration": 183,
    "start_time": "2021-06-27T16:06:39.098Z"
   },
   {
    "duration": 1381,
    "start_time": "2021-06-27T16:06:45.937Z"
   },
   {
    "duration": 19,
    "start_time": "2021-06-27T16:06:47.320Z"
   },
   {
    "duration": 6,
    "start_time": "2021-06-27T16:06:47.341Z"
   },
   {
    "duration": 5,
    "start_time": "2021-06-27T16:06:47.348Z"
   },
   {
    "duration": 30,
    "start_time": "2021-06-27T16:06:47.354Z"
   },
   {
    "duration": 8,
    "start_time": "2021-06-27T16:06:47.386Z"
   },
   {
    "duration": 6,
    "start_time": "2021-06-27T16:06:47.395Z"
   },
   {
    "duration": 22,
    "start_time": "2021-06-27T16:06:47.403Z"
   },
   {
    "duration": 6,
    "start_time": "2021-06-27T16:06:47.427Z"
   },
   {
    "duration": 52,
    "start_time": "2021-06-27T16:06:47.434Z"
   },
   {
    "duration": 372,
    "start_time": "2021-06-27T16:06:47.487Z"
   },
   {
    "duration": 24,
    "start_time": "2021-06-27T16:06:47.861Z"
   },
   {
    "duration": 11,
    "start_time": "2021-06-27T16:06:47.886Z"
   },
   {
    "duration": 21,
    "start_time": "2021-06-27T16:06:47.898Z"
   },
   {
    "duration": 5,
    "start_time": "2021-06-27T16:06:47.920Z"
   },
   {
    "duration": 12,
    "start_time": "2021-06-27T16:06:47.926Z"
   },
   {
    "duration": 145,
    "start_time": "2021-06-27T16:06:47.940Z"
   },
   {
    "duration": 8,
    "start_time": "2021-06-27T16:06:48.086Z"
   },
   {
    "duration": 331,
    "start_time": "2021-06-27T16:06:48.096Z"
   },
   {
    "duration": 5,
    "start_time": "2021-06-27T16:06:48.429Z"
   },
   {
    "duration": 4,
    "start_time": "2021-06-27T16:06:48.436Z"
   },
   {
    "duration": 7,
    "start_time": "2021-06-27T16:06:48.442Z"
   },
   {
    "duration": 35,
    "start_time": "2021-06-27T16:06:48.453Z"
   },
   {
    "duration": 7,
    "start_time": "2021-06-27T16:06:48.491Z"
   },
   {
    "duration": 14,
    "start_time": "2021-06-27T16:06:48.500Z"
   },
   {
    "duration": 308,
    "start_time": "2021-06-27T16:06:48.516Z"
   },
   {
    "duration": -105,
    "start_time": "2021-06-27T16:06:48.931Z"
   },
   {
    "duration": -112,
    "start_time": "2021-06-27T16:06:48.939Z"
   },
   {
    "duration": -117,
    "start_time": "2021-06-27T16:06:48.945Z"
   },
   {
    "duration": -123,
    "start_time": "2021-06-27T16:06:48.952Z"
   },
   {
    "duration": -127,
    "start_time": "2021-06-27T16:06:48.957Z"
   },
   {
    "duration": -133,
    "start_time": "2021-06-27T16:06:48.964Z"
   },
   {
    "duration": -138,
    "start_time": "2021-06-27T16:06:48.970Z"
   },
   {
    "duration": -142,
    "start_time": "2021-06-27T16:06:48.976Z"
   },
   {
    "duration": -148,
    "start_time": "2021-06-27T16:06:48.983Z"
   },
   {
    "duration": -154,
    "start_time": "2021-06-27T16:06:48.990Z"
   },
   {
    "duration": -159,
    "start_time": "2021-06-27T16:06:48.996Z"
   },
   {
    "duration": -165,
    "start_time": "2021-06-27T16:06:49.003Z"
   },
   {
    "duration": -170,
    "start_time": "2021-06-27T16:06:49.009Z"
   },
   {
    "duration": -176,
    "start_time": "2021-06-27T16:06:49.016Z"
   },
   {
    "duration": -193,
    "start_time": "2021-06-27T16:06:49.034Z"
   },
   {
    "duration": -200,
    "start_time": "2021-06-27T16:06:49.042Z"
   },
   {
    "duration": -205,
    "start_time": "2021-06-27T16:06:49.048Z"
   },
   {
    "duration": -212,
    "start_time": "2021-06-27T16:06:49.057Z"
   },
   {
    "duration": -218,
    "start_time": "2021-06-27T16:06:49.064Z"
   },
   {
    "duration": -225,
    "start_time": "2021-06-27T16:06:49.072Z"
   },
   {
    "duration": -229,
    "start_time": "2021-06-27T16:06:49.077Z"
   },
   {
    "duration": -235,
    "start_time": "2021-06-27T16:06:49.084Z"
   },
   {
    "duration": -240,
    "start_time": "2021-06-27T16:06:49.090Z"
   },
   {
    "duration": -245,
    "start_time": "2021-06-27T16:06:49.096Z"
   },
   {
    "duration": -250,
    "start_time": "2021-06-27T16:06:49.102Z"
   },
   {
    "duration": -255,
    "start_time": "2021-06-27T16:06:49.108Z"
   },
   {
    "duration": -259,
    "start_time": "2021-06-27T16:06:49.113Z"
   },
   {
    "duration": -264,
    "start_time": "2021-06-27T16:06:49.119Z"
   },
   {
    "duration": -269,
    "start_time": "2021-06-27T16:06:49.126Z"
   },
   {
    "duration": -284,
    "start_time": "2021-06-27T16:06:49.142Z"
   },
   {
    "duration": -290,
    "start_time": "2021-06-27T16:06:49.149Z"
   },
   {
    "duration": -296,
    "start_time": "2021-06-27T16:06:49.156Z"
   },
   {
    "duration": -301,
    "start_time": "2021-06-27T16:06:49.162Z"
   },
   {
    "duration": -305,
    "start_time": "2021-06-27T16:06:49.168Z"
   },
   {
    "duration": -308,
    "start_time": "2021-06-27T16:06:49.173Z"
   },
   {
    "duration": -314,
    "start_time": "2021-06-27T16:06:49.180Z"
   },
   {
    "duration": -319,
    "start_time": "2021-06-27T16:06:49.186Z"
   },
   {
    "duration": -309,
    "start_time": "2021-06-27T16:06:49.193Z"
   },
   {
    "duration": -313,
    "start_time": "2021-06-27T16:06:49.199Z"
   },
   {
    "duration": -317,
    "start_time": "2021-06-27T16:06:49.205Z"
   },
   {
    "duration": -323,
    "start_time": "2021-06-27T16:06:49.213Z"
   },
   {
    "duration": -328,
    "start_time": "2021-06-27T16:06:49.220Z"
   },
   {
    "duration": -332,
    "start_time": "2021-06-27T16:06:49.225Z"
   },
   {
    "duration": -337,
    "start_time": "2021-06-27T16:06:49.232Z"
   },
   {
    "duration": -340,
    "start_time": "2021-06-27T16:06:49.237Z"
   },
   {
    "duration": -353,
    "start_time": "2021-06-27T16:06:49.252Z"
   },
   {
    "duration": -359,
    "start_time": "2021-06-27T16:06:49.259Z"
   },
   {
    "duration": -364,
    "start_time": "2021-06-27T16:06:49.266Z"
   },
   {
    "duration": -369,
    "start_time": "2021-06-27T16:06:49.273Z"
   },
   {
    "duration": -375,
    "start_time": "2021-06-27T16:06:49.280Z"
   },
   {
    "duration": -380,
    "start_time": "2021-06-27T16:06:49.287Z"
   },
   {
    "duration": -385,
    "start_time": "2021-06-27T16:06:49.294Z"
   },
   {
    "duration": -390,
    "start_time": "2021-06-27T16:06:49.300Z"
   },
   {
    "duration": 7,
    "start_time": "2021-06-27T16:09:00.847Z"
   },
   {
    "duration": 11,
    "start_time": "2021-06-27T16:10:30.557Z"
   },
   {
    "duration": 3,
    "start_time": "2021-06-27T17:07:38.801Z"
   },
   {
    "duration": 5,
    "start_time": "2021-06-27T17:07:39.923Z"
   },
   {
    "duration": 8,
    "start_time": "2021-06-27T17:07:40.849Z"
   },
   {
    "duration": 10,
    "start_time": "2021-06-27T17:22:24.398Z"
   },
   {
    "duration": 182,
    "start_time": "2021-06-27T17:24:14.239Z"
   },
   {
    "duration": 7,
    "start_time": "2021-06-27T17:26:41.321Z"
   },
   {
    "duration": 11,
    "start_time": "2021-06-27T17:26:43.126Z"
   },
   {
    "duration": 10,
    "start_time": "2021-06-27T17:26:49.238Z"
   },
   {
    "duration": 5,
    "start_time": "2021-06-27T17:26:50.237Z"
   },
   {
    "duration": 8,
    "start_time": "2021-06-27T17:26:51.318Z"
   },
   {
    "duration": 429,
    "start_time": "2021-06-27T17:26:57.239Z"
   },
   {
    "duration": 10,
    "start_time": "2021-06-27T17:52:18.348Z"
   },
   {
    "duration": 206,
    "start_time": "2021-06-27T17:52:34.765Z"
   },
   {
    "duration": 1443,
    "start_time": "2021-06-27T22:59:18.553Z"
   },
   {
    "duration": 3643,
    "start_time": "2021-06-27T22:59:49.473Z"
   },
   {
    "duration": 357,
    "start_time": "2021-06-27T23:03:38.064Z"
   },
   {
    "duration": 303,
    "start_time": "2021-06-27T23:03:43.065Z"
   },
   {
    "duration": 2080,
    "start_time": "2021-06-27T23:03:50.912Z"
   },
   {
    "duration": 21,
    "start_time": "2021-06-27T23:03:52.995Z"
   },
   {
    "duration": 8,
    "start_time": "2021-06-27T23:03:53.019Z"
   },
   {
    "duration": 6,
    "start_time": "2021-06-27T23:03:53.029Z"
   },
   {
    "duration": 35,
    "start_time": "2021-06-27T23:03:53.038Z"
   },
   {
    "duration": 13,
    "start_time": "2021-06-27T23:03:53.075Z"
   },
   {
    "duration": 9,
    "start_time": "2021-06-27T23:03:53.091Z"
   },
   {
    "duration": 72,
    "start_time": "2021-06-27T23:03:53.102Z"
   },
   {
    "duration": 11,
    "start_time": "2021-06-27T23:03:53.181Z"
   },
   {
    "duration": 17,
    "start_time": "2021-06-27T23:03:53.197Z"
   },
   {
    "duration": 645,
    "start_time": "2021-06-27T23:03:53.217Z"
   },
   {
    "duration": 19,
    "start_time": "2021-06-27T23:03:53.867Z"
   },
   {
    "duration": 16,
    "start_time": "2021-06-27T23:03:53.889Z"
   },
   {
    "duration": 74,
    "start_time": "2021-06-27T23:03:53.907Z"
   },
   {
    "duration": 9,
    "start_time": "2021-06-27T23:03:53.984Z"
   },
   {
    "duration": 32,
    "start_time": "2021-06-27T23:03:53.995Z"
   },
   {
    "duration": 200,
    "start_time": "2021-06-27T23:03:54.030Z"
   },
   {
    "duration": 12,
    "start_time": "2021-06-27T23:03:54.233Z"
   },
   {
    "duration": 489,
    "start_time": "2021-06-27T23:03:54.247Z"
   },
   {
    "duration": 3190,
    "start_time": "2021-06-27T23:03:54.738Z"
   },
   {
    "duration": 108,
    "start_time": "2021-06-27T23:03:57.931Z"
   },
   {
    "duration": -267,
    "start_time": "2021-06-27T23:03:58.311Z"
   },
   {
    "duration": -271,
    "start_time": "2021-06-27T23:03:58.317Z"
   },
   {
    "duration": -276,
    "start_time": "2021-06-27T23:03:58.323Z"
   },
   {
    "duration": -282,
    "start_time": "2021-06-27T23:03:58.331Z"
   },
   {
    "duration": -291,
    "start_time": "2021-06-27T23:03:58.341Z"
   },
   {
    "duration": -297,
    "start_time": "2021-06-27T23:03:58.349Z"
   },
   {
    "duration": -303,
    "start_time": "2021-06-27T23:03:58.356Z"
   },
   {
    "duration": -717,
    "start_time": "2021-06-27T23:03:58.772Z"
   },
   {
    "duration": -724,
    "start_time": "2021-06-27T23:03:58.780Z"
   },
   {
    "duration": -728,
    "start_time": "2021-06-27T23:03:58.786Z"
   },
   {
    "duration": -735,
    "start_time": "2021-06-27T23:03:58.794Z"
   },
   {
    "duration": -755,
    "start_time": "2021-06-27T23:03:58.816Z"
   },
   {
    "duration": -765,
    "start_time": "2021-06-27T23:03:58.828Z"
   },
   {
    "duration": -769,
    "start_time": "2021-06-27T23:03:58.833Z"
   },
   {
    "duration": -776,
    "start_time": "2021-06-27T23:03:58.841Z"
   },
   {
    "duration": -780,
    "start_time": "2021-06-27T23:03:58.847Z"
   },
   {
    "duration": -786,
    "start_time": "2021-06-27T23:03:58.854Z"
   },
   {
    "duration": -793,
    "start_time": "2021-06-27T23:03:58.862Z"
   },
   {
    "duration": -797,
    "start_time": "2021-06-27T23:03:58.868Z"
   },
   {
    "duration": -802,
    "start_time": "2021-06-27T23:03:58.874Z"
   },
   {
    "duration": -808,
    "start_time": "2021-06-27T23:03:58.881Z"
   },
   {
    "duration": -813,
    "start_time": "2021-06-27T23:03:58.888Z"
   },
   {
    "duration": -819,
    "start_time": "2021-06-27T23:03:58.896Z"
   },
   {
    "duration": -824,
    "start_time": "2021-06-27T23:03:58.902Z"
   },
   {
    "duration": -829,
    "start_time": "2021-06-27T23:03:58.909Z"
   },
   {
    "duration": -847,
    "start_time": "2021-06-27T23:03:58.928Z"
   },
   {
    "duration": -851,
    "start_time": "2021-06-27T23:03:58.934Z"
   },
   {
    "duration": -856,
    "start_time": "2021-06-27T23:03:58.940Z"
   },
   {
    "duration": -861,
    "start_time": "2021-06-27T23:03:58.947Z"
   },
   {
    "duration": -868,
    "start_time": "2021-06-27T23:03:58.955Z"
   },
   {
    "duration": -873,
    "start_time": "2021-06-27T23:03:58.962Z"
   },
   {
    "duration": -879,
    "start_time": "2021-06-27T23:03:58.969Z"
   },
   {
    "duration": -884,
    "start_time": "2021-06-27T23:03:58.976Z"
   },
   {
    "duration": -889,
    "start_time": "2021-06-27T23:03:58.982Z"
   },
   {
    "duration": -893,
    "start_time": "2021-06-27T23:03:58.988Z"
   },
   {
    "duration": -900,
    "start_time": "2021-06-27T23:03:58.996Z"
   },
   {
    "duration": -904,
    "start_time": "2021-06-27T23:03:59.002Z"
   },
   {
    "duration": -909,
    "start_time": "2021-06-27T23:03:59.008Z"
   },
   {
    "duration": -914,
    "start_time": "2021-06-27T23:03:59.015Z"
   },
   {
    "duration": -919,
    "start_time": "2021-06-27T23:03:59.021Z"
   },
   {
    "duration": -937,
    "start_time": "2021-06-27T23:03:59.041Z"
   },
   {
    "duration": -943,
    "start_time": "2021-06-27T23:03:59.048Z"
   },
   {
    "duration": -948,
    "start_time": "2021-06-27T23:03:59.054Z"
   },
   {
    "duration": -954,
    "start_time": "2021-06-27T23:03:59.061Z"
   },
   {
    "duration": -958,
    "start_time": "2021-06-27T23:03:59.067Z"
   },
   {
    "duration": -964,
    "start_time": "2021-06-27T23:03:59.074Z"
   },
   {
    "duration": -912,
    "start_time": "2021-06-27T23:03:59.080Z"
   },
   {
    "duration": -917,
    "start_time": "2021-06-27T23:03:59.086Z"
   },
   {
    "duration": -924,
    "start_time": "2021-06-27T23:03:59.094Z"
   },
   {
    "duration": -923,
    "start_time": "2021-06-27T23:03:59.100Z"
   },
   {
    "duration": -928,
    "start_time": "2021-06-27T23:03:59.106Z"
   },
   {
    "duration": -932,
    "start_time": "2021-06-27T23:03:59.112Z"
   },
   {
    "duration": -937,
    "start_time": "2021-06-27T23:03:59.118Z"
   },
   {
    "duration": -943,
    "start_time": "2021-06-27T23:03:59.125Z"
   },
   {
    "duration": -951,
    "start_time": "2021-06-27T23:03:59.135Z"
   },
   {
    "duration": -969,
    "start_time": "2021-06-27T23:03:59.155Z"
   },
   {
    "duration": -975,
    "start_time": "2021-06-27T23:03:59.162Z"
   },
   {
    "duration": -980,
    "start_time": "2021-06-27T23:03:59.168Z"
   },
   {
    "duration": -986,
    "start_time": "2021-06-27T23:03:59.176Z"
   },
   {
    "duration": -991,
    "start_time": "2021-06-27T23:03:59.182Z"
   },
   {
    "duration": 29,
    "start_time": "2021-06-27T23:04:23.350Z"
   },
   {
    "duration": 17,
    "start_time": "2021-06-27T23:04:25.107Z"
   },
   {
    "duration": 5,
    "start_time": "2021-06-27T23:04:43.945Z"
   },
   {
    "duration": 5,
    "start_time": "2021-06-27T23:13:20.226Z"
   },
   {
    "duration": 109,
    "start_time": "2021-06-27T23:13:20.905Z"
   },
   {
    "duration": 3,
    "start_time": "2021-06-27T23:13:21.506Z"
   },
   {
    "duration": 4,
    "start_time": "2021-06-27T23:13:28.877Z"
   },
   {
    "duration": 3,
    "start_time": "2021-06-27T23:13:29.633Z"
   },
   {
    "duration": 4,
    "start_time": "2021-06-27T23:13:30.385Z"
   },
   {
    "duration": 10580,
    "start_time": "2021-06-27T23:13:31.994Z"
   },
   {
    "duration": 3,
    "start_time": "2021-06-27T23:14:08.747Z"
   },
   {
    "duration": 3,
    "start_time": "2021-06-27T23:14:09.379Z"
   },
   {
    "duration": 8,
    "start_time": "2021-06-27T23:14:09.868Z"
   },
   {
    "duration": 22371,
    "start_time": "2021-06-27T23:14:11.033Z"
   },
   {
    "duration": 17,
    "start_time": "2021-06-27T23:33:03.635Z"
   },
   {
    "duration": 7816,
    "start_time": "2021-06-27T23:33:48.068Z"
   },
   {
    "duration": 10,
    "start_time": "2021-06-27T23:33:57.310Z"
   },
   {
    "duration": 27,
    "start_time": "2021-06-27T23:34:01.753Z"
   },
   {
    "duration": 20,
    "start_time": "2021-06-27T23:34:14.146Z"
   },
   {
    "duration": 8,
    "start_time": "2021-06-28T00:17:36.273Z"
   },
   {
    "duration": 6,
    "start_time": "2021-06-28T00:17:37.706Z"
   },
   {
    "duration": 8,
    "start_time": "2021-06-28T00:17:41.391Z"
   },
   {
    "duration": 94,
    "start_time": "2021-06-28T00:24:15.626Z"
   },
   {
    "duration": 544,
    "start_time": "2021-06-28T00:24:26.029Z"
   },
   {
    "duration": 6,
    "start_time": "2021-06-28T00:25:24.186Z"
   },
   {
    "duration": 8,
    "start_time": "2021-06-28T00:25:25.799Z"
   },
   {
    "duration": 14,
    "start_time": "2021-06-28T00:27:52.074Z"
   },
   {
    "duration": 13,
    "start_time": "2021-06-28T00:29:59.029Z"
   },
   {
    "duration": 7,
    "start_time": "2021-06-28T00:31:41.989Z"
   },
   {
    "duration": 5,
    "start_time": "2021-06-28T00:31:42.636Z"
   },
   {
    "duration": 9,
    "start_time": "2021-06-28T00:31:43.228Z"
   },
   {
    "duration": 12,
    "start_time": "2021-06-28T00:31:43.866Z"
   },
   {
    "duration": 6,
    "start_time": "2021-06-28T00:31:45.354Z"
   },
   {
    "duration": 13,
    "start_time": "2021-06-28T00:32:16.791Z"
   },
   {
    "duration": 7,
    "start_time": "2021-06-28T00:32:29.832Z"
   },
   {
    "duration": 6,
    "start_time": "2021-06-28T00:32:30.354Z"
   },
   {
    "duration": 8,
    "start_time": "2021-06-28T00:32:30.821Z"
   },
   {
    "duration": 14,
    "start_time": "2021-06-28T00:32:31.515Z"
   },
   {
    "duration": 14,
    "start_time": "2021-06-28T00:32:55.509Z"
   },
   {
    "duration": 13,
    "start_time": "2021-06-28T00:33:10.712Z"
   },
   {
    "duration": 5,
    "start_time": "2021-06-28T00:34:40.188Z"
   },
   {
    "duration": 5,
    "start_time": "2021-06-28T00:35:37.987Z"
   },
   {
    "duration": 5,
    "start_time": "2021-06-28T00:36:31.432Z"
   },
   {
    "duration": 20,
    "start_time": "2021-06-28T00:37:10.987Z"
   },
   {
    "duration": 1977,
    "start_time": "2021-06-28T00:37:23.467Z"
   },
   {
    "duration": 21,
    "start_time": "2021-06-28T00:37:25.447Z"
   },
   {
    "duration": 8,
    "start_time": "2021-06-28T00:37:25.471Z"
   },
   {
    "duration": 9,
    "start_time": "2021-06-28T00:37:25.482Z"
   },
   {
    "duration": 24,
    "start_time": "2021-06-28T00:37:25.493Z"
   },
   {
    "duration": 13,
    "start_time": "2021-06-28T00:37:25.519Z"
   },
   {
    "duration": 9,
    "start_time": "2021-06-28T00:37:25.568Z"
   },
   {
    "duration": 40,
    "start_time": "2021-06-28T00:37:25.581Z"
   },
   {
    "duration": 10,
    "start_time": "2021-06-28T00:37:25.624Z"
   },
   {
    "duration": 44,
    "start_time": "2021-06-28T00:37:25.636Z"
   },
   {
    "duration": 610,
    "start_time": "2021-06-28T00:37:25.683Z"
   },
   {
    "duration": 12,
    "start_time": "2021-06-28T00:37:26.296Z"
   },
   {
    "duration": 15,
    "start_time": "2021-06-28T00:37:26.310Z"
   },
   {
    "duration": 64,
    "start_time": "2021-06-28T00:37:26.327Z"
   },
   {
    "duration": 6,
    "start_time": "2021-06-28T00:37:26.394Z"
   },
   {
    "duration": 20,
    "start_time": "2021-06-28T00:37:26.403Z"
   },
   {
    "duration": 221,
    "start_time": "2021-06-28T00:37:26.425Z"
   },
   {
    "duration": 19,
    "start_time": "2021-06-28T00:37:26.648Z"
   },
   {
    "duration": 442,
    "start_time": "2021-06-28T00:37:26.669Z"
   },
   {
    "duration": 7,
    "start_time": "2021-06-28T00:37:27.113Z"
   },
   {
    "duration": 9,
    "start_time": "2021-06-28T00:37:27.123Z"
   },
   {
    "duration": 13,
    "start_time": "2021-06-28T00:37:27.135Z"
   },
   {
    "duration": 5,
    "start_time": "2021-06-28T00:37:27.171Z"
   },
   {
    "duration": 18,
    "start_time": "2021-06-28T00:37:27.180Z"
   },
   {
    "duration": 14,
    "start_time": "2021-06-28T00:37:27.200Z"
   },
   {
    "duration": 7,
    "start_time": "2021-06-28T00:37:27.217Z"
   },
   {
    "duration": 6,
    "start_time": "2021-06-28T00:37:27.267Z"
   },
   {
    "duration": 11,
    "start_time": "2021-06-28T00:37:27.275Z"
   },
   {
    "duration": 644,
    "start_time": "2021-06-28T00:37:27.288Z"
   },
   {
    "duration": 12,
    "start_time": "2021-06-28T00:37:27.934Z"
   },
   {
    "duration": 20,
    "start_time": "2021-06-28T00:37:27.949Z"
   },
   {
    "duration": 28,
    "start_time": "2021-06-28T00:37:27.972Z"
   },
   {
    "duration": 13,
    "start_time": "2021-06-28T00:37:28.002Z"
   },
   {
    "duration": 9,
    "start_time": "2021-06-28T00:37:28.017Z"
   },
   {
    "duration": 48,
    "start_time": "2021-06-28T00:37:28.028Z"
   },
   {
    "duration": 35,
    "start_time": "2021-06-28T00:37:28.078Z"
   },
   {
    "duration": 53,
    "start_time": "2021-06-28T00:37:28.115Z"
   },
   {
    "duration": 13,
    "start_time": "2021-06-28T00:37:28.170Z"
   },
   {
    "duration": 12,
    "start_time": "2021-06-28T00:37:28.185Z"
   },
   {
    "duration": 30,
    "start_time": "2021-06-28T00:37:28.199Z"
   },
   {
    "duration": 5,
    "start_time": "2021-06-28T00:37:28.231Z"
   },
   {
    "duration": 13,
    "start_time": "2021-06-28T00:37:28.267Z"
   },
   {
    "duration": 13,
    "start_time": "2021-06-28T00:37:28.282Z"
   },
   {
    "duration": 13,
    "start_time": "2021-06-28T00:37:28.297Z"
   },
   {
    "duration": 24,
    "start_time": "2021-06-28T00:37:28.312Z"
   },
   {
    "duration": 37,
    "start_time": "2021-06-28T00:37:28.338Z"
   },
   {
    "duration": 13,
    "start_time": "2021-06-28T00:37:28.378Z"
   },
   {
    "duration": 27,
    "start_time": "2021-06-28T00:37:28.394Z"
   },
   {
    "duration": 68,
    "start_time": "2021-06-28T00:37:28.423Z"
   },
   {
    "duration": 46,
    "start_time": "2021-06-28T00:37:28.493Z"
   },
   {
    "duration": 28,
    "start_time": "2021-06-28T00:37:28.541Z"
   },
   {
    "duration": 44,
    "start_time": "2021-06-28T00:37:28.571Z"
   },
   {
    "duration": 8,
    "start_time": "2021-06-28T00:37:28.618Z"
   },
   {
    "duration": 41,
    "start_time": "2021-06-28T00:37:28.628Z"
   },
   {
    "duration": 6,
    "start_time": "2021-06-28T00:37:28.672Z"
   },
   {
    "duration": 12,
    "start_time": "2021-06-28T00:37:28.680Z"
   },
   {
    "duration": 15,
    "start_time": "2021-06-28T00:37:28.694Z"
   },
   {
    "duration": 83,
    "start_time": "2021-06-28T00:37:28.711Z"
   },
   {
    "duration": 36,
    "start_time": "2021-06-28T00:37:28.797Z"
   },
   {
    "duration": 34,
    "start_time": "2021-06-28T00:37:28.835Z"
   },
   {
    "duration": 410,
    "start_time": "2021-06-28T00:37:28.872Z"
   },
   {
    "duration": 89,
    "start_time": "2021-06-28T00:37:29.284Z"
   },
   {
    "duration": 98,
    "start_time": "2021-06-28T00:37:29.376Z"
   },
   {
    "duration": 111,
    "start_time": "2021-06-28T00:37:29.476Z"
   },
   {
    "duration": 8,
    "start_time": "2021-06-28T00:37:29.668Z"
   },
   {
    "duration": 43,
    "start_time": "2021-06-28T00:37:29.679Z"
   },
   {
    "duration": 6671,
    "start_time": "2021-06-28T00:37:29.725Z"
   },
   {
    "duration": 15,
    "start_time": "2021-06-28T00:37:36.403Z"
   },
   {
    "duration": 323,
    "start_time": "2021-06-28T00:37:36.421Z"
   },
   {
    "duration": 3,
    "start_time": "2021-06-28T00:37:36.747Z"
   },
   {
    "duration": 683,
    "start_time": "2021-06-28T00:37:36.753Z"
   },
   {
    "duration": -1080,
    "start_time": "2021-06-28T00:37:38.519Z"
   },
   {
    "duration": -1095,
    "start_time": "2021-06-28T00:37:38.535Z"
   },
   {
    "duration": -1100,
    "start_time": "2021-06-28T00:37:38.542Z"
   },
   {
    "duration": -1105,
    "start_time": "2021-06-28T00:37:38.548Z"
   },
   {
    "duration": -1120,
    "start_time": "2021-06-28T00:37:38.565Z"
   },
   {
    "duration": -1125,
    "start_time": "2021-06-28T00:37:38.571Z"
   },
   {
    "duration": -1129,
    "start_time": "2021-06-28T00:37:38.577Z"
   },
   {
    "duration": -1134,
    "start_time": "2021-06-28T00:37:38.583Z"
   },
   {
    "duration": -1138,
    "start_time": "2021-06-28T00:37:38.589Z"
   },
   {
    "duration": 5,
    "start_time": "2021-06-28T00:57:56.176Z"
   },
   {
    "duration": 7,
    "start_time": "2021-06-28T00:58:28.775Z"
   },
   {
    "duration": 6,
    "start_time": "2021-06-28T00:58:29.465Z"
   },
   {
    "duration": 8,
    "start_time": "2021-06-28T00:58:30.117Z"
   },
   {
    "duration": 6,
    "start_time": "2021-06-28T00:58:31.034Z"
   },
   {
    "duration": 17,
    "start_time": "2021-06-28T00:59:34.140Z"
   },
   {
    "duration": 16,
    "start_time": "2021-06-28T01:01:20.752Z"
   },
   {
    "duration": 7,
    "start_time": "2021-06-28T01:09:10.952Z"
   },
   {
    "duration": 6,
    "start_time": "2021-06-28T01:09:11.677Z"
   },
   {
    "duration": 9,
    "start_time": "2021-06-28T01:09:12.508Z"
   },
   {
    "duration": 4,
    "start_time": "2021-06-28T01:09:13.940Z"
   },
   {
    "duration": 12,
    "start_time": "2021-06-28T01:09:24.002Z"
   },
   {
    "duration": 636,
    "start_time": "2021-06-28T01:56:44.989Z"
   },
   {
    "duration": 6,
    "start_time": "2021-06-28T01:59:54.843Z"
   },
   {
    "duration": 7,
    "start_time": "2021-06-28T02:00:38.821Z"
   },
   {
    "duration": 8,
    "start_time": "2021-06-28T02:01:18.192Z"
   },
   {
    "duration": 10,
    "start_time": "2021-06-28T02:01:47.149Z"
   },
   {
    "duration": 7,
    "start_time": "2021-06-28T02:02:30.596Z"
   },
   {
    "duration": 6,
    "start_time": "2021-06-28T02:02:36.751Z"
   },
   {
    "duration": 109,
    "start_time": "2021-06-28T02:09:39.268Z"
   },
   {
    "duration": 45,
    "start_time": "2021-06-28T02:09:59.722Z"
   },
   {
    "duration": 96,
    "start_time": "2021-06-28T02:10:36.792Z"
   },
   {
    "duration": 47,
    "start_time": "2021-06-28T02:10:52.676Z"
   },
   {
    "duration": 102,
    "start_time": "2021-06-28T02:11:00.959Z"
   },
   {
    "duration": 2070,
    "start_time": "2021-06-28T02:11:05.441Z"
   },
   {
    "duration": 7,
    "start_time": "2021-06-28T02:11:21.242Z"
   },
   {
    "duration": 110,
    "start_time": "2021-06-28T02:11:27.231Z"
   },
   {
    "duration": 94,
    "start_time": "2021-06-28T02:11:33.155Z"
   },
   {
    "duration": 13,
    "start_time": "2021-06-28T02:12:08.792Z"
   },
   {
    "duration": 8,
    "start_time": "2021-06-28T02:12:41.788Z"
   },
   {
    "duration": 2091,
    "start_time": "2021-06-28T02:14:42.325Z"
   },
   {
    "duration": 23,
    "start_time": "2021-06-28T02:14:44.419Z"
   },
   {
    "duration": 21,
    "start_time": "2021-06-28T02:14:44.445Z"
   },
   {
    "duration": 11,
    "start_time": "2021-06-28T02:14:44.469Z"
   },
   {
    "duration": 38,
    "start_time": "2021-06-28T02:14:44.483Z"
   },
   {
    "duration": 30,
    "start_time": "2021-06-28T02:14:44.523Z"
   },
   {
    "duration": 18,
    "start_time": "2021-06-28T02:14:44.556Z"
   },
   {
    "duration": 44,
    "start_time": "2021-06-28T02:14:44.577Z"
   },
   {
    "duration": 9,
    "start_time": "2021-06-28T02:14:44.624Z"
   },
   {
    "duration": 33,
    "start_time": "2021-06-28T02:14:44.635Z"
   },
   {
    "duration": 599,
    "start_time": "2021-06-28T02:14:44.670Z"
   },
   {
    "duration": 12,
    "start_time": "2021-06-28T02:14:45.272Z"
   },
   {
    "duration": 30,
    "start_time": "2021-06-28T02:14:45.286Z"
   },
   {
    "duration": 49,
    "start_time": "2021-06-28T02:14:45.318Z"
   },
   {
    "duration": 7,
    "start_time": "2021-06-28T02:14:45.369Z"
   },
   {
    "duration": 33,
    "start_time": "2021-06-28T02:14:45.378Z"
   },
   {
    "duration": 187,
    "start_time": "2021-06-28T02:14:45.414Z"
   },
   {
    "duration": 12,
    "start_time": "2021-06-28T02:14:45.604Z"
   },
   {
    "duration": 481,
    "start_time": "2021-06-28T02:14:45.618Z"
   },
   {
    "duration": 7,
    "start_time": "2021-06-28T02:14:46.101Z"
   },
   {
    "duration": 26,
    "start_time": "2021-06-28T02:14:46.110Z"
   },
   {
    "duration": 20,
    "start_time": "2021-06-28T02:14:46.139Z"
   },
   {
    "duration": 21,
    "start_time": "2021-06-28T02:14:46.166Z"
   },
   {
    "duration": 31,
    "start_time": "2021-06-28T02:14:46.192Z"
   },
   {
    "duration": 20,
    "start_time": "2021-06-28T02:14:46.226Z"
   },
   {
    "duration": 22,
    "start_time": "2021-06-28T02:14:46.249Z"
   },
   {
    "duration": 29,
    "start_time": "2021-06-28T02:14:46.274Z"
   },
   {
    "duration": 16,
    "start_time": "2021-06-28T02:14:46.306Z"
   },
   {
    "duration": 395,
    "start_time": "2021-06-28T02:14:46.325Z"
   },
   {
    "duration": 318,
    "start_time": "2021-06-28T02:14:46.723Z"
   },
   {
    "duration": -300,
    "start_time": "2021-06-28T02:14:47.345Z"
   },
   {
    "duration": -308,
    "start_time": "2021-06-28T02:14:47.355Z"
   },
   {
    "duration": -312,
    "start_time": "2021-06-28T02:14:47.361Z"
   },
   {
    "duration": -317,
    "start_time": "2021-06-28T02:14:47.368Z"
   },
   {
    "duration": -322,
    "start_time": "2021-06-28T02:14:47.375Z"
   },
   {
    "duration": -326,
    "start_time": "2021-06-28T02:14:47.381Z"
   },
   {
    "duration": -339,
    "start_time": "2021-06-28T02:14:47.397Z"
   },
   {
    "duration": -346,
    "start_time": "2021-06-28T02:14:47.406Z"
   },
   {
    "duration": -351,
    "start_time": "2021-06-28T02:14:47.413Z"
   },
   {
    "duration": -356,
    "start_time": "2021-06-28T02:14:47.420Z"
   },
   {
    "duration": -360,
    "start_time": "2021-06-28T02:14:47.426Z"
   },
   {
    "duration": -365,
    "start_time": "2021-06-28T02:14:47.433Z"
   },
   {
    "duration": -371,
    "start_time": "2021-06-28T02:14:47.441Z"
   },
   {
    "duration": -375,
    "start_time": "2021-06-28T02:14:47.447Z"
   },
   {
    "duration": -380,
    "start_time": "2021-06-28T02:14:47.454Z"
   },
   {
    "duration": -602,
    "start_time": "2021-06-28T02:14:47.678Z"
   },
   {
    "duration": -737,
    "start_time": "2021-06-28T02:14:47.815Z"
   },
   {
    "duration": -742,
    "start_time": "2021-06-28T02:14:47.822Z"
   },
   {
    "duration": -746,
    "start_time": "2021-06-28T02:14:47.828Z"
   },
   {
    "duration": -751,
    "start_time": "2021-06-28T02:14:47.835Z"
   },
   {
    "duration": -756,
    "start_time": "2021-06-28T02:14:47.842Z"
   },
   {
    "duration": -760,
    "start_time": "2021-06-28T02:14:47.848Z"
   },
   {
    "duration": -774,
    "start_time": "2021-06-28T02:14:47.864Z"
   },
   {
    "duration": -778,
    "start_time": "2021-06-28T02:14:47.871Z"
   },
   {
    "duration": -783,
    "start_time": "2021-06-28T02:14:47.878Z"
   },
   {
    "duration": -787,
    "start_time": "2021-06-28T02:14:47.884Z"
   },
   {
    "duration": -791,
    "start_time": "2021-06-28T02:14:47.890Z"
   },
   {
    "duration": -794,
    "start_time": "2021-06-28T02:14:47.896Z"
   },
   {
    "duration": -799,
    "start_time": "2021-06-28T02:14:47.903Z"
   },
   {
    "duration": -803,
    "start_time": "2021-06-28T02:14:47.909Z"
   },
   {
    "duration": -807,
    "start_time": "2021-06-28T02:14:47.916Z"
   },
   {
    "duration": -755,
    "start_time": "2021-06-28T02:14:47.922Z"
   },
   {
    "duration": -760,
    "start_time": "2021-06-28T02:14:47.929Z"
   },
   {
    "duration": -764,
    "start_time": "2021-06-28T02:14:47.935Z"
   },
   {
    "duration": -769,
    "start_time": "2021-06-28T02:14:47.942Z"
   },
   {
    "duration": -773,
    "start_time": "2021-06-28T02:14:47.948Z"
   },
   {
    "duration": -777,
    "start_time": "2021-06-28T02:14:47.954Z"
   },
   {
    "duration": -781,
    "start_time": "2021-06-28T02:14:47.960Z"
   },
   {
    "duration": -796,
    "start_time": "2021-06-28T02:14:47.977Z"
   },
   {
    "duration": -802,
    "start_time": "2021-06-28T02:14:47.986Z"
   },
   {
    "duration": -806,
    "start_time": "2021-06-28T02:14:47.992Z"
   },
   {
    "duration": -810,
    "start_time": "2021-06-28T02:14:47.998Z"
   },
   {
    "duration": -816,
    "start_time": "2021-06-28T02:14:48.006Z"
   },
   {
    "duration": -819,
    "start_time": "2021-06-28T02:14:48.011Z"
   },
   {
    "duration": 73,
    "start_time": "2021-06-28T02:16:30.147Z"
   },
   {
    "duration": 69,
    "start_time": "2021-06-28T02:19:04.979Z"
   },
   {
    "duration": 35,
    "start_time": "2021-06-28T02:19:27.909Z"
   },
   {
    "duration": 99,
    "start_time": "2021-06-28T07:58:59.071Z"
   },
   {
    "duration": 7,
    "start_time": "2021-06-28T07:59:21.659Z"
   },
   {
    "duration": 402,
    "start_time": "2021-06-28T07:59:46.194Z"
   },
   {
    "duration": 328,
    "start_time": "2021-06-28T07:59:46.679Z"
   },
   {
    "duration": 1969,
    "start_time": "2021-06-28T07:59:57.574Z"
   },
   {
    "duration": 20,
    "start_time": "2021-06-28T07:59:59.545Z"
   },
   {
    "duration": 8,
    "start_time": "2021-06-28T07:59:59.568Z"
   },
   {
    "duration": 9,
    "start_time": "2021-06-28T07:59:59.578Z"
   },
   {
    "duration": 19,
    "start_time": "2021-06-28T07:59:59.589Z"
   },
   {
    "duration": 10,
    "start_time": "2021-06-28T07:59:59.611Z"
   },
   {
    "duration": 45,
    "start_time": "2021-06-28T07:59:59.623Z"
   },
   {
    "duration": 33,
    "start_time": "2021-06-28T07:59:59.672Z"
   },
   {
    "duration": 9,
    "start_time": "2021-06-28T07:59:59.708Z"
   },
   {
    "duration": 15,
    "start_time": "2021-06-28T07:59:59.719Z"
   },
   {
    "duration": 602,
    "start_time": "2021-06-28T07:59:59.768Z"
   },
   {
    "duration": 13,
    "start_time": "2021-06-28T08:00:00.373Z"
   },
   {
    "duration": 33,
    "start_time": "2021-06-28T08:00:00.389Z"
   },
   {
    "duration": 47,
    "start_time": "2021-06-28T08:00:00.425Z"
   },
   {
    "duration": 8,
    "start_time": "2021-06-28T08:00:00.475Z"
   },
   {
    "duration": 35,
    "start_time": "2021-06-28T08:00:00.486Z"
   },
   {
    "duration": 198,
    "start_time": "2021-06-28T08:00:00.524Z"
   },
   {
    "duration": 11,
    "start_time": "2021-06-28T08:00:00.725Z"
   },
   {
    "duration": 464,
    "start_time": "2021-06-28T08:00:00.739Z"
   },
   {
    "duration": 7,
    "start_time": "2021-06-28T08:00:01.205Z"
   },
   {
    "duration": 42,
    "start_time": "2021-06-28T08:00:01.214Z"
   },
   {
    "duration": 48,
    "start_time": "2021-06-28T08:00:01.259Z"
   },
   {
    "duration": 37,
    "start_time": "2021-06-28T08:00:01.313Z"
   },
   {
    "duration": 31,
    "start_time": "2021-06-28T08:00:01.354Z"
   },
   {
    "duration": 33,
    "start_time": "2021-06-28T08:00:01.388Z"
   },
   {
    "duration": 28,
    "start_time": "2021-06-28T08:00:01.423Z"
   },
   {
    "duration": 47,
    "start_time": "2021-06-28T08:00:01.453Z"
   },
   {
    "duration": 41,
    "start_time": "2021-06-28T08:00:01.503Z"
   },
   {
    "duration": 29,
    "start_time": "2021-06-28T08:00:01.546Z"
   },
   {
    "duration": 626,
    "start_time": "2021-06-28T08:00:01.577Z"
   },
   {
    "duration": 143,
    "start_time": "2021-06-28T08:00:02.063Z"
   },
   {
    "duration": 136,
    "start_time": "2021-06-28T08:00:02.071Z"
   },
   {
    "duration": 131,
    "start_time": "2021-06-28T08:00:02.077Z"
   },
   {
    "duration": 128,
    "start_time": "2021-06-28T08:00:02.082Z"
   },
   {
    "duration": 114,
    "start_time": "2021-06-28T08:00:02.097Z"
   },
   {
    "duration": 109,
    "start_time": "2021-06-28T08:00:02.103Z"
   },
   {
    "duration": 105,
    "start_time": "2021-06-28T08:00:02.108Z"
   },
   {
    "duration": 101,
    "start_time": "2021-06-28T08:00:02.113Z"
   },
   {
    "duration": 96,
    "start_time": "2021-06-28T08:00:02.119Z"
   },
   {
    "duration": 93,
    "start_time": "2021-06-28T08:00:02.124Z"
   },
   {
    "duration": 88,
    "start_time": "2021-06-28T08:00:02.130Z"
   },
   {
    "duration": 83,
    "start_time": "2021-06-28T08:00:02.136Z"
   },
   {
    "duration": 78,
    "start_time": "2021-06-28T08:00:02.142Z"
   },
   {
    "duration": 73,
    "start_time": "2021-06-28T08:00:02.148Z"
   },
   {
    "duration": 68,
    "start_time": "2021-06-28T08:00:02.155Z"
   },
   {
    "duration": 63,
    "start_time": "2021-06-28T08:00:02.161Z"
   },
   {
    "duration": 58,
    "start_time": "2021-06-28T08:00:02.167Z"
   },
   {
    "duration": 54,
    "start_time": "2021-06-28T08:00:02.172Z"
   },
   {
    "duration": 50,
    "start_time": "2021-06-28T08:00:02.177Z"
   },
   {
    "duration": 44,
    "start_time": "2021-06-28T08:00:02.184Z"
   },
   {
    "duration": 40,
    "start_time": "2021-06-28T08:00:02.190Z"
   },
   {
    "duration": 24,
    "start_time": "2021-06-28T08:00:02.207Z"
   },
   {
    "duration": 18,
    "start_time": "2021-06-28T08:00:02.214Z"
   },
   {
    "duration": 13,
    "start_time": "2021-06-28T08:00:02.220Z"
   },
   {
    "duration": 8,
    "start_time": "2021-06-28T08:00:02.226Z"
   },
   {
    "duration": 2,
    "start_time": "2021-06-28T08:00:02.233Z"
   },
   {
    "duration": -2,
    "start_time": "2021-06-28T08:00:02.239Z"
   },
   {
    "duration": -8,
    "start_time": "2021-06-28T08:00:02.246Z"
   },
   {
    "duration": -18,
    "start_time": "2021-06-28T08:00:02.257Z"
   },
   {
    "duration": -26,
    "start_time": "2021-06-28T08:00:02.266Z"
   },
   {
    "duration": -30,
    "start_time": "2021-06-28T08:00:02.272Z"
   },
   {
    "duration": -11,
    "start_time": "2021-06-28T08:00:02.278Z"
   },
   {
    "duration": -16,
    "start_time": "2021-06-28T08:00:02.284Z"
   },
   {
    "duration": -20,
    "start_time": "2021-06-28T08:00:02.290Z"
   },
   {
    "duration": -28,
    "start_time": "2021-06-28T08:00:02.299Z"
   },
   {
    "duration": -78,
    "start_time": "2021-06-28T08:00:02.351Z"
   },
   {
    "duration": -116,
    "start_time": "2021-06-28T08:00:02.390Z"
   },
   {
    "duration": -119,
    "start_time": "2021-06-28T08:00:02.395Z"
   },
   {
    "duration": -125,
    "start_time": "2021-06-28T08:00:02.402Z"
   },
   {
    "duration": -128,
    "start_time": "2021-06-28T08:00:02.407Z"
   },
   {
    "duration": -132,
    "start_time": "2021-06-28T08:00:02.412Z"
   },
   {
    "duration": -137,
    "start_time": "2021-06-28T08:00:02.418Z"
   },
   {
    "duration": -148,
    "start_time": "2021-06-28T08:00:02.431Z"
   },
   {
    "duration": -152,
    "start_time": "2021-06-28T08:00:02.436Z"
   },
   {
    "duration": 69,
    "start_time": "2021-06-28T08:01:27.203Z"
   },
   {
    "duration": 330,
    "start_time": "2021-06-28T08:01:55.638Z"
   },
   {
    "duration": 336,
    "start_time": "2021-06-28T08:02:06.734Z"
   },
   {
    "duration": 625,
    "start_time": "2021-06-28T08:02:39.038Z"
   },
   {
    "duration": 610,
    "start_time": "2021-06-28T08:05:14.021Z"
   },
   {
    "duration": 262,
    "start_time": "2021-06-28T08:05:15.786Z"
   },
   {
    "duration": 78,
    "start_time": "2021-06-28T08:06:13.100Z"
   },
   {
    "duration": 358,
    "start_time": "2021-06-28T08:06:13.862Z"
   },
   {
    "duration": 556,
    "start_time": "2021-06-28T08:08:44.751Z"
   },
   {
    "duration": 14,
    "start_time": "2021-06-28T08:12:03.145Z"
   },
   {
    "duration": 13,
    "start_time": "2021-06-28T08:13:26.579Z"
   },
   {
    "duration": 71,
    "start_time": "2021-06-28T08:18:08.075Z"
   },
   {
    "duration": 68,
    "start_time": "2021-06-28T08:26:59.533Z"
   },
   {
    "duration": 16,
    "start_time": "2021-06-28T08:32:58.599Z"
   },
   {
    "duration": 69,
    "start_time": "2021-06-28T08:35:33.228Z"
   },
   {
    "duration": 69,
    "start_time": "2021-06-28T08:35:36.586Z"
   },
   {
    "duration": 68,
    "start_time": "2021-06-28T08:35:38.896Z"
   },
   {
    "duration": 7,
    "start_time": "2021-06-28T08:35:52.453Z"
   },
   {
    "duration": 5,
    "start_time": "2021-06-28T08:35:53.108Z"
   },
   {
    "duration": 8,
    "start_time": "2021-06-28T08:35:53.918Z"
   },
   {
    "duration": 5,
    "start_time": "2021-06-28T08:35:54.577Z"
   },
   {
    "duration": 16,
    "start_time": "2021-06-28T08:35:55.780Z"
   },
   {
    "duration": 13,
    "start_time": "2021-06-28T08:36:03.020Z"
   },
   {
    "duration": 7,
    "start_time": "2021-06-28T08:36:15.380Z"
   },
   {
    "duration": 6,
    "start_time": "2021-06-28T08:36:38.076Z"
   },
   {
    "duration": 6,
    "start_time": "2021-06-28T08:36:39.309Z"
   },
   {
    "duration": 6,
    "start_time": "2021-06-28T08:36:40.064Z"
   },
   {
    "duration": 70,
    "start_time": "2021-06-28T08:36:41.462Z"
   },
   {
    "duration": 68,
    "start_time": "2021-06-28T08:36:48.784Z"
   },
   {
    "duration": 13,
    "start_time": "2021-06-28T08:36:50.072Z"
   },
   {
    "duration": 72,
    "start_time": "2021-06-28T08:36:52.155Z"
   },
   {
    "duration": 7,
    "start_time": "2021-06-28T08:37:03.954Z"
   },
   {
    "duration": 6,
    "start_time": "2021-06-28T08:37:04.376Z"
   },
   {
    "duration": 8,
    "start_time": "2021-06-28T08:37:04.828Z"
   },
   {
    "duration": 5,
    "start_time": "2021-06-28T08:37:05.333Z"
   },
   {
    "duration": 14,
    "start_time": "2021-06-28T08:37:05.671Z"
   },
   {
    "duration": 7,
    "start_time": "2021-06-28T08:37:08.535Z"
   },
   {
    "duration": 7,
    "start_time": "2021-06-28T08:37:10.179Z"
   },
   {
    "duration": 7,
    "start_time": "2021-06-28T08:37:11.217Z"
   },
   {
    "duration": 7,
    "start_time": "2021-06-28T08:37:11.915Z"
   },
   {
    "duration": 70,
    "start_time": "2021-06-28T08:37:13.072Z"
   },
   {
    "duration": 69,
    "start_time": "2021-06-28T08:37:17.701Z"
   },
   {
    "duration": 532,
    "start_time": "2021-06-28T08:47:30.078Z"
   },
   {
    "duration": 268,
    "start_time": "2021-06-28T08:47:34.591Z"
   },
   {
    "duration": 6,
    "start_time": "2021-06-28T08:51:14.950Z"
   },
   {
    "duration": 5,
    "start_time": "2021-06-28T08:51:38.715Z"
   },
   {
    "duration": 212,
    "start_time": "2021-06-28T08:54:44.032Z"
   },
   {
    "duration": 69,
    "start_time": "2021-06-28T08:55:34.500Z"
   },
   {
    "duration": 80,
    "start_time": "2021-06-28T09:01:48.116Z"
   },
   {
    "duration": 5,
    "start_time": "2021-06-28T09:01:51.745Z"
   },
   {
    "duration": 6,
    "start_time": "2021-06-28T09:01:52.900Z"
   },
   {
    "duration": 80,
    "start_time": "2021-06-28T09:02:29.033Z"
   },
   {
    "duration": 5,
    "start_time": "2021-06-28T09:02:29.870Z"
   },
   {
    "duration": 5,
    "start_time": "2021-06-28T09:02:30.581Z"
   },
   {
    "duration": 276,
    "start_time": "2021-06-28T09:02:40.233Z"
   },
   {
    "duration": 78,
    "start_time": "2021-06-28T09:03:05.835Z"
   },
   {
    "duration": 5,
    "start_time": "2021-06-28T09:03:06.636Z"
   },
   {
    "duration": 5,
    "start_time": "2021-06-28T09:03:07.464Z"
   },
   {
    "duration": 68,
    "start_time": "2021-06-28T09:04:56.828Z"
   },
   {
    "duration": 266,
    "start_time": "2021-06-28T09:05:54.311Z"
   },
   {
    "duration": 274,
    "start_time": "2021-06-28T09:06:28.500Z"
   },
   {
    "duration": 271,
    "start_time": "2021-06-28T09:06:39.870Z"
   },
   {
    "duration": 5830,
    "start_time": "2021-06-28T09:06:53.984Z"
   },
   {
    "duration": 6765,
    "start_time": "2021-06-28T09:07:06.268Z"
   },
   {
    "duration": 270,
    "start_time": "2021-06-28T09:07:20.388Z"
   },
   {
    "duration": 331,
    "start_time": "2021-06-28T09:10:12.054Z"
   },
   {
    "duration": 68,
    "start_time": "2021-06-28T09:10:16.989Z"
   },
   {
    "duration": 300,
    "start_time": "2021-06-28T09:10:17.662Z"
   },
   {
    "duration": 292,
    "start_time": "2021-06-28T09:10:41.027Z"
   },
   {
    "duration": 292,
    "start_time": "2021-06-28T09:11:06.030Z"
   },
   {
    "duration": 272,
    "start_time": "2021-06-28T09:11:17.985Z"
   },
   {
    "duration": 310,
    "start_time": "2021-06-28T09:12:22.142Z"
   },
   {
    "duration": 8,
    "start_time": "2021-06-28T09:13:08.893Z"
   },
   {
    "duration": 300,
    "start_time": "2021-06-28T09:16:02.841Z"
   },
   {
    "duration": 2044,
    "start_time": "2021-06-28T09:17:10.167Z"
   },
   {
    "duration": 20,
    "start_time": "2021-06-28T09:17:12.213Z"
   },
   {
    "duration": 8,
    "start_time": "2021-06-28T09:17:12.236Z"
   },
   {
    "duration": 5,
    "start_time": "2021-06-28T09:17:12.247Z"
   },
   {
    "duration": 16,
    "start_time": "2021-06-28T09:17:12.268Z"
   },
   {
    "duration": 14,
    "start_time": "2021-06-28T09:17:12.286Z"
   },
   {
    "duration": 13,
    "start_time": "2021-06-28T09:17:12.302Z"
   },
   {
    "duration": 69,
    "start_time": "2021-06-28T09:17:12.319Z"
   },
   {
    "duration": 10,
    "start_time": "2021-06-28T09:17:12.391Z"
   },
   {
    "duration": 17,
    "start_time": "2021-06-28T09:17:12.403Z"
   },
   {
    "duration": 618,
    "start_time": "2021-06-28T09:17:12.422Z"
   },
   {
    "duration": 12,
    "start_time": "2021-06-28T09:17:13.043Z"
   },
   {
    "duration": 13,
    "start_time": "2021-06-28T09:17:13.068Z"
   },
   {
    "duration": 32,
    "start_time": "2021-06-28T09:17:13.083Z"
   },
   {
    "duration": 7,
    "start_time": "2021-06-28T09:17:13.117Z"
   },
   {
    "duration": 51,
    "start_time": "2021-06-28T09:17:13.126Z"
   },
   {
    "duration": 196,
    "start_time": "2021-06-28T09:17:13.179Z"
   },
   {
    "duration": 11,
    "start_time": "2021-06-28T09:17:13.377Z"
   },
   {
    "duration": 496,
    "start_time": "2021-06-28T09:17:13.391Z"
   },
   {
    "duration": 6,
    "start_time": "2021-06-28T09:17:13.890Z"
   },
   {
    "duration": 8,
    "start_time": "2021-06-28T09:17:13.899Z"
   },
   {
    "duration": 10,
    "start_time": "2021-06-28T09:17:13.910Z"
   },
   {
    "duration": 39,
    "start_time": "2021-06-28T09:17:13.928Z"
   },
   {
    "duration": 15,
    "start_time": "2021-06-28T09:17:13.972Z"
   },
   {
    "duration": 10,
    "start_time": "2021-06-28T09:17:13.989Z"
   },
   {
    "duration": 11,
    "start_time": "2021-06-28T09:17:14.001Z"
   },
   {
    "duration": 56,
    "start_time": "2021-06-28T09:17:14.015Z"
   },
   {
    "duration": 8,
    "start_time": "2021-06-28T09:17:14.074Z"
   },
   {
    "duration": 90,
    "start_time": "2021-06-28T09:17:14.084Z"
   },
   {
    "duration": 484,
    "start_time": "2021-06-28T09:17:14.177Z"
   },
   {
    "duration": 339,
    "start_time": "2021-06-28T09:17:14.325Z"
   },
   {
    "duration": 332,
    "start_time": "2021-06-28T09:17:14.333Z"
   },
   {
    "duration": 327,
    "start_time": "2021-06-28T09:17:14.339Z"
   },
   {
    "duration": 242,
    "start_time": "2021-06-28T09:17:14.425Z"
   },
   {
    "duration": 227,
    "start_time": "2021-06-28T09:17:14.441Z"
   },
   {
    "duration": 214,
    "start_time": "2021-06-28T09:17:14.456Z"
   },
   {
    "duration": 200,
    "start_time": "2021-06-28T09:17:14.471Z"
   },
   {
    "duration": 186,
    "start_time": "2021-06-28T09:17:14.486Z"
   },
   {
    "duration": 180,
    "start_time": "2021-06-28T09:17:14.493Z"
   },
   {
    "duration": 166,
    "start_time": "2021-06-28T09:17:14.508Z"
   },
   {
    "duration": 161,
    "start_time": "2021-06-28T09:17:14.515Z"
   },
   {
    "duration": 157,
    "start_time": "2021-06-28T09:17:14.521Z"
   },
   {
    "duration": 149,
    "start_time": "2021-06-28T09:17:14.530Z"
   },
   {
    "duration": 144,
    "start_time": "2021-06-28T09:17:14.536Z"
   },
   {
    "duration": 136,
    "start_time": "2021-06-28T09:17:14.545Z"
   },
   {
    "duration": 132,
    "start_time": "2021-06-28T09:17:14.551Z"
   },
   {
    "duration": 124,
    "start_time": "2021-06-28T09:17:14.560Z"
   },
   {
    "duration": 118,
    "start_time": "2021-06-28T09:17:14.568Z"
   },
   {
    "duration": 111,
    "start_time": "2021-06-28T09:17:14.576Z"
   },
   {
    "duration": 105,
    "start_time": "2021-06-28T09:17:14.584Z"
   },
   {
    "duration": 100,
    "start_time": "2021-06-28T09:17:14.591Z"
   },
   {
    "duration": 95,
    "start_time": "2021-06-28T09:17:14.597Z"
   },
   {
    "duration": 91,
    "start_time": "2021-06-28T09:17:14.602Z"
   },
   {
    "duration": 76,
    "start_time": "2021-06-28T09:17:14.619Z"
   },
   {
    "duration": 55,
    "start_time": "2021-06-28T09:17:14.641Z"
   },
   {
    "duration": 23,
    "start_time": "2021-06-28T09:17:14.674Z"
   },
   {
    "duration": 19,
    "start_time": "2021-06-28T09:17:14.680Z"
   },
   {
    "duration": 13,
    "start_time": "2021-06-28T09:17:14.687Z"
   },
   {
    "duration": 6,
    "start_time": "2021-06-28T09:17:14.695Z"
   },
   {
    "duration": 2,
    "start_time": "2021-06-28T09:17:14.701Z"
   },
   {
    "duration": -3,
    "start_time": "2021-06-28T09:17:14.707Z"
   },
   {
    "duration": -29,
    "start_time": "2021-06-28T09:17:14.734Z"
   },
   {
    "duration": -33,
    "start_time": "2021-06-28T09:17:14.740Z"
   },
   {
    "duration": -37,
    "start_time": "2021-06-28T09:17:14.745Z"
   },
   {
    "duration": -42,
    "start_time": "2021-06-28T09:17:14.751Z"
   },
   {
    "duration": 9,
    "start_time": "2021-06-28T09:17:14.757Z"
   },
   {
    "duration": 5,
    "start_time": "2021-06-28T09:17:14.763Z"
   },
   {
    "duration": 2,
    "start_time": "2021-06-28T09:17:14.768Z"
   },
   {
    "duration": -3,
    "start_time": "2021-06-28T09:17:14.774Z"
   },
   {
    "duration": -9,
    "start_time": "2021-06-28T09:17:14.781Z"
   },
   {
    "duration": -16,
    "start_time": "2021-06-28T09:17:14.790Z"
   },
   {
    "duration": -21,
    "start_time": "2021-06-28T09:17:14.796Z"
   },
   {
    "duration": -26,
    "start_time": "2021-06-28T09:17:14.802Z"
   },
   {
    "duration": -30,
    "start_time": "2021-06-28T09:17:14.808Z"
   },
   {
    "duration": -35,
    "start_time": "2021-06-28T09:17:14.814Z"
   },
   {
    "duration": -40,
    "start_time": "2021-06-28T09:17:14.821Z"
   },
   {
    "duration": 306,
    "start_time": "2021-06-28T09:17:29.869Z"
   },
   {
    "duration": 397,
    "start_time": "2021-06-28T09:17:34.104Z"
   },
   {
    "duration": 84,
    "start_time": "2021-06-28T09:18:46.564Z"
   },
   {
    "duration": 5,
    "start_time": "2021-06-28T09:18:48.993Z"
   },
   {
    "duration": 6,
    "start_time": "2021-06-28T09:18:49.790Z"
   },
   {
    "duration": 279,
    "start_time": "2021-06-28T09:20:48.713Z"
   },
   {
    "duration": 628,
    "start_time": "2021-06-28T09:23:23.217Z"
   },
   {
    "duration": 262,
    "start_time": "2021-06-28T09:23:37.956Z"
   },
   {
    "duration": 10,
    "start_time": "2021-06-28T09:24:29.743Z"
   },
   {
    "duration": 2049,
    "start_time": "2021-06-28T09:25:10.072Z"
   },
   {
    "duration": 22,
    "start_time": "2021-06-28T09:25:12.124Z"
   },
   {
    "duration": 8,
    "start_time": "2021-06-28T09:25:12.150Z"
   },
   {
    "duration": 5,
    "start_time": "2021-06-28T09:25:12.168Z"
   },
   {
    "duration": 16,
    "start_time": "2021-06-28T09:25:12.175Z"
   },
   {
    "duration": 11,
    "start_time": "2021-06-28T09:25:12.194Z"
   },
   {
    "duration": 8,
    "start_time": "2021-06-28T09:25:12.207Z"
   },
   {
    "duration": 74,
    "start_time": "2021-06-28T09:25:12.219Z"
   },
   {
    "duration": 10,
    "start_time": "2021-06-28T09:25:12.296Z"
   },
   {
    "duration": 16,
    "start_time": "2021-06-28T09:25:12.309Z"
   },
   {
    "duration": 614,
    "start_time": "2021-06-28T09:25:12.328Z"
   },
   {
    "duration": 13,
    "start_time": "2021-06-28T09:25:12.944Z"
   },
   {
    "duration": 14,
    "start_time": "2021-06-28T09:25:12.968Z"
   },
   {
    "duration": 34,
    "start_time": "2021-06-28T09:25:12.985Z"
   },
   {
    "duration": 7,
    "start_time": "2021-06-28T09:25:13.021Z"
   },
   {
    "duration": 49,
    "start_time": "2021-06-28T09:25:13.030Z"
   },
   {
    "duration": 208,
    "start_time": "2021-06-28T09:25:13.081Z"
   },
   {
    "duration": 12,
    "start_time": "2021-06-28T09:25:13.291Z"
   },
   {
    "duration": 514,
    "start_time": "2021-06-28T09:25:13.305Z"
   },
   {
    "duration": 6,
    "start_time": "2021-06-28T09:25:13.822Z"
   },
   {
    "duration": 6,
    "start_time": "2021-06-28T09:25:13.831Z"
   },
   {
    "duration": 30,
    "start_time": "2021-06-28T09:25:13.840Z"
   },
   {
    "duration": 5,
    "start_time": "2021-06-28T09:25:13.876Z"
   },
   {
    "duration": 14,
    "start_time": "2021-06-28T09:25:13.885Z"
   },
   {
    "duration": 10,
    "start_time": "2021-06-28T09:25:13.901Z"
   },
   {
    "duration": 9,
    "start_time": "2021-06-28T09:25:13.913Z"
   },
   {
    "duration": 48,
    "start_time": "2021-06-28T09:25:13.924Z"
   },
   {
    "duration": 8,
    "start_time": "2021-06-28T09:25:13.974Z"
   },
   {
    "duration": 97,
    "start_time": "2021-06-28T09:25:13.984Z"
   },
   {
    "duration": 513,
    "start_time": "2021-06-28T09:25:14.084Z"
   },
   {
    "duration": 294,
    "start_time": "2021-06-28T09:25:14.307Z"
   },
   {
    "duration": 287,
    "start_time": "2021-06-28T09:25:14.315Z"
   },
   {
    "duration": 282,
    "start_time": "2021-06-28T09:25:14.321Z"
   },
   {
    "duration": 279,
    "start_time": "2021-06-28T09:25:14.326Z"
   },
   {
    "duration": 273,
    "start_time": "2021-06-28T09:25:14.333Z"
   },
   {
    "duration": 269,
    "start_time": "2021-06-28T09:25:14.338Z"
   },
   {
    "duration": 263,
    "start_time": "2021-06-28T09:25:14.345Z"
   },
   {
    "duration": 260,
    "start_time": "2021-06-28T09:25:14.350Z"
   },
   {
    "duration": 254,
    "start_time": "2021-06-28T09:25:14.357Z"
   },
   {
    "duration": 249,
    "start_time": "2021-06-28T09:25:14.363Z"
   },
   {
    "duration": 232,
    "start_time": "2021-06-28T09:25:14.381Z"
   },
   {
    "duration": 229,
    "start_time": "2021-06-28T09:25:14.386Z"
   },
   {
    "duration": 220,
    "start_time": "2021-06-28T09:25:14.396Z"
   },
   {
    "duration": 214,
    "start_time": "2021-06-28T09:25:14.403Z"
   },
   {
    "duration": 210,
    "start_time": "2021-06-28T09:25:14.409Z"
   },
   {
    "duration": 205,
    "start_time": "2021-06-28T09:25:14.415Z"
   },
   {
    "duration": 201,
    "start_time": "2021-06-28T09:25:14.420Z"
   },
   {
    "duration": 197,
    "start_time": "2021-06-28T09:25:14.426Z"
   },
   {
    "duration": 191,
    "start_time": "2021-06-28T09:25:14.433Z"
   },
   {
    "duration": 187,
    "start_time": "2021-06-28T09:25:14.439Z"
   },
   {
    "duration": 182,
    "start_time": "2021-06-28T09:25:14.445Z"
   },
   {
    "duration": 179,
    "start_time": "2021-06-28T09:25:14.450Z"
   },
   {
    "duration": 174,
    "start_time": "2021-06-28T09:25:14.456Z"
   },
   {
    "duration": 168,
    "start_time": "2021-06-28T09:25:14.463Z"
   },
   {
    "duration": 162,
    "start_time": "2021-06-28T09:25:14.470Z"
   },
   {
    "duration": 157,
    "start_time": "2021-06-28T09:25:14.477Z"
   },
   {
    "duration": 141,
    "start_time": "2021-06-28T09:25:14.494Z"
   },
   {
    "duration": 134,
    "start_time": "2021-06-28T09:25:14.502Z"
   },
   {
    "duration": 125,
    "start_time": "2021-06-28T09:25:14.512Z"
   },
   {
    "duration": 149,
    "start_time": "2021-06-28T09:25:14.518Z"
   },
   {
    "duration": 145,
    "start_time": "2021-06-28T09:25:14.524Z"
   },
   {
    "duration": 140,
    "start_time": "2021-06-28T09:25:14.531Z"
   },
   {
    "duration": 116,
    "start_time": "2021-06-28T09:25:14.557Z"
   },
   {
    "duration": 111,
    "start_time": "2021-06-28T09:25:14.563Z"
   },
   {
    "duration": 65,
    "start_time": "2021-06-28T09:25:14.611Z"
   },
   {
    "duration": 46,
    "start_time": "2021-06-28T09:25:14.631Z"
   },
   {
    "duration": 42,
    "start_time": "2021-06-28T09:25:14.637Z"
   },
   {
    "duration": 36,
    "start_time": "2021-06-28T09:25:14.645Z"
   },
   {
    "duration": 29,
    "start_time": "2021-06-28T09:25:14.653Z"
   },
   {
    "duration": 25,
    "start_time": "2021-06-28T09:25:14.659Z"
   },
   {
    "duration": 20,
    "start_time": "2021-06-28T09:25:14.665Z"
   },
   {
    "duration": 9,
    "start_time": "2021-06-28T09:25:14.678Z"
   },
   {
    "duration": 5,
    "start_time": "2021-06-28T09:25:14.683Z"
   },
   {
    "duration": 1,
    "start_time": "2021-06-28T09:25:14.688Z"
   },
   {
    "duration": -7,
    "start_time": "2021-06-28T09:25:14.698Z"
   },
   {
    "duration": -11,
    "start_time": "2021-06-28T09:25:14.703Z"
   },
   {
    "duration": -25,
    "start_time": "2021-06-28T09:25:14.719Z"
   },
   {
    "duration": 305,
    "start_time": "2021-06-28T09:27:51.004Z"
   },
   {
    "duration": 72,
    "start_time": "2021-06-28T09:28:02.358Z"
   },
   {
    "duration": 334,
    "start_time": "2021-06-28T09:28:03.596Z"
   },
   {
    "duration": 81,
    "start_time": "2021-06-28T09:29:20.535Z"
   },
   {
    "duration": 304,
    "start_time": "2021-06-28T09:29:21.793Z"
   },
   {
    "duration": 281,
    "start_time": "2021-06-28T09:30:40.257Z"
   },
   {
    "duration": 71,
    "start_time": "2021-06-28T09:33:27.344Z"
   },
   {
    "duration": 331,
    "start_time": "2021-06-28T09:33:29.153Z"
   },
   {
    "duration": 370,
    "start_time": "2021-06-28T09:33:54.305Z"
   },
   {
    "duration": 66,
    "start_time": "2021-06-28T09:36:09.555Z"
   },
   {
    "duration": 359,
    "start_time": "2021-06-28T09:36:11.677Z"
   },
   {
    "duration": 297,
    "start_time": "2021-06-28T09:37:00.944Z"
   },
   {
    "duration": 65,
    "start_time": "2021-06-28T09:39:41.111Z"
   },
   {
    "duration": 271,
    "start_time": "2021-06-28T09:39:42.500Z"
   },
   {
    "duration": 2021,
    "start_time": "2021-06-28T09:40:26.320Z"
   },
   {
    "duration": 20,
    "start_time": "2021-06-28T09:40:28.343Z"
   },
   {
    "duration": 9,
    "start_time": "2021-06-28T09:40:28.366Z"
   },
   {
    "duration": 7,
    "start_time": "2021-06-28T09:40:28.378Z"
   },
   {
    "duration": 18,
    "start_time": "2021-06-28T09:40:28.388Z"
   },
   {
    "duration": 11,
    "start_time": "2021-06-28T09:40:28.408Z"
   },
   {
    "duration": 51,
    "start_time": "2021-06-28T09:40:28.422Z"
   },
   {
    "duration": 33,
    "start_time": "2021-06-28T09:40:28.476Z"
   },
   {
    "duration": 9,
    "start_time": "2021-06-28T09:40:28.512Z"
   },
   {
    "duration": 52,
    "start_time": "2021-06-28T09:40:28.523Z"
   },
   {
    "duration": 603,
    "start_time": "2021-06-28T09:40:28.577Z"
   },
   {
    "duration": 12,
    "start_time": "2021-06-28T09:40:29.183Z"
   },
   {
    "duration": 16,
    "start_time": "2021-06-28T09:40:29.198Z"
   },
   {
    "duration": 62,
    "start_time": "2021-06-28T09:40:29.217Z"
   },
   {
    "duration": 7,
    "start_time": "2021-06-28T09:40:29.281Z"
   },
   {
    "duration": 22,
    "start_time": "2021-06-28T09:40:29.291Z"
   },
   {
    "duration": 217,
    "start_time": "2021-06-28T09:40:29.315Z"
   },
   {
    "duration": 11,
    "start_time": "2021-06-28T09:40:29.534Z"
   },
   {
    "duration": 464,
    "start_time": "2021-06-28T09:40:29.548Z"
   },
   {
    "duration": 6,
    "start_time": "2021-06-28T09:40:30.014Z"
   },
   {
    "duration": 22,
    "start_time": "2021-06-28T09:40:30.023Z"
   },
   {
    "duration": 26,
    "start_time": "2021-06-28T09:40:30.048Z"
   },
   {
    "duration": 13,
    "start_time": "2021-06-28T09:40:30.080Z"
   },
   {
    "duration": 17,
    "start_time": "2021-06-28T09:40:30.097Z"
   },
   {
    "duration": 11,
    "start_time": "2021-06-28T09:40:30.117Z"
   },
   {
    "duration": 27,
    "start_time": "2021-06-28T09:40:30.131Z"
   },
   {
    "duration": 8,
    "start_time": "2021-06-28T09:40:30.168Z"
   },
   {
    "duration": 11,
    "start_time": "2021-06-28T09:40:30.178Z"
   },
   {
    "duration": 91,
    "start_time": "2021-06-28T09:40:30.191Z"
   },
   {
    "duration": 468,
    "start_time": "2021-06-28T09:40:30.284Z"
   },
   {
    "duration": 292,
    "start_time": "2021-06-28T09:40:30.463Z"
   },
   {
    "duration": 283,
    "start_time": "2021-06-28T09:40:30.473Z"
   },
   {
    "duration": 276,
    "start_time": "2021-06-28T09:40:30.482Z"
   },
   {
    "duration": 272,
    "start_time": "2021-06-28T09:40:30.487Z"
   },
   {
    "duration": 267,
    "start_time": "2021-06-28T09:40:30.494Z"
   },
   {
    "duration": 263,
    "start_time": "2021-06-28T09:40:30.499Z"
   },
   {
    "duration": 259,
    "start_time": "2021-06-28T09:40:30.505Z"
   },
   {
    "duration": 255,
    "start_time": "2021-06-28T09:40:30.510Z"
   },
   {
    "duration": 251,
    "start_time": "2021-06-28T09:40:30.516Z"
   },
   {
    "duration": 246,
    "start_time": "2021-06-28T09:40:30.522Z"
   },
   {
    "duration": 238,
    "start_time": "2021-06-28T09:40:30.531Z"
   },
   {
    "duration": 231,
    "start_time": "2021-06-28T09:40:30.539Z"
   },
   {
    "duration": 223,
    "start_time": "2021-06-28T09:40:30.549Z"
   },
   {
    "duration": 218,
    "start_time": "2021-06-28T09:40:30.555Z"
   },
   {
    "duration": 199,
    "start_time": "2021-06-28T09:40:30.575Z"
   },
   {
    "duration": 193,
    "start_time": "2021-06-28T09:40:30.583Z"
   },
   {
    "duration": 187,
    "start_time": "2021-06-28T09:40:30.590Z"
   },
   {
    "duration": 182,
    "start_time": "2021-06-28T09:40:30.596Z"
   },
   {
    "duration": 177,
    "start_time": "2021-06-28T09:40:30.602Z"
   },
   {
    "duration": 170,
    "start_time": "2021-06-28T09:40:30.611Z"
   },
   {
    "duration": 166,
    "start_time": "2021-06-28T09:40:30.616Z"
   },
   {
    "duration": 160,
    "start_time": "2021-06-28T09:40:30.624Z"
   },
   {
    "duration": 45,
    "start_time": "2021-06-28T09:40:30.740Z"
   },
   {
    "duration": 40,
    "start_time": "2021-06-28T09:40:30.746Z"
   },
   {
    "duration": 36,
    "start_time": "2021-06-28T09:40:30.752Z"
   },
   {
    "duration": 32,
    "start_time": "2021-06-28T09:40:30.757Z"
   },
   {
    "duration": 24,
    "start_time": "2021-06-28T09:40:30.766Z"
   },
   {
    "duration": 19,
    "start_time": "2021-06-28T09:40:30.773Z"
   },
   {
    "duration": 14,
    "start_time": "2021-06-28T09:40:30.779Z"
   },
   {
    "duration": 10,
    "start_time": "2021-06-28T09:40:30.785Z"
   },
   {
    "duration": 5,
    "start_time": "2021-06-28T09:40:30.791Z"
   },
   {
    "duration": 2,
    "start_time": "2021-06-28T09:40:30.796Z"
   },
   {
    "duration": -27,
    "start_time": "2021-06-28T09:40:30.826Z"
   },
   {
    "duration": -32,
    "start_time": "2021-06-28T09:40:30.832Z"
   },
   {
    "duration": -37,
    "start_time": "2021-06-28T09:40:30.838Z"
   },
   {
    "duration": -42,
    "start_time": "2021-06-28T09:40:30.844Z"
   },
   {
    "duration": -45,
    "start_time": "2021-06-28T09:40:30.849Z"
   },
   {
    "duration": -49,
    "start_time": "2021-06-28T09:40:30.854Z"
   },
   {
    "duration": -54,
    "start_time": "2021-06-28T09:40:30.860Z"
   },
   {
    "duration": -56,
    "start_time": "2021-06-28T09:40:30.864Z"
   },
   {
    "duration": 3,
    "start_time": "2021-06-28T09:40:30.871Z"
   },
   {
    "duration": -3,
    "start_time": "2021-06-28T09:40:30.879Z"
   },
   {
    "duration": -9,
    "start_time": "2021-06-28T09:40:30.886Z"
   },
   {
    "duration": -13,
    "start_time": "2021-06-28T09:40:30.891Z"
   },
   {
    "duration": -16,
    "start_time": "2021-06-28T09:40:30.896Z"
   },
   {
    "duration": -21,
    "start_time": "2021-06-28T09:40:30.902Z"
   },
   {
    "duration": -24,
    "start_time": "2021-06-28T09:40:30.907Z"
   },
   {
    "duration": 67,
    "start_time": "2021-06-28T09:42:38.658Z"
   },
   {
    "duration": 325,
    "start_time": "2021-06-28T09:42:40.194Z"
   },
   {
    "duration": 270,
    "start_time": "2021-06-28T09:43:35.256Z"
   },
   {
    "duration": 301,
    "start_time": "2021-06-28T09:45:24.874Z"
   },
   {
    "duration": 2045,
    "start_time": "2021-06-28T09:47:08.783Z"
   },
   {
    "duration": 21,
    "start_time": "2021-06-28T09:47:10.830Z"
   },
   {
    "duration": 8,
    "start_time": "2021-06-28T09:47:10.855Z"
   },
   {
    "duration": 5,
    "start_time": "2021-06-28T09:47:10.868Z"
   },
   {
    "duration": 16,
    "start_time": "2021-06-28T09:47:10.876Z"
   },
   {
    "duration": 15,
    "start_time": "2021-06-28T09:47:10.894Z"
   },
   {
    "duration": 8,
    "start_time": "2021-06-28T09:47:10.911Z"
   },
   {
    "duration": 71,
    "start_time": "2021-06-28T09:47:10.922Z"
   },
   {
    "duration": 9,
    "start_time": "2021-06-28T09:47:10.997Z"
   },
   {
    "duration": 16,
    "start_time": "2021-06-28T09:47:11.009Z"
   },
   {
    "duration": 611,
    "start_time": "2021-06-28T09:47:11.027Z"
   },
   {
    "duration": 13,
    "start_time": "2021-06-28T09:47:11.640Z"
   },
   {
    "duration": 14,
    "start_time": "2021-06-28T09:47:11.667Z"
   },
   {
    "duration": 35,
    "start_time": "2021-06-28T09:47:11.683Z"
   },
   {
    "duration": 8,
    "start_time": "2021-06-28T09:47:11.720Z"
   },
   {
    "duration": 48,
    "start_time": "2021-06-28T09:47:11.731Z"
   },
   {
    "duration": 202,
    "start_time": "2021-06-28T09:47:11.781Z"
   },
   {
    "duration": 12,
    "start_time": "2021-06-28T09:47:11.985Z"
   },
   {
    "duration": 495,
    "start_time": "2021-06-28T09:47:12.000Z"
   },
   {
    "duration": 7,
    "start_time": "2021-06-28T09:47:12.498Z"
   },
   {
    "duration": 9,
    "start_time": "2021-06-28T09:47:12.508Z"
   },
   {
    "duration": 14,
    "start_time": "2021-06-28T09:47:12.520Z"
   },
   {
    "duration": 31,
    "start_time": "2021-06-28T09:47:12.536Z"
   },
   {
    "duration": 14,
    "start_time": "2021-06-28T09:47:12.570Z"
   },
   {
    "duration": 12,
    "start_time": "2021-06-28T09:47:12.587Z"
   },
   {
    "duration": 23,
    "start_time": "2021-06-28T09:47:12.603Z"
   },
   {
    "duration": 9,
    "start_time": "2021-06-28T09:47:12.667Z"
   },
   {
    "duration": 9,
    "start_time": "2021-06-28T09:47:12.679Z"
   },
   {
    "duration": 101,
    "start_time": "2021-06-28T09:47:12.691Z"
   },
   {
    "duration": 303,
    "start_time": "2021-06-28T09:47:12.794Z"
   },
   {
    "duration": 93,
    "start_time": "2021-06-28T09:47:13.099Z"
   },
   {
    "duration": 327,
    "start_time": "2021-06-28T09:47:12.868Z"
   },
   {
    "duration": 321,
    "start_time": "2021-06-28T09:47:12.875Z"
   },
   {
    "duration": 317,
    "start_time": "2021-06-28T09:47:12.881Z"
   },
   {
    "duration": 312,
    "start_time": "2021-06-28T09:47:12.887Z"
   },
   {
    "duration": 278,
    "start_time": "2021-06-28T09:47:12.923Z"
   },
   {
    "duration": 270,
    "start_time": "2021-06-28T09:47:12.932Z"
   },
   {
    "duration": 265,
    "start_time": "2021-06-28T09:47:12.938Z"
   },
   {
    "duration": 261,
    "start_time": "2021-06-28T09:47:12.944Z"
   },
   {
    "duration": 257,
    "start_time": "2021-06-28T09:47:12.949Z"
   },
   {
    "duration": 251,
    "start_time": "2021-06-28T09:47:12.956Z"
   },
   {
    "duration": 245,
    "start_time": "2021-06-28T09:47:12.964Z"
   },
   {
    "duration": 238,
    "start_time": "2021-06-28T09:47:12.972Z"
   },
   {
    "duration": 230,
    "start_time": "2021-06-28T09:47:12.981Z"
   },
   {
    "duration": 224,
    "start_time": "2021-06-28T09:47:12.989Z"
   },
   {
    "duration": 218,
    "start_time": "2021-06-28T09:47:12.996Z"
   },
   {
    "duration": 214,
    "start_time": "2021-06-28T09:47:13.002Z"
   },
   {
    "duration": 209,
    "start_time": "2021-06-28T09:47:13.008Z"
   },
   {
    "duration": 204,
    "start_time": "2021-06-28T09:47:13.014Z"
   },
   {
    "duration": 201,
    "start_time": "2021-06-28T09:47:13.019Z"
   },
   {
    "duration": 184,
    "start_time": "2021-06-28T09:47:13.037Z"
   },
   {
    "duration": 158,
    "start_time": "2021-06-28T09:47:13.064Z"
   },
   {
    "duration": 155,
    "start_time": "2021-06-28T09:47:13.069Z"
   },
   {
    "duration": 150,
    "start_time": "2021-06-28T09:47:13.075Z"
   },
   {
    "duration": 145,
    "start_time": "2021-06-28T09:47:13.082Z"
   },
   {
    "duration": 139,
    "start_time": "2021-06-28T09:47:13.089Z"
   },
   {
    "duration": 134,
    "start_time": "2021-06-28T09:47:13.095Z"
   },
   {
    "duration": 131,
    "start_time": "2021-06-28T09:47:13.100Z"
   },
   {
    "duration": 162,
    "start_time": "2021-06-28T09:47:13.105Z"
   },
   {
    "duration": 157,
    "start_time": "2021-06-28T09:47:13.111Z"
   },
   {
    "duration": 154,
    "start_time": "2021-06-28T09:47:13.116Z"
   },
   {
    "duration": 151,
    "start_time": "2021-06-28T09:47:13.121Z"
   },
   {
    "duration": 145,
    "start_time": "2021-06-28T09:47:13.128Z"
   },
   {
    "duration": 141,
    "start_time": "2021-06-28T09:47:13.133Z"
   },
   {
    "duration": 126,
    "start_time": "2021-06-28T09:47:13.150Z"
   },
   {
    "duration": 123,
    "start_time": "2021-06-28T09:47:13.155Z"
   },
   {
    "duration": 116,
    "start_time": "2021-06-28T09:47:13.163Z"
   },
   {
    "duration": 111,
    "start_time": "2021-06-28T09:47:13.169Z"
   },
   {
    "duration": 107,
    "start_time": "2021-06-28T09:47:13.174Z"
   },
   {
    "duration": 103,
    "start_time": "2021-06-28T09:47:13.180Z"
   },
   {
    "duration": 98,
    "start_time": "2021-06-28T09:47:13.186Z"
   },
   {
    "duration": 94,
    "start_time": "2021-06-28T09:47:13.192Z"
   },
   {
    "duration": 73,
    "start_time": "2021-06-28T09:47:13.214Z"
   },
   {
    "duration": 60,
    "start_time": "2021-06-28T09:47:13.228Z"
   },
   {
    "duration": 45,
    "start_time": "2021-06-28T09:47:13.244Z"
   },
   {
    "duration": 24,
    "start_time": "2021-06-28T09:47:13.266Z"
   },
   {
    "duration": 21,
    "start_time": "2021-06-28T09:47:13.271Z"
   },
   {
    "duration": 17,
    "start_time": "2021-06-28T09:47:13.276Z"
   },
   {
    "duration": 375,
    "start_time": "2021-06-28T09:47:38.877Z"
   },
   {
    "duration": 274,
    "start_time": "2021-06-28T09:48:01.658Z"
   },
   {
    "duration": 263,
    "start_time": "2021-06-28T09:48:11.953Z"
   },
   {
    "duration": 266,
    "start_time": "2021-06-28T09:48:24.742Z"
   },
   {
    "duration": 278,
    "start_time": "2021-06-28T09:48:34.258Z"
   },
   {
    "duration": 292,
    "start_time": "2021-06-28T09:49:12.177Z"
   },
   {
    "duration": 278,
    "start_time": "2021-06-28T09:50:44.771Z"
   },
   {
    "duration": 8,
    "start_time": "2021-06-28T09:50:54.697Z"
   },
   {
    "duration": 267,
    "start_time": "2021-06-28T09:51:28.738Z"
   },
   {
    "duration": 276,
    "start_time": "2021-06-28T09:53:25.212Z"
   },
   {
    "duration": 6,
    "start_time": "2021-06-28T09:53:42.792Z"
   },
   {
    "duration": 9,
    "start_time": "2021-06-28T09:56:08.352Z"
   },
   {
    "duration": 272,
    "start_time": "2021-06-28T09:56:09.476Z"
   },
   {
    "duration": 10,
    "start_time": "2021-06-28T09:56:24.905Z"
   },
   {
    "duration": 276,
    "start_time": "2021-06-28T09:56:28.496Z"
   },
   {
    "duration": 70,
    "start_time": "2021-06-28T09:56:51.257Z"
   },
   {
    "duration": 6,
    "start_time": "2021-06-28T09:57:37.292Z"
   },
   {
    "duration": 5,
    "start_time": "2021-06-28T09:57:43.775Z"
   },
   {
    "duration": 72,
    "start_time": "2021-06-28T09:57:59.272Z"
   },
   {
    "duration": 571,
    "start_time": "2021-06-28T09:58:12.854Z"
   },
   {
    "duration": 261,
    "start_time": "2021-06-28T09:58:15.832Z"
   },
   {
    "duration": 266,
    "start_time": "2021-06-28T09:58:32.657Z"
   },
   {
    "duration": 1081,
    "start_time": "2021-06-28T09:59:29.814Z"
   },
   {
    "duration": 249,
    "start_time": "2021-06-28T09:59:36.310Z"
   },
   {
    "duration": 70,
    "start_time": "2021-06-28T10:00:16.466Z"
   },
   {
    "duration": 282,
    "start_time": "2021-06-28T10:00:16.914Z"
   },
   {
    "duration": 9,
    "start_time": "2021-06-28T10:01:13.028Z"
   },
   {
    "duration": 107,
    "start_time": "2021-06-28T10:20:32.344Z"
   },
   {
    "duration": 106,
    "start_time": "2021-06-28T10:31:09.509Z"
   },
   {
    "duration": 14,
    "start_time": "2021-06-28T10:39:42.419Z"
   },
   {
    "duration": 96,
    "start_time": "2021-06-28T10:41:29.550Z"
   },
   {
    "duration": 133,
    "start_time": "2021-06-28T11:33:04.428Z"
   },
   {
    "duration": 518,
    "start_time": "2021-06-28T11:37:10.285Z"
   },
   {
    "duration": 2010,
    "start_time": "2021-06-28T11:39:24.526Z"
   },
   {
    "duration": 19,
    "start_time": "2021-06-28T11:39:26.539Z"
   },
   {
    "duration": 12,
    "start_time": "2021-06-28T11:39:26.561Z"
   },
   {
    "duration": 6,
    "start_time": "2021-06-28T11:39:26.576Z"
   },
   {
    "duration": 17,
    "start_time": "2021-06-28T11:39:26.584Z"
   },
   {
    "duration": 11,
    "start_time": "2021-06-28T11:39:26.603Z"
   },
   {
    "duration": 8,
    "start_time": "2021-06-28T11:39:26.617Z"
   },
   {
    "duration": 31,
    "start_time": "2021-06-28T11:39:26.670Z"
   },
   {
    "duration": 9,
    "start_time": "2021-06-28T11:39:26.704Z"
   },
   {
    "duration": 52,
    "start_time": "2021-06-28T11:39:26.716Z"
   },
   {
    "duration": 601,
    "start_time": "2021-06-28T11:39:26.771Z"
   },
   {
    "duration": 14,
    "start_time": "2021-06-28T11:39:27.374Z"
   },
   {
    "duration": 17,
    "start_time": "2021-06-28T11:39:27.390Z"
   },
   {
    "duration": 71,
    "start_time": "2021-06-28T11:39:27.409Z"
   },
   {
    "duration": 6,
    "start_time": "2021-06-28T11:39:27.483Z"
   },
   {
    "duration": 20,
    "start_time": "2021-06-28T11:39:27.492Z"
   },
   {
    "duration": 211,
    "start_time": "2021-06-28T11:39:27.515Z"
   },
   {
    "duration": 14,
    "start_time": "2021-06-28T11:39:27.729Z"
   },
   {
    "duration": 463,
    "start_time": "2021-06-28T11:39:27.746Z"
   },
   {
    "duration": 7,
    "start_time": "2021-06-28T11:39:28.212Z"
   },
   {
    "duration": 7,
    "start_time": "2021-06-28T11:39:28.222Z"
   },
   {
    "duration": 15,
    "start_time": "2021-06-28T11:39:28.231Z"
   },
   {
    "duration": 6,
    "start_time": "2021-06-28T11:39:28.268Z"
   },
   {
    "duration": 15,
    "start_time": "2021-06-28T11:39:28.277Z"
   },
   {
    "duration": 7,
    "start_time": "2021-06-28T11:39:28.294Z"
   },
   {
    "duration": 12,
    "start_time": "2021-06-28T11:39:28.303Z"
   },
   {
    "duration": 50,
    "start_time": "2021-06-28T11:39:28.317Z"
   },
   {
    "duration": 7,
    "start_time": "2021-06-28T11:39:28.369Z"
   },
   {
    "duration": 90,
    "start_time": "2021-06-28T11:39:28.379Z"
   },
   {
    "duration": 290,
    "start_time": "2021-06-28T11:39:28.471Z"
   },
   {
    "duration": 442,
    "start_time": "2021-06-28T11:39:28.767Z"
   },
   {
    "duration": 148,
    "start_time": "2021-06-28T11:39:29.212Z"
   },
   {
    "duration": 935,
    "start_time": "2021-06-28T11:39:28.428Z"
   },
   {
    "duration": 925,
    "start_time": "2021-06-28T11:39:28.439Z"
   },
   {
    "duration": 917,
    "start_time": "2021-06-28T11:39:28.448Z"
   },
   {
    "duration": 907,
    "start_time": "2021-06-28T11:39:28.460Z"
   },
   {
    "duration": 898,
    "start_time": "2021-06-28T11:39:28.470Z"
   },
   {
    "duration": 889,
    "start_time": "2021-06-28T11:39:28.480Z"
   },
   {
    "duration": 880,
    "start_time": "2021-06-28T11:39:28.491Z"
   },
   {
    "duration": 870,
    "start_time": "2021-06-28T11:39:28.502Z"
   },
   {
    "duration": 842,
    "start_time": "2021-06-28T11:39:28.531Z"
   },
   {
    "duration": 832,
    "start_time": "2021-06-28T11:39:28.543Z"
   },
   {
    "duration": 823,
    "start_time": "2021-06-28T11:39:28.553Z"
   },
   {
    "duration": 813,
    "start_time": "2021-06-28T11:39:28.564Z"
   },
   {
    "duration": 804,
    "start_time": "2021-06-28T11:39:28.575Z"
   },
   {
    "duration": 794,
    "start_time": "2021-06-28T11:39:28.586Z"
   },
   {
    "duration": 786,
    "start_time": "2021-06-28T11:39:28.596Z"
   },
   {
    "duration": 775,
    "start_time": "2021-06-28T11:39:28.608Z"
   },
   {
    "duration": 761,
    "start_time": "2021-06-28T11:39:28.623Z"
   },
   {
    "duration": 734,
    "start_time": "2021-06-28T11:39:28.652Z"
   },
   {
    "duration": 726,
    "start_time": "2021-06-28T11:39:28.661Z"
   },
   {
    "duration": 720,
    "start_time": "2021-06-28T11:39:28.669Z"
   },
   {
    "duration": 716,
    "start_time": "2021-06-28T11:39:28.674Z"
   },
   {
    "duration": 711,
    "start_time": "2021-06-28T11:39:28.680Z"
   },
   {
    "duration": 707,
    "start_time": "2021-06-28T11:39:28.686Z"
   },
   {
    "duration": 701,
    "start_time": "2021-06-28T11:39:28.693Z"
   },
   {
    "duration": 692,
    "start_time": "2021-06-28T11:39:28.703Z"
   },
   {
    "duration": 687,
    "start_time": "2021-06-28T11:39:28.710Z"
   },
   {
    "duration": 682,
    "start_time": "2021-06-28T11:39:28.716Z"
   },
   {
    "duration": 677,
    "start_time": "2021-06-28T11:39:28.722Z"
   },
   {
    "duration": 673,
    "start_time": "2021-06-28T11:39:28.728Z"
   },
   {
    "duration": 668,
    "start_time": "2021-06-28T11:39:28.734Z"
   },
   {
    "duration": 663,
    "start_time": "2021-06-28T11:39:28.740Z"
   },
   {
    "duration": 647,
    "start_time": "2021-06-28T11:39:28.758Z"
   },
   {
    "duration": 642,
    "start_time": "2021-06-28T11:39:28.764Z"
   },
   {
    "duration": 696,
    "start_time": "2021-06-28T11:39:28.771Z"
   },
   {
    "duration": 691,
    "start_time": "2021-06-28T11:39:28.778Z"
   },
   {
    "duration": 686,
    "start_time": "2021-06-28T11:39:28.785Z"
   },
   {
    "duration": 682,
    "start_time": "2021-06-28T11:39:28.790Z"
   },
   {
    "duration": 677,
    "start_time": "2021-06-28T11:39:28.797Z"
   },
   {
    "duration": 672,
    "start_time": "2021-06-28T11:39:28.803Z"
   },
   {
    "duration": 667,
    "start_time": "2021-06-28T11:39:28.809Z"
   },
   {
    "duration": 664,
    "start_time": "2021-06-28T11:39:28.814Z"
   },
   {
    "duration": 339,
    "start_time": "2021-06-28T11:44:08.355Z"
   },
   {
    "duration": 349,
    "start_time": "2021-06-28T11:44:35.010Z"
   },
   {
    "duration": 13,
    "start_time": "2021-06-28T11:59:28.519Z"
   },
   {
    "duration": 13,
    "start_time": "2021-06-28T11:59:48.774Z"
   },
   {
    "duration": 12,
    "start_time": "2021-06-28T12:01:32.432Z"
   },
   {
    "duration": 13,
    "start_time": "2021-06-28T12:01:42.587Z"
   },
   {
    "duration": 114,
    "start_time": "2021-06-28T12:01:48.768Z"
   },
   {
    "duration": 646,
    "start_time": "2021-06-28T12:22:45.788Z"
   },
   {
    "duration": 120,
    "start_time": "2021-06-28T13:00:22.570Z"
   },
   {
    "duration": 253,
    "start_time": "2021-06-28T13:00:45.910Z"
   },
   {
    "duration": 299,
    "start_time": "2021-06-28T13:01:38.336Z"
   },
   {
    "duration": 353,
    "start_time": "2021-06-28T13:03:02.203Z"
   },
   {
    "duration": 2135,
    "start_time": "2021-06-28T13:03:12.735Z"
   },
   {
    "duration": 21,
    "start_time": "2021-06-28T13:03:14.873Z"
   },
   {
    "duration": 7,
    "start_time": "2021-06-28T13:03:14.897Z"
   },
   {
    "duration": 8,
    "start_time": "2021-06-28T13:03:14.907Z"
   },
   {
    "duration": 22,
    "start_time": "2021-06-28T13:03:14.917Z"
   },
   {
    "duration": 36,
    "start_time": "2021-06-28T13:03:14.941Z"
   },
   {
    "duration": 8,
    "start_time": "2021-06-28T13:03:14.979Z"
   },
   {
    "duration": 39,
    "start_time": "2021-06-28T13:03:14.992Z"
   },
   {
    "duration": 41,
    "start_time": "2021-06-28T13:03:15.033Z"
   },
   {
    "duration": 17,
    "start_time": "2021-06-28T13:03:15.076Z"
   },
   {
    "duration": 610,
    "start_time": "2021-06-28T13:03:15.095Z"
   },
   {
    "duration": 12,
    "start_time": "2021-06-28T13:03:15.708Z"
   },
   {
    "duration": 15,
    "start_time": "2021-06-28T13:03:15.722Z"
   },
   {
    "duration": 56,
    "start_time": "2021-06-28T13:03:15.739Z"
   },
   {
    "duration": 6,
    "start_time": "2021-06-28T13:03:15.797Z"
   },
   {
    "duration": 29,
    "start_time": "2021-06-28T13:03:15.805Z"
   },
   {
    "duration": 204,
    "start_time": "2021-06-28T13:03:15.836Z"
   },
   {
    "duration": 25,
    "start_time": "2021-06-28T13:03:16.042Z"
   },
   {
    "duration": 454,
    "start_time": "2021-06-28T13:03:16.069Z"
   },
   {
    "duration": 7,
    "start_time": "2021-06-28T13:03:16.526Z"
   },
   {
    "duration": 7,
    "start_time": "2021-06-28T13:03:16.536Z"
   },
   {
    "duration": 7,
    "start_time": "2021-06-28T13:03:16.568Z"
   },
   {
    "duration": 15,
    "start_time": "2021-06-28T13:03:16.581Z"
   },
   {
    "duration": 14,
    "start_time": "2021-06-28T13:03:16.600Z"
   },
   {
    "duration": 17,
    "start_time": "2021-06-28T13:03:16.617Z"
   },
   {
    "duration": 37,
    "start_time": "2021-06-28T13:03:16.636Z"
   },
   {
    "duration": 10,
    "start_time": "2021-06-28T13:03:16.676Z"
   },
   {
    "duration": 10,
    "start_time": "2021-06-28T13:03:16.689Z"
   },
   {
    "duration": 106,
    "start_time": "2021-06-28T13:03:16.701Z"
   },
   {
    "duration": 304,
    "start_time": "2021-06-28T13:03:16.810Z"
   },
   {
    "duration": 610,
    "start_time": "2021-06-28T13:03:17.116Z"
   },
   {
    "duration": 318,
    "start_time": "2021-06-28T13:03:17.728Z"
   },
   {
    "duration": 976,
    "start_time": "2021-06-28T13:03:17.072Z"
   },
   {
    "duration": 972,
    "start_time": "2021-06-28T13:03:17.078Z"
   },
   {
    "duration": 950,
    "start_time": "2021-06-28T13:03:17.102Z"
   },
   {
    "duration": 943,
    "start_time": "2021-06-28T13:03:17.110Z"
   },
   {
    "duration": 937,
    "start_time": "2021-06-28T13:03:17.117Z"
   },
   {
    "duration": 931,
    "start_time": "2021-06-28T13:03:17.125Z"
   },
   {
    "duration": 926,
    "start_time": "2021-06-28T13:03:17.131Z"
   },
   {
    "duration": 921,
    "start_time": "2021-06-28T13:03:17.138Z"
   },
   {
    "duration": 916,
    "start_time": "2021-06-28T13:03:17.144Z"
   },
   {
    "duration": 911,
    "start_time": "2021-06-28T13:03:17.151Z"
   },
   {
    "duration": 906,
    "start_time": "2021-06-28T13:03:17.157Z"
   },
   {
    "duration": 902,
    "start_time": "2021-06-28T13:03:17.163Z"
   },
   {
    "duration": 896,
    "start_time": "2021-06-28T13:03:17.170Z"
   },
   {
    "duration": 889,
    "start_time": "2021-06-28T13:03:17.178Z"
   },
   {
    "duration": 882,
    "start_time": "2021-06-28T13:03:17.186Z"
   },
   {
    "duration": 862,
    "start_time": "2021-06-28T13:03:17.208Z"
   },
   {
    "duration": 853,
    "start_time": "2021-06-28T13:03:17.218Z"
   },
   {
    "duration": 799,
    "start_time": "2021-06-28T13:03:17.273Z"
   },
   {
    "duration": 750,
    "start_time": "2021-06-28T13:03:17.324Z"
   },
   {
    "duration": 683,
    "start_time": "2021-06-28T13:03:17.392Z"
   },
   {
    "duration": 677,
    "start_time": "2021-06-28T13:03:17.400Z"
   },
   {
    "duration": 670,
    "start_time": "2021-06-28T13:03:17.408Z"
   },
   {
    "duration": 660,
    "start_time": "2021-06-28T13:03:17.420Z"
   },
   {
    "duration": 655,
    "start_time": "2021-06-28T13:03:17.427Z"
   },
   {
    "duration": 648,
    "start_time": "2021-06-28T13:03:17.435Z"
   },
   {
    "duration": 641,
    "start_time": "2021-06-28T13:03:17.443Z"
   },
   {
    "duration": 634,
    "start_time": "2021-06-28T13:03:17.452Z"
   },
   {
    "duration": 627,
    "start_time": "2021-06-28T13:03:17.460Z"
   },
   {
    "duration": 622,
    "start_time": "2021-06-28T13:03:17.466Z"
   },
   {
    "duration": 615,
    "start_time": "2021-06-28T13:03:17.475Z"
   },
   {
    "duration": 607,
    "start_time": "2021-06-28T13:03:17.484Z"
   },
   {
    "duration": 601,
    "start_time": "2021-06-28T13:03:17.491Z"
   },
   {
    "duration": 573,
    "start_time": "2021-06-28T13:03:17.521Z"
   },
   {
    "duration": 567,
    "start_time": "2021-06-28T13:03:17.528Z"
   },
   {
    "duration": 544,
    "start_time": "2021-06-28T13:03:17.552Z"
   },
   {
    "duration": 537,
    "start_time": "2021-06-28T13:03:17.560Z"
   },
   {
    "duration": 532,
    "start_time": "2021-06-28T13:03:17.567Z"
   },
   {
    "duration": 526,
    "start_time": "2021-06-28T13:03:17.574Z"
   },
   {
    "duration": 522,
    "start_time": "2021-06-28T13:03:17.579Z"
   },
   {
    "duration": 515,
    "start_time": "2021-06-28T13:03:17.588Z"
   },
   {
    "duration": 266,
    "start_time": "2021-06-28T13:04:02.644Z"
   },
   {
    "duration": 322,
    "start_time": "2021-06-28T13:05:32.273Z"
   },
   {
    "duration": 313,
    "start_time": "2021-06-28T13:05:46.855Z"
   },
   {
    "duration": 11577,
    "start_time": "2021-06-28T13:06:06.660Z"
   },
   {
    "duration": 11513,
    "start_time": "2021-06-28T13:08:15.369Z"
   },
   {
    "duration": 11682,
    "start_time": "2021-06-28T13:10:38.394Z"
   },
   {
    "duration": 206,
    "start_time": "2021-06-28T13:11:02.982Z"
   },
   {
    "duration": 11772,
    "start_time": "2021-06-28T13:12:55.320Z"
   },
   {
    "duration": 11614,
    "start_time": "2021-06-28T13:13:20.469Z"
   },
   {
    "duration": 11503,
    "start_time": "2021-06-28T13:14:48.424Z"
   },
   {
    "duration": 11512,
    "start_time": "2021-06-28T13:15:13.692Z"
   },
   {
    "duration": 13532,
    "start_time": "2021-06-28T13:16:41.145Z"
   },
   {
    "duration": 91,
    "start_time": "2021-06-28T13:22:41.231Z"
   },
   {
    "duration": 128,
    "start_time": "2021-06-28T13:23:18.193Z"
   },
   {
    "duration": 113,
    "start_time": "2021-06-28T13:23:22.631Z"
   },
   {
    "duration": 122,
    "start_time": "2021-06-28T13:23:37.491Z"
   },
   {
    "duration": 113,
    "start_time": "2021-06-28T13:23:40.894Z"
   },
   {
    "duration": 118,
    "start_time": "2021-06-28T13:24:28.545Z"
   },
   {
    "duration": 93,
    "start_time": "2021-06-28T13:24:52.891Z"
   },
   {
    "duration": 35209,
    "start_time": "2021-06-28T13:26:08.175Z"
   },
   {
    "duration": 34565,
    "start_time": "2021-06-28T13:27:21.981Z"
   },
   {
    "duration": 69955,
    "start_time": "2021-06-28T13:28:24.403Z"
   },
   {
    "duration": 75,
    "start_time": "2021-06-28T13:33:55.322Z"
   },
   {
    "duration": 285,
    "start_time": "2021-06-28T13:33:56.409Z"
   },
   {
    "duration": 322,
    "start_time": "2021-06-28T13:34:51.126Z"
   },
   {
    "duration": 293,
    "start_time": "2021-06-28T13:35:00.877Z"
   },
   {
    "duration": 75,
    "start_time": "2021-06-28T13:36:36.464Z"
   },
   {
    "duration": 282,
    "start_time": "2021-06-28T13:36:37.288Z"
   },
   {
    "duration": 196,
    "start_time": "2021-06-28T13:38:02.001Z"
   },
   {
    "duration": 73611,
    "start_time": "2021-06-28T13:39:07.067Z"
   },
   {
    "duration": 9,
    "start_time": "2021-06-28T13:40:48.490Z"
   },
   {
    "duration": 374,
    "start_time": "2021-06-28T13:41:51.083Z"
   },
   {
    "duration": 289,
    "start_time": "2021-06-28T13:42:29.463Z"
   },
   {
    "duration": 280,
    "start_time": "2021-06-28T13:42:39.099Z"
   },
   {
    "duration": 22938,
    "start_time": "2021-06-28T13:43:22.664Z"
   },
   {
    "duration": 269,
    "start_time": "2021-06-28T13:43:55.193Z"
   },
   {
    "duration": 22865,
    "start_time": "2021-06-28T13:45:42.717Z"
   },
   {
    "duration": 23202,
    "start_time": "2021-06-28T13:46:20.799Z"
   },
   {
    "duration": 23428,
    "start_time": "2021-06-28T13:47:06.920Z"
   },
   {
    "duration": 23575,
    "start_time": "2021-06-28T13:47:57.081Z"
   },
   {
    "duration": 23116,
    "start_time": "2021-06-28T13:48:32.160Z"
   },
   {
    "duration": 23360,
    "start_time": "2021-06-28T13:49:06.919Z"
   },
   {
    "duration": 23082,
    "start_time": "2021-06-28T13:49:42.461Z"
   },
   {
    "duration": 23294,
    "start_time": "2021-06-28T13:50:28.439Z"
   },
   {
    "duration": 267,
    "start_time": "2021-06-28T13:50:58.227Z"
   },
   {
    "duration": 23054,
    "start_time": "2021-06-28T13:51:26.629Z"
   },
   {
    "duration": 12,
    "start_time": "2021-06-28T13:52:13.902Z"
   },
   {
    "duration": 17375,
    "start_time": "2021-06-28T13:52:28.480Z"
   },
   {
    "duration": 11,
    "start_time": "2021-06-28T13:53:25.840Z"
   },
   {
    "duration": 34715,
    "start_time": "2021-06-28T13:53:33.513Z"
   },
   {
    "duration": 11,
    "start_time": "2021-06-28T13:54:15.280Z"
   },
   {
    "duration": 23463,
    "start_time": "2021-06-28T13:54:27.095Z"
   },
   {
    "duration": 12048,
    "start_time": "2021-06-28T13:54:59.542Z"
   },
   {
    "duration": 262,
    "start_time": "2021-06-28T13:55:31.995Z"
   },
   {
    "duration": 2057,
    "start_time": "2021-06-28T13:55:48.208Z"
   },
   {
    "duration": 21,
    "start_time": "2021-06-28T13:55:50.267Z"
   },
   {
    "duration": 10,
    "start_time": "2021-06-28T13:55:50.291Z"
   },
   {
    "duration": 15,
    "start_time": "2021-06-28T13:55:50.304Z"
   },
   {
    "duration": 21,
    "start_time": "2021-06-28T13:55:50.321Z"
   },
   {
    "duration": 25,
    "start_time": "2021-06-28T13:55:50.346Z"
   },
   {
    "duration": 8,
    "start_time": "2021-06-28T13:55:50.373Z"
   },
   {
    "duration": 40,
    "start_time": "2021-06-28T13:55:50.385Z"
   },
   {
    "duration": 43,
    "start_time": "2021-06-28T13:55:50.428Z"
   },
   {
    "duration": 16,
    "start_time": "2021-06-28T13:55:50.473Z"
   },
   {
    "duration": 667,
    "start_time": "2021-06-28T13:55:50.491Z"
   },
   {
    "duration": 20,
    "start_time": "2021-06-28T13:55:51.161Z"
   },
   {
    "duration": 15,
    "start_time": "2021-06-28T13:55:51.184Z"
   },
   {
    "duration": 83,
    "start_time": "2021-06-28T13:55:51.202Z"
   },
   {
    "duration": 9,
    "start_time": "2021-06-28T13:55:51.288Z"
   },
   {
    "duration": 29,
    "start_time": "2021-06-28T13:55:51.300Z"
   },
   {
    "duration": 208,
    "start_time": "2021-06-28T13:55:51.331Z"
   },
   {
    "duration": 26,
    "start_time": "2021-06-28T13:55:51.541Z"
   },
   {
    "duration": 459,
    "start_time": "2021-06-28T13:55:51.570Z"
   },
   {
    "duration": 7,
    "start_time": "2021-06-28T13:55:52.031Z"
   },
   {
    "duration": 10,
    "start_time": "2021-06-28T13:55:52.041Z"
   },
   {
    "duration": 8,
    "start_time": "2021-06-28T13:55:52.068Z"
   },
   {
    "duration": 17,
    "start_time": "2021-06-28T13:55:52.081Z"
   },
   {
    "duration": 23,
    "start_time": "2021-06-28T13:55:52.102Z"
   },
   {
    "duration": 15,
    "start_time": "2021-06-28T13:55:52.127Z"
   },
   {
    "duration": 25,
    "start_time": "2021-06-28T13:55:52.145Z"
   },
   {
    "duration": 12,
    "start_time": "2021-06-28T13:55:52.173Z"
   },
   {
    "duration": 7,
    "start_time": "2021-06-28T13:55:52.187Z"
   },
   {
    "duration": 99,
    "start_time": "2021-06-28T13:55:52.197Z"
   },
   {
    "duration": 298,
    "start_time": "2021-06-28T13:55:52.298Z"
   },
   {
    "duration": 12443,
    "start_time": "2021-06-28T13:55:52.599Z"
   },
   {
    "duration": 285,
    "start_time": "2021-06-28T13:56:05.044Z"
   },
   {
    "duration": 503,
    "start_time": "2021-06-28T13:56:05.332Z"
   },
   {
    "duration": 1048,
    "start_time": "2021-06-28T13:56:04.790Z"
   },
   {
    "duration": 1037,
    "start_time": "2021-06-28T13:56:04.803Z"
   },
   {
    "duration": 1023,
    "start_time": "2021-06-28T13:56:04.818Z"
   },
   {
    "duration": 1010,
    "start_time": "2021-06-28T13:56:04.832Z"
   },
   {
    "duration": 1004,
    "start_time": "2021-06-28T13:56:04.839Z"
   },
   {
    "duration": 999,
    "start_time": "2021-06-28T13:56:04.846Z"
   },
   {
    "duration": 993,
    "start_time": "2021-06-28T13:56:04.854Z"
   },
   {
    "duration": 982,
    "start_time": "2021-06-28T13:56:04.866Z"
   },
   {
    "duration": 964,
    "start_time": "2021-06-28T13:56:04.885Z"
   },
   {
    "duration": 955,
    "start_time": "2021-06-28T13:56:04.896Z"
   },
   {
    "duration": 946,
    "start_time": "2021-06-28T13:56:04.906Z"
   },
   {
    "duration": 938,
    "start_time": "2021-06-28T13:56:04.917Z"
   },
   {
    "duration": 936,
    "start_time": "2021-06-28T13:56:04.922Z"
   },
   {
    "duration": 927,
    "start_time": "2021-06-28T13:56:04.933Z"
   },
   {
    "duration": 922,
    "start_time": "2021-06-28T13:56:04.940Z"
   },
   {
    "duration": 912,
    "start_time": "2021-06-28T13:56:04.952Z"
   },
   {
    "duration": 908,
    "start_time": "2021-06-28T13:56:04.959Z"
   },
   {
    "duration": 900,
    "start_time": "2021-06-28T13:56:04.969Z"
   },
   {
    "duration": 895,
    "start_time": "2021-06-28T13:56:04.976Z"
   },
   {
    "duration": 870,
    "start_time": "2021-06-28T13:56:05.003Z"
   },
   {
    "duration": 867,
    "start_time": "2021-06-28T13:56:05.008Z"
   },
   {
    "duration": 859,
    "start_time": "2021-06-28T13:56:05.018Z"
   },
   {
    "duration": 856,
    "start_time": "2021-06-28T13:56:05.023Z"
   },
   {
    "duration": 850,
    "start_time": "2021-06-28T13:56:05.031Z"
   },
   {
    "duration": 848,
    "start_time": "2021-06-28T13:56:05.036Z"
   },
   {
    "duration": 844,
    "start_time": "2021-06-28T13:56:05.042Z"
   },
   {
    "duration": 838,
    "start_time": "2021-06-28T13:56:05.050Z"
   },
   {
    "duration": 833,
    "start_time": "2021-06-28T13:56:05.057Z"
   },
   {
    "duration": 827,
    "start_time": "2021-06-28T13:56:05.065Z"
   },
   {
    "duration": 823,
    "start_time": "2021-06-28T13:56:05.071Z"
   },
   {
    "duration": 820,
    "start_time": "2021-06-28T13:56:05.076Z"
   },
   {
    "duration": 814,
    "start_time": "2021-06-28T13:56:05.084Z"
   },
   {
    "duration": 810,
    "start_time": "2021-06-28T13:56:05.090Z"
   },
   {
    "duration": 804,
    "start_time": "2021-06-28T13:56:05.098Z"
   },
   {
    "duration": 788,
    "start_time": "2021-06-28T13:56:05.116Z"
   },
   {
    "duration": 784,
    "start_time": "2021-06-28T13:56:05.122Z"
   },
   {
    "duration": 781,
    "start_time": "2021-06-28T13:56:05.127Z"
   },
   {
    "duration": 832,
    "start_time": "2021-06-28T13:56:05.134Z"
   },
   {
    "duration": 826,
    "start_time": "2021-06-28T13:56:05.142Z"
   },
   {
    "duration": 822,
    "start_time": "2021-06-28T13:56:05.149Z"
   },
   {
    "duration": 348,
    "start_time": "2021-06-28T14:10:37.835Z"
   },
   {
    "duration": 26,
    "start_time": "2021-06-28T14:11:38.807Z"
   },
   {
    "duration": 29,
    "start_time": "2021-06-28T14:16:35.607Z"
   },
   {
    "duration": 37,
    "start_time": "2021-06-28T14:17:18.550Z"
   },
   {
    "duration": 37,
    "start_time": "2021-06-28T14:17:59.146Z"
   },
   {
    "duration": 253,
    "start_time": "2021-06-28T14:18:54.266Z"
   },
   {
    "duration": 110,
    "start_time": "2021-06-28T14:20:18.067Z"
   },
   {
    "duration": 123,
    "start_time": "2021-06-28T14:20:36.001Z"
   },
   {
    "duration": 119,
    "start_time": "2021-06-28T14:20:48.078Z"
   },
   {
    "duration": 237,
    "start_time": "2021-06-28T14:21:21.049Z"
   },
   {
    "duration": 338,
    "start_time": "2021-06-28T14:21:34.589Z"
   },
   {
    "duration": 34,
    "start_time": "2021-06-28T14:21:49.751Z"
   },
   {
    "duration": 41,
    "start_time": "2021-06-28T14:22:24.156Z"
   },
   {
    "duration": 4,
    "start_time": "2021-06-28T14:29:54.075Z"
   },
   {
    "duration": 33,
    "start_time": "2021-06-28T14:29:54.098Z"
   },
   {
    "duration": 3,
    "start_time": "2021-06-28T14:30:02.854Z"
   },
   {
    "duration": 40,
    "start_time": "2021-06-28T14:30:03.645Z"
   },
   {
    "duration": 31,
    "start_time": "2021-06-28T15:24:17.013Z"
   },
   {
    "duration": 1940,
    "start_time": "2021-06-28T15:24:24.709Z"
   },
   {
    "duration": 22,
    "start_time": "2021-06-28T15:24:26.652Z"
   },
   {
    "duration": 10,
    "start_time": "2021-06-28T15:24:26.678Z"
   },
   {
    "duration": 7,
    "start_time": "2021-06-28T15:24:26.692Z"
   },
   {
    "duration": 17,
    "start_time": "2021-06-28T15:24:26.702Z"
   },
   {
    "duration": 47,
    "start_time": "2021-06-28T15:24:26.722Z"
   },
   {
    "duration": 15,
    "start_time": "2021-06-28T15:24:26.772Z"
   },
   {
    "duration": 32,
    "start_time": "2021-06-28T15:24:26.792Z"
   },
   {
    "duration": 43,
    "start_time": "2021-06-28T15:24:26.827Z"
   },
   {
    "duration": 17,
    "start_time": "2021-06-28T15:24:26.872Z"
   },
   {
    "duration": 723,
    "start_time": "2021-06-28T15:24:26.891Z"
   },
   {
    "duration": 14,
    "start_time": "2021-06-28T15:24:27.617Z"
   },
   {
    "duration": 35,
    "start_time": "2021-06-28T15:24:27.634Z"
   },
   {
    "duration": 34,
    "start_time": "2021-06-28T15:24:27.671Z"
   },
   {
    "duration": 6,
    "start_time": "2021-06-28T15:24:27.708Z"
   },
   {
    "duration": 26,
    "start_time": "2021-06-28T15:24:27.716Z"
   },
   {
    "duration": 202,
    "start_time": "2021-06-28T15:24:27.767Z"
   },
   {
    "duration": 14,
    "start_time": "2021-06-28T15:24:27.973Z"
   },
   {
    "duration": 534,
    "start_time": "2021-06-28T15:24:27.990Z"
   },
   {
    "duration": 7,
    "start_time": "2021-06-28T15:24:28.527Z"
   },
   {
    "duration": 9,
    "start_time": "2021-06-28T15:24:28.536Z"
   },
   {
    "duration": 10,
    "start_time": "2021-06-28T15:24:28.567Z"
   },
   {
    "duration": 15,
    "start_time": "2021-06-28T15:24:28.585Z"
   },
   {
    "duration": 24,
    "start_time": "2021-06-28T15:24:28.604Z"
   },
   {
    "duration": 10,
    "start_time": "2021-06-28T15:24:28.630Z"
   },
   {
    "duration": 35,
    "start_time": "2021-06-28T15:24:28.644Z"
   },
   {
    "duration": 11,
    "start_time": "2021-06-28T15:24:28.682Z"
   },
   {
    "duration": 19,
    "start_time": "2021-06-28T15:24:28.696Z"
   },
   {
    "duration": 93,
    "start_time": "2021-06-28T15:24:28.717Z"
   },
   {
    "duration": 302,
    "start_time": "2021-06-28T15:24:28.812Z"
   },
   {
    "duration": 12188,
    "start_time": "2021-06-28T15:24:29.117Z"
   },
   {
    "duration": 289,
    "start_time": "2021-06-28T15:24:41.307Z"
   },
   {
    "duration": 30,
    "start_time": "2021-06-28T15:24:41.598Z"
   },
   {
    "duration": 499,
    "start_time": "2021-06-28T15:24:41.631Z"
   },
   {
    "duration": 1117,
    "start_time": "2021-06-28T15:24:41.015Z"
   },
   {
    "duration": 1112,
    "start_time": "2021-06-28T15:24:41.022Z"
   },
   {
    "duration": 1058,
    "start_time": "2021-06-28T15:24:41.077Z"
   },
   {
    "duration": 1053,
    "start_time": "2021-06-28T15:24:41.083Z"
   },
   {
    "duration": 1046,
    "start_time": "2021-06-28T15:24:41.091Z"
   },
   {
    "duration": 1041,
    "start_time": "2021-06-28T15:24:41.098Z"
   },
   {
    "duration": 1037,
    "start_time": "2021-06-28T15:24:41.103Z"
   },
   {
    "duration": 1029,
    "start_time": "2021-06-28T15:24:41.113Z"
   },
   {
    "duration": 930,
    "start_time": "2021-06-28T15:24:41.214Z"
   },
   {
    "duration": 925,
    "start_time": "2021-06-28T15:24:41.220Z"
   },
   {
    "duration": 921,
    "start_time": "2021-06-28T15:24:41.225Z"
   },
   {
    "duration": 915,
    "start_time": "2021-06-28T15:24:41.232Z"
   },
   {
    "duration": 913,
    "start_time": "2021-06-28T15:24:41.236Z"
   },
   {
    "duration": 910,
    "start_time": "2021-06-28T15:24:41.240Z"
   },
   {
    "duration": 906,
    "start_time": "2021-06-28T15:24:41.245Z"
   },
   {
    "duration": 874,
    "start_time": "2021-06-28T15:24:41.279Z"
   },
   {
    "duration": 870,
    "start_time": "2021-06-28T15:24:41.284Z"
   },
   {
    "duration": 867,
    "start_time": "2021-06-28T15:24:41.288Z"
   },
   {
    "duration": 860,
    "start_time": "2021-06-28T15:24:41.296Z"
   },
   {
    "duration": 855,
    "start_time": "2021-06-28T15:24:41.302Z"
   },
   {
    "duration": 852,
    "start_time": "2021-06-28T15:24:41.307Z"
   },
   {
    "duration": 832,
    "start_time": "2021-06-28T15:24:41.328Z"
   },
   {
    "duration": 828,
    "start_time": "2021-06-28T15:24:41.333Z"
   },
   {
    "duration": 655,
    "start_time": "2021-06-28T15:24:41.507Z"
   },
   {
    "duration": 545,
    "start_time": "2021-06-28T15:24:41.619Z"
   },
   {
    "duration": 535,
    "start_time": "2021-06-28T15:24:41.630Z"
   },
   {
    "duration": 527,
    "start_time": "2021-06-28T15:24:41.639Z"
   },
   {
    "duration": 515,
    "start_time": "2021-06-28T15:24:41.653Z"
   },
   {
    "duration": 507,
    "start_time": "2021-06-28T15:24:41.662Z"
   },
   {
    "duration": 498,
    "start_time": "2021-06-28T15:24:41.672Z"
   },
   {
    "duration": 461,
    "start_time": "2021-06-28T15:24:41.711Z"
   },
   {
    "duration": 453,
    "start_time": "2021-06-28T15:24:41.720Z"
   },
   {
    "duration": 445,
    "start_time": "2021-06-28T15:24:41.729Z"
   },
   {
    "duration": 437,
    "start_time": "2021-06-28T15:24:41.738Z"
   },
   {
    "duration": 427,
    "start_time": "2021-06-28T15:24:41.750Z"
   },
   {
    "duration": 416,
    "start_time": "2021-06-28T15:24:41.762Z"
   },
   {
    "duration": 409,
    "start_time": "2021-06-28T15:24:41.770Z"
   },
   {
    "duration": 401,
    "start_time": "2021-06-28T15:24:41.779Z"
   },
   {
    "duration": 393,
    "start_time": "2021-06-28T15:24:41.788Z"
   },
   {
    "duration": 387,
    "start_time": "2021-06-28T15:24:41.796Z"
   },
   {
    "duration": 33,
    "start_time": "2021-06-28T15:26:13.514Z"
   },
   {
    "duration": 11944,
    "start_time": "2021-06-28T15:29:19.026Z"
   },
   {
    "duration": 28,
    "start_time": "2021-06-28T15:34:33.079Z"
   },
   {
    "duration": 34,
    "start_time": "2021-06-28T15:35:04.739Z"
   },
   {
    "duration": 509,
    "start_time": "2021-06-28T15:36:00.950Z"
   },
   {
    "duration": 8,
    "start_time": "2021-06-28T15:37:44.170Z"
   },
   {
    "duration": 10,
    "start_time": "2021-06-28T15:38:02.250Z"
   },
   {
    "duration": 5,
    "start_time": "2021-06-28T15:38:32.466Z"
   },
   {
    "duration": 5,
    "start_time": "2021-06-28T15:38:48.464Z"
   },
   {
    "duration": 4,
    "start_time": "2021-06-28T15:39:01.903Z"
   },
   {
    "duration": 4,
    "start_time": "2021-06-28T15:39:34.421Z"
   },
   {
    "duration": 283,
    "start_time": "2021-06-28T15:39:45.371Z"
   },
   {
    "duration": 290,
    "start_time": "2021-06-28T15:40:37.606Z"
   },
   {
    "duration": 320,
    "start_time": "2021-06-28T15:40:48.109Z"
   },
   {
    "duration": 330,
    "start_time": "2021-06-28T15:40:56.799Z"
   },
   {
    "duration": 311,
    "start_time": "2021-06-28T15:41:16.489Z"
   },
   {
    "duration": 338,
    "start_time": "2021-06-28T15:41:40.686Z"
   },
   {
    "duration": 362,
    "start_time": "2021-06-28T15:42:25.599Z"
   },
   {
    "duration": 29,
    "start_time": "2021-06-28T15:43:12.640Z"
   },
   {
    "duration": 35,
    "start_time": "2021-06-28T15:43:31.666Z"
   },
   {
    "duration": 353,
    "start_time": "2021-06-28T15:43:53.160Z"
   },
   {
    "duration": 9,
    "start_time": "2021-06-28T15:44:19.240Z"
   },
   {
    "duration": 8,
    "start_time": "2021-06-28T15:45:00.425Z"
   },
   {
    "duration": 335,
    "start_time": "2021-06-28T15:45:20.994Z"
   },
   {
    "duration": 10,
    "start_time": "2021-06-28T15:45:25.328Z"
   },
   {
    "duration": 93,
    "start_time": "2021-06-28T15:46:50.470Z"
   },
   {
    "duration": 10,
    "start_time": "2021-06-28T15:46:59.967Z"
   },
   {
    "duration": 108,
    "start_time": "2021-06-28T15:49:05.447Z"
   },
   {
    "duration": 11,
    "start_time": "2021-06-28T15:49:11.437Z"
   },
   {
    "duration": 10,
    "start_time": "2021-06-28T15:49:39.149Z"
   },
   {
    "duration": 72,
    "start_time": "2021-06-28T15:54:01.370Z"
   },
   {
    "duration": 71,
    "start_time": "2021-06-28T15:54:04.677Z"
   },
   {
    "duration": 234,
    "start_time": "2021-06-28T16:03:26.488Z"
   },
   {
    "duration": 240,
    "start_time": "2021-06-28T16:06:33.517Z"
   },
   {
    "duration": 2130,
    "start_time": "2021-06-28T16:06:39.909Z"
   },
   {
    "duration": 22,
    "start_time": "2021-06-28T16:06:42.042Z"
   },
   {
    "duration": 8,
    "start_time": "2021-06-28T16:06:42.067Z"
   },
   {
    "duration": 8,
    "start_time": "2021-06-28T16:06:42.078Z"
   },
   {
    "duration": 20,
    "start_time": "2021-06-28T16:06:42.089Z"
   },
   {
    "duration": 14,
    "start_time": "2021-06-28T16:06:42.111Z"
   },
   {
    "duration": 46,
    "start_time": "2021-06-28T16:06:42.128Z"
   },
   {
    "duration": 34,
    "start_time": "2021-06-28T16:06:42.178Z"
   },
   {
    "duration": 10,
    "start_time": "2021-06-28T16:06:42.215Z"
   },
   {
    "duration": 53,
    "start_time": "2021-06-28T16:06:42.228Z"
   },
   {
    "duration": 610,
    "start_time": "2021-06-28T16:06:42.283Z"
   },
   {
    "duration": 12,
    "start_time": "2021-06-28T16:06:42.896Z"
   },
   {
    "duration": 17,
    "start_time": "2021-06-28T16:06:42.911Z"
   },
   {
    "duration": 60,
    "start_time": "2021-06-28T16:06:42.931Z"
   },
   {
    "duration": 8,
    "start_time": "2021-06-28T16:06:42.993Z"
   },
   {
    "duration": 32,
    "start_time": "2021-06-28T16:06:43.004Z"
   },
   {
    "duration": 210,
    "start_time": "2021-06-28T16:06:43.039Z"
   },
   {
    "duration": 20,
    "start_time": "2021-06-28T16:06:43.252Z"
   },
   {
    "duration": 443,
    "start_time": "2021-06-28T16:06:43.275Z"
   },
   {
    "duration": 8,
    "start_time": "2021-06-28T16:06:43.720Z"
   },
   {
    "duration": 9,
    "start_time": "2021-06-28T16:06:43.730Z"
   },
   {
    "duration": 29,
    "start_time": "2021-06-28T16:06:43.741Z"
   },
   {
    "duration": 7,
    "start_time": "2021-06-28T16:06:43.777Z"
   },
   {
    "duration": 27,
    "start_time": "2021-06-28T16:06:43.788Z"
   },
   {
    "duration": 14,
    "start_time": "2021-06-28T16:06:43.818Z"
   },
   {
    "duration": 34,
    "start_time": "2021-06-28T16:06:43.835Z"
   },
   {
    "duration": 11,
    "start_time": "2021-06-28T16:06:43.872Z"
   },
   {
    "duration": 390,
    "start_time": "2021-06-28T16:06:43.885Z"
   },
   {
    "duration": 284,
    "start_time": "2021-06-28T16:06:44.277Z"
   },
   {
    "duration": 12416,
    "start_time": "2021-06-28T16:06:44.564Z"
   },
   {
    "duration": 290,
    "start_time": "2021-06-28T16:06:56.983Z"
   },
   {
    "duration": 30,
    "start_time": "2021-06-28T16:06:57.275Z"
   },
   {
    "duration": 340,
    "start_time": "2021-06-28T16:06:57.308Z"
   },
   {
    "duration": 1160,
    "start_time": "2021-06-28T16:06:56.491Z"
   },
   {
    "duration": 1152,
    "start_time": "2021-06-28T16:06:56.500Z"
   },
   {
    "duration": 1146,
    "start_time": "2021-06-28T16:06:56.508Z"
   },
   {
    "duration": 1140,
    "start_time": "2021-06-28T16:06:56.515Z"
   },
   {
    "duration": 1136,
    "start_time": "2021-06-28T16:06:56.520Z"
   },
   {
    "duration": 1132,
    "start_time": "2021-06-28T16:06:56.526Z"
   },
   {
    "duration": 1115,
    "start_time": "2021-06-28T16:06:56.545Z"
   },
   {
    "duration": 1110,
    "start_time": "2021-06-28T16:06:56.551Z"
   },
   {
    "duration": 1108,
    "start_time": "2021-06-28T16:06:56.555Z"
   },
   {
    "duration": 1101,
    "start_time": "2021-06-28T16:06:56.563Z"
   },
   {
    "duration": 1097,
    "start_time": "2021-06-28T16:06:56.568Z"
   },
   {
    "duration": 1094,
    "start_time": "2021-06-28T16:06:56.573Z"
   },
   {
    "duration": 1088,
    "start_time": "2021-06-28T16:06:56.580Z"
   },
   {
    "duration": 1083,
    "start_time": "2021-06-28T16:06:56.586Z"
   },
   {
    "duration": 1081,
    "start_time": "2021-06-28T16:06:56.590Z"
   },
   {
    "duration": 1077,
    "start_time": "2021-06-28T16:06:56.595Z"
   },
   {
    "duration": 1074,
    "start_time": "2021-06-28T16:06:56.599Z"
   },
   {
    "duration": 1072,
    "start_time": "2021-06-28T16:06:56.603Z"
   },
   {
    "duration": 1068,
    "start_time": "2021-06-28T16:06:56.608Z"
   },
   {
    "duration": 1064,
    "start_time": "2021-06-28T16:06:56.614Z"
   },
   {
    "duration": 1060,
    "start_time": "2021-06-28T16:06:56.619Z"
   },
   {
    "duration": 1053,
    "start_time": "2021-06-28T16:06:56.627Z"
   },
   {
    "duration": 1048,
    "start_time": "2021-06-28T16:06:56.634Z"
   },
   {
    "duration": 1044,
    "start_time": "2021-06-28T16:06:56.639Z"
   },
   {
    "duration": 1030,
    "start_time": "2021-06-28T16:06:56.655Z"
   },
   {
    "duration": 1024,
    "start_time": "2021-06-28T16:06:56.662Z"
   },
   {
    "duration": 1020,
    "start_time": "2021-06-28T16:06:56.667Z"
   },
   {
    "duration": 1017,
    "start_time": "2021-06-28T16:06:56.672Z"
   },
   {
    "duration": 1013,
    "start_time": "2021-06-28T16:06:56.677Z"
   },
   {
    "duration": 1010,
    "start_time": "2021-06-28T16:06:56.682Z"
   },
   {
    "duration": 1006,
    "start_time": "2021-06-28T16:06:56.687Z"
   },
   {
    "duration": 989,
    "start_time": "2021-06-28T16:06:56.705Z"
   },
   {
    "duration": 14,
    "start_time": "2021-06-28T16:49:50.329Z"
   },
   {
    "duration": 7,
    "start_time": "2021-06-28T16:50:53.388Z"
   },
   {
    "duration": 5,
    "start_time": "2021-06-28T16:51:11.250Z"
   },
   {
    "duration": 5,
    "start_time": "2021-06-28T16:51:31.479Z"
   },
   {
    "duration": 5,
    "start_time": "2021-06-28T16:53:08.579Z"
   },
   {
    "duration": 6,
    "start_time": "2021-06-28T16:54:16.649Z"
   },
   {
    "duration": 82,
    "start_time": "2021-06-28T16:55:04.198Z"
   },
   {
    "duration": 83,
    "start_time": "2021-06-28T16:56:07.240Z"
   },
   {
    "duration": 5,
    "start_time": "2021-06-28T17:02:05.629Z"
   },
   {
    "duration": 83,
    "start_time": "2021-06-28T17:02:18.829Z"
   },
   {
    "duration": 4,
    "start_time": "2021-06-28T17:02:20.309Z"
   },
   {
    "duration": 5,
    "start_time": "2021-06-28T17:02:56.429Z"
   },
   {
    "duration": 5,
    "start_time": "2021-06-28T17:03:22.990Z"
   },
   {
    "duration": 9,
    "start_time": "2021-06-28T17:03:48.239Z"
   },
   {
    "duration": 274,
    "start_time": "2021-06-28T17:04:13.118Z"
   },
   {
    "duration": 11539,
    "start_time": "2021-06-28T17:04:19.433Z"
   },
   {
    "duration": 296,
    "start_time": "2021-06-28T17:04:30.974Z"
   },
   {
    "duration": 12883,
    "start_time": "2021-06-28T17:20:30.099Z"
   },
   {
    "duration": 266,
    "start_time": "2021-06-28T17:20:51.939Z"
   },
   {
    "duration": 276,
    "start_time": "2021-06-28T17:21:27.168Z"
   },
   {
    "duration": 284,
    "start_time": "2021-06-28T17:22:40.149Z"
   },
   {
    "duration": 83,
    "start_time": "2021-06-28T17:25:12.018Z"
   },
   {
    "duration": 269,
    "start_time": "2021-06-28T17:25:13.839Z"
   },
   {
    "duration": 267,
    "start_time": "2021-06-28T17:25:36.099Z"
   },
   {
    "duration": 2007,
    "start_time": "2021-06-28T17:25:50.574Z"
   },
   {
    "duration": 22,
    "start_time": "2021-06-28T17:25:52.584Z"
   },
   {
    "duration": 12,
    "start_time": "2021-06-28T17:25:52.610Z"
   },
   {
    "duration": 11,
    "start_time": "2021-06-28T17:25:52.626Z"
   },
   {
    "duration": 30,
    "start_time": "2021-06-28T17:25:52.640Z"
   },
   {
    "duration": 17,
    "start_time": "2021-06-28T17:25:52.673Z"
   },
   {
    "duration": 9,
    "start_time": "2021-06-28T17:25:52.693Z"
   },
   {
    "duration": 65,
    "start_time": "2021-06-28T17:25:52.706Z"
   },
   {
    "duration": 9,
    "start_time": "2021-06-28T17:25:52.775Z"
   },
   {
    "duration": 16,
    "start_time": "2021-06-28T17:25:52.787Z"
   },
   {
    "duration": 964,
    "start_time": "2021-06-28T17:25:52.806Z"
   },
   {
    "duration": 13,
    "start_time": "2021-06-28T17:25:53.772Z"
   },
   {
    "duration": 17,
    "start_time": "2021-06-28T17:25:53.788Z"
   },
   {
    "duration": 62,
    "start_time": "2021-06-28T17:25:53.807Z"
   },
   {
    "duration": 7,
    "start_time": "2021-06-28T17:25:53.872Z"
   },
   {
    "duration": 22,
    "start_time": "2021-06-28T17:25:53.882Z"
   },
   {
    "duration": 294,
    "start_time": "2021-06-28T17:25:53.906Z"
   },
   {
    "duration": 17,
    "start_time": "2021-06-28T17:25:54.203Z"
   },
   {
    "duration": 499,
    "start_time": "2021-06-28T17:25:54.222Z"
   },
   {
    "duration": 7,
    "start_time": "2021-06-28T17:25:54.723Z"
   },
   {
    "duration": 9,
    "start_time": "2021-06-28T17:25:54.732Z"
   },
   {
    "duration": 29,
    "start_time": "2021-06-28T17:25:54.743Z"
   },
   {
    "duration": 9,
    "start_time": "2021-06-28T17:25:54.779Z"
   },
   {
    "duration": 25,
    "start_time": "2021-06-28T17:25:54.792Z"
   },
   {
    "duration": 9,
    "start_time": "2021-06-28T17:25:54.820Z"
   },
   {
    "duration": 37,
    "start_time": "2021-06-28T17:25:54.831Z"
   },
   {
    "duration": 9,
    "start_time": "2021-06-28T17:25:54.871Z"
   },
   {
    "duration": 101,
    "start_time": "2021-06-28T17:25:54.882Z"
   },
   {
    "duration": 647,
    "start_time": "2021-06-28T17:25:54.985Z"
   },
   {
    "duration": 1174,
    "start_time": "2021-06-28T17:25:54.461Z"
   },
   {
    "duration": 1130,
    "start_time": "2021-06-28T17:25:54.508Z"
   },
   {
    "duration": 1124,
    "start_time": "2021-06-28T17:25:54.516Z"
   },
   {
    "duration": 1120,
    "start_time": "2021-06-28T17:25:54.522Z"
   },
   {
    "duration": 1116,
    "start_time": "2021-06-28T17:25:54.528Z"
   },
   {
    "duration": 1112,
    "start_time": "2021-06-28T17:25:54.534Z"
   },
   {
    "duration": 1108,
    "start_time": "2021-06-28T17:25:54.540Z"
   },
   {
    "duration": 1104,
    "start_time": "2021-06-28T17:25:54.547Z"
   },
   {
    "duration": 1101,
    "start_time": "2021-06-28T17:25:54.552Z"
   },
   {
    "duration": 1094,
    "start_time": "2021-06-28T17:25:54.560Z"
   },
   {
    "duration": 1091,
    "start_time": "2021-06-28T17:25:54.565Z"
   },
   {
    "duration": 1085,
    "start_time": "2021-06-28T17:25:54.573Z"
   },
   {
    "duration": 1070,
    "start_time": "2021-06-28T17:25:54.590Z"
   },
   {
    "duration": 1024,
    "start_time": "2021-06-28T17:25:54.638Z"
   },
   {
    "duration": 1021,
    "start_time": "2021-06-28T17:25:54.643Z"
   },
   {
    "duration": 1016,
    "start_time": "2021-06-28T17:25:54.650Z"
   },
   {
    "duration": 1011,
    "start_time": "2021-06-28T17:25:54.657Z"
   },
   {
    "duration": 1005,
    "start_time": "2021-06-28T17:25:54.665Z"
   },
   {
    "duration": 1003,
    "start_time": "2021-06-28T17:25:54.669Z"
   },
   {
    "duration": 999,
    "start_time": "2021-06-28T17:25:54.675Z"
   },
   {
    "duration": 995,
    "start_time": "2021-06-28T17:25:54.681Z"
   },
   {
    "duration": 990,
    "start_time": "2021-06-28T17:25:54.688Z"
   },
   {
    "duration": 975,
    "start_time": "2021-06-28T17:25:54.705Z"
   },
   {
    "duration": 971,
    "start_time": "2021-06-28T17:25:54.711Z"
   },
   {
    "duration": 968,
    "start_time": "2021-06-28T17:25:54.716Z"
   },
   {
    "duration": 906,
    "start_time": "2021-06-28T17:25:54.780Z"
   },
   {
    "duration": 902,
    "start_time": "2021-06-28T17:25:54.786Z"
   },
   {
    "duration": 864,
    "start_time": "2021-06-28T17:25:54.826Z"
   },
   {
    "duration": 856,
    "start_time": "2021-06-28T17:25:54.836Z"
   },
   {
    "duration": 852,
    "start_time": "2021-06-28T17:25:54.842Z"
   },
   {
    "duration": 848,
    "start_time": "2021-06-28T17:25:54.848Z"
   },
   {
    "duration": 810,
    "start_time": "2021-06-28T17:25:54.888Z"
   },
   {
    "duration": 801,
    "start_time": "2021-06-28T17:25:54.899Z"
   },
   {
    "duration": 797,
    "start_time": "2021-06-28T17:25:54.905Z"
   },
   {
    "duration": 795,
    "start_time": "2021-06-28T17:25:54.909Z"
   },
   {
    "duration": 781,
    "start_time": "2021-06-28T17:25:54.925Z"
   },
   {
    "duration": 777,
    "start_time": "2021-06-28T17:25:54.931Z"
   },
   {
    "duration": 773,
    "start_time": "2021-06-28T17:25:54.937Z"
   },
   {
    "duration": 290,
    "start_time": "2021-06-28T17:27:02.973Z"
   },
   {
    "duration": 84,
    "start_time": "2021-06-28T17:27:09.273Z"
   },
   {
    "duration": 295,
    "start_time": "2021-06-28T17:27:11.093Z"
   },
   {
    "duration": 302,
    "start_time": "2021-06-28T17:28:02.543Z"
   },
   {
    "duration": 7,
    "start_time": "2021-06-28T17:28:48.713Z"
   },
   {
    "duration": 6,
    "start_time": "2021-06-28T17:29:05.423Z"
   },
   {
    "duration": 2034,
    "start_time": "2021-06-28T17:31:12.601Z"
   },
   {
    "duration": 23,
    "start_time": "2021-06-28T17:31:14.638Z"
   },
   {
    "duration": 7,
    "start_time": "2021-06-28T17:31:14.667Z"
   },
   {
    "duration": 9,
    "start_time": "2021-06-28T17:31:14.678Z"
   },
   {
    "duration": 21,
    "start_time": "2021-06-28T17:31:14.689Z"
   },
   {
    "duration": 12,
    "start_time": "2021-06-28T17:31:14.713Z"
   },
   {
    "duration": 10,
    "start_time": "2021-06-28T17:31:14.766Z"
   },
   {
    "duration": 36,
    "start_time": "2021-06-28T17:31:14.780Z"
   },
   {
    "duration": 12,
    "start_time": "2021-06-28T17:31:14.819Z"
   },
   {
    "duration": 18,
    "start_time": "2021-06-28T17:31:14.868Z"
   },
   {
    "duration": 636,
    "start_time": "2021-06-28T17:31:14.889Z"
   },
   {
    "duration": 13,
    "start_time": "2021-06-28T17:31:15.528Z"
   },
   {
    "duration": 16,
    "start_time": "2021-06-28T17:31:15.567Z"
   },
   {
    "duration": 32,
    "start_time": "2021-06-28T17:31:15.585Z"
   },
   {
    "duration": 7,
    "start_time": "2021-06-28T17:31:15.621Z"
   },
   {
    "duration": 45,
    "start_time": "2021-06-28T17:31:15.631Z"
   },
   {
    "duration": 218,
    "start_time": "2021-06-28T17:31:15.679Z"
   },
   {
    "duration": 16,
    "start_time": "2021-06-28T17:31:15.900Z"
   },
   {
    "duration": 486,
    "start_time": "2021-06-28T17:31:15.919Z"
   },
   {
    "duration": 6,
    "start_time": "2021-06-28T17:31:16.408Z"
   },
   {
    "duration": 16,
    "start_time": "2021-06-28T17:31:16.417Z"
   },
   {
    "duration": 10,
    "start_time": "2021-06-28T17:31:16.435Z"
   },
   {
    "duration": 5,
    "start_time": "2021-06-28T17:31:16.468Z"
   },
   {
    "duration": 16,
    "start_time": "2021-06-28T17:31:16.479Z"
   },
   {
    "duration": 13,
    "start_time": "2021-06-28T17:31:16.497Z"
   },
   {
    "duration": 15,
    "start_time": "2021-06-28T17:31:16.513Z"
   },
   {
    "duration": 37,
    "start_time": "2021-06-28T17:31:16.530Z"
   },
   {
    "duration": 99,
    "start_time": "2021-06-28T17:31:16.570Z"
   },
   {
    "duration": 12,
    "start_time": "2021-06-28T17:31:16.672Z"
   },
   {
    "duration": 949,
    "start_time": "2021-06-28T17:31:16.687Z"
   },
   {
    "duration": 456,
    "start_time": "2021-06-28T17:31:17.183Z"
   },
   {
    "duration": 451,
    "start_time": "2021-06-28T17:31:17.189Z"
   },
   {
    "duration": 446,
    "start_time": "2021-06-28T17:31:17.195Z"
   },
   {
    "duration": 441,
    "start_time": "2021-06-28T17:31:17.202Z"
   },
   {
    "duration": 436,
    "start_time": "2021-06-28T17:31:17.208Z"
   },
   {
    "duration": 431,
    "start_time": "2021-06-28T17:31:17.214Z"
   },
   {
    "duration": 427,
    "start_time": "2021-06-28T17:31:17.220Z"
   },
   {
    "duration": -221,
    "start_time": "2021-06-28T17:31:17.869Z"
   },
   {
    "duration": -227,
    "start_time": "2021-06-28T17:31:17.876Z"
   },
   {
    "duration": -233,
    "start_time": "2021-06-28T17:31:17.883Z"
   },
   {
    "duration": -237,
    "start_time": "2021-06-28T17:31:17.889Z"
   },
   {
    "duration": -243,
    "start_time": "2021-06-28T17:31:17.896Z"
   },
   {
    "duration": -248,
    "start_time": "2021-06-28T17:31:17.902Z"
   },
   {
    "duration": -251,
    "start_time": "2021-06-28T17:31:17.907Z"
   },
   {
    "duration": -257,
    "start_time": "2021-06-28T17:31:17.914Z"
   },
   {
    "duration": -260,
    "start_time": "2021-06-28T17:31:17.919Z"
   },
   {
    "duration": -266,
    "start_time": "2021-06-28T17:31:17.926Z"
   },
   {
    "duration": -273,
    "start_time": "2021-06-28T17:31:17.934Z"
   },
   {
    "duration": -276,
    "start_time": "2021-06-28T17:31:17.939Z"
   },
   {
    "duration": -281,
    "start_time": "2021-06-28T17:31:17.945Z"
   },
   {
    "duration": -287,
    "start_time": "2021-06-28T17:31:17.952Z"
   },
   {
    "duration": -293,
    "start_time": "2021-06-28T17:31:17.960Z"
   },
   {
    "duration": -317,
    "start_time": "2021-06-28T17:31:17.985Z"
   },
   {
    "duration": -325,
    "start_time": "2021-06-28T17:31:17.995Z"
   },
   {
    "duration": -333,
    "start_time": "2021-06-28T17:31:18.004Z"
   },
   {
    "duration": -337,
    "start_time": "2021-06-28T17:31:18.009Z"
   },
   {
    "duration": -344,
    "start_time": "2021-06-28T17:31:18.018Z"
   },
   {
    "duration": -348,
    "start_time": "2021-06-28T17:31:18.023Z"
   },
   {
    "duration": -354,
    "start_time": "2021-06-28T17:31:18.030Z"
   },
   {
    "duration": -361,
    "start_time": "2021-06-28T17:31:18.039Z"
   },
   {
    "duration": -368,
    "start_time": "2021-06-28T17:31:18.047Z"
   },
   {
    "duration": -373,
    "start_time": "2021-06-28T17:31:18.053Z"
   },
   {
    "duration": -378,
    "start_time": "2021-06-28T17:31:18.059Z"
   },
   {
    "duration": -385,
    "start_time": "2021-06-28T17:31:18.067Z"
   },
   {
    "duration": -389,
    "start_time": "2021-06-28T17:31:18.073Z"
   },
   {
    "duration": -394,
    "start_time": "2021-06-28T17:31:18.079Z"
   },
   {
    "duration": -422,
    "start_time": "2021-06-28T17:31:18.108Z"
   },
   {
    "duration": -429,
    "start_time": "2021-06-28T17:31:18.117Z"
   },
   {
    "duration": 276,
    "start_time": "2021-06-28T17:31:37.491Z"
   },
   {
    "duration": 333,
    "start_time": "2021-06-28T17:32:56.901Z"
   },
   {
    "duration": 385,
    "start_time": "2021-06-28T17:33:05.661Z"
   },
   {
    "duration": 12591,
    "start_time": "2021-06-28T17:33:27.983Z"
   },
   {
    "duration": 268,
    "start_time": "2021-06-28T17:33:51.641Z"
   },
   {
    "duration": 264,
    "start_time": "2021-06-28T17:34:05.571Z"
   },
   {
    "duration": 33,
    "start_time": "2021-06-28T17:34:49.831Z"
   },
   {
    "duration": 336,
    "start_time": "2021-06-28T17:36:51.230Z"
   },
   {
    "duration": 291,
    "start_time": "2021-06-28T17:38:25.520Z"
   },
   {
    "duration": 9,
    "start_time": "2021-06-28T17:38:40.220Z"
   },
   {
    "duration": 297,
    "start_time": "2021-06-28T17:39:16.442Z"
   },
   {
    "duration": 354,
    "start_time": "2021-06-28T17:39:54.471Z"
   },
   {
    "duration": 341,
    "start_time": "2021-06-28T17:40:41.342Z"
   },
   {
    "duration": 379,
    "start_time": "2021-06-28T17:42:46.381Z"
   },
   {
    "duration": 15,
    "start_time": "2021-06-28T17:42:54.621Z"
   },
   {
    "duration": 12,
    "start_time": "2021-06-28T17:43:03.851Z"
   },
   {
    "duration": 12,
    "start_time": "2021-06-28T17:43:06.721Z"
   },
   {
    "duration": 2770,
    "start_time": "2021-06-28T17:43:11.985Z"
   },
   {
    "duration": 25,
    "start_time": "2021-06-28T17:43:14.758Z"
   },
   {
    "duration": 11,
    "start_time": "2021-06-28T17:43:14.788Z"
   },
   {
    "duration": 7,
    "start_time": "2021-06-28T17:43:14.802Z"
   },
   {
    "duration": 18,
    "start_time": "2021-06-28T17:43:14.812Z"
   },
   {
    "duration": 37,
    "start_time": "2021-06-28T17:43:14.832Z"
   },
   {
    "duration": 9,
    "start_time": "2021-06-28T17:43:14.871Z"
   },
   {
    "duration": 34,
    "start_time": "2021-06-28T17:43:14.883Z"
   },
   {
    "duration": 48,
    "start_time": "2021-06-28T17:43:14.923Z"
   },
   {
    "duration": 15,
    "start_time": "2021-06-28T17:43:14.974Z"
   },
   {
    "duration": 808,
    "start_time": "2021-06-28T17:43:14.992Z"
   },
   {
    "duration": 14,
    "start_time": "2021-06-28T17:43:15.803Z"
   },
   {
    "duration": 16,
    "start_time": "2021-06-28T17:43:15.819Z"
   },
   {
    "duration": 34,
    "start_time": "2021-06-28T17:43:15.867Z"
   },
   {
    "duration": 8,
    "start_time": "2021-06-28T17:43:15.904Z"
   },
   {
    "duration": 55,
    "start_time": "2021-06-28T17:43:15.915Z"
   },
   {
    "duration": 288,
    "start_time": "2021-06-28T17:43:15.973Z"
   },
   {
    "duration": 17,
    "start_time": "2021-06-28T17:43:16.268Z"
   },
   {
    "duration": 530,
    "start_time": "2021-06-28T17:43:16.288Z"
   },
   {
    "duration": 7,
    "start_time": "2021-06-28T17:43:16.821Z"
   },
   {
    "duration": 11,
    "start_time": "2021-06-28T17:43:16.830Z"
   },
   {
    "duration": 28,
    "start_time": "2021-06-28T17:43:16.843Z"
   },
   {
    "duration": 5,
    "start_time": "2021-06-28T17:43:16.874Z"
   },
   {
    "duration": 15,
    "start_time": "2021-06-28T17:43:16.883Z"
   },
   {
    "duration": 8,
    "start_time": "2021-06-28T17:43:16.901Z"
   },
   {
    "duration": 56,
    "start_time": "2021-06-28T17:43:16.912Z"
   },
   {
    "duration": 6,
    "start_time": "2021-06-28T17:43:16.977Z"
   },
   {
    "duration": 114,
    "start_time": "2021-06-28T17:43:16.987Z"
   },
   {
    "duration": 298,
    "start_time": "2021-06-28T17:43:17.104Z"
   },
   {
    "duration": 12470,
    "start_time": "2021-06-28T17:43:17.405Z"
   },
   {
    "duration": 287,
    "start_time": "2021-06-28T17:43:29.877Z"
   },
   {
    "duration": 33,
    "start_time": "2021-06-28T17:43:30.168Z"
   },
   {
    "duration": 581,
    "start_time": "2021-06-28T17:43:30.203Z"
   },
   {
    "duration": 1120,
    "start_time": "2021-06-28T17:43:29.666Z"
   },
   {
    "duration": 1116,
    "start_time": "2021-06-28T17:43:29.672Z"
   },
   {
    "duration": 1106,
    "start_time": "2021-06-28T17:43:29.683Z"
   },
   {
    "duration": 1101,
    "start_time": "2021-06-28T17:43:29.689Z"
   },
   {
    "duration": 1091,
    "start_time": "2021-06-28T17:43:29.700Z"
   },
   {
    "duration": 1087,
    "start_time": "2021-06-28T17:43:29.705Z"
   },
   {
    "duration": 1076,
    "start_time": "2021-06-28T17:43:29.717Z"
   },
   {
    "duration": 1072,
    "start_time": "2021-06-28T17:43:29.723Z"
   },
   {
    "duration": 1062,
    "start_time": "2021-06-28T17:43:29.734Z"
   },
   {
    "duration": 1055,
    "start_time": "2021-06-28T17:43:29.742Z"
   },
   {
    "duration": 1046,
    "start_time": "2021-06-28T17:43:29.752Z"
   },
   {
    "duration": 1033,
    "start_time": "2021-06-28T17:43:29.766Z"
   },
   {
    "duration": 1017,
    "start_time": "2021-06-28T17:43:29.784Z"
   },
   {
    "duration": 993,
    "start_time": "2021-06-28T17:43:29.809Z"
   },
   {
    "duration": 970,
    "start_time": "2021-06-28T17:43:29.833Z"
   },
   {
    "duration": 962,
    "start_time": "2021-06-28T17:43:29.842Z"
   },
   {
    "duration": 947,
    "start_time": "2021-06-28T17:43:29.859Z"
   },
   {
    "duration": 934,
    "start_time": "2021-06-28T17:43:29.873Z"
   },
   {
    "duration": 923,
    "start_time": "2021-06-28T17:43:29.885Z"
   },
   {
    "duration": 909,
    "start_time": "2021-06-28T17:43:29.900Z"
   },
   {
    "duration": 896,
    "start_time": "2021-06-28T17:43:29.915Z"
   },
   {
    "duration": 891,
    "start_time": "2021-06-28T17:43:29.921Z"
   },
   {
    "duration": 883,
    "start_time": "2021-06-28T17:43:29.930Z"
   },
   {
    "duration": 876,
    "start_time": "2021-06-28T17:43:29.938Z"
   },
   {
    "duration": 863,
    "start_time": "2021-06-28T17:43:29.953Z"
   },
   {
    "duration": 858,
    "start_time": "2021-06-28T17:43:29.959Z"
   },
   {
    "duration": 846,
    "start_time": "2021-06-28T17:43:29.972Z"
   },
   {
    "duration": 840,
    "start_time": "2021-06-28T17:43:29.979Z"
   },
   {
    "duration": 834,
    "start_time": "2021-06-28T17:43:29.987Z"
   },
   {
    "duration": 830,
    "start_time": "2021-06-28T17:43:29.992Z"
   },
   {
    "duration": 864,
    "start_time": "2021-06-28T17:43:30.003Z"
   },
   {
    "duration": 7,
    "start_time": "2021-06-28T17:45:31.013Z"
   },
   {
    "duration": 5,
    "start_time": "2021-06-28T17:45:32.363Z"
   },
   {
    "duration": 5,
    "start_time": "2021-06-28T17:45:43.053Z"
   },
   {
    "duration": 11,
    "start_time": "2021-06-28T17:45:59.893Z"
   },
   {
    "duration": 352,
    "start_time": "2021-06-28T17:46:00.523Z"
   },
   {
    "duration": 383,
    "start_time": "2021-06-28T17:46:05.143Z"
   },
   {
    "duration": 350,
    "start_time": "2021-06-28T17:46:07.383Z"
   },
   {
    "duration": 334,
    "start_time": "2021-06-28T17:46:24.844Z"
   },
   {
    "duration": 344,
    "start_time": "2021-06-28T17:46:37.344Z"
   },
   {
    "duration": 28,
    "start_time": "2021-06-28T17:47:20.013Z"
   },
   {
    "duration": 9,
    "start_time": "2021-06-28T17:47:34.463Z"
   },
   {
    "duration": 9,
    "start_time": "2021-06-28T17:47:52.693Z"
   },
   {
    "duration": 8,
    "start_time": "2021-06-28T17:48:04.193Z"
   },
   {
    "duration": 9,
    "start_time": "2021-06-28T17:48:44.724Z"
   },
   {
    "duration": 8,
    "start_time": "2021-06-28T17:48:54.494Z"
   },
   {
    "duration": 439,
    "start_time": "2021-06-28T17:48:55.844Z"
   },
   {
    "duration": 27,
    "start_time": "2021-06-28T17:48:57.503Z"
   },
   {
    "duration": 8,
    "start_time": "2021-06-28T17:48:58.674Z"
   },
   {
    "duration": 8,
    "start_time": "2021-06-28T17:48:59.663Z"
   },
   {
    "duration": 337,
    "start_time": "2021-06-28T17:49:01.134Z"
   },
   {
    "duration": 314,
    "start_time": "2021-06-28T17:51:06.443Z"
   },
   {
    "duration": 7,
    "start_time": "2021-06-28T17:51:21.703Z"
   },
   {
    "duration": 289,
    "start_time": "2021-06-28T17:51:33.983Z"
   },
   {
    "duration": 356,
    "start_time": "2021-06-28T18:07:19.773Z"
   },
   {
    "duration": 6,
    "start_time": "2021-06-28T18:07:59.093Z"
   },
   {
    "duration": 5299,
    "start_time": "2021-06-28T18:08:44.154Z"
   },
   {
    "duration": 2011,
    "start_time": "2021-06-28T18:09:43.731Z"
   },
   {
    "duration": 20,
    "start_time": "2021-06-28T18:09:45.745Z"
   },
   {
    "duration": 17,
    "start_time": "2021-06-28T18:09:45.768Z"
   },
   {
    "duration": 9,
    "start_time": "2021-06-28T18:09:45.788Z"
   },
   {
    "duration": 17,
    "start_time": "2021-06-28T18:09:45.799Z"
   },
   {
    "duration": 12,
    "start_time": "2021-06-28T18:09:45.818Z"
   },
   {
    "duration": 40,
    "start_time": "2021-06-28T18:09:45.833Z"
   },
   {
    "duration": 43,
    "start_time": "2021-06-28T18:09:45.876Z"
   },
   {
    "duration": 8,
    "start_time": "2021-06-28T18:09:45.922Z"
   },
   {
    "duration": 35,
    "start_time": "2021-06-28T18:09:45.933Z"
   },
   {
    "duration": 583,
    "start_time": "2021-06-28T18:09:45.971Z"
   },
   {
    "duration": 18,
    "start_time": "2021-06-28T18:09:46.557Z"
   },
   {
    "duration": 16,
    "start_time": "2021-06-28T18:09:46.577Z"
   },
   {
    "duration": 71,
    "start_time": "2021-06-28T18:09:46.597Z"
   },
   {
    "duration": 7,
    "start_time": "2021-06-28T18:09:46.671Z"
   },
   {
    "duration": 28,
    "start_time": "2021-06-28T18:09:46.682Z"
   },
   {
    "duration": 214,
    "start_time": "2021-06-28T18:09:46.713Z"
   },
   {
    "duration": 36,
    "start_time": "2021-06-28T18:09:46.931Z"
   },
   {
    "duration": 447,
    "start_time": "2021-06-28T18:09:46.970Z"
   },
   {
    "duration": 9,
    "start_time": "2021-06-28T18:09:47.420Z"
   },
   {
    "duration": 36,
    "start_time": "2021-06-28T18:09:47.432Z"
   },
   {
    "duration": 12,
    "start_time": "2021-06-28T18:09:47.471Z"
   },
   {
    "duration": 6,
    "start_time": "2021-06-28T18:09:47.490Z"
   },
   {
    "duration": 15,
    "start_time": "2021-06-28T18:09:47.500Z"
   },
   {
    "duration": 51,
    "start_time": "2021-06-28T18:09:47.518Z"
   },
   {
    "duration": 12,
    "start_time": "2021-06-28T18:09:47.572Z"
   },
   {
    "duration": 14,
    "start_time": "2021-06-28T18:09:47.587Z"
   },
   {
    "duration": 109,
    "start_time": "2021-06-28T18:09:47.604Z"
   },
   {
    "duration": 295,
    "start_time": "2021-06-28T18:09:47.716Z"
   },
   {
    "duration": 12668,
    "start_time": "2021-06-28T18:09:48.014Z"
   },
   {
    "duration": 288,
    "start_time": "2021-06-28T18:10:00.685Z"
   },
   {
    "duration": 32,
    "start_time": "2021-06-28T18:10:00.976Z"
   },
   {
    "duration": 12,
    "start_time": "2021-06-28T18:10:01.010Z"
   },
   {
    "duration": 5411,
    "start_time": "2021-06-28T18:10:01.025Z"
   },
   {
    "duration": 968,
    "start_time": "2021-06-28T18:10:05.472Z"
   },
   {
    "duration": 965,
    "start_time": "2021-06-28T18:10:05.477Z"
   },
   {
    "duration": 964,
    "start_time": "2021-06-28T18:10:05.480Z"
   },
   {
    "duration": 5396,
    "start_time": "2021-06-28T18:11:15.581Z"
   },
   {
    "duration": 5307,
    "start_time": "2021-06-28T18:12:01.400Z"
   },
   {
    "duration": 355,
    "start_time": "2021-06-28T18:25:39.805Z"
   },
   {
    "duration": 5074,
    "start_time": "2021-06-28T18:25:49.349Z"
   },
   {
    "duration": 99,
    "start_time": "2021-06-28T18:26:00.435Z"
   },
   {
    "duration": 5115,
    "start_time": "2021-06-28T18:27:34.706Z"
   },
   {
    "duration": 389,
    "start_time": "2021-06-28T18:27:54.314Z"
   },
   {
    "duration": 7,
    "start_time": "2021-06-28T18:28:39.084Z"
   },
   {
    "duration": 7,
    "start_time": "2021-06-28T18:29:48.264Z"
   },
   {
    "duration": 326,
    "start_time": "2021-06-28T18:29:51.374Z"
   },
   {
    "duration": 294,
    "start_time": "2021-06-28T18:30:00.235Z"
   },
   {
    "duration": 9,
    "start_time": "2021-06-28T18:44:28.284Z"
   },
   {
    "duration": 319,
    "start_time": "2021-06-28T18:45:36.735Z"
   },
   {
    "duration": 7,
    "start_time": "2021-06-28T18:46:43.944Z"
   },
   {
    "duration": 358,
    "start_time": "2021-06-28T19:08:06.185Z"
   },
   {
    "duration": 81,
    "start_time": "2021-06-28T19:08:14.786Z"
   },
   {
    "duration": 272,
    "start_time": "2021-06-28T19:08:16.198Z"
   },
   {
    "duration": 12747,
    "start_time": "2021-06-28T19:08:22.762Z"
   },
   {
    "duration": 278,
    "start_time": "2021-06-28T19:08:35.511Z"
   },
   {
    "duration": 33,
    "start_time": "2021-06-28T19:08:45.428Z"
   },
   {
    "duration": 10,
    "start_time": "2021-06-28T19:08:46.181Z"
   },
   {
    "duration": 5,
    "start_time": "2021-06-28T19:08:48.047Z"
   },
   {
    "duration": 69,
    "start_time": "2021-06-28T19:30:40.280Z"
   },
   {
    "duration": 68,
    "start_time": "2021-06-28T19:31:44.127Z"
   },
   {
    "duration": 5,
    "start_time": "2021-06-28T19:34:39.300Z"
   },
   {
    "duration": 1976,
    "start_time": "2021-06-28T19:35:04.050Z"
   },
   {
    "duration": 22,
    "start_time": "2021-06-28T19:35:06.029Z"
   },
   {
    "duration": 15,
    "start_time": "2021-06-28T19:35:06.054Z"
   },
   {
    "duration": 7,
    "start_time": "2021-06-28T19:35:06.073Z"
   },
   {
    "duration": 22,
    "start_time": "2021-06-28T19:35:06.083Z"
   },
   {
    "duration": 12,
    "start_time": "2021-06-28T19:35:06.108Z"
   },
   {
    "duration": 45,
    "start_time": "2021-06-28T19:35:06.122Z"
   },
   {
    "duration": 33,
    "start_time": "2021-06-28T19:35:06.171Z"
   },
   {
    "duration": 10,
    "start_time": "2021-06-28T19:35:06.206Z"
   },
   {
    "duration": 49,
    "start_time": "2021-06-28T19:35:06.218Z"
   },
   {
    "duration": 799,
    "start_time": "2021-06-28T19:35:06.269Z"
   },
   {
    "duration": 13,
    "start_time": "2021-06-28T19:35:07.070Z"
   },
   {
    "duration": 14,
    "start_time": "2021-06-28T19:35:07.085Z"
   },
   {
    "duration": 31,
    "start_time": "2021-06-28T19:35:07.102Z"
   },
   {
    "duration": 7,
    "start_time": "2021-06-28T19:35:07.168Z"
   },
   {
    "duration": 21,
    "start_time": "2021-06-28T19:35:07.177Z"
   },
   {
    "duration": 208,
    "start_time": "2021-06-28T19:35:07.200Z"
   },
   {
    "duration": 12,
    "start_time": "2021-06-28T19:35:07.411Z"
   },
   {
    "duration": 507,
    "start_time": "2021-06-28T19:35:07.425Z"
   },
   {
    "duration": 6,
    "start_time": "2021-06-28T19:35:07.935Z"
   },
   {
    "duration": 7,
    "start_time": "2021-06-28T19:35:07.943Z"
   },
   {
    "duration": 7,
    "start_time": "2021-06-28T19:35:07.968Z"
   },
   {
    "duration": 6,
    "start_time": "2021-06-28T19:35:07.980Z"
   },
   {
    "duration": 16,
    "start_time": "2021-06-28T19:35:07.989Z"
   },
   {
    "duration": 10,
    "start_time": "2021-06-28T19:35:08.007Z"
   },
   {
    "duration": 49,
    "start_time": "2021-06-28T19:35:08.020Z"
   },
   {
    "duration": 9,
    "start_time": "2021-06-28T19:35:08.072Z"
   },
   {
    "duration": 107,
    "start_time": "2021-06-28T19:35:08.084Z"
   },
   {
    "duration": 290,
    "start_time": "2021-06-28T19:35:08.194Z"
   },
   {
    "duration": 13214,
    "start_time": "2021-06-28T19:35:08.486Z"
   },
   {
    "duration": 275,
    "start_time": "2021-06-28T19:35:21.703Z"
   },
   {
    "duration": 33,
    "start_time": "2021-06-28T19:35:21.981Z"
   },
   {
    "duration": 12,
    "start_time": "2021-06-28T19:35:22.017Z"
   },
   {
    "duration": 69,
    "start_time": "2021-06-28T19:35:22.068Z"
   },
   {
    "duration": 5,
    "start_time": "2021-06-28T19:35:22.139Z"
   },
   {
    "duration": 356,
    "start_time": "2021-06-28T19:35:22.146Z"
   },
   {
    "duration": 6,
    "start_time": "2021-06-28T19:35:22.505Z"
   },
   {
    "duration": 6,
    "start_time": "2021-06-28T19:36:02.510Z"
   },
   {
    "duration": 70,
    "start_time": "2021-06-28T19:37:03.936Z"
   },
   {
    "duration": 69,
    "start_time": "2021-06-28T19:37:45.865Z"
   },
   {
    "duration": 72,
    "start_time": "2021-06-28T19:38:49.478Z"
   },
   {
    "duration": 5,
    "start_time": "2021-06-28T19:39:05.563Z"
   },
   {
    "duration": 5,
    "start_time": "2021-06-28T19:39:35.001Z"
   },
   {
    "duration": 69,
    "start_time": "2021-06-28T19:39:46.294Z"
   },
   {
    "duration": 5,
    "start_time": "2021-06-28T19:39:47.276Z"
   },
   {
    "duration": 4,
    "start_time": "2021-06-28T19:39:48.336Z"
   },
   {
    "duration": 69,
    "start_time": "2021-06-28T19:40:05.513Z"
   },
   {
    "duration": 72,
    "start_time": "2021-06-28T19:40:49.048Z"
   },
   {
    "duration": 5,
    "start_time": "2021-06-28T19:40:52.448Z"
   },
   {
    "duration": 6,
    "start_time": "2021-06-28T19:41:00.249Z"
   },
   {
    "duration": 72,
    "start_time": "2021-06-28T19:41:16.620Z"
   },
   {
    "duration": 5,
    "start_time": "2021-06-28T19:41:16.696Z"
   },
   {
    "duration": 5,
    "start_time": "2021-06-28T19:41:28.920Z"
   },
   {
    "duration": 70,
    "start_time": "2021-06-28T19:41:39.646Z"
   },
   {
    "duration": 6,
    "start_time": "2021-06-28T19:41:41.201Z"
   },
   {
    "duration": 5,
    "start_time": "2021-06-28T19:41:42.120Z"
   },
   {
    "duration": 526,
    "start_time": "2021-06-28T19:43:14.446Z"
   },
   {
    "duration": 331,
    "start_time": "2021-06-28T19:43:35.509Z"
   },
   {
    "duration": 5,
    "start_time": "2021-06-28T19:46:02.668Z"
   },
   {
    "duration": 83,
    "start_time": "2021-06-28T19:46:07.226Z"
   },
   {
    "duration": 5,
    "start_time": "2021-06-28T19:46:09.456Z"
   },
   {
    "duration": 5,
    "start_time": "2021-06-28T19:46:23.789Z"
   },
   {
    "duration": 70,
    "start_time": "2021-06-28T19:47:02.030Z"
   },
   {
    "duration": 5,
    "start_time": "2021-06-28T19:47:04.235Z"
   },
   {
    "duration": 281,
    "start_time": "2021-06-28T19:47:15.262Z"
   },
   {
    "duration": 12682,
    "start_time": "2021-06-28T19:47:19.456Z"
   },
   {
    "duration": 287,
    "start_time": "2021-06-28T19:47:32.140Z"
   },
   {
    "duration": 32,
    "start_time": "2021-06-28T19:48:49.630Z"
   },
   {
    "duration": 9,
    "start_time": "2021-06-28T19:48:51.468Z"
   },
   {
    "duration": 70,
    "start_time": "2021-06-28T19:48:52.751Z"
   },
   {
    "duration": 332,
    "start_time": "2021-06-28T19:48:54.152Z"
   },
   {
    "duration": 334,
    "start_time": "2021-06-28T19:50:43.477Z"
   },
   {
    "duration": 335,
    "start_time": "2021-06-28T19:51:08.470Z"
   },
   {
    "duration": 328,
    "start_time": "2021-06-28T19:51:30.664Z"
   },
   {
    "duration": 319,
    "start_time": "2021-06-28T19:51:39.909Z"
   },
   {
    "duration": 28,
    "start_time": "2021-06-28T20:03:10.519Z"
   },
   {
    "duration": 70,
    "start_time": "2021-06-28T20:12:37.981Z"
   },
   {
    "duration": 71,
    "start_time": "2021-06-28T20:12:55.714Z"
   },
   {
    "duration": 318,
    "start_time": "2021-06-28T20:19:12.344Z"
   },
   {
    "duration": 334,
    "start_time": "2021-06-28T20:19:31.753Z"
   },
   {
    "duration": 266,
    "start_time": "2021-06-28T20:21:39.975Z"
   },
   {
    "duration": 261,
    "start_time": "2021-06-28T20:21:56.369Z"
   },
   {
    "duration": 11725,
    "start_time": "2021-06-28T20:24:09.943Z"
   },
   {
    "duration": 11796,
    "start_time": "2021-06-28T20:25:52.218Z"
   },
   {
    "duration": 74,
    "start_time": "2021-06-28T20:30:30.309Z"
   },
   {
    "duration": 68,
    "start_time": "2021-06-28T20:30:56.138Z"
   },
   {
    "duration": 68,
    "start_time": "2021-06-28T20:31:08.709Z"
   },
   {
    "duration": 72,
    "start_time": "2021-06-28T20:35:19.386Z"
   },
   {
    "duration": 321,
    "start_time": "2021-06-28T20:35:23.522Z"
   },
   {
    "duration": 11543,
    "start_time": "2021-06-28T20:35:28.672Z"
   },
   {
    "duration": 249,
    "start_time": "2021-06-28T20:39:22.420Z"
   },
   {
    "duration": 319,
    "start_time": "2021-06-28T20:39:28.493Z"
   },
   {
    "duration": 332,
    "start_time": "2021-06-28T20:43:27.826Z"
   },
   {
    "duration": 332,
    "start_time": "2021-06-28T20:44:49.829Z"
   },
   {
    "duration": 345,
    "start_time": "2021-06-28T20:47:50.785Z"
   },
   {
    "duration": 116,
    "start_time": "2021-06-28T20:49:50.025Z"
   },
   {
    "duration": 94,
    "start_time": "2021-06-28T20:50:04.424Z"
   },
   {
    "duration": 313,
    "start_time": "2021-06-28T20:52:07.224Z"
   },
   {
    "duration": 316,
    "start_time": "2021-06-28T20:52:22.413Z"
   },
   {
    "duration": 309,
    "start_time": "2021-06-28T20:52:40.219Z"
   },
   {
    "duration": 323,
    "start_time": "2021-06-28T20:52:49.186Z"
   },
   {
    "duration": 324,
    "start_time": "2021-06-28T20:52:59.974Z"
   },
   {
    "duration": 313,
    "start_time": "2021-06-28T20:53:21.591Z"
   },
   {
    "duration": 317,
    "start_time": "2021-06-28T20:53:25.414Z"
   },
   {
    "duration": 311,
    "start_time": "2021-06-28T20:53:33.413Z"
   },
   {
    "duration": 34548,
    "start_time": "2021-06-28T20:54:01.703Z"
   },
   {
    "duration": 317,
    "start_time": "2021-06-28T20:54:46.545Z"
   },
   {
    "duration": 33913,
    "start_time": "2021-06-28T20:55:19.672Z"
   },
   {
    "duration": 262,
    "start_time": "2021-06-28T20:56:02.811Z"
   },
   {
    "duration": 33,
    "start_time": "2021-06-28T20:56:10.337Z"
   },
   {
    "duration": 11,
    "start_time": "2021-06-28T20:56:10.776Z"
   },
   {
    "duration": 70,
    "start_time": "2021-06-28T20:56:11.131Z"
   },
   {
    "duration": 345,
    "start_time": "2021-06-28T20:56:11.203Z"
   },
   {
    "duration": 34761,
    "start_time": "2021-06-28T20:56:13.414Z"
   },
   {
    "duration": 330,
    "start_time": "2021-06-28T20:56:48.178Z"
   },
   {
    "duration": 58779,
    "start_time": "2021-06-28T20:57:26.335Z"
   },
   {
    "duration": 308,
    "start_time": "2021-06-28T20:59:11.541Z"
   },
   {
    "duration": 11617,
    "start_time": "2021-06-28T20:59:35.537Z"
   },
   {
    "duration": 287,
    "start_time": "2021-06-28T20:59:47.157Z"
   },
   {
    "duration": 42,
    "start_time": "2021-06-28T20:59:47.447Z"
   },
   {
    "duration": 11,
    "start_time": "2021-06-28T20:59:47.492Z"
   },
   {
    "duration": 93,
    "start_time": "2021-06-28T20:59:47.505Z"
   },
   {
    "duration": 350,
    "start_time": "2021-06-28T20:59:47.601Z"
   },
   {
    "duration": 11719,
    "start_time": "2021-06-28T21:00:04.706Z"
   },
   {
    "duration": 369,
    "start_time": "2021-06-28T21:00:16.428Z"
   },
   {
    "duration": 318,
    "start_time": "2021-06-28T21:02:00.096Z"
   },
   {
    "duration": 27,
    "start_time": "2021-06-28T21:02:29.018Z"
   },
   {
    "duration": 2015,
    "start_time": "2021-06-28T21:02:34.753Z"
   },
   {
    "duration": 21,
    "start_time": "2021-06-28T21:02:36.770Z"
   },
   {
    "duration": 21,
    "start_time": "2021-06-28T21:02:36.793Z"
   },
   {
    "duration": 8,
    "start_time": "2021-06-28T21:02:36.817Z"
   },
   {
    "duration": 27,
    "start_time": "2021-06-28T21:02:36.827Z"
   },
   {
    "duration": 16,
    "start_time": "2021-06-28T21:02:36.857Z"
   },
   {
    "duration": 20,
    "start_time": "2021-06-28T21:02:36.875Z"
   },
   {
    "duration": 52,
    "start_time": "2021-06-28T21:02:36.897Z"
   },
   {
    "duration": 21,
    "start_time": "2021-06-28T21:02:36.953Z"
   },
   {
    "duration": 19,
    "start_time": "2021-06-28T21:02:36.977Z"
   },
   {
    "duration": 601,
    "start_time": "2021-06-28T21:02:36.998Z"
   },
   {
    "duration": 12,
    "start_time": "2021-06-28T21:02:37.601Z"
   },
   {
    "duration": 17,
    "start_time": "2021-06-28T21:02:37.616Z"
   },
   {
    "duration": 59,
    "start_time": "2021-06-28T21:02:37.635Z"
   },
   {
    "duration": 7,
    "start_time": "2021-06-28T21:02:37.697Z"
   },
   {
    "duration": 18,
    "start_time": "2021-06-28T21:02:37.707Z"
   },
   {
    "duration": 219,
    "start_time": "2021-06-28T21:02:37.727Z"
   },
   {
    "duration": 20,
    "start_time": "2021-06-28T21:02:37.949Z"
   },
   {
    "duration": 434,
    "start_time": "2021-06-28T21:02:37.971Z"
   },
   {
    "duration": 7,
    "start_time": "2021-06-28T21:02:38.407Z"
   },
   {
    "duration": 8,
    "start_time": "2021-06-28T21:02:38.416Z"
   },
   {
    "duration": 10,
    "start_time": "2021-06-28T21:02:38.427Z"
   },
   {
    "duration": 5,
    "start_time": "2021-06-28T21:02:38.468Z"
   },
   {
    "duration": 16,
    "start_time": "2021-06-28T21:02:38.476Z"
   },
   {
    "duration": 9,
    "start_time": "2021-06-28T21:02:38.495Z"
   },
   {
    "duration": 13,
    "start_time": "2021-06-28T21:02:38.507Z"
   },
   {
    "duration": 43,
    "start_time": "2021-06-28T21:02:38.527Z"
   },
   {
    "duration": 93,
    "start_time": "2021-06-28T21:02:38.574Z"
   },
   {
    "duration": 291,
    "start_time": "2021-06-28T21:02:38.670Z"
   },
   {
    "duration": 11805,
    "start_time": "2021-06-28T21:02:38.968Z"
   },
   {
    "duration": 291,
    "start_time": "2021-06-28T21:02:50.776Z"
   },
   {
    "duration": 32,
    "start_time": "2021-06-28T21:02:51.069Z"
   },
   {
    "duration": 9,
    "start_time": "2021-06-28T21:02:51.104Z"
   },
   {
    "duration": 102,
    "start_time": "2021-06-28T21:02:51.115Z"
   },
   {
    "duration": 336,
    "start_time": "2021-06-28T21:02:51.219Z"
   },
   {
    "duration": 11658,
    "start_time": "2021-06-28T21:02:51.558Z"
   },
   {
    "duration": 339,
    "start_time": "2021-06-28T21:03:03.219Z"
   },
   {
    "duration": 26,
    "start_time": "2021-06-28T21:03:03.567Z"
   },
   {
    "duration": 27,
    "start_time": "2021-06-28T21:07:48.496Z"
   },
   {
    "duration": 282,
    "start_time": "2021-06-28T21:09:08.556Z"
   },
   {
    "duration": 11611,
    "start_time": "2021-06-28T21:09:35.357Z"
   },
   {
    "duration": 281,
    "start_time": "2021-06-28T21:09:46.970Z"
   },
   {
    "duration": 28,
    "start_time": "2021-06-28T21:10:19.175Z"
   },
   {
    "duration": 9,
    "start_time": "2021-06-28T21:10:22.095Z"
   },
   {
    "duration": 71,
    "start_time": "2021-06-28T21:10:23.470Z"
   },
   {
    "duration": 324,
    "start_time": "2021-06-28T21:10:35.136Z"
   },
   {
    "duration": 319,
    "start_time": "2021-06-28T21:10:58.628Z"
   },
   {
    "duration": 28,
    "start_time": "2021-06-28T21:11:24.179Z"
   },
   {
    "duration": 17,
    "start_time": "2021-06-28T21:59:57.854Z"
   },
   {
    "duration": 7,
    "start_time": "2021-06-28T22:00:26.230Z"
   },
   {
    "duration": 494,
    "start_time": "2021-06-28T22:01:02.622Z"
   },
   {
    "duration": 14,
    "start_time": "2021-06-28T22:03:21.626Z"
   },
   {
    "duration": 7,
    "start_time": "2021-06-28T22:03:57.467Z"
   },
   {
    "duration": 6,
    "start_time": "2021-06-28T22:04:07.055Z"
   },
   {
    "duration": 243,
    "start_time": "2021-06-28T22:05:02.815Z"
   },
   {
    "duration": 372,
    "start_time": "2021-06-28T22:08:18.814Z"
   },
   {
    "duration": 5,
    "start_time": "2021-06-28T22:08:28.061Z"
   },
   {
    "duration": 14,
    "start_time": "2021-06-28T22:08:29.506Z"
   },
   {
    "duration": 20,
    "start_time": "2021-06-28T22:08:52.657Z"
   },
   {
    "duration": 26,
    "start_time": "2021-06-28T22:37:18.296Z"
   },
   {
    "duration": 2032,
    "start_time": "2021-06-28T22:37:27.826Z"
   },
   {
    "duration": 25,
    "start_time": "2021-06-28T22:37:29.861Z"
   },
   {
    "duration": 7,
    "start_time": "2021-06-28T22:37:29.889Z"
   },
   {
    "duration": 9,
    "start_time": "2021-06-28T22:37:29.899Z"
   },
   {
    "duration": 22,
    "start_time": "2021-06-28T22:37:29.910Z"
   },
   {
    "duration": 32,
    "start_time": "2021-06-28T22:37:29.934Z"
   },
   {
    "duration": 9,
    "start_time": "2021-06-28T22:37:29.969Z"
   },
   {
    "duration": 34,
    "start_time": "2021-06-28T22:37:29.982Z"
   },
   {
    "duration": 9,
    "start_time": "2021-06-28T22:37:30.019Z"
   },
   {
    "duration": 49,
    "start_time": "2021-06-28T22:37:30.030Z"
   },
   {
    "duration": 609,
    "start_time": "2021-06-28T22:37:30.082Z"
   },
   {
    "duration": 12,
    "start_time": "2021-06-28T22:37:30.693Z"
   },
   {
    "duration": 24,
    "start_time": "2021-06-28T22:37:30.707Z"
   },
   {
    "duration": 55,
    "start_time": "2021-06-28T22:37:30.733Z"
   },
   {
    "duration": 7,
    "start_time": "2021-06-28T22:37:30.790Z"
   },
   {
    "duration": 32,
    "start_time": "2021-06-28T22:37:30.799Z"
   },
   {
    "duration": 199,
    "start_time": "2021-06-28T22:37:30.833Z"
   },
   {
    "duration": 13,
    "start_time": "2021-06-28T22:37:31.035Z"
   },
   {
    "duration": 461,
    "start_time": "2021-06-28T22:37:31.051Z"
   },
   {
    "duration": 8,
    "start_time": "2021-06-28T22:37:31.515Z"
   },
   {
    "duration": 20,
    "start_time": "2021-06-28T22:37:31.525Z"
   },
   {
    "duration": 23,
    "start_time": "2021-06-28T22:37:31.548Z"
   },
   {
    "duration": 23,
    "start_time": "2021-06-28T22:37:31.575Z"
   },
   {
    "duration": 18,
    "start_time": "2021-06-28T22:37:31.601Z"
   },
   {
    "duration": 20,
    "start_time": "2021-06-28T22:37:31.622Z"
   },
   {
    "duration": 21,
    "start_time": "2021-06-28T22:37:31.645Z"
   },
   {
    "duration": 9,
    "start_time": "2021-06-28T22:37:31.669Z"
   },
   {
    "duration": 98,
    "start_time": "2021-06-28T22:37:31.680Z"
   },
   {
    "duration": 313,
    "start_time": "2021-06-28T22:37:31.780Z"
   },
   {
    "duration": 11672,
    "start_time": "2021-06-28T22:37:32.095Z"
   },
   {
    "duration": 278,
    "start_time": "2021-06-28T22:37:43.769Z"
   },
   {
    "duration": 37,
    "start_time": "2021-06-28T22:37:44.049Z"
   },
   {
    "duration": 9,
    "start_time": "2021-06-28T22:37:44.088Z"
   },
   {
    "duration": 100,
    "start_time": "2021-06-28T22:37:44.099Z"
   },
   {
    "duration": 348,
    "start_time": "2021-06-28T22:37:44.202Z"
   },
   {
    "duration": 11610,
    "start_time": "2021-06-28T22:37:44.552Z"
   },
   {
    "duration": 333,
    "start_time": "2021-06-28T22:37:56.168Z"
   },
   {
    "duration": 27,
    "start_time": "2021-06-28T22:37:56.503Z"
   },
   {
    "duration": 27,
    "start_time": "2021-06-28T22:38:06.781Z"
   },
   {
    "duration": 500,
    "start_time": "2021-06-28T22:47:29.055Z"
   },
   {
    "duration": 14,
    "start_time": "2021-06-28T22:49:01.078Z"
   },
   {
    "duration": 8,
    "start_time": "2021-06-28T22:52:15.989Z"
   },
   {
    "duration": 5,
    "start_time": "2021-06-28T22:52:49.413Z"
   },
   {
    "duration": 302,
    "start_time": "2021-06-28T22:53:27.176Z"
   },
   {
    "duration": 13,
    "start_time": "2021-06-28T22:53:37.534Z"
   },
   {
    "duration": 8,
    "start_time": "2021-06-28T22:56:30.265Z"
   },
   {
    "duration": 331,
    "start_time": "2021-06-28T22:56:57.105Z"
   },
   {
    "duration": 312,
    "start_time": "2021-06-28T22:57:09.865Z"
   },
   {
    "duration": 1983,
    "start_time": "2021-06-28T22:57:20.996Z"
   },
   {
    "duration": 21,
    "start_time": "2021-06-28T22:57:22.981Z"
   },
   {
    "duration": 7,
    "start_time": "2021-06-28T22:57:23.006Z"
   },
   {
    "duration": 14,
    "start_time": "2021-06-28T22:57:23.016Z"
   },
   {
    "duration": 34,
    "start_time": "2021-06-28T22:57:23.032Z"
   },
   {
    "duration": 11,
    "start_time": "2021-06-28T22:57:23.069Z"
   },
   {
    "duration": 17,
    "start_time": "2021-06-28T22:57:23.082Z"
   },
   {
    "duration": 34,
    "start_time": "2021-06-28T22:57:23.101Z"
   },
   {
    "duration": 9,
    "start_time": "2021-06-28T22:57:23.168Z"
   },
   {
    "duration": 21,
    "start_time": "2021-06-28T22:57:23.180Z"
   },
   {
    "duration": 606,
    "start_time": "2021-06-28T22:57:23.204Z"
   },
   {
    "duration": 12,
    "start_time": "2021-06-28T22:57:23.813Z"
   },
   {
    "duration": 28,
    "start_time": "2021-06-28T22:57:23.828Z"
   },
   {
    "duration": 31,
    "start_time": "2021-06-28T22:57:23.868Z"
   },
   {
    "duration": 7,
    "start_time": "2021-06-28T22:57:23.902Z"
   },
   {
    "duration": 35,
    "start_time": "2021-06-28T22:57:23.911Z"
   },
   {
    "duration": 211,
    "start_time": "2021-06-28T22:57:23.948Z"
   },
   {
    "duration": 17,
    "start_time": "2021-06-28T22:57:24.161Z"
   },
   {
    "duration": 479,
    "start_time": "2021-06-28T22:57:24.180Z"
   },
   {
    "duration": 9,
    "start_time": "2021-06-28T22:57:24.662Z"
   },
   {
    "duration": 10,
    "start_time": "2021-06-28T22:57:24.675Z"
   },
   {
    "duration": 22,
    "start_time": "2021-06-28T22:57:24.687Z"
   },
   {
    "duration": 19,
    "start_time": "2021-06-28T22:57:24.711Z"
   },
   {
    "duration": 23,
    "start_time": "2021-06-28T22:57:24.733Z"
   },
   {
    "duration": 7,
    "start_time": "2021-06-28T22:57:24.768Z"
   },
   {
    "duration": 15,
    "start_time": "2021-06-28T22:57:24.778Z"
   },
   {
    "duration": 7,
    "start_time": "2021-06-28T22:57:24.801Z"
   },
   {
    "duration": 109,
    "start_time": "2021-06-28T22:57:24.812Z"
   },
   {
    "duration": 295,
    "start_time": "2021-06-28T22:57:24.925Z"
   },
   {
    "duration": 12852,
    "start_time": "2021-06-28T22:57:25.223Z"
   },
   {
    "duration": 280,
    "start_time": "2021-06-28T22:57:38.078Z"
   },
   {
    "duration": 33,
    "start_time": "2021-06-28T22:57:38.360Z"
   },
   {
    "duration": 9,
    "start_time": "2021-06-28T22:57:38.395Z"
   },
   {
    "duration": 94,
    "start_time": "2021-06-28T22:57:38.407Z"
   },
   {
    "duration": 327,
    "start_time": "2021-06-28T22:57:38.504Z"
   },
   {
    "duration": 12798,
    "start_time": "2021-06-28T22:57:38.834Z"
   },
   {
    "duration": 338,
    "start_time": "2021-06-28T22:57:51.634Z"
   },
   {
    "duration": 27,
    "start_time": "2021-06-28T22:57:51.974Z"
   },
   {
    "duration": 7,
    "start_time": "2021-06-28T22:57:52.003Z"
   },
   {
    "duration": 11,
    "start_time": "2021-06-28T22:57:52.012Z"
   },
   {
    "duration": 44,
    "start_time": "2021-06-28T22:57:52.025Z"
   },
   {
    "duration": 18,
    "start_time": "2021-06-28T22:57:52.071Z"
   },
   {
    "duration": 8,
    "start_time": "2021-06-28T22:58:16.453Z"
   },
   {
    "duration": 7,
    "start_time": "2021-06-28T22:58:24.461Z"
   },
   {
    "duration": 8,
    "start_time": "2021-06-28T22:58:30.105Z"
   },
   {
    "duration": 8,
    "start_time": "2021-06-28T22:58:39.777Z"
   },
   {
    "duration": 9,
    "start_time": "2021-06-28T22:59:10.053Z"
   },
   {
    "duration": 8,
    "start_time": "2021-06-28T22:59:22.153Z"
   },
   {
    "duration": 8,
    "start_time": "2021-06-28T22:59:31.492Z"
   },
   {
    "duration": 8,
    "start_time": "2021-06-28T23:00:30.622Z"
   },
   {
    "duration": 9,
    "start_time": "2021-06-28T23:00:38.816Z"
   },
   {
    "duration": 7,
    "start_time": "2021-06-28T23:03:58.702Z"
   },
   {
    "duration": 7,
    "start_time": "2021-06-28T23:04:11.033Z"
   },
   {
    "duration": 536,
    "start_time": "2021-06-28T23:04:38.342Z"
   },
   {
    "duration": 8,
    "start_time": "2021-06-28T23:05:16.613Z"
   },
   {
    "duration": 9,
    "start_time": "2021-06-28T23:05:34.648Z"
   },
   {
    "duration": 7,
    "start_time": "2021-06-28T23:05:49.449Z"
   },
   {
    "duration": 8,
    "start_time": "2021-06-28T23:06:12.500Z"
   },
   {
    "duration": 69,
    "start_time": "2021-06-28T23:37:42.918Z"
   },
   {
    "duration": 68,
    "start_time": "2021-06-28T23:37:47.827Z"
   },
   {
    "duration": 2005,
    "start_time": "2021-06-29T01:11:38.237Z"
   },
   {
    "duration": 20,
    "start_time": "2021-06-29T01:11:40.245Z"
   },
   {
    "duration": 8,
    "start_time": "2021-06-29T01:11:40.268Z"
   },
   {
    "duration": 9,
    "start_time": "2021-06-29T01:11:40.278Z"
   },
   {
    "duration": 19,
    "start_time": "2021-06-29T01:11:40.289Z"
   },
   {
    "duration": 11,
    "start_time": "2021-06-29T01:11:40.311Z"
   },
   {
    "duration": 8,
    "start_time": "2021-06-29T01:11:40.325Z"
   },
   {
    "duration": 33,
    "start_time": "2021-06-29T01:11:40.368Z"
   },
   {
    "duration": 9,
    "start_time": "2021-06-29T01:11:40.405Z"
   },
   {
    "duration": 50,
    "start_time": "2021-06-29T01:11:40.418Z"
   },
   {
    "duration": 599,
    "start_time": "2021-06-29T01:11:40.471Z"
   },
   {
    "duration": 12,
    "start_time": "2021-06-29T01:11:41.073Z"
   },
   {
    "duration": 16,
    "start_time": "2021-06-29T01:11:41.087Z"
   },
   {
    "duration": 63,
    "start_time": "2021-06-29T01:11:41.106Z"
   },
   {
    "duration": 7,
    "start_time": "2021-06-29T01:11:41.171Z"
   },
   {
    "duration": 22,
    "start_time": "2021-06-29T01:11:41.180Z"
   },
   {
    "duration": 209,
    "start_time": "2021-06-29T01:11:41.205Z"
   },
   {
    "duration": 13,
    "start_time": "2021-06-29T01:11:41.416Z"
   },
   {
    "duration": 463,
    "start_time": "2021-06-29T01:11:41.431Z"
   },
   {
    "duration": 7,
    "start_time": "2021-06-29T01:11:41.897Z"
   },
   {
    "duration": 7,
    "start_time": "2021-06-29T01:11:41.906Z"
   },
   {
    "duration": 9,
    "start_time": "2021-06-29T01:11:41.916Z"
   },
   {
    "duration": 41,
    "start_time": "2021-06-29T01:11:41.927Z"
   },
   {
    "duration": 15,
    "start_time": "2021-06-29T01:11:41.970Z"
   },
   {
    "duration": 7,
    "start_time": "2021-06-29T01:11:41.988Z"
   },
   {
    "duration": 9,
    "start_time": "2021-06-29T01:11:41.998Z"
   },
   {
    "duration": 55,
    "start_time": "2021-06-29T01:11:42.014Z"
   },
   {
    "duration": 73,
    "start_time": "2021-06-29T01:11:42.073Z"
   },
   {
    "duration": 292,
    "start_time": "2021-06-29T01:11:42.168Z"
   },
   {
    "duration": 11477,
    "start_time": "2021-06-29T01:11:42.462Z"
   },
   {
    "duration": 281,
    "start_time": "2021-06-29T01:11:53.942Z"
   },
   {
    "duration": 29,
    "start_time": "2021-06-29T01:11:54.225Z"
   },
   {
    "duration": 18,
    "start_time": "2021-06-29T01:11:54.256Z"
   },
   {
    "duration": 93,
    "start_time": "2021-06-29T01:11:54.277Z"
   },
   {
    "duration": 325,
    "start_time": "2021-06-29T01:11:54.372Z"
   },
   {
    "duration": 11305,
    "start_time": "2021-06-29T01:11:54.699Z"
   },
   {
    "duration": 333,
    "start_time": "2021-06-29T01:12:06.006Z"
   },
   {
    "duration": 34,
    "start_time": "2021-06-29T01:12:06.342Z"
   },
   {
    "duration": 7,
    "start_time": "2021-06-29T01:12:06.378Z"
   },
   {
    "duration": 1936,
    "start_time": "2021-06-29T01:14:46.393Z"
   },
   {
    "duration": 20,
    "start_time": "2021-06-29T01:14:48.332Z"
   },
   {
    "duration": 8,
    "start_time": "2021-06-29T01:14:48.355Z"
   },
   {
    "duration": 5,
    "start_time": "2021-06-29T01:14:48.368Z"
   },
   {
    "duration": 20,
    "start_time": "2021-06-29T01:14:48.375Z"
   },
   {
    "duration": 11,
    "start_time": "2021-06-29T01:14:48.397Z"
   },
   {
    "duration": 7,
    "start_time": "2021-06-29T01:14:48.410Z"
   },
   {
    "duration": 76,
    "start_time": "2021-06-29T01:14:48.419Z"
   },
   {
    "duration": 10,
    "start_time": "2021-06-29T01:14:48.498Z"
   },
   {
    "duration": 15,
    "start_time": "2021-06-29T01:14:48.511Z"
   },
   {
    "duration": 604,
    "start_time": "2021-06-29T01:14:48.529Z"
   },
   {
    "duration": 11,
    "start_time": "2021-06-29T01:14:49.136Z"
   },
   {
    "duration": 22,
    "start_time": "2021-06-29T01:14:49.150Z"
   },
   {
    "duration": 33,
    "start_time": "2021-06-29T01:14:49.174Z"
   },
   {
    "duration": 6,
    "start_time": "2021-06-29T01:14:49.210Z"
   },
   {
    "duration": 52,
    "start_time": "2021-06-29T01:14:49.218Z"
   },
   {
    "duration": 200,
    "start_time": "2021-06-29T01:14:49.272Z"
   },
   {
    "duration": 12,
    "start_time": "2021-06-29T01:14:49.475Z"
   },
   {
    "duration": 439,
    "start_time": "2021-06-29T01:14:49.489Z"
   },
   {
    "duration": 7,
    "start_time": "2021-06-29T01:14:49.930Z"
   },
   {
    "duration": 9,
    "start_time": "2021-06-29T01:14:49.939Z"
   },
   {
    "duration": 7,
    "start_time": "2021-06-29T01:14:49.967Z"
   },
   {
    "duration": 10,
    "start_time": "2021-06-29T01:14:49.976Z"
   },
   {
    "duration": 15,
    "start_time": "2021-06-29T01:14:49.988Z"
   },
   {
    "duration": 10,
    "start_time": "2021-06-29T01:14:50.006Z"
   },
   {
    "duration": 18,
    "start_time": "2021-06-29T01:14:50.018Z"
   },
   {
    "duration": 7,
    "start_time": "2021-06-29T01:14:50.069Z"
   },
   {
    "duration": 88,
    "start_time": "2021-06-29T01:14:50.079Z"
   },
   {
    "duration": 298,
    "start_time": "2021-06-29T01:14:50.170Z"
   },
   {
    "duration": 11388,
    "start_time": "2021-06-29T01:14:50.471Z"
   },
   {
    "duration": 273,
    "start_time": "2021-06-29T01:15:01.868Z"
   },
   {
    "duration": 37,
    "start_time": "2021-06-29T01:15:02.144Z"
   },
   {
    "duration": 11,
    "start_time": "2021-06-29T01:15:02.183Z"
   },
   {
    "duration": 97,
    "start_time": "2021-06-29T01:15:02.197Z"
   },
   {
    "duration": 343,
    "start_time": "2021-06-29T01:15:02.296Z"
   },
   {
    "duration": 11310,
    "start_time": "2021-06-29T01:15:02.641Z"
   },
   {
    "duration": 331,
    "start_time": "2021-06-29T01:15:13.953Z"
   },
   {
    "duration": 26,
    "start_time": "2021-06-29T01:15:14.287Z"
   },
   {
    "duration": 8,
    "start_time": "2021-06-29T01:15:14.315Z"
   },
   {
    "duration": 2286,
    "start_time": "2021-06-29T09:08:13.452Z"
   },
   {
    "duration": 23,
    "start_time": "2021-06-29T09:08:15.741Z"
   },
   {
    "duration": 12,
    "start_time": "2021-06-29T09:08:15.767Z"
   },
   {
    "duration": 8,
    "start_time": "2021-06-29T09:08:15.787Z"
   },
   {
    "duration": 31,
    "start_time": "2021-06-29T09:08:15.798Z"
   },
   {
    "duration": 15,
    "start_time": "2021-06-29T09:08:15.832Z"
   },
   {
    "duration": 11,
    "start_time": "2021-06-29T09:08:15.887Z"
   },
   {
    "duration": 46,
    "start_time": "2021-06-29T09:08:15.902Z"
   },
   {
    "duration": 41,
    "start_time": "2021-06-29T09:08:15.953Z"
   },
   {
    "duration": 18,
    "start_time": "2021-06-29T09:08:15.998Z"
   },
   {
    "duration": 990,
    "start_time": "2021-06-29T09:08:16.019Z"
   },
   {
    "duration": 18,
    "start_time": "2021-06-29T09:08:17.012Z"
   },
   {
    "duration": 21,
    "start_time": "2021-06-29T09:08:17.033Z"
   },
   {
    "duration": 35,
    "start_time": "2021-06-29T09:08:17.085Z"
   },
   {
    "duration": 9,
    "start_time": "2021-06-29T09:08:17.123Z"
   },
   {
    "duration": 53,
    "start_time": "2021-06-29T09:08:17.135Z"
   },
   {
    "duration": 197,
    "start_time": "2021-06-29T09:08:17.191Z"
   },
   {
    "duration": 15,
    "start_time": "2021-06-29T09:08:17.391Z"
   },
   {
    "duration": 512,
    "start_time": "2021-06-29T09:08:17.409Z"
   },
   {
    "duration": 8,
    "start_time": "2021-06-29T09:08:17.923Z"
   },
   {
    "duration": 9,
    "start_time": "2021-06-29T09:08:17.933Z"
   },
   {
    "duration": 12,
    "start_time": "2021-06-29T09:08:17.945Z"
   },
   {
    "duration": 10,
    "start_time": "2021-06-29T09:08:17.987Z"
   },
   {
    "duration": 17,
    "start_time": "2021-06-29T09:08:18.000Z"
   },
   {
    "duration": 10,
    "start_time": "2021-06-29T09:08:18.020Z"
   },
   {
    "duration": 8,
    "start_time": "2021-06-29T09:08:18.033Z"
   },
   {
    "duration": 7,
    "start_time": "2021-06-29T09:08:18.093Z"
   },
   {
    "duration": 95,
    "start_time": "2021-06-29T09:08:18.103Z"
   },
   {
    "duration": 321,
    "start_time": "2021-06-29T09:08:18.201Z"
   },
   {
    "duration": 11825,
    "start_time": "2021-06-29T09:08:18.524Z"
   },
   {
    "duration": 280,
    "start_time": "2021-06-29T09:08:30.352Z"
   },
   {
    "duration": 29,
    "start_time": "2021-06-29T09:08:30.634Z"
   },
   {
    "duration": 24,
    "start_time": "2021-06-29T09:08:30.666Z"
   },
   {
    "duration": 72,
    "start_time": "2021-06-29T09:08:30.693Z"
   },
   {
    "duration": 360,
    "start_time": "2021-06-29T09:08:30.767Z"
   },
   {
    "duration": 11597,
    "start_time": "2021-06-29T09:08:31.130Z"
   },
   {
    "duration": 346,
    "start_time": "2021-06-29T09:08:42.730Z"
   },
   {
    "duration": 33,
    "start_time": "2021-06-29T09:08:43.079Z"
   },
   {
    "duration": 8,
    "start_time": "2021-06-29T09:08:43.114Z"
   },
   {
    "duration": 5,
    "start_time": "2021-06-29T09:11:57.295Z"
   },
   {
    "duration": 6,
    "start_time": "2021-06-29T09:12:04.206Z"
   },
   {
    "duration": 6,
    "start_time": "2021-06-29T09:13:24.910Z"
   },
   {
    "duration": 280,
    "start_time": "2021-06-29T09:21:22.844Z"
   }
  ],
  "kernelspec": {
   "display_name": "Python 3 (ipykernel)",
   "language": "python",
   "name": "python3"
  },
  "language_info": {
   "codemirror_mode": {
    "name": "ipython",
    "version": 3
   },
   "file_extension": ".py",
   "mimetype": "text/x-python",
   "name": "python",
   "nbconvert_exporter": "python",
   "pygments_lexer": "ipython3",
   "version": "3.9.12"
  },
  "toc": {
   "base_numbering": 1,
   "nav_menu": {},
   "number_sections": true,
   "sideBar": true,
   "skip_h1_title": true,
   "title_cell": "План проекта",
   "title_sidebar": "Contents",
   "toc_cell": true,
   "toc_position": {
    "height": "calc(100% - 180px)",
    "left": "10px",
    "top": "150px",
    "width": "378.6px"
   },
   "toc_section_display": true,
   "toc_window_display": false
  }
 },
 "nbformat": 4,
 "nbformat_minor": 2
}
