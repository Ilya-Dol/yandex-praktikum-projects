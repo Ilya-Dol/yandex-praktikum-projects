{
 "cells": [
  {
   "cell_type": "markdown",
   "metadata": {},
   "source": [
    "Привет! Меня зовут Валерий Гриднев, я провожу ревью твоей работы. Предлагаю общаться на «ты», если не против.\n",
    "\n",
    "В работе ты увидишь комментарии, помеченные разным цветом.\n",
    "\n",
    "<div class=\"alert alert-success\">\n",
    "Зеленым цветом помечены оброзцовые решения. Которые можно использовать в дальнейшем.\n",
    "</div>\n",
    "\n",
    "<div class=\"alert alert-warning\">\n",
    "Желтым цветом отмечено то, что ты можешь улучшить или доработать. Можешь учесть это при выполнении следующих работ или доработать проект сейчас, но это не обязательно.\n",
    "</div>\n",
    "\n",
    "<div class=\"alert alert-danger\">\n",
    "Красным цветом помечены моменты, которые необходимо доработать, чтобы проект был принят. Уверен, что у тебя все получится. Буду ждать твою работу на повторное ревью. \n",
    "</div>\n",
    "\n",
    "Будет комфортнее работать над проектом вместе, если ты будешь **писать об изменениях** в проекте по моим рекомендациям. Для этого выбери для своих комментариев \n",
    "\n",
    "<div class=\"alert alert-block alert-info\">заметный цвет</div>\n",
    "\n",
    "Пожалуйста, **не перемещай, не изменяй и не удаляй мои комментарии**. Всё это поможет выполнить повторную проверку твоего проекта оперативнее.\n",
    "___"
   ]
  },
  {
   "cell_type": "markdown",
   "metadata": {},
   "source": [
    "<a id='step1'></a>"
   ]
  },
  {
   "cell_type": "markdown",
   "metadata": {
    "toc": true
   },
   "source": [
    "<h1>Содержание<span class=\"tocSkip\"></span></h1>\n",
    "<div class=\"toc\"><ul class=\"toc-item\"><li><span><a href=\"#Подготовка-данных\" data-toc-modified-id=\"Подготовка-данных-1\"><span class=\"toc-item-num\">1&nbsp;&nbsp;</span>Подготовка данных</a></span></li><li><span><a href=\"#Исследование-задачи\" data-toc-modified-id=\"Исследование-задачи-2\"><span class=\"toc-item-num\">2&nbsp;&nbsp;</span>Исследование задачи</a></span></li><li><span><a href=\"#Борьба-с-дисбалансом\" data-toc-modified-id=\"Борьба-с-дисбалансом-3\"><span class=\"toc-item-num\">3&nbsp;&nbsp;</span>Борьба с дисбалансом</a></span></li><li><span><a href=\"#Тестирование-модели\" data-toc-modified-id=\"Тестирование-модели-4\"><span class=\"toc-item-num\">4&nbsp;&nbsp;</span>Тестирование модели</a></span></li><li><span><a href=\"#Общий-вывод\" data-toc-modified-id=\"Общий-вывод-5\"><span class=\"toc-item-num\">5&nbsp;&nbsp;</span>Общий вывод</a></span></li><li><span><a href=\"#Чек-лист-готовности-проекта\" data-toc-modified-id=\"Чек-лист-готовности-проекта-6\"><span class=\"toc-item-num\">6&nbsp;&nbsp;</span>Чек-лист готовности проекта</a></span></li></ul></div>"
   ]
  },
  {
   "cell_type": "markdown",
   "metadata": {},
   "source": [
    "<div style=\"border:solid green 2px; padding: 20px\">\n",
    "    \n",
    " \n",
    "### Задача  проекта:<a class=\"tocSkip\">\n",
    "    \n",
    "\n",
    "    \n",
    " Нужно спрогнозировать __отток клиентов__, уйдёт клиент из банка в ближайшее время или нет. Предоставлены исторические данные о поведении клиентов и расторжении договоров с банком. \n",
    "\n",
    "Необходимо построить модель с __предельно большим значением *F1*-меры__. Необходимо довести метрику до __0.59__.Самостоятельно проверить *F1*-меру на тестовой выборке.\n",
    "\n",
    "Дополнительно измерим *AUC-ROC*, сравнивая её значение с *F1*-мерой.   \n",
    "    \n",
    "    \n",
    "### Инструкция по выполнению проекта <a class=\"tocSkip\"> \n",
    "    \n",
    "\n",
    "- Загрузить и подготовить данные. Пояснить порядок действий.\n",
    "- Исследовать баланс классов, обучить модель без учёта дисбаланса. Кратко описать выводы.\n",
    "- Улучшить качество модели, учитывая дисбаланс классов. Обучить разные модели и найдите лучшую. Кратко описать выводы.\n",
    "- Провести финальное тестирование.    \n",
    "    \n",
    "\n",
    "    \n",
    "\n",
    "    \n",
    "  \n",
    "\n",
    "    \n",
    "\n",
    "</div>"
   ]
  },
  {
   "cell_type": "markdown",
   "metadata": {},
   "source": [
    " ***Признаки*** <br>\n",
    " \n",
    " \n",
    "- ***rownumber*** — индекс строки в данных\n",
    "- ***customerid*** — уникальный идентификатор клиента\n",
    "- ***surname*** — фамилия\n",
    "- ***creditscore*** — кредитный рейтинг\n",
    "- ***geography*** — страна проживания\n",
    "- ***gender*** — пол\n",
    "- ***age*** — возраст\n",
    "- ***tenure*** — сколько лет человек является клиентом банка\n",
    "- ***balance*** — баланс на счёте\n",
    "- ***numofproducts*** — количество продуктов банка, используемых клиентом\n",
    "- ***hascrcard*** — наличие кредитной карты\n",
    "- ***isactivemember*** — активность клиента\n",
    "- ***estimatedsalary*** — предполагаемая зарплата\n",
    "\n",
    "***Целевой признак***\n",
    "- ***exited*** — факт ухода клиента"
   ]
  },
  {
   "cell_type": "code",
   "execution_count": 1,
   "metadata": {},
   "outputs": [],
   "source": [
    "import pandas as pd\n",
    "import numpy as np\n",
    "from IPython.display import display\n",
    "%matplotlib inline\n",
    "import seaborn as sn\n",
    "import matplotlib.pyplot as plt\n",
    "\n",
    "from sklearn.tree import DecisionTreeClassifier\n",
    "from sklearn.tree import export_graphviz \n",
    "from sklearn.metrics import accuracy_score\n",
    "from sklearn.linear_model import LogisticRegression\n",
    "from sklearn.ensemble import RandomForestClassifier \n",
    "import warnings\n",
    "from sklearn.preprocessing import StandardScaler\n",
    "from sklearn.model_selection import train_test_split \n",
    "from sklearn.metrics import f1_score \n",
    "from sklearn.metrics import roc_curve \n",
    "from sklearn.metrics import roc_auc_score \n",
    "from sklearn.utils import shuffle"
   ]
  },
  {
   "cell_type": "markdown",
   "metadata": {},
   "source": [
    "<div class=\"alert alert-warning\">\n",
    "    \n",
    "**Комментарий ревьюера**\n",
    "    \n",
    "Зачем столько комментариев?) Тем более, когда все импорты очевидные?)\n",
    "</div>"
   ]
  },
  {
   "cell_type": "markdown",
   "metadata": {},
   "source": [
    "<div style=\"border:solid light blue 1px; padding: 1px\">\n",
    "<div class=\"alert alert-info\">\n",
    "<b>Комментарий студента:</b>\n",
    "    \n",
    "  Валерий, приветствую тебя!<br> Я поудалял комментарии. Вошло в привычку все новое по нескольку раз комментировать, так лучше усваивается, а вот  import LogisticRegression и import RandomForestClassifier - это  мне комментировать  точно было не к чему.\n",
    "\n",
    "    \n",
    "</div>"
   ]
  },
  {
   "cell_type": "markdown",
   "metadata": {},
   "source": [
    "<div class=\"alert alert-success\">\n",
    "    \n",
    "**Комментарий ревьюера v_2**\n",
    "     \n",
    "Избавляйся от привычки)Так лучше!)\n",
    "</div>"
   ]
  },
  {
   "cell_type": "code",
   "execution_count": 2,
   "metadata": {},
   "outputs": [],
   "source": [
    "#pd.set_option('display.float_format', '{:,.2f}'.format)# вывод без экспонентациальных форм и лишних запятых.\n",
    "#pd.set_option('display.max_columns', None) # вывод всех колонок датасета без урезания.\n",
    "\n",
    "try: #конструкция try-except помогает выбрать работающий путь к исследуемому файлу 'real_estate_data.csv'\n",
    "    df = pd.read_csv('/data_set/Churn.csv')# чтение файла с данными с сохранением в df /Работа - Локально/\n",
    "    \n",
    "except:\n",
    "    df = pd.read_csv('/datasets/Churn.csv')# чтение файла с данными с сохранением в df /Работа - сервер Яндекс"
   ]
  },
  {
   "cell_type": "markdown",
   "metadata": {},
   "source": [
    "## Подготовка данных\n",
    "[&#10224;](#step1)"
   ]
  },
  {
   "cell_type": "markdown",
   "metadata": {},
   "source": [
    "__Делаем предварительную оценку полученных данных__ "
   ]
  },
  {
   "cell_type": "code",
   "execution_count": 3,
   "metadata": {},
   "outputs": [
    {
     "data": {
      "text/plain": [
       "(10000, 14)"
      ]
     },
     "execution_count": 3,
     "metadata": {},
     "output_type": "execute_result"
    }
   ],
   "source": [
    "df.shape# смотрим количество строк и столбцов(наблюдения-объекты и переменные-признаки) "
   ]
  },
  {
   "cell_type": "markdown",
   "metadata": {},
   "source": [
    "<div class=\"alert alert-warning\">\n",
    "    \n",
    "**Комментарий ревьюера**\n",
    "    \n",
    "Ход работы нужно писать в отдельных ячейках **markdown**. Уже на этом оформлении хорошо бы вернуть работу, но я посмотрю всё, чтобы ты не терял время\n",
    "    \n",
    "</div>"
   ]
  },
  {
   "cell_type": "markdown",
   "metadata": {},
   "source": [
    "<div style=\"border:solid light blue 1px; padding: 1px\">\n",
    "<div class=\"alert alert-info\">\n",
    "<b>Комментарий студента:</b>\n",
    "    \n",
    " Да, стараюсь использовать __markdown__, когда намечаю план действий, либо пишу  выводы. От комментарием тоже пока не отказываюсь, расписываю методы, сложные моменты в функциях. Здесь, при применении метода  .shape, можно конечно уже не писать комментарий.\n",
    "\n",
    "    \n",
    "</div>"
   ]
  },
  {
   "cell_type": "markdown",
   "metadata": {},
   "source": [
    "<div class=\"alert alert-success\">\n",
    "    \n",
    "**Комментарий ревьюера v_2**\n",
    "     \n",
    "Правильное стремление)Возможно я немного строг, но я хочу чтобы ты получил хорошие привычки и главное знания)\n",
    "</div>"
   ]
  },
  {
   "cell_type": "code",
   "execution_count": 4,
   "metadata": {},
   "outputs": [
    {
     "data": {
      "text/html": [
       "<div>\n",
       "<style scoped>\n",
       "    .dataframe tbody tr th:only-of-type {\n",
       "        vertical-align: middle;\n",
       "    }\n",
       "\n",
       "    .dataframe tbody tr th {\n",
       "        vertical-align: top;\n",
       "    }\n",
       "\n",
       "    .dataframe thead th {\n",
       "        text-align: right;\n",
       "    }\n",
       "</style>\n",
       "<table border=\"1\" class=\"dataframe\">\n",
       "  <thead>\n",
       "    <tr style=\"text-align: right;\">\n",
       "      <th></th>\n",
       "      <th>RowNumber</th>\n",
       "      <th>CustomerId</th>\n",
       "      <th>Surname</th>\n",
       "      <th>CreditScore</th>\n",
       "      <th>Geography</th>\n",
       "      <th>Gender</th>\n",
       "      <th>Age</th>\n",
       "      <th>Tenure</th>\n",
       "      <th>Balance</th>\n",
       "      <th>NumOfProducts</th>\n",
       "      <th>HasCrCard</th>\n",
       "      <th>IsActiveMember</th>\n",
       "      <th>EstimatedSalary</th>\n",
       "      <th>Exited</th>\n",
       "    </tr>\n",
       "  </thead>\n",
       "  <tbody>\n",
       "    <tr>\n",
       "      <td>0</td>\n",
       "      <td>1</td>\n",
       "      <td>15634602</td>\n",
       "      <td>Hargrave</td>\n",
       "      <td>619</td>\n",
       "      <td>France</td>\n",
       "      <td>Female</td>\n",
       "      <td>42</td>\n",
       "      <td>2.0</td>\n",
       "      <td>0.00</td>\n",
       "      <td>1</td>\n",
       "      <td>1</td>\n",
       "      <td>1</td>\n",
       "      <td>101348.88</td>\n",
       "      <td>1</td>\n",
       "    </tr>\n",
       "    <tr>\n",
       "      <td>1</td>\n",
       "      <td>2</td>\n",
       "      <td>15647311</td>\n",
       "      <td>Hill</td>\n",
       "      <td>608</td>\n",
       "      <td>Spain</td>\n",
       "      <td>Female</td>\n",
       "      <td>41</td>\n",
       "      <td>1.0</td>\n",
       "      <td>83807.86</td>\n",
       "      <td>1</td>\n",
       "      <td>0</td>\n",
       "      <td>1</td>\n",
       "      <td>112542.58</td>\n",
       "      <td>0</td>\n",
       "    </tr>\n",
       "    <tr>\n",
       "      <td>2</td>\n",
       "      <td>3</td>\n",
       "      <td>15619304</td>\n",
       "      <td>Onio</td>\n",
       "      <td>502</td>\n",
       "      <td>France</td>\n",
       "      <td>Female</td>\n",
       "      <td>42</td>\n",
       "      <td>8.0</td>\n",
       "      <td>159660.80</td>\n",
       "      <td>3</td>\n",
       "      <td>1</td>\n",
       "      <td>0</td>\n",
       "      <td>113931.57</td>\n",
       "      <td>1</td>\n",
       "    </tr>\n",
       "    <tr>\n",
       "      <td>3</td>\n",
       "      <td>4</td>\n",
       "      <td>15701354</td>\n",
       "      <td>Boni</td>\n",
       "      <td>699</td>\n",
       "      <td>France</td>\n",
       "      <td>Female</td>\n",
       "      <td>39</td>\n",
       "      <td>1.0</td>\n",
       "      <td>0.00</td>\n",
       "      <td>2</td>\n",
       "      <td>0</td>\n",
       "      <td>0</td>\n",
       "      <td>93826.63</td>\n",
       "      <td>0</td>\n",
       "    </tr>\n",
       "    <tr>\n",
       "      <td>4</td>\n",
       "      <td>5</td>\n",
       "      <td>15737888</td>\n",
       "      <td>Mitchell</td>\n",
       "      <td>850</td>\n",
       "      <td>Spain</td>\n",
       "      <td>Female</td>\n",
       "      <td>43</td>\n",
       "      <td>2.0</td>\n",
       "      <td>125510.82</td>\n",
       "      <td>1</td>\n",
       "      <td>1</td>\n",
       "      <td>1</td>\n",
       "      <td>79084.10</td>\n",
       "      <td>0</td>\n",
       "    </tr>\n",
       "    <tr>\n",
       "      <td>...</td>\n",
       "      <td>...</td>\n",
       "      <td>...</td>\n",
       "      <td>...</td>\n",
       "      <td>...</td>\n",
       "      <td>...</td>\n",
       "      <td>...</td>\n",
       "      <td>...</td>\n",
       "      <td>...</td>\n",
       "      <td>...</td>\n",
       "      <td>...</td>\n",
       "      <td>...</td>\n",
       "      <td>...</td>\n",
       "      <td>...</td>\n",
       "      <td>...</td>\n",
       "    </tr>\n",
       "    <tr>\n",
       "      <td>9995</td>\n",
       "      <td>9996</td>\n",
       "      <td>15606229</td>\n",
       "      <td>Obijiaku</td>\n",
       "      <td>771</td>\n",
       "      <td>France</td>\n",
       "      <td>Male</td>\n",
       "      <td>39</td>\n",
       "      <td>5.0</td>\n",
       "      <td>0.00</td>\n",
       "      <td>2</td>\n",
       "      <td>1</td>\n",
       "      <td>0</td>\n",
       "      <td>96270.64</td>\n",
       "      <td>0</td>\n",
       "    </tr>\n",
       "    <tr>\n",
       "      <td>9996</td>\n",
       "      <td>9997</td>\n",
       "      <td>15569892</td>\n",
       "      <td>Johnstone</td>\n",
       "      <td>516</td>\n",
       "      <td>France</td>\n",
       "      <td>Male</td>\n",
       "      <td>35</td>\n",
       "      <td>10.0</td>\n",
       "      <td>57369.61</td>\n",
       "      <td>1</td>\n",
       "      <td>1</td>\n",
       "      <td>1</td>\n",
       "      <td>101699.77</td>\n",
       "      <td>0</td>\n",
       "    </tr>\n",
       "    <tr>\n",
       "      <td>9997</td>\n",
       "      <td>9998</td>\n",
       "      <td>15584532</td>\n",
       "      <td>Liu</td>\n",
       "      <td>709</td>\n",
       "      <td>France</td>\n",
       "      <td>Female</td>\n",
       "      <td>36</td>\n",
       "      <td>7.0</td>\n",
       "      <td>0.00</td>\n",
       "      <td>1</td>\n",
       "      <td>0</td>\n",
       "      <td>1</td>\n",
       "      <td>42085.58</td>\n",
       "      <td>1</td>\n",
       "    </tr>\n",
       "    <tr>\n",
       "      <td>9998</td>\n",
       "      <td>9999</td>\n",
       "      <td>15682355</td>\n",
       "      <td>Sabbatini</td>\n",
       "      <td>772</td>\n",
       "      <td>Germany</td>\n",
       "      <td>Male</td>\n",
       "      <td>42</td>\n",
       "      <td>3.0</td>\n",
       "      <td>75075.31</td>\n",
       "      <td>2</td>\n",
       "      <td>1</td>\n",
       "      <td>0</td>\n",
       "      <td>92888.52</td>\n",
       "      <td>1</td>\n",
       "    </tr>\n",
       "    <tr>\n",
       "      <td>9999</td>\n",
       "      <td>10000</td>\n",
       "      <td>15628319</td>\n",
       "      <td>Walker</td>\n",
       "      <td>792</td>\n",
       "      <td>France</td>\n",
       "      <td>Female</td>\n",
       "      <td>28</td>\n",
       "      <td>NaN</td>\n",
       "      <td>130142.79</td>\n",
       "      <td>1</td>\n",
       "      <td>1</td>\n",
       "      <td>0</td>\n",
       "      <td>38190.78</td>\n",
       "      <td>0</td>\n",
       "    </tr>\n",
       "  </tbody>\n",
       "</table>\n",
       "<p>10000 rows × 14 columns</p>\n",
       "</div>"
      ],
      "text/plain": [
       "      RowNumber  CustomerId    Surname  CreditScore Geography  Gender  Age  \\\n",
       "0             1    15634602   Hargrave          619    France  Female   42   \n",
       "1             2    15647311       Hill          608     Spain  Female   41   \n",
       "2             3    15619304       Onio          502    France  Female   42   \n",
       "3             4    15701354       Boni          699    France  Female   39   \n",
       "4             5    15737888   Mitchell          850     Spain  Female   43   \n",
       "...         ...         ...        ...          ...       ...     ...  ...   \n",
       "9995       9996    15606229   Obijiaku          771    France    Male   39   \n",
       "9996       9997    15569892  Johnstone          516    France    Male   35   \n",
       "9997       9998    15584532        Liu          709    France  Female   36   \n",
       "9998       9999    15682355  Sabbatini          772   Germany    Male   42   \n",
       "9999      10000    15628319     Walker          792    France  Female   28   \n",
       "\n",
       "      Tenure    Balance  NumOfProducts  HasCrCard  IsActiveMember  \\\n",
       "0        2.0       0.00              1          1               1   \n",
       "1        1.0   83807.86              1          0               1   \n",
       "2        8.0  159660.80              3          1               0   \n",
       "3        1.0       0.00              2          0               0   \n",
       "4        2.0  125510.82              1          1               1   \n",
       "...      ...        ...            ...        ...             ...   \n",
       "9995     5.0       0.00              2          1               0   \n",
       "9996    10.0   57369.61              1          1               1   \n",
       "9997     7.0       0.00              1          0               1   \n",
       "9998     3.0   75075.31              2          1               0   \n",
       "9999     NaN  130142.79              1          1               0   \n",
       "\n",
       "      EstimatedSalary  Exited  \n",
       "0           101348.88       1  \n",
       "1           112542.58       0  \n",
       "2           113931.57       1  \n",
       "3            93826.63       0  \n",
       "4            79084.10       0  \n",
       "...               ...     ...  \n",
       "9995         96270.64       0  \n",
       "9996        101699.77       0  \n",
       "9997         42085.58       1  \n",
       "9998         92888.52       1  \n",
       "9999         38190.78       0  \n",
       "\n",
       "[10000 rows x 14 columns]"
      ]
     },
     "execution_count": 4,
     "metadata": {},
     "output_type": "execute_result"
    }
   ],
   "source": [
    "df"
   ]
  },
  {
   "cell_type": "code",
   "execution_count": 5,
   "metadata": {},
   "outputs": [
    {
     "data": {
      "text/plain": [
       "1.0     952\n",
       "2.0     950\n",
       "8.0     933\n",
       "3.0     928\n",
       "5.0     927\n",
       "7.0     925\n",
       "4.0     885\n",
       "9.0     882\n",
       "6.0     881\n",
       "10.0    446\n",
       "0.0     382\n",
       "Name: Tenure, dtype: int64"
      ]
     },
     "execution_count": 5,
     "metadata": {},
     "output_type": "execute_result"
    }
   ],
   "source": [
    "df['Tenure'].value_counts()#  количество клиентов по годам пользования услугами банка."
   ]
  },
  {
   "cell_type": "code",
   "execution_count": 6,
   "metadata": {},
   "outputs": [
    {
     "data": {
      "text/plain": [
       "5.0"
      ]
     },
     "execution_count": 6,
     "metadata": {},
     "output_type": "execute_result"
    }
   ],
   "source": [
    "df['Tenure'].median()# средний период пользования услугами банка."
   ]
  },
  {
   "cell_type": "code",
   "execution_count": 7,
   "metadata": {},
   "outputs": [
    {
     "name": "stdout",
     "output_type": "stream",
     "text": [
      "<class 'pandas.core.frame.DataFrame'>\n",
      "RangeIndex: 10000 entries, 0 to 9999\n",
      "Data columns (total 14 columns):\n",
      "RowNumber          10000 non-null int64\n",
      "CustomerId         10000 non-null int64\n",
      "Surname            10000 non-null object\n",
      "CreditScore        10000 non-null int64\n",
      "Geography          10000 non-null object\n",
      "Gender             10000 non-null object\n",
      "Age                10000 non-null int64\n",
      "Tenure             9091 non-null float64\n",
      "Balance            10000 non-null float64\n",
      "NumOfProducts      10000 non-null int64\n",
      "HasCrCard          10000 non-null int64\n",
      "IsActiveMember     10000 non-null int64\n",
      "EstimatedSalary    10000 non-null float64\n",
      "Exited             10000 non-null int64\n",
      "dtypes: float64(3), int64(8), object(3)\n",
      "memory usage: 1.1+ MB\n"
     ]
    }
   ],
   "source": [
    "df.info()# смотрим на типы даннх"
   ]
  },
  {
   "cell_type": "code",
   "execution_count": 8,
   "metadata": {},
   "outputs": [
    {
     "data": {
      "text/html": [
       "<div>\n",
       "<style scoped>\n",
       "    .dataframe tbody tr th:only-of-type {\n",
       "        vertical-align: middle;\n",
       "    }\n",
       "\n",
       "    .dataframe tbody tr th {\n",
       "        vertical-align: top;\n",
       "    }\n",
       "\n",
       "    .dataframe thead th {\n",
       "        text-align: right;\n",
       "    }\n",
       "</style>\n",
       "<table border=\"1\" class=\"dataframe\">\n",
       "  <thead>\n",
       "    <tr style=\"text-align: right;\">\n",
       "      <th></th>\n",
       "      <th>RowNumber</th>\n",
       "      <th>CustomerId</th>\n",
       "      <th>CreditScore</th>\n",
       "      <th>Age</th>\n",
       "      <th>Tenure</th>\n",
       "      <th>Balance</th>\n",
       "      <th>NumOfProducts</th>\n",
       "      <th>HasCrCard</th>\n",
       "      <th>IsActiveMember</th>\n",
       "      <th>EstimatedSalary</th>\n",
       "      <th>Exited</th>\n",
       "    </tr>\n",
       "  </thead>\n",
       "  <tbody>\n",
       "    <tr>\n",
       "      <td>count</td>\n",
       "      <td>10000.00000</td>\n",
       "      <td>1.000000e+04</td>\n",
       "      <td>10000.000000</td>\n",
       "      <td>10000.000000</td>\n",
       "      <td>9091.000000</td>\n",
       "      <td>10000.000000</td>\n",
       "      <td>10000.000000</td>\n",
       "      <td>10000.00000</td>\n",
       "      <td>10000.000000</td>\n",
       "      <td>10000.000000</td>\n",
       "      <td>10000.000000</td>\n",
       "    </tr>\n",
       "    <tr>\n",
       "      <td>mean</td>\n",
       "      <td>5000.50000</td>\n",
       "      <td>1.569094e+07</td>\n",
       "      <td>650.528800</td>\n",
       "      <td>38.921800</td>\n",
       "      <td>4.997690</td>\n",
       "      <td>76485.889288</td>\n",
       "      <td>1.530200</td>\n",
       "      <td>0.70550</td>\n",
       "      <td>0.515100</td>\n",
       "      <td>100090.239881</td>\n",
       "      <td>0.203700</td>\n",
       "    </tr>\n",
       "    <tr>\n",
       "      <td>std</td>\n",
       "      <td>2886.89568</td>\n",
       "      <td>7.193619e+04</td>\n",
       "      <td>96.653299</td>\n",
       "      <td>10.487806</td>\n",
       "      <td>2.894723</td>\n",
       "      <td>62397.405202</td>\n",
       "      <td>0.581654</td>\n",
       "      <td>0.45584</td>\n",
       "      <td>0.499797</td>\n",
       "      <td>57510.492818</td>\n",
       "      <td>0.402769</td>\n",
       "    </tr>\n",
       "    <tr>\n",
       "      <td>min</td>\n",
       "      <td>1.00000</td>\n",
       "      <td>1.556570e+07</td>\n",
       "      <td>350.000000</td>\n",
       "      <td>18.000000</td>\n",
       "      <td>0.000000</td>\n",
       "      <td>0.000000</td>\n",
       "      <td>1.000000</td>\n",
       "      <td>0.00000</td>\n",
       "      <td>0.000000</td>\n",
       "      <td>11.580000</td>\n",
       "      <td>0.000000</td>\n",
       "    </tr>\n",
       "    <tr>\n",
       "      <td>25%</td>\n",
       "      <td>2500.75000</td>\n",
       "      <td>1.562853e+07</td>\n",
       "      <td>584.000000</td>\n",
       "      <td>32.000000</td>\n",
       "      <td>2.000000</td>\n",
       "      <td>0.000000</td>\n",
       "      <td>1.000000</td>\n",
       "      <td>0.00000</td>\n",
       "      <td>0.000000</td>\n",
       "      <td>51002.110000</td>\n",
       "      <td>0.000000</td>\n",
       "    </tr>\n",
       "    <tr>\n",
       "      <td>50%</td>\n",
       "      <td>5000.50000</td>\n",
       "      <td>1.569074e+07</td>\n",
       "      <td>652.000000</td>\n",
       "      <td>37.000000</td>\n",
       "      <td>5.000000</td>\n",
       "      <td>97198.540000</td>\n",
       "      <td>1.000000</td>\n",
       "      <td>1.00000</td>\n",
       "      <td>1.000000</td>\n",
       "      <td>100193.915000</td>\n",
       "      <td>0.000000</td>\n",
       "    </tr>\n",
       "    <tr>\n",
       "      <td>75%</td>\n",
       "      <td>7500.25000</td>\n",
       "      <td>1.575323e+07</td>\n",
       "      <td>718.000000</td>\n",
       "      <td>44.000000</td>\n",
       "      <td>7.000000</td>\n",
       "      <td>127644.240000</td>\n",
       "      <td>2.000000</td>\n",
       "      <td>1.00000</td>\n",
       "      <td>1.000000</td>\n",
       "      <td>149388.247500</td>\n",
       "      <td>0.000000</td>\n",
       "    </tr>\n",
       "    <tr>\n",
       "      <td>max</td>\n",
       "      <td>10000.00000</td>\n",
       "      <td>1.581569e+07</td>\n",
       "      <td>850.000000</td>\n",
       "      <td>92.000000</td>\n",
       "      <td>10.000000</td>\n",
       "      <td>250898.090000</td>\n",
       "      <td>4.000000</td>\n",
       "      <td>1.00000</td>\n",
       "      <td>1.000000</td>\n",
       "      <td>199992.480000</td>\n",
       "      <td>1.000000</td>\n",
       "    </tr>\n",
       "  </tbody>\n",
       "</table>\n",
       "</div>"
      ],
      "text/plain": [
       "         RowNumber    CustomerId   CreditScore           Age       Tenure  \\\n",
       "count  10000.00000  1.000000e+04  10000.000000  10000.000000  9091.000000   \n",
       "mean    5000.50000  1.569094e+07    650.528800     38.921800     4.997690   \n",
       "std     2886.89568  7.193619e+04     96.653299     10.487806     2.894723   \n",
       "min        1.00000  1.556570e+07    350.000000     18.000000     0.000000   \n",
       "25%     2500.75000  1.562853e+07    584.000000     32.000000     2.000000   \n",
       "50%     5000.50000  1.569074e+07    652.000000     37.000000     5.000000   \n",
       "75%     7500.25000  1.575323e+07    718.000000     44.000000     7.000000   \n",
       "max    10000.00000  1.581569e+07    850.000000     92.000000    10.000000   \n",
       "\n",
       "             Balance  NumOfProducts    HasCrCard  IsActiveMember  \\\n",
       "count   10000.000000   10000.000000  10000.00000    10000.000000   \n",
       "mean    76485.889288       1.530200      0.70550        0.515100   \n",
       "std     62397.405202       0.581654      0.45584        0.499797   \n",
       "min         0.000000       1.000000      0.00000        0.000000   \n",
       "25%         0.000000       1.000000      0.00000        0.000000   \n",
       "50%     97198.540000       1.000000      1.00000        1.000000   \n",
       "75%    127644.240000       2.000000      1.00000        1.000000   \n",
       "max    250898.090000       4.000000      1.00000        1.000000   \n",
       "\n",
       "       EstimatedSalary        Exited  \n",
       "count     10000.000000  10000.000000  \n",
       "mean     100090.239881      0.203700  \n",
       "std       57510.492818      0.402769  \n",
       "min          11.580000      0.000000  \n",
       "25%       51002.110000      0.000000  \n",
       "50%      100193.915000      0.000000  \n",
       "75%      149388.247500      0.000000  \n",
       "max      199992.480000      1.000000  "
      ]
     },
     "execution_count": 8,
     "metadata": {},
     "output_type": "execute_result"
    }
   ],
   "source": [
    "df.describe()\n",
    "# методом .describe() производится подсчет цифровых показателей по каждому  столбцу  df имеющему количественные признаки"
   ]
  },
  {
   "cell_type": "code",
   "execution_count": 9,
   "metadata": {},
   "outputs": [
    {
     "name": "stdout",
     "output_type": "stream",
     "text": [
      "Количество обнаруженных дубликатов:\n"
     ]
    },
    {
     "data": {
      "text/plain": [
       "0"
      ]
     },
     "execution_count": 9,
     "metadata": {},
     "output_type": "execute_result"
    }
   ],
   "source": [
    "print('Количество обнаруженных дубликатов:')\n",
    "df.duplicated().sum()"
   ]
  },
  {
   "cell_type": "markdown",
   "metadata": {},
   "source": [
    "__Смотрим пропущенные значения в количественном и процентном соотношении__."
   ]
  },
  {
   "cell_type": "code",
   "execution_count": 10,
   "metadata": {},
   "outputs": [
    {
     "data": {
      "text/html": [
       "<div>\n",
       "<style scoped>\n",
       "    .dataframe tbody tr th:only-of-type {\n",
       "        vertical-align: middle;\n",
       "    }\n",
       "\n",
       "    .dataframe tbody tr th {\n",
       "        vertical-align: top;\n",
       "    }\n",
       "\n",
       "    .dataframe thead th {\n",
       "        text-align: right;\n",
       "    }\n",
       "</style>\n",
       "<table border=\"1\" class=\"dataframe\">\n",
       "  <thead>\n",
       "    <tr style=\"text-align: right;\">\n",
       "      <th></th>\n",
       "      <th>missing_values</th>\n",
       "      <th>% of total</th>\n",
       "    </tr>\n",
       "  </thead>\n",
       "  <tbody>\n",
       "    <tr>\n",
       "      <td>Tenure</td>\n",
       "      <td>909</td>\n",
       "      <td>0.09</td>\n",
       "    </tr>\n",
       "    <tr>\n",
       "      <td>RowNumber</td>\n",
       "      <td>0</td>\n",
       "      <td>0.00</td>\n",
       "    </tr>\n",
       "    <tr>\n",
       "      <td>CustomerId</td>\n",
       "      <td>0</td>\n",
       "      <td>0.00</td>\n",
       "    </tr>\n",
       "    <tr>\n",
       "      <td>Surname</td>\n",
       "      <td>0</td>\n",
       "      <td>0.00</td>\n",
       "    </tr>\n",
       "    <tr>\n",
       "      <td>CreditScore</td>\n",
       "      <td>0</td>\n",
       "      <td>0.00</td>\n",
       "    </tr>\n",
       "    <tr>\n",
       "      <td>Geography</td>\n",
       "      <td>0</td>\n",
       "      <td>0.00</td>\n",
       "    </tr>\n",
       "    <tr>\n",
       "      <td>Gender</td>\n",
       "      <td>0</td>\n",
       "      <td>0.00</td>\n",
       "    </tr>\n",
       "    <tr>\n",
       "      <td>Age</td>\n",
       "      <td>0</td>\n",
       "      <td>0.00</td>\n",
       "    </tr>\n",
       "    <tr>\n",
       "      <td>Balance</td>\n",
       "      <td>0</td>\n",
       "      <td>0.00</td>\n",
       "    </tr>\n",
       "    <tr>\n",
       "      <td>NumOfProducts</td>\n",
       "      <td>0</td>\n",
       "      <td>0.00</td>\n",
       "    </tr>\n",
       "    <tr>\n",
       "      <td>HasCrCard</td>\n",
       "      <td>0</td>\n",
       "      <td>0.00</td>\n",
       "    </tr>\n",
       "    <tr>\n",
       "      <td>IsActiveMember</td>\n",
       "      <td>0</td>\n",
       "      <td>0.00</td>\n",
       "    </tr>\n",
       "    <tr>\n",
       "      <td>EstimatedSalary</td>\n",
       "      <td>0</td>\n",
       "      <td>0.00</td>\n",
       "    </tr>\n",
       "    <tr>\n",
       "      <td>Exited</td>\n",
       "      <td>0</td>\n",
       "      <td>0.00</td>\n",
       "    </tr>\n",
       "  </tbody>\n",
       "</table>\n",
       "</div>"
      ],
      "text/plain": [
       "                 missing_values  % of total\n",
       "Tenure                      909        0.09\n",
       "RowNumber                     0        0.00\n",
       "CustomerId                    0        0.00\n",
       "Surname                       0        0.00\n",
       "CreditScore                   0        0.00\n",
       "Geography                     0        0.00\n",
       "Gender                        0        0.00\n",
       "Age                           0        0.00\n",
       "Balance                       0        0.00\n",
       "NumOfProducts                 0        0.00\n",
       "HasCrCard                     0        0.00\n",
       "IsActiveMember                0        0.00\n",
       "EstimatedSalary               0        0.00\n",
       "Exited                        0        0.00"
      ]
     },
     "execution_count": 10,
     "metadata": {},
     "output_type": "execute_result"
    }
   ],
   "source": [
    "report = df.isna().sum().to_frame()\n",
    "report = report.rename(columns = {0: 'missing_values'})\n",
    "report['% of total'] = (report['missing_values'] / df.shape[0]).round(2)\n",
    "report.sort_values(by = 'missing_values', ascending = False)"
   ]
  },
  {
   "cell_type": "markdown",
   "metadata": {},
   "source": [
    "__Заменим обнаруженные пропуски в столбце `Tenure` на 0__"
   ]
  },
  {
   "cell_type": "code",
   "execution_count": 11,
   "metadata": {},
   "outputs": [],
   "source": [
    "#Заменим пропуски в столбцах Tenure на значение 0\n",
    "df['Tenure'] = df['Tenure'].fillna(0)"
   ]
  },
  {
   "cell_type": "code",
   "execution_count": 12,
   "metadata": {},
   "outputs": [
    {
     "data": {
      "text/html": [
       "<div>\n",
       "<style scoped>\n",
       "    .dataframe tbody tr th:only-of-type {\n",
       "        vertical-align: middle;\n",
       "    }\n",
       "\n",
       "    .dataframe tbody tr th {\n",
       "        vertical-align: top;\n",
       "    }\n",
       "\n",
       "    .dataframe thead th {\n",
       "        text-align: right;\n",
       "    }\n",
       "</style>\n",
       "<table border=\"1\" class=\"dataframe\">\n",
       "  <thead>\n",
       "    <tr style=\"text-align: right;\">\n",
       "      <th></th>\n",
       "      <th>index</th>\n",
       "      <th>0</th>\n",
       "    </tr>\n",
       "  </thead>\n",
       "  <tbody>\n",
       "    <tr>\n",
       "      <td>0</td>\n",
       "      <td>RowNumber</td>\n",
       "      <td>0.0</td>\n",
       "    </tr>\n",
       "    <tr>\n",
       "      <td>1</td>\n",
       "      <td>CustomerId</td>\n",
       "      <td>0.0</td>\n",
       "    </tr>\n",
       "    <tr>\n",
       "      <td>2</td>\n",
       "      <td>Surname</td>\n",
       "      <td>0.0</td>\n",
       "    </tr>\n",
       "    <tr>\n",
       "      <td>3</td>\n",
       "      <td>CreditScore</td>\n",
       "      <td>0.0</td>\n",
       "    </tr>\n",
       "    <tr>\n",
       "      <td>4</td>\n",
       "      <td>Geography</td>\n",
       "      <td>0.0</td>\n",
       "    </tr>\n",
       "    <tr>\n",
       "      <td>5</td>\n",
       "      <td>Gender</td>\n",
       "      <td>0.0</td>\n",
       "    </tr>\n",
       "    <tr>\n",
       "      <td>6</td>\n",
       "      <td>Age</td>\n",
       "      <td>0.0</td>\n",
       "    </tr>\n",
       "    <tr>\n",
       "      <td>7</td>\n",
       "      <td>Tenure</td>\n",
       "      <td>0.0</td>\n",
       "    </tr>\n",
       "    <tr>\n",
       "      <td>8</td>\n",
       "      <td>Balance</td>\n",
       "      <td>0.0</td>\n",
       "    </tr>\n",
       "    <tr>\n",
       "      <td>9</td>\n",
       "      <td>NumOfProducts</td>\n",
       "      <td>0.0</td>\n",
       "    </tr>\n",
       "    <tr>\n",
       "      <td>10</td>\n",
       "      <td>HasCrCard</td>\n",
       "      <td>0.0</td>\n",
       "    </tr>\n",
       "    <tr>\n",
       "      <td>11</td>\n",
       "      <td>IsActiveMember</td>\n",
       "      <td>0.0</td>\n",
       "    </tr>\n",
       "    <tr>\n",
       "      <td>12</td>\n",
       "      <td>EstimatedSalary</td>\n",
       "      <td>0.0</td>\n",
       "    </tr>\n",
       "    <tr>\n",
       "      <td>13</td>\n",
       "      <td>Exited</td>\n",
       "      <td>0.0</td>\n",
       "    </tr>\n",
       "  </tbody>\n",
       "</table>\n",
       "</div>"
      ],
      "text/plain": [
       "              index    0\n",
       "0         RowNumber  0.0\n",
       "1        CustomerId  0.0\n",
       "2           Surname  0.0\n",
       "3       CreditScore  0.0\n",
       "4         Geography  0.0\n",
       "5            Gender  0.0\n",
       "6               Age  0.0\n",
       "7            Tenure  0.0\n",
       "8           Balance  0.0\n",
       "9     NumOfProducts  0.0\n",
       "10        HasCrCard  0.0\n",
       "11   IsActiveMember  0.0\n",
       "12  EstimatedSalary  0.0\n",
       "13           Exited  0.0"
      ]
     },
     "execution_count": 12,
     "metadata": {},
     "output_type": "execute_result"
    }
   ],
   "source": [
    "(df.isna().mean()* 100).reset_index() "
   ]
  },
  {
   "cell_type": "markdown",
   "metadata": {},
   "source": [
    "   __Смена регистра в названиях столбцов__"
   ]
  },
  {
   "cell_type": "code",
   "execution_count": 13,
   "metadata": {},
   "outputs": [],
   "source": [
    "#вариан №1 \n",
    "df.columns = df.columns.str.lower()\n",
    "\n",
    "#вариан №2        \n",
    "#df.columns = ['rownumber', 'customerid', 'surname', 'creditscore', 'geography', 'gender', 'age','tenure', 'balance', 'numofproducts', 'hascrcard', 'isactivemember', 'estimatedsalary', 'exited']"
   ]
  },
  {
   "cell_type": "code",
   "execution_count": 14,
   "metadata": {},
   "outputs": [
    {
     "data": {
      "text/html": [
       "<div>\n",
       "<style scoped>\n",
       "    .dataframe tbody tr th:only-of-type {\n",
       "        vertical-align: middle;\n",
       "    }\n",
       "\n",
       "    .dataframe tbody tr th {\n",
       "        vertical-align: top;\n",
       "    }\n",
       "\n",
       "    .dataframe thead th {\n",
       "        text-align: right;\n",
       "    }\n",
       "</style>\n",
       "<table border=\"1\" class=\"dataframe\">\n",
       "  <thead>\n",
       "    <tr style=\"text-align: right;\">\n",
       "      <th></th>\n",
       "      <th>rownumber</th>\n",
       "      <th>customerid</th>\n",
       "      <th>surname</th>\n",
       "      <th>creditscore</th>\n",
       "      <th>geography</th>\n",
       "      <th>gender</th>\n",
       "      <th>age</th>\n",
       "      <th>tenure</th>\n",
       "      <th>balance</th>\n",
       "      <th>numofproducts</th>\n",
       "      <th>hascrcard</th>\n",
       "      <th>isactivemember</th>\n",
       "      <th>estimatedsalary</th>\n",
       "      <th>exited</th>\n",
       "    </tr>\n",
       "  </thead>\n",
       "  <tbody>\n",
       "    <tr>\n",
       "      <td>0</td>\n",
       "      <td>1</td>\n",
       "      <td>15634602</td>\n",
       "      <td>Hargrave</td>\n",
       "      <td>619</td>\n",
       "      <td>France</td>\n",
       "      <td>Female</td>\n",
       "      <td>42</td>\n",
       "      <td>2.0</td>\n",
       "      <td>0.00</td>\n",
       "      <td>1</td>\n",
       "      <td>1</td>\n",
       "      <td>1</td>\n",
       "      <td>101348.88</td>\n",
       "      <td>1</td>\n",
       "    </tr>\n",
       "    <tr>\n",
       "      <td>1</td>\n",
       "      <td>2</td>\n",
       "      <td>15647311</td>\n",
       "      <td>Hill</td>\n",
       "      <td>608</td>\n",
       "      <td>Spain</td>\n",
       "      <td>Female</td>\n",
       "      <td>41</td>\n",
       "      <td>1.0</td>\n",
       "      <td>83807.86</td>\n",
       "      <td>1</td>\n",
       "      <td>0</td>\n",
       "      <td>1</td>\n",
       "      <td>112542.58</td>\n",
       "      <td>0</td>\n",
       "    </tr>\n",
       "    <tr>\n",
       "      <td>2</td>\n",
       "      <td>3</td>\n",
       "      <td>15619304</td>\n",
       "      <td>Onio</td>\n",
       "      <td>502</td>\n",
       "      <td>France</td>\n",
       "      <td>Female</td>\n",
       "      <td>42</td>\n",
       "      <td>8.0</td>\n",
       "      <td>159660.80</td>\n",
       "      <td>3</td>\n",
       "      <td>1</td>\n",
       "      <td>0</td>\n",
       "      <td>113931.57</td>\n",
       "      <td>1</td>\n",
       "    </tr>\n",
       "    <tr>\n",
       "      <td>3</td>\n",
       "      <td>4</td>\n",
       "      <td>15701354</td>\n",
       "      <td>Boni</td>\n",
       "      <td>699</td>\n",
       "      <td>France</td>\n",
       "      <td>Female</td>\n",
       "      <td>39</td>\n",
       "      <td>1.0</td>\n",
       "      <td>0.00</td>\n",
       "      <td>2</td>\n",
       "      <td>0</td>\n",
       "      <td>0</td>\n",
       "      <td>93826.63</td>\n",
       "      <td>0</td>\n",
       "    </tr>\n",
       "    <tr>\n",
       "      <td>4</td>\n",
       "      <td>5</td>\n",
       "      <td>15737888</td>\n",
       "      <td>Mitchell</td>\n",
       "      <td>850</td>\n",
       "      <td>Spain</td>\n",
       "      <td>Female</td>\n",
       "      <td>43</td>\n",
       "      <td>2.0</td>\n",
       "      <td>125510.82</td>\n",
       "      <td>1</td>\n",
       "      <td>1</td>\n",
       "      <td>1</td>\n",
       "      <td>79084.10</td>\n",
       "      <td>0</td>\n",
       "    </tr>\n",
       "  </tbody>\n",
       "</table>\n",
       "</div>"
      ],
      "text/plain": [
       "   rownumber  customerid   surname  creditscore geography  gender  age  \\\n",
       "0          1    15634602  Hargrave          619    France  Female   42   \n",
       "1          2    15647311      Hill          608     Spain  Female   41   \n",
       "2          3    15619304      Onio          502    France  Female   42   \n",
       "3          4    15701354      Boni          699    France  Female   39   \n",
       "4          5    15737888  Mitchell          850     Spain  Female   43   \n",
       "\n",
       "   tenure    balance  numofproducts  hascrcard  isactivemember  \\\n",
       "0     2.0       0.00              1          1               1   \n",
       "1     1.0   83807.86              1          0               1   \n",
       "2     8.0  159660.80              3          1               0   \n",
       "3     1.0       0.00              2          0               0   \n",
       "4     2.0  125510.82              1          1               1   \n",
       "\n",
       "   estimatedsalary  exited  \n",
       "0        101348.88       1  \n",
       "1        112542.58       0  \n",
       "2        113931.57       1  \n",
       "3         93826.63       0  \n",
       "4         79084.10       0  "
      ]
     },
     "execution_count": 14,
     "metadata": {},
     "output_type": "execute_result"
    }
   ],
   "source": [
    "df.head()"
   ]
  },
  {
   "cell_type": "markdown",
   "metadata": {},
   "source": [
    "__Не  содержат необходимые признаки для обучения модели  столбцы `'RowNumber', 'CustomerId', 'Surname'.`,  удалим данные столбцы.__"
   ]
  },
  {
   "cell_type": "code",
   "execution_count": 15,
   "metadata": {},
   "outputs": [],
   "source": [
    "df.drop(['rownumber','customerid', 'surname'], axis='columns', inplace=True) #Удаляем ненужные столбцы"
   ]
  },
  {
   "cell_type": "code",
   "execution_count": 16,
   "metadata": {},
   "outputs": [
    {
     "data": {
      "text/html": [
       "<div>\n",
       "<style scoped>\n",
       "    .dataframe tbody tr th:only-of-type {\n",
       "        vertical-align: middle;\n",
       "    }\n",
       "\n",
       "    .dataframe tbody tr th {\n",
       "        vertical-align: top;\n",
       "    }\n",
       "\n",
       "    .dataframe thead th {\n",
       "        text-align: right;\n",
       "    }\n",
       "</style>\n",
       "<table border=\"1\" class=\"dataframe\">\n",
       "  <thead>\n",
       "    <tr style=\"text-align: right;\">\n",
       "      <th></th>\n",
       "      <th>creditscore</th>\n",
       "      <th>geography</th>\n",
       "      <th>gender</th>\n",
       "      <th>age</th>\n",
       "      <th>tenure</th>\n",
       "      <th>balance</th>\n",
       "      <th>numofproducts</th>\n",
       "      <th>hascrcard</th>\n",
       "      <th>isactivemember</th>\n",
       "      <th>estimatedsalary</th>\n",
       "      <th>exited</th>\n",
       "    </tr>\n",
       "  </thead>\n",
       "  <tbody>\n",
       "    <tr>\n",
       "      <td>0</td>\n",
       "      <td>619</td>\n",
       "      <td>France</td>\n",
       "      <td>Female</td>\n",
       "      <td>42</td>\n",
       "      <td>2.0</td>\n",
       "      <td>0.00</td>\n",
       "      <td>1</td>\n",
       "      <td>1</td>\n",
       "      <td>1</td>\n",
       "      <td>101348.88</td>\n",
       "      <td>1</td>\n",
       "    </tr>\n",
       "    <tr>\n",
       "      <td>1</td>\n",
       "      <td>608</td>\n",
       "      <td>Spain</td>\n",
       "      <td>Female</td>\n",
       "      <td>41</td>\n",
       "      <td>1.0</td>\n",
       "      <td>83807.86</td>\n",
       "      <td>1</td>\n",
       "      <td>0</td>\n",
       "      <td>1</td>\n",
       "      <td>112542.58</td>\n",
       "      <td>0</td>\n",
       "    </tr>\n",
       "    <tr>\n",
       "      <td>2</td>\n",
       "      <td>502</td>\n",
       "      <td>France</td>\n",
       "      <td>Female</td>\n",
       "      <td>42</td>\n",
       "      <td>8.0</td>\n",
       "      <td>159660.80</td>\n",
       "      <td>3</td>\n",
       "      <td>1</td>\n",
       "      <td>0</td>\n",
       "      <td>113931.57</td>\n",
       "      <td>1</td>\n",
       "    </tr>\n",
       "    <tr>\n",
       "      <td>3</td>\n",
       "      <td>699</td>\n",
       "      <td>France</td>\n",
       "      <td>Female</td>\n",
       "      <td>39</td>\n",
       "      <td>1.0</td>\n",
       "      <td>0.00</td>\n",
       "      <td>2</td>\n",
       "      <td>0</td>\n",
       "      <td>0</td>\n",
       "      <td>93826.63</td>\n",
       "      <td>0</td>\n",
       "    </tr>\n",
       "    <tr>\n",
       "      <td>4</td>\n",
       "      <td>850</td>\n",
       "      <td>Spain</td>\n",
       "      <td>Female</td>\n",
       "      <td>43</td>\n",
       "      <td>2.0</td>\n",
       "      <td>125510.82</td>\n",
       "      <td>1</td>\n",
       "      <td>1</td>\n",
       "      <td>1</td>\n",
       "      <td>79084.10</td>\n",
       "      <td>0</td>\n",
       "    </tr>\n",
       "  </tbody>\n",
       "</table>\n",
       "</div>"
      ],
      "text/plain": [
       "   creditscore geography  gender  age  tenure    balance  numofproducts  \\\n",
       "0          619    France  Female   42     2.0       0.00              1   \n",
       "1          608     Spain  Female   41     1.0   83807.86              1   \n",
       "2          502    France  Female   42     8.0  159660.80              3   \n",
       "3          699    France  Female   39     1.0       0.00              2   \n",
       "4          850     Spain  Female   43     2.0  125510.82              1   \n",
       "\n",
       "   hascrcard  isactivemember  estimatedsalary  exited  \n",
       "0          1               1        101348.88       1  \n",
       "1          0               1        112542.58       0  \n",
       "2          1               0        113931.57       1  \n",
       "3          0               0         93826.63       0  \n",
       "4          1               1         79084.10       0  "
      ]
     },
     "execution_count": 16,
     "metadata": {},
     "output_type": "execute_result"
    }
   ],
   "source": [
    "df.head()"
   ]
  },
  {
   "cell_type": "code",
   "execution_count": 17,
   "metadata": {},
   "outputs": [
    {
     "name": "stdout",
     "output_type": "stream",
     "text": [
      "<class 'pandas.core.frame.DataFrame'>\n",
      "RangeIndex: 10000 entries, 0 to 9999\n",
      "Data columns (total 11 columns):\n",
      "creditscore        10000 non-null int64\n",
      "geography          10000 non-null object\n",
      "gender             10000 non-null object\n",
      "age                10000 non-null int64\n",
      "tenure             10000 non-null float64\n",
      "balance            10000 non-null float64\n",
      "numofproducts      10000 non-null int64\n",
      "hascrcard          10000 non-null int64\n",
      "isactivemember     10000 non-null int64\n",
      "estimatedsalary    10000 non-null float64\n",
      "exited             10000 non-null int64\n",
      "dtypes: float64(3), int64(6), object(2)\n",
      "memory usage: 859.5+ KB\n"
     ]
    }
   ],
   "source": [
    "df.info()"
   ]
  },
  {
   "cell_type": "markdown",
   "metadata": {},
   "source": [
    "__Посмотрим на корреляцию__"
   ]
  },
  {
   "cell_type": "code",
   "execution_count": 18,
   "metadata": {
    "scrolled": true
   },
   "outputs": [
    {
     "data": {
      "text/html": [
       "<div>\n",
       "<style scoped>\n",
       "    .dataframe tbody tr th:only-of-type {\n",
       "        vertical-align: middle;\n",
       "    }\n",
       "\n",
       "    .dataframe tbody tr th {\n",
       "        vertical-align: top;\n",
       "    }\n",
       "\n",
       "    .dataframe thead th {\n",
       "        text-align: right;\n",
       "    }\n",
       "</style>\n",
       "<table border=\"1\" class=\"dataframe\">\n",
       "  <thead>\n",
       "    <tr style=\"text-align: right;\">\n",
       "      <th></th>\n",
       "      <th>creditscore</th>\n",
       "      <th>age</th>\n",
       "      <th>tenure</th>\n",
       "      <th>balance</th>\n",
       "      <th>numofproducts</th>\n",
       "      <th>hascrcard</th>\n",
       "      <th>isactivemember</th>\n",
       "      <th>estimatedsalary</th>\n",
       "      <th>exited</th>\n",
       "    </tr>\n",
       "  </thead>\n",
       "  <tbody>\n",
       "    <tr>\n",
       "      <td>creditscore</td>\n",
       "      <td>1.000000</td>\n",
       "      <td>-0.003965</td>\n",
       "      <td>0.003087</td>\n",
       "      <td>0.006268</td>\n",
       "      <td>0.012238</td>\n",
       "      <td>-0.005458</td>\n",
       "      <td>0.025651</td>\n",
       "      <td>-0.001384</td>\n",
       "      <td>-0.027094</td>\n",
       "    </tr>\n",
       "    <tr>\n",
       "      <td>age</td>\n",
       "      <td>-0.003965</td>\n",
       "      <td>1.000000</td>\n",
       "      <td>-0.007368</td>\n",
       "      <td>0.028308</td>\n",
       "      <td>-0.030680</td>\n",
       "      <td>-0.011721</td>\n",
       "      <td>0.085472</td>\n",
       "      <td>-0.007201</td>\n",
       "      <td>0.285323</td>\n",
       "    </tr>\n",
       "    <tr>\n",
       "      <td>tenure</td>\n",
       "      <td>0.003087</td>\n",
       "      <td>-0.007368</td>\n",
       "      <td>1.000000</td>\n",
       "      <td>-0.005821</td>\n",
       "      <td>0.010106</td>\n",
       "      <td>0.021387</td>\n",
       "      <td>-0.025856</td>\n",
       "      <td>0.011225</td>\n",
       "      <td>-0.013319</td>\n",
       "    </tr>\n",
       "    <tr>\n",
       "      <td>balance</td>\n",
       "      <td>0.006268</td>\n",
       "      <td>0.028308</td>\n",
       "      <td>-0.005821</td>\n",
       "      <td>1.000000</td>\n",
       "      <td>-0.304180</td>\n",
       "      <td>-0.014858</td>\n",
       "      <td>-0.010084</td>\n",
       "      <td>0.012797</td>\n",
       "      <td>0.118533</td>\n",
       "    </tr>\n",
       "    <tr>\n",
       "      <td>numofproducts</td>\n",
       "      <td>0.012238</td>\n",
       "      <td>-0.030680</td>\n",
       "      <td>0.010106</td>\n",
       "      <td>-0.304180</td>\n",
       "      <td>1.000000</td>\n",
       "      <td>0.003183</td>\n",
       "      <td>0.009612</td>\n",
       "      <td>0.014204</td>\n",
       "      <td>-0.047820</td>\n",
       "    </tr>\n",
       "    <tr>\n",
       "      <td>hascrcard</td>\n",
       "      <td>-0.005458</td>\n",
       "      <td>-0.011721</td>\n",
       "      <td>0.021387</td>\n",
       "      <td>-0.014858</td>\n",
       "      <td>0.003183</td>\n",
       "      <td>1.000000</td>\n",
       "      <td>-0.011866</td>\n",
       "      <td>-0.009933</td>\n",
       "      <td>-0.007138</td>\n",
       "    </tr>\n",
       "    <tr>\n",
       "      <td>isactivemember</td>\n",
       "      <td>0.025651</td>\n",
       "      <td>0.085472</td>\n",
       "      <td>-0.025856</td>\n",
       "      <td>-0.010084</td>\n",
       "      <td>0.009612</td>\n",
       "      <td>-0.011866</td>\n",
       "      <td>1.000000</td>\n",
       "      <td>-0.011421</td>\n",
       "      <td>-0.156128</td>\n",
       "    </tr>\n",
       "    <tr>\n",
       "      <td>estimatedsalary</td>\n",
       "      <td>-0.001384</td>\n",
       "      <td>-0.007201</td>\n",
       "      <td>0.011225</td>\n",
       "      <td>0.012797</td>\n",
       "      <td>0.014204</td>\n",
       "      <td>-0.009933</td>\n",
       "      <td>-0.011421</td>\n",
       "      <td>1.000000</td>\n",
       "      <td>0.012097</td>\n",
       "    </tr>\n",
       "    <tr>\n",
       "      <td>exited</td>\n",
       "      <td>-0.027094</td>\n",
       "      <td>0.285323</td>\n",
       "      <td>-0.013319</td>\n",
       "      <td>0.118533</td>\n",
       "      <td>-0.047820</td>\n",
       "      <td>-0.007138</td>\n",
       "      <td>-0.156128</td>\n",
       "      <td>0.012097</td>\n",
       "      <td>1.000000</td>\n",
       "    </tr>\n",
       "  </tbody>\n",
       "</table>\n",
       "</div>"
      ],
      "text/plain": [
       "                 creditscore       age    tenure   balance  numofproducts  \\\n",
       "creditscore         1.000000 -0.003965  0.003087  0.006268       0.012238   \n",
       "age                -0.003965  1.000000 -0.007368  0.028308      -0.030680   \n",
       "tenure              0.003087 -0.007368  1.000000 -0.005821       0.010106   \n",
       "balance             0.006268  0.028308 -0.005821  1.000000      -0.304180   \n",
       "numofproducts       0.012238 -0.030680  0.010106 -0.304180       1.000000   \n",
       "hascrcard          -0.005458 -0.011721  0.021387 -0.014858       0.003183   \n",
       "isactivemember      0.025651  0.085472 -0.025856 -0.010084       0.009612   \n",
       "estimatedsalary    -0.001384 -0.007201  0.011225  0.012797       0.014204   \n",
       "exited             -0.027094  0.285323 -0.013319  0.118533      -0.047820   \n",
       "\n",
       "                 hascrcard  isactivemember  estimatedsalary    exited  \n",
       "creditscore      -0.005458        0.025651        -0.001384 -0.027094  \n",
       "age              -0.011721        0.085472        -0.007201  0.285323  \n",
       "tenure            0.021387       -0.025856         0.011225 -0.013319  \n",
       "balance          -0.014858       -0.010084         0.012797  0.118533  \n",
       "numofproducts     0.003183        0.009612         0.014204 -0.047820  \n",
       "hascrcard         1.000000       -0.011866        -0.009933 -0.007138  \n",
       "isactivemember   -0.011866        1.000000        -0.011421 -0.156128  \n",
       "estimatedsalary  -0.009933       -0.011421         1.000000  0.012097  \n",
       "exited           -0.007138       -0.156128         0.012097  1.000000  "
      ]
     },
     "execution_count": 18,
     "metadata": {},
     "output_type": "execute_result"
    }
   ],
   "source": [
    "df.corr()# посмотрим на корреляцию между исследуемыми параметрами. "
   ]
  },
  {
   "cell_type": "code",
   "execution_count": 19,
   "metadata": {},
   "outputs": [
    {
     "data": {
      "image/png": "[encoded data removed]",
      "text/plain": [
       "<Figure size 842.4x595.44 with 2 Axes>"
      ]
     },
     "metadata": {},
     "output_type": "display_data"
    }
   ],
   "source": [
    "sn.set(rc={'figure.figsize':(11.7,8.27)})\n",
    "corrMatrix = df.corr()\n",
    "sn.heatmap(corrMatrix, annot=True)\n",
    "\n",
    "plt.show()    "
   ]
  },
  {
   "cell_type": "markdown",
   "metadata": {},
   "source": [
    "Обнаружена корреляция только между возрастом __age__ и активностью клиента __isactivemember__"
   ]
  },
  {
   "cell_type": "markdown",
   "metadata": {},
   "source": [
    "__Сгруппируем целевой признак из столбца `exited` по количественному и процентному соотношению.__\n",
    "Целевым признаком является факт ухода или оставания клиента, сгруппировав целевой признак - оценим баланс классов."
   ]
  },
  {
   "cell_type": "code",
   "execution_count": 20,
   "metadata": {},
   "outputs": [],
   "source": [
    "def actual_status(exited):\n",
    "       \n",
    "        if exited ==1:\n",
    "                return 'ушёл'\n",
    "        if exited ==0 :\n",
    "                return 'остался'\n",
    "df['actual_status'] = df['exited'].apply(actual_status)\n",
    "#создаем новый столбец actual_status в котором обозначм фактический статус клиента. "
   ]
  },
  {
   "cell_type": "markdown",
   "metadata": {},
   "source": [
    "<div class=\"alert alert-warning\">\n",
    "    \n",
    "**Комментарий ревьюера**\n",
    "    \n",
    "Можно было сразу посмотреть value_counts и не писать лишнюю ячейку\n",
    "</div>"
   ]
  },
  {
   "cell_type": "code",
   "execution_count": 21,
   "metadata": {},
   "outputs": [
    {
     "data": {
      "text/plain": [
       "0    7963\n",
       "1    2037\n",
       "Name: exited, dtype: int64"
      ]
     },
     "execution_count": 21,
     "metadata": {},
     "output_type": "execute_result"
    }
   ],
   "source": [
    "df['exited'].value_counts()"
   ]
  },
  {
   "cell_type": "markdown",
   "metadata": {},
   "source": [
    "<div style=\"border:solid light blue 1px; padding: 1px\">\n",
    "<div class=\"alert alert-info\">\n",
    "<b>Комментарий студента:</b>\n",
    "    \n",
    "  Функцию, с выделением целевого признака, для визуализации создал, ну и для того чтобы увидеть вот [это](#step6))) \n",
    "\n",
    "    \n",
    "</div>"
   ]
  },
  {
   "cell_type": "markdown",
   "metadata": {},
   "source": [
    "<div class=\"alert alert-success\">\n",
    "    \n",
    "**Комментарий ревьюера v_2**\n",
    "     \n",
    "Окей)Но всё равно кажется, что ты усложнил)\n",
    "</div>"
   ]
  },
  {
   "cell_type": "code",
   "execution_count": 22,
   "metadata": {
    "scrolled": true
   },
   "outputs": [
    {
     "data": {
      "text/html": [
       "<div>\n",
       "<style scoped>\n",
       "    .dataframe tbody tr th:only-of-type {\n",
       "        vertical-align: middle;\n",
       "    }\n",
       "\n",
       "    .dataframe tbody tr th {\n",
       "        vertical-align: top;\n",
       "    }\n",
       "\n",
       "    .dataframe thead th {\n",
       "        text-align: right;\n",
       "    }\n",
       "</style>\n",
       "<table border=\"1\" class=\"dataframe\">\n",
       "  <thead>\n",
       "    <tr style=\"text-align: right;\">\n",
       "      <th></th>\n",
       "      <th>creditscore</th>\n",
       "      <th>geography</th>\n",
       "      <th>gender</th>\n",
       "      <th>age</th>\n",
       "      <th>tenure</th>\n",
       "      <th>balance</th>\n",
       "      <th>numofproducts</th>\n",
       "      <th>hascrcard</th>\n",
       "      <th>isactivemember</th>\n",
       "      <th>estimatedsalary</th>\n",
       "      <th>exited</th>\n",
       "      <th>actual_status</th>\n",
       "    </tr>\n",
       "  </thead>\n",
       "  <tbody>\n",
       "    <tr>\n",
       "      <td>0</td>\n",
       "      <td>619</td>\n",
       "      <td>France</td>\n",
       "      <td>Female</td>\n",
       "      <td>42</td>\n",
       "      <td>2.0</td>\n",
       "      <td>0.00</td>\n",
       "      <td>1</td>\n",
       "      <td>1</td>\n",
       "      <td>1</td>\n",
       "      <td>101348.88</td>\n",
       "      <td>1</td>\n",
       "      <td>ушёл</td>\n",
       "    </tr>\n",
       "    <tr>\n",
       "      <td>1</td>\n",
       "      <td>608</td>\n",
       "      <td>Spain</td>\n",
       "      <td>Female</td>\n",
       "      <td>41</td>\n",
       "      <td>1.0</td>\n",
       "      <td>83807.86</td>\n",
       "      <td>1</td>\n",
       "      <td>0</td>\n",
       "      <td>1</td>\n",
       "      <td>112542.58</td>\n",
       "      <td>0</td>\n",
       "      <td>остался</td>\n",
       "    </tr>\n",
       "    <tr>\n",
       "      <td>2</td>\n",
       "      <td>502</td>\n",
       "      <td>France</td>\n",
       "      <td>Female</td>\n",
       "      <td>42</td>\n",
       "      <td>8.0</td>\n",
       "      <td>159660.80</td>\n",
       "      <td>3</td>\n",
       "      <td>1</td>\n",
       "      <td>0</td>\n",
       "      <td>113931.57</td>\n",
       "      <td>1</td>\n",
       "      <td>ушёл</td>\n",
       "    </tr>\n",
       "  </tbody>\n",
       "</table>\n",
       "</div>"
      ],
      "text/plain": [
       "   creditscore geography  gender  age  tenure    balance  numofproducts  \\\n",
       "0          619    France  Female   42     2.0       0.00              1   \n",
       "1          608     Spain  Female   41     1.0   83807.86              1   \n",
       "2          502    France  Female   42     8.0  159660.80              3   \n",
       "\n",
       "   hascrcard  isactivemember  estimatedsalary  exited actual_status  \n",
       "0          1               1        101348.88       1          ушёл  \n",
       "1          0               1        112542.58       0       остался  \n",
       "2          1               0        113931.57       1          ушёл  "
      ]
     },
     "execution_count": 22,
     "metadata": {},
     "output_type": "execute_result"
    }
   ],
   "source": [
    "df.head(3)"
   ]
  },
  {
   "cell_type": "code",
   "execution_count": 23,
   "metadata": {},
   "outputs": [
    {
     "data": {
      "text/html": [
       "<div>\n",
       "<style scoped>\n",
       "    .dataframe tbody tr th:only-of-type {\n",
       "        vertical-align: middle;\n",
       "    }\n",
       "\n",
       "    .dataframe tbody tr th {\n",
       "        vertical-align: top;\n",
       "    }\n",
       "\n",
       "    .dataframe thead th {\n",
       "        text-align: right;\n",
       "    }\n",
       "</style>\n",
       "<table border=\"1\" class=\"dataframe\">\n",
       "  <thead>\n",
       "    <tr style=\"text-align: right;\">\n",
       "      <th></th>\n",
       "      <th>count_clients</th>\n",
       "      <th>%_clients</th>\n",
       "    </tr>\n",
       "  </thead>\n",
       "  <tbody>\n",
       "    <tr>\n",
       "      <td>остался</td>\n",
       "      <td>7963</td>\n",
       "      <td>79.6</td>\n",
       "    </tr>\n",
       "    <tr>\n",
       "      <td>ушёл</td>\n",
       "      <td>2037</td>\n",
       "      <td>20.4</td>\n",
       "    </tr>\n",
       "  </tbody>\n",
       "</table>\n",
       "</div>"
      ],
      "text/plain": [
       "         count_clients  %_clients\n",
       "остался           7963       79.6\n",
       "ушёл              2037       20.4"
      ]
     },
     "execution_count": 23,
     "metadata": {},
     "output_type": "execute_result"
    }
   ],
   "source": [
    "indicator_clients =df['actual_status'].value_counts().to_frame()\n",
    "# методом value_counts определим количество оставшихся и ушедших клиентов\n",
    "indicator_clients.columns = ['count_clients']\n",
    "indicator_clients['%_clients'] = ((indicator_clients['count_clients']/10000)*100).round(1).to_frame()\n",
    "#определяем процентное соотношение между оставшимися и ушедшими клиентами банка.\n",
    "indicator_clients"
   ]
  },
  {
   "cell_type": "markdown",
   "metadata": {},
   "source": [
    "<a id='step6'></a>"
   ]
  },
  {
   "cell_type": "code",
   "execution_count": 24,
   "metadata": {},
   "outputs": [
    {
     "data": {
      "image/png": "[encoded data removed]",
      "text/plain": [
       "<Figure size 842.4x595.44 with 1 Axes>"
      ]
     },
     "metadata": {},
     "output_type": "display_data"
    }
   ],
   "source": [
    "labels = 'Осталось','Ушло' \n",
    "sizes = [7963,2037\n",
    " ]\n",
    "\n",
    "fig1, ax1 = plt.subplots()\n",
    "explode = (0.05, 0.05 ) \n",
    "ax1.pie(sizes, explode=explode,radius=1, labels=labels,autopct='%1.1f%%',\n",
    "        shadow=True, startangle=55,)\n",
    "\n",
    "ax1.set_title(\" Соотношение ушедших и оставшихся клиентов \")\n",
    "plt.show()"
   ]
  },
  {
   "cell_type": "markdown",
   "metadata": {},
   "source": [
    "<div class=\"alert alert-success\">\n",
    "    \n",
    "**Комментарий ревьюера**\n",
    "    \n",
    "Визуализация отличная)\n",
    "</div>"
   ]
  },
  {
   "cell_type": "markdown",
   "metadata": {},
   "source": [
    "Наблюдаем  дисбаланс классов.  Оставшихся клиентов в 4 раза больше, чем ушедщих."
   ]
  },
  {
   "cell_type": "code",
   "execution_count": 25,
   "metadata": {},
   "outputs": [],
   "source": [
    "df.drop(['actual_status'], axis='columns', inplace=True) #Удаляем столбец actual_status ненужные столбцы"
   ]
  },
  {
   "cell_type": "code",
   "execution_count": 68,
   "metadata": {
    "scrolled": true
   },
   "outputs": [
    {
     "data": {
      "text/html": [
       "<div>\n",
       "<style scoped>\n",
       "    .dataframe tbody tr th:only-of-type {\n",
       "        vertical-align: middle;\n",
       "    }\n",
       "\n",
       "    .dataframe tbody tr th {\n",
       "        vertical-align: top;\n",
       "    }\n",
       "\n",
       "    .dataframe thead th {\n",
       "        text-align: right;\n",
       "    }\n",
       "</style>\n",
       "<table border=\"1\" class=\"dataframe\">\n",
       "  <thead>\n",
       "    <tr style=\"text-align: right;\">\n",
       "      <th></th>\n",
       "      <th>creditscore</th>\n",
       "      <th>age</th>\n",
       "      <th>tenure</th>\n",
       "      <th>balance</th>\n",
       "      <th>numofproducts</th>\n",
       "      <th>hascrcard</th>\n",
       "      <th>isactivemember</th>\n",
       "      <th>estimatedsalary</th>\n",
       "      <th>exited</th>\n",
       "      <th>geography_Germany</th>\n",
       "      <th>geography_Spain</th>\n",
       "      <th>gender_Male</th>\n",
       "    </tr>\n",
       "  </thead>\n",
       "  <tbody>\n",
       "    <tr>\n",
       "      <td>0</td>\n",
       "      <td>619</td>\n",
       "      <td>42</td>\n",
       "      <td>2.0</td>\n",
       "      <td>0.00</td>\n",
       "      <td>1</td>\n",
       "      <td>1</td>\n",
       "      <td>1</td>\n",
       "      <td>101348.88</td>\n",
       "      <td>1</td>\n",
       "      <td>0</td>\n",
       "      <td>0</td>\n",
       "      <td>0</td>\n",
       "    </tr>\n",
       "    <tr>\n",
       "      <td>1</td>\n",
       "      <td>608</td>\n",
       "      <td>41</td>\n",
       "      <td>1.0</td>\n",
       "      <td>83807.86</td>\n",
       "      <td>1</td>\n",
       "      <td>0</td>\n",
       "      <td>1</td>\n",
       "      <td>112542.58</td>\n",
       "      <td>0</td>\n",
       "      <td>0</td>\n",
       "      <td>1</td>\n",
       "      <td>0</td>\n",
       "    </tr>\n",
       "  </tbody>\n",
       "</table>\n",
       "</div>"
      ],
      "text/plain": [
       "   creditscore  age  tenure   balance  numofproducts  hascrcard  \\\n",
       "0          619   42     2.0      0.00              1          1   \n",
       "1          608   41     1.0  83807.86              1          0   \n",
       "\n",
       "   isactivemember  estimatedsalary  exited  geography_Germany  \\\n",
       "0               1        101348.88       1                  0   \n",
       "1               1        112542.58       0                  0   \n",
       "\n",
       "   geography_Spain  gender_Male  \n",
       "0                0            0  \n",
       "1                1            0  "
      ]
     },
     "execution_count": 68,
     "metadata": {},
     "output_type": "execute_result"
    }
   ],
   "source": [
    "df.head(2)"
   ]
  },
  {
   "cell_type": "code",
   "execution_count": 27,
   "metadata": {},
   "outputs": [
    {
     "data": {
      "text/plain": [
       "creditscore          int64\n",
       "geography           object\n",
       "gender              object\n",
       "age                  int64\n",
       "tenure             float64\n",
       "balance            float64\n",
       "numofproducts        int64\n",
       "hascrcard            int64\n",
       "isactivemember       int64\n",
       "estimatedsalary    float64\n",
       "exited               int64\n",
       "dtype: object"
      ]
     },
     "execution_count": 27,
     "metadata": {},
     "output_type": "execute_result"
    }
   ],
   "source": [
    "df.dtypes # посмотрим на типы данных в исследуемом датасете"
   ]
  },
  {
   "cell_type": "markdown",
   "metadata": {},
   "source": [
    "В исследуемой таблице,  в столбцах ___'gender' и 'geography'___ имеем тип данных \"object\", это два категориальных признака, изменим при помощи техники прямого кодирования - __OHE__ ( One-Hot Encoding). их из категориальных  на числовые."
   ]
  },
  {
   "cell_type": "code",
   "execution_count": 28,
   "metadata": {},
   "outputs": [],
   "source": [
    "df = pd.get_dummies(df, drop_first = True) \n",
    "#Применим  технику OHE, и чтобы не попасть в Дамми-ловушку, аргументом drop_first («сбросьте первый»), сбросим первый столбец "
   ]
  },
  {
   "cell_type": "markdown",
   "metadata": {},
   "source": [
    "<div class=\"alert alert-success\">\n",
    "    \n",
    "**Комментарий ревьюера**\n",
    "    \n",
    "Верно\n",
    "</div>"
   ]
  },
  {
   "cell_type": "code",
   "execution_count": 29,
   "metadata": {},
   "outputs": [
    {
     "data": {
      "text/html": [
       "<div>\n",
       "<style scoped>\n",
       "    .dataframe tbody tr th:only-of-type {\n",
       "        vertical-align: middle;\n",
       "    }\n",
       "\n",
       "    .dataframe tbody tr th {\n",
       "        vertical-align: top;\n",
       "    }\n",
       "\n",
       "    .dataframe thead th {\n",
       "        text-align: right;\n",
       "    }\n",
       "</style>\n",
       "<table border=\"1\" class=\"dataframe\">\n",
       "  <thead>\n",
       "    <tr style=\"text-align: right;\">\n",
       "      <th></th>\n",
       "      <th>creditscore</th>\n",
       "      <th>age</th>\n",
       "      <th>tenure</th>\n",
       "      <th>balance</th>\n",
       "      <th>numofproducts</th>\n",
       "      <th>hascrcard</th>\n",
       "      <th>isactivemember</th>\n",
       "      <th>estimatedsalary</th>\n",
       "      <th>exited</th>\n",
       "      <th>geography_Germany</th>\n",
       "      <th>geography_Spain</th>\n",
       "      <th>gender_Male</th>\n",
       "    </tr>\n",
       "  </thead>\n",
       "  <tbody>\n",
       "    <tr>\n",
       "      <td>0</td>\n",
       "      <td>619</td>\n",
       "      <td>42</td>\n",
       "      <td>2.0</td>\n",
       "      <td>0.00</td>\n",
       "      <td>1</td>\n",
       "      <td>1</td>\n",
       "      <td>1</td>\n",
       "      <td>101348.88</td>\n",
       "      <td>1</td>\n",
       "      <td>0</td>\n",
       "      <td>0</td>\n",
       "      <td>0</td>\n",
       "    </tr>\n",
       "    <tr>\n",
       "      <td>1</td>\n",
       "      <td>608</td>\n",
       "      <td>41</td>\n",
       "      <td>1.0</td>\n",
       "      <td>83807.86</td>\n",
       "      <td>1</td>\n",
       "      <td>0</td>\n",
       "      <td>1</td>\n",
       "      <td>112542.58</td>\n",
       "      <td>0</td>\n",
       "      <td>0</td>\n",
       "      <td>1</td>\n",
       "      <td>0</td>\n",
       "    </tr>\n",
       "    <tr>\n",
       "      <td>2</td>\n",
       "      <td>502</td>\n",
       "      <td>42</td>\n",
       "      <td>8.0</td>\n",
       "      <td>159660.80</td>\n",
       "      <td>3</td>\n",
       "      <td>1</td>\n",
       "      <td>0</td>\n",
       "      <td>113931.57</td>\n",
       "      <td>1</td>\n",
       "      <td>0</td>\n",
       "      <td>0</td>\n",
       "      <td>0</td>\n",
       "    </tr>\n",
       "    <tr>\n",
       "      <td>3</td>\n",
       "      <td>699</td>\n",
       "      <td>39</td>\n",
       "      <td>1.0</td>\n",
       "      <td>0.00</td>\n",
       "      <td>2</td>\n",
       "      <td>0</td>\n",
       "      <td>0</td>\n",
       "      <td>93826.63</td>\n",
       "      <td>0</td>\n",
       "      <td>0</td>\n",
       "      <td>0</td>\n",
       "      <td>0</td>\n",
       "    </tr>\n",
       "    <tr>\n",
       "      <td>4</td>\n",
       "      <td>850</td>\n",
       "      <td>43</td>\n",
       "      <td>2.0</td>\n",
       "      <td>125510.82</td>\n",
       "      <td>1</td>\n",
       "      <td>1</td>\n",
       "      <td>1</td>\n",
       "      <td>79084.10</td>\n",
       "      <td>0</td>\n",
       "      <td>0</td>\n",
       "      <td>1</td>\n",
       "      <td>0</td>\n",
       "    </tr>\n",
       "  </tbody>\n",
       "</table>\n",
       "</div>"
      ],
      "text/plain": [
       "   creditscore  age  tenure    balance  numofproducts  hascrcard  \\\n",
       "0          619   42     2.0       0.00              1          1   \n",
       "1          608   41     1.0   83807.86              1          0   \n",
       "2          502   42     8.0  159660.80              3          1   \n",
       "3          699   39     1.0       0.00              2          0   \n",
       "4          850   43     2.0  125510.82              1          1   \n",
       "\n",
       "   isactivemember  estimatedsalary  exited  geography_Germany  \\\n",
       "0               1        101348.88       1                  0   \n",
       "1               1        112542.58       0                  0   \n",
       "2               0        113931.57       1                  0   \n",
       "3               0         93826.63       0                  0   \n",
       "4               1         79084.10       0                  0   \n",
       "\n",
       "   geography_Spain  gender_Male  \n",
       "0                0            0  \n",
       "1                1            0  \n",
       "2                0            0  \n",
       "3                0            0  \n",
       "4                1            0  "
      ]
     },
     "execution_count": 29,
     "metadata": {},
     "output_type": "execute_result"
    }
   ],
   "source": [
    "df.head()"
   ]
  },
  {
   "cell_type": "code",
   "execution_count": 30,
   "metadata": {},
   "outputs": [
    {
     "name": "stdout",
     "output_type": "stream",
     "text": [
      "<class 'pandas.core.frame.DataFrame'>\n",
      "RangeIndex: 10000 entries, 0 to 9999\n",
      "Data columns (total 12 columns):\n",
      "creditscore          10000 non-null int64\n",
      "age                  10000 non-null int64\n",
      "tenure               10000 non-null float64\n",
      "balance              10000 non-null float64\n",
      "numofproducts        10000 non-null int64\n",
      "hascrcard            10000 non-null int64\n",
      "isactivemember       10000 non-null int64\n",
      "estimatedsalary      10000 non-null float64\n",
      "exited               10000 non-null int64\n",
      "geography_Germany    10000 non-null uint8\n",
      "geography_Spain      10000 non-null uint8\n",
      "gender_Male          10000 non-null uint8\n",
      "dtypes: float64(3), int64(6), uint8(3)\n",
      "memory usage: 732.5 KB\n"
     ]
    }
   ],
   "source": [
    "df.info()# посмотрим на изменение  типов  данных в колонках 'gender' и 'geography' исследуемого датасета."
   ]
  },
  {
   "cell_type": "markdown",
   "metadata": {},
   "source": [
    "__Методом Стандартизации данных произведем - Маштабирование признаков__"
   ]
  },
  {
   "cell_type": "markdown",
   "metadata": {},
   "source": [
    " Получим из основного датасета выборки в соотношении 3:1:1  затем произведем  масштабирование признаков методом стандартизации. "
   ]
  },
  {
   "cell_type": "markdown",
   "metadata": {},
   "source": [
    "<div class=\"alert alert-success\">\n",
    "    \n",
    "**Комментарий ревьюера**\n",
    "    \n",
    "Верно, молодец)\n",
    "</div>"
   ]
  },
  {
   "cell_type": "code",
   "execution_count": 31,
   "metadata": {},
   "outputs": [],
   "source": [
    "#warnings.simplefilter('ignore')  # игнорирование ошибки\n",
    "pd.options.mode.chained_assignment = None # Чтобы  не появлялось предупреждение\n",
    "features  = df.drop(['exited'],axis=1)# соберем в переменной features общие пирзнаки\n",
    "target = df['exited'] # Целевой признак"
   ]
  },
  {
   "cell_type": "code",
   "execution_count": 32,
   "metadata": {},
   "outputs": [
    {
     "data": {
      "text/plain": [
       "0    1\n",
       "1    0\n",
       "Name: exited, dtype: int64"
      ]
     },
     "metadata": {},
     "output_type": "display_data"
    },
    {
     "data": {
      "text/html": [
       "<div>\n",
       "<style scoped>\n",
       "    .dataframe tbody tr th:only-of-type {\n",
       "        vertical-align: middle;\n",
       "    }\n",
       "\n",
       "    .dataframe tbody tr th {\n",
       "        vertical-align: top;\n",
       "    }\n",
       "\n",
       "    .dataframe thead th {\n",
       "        text-align: right;\n",
       "    }\n",
       "</style>\n",
       "<table border=\"1\" class=\"dataframe\">\n",
       "  <thead>\n",
       "    <tr style=\"text-align: right;\">\n",
       "      <th></th>\n",
       "      <th>creditscore</th>\n",
       "      <th>age</th>\n",
       "      <th>tenure</th>\n",
       "      <th>balance</th>\n",
       "      <th>numofproducts</th>\n",
       "      <th>hascrcard</th>\n",
       "      <th>isactivemember</th>\n",
       "      <th>estimatedsalary</th>\n",
       "      <th>geography_Germany</th>\n",
       "      <th>geography_Spain</th>\n",
       "      <th>gender_Male</th>\n",
       "    </tr>\n",
       "  </thead>\n",
       "  <tbody>\n",
       "    <tr>\n",
       "      <td>0</td>\n",
       "      <td>619</td>\n",
       "      <td>42</td>\n",
       "      <td>2.0</td>\n",
       "      <td>0.00</td>\n",
       "      <td>1</td>\n",
       "      <td>1</td>\n",
       "      <td>1</td>\n",
       "      <td>101348.88</td>\n",
       "      <td>0</td>\n",
       "      <td>0</td>\n",
       "      <td>0</td>\n",
       "    </tr>\n",
       "    <tr>\n",
       "      <td>1</td>\n",
       "      <td>608</td>\n",
       "      <td>41</td>\n",
       "      <td>1.0</td>\n",
       "      <td>83807.86</td>\n",
       "      <td>1</td>\n",
       "      <td>0</td>\n",
       "      <td>1</td>\n",
       "      <td>112542.58</td>\n",
       "      <td>0</td>\n",
       "      <td>1</td>\n",
       "      <td>0</td>\n",
       "    </tr>\n",
       "  </tbody>\n",
       "</table>\n",
       "</div>"
      ],
      "text/plain": [
       "   creditscore  age  tenure   balance  numofproducts  hascrcard  \\\n",
       "0          619   42     2.0      0.00              1          1   \n",
       "1          608   41     1.0  83807.86              1          0   \n",
       "\n",
       "   isactivemember  estimatedsalary  geography_Germany  geography_Spain  \\\n",
       "0               1        101348.88                  0                0   \n",
       "1               1        112542.58                  0                1   \n",
       "\n",
       "   gender_Male  \n",
       "0            0  \n",
       "1            0  "
      ]
     },
     "metadata": {},
     "output_type": "display_data"
    },
    {
     "data": {
      "text/plain": [
       "(10000,)"
      ]
     },
     "metadata": {},
     "output_type": "display_data"
    },
    {
     "data": {
      "text/plain": [
       "(10000, 11)"
      ]
     },
     "metadata": {},
     "output_type": "display_data"
    }
   ],
   "source": [
    "display(target.head(2))\n",
    "display(features.head(2))\n",
    "display(target.shape)\n",
    "display(features.shape)"
   ]
  },
  {
   "cell_type": "markdown",
   "metadata": {},
   "source": [
    " __Разбиение  данных на выборки__"
   ]
  },
  {
   "cell_type": "code",
   "execution_count": 33,
   "metadata": {},
   "outputs": [],
   "source": [
    "#Разделим на тренировочную и валидационно/тестовую выборки\n",
    "features_train, features_valid_test, target_train, target_valid_test = train_test_split(\n",
    "    features, target, test_size=0.4, random_state=12345, stratify = target) \n",
    "\n"
   ]
  },
  {
   "cell_type": "code",
   "execution_count": 34,
   "metadata": {},
   "outputs": [
    {
     "name": "stdout",
     "output_type": "stream",
     "text": [
      "60% 40% \n"
     ]
    }
   ],
   "source": [
    "# проверим, корректно ли поделились наши выборки на тренировочную и валидационно тестовую выборки\n",
    "def percent(df_1,df_2):\n",
    "    selection_1 = df_1.shape[0]/df.shape[0]\n",
    "    selection_2 = df_2.shape[0]/df.shape[0]\n",
    "    \n",
    "    print('{:.0%} {:.0%} '.format(selection_1,selection_2))\n",
    "percent(features_train,features_valid_test)"
   ]
  },
  {
   "cell_type": "code",
   "execution_count": 35,
   "metadata": {},
   "outputs": [],
   "source": [
    "#Разделим валидационно/тестовую выборку на валидационно и тестовую выборки\n",
    "features_valid, features_test, target_valid, target_test = train_test_split(\n",
    "    features_valid_test, target_valid_test, test_size=0.5, random_state=12345, stratify = target_valid_test)"
   ]
  },
  {
   "cell_type": "markdown",
   "metadata": {},
   "source": [
    "<div class=\"alert alert-success\">\n",
    "    \n",
    "**Комментарий ревьюера**\n",
    "    \n",
    "Деление верное, но не понимаю зачем ты все эти проценты выводишь столько раз)\n",
    "</div>"
   ]
  },
  {
   "cell_type": "markdown",
   "metadata": {},
   "source": [
    "<div style=\"border:solid light blue 1px; padding: 1px\">\n",
    "<div class=\"alert alert-info\">\n",
    "<b>Комментарий студента:</b>\n",
    "    \n",
    " Убрал, выводил как поделился целевой признак.\n",
    "    \n",
    "</div>"
   ]
  },
  {
   "cell_type": "markdown",
   "metadata": {},
   "source": [
    "<div class=\"alert alert-success\">\n",
    "    \n",
    "**Комментарий ревьюера v_2**\n",
    "     \n",
    "Когда идут одни проценты начинаешь путаться)Или стоило убрать, как ты и сделал, или добавить подписи)\n",
    "</div>"
   ]
  },
  {
   "cell_type": "code",
   "execution_count": 36,
   "metadata": {},
   "outputs": [
    {
     "name": "stdout",
     "output_type": "stream",
     "text": [
      "20% 20% \n"
     ]
    }
   ],
   "source": [
    "# проверим, корректно ли поделились наши выборки на валидационную и тестовую\n",
    "percent(features_valid,features_test)"
   ]
  },
  {
   "cell_type": "code",
   "execution_count": 37,
   "metadata": {},
   "outputs": [
    {
     "name": "stdout",
     "output_type": "stream",
     "text": [
      "6000\n",
      "[[0.718, 0.282]]\n",
      "2000\n",
      "[[0.718, 0.282]]\n",
      "2000\n",
      "[[0.718, 0.282]]\n"
     ]
    }
   ],
   "source": [
    "#проверим стратификацию поделенных выборок\n",
    "# не наблюдается ли перекоса\n",
    "def ratio(df_5):\n",
    "    print(df_5.shape[0])\n",
    "    df_5=features_test['hascrcard'].value_counts(normalize=True)\n",
    "    list = []\n",
    "    list.append([df_5.iloc[0],df_5.iloc[1]])\n",
    "    print(list)\n",
    "ratio(features_train) \n",
    "ratio(features_test)  \n",
    "ratio(features_valid)"
   ]
  },
  {
   "cell_type": "markdown",
   "metadata": {},
   "source": [
    "<div class=\"alert alert-success\">\n",
    "    \n",
    "**Комментарий ревьюера**\n",
    "    \n",
    "Идея отличная)Чтобы не заниматься этим в следующий раз при использовании метода train_test_split указывай параметр stratify)\n",
    "</div>"
   ]
  },
  {
   "cell_type": "markdown",
   "metadata": {},
   "source": [
    "<div style=\"border:solid light blue 1px; padding: 1px\">\n",
    "<div class=\"alert alert-info\">\n",
    "<b>Комментарий студента:</b>\n",
    "    \n",
    " На счет __stratify__ я понял. Спасбо.\n",
    "    \n",
    "</div>"
   ]
  },
  {
   "cell_type": "markdown",
   "metadata": {},
   "source": [
    "<div class=\"alert alert-success\">\n",
    "    \n",
    "**Комментарий ревьюера v_2**\n",
    "     \n",
    "Ок)\n",
    "</div>"
   ]
  },
  {
   "cell_type": "code",
   "execution_count": 38,
   "metadata": {},
   "outputs": [],
   "source": [
    "# Создадим список numeric_attribute с  числовыми  признаками\n",
    "numeric_attribute = ['creditscore', 'age', 'tenure', 'balance', 'numofproducts', 'estimatedsalary']"
   ]
  },
  {
   "cell_type": "markdown",
   "metadata": {},
   "source": [
    "<div class=\"alert alert-success\">\n",
    "    \n",
    "**Комментарий ревьюера**\n",
    "    \n",
    "Я бы сказал что список, а не переменную)\n",
    "</div>"
   ]
  },
  {
   "cell_type": "markdown",
   "metadata": {},
   "source": [
    "<div style=\"border:solid light blue 1px; padding: 1px\">\n",
    "<div class=\"alert alert-info\">\n",
    "<b>Комментарий студента:</b>\n",
    "    \n",
    "  Да, конечно же это список. Исправляю.\n",
    "    \n",
    "</div>"
   ]
  },
  {
   "cell_type": "markdown",
   "metadata": {},
   "source": [
    "__Масштабирование признаков  — приведение   к одному масштабу, произведем методом стандартизации__  `StandardScaler()`\n"
   ]
  },
  {
   "cell_type": "code",
   "execution_count": 39,
   "metadata": {},
   "outputs": [
    {
     "data": {
      "text/plain": [
       "StandardScaler(copy=True, with_mean=True, with_std=True)"
      ]
     },
     "execution_count": 39,
     "metadata": {},
     "output_type": "execute_result"
    }
   ],
   "source": [
    "# Создадим объект этой структуры и настроим его на обучающих данных. Настройка — это вычисление среднего и дисперсии:\n",
    "scaler = StandardScaler() \n",
    "scaler.fit(features_train.loc[:,numeric_attribute]) #Обучим стандартизатор\n",
    "StandardScaler()"
   ]
  },
  {
   "cell_type": "markdown",
   "metadata": {},
   "source": [
    "<div class=\"alert alert-success\">\n",
    "    \n",
    "**Комментарий ревьюера**\n",
    "    \n",
    "Супер, что умеешь правильно масштабировать)\n",
    "</div>"
   ]
  },
  {
   "cell_type": "code",
   "execution_count": 40,
   "metadata": {},
   "outputs": [],
   "source": [
    "#Стандартизируем признаки\n",
    "\n",
    "features_train[numeric_attribute] = scaler.transform(features_train.loc[:,numeric_attribute])\n",
    "#масштабированные признаки для обучающей\n",
    "features_valid.loc[:,numeric_attribute] = scaler.transform(features_valid.loc[:,numeric_attribute])\n",
    "#масштабированные признаки для валидационной выборуки\n",
    "features_test.loc[:,numeric_attribute] = scaler.transform(features_test.loc[:,numeric_attribute])\n",
    "# масштабированные признаки для тестовой выборуки"
   ]
  },
  {
   "cell_type": "code",
   "execution_count": 41,
   "metadata": {},
   "outputs": [
    {
     "data": {
      "text/html": [
       "<div>\n",
       "<style scoped>\n",
       "    .dataframe tbody tr th:only-of-type {\n",
       "        vertical-align: middle;\n",
       "    }\n",
       "\n",
       "    .dataframe tbody tr th {\n",
       "        vertical-align: top;\n",
       "    }\n",
       "\n",
       "    .dataframe thead th {\n",
       "        text-align: right;\n",
       "    }\n",
       "</style>\n",
       "<table border=\"1\" class=\"dataframe\">\n",
       "  <thead>\n",
       "    <tr style=\"text-align: right;\">\n",
       "      <th></th>\n",
       "      <th>creditscore</th>\n",
       "      <th>age</th>\n",
       "      <th>tenure</th>\n",
       "      <th>balance</th>\n",
       "      <th>numofproducts</th>\n",
       "      <th>hascrcard</th>\n",
       "      <th>isactivemember</th>\n",
       "      <th>estimatedsalary</th>\n",
       "      <th>geography_Germany</th>\n",
       "      <th>geography_Spain</th>\n",
       "      <th>gender_Male</th>\n",
       "    </tr>\n",
       "  </thead>\n",
       "  <tbody>\n",
       "    <tr>\n",
       "      <td>2837</td>\n",
       "      <td>-1.040434</td>\n",
       "      <td>0.953312</td>\n",
       "      <td>0.467449</td>\n",
       "      <td>0.774657</td>\n",
       "      <td>-0.914708</td>\n",
       "      <td>0</td>\n",
       "      <td>1</td>\n",
       "      <td>-0.119110</td>\n",
       "      <td>1</td>\n",
       "      <td>0</td>\n",
       "      <td>0</td>\n",
       "    </tr>\n",
       "    <tr>\n",
       "      <td>9925</td>\n",
       "      <td>0.454006</td>\n",
       "      <td>-0.095244</td>\n",
       "      <td>-1.461501</td>\n",
       "      <td>1.910540</td>\n",
       "      <td>-0.914708</td>\n",
       "      <td>1</td>\n",
       "      <td>1</td>\n",
       "      <td>-0.258658</td>\n",
       "      <td>0</td>\n",
       "      <td>0</td>\n",
       "      <td>0</td>\n",
       "    </tr>\n",
       "    <tr>\n",
       "      <td>8746</td>\n",
       "      <td>0.103585</td>\n",
       "      <td>-0.476537</td>\n",
       "      <td>1.110432</td>\n",
       "      <td>0.481608</td>\n",
       "      <td>0.820981</td>\n",
       "      <td>0</td>\n",
       "      <td>1</td>\n",
       "      <td>1.422836</td>\n",
       "      <td>0</td>\n",
       "      <td>0</td>\n",
       "      <td>1</td>\n",
       "    </tr>\n",
       "  </tbody>\n",
       "</table>\n",
       "</div>"
      ],
      "text/plain": [
       "      creditscore       age    tenure   balance  numofproducts  hascrcard  \\\n",
       "2837    -1.040434  0.953312  0.467449  0.774657      -0.914708          0   \n",
       "9925     0.454006 -0.095244 -1.461501  1.910540      -0.914708          1   \n",
       "8746     0.103585 -0.476537  1.110432  0.481608       0.820981          0   \n",
       "\n",
       "      isactivemember  estimatedsalary  geography_Germany  geography_Spain  \\\n",
       "2837               1        -0.119110                  1                0   \n",
       "9925               1        -0.258658                  0                0   \n",
       "8746               1         1.422836                  0                0   \n",
       "\n",
       "      gender_Male  \n",
       "2837            0  \n",
       "9925            0  \n",
       "8746            1  "
      ]
     },
     "metadata": {},
     "output_type": "display_data"
    },
    {
     "data": {
      "text/html": [
       "<div>\n",
       "<style scoped>\n",
       "    .dataframe tbody tr th:only-of-type {\n",
       "        vertical-align: middle;\n",
       "    }\n",
       "\n",
       "    .dataframe tbody tr th {\n",
       "        vertical-align: top;\n",
       "    }\n",
       "\n",
       "    .dataframe thead th {\n",
       "        text-align: right;\n",
       "    }\n",
       "</style>\n",
       "<table border=\"1\" class=\"dataframe\">\n",
       "  <thead>\n",
       "    <tr style=\"text-align: right;\">\n",
       "      <th></th>\n",
       "      <th>creditscore</th>\n",
       "      <th>age</th>\n",
       "      <th>tenure</th>\n",
       "      <th>balance</th>\n",
       "      <th>numofproducts</th>\n",
       "      <th>hascrcard</th>\n",
       "      <th>isactivemember</th>\n",
       "      <th>estimatedsalary</th>\n",
       "      <th>geography_Germany</th>\n",
       "      <th>geography_Spain</th>\n",
       "      <th>gender_Male</th>\n",
       "    </tr>\n",
       "  </thead>\n",
       "  <tbody>\n",
       "    <tr>\n",
       "      <td>6612</td>\n",
       "      <td>-1.524838</td>\n",
       "      <td>2.383160</td>\n",
       "      <td>-0.497026</td>\n",
       "      <td>1.011655</td>\n",
       "      <td>-0.914708</td>\n",
       "      <td>0</td>\n",
       "      <td>1</td>\n",
       "      <td>0.010275</td>\n",
       "      <td>0</td>\n",
       "      <td>0</td>\n",
       "      <td>0</td>\n",
       "    </tr>\n",
       "    <tr>\n",
       "      <td>519</td>\n",
       "      <td>0.587990</td>\n",
       "      <td>1.811221</td>\n",
       "      <td>0.467449</td>\n",
       "      <td>0.213192</td>\n",
       "      <td>-0.914708</td>\n",
       "      <td>0</td>\n",
       "      <td>1</td>\n",
       "      <td>0.453089</td>\n",
       "      <td>0</td>\n",
       "      <td>0</td>\n",
       "      <td>1</td>\n",
       "    </tr>\n",
       "    <tr>\n",
       "      <td>1609</td>\n",
       "      <td>-0.318980</td>\n",
       "      <td>-0.381213</td>\n",
       "      <td>1.110432</td>\n",
       "      <td>0.893896</td>\n",
       "      <td>-0.914708</td>\n",
       "      <td>1</td>\n",
       "      <td>0</td>\n",
       "      <td>-0.603508</td>\n",
       "      <td>0</td>\n",
       "      <td>0</td>\n",
       "      <td>0</td>\n",
       "    </tr>\n",
       "  </tbody>\n",
       "</table>\n",
       "</div>"
      ],
      "text/plain": [
       "      creditscore       age    tenure   balance  numofproducts  hascrcard  \\\n",
       "6612    -1.524838  2.383160 -0.497026  1.011655      -0.914708          0   \n",
       "519      0.587990  1.811221  0.467449  0.213192      -0.914708          0   \n",
       "1609    -0.318980 -0.381213  1.110432  0.893896      -0.914708          1   \n",
       "\n",
       "      isactivemember  estimatedsalary  geography_Germany  geography_Spain  \\\n",
       "6612               1         0.010275                  0                0   \n",
       "519                1         0.453089                  0                0   \n",
       "1609               0        -0.603508                  0                0   \n",
       "\n",
       "      gender_Male  \n",
       "6612            0  \n",
       "519             1  \n",
       "1609            0  "
      ]
     },
     "metadata": {},
     "output_type": "display_data"
    },
    {
     "data": {
      "text/html": [
       "<div>\n",
       "<style scoped>\n",
       "    .dataframe tbody tr th:only-of-type {\n",
       "        vertical-align: middle;\n",
       "    }\n",
       "\n",
       "    .dataframe tbody tr th {\n",
       "        vertical-align: top;\n",
       "    }\n",
       "\n",
       "    .dataframe thead th {\n",
       "        text-align: right;\n",
       "    }\n",
       "</style>\n",
       "<table border=\"1\" class=\"dataframe\">\n",
       "  <thead>\n",
       "    <tr style=\"text-align: right;\">\n",
       "      <th></th>\n",
       "      <th>creditscore</th>\n",
       "      <th>age</th>\n",
       "      <th>tenure</th>\n",
       "      <th>balance</th>\n",
       "      <th>numofproducts</th>\n",
       "      <th>hascrcard</th>\n",
       "      <th>isactivemember</th>\n",
       "      <th>estimatedsalary</th>\n",
       "      <th>geography_Germany</th>\n",
       "      <th>geography_Spain</th>\n",
       "      <th>gender_Male</th>\n",
       "    </tr>\n",
       "  </thead>\n",
       "  <tbody>\n",
       "    <tr>\n",
       "      <td>657</td>\n",
       "      <td>-0.504497</td>\n",
       "      <td>1.429928</td>\n",
       "      <td>-1.140009</td>\n",
       "      <td>0.873883</td>\n",
       "      <td>0.820981</td>\n",
       "      <td>1</td>\n",
       "      <td>1</td>\n",
       "      <td>1.725255</td>\n",
       "      <td>1</td>\n",
       "      <td>0</td>\n",
       "      <td>0</td>\n",
       "    </tr>\n",
       "    <tr>\n",
       "      <td>2083</td>\n",
       "      <td>-1.195031</td>\n",
       "      <td>-1.429769</td>\n",
       "      <td>-1.140009</td>\n",
       "      <td>-1.219673</td>\n",
       "      <td>-0.914708</td>\n",
       "      <td>1</td>\n",
       "      <td>1</td>\n",
       "      <td>1.203665</td>\n",
       "      <td>0</td>\n",
       "      <td>0</td>\n",
       "      <td>1</td>\n",
       "    </tr>\n",
       "    <tr>\n",
       "      <td>3234</td>\n",
       "      <td>-1.267176</td>\n",
       "      <td>0.762665</td>\n",
       "      <td>-1.140009</td>\n",
       "      <td>-1.219673</td>\n",
       "      <td>-0.914708</td>\n",
       "      <td>1</td>\n",
       "      <td>0</td>\n",
       "      <td>-1.374743</td>\n",
       "      <td>0</td>\n",
       "      <td>0</td>\n",
       "      <td>1</td>\n",
       "    </tr>\n",
       "  </tbody>\n",
       "</table>\n",
       "</div>"
      ],
      "text/plain": [
       "      creditscore       age    tenure   balance  numofproducts  hascrcard  \\\n",
       "657     -0.504497  1.429928 -1.140009  0.873883       0.820981          1   \n",
       "2083    -1.195031 -1.429769 -1.140009 -1.219673      -0.914708          1   \n",
       "3234    -1.267176  0.762665 -1.140009 -1.219673      -0.914708          1   \n",
       "\n",
       "      isactivemember  estimatedsalary  geography_Germany  geography_Spain  \\\n",
       "657                1         1.725255                  1                0   \n",
       "2083               1         1.203665                  0                0   \n",
       "3234               0        -1.374743                  0                0   \n",
       "\n",
       "      gender_Male  \n",
       "657             0  \n",
       "2083            1  \n",
       "3234            1  "
      ]
     },
     "metadata": {},
     "output_type": "display_data"
    }
   ],
   "source": [
    "display(features_train.head(3))\n",
    "display(features_valid.head(3))\n",
    "display(features_test.head(3))"
   ]
  },
  {
   "cell_type": "code",
   "execution_count": 42,
   "metadata": {},
   "outputs": [
    {
     "name": "stdout",
     "output_type": "stream",
     "text": [
      "Обучающая выборка (features_train): (6000, 11)\n",
      "Обучающая выборка - целевой признак (target_train): (6000,)\n",
      "\n",
      "Валидационно/тестовая выборки (features_valid_test): (4000, 11)\n",
      "Валидационно/тестовая выборки целевой признак (target_valid_test): (4000,)\n",
      "\n",
      "Валидационная  выборка (features_valid): (2000, 11)\n",
      "Валидационная выборка - целевой признак (target_valid): (2000,)\n",
      "\n",
      "Тестовая выборка (features_test): (2000, 11)\n",
      "Тестовая выборка - целевой признак (target_test): (2000,)\n"
     ]
    }
   ],
   "source": [
    "print('Обучающая выборка (features_train):', features_train.shape)\n",
    "print('Обучающая выборка - целевой признак (target_train):', target_train.shape)\n",
    "print()\n",
    "print('Валидационно/тестовая выборки (features_valid_test):', features_valid_test.shape)\n",
    "print('Валидационно/тестовая выборки целевой признак (target_valid_test):', target_valid_test.shape)\n",
    "print()\n",
    "print('Валидационная  выборка (features_valid):', features_valid.shape)\n",
    "print('Валидационная выборка - целевой признак (target_valid):', target_valid.shape)\n",
    "print()\n",
    "print('Тестовая выборка (features_test):', features_test.shape)\n",
    "print('Тестовая выборка - целевой признак (target_test):', target_test.shape)"
   ]
  },
  {
   "cell_type": "markdown",
   "metadata": {},
   "source": [
    "<div style=\"border:solid green 2px; padding: 20px\">\n",
    "        \n",
    "***Вывод:***         \n",
    "\n",
    "- Обнаруженные пропуски __909__в столбце __tenure__ заменили на 0.\n",
    "  \n",
    "- Cоотношения в целевом признаке показало __Оставшихся клиентов__  7963 __(79.6%)__ , __Ушедших клиентов__ 2037 __(20.4%)__\n",
    "- Были удалены столбцы, не нужные для  обучению модели: __'rownumber','customerid', \n",
    "'surname'__  \n",
    "- Техникой прямого кодирования __OHE__  категориальные признаки в столбцах _'geography'* и *'gender'_ были преобразованы в численные.\n",
    "- Было произвдено разделение датасета в соотношениии __3:1:1__(60%/20%/20%) на обучающую __features_train__, валидационную __features_valid__ и тестовую __features_test__ выборки, выделены целевой __target__ и общие __features__ признаки. \n",
    "- Для маштабирования признаков применили метод стандартизации ___StandardScaler()__ из модуля  sklearn.preprocessing\n",
    "- Типы данных не требует корректировки.\n",
    "    \n",
    " На следующих  шагах, займемся   обучением    и тестирование  моделей на подготовленных выборках.\n",
    "    \n",
    "\n",
    "   \n",
    "    \n",
    "   \n",
    "   \n",
    "<br>\n",
    "    \n",
    "    \n",
    "</div>"
   ]
  },
  {
   "cell_type": "markdown",
   "metadata": {},
   "source": [
    "<div class=\"alert alert-success\">\n",
    "    \n",
    "**Комментарий ревьюера**\n",
    "    \n",
    "Выводы ок)Молодец)\n",
    "</div>"
   ]
  },
  {
   "cell_type": "markdown",
   "metadata": {},
   "source": [
    "## Исследование задачи\n",
    "[&#10224;](#step1)"
   ]
  },
  {
   "cell_type": "markdown",
   "metadata": {},
   "source": [
    "<a id='step5'></a>"
   ]
  },
  {
   "cell_type": "markdown",
   "metadata": {},
   "source": [
    " <div style=\"border:solid green 2px; padding: 20px\">\n",
    "    \n",
    "\n",
    "    \n",
    "\n",
    "### Приступим к обучению моделей и проверки их качества :<a class=\"tocSkip\">\n",
    "     \n",
    "-  __Решающем дереве__  - [DecisionTreeClassifier ](#step2)\n",
    "-  __Cлучайном лесе__    - [RandomForestClassifier ](#step3)\n",
    "-  __Логистической регрессии__ -  [LogisticRegression](#step4)\n",
    "    \n",
    "    \n",
    "    \n",
    "</div>"
   ]
  },
  {
   "cell_type": "markdown",
   "metadata": {},
   "source": [
    "<a id='step2'></a>"
   ]
  },
  {
   "cell_type": "markdown",
   "metadata": {},
   "source": [
    "__Решающее дерево - DecisionTreeClassifier__<br>\n",
    "[&#10224;](#step5)"
   ]
  },
  {
   "cell_type": "code",
   "execution_count": 43,
   "metadata": {
    "scrolled": true
   },
   "outputs": [
    {
     "name": "stdout",
     "output_type": "stream",
     "text": [
      "Дерево решений max_depth = 2 min_samples_split = 2 min_samples_leaf = 1 метрика f1_score = 0.5203488372093023 метрика accuracy_score = 0.835\n",
      "Дерево решений max_depth = 2 min_samples_split = 2 min_samples_leaf = 2 метрика f1_score = 0.5203488372093023 метрика accuracy_score = 0.835\n",
      "Дерево решений max_depth = 2 min_samples_split = 2 min_samples_leaf = 3 метрика f1_score = 0.5203488372093023 метрика accuracy_score = 0.835\n",
      "Дерево решений max_depth = 2 min_samples_split = 2 min_samples_leaf = 4 метрика f1_score = 0.5203488372093023 метрика accuracy_score = 0.835\n",
      "Дерево решений max_depth = 2 min_samples_split = 3 min_samples_leaf = 1 метрика f1_score = 0.5203488372093023 метрика accuracy_score = 0.835\n",
      "Дерево решений max_depth = 2 min_samples_split = 3 min_samples_leaf = 2 метрика f1_score = 0.5203488372093023 метрика accuracy_score = 0.835\n",
      "Дерево решений max_depth = 2 min_samples_split = 3 min_samples_leaf = 3 метрика f1_score = 0.5203488372093023 метрика accuracy_score = 0.835\n",
      "Дерево решений max_depth = 2 min_samples_split = 3 min_samples_leaf = 4 метрика f1_score = 0.5203488372093023 метрика accuracy_score = 0.835\n",
      "Дерево решений max_depth = 2 min_samples_split = 4 min_samples_leaf = 1 метрика f1_score = 0.5203488372093023 метрика accuracy_score = 0.835\n",
      "Дерево решений max_depth = 2 min_samples_split = 4 min_samples_leaf = 2 метрика f1_score = 0.5203488372093023 метрика accuracy_score = 0.835\n",
      "Дерево решений max_depth = 2 min_samples_split = 4 min_samples_leaf = 3 метрика f1_score = 0.5203488372093023 метрика accuracy_score = 0.835\n",
      "Дерево решений max_depth = 2 min_samples_split = 4 min_samples_leaf = 4 метрика f1_score = 0.5203488372093023 метрика accuracy_score = 0.835\n",
      "Дерево решений max_depth = 2 min_samples_split = 5 min_samples_leaf = 1 метрика f1_score = 0.5203488372093023 метрика accuracy_score = 0.835\n",
      "Дерево решений max_depth = 2 min_samples_split = 5 min_samples_leaf = 2 метрика f1_score = 0.5203488372093023 метрика accuracy_score = 0.835\n",
      "Дерево решений max_depth = 2 min_samples_split = 5 min_samples_leaf = 3 метрика f1_score = 0.5203488372093023 метрика accuracy_score = 0.835\n",
      "Дерево решений max_depth = 2 min_samples_split = 5 min_samples_leaf = 4 метрика f1_score = 0.5203488372093023 метрика accuracy_score = 0.835\n",
      "Дерево решений max_depth = 4 min_samples_split = 2 min_samples_leaf = 1 метрика f1_score = 0.5206349206349208 метрика accuracy_score = 0.849\n",
      "Дерево решений max_depth = 4 min_samples_split = 2 min_samples_leaf = 2 метрика f1_score = 0.5182829888712243 метрика accuracy_score = 0.8485\n",
      "Дерево решений max_depth = 4 min_samples_split = 2 min_samples_leaf = 3 метрика f1_score = 0.5198098256735341 метрика accuracy_score = 0.8485\n",
      "Дерево решений max_depth = 4 min_samples_split = 2 min_samples_leaf = 4 метрика f1_score = 0.5198098256735341 метрика accuracy_score = 0.8485\n",
      "Дерево решений max_depth = 4 min_samples_split = 3 min_samples_leaf = 1 метрика f1_score = 0.5206349206349208 метрика accuracy_score = 0.849\n",
      "Дерево решений max_depth = 4 min_samples_split = 3 min_samples_leaf = 2 метрика f1_score = 0.5182829888712243 метрика accuracy_score = 0.8485\n",
      "Дерево решений max_depth = 4 min_samples_split = 3 min_samples_leaf = 3 метрика f1_score = 0.5198098256735341 метрика accuracy_score = 0.8485\n",
      "Дерево решений max_depth = 4 min_samples_split = 3 min_samples_leaf = 4 метрика f1_score = 0.5198098256735341 метрика accuracy_score = 0.8485\n",
      "Дерево решений max_depth = 4 min_samples_split = 4 min_samples_leaf = 1 метрика f1_score = 0.5206349206349208 метрика accuracy_score = 0.849\n",
      "Дерево решений max_depth = 4 min_samples_split = 4 min_samples_leaf = 2 метрика f1_score = 0.5182829888712243 метрика accuracy_score = 0.8485\n",
      "Дерево решений max_depth = 4 min_samples_split = 4 min_samples_leaf = 3 метрика f1_score = 0.5198098256735341 метрика accuracy_score = 0.8485\n",
      "Дерево решений max_depth = 4 min_samples_split = 4 min_samples_leaf = 4 метрика f1_score = 0.5198098256735341 метрика accuracy_score = 0.8485\n",
      "Дерево решений max_depth = 4 min_samples_split = 5 min_samples_leaf = 1 метрика f1_score = 0.5206349206349208 метрика accuracy_score = 0.849\n",
      "Дерево решений max_depth = 4 min_samples_split = 5 min_samples_leaf = 2 метрика f1_score = 0.5182829888712243 метрика accuracy_score = 0.8485\n",
      "Дерево решений max_depth = 4 min_samples_split = 5 min_samples_leaf = 3 метрика f1_score = 0.5198098256735341 метрика accuracy_score = 0.8485\n",
      "Дерево решений max_depth = 4 min_samples_split = 5 min_samples_leaf = 4 метрика f1_score = 0.5198098256735341 метрика accuracy_score = 0.8485\n",
      "Дерево решений max_depth = 6 min_samples_split = 2 min_samples_leaf = 1 метрика f1_score = 0.574468085106383 метрика accuracy_score = 0.86\n",
      "Дерево решений max_depth = 6 min_samples_split = 2 min_samples_leaf = 2 метрика f1_score = 0.5766312594840668 метрика accuracy_score = 0.8605\n",
      "Дерево решений max_depth = 6 min_samples_split = 2 min_samples_leaf = 3 метрика f1_score = 0.564885496183206 метрика accuracy_score = 0.8575\n",
      "Дерево решений max_depth = 6 min_samples_split = 2 min_samples_leaf = 4 метрика f1_score = 0.5775075987841946 метрика accuracy_score = 0.861\n",
      "Дерево решений max_depth = 6 min_samples_split = 3 min_samples_leaf = 1 метрика f1_score = 0.574468085106383 метрика accuracy_score = 0.86\n",
      "Дерево решений max_depth = 6 min_samples_split = 3 min_samples_leaf = 2 метрика f1_score = 0.5766312594840668 метрика accuracy_score = 0.8605\n",
      "Дерево решений max_depth = 6 min_samples_split = 3 min_samples_leaf = 3 метрика f1_score = 0.564885496183206 метрика accuracy_score = 0.8575\n",
      "Дерево решений max_depth = 6 min_samples_split = 3 min_samples_leaf = 4 метрика f1_score = 0.5775075987841946 метрика accuracy_score = 0.861\n",
      "Дерево решений max_depth = 6 min_samples_split = 4 min_samples_leaf = 1 метрика f1_score = 0.574468085106383 метрика accuracy_score = 0.86\n",
      "Дерево решений max_depth = 6 min_samples_split = 4 min_samples_leaf = 2 метрика f1_score = 0.5766312594840668 метрика accuracy_score = 0.8605\n",
      "Дерево решений max_depth = 6 min_samples_split = 4 min_samples_leaf = 3 метрика f1_score = 0.564885496183206 метрика accuracy_score = 0.8575\n",
      "Дерево решений max_depth = 6 min_samples_split = 4 min_samples_leaf = 4 метрика f1_score = 0.5775075987841946 метрика accuracy_score = 0.861\n",
      "Дерево решений max_depth = 6 min_samples_split = 5 min_samples_leaf = 1 метрика f1_score = 0.5787878787878787 метрика accuracy_score = 0.861\n",
      "Дерево решений max_depth = 6 min_samples_split = 5 min_samples_leaf = 2 метрика f1_score = 0.5766312594840668 метрика accuracy_score = 0.8605\n",
      "Дерево решений max_depth = 6 min_samples_split = 5 min_samples_leaf = 3 метрика f1_score = 0.564885496183206 метрика accuracy_score = 0.8575\n",
      "Дерево решений max_depth = 6 min_samples_split = 5 min_samples_leaf = 4 метрика f1_score = 0.5775075987841946 метрика accuracy_score = 0.861\n",
      "Дерево решений max_depth = 8 min_samples_split = 2 min_samples_leaf = 1 метрика f1_score = 0.5670731707317074 метрика accuracy_score = 0.858\n",
      "Дерево решений max_depth = 8 min_samples_split = 2 min_samples_leaf = 2 метрика f1_score = 0.5648148148148148 метрика accuracy_score = 0.859\n",
      "Дерево решений max_depth = 8 min_samples_split = 2 min_samples_leaf = 3 метрика f1_score = 0.5509893455098935 метрика accuracy_score = 0.8525\n",
      "Дерево решений max_depth = 8 min_samples_split = 2 min_samples_leaf = 4 метрика f1_score = 0.5627836611195158 метрика accuracy_score = 0.8555\n",
      "Дерево решений max_depth = 8 min_samples_split = 3 min_samples_leaf = 1 метрика f1_score = 0.5630769230769231 метрика accuracy_score = 0.858\n",
      "Дерево решений max_depth = 8 min_samples_split = 3 min_samples_leaf = 2 метрика f1_score = 0.5648148148148148 метрика accuracy_score = 0.859\n",
      "Дерево решений max_depth = 8 min_samples_split = 3 min_samples_leaf = 3 метрика f1_score = 0.5509893455098935 метрика accuracy_score = 0.8525\n",
      "Дерево решений max_depth = 8 min_samples_split = 3 min_samples_leaf = 4 метрика f1_score = 0.5627836611195158 метрика accuracy_score = 0.8555\n",
      "Дерево решений max_depth = 8 min_samples_split = 4 min_samples_leaf = 1 метрика f1_score = 0.5709923664122136 метрика accuracy_score = 0.8595\n",
      "Дерево решений max_depth = 8 min_samples_split = 4 min_samples_leaf = 2 метрика f1_score = 0.5648148148148148 метрика accuracy_score = 0.859\n",
      "Дерево решений max_depth = 8 min_samples_split = 4 min_samples_leaf = 3 метрика f1_score = 0.5509893455098935 метрика accuracy_score = 0.8525\n",
      "Дерево решений max_depth = 8 min_samples_split = 4 min_samples_leaf = 4 метрика f1_score = 0.5627836611195158 метрика accuracy_score = 0.8555\n",
      "Дерево решений max_depth = 8 min_samples_split = 5 min_samples_leaf = 1 метрика f1_score = 0.5688073394495413 метрика accuracy_score = 0.859\n",
      "Дерево решений max_depth = 8 min_samples_split = 5 min_samples_leaf = 2 метрика f1_score = 0.5648148148148148 метрика accuracy_score = 0.859\n",
      "Дерево решений max_depth = 8 min_samples_split = 5 min_samples_leaf = 3 метрика f1_score = 0.5509893455098935 метрика accuracy_score = 0.8525\n",
      "Дерево решений max_depth = 8 min_samples_split = 5 min_samples_leaf = 4 метрика f1_score = 0.5627836611195158 метрика accuracy_score = 0.8555\n",
      "Дерево решений max_depth = 10 min_samples_split = 2 min_samples_leaf = 1 метрика f1_score = 0.5454545454545455 метрика accuracy_score = 0.8375\n",
      "Дерево решений max_depth = 10 min_samples_split = 2 min_samples_leaf = 2 метрика f1_score = 0.5596590909090908 метрика accuracy_score = 0.845\n",
      "Дерево решений max_depth = 10 min_samples_split = 2 min_samples_leaf = 3 метрика f1_score = 0.5623268698060941 метрика accuracy_score = 0.842\n",
      "Дерево решений max_depth = 10 min_samples_split = 2 min_samples_leaf = 4 метрика f1_score = 0.5484764542936288 метрика accuracy_score = 0.837\n",
      "Дерево решений max_depth = 10 min_samples_split = 3 min_samples_leaf = 1 метрика f1_score = 0.5596590909090908 метрика accuracy_score = 0.845\n",
      "Дерево решений max_depth = 10 min_samples_split = 3 min_samples_leaf = 2 метрика f1_score = 0.5596590909090908 метрика accuracy_score = 0.845\n",
      "Дерево решений max_depth = 10 min_samples_split = 3 min_samples_leaf = 3 метрика f1_score = 0.5623268698060941 метрика accuracy_score = 0.842\n",
      "Дерево решений max_depth = 10 min_samples_split = 3 min_samples_leaf = 4 метрика f1_score = 0.5484764542936288 метрика accuracy_score = 0.837\n",
      "Дерево решений max_depth = 10 min_samples_split = 4 min_samples_leaf = 1 метрика f1_score = 0.5524861878453039 метрика accuracy_score = 0.838\n",
      "Дерево решений max_depth = 10 min_samples_split = 4 min_samples_leaf = 2 метрика f1_score = 0.5596590909090908 метрика accuracy_score = 0.845\n",
      "Дерево решений max_depth = 10 min_samples_split = 4 min_samples_leaf = 3 метрика f1_score = 0.5623268698060941 метрика accuracy_score = 0.842\n",
      "Дерево решений max_depth = 10 min_samples_split = 4 min_samples_leaf = 4 метрика f1_score = 0.5484764542936288 метрика accuracy_score = 0.837\n",
      "Дерево решений max_depth = 10 min_samples_split = 5 min_samples_leaf = 1 метрика f1_score = 0.5583333333333335 метрика accuracy_score = 0.841\n",
      "Дерево решений max_depth = 10 min_samples_split = 5 min_samples_leaf = 2 метрика f1_score = 0.5439093484419263 метрика accuracy_score = 0.839\n",
      "Дерево решений max_depth = 10 min_samples_split = 5 min_samples_leaf = 3 метрика f1_score = 0.5623268698060941 метрика accuracy_score = 0.842\n",
      "Дерево решений max_depth = 10 min_samples_split = 5 min_samples_leaf = 4 метрика f1_score = 0.5484764542936288 метрика accuracy_score = 0.837\n",
      "Дерево решений max_depth = 12 min_samples_split = 2 min_samples_leaf = 1 метрика f1_score = 0.5315436241610738 метрика accuracy_score = 0.8255\n",
      "Дерево решений max_depth = 12 min_samples_split = 2 min_samples_leaf = 2 метрика f1_score = 0.5417789757412399 метрика accuracy_score = 0.83\n",
      "Дерево решений max_depth = 12 min_samples_split = 2 min_samples_leaf = 3 метрика f1_score = 0.5395590142671854 метрика accuracy_score = 0.8225\n",
      "Дерево решений max_depth = 12 min_samples_split = 2 min_samples_leaf = 4 метрика f1_score = 0.5393858477970629 метрика accuracy_score = 0.8275\n",
      "Дерево решений max_depth = 12 min_samples_split = 3 min_samples_leaf = 1 метрика f1_score = 0.5376344086021505 метрика accuracy_score = 0.828\n",
      "Дерево решений max_depth = 12 min_samples_split = 3 min_samples_leaf = 2 метрика f1_score = 0.5417789757412399 метрика accuracy_score = 0.83\n",
      "Дерево решений max_depth = 12 min_samples_split = 3 min_samples_leaf = 3 метрика f1_score = 0.5395590142671854 метрика accuracy_score = 0.8225\n",
      "Дерево решений max_depth = 12 min_samples_split = 3 min_samples_leaf = 4 метрика f1_score = 0.5393858477970629 метрика accuracy_score = 0.8275\n",
      "Дерево решений max_depth = 12 min_samples_split = 4 min_samples_leaf = 1 метрика f1_score = 0.5350993377483444 метрика accuracy_score = 0.8245\n",
      "Дерево решений max_depth = 12 min_samples_split = 4 min_samples_leaf = 2 метрика f1_score = 0.5417789757412399 метрика accuracy_score = 0.83\n",
      "Дерево решений max_depth = 12 min_samples_split = 4 min_samples_leaf = 3 метрика f1_score = 0.5395590142671854 метрика accuracy_score = 0.8225\n",
      "Дерево решений max_depth = 12 min_samples_split = 4 min_samples_leaf = 4 метрика f1_score = 0.5393858477970629 метрика accuracy_score = 0.8275\n",
      "Дерево решений max_depth = 12 min_samples_split = 5 min_samples_leaf = 1 метрика f1_score = 0.5391766268260292 метрика accuracy_score = 0.8265\n",
      "Дерево решений max_depth = 12 min_samples_split = 5 min_samples_leaf = 2 метрика f1_score = 0.5432432432432432 метрика accuracy_score = 0.831\n",
      "Дерево решений max_depth = 12 min_samples_split = 5 min_samples_leaf = 3 метрика f1_score = 0.5395590142671854 метрика accuracy_score = 0.8225\n",
      "Дерево решений max_depth = 12 min_samples_split = 5 min_samples_leaf = 4 метрика f1_score = 0.5393858477970629 метрика accuracy_score = 0.8275\n",
      "CPU times: user 1.65 s, sys: 29.6 ms, total: 1.68 s\n",
      "Wall time: 1.74 s\n"
     ]
    }
   ],
   "source": [
    "%%time\n",
    "# %%time посмотрим время  обучения\n",
    "# создадим модель \"Дерево решений\"\n",
    "tree_f1_score_list = [] # список для сбора данных по точности модели\n",
    "tree_depth_list = [] #список настроек гиперпараметра max_depth\n",
    "tree_split_list = [] #список настроек гиперпараметра min_samples_split\n",
    "tree_leaf_list = [] #список настроек гиперпараметра min_samples_leaf\n",
    "tree_accuracy = [] #список качества модели result\n",
    "f1_score_Tree = {}\n",
    "accuracy_Tree = {}\n",
    "# В цикле обучим модель Дерово решений при различных значениях гиперпараметров max_depth, min_samples_split, min_samples_leaf\n",
    "# для каждого сочетания определим значение метрики F1 и accuracy_score\n",
    "for depth in range(2, 14, 2):\n",
    "    for split in range(2, 6):\n",
    "        for leaf in range(1, 5):\n",
    "            model = DecisionTreeClassifier(random_state=12345, \n",
    "                                                max_depth=depth, \n",
    "                                                min_samples_split=split, \n",
    "                                                min_samples_leaf=leaf)# создадим модель с заданными гиперпараметрами\n",
    "            model.fit(features_train, target_train)# обучаем модель на обучающей выборке\n",
    "            predictions = model.predict(features_valid)# получите предсказания модели на валидационной выборке\n",
    "            result = accuracy_score(target_valid, predictions) # посчитаем качество модели\n",
    "            tree_f1_score = f1_score(target_valid, predictions)# определим точность модели F1\n",
    "            tree_f1_score_list.append(tree_f1_score)\n",
    "            tree_depth_list.append(depth)\n",
    "            tree_split_list.append(split)\n",
    "            tree_leaf_list.append(leaf)\n",
    "            tree_accuracy.append(result)\n",
    "            f1_score_Tree[depth]= tree_f1_score\n",
    "            accuracy_Tree[depth]= result\n",
    "            print('Дерево решений max_depth =', depth, \n",
    "                  'min_samples_split =',split,\n",
    "                  'min_samples_leaf =',leaf,\n",
    "                  'метрика f1_score =', tree_f1_score,\n",
    "                 'метрика accuracy_score =', result)\n",
    "\n",
    "index = tree_f1_score_list.index(max(tree_f1_score_list))\n",
    "# оптимальные настройки гиперпараметров\n",
    "tree_optimal_depth = tree_depth_list[index]\n",
    "tree_optimal_split = tree_split_list[index]\n",
    "tree_optimal_leaf = tree_leaf_list[index]\n",
    "tree_accuracy = tree_accuracy[index]\n",
    "max_f1_tree = max(tree_f1_score_list)\n",
    "\n"
   ]
  },
  {
   "cell_type": "markdown",
   "metadata": {},
   "source": [
    "<div class=\"alert alert-success\">\n",
    "    \n",
    "**Комментарий ревьюера**\n",
    "    \n",
    "Стоило оставить в выводе только ячейку ниже)\n",
    "</div>"
   ]
  },
  {
   "cell_type": "code",
   "execution_count": 44,
   "metadata": {},
   "outputs": [
    {
     "name": "stdout",
     "output_type": "stream",
     "text": [
      "\n",
      "Максимальная F1-мера модели Дерево решений равна: 0.5787878787878787\n",
      "Максимальное качество  модели (accuracy_score) Дерево решений равно: 0.861\n",
      "Оптимальное значение max_depth равно: 6\n",
      "Оптимальное значение min_samples_split равно: 5\n",
      "Оптимальное значение min_samples_leaf равно: 1\n"
     ]
    }
   ],
   "source": [
    "print()\n",
    "print('Максимальная F1-мера модели Дерево решений равна:', max_f1_tree)\n",
    "print('Максимальное качество  модели (accuracy_score) Дерево решений равно:', tree_accuracy)\n",
    "print('Оптимальное значение max_depth равно:', tree_optimal_depth)\n",
    "print('Оптимальное значение min_samples_split равно:', tree_optimal_split)\n",
    "print('Оптимальное значение min_samples_leaf равно:', tree_optimal_leaf)"
   ]
  },
  {
   "cell_type": "code",
   "execution_count": 45,
   "metadata": {},
   "outputs": [
    {
     "data": {
      "text/html": [
       "<div>\n",
       "<style scoped>\n",
       "    .dataframe tbody tr th:only-of-type {\n",
       "        vertical-align: middle;\n",
       "    }\n",
       "\n",
       "    .dataframe tbody tr th {\n",
       "        vertical-align: top;\n",
       "    }\n",
       "\n",
       "    .dataframe thead th {\n",
       "        text-align: right;\n",
       "    }\n",
       "</style>\n",
       "<table border=\"1\" class=\"dataframe\">\n",
       "  <thead>\n",
       "    <tr style=\"text-align: right;\">\n",
       "      <th></th>\n",
       "      <th>0</th>\n",
       "    </tr>\n",
       "  </thead>\n",
       "  <tbody>\n",
       "    <tr>\n",
       "      <td>6</td>\n",
       "      <td>0.577508</td>\n",
       "    </tr>\n",
       "    <tr>\n",
       "      <td>8</td>\n",
       "      <td>0.562784</td>\n",
       "    </tr>\n",
       "    <tr>\n",
       "      <td>10</td>\n",
       "      <td>0.548476</td>\n",
       "    </tr>\n",
       "    <tr>\n",
       "      <td>12</td>\n",
       "      <td>0.539386</td>\n",
       "    </tr>\n",
       "    <tr>\n",
       "      <td>2</td>\n",
       "      <td>0.520349</td>\n",
       "    </tr>\n",
       "    <tr>\n",
       "      <td>4</td>\n",
       "      <td>0.519810</td>\n",
       "    </tr>\n",
       "  </tbody>\n",
       "</table>\n",
       "</div>"
      ],
      "text/plain": [
       "           0\n",
       "6   0.577508\n",
       "8   0.562784\n",
       "10  0.548476\n",
       "12  0.539386\n",
       "2   0.520349\n",
       "4   0.519810"
      ]
     },
     "metadata": {},
     "output_type": "display_data"
    },
    {
     "data": {
      "image/png": "[encoded data removed]",
      "text/plain": [
       "<Figure size 648x360 with 1 Axes>"
      ]
     },
     "metadata": {},
     "output_type": "display_data"
    }
   ],
   "source": [
    "sn.set(rc={'figure.figsize':(9,5)})\n",
    "\n",
    "plt.title('F1-мера модели Дерево решений') # подпись заголовока \n",
    "def show_f_1(f_1):# функцией show_f_1 выведем результаты f1_score \n",
    "    global show__result\n",
    "    show__result = pd.DataFrame.from_dict(f_1,orient='index')\n",
    "    display(show__result.sort_values(by=show__result.columns[0],ascending=False ).head(10))    \n",
    "\n",
    "show_f_1(f1_score_Tree)\n",
    "ax1= plt.plot(show__result)"
   ]
  },
  {
   "cell_type": "markdown",
   "metadata": {},
   "source": [
    "Построим для модели __Дерево решений__ ROC-кривую(кривую ошибок) и рассчитаем метрику AUC-ROC."
   ]
  },
  {
   "cell_type": "code",
   "execution_count": 46,
   "metadata": {},
   "outputs": [
    {
     "data": {
      "image/png": "[encoded data removed]",
      "text/plain": [
       "<Figure size 648x360 with 1 Axes>"
      ]
     },
     "metadata": {},
     "output_type": "display_data"
    },
    {
     "name": "stdout",
     "output_type": "stream",
     "text": [
      "AUC-ROC для модели дерево решений: 0.8410342151936152\n"
     ]
    }
   ],
   "source": [
    "#На выявленых ранее оптимальных параметрах tree_optimal_depth, tree_optimal_split, tree_optimal_leaf  обучим  модель дерево решений \n",
    "tree_model = DecisionTreeClassifier(random_state=12345, \n",
    "                                                max_depth=tree_optimal_depth, \n",
    "                                                min_samples_split=tree_optimal_split, \n",
    "                                                min_samples_leaf=tree_optimal_leaf)# создадим модель с оптимальными гиперпараметрами\n",
    "tree_model.fit(features_train, target_train)# учим модель на обучающей выборке\n",
    "tree_predictions = tree_model.predict(features_valid)# получаем предсказания модели на валидационной выборке\n",
    "#Находим вероятности предсказания значений\n",
    "probabilities_valid = tree_model.predict_proba(features_valid)\n",
    "probabilities_one_valid = probabilities_valid[:, 1]\n",
    "\n",
    "fpr, tpr, thresholds = roc_curve(target_valid, probabilities_one_valid)\n",
    "#Строим  ROC-кривую (кривую ошибок) для модели дерево решений\n",
    "plt.figure()\n",
    "plt.plot(fpr,tpr)\n",
    "plt.plot([0, 1], [0, 1], linestyle='--') #Указываем границу\n",
    "plt.xlim([0.0, 1.0]) #  границы осей от 0 до 1\n",
    "plt.ylim([0.0, 1.0])\n",
    "plt.xlabel('Доля ложноположительных ответов (FPR)') # Подписываем оси x  \n",
    "plt.ylabel('Доля истинно положительных ответов (TPR)') # Подписываем оси y\n",
    "plt.title('ROC-кривая, кривая ошибок') # подпись заголовока \n",
    "\n",
    "plt.show()\n",
    "#AUC-ROC (от англ. Area Under Curve ROC, «площадь под ROC-кривой»)\n",
    "tree_auc_roc = roc_auc_score(target_valid, probabilities_one_valid) #Рассчитаем значение метрики auc_roc\n",
    "print('AUC-ROC для модели дерево решений:', tree_auc_roc)"
   ]
  },
  {
   "cell_type": "markdown",
   "metadata": {},
   "source": [
    "<a id='step3'></a>"
   ]
  },
  {
   "cell_type": "markdown",
   "metadata": {},
   "source": [
    "__Cлучайный лес - RandomForestClassifier__  <br>\n",
    "[&#10224;](#step5)"
   ]
  },
  {
   "cell_type": "markdown",
   "metadata": {},
   "source": [
    "Аналогично модели дерево решений,  обучим модель Случайный лес."
   ]
  },
  {
   "cell_type": "code",
   "execution_count": 47,
   "metadata": {
    "scrolled": true
   },
   "outputs": [
    {
     "name": "stdout",
     "output_type": "stream",
     "text": [
      "Случайный лес max_depth = 2 n_estimatorst = 40 метрика f1_score = 0.19068736141906872 метрика accuracy_score = 0.8175\n",
      "Случайный лес max_depth = 2 n_estimatorst = 42 метрика f1_score = 0.19426048565121412 метрика accuracy_score = 0.8175\n",
      "Случайный лес max_depth = 2 n_estimatorst = 44 метрика f1_score = 0.1986754966887417 метрика accuracy_score = 0.8185\n",
      "Случайный лес max_depth = 2 n_estimatorst = 46 метрика f1_score = 0.22510822510822512 метрика accuracy_score = 0.821\n",
      "Случайный лес max_depth = 2 n_estimatorst = 48 метрика f1_score = 0.19823788546255508 метрика accuracy_score = 0.818\n",
      "Случайный лес max_depth = 2 n_estimatorst = 50 метрика f1_score = 0.2178649237472767 метрика accuracy_score = 0.8205\n",
      "Случайный лес max_depth = 2 n_estimatorst = 52 метрика f1_score = 0.19469026548672566 метрика accuracy_score = 0.818\n",
      "Случайный лес max_depth = 2 n_estimatorst = 54 метрика f1_score = 0.17449664429530198 метрика accuracy_score = 0.8155\n",
      "Случайный лес max_depth = 2 n_estimatorst = 56 метрика f1_score = 0.1580135440180587 метрика accuracy_score = 0.8135\n",
      "Случайный лес max_depth = 2 n_estimatorst = 58 метрика f1_score = 0.1580135440180587 метрика accuracy_score = 0.8135\n",
      "Случайный лес max_depth = 2 n_estimatorst = 60 метрика f1_score = 0.17817371937639195 метрика accuracy_score = 0.8155\n",
      "Случайный лес max_depth = 2 n_estimatorst = 62 метрика f1_score = 0.17817371937639195 метрика accuracy_score = 0.8155\n",
      "Случайный лес max_depth = 2 n_estimatorst = 64 метрика f1_score = 0.17040358744394618 метрика accuracy_score = 0.815\n",
      "Случайный лес max_depth = 2 n_estimatorst = 66 метрика f1_score = 0.1580135440180587 метрика accuracy_score = 0.8135\n",
      "Случайный лес max_depth = 2 n_estimatorst = 68 метрика f1_score = 0.14965986394557826 метрика accuracy_score = 0.8125\n",
      "Случайный лес max_depth = 2 n_estimatorst = 70 метрика f1_score = 0.14965986394557826 метрика accuracy_score = 0.8125\n",
      "Случайный лес max_depth = 2 n_estimatorst = 72 метрика f1_score = 0.14965986394557826 метрика accuracy_score = 0.8125\n",
      "Случайный лес max_depth = 2 n_estimatorst = 74 метрика f1_score = 0.14965986394557826 метрика accuracy_score = 0.8125\n",
      "Случайный лес max_depth = 2 n_estimatorst = 76 метрика f1_score = 0.17040358744394618 метрика accuracy_score = 0.815\n",
      "Случайный лес max_depth = 2 n_estimatorst = 78 метрика f1_score = 0.17040358744394618 метрика accuracy_score = 0.815\n",
      "Случайный лес max_depth = 2 n_estimatorst = 80 метрика f1_score = 0.14965986394557826 метрика accuracy_score = 0.8125\n",
      "Случайный лес max_depth = 2 n_estimatorst = 82 метрика f1_score = 0.14965986394557826 метрика accuracy_score = 0.8125\n",
      "Случайный лес max_depth = 2 n_estimatorst = 84 метрика f1_score = 0.14965986394557826 метрика accuracy_score = 0.8125\n",
      "Случайный лес max_depth = 2 n_estimatorst = 86 метрика f1_score = 0.14965986394557826 метрика accuracy_score = 0.8125\n",
      "Случайный лес max_depth = 2 n_estimatorst = 88 метрика f1_score = 0.14965986394557826 метрика accuracy_score = 0.8125\n",
      "Случайный лес max_depth = 2 n_estimatorst = 90 метрика f1_score = 0.14965986394557826 метрика accuracy_score = 0.8125\n",
      "Случайный лес max_depth = 2 n_estimatorst = 92 метрика f1_score = 0.14965986394557826 метрика accuracy_score = 0.8125\n",
      "Случайный лес max_depth = 2 n_estimatorst = 94 метрика f1_score = 0.14965986394557826 метрика accuracy_score = 0.8125\n",
      "Случайный лес max_depth = 2 n_estimatorst = 96 метрика f1_score = 0.14965986394557826 метрика accuracy_score = 0.8125\n",
      "Случайный лес max_depth = 2 n_estimatorst = 98 метрика f1_score = 0.14965986394557826 метрика accuracy_score = 0.8125\n",
      "Случайный лес max_depth = 4 n_estimatorst = 40 метрика f1_score = 0.46702317290552586 метрика accuracy_score = 0.8505\n",
      "Случайный лес max_depth = 4 n_estimatorst = 42 метрика f1_score = 0.4832451499118166 метрика accuracy_score = 0.8535\n",
      "Случайный лес max_depth = 4 n_estimatorst = 44 метрика f1_score = 0.4724689165186501 метрика accuracy_score = 0.8515\n",
      "Случайный лес max_depth = 4 n_estimatorst = 46 метрика f1_score = 0.4778761061946903 метрика accuracy_score = 0.8525\n",
      "Случайный лес max_depth = 4 n_estimatorst = 48 метрика f1_score = 0.47803163444639724 метрика accuracy_score = 0.8515\n",
      "Случайный лес max_depth = 4 n_estimatorst = 50 метрика f1_score = 0.4807017543859649 метрика accuracy_score = 0.852\n",
      "Случайный лес max_depth = 4 n_estimatorst = 52 метрика f1_score = 0.48432055749128927 метрика accuracy_score = 0.852\n",
      "Случайный лес max_depth = 4 n_estimatorst = 54 метрика f1_score = 0.4761904761904762 метрика accuracy_score = 0.8515\n",
      "Случайный лес max_depth = 4 n_estimatorst = 56 метрика f1_score = 0.4798598949211909 метрика accuracy_score = 0.8515\n",
      "Случайный лес max_depth = 4 n_estimatorst = 58 метрика f1_score = 0.4691358024691359 метрика accuracy_score = 0.8495\n",
      "Случайный лес max_depth = 4 n_estimatorst = 60 метрика f1_score = 0.47719298245614034 метрика accuracy_score = 0.851\n",
      "Случайный лес max_depth = 4 n_estimatorst = 62 метрика f1_score = 0.47535211267605637 метрика accuracy_score = 0.851\n",
      "Случайный лес max_depth = 4 n_estimatorst = 64 метрика f1_score = 0.47803163444639724 метрика accuracy_score = 0.8515\n",
      "Случайный лес max_depth = 4 n_estimatorst = 66 метрика f1_score = 0.4807017543859649 метрика accuracy_score = 0.852\n",
      "Случайный лес max_depth = 4 n_estimatorst = 68 метрика f1_score = 0.4956672443674177 метрика accuracy_score = 0.8545\n",
      "Случайный лес max_depth = 4 n_estimatorst = 70 метрика f1_score = 0.5008635578583766 метрика accuracy_score = 0.8555\n",
      "Случайный лес max_depth = 4 n_estimatorst = 72 метрика f1_score = 0.5085910652920963 метрика accuracy_score = 0.857\n",
      "Случайный лес max_depth = 4 n_estimatorst = 74 метрика f1_score = 0.5051546391752577 метрика accuracy_score = 0.856\n",
      "Случайный лес max_depth = 4 n_estimatorst = 76 метрика f1_score = 0.503448275862069 метрика accuracy_score = 0.856\n",
      "Случайный лес max_depth = 4 n_estimatorst = 78 метрика f1_score = 0.49391304347826087 метрика accuracy_score = 0.8545\n",
      "Случайный лес max_depth = 4 n_estimatorst = 80 метрика f1_score = 0.4815465729349736 метрика accuracy_score = 0.8525\n",
      "Случайный лес max_depth = 4 n_estimatorst = 82 метрика f1_score = 0.4886561954624782 метрика accuracy_score = 0.8535\n",
      "Случайный лес max_depth = 4 n_estimatorst = 84 метрика f1_score = 0.4886561954624782 метрика accuracy_score = 0.8535\n",
      "Случайный лес max_depth = 4 n_estimatorst = 86 метрика f1_score = 0.49391304347826087 метрика accuracy_score = 0.8545\n",
      "Случайный лес max_depth = 4 n_estimatorst = 88 метрика f1_score = 0.48239436619718307 метрика accuracy_score = 0.853\n",
      "Случайный лес max_depth = 4 n_estimatorst = 90 метрика f1_score = 0.4760213143872114 метрика accuracy_score = 0.8525\n",
      "Случайный лес max_depth = 4 n_estimatorst = 92 метрика f1_score = 0.460431654676259 метрика accuracy_score = 0.85\n",
      "Случайный лес max_depth = 4 n_estimatorst = 94 метрика f1_score = 0.45960502692998206 метрика accuracy_score = 0.8495\n",
      "Случайный лес max_depth = 4 n_estimatorst = 96 метрика f1_score = 0.46236559139784944 метрика accuracy_score = 0.85\n",
      "Случайный лес max_depth = 4 n_estimatorst = 98 метрика f1_score = 0.4733096085409253 метрика accuracy_score = 0.852\n",
      "Случайный лес max_depth = 6 n_estimatorst = 40 метрика f1_score = 0.5350734094616639 метрика accuracy_score = 0.8575\n",
      "Случайный лес max_depth = 6 n_estimatorst = 42 метрика f1_score = 0.5365853658536586 метрика accuracy_score = 0.8575\n",
      "Случайный лес max_depth = 6 n_estimatorst = 44 метрика f1_score = 0.5422077922077922 метрика accuracy_score = 0.859\n",
      "Случайный лес max_depth = 6 n_estimatorst = 46 метрика f1_score = 0.5413290113452188 метрика accuracy_score = 0.8585\n",
      "Случайный лес max_depth = 6 n_estimatorst = 48 метрика f1_score = 0.54281098546042 метрика accuracy_score = 0.8585\n",
      "Случайный лес max_depth = 6 n_estimatorst = 50 метрика f1_score = 0.5380875202593193 метрика accuracy_score = 0.8575\n",
      "Случайный лес max_depth = 6 n_estimatorst = 52 метрика f1_score = 0.5380875202593193 метрика accuracy_score = 0.8575\n",
      "Случайный лес max_depth = 6 n_estimatorst = 54 метрика f1_score = 0.5407166123778502 метрика accuracy_score = 0.859\n",
      "Случайный лес max_depth = 6 n_estimatorst = 56 метрика f1_score = 0.5422077922077922 метрика accuracy_score = 0.859\n",
      "Случайный лес max_depth = 6 n_estimatorst = 58 метрика f1_score = 0.5350734094616639 метрика accuracy_score = 0.8575\n",
      "Случайный лес max_depth = 6 n_estimatorst = 60 метрика f1_score = 0.5350734094616639 метрика accuracy_score = 0.8575\n",
      "Случайный лес max_depth = 6 n_estimatorst = 62 метрика f1_score = 0.5359477124183005 метрика accuracy_score = 0.858\n",
      "Случайный лес max_depth = 6 n_estimatorst = 64 метрика f1_score = 0.5383360522022838 метрика accuracy_score = 0.8585\n",
      "Случайный лес max_depth = 6 n_estimatorst = 66 метрика f1_score = 0.5326797385620915 метрика accuracy_score = 0.857\n",
      "Случайный лес max_depth = 6 n_estimatorst = 68 метрика f1_score = 0.5368248772504092 метрика accuracy_score = 0.8585\n",
      "Случайный лес max_depth = 6 n_estimatorst = 70 метрика f1_score = 0.5350734094616639 метрика accuracy_score = 0.8575\n",
      "Случайный лес max_depth = 6 n_estimatorst = 72 метрика f1_score = 0.5311475409836066 метрика accuracy_score = 0.857\n",
      "Случайный лес max_depth = 6 n_estimatorst = 74 метрика f1_score = 0.5350734094616639 метрика accuracy_score = 0.8575\n",
      "Случайный лес max_depth = 6 n_estimatorst = 76 метрика f1_score = 0.5296052631578947 метрика accuracy_score = 0.857\n",
      "Случайный лес max_depth = 6 n_estimatorst = 78 метрика f1_score = 0.5320197044334976 метрика accuracy_score = 0.8575\n",
      "Случайный лес max_depth = 6 n_estimatorst = 80 метрика f1_score = 0.528052805280528 метрика accuracy_score = 0.857\n",
      "Случайный лес max_depth = 6 n_estimatorst = 82 метрика f1_score = 0.5328947368421052 метрика accuracy_score = 0.858\n",
      "Случайный лес max_depth = 6 n_estimatorst = 84 метрика f1_score = 0.5353037766830869 метрика accuracy_score = 0.8585\n",
      "Случайный лес max_depth = 6 n_estimatorst = 86 метрика f1_score = 0.5377049180327869 метрика accuracy_score = 0.859\n",
      "Случайный лес max_depth = 6 n_estimatorst = 88 метрика f1_score = 0.5361842105263159 метрика accuracy_score = 0.859\n",
      "Случайный лес max_depth = 6 n_estimatorst = 90 метрика f1_score = 0.5361842105263159 метрика accuracy_score = 0.859\n",
      "Случайный лес max_depth = 6 n_estimatorst = 92 метрика f1_score = 0.5377049180327869 метрика accuracy_score = 0.859\n",
      "Случайный лес max_depth = 6 n_estimatorst = 94 метрика f1_score = 0.5353037766830869 метрика accuracy_score = 0.8585\n",
      "Случайный лес max_depth = 6 n_estimatorst = 96 метрика f1_score = 0.5328947368421052 метрика accuracy_score = 0.858\n",
      "Случайный лес max_depth = 6 n_estimatorst = 98 метрика f1_score = 0.5344262295081967 метрика accuracy_score = 0.858\n",
      "Случайный лес max_depth = 8 n_estimatorst = 40 метрика f1_score = 0.5816485225505443 метрика accuracy_score = 0.8655\n",
      "Случайный лес max_depth = 8 n_estimatorst = 42 метрика f1_score = 0.578538102643857 метрика accuracy_score = 0.8645\n",
      "Случайный лес max_depth = 8 n_estimatorst = 44 метрика f1_score = 0.5763239875389408 метрика accuracy_score = 0.864\n",
      "Случайный лес max_depth = 8 n_estimatorst = 46 метрика f1_score = 0.5709828393135725 метрика accuracy_score = 0.8625\n",
      "Случайный лес max_depth = 8 n_estimatorst = 48 метрика f1_score = 0.571875 метрика accuracy_score = 0.863\n",
      "Случайный лес max_depth = 8 n_estimatorst = 50 метрика f1_score = 0.56875 метрика accuracy_score = 0.862\n",
      "Случайный лес max_depth = 8 n_estimatorst = 52 метрика f1_score = 0.5678627145085804 метрика accuracy_score = 0.8615\n",
      "Случайный лес max_depth = 8 n_estimatorst = 54 метрика f1_score = 0.56875 метрика accuracy_score = 0.862\n",
      "Случайный лес max_depth = 8 n_estimatorst = 56 метрика f1_score = 0.5741029641185648 метрика accuracy_score = 0.8635\n",
      "Случайный лес max_depth = 8 n_estimatorst = 58 метрика f1_score = 0.573208722741433 метрика accuracy_score = 0.863\n",
      "Случайный лес max_depth = 8 n_estimatorst = 60 метрика f1_score = 0.56875 метрика accuracy_score = 0.862\n",
      "Случайный лес max_depth = 8 n_estimatorst = 62 метрика f1_score = 0.5696400625978092 метрика accuracy_score = 0.8625\n",
      "Случайный лес max_depth = 8 n_estimatorst = 64 метрика f1_score = 0.571875 метрика accuracy_score = 0.863\n",
      "Случайный лес max_depth = 8 n_estimatorst = 66 метрика f1_score = 0.5656249999999999 метрика accuracy_score = 0.861\n",
      "Случайный лес max_depth = 8 n_estimatorst = 68 метрика f1_score = 0.5637795275590551 метрика accuracy_score = 0.8615\n",
      "Случайный лес max_depth = 8 n_estimatorst = 70 метрика f1_score = 0.5673981191222571 метрика accuracy_score = 0.862\n",
      "Случайный лес max_depth = 8 n_estimatorst = 72 метрика f1_score = 0.5682888540031397 метрика accuracy_score = 0.8625\n",
      "Случайный лес max_depth = 8 n_estimatorst = 74 метрика f1_score = 0.5592417061611374 метрика accuracy_score = 0.8605\n",
      "Случайный лес max_depth = 8 n_estimatorst = 76 метрика f1_score = 0.5646687697160884 метрика accuracy_score = 0.862\n",
      "Случайный лес max_depth = 8 n_estimatorst = 78 метрика f1_score = 0.5624012638230648 метрика accuracy_score = 0.8615\n",
      "Случайный лес max_depth = 8 n_estimatorst = 80 метрика f1_score = 0.560126582278481 метрика accuracy_score = 0.861\n",
      "Случайный лес max_depth = 8 n_estimatorst = 82 метрика f1_score = 0.5578446909667195 метрика accuracy_score = 0.8605\n",
      "Случайный лес max_depth = 8 n_estimatorst = 84 метрика f1_score = 0.5564387917329094 метрика accuracy_score = 0.8605\n",
      "Случайный лес max_depth = 8 n_estimatorst = 86 метрика f1_score = 0.5587301587301587 метрика accuracy_score = 0.861\n",
      "Случайный лес max_depth = 8 n_estimatorst = 88 метрика f1_score = 0.5587301587301587 метрика accuracy_score = 0.861\n",
      "Случайный лес max_depth = 8 n_estimatorst = 90 метрика f1_score = 0.5564387917329094 метрика accuracy_score = 0.8605\n",
      "Случайный лес max_depth = 8 n_estimatorst = 92 метрика f1_score = 0.5578446909667195 метрика accuracy_score = 0.8605\n",
      "Случайный лес max_depth = 8 n_estimatorst = 94 метрика f1_score = 0.5564387917329094 метрика accuracy_score = 0.8605\n",
      "Случайный лес max_depth = 8 n_estimatorst = 96 метрика f1_score = 0.5587301587301587 метрика accuracy_score = 0.861\n",
      "Случайный лес max_depth = 8 n_estimatorst = 98 метрика f1_score = 0.5624012638230648 метрика accuracy_score = 0.8615\n",
      "Случайный лес max_depth = 10 n_estimatorst = 40 метрика f1_score = 0.598159509202454 метрика accuracy_score = 0.869\n",
      "Случайный лес max_depth = 10 n_estimatorst = 42 метрика f1_score = 0.598159509202454 метрика accuracy_score = 0.869\n",
      "Случайный лес max_depth = 10 n_estimatorst = 44 метрика f1_score = 0.5950920245398773 метрика accuracy_score = 0.868\n",
      "Случайный лес max_depth = 10 n_estimatorst = 46 метрика f1_score = 0.5950920245398773 метрика accuracy_score = 0.868\n",
      "Случайный лес max_depth = 10 n_estimatorst = 48 метрика f1_score = 0.5950920245398773 метрика accuracy_score = 0.868\n",
      "Случайный лес max_depth = 10 n_estimatorst = 50 метрика f1_score = 0.588597842835131 метрика accuracy_score = 0.8665\n",
      "Случайный лес max_depth = 10 n_estimatorst = 52 метрика f1_score = 0.5972434915773354 метрика accuracy_score = 0.8685\n",
      "Случайный лес max_depth = 10 n_estimatorst = 54 метрика f1_score = 0.5963302752293578 метрика accuracy_score = 0.868\n",
      "Случайный лес max_depth = 10 n_estimatorst = 56 метрика f1_score = 0.5876923076923077 метрика accuracy_score = 0.866\n",
      "Случайный лес max_depth = 10 n_estimatorst = 58 метрика f1_score = 0.5880551301684532 метрика accuracy_score = 0.8655\n",
      "Случайный лес max_depth = 10 n_estimatorst = 60 метрика f1_score = 0.5828220858895705 метрика accuracy_score = 0.864\n",
      "Случайный лес max_depth = 10 n_estimatorst = 62 метрика f1_score = 0.5914634146341463 метрика accuracy_score = 0.866\n",
      "Случайный лес max_depth = 10 n_estimatorst = 64 метрика f1_score = 0.5911179173047474 метрика accuracy_score = 0.8665\n",
      "Случайный лес max_depth = 10 n_estimatorst = 66 метрика f1_score = 0.5833333333333334 метрика accuracy_score = 0.865\n",
      "Случайный лес max_depth = 10 n_estimatorst = 68 метрика f1_score = 0.5907692307692307 метрика accuracy_score = 0.867\n",
      "Случайный лес max_depth = 10 n_estimatorst = 70 метрика f1_score = 0.5880551301684532 метрика accuracy_score = 0.8655\n",
      "Случайный лес max_depth = 10 n_estimatorst = 72 метрика f1_score = 0.5849923430321592 метрика accuracy_score = 0.8645\n",
      "Случайный лес max_depth = 10 n_estimatorst = 74 метрика f1_score = 0.5941807044410413 метрика accuracy_score = 0.8675\n",
      "Случайный лес max_depth = 10 n_estimatorst = 76 метрика f1_score = 0.5938461538461538 метрика accuracy_score = 0.868\n",
      "Случайный лес max_depth = 10 n_estimatorst = 78 метрика f1_score = 0.5916795069337442 метрика accuracy_score = 0.8675\n",
      "Случайный лес max_depth = 10 n_estimatorst = 80 метрика f1_score = 0.5898617511520737 метрика accuracy_score = 0.8665\n",
      "Случайный лес max_depth = 10 n_estimatorst = 82 метрика f1_score = 0.5855161787365177 метрика accuracy_score = 0.8655\n",
      "Случайный лес max_depth = 10 n_estimatorst = 84 метрика f1_score = 0.588597842835131 метрика accuracy_score = 0.8665\n",
      "Случайный лес max_depth = 10 n_estimatorst = 86 метрика f1_score = 0.5855161787365177 метрика accuracy_score = 0.8655\n",
      "Случайный лес max_depth = 10 n_estimatorst = 88 метрика f1_score = 0.5851393188854489 метрика accuracy_score = 0.866\n",
      "Случайный лес max_depth = 10 n_estimatorst = 90 метрика f1_score = 0.5876923076923077 метрика accuracy_score = 0.866\n",
      "Случайный лес max_depth = 10 n_estimatorst = 92 метрика f1_score = 0.5864197530864197 метрика accuracy_score = 0.866\n",
      "Случайный лес max_depth = 10 n_estimatorst = 94 метрика f1_score = 0.5855161787365177 метрика accuracy_score = 0.8655\n",
      "Случайный лес max_depth = 10 n_estimatorst = 96 метрика f1_score = 0.5851393188854489 метрика accuracy_score = 0.866\n",
      "Случайный лес max_depth = 10 n_estimatorst = 98 метрика f1_score = 0.5916795069337442 метрика accuracy_score = 0.8675\n",
      "Случайный лес max_depth = 12 n_estimatorst = 40 метрика f1_score = 0.5896656534954408 метрика accuracy_score = 0.865\n",
      "Случайный лес max_depth = 12 n_estimatorst = 42 метрика f1_score = 0.5923664122137404 метрика accuracy_score = 0.8665\n",
      "Случайный лес max_depth = 12 n_estimatorst = 44 метрика f1_score = 0.5966514459665144 метрика accuracy_score = 0.8675\n",
      "Случайный лес max_depth = 12 n_estimatorst = 46 метрика f1_score = 0.5914634146341463 метрика accuracy_score = 0.866\n",
      "Случайный лес max_depth = 12 n_estimatorst = 48 метрика f1_score = 0.5914634146341463 метрика accuracy_score = 0.866\n",
      "Случайный лес max_depth = 12 n_estimatorst = 50 метрика f1_score = 0.5884146341463414 метрика accuracy_score = 0.865\n",
      "Случайный лес max_depth = 12 n_estimatorst = 52 метрика f1_score = 0.5905631659056316 метрика accuracy_score = 0.8655\n",
      "Случайный лес max_depth = 12 n_estimatorst = 54 метрика f1_score = 0.5932721712538226 метрика accuracy_score = 0.867\n",
      "Случайный лес max_depth = 12 n_estimatorst = 56 метрика f1_score = 0.5966514459665144 метрика accuracy_score = 0.8675\n",
      "Случайный лес max_depth = 12 n_estimatorst = 58 метрика f1_score = 0.5932721712538226 метрика accuracy_score = 0.867\n",
      "Случайный лес max_depth = 12 n_estimatorst = 60 метрика f1_score = 0.5902140672782874 метрика accuracy_score = 0.866\n",
      "Случайный лес max_depth = 12 n_estimatorst = 62 метрика f1_score = 0.5941807044410413 метрика accuracy_score = 0.8675\n",
      "Случайный лес max_depth = 12 n_estimatorst = 64 метрика f1_score = 0.5932721712538226 метрика accuracy_score = 0.867\n",
      "Случайный лес max_depth = 12 n_estimatorst = 66 метрика f1_score = 0.5920245398773006 метрика accuracy_score = 0.867\n",
      "Случайный лес max_depth = 12 n_estimatorst = 68 метрика f1_score = 0.5920245398773006 метрика accuracy_score = 0.867\n",
      "Случайный лес max_depth = 12 n_estimatorst = 70 метрика f1_score = 0.5876923076923077 метрика accuracy_score = 0.866\n",
      "Случайный лес max_depth = 12 n_estimatorst = 72 метрика f1_score = 0.5911179173047474 метрика accuracy_score = 0.8665\n",
      "Случайный лес max_depth = 12 n_estimatorst = 74 метрика f1_score = 0.5911179173047474 метрика accuracy_score = 0.8665\n",
      "Случайный лес max_depth = 12 n_estimatorst = 76 метрика f1_score = 0.5920245398773006 метрика accuracy_score = 0.867\n",
      "Случайный лес max_depth = 12 n_estimatorst = 78 метрика f1_score = 0.5929339477726575 метрика accuracy_score = 0.8675\n",
      "Случайный лес max_depth = 12 n_estimatorst = 80 метрика f1_score = 0.588597842835131 метрика accuracy_score = 0.8665\n",
      "Случайный лес max_depth = 12 n_estimatorst = 82 метрика f1_score = 0.5876923076923077 метрика accuracy_score = 0.866\n",
      "Случайный лес max_depth = 12 n_estimatorst = 84 метрика f1_score = 0.5907692307692307 метрика accuracy_score = 0.867\n",
      "Случайный лес max_depth = 12 n_estimatorst = 86 метрика f1_score = 0.5920245398773006 метрика accuracy_score = 0.867\n",
      "Случайный лес max_depth = 12 n_estimatorst = 88 метрика f1_score = 0.5907692307692307 метрика accuracy_score = 0.867\n",
      "Случайный лес max_depth = 12 n_estimatorst = 90 метрика f1_score = 0.5864197530864197 метрика accuracy_score = 0.866\n",
      "Случайный лес max_depth = 12 n_estimatorst = 92 метрика f1_score = 0.5842349304482225 метрика accuracy_score = 0.8655\n",
      "Случайный лес max_depth = 12 n_estimatorst = 94 метрика f1_score = 0.5842349304482225 метрика accuracy_score = 0.8655\n",
      "Случайный лес max_depth = 12 n_estimatorst = 96 метрика f1_score = 0.588597842835131 метрика accuracy_score = 0.8665\n",
      "Случайный лес max_depth = 12 n_estimatorst = 98 метрика f1_score = 0.5855161787365177 метрика accuracy_score = 0.8655\n",
      "CPU times: user 49.3 s, sys: 277 ms, total: 49.6 s\n",
      "Wall time: 51.2 s\n"
     ]
    }
   ],
   "source": [
    "%%time\n",
    "# %%time посмотрим время  обучения\n",
    "# создадим модель \"Случайный лес\"\n",
    "\n",
    "forest_f1_score_list = [] # список для сбора данных по точности модели F1 меры\n",
    "forest_depth_list = [] #список настроек гиперпараметра max_depth\n",
    "forest_estimators_list = [] #список настроек гиперпараметра n_estimators\n",
    "forest_accuracy = [] #список качества модели result\n",
    "f1_score_Forest = {}\n",
    "\n",
    "# В цикле обучим модель Случайный лес при различных значениях гиперпараметров max_depth, n_estimators\n",
    "# для каждого сочетания определим значение метрики F1 и accuracy_score\n",
    "for depth in range(2, 14, 2):\n",
    "    for estim in range(40, 100, 2):\n",
    "        forest_model = RandomForestClassifier(random_state=12345, \n",
    "                                                max_depth=depth, \n",
    "                                                n_estimators=estim)# создадим модель с заданными гиперпараметрами\n",
    "        forest_model.fit(features_train, target_train)# обучаем модель на обучающей выборке\n",
    "        forest_predictions = forest_model.predict(features_valid)# получите предсказания модели на валидационной выборке\n",
    "        forest_result = accuracy_score(target_valid, forest_predictions) # посчитаем качество модели\n",
    "        forest_f1_score = f1_score(target_valid, forest_predictions)# определим точность модели F1\n",
    "        forest_f1_score_list.append(forest_f1_score)\n",
    "        forest_depth_list.append(depth)\n",
    "        forest_estimators_list.append(estim)\n",
    "        forest_accuracy.append(forest_result)\n",
    "        f1_score_Forest[depth]= forest_f1_score\n",
    "        print('Случайный лес max_depth =', depth, \n",
    "                  'n_estimatorst =',estim,\n",
    "                  'метрика f1_score =', forest_f1_score,\n",
    "                 'метрика accuracy_score =', forest_result)\n",
    "\n",
    "index = forest_f1_score_list.index(max(forest_f1_score_list))\n",
    "# оптимальные настройки гиперпараметров\n",
    "forest_optimal_depth = forest_depth_list[index]\n",
    "forest_optimal_estimator = forest_estimators_list[index]\n",
    "forest_accuracy = forest_accuracy[index]\n",
    "max_f1_forest = max(forest_f1_score_list)"
   ]
  },
  {
   "cell_type": "code",
   "execution_count": 48,
   "metadata": {},
   "outputs": [
    {
     "name": "stdout",
     "output_type": "stream",
     "text": [
      "\n",
      "Максимальная F1-мера модели Случайный лес равна: 0.598159509202454\n",
      "Максимальное качество  модели (accuracy_score) Случайный лес  равно: 0.869\n",
      "Оптимальное значение max_depth равно: 10\n",
      "Оптимальное значение n_estimators равно: 40\n"
     ]
    }
   ],
   "source": [
    "\n",
    "print()\n",
    "print('Максимальная F1-мера модели Случайный лес равна:', max_f1_forest)\n",
    "print('Максимальное качество  модели (accuracy_score) Случайный лес  равно:', forest_accuracy)\n",
    "print('Оптимальное значение max_depth равно:', forest_optimal_depth)\n",
    "print('Оптимальное значение n_estimators равно:', forest_optimal_estimator)"
   ]
  },
  {
   "cell_type": "code",
   "execution_count": 49,
   "metadata": {},
   "outputs": [
    {
     "data": {
      "text/html": [
       "<div>\n",
       "<style scoped>\n",
       "    .dataframe tbody tr th:only-of-type {\n",
       "        vertical-align: middle;\n",
       "    }\n",
       "\n",
       "    .dataframe tbody tr th {\n",
       "        vertical-align: top;\n",
       "    }\n",
       "\n",
       "    .dataframe thead th {\n",
       "        text-align: right;\n",
       "    }\n",
       "</style>\n",
       "<table border=\"1\" class=\"dataframe\">\n",
       "  <thead>\n",
       "    <tr style=\"text-align: right;\">\n",
       "      <th></th>\n",
       "      <th>0</th>\n",
       "    </tr>\n",
       "  </thead>\n",
       "  <tbody>\n",
       "    <tr>\n",
       "      <td>10</td>\n",
       "      <td>0.591680</td>\n",
       "    </tr>\n",
       "    <tr>\n",
       "      <td>12</td>\n",
       "      <td>0.585516</td>\n",
       "    </tr>\n",
       "    <tr>\n",
       "      <td>8</td>\n",
       "      <td>0.562401</td>\n",
       "    </tr>\n",
       "    <tr>\n",
       "      <td>6</td>\n",
       "      <td>0.534426</td>\n",
       "    </tr>\n",
       "    <tr>\n",
       "      <td>4</td>\n",
       "      <td>0.473310</td>\n",
       "    </tr>\n",
       "    <tr>\n",
       "      <td>2</td>\n",
       "      <td>0.149660</td>\n",
       "    </tr>\n",
       "  </tbody>\n",
       "</table>\n",
       "</div>"
      ],
      "text/plain": [
       "           0\n",
       "10  0.591680\n",
       "12  0.585516\n",
       "8   0.562401\n",
       "6   0.534426\n",
       "4   0.473310\n",
       "2   0.149660"
      ]
     },
     "metadata": {},
     "output_type": "display_data"
    },
    {
     "data": {
      "image/png": "[encoded data removed]",
      "text/plain": [
       "<Figure size 648x360 with 1 Axes>"
      ]
     },
     "metadata": {},
     "output_type": "display_data"
    }
   ],
   "source": [
    "plt.title('F1-мера модели Случайный лес') # подпись заголовока\n",
    "show_f_1(f1_score_Forest)\n",
    "ax1= plt.plot(show__result)"
   ]
  },
  {
   "cell_type": "markdown",
   "metadata": {},
   "source": [
    "Построим для модели __Случайный лес__ ROC-кривую(кривую ошибок) и рассчитаем метрику AUC-ROC."
   ]
  },
  {
   "cell_type": "code",
   "execution_count": 50,
   "metadata": {},
   "outputs": [
    {
     "data": {
      "image/png": "[encoded data removed]",
      "text/plain": [
       "<Figure size 648x360 with 1 Axes>"
      ]
     },
     "metadata": {},
     "output_type": "display_data"
    },
    {
     "name": "stdout",
     "output_type": "stream",
     "text": [
      "AUC-ROC для модели Случайный лес: 0.8710556458764411\n"
     ]
    }
   ],
   "source": [
    "#На выявленых ранее оптимальных параметрах tree_optimal_depth, tree_optimal_split, tree_optimal_leaf  обучим  модель дерево решений \n",
    "forest_model = RandomForestClassifier(random_state=12345, \n",
    "                                                max_depth=forest_optimal_depth, \n",
    "                                                n_estimators=forest_optimal_estimator)# создадим модель с оптимальными гиперпараметрами\n",
    "forest_model.fit(features_train, target_train)# учим модель на обучающей выборке\n",
    "forest_predictions = forest_model.predict(features_valid)# получаем предсказания модели на валидационной выборке\n",
    "#Находим вероятности предсказания значений\n",
    "forest_probabilities_valid = forest_model.predict_proba(features_valid)\n",
    "forest_probabilities_one_valid = forest_probabilities_valid[:, 1]\n",
    "\n",
    "fpr, tpr, thresholds = roc_curve(target_valid, forest_probabilities_one_valid)\n",
    "#Строим  ROC-кривую (кривую ошибок) для модели случайный лес\n",
    "plt.figure()\n",
    "plt.plot(fpr,tpr)\n",
    "plt.plot([0, 1], [0, 1], linestyle='--') #Указываем границу\n",
    "plt.xlim([0.0, 1.0]) #  границы осей от 0 до 1\n",
    "plt.ylim([0.0, 1.0])\n",
    "plt.xlabel('Доля ложноположительных ответов (FPR)') # Подписываем оси x  \n",
    "plt.ylabel('Доля истинно положительных ответов (TPR)') # Подписываем оси y\n",
    "plt.title('ROC-кривая, кривая ошибок') # подпись заголовока \n",
    "\n",
    "plt.show()\n",
    "#AUC-ROC (от англ. Area Under Curve ROC, «площадь под ROC-кривой»)\n",
    "forest_auc_roc = roc_auc_score(target_valid, forest_probabilities_one_valid) #Рассчитаем значение метрики auc_roc\n",
    "print('AUC-ROC для модели Случайный лес:', forest_auc_roc)"
   ]
  },
  {
   "cell_type": "markdown",
   "metadata": {},
   "source": [
    "<a id='step4'></a>"
   ]
  },
  {
   "cell_type": "markdown",
   "metadata": {},
   "source": [
    "__Логистическая регрессии -  LogisticRegression__  <br>\n",
    "[&#10224;](#step5)"
   ]
  },
  {
   "cell_type": "markdown",
   "metadata": {},
   "source": [
    "Обучим модель Логистической регрессии."
   ]
  },
  {
   "cell_type": "code",
   "execution_count": 51,
   "metadata": {},
   "outputs": [
    {
     "name": "stdout",
     "output_type": "stream",
     "text": [
      "F1-мера модели Логистическая регрессия : 0.3076923076923077\n",
      "CPU times: user 34.7 ms, sys: 8.36 ms, total: 43.1 ms\n",
      "Wall time: 33.5 ms\n"
     ]
    }
   ],
   "source": [
    "%%time\n",
    "# %%time посмотрим время  обучения\n",
    "\n",
    "# создадим модель \"Логистическая регрессия\"\n",
    "logistic_model = LogisticRegression(random_state=12345, solver='liblinear') # инициализируйте модель логистической регрессии с параметром random_state=12345\n",
    "logistic_model.fit(features_train, target_train) # учим модель на обучающей выборке\n",
    "\n",
    "logistic_predictions =logistic_model.predict(features_valid)# получим предсказания модели на валидационной выборке\n",
    "\n",
    "logistic_f1_score = f1_score(target_valid, logistic_predictions)# определим точность модели F1                                                                                   \n",
    "print('F1-мера модели Логистическая регрессия :', logistic_f1_score)                         "
   ]
  },
  {
   "cell_type": "markdown",
   "metadata": {},
   "source": [
    "Построим для модели Логистическая регрессия ROC-кривую(кривую ошибок) и рассчитаем метрику AUC-ROC."
   ]
  },
  {
   "cell_type": "code",
   "execution_count": 52,
   "metadata": {},
   "outputs": [
    {
     "data": {
      "image/png": "[encoded data removed]",
      "text/plain": [
       "<Figure size 648x360 with 1 Axes>"
      ]
     },
     "metadata": {},
     "output_type": "display_data"
    },
    {
     "name": "stdout",
     "output_type": "stream",
     "text": [
      "AUC-ROC для модели Логистическая регрессия: 0.787586831214898\n"
     ]
    }
   ],
   "source": [
    "logistic_probabilities_valid = logistic_model.predict_proba(features_valid)\n",
    "logistic_probabilities_one_valid = logistic_probabilities_valid[:, 1]\n",
    "\n",
    "fpr, tpr, thresholds = roc_curve(target_valid, logistic_probabilities_one_valid)\n",
    "#Строим  ROC-кривую (кривую ошибок) для модели Логистическая регрессия\n",
    "plt.figure()\n",
    "plt.plot(fpr,tpr)\n",
    "plt.plot([0, 1], [0, 1], linestyle='--') #Указываем границу\n",
    "plt.xlim([0.0, 1.0]) #  границы осей от 0 до 1\n",
    "plt.ylim([0.0, 1.0])\n",
    "plt.xlabel('Доля ложноположительных ответов (FPR)') # Подписываем оси x  \n",
    "plt.ylabel('Доля истинно положительных ответов (TPR)') # Подписываем оси y\n",
    "plt.title('ROC-кривая, кривая ошибок') # подпись заголовока \n",
    "\n",
    "plt.show()\n",
    "#AUC-ROC (от англ. Area Under Curve ROC, «площадь под ROC-кривой»)\n",
    "logistic_auc_roc = roc_auc_score(target_valid, logistic_probabilities_one_valid) #Рассчитаем значение метрики auc_roc\n",
    "print('AUC-ROC для модели Логистическая регрессия:', logistic_auc_roc)\n",
    "\n"
   ]
  },
  {
   "cell_type": "markdown",
   "metadata": {},
   "source": [
    "__Подведем итоги__"
   ]
  },
  {
   "cell_type": "code",
   "execution_count": 53,
   "metadata": {},
   "outputs": [
    {
     "name": "stdout",
     "output_type": "stream",
     "text": [
      "Максимальная F1-мера модели Дерево решений равна: 0.5787878787878787\n",
      "AUC-ROC для модели дерево решений: 0.8410342151936152\n",
      "\n",
      "Максимальная F1-мера модели Случайный лес равна: 0.598159509202454\n",
      "AUC-ROC для модели Случайный лес: 0.8710556458764411\n",
      "\n",
      "F1-мера модели Логистическая регрессия : 0.3076923076923077\n",
      "AUC-ROC для модели Логистическая регрессия: 0.787586831214898\n"
     ]
    }
   ],
   "source": [
    "print('Максимальная F1-мера модели Дерево решений равна:', max_f1_tree)\n",
    "print('AUC-ROC для модели дерево решений:', tree_auc_roc)\n",
    "print()\n",
    "print('Максимальная F1-мера модели Случайный лес равна:', max_f1_forest)\n",
    "print('AUC-ROC для модели Случайный лес:', forest_auc_roc)\n",
    "print()\n",
    "print('F1-мера модели Логистическая регрессия :', logistic_f1_score) \n",
    "print('AUC-ROC для модели Логистическая регрессия:', logistic_auc_roc)"
   ]
  },
  {
   "cell_type": "markdown",
   "metadata": {},
   "source": [
    "<div style=\"border:solid green 2px; padding: 20px\">\n",
    "        \n",
    "***Вывод:***         \n",
    "\n",
    "- На шаге исследование задачи, пока без учета дисбаланса построили 3-ри модели __Решающее дерево__  - [DecisionTreeClassifier ](#step2), __Cлучайный лес__    - [RandomForestClassifier ](#step3), и __Логистическая регрессия__ -  [LogisticRegression](#step4) \n",
    "- Определили оптимальные значения гиперпараметров, нашли значения метрик __F1__ - точность модели,  __AUC-ROC__ - C (Area Under Curve ROC, «площадь под ROC-кривой») , построили ROC-кривые. \n",
    "\n",
    "- Алгоритм __Cлучайный лес__  показал наилучшие предсказание положительного класса целевого признака: Максимальная F1-мера модели: __0.598__\n",
    "AUC-ROC  модели Случайный лес: __0.871__ время обработки составило __1min 24s__. На данном этапе обучения, не был устранен дисбаланс классов, в следующем задании займемся устранением дисбаланса.   \n",
    "    \n",
    "</div>"
   ]
  },
  {
   "cell_type": "markdown",
   "metadata": {},
   "source": [
    "<div class=\"alert alert-success\">\n",
    "    \n",
    "**Комментарий ревьюера**\n",
    "    \n",
    "Отличная глава)\n",
    "</div>"
   ]
  },
  {
   "cell_type": "markdown",
   "metadata": {},
   "source": [
    "## Борьба с дисбалансом\n",
    "[&#10224;](#step1)"
   ]
  },
  {
   "cell_type": "markdown",
   "metadata": {},
   "source": [
    "Уменьшим дисбаланс и приведем  соотношение классов  к показателю 1:1.    \n",
    "Для уменьшения дисбаланса воспользуемся техникой __upsampling__. Для этого увеличим обучающие выборки элементами положительного класса. Количество таких элементов будет увеличено в 4 раза."
   ]
  },
  {
   "cell_type": "code",
   "execution_count": 54,
   "metadata": {},
   "outputs": [
    {
     "name": "stdout",
     "output_type": "stream",
     "text": [
      "Размер выборки до увеличения: (6000, 11) (6000,)\n",
      "Размер выборки после применения техники upsampling: (9666, 11) (9666,)\n"
     ]
    }
   ],
   "source": [
    "from sklearn.utils import shuffle\n",
    "# Для увеличения выборки создадим функцию upsample() с тремя параметрами: \n",
    "#features — признаки,target — целевой признак,repeat — количество повторений.\n",
    "def upsample(features, target, repeat):\n",
    "    features_zeros = features[target == 0]\n",
    "    features_ones = features[target == 1]\n",
    "    target_zeros = target[target == 0]\n",
    "    target_ones = target[target == 1]\n",
    "\n",
    "    features_upsampled = pd.concat([features_zeros] + [features_ones] * repeat)\n",
    "    target_upsampled = pd.concat([target_zeros] + [target_ones] * repeat)\n",
    "    \n",
    "    features_upsampled, target_upsampled = shuffle(features_upsampled, target_upsampled, random_state=12345)\n",
    "    \n",
    "    return features_upsampled, target_upsampled\n",
    "\n",
    "features_upsampled, target_upsampled = upsample(features_train, target_train, 4)\n",
    "print(\"Размер выборки до увеличения:\",features_train.shape, target_train.shape)\n",
    "print(\"Размер выборки после применения техники upsampling:\",features_upsampled.shape,target_upsampled.shape)"
   ]
  },
  {
   "cell_type": "markdown",
   "metadata": {},
   "source": [
    "__Теперь, на увеличенной выборке, также обучим модели с оптимальными параметрами и определим метрик качества.__"
   ]
  },
  {
   "cell_type": "markdown",
   "metadata": {},
   "source": [
    "__Модель Решающее дерево__ на увеличенной выборке <br>"
   ]
  },
  {
   "cell_type": "code",
   "execution_count": 55,
   "metadata": {},
   "outputs": [
    {
     "data": {
      "image/png": "[encoded data removed]",
      "text/plain": [
       "<Figure size 648x360 with 1 Axes>"
      ]
     },
     "metadata": {},
     "output_type": "display_data"
    },
    {
     "name": "stdout",
     "output_type": "stream",
     "text": [
      "F1-мера модели Дерево решений на увеличенной выборке равна: 0.575925925925926\n",
      "AUC-ROC для модели Дерево решений на увеличенной выборке: 0.8234278007685487\n"
     ]
    }
   ],
   "source": [
    "# создадим модель \"Дерево решений\" на увеличенной выборке, подставим определенные ранее оптимальные значения гиперпараметров.\n",
    "#оптимальные значения гиперпараметров - tree_optimal_depth, tree_optimal_split, tree_optimal_leaf \n",
    "upsampled_tree_model = DecisionTreeClassifier(random_state=12345, \n",
    "                                                max_depth=tree_optimal_depth, \n",
    "                                                min_samples_split=tree_optimal_split, \n",
    "                                                min_samples_leaf=tree_optimal_leaf)# создадим модель увелич модель\n",
    "upsampled_tree_model.fit(features_upsampled, target_upsampled)# обучаем модель на увеличенной обучающей выборке\n",
    "upsampled_tree_predictions = upsampled_tree_model.predict(features_valid)\n",
    "# получим предсказания модели на увеличенной  валидационной выборке\n",
    "\n",
    "\n",
    "upsampled_tree_f1_score = f1_score(target_valid, upsampled_tree_predictions) # определим точность модели F1\n",
    "\n",
    "\n",
    "#Находим вероятности предсказания значений\n",
    "upsampled_tree_probabilities_valid = upsampled_tree_model.predict_proba(features_valid)\n",
    "upsampled_tree_probabilities_one_valid = upsampled_tree_probabilities_valid[:, 1]\n",
    "\n",
    "fpr, tpr, thresholds = roc_curve(target_valid, probabilities_one_valid)\n",
    "#Строим  ROC-кривую (кривую ошибок) для модели дерево решений\n",
    "plt.figure()\n",
    "plt.plot(fpr,tpr)\n",
    "plt.plot([0, 1], [0, 1], linestyle='--') #Указываем границу\n",
    "plt.xlim([0.0, 1.0]) #  границы осей от 0 до 1\n",
    "plt.ylim([0.0, 1.0])\n",
    "plt.xlabel('Доля ложноположительных ответов (FPR)') # Подписываем оси x  \n",
    "plt.ylabel('Доля истинно положительных ответов (TPR)') # Подписываем оси y\n",
    "plt.title('ROC-кривая, кривая ошибок') # подпись заголовока \n",
    "\n",
    "plt.show()\n",
    "#AUC-ROC (от англ. Area Under Curve ROC, «площадь под ROC-кривой»)\n",
    "upsampled_tree_auc_roc = roc_auc_score(target_valid, upsampled_tree_probabilities_one_valid) # получаем значение метрики auc_roc #Рассчитаем значение метрики auc_roc\n",
    "print('F1-мера модели Дерево решений на увеличенной выборке равна:', upsampled_tree_f1_score)\n",
    "print('AUC-ROC для модели Дерево решений на увеличенной выборке:', upsampled_tree_auc_roc)\n",
    "\n",
    "\n"
   ]
  },
  {
   "cell_type": "markdown",
   "metadata": {},
   "source": [
    "__Модель Cлучайный лес__ на увеличенной выборке <br>"
   ]
  },
  {
   "cell_type": "code",
   "execution_count": 56,
   "metadata": {},
   "outputs": [
    {
     "data": {
      "image/png": "[encoded data removed]",
      "text/plain": [
       "<Figure size 648x360 with 1 Axes>"
      ]
     },
     "metadata": {},
     "output_type": "display_data"
    },
    {
     "name": "stdout",
     "output_type": "stream",
     "text": [
      "F1-мера модели  Cлучайный лес на увеличенной выборке равна: 0.6263736263736263\n",
      "AUC-ROC для модели Cлучайный лес на увеличенной выборке: 0.8640444871415902\n"
     ]
    }
   ],
   "source": [
    "# создадим модель \"Cлучайный лес\" на увеличенной выборке, подставим определенные ранее оптимальные значения гиперпараметров.\n",
    "\n",
    "upsampled_forest_model = RandomForestClassifier(random_state=12345, \n",
    "                                                max_depth=forest_optimal_depth, \n",
    "                                                n_estimators=forest_optimal_estimator)# создадим модель увелич модель \n",
    "upsampled_forest_model.fit(features_upsampled, target_upsampled)# обучаем модель на увеличенной обучающей выборке\n",
    "upsampled_forest_predictions = upsampled_forest_model.predict(features_valid)\n",
    "# получим предсказания модели на увеличенной  валидационной выборке\n",
    "\n",
    "\n",
    "\n",
    "upsampled_forest_f1_score = f1_score(target_valid, upsampled_forest_predictions) # определим точность модели F1\n",
    "\n",
    "\n",
    "#Находим вероятности предсказания значений\n",
    "upsampled_forest_probabilities_valid = upsampled_forest_model.predict_proba(features_valid)\n",
    "upsampled_forest_probabilities_one_valid = upsampled_forest_probabilities_valid[:, 1]\n",
    "\n",
    "fpr, tpr, thresholds = roc_curve(target_valid, upsampled_forest_probabilities_one_valid)\n",
    "#Строим  ROC-кривую (кривую ошибок) для модели Случайный лес\n",
    "plt.figure()\n",
    "plt.plot(fpr,tpr)\n",
    "plt.plot([0, 1], [0, 1], linestyle='--') #Указываем границу\n",
    "plt.xlim([0.0, 1.0]) #  границы осей от 0 до 1\n",
    "plt.ylim([0.0, 1.0])\n",
    "plt.xlabel('Доля ложноположительных ответов (FPR)') # Подписываем оси x  \n",
    "plt.ylabel('Доля истинно положительных ответов (TPR)') # Подписываем оси y\n",
    "plt.title('ROC-кривая, кривая ошибок') # подпись заголовока \n",
    "\n",
    "plt.show()\n",
    "#AUC-ROC (от англ. Area Under Curve ROC, «площадь под ROC-кривой»)\n",
    "upsampled_forest_auc_roc = roc_auc_score(target_valid, upsampled_forest_probabilities_one_valid) # получаем значение метрики auc_roc #Рассчитаем значение метрики auc_roc\n",
    "print('F1-мера модели  Cлучайный лес на увеличенной выборке равна:',upsampled_forest_f1_score)\n",
    "print('AUC-ROC для модели Cлучайный лес на увеличенной выборке:', upsampled_forest_auc_roc)"
   ]
  },
  {
   "cell_type": "markdown",
   "metadata": {},
   "source": [
    "__Модель Логистическая регрессия__ на увеличенной выборке <br>"
   ]
  },
  {
   "cell_type": "code",
   "execution_count": 57,
   "metadata": {},
   "outputs": [
    {
     "data": {
      "image/png": "[encoded data removed]",
      "text/plain": [
       "<Figure size 648x360 with 1 Axes>"
      ]
     },
     "metadata": {},
     "output_type": "display_data"
    },
    {
     "name": "stdout",
     "output_type": "stream",
     "text": [
      "F1-мера модели Логистическая регрессия на увеличенной выборке : 0.5246753246753246\n",
      "AUC-ROC для модели Логистическая регрессия на увеличенной выборке: 0.7938220514336388\n"
     ]
    }
   ],
   "source": [
    "# создадим модель \"Логистическая регрессия\" на увеличенной выборке\n",
    "upsample_logistic_model = LogisticRegression(random_state=12345, solver='liblinear') \n",
    "# инициализируйте модель логистической регрессии с параметром random_state=12345\n",
    "upsample_logistic_model.fit(features_upsampled, target_upsampled) # учим модель на увеличенной обучающей выборке\n",
    "\n",
    "upsample_logistic_predictions = upsample_logistic_model.predict(features_valid)\n",
    "# получим предсказания модели на валидационной выборке\n",
    "\n",
    "upsample_logistic_f1_score = f1_score(target_valid, upsample_logistic_predictions)# определим точность модели F1                                                                                   \n",
    "\n",
    "#Находим вероятности предсказания значений\n",
    "logistic_probabilities_valid = upsample_logistic_model.predict_proba(features_valid)\n",
    "logistic_probabilities_one_valid = logistic_probabilities_valid[:, 1]\n",
    "                                                                           \n",
    "fpr, tpr, thresholds = roc_curve(target_valid, logistic_probabilities_one_valid)\n",
    "#Строим  ROC-кривую (кривую ошибок) для модели Логистическая регрессия\n",
    "plt.figure()\n",
    "plt.plot(fpr,tpr)\n",
    "plt.plot([0, 1], [0, 1], linestyle='--') #Указываем границу\n",
    "plt.xlim([0.0, 1.0]) #  границы осей от 0 до 1\n",
    "plt.ylim([0.0, 1.0])\n",
    "plt.xlabel('Доля ложноположительных ответов (FPR)') # Подписываем оси x  \n",
    "plt.ylabel('Доля истинно положительных ответов (TPR)') # Подписываем оси y\n",
    "plt.title('ROC-кривая, кривая ошибок') # подпись заголовока \n",
    "\n",
    "plt.show()\n",
    "#AUC-ROC (от англ. Area Under Curve ROC, «площадь под ROC-кривой»)\n",
    "upsample_logistic_auc_roc = roc_auc_score(target_valid, logistic_probabilities_one_valid) #Рассчитаем значение метрики auc_roc\n",
    "print('F1-мера модели Логистическая регрессия на увеличенной выборке :', upsample_logistic_f1_score)                                      \n",
    "print('AUC-ROC для модели Логистическая регрессия на увеличенной выборке:', upsample_logistic_auc_roc)\n"
   ]
  },
  {
   "cell_type": "markdown",
   "metadata": {},
   "source": [
    "___Метод \"Взвешивания классов\"___"
   ]
  },
  {
   "cell_type": "markdown",
   "metadata": {},
   "source": [
    "Для уменьшения дисбаланса также применим  метод \"Взвешивания классов\" применим его к исследуемым моделям."
   ]
  },
  {
   "cell_type": "markdown",
   "metadata": {},
   "source": [
    "__Модель Решающее дерево__ с применением метода __Взвешивания классов__ укажем аргумент модели __class_weight='balanced'__"
   ]
  },
  {
   "cell_type": "code",
   "execution_count": 58,
   "metadata": {},
   "outputs": [
    {
     "data": {
      "image/png": "[encoded data removed]",
      "text/plain": [
       "<Figure size 648x360 with 1 Axes>"
      ]
     },
     "metadata": {},
     "output_type": "display_data"
    },
    {
     "name": "stdout",
     "output_type": "stream",
     "text": [
      "F1-мера модели Дерево решений с методом Взвешивания классов  равна: 0.5780240073868882\n",
      "AUC-ROC для модели Дерево решений с методом Взвешивания классов: 0.8410342151936152\n"
     ]
    }
   ],
   "source": [
    "# создадим модель \"Дерево решений\" с применением метода Взвешивания классов, подставим определенные ранее оптимальные значения гиперпараметров.\n",
    "#оптимальные значения гиперпараметров - tree_optimal_depth, tree_optimal_split, tree_optimal_leaf \n",
    "balanced_tree_model = DecisionTreeClassifier(random_state=12345, \n",
    "                                                max_depth=tree_optimal_depth, \n",
    "                                                min_samples_split=tree_optimal_split, \n",
    "                                                min_samples_leaf=tree_optimal_leaf, class_weight='balanced')\n",
    "# создадим модель с применением метода Взвешивания классов\n",
    "balanced_tree_model.fit(features_train, target_train)# обучаем модель \n",
    "balanced_tree_predictions = balanced_tree_model.predict(features_valid)# получим предсказания модели \n",
    "\n",
    "\n",
    "balanced_tree_f1_score = f1_score(target_valid, balanced_tree_predictions) # определим точность модели F1\n",
    "\n",
    "\n",
    "#Находим вероятности предсказания значений\n",
    "balanced_probabilities_valid = balanced_tree_model.predict_proba(features_valid)\n",
    "balanced_probabilities_one_valid = balanced_probabilities_valid[:, 1]\n",
    "\n",
    "fpr, tpr, thresholds = roc_curve(target_valid, balanced_probabilities_one_valid)\n",
    "#Строим  ROC-кривую (кривую ошибок) для модели дерево решений\n",
    "plt.figure()\n",
    "plt.plot(fpr,tpr)\n",
    "plt.plot([0, 1], [0, 1], linestyle='--') #Указываем границу\n",
    "plt.xlim([0.0, 1.0]) #  границы осей от 0 до 1\n",
    "plt.ylim([0.0, 1.0])\n",
    "plt.xlabel('Доля ложноположительных ответов (FPR)') # Подписываем оси x  \n",
    "plt.ylabel('Доля истинно положительных ответов (TPR)') # Подписываем оси y\n",
    "plt.title('ROC-кривая, кривая ошибок') # подпись заголовока \n",
    "\n",
    "plt.show()\n",
    "#AUC-ROC (от англ. Area Under Curve ROC, «площадь под ROC-кривой»)\n",
    "balanced_tree_auc_roc = roc_auc_score(target_valid, probabilities_one_valid)  #Рассчитаем значение метрики auc_roc\n",
    "print('F1-мера модели Дерево решений с методом Взвешивания классов  равна:', balanced_tree_f1_score)\n",
    "print('AUC-ROC для модели Дерево решений с методом Взвешивания классов:', balanced_tree_auc_roc)\n"
   ]
  },
  {
   "cell_type": "markdown",
   "metadata": {},
   "source": [
    "__Модель Случайный лес__ с применением метода __Взвешивания классов__ укажем аргумент модели __class_weight='balanced'__"
   ]
  },
  {
   "cell_type": "code",
   "execution_count": 59,
   "metadata": {},
   "outputs": [
    {
     "data": {
      "image/png": "[encoded data removed]",
      "text/plain": [
       "<Figure size 648x360 with 1 Axes>"
      ]
     },
     "metadata": {},
     "output_type": "display_data"
    },
    {
     "name": "stdout",
     "output_type": "stream",
     "text": [
      "F1-мера модели  Cлучайный лес на увеличенной выборке равна: 0.5780240073868882\n",
      "AUC-ROC для модели Cлучайный лес на увеличенной выборке: 0.8704198073701841\n"
     ]
    }
   ],
   "source": [
    "# создадим модель \"Cлучайный лес\" с применением метода Взвешивания классов, подставим определенные ранее оптимальные значения гиперпараметров.\n",
    "\n",
    "balanced_forest_model = RandomForestClassifier(random_state=12345, \n",
    "                                                max_depth=forest_optimal_depth, \n",
    "                                                n_estimators=forest_optimal_estimator, class_weight='balanced')# создадим модель увелич модель \n",
    "\n",
    "balanced_forest_model.fit(features_train, target_train)# обучаем модель с применением метода Взвешивания классо\n",
    "balanced_forest_predictions = balanced_forest_model.predict(features_valid)\n",
    "# получим предсказания модели с применением метода Взвешивания классо\n",
    "\n",
    "\n",
    "\n",
    "balanced_forest_f1_score = f1_score(target_valid, balanced_tree_predictions) # определим точность модели F1\n",
    "\n",
    "\n",
    "#Находим вероятности предсказания значений\n",
    "balanced_forest_probabilities_valid = balanced_forest_model.predict_proba(features_valid)\n",
    "balanced_forest_probabilities_one_valid = balanced_forest_probabilities_valid[:, 1]\n",
    "\n",
    "fpr, tpr, thresholds = roc_curve(target_valid, forest_probabilities_one_valid)\n",
    "#Строим  ROC-кривую (кривую ошибок) для модели дерево решений\n",
    "plt.figure()\n",
    "plt.plot(fpr,tpr)\n",
    "plt.plot([0, 1], [0, 1], linestyle='--') #Указываем границу\n",
    "plt.xlim([0.0, 1.0]) #  границы осей от 0 до 1\n",
    "plt.ylim([0.0, 1.0])\n",
    "plt.xlabel('Доля ложноположительных ответов (FPR)') # Подписываем оси x  \n",
    "plt.ylabel('Доля истинно положительных ответов (TPR)') # Подписываем оси y\n",
    "plt.title('ROC-кривая, кривая ошибок') # подпись заголовока \n",
    "\n",
    "plt.show()\n",
    "#AUC-ROC (от англ. Area Under Curve ROC, «площадь под ROC-кривой»)\n",
    "balanced_forest_auc_roc = roc_auc_score(target_valid, balanced_forest_probabilities_one_valid) # получаем значение метрики auc_roc #Рассчитаем значение метрики auc_roc\n",
    "print('F1-мера модели  Cлучайный лес на увеличенной выборке равна:',balanced_forest_f1_score)\n",
    "print('AUC-ROC для модели Cлучайный лес на увеличенной выборке:', balanced_forest_auc_roc)"
   ]
  },
  {
   "cell_type": "markdown",
   "metadata": {},
   "source": [
    "__Модель Логистическая регрессия__ с применением метода __Взвешивания классов__ "
   ]
  },
  {
   "cell_type": "code",
   "execution_count": 60,
   "metadata": {},
   "outputs": [
    {
     "data": {
      "image/png": "[encoded data removed]",
      "text/plain": [
       "<Figure size 648x360 with 1 Axes>"
      ]
     },
     "metadata": {},
     "output_type": "display_data"
    },
    {
     "name": "stdout",
     "output_type": "stream",
     "text": [
      "F1-мера модели Логистическая регрессия с применением метода Взвешивания классов : 0.5302897278314311\n",
      "AUC-ROC для модели Логистическая регрессия с применением метода Взвешивания классов: 0.7937758646172037\n"
     ]
    }
   ],
   "source": [
    "# создадим модель \"Логистическая регрессия\" с применением метода Взвешивания классов\n",
    "balanced_logistic_model = LogisticRegression(random_state=12345, solver='liblinear', class_weight='balanced') \n",
    "# инициализируйте модель логистической регрессии с параметром random_state=12345, solver='liblinear', class_weight='balanced'\n",
    "balanced_logistic_model.fit(features_train, target_train) # учим модель  с применением метода Взвешивания классов\n",
    "\n",
    "balanced_logistic_predictions = balanced_logistic_model.predict(features_valid)\n",
    "# получим предсказания модели на валидационной выборке\n",
    "\n",
    "balanced_logistic_f1_score = f1_score(target_valid, balanced_logistic_predictions)# определим точность модели F1                                                                                   \n",
    "\n",
    "#Находим вероятности предсказания значений\n",
    "balanced_logistic_probabilities_valid = balanced_logistic_model.predict_proba(features_valid)\n",
    "balanced_logistic_probabilities_one_valid = balanced_logistic_probabilities_valid[:, 1]\n",
    "                                                                           \n",
    "fpr, tpr, thresholds = roc_curve(target_valid, balanced_logistic_probabilities_one_valid)\n",
    "#Строим  ROC-кривую (кривую ошибок) для модели Логистическая регрессия\n",
    "plt.figure()\n",
    "plt.plot(fpr,tpr)\n",
    "plt.plot([0, 1], [0, 1], linestyle='--') #Указываем границу\n",
    "plt.xlim([0.0, 1.0]) #  границы осей от 0 до 1\n",
    "plt.ylim([0.0, 1.0])\n",
    "plt.xlabel('Доля ложноположительных ответов (FPR)') # Подписываем оси x  \n",
    "plt.ylabel('Доля истинно положительных ответов (TPR)') # Подписываем оси y\n",
    "plt.title('ROC-кривая, кривая ошибок') # подпись заголовока \n",
    "\n",
    "plt.show()\n",
    "#AUC-ROC (от англ. Area Under Curve ROC, «площадь под ROC-кривой»)\n",
    "balanced_logistic_auc_roc = roc_auc_score(target_valid, balanced_logistic_probabilities_one_valid) #Рассчитаем значение метрики auc_roc\n",
    "print('F1-мера модели Логистическая регрессия с применением метода Взвешивания классов :', balanced_logistic_f1_score)                                      \n",
    "print('AUC-ROC для модели Логистическая регрессия с применением метода Взвешивания классов:', balanced_logistic_auc_roc)"
   ]
  },
  {
   "cell_type": "markdown",
   "metadata": {},
   "source": [
    "__Подведем итоги__ <br>\n",
    "Соберем в единую таблицу полученные результаты применения различных метрик на алгоритмах Дерево решений, Случайный лес, и Логистическая регрессия."
   ]
  },
  {
   "cell_type": "code",
   "execution_count": 61,
   "metadata": {},
   "outputs": [
    {
     "data": {
      "text/html": [
       "<div>\n",
       "<style scoped>\n",
       "    .dataframe tbody tr th:only-of-type {\n",
       "        vertical-align: middle;\n",
       "    }\n",
       "\n",
       "    .dataframe tbody tr th {\n",
       "        vertical-align: top;\n",
       "    }\n",
       "\n",
       "    .dataframe thead th {\n",
       "        text-align: right;\n",
       "    }\n",
       "</style>\n",
       "<table border=\"1\" class=\"dataframe\">\n",
       "  <thead>\n",
       "    <tr style=\"text-align: right;\">\n",
       "      <th></th>\n",
       "      <th>Алгоритм Модели</th>\n",
       "      <th>F1</th>\n",
       "      <th>F1-upsampled</th>\n",
       "      <th>F1-balanced</th>\n",
       "      <th>AUC-ROC</th>\n",
       "      <th>AUC-ROC-upsampled</th>\n",
       "      <th>AUC-ROC-balanced</th>\n",
       "    </tr>\n",
       "  </thead>\n",
       "  <tbody>\n",
       "    <tr>\n",
       "      <td>0</td>\n",
       "      <td>Дерево решений</td>\n",
       "      <td>0.578788</td>\n",
       "      <td>0.575926</td>\n",
       "      <td>0.578024</td>\n",
       "      <td>0.841034</td>\n",
       "      <td>0.823428</td>\n",
       "      <td>0.841034</td>\n",
       "    </tr>\n",
       "    <tr>\n",
       "      <td>1</td>\n",
       "      <td>Случайный лес</td>\n",
       "      <td>0.598160</td>\n",
       "      <td>0.626374</td>\n",
       "      <td>0.578024</td>\n",
       "      <td>0.871056</td>\n",
       "      <td>0.864044</td>\n",
       "      <td>0.870420</td>\n",
       "    </tr>\n",
       "    <tr>\n",
       "      <td>2</td>\n",
       "      <td>Логистическая регрессия</td>\n",
       "      <td>0.307692</td>\n",
       "      <td>0.524675</td>\n",
       "      <td>0.530290</td>\n",
       "      <td>0.787587</td>\n",
       "      <td>0.793822</td>\n",
       "      <td>0.793776</td>\n",
       "    </tr>\n",
       "  </tbody>\n",
       "</table>\n",
       "</div>"
      ],
      "text/plain": [
       "           Алгоритм Модели        F1  F1-upsampled  F1-balanced   AUC-ROC  \\\n",
       "0           Дерево решений  0.578788      0.575926     0.578024  0.841034   \n",
       "1            Случайный лес  0.598160      0.626374     0.578024  0.871056   \n",
       "2  Логистическая регрессия  0.307692      0.524675     0.530290  0.787587   \n",
       "\n",
       "   AUC-ROC-upsampled  AUC-ROC-balanced  \n",
       "0           0.823428          0.841034  \n",
       "1           0.864044          0.870420  \n",
       "2           0.793822          0.793776  "
      ]
     },
     "metadata": {},
     "output_type": "display_data"
    }
   ],
   "source": [
    "columns = ['Алгоритм Модели', 'F1', 'F1-upsampled', 'F1-balanced', 'AUC-ROC', 'AUC-ROC-upsampled', 'AUC-ROC-balanced']\n",
    "\n",
    "\n",
    "\n",
    "tree = ['Дерево решений', \n",
    "        max_f1_tree, \n",
    "        upsampled_tree_f1_score,\n",
    "        balanced_tree_f1_score,\n",
    "        tree_auc_roc, upsampled_tree_auc_roc,\n",
    "        balanced_tree_auc_roc\n",
    "]\n",
    "\n",
    "forest = ['Случайный лес',\n",
    "          max_f1_forest,\n",
    "          upsampled_forest_f1_score,\n",
    "          balanced_forest_f1_score,\n",
    "          forest_auc_roc,\n",
    "          upsampled_forest_auc_roc,\n",
    "          balanced_forest_auc_roc\n",
    "]\n",
    "\n",
    "regression = ['Логистическая регрессия',\n",
    "             logistic_f1_score,\n",
    "             upsample_logistic_f1_score,\n",
    "             balanced_logistic_f1_score,\n",
    "             logistic_auc_roc,\n",
    "             upsample_logistic_auc_roc, \n",
    "             balanced_logistic_auc_roc\n",
    "]\n",
    "\n",
    "table_resultt = pd.DataFrame([tree, forest, regression], columns = columns)\n",
    "display(table_resultt)"
   ]
  },
  {
   "cell_type": "markdown",
   "metadata": {},
   "source": [
    "<div style=\"border:solid green 2px; padding: 20px\">\n",
    "        \n",
    "***Вывод:***         \n",
    "\n",
    "- В проделанной выше работе, при обучении моделей с применением техник и методов уменьшения дисбаланса классов, наилучшие результаты точность модели - (метрика __F1__) показала модель __Случайный лес__ с применением техники  __upsampling__ -  увеличение выборки. \n",
    "- Модель показала точтность __F1 = 0.626374__. Так как, это лучший полученный результат, на следующем шаге тестирование, будем производить на модели Случайный лес с увеличенной выборкой.        \n",
    "</div>"
   ]
  },
  {
   "cell_type": "markdown",
   "metadata": {},
   "source": [
    "<div class=\"alert alert-success\">\n",
    "    \n",
    "**Комментарий ревьюера**\n",
    "    \n",
    "На самом деле тоже всё просто, круто что без проблем со всем справился. У меня вопросов нет, если они есть у тебя)Всегда рад помочь)\n",
    "</div>"
   ]
  },
  {
   "cell_type": "markdown",
   "metadata": {},
   "source": [
    "## Тестирование модели\n",
    "[&#10224;](#step1)"
   ]
  },
  {
   "cell_type": "markdown",
   "metadata": {},
   "source": [
    "<div class=\"alert alert-success\">\n",
    "    \n",
    "**Комментарий ревьюера**\n",
    "    \n",
    "Здесь тоже всё ок)Пожалуйста исправь оформление и задай свои вопросы)В диалоге может открыться много нового)\n",
    "    \n",
    "P.S. Есть доп материалы, по каким темам тебе было бы интересно почитать?)\n",
    "</div>"
   ]
  },
  {
   "cell_type": "markdown",
   "metadata": {},
   "source": [
    "<div style=\"border:solid light blue 1px; padding: 1px\">\n",
    "<div class=\"alert alert-info\">\n",
    "<b>Комментарий студента:</b>\n",
    "    \n",
    "Не скажу, что все отлично понимаю, количество  новых метрик и правил - озадачило, как это все запомнить? . Из теоретической части спринта многое не использовалось. Нет четкого понимания, что все считается корректно и  правильно. Из дополнительных материалов:  перевод категориальных признаков в числовые. Может посоветуешь лаконичный материал по использованию ключевых метрик при обучении.\n",
    "</div>"
   ]
  },
  {
   "cell_type": "markdown",
   "metadata": {},
   "source": [
    "<div class=\"alert alert-success\">\n",
    "    \n",
    "**Комментарий ревьюера v_2**\n",
    "     \n",
    "Я придерживаюсь практического подхода)Так что советую тебе взять данные задачи и метрики и по мере возможности смотреть и разбирать их. Разбираются они легко, т.к. это самые известные задачи для новичков и классных открытых решений просто куча)Ну и если будут вопросы, ты всегда можешь их задать)Успехов в следующих проектах!)\n",
    "    \n",
    "https://vc.ru/ml/150241-15-proektov-dlya-razvitiya-navykov-raboty-s-mashinnym-obucheniem\n",
    "    \n",
    "https://www.machinelearningmastery.ru/20-popular-machine-learning-metrics-part-1-classification-regression-evaluation-metrics-1ca3e282a2ce/\n",
    "</div>"
   ]
  },
  {
   "cell_type": "markdown",
   "metadata": {},
   "source": [
    "Протестируем модель __Случайный лес__ с оптимальными гиперпараметрами и увеличенной выборкой. Но в начале, соединим валидационную и обучающую выборки (features_train и features_valid), и еще раз  обучим ее, увеличения данных способствует увеличению точности.\n"
   ]
  },
  {
   "cell_type": "code",
   "execution_count": 62,
   "metadata": {},
   "outputs": [
    {
     "name": "stdout",
     "output_type": "stream",
     "text": [
      "(8000, 11)\n",
      "(8000,)\n",
      "\n",
      "0    0.79625\n",
      "1    0.20375\n",
      "Name: exited, dtype: float64\n"
     ]
    }
   ],
   "source": [
    "#Объеденим обучающую и валидационную выборки \n",
    "unification_features_train = pd.concat([features_train, features_valid])\n",
    "unification_target_train = pd.concat([target_train, target_valid])\n",
    "\n",
    "#Проверим результат объединения\n",
    "print(unification_features_train.shape)\n",
    "print(unification_target_train.shape)\n",
    "print()\n",
    "#Проверим баланс классов\n",
    "print(unification_target_train.value_counts(normalize = True))"
   ]
  },
  {
   "cell_type": "markdown",
   "metadata": {},
   "source": [
    "Видим что баланс классов нарушен 4:1 для выравнивания баланса применим  технику __upsampling__  увеличения выборки"
   ]
  },
  {
   "cell_type": "code",
   "execution_count": 63,
   "metadata": {},
   "outputs": [
    {
     "name": "stdout",
     "output_type": "stream",
     "text": [
      "(12890, 11)\n",
      "(12890,)\n",
      "\n",
      "1    0.505818\n",
      "0    0.494182\n",
      "Name: exited, dtype: float64\n"
     ]
    }
   ],
   "source": [
    "unification_features_train_upsampled, unification_target_train_upsampled = upsample(unification_features_train, unification_target_train, 4)\n",
    "#Проверим результат работы  upsample\n",
    "print(unification_features_train_upsampled.shape)\n",
    "print(unification_target_train_upsampled.shape)\n",
    "\n",
    "print()\n",
    "# Заново проверим баланс классов\n",
    "print(unification_target_train_upsampled.value_counts(normalize = True))"
   ]
  },
  {
   "cell_type": "markdown",
   "metadata": {},
   "source": [
    "Показатели сбаланисированны, на увеличенных выборках  обучим модель Случайный лес - заново."
   ]
  },
  {
   "cell_type": "markdown",
   "metadata": {},
   "source": [
    "__Модель Случайный лес__ на тестовой увеличенной выборке <br>"
   ]
  },
  {
   "cell_type": "code",
   "execution_count": 64,
   "metadata": {},
   "outputs": [
    {
     "data": {
      "image/png": "[encoded data removed]",
      "text/plain": [
       "<Figure size 648x360 with 1 Axes>"
      ]
     },
     "metadata": {},
     "output_type": "display_data"
    },
    {
     "name": "stdout",
     "output_type": "stream",
     "text": [
      "F1-мера модели  Cлучайный лес на тестовой выборке: 0.6071044133476857\n",
      "AUC-ROC для модели Cлучайный лес на тестовой выборке: 0.854350498418295\n"
     ]
    }
   ],
   "source": [
    "# создадим модель \"Cлучайный лес\" на увеличенной выборке, подставим определенные ранее оптимальные значения гиперпараметров.\n",
    "\n",
    "general_forest_model = RandomForestClassifier(random_state=12345, \n",
    "                                                max_depth=forest_optimal_depth, \n",
    "                                                n_estimators=forest_optimal_estimator)# создадим модель\n",
    "general_forest_model.fit(unification_features_train_upsampled, unification_target_train_upsampled)# обучаем модель \n",
    "general_forest_model_predictions = general_forest_model.predict(features_test)\n",
    "# получим предсказания модели   тестовой выборке\n",
    "\n",
    "\n",
    "\n",
    "test_forest_f1_score = f1_score(target_test, general_forest_model_predictions) # определим точность модели F1\n",
    "\n",
    "\n",
    "#Находим вероятности предсказания значений\n",
    "forest_probabilities_test = general_forest_model.predict_proba(features_test)\n",
    "forest_probabilities_one_test = forest_probabilities_test[:, 1]\n",
    "\n",
    "fpr, tpr, thresholds = roc_curve(target_test, forest_probabilities_one_test)\n",
    "#Строим  ROC-кривую (кривую ошибок) для модели Случайный лес\n",
    "plt.figure()\n",
    "plt.plot(fpr,tpr)\n",
    "plt.plot([0, 1], [0, 1], linestyle='--') #Указываем границу\n",
    "plt.xlim([0.0, 1.0]) #  границы осей от 0 до 1\n",
    "plt.ylim([0.0, 1.0])\n",
    "plt.xlabel('Доля ложноположительных ответов (FPR)') # Подписываем оси x  \n",
    "plt.ylabel('Доля истинно положительных ответов (TPR)') # Подписываем оси y\n",
    "plt.title('ROC-кривая, кривая ошибок') # подпись заголовока \n",
    "\n",
    "plt.show()\n",
    "#AUC-ROC (от англ. Area Under Curve ROC, «площадь под ROC-кривой»)\n",
    "test_forest_auc_roc = roc_auc_score(target_test, forest_probabilities_one_test) #Рассчитаем значение метрики auc_roc\n",
    "print('F1-мера модели  Cлучайный лес на тестовой выборке:',test_forest_f1_score)\n",
    "print('AUC-ROC для модели Cлучайный лес на тестовой выборке:',test_forest_auc_roc)"
   ]
  },
  {
   "cell_type": "markdown",
   "metadata": {},
   "source": [
    "<div style=\"border:solid green 2px; padding: 20px\">\n",
    "        \n",
    "***Вывод:***         \n",
    "\n",
    "- На тестовой выборке модель __Случайный лес__ с полученными ранее оптимальными гиперпараметрами, после объединение общей и валидационных выборок и последующего обучения,  показала хороший результат предсказания положительного класса- (метрика точности модели __F1 = 0.6071044133476857__ ).        \n",
    "</div>"
   ]
  },
  {
   "cell_type": "markdown",
   "metadata": {},
   "source": [
    "##  Общий вывод \n",
    "[&#10224;](#step1)"
   ]
  },
  {
   "cell_type": "code",
   "execution_count": 65,
   "metadata": {},
   "outputs": [
    {
     "data": {
      "text/html": [
       "<div>\n",
       "<style scoped>\n",
       "    .dataframe tbody tr th:only-of-type {\n",
       "        vertical-align: middle;\n",
       "    }\n",
       "\n",
       "    .dataframe tbody tr th {\n",
       "        vertical-align: top;\n",
       "    }\n",
       "\n",
       "    .dataframe thead th {\n",
       "        text-align: right;\n",
       "    }\n",
       "</style>\n",
       "<table border=\"1\" class=\"dataframe\">\n",
       "  <thead>\n",
       "    <tr style=\"text-align: right;\">\n",
       "      <th></th>\n",
       "      <th>Алгоритм Модели</th>\n",
       "      <th>F1</th>\n",
       "      <th>F1-upsampled</th>\n",
       "      <th>F1-balanced</th>\n",
       "      <th>AUC-ROC</th>\n",
       "      <th>AUC-ROC-upsampled</th>\n",
       "      <th>AUC-ROC-balanced</th>\n",
       "    </tr>\n",
       "  </thead>\n",
       "  <tbody>\n",
       "    <tr>\n",
       "      <td>0</td>\n",
       "      <td>Дерево решений</td>\n",
       "      <td>0.578788</td>\n",
       "      <td>0.575926</td>\n",
       "      <td>0.578024</td>\n",
       "      <td>0.841034</td>\n",
       "      <td>0.823428</td>\n",
       "      <td>0.841034</td>\n",
       "    </tr>\n",
       "    <tr>\n",
       "      <td>1</td>\n",
       "      <td>Случайный лес</td>\n",
       "      <td>0.598160</td>\n",
       "      <td>0.626374</td>\n",
       "      <td>0.578024</td>\n",
       "      <td>0.871056</td>\n",
       "      <td>0.864044</td>\n",
       "      <td>0.870420</td>\n",
       "    </tr>\n",
       "    <tr>\n",
       "      <td>2</td>\n",
       "      <td>Логистическая регрессия</td>\n",
       "      <td>0.307692</td>\n",
       "      <td>0.524675</td>\n",
       "      <td>0.530290</td>\n",
       "      <td>0.787587</td>\n",
       "      <td>0.793822</td>\n",
       "      <td>0.793776</td>\n",
       "    </tr>\n",
       "  </tbody>\n",
       "</table>\n",
       "</div>"
      ],
      "text/plain": [
       "           Алгоритм Модели        F1  F1-upsampled  F1-balanced   AUC-ROC  \\\n",
       "0           Дерево решений  0.578788      0.575926     0.578024  0.841034   \n",
       "1            Случайный лес  0.598160      0.626374     0.578024  0.871056   \n",
       "2  Логистическая регрессия  0.307692      0.524675     0.530290  0.787587   \n",
       "\n",
       "   AUC-ROC-upsampled  AUC-ROC-balanced  \n",
       "0           0.823428          0.841034  \n",
       "1           0.864044          0.870420  \n",
       "2           0.793822          0.793776  "
      ]
     },
     "execution_count": 65,
     "metadata": {},
     "output_type": "execute_result"
    }
   ],
   "source": [
    "table_resultt"
   ]
  },
  {
   "cell_type": "markdown",
   "metadata": {},
   "source": [
    "<div style=\"border:solid green 2px; padding: 20px\"> \n",
    "    \n",
    "- Необходимо было спрогнозировать __отток клиентов__, уйдёт клиент из банка в ближайшее время или нет. Были передоставлены исторические данные о поведении клиентов и расторжении договоров с банком. \n",
    "- Целью данного проект являлось требование построить модель  с __предельно большим значением *F1*-меры__.<br> \n",
    "Необходимо было  довести метрику до __0.59__.\n",
    "- Для выполнения задания был получен датасет с архивными данными по клиентам банка. Таблица состоит из 10000 строк и 11 столбцов  и содержит  информацию о 10000 клинтах c 11 параметрами отнасящимся к каждому клиенту. \n",
    "- Целевой признак (факт ухода клиента) в столбце __exited__, является задачей двоичной (бинарной) классификации (1 == клиент ушел, 0 == клиент остался), для её реализации были использованы классификаторы библиотеки sklearn.\n",
    "- Были обнаружены и впоследствии заменены на 0, пропуски в столбце __tenure__, удалены не нужные столбци __rownumber__, __customerid__, __surname__, __actual_status__. Методом прямого кодирования  __OHE__ в столбцах __geography__ и  __gender__ были преобразованы категориальные признаки в числовые. \n",
    "- Произведено масштабирование признаков методом стандартизации и разделение  на выборки в соотношении 3:1:1. \n",
    "   \n",
    "- На этапе исследования задания, без учета дисбаланса классов, были обучены с оптимально подобранными гиперпараметрами модели  **Дерево решений, Случайный лес, Логистическая Регрессия** , здесь лучший  результат метрики точность модели F1, показал алгоритм    __Случайный лес__   `F1 = 0.598160`\n",
    "- В исследуемой задаче наблюдался явный дисбаланс классов - Остальсь около 80% и ушло порядка 20% клиентов. Для исправления дисбаланса применили технику __Upsampling__ (увеличение выборки) и метод __Взвешивание классов__(с аргументом class_weight='balanced')\n",
    "- Устранив дисбаланс классов техникой __Upsampling__ получили наилучший результат исследования на модели __Случайный лес__<br>\n",
    "`F1 =0.626374` Модель показала лучший результат и была использована  на этапе тестирования. Перед тестирование модель была заново обучена на объединенных обучащей и валидационной выбороках.\n",
    "    \n",
    "На тестовой выборке модель также показала хороший результат метрики точность модели `F1 = 0.6071044133476857` и это позволяет утверждать, что Алгоритм модели __Случайный лес__  с примененным к нему техникой __Upsampling__ точно предсказывает положительный класс.\n",
    "\n",
    "\n",
    "</div>"
   ]
  },
  {
   "cell_type": "markdown",
   "metadata": {},
   "source": [
    "## Чек-лист готовности проекта"
   ]
  },
  {
   "cell_type": "markdown",
   "metadata": {},
   "source": [
    "Поставьте 'x' в выполненных пунктах. Далее нажмите Shift+Enter."
   ]
  },
  {
   "cell_type": "markdown",
   "metadata": {},
   "source": [
    "- [x]  Jupyter Notebook открыт\n",
    "- [x]  Весь код выполняется без ошибок\n",
    "- [x]  Ячейки с кодом расположены в порядке исполнения\n",
    "- [x]  Выполнен шаг 1: данные подготовлены\n",
    "- [x]  Выполнен шаг 2: задача исследована\n",
    "    - [x]  Исследован баланс классов\n",
    "    - [x]  Изучены модели без учёта дисбаланса\n",
    "    - [x]  Написаны выводы по результатам исследования\n",
    "- [x]  Выполнен шаг 3: учтён дисбаланс\n",
    "    - [x]  Применено несколько способов борьбы с дисбалансом\n",
    "    - [x]  Написаны выводы по результатам исследования\n",
    "- [x]  Выполнен шаг 4: проведено тестирование\n",
    "- [x]  Удалось достичь *F1*-меры не менее 0.59\n",
    "- [x]  Исследована метрика *AUC-ROC*"
   ]
  },
  {
   "cell_type": "markdown",
   "metadata": {},
   "source": [
    "#    <br>[**В начало**](#step1)"
   ]
  }
 ],
 "metadata": {
  "ExecuteTimeLog": [
   {
    "duration": 1159,
    "start_time": "2021-07-13T23:08:27.238Z"
   },
   {
    "duration": 30,
    "start_time": "2021-07-13T23:08:29.697Z"
   },
   {
    "duration": 339,
    "start_time": "2021-07-14T22:17:17.402Z"
   },
   {
    "duration": 1139,
    "start_time": "2021-07-14T22:17:22.253Z"
   },
   {
    "duration": 30,
    "start_time": "2021-07-14T22:17:23.394Z"
   },
   {
    "duration": 5,
    "start_time": "2021-07-14T22:17:23.426Z"
   },
   {
    "duration": 350,
    "start_time": "2021-07-14T22:17:57.000Z"
   },
   {
    "duration": 19,
    "start_time": "2021-07-14T22:18:17.246Z"
   },
   {
    "duration": 272,
    "start_time": "2021-07-14T22:18:31.352Z"
   },
   {
    "duration": 18,
    "start_time": "2021-07-14T22:20:00.993Z"
   },
   {
    "duration": 8,
    "start_time": "2021-07-14T22:20:02.780Z"
   },
   {
    "duration": 338,
    "start_time": "2021-07-14T22:21:25.684Z"
   },
   {
    "duration": 32,
    "start_time": "2021-07-14T22:32:07.565Z"
   },
   {
    "duration": 11,
    "start_time": "2021-07-14T22:34:21.612Z"
   },
   {
    "duration": 17,
    "start_time": "2021-07-14T22:34:34.048Z"
   },
   {
    "duration": 403,
    "start_time": "2021-07-15T20:19:35.000Z"
   },
   {
    "duration": 1589,
    "start_time": "2021-07-15T20:19:40.229Z"
   },
   {
    "duration": 35,
    "start_time": "2021-07-15T20:19:41.821Z"
   },
   {
    "duration": 9,
    "start_time": "2021-07-15T20:19:41.859Z"
   },
   {
    "duration": 32,
    "start_time": "2021-07-15T20:19:41.870Z"
   },
   {
    "duration": 12,
    "start_time": "2021-07-15T20:19:41.904Z"
   },
   {
    "duration": 90,
    "start_time": "2021-07-15T20:19:41.918Z"
   },
   {
    "duration": 18,
    "start_time": "2021-07-15T20:19:42.010Z"
   },
   {
    "duration": 49,
    "start_time": "2021-07-15T20:19:42.032Z"
   },
   {
    "duration": 20,
    "start_time": "2021-07-15T20:19:42.084Z"
   },
   {
    "duration": 577,
    "start_time": "2021-07-15T20:20:17.202Z"
   },
   {
    "duration": 1573,
    "start_time": "2021-07-15T20:20:38.598Z"
   },
   {
    "duration": 37,
    "start_time": "2021-07-15T20:20:40.174Z"
   },
   {
    "duration": 9,
    "start_time": "2021-07-15T20:20:40.214Z"
   },
   {
    "duration": 58,
    "start_time": "2021-07-15T20:20:40.226Z"
   },
   {
    "duration": 14,
    "start_time": "2021-07-15T20:20:40.287Z"
   },
   {
    "duration": 88,
    "start_time": "2021-07-15T20:20:40.304Z"
   },
   {
    "duration": 20,
    "start_time": "2021-07-15T20:20:40.396Z"
   },
   {
    "duration": 55,
    "start_time": "2021-07-15T20:20:40.420Z"
   },
   {
    "duration": 23,
    "start_time": "2021-07-15T20:20:40.478Z"
   },
   {
    "duration": 1533,
    "start_time": "2021-07-15T20:20:40.504Z"
   },
   {
    "duration": 4,
    "start_time": "2021-07-15T20:31:17.521Z"
   },
   {
    "duration": 30,
    "start_time": "2021-07-15T20:31:20.589Z"
   },
   {
    "duration": 17,
    "start_time": "2021-07-15T20:32:21.961Z"
   },
   {
    "duration": 1546,
    "start_time": "2021-07-15T20:35:33.363Z"
   },
   {
    "duration": 38,
    "start_time": "2021-07-15T20:35:34.911Z"
   },
   {
    "duration": 8,
    "start_time": "2021-07-15T20:35:34.952Z"
   },
   {
    "duration": 33,
    "start_time": "2021-07-15T20:35:34.966Z"
   },
   {
    "duration": 12,
    "start_time": "2021-07-15T20:35:35.001Z"
   },
   {
    "duration": 98,
    "start_time": "2021-07-15T20:35:35.015Z"
   },
   {
    "duration": 17,
    "start_time": "2021-07-15T20:35:35.116Z"
   },
   {
    "duration": 44,
    "start_time": "2021-07-15T20:35:35.135Z"
   },
   {
    "duration": 232,
    "start_time": "2021-07-15T20:35:35.183Z"
   },
   {
    "duration": 567,
    "start_time": "2021-07-15T20:35:34.850Z"
   },
   {
    "duration": 18,
    "start_time": "2021-07-15T20:35:52.404Z"
   },
   {
    "duration": 114,
    "start_time": "2021-07-15T20:35:59.348Z"
   },
   {
    "duration": 17,
    "start_time": "2021-07-15T20:36:00.638Z"
   },
   {
    "duration": 1589,
    "start_time": "2021-07-15T20:36:34.427Z"
   },
   {
    "duration": 620,
    "start_time": "2021-07-15T20:36:35.399Z"
   },
   {
    "duration": 31,
    "start_time": "2021-07-15T20:37:22.994Z"
   },
   {
    "duration": 1376,
    "start_time": "2021-07-15T20:38:58.319Z"
   },
   {
    "duration": 2235,
    "start_time": "2021-07-15T20:39:38.398Z"
   },
   {
    "duration": 5,
    "start_time": "2021-07-15T20:41:18.310Z"
   },
   {
    "duration": 17,
    "start_time": "2021-07-15T20:41:23.306Z"
   },
   {
    "duration": 1536,
    "start_time": "2021-07-15T20:41:41.965Z"
   },
   {
    "duration": 35,
    "start_time": "2021-07-15T20:41:43.504Z"
   },
   {
    "duration": 7,
    "start_time": "2021-07-15T20:41:43.542Z"
   },
   {
    "duration": 42,
    "start_time": "2021-07-15T20:41:43.552Z"
   },
   {
    "duration": 13,
    "start_time": "2021-07-15T20:41:43.596Z"
   },
   {
    "duration": 91,
    "start_time": "2021-07-15T20:41:43.612Z"
   },
   {
    "duration": 20,
    "start_time": "2021-07-15T20:41:43.706Z"
   },
   {
    "duration": 48,
    "start_time": "2021-07-15T20:41:43.730Z"
   },
   {
    "duration": 31,
    "start_time": "2021-07-15T20:41:43.781Z"
   },
   {
    "duration": 5,
    "start_time": "2021-07-15T20:41:43.815Z"
   },
   {
    "duration": 51,
    "start_time": "2021-07-15T20:41:43.823Z"
   },
   {
    "duration": 9,
    "start_time": "2021-07-15T20:47:34.350Z"
   },
   {
    "duration": 11,
    "start_time": "2021-07-15T20:50:00.689Z"
   },
   {
    "duration": 17,
    "start_time": "2021-07-15T21:23:48.332Z"
   },
   {
    "duration": 409,
    "start_time": "2021-07-16T06:39:36.490Z"
   },
   {
    "duration": 427,
    "start_time": "2021-07-16T06:40:00.728Z"
   },
   {
    "duration": 1543,
    "start_time": "2021-07-16T06:40:11.495Z"
   },
   {
    "duration": 41,
    "start_time": "2021-07-16T06:40:13.041Z"
   },
   {
    "duration": 9,
    "start_time": "2021-07-16T06:40:13.568Z"
   },
   {
    "duration": 467,
    "start_time": "2021-07-16T06:40:25.283Z"
   },
   {
    "duration": 399,
    "start_time": "2021-07-16T06:40:46.356Z"
   },
   {
    "duration": 31,
    "start_time": "2021-07-16T06:40:52.933Z"
   },
   {
    "duration": 394,
    "start_time": "2021-07-16T06:40:53.892Z"
   },
   {
    "duration": 12,
    "start_time": "2021-07-16T06:40:54.812Z"
   },
   {
    "duration": 396,
    "start_time": "2021-07-16T06:41:06.655Z"
   },
   {
    "duration": 10,
    "start_time": "2021-07-16T06:41:32.196Z"
   },
   {
    "duration": 12,
    "start_time": "2021-07-16T06:42:41.018Z"
   },
   {
    "duration": 11,
    "start_time": "2021-07-16T06:44:28.116Z"
   },
   {
    "duration": 9,
    "start_time": "2021-07-16T06:45:00.605Z"
   },
   {
    "duration": 7,
    "start_time": "2021-07-16T06:46:51.285Z"
   },
   {
    "duration": 6,
    "start_time": "2021-07-16T06:47:05.489Z"
   },
   {
    "duration": 7,
    "start_time": "2021-07-16T06:47:50.724Z"
   },
   {
    "duration": 7,
    "start_time": "2021-07-16T10:43:25.515Z"
   },
   {
    "duration": 8,
    "start_time": "2021-07-16T10:43:35.194Z"
   },
   {
    "duration": 23,
    "start_time": "2021-07-16T10:49:31.193Z"
   },
   {
    "duration": 1230,
    "start_time": "2021-07-16T10:49:39.757Z"
   },
   {
    "duration": 787,
    "start_time": "2021-07-16T10:54:10.749Z"
   },
   {
    "duration": 1177,
    "start_time": "2021-07-16T10:54:23.231Z"
   },
   {
    "duration": 1778,
    "start_time": "2021-07-16T10:54:37.427Z"
   },
   {
    "duration": 1156,
    "start_time": "2021-07-16T10:54:58.075Z"
   },
   {
    "duration": 1091,
    "start_time": "2021-07-16T12:44:14.407Z"
   },
   {
    "duration": 261,
    "start_time": "2021-07-16T12:44:40.641Z"
   },
   {
    "duration": 1391,
    "start_time": "2021-07-16T12:45:00.003Z"
   },
   {
    "duration": 23,
    "start_time": "2021-07-16T12:55:38.293Z"
   },
   {
    "duration": 31,
    "start_time": "2021-07-16T12:55:56.519Z"
   },
   {
    "duration": 4,
    "start_time": "2021-07-16T12:56:06.532Z"
   },
   {
    "duration": 18,
    "start_time": "2021-07-16T12:56:07.318Z"
   },
   {
    "duration": 21,
    "start_time": "2021-07-16T12:56:09.007Z"
   },
   {
    "duration": 30,
    "start_time": "2021-07-16T12:56:09.853Z"
   },
   {
    "duration": 1647,
    "start_time": "2021-07-16T12:56:10.470Z"
   },
   {
    "duration": 1958,
    "start_time": "2021-07-16T12:56:36.631Z"
   },
   {
    "duration": 10,
    "start_time": "2021-07-16T12:56:50.881Z"
   },
   {
    "duration": 1306,
    "start_time": "2021-07-16T12:57:08.886Z"
   },
   {
    "duration": 18,
    "start_time": "2021-07-16T12:59:34.090Z"
   },
   {
    "duration": 315,
    "start_time": "2021-07-16T13:12:53.036Z"
   },
   {
    "duration": 316,
    "start_time": "2021-07-16T13:13:10.235Z"
   },
   {
    "duration": 15,
    "start_time": "2021-07-16T13:14:05.799Z"
   },
   {
    "duration": 328,
    "start_time": "2021-07-16T13:14:07.229Z"
   },
   {
    "duration": 1586,
    "start_time": "2021-07-16T13:14:38.751Z"
   },
   {
    "duration": 39,
    "start_time": "2021-07-16T13:14:40.340Z"
   },
   {
    "duration": 8,
    "start_time": "2021-07-16T13:14:40.382Z"
   },
   {
    "duration": 34,
    "start_time": "2021-07-16T13:14:40.393Z"
   },
   {
    "duration": 8,
    "start_time": "2021-07-16T13:14:40.429Z"
   },
   {
    "duration": 9,
    "start_time": "2021-07-16T13:14:40.440Z"
   },
   {
    "duration": 40,
    "start_time": "2021-07-16T13:14:40.451Z"
   },
   {
    "duration": 58,
    "start_time": "2021-07-16T13:14:40.495Z"
   },
   {
    "duration": 39,
    "start_time": "2021-07-16T13:14:40.555Z"
   },
   {
    "duration": 19,
    "start_time": "2021-07-16T13:14:40.596Z"
   },
   {
    "duration": 3,
    "start_time": "2021-07-16T13:14:40.618Z"
   },
   {
    "duration": 32,
    "start_time": "2021-07-16T13:14:40.624Z"
   },
   {
    "duration": 29,
    "start_time": "2021-07-16T13:14:40.685Z"
   },
   {
    "duration": 17,
    "start_time": "2021-07-16T13:14:40.716Z"
   },
   {
    "duration": 960,
    "start_time": "2021-07-16T13:14:40.735Z"
   },
   {
    "duration": 975,
    "start_time": "2021-07-16T13:17:09.443Z"
   },
   {
    "duration": 481,
    "start_time": "2021-07-16T13:19:07.889Z"
   },
   {
    "duration": 1200,
    "start_time": "2021-07-16T13:19:16.670Z"
   },
   {
    "duration": 1520,
    "start_time": "2021-07-16T13:19:34.114Z"
   },
   {
    "duration": 39,
    "start_time": "2021-07-16T13:19:35.637Z"
   },
   {
    "duration": 8,
    "start_time": "2021-07-16T13:19:35.679Z"
   },
   {
    "duration": 42,
    "start_time": "2021-07-16T13:19:35.690Z"
   },
   {
    "duration": 8,
    "start_time": "2021-07-16T13:19:35.735Z"
   },
   {
    "duration": 19,
    "start_time": "2021-07-16T13:19:35.746Z"
   },
   {
    "duration": 16,
    "start_time": "2021-07-16T13:19:35.787Z"
   },
   {
    "duration": 63,
    "start_time": "2021-07-16T13:19:35.807Z"
   },
   {
    "duration": 28,
    "start_time": "2021-07-16T13:19:35.873Z"
   },
   {
    "duration": 18,
    "start_time": "2021-07-16T13:19:35.904Z"
   },
   {
    "duration": 4,
    "start_time": "2021-07-16T13:19:35.924Z"
   },
   {
    "duration": 57,
    "start_time": "2021-07-16T13:19:35.930Z"
   },
   {
    "duration": 25,
    "start_time": "2021-07-16T13:19:35.990Z"
   },
   {
    "duration": 19,
    "start_time": "2021-07-16T13:19:36.018Z"
   },
   {
    "duration": 941,
    "start_time": "2021-07-16T13:19:36.040Z"
   },
   {
    "duration": 1124,
    "start_time": "2021-07-16T13:19:57.762Z"
   },
   {
    "duration": 108,
    "start_time": "2021-07-16T13:20:38.350Z"
   },
   {
    "duration": 15,
    "start_time": "2021-07-16T13:20:43.511Z"
   },
   {
    "duration": 481,
    "start_time": "2021-07-16T13:21:01.951Z"
   },
   {
    "duration": 1599,
    "start_time": "2021-07-16T13:21:13.749Z"
   },
   {
    "duration": 40,
    "start_time": "2021-07-16T13:21:15.351Z"
   },
   {
    "duration": 8,
    "start_time": "2021-07-16T13:21:15.395Z"
   },
   {
    "duration": 38,
    "start_time": "2021-07-16T13:21:15.406Z"
   },
   {
    "duration": 8,
    "start_time": "2021-07-16T13:21:15.447Z"
   },
   {
    "duration": 33,
    "start_time": "2021-07-16T13:21:15.458Z"
   },
   {
    "duration": 17,
    "start_time": "2021-07-16T13:21:15.493Z"
   },
   {
    "duration": 87,
    "start_time": "2021-07-16T13:21:15.515Z"
   },
   {
    "duration": 19,
    "start_time": "2021-07-16T13:21:15.605Z"
   },
   {
    "duration": 19,
    "start_time": "2021-07-16T13:21:15.627Z"
   },
   {
    "duration": 36,
    "start_time": "2021-07-16T13:21:15.649Z"
   },
   {
    "duration": 22,
    "start_time": "2021-07-16T13:21:15.688Z"
   },
   {
    "duration": 13,
    "start_time": "2021-07-16T13:21:15.713Z"
   },
   {
    "duration": 15,
    "start_time": "2021-07-16T13:21:15.729Z"
   },
   {
    "duration": 52,
    "start_time": "2021-07-16T13:21:15.747Z"
   },
   {
    "duration": 918,
    "start_time": "2021-07-16T13:21:15.802Z"
   },
   {
    "duration": 1095,
    "start_time": "2021-07-16T13:21:50.843Z"
   },
   {
    "duration": 11,
    "start_time": "2021-07-16T13:28:23.931Z"
   },
   {
    "duration": 15,
    "start_time": "2021-07-16T13:36:15.801Z"
   },
   {
    "duration": 7600,
    "start_time": "2021-07-16T13:36:53.189Z"
   },
   {
    "duration": 9,
    "start_time": "2021-07-16T13:37:07.837Z"
   },
   {
    "duration": 295,
    "start_time": "2021-07-16T13:42:04.447Z"
   },
   {
    "duration": 304,
    "start_time": "2021-07-16T13:42:15.967Z"
   },
   {
    "duration": 6,
    "start_time": "2021-07-16T13:42:37.876Z"
   },
   {
    "duration": 6,
    "start_time": "2021-07-16T13:43:05.949Z"
   },
   {
    "duration": 16,
    "start_time": "2021-07-16T13:43:21.189Z"
   },
   {
    "duration": 25,
    "start_time": "2021-07-16T13:56:21.588Z"
   },
   {
    "duration": 8,
    "start_time": "2021-07-16T14:04:59.599Z"
   },
   {
    "duration": 33,
    "start_time": "2021-07-16T14:05:01.080Z"
   },
   {
    "duration": 8,
    "start_time": "2021-07-16T14:05:33.043Z"
   },
   {
    "duration": 28,
    "start_time": "2021-07-16T14:05:34.596Z"
   },
   {
    "duration": 15,
    "start_time": "2021-07-16T14:11:56.156Z"
   },
   {
    "duration": 24,
    "start_time": "2021-07-16T14:12:44.043Z"
   },
   {
    "duration": 9,
    "start_time": "2021-07-16T14:14:40.120Z"
   },
   {
    "duration": 31,
    "start_time": "2021-07-16T14:14:40.804Z"
   },
   {
    "duration": 9,
    "start_time": "2021-07-16T14:14:55.087Z"
   },
   {
    "duration": 32,
    "start_time": "2021-07-16T14:14:56.716Z"
   },
   {
    "duration": 1472,
    "start_time": "2021-07-16T14:15:06.130Z"
   },
   {
    "duration": 48,
    "start_time": "2021-07-16T14:15:07.605Z"
   },
   {
    "duration": 11,
    "start_time": "2021-07-16T14:15:07.657Z"
   },
   {
    "duration": 31,
    "start_time": "2021-07-16T14:15:07.684Z"
   },
   {
    "duration": 8,
    "start_time": "2021-07-16T14:15:07.718Z"
   },
   {
    "duration": 6,
    "start_time": "2021-07-16T14:15:07.729Z"
   },
   {
    "duration": 53,
    "start_time": "2021-07-16T14:15:07.738Z"
   },
   {
    "duration": 58,
    "start_time": "2021-07-16T14:15:07.794Z"
   },
   {
    "duration": 41,
    "start_time": "2021-07-16T14:15:07.855Z"
   },
   {
    "duration": 19,
    "start_time": "2021-07-16T14:15:07.898Z"
   },
   {
    "duration": 12,
    "start_time": "2021-07-16T14:15:07.919Z"
   },
   {
    "duration": 29,
    "start_time": "2021-07-16T14:15:07.934Z"
   },
   {
    "duration": 20,
    "start_time": "2021-07-16T14:15:07.966Z"
   },
   {
    "duration": 25,
    "start_time": "2021-07-16T14:15:07.989Z"
   },
   {
    "duration": 15,
    "start_time": "2021-07-16T14:15:08.017Z"
   },
   {
    "duration": 25,
    "start_time": "2021-07-16T14:15:08.034Z"
   },
   {
    "duration": 24,
    "start_time": "2021-07-16T14:15:08.062Z"
   },
   {
    "duration": 19,
    "start_time": "2021-07-16T14:15:08.089Z"
   },
   {
    "duration": 1133,
    "start_time": "2021-07-16T14:15:08.111Z"
   },
   {
    "duration": 9,
    "start_time": "2021-07-16T14:15:09.246Z"
   },
   {
    "duration": 52,
    "start_time": "2021-07-16T14:15:09.258Z"
   },
   {
    "duration": 9575,
    "start_time": "2021-07-16T14:15:09.313Z"
   },
   {
    "duration": -103,
    "start_time": "2021-07-16T14:15:18.994Z"
   },
   {
    "duration": 16,
    "start_time": "2021-07-16T14:18:57.416Z"
   },
   {
    "duration": 9,
    "start_time": "2021-07-16T14:26:09.198Z"
   },
   {
    "duration": 6,
    "start_time": "2021-07-16T14:26:14.634Z"
   },
   {
    "duration": 380,
    "start_time": "2021-07-16T14:27:34.642Z"
   },
   {
    "duration": 352,
    "start_time": "2021-07-16T14:28:25.712Z"
   },
   {
    "duration": 325,
    "start_time": "2021-07-16T14:28:44.194Z"
   },
   {
    "duration": 450,
    "start_time": "2021-07-16T14:29:32.881Z"
   },
   {
    "duration": 357,
    "start_time": "2021-07-16T14:30:15.441Z"
   },
   {
    "duration": 358,
    "start_time": "2021-07-16T14:30:29.676Z"
   },
   {
    "duration": 268,
    "start_time": "2021-07-16T14:30:49.098Z"
   },
   {
    "duration": 271,
    "start_time": "2021-07-16T14:31:03.618Z"
   },
   {
    "duration": 284,
    "start_time": "2021-07-16T14:31:49.044Z"
   },
   {
    "duration": 236,
    "start_time": "2021-07-16T14:32:05.120Z"
   },
   {
    "duration": 229,
    "start_time": "2021-07-16T14:32:16.994Z"
   },
   {
    "duration": 1577,
    "start_time": "2021-07-19T20:07:04.447Z"
   },
   {
    "duration": 47,
    "start_time": "2021-07-19T20:07:06.027Z"
   },
   {
    "duration": 8,
    "start_time": "2021-07-19T20:07:06.077Z"
   },
   {
    "duration": 48,
    "start_time": "2021-07-19T20:07:06.087Z"
   },
   {
    "duration": 18,
    "start_time": "2021-07-19T20:07:06.138Z"
   },
   {
    "duration": 8,
    "start_time": "2021-07-19T20:07:06.158Z"
   },
   {
    "duration": 15,
    "start_time": "2021-07-19T20:07:06.168Z"
   },
   {
    "duration": 79,
    "start_time": "2021-07-19T20:07:06.185Z"
   },
   {
    "duration": 18,
    "start_time": "2021-07-19T20:07:06.269Z"
   },
   {
    "duration": 29,
    "start_time": "2021-07-19T20:07:06.291Z"
   },
   {
    "duration": 33,
    "start_time": "2021-07-19T20:07:06.323Z"
   },
   {
    "duration": 14,
    "start_time": "2021-07-19T20:07:06.359Z"
   },
   {
    "duration": 3,
    "start_time": "2021-07-19T20:07:06.376Z"
   },
   {
    "duration": 25,
    "start_time": "2021-07-19T20:07:06.382Z"
   },
   {
    "duration": 45,
    "start_time": "2021-07-19T20:07:06.410Z"
   },
   {
    "duration": 30,
    "start_time": "2021-07-19T20:07:06.457Z"
   },
   {
    "duration": 15,
    "start_time": "2021-07-19T20:07:06.490Z"
   },
   {
    "duration": 25,
    "start_time": "2021-07-19T20:07:06.508Z"
   },
   {
    "duration": 1082,
    "start_time": "2021-07-19T20:07:06.536Z"
   },
   {
    "duration": 9,
    "start_time": "2021-07-19T20:07:07.621Z"
   },
   {
    "duration": 53,
    "start_time": "2021-07-19T20:07:07.632Z"
   },
   {
    "duration": 15,
    "start_time": "2021-07-19T20:07:07.688Z"
   },
   {
    "duration": 248,
    "start_time": "2021-07-19T20:07:07.706Z"
   },
   {
    "duration": 7,
    "start_time": "2021-07-19T20:07:07.956Z"
   },
   {
    "duration": 20,
    "start_time": "2021-07-19T20:07:07.965Z"
   },
   {
    "duration": 7,
    "start_time": "2021-07-19T20:07:07.987Z"
   },
   {
    "duration": 18,
    "start_time": "2021-07-19T20:07:08.000Z"
   },
   {
    "duration": 16,
    "start_time": "2021-07-19T20:07:08.054Z"
   },
   {
    "duration": 10,
    "start_time": "2021-07-19T20:07:08.073Z"
   },
   {
    "duration": 6,
    "start_time": "2021-07-19T20:07:08.085Z"
   },
   {
    "duration": 61,
    "start_time": "2021-07-19T20:07:08.093Z"
   },
   {
    "duration": 13,
    "start_time": "2021-07-19T20:07:08.157Z"
   },
   {
    "duration": 9,
    "start_time": "2021-07-19T20:07:08.172Z"
   },
   {
    "duration": 7,
    "start_time": "2021-07-19T20:07:08.183Z"
   },
   {
    "duration": 8,
    "start_time": "2021-07-19T20:07:08.193Z"
   },
   {
    "duration": 54,
    "start_time": "2021-07-19T20:07:08.204Z"
   },
   {
    "duration": 4,
    "start_time": "2021-07-19T20:07:08.260Z"
   },
   {
    "duration": 18,
    "start_time": "2021-07-19T20:07:08.266Z"
   },
   {
    "duration": 32,
    "start_time": "2021-07-19T20:07:08.287Z"
   },
   {
    "duration": 71,
    "start_time": "2021-07-19T20:07:08.321Z"
   },
   {
    "duration": 8,
    "start_time": "2021-07-19T20:07:08.394Z"
   },
   {
    "duration": 2839,
    "start_time": "2021-07-19T20:07:08.405Z"
   },
   {
    "duration": 13,
    "start_time": "2021-07-19T20:07:11.246Z"
   },
   {
    "duration": 549,
    "start_time": "2021-07-19T20:07:11.262Z"
   },
   {
    "duration": 491,
    "start_time": "2021-07-19T20:07:11.813Z"
   },
   {
    "duration": 82256,
    "start_time": "2021-07-19T20:07:12.307Z"
   },
   {
    "duration": 7,
    "start_time": "2021-07-19T20:08:34.566Z"
   },
   {
    "duration": 522,
    "start_time": "2021-07-19T20:08:34.576Z"
   },
   {
    "duration": 829,
    "start_time": "2021-07-19T20:08:35.100Z"
   },
   {
    "duration": 127,
    "start_time": "2021-07-19T20:08:35.932Z"
   },
   {
    "duration": 705,
    "start_time": "2021-07-19T20:08:36.062Z"
   },
   {
    "duration": 7,
    "start_time": "2021-07-19T20:08:36.770Z"
   },
   {
    "duration": 26,
    "start_time": "2021-07-19T20:08:36.779Z"
   },
   {
    "duration": 509,
    "start_time": "2021-07-19T20:08:36.808Z"
   },
   {
    "duration": 942,
    "start_time": "2021-07-19T20:08:37.320Z"
   },
   {
    "duration": 695,
    "start_time": "2021-07-19T20:08:38.266Z"
   },
   {
    "duration": 552,
    "start_time": "2021-07-19T20:08:38.965Z"
   },
   {
    "duration": 818,
    "start_time": "2021-07-19T20:08:39.520Z"
   },
   {
    "duration": 648,
    "start_time": "2021-07-19T20:08:40.341Z"
   },
   {
    "duration": 18,
    "start_time": "2021-07-19T20:08:40.991Z"
   },
   {
    "duration": 17,
    "start_time": "2021-07-19T20:08:41.012Z"
   },
   {
    "duration": 23,
    "start_time": "2021-07-19T20:08:41.056Z"
   },
   {
    "duration": 1085,
    "start_time": "2021-07-19T20:08:41.082Z"
   },
   {
    "duration": 1677,
    "start_time": "2021-07-19T20:13:30.112Z"
   },
   {
    "duration": 39,
    "start_time": "2021-07-19T20:13:31.793Z"
   },
   {
    "duration": 10,
    "start_time": "2021-07-19T20:13:31.835Z"
   },
   {
    "duration": 40,
    "start_time": "2021-07-19T20:13:31.855Z"
   },
   {
    "duration": 9,
    "start_time": "2021-07-19T20:13:31.897Z"
   },
   {
    "duration": 50,
    "start_time": "2021-07-19T20:13:31.908Z"
   },
   {
    "duration": 11,
    "start_time": "2021-07-19T20:13:31.960Z"
   },
   {
    "duration": 81,
    "start_time": "2021-07-19T20:13:31.975Z"
   },
   {
    "duration": 17,
    "start_time": "2021-07-19T20:13:32.059Z"
   },
   {
    "duration": 24,
    "start_time": "2021-07-19T20:13:32.078Z"
   },
   {
    "duration": 5,
    "start_time": "2021-07-19T20:13:32.105Z"
   },
   {
    "duration": 49,
    "start_time": "2021-07-19T20:13:32.112Z"
   },
   {
    "duration": 4,
    "start_time": "2021-07-19T20:13:32.163Z"
   },
   {
    "duration": 33,
    "start_time": "2021-07-19T20:13:32.169Z"
   },
   {
    "duration": 8,
    "start_time": "2021-07-19T20:13:32.204Z"
   },
   {
    "duration": 21,
    "start_time": "2021-07-19T20:13:32.214Z"
   },
   {
    "duration": 10,
    "start_time": "2021-07-19T20:13:32.255Z"
   },
   {
    "duration": 23,
    "start_time": "2021-07-19T20:13:32.267Z"
   },
   {
    "duration": 1120,
    "start_time": "2021-07-19T20:13:32.292Z"
   },
   {
    "duration": 8,
    "start_time": "2021-07-19T20:13:33.414Z"
   },
   {
    "duration": 48,
    "start_time": "2021-07-19T20:13:33.425Z"
   },
   {
    "duration": 15,
    "start_time": "2021-07-19T20:13:33.476Z"
   },
   {
    "duration": 248,
    "start_time": "2021-07-19T20:13:33.497Z"
   },
   {
    "duration": 7,
    "start_time": "2021-07-19T20:13:33.755Z"
   },
   {
    "duration": 30,
    "start_time": "2021-07-19T20:13:33.764Z"
   },
   {
    "duration": 14,
    "start_time": "2021-07-19T20:13:33.796Z"
   },
   {
    "duration": 24,
    "start_time": "2021-07-19T20:13:33.812Z"
   },
   {
    "duration": 24,
    "start_time": "2021-07-19T20:13:33.839Z"
   },
   {
    "duration": 19,
    "start_time": "2021-07-19T20:13:33.865Z"
   },
   {
    "duration": 15,
    "start_time": "2021-07-19T20:13:33.887Z"
   },
   {
    "duration": 40,
    "start_time": "2021-07-19T20:13:33.904Z"
   },
   {
    "duration": 22,
    "start_time": "2021-07-19T20:13:33.946Z"
   },
   {
    "duration": 31,
    "start_time": "2021-07-19T20:13:33.970Z"
   },
   {
    "duration": 24,
    "start_time": "2021-07-19T20:13:34.003Z"
   },
   {
    "duration": 33,
    "start_time": "2021-07-19T20:13:34.029Z"
   },
   {
    "duration": 38,
    "start_time": "2021-07-19T20:13:34.064Z"
   },
   {
    "duration": 14,
    "start_time": "2021-07-19T20:13:34.104Z"
   },
   {
    "duration": 23,
    "start_time": "2021-07-19T20:13:34.120Z"
   },
   {
    "duration": 56,
    "start_time": "2021-07-19T20:13:34.146Z"
   },
   {
    "duration": 47,
    "start_time": "2021-07-19T20:13:34.205Z"
   },
   {
    "duration": 9,
    "start_time": "2021-07-19T20:13:34.254Z"
   },
   {
    "duration": 2738,
    "start_time": "2021-07-19T20:13:34.265Z"
   },
   {
    "duration": 6,
    "start_time": "2021-07-19T20:13:37.005Z"
   },
   {
    "duration": 505,
    "start_time": "2021-07-19T20:13:37.014Z"
   },
   {
    "duration": 480,
    "start_time": "2021-07-19T20:13:37.522Z"
   },
   {
    "duration": 82195,
    "start_time": "2021-07-19T20:13:38.004Z"
   },
   {
    "duration": 6,
    "start_time": "2021-07-19T20:15:00.201Z"
   },
   {
    "duration": 495,
    "start_time": "2021-07-19T20:15:00.209Z"
   },
   {
    "duration": 801,
    "start_time": "2021-07-19T20:15:00.707Z"
   },
   {
    "duration": 51,
    "start_time": "2021-07-19T20:15:01.510Z"
   },
   {
    "duration": 753,
    "start_time": "2021-07-19T20:15:01.564Z"
   },
   {
    "duration": 6,
    "start_time": "2021-07-19T20:15:02.319Z"
   },
   {
    "duration": 43,
    "start_time": "2021-07-19T20:15:02.329Z"
   },
   {
    "duration": 500,
    "start_time": "2021-07-19T20:15:02.375Z"
   },
   {
    "duration": 954,
    "start_time": "2021-07-19T20:15:02.877Z"
   },
   {
    "duration": 751,
    "start_time": "2021-07-19T20:15:03.834Z"
   },
   {
    "duration": 499,
    "start_time": "2021-07-19T20:15:04.587Z"
   },
   {
    "duration": 817,
    "start_time": "2021-07-19T20:15:05.088Z"
   },
   {
    "duration": 679,
    "start_time": "2021-07-19T20:15:05.908Z"
   },
   {
    "duration": 18,
    "start_time": "2021-07-19T20:15:06.589Z"
   },
   {
    "duration": 18,
    "start_time": "2021-07-19T20:15:06.610Z"
   },
   {
    "duration": 46,
    "start_time": "2021-07-19T20:15:06.630Z"
   },
   {
    "duration": 1112,
    "start_time": "2021-07-19T20:15:06.679Z"
   },
   {
    "duration": 15,
    "start_time": "2021-07-19T21:22:29.803Z"
   },
   {
    "duration": 1518,
    "start_time": "2021-07-19T21:27:11.683Z"
   },
   {
    "duration": 39,
    "start_time": "2021-07-19T21:27:13.204Z"
   },
   {
    "duration": 9,
    "start_time": "2021-07-19T21:27:13.247Z"
   },
   {
    "duration": 36,
    "start_time": "2021-07-19T21:27:13.260Z"
   },
   {
    "duration": 11,
    "start_time": "2021-07-19T21:27:13.299Z"
   },
   {
    "duration": 49,
    "start_time": "2021-07-19T21:27:13.312Z"
   },
   {
    "duration": 14,
    "start_time": "2021-07-19T21:27:13.364Z"
   },
   {
    "duration": 94,
    "start_time": "2021-07-19T21:27:13.383Z"
   },
   {
    "duration": 18,
    "start_time": "2021-07-19T21:27:13.481Z"
   },
   {
    "duration": 19,
    "start_time": "2021-07-19T21:27:13.501Z"
   },
   {
    "duration": 32,
    "start_time": "2021-07-19T21:27:13.522Z"
   },
   {
    "duration": 16,
    "start_time": "2021-07-19T21:27:13.557Z"
   },
   {
    "duration": 5,
    "start_time": "2021-07-19T21:27:13.576Z"
   },
   {
    "duration": 24,
    "start_time": "2021-07-19T21:27:13.583Z"
   },
   {
    "duration": 6,
    "start_time": "2021-07-19T21:27:13.609Z"
   },
   {
    "duration": 49,
    "start_time": "2021-07-19T21:27:13.617Z"
   },
   {
    "duration": 11,
    "start_time": "2021-07-19T21:27:13.668Z"
   },
   {
    "duration": 21,
    "start_time": "2021-07-19T21:27:13.682Z"
   },
   {
    "duration": 1261,
    "start_time": "2021-07-19T21:27:13.705Z"
   },
   {
    "duration": 9,
    "start_time": "2021-07-19T21:27:14.968Z"
   },
   {
    "duration": 41,
    "start_time": "2021-07-19T21:27:14.980Z"
   },
   {
    "duration": 37,
    "start_time": "2021-07-19T21:27:15.023Z"
   },
   {
    "duration": 241,
    "start_time": "2021-07-19T21:27:15.066Z"
   },
   {
    "duration": 8,
    "start_time": "2021-07-19T21:27:15.310Z"
   },
   {
    "duration": 35,
    "start_time": "2021-07-19T21:27:15.320Z"
   },
   {
    "duration": 14,
    "start_time": "2021-07-19T21:27:15.357Z"
   },
   {
    "duration": 34,
    "start_time": "2021-07-19T21:27:15.373Z"
   },
   {
    "duration": 27,
    "start_time": "2021-07-19T21:27:15.409Z"
   },
   {
    "duration": 19,
    "start_time": "2021-07-19T21:27:15.439Z"
   },
   {
    "duration": 12,
    "start_time": "2021-07-19T21:27:15.460Z"
   },
   {
    "duration": 33,
    "start_time": "2021-07-19T21:27:15.475Z"
   },
   {
    "duration": 13,
    "start_time": "2021-07-19T21:27:15.510Z"
   },
   {
    "duration": 34,
    "start_time": "2021-07-19T21:27:15.525Z"
   },
   {
    "duration": 6,
    "start_time": "2021-07-19T21:27:15.562Z"
   },
   {
    "duration": 19,
    "start_time": "2021-07-19T21:27:15.571Z"
   },
   {
    "duration": 24,
    "start_time": "2021-07-19T21:27:15.592Z"
   },
   {
    "duration": 12,
    "start_time": "2021-07-19T21:27:15.619Z"
   },
   {
    "duration": 22,
    "start_time": "2021-07-19T21:27:15.634Z"
   },
   {
    "duration": 36,
    "start_time": "2021-07-19T21:27:15.659Z"
   },
   {
    "duration": 61,
    "start_time": "2021-07-19T21:27:15.698Z"
   },
   {
    "duration": 8,
    "start_time": "2021-07-19T21:27:15.762Z"
   },
   {
    "duration": 2731,
    "start_time": "2021-07-19T21:27:15.773Z"
   },
   {
    "duration": 6,
    "start_time": "2021-07-19T21:27:18.506Z"
   },
   {
    "duration": 630,
    "start_time": "2021-07-19T21:27:18.514Z"
   },
   {
    "duration": 483,
    "start_time": "2021-07-19T21:27:19.146Z"
   },
   {
    "duration": 82859,
    "start_time": "2021-07-19T21:27:19.632Z"
   },
   {
    "duration": 8,
    "start_time": "2021-07-19T21:28:42.494Z"
   },
   {
    "duration": 505,
    "start_time": "2021-07-19T21:28:42.505Z"
   },
   {
    "duration": 797,
    "start_time": "2021-07-19T21:28:43.014Z"
   },
   {
    "duration": 140,
    "start_time": "2021-07-19T21:28:43.814Z"
   },
   {
    "duration": 717,
    "start_time": "2021-07-19T21:28:43.958Z"
   },
   {
    "duration": 7,
    "start_time": "2021-07-19T21:28:44.678Z"
   },
   {
    "duration": 21,
    "start_time": "2021-07-19T21:28:44.687Z"
   },
   {
    "duration": 506,
    "start_time": "2021-07-19T21:28:44.711Z"
   },
   {
    "duration": 962,
    "start_time": "2021-07-19T21:28:45.219Z"
   },
   {
    "duration": 694,
    "start_time": "2021-07-19T21:28:46.184Z"
   },
   {
    "duration": 521,
    "start_time": "2021-07-19T21:28:46.881Z"
   },
   {
    "duration": 789,
    "start_time": "2021-07-19T21:28:47.405Z"
   },
   {
    "duration": 713,
    "start_time": "2021-07-19T21:28:48.197Z"
   },
   {
    "duration": 18,
    "start_time": "2021-07-19T21:28:48.913Z"
   },
   {
    "duration": 30,
    "start_time": "2021-07-19T21:28:48.933Z"
   },
   {
    "duration": 28,
    "start_time": "2021-07-19T21:28:48.966Z"
   },
   {
    "duration": 1306,
    "start_time": "2021-07-19T21:28:48.997Z"
   },
   {
    "duration": 13,
    "start_time": "2021-07-19T21:28:50.306Z"
   },
   {
    "duration": 323,
    "start_time": "2021-07-21T03:16:46.826Z"
   },
   {
    "duration": 260,
    "start_time": "2021-07-21T03:17:02.631Z"
   },
   {
    "duration": 244,
    "start_time": "2021-07-21T03:17:39.985Z"
   },
   {
    "duration": 265,
    "start_time": "2021-07-21T03:17:44.759Z"
   },
   {
    "duration": 346,
    "start_time": "2021-07-21T03:17:51.925Z"
   },
   {
    "duration": 265,
    "start_time": "2021-07-21T03:17:53.768Z"
   },
   {
    "duration": 250,
    "start_time": "2021-07-21T03:18:09.689Z"
   },
   {
    "duration": 279,
    "start_time": "2021-07-21T03:19:15.218Z"
   },
   {
    "duration": 295,
    "start_time": "2021-07-21T03:19:15.866Z"
   },
   {
    "duration": 265,
    "start_time": "2021-07-21T03:19:16.650Z"
   },
   {
    "duration": 1521,
    "start_time": "2021-07-21T03:19:47.259Z"
   },
   {
    "duration": 37,
    "start_time": "2021-07-21T03:19:48.782Z"
   },
   {
    "duration": 7,
    "start_time": "2021-07-21T03:19:48.822Z"
   },
   {
    "duration": 46,
    "start_time": "2021-07-21T03:19:48.832Z"
   },
   {
    "duration": 10,
    "start_time": "2021-07-21T03:19:48.880Z"
   },
   {
    "duration": 7,
    "start_time": "2021-07-21T03:19:48.892Z"
   },
   {
    "duration": 11,
    "start_time": "2021-07-21T03:19:48.901Z"
   },
   {
    "duration": 90,
    "start_time": "2021-07-21T03:19:48.916Z"
   },
   {
    "duration": 17,
    "start_time": "2021-07-21T03:19:49.009Z"
   },
   {
    "duration": 42,
    "start_time": "2021-07-21T03:19:49.029Z"
   },
   {
    "duration": 8,
    "start_time": "2021-07-21T03:19:49.074Z"
   },
   {
    "duration": 22,
    "start_time": "2021-07-21T03:19:49.084Z"
   },
   {
    "duration": 7,
    "start_time": "2021-07-21T03:19:49.108Z"
   },
   {
    "duration": 50,
    "start_time": "2021-07-21T03:19:49.118Z"
   },
   {
    "duration": 9,
    "start_time": "2021-07-21T03:19:49.172Z"
   },
   {
    "duration": 28,
    "start_time": "2021-07-21T03:19:49.184Z"
   },
   {
    "duration": 29,
    "start_time": "2021-07-21T03:19:49.215Z"
   },
   {
    "duration": 22,
    "start_time": "2021-07-21T03:19:49.255Z"
   },
   {
    "duration": 1038,
    "start_time": "2021-07-21T03:19:49.280Z"
   },
   {
    "duration": 10,
    "start_time": "2021-07-21T03:19:50.321Z"
   },
   {
    "duration": 32,
    "start_time": "2021-07-21T03:19:50.355Z"
   },
   {
    "duration": 18,
    "start_time": "2021-07-21T03:19:50.390Z"
   },
   {
    "duration": 248,
    "start_time": "2021-07-21T03:19:50.415Z"
   },
   {
    "duration": 8,
    "start_time": "2021-07-21T03:19:50.668Z"
   },
   {
    "duration": 16,
    "start_time": "2021-07-21T03:19:50.678Z"
   },
   {
    "duration": 11,
    "start_time": "2021-07-21T03:19:50.696Z"
   },
   {
    "duration": 55,
    "start_time": "2021-07-21T03:19:50.709Z"
   },
   {
    "duration": 17,
    "start_time": "2021-07-21T03:19:50.767Z"
   },
   {
    "duration": 15,
    "start_time": "2021-07-21T03:19:50.787Z"
   },
   {
    "duration": 8,
    "start_time": "2021-07-21T03:19:50.805Z"
   },
   {
    "duration": 49,
    "start_time": "2021-07-21T03:19:50.816Z"
   },
   {
    "duration": 13,
    "start_time": "2021-07-21T03:19:50.867Z"
   },
   {
    "duration": 18,
    "start_time": "2021-07-21T03:19:50.882Z"
   },
   {
    "duration": 9,
    "start_time": "2021-07-21T03:19:50.902Z"
   },
   {
    "duration": 17,
    "start_time": "2021-07-21T03:19:50.913Z"
   },
   {
    "duration": 33,
    "start_time": "2021-07-21T03:19:50.932Z"
   },
   {
    "duration": 18,
    "start_time": "2021-07-21T03:19:50.967Z"
   },
   {
    "duration": 24,
    "start_time": "2021-07-21T03:19:50.987Z"
   },
   {
    "duration": 34,
    "start_time": "2021-07-21T03:19:51.013Z"
   },
   {
    "duration": 44,
    "start_time": "2021-07-21T03:19:51.049Z"
   },
   {
    "duration": 8,
    "start_time": "2021-07-21T03:19:51.095Z"
   },
   {
    "duration": 2627,
    "start_time": "2021-07-21T03:19:51.106Z"
   },
   {
    "duration": 6,
    "start_time": "2021-07-21T03:19:53.735Z"
   },
   {
    "duration": 485,
    "start_time": "2021-07-21T03:19:53.756Z"
   },
   {
    "duration": 449,
    "start_time": "2021-07-21T03:19:54.243Z"
   },
   {
    "duration": 76764,
    "start_time": "2021-07-21T03:19:54.694Z"
   },
   {
    "duration": 6,
    "start_time": "2021-07-21T03:21:11.460Z"
   },
   {
    "duration": 479,
    "start_time": "2021-07-21T03:21:11.469Z"
   },
   {
    "duration": 771,
    "start_time": "2021-07-21T03:21:11.951Z"
   },
   {
    "duration": 130,
    "start_time": "2021-07-21T03:21:12.725Z"
   },
   {
    "duration": 709,
    "start_time": "2021-07-21T03:21:12.859Z"
   },
   {
    "duration": 7,
    "start_time": "2021-07-21T03:21:13.571Z"
   },
   {
    "duration": 701,
    "start_time": "2021-07-21T03:21:13.580Z"
   },
   {
    "duration": -360,
    "start_time": "2021-07-21T03:21:14.644Z"
   },
   {
    "duration": -382,
    "start_time": "2021-07-21T03:21:14.667Z"
   },
   {
    "duration": -386,
    "start_time": "2021-07-21T03:21:14.673Z"
   },
   {
    "duration": -392,
    "start_time": "2021-07-21T03:21:14.680Z"
   },
   {
    "duration": -396,
    "start_time": "2021-07-21T03:21:14.686Z"
   },
   {
    "duration": -400,
    "start_time": "2021-07-21T03:21:14.691Z"
   },
   {
    "duration": -404,
    "start_time": "2021-07-21T03:21:14.697Z"
   },
   {
    "duration": -409,
    "start_time": "2021-07-21T03:21:14.703Z"
   },
   {
    "duration": -412,
    "start_time": "2021-07-21T03:21:14.708Z"
   },
   {
    "duration": -416,
    "start_time": "2021-07-21T03:21:14.713Z"
   },
   {
    "duration": -420,
    "start_time": "2021-07-21T03:21:14.718Z"
   },
   {
    "duration": 261,
    "start_time": "2021-07-21T03:38:43.886Z"
   },
   {
    "duration": 8,
    "start_time": "2021-07-21T03:38:50.084Z"
   },
   {
    "duration": 14,
    "start_time": "2021-07-21T03:40:13.891Z"
   },
   {
    "duration": 1530,
    "start_time": "2021-07-21T03:49:44.159Z"
   },
   {
    "duration": 36,
    "start_time": "2021-07-21T03:49:45.692Z"
   },
   {
    "duration": 8,
    "start_time": "2021-07-21T03:49:45.730Z"
   },
   {
    "duration": 41,
    "start_time": "2021-07-21T03:49:45.740Z"
   },
   {
    "duration": 8,
    "start_time": "2021-07-21T03:49:45.783Z"
   },
   {
    "duration": 6,
    "start_time": "2021-07-21T03:49:45.793Z"
   },
   {
    "duration": 11,
    "start_time": "2021-07-21T03:49:45.801Z"
   },
   {
    "duration": 94,
    "start_time": "2021-07-21T03:49:45.816Z"
   },
   {
    "duration": 16,
    "start_time": "2021-07-21T03:49:45.913Z"
   },
   {
    "duration": 43,
    "start_time": "2021-07-21T03:49:45.931Z"
   },
   {
    "duration": 4,
    "start_time": "2021-07-21T03:49:45.976Z"
   },
   {
    "duration": 16,
    "start_time": "2021-07-21T03:49:45.982Z"
   },
   {
    "duration": 3,
    "start_time": "2021-07-21T03:49:46.001Z"
   },
   {
    "duration": 51,
    "start_time": "2021-07-21T03:49:46.006Z"
   },
   {
    "duration": 7,
    "start_time": "2021-07-21T03:49:46.059Z"
   },
   {
    "duration": 18,
    "start_time": "2021-07-21T03:49:46.069Z"
   },
   {
    "duration": 13,
    "start_time": "2021-07-21T03:49:46.089Z"
   },
   {
    "duration": 53,
    "start_time": "2021-07-21T03:49:46.104Z"
   },
   {
    "duration": 1151,
    "start_time": "2021-07-21T03:49:46.160Z"
   },
   {
    "duration": 9,
    "start_time": "2021-07-21T03:49:47.313Z"
   },
   {
    "duration": 32,
    "start_time": "2021-07-21T03:49:47.325Z"
   },
   {
    "duration": 17,
    "start_time": "2021-07-21T03:49:47.360Z"
   },
   {
    "duration": 18,
    "start_time": "2021-07-21T03:49:47.383Z"
   },
   {
    "duration": 251,
    "start_time": "2021-07-21T03:49:47.405Z"
   },
   {
    "duration": 7,
    "start_time": "2021-07-21T03:49:47.658Z"
   },
   {
    "duration": 20,
    "start_time": "2021-07-21T03:49:47.667Z"
   },
   {
    "duration": 10,
    "start_time": "2021-07-21T03:49:47.689Z"
   },
   {
    "duration": 19,
    "start_time": "2021-07-21T03:49:47.701Z"
   },
   {
    "duration": 45,
    "start_time": "2021-07-21T03:49:47.722Z"
   },
   {
    "duration": 10,
    "start_time": "2021-07-21T03:49:47.770Z"
   },
   {
    "duration": 5,
    "start_time": "2021-07-21T03:49:47.783Z"
   },
   {
    "duration": 25,
    "start_time": "2021-07-21T03:49:47.790Z"
   },
   {
    "duration": 13,
    "start_time": "2021-07-21T03:49:47.855Z"
   },
   {
    "duration": 9,
    "start_time": "2021-07-21T03:49:47.871Z"
   },
   {
    "duration": 6,
    "start_time": "2021-07-21T03:49:47.882Z"
   },
   {
    "duration": 8,
    "start_time": "2021-07-21T03:49:47.890Z"
   },
   {
    "duration": 60,
    "start_time": "2021-07-21T03:49:47.901Z"
   },
   {
    "duration": 4,
    "start_time": "2021-07-21T03:49:47.964Z"
   },
   {
    "duration": 15,
    "start_time": "2021-07-21T03:49:47.971Z"
   },
   {
    "duration": 29,
    "start_time": "2021-07-21T03:49:47.988Z"
   },
   {
    "duration": 71,
    "start_time": "2021-07-21T03:49:48.019Z"
   },
   {
    "duration": 8,
    "start_time": "2021-07-21T03:49:48.092Z"
   },
   {
    "duration": 2543,
    "start_time": "2021-07-21T03:49:48.103Z"
   },
   {
    "duration": 10,
    "start_time": "2021-07-21T03:49:50.649Z"
   },
   {
    "duration": 518,
    "start_time": "2021-07-21T03:49:50.661Z"
   },
   {
    "duration": 445,
    "start_time": "2021-07-21T03:49:51.181Z"
   },
   {
    "duration": 79249,
    "start_time": "2021-07-21T03:49:51.628Z"
   },
   {
    "duration": 7,
    "start_time": "2021-07-21T03:51:10.879Z"
   },
   {
    "duration": 579,
    "start_time": "2021-07-21T03:51:10.888Z"
   },
   {
    "duration": 980,
    "start_time": "2021-07-21T03:51:11.470Z"
   },
   {
    "duration": 100,
    "start_time": "2021-07-21T03:51:12.456Z"
   },
   {
    "duration": 680,
    "start_time": "2021-07-21T03:51:12.559Z"
   },
   {
    "duration": 15,
    "start_time": "2021-07-21T03:51:13.242Z"
   },
   {
    "duration": 740,
    "start_time": "2021-07-21T03:51:13.259Z"
   },
   {
    "duration": -308,
    "start_time": "2021-07-21T03:51:14.309Z"
   },
   {
    "duration": -311,
    "start_time": "2021-07-21T03:51:14.314Z"
   },
   {
    "duration": -318,
    "start_time": "2021-07-21T03:51:14.322Z"
   },
   {
    "duration": -321,
    "start_time": "2021-07-21T03:51:14.327Z"
   },
   {
    "duration": -325,
    "start_time": "2021-07-21T03:51:14.332Z"
   },
   {
    "duration": -330,
    "start_time": "2021-07-21T03:51:14.338Z"
   },
   {
    "duration": -333,
    "start_time": "2021-07-21T03:51:14.343Z"
   },
   {
    "duration": -338,
    "start_time": "2021-07-21T03:51:14.349Z"
   },
   {
    "duration": -341,
    "start_time": "2021-07-21T03:51:14.353Z"
   },
   {
    "duration": -346,
    "start_time": "2021-07-21T03:51:14.359Z"
   },
   {
    "duration": -349,
    "start_time": "2021-07-21T03:51:14.364Z"
   },
   {
    "duration": 21,
    "start_time": "2021-07-21T03:53:39.011Z"
   },
   {
    "duration": 466,
    "start_time": "2021-07-21T03:53:44.992Z"
   },
   {
    "duration": 878,
    "start_time": "2021-07-21T03:53:45.726Z"
   },
   {
    "duration": 710,
    "start_time": "2021-07-21T03:53:46.850Z"
   },
   {
    "duration": 448,
    "start_time": "2021-07-21T03:53:48.892Z"
   },
   {
    "duration": 745,
    "start_time": "2021-07-21T03:53:49.355Z"
   },
   {
    "duration": 668,
    "start_time": "2021-07-21T03:53:50.104Z"
   },
   {
    "duration": 18,
    "start_time": "2021-07-21T03:53:50.775Z"
   },
   {
    "duration": 13,
    "start_time": "2021-07-21T03:53:53.312Z"
   },
   {
    "duration": 24,
    "start_time": "2021-07-21T03:53:54.631Z"
   },
   {
    "duration": 1010,
    "start_time": "2021-07-21T03:53:56.124Z"
   },
   {
    "duration": 14,
    "start_time": "2021-07-21T03:53:58.040Z"
   },
   {
    "duration": 3,
    "start_time": "2021-07-21T04:08:06.057Z"
   },
   {
    "duration": 1602,
    "start_time": "2021-07-21T05:10:24.629Z"
   },
   {
    "duration": 38,
    "start_time": "2021-07-21T05:10:26.234Z"
   },
   {
    "duration": 9,
    "start_time": "2021-07-21T05:10:26.276Z"
   },
   {
    "duration": 35,
    "start_time": "2021-07-21T05:10:26.289Z"
   },
   {
    "duration": 36,
    "start_time": "2021-07-21T05:10:26.327Z"
   },
   {
    "duration": 8,
    "start_time": "2021-07-21T05:10:26.366Z"
   },
   {
    "duration": 14,
    "start_time": "2021-07-21T05:10:26.377Z"
   },
   {
    "duration": 103,
    "start_time": "2021-07-21T05:10:26.397Z"
   },
   {
    "duration": 19,
    "start_time": "2021-07-21T05:10:26.503Z"
   },
   {
    "duration": 46,
    "start_time": "2021-07-21T05:10:26.525Z"
   },
   {
    "duration": 4,
    "start_time": "2021-07-21T05:10:26.574Z"
   },
   {
    "duration": 20,
    "start_time": "2021-07-21T05:10:26.580Z"
   },
   {
    "duration": 6,
    "start_time": "2021-07-21T05:10:26.603Z"
   },
   {
    "duration": 61,
    "start_time": "2021-07-21T05:10:26.611Z"
   },
   {
    "duration": 9,
    "start_time": "2021-07-21T05:10:26.675Z"
   },
   {
    "duration": 25,
    "start_time": "2021-07-21T05:10:26.686Z"
   },
   {
    "duration": 11,
    "start_time": "2021-07-21T05:10:26.713Z"
   },
   {
    "duration": 41,
    "start_time": "2021-07-21T05:10:26.727Z"
   },
   {
    "duration": 1085,
    "start_time": "2021-07-21T05:10:26.771Z"
   },
   {
    "duration": 9,
    "start_time": "2021-07-21T05:10:27.858Z"
   },
   {
    "duration": 18,
    "start_time": "2021-07-21T05:10:27.869Z"
   },
   {
    "duration": 17,
    "start_time": "2021-07-21T05:10:27.889Z"
   },
   {
    "duration": 48,
    "start_time": "2021-07-21T05:10:27.912Z"
   },
   {
    "duration": 244,
    "start_time": "2021-07-21T05:10:27.963Z"
   },
   {
    "duration": 7,
    "start_time": "2021-07-21T05:10:28.209Z"
   },
   {
    "duration": 38,
    "start_time": "2021-07-21T05:10:28.219Z"
   },
   {
    "duration": 10,
    "start_time": "2021-07-21T05:10:28.260Z"
   },
   {
    "duration": 20,
    "start_time": "2021-07-21T05:10:28.272Z"
   },
   {
    "duration": 16,
    "start_time": "2021-07-21T05:10:28.294Z"
   },
   {
    "duration": 50,
    "start_time": "2021-07-21T05:10:28.312Z"
   },
   {
    "duration": 8,
    "start_time": "2021-07-21T05:10:28.364Z"
   },
   {
    "duration": 24,
    "start_time": "2021-07-21T05:10:28.374Z"
   },
   {
    "duration": 55,
    "start_time": "2021-07-21T05:10:28.401Z"
   },
   {
    "duration": 6,
    "start_time": "2021-07-21T05:10:28.458Z"
   },
   {
    "duration": 13,
    "start_time": "2021-07-21T05:10:28.466Z"
   },
   {
    "duration": 5,
    "start_time": "2021-07-21T05:10:28.482Z"
   },
   {
    "duration": 16,
    "start_time": "2021-07-21T05:10:28.490Z"
   },
   {
    "duration": 47,
    "start_time": "2021-07-21T05:10:28.509Z"
   },
   {
    "duration": 15,
    "start_time": "2021-07-21T05:10:28.558Z"
   },
   {
    "duration": 32,
    "start_time": "2021-07-21T05:10:28.576Z"
   },
   {
    "duration": 74,
    "start_time": "2021-07-21T05:10:28.611Z"
   },
   {
    "duration": 9,
    "start_time": "2021-07-21T05:10:28.688Z"
   },
   {
    "duration": 2730,
    "start_time": "2021-07-21T05:10:28.701Z"
   },
   {
    "duration": 21,
    "start_time": "2021-07-21T05:10:31.434Z"
   },
   {
    "duration": 477,
    "start_time": "2021-07-21T05:10:31.458Z"
   },
   {
    "duration": 461,
    "start_time": "2021-07-21T05:10:31.938Z"
   },
   {
    "duration": 79545,
    "start_time": "2021-07-21T05:10:32.401Z"
   },
   {
    "duration": 7,
    "start_time": "2021-07-21T05:11:51.956Z"
   },
   {
    "duration": 500,
    "start_time": "2021-07-21T05:11:51.965Z"
   },
   {
    "duration": 759,
    "start_time": "2021-07-21T05:11:52.467Z"
   },
   {
    "duration": 131,
    "start_time": "2021-07-21T05:11:53.228Z"
   },
   {
    "duration": 707,
    "start_time": "2021-07-21T05:11:53.363Z"
   },
   {
    "duration": 7,
    "start_time": "2021-07-21T05:11:54.073Z"
   },
   {
    "duration": 20,
    "start_time": "2021-07-21T05:11:54.082Z"
   },
   {
    "duration": 496,
    "start_time": "2021-07-21T05:11:54.104Z"
   },
   {
    "duration": 918,
    "start_time": "2021-07-21T05:11:54.602Z"
   },
   {
    "duration": 653,
    "start_time": "2021-07-21T05:11:55.523Z"
   },
   {
    "duration": 583,
    "start_time": "2021-07-21T05:11:56.178Z"
   },
   {
    "duration": 776,
    "start_time": "2021-07-21T05:11:56.764Z"
   },
   {
    "duration": 725,
    "start_time": "2021-07-21T05:11:57.543Z"
   },
   {
    "duration": 17,
    "start_time": "2021-07-21T05:11:58.271Z"
   },
   {
    "duration": 17,
    "start_time": "2021-07-21T05:11:58.291Z"
   },
   {
    "duration": 52,
    "start_time": "2021-07-21T05:11:58.311Z"
   },
   {
    "duration": 1043,
    "start_time": "2021-07-21T05:11:58.365Z"
   },
   {
    "duration": 14,
    "start_time": "2021-07-21T05:11:59.410Z"
   },
   {
    "duration": 1445,
    "start_time": "2021-07-21T05:26:21.475Z"
   },
   {
    "duration": 45,
    "start_time": "2021-07-21T05:26:22.922Z"
   },
   {
    "duration": 7,
    "start_time": "2021-07-21T05:26:22.970Z"
   },
   {
    "duration": 31,
    "start_time": "2021-07-21T05:26:22.980Z"
   },
   {
    "duration": 8,
    "start_time": "2021-07-21T05:26:23.013Z"
   },
   {
    "duration": 34,
    "start_time": "2021-07-21T05:26:23.023Z"
   },
   {
    "duration": 11,
    "start_time": "2021-07-21T05:26:23.060Z"
   },
   {
    "duration": 86,
    "start_time": "2021-07-21T05:26:23.075Z"
   },
   {
    "duration": 16,
    "start_time": "2021-07-21T05:26:23.164Z"
   },
   {
    "duration": 19,
    "start_time": "2021-07-21T05:26:23.183Z"
   },
   {
    "duration": 4,
    "start_time": "2021-07-21T05:26:23.205Z"
   },
   {
    "duration": 54,
    "start_time": "2021-07-21T05:26:23.211Z"
   },
   {
    "duration": 4,
    "start_time": "2021-07-21T05:26:23.267Z"
   },
   {
    "duration": 29,
    "start_time": "2021-07-21T05:26:23.273Z"
   },
   {
    "duration": 19,
    "start_time": "2021-07-21T05:26:23.304Z"
   },
   {
    "duration": 32,
    "start_time": "2021-07-21T05:26:23.325Z"
   },
   {
    "duration": 10,
    "start_time": "2021-07-21T05:26:23.359Z"
   },
   {
    "duration": 18,
    "start_time": "2021-07-21T05:26:23.372Z"
   },
   {
    "duration": 1128,
    "start_time": "2021-07-21T05:26:23.393Z"
   },
   {
    "duration": 8,
    "start_time": "2021-07-21T05:26:24.523Z"
   },
   {
    "duration": 28,
    "start_time": "2021-07-21T05:26:24.534Z"
   },
   {
    "duration": 18,
    "start_time": "2021-07-21T05:26:24.564Z"
   },
   {
    "duration": 15,
    "start_time": "2021-07-21T05:26:24.588Z"
   },
   {
    "duration": 249,
    "start_time": "2021-07-21T05:26:24.606Z"
   },
   {
    "duration": 7,
    "start_time": "2021-07-21T05:26:24.858Z"
   },
   {
    "duration": 19,
    "start_time": "2021-07-21T05:26:24.867Z"
   },
   {
    "duration": 7,
    "start_time": "2021-07-21T05:26:24.888Z"
   },
   {
    "duration": 20,
    "start_time": "2021-07-21T05:26:24.897Z"
   },
   {
    "duration": 49,
    "start_time": "2021-07-21T05:26:24.920Z"
   },
   {
    "duration": 10,
    "start_time": "2021-07-21T05:26:24.972Z"
   },
   {
    "duration": 6,
    "start_time": "2021-07-21T05:26:24.984Z"
   },
   {
    "duration": 26,
    "start_time": "2021-07-21T05:26:24.992Z"
   },
   {
    "duration": 14,
    "start_time": "2021-07-21T05:26:25.055Z"
   },
   {
    "duration": 6,
    "start_time": "2021-07-21T05:26:25.072Z"
   },
   {
    "duration": 14,
    "start_time": "2021-07-21T05:26:25.080Z"
   },
   {
    "duration": 4,
    "start_time": "2021-07-21T05:26:25.096Z"
   },
   {
    "duration": 14,
    "start_time": "2021-07-21T05:26:25.102Z"
   },
   {
    "duration": 40,
    "start_time": "2021-07-21T05:26:25.118Z"
   },
   {
    "duration": 14,
    "start_time": "2021-07-21T05:26:25.160Z"
   },
   {
    "duration": 30,
    "start_time": "2021-07-21T05:26:25.176Z"
   },
   {
    "duration": 67,
    "start_time": "2021-07-21T05:26:25.208Z"
   },
   {
    "duration": 8,
    "start_time": "2021-07-21T05:26:25.278Z"
   },
   {
    "duration": 2545,
    "start_time": "2021-07-21T05:26:25.288Z"
   },
   {
    "duration": 19,
    "start_time": "2021-07-21T05:26:27.837Z"
   },
   {
    "duration": 499,
    "start_time": "2021-07-21T05:26:27.859Z"
   },
   {
    "duration": 510,
    "start_time": "2021-07-21T05:26:28.360Z"
   },
   {
    "duration": 77373,
    "start_time": "2021-07-21T05:26:28.872Z"
   },
   {
    "duration": 12,
    "start_time": "2021-07-21T05:27:46.247Z"
   },
   {
    "duration": 481,
    "start_time": "2021-07-21T05:27:46.262Z"
   },
   {
    "duration": 767,
    "start_time": "2021-07-21T05:27:46.746Z"
   },
   {
    "duration": 52,
    "start_time": "2021-07-21T05:27:47.516Z"
   },
   {
    "duration": 697,
    "start_time": "2021-07-21T05:27:47.660Z"
   },
   {
    "duration": 7,
    "start_time": "2021-07-21T05:27:48.360Z"
   },
   {
    "duration": 26,
    "start_time": "2021-07-21T05:27:48.370Z"
   },
   {
    "duration": 495,
    "start_time": "2021-07-21T05:27:48.399Z"
   },
   {
    "duration": 905,
    "start_time": "2021-07-21T05:27:48.897Z"
   },
   {
    "duration": 659,
    "start_time": "2021-07-21T05:27:49.804Z"
   },
   {
    "duration": 561,
    "start_time": "2021-07-21T05:27:50.466Z"
   },
   {
    "duration": 766,
    "start_time": "2021-07-21T05:27:51.029Z"
   },
   {
    "duration": 668,
    "start_time": "2021-07-21T05:27:51.797Z"
   },
   {
    "duration": 17,
    "start_time": "2021-07-21T05:27:52.467Z"
   },
   {
    "duration": 17,
    "start_time": "2021-07-21T05:27:52.491Z"
   },
   {
    "duration": 60,
    "start_time": "2021-07-21T05:27:52.511Z"
   },
   {
    "duration": 1028,
    "start_time": "2021-07-21T05:27:52.574Z"
   },
   {
    "duration": 13,
    "start_time": "2021-07-21T05:27:53.604Z"
   },
   {
    "duration": 1516,
    "start_time": "2021-07-21T05:40:53.749Z"
   },
   {
    "duration": 37,
    "start_time": "2021-07-21T05:40:55.268Z"
   },
   {
    "duration": 9,
    "start_time": "2021-07-21T05:40:55.308Z"
   },
   {
    "duration": 54,
    "start_time": "2021-07-21T05:40:55.320Z"
   },
   {
    "duration": 11,
    "start_time": "2021-07-21T05:40:55.378Z"
   },
   {
    "duration": 10,
    "start_time": "2021-07-21T05:40:55.393Z"
   },
   {
    "duration": 54,
    "start_time": "2021-07-21T05:40:55.406Z"
   },
   {
    "duration": 62,
    "start_time": "2021-07-21T05:40:55.466Z"
   },
   {
    "duration": 18,
    "start_time": "2021-07-21T05:40:55.557Z"
   },
   {
    "duration": 18,
    "start_time": "2021-07-21T05:40:55.578Z"
   },
   {
    "duration": 4,
    "start_time": "2021-07-21T05:40:55.599Z"
   },
   {
    "duration": 55,
    "start_time": "2021-07-21T05:40:55.605Z"
   },
   {
    "duration": 3,
    "start_time": "2021-07-21T05:40:55.663Z"
   },
   {
    "duration": 20,
    "start_time": "2021-07-21T05:40:55.669Z"
   },
   {
    "duration": 8,
    "start_time": "2021-07-21T05:40:55.692Z"
   },
   {
    "duration": 67,
    "start_time": "2021-07-21T05:40:55.702Z"
   },
   {
    "duration": 13,
    "start_time": "2021-07-21T05:40:55.772Z"
   },
   {
    "duration": 20,
    "start_time": "2021-07-21T05:40:55.787Z"
   },
   {
    "duration": 1111,
    "start_time": "2021-07-21T05:40:55.810Z"
   },
   {
    "duration": 9,
    "start_time": "2021-07-21T05:40:56.923Z"
   },
   {
    "duration": 22,
    "start_time": "2021-07-21T05:40:56.935Z"
   },
   {
    "duration": 18,
    "start_time": "2021-07-21T05:40:56.959Z"
   },
   {
    "duration": 16,
    "start_time": "2021-07-21T05:40:56.982Z"
   },
   {
    "duration": 277,
    "start_time": "2021-07-21T05:40:57.001Z"
   },
   {
    "duration": 8,
    "start_time": "2021-07-21T05:40:57.281Z"
   },
   {
    "duration": 17,
    "start_time": "2021-07-21T05:40:57.291Z"
   },
   {
    "duration": 45,
    "start_time": "2021-07-21T05:40:57.310Z"
   },
   {
    "duration": 19,
    "start_time": "2021-07-21T05:40:57.358Z"
   },
   {
    "duration": 18,
    "start_time": "2021-07-21T05:40:57.379Z"
   },
   {
    "duration": 12,
    "start_time": "2021-07-21T05:40:57.400Z"
   },
   {
    "duration": 42,
    "start_time": "2021-07-21T05:40:57.415Z"
   },
   {
    "duration": 32,
    "start_time": "2021-07-21T05:40:57.460Z"
   },
   {
    "duration": 14,
    "start_time": "2021-07-21T05:40:57.494Z"
   },
   {
    "duration": 5,
    "start_time": "2021-07-21T05:40:57.511Z"
   },
   {
    "duration": 11,
    "start_time": "2021-07-21T05:40:57.555Z"
   },
   {
    "duration": 4,
    "start_time": "2021-07-21T05:40:57.568Z"
   },
   {
    "duration": 14,
    "start_time": "2021-07-21T05:40:57.575Z"
   },
   {
    "duration": 9,
    "start_time": "2021-07-21T05:40:57.591Z"
   },
   {
    "duration": 59,
    "start_time": "2021-07-21T05:40:57.603Z"
   },
   {
    "duration": 29,
    "start_time": "2021-07-21T05:40:57.664Z"
   },
   {
    "duration": 72,
    "start_time": "2021-07-21T05:40:57.695Z"
   },
   {
    "duration": 9,
    "start_time": "2021-07-21T05:40:57.769Z"
   },
   {
    "duration": 2626,
    "start_time": "2021-07-21T05:40:57.780Z"
   },
   {
    "duration": 6,
    "start_time": "2021-07-21T05:41:00.408Z"
   },
   {
    "duration": 563,
    "start_time": "2021-07-21T05:41:00.417Z"
   },
   {
    "duration": 558,
    "start_time": "2021-07-21T05:41:00.983Z"
   },
   {
    "duration": 78962,
    "start_time": "2021-07-21T05:41:01.543Z"
   },
   {
    "duration": 7,
    "start_time": "2021-07-21T05:42:20.508Z"
   },
   {
    "duration": 519,
    "start_time": "2021-07-21T05:42:20.517Z"
   },
   {
    "duration": 770,
    "start_time": "2021-07-21T05:42:21.038Z"
   },
   {
    "duration": 55,
    "start_time": "2021-07-21T05:42:21.810Z"
   },
   {
    "duration": 756,
    "start_time": "2021-07-21T05:42:21.868Z"
   },
   {
    "duration": 7,
    "start_time": "2021-07-21T05:42:22.626Z"
   },
   {
    "duration": 28,
    "start_time": "2021-07-21T05:42:22.636Z"
   },
   {
    "duration": 490,
    "start_time": "2021-07-21T05:42:22.666Z"
   },
   {
    "duration": 927,
    "start_time": "2021-07-21T05:42:23.159Z"
   },
   {
    "duration": 701,
    "start_time": "2021-07-21T05:42:24.088Z"
   },
   {
    "duration": 484,
    "start_time": "2021-07-21T05:42:24.791Z"
   },
   {
    "duration": 807,
    "start_time": "2021-07-21T05:42:25.278Z"
   },
   {
    "duration": 670,
    "start_time": "2021-07-21T05:42:26.088Z"
   },
   {
    "duration": 17,
    "start_time": "2021-07-21T05:42:26.760Z"
   },
   {
    "duration": 15,
    "start_time": "2021-07-21T05:42:26.780Z"
   },
   {
    "duration": 59,
    "start_time": "2021-07-21T05:42:26.798Z"
   },
   {
    "duration": 1045,
    "start_time": "2021-07-21T05:42:26.860Z"
   },
   {
    "duration": 14,
    "start_time": "2021-07-21T05:42:27.907Z"
   },
   {
    "duration": 1553,
    "start_time": "2021-07-21T10:03:46.789Z"
   },
   {
    "duration": 36,
    "start_time": "2021-07-21T10:03:48.345Z"
   },
   {
    "duration": 7,
    "start_time": "2021-07-21T10:03:48.384Z"
   },
   {
    "duration": 38,
    "start_time": "2021-07-21T10:03:48.401Z"
   },
   {
    "duration": 8,
    "start_time": "2021-07-21T10:03:48.441Z"
   },
   {
    "duration": 7,
    "start_time": "2021-07-21T10:03:48.451Z"
   },
   {
    "duration": 47,
    "start_time": "2021-07-21T10:03:48.460Z"
   },
   {
    "duration": 60,
    "start_time": "2021-07-21T10:03:48.513Z"
   },
   {
    "duration": 47,
    "start_time": "2021-07-21T10:03:48.576Z"
   },
   {
    "duration": 17,
    "start_time": "2021-07-21T10:03:48.626Z"
   },
   {
    "duration": 4,
    "start_time": "2021-07-21T10:03:48.646Z"
   },
   {
    "duration": 58,
    "start_time": "2021-07-21T10:03:48.653Z"
   },
   {
    "duration": 4,
    "start_time": "2021-07-21T10:03:48.714Z"
   },
   {
    "duration": 23,
    "start_time": "2021-07-21T10:03:48.721Z"
   },
   {
    "duration": 7,
    "start_time": "2021-07-21T10:03:48.747Z"
   },
   {
    "duration": 60,
    "start_time": "2021-07-21T10:03:48.756Z"
   },
   {
    "duration": 13,
    "start_time": "2021-07-21T10:03:48.819Z"
   },
   {
    "duration": 19,
    "start_time": "2021-07-21T10:03:48.835Z"
   },
   {
    "duration": 1226,
    "start_time": "2021-07-21T10:03:48.857Z"
   },
   {
    "duration": 18,
    "start_time": "2021-07-21T10:03:50.085Z"
   },
   {
    "duration": 13,
    "start_time": "2021-07-21T10:03:50.106Z"
   },
   {
    "duration": 17,
    "start_time": "2021-07-21T10:03:50.121Z"
   },
   {
    "duration": 15,
    "start_time": "2021-07-21T10:03:50.144Z"
   },
   {
    "duration": 255,
    "start_time": "2021-07-21T10:03:50.203Z"
   },
   {
    "duration": 6,
    "start_time": "2021-07-21T10:03:50.461Z"
   },
   {
    "duration": 37,
    "start_time": "2021-07-21T10:03:50.469Z"
   },
   {
    "duration": 11,
    "start_time": "2021-07-21T10:03:50.510Z"
   },
   {
    "duration": 19,
    "start_time": "2021-07-21T10:03:50.524Z"
   },
   {
    "duration": 54,
    "start_time": "2021-07-21T10:03:50.546Z"
   },
   {
    "duration": 17,
    "start_time": "2021-07-21T10:03:50.604Z"
   },
   {
    "duration": 6,
    "start_time": "2021-07-21T10:03:50.624Z"
   },
   {
    "duration": 25,
    "start_time": "2021-07-21T10:03:50.632Z"
   },
   {
    "duration": 55,
    "start_time": "2021-07-21T10:03:50.659Z"
   },
   {
    "duration": 7,
    "start_time": "2021-07-21T10:03:50.717Z"
   },
   {
    "duration": 12,
    "start_time": "2021-07-21T10:03:50.726Z"
   },
   {
    "duration": 5,
    "start_time": "2021-07-21T10:03:50.740Z"
   },
   {
    "duration": 18,
    "start_time": "2021-07-21T10:03:50.747Z"
   },
   {
    "duration": 35,
    "start_time": "2021-07-21T10:03:50.767Z"
   },
   {
    "duration": 19,
    "start_time": "2021-07-21T10:03:50.805Z"
   },
   {
    "duration": 32,
    "start_time": "2021-07-21T10:03:50.826Z"
   },
   {
    "duration": 69,
    "start_time": "2021-07-21T10:03:50.862Z"
   },
   {
    "duration": 11,
    "start_time": "2021-07-21T10:03:50.933Z"
   },
   {
    "duration": 2864,
    "start_time": "2021-07-21T10:03:50.946Z"
   },
   {
    "duration": 8,
    "start_time": "2021-07-21T10:03:53.813Z"
   },
   {
    "duration": 576,
    "start_time": "2021-07-21T10:03:53.824Z"
   },
   {
    "duration": 541,
    "start_time": "2021-07-21T10:03:54.404Z"
   },
   {
    "duration": 86395,
    "start_time": "2021-07-21T10:03:54.947Z"
   },
   {
    "duration": 7,
    "start_time": "2021-07-21T10:05:21.344Z"
   },
   {
    "duration": 531,
    "start_time": "2021-07-21T10:05:21.353Z"
   },
   {
    "duration": 898,
    "start_time": "2021-07-21T10:05:21.886Z"
   },
   {
    "duration": 121,
    "start_time": "2021-07-21T10:05:22.786Z"
   },
   {
    "duration": 745,
    "start_time": "2021-07-21T10:05:22.911Z"
   },
   {
    "duration": 9,
    "start_time": "2021-07-21T10:05:23.659Z"
   },
   {
    "duration": 52,
    "start_time": "2021-07-21T10:05:23.670Z"
   },
   {
    "duration": 547,
    "start_time": "2021-07-21T10:05:23.725Z"
   },
   {
    "duration": 1336,
    "start_time": "2021-07-21T10:05:24.275Z"
   },
   {
    "duration": 729,
    "start_time": "2021-07-21T10:05:25.616Z"
   },
   {
    "duration": 528,
    "start_time": "2021-07-21T10:05:26.348Z"
   },
   {
    "duration": 884,
    "start_time": "2021-07-21T10:05:26.879Z"
   },
   {
    "duration": 693,
    "start_time": "2021-07-21T10:05:27.766Z"
   },
   {
    "duration": 20,
    "start_time": "2021-07-21T10:05:28.461Z"
   },
   {
    "duration": 35,
    "start_time": "2021-07-21T10:05:28.484Z"
   },
   {
    "duration": 23,
    "start_time": "2021-07-21T10:05:28.521Z"
   },
   {
    "duration": 1296,
    "start_time": "2021-07-21T10:05:28.546Z"
   },
   {
    "duration": 14,
    "start_time": "2021-07-21T10:05:29.844Z"
   },
   {
    "duration": 373,
    "start_time": "2022-03-07T22:20:13.605Z"
   },
   {
    "duration": 359,
    "start_time": "2022-03-07T22:29:05.244Z"
   },
   {
    "duration": 1058,
    "start_time": "2022-03-07T22:29:15.619Z"
   },
   {
    "duration": 29,
    "start_time": "2022-03-07T22:29:16.679Z"
   },
   {
    "duration": 5,
    "start_time": "2022-03-07T22:29:16.710Z"
   },
   {
    "duration": 25,
    "start_time": "2022-03-07T22:29:16.717Z"
   },
   {
    "duration": 8,
    "start_time": "2022-03-07T22:29:16.744Z"
   },
   {
    "duration": 17,
    "start_time": "2022-03-07T22:29:16.753Z"
   },
   {
    "duration": 11,
    "start_time": "2022-03-07T22:29:16.772Z"
   },
   {
    "duration": 35,
    "start_time": "2022-03-07T22:29:16.784Z"
   },
   {
    "duration": 10,
    "start_time": "2022-03-07T22:29:16.821Z"
   },
   {
    "duration": 11,
    "start_time": "2022-03-07T22:29:16.832Z"
   },
   {
    "duration": 3,
    "start_time": "2022-03-07T22:29:16.844Z"
   },
   {
    "duration": 12,
    "start_time": "2022-03-07T22:29:16.848Z"
   },
   {
    "duration": 2,
    "start_time": "2022-03-07T22:29:16.861Z"
   },
   {
    "duration": 12,
    "start_time": "2022-03-07T22:29:16.864Z"
   },
   {
    "duration": 28,
    "start_time": "2022-03-07T22:29:16.877Z"
   },
   {
    "duration": 10,
    "start_time": "2022-03-07T22:29:16.907Z"
   },
   {
    "duration": 7,
    "start_time": "2022-03-07T22:29:16.918Z"
   },
   {
    "duration": 12,
    "start_time": "2022-03-07T22:29:16.926Z"
   },
   {
    "duration": 653,
    "start_time": "2022-03-07T22:29:16.939Z"
   },
   {
    "duration": 15,
    "start_time": "2022-03-07T22:29:17.593Z"
   },
   {
    "duration": 10,
    "start_time": "2022-03-07T22:29:17.609Z"
   },
   {
    "duration": 9,
    "start_time": "2022-03-07T22:29:17.621Z"
   },
   {
    "duration": 10,
    "start_time": "2022-03-07T22:29:17.631Z"
   },
   {
    "duration": 139,
    "start_time": "2022-03-07T22:29:17.642Z"
   },
   {
    "duration": 4,
    "start_time": "2022-03-07T22:29:17.782Z"
   },
   {
    "duration": 18,
    "start_time": "2022-03-07T22:29:17.788Z"
   },
   {
    "duration": 5,
    "start_time": "2022-03-07T22:29:17.809Z"
   },
   {
    "duration": 11,
    "start_time": "2022-03-07T22:29:17.816Z"
   },
   {
    "duration": 9,
    "start_time": "2022-03-07T22:29:17.829Z"
   },
   {
    "duration": 9,
    "start_time": "2022-03-07T22:29:17.839Z"
   },
   {
    "duration": 4,
    "start_time": "2022-03-07T22:29:17.850Z"
   },
   {
    "duration": 17,
    "start_time": "2022-03-07T22:29:17.855Z"
   },
   {
    "duration": 37,
    "start_time": "2022-03-07T22:29:17.873Z"
   },
   {
    "duration": 4,
    "start_time": "2022-03-07T22:29:17.911Z"
   },
   {
    "duration": 9,
    "start_time": "2022-03-07T22:29:17.916Z"
   },
   {
    "duration": 3,
    "start_time": "2022-03-07T22:29:17.926Z"
   },
   {
    "duration": 8,
    "start_time": "2022-03-07T22:29:17.931Z"
   },
   {
    "duration": 5,
    "start_time": "2022-03-07T22:29:17.941Z"
   },
   {
    "duration": 8,
    "start_time": "2022-03-07T22:29:17.948Z"
   },
   {
    "duration": 16,
    "start_time": "2022-03-07T22:29:17.958Z"
   },
   {
    "duration": 46,
    "start_time": "2022-03-07T22:29:17.976Z"
   },
   {
    "duration": 4,
    "start_time": "2022-03-07T22:29:18.023Z"
   },
   {
    "duration": 10,
    "start_time": "2022-03-07T22:32:31.301Z"
   },
   {
    "duration": 379,
    "start_time": "2022-03-07T22:32:46.882Z"
   },
   {
    "duration": 9,
    "start_time": "2022-03-07T22:32:48.751Z"
   },
   {
    "duration": 1650,
    "start_time": "2022-03-07T22:33:28.060Z"
   },
   {
    "duration": 1057,
    "start_time": "2022-03-07T22:33:39.918Z"
   },
   {
    "duration": 31,
    "start_time": "2022-03-07T22:33:40.977Z"
   },
   {
    "duration": 5,
    "start_time": "2022-03-07T22:33:41.010Z"
   },
   {
    "duration": 21,
    "start_time": "2022-03-07T22:33:41.017Z"
   },
   {
    "duration": 5,
    "start_time": "2022-03-07T22:33:41.039Z"
   },
   {
    "duration": 4,
    "start_time": "2022-03-07T22:33:41.045Z"
   },
   {
    "duration": 8,
    "start_time": "2022-03-07T22:33:41.050Z"
   },
   {
    "duration": 62,
    "start_time": "2022-03-07T22:33:41.060Z"
   },
   {
    "duration": 11,
    "start_time": "2022-03-07T22:33:41.125Z"
   },
   {
    "duration": 12,
    "start_time": "2022-03-07T22:33:41.138Z"
   },
   {
    "duration": 3,
    "start_time": "2022-03-07T22:33:41.152Z"
   },
   {
    "duration": 9,
    "start_time": "2022-03-07T22:33:41.156Z"
   },
   {
    "duration": 2,
    "start_time": "2022-03-07T22:33:41.167Z"
   },
   {
    "duration": 40,
    "start_time": "2022-03-07T22:33:41.170Z"
   },
   {
    "duration": 6,
    "start_time": "2022-03-07T22:33:41.211Z"
   },
   {
    "duration": 10,
    "start_time": "2022-03-07T22:33:41.218Z"
   },
   {
    "duration": 9,
    "start_time": "2022-03-07T22:33:41.229Z"
   },
   {
    "duration": 13,
    "start_time": "2022-03-07T22:33:41.240Z"
   },
   {
    "duration": 660,
    "start_time": "2022-03-07T22:33:41.254Z"
   },
   {
    "duration": 6,
    "start_time": "2022-03-07T22:33:41.916Z"
   },
   {
    "duration": 8,
    "start_time": "2022-03-07T22:33:41.924Z"
   },
   {
    "duration": 10,
    "start_time": "2022-03-07T22:33:41.934Z"
   },
   {
    "duration": 10,
    "start_time": "2022-03-07T22:33:41.945Z"
   },
   {
    "duration": 176,
    "start_time": "2022-03-07T22:33:41.957Z"
   },
   {
    "duration": 5,
    "start_time": "2022-03-07T22:33:42.135Z"
   },
   {
    "duration": 13,
    "start_time": "2022-03-07T22:33:42.142Z"
   },
   {
    "duration": 5,
    "start_time": "2022-03-07T22:33:42.160Z"
   },
   {
    "duration": 38,
    "start_time": "2022-03-07T22:33:42.167Z"
   },
   {
    "duration": 8,
    "start_time": "2022-03-07T22:33:42.207Z"
   },
   {
    "duration": 8,
    "start_time": "2022-03-07T22:33:42.217Z"
   },
   {
    "duration": 3,
    "start_time": "2022-03-07T22:33:42.227Z"
   },
   {
    "duration": 13,
    "start_time": "2022-03-07T22:33:42.231Z"
   },
   {
    "duration": 8,
    "start_time": "2022-03-07T22:33:42.245Z"
   },
   {
    "duration": 3,
    "start_time": "2022-03-07T22:33:42.255Z"
   },
   {
    "duration": 8,
    "start_time": "2022-03-07T22:33:42.259Z"
   },
   {
    "duration": 3,
    "start_time": "2022-03-07T22:33:42.268Z"
   },
   {
    "duration": 38,
    "start_time": "2022-03-07T22:33:42.272Z"
   },
   {
    "duration": 2,
    "start_time": "2022-03-07T22:33:42.312Z"
   },
   {
    "duration": 9,
    "start_time": "2022-03-07T22:33:42.315Z"
   },
   {
    "duration": 17,
    "start_time": "2022-03-07T22:33:42.325Z"
   },
   {
    "duration": 22,
    "start_time": "2022-03-07T22:33:42.343Z"
   },
   {
    "duration": 4,
    "start_time": "2022-03-07T22:33:42.366Z"
   },
   {
    "duration": 1775,
    "start_time": "2022-03-07T22:33:42.372Z"
   },
   {
    "duration": 5,
    "start_time": "2022-03-07T22:33:44.148Z"
   },
   {
    "duration": 289,
    "start_time": "2022-03-07T22:33:44.154Z"
   },
   {
    "duration": 261,
    "start_time": "2022-03-07T22:33:44.445Z"
   },
   {
    "duration": 51240,
    "start_time": "2022-03-07T22:33:44.707Z"
   },
   {
    "duration": 4,
    "start_time": "2022-03-07T22:34:35.949Z"
   },
   {
    "duration": 268,
    "start_time": "2022-03-07T22:34:35.954Z"
   },
   {
    "duration": 546,
    "start_time": "2022-03-07T22:34:36.224Z"
   },
   {
    "duration": 37,
    "start_time": "2022-03-07T22:34:36.772Z"
   },
   {
    "duration": 418,
    "start_time": "2022-03-07T22:34:36.811Z"
   },
   {
    "duration": 4,
    "start_time": "2022-03-07T22:34:37.231Z"
   },
   {
    "duration": 13,
    "start_time": "2022-03-07T22:34:37.237Z"
   },
   {
    "duration": 280,
    "start_time": "2022-03-07T22:34:37.251Z"
   },
   {
    "duration": 527,
    "start_time": "2022-03-07T22:34:37.533Z"
   },
   {
    "duration": 471,
    "start_time": "2022-03-07T22:34:38.062Z"
   },
   {
    "duration": 259,
    "start_time": "2022-03-07T22:34:38.535Z"
   },
   {
    "duration": 460,
    "start_time": "2022-03-07T22:34:38.795Z"
   },
   {
    "duration": 466,
    "start_time": "2022-03-07T22:34:39.257Z"
   },
   {
    "duration": 10,
    "start_time": "2022-03-07T22:34:39.725Z"
   },
   {
    "duration": 10,
    "start_time": "2022-03-07T22:34:39.737Z"
   },
   {
    "duration": 13,
    "start_time": "2022-03-07T22:34:39.749Z"
   },
   {
    "duration": 624,
    "start_time": "2022-03-07T22:34:39.764Z"
   },
   {
    "duration": 8,
    "start_time": "2022-03-07T22:34:40.390Z"
   },
   {
    "duration": 9,
    "start_time": "2022-03-07T22:36:56.416Z"
   },
   {
    "duration": 11,
    "start_time": "2022-03-07T22:37:04.216Z"
   },
   {
    "duration": 10,
    "start_time": "2022-03-07T22:37:12.713Z"
   }
  ],
  "kernelspec": {
   "display_name": "Python 3 (ipykernel)",
   "language": "python",
   "name": "python3"
  },
  "language_info": {
   "codemirror_mode": {
    "name": "ipython",
    "version": 3
   },
   "file_extension": ".py",
   "mimetype": "text/x-python",
   "name": "python",
   "nbconvert_exporter": "python",
   "pygments_lexer": "ipython3",
   "version": "3.9.12"
  },
  "toc": {
   "base_numbering": 1,
   "nav_menu": {},
   "number_sections": true,
   "sideBar": true,
   "skip_h1_title": true,
   "title_cell": "Содержание",
   "title_sidebar": "Contents",
   "toc_cell": true,
   "toc_position": {},
   "toc_section_display": true,
   "toc_window_display": false
  }
 },
 "nbformat": 4,
 "nbformat_minor": 2
}
