{
 "cells": [
  {
   "cell_type": "markdown",
   "metadata": {},
   "source": [
    "<a id='step1'></a>"
   ]
  },
  {
   "cell_type": "markdown",
   "metadata": {
    "toc": true
   },
   "source": [
    "<h1>Содержание<span class=\"tocSkip\"></span></h1>\n",
    "<div class=\"toc\"><ul class=\"toc-item\"><li><span><a href=\"#Подготовка-данных\" data-toc-modified-id=\"Подготовка-данных-1\"><span class=\"toc-item-num\">1&nbsp;&nbsp;</span>Подготовка данных</a></span></li><li><span><a href=\"#Обучение-и-проверка-модели\" data-toc-modified-id=\"Обучение-и-проверка-модели-2\"><span class=\"toc-item-num\">2&nbsp;&nbsp;</span>Обучение и проверка модели</a></span></li><li><span><a href=\"#Подготовка-к-расчёту-прибыли\" data-toc-modified-id=\"Подготовка-к-расчёту-прибыли-3\"><span class=\"toc-item-num\">3&nbsp;&nbsp;</span>Подготовка к расчёту прибыли</a></span></li><li><span><a href=\"#Написание-функции-для-расчёта-прибыли\" data-toc-modified-id=\"Написание-функции-для-расчёта-прибыли-4\"><span class=\"toc-item-num\">4&nbsp;&nbsp;</span>Написание функции для расчёта прибыли</a></span></li><li><span><a href=\"#Расчёт-прибыли-и-рисков-для-каждого-региона\" data-toc-modified-id=\"Расчёт-прибыли-и-рисков-для-каждого-региона-5\"><span class=\"toc-item-num\">5&nbsp;&nbsp;</span>Расчёт прибыли и рисков для каждого региона</a></span></li><li><span><a href=\"#Общий-вывод\" data-toc-modified-id=\"Общий-вывод-6\"><span class=\"toc-item-num\">6&nbsp;&nbsp;</span>Общий вывод</a></span></li><li><span><a href=\"#Чек-лист-готовности-проекта\" data-toc-modified-id=\"Чек-лист-готовности-проекта-7\"><span class=\"toc-item-num\">7&nbsp;&nbsp;</span>Чек-лист готовности проекта</a></span></li></ul></div>"
   ]
  },
  {
   "cell_type": "markdown",
   "metadata": {},
   "source": [
    "<h1> Комментарий ревьюера </h1>\n",
    "\n",
    "Привет, Илья! Меня зовут Виктория Ильина, и я буду проверять твой проект. Предлагаю общаться на \"ты\", но если тебе будет не комфортно, обязательно сообщи и мы перейдем на \"вы\". \n",
    "\n",
    "Моя основная цель - не указать на совершённые тобой ошибки, а поделиться своим опытом и помочь тебе стать специалистом по Data Science. Ты уже проделал большую работу над проектом, но давай сделаем его ещё лучше. Ниже ты найдёшь мои комментарии - пожалуйста, не перемещай, не изменяй и не удаляй их. Я буду использовать различные цвета, чтобы было легче воспринимать мои комментарии:\n",
    "\n",
    "<div class=\"alert alert-block alert-danger\">\n",
    "<b>Комментарий ревьюера❌:</b> Так выделены самые важные замечания. Без их отработки проект не будет принят.\n",
    "</div>\n",
    "\n",
    "<div class=\"alert alert-block alert-warning\">\n",
    "<b>Комментарий ревьюера🤔:</b> Так выделены небольшие замечания. Одно-два таких замечания в проекте допустимы, но если их будет больше - тебе будет необходимо внести исправления. Однако, если перед нами стоит цель не просто сдать проект и забыть, а приобрести новые знания и успешно применять их в будущем, я бы всё-таки рекомендовала тебе прорабатывать эти недочёты.\n",
    "</div>\n",
    "    \n",
    "<div class=\"alert alert-block alert-success\">\n",
    "<b>Комментарий ревьюера👍:</b> Так я выделю все остальные комментарии.\n",
    "</div>\n",
    "    \n",
    "Давай работать над проектом в диалоге: если ты что-то меняешь в проекте или отвечаешь на мои комментарии - пиши об этом. Мне будет легче отследить изменения, если ты выделишь свои комментарии:\n",
    "\n",
    "<div class=\"alert alert-block alert-info\">\n",
    "<b>Комментарий студента:</b> Например, вот так.\n",
    "</div>\n",
    "\n",
    "Давай посмотрим, что получилось!"
   ]
  },
  {
   "cell_type": "markdown",
   "metadata": {
    "toc": true
   },
   "source": [
    "<h1>Содержание<span class=\"tocSkip\"></span></h1>\n",
    "<div class=\"toc\"><ul class=\"toc-item\"><li><span><a href=\"#Подготовка-данных\" data-toc-modified-id=\"Подготовка-данных-1\"><span class=\"toc-item-num\">1&nbsp;&nbsp;</span>Подготовка данных</a></span></li><li><span><a href=\"#Обучение-и-проверка-модели\" data-toc-modified-id=\"Обучение-и-проверка-модели-2\"><span class=\"toc-item-num\">2&nbsp;&nbsp;</span>Обучение и проверка модели</a></span></li><li><span><a href=\"#Подготовка-к-расчёту-прибыли\" data-toc-modified-id=\"Подготовка-к-расчёту-прибыли-3\"><span class=\"toc-item-num\">3&nbsp;&nbsp;</span>Подготовка к расчёту прибыли</a></span></li><li><span><a href=\"#Написание-функции-для-расчёта-прибыли\" data-toc-modified-id=\"Написание-функции-для-расчёта-прибыли-4\"><span class=\"toc-item-num\">4&nbsp;&nbsp;</span>Написание функции для расчёта прибыли</a></span></li><li><span><a href=\"#Расчёт-прибыли-и-рисков-для-каждого-региона\" data-toc-modified-id=\"Расчёт-прибыли-и-рисков-для-каждого-региона-5\"><span class=\"toc-item-num\">5&nbsp;&nbsp;</span>Расчёт прибыли и рисков для каждого региона</a></span></li><li><span><a href=\"#Общий-вывод\" data-toc-modified-id=\"Общий-вывод-6\"><span class=\"toc-item-num\">6&nbsp;&nbsp;</span>Общий вывод</a></span></li><li><span><a href=\"#Чек-лист-готовности-проекта\" data-toc-modified-id=\"Чек-лист-готовности-проекта-7\"><span class=\"toc-item-num\">7&nbsp;&nbsp;</span>Чек-лист готовности проекта</a></span></li></ul></div>"
   ]
  },
  {
   "cell_type": "markdown",
   "metadata": {},
   "source": [
    "# Определение наиболее прибыльного региона для добычи нефти"
   ]
  },
  {
   "cell_type": "markdown",
   "metadata": {},
   "source": [
    "В добывающей компании «ГлавРосГосНефть». Нужно решить, где бурить новую скважину.\n",
    "\n",
    "Предоставлены пробы нефти в трёх регионах: в каждом 10 000 месторождений, где измерили качество нефти и объём её запасов. Построим модель машинного обучения, которая поможет определить регион, где добыча принесёт наибольшую прибыль. Проанализируем возможную прибыль и риски техникой *Bootstrap.*\n",
    "\n",
    "Шаги для выбора локации:\n",
    "\n",
    "- В избранном регионе ищут месторождения, для каждого определяют значения признаков;\n",
    "- Строят модель и оценивают объём запасов;\n",
    "- Выбирают месторождения с самым высокими оценками значений. Количество месторождений зависит от бюджета компании и стоимости разработки одной скважины;\n",
    "- Прибыль равна суммарной прибыли отобранных месторождений."
   ]
  },
  {
   "cell_type": "markdown",
   "metadata": {},
   "source": [
    "<div style=\"border:solid green 2px; padding: 20px\">\n",
    "    \n",
    "### Основная цель:<a class=\"tocSkip\">     \n",
    "    \n",
    "__Определение наиболее прибыльного региона для добычи нефти__\n",
    "    \n",
    " \n",
    "### Задача  проекта:<a class=\"tocSkip\">\n",
    "    \n",
    "- Построить модель для __предсказания__ объёма запасов в новых скважинах;\n",
    "- Выбрать скважины с __самыми высокими__ оценками значений;\n",
    "- Определить регион с __максимальной суммарной__ прибылью отобранных скважин.    \n",
    "    \n",
    "    \n",
    "### Инструкция по выполнению проекта <a class=\"tocSkip\"> \n",
    "    \n",
    "\n",
    "\n",
    "    \n",
    "- 1 __Загрузить и подготовить данные__. Пояснить порядок действий.<br>\n",
    "<br>    \n",
    "- 2 __Обучить и проверить модель для каждого региона:__<br>\n",
    "2.1. Разбейть данные на обучающую и валидационную выборки в соотношении __75:25__.<br>\n",
    "2.2. __Обучить__ модель и __сделать предсказания__ на __валидационной__ выборке.<br>\n",
    "2.3. __Сохранить__ предсказания и правильные ответы на __валидационной__ выборке.<br>\n",
    "2.4. Напечатать на экране __средний запас__ предсказанного сырья и __RMSE__ модели.<br>\n",
    "2.5. Проанализировать результаты.<br>\n",
    "- 3 __Подготовиться к расчёту прибыли:__<br>\n",
    "3.1. Все __ключевые значения__ для расчётов сохраните в __отдельных переменных__.<br>\n",
    "3.2. Рассчитать достаточный объём сырья для __безубыточной__ разработки новой скважины. __Сравнить__ полученный объём сырья со __средним запасом__ в каждом регионе.<br>\n",
    "3.3. __Написать выводы__ по этапу подготовки расчёта прибыли.<br>\n",
    "- 4 __Написать функцию для расчёта прибыли по выбранным скважинам и предсказаниям модели:__\n",
    "4.1. Выберать скважины с __максимальными__ значениями предсказаний.<br>\n",
    "4.2. Просуммировать __целевое значение__ объёма сырья, соответствующее этим предсказаниям.<br>\n",
    "4.3. Рассчитать прибыль для полученного объёма сырья.<br>\n",
    "- 5 Посчитать __риски__ и __прибыль__ для каждого региона:<br>\n",
    "5.1. Применить технику __Bootstrap__ с 1000 выборок, чтобы найти __распределение прибыли__.<br>\n",
    "5.2. Найти среднюю прибыль, 95%-й доверительный интервал и риск убытков. Убыток — это отрицательная прибыль.<br>\n",
    "5.3. Напишите выводы: предложите регион для разработки скважин и обоснуйте выбор.\n",
    "    \n",
    "\n",
    "    \n",
    "\n",
    "    \n",
    "  \n",
    "\n",
    "    \n",
    "\n",
    "</div>"
   ]
  },
  {
   "cell_type": "code",
   "execution_count": 1,
   "metadata": {},
   "outputs": [],
   "source": [
    "import pandas as pd\n",
    "import numpy as np\n",
    "from IPython.display import display\n",
    "%matplotlib inline\n",
    "import seaborn as sn\n",
    "import matplotlib.pyplot as plt\n",
    "\n",
    "#Из библиотеки sklearn импортирую Линейную регрессию, метрику MSE и train_test_split для разделения датасетов на выборки\n",
    "from sklearn.linear_model import LinearRegression\n",
    "from sklearn.metrics import mean_squared_error# импорт метрики Среднеквадратичная ошибка (Mean Squared Error)\n",
    "from sklearn.model_selection import train_test_split\n",
    "\n",
    "import warnings\n",
    "#warnings.simplefilter('ignore')\n"
   ]
  },
  {
   "cell_type": "code",
   "execution_count": 2,
   "metadata": {},
   "outputs": [],
   "source": [
    "pd.set_option('display.float_format', '{:,.2f}'.format)# вывод без экспонентациальных форм и лишних запятых.\n",
    "pd.set_option('display.max_columns', None) # вывод всех колонок датасета без урезания.\n",
    "\n",
    "try: #конструкция try-except помогает выбрать работающий путь к исследуемым файлам\n",
    "    df_0 = pd.read_csv('/data_set/7geo-dobicha/geo_data_0.csv')# чтение файла с данными с сохранением  /Работа - Локально/\n",
    "    df_1 = pd.read_csv('/data_set/7geo-dobicha/geo_data_1.csv')\n",
    "    df_2 = pd.read_csv('/data_set/7geo-dobicha/geo_data_2.csv')\n",
    "except:\n",
    "    df_0 = pd.read_csv('/datasets/geo_data_0.csv')# чтение файла с данными с сохранением /Работа - сервер Яндекс\n",
    "    df_1 = pd.read_csv('/datasets/geo_data_1.csv')\n",
    "    df_2 = pd.read_csv('/datasets/geo_data_2.csv')"
   ]
  },
  {
   "cell_type": "markdown",
   "metadata": {},
   "source": [
    "<div class=\"alert alert-block alert-success\">\n",
    "<b>Комментарий ревьюера👍:</b> Все библиотеки импортированы и данные загружены, можем двигаться дальше!\n",
    "</div>"
   ]
  },
  {
   "cell_type": "markdown",
   "metadata": {},
   "source": [
    "## Подготовка данных\n",
    "[&#10224;](#step1)"
   ]
  },
  {
   "cell_type": "markdown",
   "metadata": {},
   "source": [
    "__Делаем предварительную оценку полученных данных__ "
   ]
  },
  {
   "cell_type": "markdown",
   "metadata": {},
   "source": [
    "Создадим список полученных таблиц"
   ]
  },
  {
   "cell_type": "code",
   "execution_count": 3,
   "metadata": {},
   "outputs": [
    {
     "name": "stdout",
     "output_type": "stream",
     "text": [
      "________________________________\n"
     ]
    },
    {
     "data": {
      "text/plain": [
       "'Общая информация по датафрейму:'"
      ]
     },
     "metadata": {},
     "output_type": "display_data"
    },
    {
     "data": {
      "text/html": [
       "<div>\n",
       "<style scoped>\n",
       "    .dataframe tbody tr th:only-of-type {\n",
       "        vertical-align: middle;\n",
       "    }\n",
       "\n",
       "    .dataframe tbody tr th {\n",
       "        vertical-align: top;\n",
       "    }\n",
       "\n",
       "    .dataframe thead th {\n",
       "        text-align: right;\n",
       "    }\n",
       "</style>\n",
       "<table border=\"1\" class=\"dataframe\">\n",
       "  <thead>\n",
       "    <tr style=\"text-align: right;\">\n",
       "      <th></th>\n",
       "      <th>id</th>\n",
       "      <th>f0</th>\n",
       "      <th>f1</th>\n",
       "      <th>f2</th>\n",
       "      <th>product</th>\n",
       "    </tr>\n",
       "  </thead>\n",
       "  <tbody>\n",
       "    <tr>\n",
       "      <th>0</th>\n",
       "      <td>txEyH</td>\n",
       "      <td>0.71</td>\n",
       "      <td>-0.50</td>\n",
       "      <td>1.22</td>\n",
       "      <td>105.28</td>\n",
       "    </tr>\n",
       "    <tr>\n",
       "      <th>1</th>\n",
       "      <td>2acmU</td>\n",
       "      <td>1.33</td>\n",
       "      <td>-0.34</td>\n",
       "      <td>4.37</td>\n",
       "      <td>73.04</td>\n",
       "    </tr>\n",
       "    <tr>\n",
       "      <th>2</th>\n",
       "      <td>409Wp</td>\n",
       "      <td>1.02</td>\n",
       "      <td>0.15</td>\n",
       "      <td>1.42</td>\n",
       "      <td>85.27</td>\n",
       "    </tr>\n",
       "  </tbody>\n",
       "</table>\n",
       "</div>"
      ],
      "text/plain": [
       "      id   f0    f1   f2  product\n",
       "0  txEyH 0.71 -0.50 1.22   105.28\n",
       "1  2acmU 1.33 -0.34 4.37    73.04\n",
       "2  409Wp 1.02  0.15 1.42    85.27"
      ]
     },
     "metadata": {},
     "output_type": "display_data"
    },
    {
     "data": {
      "text/plain": [
       "None"
      ]
     },
     "metadata": {},
     "output_type": "display_data"
    },
    {
     "name": "stdout",
     "output_type": "stream",
     "text": [
      "Типы данных:\n",
      "<class 'pandas.core.frame.DataFrame'>\n",
      "RangeIndex: 100000 entries, 0 to 99999\n",
      "Data columns (total 5 columns):\n",
      " #   Column   Non-Null Count   Dtype  \n",
      "---  ------   --------------   -----  \n",
      " 0   id       100000 non-null  object \n",
      " 1   f0       100000 non-null  float64\n",
      " 2   f1       100000 non-null  float64\n",
      " 3   f2       100000 non-null  float64\n",
      " 4   product  100000 non-null  float64\n",
      "dtypes: float64(4), object(1)\n",
      "memory usage: 3.8+ MB\n"
     ]
    },
    {
     "data": {
      "text/plain": [
       "None"
      ]
     },
     "metadata": {},
     "output_type": "display_data"
    },
    {
     "data": {
      "text/plain": [
       "None"
      ]
     },
     "metadata": {},
     "output_type": "display_data"
    },
    {
     "data": {
      "text/plain": [
       "'Количество обнаруженных дубликатов:'"
      ]
     },
     "metadata": {},
     "output_type": "display_data"
    },
    {
     "data": {
      "text/plain": [
       "0"
      ]
     },
     "metadata": {},
     "output_type": "display_data"
    },
    {
     "data": {
      "text/plain": [
       "'Пропущенных значений в таблице:'"
      ]
     },
     "metadata": {},
     "output_type": "display_data"
    },
    {
     "data": {
      "text/html": [
       "<div>\n",
       "<style scoped>\n",
       "    .dataframe tbody tr th:only-of-type {\n",
       "        vertical-align: middle;\n",
       "    }\n",
       "\n",
       "    .dataframe tbody tr th {\n",
       "        vertical-align: top;\n",
       "    }\n",
       "\n",
       "    .dataframe thead th {\n",
       "        text-align: right;\n",
       "    }\n",
       "</style>\n",
       "<table border=\"1\" class=\"dataframe\">\n",
       "  <thead>\n",
       "    <tr style=\"text-align: right;\">\n",
       "      <th></th>\n",
       "      <th>index</th>\n",
       "      <th>0</th>\n",
       "    </tr>\n",
       "  </thead>\n",
       "  <tbody>\n",
       "    <tr>\n",
       "      <th>0</th>\n",
       "      <td>id</td>\n",
       "      <td>0.00</td>\n",
       "    </tr>\n",
       "    <tr>\n",
       "      <th>1</th>\n",
       "      <td>f0</td>\n",
       "      <td>0.00</td>\n",
       "    </tr>\n",
       "    <tr>\n",
       "      <th>2</th>\n",
       "      <td>f1</td>\n",
       "      <td>0.00</td>\n",
       "    </tr>\n",
       "    <tr>\n",
       "      <th>3</th>\n",
       "      <td>f2</td>\n",
       "      <td>0.00</td>\n",
       "    </tr>\n",
       "    <tr>\n",
       "      <th>4</th>\n",
       "      <td>product</td>\n",
       "      <td>0.00</td>\n",
       "    </tr>\n",
       "  </tbody>\n",
       "</table>\n",
       "</div>"
      ],
      "text/plain": [
       "     index    0\n",
       "0       id 0.00\n",
       "1       f0 0.00\n",
       "2       f1 0.00\n",
       "3       f2 0.00\n",
       "4  product 0.00"
      ]
     },
     "metadata": {},
     "output_type": "display_data"
    },
    {
     "name": "stdout",
     "output_type": "stream",
     "text": [
      "________________________________\n"
     ]
    },
    {
     "data": {
      "text/plain": [
       "'Общая информация по датафрейму:'"
      ]
     },
     "metadata": {},
     "output_type": "display_data"
    },
    {
     "data": {
      "text/html": [
       "<div>\n",
       "<style scoped>\n",
       "    .dataframe tbody tr th:only-of-type {\n",
       "        vertical-align: middle;\n",
       "    }\n",
       "\n",
       "    .dataframe tbody tr th {\n",
       "        vertical-align: top;\n",
       "    }\n",
       "\n",
       "    .dataframe thead th {\n",
       "        text-align: right;\n",
       "    }\n",
       "</style>\n",
       "<table border=\"1\" class=\"dataframe\">\n",
       "  <thead>\n",
       "    <tr style=\"text-align: right;\">\n",
       "      <th></th>\n",
       "      <th>id</th>\n",
       "      <th>f0</th>\n",
       "      <th>f1</th>\n",
       "      <th>f2</th>\n",
       "      <th>product</th>\n",
       "    </tr>\n",
       "  </thead>\n",
       "  <tbody>\n",
       "    <tr>\n",
       "      <th>0</th>\n",
       "      <td>kBEdx</td>\n",
       "      <td>-15.00</td>\n",
       "      <td>-8.28</td>\n",
       "      <td>-0.01</td>\n",
       "      <td>3.18</td>\n",
       "    </tr>\n",
       "    <tr>\n",
       "      <th>1</th>\n",
       "      <td>62mP7</td>\n",
       "      <td>14.27</td>\n",
       "      <td>-3.48</td>\n",
       "      <td>1.00</td>\n",
       "      <td>26.95</td>\n",
       "    </tr>\n",
       "    <tr>\n",
       "      <th>2</th>\n",
       "      <td>vyE1P</td>\n",
       "      <td>6.26</td>\n",
       "      <td>-5.95</td>\n",
       "      <td>5.00</td>\n",
       "      <td>134.77</td>\n",
       "    </tr>\n",
       "  </tbody>\n",
       "</table>\n",
       "</div>"
      ],
      "text/plain": [
       "      id     f0    f1    f2  product\n",
       "0  kBEdx -15.00 -8.28 -0.01     3.18\n",
       "1  62mP7  14.27 -3.48  1.00    26.95\n",
       "2  vyE1P   6.26 -5.95  5.00   134.77"
      ]
     },
     "metadata": {},
     "output_type": "display_data"
    },
    {
     "data": {
      "text/plain": [
       "None"
      ]
     },
     "metadata": {},
     "output_type": "display_data"
    },
    {
     "name": "stdout",
     "output_type": "stream",
     "text": [
      "Типы данных:\n",
      "<class 'pandas.core.frame.DataFrame'>\n",
      "RangeIndex: 100000 entries, 0 to 99999\n",
      "Data columns (total 5 columns):\n",
      " #   Column   Non-Null Count   Dtype  \n",
      "---  ------   --------------   -----  \n",
      " 0   id       100000 non-null  object \n",
      " 1   f0       100000 non-null  float64\n",
      " 2   f1       100000 non-null  float64\n",
      " 3   f2       100000 non-null  float64\n",
      " 4   product  100000 non-null  float64\n",
      "dtypes: float64(4), object(1)\n",
      "memory usage: 3.8+ MB\n"
     ]
    },
    {
     "data": {
      "text/plain": [
       "None"
      ]
     },
     "metadata": {},
     "output_type": "display_data"
    },
    {
     "data": {
      "text/plain": [
       "None"
      ]
     },
     "metadata": {},
     "output_type": "display_data"
    },
    {
     "data": {
      "text/plain": [
       "'Количество обнаруженных дубликатов:'"
      ]
     },
     "metadata": {},
     "output_type": "display_data"
    },
    {
     "data": {
      "text/plain": [
       "0"
      ]
     },
     "metadata": {},
     "output_type": "display_data"
    },
    {
     "data": {
      "text/plain": [
       "'Пропущенных значений в таблице:'"
      ]
     },
     "metadata": {},
     "output_type": "display_data"
    },
    {
     "data": {
      "text/html": [
       "<div>\n",
       "<style scoped>\n",
       "    .dataframe tbody tr th:only-of-type {\n",
       "        vertical-align: middle;\n",
       "    }\n",
       "\n",
       "    .dataframe tbody tr th {\n",
       "        vertical-align: top;\n",
       "    }\n",
       "\n",
       "    .dataframe thead th {\n",
       "        text-align: right;\n",
       "    }\n",
       "</style>\n",
       "<table border=\"1\" class=\"dataframe\">\n",
       "  <thead>\n",
       "    <tr style=\"text-align: right;\">\n",
       "      <th></th>\n",
       "      <th>index</th>\n",
       "      <th>0</th>\n",
       "    </tr>\n",
       "  </thead>\n",
       "  <tbody>\n",
       "    <tr>\n",
       "      <th>0</th>\n",
       "      <td>id</td>\n",
       "      <td>0.00</td>\n",
       "    </tr>\n",
       "    <tr>\n",
       "      <th>1</th>\n",
       "      <td>f0</td>\n",
       "      <td>0.00</td>\n",
       "    </tr>\n",
       "    <tr>\n",
       "      <th>2</th>\n",
       "      <td>f1</td>\n",
       "      <td>0.00</td>\n",
       "    </tr>\n",
       "    <tr>\n",
       "      <th>3</th>\n",
       "      <td>f2</td>\n",
       "      <td>0.00</td>\n",
       "    </tr>\n",
       "    <tr>\n",
       "      <th>4</th>\n",
       "      <td>product</td>\n",
       "      <td>0.00</td>\n",
       "    </tr>\n",
       "  </tbody>\n",
       "</table>\n",
       "</div>"
      ],
      "text/plain": [
       "     index    0\n",
       "0       id 0.00\n",
       "1       f0 0.00\n",
       "2       f1 0.00\n",
       "3       f2 0.00\n",
       "4  product 0.00"
      ]
     },
     "metadata": {},
     "output_type": "display_data"
    },
    {
     "name": "stdout",
     "output_type": "stream",
     "text": [
      "________________________________\n"
     ]
    },
    {
     "data": {
      "text/plain": [
       "'Общая информация по датафрейму:'"
      ]
     },
     "metadata": {},
     "output_type": "display_data"
    },
    {
     "data": {
      "text/html": [
       "<div>\n",
       "<style scoped>\n",
       "    .dataframe tbody tr th:only-of-type {\n",
       "        vertical-align: middle;\n",
       "    }\n",
       "\n",
       "    .dataframe tbody tr th {\n",
       "        vertical-align: top;\n",
       "    }\n",
       "\n",
       "    .dataframe thead th {\n",
       "        text-align: right;\n",
       "    }\n",
       "</style>\n",
       "<table border=\"1\" class=\"dataframe\">\n",
       "  <thead>\n",
       "    <tr style=\"text-align: right;\">\n",
       "      <th></th>\n",
       "      <th>id</th>\n",
       "      <th>f0</th>\n",
       "      <th>f1</th>\n",
       "      <th>f2</th>\n",
       "      <th>product</th>\n",
       "    </tr>\n",
       "  </thead>\n",
       "  <tbody>\n",
       "    <tr>\n",
       "      <th>0</th>\n",
       "      <td>fwXo0</td>\n",
       "      <td>-1.15</td>\n",
       "      <td>0.96</td>\n",
       "      <td>-0.83</td>\n",
       "      <td>27.76</td>\n",
       "    </tr>\n",
       "    <tr>\n",
       "      <th>1</th>\n",
       "      <td>WJtFt</td>\n",
       "      <td>0.26</td>\n",
       "      <td>0.27</td>\n",
       "      <td>-2.53</td>\n",
       "      <td>56.07</td>\n",
       "    </tr>\n",
       "    <tr>\n",
       "      <th>2</th>\n",
       "      <td>ovLUW</td>\n",
       "      <td>0.19</td>\n",
       "      <td>0.29</td>\n",
       "      <td>-5.59</td>\n",
       "      <td>62.87</td>\n",
       "    </tr>\n",
       "  </tbody>\n",
       "</table>\n",
       "</div>"
      ],
      "text/plain": [
       "      id    f0   f1    f2  product\n",
       "0  fwXo0 -1.15 0.96 -0.83    27.76\n",
       "1  WJtFt  0.26 0.27 -2.53    56.07\n",
       "2  ovLUW  0.19 0.29 -5.59    62.87"
      ]
     },
     "metadata": {},
     "output_type": "display_data"
    },
    {
     "data": {
      "text/plain": [
       "None"
      ]
     },
     "metadata": {},
     "output_type": "display_data"
    },
    {
     "name": "stdout",
     "output_type": "stream",
     "text": [
      "Типы данных:\n",
      "<class 'pandas.core.frame.DataFrame'>\n",
      "RangeIndex: 100000 entries, 0 to 99999\n",
      "Data columns (total 5 columns):\n",
      " #   Column   Non-Null Count   Dtype  \n",
      "---  ------   --------------   -----  \n",
      " 0   id       100000 non-null  object \n",
      " 1   f0       100000 non-null  float64\n",
      " 2   f1       100000 non-null  float64\n",
      " 3   f2       100000 non-null  float64\n",
      " 4   product  100000 non-null  float64\n",
      "dtypes: float64(4), object(1)\n",
      "memory usage: 3.8+ MB\n"
     ]
    },
    {
     "data": {
      "text/plain": [
       "None"
      ]
     },
     "metadata": {},
     "output_type": "display_data"
    },
    {
     "data": {
      "text/plain": [
       "None"
      ]
     },
     "metadata": {},
     "output_type": "display_data"
    },
    {
     "data": {
      "text/plain": [
       "'Количество обнаруженных дубликатов:'"
      ]
     },
     "metadata": {},
     "output_type": "display_data"
    },
    {
     "data": {
      "text/plain": [
       "0"
      ]
     },
     "metadata": {},
     "output_type": "display_data"
    },
    {
     "data": {
      "text/plain": [
       "'Пропущенных значений в таблице:'"
      ]
     },
     "metadata": {},
     "output_type": "display_data"
    },
    {
     "data": {
      "text/html": [
       "<div>\n",
       "<style scoped>\n",
       "    .dataframe tbody tr th:only-of-type {\n",
       "        vertical-align: middle;\n",
       "    }\n",
       "\n",
       "    .dataframe tbody tr th {\n",
       "        vertical-align: top;\n",
       "    }\n",
       "\n",
       "    .dataframe thead th {\n",
       "        text-align: right;\n",
       "    }\n",
       "</style>\n",
       "<table border=\"1\" class=\"dataframe\">\n",
       "  <thead>\n",
       "    <tr style=\"text-align: right;\">\n",
       "      <th></th>\n",
       "      <th>index</th>\n",
       "      <th>0</th>\n",
       "    </tr>\n",
       "  </thead>\n",
       "  <tbody>\n",
       "    <tr>\n",
       "      <th>0</th>\n",
       "      <td>id</td>\n",
       "      <td>0.00</td>\n",
       "    </tr>\n",
       "    <tr>\n",
       "      <th>1</th>\n",
       "      <td>f0</td>\n",
       "      <td>0.00</td>\n",
       "    </tr>\n",
       "    <tr>\n",
       "      <th>2</th>\n",
       "      <td>f1</td>\n",
       "      <td>0.00</td>\n",
       "    </tr>\n",
       "    <tr>\n",
       "      <th>3</th>\n",
       "      <td>f2</td>\n",
       "      <td>0.00</td>\n",
       "    </tr>\n",
       "    <tr>\n",
       "      <th>4</th>\n",
       "      <td>product</td>\n",
       "      <td>0.00</td>\n",
       "    </tr>\n",
       "  </tbody>\n",
       "</table>\n",
       "</div>"
      ],
      "text/plain": [
       "     index    0\n",
       "0       id 0.00\n",
       "1       f0 0.00\n",
       "2       f1 0.00\n",
       "3       f2 0.00\n",
       "4  product 0.00"
      ]
     },
     "metadata": {},
     "output_type": "display_data"
    }
   ],
   "source": [
    "# создадим список из полученных датасетов и через цикл посмотрим на общие данные и проверим на наличие дубликатов и пропусков  количество строк и столбцов(наблюдения-объекты и переменные-признаки),посмотрим также форматы данных \n",
    "df_list = [df_0, df_1 , df_2]\n",
    "for i in df_list:\n",
    "    display(\"Общая информация по датафрейму:\",i.head(3),print(\"________________________________\"))\n",
    "    display(print(\"Типы данных:\"),i.info())# смотрим на типы даннх\n",
    "    display(\"Количество обнаруженных дубликатов:\",i.duplicated().sum())# проверим полученные таблицы на дубликаты\n",
    "    display(\"Пропущенных значений в таблице:\",(i.isna().mean()* 100).reset_index())# поиск пропущенных значений\n",
    "     "
   ]
  },
  {
   "cell_type": "markdown",
   "metadata": {},
   "source": [
    "__Столбец id не является признаком для построения модели, удалим его из полученных для анализа таблиц.__"
   ]
  },
  {
   "cell_type": "code",
   "execution_count": 4,
   "metadata": {},
   "outputs": [
    {
     "data": {
      "text/html": [
       "<div>\n",
       "<style scoped>\n",
       "    .dataframe tbody tr th:only-of-type {\n",
       "        vertical-align: middle;\n",
       "    }\n",
       "\n",
       "    .dataframe tbody tr th {\n",
       "        vertical-align: top;\n",
       "    }\n",
       "\n",
       "    .dataframe thead th {\n",
       "        text-align: right;\n",
       "    }\n",
       "</style>\n",
       "<table border=\"1\" class=\"dataframe\">\n",
       "  <thead>\n",
       "    <tr style=\"text-align: right;\">\n",
       "      <th></th>\n",
       "      <th>f0</th>\n",
       "      <th>f1</th>\n",
       "      <th>f2</th>\n",
       "      <th>product</th>\n",
       "    </tr>\n",
       "  </thead>\n",
       "  <tbody>\n",
       "    <tr>\n",
       "      <th>0</th>\n",
       "      <td>0.71</td>\n",
       "      <td>-0.50</td>\n",
       "      <td>1.22</td>\n",
       "      <td>105.28</td>\n",
       "    </tr>\n",
       "  </tbody>\n",
       "</table>\n",
       "</div>"
      ],
      "text/plain": [
       "    f0    f1   f2  product\n",
       "0 0.71 -0.50 1.22   105.28"
      ]
     },
     "metadata": {},
     "output_type": "display_data"
    },
    {
     "data": {
      "text/html": [
       "<div>\n",
       "<style scoped>\n",
       "    .dataframe tbody tr th:only-of-type {\n",
       "        vertical-align: middle;\n",
       "    }\n",
       "\n",
       "    .dataframe tbody tr th {\n",
       "        vertical-align: top;\n",
       "    }\n",
       "\n",
       "    .dataframe thead th {\n",
       "        text-align: right;\n",
       "    }\n",
       "</style>\n",
       "<table border=\"1\" class=\"dataframe\">\n",
       "  <thead>\n",
       "    <tr style=\"text-align: right;\">\n",
       "      <th></th>\n",
       "      <th>f0</th>\n",
       "      <th>f1</th>\n",
       "      <th>f2</th>\n",
       "      <th>product</th>\n",
       "    </tr>\n",
       "  </thead>\n",
       "  <tbody>\n",
       "    <tr>\n",
       "      <th>0</th>\n",
       "      <td>-15.00</td>\n",
       "      <td>-8.28</td>\n",
       "      <td>-0.01</td>\n",
       "      <td>3.18</td>\n",
       "    </tr>\n",
       "  </tbody>\n",
       "</table>\n",
       "</div>"
      ],
      "text/plain": [
       "      f0    f1    f2  product\n",
       "0 -15.00 -8.28 -0.01     3.18"
      ]
     },
     "metadata": {},
     "output_type": "display_data"
    },
    {
     "data": {
      "text/html": [
       "<div>\n",
       "<style scoped>\n",
       "    .dataframe tbody tr th:only-of-type {\n",
       "        vertical-align: middle;\n",
       "    }\n",
       "\n",
       "    .dataframe tbody tr th {\n",
       "        vertical-align: top;\n",
       "    }\n",
       "\n",
       "    .dataframe thead th {\n",
       "        text-align: right;\n",
       "    }\n",
       "</style>\n",
       "<table border=\"1\" class=\"dataframe\">\n",
       "  <thead>\n",
       "    <tr style=\"text-align: right;\">\n",
       "      <th></th>\n",
       "      <th>f0</th>\n",
       "      <th>f1</th>\n",
       "      <th>f2</th>\n",
       "      <th>product</th>\n",
       "    </tr>\n",
       "  </thead>\n",
       "  <tbody>\n",
       "    <tr>\n",
       "      <th>0</th>\n",
       "      <td>-1.15</td>\n",
       "      <td>0.96</td>\n",
       "      <td>-0.83</td>\n",
       "      <td>27.76</td>\n",
       "    </tr>\n",
       "  </tbody>\n",
       "</table>\n",
       "</div>"
      ],
      "text/plain": [
       "     f0   f1    f2  product\n",
       "0 -1.15 0.96 -0.83    27.76"
      ]
     },
     "metadata": {},
     "output_type": "display_data"
    }
   ],
   "source": [
    "for i in df_list:# циклом for пройдемся по ранее созданному списку df_list \n",
    "    i.drop(['id'], axis='columns', inplace=True)#  удалим,методом drop столбец id\n",
    "    display(i.head(1))# проверим результат удаления  столбца id"
   ]
  },
  {
   "cell_type": "markdown",
   "metadata": {},
   "source": [
    "__Посмотрим гистограммы распределения и boxplot по объёмам запасов в скважинах исследуемых 3-х регионах__."
   ]
  },
  {
   "cell_type": "code",
   "execution_count": 5,
   "metadata": {},
   "outputs": [
    {
     "data": {
      "image/png": "[encoded data removed]",
      "text/plain": [
       "<Figure size 864x504 with 1 Axes>"
      ]
     },
     "metadata": {
      "needs_background": "light"
     },
     "output_type": "display_data"
    },
    {
     "name": "stdout",
     "output_type": "stream",
     "text": [
      "______________________________________________________________________________________________\n"
     ]
    },
    {
     "data": {
      "image/png": "[encoded data removed]",
      "text/plain": [
       "<Figure size 864x504 with 1 Axes>"
      ]
     },
     "metadata": {
      "needs_background": "light"
     },
     "output_type": "display_data"
    }
   ],
   "source": [
    "df_0['product'].hist(bins=60,figsize=(12, 7)).set_title('Запасы в скважинах - 1-го Региона')\n",
    "plt.xlim(0,190)\n",
    "\n",
    "plt.xlabel(\"объём запасов в скважине (тыс. баррелей)\")\n",
    "plt.ylabel(\"частота упоминаний по объёму запасов\")\n",
    "plt.show()\n",
    "print('______________________________________________________________________________________________')\n",
    "df_0.plot(y='product', kind='box', figsize=(12, 7),title='Определяем выбросы по по объёму запасов для скважины - 1-го Региона ')\n",
    "plt.ylim(-15, 210)\n",
    "plt.xlim(0, 2) \n",
    "plt.show()"
   ]
  },
  {
   "cell_type": "code",
   "execution_count": 6,
   "metadata": {},
   "outputs": [
    {
     "data": {
      "image/png": "[encoded data removed]",
      "text/plain": [
       "<Figure size 864x504 with 1 Axes>"
      ]
     },
     "metadata": {
      "needs_background": "light"
     },
     "output_type": "display_data"
    },
    {
     "name": "stdout",
     "output_type": "stream",
     "text": [
      "______________________________________________________________________________________________\n"
     ]
    },
    {
     "data": {
      "image/png": "[encoded data removed]",
      "text/plain": [
       "<Figure size 864x504 with 1 Axes>"
      ]
     },
     "metadata": {
      "needs_background": "light"
     },
     "output_type": "display_data"
    }
   ],
   "source": [
    "df_1['product'].hist(bins=60,figsize=(12, 7)).set_title('Запасы в скважинах - 2-го Региона')\n",
    "plt.xlim(0,190)\n",
    "\n",
    "plt.xlabel(\"объём запасов в скважине (тыс. баррелей)\")\n",
    "plt.ylabel(\"частота упоминаний по объёму запасов\")\n",
    "plt.show()\n",
    "\n",
    "print('______________________________________________________________________________________________')\n",
    "df_1.plot(y='product', kind='box', figsize=(12, 7),title='Определяем выбросы по по объёму запасов для скважины - 2-го Региона ')\n",
    "plt.ylim(-15, 210)\n",
    "plt.xlim(0, 2) \n",
    "plt.show()"
   ]
  },
  {
   "cell_type": "code",
   "execution_count": 7,
   "metadata": {},
   "outputs": [
    {
     "data": {
      "image/png": "[encoded data removed]",
      "text/plain": [
       "<Figure size 864x504 with 1 Axes>"
      ]
     },
     "metadata": {
      "needs_background": "light"
     },
     "output_type": "display_data"
    },
    {
     "name": "stdout",
     "output_type": "stream",
     "text": [
      "______________________________________________________________________________________________\n"
     ]
    },
    {
     "data": {
      "image/png": "[encoded data removed]",
      "text/plain": [
       "<Figure size 864x504 with 1 Axes>"
      ]
     },
     "metadata": {
      "needs_background": "light"
     },
     "output_type": "display_data"
    }
   ],
   "source": [
    "df_2['product'].hist(bins=60,figsize=(12, 7)).set_title('Запасы в скважинах - 3-го Региона')\n",
    "plt.xlim(0,200)\n",
    "\n",
    "plt.xlabel(\"объём запасов в скважине (тыс. баррелей)\")\n",
    "plt.ylabel(\"частота упоминаний по объёму запасов\")\n",
    "plt.show()\n",
    "\n",
    "print('______________________________________________________________________________________________')\n",
    "df_2.plot(y='product', kind='box', figsize=(12, 7),title='Определяем выбросы по по объёму запасов для скважины - 3-го Региона ')\n",
    "plt.ylim(-15, 210)\n",
    "plt.xlim(0, 2) \n",
    "plt.show()"
   ]
  },
  {
   "cell_type": "markdown",
   "metadata": {},
   "source": [
    "__Посмотрим на основные цифровые показатели по регионам__"
   ]
  },
  {
   "cell_type": "code",
   "execution_count": 8,
   "metadata": {},
   "outputs": [
    {
     "data": {
      "text/html": [
       "<div>\n",
       "<style scoped>\n",
       "    .dataframe tbody tr th:only-of-type {\n",
       "        vertical-align: middle;\n",
       "    }\n",
       "\n",
       "    .dataframe tbody tr th {\n",
       "        vertical-align: top;\n",
       "    }\n",
       "\n",
       "    .dataframe thead th {\n",
       "        text-align: right;\n",
       "    }\n",
       "</style>\n",
       "<table border=\"1\" class=\"dataframe\">\n",
       "  <thead>\n",
       "    <tr style=\"text-align: right;\">\n",
       "      <th></th>\n",
       "      <th>f0</th>\n",
       "      <th>f1</th>\n",
       "      <th>f2</th>\n",
       "      <th>product</th>\n",
       "    </tr>\n",
       "  </thead>\n",
       "  <tbody>\n",
       "    <tr>\n",
       "      <th>count</th>\n",
       "      <td>100,000.00</td>\n",
       "      <td>100,000.00</td>\n",
       "      <td>100,000.00</td>\n",
       "      <td>100,000.00</td>\n",
       "    </tr>\n",
       "    <tr>\n",
       "      <th>mean</th>\n",
       "      <td>0.50</td>\n",
       "      <td>0.25</td>\n",
       "      <td>2.50</td>\n",
       "      <td>92.50</td>\n",
       "    </tr>\n",
       "    <tr>\n",
       "      <th>median</th>\n",
       "      <td>0.50</td>\n",
       "      <td>0.25</td>\n",
       "      <td>2.52</td>\n",
       "      <td>91.85</td>\n",
       "    </tr>\n",
       "    <tr>\n",
       "      <th>max</th>\n",
       "      <td>2.36</td>\n",
       "      <td>1.34</td>\n",
       "      <td>16.00</td>\n",
       "      <td>185.36</td>\n",
       "    </tr>\n",
       "    <tr>\n",
       "      <th>min</th>\n",
       "      <td>-1.41</td>\n",
       "      <td>-0.85</td>\n",
       "      <td>-12.09</td>\n",
       "      <td>0.00</td>\n",
       "    </tr>\n",
       "    <tr>\n",
       "      <th>sum</th>\n",
       "      <td>50,041.93</td>\n",
       "      <td>25,014.30</td>\n",
       "      <td>250,264.69</td>\n",
       "      <td>9,250,000.00</td>\n",
       "    </tr>\n",
       "  </tbody>\n",
       "</table>\n",
       "</div>"
      ],
      "text/plain": [
       "               f0         f1         f2      product\n",
       "count  100,000.00 100,000.00 100,000.00   100,000.00\n",
       "mean         0.50       0.25       2.50        92.50\n",
       "median       0.50       0.25       2.52        91.85\n",
       "max          2.36       1.34      16.00       185.36\n",
       "min         -1.41      -0.85     -12.09         0.00\n",
       "sum     50,041.93  25,014.30 250,264.69 9,250,000.00"
      ]
     },
     "metadata": {},
     "output_type": "display_data"
    },
    {
     "data": {
      "text/html": [
       "<div>\n",
       "<style scoped>\n",
       "    .dataframe tbody tr th:only-of-type {\n",
       "        vertical-align: middle;\n",
       "    }\n",
       "\n",
       "    .dataframe tbody tr th {\n",
       "        vertical-align: top;\n",
       "    }\n",
       "\n",
       "    .dataframe thead th {\n",
       "        text-align: right;\n",
       "    }\n",
       "</style>\n",
       "<table border=\"1\" class=\"dataframe\">\n",
       "  <thead>\n",
       "    <tr style=\"text-align: right;\">\n",
       "      <th></th>\n",
       "      <th>f0</th>\n",
       "      <th>f1</th>\n",
       "      <th>f2</th>\n",
       "      <th>product</th>\n",
       "    </tr>\n",
       "  </thead>\n",
       "  <tbody>\n",
       "    <tr>\n",
       "      <th>count</th>\n",
       "      <td>100,000.00</td>\n",
       "      <td>100,000.00</td>\n",
       "      <td>100,000.00</td>\n",
       "      <td>100,000.00</td>\n",
       "    </tr>\n",
       "    <tr>\n",
       "      <th>mean</th>\n",
       "      <td>1.14</td>\n",
       "      <td>-4.80</td>\n",
       "      <td>2.49</td>\n",
       "      <td>68.83</td>\n",
       "    </tr>\n",
       "    <tr>\n",
       "      <th>median</th>\n",
       "      <td>1.15</td>\n",
       "      <td>-4.81</td>\n",
       "      <td>2.01</td>\n",
       "      <td>57.09</td>\n",
       "    </tr>\n",
       "    <tr>\n",
       "      <th>max</th>\n",
       "      <td>29.42</td>\n",
       "      <td>18.73</td>\n",
       "      <td>5.02</td>\n",
       "      <td>137.95</td>\n",
       "    </tr>\n",
       "    <tr>\n",
       "      <th>min</th>\n",
       "      <td>-31.61</td>\n",
       "      <td>-26.36</td>\n",
       "      <td>-0.02</td>\n",
       "      <td>0.00</td>\n",
       "    </tr>\n",
       "    <tr>\n",
       "      <th>sum</th>\n",
       "      <td>114,129.58</td>\n",
       "      <td>-479,657.91</td>\n",
       "      <td>249,454.13</td>\n",
       "      <td>6,882,500.00</td>\n",
       "    </tr>\n",
       "  </tbody>\n",
       "</table>\n",
       "</div>"
      ],
      "text/plain": [
       "               f0          f1         f2      product\n",
       "count  100,000.00  100,000.00 100,000.00   100,000.00\n",
       "mean         1.14       -4.80       2.49        68.83\n",
       "median       1.15       -4.81       2.01        57.09\n",
       "max         29.42       18.73       5.02       137.95\n",
       "min        -31.61      -26.36      -0.02         0.00\n",
       "sum    114,129.58 -479,657.91 249,454.13 6,882,500.00"
      ]
     },
     "metadata": {},
     "output_type": "display_data"
    },
    {
     "data": {
      "text/html": [
       "<div>\n",
       "<style scoped>\n",
       "    .dataframe tbody tr th:only-of-type {\n",
       "        vertical-align: middle;\n",
       "    }\n",
       "\n",
       "    .dataframe tbody tr th {\n",
       "        vertical-align: top;\n",
       "    }\n",
       "\n",
       "    .dataframe thead th {\n",
       "        text-align: right;\n",
       "    }\n",
       "</style>\n",
       "<table border=\"1\" class=\"dataframe\">\n",
       "  <thead>\n",
       "    <tr style=\"text-align: right;\">\n",
       "      <th></th>\n",
       "      <th>f0</th>\n",
       "      <th>f1</th>\n",
       "      <th>f2</th>\n",
       "      <th>product</th>\n",
       "    </tr>\n",
       "  </thead>\n",
       "  <tbody>\n",
       "    <tr>\n",
       "      <th>count</th>\n",
       "      <td>100,000.00</td>\n",
       "      <td>100,000.00</td>\n",
       "      <td>100,000.00</td>\n",
       "      <td>100,000.00</td>\n",
       "    </tr>\n",
       "    <tr>\n",
       "      <th>mean</th>\n",
       "      <td>0.00</td>\n",
       "      <td>-0.00</td>\n",
       "      <td>2.50</td>\n",
       "      <td>95.00</td>\n",
       "    </tr>\n",
       "    <tr>\n",
       "      <th>median</th>\n",
       "      <td>0.01</td>\n",
       "      <td>-0.01</td>\n",
       "      <td>2.48</td>\n",
       "      <td>94.93</td>\n",
       "    </tr>\n",
       "    <tr>\n",
       "      <th>max</th>\n",
       "      <td>7.24</td>\n",
       "      <td>7.84</td>\n",
       "      <td>16.74</td>\n",
       "      <td>190.03</td>\n",
       "    </tr>\n",
       "    <tr>\n",
       "      <th>min</th>\n",
       "      <td>-8.76</td>\n",
       "      <td>-7.08</td>\n",
       "      <td>-11.97</td>\n",
       "      <td>0.00</td>\n",
       "    </tr>\n",
       "    <tr>\n",
       "      <th>sum</th>\n",
       "      <td>202.27</td>\n",
       "      <td>-208.05</td>\n",
       "      <td>249,512.76</td>\n",
       "      <td>9,500,000.00</td>\n",
       "    </tr>\n",
       "  </tbody>\n",
       "</table>\n",
       "</div>"
      ],
      "text/plain": [
       "               f0         f1         f2      product\n",
       "count  100,000.00 100,000.00 100,000.00   100,000.00\n",
       "mean         0.00      -0.00       2.50        95.00\n",
       "median       0.01      -0.01       2.48        94.93\n",
       "max          7.24       7.84      16.74       190.03\n",
       "min         -8.76      -7.08     -11.97         0.00\n",
       "sum        202.27    -208.05 249,512.76 9,500,000.00"
      ]
     },
     "metadata": {},
     "output_type": "display_data"
    }
   ],
   "source": [
    "for i in df_list:# циклом for пройдемся по ранее созданному списку df_list \n",
    "    display(i.agg(['count','mean','median','max','min','sum']))# не использовал describe из-за отсутствия параметра sum"
   ]
  },
  {
   "cell_type": "code",
   "execution_count": 9,
   "metadata": {
    "scrolled": true
   },
   "outputs": [
    {
     "data": {
      "text/plain": [
       "f0         1\n",
       "f1         1\n",
       "f2         1\n",
       "product    1\n",
       "dtype: int64"
      ]
     },
     "metadata": {},
     "output_type": "display_data"
    },
    {
     "data": {
      "text/plain": [
       "f0         8235\n",
       "f1         8235\n",
       "f2         8235\n",
       "product    8235\n",
       "dtype: int64"
      ]
     },
     "metadata": {},
     "output_type": "display_data"
    },
    {
     "data": {
      "text/plain": [
       "f0         1\n",
       "f1         1\n",
       "f2         1\n",
       "product    1\n",
       "dtype: int64"
      ]
     },
     "metadata": {},
     "output_type": "display_data"
    }
   ],
   "source": [
    "for i in df_list:# циклом for пройдемся по ранее созданному списку df_list \n",
    "    display(i.query('product == 0').count().head())#делаем срез из столбца 'product' со значение 0"
   ]
  },
  {
   "cell_type": "markdown",
   "metadata": {},
   "source": [
    "   __Посмотрим на корреляцию между признаками для каждого региона__"
   ]
  },
  {
   "cell_type": "code",
   "execution_count": 10,
   "metadata": {},
   "outputs": [
    {
     "name": "stdout",
     "output_type": "stream",
     "text": [
      "Корреляция по признакам для скважины - 1-го Региона \n"
     ]
    },
    {
     "data": {
      "image/png": "[encoded data removed]",
      "text/plain": [
       "<Figure size 432x288 with 2 Axes>"
      ]
     },
     "metadata": {
      "needs_background": "light"
     },
     "output_type": "display_data"
    },
    {
     "name": "stdout",
     "output_type": "stream",
     "text": [
      "Корреляция по признакам для скважины - 2-го Региона \n"
     ]
    },
    {
     "data": {
      "image/png": "[encoded data removed]",
      "text/plain": [
       "<Figure size 432x288 with 2 Axes>"
      ]
     },
     "metadata": {
      "needs_background": "light"
     },
     "output_type": "display_data"
    },
    {
     "name": "stdout",
     "output_type": "stream",
     "text": [
      "Корреляция по признакам для скважины - 3-го Региона \n"
     ]
    },
    {
     "data": {
      "image/png": "[encoded data removed]",
      "text/plain": [
       "<Figure size 432x288 with 2 Axes>"
      ]
     },
     "metadata": {
      "needs_background": "light"
     },
     "output_type": "display_data"
    }
   ],
   "source": [
    "print('Корреляция по признакам для скважины - 1-го Региона ')\n",
    "corrMatrix = df_0.corr()\n",
    "sn.heatmap(corrMatrix, annot=True)\n",
    "plt.show()\n",
    "print('Корреляция по признакам для скважины - 2-го Региона ')\n",
    "corrMatrix = df_1.corr()\n",
    "sn.heatmap(corrMatrix, annot=True)\n",
    "plt.show()\n",
    "print('Корреляция по признакам для скважины - 3-го Региона ')\n",
    "corrMatrix = df_2.corr()\n",
    "sn.heatmap(corrMatrix, annot=True)\n",
    "plt.show()"
   ]
  },
  {
   "cell_type": "markdown",
   "metadata": {},
   "source": [
    "   __Визуализируем соотношение по объему запасов в исследуемых регионах__"
   ]
  },
  {
   "cell_type": "code",
   "execution_count": 11,
   "metadata": {},
   "outputs": [
    {
     "data": {
      "image/png": "[encoded data removed]",
      "text/plain": [
       "<Figure size 432x288 with 1 Axes>"
      ]
     },
     "metadata": {},
     "output_type": "display_data"
    }
   ],
   "source": [
    "labels = 'Регион-1','Регион-2','Регион-3' \n",
    "sizes = [9250000,6882500,9500000]\n",
    "fig1, ax1 = plt.subplots()\n",
    "explode = (0.05, 0.05, 0.05  ) \n",
    "ax1.pie(sizes, explode=explode,radius=1.5, labels=labels,autopct='%1.0f%%',\n",
    "        shadow=True, startangle=55,)\n",
    "ax1.set_title(\"                                                                                                                                       Соотношение по объему запасов среди регионов \")\n",
    "plt.show()"
   ]
  },
  {
   "cell_type": "markdown",
   "metadata": {},
   "source": [
    "<div style=\"border:solid green 2px; padding: 20px\">\n",
    "        \n",
    "***Вывод:*** \n",
    "    \n",
    "Для  анализа и последующего построением модели  определяющей  региона с __максимальной суммарной прибылью__ предоставлены __3__ датасета, состоящий из __5__ столбцов с признаками  и __100 000__ строк с параметрами.\n",
    "    \n",
    "При первичном ознакомлении с данными было обнаружено и (при необходимости) исправленно следующее:\n",
    "    \n",
    "<br>Каждый объект в наборе данных — это информация об одной скважине. Известны следующие ***признаки***:\n",
    "   <br> \n",
    "\n",
    "- ***id*** — уникальный идентификатор скважины \n",
    "\n",
    "- ***f0, f1, f2*** — три признака точек (неважно, что они означают, но сами признаки значимы)\n",
    "\n",
    "\n",
    "\n",
    "\n",
    "- ***product*** — объём запасов в скважине (тыс. баррелей)\n",
    "\n",
    "\n",
    "***Целевы признаком*** является столбец *'product'*, на основе его данных будет строиться  наша модель.\n",
    "- __Пропуски и дубликаты__ в предоставленных для анализа таблицах не обнаружены\n",
    "- __Формат__ (типы)  данных исследуемых признаков - корректны\n",
    "- Стрлбец __id__ для дальнейшего анализа и построения модели не представлял интереса - был удален \n",
    "- Построение гистограмм  по объёму запасов в скважине  выявило, что  в регионе __1-3__ распределение __Нормальное__\n",
    "    а в регоне __2__ распределение объёмов, __нормальным не является__\n",
    "- Графики __boxplot__ показывают, что в исследуемых таблицах отсутвуют явные  __выбросы__, так как показатели уклыдываются 1,5 межквартильных интервала\n",
    "- __boxplot__ так же указал на существенное отличие среднего значения в __регионе 2__ от средних значений в __регионе 1 и 3__ это подтвердилось при цифровом анализе датафреймов. \n",
    "- Так же были обнаружены показатели с __0-м__ объёмом запасов в скважине. Так в регоне __1-3__ наблюдаеся по одной, а вот в регоне __2__ таковых __8235__ скважины\n",
    "- При проведении корреляционного анализа в __регионе 2__, обнаружена сильная зависимость между признаком __f2__ и целевым признаком __product__\n",
    "- Было выяснено, что по общему объему запасов лидирует __Регион 3 (37%)__, далее следует __Регион 1 (36%)__, и замыкает рейтинг __Регион 2 (27%)__\n",
    "\n",
    "    \n",
    "\n",
    "   \n",
    "    \n",
    "   \n",
    "   \n",
    "<br>\n",
    "    \n",
    "    \n",
    "</div>"
   ]
  },
  {
   "cell_type": "markdown",
   "metadata": {},
   "source": [
    "<div class=\"alert alert-block alert-success\">\n",
    "<b>Комментарий ревьюера👍:</b> Очень подробно и последовательно\n",
    "</div>"
   ]
  },
  {
   "cell_type": "markdown",
   "metadata": {},
   "source": [
    "## Обучение и проверка модели\n",
    "[&#10224;](#step1)"
   ]
  },
  {
   "cell_type": "markdown",
   "metadata": {},
   "source": [
    " <div style=\"border:solid green 2px; padding: 20px\">\n",
    "    \n",
    "\n",
    "    \n",
    "\n",
    "### Приступим к созданию и  обучению моделей  для каждого региона, на данном этапе необходимо:<a class=\"tocSkip\">\n",
    "    \n",
    "2.1. Разбить данные на обучающую и валидационную выборки в соотношении __75:25__.<br>\n",
    "2.2. __Обучить__ модель и __сделать предсказания__ на __валидационной__ выборке.<br>\n",
    "2.3. __Сохранить__ предсказания и правильные ответы на __валидационной__ выборке.<br>\n",
    "2.4. Напечатать на экране __средний запас__ предсказанного сырья и __RMSE__ модели.<br>\n",
    "2.5. Проанализировать результаты.<br>\n",
    "    \n",
    "    \n",
    "    \n",
    "</div>"
   ]
  },
  {
   "cell_type": "markdown",
   "metadata": {},
   "source": [
    "<a id='step2'></a>"
   ]
  },
  {
   "cell_type": "markdown",
   "metadata": {},
   "source": [
    "__Создадим функцию, для обучения модели__ <br>"
   ]
  },
  {
   "cell_type": "code",
   "execution_count": 12,
   "metadata": {},
   "outputs": [],
   "source": [
    "def regres(df):\n",
    "    features = df.drop(['product'], axis=1) #соберем в переменной features общие пирзнаки\n",
    "    target = df['product'] # выделяем Целевой признак в переменной target\n",
    "    \n",
    "    features_train, features_valid, target_train, target_valid = train_test_split(\n",
    "    features, target, test_size=0.25, random_state=12345)#Разделим на тренировочную и валидационную выборки\n",
    "\n",
    "    model = LinearRegression()# создадим модель \n",
    "    model.fit(features_train, target_train)\n",
    "    predictions = model.predict(features_valid)# получите предсказания модели на валидационной выборке\n",
    "    mse = mean_squared_error(target_valid, predictions)# определяем Средняя квадратическая ошибка (MSE)\n",
    "    rmse = mse**0.5 # определяем Среднеквадратическая ошибка (RMSE)\n",
    "    mean_predicted_reserve = pd.Series(predictions).mean()# определяем Среднее предсказание модели по запасам нефти в регионе \n",
    "    \n",
    "    # смотрим на результат разбиения выборок   \n",
    "    selection_1 = features_train.shape[0]/df.shape[0]\n",
    "    selection_2 = features_valid.shape[0]/df.shape[0]\n",
    "    #print('Результат разбиения выборок: Общие признаки: {:.0%}  Целевой признак: {:.0%} '.format(selection_1,selection_2))\n",
    "    return predictions, mse, rmse, mean_predicted_reserve, target_valid \n",
    "    \n",
    "    "
   ]
  },
  {
   "cell_type": "markdown",
   "metadata": {},
   "source": [
    "Модель для **1-го региона**  найдем __Среднеквадратическую ошибку__ (RMSE) и __Средний запас__ предсказанного сырья .  Переменные для этого региона будут с **индексом 1**."
   ]
  },
  {
   "cell_type": "code",
   "execution_count": 13,
   "metadata": {},
   "outputs": [
    {
     "name": "stdout",
     "output_type": "stream",
     "text": [
      "\n",
      "Средняя квадратическая ошибка (MSE): 1412.2129364399243\n",
      "\n",
      "Средний запас предсказанного сырья для 1-го региона: 92.593 тыс. баррелей\n",
      "\n",
      "Для 1-го региона Среднеквадратическая ошибка (RMSE) = 37.579\n",
      "\n"
     ]
    }
   ],
   "source": [
    "predictions_1, mse_1, rmse_1, mean_predicted_reserve_1, target_valid_1 = regres(df_0)\n",
    "print()\n",
    "print('Средняя квадратическая ошибка (MSE):', mse_1,)\n",
    "print()\n",
    "print('Средний запас предсказанного сырья для 1-го региона:',round( mean_predicted_reserve_1,3), 'тыс. баррелей')\n",
    "print()\n",
    "print('Для 1-го региона Среднеквадратическая ошибка (RMSE) =',round( rmse_1,3 ))\n",
    "print()\n"
   ]
  },
  {
   "cell_type": "markdown",
   "metadata": {},
   "source": [
    "Модель для **2-го региона**  найдем __Среднеквадратическую ошибку__ (RMSE) и __Средний запас__ предсказанного сырья .  Переменные для этого региона будут с **индексом 2**."
   ]
  },
  {
   "cell_type": "code",
   "execution_count": 14,
   "metadata": {},
   "outputs": [
    {
     "name": "stdout",
     "output_type": "stream",
     "text": [
      "\n",
      "Средняя квадратическая ошибка (MSE): 0.7976263360391157\n",
      "\n",
      "Средний запас предсказанного сырья для 2-го региона: 68.729 тыс. баррелей\n",
      "\n",
      "Для 2-го региона Среднеквадратическая ошибка (RMSE) = 0.893\n",
      "\n"
     ]
    }
   ],
   "source": [
    "predictions_2, mse_2, rmse_2, mean_predicted_reserve_2, target_valid_2 = regres(df_1)\n",
    "print()\n",
    "print('Средняя квадратическая ошибка (MSE):', mse_2, )\n",
    "print()\n",
    "print('Средний запас предсказанного сырья для 2-го региона:', round( mean_predicted_reserve_2,3), 'тыс. баррелей')\n",
    "print()\n",
    "print('Для 2-го региона Среднеквадратическая ошибка (RMSE) =',round( rmse_2,3))\n",
    "print()"
   ]
  },
  {
   "cell_type": "markdown",
   "metadata": {},
   "source": [
    "Модель для **3-го региона**  найдем __Среднеквадратическую ошибку__ (RMSE) и __Средний запас__ предсказанного сырья .  Переменные для этого региона будут с **индексом 3**."
   ]
  },
  {
   "cell_type": "code",
   "execution_count": 15,
   "metadata": {},
   "outputs": [
    {
     "name": "stdout",
     "output_type": "stream",
     "text": [
      "\n",
      "Средняя квадратическая ошибка (MSE): 1602.3775813236196\n",
      "\n",
      "Средний запас предсказанного сырья для 3-го региона: 94.965 тыс. баррелей\n",
      "\n",
      "Для 3-го региона Среднеквадратическая ошибка (RMSE) = 40.03\n"
     ]
    }
   ],
   "source": [
    "predictions_3, mse_3, rmse_3, mean_predicted_reserve_3, target_valid_3 = regres(df_2)\n",
    "print()\n",
    "print('Средняя квадратическая ошибка (MSE):', mse_3, )\n",
    "print()\n",
    "print('Средний запас предсказанного сырья для 3-го региона:', round( mean_predicted_reserve_3,3), 'тыс. баррелей')\n",
    "print()\n",
    "print('Для 3-го региона Среднеквадратическая ошибка (RMSE) =',round( rmse_3,3)) "
   ]
  },
  {
   "cell_type": "markdown",
   "metadata": {},
   "source": [
    "<div class=\"alert alert-block alert-warning\">\n",
    "<b>Комментарий ревьюера🤔:</b> Ты копировал код и забыл поменять подпись, везде регион 1\n",
    "</div>"
   ]
  },
  {
   "cell_type": "markdown",
   "metadata": {},
   "source": [
    "__Соберем в единую таблицу полученные результаты применения различных метрик на алгоритмах LinearRegression.__"
   ]
  },
  {
   "cell_type": "markdown",
   "metadata": {},
   "source": [
    "<div class=\"alert alert-block alert-info\">\n",
    "<b>Комментарий студента:</b> Да, недоглядел.\n",
    "</div>"
   ]
  },
  {
   "cell_type": "markdown",
   "metadata": {},
   "source": [
    "<div class=\"alert alert-block alert-success\">\n",
    "<b>Комментарий ревьюера V.2👍:</b> Ничего страшного =)\n",
    "</div>"
   ]
  },
  {
   "cell_type": "code",
   "execution_count": 16,
   "metadata": {},
   "outputs": [
    {
     "data": {
      "text/html": [
       "<div>\n",
       "<style scoped>\n",
       "    .dataframe tbody tr th:only-of-type {\n",
       "        vertical-align: middle;\n",
       "    }\n",
       "\n",
       "    .dataframe tbody tr th {\n",
       "        vertical-align: top;\n",
       "    }\n",
       "\n",
       "    .dataframe thead th {\n",
       "        text-align: right;\n",
       "    }\n",
       "</style>\n",
       "<table border=\"1\" class=\"dataframe\">\n",
       "  <thead>\n",
       "    <tr style=\"text-align: right;\">\n",
       "      <th></th>\n",
       "      <th>№ региона</th>\n",
       "      <th>mean_predicted_reserve</th>\n",
       "      <th>mse</th>\n",
       "      <th>rmse</th>\n",
       "    </tr>\n",
       "  </thead>\n",
       "  <tbody>\n",
       "    <tr>\n",
       "      <th>0</th>\n",
       "      <td>1-й Регион</td>\n",
       "      <td>92.59</td>\n",
       "      <td>1,412.21</td>\n",
       "      <td>37.58</td>\n",
       "    </tr>\n",
       "    <tr>\n",
       "      <th>1</th>\n",
       "      <td>2-й Регион</td>\n",
       "      <td>68.73</td>\n",
       "      <td>0.80</td>\n",
       "      <td>0.89</td>\n",
       "    </tr>\n",
       "    <tr>\n",
       "      <th>2</th>\n",
       "      <td>3-й Регион</td>\n",
       "      <td>94.97</td>\n",
       "      <td>1,602.38</td>\n",
       "      <td>40.03</td>\n",
       "    </tr>\n",
       "  </tbody>\n",
       "</table>\n",
       "</div>"
      ],
      "text/plain": [
       "    № региона  mean_predicted_reserve      mse  rmse\n",
       "0  1-й Регион                   92.59 1,412.21 37.58\n",
       "1  2-й Регион                   68.73     0.80  0.89\n",
       "2  3-й Регион                   94.97 1,602.38 40.03"
      ]
     },
     "metadata": {},
     "output_type": "display_data"
    }
   ],
   "source": [
    "columns = ['№ региона',  'mean_predicted_reserve','mse', 'rmse'] #Объеденим полученные результаты в таблицу\n",
    "\n",
    "region_1 = ['1-й Регион', \n",
    "        mean_predicted_reserve_1,\n",
    "        mse_1, rmse_1\n",
    "      \n",
    "]\n",
    "\n",
    "region_2 = ['2-й Регион',\n",
    "          mean_predicted_reserve_2,\n",
    "          mse_2, rmse_2\n",
    "          \n",
    "]\n",
    "\n",
    "region_3 = ['3-й Регион',\n",
    "             mean_predicted_reserve_3,\n",
    "             mse_3,rmse_3\n",
    "             \n",
    "]\n",
    "\n",
    "table_1 = pd.DataFrame([region_1, region_2, region_3], columns = columns)\n",
    "display(table_1)"
   ]
  },
  {
   "cell_type": "markdown",
   "metadata": {},
   "source": [
    "__Подведем итоги__"
   ]
  },
  {
   "cell_type": "markdown",
   "metadata": {},
   "source": [
    "<div style=\"border:solid green 2px; padding: 20px\">\n",
    "        \n",
    "***Вывод:***         \n",
    "\n",
    " На данном шаге через функцию __regres__ создали модель _Линейной регрессии_ на которой, после  обучения, сделали предсказания вероятных запасов нефти в скважинах по 3-м исследуемым регионам. \n",
    "    \n",
    "Из полученных результатов можно сказать, что наибольшее средние значение по  запасам сырья имеет __Регио-3__ (94.97), для этого региона, также было определено, что он обладает максимальным показателем ошибки - значение __(RMSE = 40.03)__. __Регионы 1 и 3 схожи__, как по запасам сырья, так и по показателям Среднеквадратической ошибки __(RMSE)__ Тогда как __Регион 2__ существенно отличается как по запасам, так и имеет минимальный показатель __(RMSE = 0.89)__     \n",
    "     \n",
    "   \n",
    "</div>"
   ]
  },
  {
   "cell_type": "markdown",
   "metadata": {},
   "source": [
    "<div class=\"alert alert-block alert-success\">\n",
    "<b>Комментарий ревьюера👍:</b> Верно\n",
    "</div>"
   ]
  },
  {
   "cell_type": "markdown",
   "metadata": {},
   "source": [
    "## Подготовка к расчёту прибыли\n",
    "[&#10224;](#step1)"
   ]
  },
  {
   "cell_type": "markdown",
   "metadata": {},
   "source": [
    " <div style=\"border:solid green 2px; padding: 20px\">\n",
    "    \n",
    "### Приступим к  расчёту прибыли  для каждого региона, на данном этапе необходимо:<a class=\"tocSkip\">\n",
    "    \n",
    "3.1. Все __ключевые значения__ для расчётов сохранить в __отдельных переменных__.<br>\n",
    "3.2. Рассчитать достаточный объём сырья для __безубыточной__ разработки новой скважины. __Сравнить__ полученный объём сырья со __средним запасом__ в каждом регионе.<br>\n",
    "3.3. __Написать выводы__ по этапу подготовки расчёта прибыли.<br>\n",
    "    \n",
    "По условиям задачи при разведке региона исследуют 500 точек, из которых выбирают 200 лучших для расчёта прибыли. Бюджет на разработку скважин в регионе — 10 млрд рублей. Один баррель сырья приносит 450 рублей дохода. Доход с каждой единицы продукта составляет 450 тыс. рублей, поскольку объём указан в тысячах баррелей.\n",
    "Рассчитаем достаточный объём сырья для безубыточной разработки новой скважины.\n",
    "</div>"
   ]
  },
  {
   "cell_type": "markdown",
   "metadata": {},
   "source": [
    "__Cохраним в отдельных переменных ключевые значения__"
   ]
  },
  {
   "cell_type": "code",
   "execution_count": 17,
   "metadata": {},
   "outputs": [
    {
     "name": "stdout",
     "output_type": "stream",
     "text": [
      "50000000.0\n",
      "\n",
      "Достаточный объём сырья для безубыточной разработки новой скважины 111.1 тыс. баррелей\n"
     ]
    }
   ],
   "source": [
    "QUANTITY_WELL = 200 #Количество скважин в регионе для разработки\n",
    "GENERAL_BUDGET = 10000000000 #Бюджет на разработку скважин в регионе\n",
    "one_well_budget = GENERAL_BUDGET / QUANTITY_WELL #Бюджет на разработку одной скважины\n",
    "PROFIT = 450000 #Прибыль от продажи 1000 баррелей\n",
    "#Минимальный запас для безубыточной работы скважины\n",
    "min_reserve = one_well_budget/PROFIT\n",
    "print(one_well_budget)\n",
    "print()\n",
    "\n",
    "print('Достаточный объём сырья для безубыточной разработки новой скважины', round(min_reserve, 1), 'тыс. баррелей')\n"
   ]
  },
  {
   "cell_type": "markdown",
   "metadata": {},
   "source": [
    "<div class=\"alert alert-block alert-warning\">\n",
    "<b>Комментарий ревьюера🤔:</b> Названия объектов для констант лучше маркировать заглавными буквами, т.е. например PROFIT\n",
    "</div>"
   ]
  },
  {
   "cell_type": "markdown",
   "metadata": {},
   "source": [
    "<div class=\"alert alert-block alert-info\">\n",
    "<b>Комментарий студента:</b> Заменил название  profit на PROFIT так как это константа.    \n",
    "</div>"
   ]
  },
  {
   "cell_type": "markdown",
   "metadata": {},
   "source": [
    "<div class=\"alert alert-block alert-warning\">\n",
    "<b>Комментарий ревьюера V.2🤔:</b> Костант здесь 3: quantity_well,general_budget и profit\n",
    "</div>"
   ]
  },
  {
   "cell_type": "markdown",
   "metadata": {},
   "source": [
    "<div class=\"alert alert-block alert-info\">\n",
    "<b>Комментарий студента:</b> \n",
    "    <br>Заменил название  quantity_well и general_budget  на соответсвенно QUANTITY_WELL и GENERAL_BUDGET.    \n",
    "</div>"
   ]
  },
  {
   "cell_type": "markdown",
   "metadata": {},
   "source": [
    "<div class=\"alert alert-block alert-success\">\n",
    "<b>Комментарий ревьюера V.3👍:</b> Отлично\n",
    "</div>"
   ]
  },
  {
   "cell_type": "code",
   "execution_count": 18,
   "metadata": {},
   "outputs": [
    {
     "data": {
      "text/html": [
       "<div>\n",
       "<style scoped>\n",
       "    .dataframe tbody tr th:only-of-type {\n",
       "        vertical-align: middle;\n",
       "    }\n",
       "\n",
       "    .dataframe tbody tr th {\n",
       "        vertical-align: top;\n",
       "    }\n",
       "\n",
       "    .dataframe thead th {\n",
       "        text-align: right;\n",
       "    }\n",
       "</style>\n",
       "<table border=\"1\" class=\"dataframe\">\n",
       "  <thead>\n",
       "    <tr style=\"text-align: right;\">\n",
       "      <th></th>\n",
       "      <th>№ региона</th>\n",
       "      <th>mean_predicted_reserve</th>\n",
       "      <th>mse</th>\n",
       "      <th>rmse</th>\n",
       "      <th>region_is_profitable</th>\n",
       "    </tr>\n",
       "  </thead>\n",
       "  <tbody>\n",
       "    <tr>\n",
       "      <th>0</th>\n",
       "      <td>1-й Регион</td>\n",
       "      <td>92.59</td>\n",
       "      <td>1,412.21</td>\n",
       "      <td>37.58</td>\n",
       "      <td>0</td>\n",
       "    </tr>\n",
       "    <tr>\n",
       "      <th>1</th>\n",
       "      <td>2-й Регион</td>\n",
       "      <td>68.73</td>\n",
       "      <td>0.80</td>\n",
       "      <td>0.89</td>\n",
       "      <td>0</td>\n",
       "    </tr>\n",
       "    <tr>\n",
       "      <th>2</th>\n",
       "      <td>3-й Регион</td>\n",
       "      <td>94.97</td>\n",
       "      <td>1,602.38</td>\n",
       "      <td>40.03</td>\n",
       "      <td>0</td>\n",
       "    </tr>\n",
       "  </tbody>\n",
       "</table>\n",
       "</div>"
      ],
      "text/plain": [
       "    № региона  mean_predicted_reserve      mse  rmse  region_is_profitable\n",
       "0  1-й Регион                   92.59 1,412.21 37.58                     0\n",
       "1  2-й Регион                   68.73     0.80  0.89                     0\n",
       "2  3-й Регион                   94.97 1,602.38 40.03                     0"
      ]
     },
     "metadata": {},
     "output_type": "display_data"
    }
   ],
   "source": [
    "#объявим функцию для сравнения объёма сырья для безубыточной разработки скважины со средним запасом в каждом регионе \n",
    "def profit_reg(reserve):\n",
    "    if reserve >= min_reserve:\n",
    "        return 1\n",
    "    else:\n",
    "        return 0\n",
    "#Применим для определения прибыльных регионов\n",
    "table_1['region_is_profitable'] = table_1['mean_predicted_reserve'].apply(profit_reg)\n",
    "display(table_1)"
   ]
  },
  {
   "cell_type": "markdown",
   "metadata": {},
   "source": [
    "<div style=\"border:solid green 2px; padding: 20px\">\n",
    "        \n",
    "***Вывод:***         \n",
    "\n",
    "    \n",
    "На Шаге 3 сохранили все __ключевые__ значения  в одельные  __переменные__ Рассчитали достаточный объём сырья для __безубыточной__ разработки новой скважины. он равен __111.1 тыс. баррелей__  __Сравнили__ полученный достаточный объём сырья со __средним запасом__ в каждом регионе.<br> Полученные результаты, из сравнения, не позволяют определить прибыльность разработки в регионе. На следующем этапе произведем расчет рисков и прибыли.\n",
    "      \n",
    "    \n",
    "</div>"
   ]
  },
  {
   "cell_type": "markdown",
   "metadata": {},
   "source": [
    "<div class=\"alert alert-block alert-success\">\n",
    "<b>Комментарий ревьюера👍:</b> Всё верно рассчитано. Во всех регионах концентрация продукта слишком низкая, чтобы выбирать точки случайно.\n",
    "</div> "
   ]
  },
  {
   "cell_type": "markdown",
   "metadata": {},
   "source": [
    "## Написание функции для расчёта прибыли\n",
    "[&#10224;](#step1)"
   ]
  },
  {
   "cell_type": "markdown",
   "metadata": {},
   "source": [
    " <div style=\"border:solid green 2px; padding: 20px\">\n",
    "    \n",
    "### Приступим к  написанию функцию для расчёта прибыли по выбранным скважинам и предсказаниям модели:<a class=\"tocSkip\">\n",
    "    \n",
    "4.1. Выберем скважины с __максимальными__ значениями предсказаний.<br>\n",
    "4.2. Просуммируем __целевое значение__ объёма сырья, соответствующее этим предсказаниям.<br>\n",
    "4.3. Рассчитаем прибыль для полученного объёма сырья.<br>\n",
    "    \n",
    "</div>"
   ]
  },
  {
   "cell_type": "code",
   "execution_count": 19,
   "metadata": {},
   "outputs": [],
   "source": [
    "# функция для расчета прибыли\n",
    "def revenue(target_valid, linear_predictions, quantity):\n",
    "    predictions_sorted = pd.Series(linear_predictions).sort_values(ascending=False)\n",
    "    target = target_valid.reset_index().drop(['index'], axis=1)\n",
    "    target = pd.Series(target['product'])\n",
    "    selected = target[predictions_sorted.index][:quantity]\n",
    "    sum_profit = (selected.sum()*PROFIT) - GENERAL_BUDGET\n",
    "    return round(sum_profit, 2)\n",
    "geo_1 = revenue(target_valid_1, predictions_1, 200)\n",
    "geo_2 = revenue(target_valid_2, predictions_2, 200)\n",
    "geo_3 = revenue(target_valid_3, predictions_3, 200)"
   ]
  },
  {
   "cell_type": "code",
   "execution_count": 20,
   "metadata": {},
   "outputs": [
    {
     "name": "stdout",
     "output_type": "stream",
     "text": [
      "\n",
      "Для Региона 1 прибыль по 200 скважинам с максимальными значениями предсказаний  равна 3320826043.14\n",
      "\n",
      "Для Региона 2 прибыль по 200 скважинам с максимальными значениями предсказаний  равна 2415086696.68\n",
      "\n",
      "Для Региона 3 прибыль по 200 скважинам с максимальными значениями предсказаний  равна 2710349963.6\n"
     ]
    }
   ],
   "source": [
    "print()\n",
    "print('Для Региона 1 прибыль по 200 скважинам с максимальными значениями предсказаний  равна', geo_1)\n",
    "print()\n",
    "print('Для Региона 2 прибыль по 200 скважинам с максимальными значениями предсказаний  равна',  geo_2)\n",
    "print()\n",
    "print('Для Региона 3 прибыль по 200 скважинам с максимальными значениями предсказаний  равна',  geo_3)"
   ]
  },
  {
   "cell_type": "markdown",
   "metadata": {},
   "source": [
    "<div class=\"alert alert-block alert-success\">\n",
    "<b>Комментарий ревьюера👍:</b> Верно\n",
    "</div>"
   ]
  },
  {
   "cell_type": "markdown",
   "metadata": {},
   "source": [
    "<div style=\"border:solid green 2px; padding: 20px\">\n",
    "        \n",
    "***Вывод:***         \n",
    "\n",
    "    \n",
    "Функция для расчета прибыли составлена. Прибыли по регионам рассчитаны. Переходим к расчету прибыли и рисков.  \n",
    "   \n",
    "    \n",
    "</div>"
   ]
  },
  {
   "cell_type": "markdown",
   "metadata": {},
   "source": [
    "## Расчёт прибыли и рисков для каждого региона\n",
    "[&#10224;](#step1)"
   ]
  },
  {
   "cell_type": "markdown",
   "metadata": {},
   "source": [
    " <div style=\"border:solid green 2px; padding: 20px\">\n",
    "    \n",
    "\n",
    "5.1. Распределение запасов нефти в скважинах далеко от нормального, особенно в __Регионе 2__.  Применим технику __Bootstrap__ с 1000 выборок, чтобы найти __распределение прибыли__.<br>\n",
    "5.2. Найдем среднюю прибыль, 95%-й доверительный интервал и риск убытков. Убыток — это отрицательная прибыль.<br>\n",
    "5.3. Напишим выводы: предложим регион для разработки скважин и обоснуем выбор.\n",
    "\n",
    "    \n",
    "    \n",
    "</div>"
   ]
  },
  {
   "cell_type": "code",
   "execution_count": 21,
   "metadata": {},
   "outputs": [],
   "source": [
    "state = np.random.RandomState(12345) #создадим переменную state, которая определит выборки\n",
    "\n",
    "# создадим функцию для сбора показателей прибыли техникой Bootstrap\n",
    "def bootstrap_revenue(target_valid, predictions, dots, quantity):\n",
    "    values = []\n",
    "    predicted_values = []\n",
    "    for i in range(1000):\n",
    "        target_subsample = (target_valid\n",
    "                            .reset_index()\n",
    "                            .drop(['index'], axis=1)\n",
    "                            .sample(frac=dots/len(target_valid), replace=True, random_state = state)\n",
    "                           )\n",
    "        predictions_subsample = pd.Series(predictions)[target_subsample.index]\n",
    "        sorted_predictions_subsample = predictions_subsample.sort_values(ascending=False)\n",
    "        target_subsample = pd.Series(target_subsample['product'])\n",
    "        selected_target_subsample = target_subsample[sorted_predictions_subsample.index][:quantity]\n",
    "        selected_sum_profit = (selected_target_subsample.sum()*PROFIT) - quantity*one_well_budget\n",
    "        values.append(selected_sum_profit)\n",
    "    return values"
   ]
  },
  {
   "cell_type": "code",
   "execution_count": 22,
   "metadata": {},
   "outputs": [],
   "source": [
    "def risks(values):\n",
    "    negative = []\n",
    "    for i in values:\n",
    "        if i <= 0:\n",
    "            negative.append(i)\n",
    "    return len(negative)/len(values)*100   "
   ]
  },
  {
   "cell_type": "code",
   "execution_count": 23,
   "metadata": {},
   "outputs": [
    {
     "name": "stdout",
     "output_type": "stream",
     "text": [
      "Средняя выручка: 425938526.91059244\n",
      "Доверительный интервал для Региона 1: (-102090094.83793654, 947976353.3583689)\n",
      "Риск убытков в регионе 1 6.0 %\n"
     ]
    }
   ],
   "source": [
    "values_1 = pd.Series(bootstrap_revenue(target_valid_1, predictions_1, 500, 200))\n",
    "risks_1 =  risks(values_1)\n",
    "\n",
    "confidence_interval_1 = (values_1.quantile(0.025), values_1.quantile(0.975))\n",
    "\n",
    "\n",
    "mean_1 = values_1.mean()\n",
    "print(\"Средняя выручка:\", mean_1)\n",
    "print(\"Доверительный интервал для Региона 1:\", confidence_interval_1)\n",
    "print('Риск убытков в регионе 1', risks_1,'%')"
   ]
  },
  {
   "cell_type": "code",
   "execution_count": 24,
   "metadata": {},
   "outputs": [
    {
     "name": "stdout",
     "output_type": "stream",
     "text": [
      "Средняя выручка: 518259493.6973249\n",
      "Доверительный интервал для Региона 2: (128123231.43308444, 953612982.0669085)\n",
      "Риск убытков в регионе 2 0.3 %\n"
     ]
    }
   ],
   "source": [
    "values_2 = pd.Series(bootstrap_revenue(target_valid_2, predictions_2, 500, 200))\n",
    "risks_2 =  risks(values_2)\n",
    "\n",
    "confidence_interval_2 = (values_2.quantile(0.025), values_2.quantile(0.975))\n",
    "\n",
    "mean_2 = values_2.mean()\n",
    "print(\"Средняя выручка:\", mean_2)\n",
    "print(\"Доверительный интервал для Региона 2:\", confidence_interval_2)\n",
    "print('Риск убытков в регионе 2', risks_2,'%')"
   ]
  },
  {
   "cell_type": "code",
   "execution_count": 25,
   "metadata": {},
   "outputs": [
    {
     "name": "stdout",
     "output_type": "stream",
     "text": [
      "Средняя выручка: 420194005.3440501\n",
      "Доверительный интервал для Региона 3: (-115852609.16001143, 989629939.8445739)\n",
      "Риск убытков в регионе 3 6.2 %\n"
     ]
    }
   ],
   "source": [
    "values_3 = pd.Series(bootstrap_revenue(target_valid_3, predictions_3, 500, 200))    \n",
    "risks_3 =  risks(values_3)\n",
    "\n",
    "confidence_interval_3 = (values_3.quantile(0.025), values_3.quantile(0.975))\n",
    "\n",
    "mean_3 = values_3.mean()\n",
    "print(\"Средняя выручка:\", mean_3)\n",
    "print(\"Доверительный интервал для Региона 3:\", confidence_interval_3)\n",
    "print('Риск убытков в регионе 3', risks_3,'%')"
   ]
  },
  {
   "cell_type": "markdown",
   "metadata": {},
   "source": [
    "<div class=\"alert alert-block alert-warning\">\n",
    "<b>Комментарий ревьюера🤔:</b> Ты копировал код и забыл поменять подпись, везде регион 1\n",
    "</div>"
   ]
  },
  {
   "cell_type": "markdown",
   "metadata": {},
   "source": [
    "<div class=\"alert alert-block alert-info\">\n",
    "<b>Комментарий студента:</b> Подписи по регионам - исправил.\n",
    "</div>"
   ]
  },
  {
   "cell_type": "markdown",
   "metadata": {},
   "source": [
    "<div class=\"alert alert-block alert-success\">\n",
    "<b>Комментарий ревьюера V.2👍:</b> Теперь верно =)\n",
    "</div> "
   ]
  },
  {
   "cell_type": "markdown",
   "metadata": {},
   "source": [
    "<div class=\"alert alert-block alert-danger\">\n",
    "<b>Комментарий ревьюера❌:</b> До этого момента всё шло отлично, а дальше ты перемудрил по рискам. Останавливаемся на этой ячейке и строим сводную таблицу. Всё, что ниже можешь удалять. Согласно результатам проведенных тестов оптимальным представляется проведение работ в регионе geo_1. В этом регионе наименьший риск получения убытков, RMSE модели меньше 1, нижний предел доверительного интервала по прибыли выше 0. Совокупная предсказанная прибыль региона - 2,4 млрд руб.\n",
    "</div>"
   ]
  },
  {
   "cell_type": "markdown",
   "metadata": {},
   "source": [
    "<div class=\"alert alert-info\">\n",
    "<b>Комментарий студента:</b>\n",
    "\n",
    "- Запутался я, не могу понять, ты пишешь, что __\"оптимальным представляется проведение работ в регионе geo_1__, но у меня оптимальные результаты показал __2-й Регион__ по  __RMSE=0.89 < 1__  именно здесь __confidence_interval > 0__  \n",
    "- Я удалил премудрости по рассчету рисков, исправил обнаруженные опечатки, откорректировал выводы.   \n",
    "    \n",
    "    \n",
    "</div>\n",
    "\n"
   ]
  },
  {
   "cell_type": "markdown",
   "metadata": {},
   "source": [
    "<div class=\"alert alert-block alert-danger\">\n",
    "<b>Комментарий ревьюера V.2❌:</b> Извини, что непонятно выразилась. У нас было изначально в данных 3 региона: geo_0, geo_1 и geo_2. Ты переименовал их в регион 1,2,3, поэтому мы говорим об одном и том же geo_1 - это регион 2. Расчёт рисков нужно было оставить. Удалить нужно было то, что после\n",
    "</div>"
   ]
  },
  {
   "cell_type": "markdown",
   "metadata": {},
   "source": [
    "<div class=\"alert alert-info\">\n",
    "<b>Комментарий студента V.2:</b>\n",
    "\n",
    "- Да, начал нумерацию датасетов с 0 (запутал всех), надо было с 1. Вернул расчет рисков обратно, но ощущение, что они мудреные - меня не оставило)    \n",
    "</div>"
   ]
  },
  {
   "cell_type": "code",
   "execution_count": 26,
   "metadata": {},
   "outputs": [
    {
     "data": {
      "text/html": [
       "<div>\n",
       "<style scoped>\n",
       "    .dataframe tbody tr th:only-of-type {\n",
       "        vertical-align: middle;\n",
       "    }\n",
       "\n",
       "    .dataframe tbody tr th {\n",
       "        vertical-align: top;\n",
       "    }\n",
       "\n",
       "    .dataframe thead th {\n",
       "        text-align: right;\n",
       "    }\n",
       "</style>\n",
       "<table border=\"1\" class=\"dataframe\">\n",
       "  <thead>\n",
       "    <tr style=\"text-align: right;\">\n",
       "      <th></th>\n",
       "      <th>№ региона</th>\n",
       "      <th>200_wells_max_predict</th>\n",
       "      <th>confidence_interval</th>\n",
       "      <th>profit_mean</th>\n",
       "      <th>risk%</th>\n",
       "    </tr>\n",
       "  </thead>\n",
       "  <tbody>\n",
       "    <tr>\n",
       "      <th>0</th>\n",
       "      <td>1-й Регион</td>\n",
       "      <td>3,320,826,043.14</td>\n",
       "      <td>(-102090094.83793654, 947976353.3583689)</td>\n",
       "      <td>425,938,526.91</td>\n",
       "      <td>6.00</td>\n",
       "    </tr>\n",
       "    <tr>\n",
       "      <th>1</th>\n",
       "      <td>2-й Регион</td>\n",
       "      <td>2,415,086,696.68</td>\n",
       "      <td>(128123231.43308444, 953612982.0669085)</td>\n",
       "      <td>518,259,493.70</td>\n",
       "      <td>0.30</td>\n",
       "    </tr>\n",
       "    <tr>\n",
       "      <th>2</th>\n",
       "      <td>3-й Регион</td>\n",
       "      <td>2,710,349,963.60</td>\n",
       "      <td>(-115852609.16001143, 989629939.8445739)</td>\n",
       "      <td>420,194,005.34</td>\n",
       "      <td>6.20</td>\n",
       "    </tr>\n",
       "  </tbody>\n",
       "</table>\n",
       "</div>"
      ],
      "text/plain": [
       "    № региона  200_wells_max_predict  \\\n",
       "0  1-й Регион       3,320,826,043.14   \n",
       "1  2-й Регион       2,415,086,696.68   \n",
       "2  3-й Регион       2,710,349,963.60   \n",
       "\n",
       "                        confidence_interval    profit_mean  risk%  \n",
       "0  (-102090094.83793654, 947976353.3583689) 425,938,526.91   6.00  \n",
       "1   (128123231.43308444, 953612982.0669085) 518,259,493.70   0.30  \n",
       "2  (-115852609.16001143, 989629939.8445739) 420,194,005.34   6.20  "
      ]
     },
     "metadata": {},
     "output_type": "display_data"
    }
   ],
   "source": [
    "columns = ['№ региона', '200_wells_max_predict','confidence_interval', 'profit_mean','risk%']# Объеденим полученные результаты в таблицу\n",
    "\n",
    "region_1 = ['1-й Регион', \n",
    "        geo_1,\n",
    "        confidence_interval_1,\n",
    "        mean_1, risks_1 \n",
    "        \n",
    "        \n",
    "      \n",
    "]\n",
    "\n",
    "region_2 = ['2-й Регион',\n",
    "            geo_2,\n",
    "            confidence_interval_2,\n",
    "            mean_2, risks_2\n",
    "            \n",
    "          \n",
    "          \n",
    "]\n",
    "\n",
    "region_3 = ['3-й Регион',\n",
    "             geo_3,\n",
    "             confidence_interval_3,\n",
    "             mean_3, risks_3\n",
    "             \n",
    "             \n",
    "             \n",
    "]\n",
    "\n",
    "table_2 = pd.DataFrame([region_1, region_2, region_3], columns = columns)\n",
    "display(table_2)"
   ]
  },
  {
   "cell_type": "markdown",
   "metadata": {},
   "source": [
    "<div class=\"alert alert-block alert-success\">\n",
    "<b>Комментарий ревьюера V.3👍:</b> Теперь верно =)\n",
    "</div> "
   ]
  },
  {
   "cell_type": "markdown",
   "metadata": {},
   "source": [
    "<div style=\"border:solid green 2px; padding: 20px\">\n",
    "        \n",
    "***Вывод:***         \n",
    "\n",
    "При помощи техники  __Bootstrap__  (англ. «самовытягивание») -  определили __среднюю прибыль__, 95%-й __доверительный интервал__ и __риск убытков__ в Регионах __1,2,3__   \n",
    "Из полученных результатов, можно сделать вывод, что  - __Регион 2__ наиболее подходит для начала разработки скважин по добычи нефти, так как   показал положительный 95%-й доверительный интервал  В пользу выбора __Региона 2__    как наиболее перспективного для начала разработки и добычи, указывает и __max__ значение среди остальных регионов по __средней выручке__  profit_mean =  __518,259,493.70__  Cтоит отметить, что __доля риска__    получения убытков в этом регионе <__1%__ (наименьшая ошибка  __RMSE=0.89__  < 1)  Нижний предел доверительного интервала по прибыли выше > 0     \n",
    "</div>"
   ]
  },
  {
   "cell_type": "markdown",
   "metadata": {},
   "source": [
    "##  Общий вывод \n",
    "[&#10224;](#step1)"
   ]
  },
  {
   "cell_type": "code",
   "execution_count": 27,
   "metadata": {},
   "outputs": [
    {
     "data": {
      "text/html": [
       "<div>\n",
       "<style scoped>\n",
       "    .dataframe tbody tr th:only-of-type {\n",
       "        vertical-align: middle;\n",
       "    }\n",
       "\n",
       "    .dataframe tbody tr th {\n",
       "        vertical-align: top;\n",
       "    }\n",
       "\n",
       "    .dataframe thead th {\n",
       "        text-align: right;\n",
       "    }\n",
       "</style>\n",
       "<table border=\"1\" class=\"dataframe\">\n",
       "  <thead>\n",
       "    <tr style=\"text-align: right;\">\n",
       "      <th></th>\n",
       "      <th>№ региона</th>\n",
       "      <th>mean_predicted_reserve</th>\n",
       "      <th>mse</th>\n",
       "      <th>rmse</th>\n",
       "      <th>region_is_profitable</th>\n",
       "      <th>200_wells_max_predict</th>\n",
       "      <th>confidence_interval</th>\n",
       "      <th>profit_mean</th>\n",
       "      <th>risk%</th>\n",
       "    </tr>\n",
       "  </thead>\n",
       "  <tbody>\n",
       "    <tr>\n",
       "      <th>0</th>\n",
       "      <td>1-й Регион</td>\n",
       "      <td>92.59</td>\n",
       "      <td>1,412.21</td>\n",
       "      <td>37.58</td>\n",
       "      <td>0</td>\n",
       "      <td>3,320,826,043.14</td>\n",
       "      <td>(-102090094.83793654, 947976353.3583689)</td>\n",
       "      <td>425,938,526.91</td>\n",
       "      <td>6.00</td>\n",
       "    </tr>\n",
       "    <tr>\n",
       "      <th>1</th>\n",
       "      <td>2-й Регион</td>\n",
       "      <td>68.73</td>\n",
       "      <td>0.80</td>\n",
       "      <td>0.89</td>\n",
       "      <td>0</td>\n",
       "      <td>2,415,086,696.68</td>\n",
       "      <td>(128123231.43308444, 953612982.0669085)</td>\n",
       "      <td>518,259,493.70</td>\n",
       "      <td>0.30</td>\n",
       "    </tr>\n",
       "    <tr>\n",
       "      <th>2</th>\n",
       "      <td>3-й Регион</td>\n",
       "      <td>94.97</td>\n",
       "      <td>1,602.38</td>\n",
       "      <td>40.03</td>\n",
       "      <td>0</td>\n",
       "      <td>2,710,349,963.60</td>\n",
       "      <td>(-115852609.16001143, 989629939.8445739)</td>\n",
       "      <td>420,194,005.34</td>\n",
       "      <td>6.20</td>\n",
       "    </tr>\n",
       "  </tbody>\n",
       "</table>\n",
       "</div>"
      ],
      "text/plain": [
       "    № региона  mean_predicted_reserve      mse  rmse  region_is_profitable  \\\n",
       "0  1-й Регион                   92.59 1,412.21 37.58                     0   \n",
       "1  2-й Регион                   68.73     0.80  0.89                     0   \n",
       "2  3-й Регион                   94.97 1,602.38 40.03                     0   \n",
       "\n",
       "   200_wells_max_predict                       confidence_interval  \\\n",
       "0       3,320,826,043.14  (-102090094.83793654, 947976353.3583689)   \n",
       "1       2,415,086,696.68   (128123231.43308444, 953612982.0669085)   \n",
       "2       2,710,349,963.60  (-115852609.16001143, 989629939.8445739)   \n",
       "\n",
       "     profit_mean  risk%  \n",
       "0 425,938,526.91   6.00  \n",
       "1 518,259,493.70   0.30  \n",
       "2 420,194,005.34   6.20  "
      ]
     },
     "execution_count": 27,
     "metadata": {},
     "output_type": "execute_result"
    }
   ],
   "source": [
    "table_3 = table_1.merge(table_2, on='№ региона', how='left')# Объеденим таблицы с ключевыми показателями\n",
    "table_3\n"
   ]
  },
  {
   "cell_type": "markdown",
   "metadata": {},
   "source": [
    "<div class=\"alert alert-block alert-warning\">\n",
    "<b>Комментарий ревьюера🤔:</b> Эту таблицу соответственно тоже нужно обновить\n",
    "</div>"
   ]
  },
  {
   "cell_type": "markdown",
   "metadata": {},
   "source": [
    "<div class=\"alert alert-block alert-info\">\n",
    "<b>Комментарий студента:</b> отредактировал таблицу\n",
    "</div>"
   ]
  },
  {
   "cell_type": "markdown",
   "metadata": {},
   "source": [
    "<div class=\"alert alert-block alert-success\">\n",
    "<b>Комментарий ревьюера V.2👍:</b> Хорошо\n",
    "</div>"
   ]
  },
  {
   "cell_type": "markdown",
   "metadata": {},
   "source": [
    "<div style=\"border:solid green 2px; padding: 20px\"> \n",
    "    \n",
    "Для ответа на вопрос, поставленный руководством компании __ГлавРосГосНефть__, где из имеющихся 3-х Регионов __бурить новую скважину__, были предоставлены  данные в 3-х датафреймах с готовыми для анализа признаками, по  исследуемым регионам 1,2,3.<br>\n",
    "В предоставленных данных, имеются пробы нефти из 10000 месторождений по каждому из 3-х регионов,  в них определены общие признаки  __f0, f1, f2__ - качество нефти и целевой признак __product__ - объём запасов в скважине (тыс. баррелей)\n",
    "На этапе __подготовка данных__, была произведена первичная обработка и анализ.\n",
    "Для определения региона, где добыча принесет наибольшую прибыль, создали модеиль машинного обучения (с алгоритмом Линейная регрессия), и техникой __Bootstrap__ используя целевой признак product, получили возможные прибыли и риски для каждого региона.\n",
    "    \n",
    "__По результатам проведенного анализа из сводной таблицы видим следующее:__\n",
    "    \n",
    "- __max__ значение по среднему запасу предсказанного сырья, принадлежит __Региону 3__ и составляет __94 965__ тыс. баррелей. В свою очередь данный регион имеет __max__ значение ошибки RSME = __40.029__\n",
    "- Следующим по объему предсказанного сырья - является  __Регион 1__  с запасом  __92 593__ тыс. баррелей, здесь  значение ошибки RSME = __37.579__\n",
    "- __Регион 2__ имеет наименьшее значение запасов из исследуемых регионов __68 729__ тыс. баррелей, но зато по остальным метрикам показывает наилучшие результаты. Так он имеет __min__ значение ошибки RSME = __0.89__, \n",
    "    Анализ данных, полученных по предсказаниям модели линейной регрессии, также выделили __Регион 2__, как наиболее перспективный для разработки, поскольку имеет __max__ значение __средней выручки__ __518,259,493.70__\n",
    "    В данном регионе, доля риска получения убытков __<1%__ __(наименая среднеквадротическая ошибка RMSE=0.89 < 1)__ Также  нижний предел доверительного интервала по прибыли > 0 .\n",
    "      \n",
    "    \n",
    "    \n",
    "<br>\n",
    "    \n",
    "Полученные резельтаты дают основани предположить, что __Регион 2__ - является  наиболее прибыльным регионом для добычи нефти и __рекомендуется__ руководству ГлавРосГосНефть как __наиболее перспективный__ для начала разработки.    \n",
    " \n",
    "</div>"
   ]
  },
  {
   "cell_type": "markdown",
   "metadata": {},
   "source": [
    "<div class=\"alert alert-block alert-warning\">\n",
    "<b>Комментарий ревьюера🤔:</b> Тут ты опечатался когда написал что минимальный rmse 40\n",
    "</div>"
   ]
  },
  {
   "cell_type": "markdown",
   "metadata": {},
   "source": [
    "<div class=\"alert alert-block alert-info\">\n",
    "<b>Комментарий студента:</b> Отредактировал общий вывод \n",
    "</div>"
   ]
  },
  {
   "cell_type": "markdown",
   "metadata": {},
   "source": [
    "<div class=\"alert alert-block alert-danger\">\n",
    "<b>Комментарий ревьюера❌:</b> Спасибо тебе за проделанную работу! Всё очень достойно, осталось совсем чуть-чуть доработать. Ты немного перемудрил в финальной части и есть мелкие опечатки. Уверена ты быстро это поправишь,жду твоих исправлений =)\n",
    "    \n",
    "Если у тебя есть какие-то вопросы или ты хочешь подборку статей на какую-то тему, то обязательно пиши.\n",
    "</div>"
   ]
  },
  {
   "cell_type": "markdown",
   "metadata": {},
   "source": [
    "<div class=\"alert alert-info\">\n",
    "<b>Комментарий студента:</b>\n",
    "\n",
    "- Что говорить, возможность максимально концентрироваться на работе - сильно упала, по известным причинам.\n",
    "По поводу подборки, если можно ссылки на практические кейсы, либо источники (не сложные) по технике Bootstrap    \n",
    "</div>"
   ]
  },
  {
   "cell_type": "markdown",
   "metadata": {},
   "source": [
    "<div class=\"alert alert-block alert-danger\">\n",
    "<b>Комментарий ревьюера V.2❌:</b> Прекрасно тебя понимаю, я вообще живу в ЕС, поэтому каждое утро просыпаешься и новый сюрприз. Сначала сказали, что пересмотрят все выданные виды на жительство, потом сказали что нет ребята всё ок, кто тут живёт ни в чём не виноваты, никакой дискриминации не будет. Только выдохнули пришло оповещение из банка, что если до 31 марта не докажешь, что резидент ес или швейцарии, то из-за гражданства счёт заблокируют, а у меня в данный момент вид на жительство в стадии печати, т.е. на руках пластика нет и показывать мне нечего. Только доказала банку, что я не верблюд, сегодня пришло оповещение, что один из моих счетов на бирже заблочен, пока я им не докажу, что живу я не в России. \n",
    "    \n",
    "По твоему проекту: \n",
    "    \n",
    "- сделай ещё 2 константы заглавными буквами;\n",
    "- добавь обратно расчёт рисков (тот где у тебя было 6%, менее 1% и 6 с чем-то процентов), ты удалил всё полностью, поэтому я не могу выделить правильную часть. Ты первый раз посчитал риски 2 раза, вот второй раз был лишний. И добавь их в сводную таблицу. \n",
    "    \n",
    "Я поищу тебе статьи и прикреплю следующий раз.\n",
    "</div>"
   ]
  },
  {
   "cell_type": "markdown",
   "metadata": {},
   "source": [
    "<div class=\"alert alert-info\">\n",
    "<b>Комментарий студента V.2:</b>\n",
    "<br>\n",
    "    \n",
    "По проекту: \n",
    "- сдел 2 константы заглавными буквами;\n",
    "- добавил обратно расчёт рисков, результат вернулх в сводную таблицу столбцом risks.\n",
    "    \n",
    "По общей обстановке:<br>\n",
    "  Две первые недели, ни очем другом, думать не мог- анализировал. Пришел к выводу, что все очень серьезно, и это, похоже, только начало. Если ты в ЕС, и особенно если в постсоветском, то у тебя должен быть резерв, план 'B', безыллюзорный рассудок. <br>\n",
    "Демократии с её свободами, в подобной ситуации, как это не печально -  сложно противостоять всевозможным протекционистским идеям.\n",
    "   \n",
    "</div>"
   ]
  },
  {
   "cell_type": "markdown",
   "metadata": {},
   "source": [
    "<div class=\"alert alert-block alert-success\">\n",
    "<b>Комментарий ревьюера V.3👍:</b> Вопрос в том есть ли у нас демократия, если российские сайты блочат, а украинские работают вовсю. Из забавного было заблочено даже приложение \"мой налог\", видимо, чтобы не спонсировали врага. \n",
    "  \n",
    "Статьи по bootstrap (честно признаюсь по этой теме мало толковых статей):\n",
    "    \n",
    "- https://analyticssteps.com/blogs/bootstrapping-method-types-working-and-applications\n",
    "- https://analyticsindiamag.com/hands-on-guide-to-bootstrap-sampling-for-ml-performance-evaluation/\n",
    "- https://insidelearningmachines.com/implement-the-bootstrap-method-in-python/\n",
    "    \n",
    "    \n",
    "    \n",
    "Удачи в будущих проектах и работе =)\n",
    "</div> "
   ]
  },
  {
   "cell_type": "markdown",
   "metadata": {},
   "source": [
    "## Чек-лист готовности проекта"
   ]
  },
  {
   "cell_type": "markdown",
   "metadata": {},
   "source": [
    "Поставьте 'x' в выполненных пунктах. Далее нажмите Shift+Enter."
   ]
  },
  {
   "cell_type": "markdown",
   "metadata": {},
   "source": [
    "- [x]  Jupyter Notebook открыт\n",
    "- [x]  Весь код выполняется без ошибок\n",
    "- [x]  Ячейки с кодом расположены в порядке исполнения\n",
    "- [x]  Выполнен шаг 1: данные подготовлены\n",
    "- [x]  Выполнен шаг 2: модели обучены и проверены\n",
    "    - [x]  Данные корректно разбиты на обучающую и валидационную выборки\n",
    "    - [x]  Модели обучены, предсказания сделаны\n",
    "    - [x]  Предсказания и правильные ответы на валидационной выборке сохранены\n",
    "    - [x]  На экране напечатаны результаты\n",
    "    - [x]  Сделаны выводы\n",
    "- [x]  Выполнен шаг 3: проведена подготовка к расчёту прибыли\n",
    "    - [x]  Для всех ключевых значений созданы константы Python\n",
    "    - [x]  Посчитано минимальное среднее количество продукта в месторождениях региона, достаточное для разработки\n",
    "    - [x]  По предыдущему пункту сделаны выводы\n",
    "    - [x]  Написана функция расчёта прибыли\n",
    "- [x]  Выполнен шаг 4: посчитаны риски и прибыль\n",
    "    - [x]  Проведена процедура *Bootstrap*\n",
    "    - [x]  Все параметры бутстрепа соответствуют условию\n",
    "    - [x]  Найдены все нужные величины\n",
    "    - [x]  Предложен регион для разработки месторождения\n",
    "    - [x]  Выбор региона обоснован"
   ]
  },
  {
   "cell_type": "markdown",
   "metadata": {},
   "source": [
    "#    <br>[**В начало**](#step1)"
   ]
  },
  {
   "cell_type": "markdown",
   "metadata": {},
   "source": [
    "<a id='step1'></a>"
   ]
  },
  {
   "cell_type": "markdown",
   "metadata": {},
   "source": [
    "<a id='step1'></a>"
   ]
  }
 ],
 "metadata": {
  "ExecuteTimeLog": [
   {
    "duration": 1159,
    "start_time": "2021-07-13T23:08:27.238Z"
   },
   {
    "duration": 30,
    "start_time": "2021-07-13T23:08:29.697Z"
   },
   {
    "duration": 339,
    "start_time": "2021-07-14T22:17:17.402Z"
   },
   {
    "duration": 1139,
    "start_time": "2021-07-14T22:17:22.253Z"
   },
   {
    "duration": 30,
    "start_time": "2021-07-14T22:17:23.394Z"
   },
   {
    "duration": 5,
    "start_time": "2021-07-14T22:17:23.426Z"
   },
   {
    "duration": 350,
    "start_time": "2021-07-14T22:17:57.000Z"
   },
   {
    "duration": 19,
    "start_time": "2021-07-14T22:18:17.246Z"
   },
   {
    "duration": 272,
    "start_time": "2021-07-14T22:18:31.352Z"
   },
   {
    "duration": 18,
    "start_time": "2021-07-14T22:20:00.993Z"
   },
   {
    "duration": 8,
    "start_time": "2021-07-14T22:20:02.780Z"
   },
   {
    "duration": 338,
    "start_time": "2021-07-14T22:21:25.684Z"
   },
   {
    "duration": 32,
    "start_time": "2021-07-14T22:32:07.565Z"
   },
   {
    "duration": 11,
    "start_time": "2021-07-14T22:34:21.612Z"
   },
   {
    "duration": 17,
    "start_time": "2021-07-14T22:34:34.048Z"
   },
   {
    "duration": 403,
    "start_time": "2021-07-15T20:19:35.000Z"
   },
   {
    "duration": 1589,
    "start_time": "2021-07-15T20:19:40.229Z"
   },
   {
    "duration": 35,
    "start_time": "2021-07-15T20:19:41.821Z"
   },
   {
    "duration": 9,
    "start_time": "2021-07-15T20:19:41.859Z"
   },
   {
    "duration": 32,
    "start_time": "2021-07-15T20:19:41.870Z"
   },
   {
    "duration": 12,
    "start_time": "2021-07-15T20:19:41.904Z"
   },
   {
    "duration": 90,
    "start_time": "2021-07-15T20:19:41.918Z"
   },
   {
    "duration": 18,
    "start_time": "2021-07-15T20:19:42.010Z"
   },
   {
    "duration": 49,
    "start_time": "2021-07-15T20:19:42.032Z"
   },
   {
    "duration": 20,
    "start_time": "2021-07-15T20:19:42.084Z"
   },
   {
    "duration": 577,
    "start_time": "2021-07-15T20:20:17.202Z"
   },
   {
    "duration": 1573,
    "start_time": "2021-07-15T20:20:38.598Z"
   },
   {
    "duration": 37,
    "start_time": "2021-07-15T20:20:40.174Z"
   },
   {
    "duration": 9,
    "start_time": "2021-07-15T20:20:40.214Z"
   },
   {
    "duration": 58,
    "start_time": "2021-07-15T20:20:40.226Z"
   },
   {
    "duration": 14,
    "start_time": "2021-07-15T20:20:40.287Z"
   },
   {
    "duration": 88,
    "start_time": "2021-07-15T20:20:40.304Z"
   },
   {
    "duration": 20,
    "start_time": "2021-07-15T20:20:40.396Z"
   },
   {
    "duration": 55,
    "start_time": "2021-07-15T20:20:40.420Z"
   },
   {
    "duration": 23,
    "start_time": "2021-07-15T20:20:40.478Z"
   },
   {
    "duration": 1533,
    "start_time": "2021-07-15T20:20:40.504Z"
   },
   {
    "duration": 4,
    "start_time": "2021-07-15T20:31:17.521Z"
   },
   {
    "duration": 30,
    "start_time": "2021-07-15T20:31:20.589Z"
   },
   {
    "duration": 17,
    "start_time": "2021-07-15T20:32:21.961Z"
   },
   {
    "duration": 1546,
    "start_time": "2021-07-15T20:35:33.363Z"
   },
   {
    "duration": 38,
    "start_time": "2021-07-15T20:35:34.911Z"
   },
   {
    "duration": 8,
    "start_time": "2021-07-15T20:35:34.952Z"
   },
   {
    "duration": 33,
    "start_time": "2021-07-15T20:35:34.966Z"
   },
   {
    "duration": 12,
    "start_time": "2021-07-15T20:35:35.001Z"
   },
   {
    "duration": 98,
    "start_time": "2021-07-15T20:35:35.015Z"
   },
   {
    "duration": 17,
    "start_time": "2021-07-15T20:35:35.116Z"
   },
   {
    "duration": 44,
    "start_time": "2021-07-15T20:35:35.135Z"
   },
   {
    "duration": 232,
    "start_time": "2021-07-15T20:35:35.183Z"
   },
   {
    "duration": 567,
    "start_time": "2021-07-15T20:35:34.850Z"
   },
   {
    "duration": 18,
    "start_time": "2021-07-15T20:35:52.404Z"
   },
   {
    "duration": 114,
    "start_time": "2021-07-15T20:35:59.348Z"
   },
   {
    "duration": 17,
    "start_time": "2021-07-15T20:36:00.638Z"
   },
   {
    "duration": 1589,
    "start_time": "2021-07-15T20:36:34.427Z"
   },
   {
    "duration": 620,
    "start_time": "2021-07-15T20:36:35.399Z"
   },
   {
    "duration": 31,
    "start_time": "2021-07-15T20:37:22.994Z"
   },
   {
    "duration": 1376,
    "start_time": "2021-07-15T20:38:58.319Z"
   },
   {
    "duration": 2235,
    "start_time": "2021-07-15T20:39:38.398Z"
   },
   {
    "duration": 5,
    "start_time": "2021-07-15T20:41:18.310Z"
   },
   {
    "duration": 17,
    "start_time": "2021-07-15T20:41:23.306Z"
   },
   {
    "duration": 1536,
    "start_time": "2021-07-15T20:41:41.965Z"
   },
   {
    "duration": 35,
    "start_time": "2021-07-15T20:41:43.504Z"
   },
   {
    "duration": 7,
    "start_time": "2021-07-15T20:41:43.542Z"
   },
   {
    "duration": 42,
    "start_time": "2021-07-15T20:41:43.552Z"
   },
   {
    "duration": 13,
    "start_time": "2021-07-15T20:41:43.596Z"
   },
   {
    "duration": 91,
    "start_time": "2021-07-15T20:41:43.612Z"
   },
   {
    "duration": 20,
    "start_time": "2021-07-15T20:41:43.706Z"
   },
   {
    "duration": 48,
    "start_time": "2021-07-15T20:41:43.730Z"
   },
   {
    "duration": 31,
    "start_time": "2021-07-15T20:41:43.781Z"
   },
   {
    "duration": 5,
    "start_time": "2021-07-15T20:41:43.815Z"
   },
   {
    "duration": 51,
    "start_time": "2021-07-15T20:41:43.823Z"
   },
   {
    "duration": 9,
    "start_time": "2021-07-15T20:47:34.350Z"
   },
   {
    "duration": 11,
    "start_time": "2021-07-15T20:50:00.689Z"
   },
   {
    "duration": 17,
    "start_time": "2021-07-15T21:23:48.332Z"
   },
   {
    "duration": 409,
    "start_time": "2021-07-16T06:39:36.490Z"
   },
   {
    "duration": 427,
    "start_time": "2021-07-16T06:40:00.728Z"
   },
   {
    "duration": 1543,
    "start_time": "2021-07-16T06:40:11.495Z"
   },
   {
    "duration": 41,
    "start_time": "2021-07-16T06:40:13.041Z"
   },
   {
    "duration": 9,
    "start_time": "2021-07-16T06:40:13.568Z"
   },
   {
    "duration": 467,
    "start_time": "2021-07-16T06:40:25.283Z"
   },
   {
    "duration": 399,
    "start_time": "2021-07-16T06:40:46.356Z"
   },
   {
    "duration": 31,
    "start_time": "2021-07-16T06:40:52.933Z"
   },
   {
    "duration": 394,
    "start_time": "2021-07-16T06:40:53.892Z"
   },
   {
    "duration": 12,
    "start_time": "2021-07-16T06:40:54.812Z"
   },
   {
    "duration": 396,
    "start_time": "2021-07-16T06:41:06.655Z"
   },
   {
    "duration": 10,
    "start_time": "2021-07-16T06:41:32.196Z"
   },
   {
    "duration": 12,
    "start_time": "2021-07-16T06:42:41.018Z"
   },
   {
    "duration": 11,
    "start_time": "2021-07-16T06:44:28.116Z"
   },
   {
    "duration": 9,
    "start_time": "2021-07-16T06:45:00.605Z"
   },
   {
    "duration": 7,
    "start_time": "2021-07-16T06:46:51.285Z"
   },
   {
    "duration": 6,
    "start_time": "2021-07-16T06:47:05.489Z"
   },
   {
    "duration": 7,
    "start_time": "2021-07-16T06:47:50.724Z"
   },
   {
    "duration": 7,
    "start_time": "2021-07-16T10:43:25.515Z"
   },
   {
    "duration": 8,
    "start_time": "2021-07-16T10:43:35.194Z"
   },
   {
    "duration": 23,
    "start_time": "2021-07-16T10:49:31.193Z"
   },
   {
    "duration": 1230,
    "start_time": "2021-07-16T10:49:39.757Z"
   },
   {
    "duration": 787,
    "start_time": "2021-07-16T10:54:10.749Z"
   },
   {
    "duration": 1177,
    "start_time": "2021-07-16T10:54:23.231Z"
   },
   {
    "duration": 1778,
    "start_time": "2021-07-16T10:54:37.427Z"
   },
   {
    "duration": 1156,
    "start_time": "2021-07-16T10:54:58.075Z"
   },
   {
    "duration": 1091,
    "start_time": "2021-07-16T12:44:14.407Z"
   },
   {
    "duration": 261,
    "start_time": "2021-07-16T12:44:40.641Z"
   },
   {
    "duration": 1391,
    "start_time": "2021-07-16T12:45:00.003Z"
   },
   {
    "duration": 23,
    "start_time": "2021-07-16T12:55:38.293Z"
   },
   {
    "duration": 31,
    "start_time": "2021-07-16T12:55:56.519Z"
   },
   {
    "duration": 4,
    "start_time": "2021-07-16T12:56:06.532Z"
   },
   {
    "duration": 18,
    "start_time": "2021-07-16T12:56:07.318Z"
   },
   {
    "duration": 21,
    "start_time": "2021-07-16T12:56:09.007Z"
   },
   {
    "duration": 30,
    "start_time": "2021-07-16T12:56:09.853Z"
   },
   {
    "duration": 1647,
    "start_time": "2021-07-16T12:56:10.470Z"
   },
   {
    "duration": 1958,
    "start_time": "2021-07-16T12:56:36.631Z"
   },
   {
    "duration": 10,
    "start_time": "2021-07-16T12:56:50.881Z"
   },
   {
    "duration": 1306,
    "start_time": "2021-07-16T12:57:08.886Z"
   },
   {
    "duration": 18,
    "start_time": "2021-07-16T12:59:34.090Z"
   },
   {
    "duration": 315,
    "start_time": "2021-07-16T13:12:53.036Z"
   },
   {
    "duration": 316,
    "start_time": "2021-07-16T13:13:10.235Z"
   },
   {
    "duration": 15,
    "start_time": "2021-07-16T13:14:05.799Z"
   },
   {
    "duration": 328,
    "start_time": "2021-07-16T13:14:07.229Z"
   },
   {
    "duration": 1586,
    "start_time": "2021-07-16T13:14:38.751Z"
   },
   {
    "duration": 39,
    "start_time": "2021-07-16T13:14:40.340Z"
   },
   {
    "duration": 8,
    "start_time": "2021-07-16T13:14:40.382Z"
   },
   {
    "duration": 34,
    "start_time": "2021-07-16T13:14:40.393Z"
   },
   {
    "duration": 8,
    "start_time": "2021-07-16T13:14:40.429Z"
   },
   {
    "duration": 9,
    "start_time": "2021-07-16T13:14:40.440Z"
   },
   {
    "duration": 40,
    "start_time": "2021-07-16T13:14:40.451Z"
   },
   {
    "duration": 58,
    "start_time": "2021-07-16T13:14:40.495Z"
   },
   {
    "duration": 39,
    "start_time": "2021-07-16T13:14:40.555Z"
   },
   {
    "duration": 19,
    "start_time": "2021-07-16T13:14:40.596Z"
   },
   {
    "duration": 3,
    "start_time": "2021-07-16T13:14:40.618Z"
   },
   {
    "duration": 32,
    "start_time": "2021-07-16T13:14:40.624Z"
   },
   {
    "duration": 29,
    "start_time": "2021-07-16T13:14:40.685Z"
   },
   {
    "duration": 17,
    "start_time": "2021-07-16T13:14:40.716Z"
   },
   {
    "duration": 960,
    "start_time": "2021-07-16T13:14:40.735Z"
   },
   {
    "duration": 975,
    "start_time": "2021-07-16T13:17:09.443Z"
   },
   {
    "duration": 481,
    "start_time": "2021-07-16T13:19:07.889Z"
   },
   {
    "duration": 1200,
    "start_time": "2021-07-16T13:19:16.670Z"
   },
   {
    "duration": 1520,
    "start_time": "2021-07-16T13:19:34.114Z"
   },
   {
    "duration": 39,
    "start_time": "2021-07-16T13:19:35.637Z"
   },
   {
    "duration": 8,
    "start_time": "2021-07-16T13:19:35.679Z"
   },
   {
    "duration": 42,
    "start_time": "2021-07-16T13:19:35.690Z"
   },
   {
    "duration": 8,
    "start_time": "2021-07-16T13:19:35.735Z"
   },
   {
    "duration": 19,
    "start_time": "2021-07-16T13:19:35.746Z"
   },
   {
    "duration": 16,
    "start_time": "2021-07-16T13:19:35.787Z"
   },
   {
    "duration": 63,
    "start_time": "2021-07-16T13:19:35.807Z"
   },
   {
    "duration": 28,
    "start_time": "2021-07-16T13:19:35.873Z"
   },
   {
    "duration": 18,
    "start_time": "2021-07-16T13:19:35.904Z"
   },
   {
    "duration": 4,
    "start_time": "2021-07-16T13:19:35.924Z"
   },
   {
    "duration": 57,
    "start_time": "2021-07-16T13:19:35.930Z"
   },
   {
    "duration": 25,
    "start_time": "2021-07-16T13:19:35.990Z"
   },
   {
    "duration": 19,
    "start_time": "2021-07-16T13:19:36.018Z"
   },
   {
    "duration": 941,
    "start_time": "2021-07-16T13:19:36.040Z"
   },
   {
    "duration": 1124,
    "start_time": "2021-07-16T13:19:57.762Z"
   },
   {
    "duration": 108,
    "start_time": "2021-07-16T13:20:38.350Z"
   },
   {
    "duration": 15,
    "start_time": "2021-07-16T13:20:43.511Z"
   },
   {
    "duration": 481,
    "start_time": "2021-07-16T13:21:01.951Z"
   },
   {
    "duration": 1599,
    "start_time": "2021-07-16T13:21:13.749Z"
   },
   {
    "duration": 40,
    "start_time": "2021-07-16T13:21:15.351Z"
   },
   {
    "duration": 8,
    "start_time": "2021-07-16T13:21:15.395Z"
   },
   {
    "duration": 38,
    "start_time": "2021-07-16T13:21:15.406Z"
   },
   {
    "duration": 8,
    "start_time": "2021-07-16T13:21:15.447Z"
   },
   {
    "duration": 33,
    "start_time": "2021-07-16T13:21:15.458Z"
   },
   {
    "duration": 17,
    "start_time": "2021-07-16T13:21:15.493Z"
   },
   {
    "duration": 87,
    "start_time": "2021-07-16T13:21:15.515Z"
   },
   {
    "duration": 19,
    "start_time": "2021-07-16T13:21:15.605Z"
   },
   {
    "duration": 19,
    "start_time": "2021-07-16T13:21:15.627Z"
   },
   {
    "duration": 36,
    "start_time": "2021-07-16T13:21:15.649Z"
   },
   {
    "duration": 22,
    "start_time": "2021-07-16T13:21:15.688Z"
   },
   {
    "duration": 13,
    "start_time": "2021-07-16T13:21:15.713Z"
   },
   {
    "duration": 15,
    "start_time": "2021-07-16T13:21:15.729Z"
   },
   {
    "duration": 52,
    "start_time": "2021-07-16T13:21:15.747Z"
   },
   {
    "duration": 918,
    "start_time": "2021-07-16T13:21:15.802Z"
   },
   {
    "duration": 1095,
    "start_time": "2021-07-16T13:21:50.843Z"
   },
   {
    "duration": 11,
    "start_time": "2021-07-16T13:28:23.931Z"
   },
   {
    "duration": 15,
    "start_time": "2021-07-16T13:36:15.801Z"
   },
   {
    "duration": 7600,
    "start_time": "2021-07-16T13:36:53.189Z"
   },
   {
    "duration": 9,
    "start_time": "2021-07-16T13:37:07.837Z"
   },
   {
    "duration": 295,
    "start_time": "2021-07-16T13:42:04.447Z"
   },
   {
    "duration": 304,
    "start_time": "2021-07-16T13:42:15.967Z"
   },
   {
    "duration": 6,
    "start_time": "2021-07-16T13:42:37.876Z"
   },
   {
    "duration": 6,
    "start_time": "2021-07-16T13:43:05.949Z"
   },
   {
    "duration": 16,
    "start_time": "2021-07-16T13:43:21.189Z"
   },
   {
    "duration": 25,
    "start_time": "2021-07-16T13:56:21.588Z"
   },
   {
    "duration": 8,
    "start_time": "2021-07-16T14:04:59.599Z"
   },
   {
    "duration": 33,
    "start_time": "2021-07-16T14:05:01.080Z"
   },
   {
    "duration": 8,
    "start_time": "2021-07-16T14:05:33.043Z"
   },
   {
    "duration": 28,
    "start_time": "2021-07-16T14:05:34.596Z"
   },
   {
    "duration": 15,
    "start_time": "2021-07-16T14:11:56.156Z"
   },
   {
    "duration": 24,
    "start_time": "2021-07-16T14:12:44.043Z"
   },
   {
    "duration": 9,
    "start_time": "2021-07-16T14:14:40.120Z"
   },
   {
    "duration": 31,
    "start_time": "2021-07-16T14:14:40.804Z"
   },
   {
    "duration": 9,
    "start_time": "2021-07-16T14:14:55.087Z"
   },
   {
    "duration": 32,
    "start_time": "2021-07-16T14:14:56.716Z"
   },
   {
    "duration": 1472,
    "start_time": "2021-07-16T14:15:06.130Z"
   },
   {
    "duration": 48,
    "start_time": "2021-07-16T14:15:07.605Z"
   },
   {
    "duration": 11,
    "start_time": "2021-07-16T14:15:07.657Z"
   },
   {
    "duration": 31,
    "start_time": "2021-07-16T14:15:07.684Z"
   },
   {
    "duration": 8,
    "start_time": "2021-07-16T14:15:07.718Z"
   },
   {
    "duration": 6,
    "start_time": "2021-07-16T14:15:07.729Z"
   },
   {
    "duration": 53,
    "start_time": "2021-07-16T14:15:07.738Z"
   },
   {
    "duration": 58,
    "start_time": "2021-07-16T14:15:07.794Z"
   },
   {
    "duration": 41,
    "start_time": "2021-07-16T14:15:07.855Z"
   },
   {
    "duration": 19,
    "start_time": "2021-07-16T14:15:07.898Z"
   },
   {
    "duration": 12,
    "start_time": "2021-07-16T14:15:07.919Z"
   },
   {
    "duration": 29,
    "start_time": "2021-07-16T14:15:07.934Z"
   },
   {
    "duration": 20,
    "start_time": "2021-07-16T14:15:07.966Z"
   },
   {
    "duration": 25,
    "start_time": "2021-07-16T14:15:07.989Z"
   },
   {
    "duration": 15,
    "start_time": "2021-07-16T14:15:08.017Z"
   },
   {
    "duration": 25,
    "start_time": "2021-07-16T14:15:08.034Z"
   },
   {
    "duration": 24,
    "start_time": "2021-07-16T14:15:08.062Z"
   },
   {
    "duration": 19,
    "start_time": "2021-07-16T14:15:08.089Z"
   },
   {
    "duration": 1133,
    "start_time": "2021-07-16T14:15:08.111Z"
   },
   {
    "duration": 9,
    "start_time": "2021-07-16T14:15:09.246Z"
   },
   {
    "duration": 52,
    "start_time": "2021-07-16T14:15:09.258Z"
   },
   {
    "duration": 9575,
    "start_time": "2021-07-16T14:15:09.313Z"
   },
   {
    "duration": -103,
    "start_time": "2021-07-16T14:15:18.994Z"
   },
   {
    "duration": 16,
    "start_time": "2021-07-16T14:18:57.416Z"
   },
   {
    "duration": 9,
    "start_time": "2021-07-16T14:26:09.198Z"
   },
   {
    "duration": 6,
    "start_time": "2021-07-16T14:26:14.634Z"
   },
   {
    "duration": 380,
    "start_time": "2021-07-16T14:27:34.642Z"
   },
   {
    "duration": 352,
    "start_time": "2021-07-16T14:28:25.712Z"
   },
   {
    "duration": 325,
    "start_time": "2021-07-16T14:28:44.194Z"
   },
   {
    "duration": 450,
    "start_time": "2021-07-16T14:29:32.881Z"
   },
   {
    "duration": 357,
    "start_time": "2021-07-16T14:30:15.441Z"
   },
   {
    "duration": 358,
    "start_time": "2021-07-16T14:30:29.676Z"
   },
   {
    "duration": 268,
    "start_time": "2021-07-16T14:30:49.098Z"
   },
   {
    "duration": 271,
    "start_time": "2021-07-16T14:31:03.618Z"
   },
   {
    "duration": 284,
    "start_time": "2021-07-16T14:31:49.044Z"
   },
   {
    "duration": 236,
    "start_time": "2021-07-16T14:32:05.120Z"
   },
   {
    "duration": 229,
    "start_time": "2021-07-16T14:32:16.994Z"
   },
   {
    "duration": 142,
    "start_time": "2022-03-16T06:39:13.915Z"
   },
   {
    "duration": 1201,
    "start_time": "2022-03-16T06:39:24.299Z"
   },
   {
    "duration": 25,
    "start_time": "2022-03-16T06:39:25.502Z"
   },
   {
    "duration": 5,
    "start_time": "2022-03-16T06:39:29.425Z"
   },
   {
    "duration": 345,
    "start_time": "2022-03-16T06:39:39.519Z"
   },
   {
    "duration": 3,
    "start_time": "2022-03-16T06:39:41.697Z"
   },
   {
    "duration": 6,
    "start_time": "2022-03-16T06:39:57.680Z"
   },
   {
    "duration": 220,
    "start_time": "2022-03-16T06:41:32.603Z"
   },
   {
    "duration": 233,
    "start_time": "2022-03-16T06:42:11.475Z"
   },
   {
    "duration": 212,
    "start_time": "2022-03-16T06:43:10.106Z"
   },
   {
    "duration": 222,
    "start_time": "2022-03-16T06:44:12.993Z"
   },
   {
    "duration": 96,
    "start_time": "2022-03-16T06:44:45.938Z"
   },
   {
    "duration": 241,
    "start_time": "2022-03-16T06:44:52.178Z"
   },
   {
    "duration": 251,
    "start_time": "2022-03-16T06:45:36.760Z"
   },
   {
    "duration": 212,
    "start_time": "2022-03-16T06:45:50.795Z"
   },
   {
    "duration": 28,
    "start_time": "2022-03-16T06:48:58.110Z"
   },
   {
    "duration": 9,
    "start_time": "2022-03-16T06:49:13.748Z"
   },
   {
    "duration": 399,
    "start_time": "2022-03-16T19:13:08.797Z"
   },
   {
    "duration": 6,
    "start_time": "2022-03-16T19:14:20.548Z"
   },
   {
    "duration": 456,
    "start_time": "2022-03-16T19:15:44.638Z"
   },
   {
    "duration": 16,
    "start_time": "2022-03-16T19:20:27.911Z"
   },
   {
    "duration": 12,
    "start_time": "2022-03-16T19:20:56.424Z"
   },
   {
    "duration": 1707,
    "start_time": "2022-03-16T19:24:34.361Z"
   },
   {
    "duration": 493,
    "start_time": "2022-03-16T19:24:45.754Z"
   },
   {
    "duration": 460,
    "start_time": "2022-03-16T19:25:43.752Z"
   },
   {
    "duration": 13,
    "start_time": "2022-03-16T19:26:47.039Z"
   },
   {
    "duration": 492,
    "start_time": "2022-03-16T19:28:04.412Z"
   },
   {
    "duration": 5,
    "start_time": "2022-03-16T19:30:50.473Z"
   },
   {
    "duration": 20,
    "start_time": "2022-03-16T19:31:05.698Z"
   },
   {
    "duration": 19,
    "start_time": "2022-03-16T19:31:20.825Z"
   },
   {
    "duration": 21,
    "start_time": "2022-03-16T19:31:31.953Z"
   },
   {
    "duration": 181,
    "start_time": "2022-03-16T19:31:47.933Z"
   },
   {
    "duration": 14,
    "start_time": "2022-03-16T19:31:53.912Z"
   },
   {
    "duration": 19,
    "start_time": "2022-03-16T19:32:30.245Z"
   },
   {
    "duration": 15,
    "start_time": "2022-03-16T19:32:46.195Z"
   },
   {
    "duration": 114,
    "start_time": "2022-03-16T19:35:19.147Z"
   },
   {
    "duration": 124,
    "start_time": "2022-03-16T19:35:46.549Z"
   },
   {
    "duration": 13,
    "start_time": "2022-03-16T19:35:51.883Z"
   },
   {
    "duration": 13,
    "start_time": "2022-03-16T19:36:10.957Z"
   },
   {
    "duration": 14,
    "start_time": "2022-03-16T19:36:43.566Z"
   },
   {
    "duration": 13,
    "start_time": "2022-03-16T19:36:50.582Z"
   },
   {
    "duration": 8,
    "start_time": "2022-03-16T19:37:03.984Z"
   },
   {
    "duration": 8,
    "start_time": "2022-03-16T19:37:12.330Z"
   },
   {
    "duration": 460,
    "start_time": "2022-03-16T19:40:48.926Z"
   },
   {
    "duration": 744,
    "start_time": "2022-03-16T19:42:28.988Z"
   },
   {
    "duration": 717,
    "start_time": "2022-03-16T19:43:12.197Z"
   },
   {
    "duration": 113,
    "start_time": "2022-03-16T19:47:53.368Z"
   },
   {
    "duration": 170,
    "start_time": "2022-03-16T19:48:14.724Z"
   },
   {
    "duration": 36,
    "start_time": "2022-03-16T19:49:24.032Z"
   },
   {
    "duration": 38,
    "start_time": "2022-03-16T19:49:59.185Z"
   },
   {
    "duration": 113,
    "start_time": "2022-03-16T19:51:05.941Z"
   },
   {
    "duration": 534,
    "start_time": "2022-03-16T19:54:22.312Z"
   },
   {
    "duration": 664,
    "start_time": "2022-03-16T19:54:26.544Z"
   },
   {
    "duration": 526,
    "start_time": "2022-03-16T19:54:35.591Z"
   },
   {
    "duration": 503,
    "start_time": "2022-03-16T19:55:05.863Z"
   },
   {
    "duration": 507,
    "start_time": "2022-03-16T19:55:23.670Z"
   },
   {
    "duration": 11,
    "start_time": "2022-03-16T19:57:02.425Z"
   },
   {
    "duration": 13,
    "start_time": "2022-03-16T19:57:25.419Z"
   },
   {
    "duration": 11,
    "start_time": "2022-03-16T19:57:36.313Z"
   },
   {
    "duration": 12,
    "start_time": "2022-03-16T19:57:48.619Z"
   },
   {
    "duration": 18,
    "start_time": "2022-03-16T19:57:56.666Z"
   },
   {
    "duration": 14,
    "start_time": "2022-03-16T19:58:09.673Z"
   },
   {
    "duration": 505,
    "start_time": "2022-03-16T20:01:42.135Z"
   },
   {
    "duration": 499,
    "start_time": "2022-03-16T20:01:43.087Z"
   },
   {
    "duration": 14,
    "start_time": "2022-03-16T20:08:27.994Z"
   },
   {
    "duration": 21,
    "start_time": "2022-03-16T20:08:43.112Z"
   },
   {
    "duration": 19,
    "start_time": "2022-03-16T20:09:01.048Z"
   },
   {
    "duration": 18,
    "start_time": "2022-03-16T20:09:06.821Z"
   },
   {
    "duration": 15,
    "start_time": "2022-03-16T20:09:30.818Z"
   },
   {
    "duration": 20,
    "start_time": "2022-03-16T20:09:37.257Z"
   },
   {
    "duration": 18,
    "start_time": "2022-03-16T20:10:09.019Z"
   },
   {
    "duration": 20,
    "start_time": "2022-03-16T20:10:15.198Z"
   },
   {
    "duration": 20,
    "start_time": "2022-03-16T20:10:21.958Z"
   },
   {
    "duration": 15,
    "start_time": "2022-03-16T20:10:28.519Z"
   },
   {
    "duration": 15,
    "start_time": "2022-03-16T20:10:39.902Z"
   },
   {
    "duration": 12,
    "start_time": "2022-03-16T20:38:23.210Z"
   },
   {
    "duration": 19,
    "start_time": "2022-03-16T20:38:36.172Z"
   },
   {
    "duration": 12,
    "start_time": "2022-03-16T20:38:53.322Z"
   },
   {
    "duration": 503,
    "start_time": "2022-03-16T20:39:01.778Z"
   },
   {
    "duration": 1524,
    "start_time": "2022-03-16T20:39:32.503Z"
   },
   {
    "duration": 295,
    "start_time": "2022-03-16T20:39:39.300Z"
   },
   {
    "duration": 6,
    "start_time": "2022-03-16T20:40:39.087Z"
   },
   {
    "duration": 6,
    "start_time": "2022-03-16T20:41:09.339Z"
   },
   {
    "duration": 6,
    "start_time": "2022-03-16T20:41:15.981Z"
   },
   {
    "duration": 14,
    "start_time": "2022-03-16T20:42:55.434Z"
   },
   {
    "duration": 14,
    "start_time": "2022-03-16T20:43:13.715Z"
   },
   {
    "duration": 11,
    "start_time": "2022-03-16T20:44:55.675Z"
   },
   {
    "duration": 38,
    "start_time": "2022-03-16T20:48:06.891Z"
   },
   {
    "duration": 35,
    "start_time": "2022-03-16T20:48:20.274Z"
   },
   {
    "duration": 111,
    "start_time": "2022-03-16T20:49:58.234Z"
   },
   {
    "duration": 1297,
    "start_time": "2022-03-16T20:50:56.779Z"
   },
   {
    "duration": 379,
    "start_time": "2022-03-16T20:50:58.078Z"
   },
   {
    "duration": 308,
    "start_time": "2022-03-16T20:50:58.460Z"
   },
   {
    "duration": 38,
    "start_time": "2022-03-16T20:50:58.770Z"
   },
   {
    "duration": 454,
    "start_time": "2022-03-16T20:50:58.810Z"
   },
   {
    "duration": 406,
    "start_time": "2022-03-16T20:50:59.267Z"
   },
   {
    "duration": 402,
    "start_time": "2022-03-16T20:50:59.675Z"
   },
   {
    "duration": 311,
    "start_time": "2022-03-16T20:51:00.079Z"
   },
   {
    "duration": 87,
    "start_time": "2022-03-16T20:51:00.376Z"
   },
   {
    "duration": 69,
    "start_time": "2022-03-16T20:51:00.395Z"
   },
   {
    "duration": 12,
    "start_time": "2022-03-16T20:51:00.454Z"
   },
   {
    "duration": -46,
    "start_time": "2022-03-16T20:51:00.513Z"
   },
   {
    "duration": -52,
    "start_time": "2022-03-16T20:51:00.520Z"
   },
   {
    "duration": -58,
    "start_time": "2022-03-16T20:51:00.528Z"
   },
   {
    "duration": -63,
    "start_time": "2022-03-16T20:51:00.534Z"
   },
   {
    "duration": -69,
    "start_time": "2022-03-16T20:51:00.542Z"
   },
   {
    "duration": -82,
    "start_time": "2022-03-16T20:51:00.557Z"
   },
   {
    "duration": -86,
    "start_time": "2022-03-16T20:51:00.563Z"
   },
   {
    "duration": -90,
    "start_time": "2022-03-16T20:51:00.568Z"
   },
   {
    "duration": -94,
    "start_time": "2022-03-16T20:51:00.574Z"
   },
   {
    "duration": -97,
    "start_time": "2022-03-16T20:51:00.579Z"
   },
   {
    "duration": -101,
    "start_time": "2022-03-16T20:51:00.584Z"
   },
   {
    "duration": -108,
    "start_time": "2022-03-16T20:51:00.592Z"
   },
   {
    "duration": -111,
    "start_time": "2022-03-16T20:51:00.597Z"
   },
   {
    "duration": -116,
    "start_time": "2022-03-16T20:51:00.603Z"
   },
   {
    "duration": -160,
    "start_time": "2022-03-16T20:51:00.649Z"
   },
   {
    "duration": -168,
    "start_time": "2022-03-16T20:51:00.659Z"
   },
   {
    "duration": -172,
    "start_time": "2022-03-16T20:51:00.664Z"
   },
   {
    "duration": -175,
    "start_time": "2022-03-16T20:51:00.669Z"
   },
   {
    "duration": -181,
    "start_time": "2022-03-16T20:51:00.677Z"
   },
   {
    "duration": -187,
    "start_time": "2022-03-16T20:51:00.684Z"
   },
   {
    "duration": -190,
    "start_time": "2022-03-16T20:51:00.689Z"
   },
   {
    "duration": -197,
    "start_time": "2022-03-16T20:51:00.697Z"
   },
   {
    "duration": -200,
    "start_time": "2022-03-16T20:51:00.702Z"
   },
   {
    "duration": -276,
    "start_time": "2022-03-16T20:51:00.779Z"
   },
   {
    "duration": -279,
    "start_time": "2022-03-16T20:51:00.784Z"
   },
   {
    "duration": -225,
    "start_time": "2022-03-16T20:51:00.790Z"
   },
   {
    "duration": -280,
    "start_time": "2022-03-16T20:51:00.848Z"
   },
   {
    "duration": -285,
    "start_time": "2022-03-16T20:51:00.854Z"
   },
   {
    "duration": -289,
    "start_time": "2022-03-16T20:51:00.860Z"
   },
   {
    "duration": -315,
    "start_time": "2022-03-16T20:51:00.888Z"
   },
   {
    "duration": -339,
    "start_time": "2022-03-16T20:51:00.913Z"
   },
   {
    "duration": -382,
    "start_time": "2022-03-16T20:51:00.958Z"
   },
   {
    "duration": -448,
    "start_time": "2022-03-16T20:51:01.025Z"
   },
   {
    "duration": -470,
    "start_time": "2022-03-16T20:51:01.050Z"
   },
   {
    "duration": -478,
    "start_time": "2022-03-16T20:51:01.060Z"
   },
   {
    "duration": -483,
    "start_time": "2022-03-16T20:51:01.066Z"
   },
   {
    "duration": -487,
    "start_time": "2022-03-16T20:51:01.072Z"
   },
   {
    "duration": -490,
    "start_time": "2022-03-16T20:51:01.077Z"
   },
   {
    "duration": -495,
    "start_time": "2022-03-16T20:51:01.083Z"
   },
   {
    "duration": -497,
    "start_time": "2022-03-16T20:51:01.087Z"
   },
   {
    "duration": -502,
    "start_time": "2022-03-16T20:51:01.094Z"
   },
   {
    "duration": -505,
    "start_time": "2022-03-16T20:51:01.099Z"
   },
   {
    "duration": -509,
    "start_time": "2022-03-16T20:51:01.104Z"
   },
   {
    "duration": -513,
    "start_time": "2022-03-16T20:51:01.110Z"
   },
   {
    "duration": -516,
    "start_time": "2022-03-16T20:51:01.115Z"
   },
   {
    "duration": -520,
    "start_time": "2022-03-16T20:51:01.121Z"
   },
   {
    "duration": -524,
    "start_time": "2022-03-16T20:51:01.128Z"
   },
   {
    "duration": -476,
    "start_time": "2022-03-16T20:51:01.134Z"
   },
   {
    "duration": -480,
    "start_time": "2022-03-16T20:51:01.140Z"
   },
   {
    "duration": -500,
    "start_time": "2022-03-16T20:51:01.162Z"
   },
   {
    "duration": -504,
    "start_time": "2022-03-16T20:51:01.168Z"
   },
   {
    "duration": -509,
    "start_time": "2022-03-16T20:51:01.174Z"
   },
   {
    "duration": -513,
    "start_time": "2022-03-16T20:51:01.180Z"
   },
   {
    "duration": -518,
    "start_time": "2022-03-16T20:51:01.186Z"
   },
   {
    "duration": -522,
    "start_time": "2022-03-16T20:51:01.192Z"
   },
   {
    "duration": -528,
    "start_time": "2022-03-16T20:51:01.199Z"
   },
   {
    "duration": 169,
    "start_time": "2022-03-16T20:54:15.511Z"
   },
   {
    "duration": 46,
    "start_time": "2022-03-16T20:56:01.460Z"
   },
   {
    "duration": 38,
    "start_time": "2022-03-16T20:56:16.779Z"
   },
   {
    "duration": 32,
    "start_time": "2022-03-16T20:56:26.003Z"
   },
   {
    "duration": 32,
    "start_time": "2022-03-16T20:56:39.159Z"
   },
   {
    "duration": 39,
    "start_time": "2022-03-16T20:56:50.058Z"
   },
   {
    "duration": 121,
    "start_time": "2022-03-16T20:58:02.018Z"
   },
   {
    "duration": 4,
    "start_time": "2022-03-16T20:58:20.031Z"
   },
   {
    "duration": 16,
    "start_time": "2022-03-16T20:59:08.830Z"
   },
   {
    "duration": 47,
    "start_time": "2022-03-16T20:59:33.339Z"
   },
   {
    "duration": 76,
    "start_time": "2022-03-16T20:59:43.619Z"
   },
   {
    "duration": 75,
    "start_time": "2022-03-16T20:59:56.378Z"
   },
   {
    "duration": 15,
    "start_time": "2022-03-16T21:00:38.592Z"
   },
   {
    "duration": 117,
    "start_time": "2022-03-16T21:02:27.360Z"
   },
   {
    "duration": 6,
    "start_time": "2022-03-16T21:02:33.951Z"
   },
   {
    "duration": 88,
    "start_time": "2022-03-16T21:03:15.181Z"
   },
   {
    "duration": 97,
    "start_time": "2022-03-16T21:03:59.579Z"
   },
   {
    "duration": 91,
    "start_time": "2022-03-16T21:04:19.954Z"
   },
   {
    "duration": 12,
    "start_time": "2022-03-16T21:04:34.983Z"
   },
   {
    "duration": 85,
    "start_time": "2022-03-16T21:05:28.552Z"
   },
   {
    "duration": 90,
    "start_time": "2022-03-16T21:05:33.670Z"
   },
   {
    "duration": 113,
    "start_time": "2022-03-16T21:07:16.815Z"
   },
   {
    "duration": 112,
    "start_time": "2022-03-16T21:07:35.376Z"
   },
   {
    "duration": 192,
    "start_time": "2022-03-16T21:08:11.616Z"
   },
   {
    "duration": 187,
    "start_time": "2022-03-16T21:08:35.434Z"
   },
   {
    "duration": 34,
    "start_time": "2022-03-16T21:09:06.217Z"
   },
   {
    "duration": 33,
    "start_time": "2022-03-16T21:09:29.697Z"
   },
   {
    "duration": 33,
    "start_time": "2022-03-16T21:09:46.667Z"
   },
   {
    "duration": 101,
    "start_time": "2022-03-16T21:09:56.271Z"
   },
   {
    "duration": 41,
    "start_time": "2022-03-16T21:10:06.475Z"
   },
   {
    "duration": 37,
    "start_time": "2022-03-16T21:10:22.914Z"
   },
   {
    "duration": 99,
    "start_time": "2022-03-16T21:10:36.975Z"
   },
   {
    "duration": 38,
    "start_time": "2022-03-16T21:11:55.536Z"
   },
   {
    "duration": 73,
    "start_time": "2022-03-16T21:12:20.791Z"
   },
   {
    "duration": 34,
    "start_time": "2022-03-16T21:13:55.185Z"
   },
   {
    "duration": 44,
    "start_time": "2022-03-16T21:14:06.012Z"
   },
   {
    "duration": 29,
    "start_time": "2022-03-16T21:14:26.054Z"
   },
   {
    "duration": 48,
    "start_time": "2022-03-16T21:14:35.615Z"
   },
   {
    "duration": 73,
    "start_time": "2022-03-16T21:14:42.623Z"
   },
   {
    "duration": 11,
    "start_time": "2022-03-16T21:15:15.575Z"
   },
   {
    "duration": 25,
    "start_time": "2022-03-16T21:17:18.411Z"
   },
   {
    "duration": 20,
    "start_time": "2022-03-16T21:17:48.143Z"
   },
   {
    "duration": 109,
    "start_time": "2022-03-16T21:21:26.529Z"
   },
   {
    "duration": 32,
    "start_time": "2022-03-16T21:40:43.143Z"
   },
   {
    "duration": 24,
    "start_time": "2022-03-16T21:40:51.971Z"
   },
   {
    "duration": 2841,
    "start_time": "2022-03-16T21:52:24.459Z"
   },
   {
    "duration": 220,
    "start_time": "2022-03-16T21:52:39.695Z"
   },
   {
    "duration": 217,
    "start_time": "2022-03-16T21:52:48.024Z"
   },
   {
    "duration": 216,
    "start_time": "2022-03-16T21:52:54.431Z"
   },
   {
    "duration": 215,
    "start_time": "2022-03-16T21:53:02.872Z"
   },
   {
    "duration": 213,
    "start_time": "2022-03-16T21:53:11.483Z"
   },
   {
    "duration": 233,
    "start_time": "2022-03-16T21:53:18.458Z"
   },
   {
    "duration": 228,
    "start_time": "2022-03-16T21:53:23.848Z"
   },
   {
    "duration": 619,
    "start_time": "2022-03-16T21:54:19.776Z"
   },
   {
    "duration": 753,
    "start_time": "2022-03-16T21:57:43.600Z"
   },
   {
    "duration": 612,
    "start_time": "2022-03-16T21:58:07.064Z"
   },
   {
    "duration": 618,
    "start_time": "2022-03-16T21:58:59.286Z"
   },
   {
    "duration": 602,
    "start_time": "2022-03-16T21:59:39.018Z"
   },
   {
    "duration": 744,
    "start_time": "2022-03-16T22:00:14.851Z"
   },
   {
    "duration": 620,
    "start_time": "2022-03-16T22:00:33.791Z"
   },
   {
    "duration": 782,
    "start_time": "2022-03-16T22:01:56.699Z"
   },
   {
    "duration": 664,
    "start_time": "2022-03-16T22:02:22.228Z"
   },
   {
    "duration": 691,
    "start_time": "2022-03-16T22:02:36.070Z"
   },
   {
    "duration": 605,
    "start_time": "2022-03-16T22:02:42.916Z"
   },
   {
    "duration": 630,
    "start_time": "2022-03-16T22:07:48.736Z"
   },
   {
    "duration": 622,
    "start_time": "2022-03-16T22:08:18.163Z"
   },
   {
    "duration": 731,
    "start_time": "2022-03-16T22:08:45.550Z"
   },
   {
    "duration": 630,
    "start_time": "2022-03-16T22:08:51.852Z"
   },
   {
    "duration": 37,
    "start_time": "2022-03-16T22:15:48.244Z"
   },
   {
    "duration": 306,
    "start_time": "2022-03-16T22:16:14.319Z"
   },
   {
    "duration": 299,
    "start_time": "2022-03-16T22:16:31.138Z"
   },
   {
    "duration": 90,
    "start_time": "2022-03-16T22:16:57.393Z"
   },
   {
    "duration": 89,
    "start_time": "2022-03-16T22:18:17.648Z"
   },
   {
    "duration": 84,
    "start_time": "2022-03-16T22:18:48.414Z"
   },
   {
    "duration": 86,
    "start_time": "2022-03-16T22:19:10.054Z"
   },
   {
    "duration": 84,
    "start_time": "2022-03-16T22:19:58.081Z"
   },
   {
    "duration": 92,
    "start_time": "2022-03-16T22:20:06.593Z"
   },
   {
    "duration": 167,
    "start_time": "2022-03-16T22:20:14.857Z"
   },
   {
    "duration": 101,
    "start_time": "2022-03-16T22:20:21.324Z"
   },
   {
    "duration": 90,
    "start_time": "2022-03-16T22:20:46.392Z"
   },
   {
    "duration": 93,
    "start_time": "2022-03-16T22:21:03.353Z"
   },
   {
    "duration": 124,
    "start_time": "2022-03-16T23:09:00.114Z"
   },
   {
    "duration": 328,
    "start_time": "2022-03-17T00:43:18.018Z"
   },
   {
    "duration": 297,
    "start_time": "2022-03-17T00:43:33.166Z"
   },
   {
    "duration": 320,
    "start_time": "2022-03-17T00:43:57.925Z"
   },
   {
    "duration": 290,
    "start_time": "2022-03-17T00:45:02.873Z"
   },
   {
    "duration": 10,
    "start_time": "2022-03-17T00:47:03.153Z"
   },
   {
    "duration": 12,
    "start_time": "2022-03-17T00:48:08.592Z"
   },
   {
    "duration": 318,
    "start_time": "2022-03-17T00:49:07.672Z"
   },
   {
    "duration": 435,
    "start_time": "2022-03-17T00:49:33.844Z"
   },
   {
    "duration": 146,
    "start_time": "2022-03-17T00:50:46.192Z"
   },
   {
    "duration": 326,
    "start_time": "2022-03-17T00:50:52.364Z"
   },
   {
    "duration": 17681,
    "start_time": "2022-03-17T00:54:32.071Z"
   },
   {
    "duration": 607,
    "start_time": "2022-03-17T00:57:24.710Z"
   },
   {
    "duration": 39,
    "start_time": "2022-03-17T00:59:42.050Z"
   },
   {
    "duration": 50,
    "start_time": "2022-03-17T00:59:55.282Z"
   },
   {
    "duration": 323,
    "start_time": "2022-03-17T01:00:23.402Z"
   },
   {
    "duration": 406,
    "start_time": "2022-03-17T01:00:50.601Z"
   },
   {
    "duration": 644,
    "start_time": "2022-03-17T01:01:01.630Z"
   },
   {
    "duration": 609,
    "start_time": "2022-03-17T01:01:34.761Z"
   },
   {
    "duration": 960,
    "start_time": "2022-03-17T01:03:36.522Z"
   },
   {
    "duration": 905,
    "start_time": "2022-03-17T01:04:05.389Z"
   },
   {
    "duration": 1029,
    "start_time": "2022-03-17T01:06:41.960Z"
   },
   {
    "duration": 111,
    "start_time": "2022-03-17T01:30:00.284Z"
   },
   {
    "duration": 119,
    "start_time": "2022-03-17T01:30:21.360Z"
   },
   {
    "duration": 1313,
    "start_time": "2022-03-17T11:15:08.922Z"
   },
   {
    "duration": 423,
    "start_time": "2022-03-17T11:15:10.237Z"
   },
   {
    "duration": 272,
    "start_time": "2022-03-17T11:15:10.662Z"
   },
   {
    "duration": 28,
    "start_time": "2022-03-17T11:15:10.936Z"
   },
   {
    "duration": 647,
    "start_time": "2022-03-17T11:15:10.966Z"
   },
   {
    "duration": 621,
    "start_time": "2022-03-17T11:15:11.614Z"
   },
   {
    "duration": 685,
    "start_time": "2022-03-17T11:15:12.237Z"
   },
   {
    "duration": 86,
    "start_time": "2022-03-17T11:15:12.924Z"
   },
   {
    "duration": 17,
    "start_time": "2022-03-17T11:15:13.012Z"
   },
   {
    "duration": 902,
    "start_time": "2022-03-17T11:15:13.030Z"
   },
   {
    "duration": 123,
    "start_time": "2022-03-17T11:15:13.935Z"
   },
   {
    "duration": 201,
    "start_time": "2022-03-17T11:15:14.060Z"
   },
   {
    "duration": -1367,
    "start_time": "2022-03-17T11:15:15.631Z"
   },
   {
    "duration": -1371,
    "start_time": "2022-03-17T11:15:15.636Z"
   },
   {
    "duration": -1377,
    "start_time": "2022-03-17T11:15:15.643Z"
   },
   {
    "duration": -1382,
    "start_time": "2022-03-17T11:15:15.649Z"
   },
   {
    "duration": -1386,
    "start_time": "2022-03-17T11:15:15.654Z"
   },
   {
    "duration": -1389,
    "start_time": "2022-03-17T11:15:15.659Z"
   },
   {
    "duration": -1395,
    "start_time": "2022-03-17T11:15:15.665Z"
   },
   {
    "duration": -1400,
    "start_time": "2022-03-17T11:15:15.671Z"
   },
   {
    "duration": -1404,
    "start_time": "2022-03-17T11:15:15.677Z"
   },
   {
    "duration": -1422,
    "start_time": "2022-03-17T11:15:15.695Z"
   },
   {
    "duration": -1427,
    "start_time": "2022-03-17T11:15:15.701Z"
   },
   {
    "duration": -1431,
    "start_time": "2022-03-17T11:15:15.706Z"
   },
   {
    "duration": -1435,
    "start_time": "2022-03-17T11:15:15.712Z"
   },
   {
    "duration": -1441,
    "start_time": "2022-03-17T11:15:15.718Z"
   },
   {
    "duration": -1445,
    "start_time": "2022-03-17T11:15:15.723Z"
   },
   {
    "duration": -1449,
    "start_time": "2022-03-17T11:15:15.729Z"
   },
   {
    "duration": -1455,
    "start_time": "2022-03-17T11:15:15.735Z"
   },
   {
    "duration": -1459,
    "start_time": "2022-03-17T11:15:15.740Z"
   },
   {
    "duration": -1464,
    "start_time": "2022-03-17T11:15:15.746Z"
   },
   {
    "duration": -1469,
    "start_time": "2022-03-17T11:15:15.751Z"
   },
   {
    "duration": -1473,
    "start_time": "2022-03-17T11:15:15.756Z"
   },
   {
    "duration": -1477,
    "start_time": "2022-03-17T11:15:15.761Z"
   },
   {
    "duration": -1482,
    "start_time": "2022-03-17T11:15:15.767Z"
   },
   {
    "duration": -1486,
    "start_time": "2022-03-17T11:15:15.772Z"
   },
   {
    "duration": -1491,
    "start_time": "2022-03-17T11:15:15.778Z"
   },
   {
    "duration": -1496,
    "start_time": "2022-03-17T11:15:15.783Z"
   },
   {
    "duration": -1501,
    "start_time": "2022-03-17T11:15:15.789Z"
   },
   {
    "duration": -1517,
    "start_time": "2022-03-17T11:15:15.806Z"
   },
   {
    "duration": -1522,
    "start_time": "2022-03-17T11:15:15.812Z"
   },
   {
    "duration": -1526,
    "start_time": "2022-03-17T11:15:15.817Z"
   },
   {
    "duration": -1530,
    "start_time": "2022-03-17T11:15:15.822Z"
   },
   {
    "duration": -1536,
    "start_time": "2022-03-17T11:15:15.828Z"
   },
   {
    "duration": -1540,
    "start_time": "2022-03-17T11:15:15.833Z"
   },
   {
    "duration": -1543,
    "start_time": "2022-03-17T11:15:15.837Z"
   },
   {
    "duration": -1548,
    "start_time": "2022-03-17T11:15:15.843Z"
   },
   {
    "duration": -1552,
    "start_time": "2022-03-17T11:15:15.848Z"
   },
   {
    "duration": -1556,
    "start_time": "2022-03-17T11:15:15.853Z"
   },
   {
    "duration": -1561,
    "start_time": "2022-03-17T11:15:15.859Z"
   },
   {
    "duration": -1565,
    "start_time": "2022-03-17T11:15:15.864Z"
   },
   {
    "duration": -1561,
    "start_time": "2022-03-17T11:15:15.869Z"
   },
   {
    "duration": -1564,
    "start_time": "2022-03-17T11:15:15.874Z"
   },
   {
    "duration": -1568,
    "start_time": "2022-03-17T11:15:15.879Z"
   },
   {
    "duration": -1572,
    "start_time": "2022-03-17T11:15:15.884Z"
   },
   {
    "duration": -1587,
    "start_time": "2022-03-17T11:15:15.900Z"
   },
   {
    "duration": 1219,
    "start_time": "2022-03-17T11:16:25.998Z"
   },
   {
    "duration": 378,
    "start_time": "2022-03-17T11:16:27.219Z"
   },
   {
    "duration": 274,
    "start_time": "2022-03-17T11:16:27.600Z"
   },
   {
    "duration": 56,
    "start_time": "2022-03-17T11:16:27.877Z"
   },
   {
    "duration": 632,
    "start_time": "2022-03-17T11:16:27.935Z"
   },
   {
    "duration": 624,
    "start_time": "2022-03-17T11:16:28.570Z"
   },
   {
    "duration": 681,
    "start_time": "2022-03-17T11:16:29.196Z"
   },
   {
    "duration": 83,
    "start_time": "2022-03-17T11:16:29.880Z"
   },
   {
    "duration": 18,
    "start_time": "2022-03-17T11:16:29.965Z"
   },
   {
    "duration": 974,
    "start_time": "2022-03-17T11:16:29.985Z"
   },
   {
    "duration": 121,
    "start_time": "2022-03-17T11:16:30.961Z"
   },
   {
    "duration": 2,
    "start_time": "2022-03-17T11:16:31.084Z"
   },
   {
    "duration": 217,
    "start_time": "2022-03-17T11:16:31.088Z"
   },
   {
    "duration": -1422,
    "start_time": "2022-03-17T11:16:32.731Z"
   },
   {
    "duration": -1426,
    "start_time": "2022-03-17T11:16:32.736Z"
   },
   {
    "duration": -1430,
    "start_time": "2022-03-17T11:16:32.741Z"
   },
   {
    "duration": -1436,
    "start_time": "2022-03-17T11:16:32.748Z"
   },
   {
    "duration": -1439,
    "start_time": "2022-03-17T11:16:32.753Z"
   },
   {
    "duration": -1458,
    "start_time": "2022-03-17T11:16:32.773Z"
   },
   {
    "duration": -1463,
    "start_time": "2022-03-17T11:16:32.779Z"
   },
   {
    "duration": -1467,
    "start_time": "2022-03-17T11:16:32.784Z"
   },
   {
    "duration": -1472,
    "start_time": "2022-03-17T11:16:32.790Z"
   },
   {
    "duration": -1476,
    "start_time": "2022-03-17T11:16:32.796Z"
   },
   {
    "duration": -1481,
    "start_time": "2022-03-17T11:16:32.802Z"
   },
   {
    "duration": -1486,
    "start_time": "2022-03-17T11:16:32.809Z"
   },
   {
    "duration": -1489,
    "start_time": "2022-03-17T11:16:32.814Z"
   },
   {
    "duration": -1495,
    "start_time": "2022-03-17T11:16:32.821Z"
   },
   {
    "duration": -1499,
    "start_time": "2022-03-17T11:16:32.827Z"
   },
   {
    "duration": -1503,
    "start_time": "2022-03-17T11:16:32.833Z"
   },
   {
    "duration": -1507,
    "start_time": "2022-03-17T11:16:32.838Z"
   },
   {
    "duration": -1511,
    "start_time": "2022-03-17T11:16:32.844Z"
   },
   {
    "duration": -1515,
    "start_time": "2022-03-17T11:16:32.849Z"
   },
   {
    "duration": -1519,
    "start_time": "2022-03-17T11:16:32.855Z"
   },
   {
    "duration": -1522,
    "start_time": "2022-03-17T11:16:32.860Z"
   },
   {
    "duration": -1528,
    "start_time": "2022-03-17T11:16:32.867Z"
   },
   {
    "duration": -1545,
    "start_time": "2022-03-17T11:16:32.886Z"
   },
   {
    "duration": -1549,
    "start_time": "2022-03-17T11:16:32.891Z"
   },
   {
    "duration": -1554,
    "start_time": "2022-03-17T11:16:32.898Z"
   },
   {
    "duration": -1588,
    "start_time": "2022-03-17T11:16:32.933Z"
   },
   {
    "duration": -1635,
    "start_time": "2022-03-17T11:16:32.982Z"
   },
   {
    "duration": -1671,
    "start_time": "2022-03-17T11:16:33.020Z"
   },
   {
    "duration": -1706,
    "start_time": "2022-03-17T11:16:33.056Z"
   },
   {
    "duration": -1729,
    "start_time": "2022-03-17T11:16:33.081Z"
   },
   {
    "duration": -1733,
    "start_time": "2022-03-17T11:16:33.086Z"
   },
   {
    "duration": -1685,
    "start_time": "2022-03-17T11:16:33.094Z"
   },
   {
    "duration": -1691,
    "start_time": "2022-03-17T11:16:33.102Z"
   },
   {
    "duration": -1694,
    "start_time": "2022-03-17T11:16:33.107Z"
   },
   {
    "duration": -1698,
    "start_time": "2022-03-17T11:16:33.113Z"
   },
   {
    "duration": -1703,
    "start_time": "2022-03-17T11:16:33.120Z"
   },
   {
    "duration": -1706,
    "start_time": "2022-03-17T11:16:33.125Z"
   },
   {
    "duration": -1711,
    "start_time": "2022-03-17T11:16:33.131Z"
   },
   {
    "duration": -1715,
    "start_time": "2022-03-17T11:16:33.137Z"
   },
   {
    "duration": -1718,
    "start_time": "2022-03-17T11:16:33.142Z"
   },
   {
    "duration": -1723,
    "start_time": "2022-03-17T11:16:33.148Z"
   },
   {
    "duration": -1727,
    "start_time": "2022-03-17T11:16:33.154Z"
   },
   {
    "duration": -1730,
    "start_time": "2022-03-17T11:16:33.159Z"
   },
   {
    "duration": 1138,
    "start_time": "2022-03-17T11:17:28.250Z"
   },
   {
    "duration": 369,
    "start_time": "2022-03-17T11:17:29.390Z"
   },
   {
    "duration": 249,
    "start_time": "2022-03-17T11:17:29.761Z"
   },
   {
    "duration": 27,
    "start_time": "2022-03-17T11:17:30.012Z"
   },
   {
    "duration": 633,
    "start_time": "2022-03-17T11:17:30.041Z"
   },
   {
    "duration": 622,
    "start_time": "2022-03-17T11:17:30.675Z"
   },
   {
    "duration": 674,
    "start_time": "2022-03-17T11:17:31.299Z"
   },
   {
    "duration": 77,
    "start_time": "2022-03-17T11:17:31.975Z"
   },
   {
    "duration": 18,
    "start_time": "2022-03-17T11:17:32.054Z"
   },
   {
    "duration": 961,
    "start_time": "2022-03-17T11:17:32.074Z"
   },
   {
    "duration": 118,
    "start_time": "2022-03-17T11:17:33.036Z"
   },
   {
    "duration": 5,
    "start_time": "2022-03-17T11:17:33.155Z"
   },
   {
    "duration": -1425,
    "start_time": "2022-03-17T11:17:34.588Z"
   },
   {
    "duration": -1429,
    "start_time": "2022-03-17T11:17:34.593Z"
   },
   {
    "duration": -1434,
    "start_time": "2022-03-17T11:17:34.599Z"
   },
   {
    "duration": -1437,
    "start_time": "2022-03-17T11:17:34.604Z"
   },
   {
    "duration": -1443,
    "start_time": "2022-03-17T11:17:34.611Z"
   },
   {
    "duration": -1447,
    "start_time": "2022-03-17T11:17:34.616Z"
   },
   {
    "duration": -1452,
    "start_time": "2022-03-17T11:17:34.622Z"
   },
   {
    "duration": -1457,
    "start_time": "2022-03-17T11:17:34.628Z"
   },
   {
    "duration": -1462,
    "start_time": "2022-03-17T11:17:34.635Z"
   },
   {
    "duration": -1467,
    "start_time": "2022-03-17T11:17:34.641Z"
   },
   {
    "duration": -1473,
    "start_time": "2022-03-17T11:17:34.648Z"
   },
   {
    "duration": -1582,
    "start_time": "2022-03-17T11:17:34.758Z"
   },
   {
    "duration": -1555,
    "start_time": "2022-03-17T11:17:34.764Z"
   },
   {
    "duration": -1572,
    "start_time": "2022-03-17T11:17:34.782Z"
   },
   {
    "duration": -1605,
    "start_time": "2022-03-17T11:17:34.816Z"
   },
   {
    "duration": -1643,
    "start_time": "2022-03-17T11:17:34.855Z"
   },
   {
    "duration": -1675,
    "start_time": "2022-03-17T11:17:34.888Z"
   },
   {
    "duration": -1719,
    "start_time": "2022-03-17T11:17:34.933Z"
   },
   {
    "duration": -1747,
    "start_time": "2022-03-17T11:17:34.962Z"
   },
   {
    "duration": -1785,
    "start_time": "2022-03-17T11:17:35.001Z"
   },
   {
    "duration": -1790,
    "start_time": "2022-03-17T11:17:35.007Z"
   },
   {
    "duration": -1798,
    "start_time": "2022-03-17T11:17:35.016Z"
   },
   {
    "duration": -1803,
    "start_time": "2022-03-17T11:17:35.022Z"
   },
   {
    "duration": -1808,
    "start_time": "2022-03-17T11:17:35.028Z"
   },
   {
    "duration": -1814,
    "start_time": "2022-03-17T11:17:35.035Z"
   },
   {
    "duration": -1818,
    "start_time": "2022-03-17T11:17:35.041Z"
   },
   {
    "duration": -1823,
    "start_time": "2022-03-17T11:17:35.047Z"
   },
   {
    "duration": -1830,
    "start_time": "2022-03-17T11:17:35.055Z"
   },
   {
    "duration": -1834,
    "start_time": "2022-03-17T11:17:35.060Z"
   },
   {
    "duration": -1840,
    "start_time": "2022-03-17T11:17:35.067Z"
   },
   {
    "duration": -1943,
    "start_time": "2022-03-17T11:17:35.171Z"
   },
   {
    "duration": -2005,
    "start_time": "2022-03-17T11:17:35.233Z"
   },
   {
    "duration": -2011,
    "start_time": "2022-03-17T11:17:35.240Z"
   },
   {
    "duration": -2018,
    "start_time": "2022-03-17T11:17:35.248Z"
   },
   {
    "duration": -2022,
    "start_time": "2022-03-17T11:17:35.254Z"
   },
   {
    "duration": -2026,
    "start_time": "2022-03-17T11:17:35.260Z"
   },
   {
    "duration": -2031,
    "start_time": "2022-03-17T11:17:35.266Z"
   },
   {
    "duration": -2036,
    "start_time": "2022-03-17T11:17:35.272Z"
   },
   {
    "duration": -2041,
    "start_time": "2022-03-17T11:17:35.278Z"
   },
   {
    "duration": -2046,
    "start_time": "2022-03-17T11:17:35.284Z"
   },
   {
    "duration": -2051,
    "start_time": "2022-03-17T11:17:35.290Z"
   },
   {
    "duration": -2056,
    "start_time": "2022-03-17T11:17:35.296Z"
   },
   {
    "duration": -2061,
    "start_time": "2022-03-17T11:17:35.302Z"
   },
   {
    "duration": -2067,
    "start_time": "2022-03-17T11:17:35.309Z"
   },
   {
    "duration": 4,
    "start_time": "2022-03-17T11:29:05.565Z"
   },
   {
    "duration": 217,
    "start_time": "2022-03-17T11:29:10.272Z"
   },
   {
    "duration": 3,
    "start_time": "2022-03-17T11:29:58.159Z"
   },
   {
    "duration": 118,
    "start_time": "2022-03-17T11:29:58.764Z"
   },
   {
    "duration": 5,
    "start_time": "2022-03-17T11:31:33.868Z"
   },
   {
    "duration": 127,
    "start_time": "2022-03-17T11:31:34.758Z"
   },
   {
    "duration": 9,
    "start_time": "2022-03-17T11:32:03.213Z"
   },
   {
    "duration": 10,
    "start_time": "2022-03-17T11:32:19.485Z"
   },
   {
    "duration": 141,
    "start_time": "2022-03-17T11:32:55.518Z"
   },
   {
    "duration": 5,
    "start_time": "2022-03-17T11:32:58.725Z"
   },
   {
    "duration": 128,
    "start_time": "2022-03-17T11:33:00.765Z"
   },
   {
    "duration": 4,
    "start_time": "2022-03-17T11:33:34.204Z"
   },
   {
    "duration": 5,
    "start_time": "2022-03-17T11:33:35.481Z"
   },
   {
    "duration": 12,
    "start_time": "2022-03-17T11:33:39.998Z"
   },
   {
    "duration": 4,
    "start_time": "2022-03-17T11:40:35.960Z"
   },
   {
    "duration": 69,
    "start_time": "2022-03-17T11:40:41.440Z"
   },
   {
    "duration": 4,
    "start_time": "2022-03-17T11:45:12.072Z"
   },
   {
    "duration": 12,
    "start_time": "2022-03-17T11:45:12.719Z"
   },
   {
    "duration": 4,
    "start_time": "2022-03-17T11:46:01.945Z"
   },
   {
    "duration": 10,
    "start_time": "2022-03-17T11:46:03.089Z"
   },
   {
    "duration": 43,
    "start_time": "2022-03-17T11:46:06.966Z"
   },
   {
    "duration": 4,
    "start_time": "2022-03-17T11:46:17.801Z"
   },
   {
    "duration": 11,
    "start_time": "2022-03-17T11:46:18.406Z"
   },
   {
    "duration": 136,
    "start_time": "2022-03-17T11:50:59.321Z"
   },
   {
    "duration": 188,
    "start_time": "2022-03-17T11:52:07.079Z"
   },
   {
    "duration": 4,
    "start_time": "2022-03-17T11:52:26.569Z"
   },
   {
    "duration": 115,
    "start_time": "2022-03-17T11:52:36.999Z"
   },
   {
    "duration": 5,
    "start_time": "2022-03-17T11:58:28.159Z"
   },
   {
    "duration": 129,
    "start_time": "2022-03-17T11:58:29.360Z"
   },
   {
    "duration": 106,
    "start_time": "2022-03-17T12:00:51.288Z"
   },
   {
    "duration": 113,
    "start_time": "2022-03-17T12:00:52.449Z"
   },
   {
    "duration": 1417,
    "start_time": "2022-03-17T12:01:43.999Z"
   },
   {
    "duration": 399,
    "start_time": "2022-03-17T12:01:45.418Z"
   },
   {
    "duration": 293,
    "start_time": "2022-03-17T12:01:45.820Z"
   },
   {
    "duration": 28,
    "start_time": "2022-03-17T12:01:46.115Z"
   },
   {
    "duration": 649,
    "start_time": "2022-03-17T12:01:46.145Z"
   },
   {
    "duration": 632,
    "start_time": "2022-03-17T12:01:46.796Z"
   },
   {
    "duration": 678,
    "start_time": "2022-03-17T12:01:47.430Z"
   },
   {
    "duration": 71,
    "start_time": "2022-03-17T12:01:48.112Z"
   },
   {
    "duration": 35,
    "start_time": "2022-03-17T12:01:48.186Z"
   },
   {
    "duration": 930,
    "start_time": "2022-03-17T12:01:48.223Z"
   },
   {
    "duration": 129,
    "start_time": "2022-03-17T12:01:49.155Z"
   },
   {
    "duration": 242,
    "start_time": "2022-03-17T12:01:49.286Z"
   },
   {
    "duration": -1298,
    "start_time": "2022-03-17T12:01:50.829Z"
   },
   {
    "duration": -1350,
    "start_time": "2022-03-17T12:01:50.882Z"
   },
   {
    "duration": -1382,
    "start_time": "2022-03-17T12:01:50.915Z"
   },
   {
    "duration": -1427,
    "start_time": "2022-03-17T12:01:50.961Z"
   },
   {
    "duration": -1449,
    "start_time": "2022-03-17T12:01:50.985Z"
   },
   {
    "duration": -1455,
    "start_time": "2022-03-17T12:01:50.992Z"
   },
   {
    "duration": -1466,
    "start_time": "2022-03-17T12:01:51.004Z"
   },
   {
    "duration": -1470,
    "start_time": "2022-03-17T12:01:51.009Z"
   },
   {
    "duration": -1476,
    "start_time": "2022-03-17T12:01:51.016Z"
   },
   {
    "duration": -1479,
    "start_time": "2022-03-17T12:01:51.021Z"
   },
   {
    "duration": -1482,
    "start_time": "2022-03-17T12:01:51.025Z"
   },
   {
    "duration": -1488,
    "start_time": "2022-03-17T12:01:51.032Z"
   },
   {
    "duration": -1491,
    "start_time": "2022-03-17T12:01:51.037Z"
   },
   {
    "duration": -1495,
    "start_time": "2022-03-17T12:01:51.042Z"
   },
   {
    "duration": -1500,
    "start_time": "2022-03-17T12:01:51.047Z"
   },
   {
    "duration": -1504,
    "start_time": "2022-03-17T12:01:51.052Z"
   },
   {
    "duration": -1508,
    "start_time": "2022-03-17T12:01:51.057Z"
   },
   {
    "duration": -1513,
    "start_time": "2022-03-17T12:01:51.063Z"
   },
   {
    "duration": -1518,
    "start_time": "2022-03-17T12:01:51.069Z"
   },
   {
    "duration": -1522,
    "start_time": "2022-03-17T12:01:51.074Z"
   },
   {
    "duration": -1527,
    "start_time": "2022-03-17T12:01:51.079Z"
   },
   {
    "duration": -1549,
    "start_time": "2022-03-17T12:01:51.102Z"
   },
   {
    "duration": -1553,
    "start_time": "2022-03-17T12:01:51.107Z"
   },
   {
    "duration": -1559,
    "start_time": "2022-03-17T12:01:51.114Z"
   },
   {
    "duration": -1563,
    "start_time": "2022-03-17T12:01:51.119Z"
   },
   {
    "duration": -1568,
    "start_time": "2022-03-17T12:01:51.125Z"
   },
   {
    "duration": -1572,
    "start_time": "2022-03-17T12:01:51.130Z"
   },
   {
    "duration": -1576,
    "start_time": "2022-03-17T12:01:51.135Z"
   },
   {
    "duration": -1581,
    "start_time": "2022-03-17T12:01:51.140Z"
   },
   {
    "duration": -1585,
    "start_time": "2022-03-17T12:01:51.145Z"
   },
   {
    "duration": -1589,
    "start_time": "2022-03-17T12:01:51.150Z"
   },
   {
    "duration": 112,
    "start_time": "2022-03-17T12:02:17.882Z"
   },
   {
    "duration": 6,
    "start_time": "2022-03-17T12:03:17.241Z"
   },
   {
    "duration": 123,
    "start_time": "2022-03-17T12:03:18.732Z"
   },
   {
    "duration": 16,
    "start_time": "2022-03-17T12:06:48.119Z"
   },
   {
    "duration": 9,
    "start_time": "2022-03-17T12:07:03.638Z"
   },
   {
    "duration": 9,
    "start_time": "2022-03-17T12:07:23.966Z"
   },
   {
    "duration": 5,
    "start_time": "2022-03-17T12:07:35.762Z"
   },
   {
    "duration": 5,
    "start_time": "2022-03-17T12:07:54.399Z"
   },
   {
    "duration": 11,
    "start_time": "2022-03-17T12:09:16.201Z"
   },
   {
    "duration": 114,
    "start_time": "2022-03-17T12:09:23.810Z"
   },
   {
    "duration": 5,
    "start_time": "2022-03-17T12:10:21.889Z"
   },
   {
    "duration": 9,
    "start_time": "2022-03-17T12:10:33.049Z"
   },
   {
    "duration": 1096,
    "start_time": "2022-03-17T12:10:52.132Z"
   },
   {
    "duration": 395,
    "start_time": "2022-03-17T12:10:56.751Z"
   },
   {
    "duration": 262,
    "start_time": "2022-03-17T12:10:57.148Z"
   },
   {
    "duration": 28,
    "start_time": "2022-03-17T12:10:57.413Z"
   },
   {
    "duration": 627,
    "start_time": "2022-03-17T12:10:57.443Z"
   },
   {
    "duration": 612,
    "start_time": "2022-03-17T12:10:58.071Z"
   },
   {
    "duration": 659,
    "start_time": "2022-03-17T12:10:58.684Z"
   },
   {
    "duration": 86,
    "start_time": "2022-03-17T12:10:59.345Z"
   },
   {
    "duration": 16,
    "start_time": "2022-03-17T12:10:59.433Z"
   },
   {
    "duration": 977,
    "start_time": "2022-03-17T12:10:59.451Z"
   },
   {
    "duration": 126,
    "start_time": "2022-03-17T12:11:00.429Z"
   },
   {
    "duration": 4,
    "start_time": "2022-03-17T12:11:00.557Z"
   },
   {
    "duration": 225,
    "start_time": "2022-03-17T12:11:00.563Z"
   },
   {
    "duration": -1308,
    "start_time": "2022-03-17T12:11:02.099Z"
   },
   {
    "duration": -1313,
    "start_time": "2022-03-17T12:11:02.105Z"
   },
   {
    "duration": -1320,
    "start_time": "2022-03-17T12:11:02.113Z"
   },
   {
    "duration": -1327,
    "start_time": "2022-03-17T12:11:02.121Z"
   },
   {
    "duration": -1343,
    "start_time": "2022-03-17T12:11:02.138Z"
   },
   {
    "duration": -1351,
    "start_time": "2022-03-17T12:11:02.147Z"
   },
   {
    "duration": -1357,
    "start_time": "2022-03-17T12:11:02.154Z"
   },
   {
    "duration": -1417,
    "start_time": "2022-03-17T12:11:02.215Z"
   },
   {
    "duration": -1422,
    "start_time": "2022-03-17T12:11:02.222Z"
   },
   {
    "duration": -1429,
    "start_time": "2022-03-17T12:11:02.230Z"
   },
   {
    "duration": -1434,
    "start_time": "2022-03-17T12:11:02.236Z"
   },
   {
    "duration": -1439,
    "start_time": "2022-03-17T12:11:02.242Z"
   },
   {
    "duration": -1582,
    "start_time": "2022-03-17T12:11:02.386Z"
   },
   {
    "duration": -1591,
    "start_time": "2022-03-17T12:11:02.396Z"
   },
   {
    "duration": -1598,
    "start_time": "2022-03-17T12:11:02.404Z"
   },
   {
    "duration": -1607,
    "start_time": "2022-03-17T12:11:02.414Z"
   },
   {
    "duration": -1615,
    "start_time": "2022-03-17T12:11:02.423Z"
   },
   {
    "duration": -1625,
    "start_time": "2022-03-17T12:11:02.434Z"
   },
   {
    "duration": -1636,
    "start_time": "2022-03-17T12:11:02.446Z"
   },
   {
    "duration": -1672,
    "start_time": "2022-03-17T12:11:02.483Z"
   },
   {
    "duration": -1678,
    "start_time": "2022-03-17T12:11:02.490Z"
   },
   {
    "duration": -1687,
    "start_time": "2022-03-17T12:11:02.500Z"
   },
   {
    "duration": -1692,
    "start_time": "2022-03-17T12:11:02.506Z"
   },
   {
    "duration": -1697,
    "start_time": "2022-03-17T12:11:02.512Z"
   },
   {
    "duration": -1704,
    "start_time": "2022-03-17T12:11:02.520Z"
   },
   {
    "duration": -1709,
    "start_time": "2022-03-17T12:11:02.526Z"
   },
   {
    "duration": -1717,
    "start_time": "2022-03-17T12:11:02.535Z"
   },
   {
    "duration": -1722,
    "start_time": "2022-03-17T12:11:02.541Z"
   },
   {
    "duration": -1725,
    "start_time": "2022-03-17T12:11:02.546Z"
   },
   {
    "duration": -1730,
    "start_time": "2022-03-17T12:11:02.552Z"
   },
   {
    "duration": 110,
    "start_time": "2022-03-17T12:12:29.788Z"
   },
   {
    "duration": 109,
    "start_time": "2022-03-17T12:12:33.537Z"
   },
   {
    "duration": 4,
    "start_time": "2022-03-17T12:12:43.314Z"
   },
   {
    "duration": 4,
    "start_time": "2022-03-17T12:13:03.591Z"
   },
   {
    "duration": 156,
    "start_time": "2022-03-17T12:13:13.771Z"
   },
   {
    "duration": 4,
    "start_time": "2022-03-17T12:14:57.455Z"
   },
   {
    "duration": 6,
    "start_time": "2022-03-17T12:15:54.208Z"
   },
   {
    "duration": 17,
    "start_time": "2022-03-17T12:15:54.902Z"
   },
   {
    "duration": 109,
    "start_time": "2022-03-17T12:15:55.650Z"
   },
   {
    "duration": 16,
    "start_time": "2022-03-17T12:16:21.572Z"
   },
   {
    "duration": 385,
    "start_time": "2022-03-17T12:16:22.090Z"
   },
   {
    "duration": 11,
    "start_time": "2022-03-17T12:16:22.543Z"
   },
   {
    "duration": 4,
    "start_time": "2022-03-17T12:17:14.989Z"
   },
   {
    "duration": 1178,
    "start_time": "2022-03-17T14:49:24.521Z"
   },
   {
    "duration": 372,
    "start_time": "2022-03-17T14:49:25.702Z"
   },
   {
    "duration": 252,
    "start_time": "2022-03-17T14:49:26.076Z"
   },
   {
    "duration": 28,
    "start_time": "2022-03-17T14:49:26.330Z"
   },
   {
    "duration": 666,
    "start_time": "2022-03-17T14:49:26.360Z"
   },
   {
    "duration": 640,
    "start_time": "2022-03-17T14:49:27.028Z"
   },
   {
    "duration": 721,
    "start_time": "2022-03-17T14:49:27.670Z"
   },
   {
    "duration": 85,
    "start_time": "2022-03-17T14:49:28.394Z"
   },
   {
    "duration": 33,
    "start_time": "2022-03-17T14:49:28.481Z"
   },
   {
    "duration": 921,
    "start_time": "2022-03-17T14:49:28.516Z"
   },
   {
    "duration": 117,
    "start_time": "2022-03-17T14:49:29.439Z"
   },
   {
    "duration": 4,
    "start_time": "2022-03-17T14:49:29.558Z"
   },
   {
    "duration": 15,
    "start_time": "2022-03-17T14:49:29.564Z"
   },
   {
    "duration": 27,
    "start_time": "2022-03-17T14:49:29.581Z"
   },
   {
    "duration": 5,
    "start_time": "2022-03-17T14:49:29.610Z"
   },
   {
    "duration": 22,
    "start_time": "2022-03-17T14:49:29.617Z"
   },
   {
    "duration": 3,
    "start_time": "2022-03-17T14:49:29.641Z"
   },
   {
    "duration": 164,
    "start_time": "2022-03-17T14:49:29.645Z"
   },
   {
    "duration": 242,
    "start_time": "2022-03-17T14:49:29.811Z"
   },
   {
    "duration": -50,
    "start_time": "2022-03-17T14:49:30.106Z"
   },
   {
    "duration": -54,
    "start_time": "2022-03-17T14:49:30.111Z"
   },
   {
    "duration": -60,
    "start_time": "2022-03-17T14:49:30.118Z"
   },
   {
    "duration": -64,
    "start_time": "2022-03-17T14:49:30.124Z"
   },
   {
    "duration": -67,
    "start_time": "2022-03-17T14:49:30.129Z"
   },
   {
    "duration": -70,
    "start_time": "2022-03-17T14:49:30.134Z"
   },
   {
    "duration": -76,
    "start_time": "2022-03-17T14:49:30.141Z"
   },
   {
    "duration": -110,
    "start_time": "2022-03-17T14:49:30.177Z"
   },
   {
    "duration": -114,
    "start_time": "2022-03-17T14:49:30.182Z"
   },
   {
    "duration": -205,
    "start_time": "2022-03-17T14:49:30.275Z"
   },
   {
    "duration": -269,
    "start_time": "2022-03-17T14:49:30.340Z"
   },
   {
    "duration": -272,
    "start_time": "2022-03-17T14:49:30.345Z"
   },
   {
    "duration": -276,
    "start_time": "2022-03-17T14:49:30.351Z"
   },
   {
    "duration": -282,
    "start_time": "2022-03-17T14:49:30.358Z"
   },
   {
    "duration": -296,
    "start_time": "2022-03-17T14:49:30.374Z"
   },
   {
    "duration": -300,
    "start_time": "2022-03-17T14:49:30.379Z"
   },
   {
    "duration": -304,
    "start_time": "2022-03-17T14:49:30.385Z"
   },
   {
    "duration": -320,
    "start_time": "2022-03-17T14:49:30.403Z"
   },
   {
    "duration": -339,
    "start_time": "2022-03-17T14:49:30.423Z"
   },
   {
    "duration": -372,
    "start_time": "2022-03-17T14:49:30.457Z"
   },
   {
    "duration": -404,
    "start_time": "2022-03-17T14:49:30.490Z"
   },
   {
    "duration": -441,
    "start_time": "2022-03-17T14:49:30.528Z"
   },
   {
    "duration": -447,
    "start_time": "2022-03-17T14:49:30.535Z"
   },
   {
    "duration": -452,
    "start_time": "2022-03-17T14:49:30.541Z"
   },
   {
    "duration": -456,
    "start_time": "2022-03-17T14:49:30.546Z"
   },
   {
    "duration": 5,
    "start_time": "2022-03-17T15:01:21.881Z"
   },
   {
    "duration": 29,
    "start_time": "2022-03-17T15:01:31.879Z"
   },
   {
    "duration": 5,
    "start_time": "2022-03-17T15:01:52.891Z"
   },
   {
    "duration": 184,
    "start_time": "2022-03-17T15:01:53.525Z"
   },
   {
    "duration": 5,
    "start_time": "2022-03-17T15:03:35.008Z"
   },
   {
    "duration": 200,
    "start_time": "2022-03-17T15:03:35.810Z"
   },
   {
    "duration": 5,
    "start_time": "2022-03-17T15:04:41.617Z"
   },
   {
    "duration": 25,
    "start_time": "2022-03-17T15:04:45.492Z"
   },
   {
    "duration": 25,
    "start_time": "2022-03-17T15:08:14.683Z"
   },
   {
    "duration": 33,
    "start_time": "2022-03-17T15:08:50.401Z"
   },
   {
    "duration": 35,
    "start_time": "2022-03-17T15:14:09.781Z"
   },
   {
    "duration": 28,
    "start_time": "2022-03-17T15:14:45.269Z"
   },
   {
    "duration": 25,
    "start_time": "2022-03-17T15:16:18.614Z"
   },
   {
    "duration": 169,
    "start_time": "2022-03-17T15:16:23.842Z"
   },
   {
    "duration": 214,
    "start_time": "2022-03-17T19:47:30.865Z"
   },
   {
    "duration": 71,
    "start_time": "2022-03-17T19:47:50.996Z"
   },
   {
    "duration": 27,
    "start_time": "2022-03-17T19:47:54.501Z"
   },
   {
    "duration": 233,
    "start_time": "2022-03-17T19:48:25.961Z"
   },
   {
    "duration": 49,
    "start_time": "2022-03-17T19:49:24.960Z"
   },
   {
    "duration": 2147,
    "start_time": "2022-03-17T20:09:13.982Z"
   },
   {
    "duration": 412,
    "start_time": "2022-03-17T20:09:16.131Z"
   },
   {
    "duration": 264,
    "start_time": "2022-03-17T20:09:16.546Z"
   },
   {
    "duration": 27,
    "start_time": "2022-03-17T20:09:16.812Z"
   },
   {
    "duration": 635,
    "start_time": "2022-03-17T20:09:16.841Z"
   },
   {
    "duration": 615,
    "start_time": "2022-03-17T20:09:17.478Z"
   },
   {
    "duration": 687,
    "start_time": "2022-03-17T20:09:18.094Z"
   },
   {
    "duration": 82,
    "start_time": "2022-03-17T20:09:18.783Z"
   },
   {
    "duration": 17,
    "start_time": "2022-03-17T20:09:18.867Z"
   },
   {
    "duration": 964,
    "start_time": "2022-03-17T20:09:18.885Z"
   },
   {
    "duration": 119,
    "start_time": "2022-03-17T20:09:19.850Z"
   },
   {
    "duration": 5,
    "start_time": "2022-03-17T20:09:19.971Z"
   },
   {
    "duration": 47,
    "start_time": "2022-03-17T20:09:19.977Z"
   },
   {
    "duration": 350,
    "start_time": "2022-03-17T20:09:20.026Z"
   },
   {
    "duration": 89,
    "start_time": "2022-03-17T20:09:20.290Z"
   },
   {
    "duration": 85,
    "start_time": "2022-03-17T20:09:20.295Z"
   },
   {
    "duration": 81,
    "start_time": "2022-03-17T20:09:20.301Z"
   },
   {
    "duration": 78,
    "start_time": "2022-03-17T20:09:20.305Z"
   },
   {
    "duration": 75,
    "start_time": "2022-03-17T20:09:20.310Z"
   },
   {
    "duration": 72,
    "start_time": "2022-03-17T20:09:20.315Z"
   },
   {
    "duration": 69,
    "start_time": "2022-03-17T20:09:20.319Z"
   },
   {
    "duration": 66,
    "start_time": "2022-03-17T20:09:20.324Z"
   },
   {
    "duration": 63,
    "start_time": "2022-03-17T20:09:20.328Z"
   },
   {
    "duration": 60,
    "start_time": "2022-03-17T20:09:20.333Z"
   },
   {
    "duration": 57,
    "start_time": "2022-03-17T20:09:20.337Z"
   },
   {
    "duration": 54,
    "start_time": "2022-03-17T20:09:20.341Z"
   },
   {
    "duration": 50,
    "start_time": "2022-03-17T20:09:20.346Z"
   },
   {
    "duration": 47,
    "start_time": "2022-03-17T20:09:20.350Z"
   },
   {
    "duration": 41,
    "start_time": "2022-03-17T20:09:20.357Z"
   },
   {
    "duration": 36,
    "start_time": "2022-03-17T20:09:20.363Z"
   },
   {
    "duration": 32,
    "start_time": "2022-03-17T20:09:20.368Z"
   },
   {
    "duration": 28,
    "start_time": "2022-03-17T20:09:20.374Z"
   },
   {
    "duration": 41,
    "start_time": "2022-03-17T20:12:05.761Z"
   },
   {
    "duration": 35,
    "start_time": "2022-03-17T20:13:32.156Z"
   },
   {
    "duration": 43,
    "start_time": "2022-03-17T20:13:49.350Z"
   },
   {
    "duration": 5,
    "start_time": "2022-03-17T20:14:32.150Z"
   },
   {
    "duration": 95,
    "start_time": "2022-03-17T20:14:33.515Z"
   },
   {
    "duration": 103,
    "start_time": "2022-03-17T20:14:36.268Z"
   },
   {
    "duration": 116,
    "start_time": "2022-03-17T20:16:06.664Z"
   },
   {
    "duration": 242,
    "start_time": "2022-03-17T20:16:23.104Z"
   },
   {
    "duration": 5,
    "start_time": "2022-03-17T20:17:29.597Z"
   },
   {
    "duration": 28,
    "start_time": "2022-03-17T20:17:32.797Z"
   },
   {
    "duration": 4,
    "start_time": "2022-03-17T20:18:09.280Z"
   },
   {
    "duration": 30,
    "start_time": "2022-03-17T20:18:09.953Z"
   },
   {
    "duration": 5,
    "start_time": "2022-03-17T20:18:50.081Z"
   },
   {
    "duration": 86,
    "start_time": "2022-03-17T20:18:50.928Z"
   },
   {
    "duration": 5,
    "start_time": "2022-03-17T20:19:31.272Z"
   },
   {
    "duration": 41,
    "start_time": "2022-03-17T20:19:31.868Z"
   },
   {
    "duration": 4,
    "start_time": "2022-03-17T20:21:53.210Z"
   },
   {
    "duration": 310,
    "start_time": "2022-03-17T20:21:54.130Z"
   },
   {
    "duration": 4,
    "start_time": "2022-03-17T20:22:05.720Z"
   },
   {
    "duration": 29,
    "start_time": "2022-03-17T20:22:06.354Z"
   },
   {
    "duration": 5,
    "start_time": "2022-03-17T20:27:30.841Z"
   },
   {
    "duration": 29,
    "start_time": "2022-03-17T20:27:33.386Z"
   },
   {
    "duration": 6,
    "start_time": "2022-03-17T20:28:35.057Z"
   },
   {
    "duration": 27,
    "start_time": "2022-03-17T20:28:35.908Z"
   },
   {
    "duration": 40,
    "start_time": "2022-03-17T20:46:17.313Z"
   },
   {
    "duration": 5,
    "start_time": "2022-03-17T20:46:41.281Z"
   },
   {
    "duration": 286,
    "start_time": "2022-03-17T20:46:42.659Z"
   },
   {
    "duration": 39,
    "start_time": "2022-03-17T20:47:14.639Z"
   },
   {
    "duration": 382,
    "start_time": "2022-03-17T20:47:15.578Z"
   },
   {
    "duration": 77,
    "start_time": "2022-03-17T20:47:28.180Z"
   },
   {
    "duration": 331,
    "start_time": "2022-03-17T20:47:29.105Z"
   },
   {
    "duration": 6,
    "start_time": "2022-03-17T20:47:41.898Z"
   },
   {
    "duration": 28,
    "start_time": "2022-03-17T20:47:43.497Z"
   },
   {
    "duration": 6,
    "start_time": "2022-03-17T20:48:24.236Z"
   },
   {
    "duration": 373,
    "start_time": "2022-03-17T20:48:25.177Z"
   },
   {
    "duration": 6,
    "start_time": "2022-03-17T20:48:35.071Z"
   },
   {
    "duration": 266,
    "start_time": "2022-03-17T20:48:35.738Z"
   },
   {
    "duration": 7,
    "start_time": "2022-03-17T20:48:43.060Z"
   },
   {
    "duration": 369,
    "start_time": "2022-03-17T20:48:43.553Z"
   },
   {
    "duration": 5,
    "start_time": "2022-03-17T20:48:50.737Z"
   },
   {
    "duration": 26,
    "start_time": "2022-03-17T20:48:51.388Z"
   },
   {
    "duration": 5,
    "start_time": "2022-03-17T20:49:06.860Z"
   },
   {
    "duration": 26,
    "start_time": "2022-03-17T20:49:07.337Z"
   },
   {
    "duration": 5,
    "start_time": "2022-03-17T20:49:11.785Z"
   },
   {
    "duration": 26,
    "start_time": "2022-03-17T20:49:12.385Z"
   },
   {
    "duration": 8,
    "start_time": "2022-03-17T20:49:21.836Z"
   },
   {
    "duration": 79,
    "start_time": "2022-03-17T20:49:22.629Z"
   },
   {
    "duration": 5,
    "start_time": "2022-03-17T20:49:59.721Z"
   },
   {
    "duration": 31,
    "start_time": "2022-03-17T20:50:00.175Z"
   },
   {
    "duration": 6,
    "start_time": "2022-03-17T20:51:04.307Z"
   },
   {
    "duration": 24,
    "start_time": "2022-03-17T20:51:04.664Z"
   },
   {
    "duration": 6,
    "start_time": "2022-03-17T20:52:10.537Z"
   },
   {
    "duration": 26,
    "start_time": "2022-03-17T20:52:11.141Z"
   },
   {
    "duration": 40,
    "start_time": "2022-03-17T20:52:23.989Z"
   },
   {
    "duration": 8,
    "start_time": "2022-03-17T20:53:04.068Z"
   },
   {
    "duration": 69,
    "start_time": "2022-03-17T20:53:04.839Z"
   },
   {
    "duration": 6,
    "start_time": "2022-03-17T20:56:13.634Z"
   },
   {
    "duration": 25,
    "start_time": "2022-03-17T20:56:14.624Z"
   },
   {
    "duration": 66,
    "start_time": "2022-03-17T20:56:42.142Z"
   },
   {
    "duration": 96,
    "start_time": "2022-03-17T20:59:53.633Z"
   },
   {
    "duration": 79,
    "start_time": "2022-03-17T21:00:07.430Z"
   },
   {
    "duration": 24,
    "start_time": "2022-03-17T21:00:20.259Z"
   },
   {
    "duration": 26,
    "start_time": "2022-03-17T21:00:26.701Z"
   },
   {
    "duration": 9,
    "start_time": "2022-03-17T21:01:27.783Z"
   },
   {
    "duration": 9,
    "start_time": "2022-03-17T21:01:45.907Z"
   },
   {
    "duration": 9,
    "start_time": "2022-03-17T21:02:39.908Z"
   },
   {
    "duration": 9,
    "start_time": "2022-03-17T21:03:16.472Z"
   },
   {
    "duration": 212,
    "start_time": "2022-03-17T21:07:58.299Z"
   },
   {
    "duration": 29,
    "start_time": "2022-03-17T21:08:34.397Z"
   },
   {
    "duration": 4,
    "start_time": "2022-03-17T23:13:49.562Z"
   },
   {
    "duration": 10,
    "start_time": "2022-03-17T23:14:59.952Z"
   },
   {
    "duration": 117,
    "start_time": "2022-03-17T23:28:27.017Z"
   },
   {
    "duration": 1091,
    "start_time": "2022-03-17T23:29:57.058Z"
   },
   {
    "duration": 377,
    "start_time": "2022-03-17T23:29:58.151Z"
   },
   {
    "duration": 241,
    "start_time": "2022-03-17T23:29:58.530Z"
   },
   {
    "duration": 49,
    "start_time": "2022-03-17T23:29:58.773Z"
   },
   {
    "duration": 613,
    "start_time": "2022-03-17T23:29:58.823Z"
   },
   {
    "duration": 614,
    "start_time": "2022-03-17T23:29:59.438Z"
   },
   {
    "duration": 713,
    "start_time": "2022-03-17T23:30:00.054Z"
   },
   {
    "duration": 87,
    "start_time": "2022-03-17T23:30:00.769Z"
   },
   {
    "duration": 19,
    "start_time": "2022-03-17T23:30:00.858Z"
   },
   {
    "duration": 977,
    "start_time": "2022-03-17T23:30:00.879Z"
   },
   {
    "duration": 126,
    "start_time": "2022-03-17T23:30:01.858Z"
   },
   {
    "duration": 7,
    "start_time": "2022-03-17T23:30:01.986Z"
   },
   {
    "duration": 46,
    "start_time": "2022-03-17T23:30:01.995Z"
   },
   {
    "duration": 116,
    "start_time": "2022-03-17T23:30:02.108Z"
   },
   {
    "duration": 187,
    "start_time": "2022-03-17T23:30:02.226Z"
   },
   {
    "duration": 101,
    "start_time": "2022-03-17T23:30:02.415Z"
   },
   {
    "duration": 90,
    "start_time": "2022-03-17T23:30:02.519Z"
   },
   {
    "duration": 9,
    "start_time": "2022-03-17T23:30:02.612Z"
   },
   {
    "duration": 5,
    "start_time": "2022-03-17T23:30:02.623Z"
   },
   {
    "duration": 27,
    "start_time": "2022-03-17T23:30:02.630Z"
   },
   {
    "duration": 6,
    "start_time": "2022-03-17T23:30:02.659Z"
   },
   {
    "duration": 42,
    "start_time": "2022-03-17T23:30:02.667Z"
   },
   {
    "duration": 5137,
    "start_time": "2022-03-17T23:30:02.711Z"
   },
   {
    "duration": 100,
    "start_time": "2022-03-17T23:30:07.750Z"
   },
   {
    "duration": 69,
    "start_time": "2022-03-17T23:30:07.782Z"
   },
   {
    "duration": 66,
    "start_time": "2022-03-17T23:30:07.786Z"
   },
   {
    "duration": 63,
    "start_time": "2022-03-17T23:30:07.790Z"
   },
   {
    "duration": 61,
    "start_time": "2022-03-17T23:30:07.793Z"
   },
   {
    "duration": 49,
    "start_time": "2022-03-17T23:30:07.806Z"
   },
   {
    "duration": 47,
    "start_time": "2022-03-17T23:30:07.809Z"
   },
   {
    "duration": 8,
    "start_time": "2022-03-17T23:33:57.069Z"
   },
   {
    "duration": 4,
    "start_time": "2022-03-17T23:34:02.969Z"
   },
   {
    "duration": 30555,
    "start_time": "2022-03-17T23:34:03.782Z"
   },
   {
    "duration": 2132,
    "start_time": "2022-03-18T14:39:25.841Z"
   },
   {
    "duration": 449,
    "start_time": "2022-03-18T14:39:27.975Z"
   },
   {
    "duration": 477,
    "start_time": "2022-03-18T14:39:28.426Z"
   },
   {
    "duration": 67,
    "start_time": "2022-03-18T14:39:28.907Z"
   },
   {
    "duration": 671,
    "start_time": "2022-03-18T14:39:28.977Z"
   },
   {
    "duration": 738,
    "start_time": "2022-03-18T14:39:29.650Z"
   },
   {
    "duration": 640,
    "start_time": "2022-03-18T14:39:30.391Z"
   },
   {
    "duration": 111,
    "start_time": "2022-03-18T14:39:31.033Z"
   },
   {
    "duration": 26,
    "start_time": "2022-03-18T14:39:31.147Z"
   },
   {
    "duration": 1241,
    "start_time": "2022-03-18T14:39:31.177Z"
   },
   {
    "duration": 224,
    "start_time": "2022-03-18T14:39:32.421Z"
   },
   {
    "duration": 7,
    "start_time": "2022-03-18T14:39:32.648Z"
   },
   {
    "duration": 92,
    "start_time": "2022-03-18T14:39:32.658Z"
   },
   {
    "duration": 123,
    "start_time": "2022-03-18T14:39:32.753Z"
   },
   {
    "duration": 197,
    "start_time": "2022-03-18T14:39:32.945Z"
   },
   {
    "duration": 106,
    "start_time": "2022-03-18T14:39:33.146Z"
   },
   {
    "duration": 7,
    "start_time": "2022-03-18T14:39:33.254Z"
   },
   {
    "duration": 15,
    "start_time": "2022-03-18T14:39:33.263Z"
   },
   {
    "duration": 10,
    "start_time": "2022-03-18T14:39:33.280Z"
   },
   {
    "duration": 78,
    "start_time": "2022-03-18T14:39:33.292Z"
   },
   {
    "duration": 8,
    "start_time": "2022-03-18T14:39:33.372Z"
   },
   {
    "duration": 8,
    "start_time": "2022-03-18T14:39:33.382Z"
   },
   {
    "duration": 4414,
    "start_time": "2022-03-18T14:39:33.393Z"
   },
   {
    "duration": 0,
    "start_time": "2022-03-18T14:39:37.809Z"
   },
   {
    "duration": 0,
    "start_time": "2022-03-18T14:39:37.810Z"
   },
   {
    "duration": 0,
    "start_time": "2022-03-18T14:39:37.812Z"
   },
   {
    "duration": 0,
    "start_time": "2022-03-18T14:39:37.813Z"
   },
   {
    "duration": 0,
    "start_time": "2022-03-18T14:39:37.814Z"
   },
   {
    "duration": 0,
    "start_time": "2022-03-18T14:39:37.815Z"
   },
   {
    "duration": 14,
    "start_time": "2022-03-19T01:06:19.064Z"
   },
   {
    "duration": 126,
    "start_time": "2022-03-19T01:39:01.234Z"
   },
   {
    "duration": 2838,
    "start_time": "2022-03-19T01:39:17.790Z"
   },
   {
    "duration": 3567,
    "start_time": "2022-03-19T01:39:20.632Z"
   },
   {
    "duration": 561,
    "start_time": "2022-03-19T01:39:24.201Z"
   },
   {
    "duration": 68,
    "start_time": "2022-03-19T01:39:24.766Z"
   },
   {
    "duration": 802,
    "start_time": "2022-03-19T01:39:24.836Z"
   },
   {
    "duration": 920,
    "start_time": "2022-03-19T01:39:25.642Z"
   },
   {
    "duration": 666,
    "start_time": "2022-03-19T01:39:26.565Z"
   },
   {
    "duration": 128,
    "start_time": "2022-03-19T01:39:27.234Z"
   },
   {
    "duration": 44,
    "start_time": "2022-03-19T01:39:27.364Z"
   },
   {
    "duration": 1353,
    "start_time": "2022-03-19T01:39:27.414Z"
   },
   {
    "duration": 234,
    "start_time": "2022-03-19T01:39:28.769Z"
   },
   {
    "duration": 8,
    "start_time": "2022-03-19T01:39:29.007Z"
   },
   {
    "duration": 90,
    "start_time": "2022-03-19T01:39:29.018Z"
   },
   {
    "duration": 196,
    "start_time": "2022-03-19T01:39:29.110Z"
   },
   {
    "duration": 179,
    "start_time": "2022-03-19T01:39:29.310Z"
   },
   {
    "duration": 113,
    "start_time": "2022-03-19T01:39:29.493Z"
   },
   {
    "duration": 31,
    "start_time": "2022-03-19T01:39:29.609Z"
   },
   {
    "duration": 36,
    "start_time": "2022-03-19T01:39:29.642Z"
   },
   {
    "duration": 27,
    "start_time": "2022-03-19T01:39:29.680Z"
   },
   {
    "duration": 51,
    "start_time": "2022-03-19T01:39:29.710Z"
   },
   {
    "duration": 7,
    "start_time": "2022-03-19T01:39:29.763Z"
   },
   {
    "duration": 36,
    "start_time": "2022-03-19T01:39:29.773Z"
   },
   {
    "duration": 5708,
    "start_time": "2022-03-19T01:39:29.811Z"
   },
   {
    "duration": 4949,
    "start_time": "2022-03-19T01:39:35.522Z"
   },
   {
    "duration": 4572,
    "start_time": "2022-03-19T01:39:40.473Z"
   },
   {
    "duration": 5,
    "start_time": "2022-03-19T01:39:45.048Z"
   },
   {
    "duration": 862,
    "start_time": "2022-03-19T01:39:45.056Z"
   },
   {
    "duration": 890,
    "start_time": "2022-03-19T01:39:45.923Z"
   },
   {
    "duration": 1373,
    "start_time": "2022-03-19T01:39:46.815Z"
   },
   {
    "duration": 10,
    "start_time": "2022-03-19T01:49:29.182Z"
   },
   {
    "duration": 224,
    "start_time": "2022-03-19T01:49:30.461Z"
   },
   {
    "duration": 10,
    "start_time": "2022-03-19T02:36:36.259Z"
   },
   {
    "duration": 172,
    "start_time": "2022-03-19T02:36:38.618Z"
   },
   {
    "duration": 8,
    "start_time": "2022-03-19T02:37:45.562Z"
   },
   {
    "duration": 370,
    "start_time": "2022-03-19T02:37:46.738Z"
   },
   {
    "duration": 6,
    "start_time": "2022-03-19T02:38:09.145Z"
   },
   {
    "duration": 53,
    "start_time": "2022-03-19T02:38:10.671Z"
   },
   {
    "duration": 113,
    "start_time": "2022-03-19T02:38:19.584Z"
   },
   {
    "duration": 189,
    "start_time": "2022-03-19T02:38:31.297Z"
   },
   {
    "duration": 10,
    "start_time": "2022-03-19T02:38:59.657Z"
   },
   {
    "duration": 222,
    "start_time": "2022-03-19T02:39:01.177Z"
   },
   {
    "duration": 7,
    "start_time": "2022-03-19T02:39:44.590Z"
   },
   {
    "duration": 96,
    "start_time": "2022-03-19T02:39:46.397Z"
   },
   {
    "duration": 1908,
    "start_time": "2022-03-19T02:40:51.432Z"
   },
   {
    "duration": 455,
    "start_time": "2022-03-19T02:40:53.343Z"
   },
   {
    "duration": 494,
    "start_time": "2022-03-19T02:40:53.801Z"
   },
   {
    "duration": 49,
    "start_time": "2022-03-19T02:40:54.298Z"
   },
   {
    "duration": 680,
    "start_time": "2022-03-19T02:40:54.349Z"
   },
   {
    "duration": 771,
    "start_time": "2022-03-19T02:40:55.031Z"
   },
   {
    "duration": 638,
    "start_time": "2022-03-19T02:40:55.805Z"
   },
   {
    "duration": 99,
    "start_time": "2022-03-19T02:40:56.445Z"
   },
   {
    "duration": 55,
    "start_time": "2022-03-19T02:40:56.548Z"
   },
   {
    "duration": 1461,
    "start_time": "2022-03-19T02:40:56.608Z"
   },
   {
    "duration": 224,
    "start_time": "2022-03-19T02:40:58.072Z"
   },
   {
    "duration": 8,
    "start_time": "2022-03-19T02:40:58.298Z"
   },
   {
    "duration": 92,
    "start_time": "2022-03-19T02:40:58.308Z"
   },
   {
    "duration": 162,
    "start_time": "2022-03-19T02:40:58.483Z"
   },
   {
    "duration": 0,
    "start_time": "2022-03-19T02:40:58.648Z"
   },
   {
    "duration": 0,
    "start_time": "2022-03-19T02:40:58.649Z"
   },
   {
    "duration": 0,
    "start_time": "2022-03-19T02:40:58.651Z"
   },
   {
    "duration": 0,
    "start_time": "2022-03-19T02:40:58.653Z"
   },
   {
    "duration": 0,
    "start_time": "2022-03-19T02:40:58.656Z"
   },
   {
    "duration": 0,
    "start_time": "2022-03-19T02:40:58.657Z"
   },
   {
    "duration": 0,
    "start_time": "2022-03-19T02:40:58.659Z"
   },
   {
    "duration": 0,
    "start_time": "2022-03-19T02:40:58.684Z"
   },
   {
    "duration": 0,
    "start_time": "2022-03-19T02:40:58.685Z"
   },
   {
    "duration": 0,
    "start_time": "2022-03-19T02:40:58.688Z"
   },
   {
    "duration": 0,
    "start_time": "2022-03-19T02:40:58.689Z"
   },
   {
    "duration": 0,
    "start_time": "2022-03-19T02:40:58.691Z"
   },
   {
    "duration": 0,
    "start_time": "2022-03-19T02:40:58.692Z"
   },
   {
    "duration": 0,
    "start_time": "2022-03-19T02:40:58.694Z"
   },
   {
    "duration": 0,
    "start_time": "2022-03-19T02:40:58.695Z"
   },
   {
    "duration": 2010,
    "start_time": "2022-03-19T02:41:55.342Z"
   },
   {
    "duration": 460,
    "start_time": "2022-03-19T02:41:57.357Z"
   },
   {
    "duration": 502,
    "start_time": "2022-03-19T02:41:57.819Z"
   },
   {
    "duration": 66,
    "start_time": "2022-03-19T02:41:58.325Z"
   },
   {
    "duration": 658,
    "start_time": "2022-03-19T02:41:58.393Z"
   },
   {
    "duration": 991,
    "start_time": "2022-03-19T02:41:59.053Z"
   },
   {
    "duration": 812,
    "start_time": "2022-03-19T02:42:00.047Z"
   },
   {
    "duration": 100,
    "start_time": "2022-03-19T02:42:00.862Z"
   },
   {
    "duration": 50,
    "start_time": "2022-03-19T02:42:00.965Z"
   },
   {
    "duration": 1364,
    "start_time": "2022-03-19T02:42:01.020Z"
   },
   {
    "duration": 236,
    "start_time": "2022-03-19T02:42:02.388Z"
   },
   {
    "duration": 9,
    "start_time": "2022-03-19T02:42:02.627Z"
   },
   {
    "duration": 110,
    "start_time": "2022-03-19T02:42:02.639Z"
   },
   {
    "duration": 200,
    "start_time": "2022-03-19T02:42:02.785Z"
   },
   {
    "duration": 288,
    "start_time": "2022-03-19T02:42:02.995Z"
   },
   {
    "duration": 15,
    "start_time": "2022-03-19T02:42:03.287Z"
   },
   {
    "duration": 26,
    "start_time": "2022-03-19T02:42:03.304Z"
   },
   {
    "duration": 65,
    "start_time": "2022-03-19T02:42:03.333Z"
   },
   {
    "duration": 44,
    "start_time": "2022-03-19T02:42:03.401Z"
   },
   {
    "duration": 69,
    "start_time": "2022-03-19T02:42:03.447Z"
   },
   {
    "duration": 9,
    "start_time": "2022-03-19T02:42:03.519Z"
   },
   {
    "duration": 64,
    "start_time": "2022-03-19T02:42:03.532Z"
   },
   {
    "duration": 4781,
    "start_time": "2022-03-19T02:42:03.598Z"
   },
   {
    "duration": 4735,
    "start_time": "2022-03-19T02:42:08.384Z"
   },
   {
    "duration": 5828,
    "start_time": "2022-03-19T02:42:13.122Z"
   },
   {
    "duration": 7,
    "start_time": "2022-03-19T02:42:18.953Z"
   },
   {
    "duration": 1342,
    "start_time": "2022-03-19T02:42:18.983Z"
   },
   {
    "duration": 1205,
    "start_time": "2022-03-19T02:42:20.332Z"
   },
   {
    "duration": 1107,
    "start_time": "2022-03-19T02:42:21.540Z"
   },
   {
    "duration": 216,
    "start_time": "2022-03-19T02:45:37.869Z"
   },
   {
    "duration": 310,
    "start_time": "2022-03-19T02:53:02.816Z"
   },
   {
    "duration": 56,
    "start_time": "2022-03-19T02:53:15.858Z"
   },
   {
    "duration": 148,
    "start_time": "2022-03-19T02:53:45.336Z"
   },
   {
    "duration": 2027,
    "start_time": "2022-03-19T02:53:53.943Z"
   },
   {
    "duration": 459,
    "start_time": "2022-03-19T02:53:55.972Z"
   },
   {
    "duration": 526,
    "start_time": "2022-03-19T02:53:56.434Z"
   },
   {
    "duration": 68,
    "start_time": "2022-03-19T02:53:56.964Z"
   },
   {
    "duration": 681,
    "start_time": "2022-03-19T02:53:57.035Z"
   },
   {
    "duration": 755,
    "start_time": "2022-03-19T02:53:57.719Z"
   },
   {
    "duration": 640,
    "start_time": "2022-03-19T02:53:58.483Z"
   },
   {
    "duration": 105,
    "start_time": "2022-03-19T02:53:59.126Z"
   },
   {
    "duration": 51,
    "start_time": "2022-03-19T02:53:59.234Z"
   },
   {
    "duration": 1307,
    "start_time": "2022-03-19T02:53:59.289Z"
   },
   {
    "duration": 235,
    "start_time": "2022-03-19T02:54:00.600Z"
   },
   {
    "duration": 8,
    "start_time": "2022-03-19T02:54:00.837Z"
   },
   {
    "duration": 236,
    "start_time": "2022-03-19T02:54:00.848Z"
   },
   {
    "duration": 198,
    "start_time": "2022-03-19T02:54:01.086Z"
   },
   {
    "duration": 107,
    "start_time": "2022-03-19T02:54:01.286Z"
   },
   {
    "duration": 272,
    "start_time": "2022-03-19T02:54:01.398Z"
   },
   {
    "duration": 0,
    "start_time": "2022-03-19T02:54:01.674Z"
   },
   {
    "duration": 0,
    "start_time": "2022-03-19T02:54:01.676Z"
   },
   {
    "duration": 0,
    "start_time": "2022-03-19T02:54:01.685Z"
   },
   {
    "duration": 0,
    "start_time": "2022-03-19T02:54:01.687Z"
   },
   {
    "duration": 0,
    "start_time": "2022-03-19T02:54:01.690Z"
   },
   {
    "duration": 0,
    "start_time": "2022-03-19T02:54:01.692Z"
   },
   {
    "duration": 0,
    "start_time": "2022-03-19T02:54:01.694Z"
   },
   {
    "duration": 0,
    "start_time": "2022-03-19T02:54:01.696Z"
   },
   {
    "duration": 0,
    "start_time": "2022-03-19T02:54:01.698Z"
   },
   {
    "duration": 0,
    "start_time": "2022-03-19T02:54:01.700Z"
   },
   {
    "duration": 0,
    "start_time": "2022-03-19T02:54:01.702Z"
   },
   {
    "duration": 0,
    "start_time": "2022-03-19T02:54:01.704Z"
   },
   {
    "duration": 0,
    "start_time": "2022-03-19T02:54:01.706Z"
   },
   {
    "duration": 37,
    "start_time": "2022-03-19T02:55:19.061Z"
   },
   {
    "duration": 55,
    "start_time": "2022-03-19T02:56:26.460Z"
   },
   {
    "duration": 2452,
    "start_time": "2022-03-19T02:57:13.744Z"
   },
   {
    "duration": 453,
    "start_time": "2022-03-19T02:57:16.200Z"
   },
   {
    "duration": 650,
    "start_time": "2022-03-19T02:57:16.656Z"
   },
   {
    "duration": 79,
    "start_time": "2022-03-19T02:57:17.310Z"
   },
   {
    "duration": 652,
    "start_time": "2022-03-19T02:57:17.391Z"
   },
   {
    "duration": 1293,
    "start_time": "2022-03-19T02:57:18.046Z"
   },
   {
    "duration": 797,
    "start_time": "2022-03-19T02:57:19.342Z"
   },
   {
    "duration": 103,
    "start_time": "2022-03-19T02:57:20.142Z"
   },
   {
    "duration": 48,
    "start_time": "2022-03-19T02:57:20.248Z"
   },
   {
    "duration": 1289,
    "start_time": "2022-03-19T02:57:20.301Z"
   },
   {
    "duration": 338,
    "start_time": "2022-03-19T02:57:21.592Z"
   },
   {
    "duration": 11,
    "start_time": "2022-03-19T02:57:21.933Z"
   },
   {
    "duration": 437,
    "start_time": "2022-03-19T02:57:21.946Z"
   },
   {
    "duration": 0,
    "start_time": "2022-03-19T02:57:22.386Z"
   },
   {
    "duration": 0,
    "start_time": "2022-03-19T02:57:22.389Z"
   },
   {
    "duration": 0,
    "start_time": "2022-03-19T02:57:22.391Z"
   },
   {
    "duration": 0,
    "start_time": "2022-03-19T02:57:22.393Z"
   },
   {
    "duration": 0,
    "start_time": "2022-03-19T02:57:22.395Z"
   },
   {
    "duration": 0,
    "start_time": "2022-03-19T02:57:22.398Z"
   },
   {
    "duration": 0,
    "start_time": "2022-03-19T02:57:22.401Z"
   },
   {
    "duration": 0,
    "start_time": "2022-03-19T02:57:22.403Z"
   },
   {
    "duration": 0,
    "start_time": "2022-03-19T02:57:22.405Z"
   },
   {
    "duration": 0,
    "start_time": "2022-03-19T02:57:22.407Z"
   },
   {
    "duration": 0,
    "start_time": "2022-03-19T02:57:22.409Z"
   },
   {
    "duration": 0,
    "start_time": "2022-03-19T02:57:22.411Z"
   },
   {
    "duration": 0,
    "start_time": "2022-03-19T02:57:22.413Z"
   },
   {
    "duration": 0,
    "start_time": "2022-03-19T02:57:22.416Z"
   },
   {
    "duration": 0,
    "start_time": "2022-03-19T02:57:22.418Z"
   },
   {
    "duration": 0,
    "start_time": "2022-03-19T02:57:22.419Z"
   },
   {
    "duration": 91,
    "start_time": "2022-03-19T02:58:11.308Z"
   },
   {
    "duration": 115,
    "start_time": "2022-03-19T02:58:13.376Z"
   },
   {
    "duration": 248,
    "start_time": "2022-03-19T02:58:31.337Z"
   },
   {
    "duration": 152,
    "start_time": "2022-03-19T02:58:52.749Z"
   },
   {
    "duration": 36,
    "start_time": "2022-03-19T02:59:10.822Z"
   },
   {
    "duration": 32,
    "start_time": "2022-03-19T02:59:29.499Z"
   },
   {
    "duration": 8,
    "start_time": "2022-03-19T03:06:30.099Z"
   },
   {
    "duration": 227,
    "start_time": "2022-03-19T03:06:31.857Z"
   },
   {
    "duration": 55,
    "start_time": "2022-03-19T03:06:54.739Z"
   },
   {
    "duration": 40,
    "start_time": "2022-03-19T03:07:23.510Z"
   },
   {
    "duration": 185,
    "start_time": "2022-03-19T03:08:43.101Z"
   },
   {
    "duration": 9,
    "start_time": "2022-03-19T22:34:20.782Z"
   },
   {
    "duration": 40,
    "start_time": "2022-03-19T22:34:21.826Z"
   },
   {
    "duration": 1637,
    "start_time": "2022-03-19T22:34:26.231Z"
   },
   {
    "duration": 334,
    "start_time": "2022-03-19T22:34:27.870Z"
   },
   {
    "duration": 258,
    "start_time": "2022-03-19T22:34:28.206Z"
   },
   {
    "duration": 45,
    "start_time": "2022-03-19T22:34:28.466Z"
   },
   {
    "duration": 330,
    "start_time": "2022-03-19T22:34:28.513Z"
   },
   {
    "duration": 378,
    "start_time": "2022-03-19T22:34:28.844Z"
   },
   {
    "duration": 321,
    "start_time": "2022-03-19T22:34:29.223Z"
   },
   {
    "duration": 70,
    "start_time": "2022-03-19T22:34:29.545Z"
   },
   {
    "duration": 17,
    "start_time": "2022-03-19T22:34:29.617Z"
   },
   {
    "duration": 932,
    "start_time": "2022-03-19T22:34:29.636Z"
   },
   {
    "duration": 119,
    "start_time": "2022-03-19T22:34:30.570Z"
   },
   {
    "duration": 10,
    "start_time": "2022-03-19T22:34:30.691Z"
   },
   {
    "duration": 38,
    "start_time": "2022-03-19T22:34:30.703Z"
   },
   {
    "duration": 172,
    "start_time": "2022-03-19T22:34:30.744Z"
   },
   {
    "duration": 458,
    "start_time": "2022-03-19T22:34:30.918Z"
   },
   {
    "duration": 0,
    "start_time": "2022-03-19T22:34:31.378Z"
   },
   {
    "duration": 0,
    "start_time": "2022-03-19T22:34:31.379Z"
   },
   {
    "duration": 0,
    "start_time": "2022-03-19T22:34:31.380Z"
   },
   {
    "duration": 0,
    "start_time": "2022-03-19T22:34:31.381Z"
   },
   {
    "duration": 0,
    "start_time": "2022-03-19T22:34:31.401Z"
   },
   {
    "duration": 0,
    "start_time": "2022-03-19T22:34:31.402Z"
   },
   {
    "duration": 0,
    "start_time": "2022-03-19T22:34:31.403Z"
   },
   {
    "duration": 0,
    "start_time": "2022-03-19T22:34:31.404Z"
   },
   {
    "duration": 0,
    "start_time": "2022-03-19T22:34:31.405Z"
   },
   {
    "duration": 0,
    "start_time": "2022-03-19T22:34:31.406Z"
   },
   {
    "duration": 0,
    "start_time": "2022-03-19T22:34:31.406Z"
   },
   {
    "duration": 0,
    "start_time": "2022-03-19T22:34:31.407Z"
   },
   {
    "duration": 0,
    "start_time": "2022-03-19T22:34:31.408Z"
   },
   {
    "duration": 0,
    "start_time": "2022-03-19T22:34:31.409Z"
   },
   {
    "duration": 0,
    "start_time": "2022-03-19T22:34:31.410Z"
   },
   {
    "duration": 23,
    "start_time": "2022-03-19T22:59:41.319Z"
   },
   {
    "duration": 24,
    "start_time": "2022-03-19T23:00:19.520Z"
   },
   {
    "duration": 24,
    "start_time": "2022-03-19T23:00:45.701Z"
   },
   {
    "duration": 23,
    "start_time": "2022-03-19T23:02:56.380Z"
   },
   {
    "duration": 9,
    "start_time": "2022-03-19T23:03:40.184Z"
   },
   {
    "duration": 4,
    "start_time": "2022-03-19T23:27:25.593Z"
   },
   {
    "duration": 9,
    "start_time": "2022-03-19T23:45:37.892Z"
   },
   {
    "duration": 5,
    "start_time": "2022-03-19T23:47:50.992Z"
   },
   {
    "duration": 3,
    "start_time": "2022-03-19T23:48:08.166Z"
   },
   {
    "duration": 4,
    "start_time": "2022-03-19T23:48:51.134Z"
   },
   {
    "duration": 1534,
    "start_time": "2022-03-19T23:49:33.538Z"
   },
   {
    "duration": 333,
    "start_time": "2022-03-19T23:49:35.074Z"
   },
   {
    "duration": 249,
    "start_time": "2022-03-19T23:49:35.408Z"
   },
   {
    "duration": 46,
    "start_time": "2022-03-19T23:49:35.658Z"
   },
   {
    "duration": 322,
    "start_time": "2022-03-19T23:49:35.706Z"
   },
   {
    "duration": 398,
    "start_time": "2022-03-19T23:49:36.030Z"
   },
   {
    "duration": 332,
    "start_time": "2022-03-19T23:49:36.429Z"
   },
   {
    "duration": 57,
    "start_time": "2022-03-19T23:49:36.762Z"
   },
   {
    "duration": 15,
    "start_time": "2022-03-19T23:49:36.820Z"
   },
   {
    "duration": 818,
    "start_time": "2022-03-19T23:49:36.837Z"
   },
   {
    "duration": 116,
    "start_time": "2022-03-19T23:49:37.656Z"
   },
   {
    "duration": 5,
    "start_time": "2022-03-19T23:49:37.773Z"
   },
   {
    "duration": 45,
    "start_time": "2022-03-19T23:49:37.779Z"
   },
   {
    "duration": 6,
    "start_time": "2022-03-19T23:49:37.904Z"
   },
   {
    "duration": 28,
    "start_time": "2022-03-19T23:49:38.002Z"
   },
   {
    "duration": 180,
    "start_time": "2022-03-19T23:49:38.032Z"
   },
   {
    "duration": 257,
    "start_time": "2022-03-19T23:49:38.214Z"
   },
   {
    "duration": 0,
    "start_time": "2022-03-19T23:49:38.472Z"
   },
   {
    "duration": 0,
    "start_time": "2022-03-19T23:49:38.474Z"
   },
   {
    "duration": 0,
    "start_time": "2022-03-19T23:49:38.475Z"
   },
   {
    "duration": 0,
    "start_time": "2022-03-19T23:49:38.476Z"
   },
   {
    "duration": 0,
    "start_time": "2022-03-19T23:49:38.477Z"
   },
   {
    "duration": 0,
    "start_time": "2022-03-19T23:49:38.478Z"
   },
   {
    "duration": 0,
    "start_time": "2022-03-19T23:49:38.478Z"
   },
   {
    "duration": 0,
    "start_time": "2022-03-19T23:49:38.479Z"
   },
   {
    "duration": 0,
    "start_time": "2022-03-19T23:49:38.480Z"
   },
   {
    "duration": 0,
    "start_time": "2022-03-19T23:49:38.501Z"
   },
   {
    "duration": 0,
    "start_time": "2022-03-19T23:49:38.502Z"
   },
   {
    "duration": 0,
    "start_time": "2022-03-19T23:49:38.503Z"
   },
   {
    "duration": 0,
    "start_time": "2022-03-19T23:49:38.504Z"
   },
   {
    "duration": 0,
    "start_time": "2022-03-19T23:49:38.505Z"
   },
   {
    "duration": 0,
    "start_time": "2022-03-19T23:49:38.505Z"
   },
   {
    "duration": 23,
    "start_time": "2022-03-19T23:51:28.276Z"
   },
   {
    "duration": 3,
    "start_time": "2022-03-19T23:52:08.911Z"
   },
   {
    "duration": 4,
    "start_time": "2022-03-19T23:52:32.381Z"
   },
   {
    "duration": 3,
    "start_time": "2022-03-19T23:53:10.409Z"
   },
   {
    "duration": 23,
    "start_time": "2022-03-19T23:53:21.132Z"
   },
   {
    "duration": 24,
    "start_time": "2022-03-19T23:53:51.451Z"
   },
   {
    "duration": 4,
    "start_time": "2022-03-19T23:54:35.183Z"
   },
   {
    "duration": 4,
    "start_time": "2022-03-19T23:55:00.138Z"
   },
   {
    "duration": 3,
    "start_time": "2022-03-19T23:55:18.376Z"
   },
   {
    "duration": 4,
    "start_time": "2022-03-19T23:55:28.529Z"
   },
   {
    "duration": 3,
    "start_time": "2022-03-19T23:55:32.745Z"
   },
   {
    "duration": 3,
    "start_time": "2022-03-19T23:55:40.449Z"
   },
   {
    "duration": 27,
    "start_time": "2022-03-19T23:55:46.767Z"
   },
   {
    "duration": 24,
    "start_time": "2022-03-19T23:56:09.023Z"
   },
   {
    "duration": 4,
    "start_time": "2022-03-19T23:56:26.949Z"
   },
   {
    "duration": 3,
    "start_time": "2022-03-19T23:56:43.091Z"
   },
   {
    "duration": 4,
    "start_time": "2022-03-19T23:56:54.090Z"
   },
   {
    "duration": 24,
    "start_time": "2022-03-19T23:56:57.048Z"
   },
   {
    "duration": 3,
    "start_time": "2022-03-19T23:56:59.953Z"
   },
   {
    "duration": 4,
    "start_time": "2022-03-19T23:57:13.982Z"
   },
   {
    "duration": 4,
    "start_time": "2022-03-19T23:57:20.982Z"
   },
   {
    "duration": 3,
    "start_time": "2022-03-19T23:57:24.745Z"
   },
   {
    "duration": 4,
    "start_time": "2022-03-19T23:57:29.141Z"
   },
   {
    "duration": 4,
    "start_time": "2022-03-19T23:57:33.904Z"
   },
   {
    "duration": 3,
    "start_time": "2022-03-19T23:57:38.889Z"
   },
   {
    "duration": 9,
    "start_time": "2022-03-20T00:06:12.733Z"
   },
   {
    "duration": 3,
    "start_time": "2022-03-20T00:07:10.686Z"
   },
   {
    "duration": 4,
    "start_time": "2022-03-20T00:07:28.734Z"
   },
   {
    "duration": 9,
    "start_time": "2022-03-20T00:07:58.954Z"
   },
   {
    "duration": 9,
    "start_time": "2022-03-20T00:10:08.337Z"
   },
   {
    "duration": 4,
    "start_time": "2022-03-20T01:30:56.152Z"
   },
   {
    "duration": 4,
    "start_time": "2022-03-20T01:48:33.933Z"
   },
   {
    "duration": 4,
    "start_time": "2022-03-20T01:50:50.613Z"
   },
   {
    "duration": 4,
    "start_time": "2022-03-20T01:50:59.414Z"
   },
   {
    "duration": 11,
    "start_time": "2022-03-20T01:53:07.954Z"
   },
   {
    "duration": 10,
    "start_time": "2022-03-20T01:53:37.473Z"
   },
   {
    "duration": 10,
    "start_time": "2022-03-20T01:55:05.305Z"
   },
   {
    "duration": 11,
    "start_time": "2022-03-20T01:55:30.113Z"
   },
   {
    "duration": 4,
    "start_time": "2022-03-20T01:56:00.911Z"
   },
   {
    "duration": 4,
    "start_time": "2022-03-20T01:56:16.399Z"
   },
   {
    "duration": 4,
    "start_time": "2022-03-20T02:00:51.635Z"
   },
   {
    "duration": 9,
    "start_time": "2022-03-20T02:01:00.779Z"
   },
   {
    "duration": 5,
    "start_time": "2022-03-20T02:01:08.428Z"
   },
   {
    "duration": 10,
    "start_time": "2022-03-20T02:01:24.542Z"
   },
   {
    "duration": 5,
    "start_time": "2022-03-20T02:01:58.542Z"
   },
   {
    "duration": 5,
    "start_time": "2022-03-20T02:02:04.834Z"
   },
   {
    "duration": 4,
    "start_time": "2022-03-20T02:02:24.238Z"
   },
   {
    "duration": 4,
    "start_time": "2022-03-20T02:02:48.704Z"
   },
   {
    "duration": 4,
    "start_time": "2022-03-20T02:02:54.957Z"
   },
   {
    "duration": 9,
    "start_time": "2022-03-20T02:03:36.096Z"
   },
   {
    "duration": 9,
    "start_time": "2022-03-20T02:03:41.589Z"
   },
   {
    "duration": 4,
    "start_time": "2022-03-20T02:03:50.590Z"
   },
   {
    "duration": 8,
    "start_time": "2022-03-20T02:11:20.338Z"
   },
   {
    "duration": 3467,
    "start_time": "2022-03-20T02:16:24.505Z"
   },
   {
    "duration": 9,
    "start_time": "2022-03-20T02:19:41.667Z"
   },
   {
    "duration": 8,
    "start_time": "2022-03-20T02:22:50.387Z"
   },
   {
    "duration": 4,
    "start_time": "2022-03-20T02:37:21.011Z"
   },
   {
    "duration": 9,
    "start_time": "2022-03-20T02:37:22.873Z"
   },
   {
    "duration": 4,
    "start_time": "2022-03-20T02:50:18.356Z"
   },
   {
    "duration": 9,
    "start_time": "2022-03-20T02:50:21.273Z"
   },
   {
    "duration": 9,
    "start_time": "2022-03-20T02:51:14.505Z"
   },
   {
    "duration": 9,
    "start_time": "2022-03-20T02:51:28.672Z"
   },
   {
    "duration": 5,
    "start_time": "2022-03-20T02:51:35.711Z"
   },
   {
    "duration": 9,
    "start_time": "2022-03-20T02:54:00.552Z"
   },
   {
    "duration": 4,
    "start_time": "2022-03-20T02:55:36.185Z"
   },
   {
    "duration": 9,
    "start_time": "2022-03-20T02:55:43.140Z"
   },
   {
    "duration": 4,
    "start_time": "2022-03-20T02:55:49.414Z"
   },
   {
    "duration": 4,
    "start_time": "2022-03-20T02:55:53.189Z"
   },
   {
    "duration": 5,
    "start_time": "2022-03-20T02:55:57.932Z"
   },
   {
    "duration": 24,
    "start_time": "2022-03-20T02:56:27.707Z"
   },
   {
    "duration": 22,
    "start_time": "2022-03-20T02:56:40.821Z"
   },
   {
    "duration": 22,
    "start_time": "2022-03-20T03:02:23.568Z"
   },
   {
    "duration": 5,
    "start_time": "2022-03-20T11:49:52.027Z"
   },
   {
    "duration": 3,
    "start_time": "2022-03-20T11:49:53.223Z"
   },
   {
    "duration": 9,
    "start_time": "2022-03-20T11:49:53.945Z"
   },
   {
    "duration": 9,
    "start_time": "2022-03-20T11:50:12.592Z"
   },
   {
    "duration": 17,
    "start_time": "2022-03-20T11:50:40.240Z"
   },
   {
    "duration": 17,
    "start_time": "2022-03-20T11:50:52.970Z"
   },
   {
    "duration": 3,
    "start_time": "2022-03-20T12:06:49.637Z"
   },
   {
    "duration": 4,
    "start_time": "2022-03-20T12:06:57.356Z"
   },
   {
    "duration": 5,
    "start_time": "2022-03-20T12:25:29.701Z"
   },
   {
    "duration": 3,
    "start_time": "2022-03-20T12:25:30.350Z"
   },
   {
    "duration": 2587,
    "start_time": "2022-03-20T12:25:31.069Z"
   },
   {
    "duration": 2533,
    "start_time": "2022-03-20T12:26:18.502Z"
   },
   {
    "duration": 2491,
    "start_time": "2022-03-20T12:27:02.139Z"
   },
   {
    "duration": 2462,
    "start_time": "2022-03-20T12:27:34.767Z"
   },
   {
    "duration": 2537,
    "start_time": "2022-03-20T12:29:04.571Z"
   },
   {
    "duration": 2490,
    "start_time": "2022-03-20T12:29:10.450Z"
   },
   {
    "duration": 2498,
    "start_time": "2022-03-20T12:29:15.650Z"
   },
   {
    "duration": 2855,
    "start_time": "2022-03-20T12:29:20.721Z"
   },
   {
    "duration": 3195,
    "start_time": "2022-03-20T12:29:26.011Z"
   },
   {
    "duration": 2470,
    "start_time": "2022-03-20T12:29:34.746Z"
   },
   {
    "duration": 1597,
    "start_time": "2022-03-20T12:29:46.664Z"
   },
   {
    "duration": 344,
    "start_time": "2022-03-20T12:29:48.262Z"
   },
   {
    "duration": 280,
    "start_time": "2022-03-20T12:29:48.608Z"
   },
   {
    "duration": 26,
    "start_time": "2022-03-20T12:29:48.890Z"
   },
   {
    "duration": 370,
    "start_time": "2022-03-20T12:29:48.918Z"
   },
   {
    "duration": 407,
    "start_time": "2022-03-20T12:29:49.290Z"
   },
   {
    "duration": 343,
    "start_time": "2022-03-20T12:29:49.698Z"
   },
   {
    "duration": 75,
    "start_time": "2022-03-20T12:29:50.043Z"
   },
   {
    "duration": 19,
    "start_time": "2022-03-20T12:29:50.120Z"
   },
   {
    "duration": 906,
    "start_time": "2022-03-20T12:29:50.142Z"
   },
   {
    "duration": 131,
    "start_time": "2022-03-20T12:29:51.050Z"
   },
   {
    "duration": 5,
    "start_time": "2022-03-20T12:29:51.183Z"
   },
   {
    "duration": 95,
    "start_time": "2022-03-20T12:29:51.189Z"
   },
   {
    "duration": 194,
    "start_time": "2022-03-20T12:29:51.287Z"
   },
   {
    "duration": 115,
    "start_time": "2022-03-20T12:29:51.483Z"
   },
   {
    "duration": 83,
    "start_time": "2022-03-20T12:29:51.600Z"
   },
   {
    "duration": 102,
    "start_time": "2022-03-20T12:29:51.685Z"
   },
   {
    "duration": 15,
    "start_time": "2022-03-20T12:29:51.789Z"
   },
   {
    "duration": 5,
    "start_time": "2022-03-20T12:29:51.806Z"
   },
   {
    "duration": 124,
    "start_time": "2022-03-20T12:29:51.813Z"
   },
   {
    "duration": 0,
    "start_time": "2022-03-20T12:29:51.939Z"
   },
   {
    "duration": 0,
    "start_time": "2022-03-20T12:29:51.940Z"
   },
   {
    "duration": 0,
    "start_time": "2022-03-20T12:29:51.941Z"
   },
   {
    "duration": 0,
    "start_time": "2022-03-20T12:29:51.942Z"
   },
   {
    "duration": 0,
    "start_time": "2022-03-20T12:29:51.943Z"
   },
   {
    "duration": 0,
    "start_time": "2022-03-20T12:29:51.944Z"
   },
   {
    "duration": 0,
    "start_time": "2022-03-20T12:29:51.945Z"
   },
   {
    "duration": 0,
    "start_time": "2022-03-20T12:29:51.946Z"
   },
   {
    "duration": 0,
    "start_time": "2022-03-20T12:29:51.947Z"
   },
   {
    "duration": 4,
    "start_time": "2022-03-20T12:33:21.335Z"
   },
   {
    "duration": 23,
    "start_time": "2022-03-20T12:33:22.183Z"
   },
   {
    "duration": 5,
    "start_time": "2022-03-20T12:33:26.780Z"
   },
   {
    "duration": 4,
    "start_time": "2022-03-20T12:33:27.494Z"
   },
   {
    "duration": 2890,
    "start_time": "2022-03-20T12:33:28.110Z"
   },
   {
    "duration": 12,
    "start_time": "2022-03-20T12:33:31.002Z"
   },
   {
    "duration": 2597,
    "start_time": "2022-03-20T12:34:29.276Z"
   },
   {
    "duration": 2525,
    "start_time": "2022-03-20T12:43:49.704Z"
   },
   {
    "duration": 2582,
    "start_time": "2022-03-20T12:44:01.143Z"
   },
   {
    "duration": 1562,
    "start_time": "2022-03-20T12:44:12.923Z"
   },
   {
    "duration": 347,
    "start_time": "2022-03-20T12:44:14.487Z"
   },
   {
    "duration": 310,
    "start_time": "2022-03-20T12:44:14.835Z"
   },
   {
    "duration": 50,
    "start_time": "2022-03-20T12:44:15.148Z"
   },
   {
    "duration": 350,
    "start_time": "2022-03-20T12:44:15.200Z"
   },
   {
    "duration": 403,
    "start_time": "2022-03-20T12:44:15.551Z"
   },
   {
    "duration": 344,
    "start_time": "2022-03-20T12:44:15.955Z"
   },
   {
    "duration": 82,
    "start_time": "2022-03-20T12:44:16.301Z"
   },
   {
    "duration": 19,
    "start_time": "2022-03-20T12:44:16.385Z"
   },
   {
    "duration": 861,
    "start_time": "2022-03-20T12:44:16.407Z"
   },
   {
    "duration": 125,
    "start_time": "2022-03-20T12:44:17.270Z"
   },
   {
    "duration": 6,
    "start_time": "2022-03-20T12:44:17.396Z"
   },
   {
    "duration": 85,
    "start_time": "2022-03-20T12:44:17.404Z"
   },
   {
    "duration": 102,
    "start_time": "2022-03-20T12:44:17.581Z"
   },
   {
    "duration": 117,
    "start_time": "2022-03-20T12:44:17.685Z"
   },
   {
    "duration": 80,
    "start_time": "2022-03-20T12:44:17.805Z"
   },
   {
    "duration": 97,
    "start_time": "2022-03-20T12:44:17.887Z"
   },
   {
    "duration": 14,
    "start_time": "2022-03-20T12:44:17.985Z"
   },
   {
    "duration": 4,
    "start_time": "2022-03-20T12:44:18.000Z"
   },
   {
    "duration": 24,
    "start_time": "2022-03-20T12:44:18.007Z"
   },
   {
    "duration": 5,
    "start_time": "2022-03-20T12:44:18.033Z"
   },
   {
    "duration": 5,
    "start_time": "2022-03-20T12:44:18.039Z"
   },
   {
    "duration": 2601,
    "start_time": "2022-03-20T12:44:18.045Z"
   },
   {
    "duration": 2752,
    "start_time": "2022-03-20T12:44:20.648Z"
   },
   {
    "duration": 162,
    "start_time": "2022-03-20T12:44:23.403Z"
   },
   {
    "duration": 0,
    "start_time": "2022-03-20T12:44:23.567Z"
   },
   {
    "duration": 0,
    "start_time": "2022-03-20T12:44:23.568Z"
   },
   {
    "duration": 0,
    "start_time": "2022-03-20T12:44:23.581Z"
   },
   {
    "duration": 0,
    "start_time": "2022-03-20T12:44:23.581Z"
   },
   {
    "duration": 2529,
    "start_time": "2022-03-20T12:46:55.953Z"
   },
   {
    "duration": 2554,
    "start_time": "2022-03-20T12:48:01.948Z"
   },
   {
    "duration": 2555,
    "start_time": "2022-03-20T12:48:22.428Z"
   },
   {
    "duration": 1592,
    "start_time": "2022-03-20T12:48:59.462Z"
   },
   {
    "duration": 378,
    "start_time": "2022-03-20T12:49:01.056Z"
   },
   {
    "duration": 274,
    "start_time": "2022-03-20T12:49:01.435Z"
   },
   {
    "duration": 24,
    "start_time": "2022-03-20T12:49:01.711Z"
   },
   {
    "duration": 363,
    "start_time": "2022-03-20T12:49:01.736Z"
   },
   {
    "duration": 418,
    "start_time": "2022-03-20T12:49:02.100Z"
   },
   {
    "duration": 340,
    "start_time": "2022-03-20T12:49:02.520Z"
   },
   {
    "duration": 65,
    "start_time": "2022-03-20T12:49:02.861Z"
   },
   {
    "duration": 16,
    "start_time": "2022-03-20T12:49:02.927Z"
   },
   {
    "duration": 899,
    "start_time": "2022-03-20T12:49:02.945Z"
   },
   {
    "duration": 122,
    "start_time": "2022-03-20T12:49:03.846Z"
   },
   {
    "duration": 12,
    "start_time": "2022-03-20T12:49:03.969Z"
   },
   {
    "duration": 37,
    "start_time": "2022-03-20T12:49:03.983Z"
   },
   {
    "duration": 122,
    "start_time": "2022-03-20T12:49:04.082Z"
   },
   {
    "duration": 117,
    "start_time": "2022-03-20T12:49:04.282Z"
   },
   {
    "duration": 180,
    "start_time": "2022-03-20T12:49:04.401Z"
   },
   {
    "duration": 4,
    "start_time": "2022-03-20T12:49:04.583Z"
   },
   {
    "duration": 13,
    "start_time": "2022-03-20T12:49:04.589Z"
   },
   {
    "duration": 4,
    "start_time": "2022-03-20T12:49:04.604Z"
   },
   {
    "duration": 22,
    "start_time": "2022-03-20T12:49:04.610Z"
   },
   {
    "duration": 5,
    "start_time": "2022-03-20T12:49:04.634Z"
   },
   {
    "duration": 42,
    "start_time": "2022-03-20T12:49:04.640Z"
   },
   {
    "duration": 2584,
    "start_time": "2022-03-20T12:49:04.684Z"
   },
   {
    "duration": 2482,
    "start_time": "2022-03-20T12:49:07.269Z"
   },
   {
    "duration": 2473,
    "start_time": "2022-03-20T12:49:09.753Z"
   },
   {
    "duration": 205,
    "start_time": "2022-03-20T12:49:12.228Z"
   },
   {
    "duration": 0,
    "start_time": "2022-03-20T12:49:12.435Z"
   },
   {
    "duration": 0,
    "start_time": "2022-03-20T12:49:12.436Z"
   },
   {
    "duration": 0,
    "start_time": "2022-03-20T12:49:12.438Z"
   },
   {
    "duration": 0,
    "start_time": "2022-03-20T12:49:12.440Z"
   },
   {
    "duration": 4,
    "start_time": "2022-03-20T13:07:27.933Z"
   },
   {
    "duration": 514,
    "start_time": "2022-03-20T13:08:44.329Z"
   },
   {
    "duration": 475,
    "start_time": "2022-03-20T13:09:03.616Z"
   },
   {
    "duration": 100,
    "start_time": "2022-03-20T13:09:07.422Z"
   },
   {
    "duration": 9,
    "start_time": "2022-03-20T13:09:10.335Z"
   },
   {
    "duration": 483,
    "start_time": "2022-03-20T13:09:14.231Z"
   },
   {
    "duration": 462,
    "start_time": "2022-03-20T13:09:30.128Z"
   },
   {
    "duration": 461,
    "start_time": "2022-03-20T13:09:34.707Z"
   },
   {
    "duration": 458,
    "start_time": "2022-03-20T13:10:05.112Z"
   },
   {
    "duration": 452,
    "start_time": "2022-03-20T13:11:30.901Z"
   },
   {
    "duration": 455,
    "start_time": "2022-03-20T13:12:22.028Z"
   },
   {
    "duration": 470,
    "start_time": "2022-03-20T13:14:22.796Z"
   },
   {
    "duration": 486,
    "start_time": "2022-03-20T13:15:15.921Z"
   },
   {
    "duration": 1623,
    "start_time": "2022-03-20T13:15:31.801Z"
   },
   {
    "duration": 363,
    "start_time": "2022-03-20T13:15:33.426Z"
   },
   {
    "duration": 293,
    "start_time": "2022-03-20T13:15:33.794Z"
   },
   {
    "duration": 26,
    "start_time": "2022-03-20T13:15:34.089Z"
   },
   {
    "duration": 357,
    "start_time": "2022-03-20T13:15:34.116Z"
   },
   {
    "duration": 441,
    "start_time": "2022-03-20T13:15:34.475Z"
   },
   {
    "duration": 348,
    "start_time": "2022-03-20T13:15:34.918Z"
   },
   {
    "duration": 61,
    "start_time": "2022-03-20T13:15:35.267Z"
   },
   {
    "duration": 17,
    "start_time": "2022-03-20T13:15:35.330Z"
   },
   {
    "duration": 899,
    "start_time": "2022-03-20T13:15:35.349Z"
   },
   {
    "duration": 121,
    "start_time": "2022-03-20T13:15:36.250Z"
   },
   {
    "duration": 9,
    "start_time": "2022-03-20T13:15:36.372Z"
   },
   {
    "duration": 102,
    "start_time": "2022-03-20T13:15:36.382Z"
   },
   {
    "duration": 116,
    "start_time": "2022-03-20T13:15:36.486Z"
   },
   {
    "duration": 113,
    "start_time": "2022-03-20T13:15:36.681Z"
   },
   {
    "duration": 89,
    "start_time": "2022-03-20T13:15:36.796Z"
   },
   {
    "duration": 95,
    "start_time": "2022-03-20T13:15:36.887Z"
   },
   {
    "duration": 10,
    "start_time": "2022-03-20T13:15:36.984Z"
   },
   {
    "duration": 4,
    "start_time": "2022-03-20T13:15:36.995Z"
   },
   {
    "duration": 26,
    "start_time": "2022-03-20T13:15:37.001Z"
   },
   {
    "duration": 6,
    "start_time": "2022-03-20T13:15:37.029Z"
   },
   {
    "duration": 7,
    "start_time": "2022-03-20T13:15:37.036Z"
   },
   {
    "duration": 2711,
    "start_time": "2022-03-20T13:15:37.044Z"
   },
   {
    "duration": 2768,
    "start_time": "2022-03-20T13:15:39.757Z"
   },
   {
    "duration": 2498,
    "start_time": "2022-03-20T13:15:42.526Z"
   },
   {
    "duration": 200,
    "start_time": "2022-03-20T13:15:45.025Z"
   },
   {
    "duration": 0,
    "start_time": "2022-03-20T13:15:45.227Z"
   },
   {
    "duration": 0,
    "start_time": "2022-03-20T13:15:45.228Z"
   },
   {
    "duration": 0,
    "start_time": "2022-03-20T13:15:45.230Z"
   },
   {
    "duration": 0,
    "start_time": "2022-03-20T13:15:45.231Z"
   },
   {
    "duration": 4,
    "start_time": "2022-03-20T13:15:59.812Z"
   },
   {
    "duration": 463,
    "start_time": "2022-03-20T13:16:00.676Z"
   },
   {
    "duration": 465,
    "start_time": "2022-03-20T13:16:01.400Z"
   },
   {
    "duration": 447,
    "start_time": "2022-03-20T13:16:02.207Z"
   },
   {
    "duration": 555,
    "start_time": "2022-03-20T13:57:02.505Z"
   },
   {
    "duration": 458,
    "start_time": "2022-03-20T13:58:01.423Z"
   },
   {
    "duration": 439,
    "start_time": "2022-03-20T13:58:45.260Z"
   },
   {
    "duration": 177,
    "start_time": "2022-03-20T13:59:00.707Z"
   },
   {
    "duration": 440,
    "start_time": "2022-03-20T13:59:09.525Z"
   },
   {
    "duration": 433,
    "start_time": "2022-03-20T13:59:22.285Z"
   },
   {
    "duration": 468,
    "start_time": "2022-03-20T13:59:30.698Z"
   },
   {
    "duration": 445,
    "start_time": "2022-03-20T13:59:32.166Z"
   },
   {
    "duration": 1623,
    "start_time": "2022-03-20T13:59:42.195Z"
   },
   {
    "duration": 357,
    "start_time": "2022-03-20T13:59:43.820Z"
   },
   {
    "duration": 310,
    "start_time": "2022-03-20T13:59:44.179Z"
   },
   {
    "duration": 28,
    "start_time": "2022-03-20T13:59:44.491Z"
   },
   {
    "duration": 379,
    "start_time": "2022-03-20T13:59:44.521Z"
   },
   {
    "duration": 401,
    "start_time": "2022-03-20T13:59:44.902Z"
   },
   {
    "duration": 351,
    "start_time": "2022-03-20T13:59:45.304Z"
   },
   {
    "duration": 68,
    "start_time": "2022-03-20T13:59:45.657Z"
   },
   {
    "duration": 15,
    "start_time": "2022-03-20T13:59:45.727Z"
   },
   {
    "duration": 927,
    "start_time": "2022-03-20T13:59:45.744Z"
   },
   {
    "duration": 121,
    "start_time": "2022-03-20T13:59:46.680Z"
   },
   {
    "duration": 5,
    "start_time": "2022-03-20T13:59:46.802Z"
   },
   {
    "duration": 76,
    "start_time": "2022-03-20T13:59:46.809Z"
   },
   {
    "duration": 112,
    "start_time": "2022-03-20T13:59:46.889Z"
   },
   {
    "duration": 117,
    "start_time": "2022-03-20T13:59:47.081Z"
   },
   {
    "duration": 89,
    "start_time": "2022-03-20T13:59:47.200Z"
   },
   {
    "duration": 97,
    "start_time": "2022-03-20T13:59:47.290Z"
   },
   {
    "duration": 11,
    "start_time": "2022-03-20T13:59:47.389Z"
   },
   {
    "duration": 4,
    "start_time": "2022-03-20T13:59:47.402Z"
   },
   {
    "duration": 23,
    "start_time": "2022-03-20T13:59:47.407Z"
   },
   {
    "duration": 5,
    "start_time": "2022-03-20T13:59:47.432Z"
   },
   {
    "duration": 9,
    "start_time": "2022-03-20T13:59:47.438Z"
   },
   {
    "duration": 2571,
    "start_time": "2022-03-20T13:59:47.448Z"
   },
   {
    "duration": 2600,
    "start_time": "2022-03-20T13:59:50.020Z"
   },
   {
    "duration": 2529,
    "start_time": "2022-03-20T13:59:52.621Z"
   },
   {
    "duration": 4,
    "start_time": "2022-03-20T13:59:55.151Z"
   },
   {
    "duration": 454,
    "start_time": "2022-03-20T13:59:55.157Z"
   },
   {
    "duration": 467,
    "start_time": "2022-03-20T13:59:55.613Z"
   },
   {
    "duration": 472,
    "start_time": "2022-03-20T13:59:56.082Z"
   },
   {
    "duration": 572,
    "start_time": "2022-03-20T14:05:54.123Z"
   },
   {
    "duration": 95,
    "start_time": "2022-03-20T14:29:02.497Z"
   },
   {
    "duration": 4,
    "start_time": "2022-03-20T14:30:13.255Z"
   },
   {
    "duration": 5,
    "start_time": "2022-03-20T14:30:25.577Z"
   },
   {
    "duration": 4,
    "start_time": "2022-03-20T14:30:33.734Z"
   },
   {
    "duration": 9,
    "start_time": "2022-03-20T14:30:59.784Z"
   },
   {
    "duration": 441,
    "start_time": "2022-03-20T14:32:34.271Z"
   },
   {
    "duration": 477,
    "start_time": "2022-03-20T14:33:09.784Z"
   },
   {
    "duration": 9,
    "start_time": "2022-03-20T14:34:36.098Z"
   },
   {
    "duration": 8,
    "start_time": "2022-03-20T14:34:54.138Z"
   },
   {
    "duration": 437,
    "start_time": "2022-03-20T14:36:23.821Z"
   },
   {
    "duration": 450,
    "start_time": "2022-03-20T14:36:51.818Z"
   },
   {
    "duration": 449,
    "start_time": "2022-03-20T14:36:53.422Z"
   },
   {
    "duration": 437,
    "start_time": "2022-03-20T14:36:57.433Z"
   },
   {
    "duration": 443,
    "start_time": "2022-03-20T14:37:26.618Z"
   },
   {
    "duration": 8,
    "start_time": "2022-03-20T14:37:45.778Z"
   },
   {
    "duration": 434,
    "start_time": "2022-03-20T14:39:11.340Z"
   },
   {
    "duration": 441,
    "start_time": "2022-03-20T14:39:21.298Z"
   },
   {
    "duration": 440,
    "start_time": "2022-03-20T14:39:21.858Z"
   },
   {
    "duration": 9,
    "start_time": "2022-03-20T14:39:22.449Z"
   },
   {
    "duration": 1538,
    "start_time": "2022-03-20T14:39:31.511Z"
   },
   {
    "duration": 347,
    "start_time": "2022-03-20T14:39:33.051Z"
   },
   {
    "duration": 309,
    "start_time": "2022-03-20T14:39:33.400Z"
   },
   {
    "duration": 27,
    "start_time": "2022-03-20T14:39:33.712Z"
   },
   {
    "duration": 363,
    "start_time": "2022-03-20T14:39:33.740Z"
   },
   {
    "duration": 411,
    "start_time": "2022-03-20T14:39:34.105Z"
   },
   {
    "duration": 334,
    "start_time": "2022-03-20T14:39:34.517Z"
   },
   {
    "duration": 68,
    "start_time": "2022-03-20T14:39:34.853Z"
   },
   {
    "duration": 16,
    "start_time": "2022-03-20T14:39:34.923Z"
   },
   {
    "duration": 925,
    "start_time": "2022-03-20T14:39:34.941Z"
   },
   {
    "duration": 128,
    "start_time": "2022-03-20T14:39:35.867Z"
   },
   {
    "duration": 6,
    "start_time": "2022-03-20T14:39:35.997Z"
   },
   {
    "duration": 81,
    "start_time": "2022-03-20T14:39:36.004Z"
   },
   {
    "duration": 193,
    "start_time": "2022-03-20T14:39:36.088Z"
   },
   {
    "duration": 114,
    "start_time": "2022-03-20T14:39:36.284Z"
   },
   {
    "duration": 82,
    "start_time": "2022-03-20T14:39:36.401Z"
   },
   {
    "duration": 111,
    "start_time": "2022-03-20T14:39:36.486Z"
   },
   {
    "duration": 12,
    "start_time": "2022-03-20T14:39:36.599Z"
   },
   {
    "duration": 5,
    "start_time": "2022-03-20T14:39:36.612Z"
   },
   {
    "duration": 23,
    "start_time": "2022-03-20T14:39:36.619Z"
   },
   {
    "duration": 5,
    "start_time": "2022-03-20T14:39:36.643Z"
   },
   {
    "duration": 5,
    "start_time": "2022-03-20T14:39:36.650Z"
   },
   {
    "duration": 2607,
    "start_time": "2022-03-20T14:39:36.657Z"
   },
   {
    "duration": 2564,
    "start_time": "2022-03-20T14:39:39.266Z"
   },
   {
    "duration": 2467,
    "start_time": "2022-03-20T14:39:41.832Z"
   },
   {
    "duration": 5,
    "start_time": "2022-03-20T14:39:44.300Z"
   },
   {
    "duration": 484,
    "start_time": "2022-03-20T14:39:44.307Z"
   },
   {
    "duration": 459,
    "start_time": "2022-03-20T14:39:44.794Z"
   },
   {
    "duration": 463,
    "start_time": "2022-03-20T14:39:45.254Z"
   },
   {
    "duration": 7,
    "start_time": "2022-03-20T14:39:45.719Z"
   },
   {
    "duration": 101,
    "start_time": "2022-03-20T14:42:51.838Z"
   },
   {
    "duration": 9,
    "start_time": "2022-03-20T14:43:26.363Z"
   },
   {
    "duration": 10,
    "start_time": "2022-03-20T14:44:27.718Z"
   },
   {
    "duration": 10,
    "start_time": "2022-03-20T14:48:47.398Z"
   },
   {
    "duration": 48,
    "start_time": "2022-03-21T11:17:16.518Z"
   },
   {
    "duration": 2234,
    "start_time": "2022-03-21T11:17:26.880Z"
   },
   {
    "duration": 355,
    "start_time": "2022-03-21T11:17:29.116Z"
   },
   {
    "duration": 289,
    "start_time": "2022-03-21T11:17:29.473Z"
   },
   {
    "duration": 28,
    "start_time": "2022-03-21T11:17:29.764Z"
   },
   {
    "duration": 391,
    "start_time": "2022-03-21T11:17:29.794Z"
   },
   {
    "duration": 454,
    "start_time": "2022-03-21T11:17:30.187Z"
   },
   {
    "duration": 385,
    "start_time": "2022-03-21T11:17:30.643Z"
   },
   {
    "duration": 91,
    "start_time": "2022-03-21T11:17:31.030Z"
   },
   {
    "duration": 45,
    "start_time": "2022-03-21T11:17:31.123Z"
   },
   {
    "duration": 1077,
    "start_time": "2022-03-21T11:17:31.170Z"
   },
   {
    "duration": 135,
    "start_time": "2022-03-21T11:17:32.249Z"
   },
   {
    "duration": 5,
    "start_time": "2022-03-21T11:17:32.387Z"
   },
   {
    "duration": 169,
    "start_time": "2022-03-21T11:17:32.394Z"
   },
   {
    "duration": 104,
    "start_time": "2022-03-21T11:17:32.567Z"
   },
   {
    "duration": 219,
    "start_time": "2022-03-21T11:17:32.673Z"
   },
   {
    "duration": 73,
    "start_time": "2022-03-21T11:17:32.894Z"
   },
   {
    "duration": 97,
    "start_time": "2022-03-21T11:17:32.969Z"
   },
   {
    "duration": 18,
    "start_time": "2022-03-21T11:17:33.068Z"
   },
   {
    "duration": 5,
    "start_time": "2022-03-21T11:17:33.088Z"
   },
   {
    "duration": 41,
    "start_time": "2022-03-21T11:17:33.095Z"
   },
   {
    "duration": 9,
    "start_time": "2022-03-21T11:17:33.138Z"
   },
   {
    "duration": 12,
    "start_time": "2022-03-21T11:17:33.163Z"
   },
   {
    "duration": 3010,
    "start_time": "2022-03-21T11:17:33.178Z"
   },
   {
    "duration": 2831,
    "start_time": "2022-03-21T11:17:36.191Z"
   },
   {
    "duration": 2716,
    "start_time": "2022-03-21T11:17:39.024Z"
   },
   {
    "duration": 5,
    "start_time": "2022-03-21T11:17:41.742Z"
   },
   {
    "duration": 483,
    "start_time": "2022-03-21T11:17:41.749Z"
   },
   {
    "duration": 1332,
    "start_time": "2022-03-21T11:17:42.234Z"
   },
   {
    "duration": 1173,
    "start_time": "2022-03-21T11:17:43.568Z"
   },
   {
    "duration": 24,
    "start_time": "2022-03-21T11:17:44.743Z"
   },
   {
    "duration": 11,
    "start_time": "2022-03-21T11:19:59.023Z"
   },
   {
    "duration": 143,
    "start_time": "2022-03-21T11:21:42.119Z"
   },
   {
    "duration": 161,
    "start_time": "2022-03-21T11:22:08.164Z"
   },
   {
    "duration": 10,
    "start_time": "2022-03-21T11:22:31.308Z"
   },
   {
    "duration": 144,
    "start_time": "2022-03-21T11:22:43.893Z"
   },
   {
    "duration": 111,
    "start_time": "2022-03-21T11:23:09.415Z"
   },
   {
    "duration": 11,
    "start_time": "2022-03-21T11:23:22.586Z"
   },
   {
    "duration": 148,
    "start_time": "2022-03-21T11:23:33.994Z"
   },
   {
    "duration": 12,
    "start_time": "2022-03-21T11:23:42.099Z"
   },
   {
    "duration": 15,
    "start_time": "2022-03-21T11:24:29.586Z"
   },
   {
    "duration": 19,
    "start_time": "2022-03-21T11:25:12.447Z"
   },
   {
    "duration": 9,
    "start_time": "2022-03-21T11:25:30.964Z"
   },
   {
    "duration": 9,
    "start_time": "2022-03-21T11:29:16.997Z"
   },
   {
    "duration": 11,
    "start_time": "2022-03-21T11:30:10.591Z"
   },
   {
    "duration": 5,
    "start_time": "2022-03-21T11:30:30.426Z"
   },
   {
    "duration": 12,
    "start_time": "2022-03-21T11:30:39.080Z"
   },
   {
    "duration": 13,
    "start_time": "2022-03-21T11:31:16.600Z"
   },
   {
    "duration": 3,
    "start_time": "2022-03-21T11:33:35.965Z"
   },
   {
    "duration": 10,
    "start_time": "2022-03-21T11:34:18.804Z"
   },
   {
    "duration": 9,
    "start_time": "2022-03-21T11:35:20.463Z"
   },
   {
    "duration": 10,
    "start_time": "2022-03-21T11:43:59.562Z"
   },
   {
    "duration": 14,
    "start_time": "2022-03-21T11:44:28.764Z"
   },
   {
    "duration": 11,
    "start_time": "2022-03-21T11:44:37.312Z"
   },
   {
    "duration": 11,
    "start_time": "2022-03-21T11:46:13.849Z"
   },
   {
    "duration": 9,
    "start_time": "2022-03-21T11:46:24.049Z"
   },
   {
    "duration": 148,
    "start_time": "2022-03-21T11:46:56.430Z"
   },
   {
    "duration": 7,
    "start_time": "2022-03-21T11:47:21.869Z"
   },
   {
    "duration": 12,
    "start_time": "2022-03-21T11:47:30.564Z"
   },
   {
    "duration": 10,
    "start_time": "2022-03-21T11:48:41.641Z"
   },
   {
    "duration": 12,
    "start_time": "2022-03-21T11:48:55.952Z"
   },
   {
    "duration": 12,
    "start_time": "2022-03-21T11:49:44.036Z"
   },
   {
    "duration": 1528,
    "start_time": "2022-03-21T11:50:39.211Z"
   },
   {
    "duration": 361,
    "start_time": "2022-03-21T11:50:40.741Z"
   },
   {
    "duration": 293,
    "start_time": "2022-03-21T11:50:41.103Z"
   },
   {
    "duration": 30,
    "start_time": "2022-03-21T11:50:41.399Z"
   },
   {
    "duration": 377,
    "start_time": "2022-03-21T11:50:41.430Z"
   },
   {
    "duration": 441,
    "start_time": "2022-03-21T11:50:41.809Z"
   },
   {
    "duration": 377,
    "start_time": "2022-03-21T11:50:42.252Z"
   },
   {
    "duration": 74,
    "start_time": "2022-03-21T11:50:42.631Z"
   },
   {
    "duration": 19,
    "start_time": "2022-03-21T11:50:42.707Z"
   },
   {
    "duration": 916,
    "start_time": "2022-03-21T11:50:42.729Z"
   },
   {
    "duration": 136,
    "start_time": "2022-03-21T11:50:43.647Z"
   },
   {
    "duration": 5,
    "start_time": "2022-03-21T11:50:43.784Z"
   },
   {
    "duration": 78,
    "start_time": "2022-03-21T11:50:43.791Z"
   },
   {
    "duration": 122,
    "start_time": "2022-03-21T11:50:43.871Z"
   },
   {
    "duration": 113,
    "start_time": "2022-03-21T11:50:44.069Z"
   },
   {
    "duration": 86,
    "start_time": "2022-03-21T11:50:44.184Z"
   },
   {
    "duration": 97,
    "start_time": "2022-03-21T11:50:44.272Z"
   },
   {
    "duration": 14,
    "start_time": "2022-03-21T11:50:44.371Z"
   },
   {
    "duration": 7,
    "start_time": "2022-03-21T11:50:44.387Z"
   },
   {
    "duration": 23,
    "start_time": "2022-03-21T11:50:44.396Z"
   },
   {
    "duration": 5,
    "start_time": "2022-03-21T11:50:44.421Z"
   },
   {
    "duration": 16,
    "start_time": "2022-03-21T11:50:44.428Z"
   },
   {
    "duration": 2649,
    "start_time": "2022-03-21T11:50:44.446Z"
   },
   {
    "duration": 2666,
    "start_time": "2022-03-21T11:50:47.097Z"
   },
   {
    "duration": 2606,
    "start_time": "2022-03-21T11:50:49.765Z"
   },
   {
    "duration": 4,
    "start_time": "2022-03-21T11:50:52.373Z"
   },
   {
    "duration": 504,
    "start_time": "2022-03-21T11:50:52.378Z"
   },
   {
    "duration": 497,
    "start_time": "2022-03-21T11:50:52.885Z"
   },
   {
    "duration": 480,
    "start_time": "2022-03-21T11:50:53.383Z"
   },
   {
    "duration": 8,
    "start_time": "2022-03-21T11:50:53.865Z"
   },
   {
    "duration": 28,
    "start_time": "2022-03-21T11:50:53.874Z"
   },
   {
    "duration": 65,
    "start_time": "2022-03-21T11:55:32.860Z"
   },
   {
    "duration": 23,
    "start_time": "2022-03-21T11:57:50.386Z"
   },
   {
    "duration": 13,
    "start_time": "2022-03-21T11:57:55.347Z"
   },
   {
    "duration": 1593,
    "start_time": "2022-03-21T12:04:42.542Z"
   },
   {
    "duration": 372,
    "start_time": "2022-03-21T12:04:44.137Z"
   },
   {
    "duration": 291,
    "start_time": "2022-03-21T12:04:44.510Z"
   },
   {
    "duration": 30,
    "start_time": "2022-03-21T12:04:44.803Z"
   },
   {
    "duration": 405,
    "start_time": "2022-03-21T12:04:44.835Z"
   },
   {
    "duration": 463,
    "start_time": "2022-03-21T12:04:45.242Z"
   },
   {
    "duration": 365,
    "start_time": "2022-03-21T12:04:45.707Z"
   },
   {
    "duration": 66,
    "start_time": "2022-03-21T12:04:46.074Z"
   },
   {
    "duration": 20,
    "start_time": "2022-03-21T12:04:46.163Z"
   },
   {
    "duration": 883,
    "start_time": "2022-03-21T12:04:46.185Z"
   },
   {
    "duration": 125,
    "start_time": "2022-03-21T12:04:47.071Z"
   },
   {
    "duration": 5,
    "start_time": "2022-03-21T12:04:47.198Z"
   },
   {
    "duration": 60,
    "start_time": "2022-03-21T12:04:47.205Z"
   },
   {
    "duration": 222,
    "start_time": "2022-03-21T12:04:47.270Z"
   },
   {
    "duration": 192,
    "start_time": "2022-03-21T12:04:47.494Z"
   },
   {
    "duration": 83,
    "start_time": "2022-03-21T12:04:47.689Z"
   },
   {
    "duration": 21,
    "start_time": "2022-03-21T12:04:47.865Z"
   },
   {
    "duration": 28,
    "start_time": "2022-03-21T12:04:47.888Z"
   },
   {
    "duration": 29,
    "start_time": "2022-03-21T12:04:47.919Z"
   },
   {
    "duration": 50,
    "start_time": "2022-03-21T12:04:47.950Z"
   },
   {
    "duration": 7,
    "start_time": "2022-03-21T12:04:48.002Z"
   },
   {
    "duration": 25,
    "start_time": "2022-03-21T12:04:48.011Z"
   },
   {
    "duration": 2741,
    "start_time": "2022-03-21T12:04:48.038Z"
   },
   {
    "duration": 2985,
    "start_time": "2022-03-21T12:04:50.781Z"
   },
   {
    "duration": 2661,
    "start_time": "2022-03-21T12:04:53.768Z"
   },
   {
    "duration": 5,
    "start_time": "2022-03-21T12:04:56.431Z"
   },
   {
    "duration": 480,
    "start_time": "2022-03-21T12:04:56.438Z"
   },
   {
    "duration": 547,
    "start_time": "2022-03-21T12:04:56.920Z"
   },
   {
    "duration": 479,
    "start_time": "2022-03-21T12:04:57.469Z"
   },
   {
    "duration": 14,
    "start_time": "2022-03-21T12:04:57.950Z"
   },
   {
    "duration": 26,
    "start_time": "2022-03-21T12:04:57.966Z"
   },
   {
    "duration": 9,
    "start_time": "2022-03-21T12:07:46.060Z"
   },
   {
    "duration": 79,
    "start_time": "2022-03-21T14:14:39.487Z"
   },
   {
    "duration": 26,
    "start_time": "2022-03-21T14:14:55.019Z"
   },
   {
    "duration": 27,
    "start_time": "2022-03-21T14:15:29.306Z"
   },
   {
    "duration": 26,
    "start_time": "2022-03-21T14:15:37.176Z"
   },
   {
    "duration": 27,
    "start_time": "2022-03-21T14:16:23.179Z"
   },
   {
    "duration": 43,
    "start_time": "2022-03-21T14:16:30.326Z"
   },
   {
    "duration": 30,
    "start_time": "2022-03-21T14:16:47.686Z"
   },
   {
    "duration": 36,
    "start_time": "2022-03-21T14:17:15.026Z"
   },
   {
    "duration": 29,
    "start_time": "2022-03-21T14:17:43.883Z"
   },
   {
    "duration": 1591,
    "start_time": "2022-03-21T14:18:16.180Z"
   },
   {
    "duration": 344,
    "start_time": "2022-03-21T14:18:17.772Z"
   },
   {
    "duration": 279,
    "start_time": "2022-03-21T14:18:18.118Z"
   },
   {
    "duration": 28,
    "start_time": "2022-03-21T14:18:18.399Z"
   },
   {
    "duration": 387,
    "start_time": "2022-03-21T14:18:18.429Z"
   },
   {
    "duration": 457,
    "start_time": "2022-03-21T14:18:18.818Z"
   },
   {
    "duration": 358,
    "start_time": "2022-03-21T14:18:19.277Z"
   },
   {
    "duration": 70,
    "start_time": "2022-03-21T14:18:19.636Z"
   },
   {
    "duration": 18,
    "start_time": "2022-03-21T14:18:19.708Z"
   },
   {
    "duration": 918,
    "start_time": "2022-03-21T14:18:19.729Z"
   },
   {
    "duration": 137,
    "start_time": "2022-03-21T14:18:20.648Z"
   },
   {
    "duration": 6,
    "start_time": "2022-03-21T14:18:20.787Z"
   },
   {
    "duration": 77,
    "start_time": "2022-03-21T14:18:20.794Z"
   },
   {
    "duration": 124,
    "start_time": "2022-03-21T14:18:20.873Z"
   },
   {
    "duration": 116,
    "start_time": "2022-03-21T14:18:21.065Z"
   },
   {
    "duration": 181,
    "start_time": "2022-03-21T14:18:21.183Z"
   },
   {
    "duration": 5,
    "start_time": "2022-03-21T14:18:21.367Z"
   },
   {
    "duration": 27,
    "start_time": "2022-03-21T14:18:21.374Z"
   },
   {
    "duration": 6,
    "start_time": "2022-03-21T14:18:21.403Z"
   },
   {
    "duration": 29,
    "start_time": "2022-03-21T14:18:21.410Z"
   },
   {
    "duration": 23,
    "start_time": "2022-03-21T14:18:21.442Z"
   },
   {
    "duration": 8,
    "start_time": "2022-03-21T14:18:21.467Z"
   },
   {
    "duration": 2739,
    "start_time": "2022-03-21T14:18:21.476Z"
   },
   {
    "duration": 2668,
    "start_time": "2022-03-21T14:18:24.218Z"
   },
   {
    "duration": 2639,
    "start_time": "2022-03-21T14:18:26.888Z"
   },
   {
    "duration": 5,
    "start_time": "2022-03-21T14:18:29.529Z"
   },
   {
    "duration": 601,
    "start_time": "2022-03-21T14:18:29.535Z"
   },
   {
    "duration": 496,
    "start_time": "2022-03-21T14:18:30.141Z"
   },
   {
    "duration": 502,
    "start_time": "2022-03-21T14:18:30.640Z"
   },
   {
    "duration": 18,
    "start_time": "2022-03-21T14:18:31.144Z"
   },
   {
    "duration": 14,
    "start_time": "2022-03-21T14:18:31.165Z"
   },
   {
    "duration": 259,
    "start_time": "2022-03-22T14:28:50.648Z"
   },
   {
    "duration": 234,
    "start_time": "2022-03-22T14:30:02.464Z"
   },
   {
    "duration": 123,
    "start_time": "2022-03-22T14:59:54.285Z"
   },
   {
    "duration": 2484,
    "start_time": "2022-03-22T14:59:58.879Z"
   },
   {
    "duration": 777,
    "start_time": "2022-03-22T15:00:01.367Z"
   },
   {
    "duration": 608,
    "start_time": "2022-03-22T15:00:02.147Z"
   },
   {
    "duration": 53,
    "start_time": "2022-03-22T15:00:02.758Z"
   },
   {
    "duration": 688,
    "start_time": "2022-03-22T15:00:02.813Z"
   },
   {
    "duration": 753,
    "start_time": "2022-03-22T15:00:03.504Z"
   },
   {
    "duration": 669,
    "start_time": "2022-03-22T15:00:04.260Z"
   },
   {
    "duration": 109,
    "start_time": "2022-03-22T15:00:04.932Z"
   },
   {
    "duration": 47,
    "start_time": "2022-03-22T15:00:05.044Z"
   },
   {
    "duration": 1360,
    "start_time": "2022-03-22T15:00:05.095Z"
   },
   {
    "duration": 221,
    "start_time": "2022-03-22T15:00:06.457Z"
   },
   {
    "duration": 8,
    "start_time": "2022-03-22T15:00:06.680Z"
   },
   {
    "duration": 90,
    "start_time": "2022-03-22T15:00:06.690Z"
   },
   {
    "duration": 119,
    "start_time": "2022-03-22T15:00:06.785Z"
   },
   {
    "duration": 128,
    "start_time": "2022-03-22T15:00:06.976Z"
   },
   {
    "duration": 154,
    "start_time": "2022-03-22T15:00:07.176Z"
   },
   {
    "duration": 0,
    "start_time": "2022-03-22T15:00:07.333Z"
   },
   {
    "duration": 0,
    "start_time": "2022-03-22T15:00:07.335Z"
   },
   {
    "duration": 0,
    "start_time": "2022-03-22T15:00:07.337Z"
   },
   {
    "duration": 0,
    "start_time": "2022-03-22T15:00:07.339Z"
   },
   {
    "duration": 0,
    "start_time": "2022-03-22T15:00:07.340Z"
   },
   {
    "duration": 0,
    "start_time": "2022-03-22T15:00:07.343Z"
   },
   {
    "duration": 0,
    "start_time": "2022-03-22T15:00:07.345Z"
   },
   {
    "duration": 0,
    "start_time": "2022-03-22T15:00:07.347Z"
   },
   {
    "duration": 0,
    "start_time": "2022-03-22T15:00:07.349Z"
   },
   {
    "duration": 0,
    "start_time": "2022-03-22T15:00:07.351Z"
   },
   {
    "duration": 0,
    "start_time": "2022-03-22T15:00:07.354Z"
   },
   {
    "duration": 0,
    "start_time": "2022-03-22T15:00:07.356Z"
   },
   {
    "duration": 0,
    "start_time": "2022-03-22T15:00:07.359Z"
   },
   {
    "duration": 0,
    "start_time": "2022-03-22T15:00:07.361Z"
   },
   {
    "duration": 0,
    "start_time": "2022-03-22T15:00:07.363Z"
   },
   {
    "duration": 0,
    "start_time": "2022-03-22T15:00:07.366Z"
   },
   {
    "duration": 14,
    "start_time": "2022-03-22T15:02:35.000Z"
   },
   {
    "duration": 7,
    "start_time": "2022-03-22T15:02:58.918Z"
   },
   {
    "duration": 2290,
    "start_time": "2022-03-22T15:07:58.733Z"
   },
   {
    "duration": 510,
    "start_time": "2022-03-22T15:08:01.027Z"
   },
   {
    "duration": 478,
    "start_time": "2022-03-22T15:08:01.540Z"
   },
   {
    "duration": 63,
    "start_time": "2022-03-22T15:08:02.021Z"
   },
   {
    "duration": 757,
    "start_time": "2022-03-22T15:08:02.087Z"
   },
   {
    "duration": 1091,
    "start_time": "2022-03-22T15:08:02.846Z"
   },
   {
    "duration": 915,
    "start_time": "2022-03-22T15:08:03.940Z"
   },
   {
    "duration": 96,
    "start_time": "2022-03-22T15:08:04.857Z"
   },
   {
    "duration": 38,
    "start_time": "2022-03-22T15:08:04.955Z"
   },
   {
    "duration": 1380,
    "start_time": "2022-03-22T15:08:04.997Z"
   },
   {
    "duration": 233,
    "start_time": "2022-03-22T15:08:06.379Z"
   },
   {
    "duration": 8,
    "start_time": "2022-03-22T15:08:06.614Z"
   },
   {
    "duration": 67,
    "start_time": "2022-03-22T15:08:06.624Z"
   },
   {
    "duration": 130,
    "start_time": "2022-03-22T15:08:06.775Z"
   },
   {
    "duration": 125,
    "start_time": "2022-03-22T15:08:06.973Z"
   },
   {
    "duration": 173,
    "start_time": "2022-03-22T15:08:07.101Z"
   },
   {
    "duration": 11,
    "start_time": "2022-03-22T15:08:07.277Z"
   },
   {
    "duration": 15,
    "start_time": "2022-03-22T15:08:07.291Z"
   },
   {
    "duration": 6,
    "start_time": "2022-03-22T15:08:07.308Z"
   },
   {
    "duration": 65,
    "start_time": "2022-03-22T15:08:07.316Z"
   },
   {
    "duration": 8,
    "start_time": "2022-03-22T15:08:07.383Z"
   },
   {
    "duration": 9,
    "start_time": "2022-03-22T15:08:07.393Z"
   },
   {
    "duration": 4571,
    "start_time": "2022-03-22T15:08:07.404Z"
   },
   {
    "duration": 6438,
    "start_time": "2022-03-22T15:08:11.977Z"
   },
   {
    "duration": 6490,
    "start_time": "2022-03-22T15:08:18.418Z"
   },
   {
    "duration": 6,
    "start_time": "2022-03-22T15:08:24.911Z"
   },
   {
    "duration": 869,
    "start_time": "2022-03-22T15:08:24.919Z"
   },
   {
    "duration": 853,
    "start_time": "2022-03-22T15:08:25.793Z"
   },
   {
    "duration": 860,
    "start_time": "2022-03-22T15:08:26.648Z"
   },
   {
    "duration": 13,
    "start_time": "2022-03-22T15:08:27.510Z"
   },
   {
    "duration": 19,
    "start_time": "2022-03-22T15:08:27.525Z"
   },
   {
    "duration": 95,
    "start_time": "2022-03-22T15:11:21.265Z"
   },
   {
    "duration": 4660,
    "start_time": "2022-03-22T15:13:29.894Z"
   },
   {
    "duration": 4552,
    "start_time": "2022-03-22T15:13:34.557Z"
   },
   {
    "duration": 4560,
    "start_time": "2022-03-22T15:13:49.171Z"
   },
   {
    "duration": 4543,
    "start_time": "2022-03-22T15:14:10.821Z"
   },
   {
    "duration": 4478,
    "start_time": "2022-03-22T15:14:15.375Z"
   },
   {
    "duration": 129,
    "start_time": "2022-03-22T15:14:19.855Z"
   },
   {
    "duration": 2058,
    "start_time": "2022-03-22T15:14:39.048Z"
   },
   {
    "duration": 444,
    "start_time": "2022-03-22T15:14:41.108Z"
   },
   {
    "duration": 467,
    "start_time": "2022-03-22T15:14:41.555Z"
   },
   {
    "duration": 67,
    "start_time": "2022-03-22T15:14:42.025Z"
   },
   {
    "duration": 945,
    "start_time": "2022-03-22T15:14:42.097Z"
   },
   {
    "duration": 1039,
    "start_time": "2022-03-22T15:14:43.045Z"
   },
   {
    "duration": 686,
    "start_time": "2022-03-22T15:14:44.087Z"
   },
   {
    "duration": 99,
    "start_time": "2022-03-22T15:14:44.776Z"
   },
   {
    "duration": 30,
    "start_time": "2022-03-22T15:14:44.878Z"
   },
   {
    "duration": 1406,
    "start_time": "2022-03-22T15:14:44.911Z"
   },
   {
    "duration": 236,
    "start_time": "2022-03-22T15:14:46.320Z"
   },
   {
    "duration": 17,
    "start_time": "2022-03-22T15:14:46.558Z"
   },
   {
    "duration": 195,
    "start_time": "2022-03-22T15:14:46.578Z"
   },
   {
    "duration": 105,
    "start_time": "2022-03-22T15:14:46.778Z"
   },
   {
    "duration": 193,
    "start_time": "2022-03-22T15:14:46.887Z"
   },
   {
    "duration": 101,
    "start_time": "2022-03-22T15:14:47.083Z"
   },
   {
    "duration": 7,
    "start_time": "2022-03-22T15:14:47.188Z"
   },
   {
    "duration": 14,
    "start_time": "2022-03-22T15:14:47.198Z"
   },
   {
    "duration": 6,
    "start_time": "2022-03-22T15:14:47.222Z"
   },
   {
    "duration": 74,
    "start_time": "2022-03-22T15:14:47.230Z"
   },
   {
    "duration": 7,
    "start_time": "2022-03-22T15:14:47.307Z"
   },
   {
    "duration": 14,
    "start_time": "2022-03-22T15:14:47.316Z"
   },
   {
    "duration": 5226,
    "start_time": "2022-03-22T15:14:47.332Z"
   },
   {
    "duration": 4520,
    "start_time": "2022-03-22T15:14:52.561Z"
   },
   {
    "duration": 4602,
    "start_time": "2022-03-22T15:14:57.083Z"
   },
   {
    "duration": 8,
    "start_time": "2022-03-22T15:15:01.688Z"
   },
   {
    "duration": 900,
    "start_time": "2022-03-22T15:15:01.698Z"
   },
   {
    "duration": 846,
    "start_time": "2022-03-22T15:15:02.600Z"
   },
   {
    "duration": 913,
    "start_time": "2022-03-22T15:15:03.448Z"
   },
   {
    "duration": 27,
    "start_time": "2022-03-22T15:15:04.363Z"
   },
   {
    "duration": 21,
    "start_time": "2022-03-22T15:15:04.393Z"
   },
   {
    "duration": 2082,
    "start_time": "2022-03-22T15:20:16.223Z"
   },
   {
    "duration": 483,
    "start_time": "2022-03-22T15:20:18.308Z"
   },
   {
    "duration": 524,
    "start_time": "2022-03-22T15:20:18.794Z"
   },
   {
    "duration": 72,
    "start_time": "2022-03-22T15:20:19.321Z"
   },
   {
    "duration": 734,
    "start_time": "2022-03-22T15:20:19.396Z"
   },
   {
    "duration": 779,
    "start_time": "2022-03-22T15:20:20.133Z"
   },
   {
    "duration": 726,
    "start_time": "2022-03-22T15:20:20.914Z"
   },
   {
    "duration": 117,
    "start_time": "2022-03-22T15:20:21.642Z"
   },
   {
    "duration": 42,
    "start_time": "2022-03-22T15:20:21.761Z"
   },
   {
    "duration": 1328,
    "start_time": "2022-03-22T15:20:21.807Z"
   },
   {
    "duration": 237,
    "start_time": "2022-03-22T15:20:23.137Z"
   },
   {
    "duration": 8,
    "start_time": "2022-03-22T15:20:23.376Z"
   },
   {
    "duration": 99,
    "start_time": "2022-03-22T15:20:23.387Z"
   },
   {
    "duration": 179,
    "start_time": "2022-03-22T15:20:23.496Z"
   },
   {
    "duration": 121,
    "start_time": "2022-03-22T15:20:23.678Z"
   },
   {
    "duration": 87,
    "start_time": "2022-03-22T15:20:23.802Z"
   },
   {
    "duration": 16,
    "start_time": "2022-03-22T15:20:23.975Z"
   },
   {
    "duration": 18,
    "start_time": "2022-03-22T15:20:23.994Z"
   },
   {
    "duration": 6,
    "start_time": "2022-03-22T15:20:24.015Z"
   },
   {
    "duration": 56,
    "start_time": "2022-03-22T15:20:24.023Z"
   },
   {
    "duration": 9,
    "start_time": "2022-03-22T15:20:24.082Z"
   },
   {
    "duration": 26,
    "start_time": "2022-03-22T15:20:24.093Z"
   },
   {
    "duration": 4942,
    "start_time": "2022-03-22T15:20:24.121Z"
   },
   {
    "duration": 4566,
    "start_time": "2022-03-22T15:20:29.066Z"
   },
   {
    "duration": 4469,
    "start_time": "2022-03-22T15:20:33.634Z"
   },
   {
    "duration": 9,
    "start_time": "2022-03-22T15:20:38.106Z"
   },
   {
    "duration": 1023,
    "start_time": "2022-03-22T15:20:38.118Z"
   },
   {
    "duration": 1253,
    "start_time": "2022-03-22T15:20:39.147Z"
   },
   {
    "duration": 1252,
    "start_time": "2022-03-22T15:20:40.403Z"
   },
   {
    "duration": 24,
    "start_time": "2022-03-22T15:20:41.658Z"
   },
   {
    "duration": 41,
    "start_time": "2022-03-22T15:20:41.685Z"
   },
   {
    "duration": 1440,
    "start_time": "2022-03-23T17:17:42.438Z"
   },
   {
    "duration": 347,
    "start_time": "2022-03-23T17:17:43.880Z"
   },
   {
    "duration": 309,
    "start_time": "2022-03-23T17:17:44.229Z"
   },
   {
    "duration": 28,
    "start_time": "2022-03-23T17:17:44.539Z"
   },
   {
    "duration": 387,
    "start_time": "2022-03-23T17:17:44.569Z"
   },
   {
    "duration": 446,
    "start_time": "2022-03-23T17:17:44.957Z"
   },
   {
    "duration": 356,
    "start_time": "2022-03-23T17:17:45.405Z"
   },
   {
    "duration": 78,
    "start_time": "2022-03-23T17:17:45.762Z"
   },
   {
    "duration": 18,
    "start_time": "2022-03-23T17:17:45.842Z"
   },
   {
    "duration": 856,
    "start_time": "2022-03-23T17:17:45.861Z"
   },
   {
    "duration": 130,
    "start_time": "2022-03-23T17:17:46.719Z"
   },
   {
    "duration": 5,
    "start_time": "2022-03-23T17:17:46.851Z"
   },
   {
    "duration": 80,
    "start_time": "2022-03-23T17:17:46.858Z"
   },
   {
    "duration": 23,
    "start_time": "2022-03-23T17:17:47.032Z"
   },
   {
    "duration": 186,
    "start_time": "2022-03-23T17:17:47.058Z"
   },
   {
    "duration": 88,
    "start_time": "2022-03-23T17:17:47.247Z"
   },
   {
    "duration": 104,
    "start_time": "2022-03-23T17:17:47.338Z"
   },
   {
    "duration": 12,
    "start_time": "2022-03-23T17:17:47.443Z"
   },
   {
    "duration": 21,
    "start_time": "2022-03-23T17:17:47.457Z"
   },
   {
    "duration": 4,
    "start_time": "2022-03-23T17:17:47.480Z"
   },
   {
    "duration": 5,
    "start_time": "2022-03-23T17:17:47.486Z"
   },
   {
    "duration": 2590,
    "start_time": "2022-03-23T17:17:47.493Z"
   },
   {
    "duration": 2529,
    "start_time": "2022-03-23T17:17:50.085Z"
   },
   {
    "duration": 2499,
    "start_time": "2022-03-23T17:17:52.615Z"
   },
   {
    "duration": 18,
    "start_time": "2022-03-23T17:17:55.116Z"
   },
   {
    "duration": 15,
    "start_time": "2022-03-23T17:17:55.136Z"
   },
   {
    "duration": 111,
    "start_time": "2022-03-23T22:27:35.230Z"
   },
   {
    "duration": 5,
    "start_time": "2022-03-23T22:31:22.434Z"
   },
   {
    "duration": 1439,
    "start_time": "2022-03-23T22:45:56.326Z"
   },
   {
    "duration": 350,
    "start_time": "2022-03-23T22:45:57.767Z"
   },
   {
    "duration": 387,
    "start_time": "2022-03-23T22:45:58.119Z"
   },
   {
    "duration": 51,
    "start_time": "2022-03-23T22:45:58.508Z"
   },
   {
    "duration": 393,
    "start_time": "2022-03-23T22:45:58.560Z"
   },
   {
    "duration": 460,
    "start_time": "2022-03-23T22:45:58.955Z"
   },
   {
    "duration": 367,
    "start_time": "2022-03-23T22:45:59.417Z"
   },
   {
    "duration": 74,
    "start_time": "2022-03-23T22:45:59.786Z"
   },
   {
    "duration": 19,
    "start_time": "2022-03-23T22:45:59.862Z"
   },
   {
    "duration": 921,
    "start_time": "2022-03-23T22:45:59.884Z"
   },
   {
    "duration": 136,
    "start_time": "2022-03-23T22:46:00.806Z"
   },
   {
    "duration": 4,
    "start_time": "2022-03-23T22:46:00.944Z"
   },
   {
    "duration": 54,
    "start_time": "2022-03-23T22:46:00.950Z"
   },
   {
    "duration": 196,
    "start_time": "2022-03-23T22:46:01.042Z"
   },
   {
    "duration": 196,
    "start_time": "2022-03-23T22:46:01.241Z"
   },
   {
    "duration": 97,
    "start_time": "2022-03-23T22:46:01.440Z"
   },
   {
    "duration": 14,
    "start_time": "2022-03-23T22:46:01.539Z"
   },
   {
    "duration": 20,
    "start_time": "2022-03-23T22:46:01.555Z"
   },
   {
    "duration": 195,
    "start_time": "2022-03-23T22:46:01.577Z"
   },
   {
    "duration": 0,
    "start_time": "2022-03-23T22:46:01.773Z"
   },
   {
    "duration": 0,
    "start_time": "2022-03-23T22:46:01.775Z"
   },
   {
    "duration": 0,
    "start_time": "2022-03-23T22:46:01.776Z"
   },
   {
    "duration": 0,
    "start_time": "2022-03-23T22:46:01.778Z"
   },
   {
    "duration": 0,
    "start_time": "2022-03-23T22:46:01.779Z"
   },
   {
    "duration": 0,
    "start_time": "2022-03-23T22:46:01.780Z"
   },
   {
    "duration": 0,
    "start_time": "2022-03-23T22:46:01.782Z"
   },
   {
    "duration": 1477,
    "start_time": "2022-03-23T22:48:16.933Z"
   },
   {
    "duration": 359,
    "start_time": "2022-03-23T22:48:18.412Z"
   },
   {
    "duration": 374,
    "start_time": "2022-03-23T22:48:18.773Z"
   },
   {
    "duration": 35,
    "start_time": "2022-03-23T22:48:19.150Z"
   },
   {
    "duration": 411,
    "start_time": "2022-03-23T22:48:19.186Z"
   },
   {
    "duration": 467,
    "start_time": "2022-03-23T22:48:19.599Z"
   },
   {
    "duration": 358,
    "start_time": "2022-03-23T22:48:20.068Z"
   },
   {
    "duration": 62,
    "start_time": "2022-03-23T22:48:20.427Z"
   },
   {
    "duration": 53,
    "start_time": "2022-03-23T22:48:20.490Z"
   },
   {
    "duration": 868,
    "start_time": "2022-03-23T22:48:20.546Z"
   },
   {
    "duration": 140,
    "start_time": "2022-03-23T22:48:21.416Z"
   },
   {
    "duration": 5,
    "start_time": "2022-03-23T22:48:21.558Z"
   },
   {
    "duration": 70,
    "start_time": "2022-03-23T22:48:21.565Z"
   },
   {
    "duration": 195,
    "start_time": "2022-03-23T22:48:21.641Z"
   },
   {
    "duration": 197,
    "start_time": "2022-03-23T22:48:21.839Z"
   },
   {
    "duration": 100,
    "start_time": "2022-03-23T22:48:22.039Z"
   },
   {
    "duration": 15,
    "start_time": "2022-03-23T22:48:22.141Z"
   },
   {
    "duration": 15,
    "start_time": "2022-03-23T22:48:22.158Z"
   },
   {
    "duration": 25,
    "start_time": "2022-03-23T22:48:22.175Z"
   },
   {
    "duration": 31,
    "start_time": "2022-03-23T22:48:22.202Z"
   },
   {
    "duration": 14,
    "start_time": "2022-03-23T22:48:22.236Z"
   },
   {
    "duration": 2589,
    "start_time": "2022-03-23T22:48:22.252Z"
   },
   {
    "duration": 2568,
    "start_time": "2022-03-23T22:48:24.843Z"
   },
   {
    "duration": 2574,
    "start_time": "2022-03-23T22:48:27.414Z"
   },
   {
    "duration": 11,
    "start_time": "2022-03-23T22:48:29.990Z"
   },
   {
    "duration": 41,
    "start_time": "2022-03-23T22:48:30.003Z"
   },
   {
    "duration": 4221,
    "start_time": "2022-03-24T18:08:49.865Z"
   },
   {
    "duration": 365,
    "start_time": "2022-03-24T18:08:54.088Z"
   },
   {
    "duration": 327,
    "start_time": "2022-03-24T18:08:54.455Z"
   },
   {
    "duration": 35,
    "start_time": "2022-03-24T18:08:54.785Z"
   },
   {
    "duration": 404,
    "start_time": "2022-03-24T18:08:54.821Z"
   },
   {
    "duration": 545,
    "start_time": "2022-03-24T18:08:55.227Z"
   },
   {
    "duration": 394,
    "start_time": "2022-03-24T18:08:55.774Z"
   },
   {
    "duration": 63,
    "start_time": "2022-03-24T18:08:56.169Z"
   },
   {
    "duration": 41,
    "start_time": "2022-03-24T18:08:56.234Z"
   },
   {
    "duration": 970,
    "start_time": "2022-03-24T18:08:56.278Z"
   },
   {
    "duration": 152,
    "start_time": "2022-03-24T18:08:57.251Z"
   },
   {
    "duration": 8,
    "start_time": "2022-03-24T18:08:57.404Z"
   },
   {
    "duration": 67,
    "start_time": "2022-03-24T18:08:57.413Z"
   },
   {
    "duration": 194,
    "start_time": "2022-03-24T18:08:57.484Z"
   },
   {
    "duration": 290,
    "start_time": "2022-03-24T18:08:57.681Z"
   },
   {
    "duration": 103,
    "start_time": "2022-03-24T18:08:58.064Z"
   },
   {
    "duration": 9,
    "start_time": "2022-03-24T18:08:58.168Z"
   },
   {
    "duration": 12,
    "start_time": "2022-03-24T18:08:58.178Z"
   },
   {
    "duration": 22,
    "start_time": "2022-03-24T18:08:58.191Z"
   },
   {
    "duration": 6,
    "start_time": "2022-03-24T18:08:58.215Z"
   },
   {
    "duration": 7,
    "start_time": "2022-03-24T18:08:58.222Z"
   },
   {
    "duration": 33,
    "start_time": "2022-03-24T18:08:58.230Z"
   },
   {
    "duration": 2801,
    "start_time": "2022-03-24T18:08:58.264Z"
   },
   {
    "duration": 2797,
    "start_time": "2022-03-24T18:09:01.067Z"
   },
   {
    "duration": 2716,
    "start_time": "2022-03-24T18:09:03.866Z"
   },
   {
    "duration": 12,
    "start_time": "2022-03-24T18:09:06.584Z"
   },
   {
    "duration": 18,
    "start_time": "2022-03-24T18:09:06.597Z"
   }
  ],
  "kernelspec": {
   "display_name": "Python 3 (ipykernel)",
   "language": "python",
   "name": "python3"
  },
  "language_info": {
   "codemirror_mode": {
    "name": "ipython",
    "version": 3
   },
   "file_extension": ".py",
   "mimetype": "text/x-python",
   "name": "python",
   "nbconvert_exporter": "python",
   "pygments_lexer": "ipython3",
   "version": "3.9.12"
  },
  "toc": {
   "base_numbering": 1,
   "nav_menu": {},
   "number_sections": true,
   "sideBar": true,
   "skip_h1_title": true,
   "title_cell": "Содержание",
   "title_sidebar": "Contents",
   "toc_cell": true,
   "toc_position": {},
   "toc_section_display": true,
   "toc_window_display": false
  }
 },
 "nbformat": 4,
 "nbformat_minor": 2
}
